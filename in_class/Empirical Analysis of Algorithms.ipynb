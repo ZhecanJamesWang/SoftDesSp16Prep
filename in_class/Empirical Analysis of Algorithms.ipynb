{
 "cells": [
  {
   "cell_type": "markdown",
   "metadata": {},
   "source": [
    "### Analysis of Algorithms\n",
    "\n",
    "This notebook will allow you to explore the order of growth of basic Python operations within the context of a function that you should be quite familiar with.\n",
    "\n",
    "We have given you three different implementations of the `reverse_complement` function from mini-project 1.  In addition, we have provided you with a function that generates a random string of DNA.  This function will be useful for investigating how the running time of the various `reverse_complement` functions behave as you feed in larger and larger sequences of DNA.\n",
    "\n",
    "First, read through the code and familiarize yourself with the three different implementations.  We have included a couple of doctests to  convince you that the implementations are correct."
   ]
  },
  {
   "cell_type": "code",
   "execution_count": 13,
   "metadata": {
    "collapsed": false
   },
   "outputs": [
    {
     "data": {
      "text/plain": [
       "TestResults(failed=0, attempted=6)"
      ]
     },
     "execution_count": 13,
     "metadata": {},
     "output_type": "execute_result"
    }
   ],
   "source": [
    "\"\"\" Evaluate the performance of various DNA proessing algorithms \"\"\"\n",
    "\n",
    "from random import randint\n",
    "import time\n",
    "\n",
    "def generate_random_dna(n):\n",
    "    \"\"\" Generate a random DNA sequence of length n \"\"\"\n",
    "    dna_list = []\n",
    "    nucleotides = ['A','C','G','T']\n",
    "    for i in range(n):\n",
    "        r = randint(0,3)\n",
    "        dna_list.append(nucleotides[r])\n",
    "    return \"\".join(dna_list)\n",
    "\n",
    "def get_complement(c):\n",
    "    \"\"\" Returns the complimentary nucleotide to c \"\"\"\n",
    "    if c == 'A':\n",
    "        return 'T'\n",
    "    if c == 'C':\n",
    "        return 'G'\n",
    "    if c == 'G':\n",
    "        return 'C'\n",
    "    if c == 'T':\n",
    "        return 'A'\n",
    "\n",
    "def reverse_complement_1(dna):\n",
    "    \"\"\" Method 2 for computing the reverse complementary sequence of DNA\n",
    "        for the specfied DNA sequence\n",
    "    \n",
    "        dna: a DNA sequence represented as a string\n",
    "        returns: the reverse complementary DNA sequence represented as a string\n",
    "    >>> reverse_complement_1(\"ATGCCCGCTTT\")\n",
    "    'AAAGCGGGCAT'\n",
    "    >>> reverse_complement_1(\"CCGCGTTCA\")\n",
    "    'TGAACGCGG'\n",
    "    \"\"\"\n",
    "    return_val = \"\"\n",
    "    for c in dna:\n",
    "        return_val = get_complement(c) + return_val \n",
    "    return return_val\n",
    "\n",
    "def reverse_complement_2(dna):\n",
    "    \"\"\" Method 1 for Computing the reverse complementary sequence of DNA\n",
    "        for the specfied DNA sequence\n",
    "    \n",
    "        dna: a DNA sequence represented as a string\n",
    "        returns: the reverse complementary DNA sequence represented as a string\n",
    "    >>> reverse_complement_2(\"ATGCCCGCTTT\")\n",
    "    'AAAGCGGGCAT'\n",
    "    >>> reverse_complement_2(\"CCGCGTTCA\")\n",
    "    'TGAACGCGG'\n",
    "    \"\"\"\n",
    "    return_val = []\n",
    "    for c in reversed(dna):\n",
    "        return_val.append(get_complement(c))\n",
    "    return \"\".join(return_val)\n",
    "\n",
    "\n",
    "def reverse_complement_3(dna):\n",
    "    \"\"\" Method 1 for Computing the reverse complementary sequence of DNA\n",
    "        for the specfied DNA sequence\n",
    "    \n",
    "        dna: a DNA sequence represented as a string\n",
    "        returns: the reverse complementary DNA sequence represented as a string\n",
    "    >>> reverse_complement_3(\"ATGCCCGCTTT\")\n",
    "    'AAAGCGGGCAT'\n",
    "    >>> reverse_complement_3(\"CCGCGTTCA\")\n",
    "    'TGAACGCGG'\n",
    "    \"\"\"\n",
    "    return_val = \"\"\n",
    "\n",
    "    for c in reversed(dna):\n",
    "        return_val = return_val + get_complement(c)\n",
    "    return return_val\n",
    "\n",
    "import doctest\n",
    "doctest.testmod()"
   ]
  },
  {
   "cell_type": "markdown",
   "metadata": {},
   "source": [
    "Next, determine the order of growth of each of the three methods for computing the reverse complement.  You may find this text from ThinkPython useful:\n",
    "\n",
    "> If you use the same loop to “add” a list of strings, the run time is quadratic because string concatenation is linear.\n",
    "\n",
    "> The string method join is usually faster because it is linear in the total length of the strings. \n",
    "\n",
    "Also,\n",
    "\n",
    "> As a rule of thumb, if the body of a loop is in $O(n^a)$ then the whole loop is in $O(n^{a+1})$. The exception is if you can show that the loop exits after a constant number of iterations.\n",
    "\n",
    "We recommend that instead of staring at your computer screen, you write the implementations on the whiteboard and reason about the order of growth as a group using the whiteboard."
   ]
  },
  {
   "cell_type": "markdown",
   "metadata": {},
   "source": [
    "### Beware of bugs in the above code; I have only proved it correct, not tried it.\n",
    "    - Donald Knuth"
   ]
  },
  {
   "cell_type": "markdown",
   "metadata": {},
   "source": [
    "Next, you will be performing an experiment to see how these three techniques perform in practice.  What follows is a cell that times each of the implementations of `reverse_complement` on a DNA sequence of length given by the variable `dna_length`.  Try a few different values for `dna_length`.  What interesting trends do you observe?"
   ]
  },
  {
   "cell_type": "code",
   "execution_count": 14,
   "metadata": {
    "collapsed": false
   },
   "outputs": [
    {
     "name": "stdout",
     "output_type": "stream",
     "text": [
      "reverse_complement_1 took 0.000786066055298 seconds\n",
      "reverse_complement_2 took 0.000412940979004 seconds\n",
      "reverse_complement_3 took 0.000494956970215 seconds\n"
     ]
    }
   ],
   "source": [
    "dna_length = 1024\n",
    "\n",
    "dna = generate_random_dna(dna_length)\n",
    "start_time = time.time()\n",
    "rev_complement = reverse_complement_1(dna)\n",
    "stop_time = time.time()\n",
    "print \"reverse_complement_1 took {} seconds\".format(stop_time - start_time)\n",
    "\n",
    "\n",
    "dna = generate_random_dna(dna_length)\n",
    "start_time = time.time()\n",
    "rev_complement = reverse_complement_2(dna)\n",
    "stop_time = time.time()\n",
    "print \"reverse_complement_2 took {} seconds\".format(stop_time - start_time)\n",
    "\n",
    "\n",
    "dna = generate_random_dna(dna_length)\n",
    "start_time = time.time()\n",
    "rev_complement = reverse_complement_3(dna)\n",
    "stop_time = time.time()\n",
    "print \"reverse_complement_3 took {} seconds\".format(stop_time - start_time)"
   ]
  },
  {
   "cell_type": "markdown",
   "metadata": {},
   "source": [
    "While the preceding code is correct, it is lacking quite a bit in terms of code style.  To reduce cut and paste implement the function `test_reverse_complement` describe below.  We have already shown you how to use the function to replace the code in the preceding code cell."
   ]
  },
  {
   "cell_type": "code",
   "execution_count": 15,
   "metadata": {
    "collapsed": false
   },
   "outputs": [
    {
     "name": "stdout",
     "output_type": "stream",
     "text": [
      "reverse_complement_1 took None seconds\n",
      "reverse_complement_2 took None seconds\n",
      "reverse_complement_3 took None seconds\n"
     ]
    }
   ],
   "source": [
    "def test_reverse_complement(f, dna_length):\n",
    "    \"\"\" Returns the number of seconds for the function f\n",
    "        to compute the reverse complement of a DNA sequence\n",
    "        of length `dna_length` \"\"\"\n",
    "    # your implementation here\n",
    "    pass\n",
    "\n",
    "dna_length = 1024\n",
    "\n",
    "print \"reverse_complement_1 took {} seconds\". \\\n",
    "    format(test_reverse_complement(reverse_complement_1, dna_length))\n",
    "\n",
    "print \"reverse_complement_2 took {} seconds\". \\\n",
    "    format(test_reverse_complement(reverse_complement_2, dna_length))\n",
    "\n",
    "print \"reverse_complement_3 took {} seconds\". \\\n",
    "    format(test_reverse_complement(reverse_complement_3, dna_length))"
   ]
  },
  {
   "cell_type": "markdown",
   "metadata": {},
   "source": [
    "Next, we will be exploring the relationship between input size and running time in more detail.  Using matplotlib, create a plot of the running time for each of the reverse complement functions (in seconds) versus the input size.  If you haven't used matplotlib before, you may want to consult [this reference](http://matplotlib.org/users/pyplot_tutorial.html).  For your convenience here is an example of constructing a plot.\n",
    "\n",
    "If you don't have matplotlib installed, run the following command at the linux terminal:\n",
    "\n",
    "> $ sudo apt-get install python-matplotlib"
   ]
  },
  {
   "cell_type": "code",
   "execution_count": 16,
   "metadata": {
    "collapsed": false
   },
   "outputs": [
    {
     "data": {
      "image/png": "[encoded data removed]",
      "text/plain": [
       "<matplotlib.figure.Figure at 0x7fa32cabfd50>"
      ]
     },
     "metadata": {},
     "output_type": "display_data"
    }
   ],
   "source": [
    "%matplotlib inline\n",
    "import matplotlib.pyplot as plt\n",
    "from numpy import arange\n",
    "from math import pi, cos\n",
    "\n",
    "xs = arange(-2*pi,2*pi,.1)\n",
    "ys = []\n",
    "for x in xs:\n",
    "    ys.append(cos(x))\n",
    "\n",
    "plt.plot(xs, ys, 'b.')\n",
    "plt.ylabel('cos(x)')\n",
    "plt.xlabel('x')\n",
    "plt.show()"
   ]
  },
  {
   "cell_type": "markdown",
   "metadata": {},
   "source": [
    "Create three plots, one for each implementation of `get_reverse_complement`.  The plot should show the run time for each implementation on inputs of different sizes.  In order to see interesting trends, you will want to search over an exponentially spaced range of input sizes (e.g. `xs = [1024, 2048, 4096, 8192, ...]`).  You should avoid testing on very small inputs since these will likely muddy your results."
   ]
  },
  {
   "cell_type": "code",
   "execution_count": null,
   "metadata": {
    "collapsed": false
   },
   "outputs": [],
   "source": []
  },
  {
   "cell_type": "markdown",
   "metadata": {},
   "source": [
    "As a final analysis, create a single log-log plot that shows the running time of the three algorithms versus the size of the input.  To create a log-log plot, you can substitute the function `plt.plot` with `plt.loglog`.  To plot multiple quantities in the same plot, just call `plt.loglog` multiple times before calling `plt.show`.  Additionally, you can add a legend to your plot using following command (this assumes you called plt.loglog in the order specified below):\n",
    "\n",
    "```plt.legend(['reverse_complement_1', 'reverse_complement_2', 'reverse_complement_3'], loc='best')```"
   ]
  },
  {
   "cell_type": "code",
   "execution_count": null,
   "metadata": {
    "collapsed": false
   },
   "outputs": [],
   "source": []
  },
  {
   "cell_type": "markdown",
   "metadata": {},
   "source": [
    "Assuming `reverse_complement_1` is $O(n^2)$ and the other two are $O(n)$, what quantity could you measure in the graph above that would be consistent with this analysis?"
   ]
  },
  {
   "cell_type": "markdown",
   "metadata": {},
   "source": []
  },
  {
   "cell_type": "markdown",
   "metadata": {},
   "source": [
    "How do your empirical results square with the order of growths you predicted?  If there are inconsistencies, do you have a theory for what might be causing them?"
   ]
  },
  {
   "cell_type": "markdown",
   "metadata": {},
   "source": []
  }
 ],
 "metadata": {
  "kernelspec": {
   "display_name": "Python 2",
   "language": "python",
   "name": "python2"
  },
  "language_info": {
   "codemirror_mode": {
    "name": "ipython",
    "version": 2
   },
   "file_extension": ".py",
   "mimetype": "text/x-python",
   "name": "python",
   "nbconvert_exporter": "python",
   "pygments_lexer": "ipython2",
   "version": "2.7.6"
  }
 },
 "nbformat": 4,
 "nbformat_minor": 0
}
