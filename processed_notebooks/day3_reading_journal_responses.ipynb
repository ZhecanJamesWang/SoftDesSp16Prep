{
 "cells": [
  {
   "cell_type": "markdown",
   "metadata": {},
   "source": [
    "### Exercise 1  \n",
    "\n",
    "Write a function that takes a string as an argument and displays the letters backward, one per line."
   ]
  },
  {
   "cell_type": "code",
   "execution_count": null,
   "metadata": {
    "collapsed": false
   },
   "outputs": [],
   "source": [
    "def backwards(a):\n",
    "    index = len(a)-1\n",
    "    while index > -1:\n",
    "        letter = a[index]\n",
    "        print letter\n",
    "        index = index - 1\n",
    "backwards('testing')"
   ]
  },
  {
   "cell_type": "code",
   "execution_count": 14,
   "metadata": {
    "collapsed": false
   },
   "outputs": [
    {
     "name": "stdout",
     "output_type": "stream",
     "text": [
      "o\n",
      "l\n",
      "l\n",
      "e\n",
      "H\n"
     ]
    }
   ],
   "source": [
    "def backwards(s):\n",
    "    while s:\n",
    "        print(s[len(s)-1:])\n",
    "        s = s[:len(s)-1]\n",
    "    \n",
    "backwards('Hello')"
   ]
  },
  {
   "cell_type": "code",
   "execution_count": 3,
   "metadata": {
    "collapsed": false
   },
   "outputs": [
    {
     "name": "stdout",
     "output_type": "stream",
     "text": [
      "e i d   o t   e r a p e r p   , a y o t n o M   o g i n I   s i   e m a n   y m   , o l l e H\n"
     ]
    }
   ],
   "source": [
    "def backwards(s):\n",
    "    n = len(s)\n",
    "    index = n -1\n",
    "    while index >= 0:\n",
    "        letter = s[index]\n",
    "        print letter,\n",
    "        index = index -1\n",
    "\n",
    "backwards('Hello, my name is Inigo Montoya, prepare to die')\n",
    "    "
   ]
  },
  {
   "cell_type": "code",
   "execution_count": 6,
   "metadata": {
    "collapsed": false
   },
   "outputs": [
    {
     "name": "stdout",
     "output_type": "stream",
     "text": [
      "a\n",
      "n\n",
      "a\n",
      "n\n",
      "a\n",
      "b\n"
     ]
    }
   ],
   "source": [
    "def reverse_string(string):\n",
    "    string = string[::-1]\n",
    "    i = 0\n",
    "    while i < len(string):\n",
    "        print string[i]\n",
    "        i += 1\n",
    "\n",
    "reverse_string('banana')"
   ]
  },
  {
   "cell_type": "code",
   "execution_count": 5,
   "metadata": {
    "collapsed": false
   },
   "outputs": [
    {
     "name": "stdout",
     "output_type": "stream",
     "text": [
      "s\n",
      "d\n",
      "r\n",
      "a\n",
      "w\n",
      "k\n",
      "c\n",
      "a\n",
      "b\n"
     ]
    }
   ],
   "source": [
    "def back_words(word):\n",
    "    index = -1\n",
    "    while index >= -len(word):\n",
    "        letter = word[index]\n",
    "        print letter\n",
    "        index = index - 1\n",
    "        \n",
    "back_words('backwards')"
   ]
  },
  {
   "cell_type": "code",
   "execution_count": 3,
   "metadata": {
    "collapsed": false
   },
   "outputs": [
    {
     "name": "stdout",
     "output_type": "stream",
     "text": [
      "s\n",
      "d\n",
      "r\n",
      "a\n",
      "w\n",
      "k\n",
      "c\n",
      "a\n",
      "b\n"
     ]
    }
   ],
   "source": [
    "# def backwards_print(word):\n",
    "#     word_length = len(word)\n",
    "#     for letter in range(len(word),0,-1):\n",
    "#         print(word[letter-1])\n",
    "        \n",
    "# backwards_print('backwards')\n",
    "\n",
    "def backwards_print_alt(word):\n",
    "    for letter in reversed(word):\n",
    "        print(letter)\n",
    "\n",
    "backwards_print_alt('backwards')"
   ]
  },
  {
   "cell_type": "code",
   "execution_count": 11,
   "metadata": {
    "collapsed": false
   },
   "outputs": [
    {
     "name": "stdout",
     "output_type": "stream",
     "text": [
      "a n a n a b\n"
     ]
    }
   ],
   "source": [
    "#prints a word backwards\n",
    "#takes in word string of arbitrary length and content\n",
    "def backwards(fruit):\n",
    "    index = 5\n",
    "    while index >= 0 * len(fruit):\n",
    "        letter = fruit[index]\n",
    "        print letter,\n",
    "        index = index - 1\n",
    "    \n",
    "backwards('banana')"
   ]
  },
  {
   "cell_type": "markdown",
   "metadata": {},
   "source": [
    "A step size of -1 goes through the word backwards, so the slice [::-1] generates a reversed string.You can access the characters of a string one at a time with the bracket operator. "
   ]
  },
  {
   "cell_type": "code",
   "execution_count": 22,
   "metadata": {
    "collapsed": false
   },
   "outputs": [
    {
     "name": "stdout",
     "output_type": "stream",
     "text": [
      "c\n",
      "b\n",
      "a\n"
     ]
    }
   ],
   "source": [
    "def print_backwards(x):\n",
    "    \"\"\"\n",
    "    Prints given string (x) backwards\n",
    "    \n",
    "    >>> print_backwards(\"abc\")\n",
    "    \"c\"\n",
    "    \"b\"\n",
    "    \"a\"\n",
    "    \n",
    "    \n",
    "    \"\"\"\n",
    "    index = -1\n",
    "    while index >= -len(x):\n",
    "        print x[index]\n",
    "        index += -1\n",
    "\n",
    "print_backwards(\"abc\")\n"
   ]
  },
  {
   "cell_type": "code",
   "execution_count": 57,
   "metadata": {
    "collapsed": false
   },
   "outputs": [
    {
     "name": "stdout",
     "output_type": "stream",
     "text": [
      "n\n",
      "w\n",
      "o\n",
      "d\n",
      " \n",
      "e\n",
      "d\n",
      "i\n",
      "s\n",
      "p\n",
      "u\n",
      " \n",
      "d\n",
      "e\n",
      "n\n",
      "r\n",
      "u\n",
      "t\n",
      " \n",
      "d\n",
      "e\n",
      "p\n",
      "p\n",
      "i\n",
      "l\n",
      "f\n",
      " \n",
      "t\n",
      "o\n",
      "g\n",
      " \n",
      "e\n",
      "f\n",
      "i\n",
      "l\n",
      " \n",
      "y\n",
      "m\n",
      " \n",
      "w\n",
      "o\n",
      "h\n",
      " \n",
      "t\n",
      "u\n",
      "o\n",
      "b\n",
      "a\n",
      " \n",
      "l\n",
      "l\n",
      "a\n",
      " \n",
      "y\n",
      "r\n",
      "o\n",
      "t\n",
      "s\n",
      " \n",
      "a\n",
      " \n",
      "s\n",
      "i\n",
      " \n",
      "s\n",
      "i\n",
      "h\n",
      "t\n"
     ]
    }
   ],
   "source": [
    "def backwards(string):\n",
    "    if (type(string) == type('aa')):\n",
    "        length= len(string)\n",
    "        for x in range (0,length):\n",
    "            print string[length-1-x]\n",
    "    else:\n",
    "        print 'not a string'\n",
    "        return\n",
    "backwards('this is a story all about how my life got flipped turned upside down')"
   ]
  },
  {
   "cell_type": "code",
   "execution_count": 1,
   "metadata": {
    "collapsed": false
   },
   "outputs": [
    {
     "name": "stdout",
     "output_type": "stream",
     "text": [
      "My name is Chair\n",
      "r\n",
      "i\n",
      "a\n",
      "h\n",
      "C\n"
     ]
    }
   ],
   "source": [
    "index = -1                      #input starts at -1 because it is going backwards\n",
    "name = raw_input('My name is ') #raw_input returns the string that was inputted\n",
    "\n",
    "\n",
    "while index >= 0 - len(name):\n",
    "    letter = name[index]\n",
    "    print letter\n",
    "    index = index - 1\n",
    "        \n",
    "    "
   ]
  },
  {
   "cell_type": "code",
   "execution_count": 2,
   "metadata": {
    "collapsed": false
   },
   "outputs": [
    {
     "name": "stdout",
     "output_type": "stream",
     "text": [
      "n\n",
      "e\n",
      "v\n",
      "e\n",
      "l\n",
      "e\n"
     ]
    }
   ],
   "source": [
    "def reverse(string):\n",
    "    for c in reversed(range(len(string))):\n",
    "        print string[c]\n",
    "        \n",
    "reverse('eleven')"
   ]
  },
  {
   "cell_type": "code",
   "execution_count": 2,
   "metadata": {
    "collapsed": false
   },
   "outputs": [
    {
     "name": "stdout",
     "output_type": "stream",
     "text": [
      "e\n",
      "g\n",
      "n\n",
      "a\n",
      "r\n",
      "o\n"
     ]
    }
   ],
   "source": [
    "def backwards(s):\n",
    "    n = len(s)\n",
    "    while n>0:\n",
    "        print s[n-1]\n",
    "        n = n - 1\n",
    "        \n",
    "backwards('orange')"
   ]
  },
  {
   "cell_type": "code",
   "execution_count": 12,
   "metadata": {
    "collapsed": false
   },
   "outputs": [
    {
     "name": "stdout",
     "output_type": "stream",
     "text": [
      "o\n",
      "l\n",
      "l\n",
      "e\n",
      "h\n"
     ]
    }
   ],
   "source": [
    "def backwards(s):\n",
    "    for i in s[::-1]:\n",
    "        print i\n",
    "\n",
    "backwards('hello')"
   ]
  },
  {
   "cell_type": "code",
   "execution_count": 122,
   "metadata": {
    "collapsed": false
   },
   "outputs": [
    {
     "name": "stdout",
     "output_type": "stream",
     "text": [
      "o\n",
      "l\n",
      "l\n",
      "e\n",
      "h\n"
     ]
    }
   ],
   "source": [
    "def backwords(word):\n",
    "    i=len(word)-1   #find length of word\n",
    "    while i>=0 :         #run until out of letters\n",
    "        print word[i]    #start at end of word\n",
    "        i=i-1            #move backwards a letter\n",
    "        \n",
    "backwords('hello')        "
   ]
  },
  {
   "cell_type": "code",
   "execution_count": 10,
   "metadata": {
    "collapsed": false
   },
   "outputs": [
    {
     "name": "stdout",
     "output_type": "stream",
     "text": [
      "e\n",
      "r\n",
      "u\n",
      "o\n",
      "p\n"
     ]
    }
   ],
   "source": [
    "def reverse_string(s):\n",
    "    index=len(s)\n",
    "    while index>0:\n",
    "        print s[index-1]\n",
    "        index-=1\n",
    "        \n",
    "reverse_string('poure')\n",
    "\n",
    "#import doctest\n",
    "#doctest.run_docstring_examples(reverse_string, globals())\n"
   ]
  },
  {
   "cell_type": "markdown",
   "metadata": {},
   "source": [
    "Strings are immutable: A string is not able to be changed, one can only reassign a string to a new string in a deformed manner if one wants to make an edit to a string."
   ]
  },
  {
   "cell_type": "code",
   "execution_count": 5,
   "metadata": {
    "collapsed": false
   },
   "outputs": [
    {
     "name": "stdout",
     "output_type": "stream",
     "text": [
      "a\n",
      "m\n",
      "a\n",
      "m\n",
      " \n",
      "o\n",
      "y\n"
     ]
    }
   ],
   "source": [
    "def backward_string(string):\n",
    "    i = 1 #Starting at 1 because will use the negative index\n",
    "    while i <= len(string):\n",
    "        print string[-i] #implied in the index: length of string - i (counting backward)\n",
    "        i = i + 1\n",
    "        \n",
    "backward_string('yo mama')"
   ]
  },
  {
   "cell_type": "code",
   "execution_count": 5,
   "metadata": {
    "collapsed": false
   },
   "outputs": [
    {
     "name": "stdout",
     "output_type": "stream",
     "text": [
      "e\n",
      "m\n",
      "o\n",
      "r\n",
      "d\n",
      "n\n",
      "i\n",
      "l\n",
      "a\n",
      "p\n"
     ]
    }
   ],
   "source": [
    "def bckwrds(a):\n",
    "    index=-1\n",
    "    length=-len(a)\n",
    "    while index>=length:\n",
    "        letter=a[index]\n",
    "        print letter\n",
    "        index=index-1\n",
    "\n",
    "bckwrds('palindrome')"
   ]
  },
  {
   "cell_type": "code",
   "execution_count": 1,
   "metadata": {
    "collapsed": false
   },
   "outputs": [
    {
     "name": "stdout",
     "output_type": "stream",
     "text": [
      "A\n",
      "L\n",
      "E\n",
      "A\n",
      "H\n",
      "K\n",
      "I\n",
      "M\n"
     ]
    }
   ],
   "source": [
    "# Using Traversals \n",
    "word = \"MIKHAELA\"\n",
    "index = 0\n",
    "while index < len(word):\n",
    "    letter = word[len(word) - (1+index)]\n",
    "    print letter \n",
    "    index = index + 1"
   ]
  },
  {
   "cell_type": "code",
   "execution_count": 21,
   "metadata": {
    "collapsed": false,
    "scrolled": false
   },
   "outputs": [
    {
     "name": "stdout",
     "output_type": "stream",
     "text": [
      "a\n",
      "n\n",
      "a\n",
      "n\n",
      "a\n",
      "b\n"
     ]
    }
   ],
   "source": [
    "fruit = 'banana'\n",
    "\n",
    "#print index\n",
    "#print len(fruit)\n",
    "#print fruit[-6]\n",
    "\n",
    "def backwards(word):\n",
    "    index = -1\n",
    "    while (index > (-1 * len(word))) or (index == (-1 * len(word))):\n",
    "        letter = word[index]\n",
    "        print letter\n",
    "        index = index - 1\n",
    "    \n",
    "backwards(fruit)"
   ]
  },
  {
   "cell_type": "code",
   "execution_count": null,
   "metadata": {
    "collapsed": true
   },
   "outputs": [],
   "source": [
    "def reversi(string):\n",
    "    length = len(string)\n",
    "    while length > 0:\n",
    "        print string[length]\n",
    "        length = length - 1\n",
    "    "
   ]
  },
  {
   "cell_type": "code",
   "execution_count": 9,
   "metadata": {
    "collapsed": false
   },
   "outputs": [
    {
     "name": "stdout",
     "output_type": "stream",
     "text": [
      " \n",
      "g\n",
      "n\n",
      "i\n",
      "r\n",
      "t\n",
      "s\n",
      " \n",
      "n\n",
      "o\n",
      "s\n",
      "l\n",
      "O\n",
      " \n",
      "a\n",
      "n\n",
      "a\n",
      "i\n",
      "r\n",
      "A\n"
     ]
    }
   ],
   "source": [
    "\n",
    "def backwards(string):\n",
    "    index = 1\n",
    "    while index <= len(string):\n",
    "        letter = string[-index]\n",
    "        print letter\n",
    "        index += 1\n",
    "\n",
    "backwards('string ')\n",
    "backwards('Ariana Olson ')\n"
   ]
  },
  {
   "cell_type": "code",
   "execution_count": 19,
   "metadata": {
    "collapsed": false
   },
   "outputs": [
    {
     "name": "stdout",
     "output_type": "stream",
     "text": [
      "r a c e c a r\n"
     ]
    }
   ],
   "source": [
    "def print_backwards(string):\n",
    "    index = -1 \n",
    "    while index > (-1*len(string) -1):\n",
    "        letter = string[index]\n",
    "        print letter,\n",
    "        index = index - 1\n",
    "        \n",
    "print_backwards('racecar')"
   ]
  },
  {
   "cell_type": "code",
   "execution_count": 2,
   "metadata": {
    "collapsed": false
   },
   "outputs": [
    {
     "name": "stdout",
     "output_type": "stream",
     "text": [
      "n\n",
      "e\n",
      "k\n",
      "c\n",
      "i\n",
      "h\n",
      "c\n"
     ]
    }
   ],
   "source": [
    "def backwards(str): #Displays letters backwards\n",
    "    index = -1 * len(str)   #I will be traversing backwards, starting at the last letter\n",
    "\n",
    "    count = -1\n",
    "    while(count >= index):\n",
    "        print str[count]\n",
    "        count = count -1\n",
    "        \n",
    "        \n",
    "backwards(\"chicken\")    \n",
    "    "
   ]
  },
  {
   "cell_type": "code",
   "execution_count": 10,
   "metadata": {
    "collapsed": false
   },
   "outputs": [
    {
     "name": "stdout",
     "output_type": "stream",
     "text": [
      "s\n",
      "d\n",
      "r\n",
      "a\n",
      "w\n",
      "k\n",
      "c\n",
      "a\n",
      "b\n"
     ]
    }
   ],
   "source": [
    "\n",
    "def reverse_word(word):\n",
    "    \"\"\"\n",
    "    Return input 'word', backwards\n",
    "    >>> reverse_word(\"word\")\n",
    "    'drow'\n",
    "    \"\"\"\n",
    "    index = -1\n",
    "    while index > -(float(len(word))) -1: #Incriments backwards\n",
    "        letter = word[index]\n",
    "        print letter\n",
    "        index = index - 1\n",
    "        \n",
    "reverse_word('backwards')"
   ]
  },
  {
   "cell_type": "code",
   "execution_count": 9,
   "metadata": {
    "collapsed": false
   },
   "outputs": [
    {
     "name": "stdout",
     "output_type": "stream",
     "text": [
      "l\n",
      "l\n",
      "i\n",
      "W\n"
     ]
    }
   ],
   "source": [
    "def backwards(w):\n",
    "    length = len(w)\n",
    "    for x in xrange(0,length):\n",
    "        print w[length-(x+1)]\n",
    "    \n",
    "backwards('Will')    "
   ]
  },
  {
   "cell_type": "code",
   "execution_count": 68,
   "metadata": {
    "collapsed": false
   },
   "outputs": [
    {
     "name": "stdout",
     "output_type": "stream",
     "text": [
      "a\n",
      "n\n",
      "a\n",
      "n\n",
      "a\n",
      "b\n",
      "y\n",
      "p\n",
      "p\n",
      "a\n",
      "h\n"
     ]
    }
   ],
   "source": [
    "\"\"\"\n",
    "Display letters from input string backward\n",
    "\n",
    ">>>backwards('banana')\n",
    "a\n",
    "n\n",
    "a\n",
    "n\n",
    "a\n",
    "b\n",
    ">>>backwards('happy')\n",
    "y\n",
    "p\n",
    "p\n",
    "a\n",
    "h\n",
    "\n",
    "\"\"\"\n",
    "\n",
    "def backwards(x):\n",
    "    index = len(x) - 1\n",
    "    while index >= 0:\n",
    "        letter = x[index]\n",
    "        print letter\n",
    "        index = index - 1\n",
    "backwards('banana')\n",
    "backwards('happy')\n",
    "import doctest\n",
    "doctest.run_docstring_examples(backwards, globals())"
   ]
  },
  {
   "cell_type": "code",
   "execution_count": 5,
   "metadata": {
    "collapsed": false
   },
   "outputs": [
    {
     "name": "stdout",
     "output_type": "stream",
     "text": [
      "!\n",
      "e\n",
      "s\n",
      "n\n",
      "e\n",
      "s\n",
      "n\n",
      "o\n",
      "n\n",
      " \n",
      "s\n",
      "i\n",
      "h\n",
      "t\n",
      " \n",
      "r\n",
      "o\n",
      "f\n",
      " \n",
      "e\n",
      "v\n",
      "i\n",
      "l\n",
      " \n",
      "I\n"
     ]
    }
   ],
   "source": [
    "def spell_it_backwards(string):\n",
    "    \"\"\"\n",
    "    Return given 'word' spelled backwards, with each letter on it's own line\n",
    "    \n",
    "    >>> spell_it_backwards(\"why\")\n",
    "    y\n",
    "    h\n",
    "    w\n",
    "    \"\"\"\n",
    "    for x in range(len(string)):\n",
    "        print string[-(x+1)]\n",
    "\n",
    "import doctest\n",
    "doctest.run_docstring_examples(spell_it_backwards, globals())\n",
    "spell_it_backwards('I live for this nonsense!')"
   ]
  },
  {
   "cell_type": "code",
   "execution_count": 2,
   "metadata": {
    "collapsed": true
   },
   "outputs": [],
   "source": [
    "def backwards(word):\n",
    "    i = len(word) - 1\n",
    "    while i >= 0:\n",
    "        print word[i]\n",
    "        i -= 1"
   ]
  },
  {
   "cell_type": "code",
   "execution_count": 12,
   "metadata": {
    "collapsed": false
   },
   "outputs": [],
   "source": [
    "def display_backwards(string):\n",
    "    index=-1\n",
    "    while index>=-len(string):\n",
    "        print string[index]\n",
    "        index=index-1\n",
    "        \n",
    "        "
   ]
  },
  {
   "cell_type": "code",
   "execution_count": 13,
   "metadata": {
    "collapsed": false
   },
   "outputs": [
    {
     "name": "stdout",
     "output_type": "stream",
     "text": [
      "o\n",
      "s\n",
      "r\n",
      "e\n",
      "v\n",
      "e\n",
      "r\n"
     ]
    }
   ],
   "source": [
    " def rev_func (string):\n",
    "    stringlist = list (string) #dna in correct order\n",
    "    stringlist.reverse() #dna in complement order now\n",
    "    finalstring = ''.join(stringlist)\n",
    "    for i in range(len(finalstring)):\n",
    "        print (finalstring[i])\n",
    "rev_func ('reverso')"
   ]
  },
  {
   "cell_type": "code",
   "execution_count": 11,
   "metadata": {
    "collapsed": false
   },
   "outputs": [
    {
     "name": "stdout",
     "output_type": "stream",
     "text": [
      "ananab\n"
     ]
    }
   ],
   "source": [
    "def backwards(input):\n",
    "    print input[::-1]\n",
    "backwards('banana')"
   ]
  },
  {
   "cell_type": "code",
   "execution_count": 12,
   "metadata": {
    "collapsed": false
   },
   "outputs": [
    {
     "name": "stdout",
     "output_type": "stream",
     "text": [
      "r\n",
      "a\n",
      "c\n",
      " \n",
      "e\n",
      "c\n",
      "a\n",
      "r\n",
      "\n",
      "y\n",
      "t\n",
      "r\n",
      "e\n",
      "w\n",
      "q\n"
     ]
    }
   ],
   "source": [
    "def reverseString(yoString):\n",
    "    idx = len(yoString)-1\n",
    "        \n",
    "    while idx >= 0:\n",
    "        print yoString[idx]\n",
    "        idx -= 1\n",
    "\n",
    "reverseString(\"race car\") # lulz\n",
    "print\n",
    "reverseString(\"qwerty\")\n",
    "    "
   ]
  },
  {
   "cell_type": "code",
   "execution_count": 1,
   "metadata": {
    "collapsed": false
   },
   "outputs": [
    {
     "name": "stdout",
     "output_type": "stream",
     "text": [
      "o\n",
      "l\n",
      "l\n",
      "e\n",
      "H\n"
     ]
    }
   ],
   "source": [
    "def backword(word):\n",
    "    index = len(word)-1\n",
    "    while index >= 0:\n",
    "        print word[index]\n",
    "        index -= 1\n",
    "\n",
    "backword('Hello')"
   ]
  },
  {
   "cell_type": "code",
   "execution_count": 3,
   "metadata": {
    "collapsed": false
   },
   "outputs": [
    {
     "name": "stdout",
     "output_type": "stream",
     "text": [
      "g\n",
      "n\n",
      "i\n",
      "t\n",
      "s\n",
      "e\n",
      "t\n"
     ]
    }
   ],
   "source": [
    "def reverse_string(string):\n",
    "    i = len(string)-1\n",
    "    while i  >= 0:\n",
    "        print string[i]\n",
    "        i = i-1\n",
    "reverse_string(\"testing\")"
   ]
  },
  {
   "cell_type": "code",
   "execution_count": 3,
   "metadata": {
    "collapsed": false
   },
   "outputs": [
    {
     "name": "stdout",
     "output_type": "stream",
     "text": [
      "resool\n"
     ]
    }
   ],
   "source": [
    "def backwards(word):\n",
    "    newWord = ''\n",
    "    for index in range(len(word)):\n",
    "        newWord += word[len(word)-index-1]\n",
    "    return newWord\n",
    "        \n",
    "print backwards('looser')"
   ]
  },
  {
   "cell_type": "code",
   "execution_count": 8,
   "metadata": {
    "collapsed": false
   },
   "outputs": [
    {
     "name": "stdout",
     "output_type": "stream",
     "text": [
      "l\n",
      "i\n",
      "c\n",
      "n\n",
      "e\n",
      "p\n"
     ]
    }
   ],
   "source": [
    "def reverse_col_string(s):\n",
    "    a = -1 # to start from end of string\n",
    "    while a >= -len(s): #when indexing backwards the largest -magnitude = length of string\n",
    "        letter = s[a]  #sets letter equal to contents of index a\n",
    "        print letter\n",
    "        a= a - 1    #decrements a\n",
    "        \n",
    "reverse_col_string('pencil')"
   ]
  },
  {
   "cell_type": "code",
   "execution_count": 9,
   "metadata": {
    "collapsed": false,
    "scrolled": true
   },
   "outputs": [
    {
     "name": "stdout",
     "output_type": "stream",
     "text": [
      "i\n",
      "a\n",
      "s\n",
      "e\n",
      "D\n",
      " \n",
      "a\n",
      "m\n",
      "U\n"
     ]
    }
   ],
   "source": [
    "def negative(string):\n",
    "    i = 1\n",
    "    while i <= (len(string) - 1):\n",
    "        print string[-i]\n",
    "        i += 1\n",
    "    print string[0]\n",
    "    \n",
    "negative('Uma Desai')"
   ]
  },
  {
   "cell_type": "code",
   "execution_count": 77,
   "metadata": {
    "collapsed": false
   },
   "outputs": [
    {
     "name": "stdout",
     "output_type": "stream",
     "text": [
      "s\n",
      "e\n",
      "D\n",
      "t\n",
      "f\n",
      "o\n",
      "S\n"
     ]
    }
   ],
   "source": [
    "def reverse(word):\n",
    "    index = -1;\n",
    "    backwards = ''\n",
    "    while index >= -len(word):\n",
    "        print(word[index]);\n",
    "        index = index - 1;\n",
    "    \n",
    "reverse('SoftDes')"
   ]
  },
  {
   "cell_type": "code",
   "execution_count": 5,
   "metadata": {
    "collapsed": false
   },
   "outputs": [
    {
     "name": "stdout",
     "output_type": "stream",
     "text": [
      "o\n",
      "l\n",
      "l\n",
      "e\n",
      "h\n"
     ]
    }
   ],
   "source": [
    "def backwards(string):\n",
    "    for x in range(0, len(string)):\n",
    "        print string[len(string)-1-x]\n",
    "        \n",
    "        \n",
    "backwards('hello')"
   ]
  },
  {
   "cell_type": "code",
   "execution_count": 8,
   "metadata": {
    "collapsed": false
   },
   "outputs": [
    {
     "name": "stdout",
     "output_type": "stream",
     "text": [
      "t\n",
      "u\n",
      "p\n",
      "n\n",
      "i\n"
     ]
    }
   ],
   "source": [
    "def backwards_words(x):\n",
    "    index = len(x)\n",
    "    while index > 0:\n",
    "        letter = x[index-1]\n",
    "        print letter\n",
    "        index = index -1\n",
    "backwards_words(\"input\")"
   ]
  },
  {
   "cell_type": "code",
   "execution_count": 21,
   "metadata": {
    "collapsed": false
   },
   "outputs": [
    {
     "name": "stdout",
     "output_type": "stream",
     "text": [
      "பழம்\n",
      "்\n",
      "ம\n",
      "ழ\n",
      "ப\n"
     ]
    }
   ],
   "source": [
    "fruit = u'\\u0baa'+ u'\\u0bb4' + u'\\u0bae' + u'\\u0bcd' #trying out tamil/unicode in python\n",
    "print fruit\n",
    "\n",
    "def mzhapa(fruit): \n",
    "    #If you're curious, the function name is the transliteration of the word \"fruit\" in Tamil backwards. \n",
    "    #\"ZH\" is a retroflex r. (An equivalent does not exist in English.) \n",
    "    index = 0\n",
    "    while index < len(fruit):\n",
    "        letter = fruit[len(fruit)-(index + 1)]\n",
    "        print letter\n",
    "        index += 1\n",
    "mzhapa(fruit)"
   ]
  },
  {
   "cell_type": "code",
   "execution_count": 1,
   "metadata": {
    "collapsed": false
   },
   "outputs": [
    {
     "name": "stdout",
     "output_type": "stream",
     "text": [
      "g\n",
      "o\n",
      "d\n",
      " \n",
      "y\n",
      "z\n",
      "a\n",
      "l\n",
      " \n",
      "e\n",
      "h\n",
      "t\n",
      " \n",
      "r\n",
      "e\n",
      "v\n",
      "o\n",
      " \n",
      "s\n",
      "p\n",
      "m\n",
      "u\n",
      "j\n",
      " \n",
      "x\n",
      "o\n",
      "f\n",
      " \n",
      "n\n",
      "w\n",
      "o\n",
      "r\n",
      "b\n",
      " \n",
      "k\n",
      "c\n",
      "i\n",
      "u\n",
      "q\n",
      " \n",
      "e\n",
      "h\n",
      "T\n"
     ]
    }
   ],
   "source": [
    "def reverse(s):\n",
    "    r_s=s[::-1]\n",
    "    for i in range (0,len(r_s)):\n",
    "        temp_char=r_s[i]\n",
    "        print temp_char\n",
    "reverse('The quick brown fox jumps over the lazy dog')\n"
   ]
  },
  {
   "cell_type": "code",
   "execution_count": 1,
   "metadata": {
    "collapsed": false
   },
   "outputs": [
    {
     "name": "stdout",
     "output_type": "stream",
     "text": [
      "p\n",
      "o\n",
      "n\n",
      "m\n",
      "l\n",
      "k\n",
      "j\n",
      "i\n",
      "h\n",
      "g\n",
      "f\n",
      "e\n",
      "d\n",
      "c\n",
      "b\n",
      "a\n"
     ]
    }
   ],
   "source": [
    "def backward(string):\n",
    "    for character in string[::-1]:\n",
    "        print character\n",
    "        \n",
    "backward(\"abcdefghijklmnop\")"
   ]
  },
  {
   "cell_type": "code",
   "execution_count": 5,
   "metadata": {
    "collapsed": false
   },
   "outputs": [
    {
     "name": "stdout",
     "output_type": "stream",
     "text": [
      "!\n",
      "d\n",
      "l\n",
      "r\n",
      "o\n",
      "W\n",
      " \n",
      "o\n",
      "l\n",
      "l\n",
      "e\n",
      "H\n"
     ]
    }
   ],
   "source": [
    "def backwards(string):\n",
    "    i = len(string)-1\n",
    "    while i >=0:\n",
    "        print string[i]\n",
    "        i-=1\n",
    "\n",
    "backwards(\"Hello World!\")\n"
   ]
  },
  {
   "cell_type": "code",
   "execution_count": 4,
   "metadata": {
    "collapsed": false
   },
   "outputs": [
    {
     "name": "stdout",
     "output_type": "stream",
     "text": [
      "y\n",
      "s\n",
      "a\n",
      "e\n",
      " \n",
      "y\n",
      "l\n",
      "l\n",
      "a\n",
      "r\n",
      "e\n",
      "t\n",
      "i\n",
      "l\n"
     ]
    }
   ],
   "source": [
    "def ez(thing):\n",
    "    otherThing = thing[::-1]\n",
    "    for x in otherThing:\n",
    "        print(x)\n",
    "ez('literally easy')"
   ]
  },
  {
   "cell_type": "code",
   "execution_count": 51,
   "metadata": {
    "collapsed": false
   },
   "outputs": [
    {
     "name": "stdout",
     "output_type": "stream",
     "text": [
      "Write a phrase\n",
      "I think this will work\n",
      "k\n",
      "r\n",
      "o\n",
      "w\n",
      " \n",
      "l\n",
      "l\n",
      "i\n",
      "w\n",
      " \n",
      "s\n",
      "i\n",
      "h\n",
      "t\n",
      " \n",
      "k\n",
      "n\n",
      "i\n",
      "h\n",
      "t\n",
      " \n",
      "I\n"
     ]
    },
    {
     "data": {
      "text/plain": [
       "-1"
      ]
     },
     "execution_count": 51,
     "metadata": {},
     "output_type": "execute_result"
    }
   ],
   "source": [
    "phrase = raw_input(\"Write a phrase\\n\")\n",
    "def backwards(phrase): \n",
    "    index = len(phrase) - 1\n",
    "    while index > -1:\n",
    "        letter = phrase[index]\n",
    "        print letter\n",
    "        index = index - 1\n",
    "    return -1\n",
    "backwards(phrase)"
   ]
  },
  {
   "cell_type": "code",
   "execution_count": 138,
   "metadata": {
    "collapsed": false
   },
   "outputs": [
    {
     "name": "stdout",
     "output_type": "stream",
     "text": [
      "y\n",
      "l\n",
      "i\n",
      "m\n",
      "e\n"
     ]
    }
   ],
   "source": [
    "def letters_backward(word):\n",
    "    length = len(word)\n",
    "    value1 = 0\n",
    "    while value1 != length:\n",
    "        value1 = value1 + 1\n",
    "        letter2 = word[length - value1]\n",
    "        print letter2\n",
    "    \n",
    "letters_backward('emily')"
   ]
  },
  {
   "cell_type": "code",
   "execution_count": 25,
   "metadata": {
    "collapsed": false
   },
   "outputs": [
    {
     "name": "stdout",
     "output_type": "stream",
     "text": [
      "o\n",
      "l\n",
      "l\n",
      "e\n",
      "h\n"
     ]
    }
   ],
   "source": [
    "def reverser(string):\n",
    "    # input: string to be reversed\n",
    "    # prints: reversed string\n",
    "    i = 0\n",
    "    while i < len(string):\n",
    "        i = i + 1\n",
    "        print string[-i]\n",
    "\n",
    "reverser('hello')"
   ]
  },
  {
   "cell_type": "code",
   "execution_count": 1,
   "metadata": {
    "collapsed": false
   },
   "outputs": [
    {
     "name": "stdout",
     "output_type": "stream",
     "text": [
      "s\n",
      "t\n",
      "a\n",
      "o\n",
      "b\n",
      "None\n"
     ]
    }
   ],
   "source": [
    "def down_and_backwards(word):\n",
    "    index = len(word)-1\n",
    "    while index >= 0:\n",
    "        print word[index]\n",
    "        index = index - 1\n",
    "\n",
    "print down_and_backwards(\"boats\")"
   ]
  },
  {
   "cell_type": "code",
   "execution_count": 5,
   "metadata": {
    "collapsed": false
   },
   "outputs": [
    {
     "name": "stdout",
     "output_type": "stream",
     "text": [
      "t\n",
      "i\n",
      "u\n",
      "r\n",
      "f\n"
     ]
    }
   ],
   "source": [
    "def backwards(word):\n",
    "    index = 0\n",
    "    while index < len(word):\n",
    "        letter = word[len(word)-index-1]\n",
    "        print letter\n",
    "        index = index + 1\n",
    "word = 'fruit'\n",
    "backwards(word)"
   ]
  },
  {
   "cell_type": "code",
   "execution_count": 1,
   "metadata": {
    "collapsed": false
   },
   "outputs": [
    {
     "name": "stdout",
     "output_type": "stream",
     "text": [
      "n\n",
      "o\n",
      "l\n",
      "e\n",
      "m\n",
      "r\n",
      "e\n",
      "t\n",
      "a\n",
      "w\n"
     ]
    }
   ],
   "source": [
    "def backwards(string):\n",
    "    index = len(string) - 1\n",
    "    while index < len(string) and index >= 0:\n",
    "        letter = string[index]\n",
    "        print letter\n",
    "        index = index - 1\n",
    "\n",
    "backwards(\"watermelon\")"
   ]
  },
  {
   "cell_type": "code",
   "execution_count": 1,
   "metadata": {
    "collapsed": false
   },
   "outputs": [
    {
     "name": "stdout",
     "output_type": "stream",
     "text": [
      "o\n",
      "l\n",
      "l\n",
      "e\n",
      "h\n"
     ]
    }
   ],
   "source": [
    "def backwards(x):\n",
    "    for i in range(len(x)-1,-1,-1):\n",
    "        print(x[i])\n",
    "\n",
    "backwards(\"hello\")"
   ]
  },
  {
   "cell_type": "code",
   "execution_count": 87,
   "metadata": {
    "collapsed": false
   },
   "outputs": [
    {
     "name": "stdout",
     "output_type": "stream",
     "text": [
      "n\n",
      "o\n",
      "i\n",
      "s\n",
      "r\n",
      "u\n",
      "c\n",
      "e\n",
      "R\n"
     ]
    }
   ],
   "source": [
    "def rev(shtring):\n",
    "    \"\"\"Reverses a string\n",
    "    >>> rev('hello')\n",
    "    o\n",
    "    l\n",
    "    l\n",
    "    e\n",
    "    h\"\"\"\n",
    "    if len(shtring):\n",
    "        rev(shtring[1:])\n",
    "        print shtring[0]\n",
    "        \n",
    "\n",
    "rev(\"Recursion\")"
   ]
  },
  {
   "cell_type": "code",
   "execution_count": 35,
   "metadata": {
    "collapsed": false
   },
   "outputs": [
    {
     "name": "stdout",
     "output_type": "stream",
     "text": [
      "20 dollars is still 20 dollars\n"
     ]
    }
   ],
   "source": [
    "def string_Flip(word):\n",
    "    backward = ''\n",
    "    for index in range(len(word)):\n",
    "        backward = backward + word[len(word) - index - 1]\n",
    "    print backward\n",
    "string_Flip('srallod 02 llits si srallod 02')"
   ]
  },
  {
   "cell_type": "code",
   "execution_count": 3,
   "metadata": {
    "collapsed": false
   },
   "outputs": [
    {
     "name": "stdout",
     "output_type": "stream",
     "text": [
      "P\n",
      "I\n",
      "R\n"
     ]
    }
   ],
   "source": [
    "def printBackwards(str):\n",
    "    count = 0\n",
    "    while (count < len(str)):\n",
    "        print(str[len(str) - count - 1])\n",
    "        count = count + 1\n",
    "        \n",
    "printBackwards(\"RIP\")"
   ]
  },
  {
   "cell_type": "code",
   "execution_count": 1,
   "metadata": {
    "collapsed": false
   },
   "outputs": [
    {
     "name": "stdout",
     "output_type": "stream",
     "text": [
      "9\n",
      "8\n",
      "7\n",
      "6\n",
      "5\n",
      "4\n",
      "3\n",
      "2\n",
      "1\n",
      "None\n"
     ]
    }
   ],
   "source": [
    "def backward(x):\n",
    "    for i in xrange(len(x)-1, -1, -1):\n",
    "        print x[i]\n",
    "print backward(\"123456789\")"
   ]
  },
  {
   "cell_type": "code",
   "execution_count": 1,
   "metadata": {
    "collapsed": false
   },
   "outputs": [
    {
     "ename": "NameError",
     "evalue": "global name 'word' is not defined",
     "output_type": "error",
     "traceback": [
      "\u001b[1;31m---------------------------------------------------------------------------\u001b[0m",
      "\u001b[1;31mNameError\u001b[0m                                 Traceback (most recent call last)",
      "\u001b[1;32m<ipython-input-1-cd133c5d630f>\u001b[0m in \u001b[0;36m<module>\u001b[1;34m()\u001b[0m\n\u001b[0;32m      6\u001b[0m         \u001b[0mindex\u001b[0m \u001b[1;33m=\u001b[0m \u001b[0mindex\u001b[0m \u001b[1;33m-\u001b[0m \u001b[1;36m1\u001b[0m\u001b[1;33m\u001b[0m\u001b[0m\n\u001b[0;32m      7\u001b[0m \u001b[1;33m\u001b[0m\u001b[0m\n\u001b[1;32m----> 8\u001b[1;33m \u001b[0mreverse_word\u001b[0m\u001b[1;33m(\u001b[0m\u001b[1;34m'reverse'\u001b[0m\u001b[1;33m)\u001b[0m\u001b[1;33m\u001b[0m\u001b[0m\n\u001b[0m\u001b[0;32m      9\u001b[0m \u001b[0mreverse_word\u001b[0m\u001b[1;33m(\u001b[0m\u001b[1;34m'  '\u001b[0m\u001b[1;33m)\u001b[0m\u001b[1;33m\u001b[0m\u001b[0m\n\u001b[0;32m     10\u001b[0m \u001b[0mreverse_word\u001b[0m\u001b[1;33m(\u001b[0m\u001b[1;34m'tacocat'\u001b[0m\u001b[1;33m)\u001b[0m\u001b[1;33m\u001b[0m\u001b[0m\n",
      "\u001b[1;32m<ipython-input-1-cd133c5d630f>\u001b[0m in \u001b[0;36mreverse_word\u001b[1;34m(test)\u001b[0m\n\u001b[0;32m      1\u001b[0m \u001b[1;32mdef\u001b[0m \u001b[0mreverse_word\u001b[0m\u001b[1;33m(\u001b[0m\u001b[0mtest\u001b[0m\u001b[1;33m)\u001b[0m\u001b[1;33m:\u001b[0m\u001b[1;33m\u001b[0m\u001b[0m\n\u001b[1;32m----> 2\u001b[1;33m     \u001b[0mindex\u001b[0m \u001b[1;33m=\u001b[0m \u001b[0mlen\u001b[0m\u001b[1;33m(\u001b[0m\u001b[0mword\u001b[0m\u001b[1;33m)\u001b[0m \u001b[1;33m-\u001b[0m\u001b[1;36m1\u001b[0m\u001b[1;33m\u001b[0m\u001b[0m\n\u001b[0m\u001b[0;32m      3\u001b[0m     \u001b[1;32mwhile\u001b[0m \u001b[0mindex\u001b[0m \u001b[1;33m>\u001b[0m \u001b[1;33m-\u001b[0m\u001b[1;36m1\u001b[0m\u001b[1;33m:\u001b[0m\u001b[1;33m\u001b[0m\u001b[0m\n\u001b[0;32m      4\u001b[0m         \u001b[0mletter\u001b[0m \u001b[1;33m=\u001b[0m \u001b[0mword\u001b[0m\u001b[1;33m[\u001b[0m\u001b[0mindex\u001b[0m\u001b[1;33m]\u001b[0m\u001b[1;33m\u001b[0m\u001b[0m\n\u001b[0;32m      5\u001b[0m         \u001b[1;32mprint\u001b[0m \u001b[0mletter\u001b[0m\u001b[1;33m\u001b[0m\u001b[0m\n",
      "\u001b[1;31mNameError\u001b[0m: global name 'word' is not defined"
     ]
    }
   ],
   "source": [
    "def reverse_word(test):\n",
    "    word = str(test)\n",
    "    index = len(word) -1\n",
    "    while index > -1:\n",
    "        letter = word[index]\n",
    "        print letter\n",
    "        index = index - 1\n",
    "        \n",
    "reverse_word('reverse')\n",
    "reverse_word('  ')\n",
    "reverse_word('tacocat')"
   ]
  },
  {
   "cell_type": "markdown",
   "metadata": {},
   "source": [
    "## Challenge Problem"
   ]
  },
  {
   "cell_type": "markdown",
   "metadata": {},
   "source": [
    "**Challenge (optional):** Write a function that translates words into [Pig Latin](https://en.wikipedia.org/wiki/Pig_Latin). \n",
    "\n",
    "**Additional challenge**: Write a function that translates back into English."
   ]
  },
  {
   "cell_type": "code",
   "execution_count": 49,
   "metadata": {
    "collapsed": false
   },
   "outputs": [
    {
     "name": "stdout",
     "output_type": "stream",
     "text": [
      "ingspray\n"
     ]
    }
   ],
   "source": [
    "def pig_latin(word):\n",
    "    \"\"\"\n",
    "    Return given 'word' translated into Pig Latin\n",
    "    \n",
    "    >>> pig_latin(\"software\")\n",
    "    oftwaresay\n",
    "    >>> pig_latin (\"eggs\")\n",
    "    eggsyay\n",
    "    >>> pig_latin(\"science\")\n",
    "    iencescay\n",
    "    \"\"\"\n",
    "    vowels = ['a','e','i','o','u','y']\n",
    "    if word[0] in vowels:\n",
    "        newword = word+'yay'\n",
    "        print newword\n",
    "    else:\n",
    "        for i in range(len(word)):\n",
    "            if word[i] in vowels:\n",
    "                vowel = i\n",
    "                break\n",
    "        newword = word[vowel:]+word[:vowel]+'ay'\n",
    "        print newword\n",
    "pig_latin('spring')\n",
    "# If you'd like to actually run the doctests here, you can uncomment the lines below.\n",
    "# We use this slightly more complex method to test only the pig_latin function, without running tests on any other functions that may be in this notebook.\n",
    "import doctest\n",
    "doctest.run_docstring_examples(pig_latin, globals())"
   ]
  },
  {
   "cell_type": "code",
   "execution_count": 42,
   "metadata": {
    "collapsed": false
   },
   "outputs": [],
   "source": [
    "def pig_latin(word):\n",
    "    \"\"\"\n",
    "    Return given 'word' translated into Pig Latin\n",
    "    \n",
    "    >>> pig_latin(\"software\")\n",
    "    'oftwaresay'\n",
    "    >>> pig_latin(\"eat\")\n",
    "    'eatyay'\n",
    "    >>> pig_latin(\"other\")\n",
    "    'otheryay'\n",
    "    \"\"\"\n",
    "    vowels = ['a', 'e', 'i', 'o', 'u']\n",
    "    if word:\n",
    "        firstletter = word[0]\n",
    "        if firstletter in vowels:\n",
    "            return word + 'yay'\n",
    "        else:\n",
    "            return word[1:] + firstletter + 'ay'\n",
    "\n",
    "# If you'd like to actually run the doctests here, you can uncomment the lines below.\n",
    "# We use this slightly more complex method to test only the pig_latin function, without running tests on any other functions that may be in this notebook.\n",
    "import doctest\n",
    "doctest.run_docstring_examples(pig_latin, globals())"
   ]
  },
  {
   "cell_type": "code",
   "execution_count": null,
   "metadata": {
    "collapsed": true
   },
   "outputs": [],
   "source": [
    "def pig_latin(word):\n",
    "    \"\"\"\n",
    "    Return given 'word' translated into Pig Latin\n",
    "    \n",
    "    >>> pig_latin(\"software\")\n",
    "    'oftwaresay'\n",
    "    \"\"\"\n",
    "    pass #TODO: Implement me\n",
    "\n",
    "# If you'd like to actually run the doctests here, you can uncomment the lines below.\n",
    "# We use this slightly more complex method to test only the pig_latin function, without running tests on any other functions that may be in this notebook.\n",
    "#import doctest\n",
    "#doctest.run_docstring_examples(pig_latin, globals())"
   ]
  },
  {
   "cell_type": "code",
   "execution_count": 214,
   "metadata": {
    "collapsed": false
   },
   "outputs": [
    {
     "name": "stdout",
     "output_type": "stream",
     "text": [
      "he was delighted with het varied layp of het waterfalls, but no lamourg lindedb him to het qualors of wisss peasant life.\n",
      "Are these all real words? y/n: n\n",
      "Which words aren't words? List integers with spaces: 5 7 9 13 14 17 18 20\n",
      "he was delighted with the varied play of the waterfalls, but no glamour blinded him to the squalor of swiss peasant life.\n",
      "Are these all real words? y/n: y\n",
      "Hooray!\n",
      "he was delighted with the varied play of the waterfalls, but no glamour blinded him to the squalor of swiss peasant life.\n"
     ]
    },
    {
     "data": {
      "text/plain": [
       "'he was delighted with the varied play of the waterfalls, but no glamour blinded him to the squalor of swiss peasant life.'"
      ]
     },
     "execution_count": 214,
     "metadata": {},
     "output_type": "execute_result"
    }
   ],
   "source": [
    "import string\n",
    "\n",
    "def pig_latin(word):\n",
    "    \"\"\"\n",
    "    Return given 'word' translated into Pig Latin\n",
    "    \n",
    "    >>> pig_latin(\"software\")\n",
    "    'oftwaresay'\n",
    "    \"\"\"\n",
    "    Words = string.split(word)\n",
    "    Pig_words = []\n",
    "    for i in Words:\n",
    "        if i[0] in ['a','e','i','o','u','y']:\n",
    "            Pig_words.append(i + 'yay')\n",
    "        elif i[0] == 'q':\n",
    "            Pig_words.append(i[2:] + 'quay')\n",
    "        else:\n",
    "            for j in range(len(i)):\n",
    "                if i[j] in ['a','e','i','o','u','y']:\n",
    "                    Pig_words.append(i[j:] + i[:j] + 'ay')\n",
    "                    break\n",
    "    return ' '.join(Pig_words)\n",
    "\n",
    "def anti_pig_latin(word):\n",
    "    Words = string.split(word)\n",
    "    English_words = []\n",
    "    for i in Words:\n",
    "        if i[-3] == 'y':\n",
    "            English_words.append(i[:-3])\n",
    "        else:\n",
    "            English_words.append(i[-3] + i[:-3])\n",
    "    print ' '.join(English_words)\n",
    "    while True:\n",
    "        prompt = 'Are these all real words? y/n: '\n",
    "        ans = raw_input(prompt)\n",
    "        if ans == 'n':\n",
    "            second_prompt = \"Which words aren't words? List integers with spaces: \"\n",
    "            second_ans = raw_input(second_prompt)\n",
    "            Still_pig_words = []\n",
    "            Still_pig_words = map(int,string.split(second_ans))\n",
    "            New_english_words = []\n",
    "            for j in range(len(English_words)):\n",
    "                word = English_words[j]\n",
    "                if j+1 in Still_pig_words:\n",
    "                    New_english_words.append(word[-1]+word[:-1])\n",
    "                else:\n",
    "                    New_english_words.append(word)\n",
    "            English_words = New_english_words\n",
    "            print ' '.join(English_words)\n",
    "            continue\n",
    "        if ans == 'y':\n",
    "            print 'Hooray!'\n",
    "            print ' '.join(English_words)\n",
    "            break\n",
    "        else:\n",
    "            print \"Useful. Really. Try again. Input is 'y' or 'n'.\"\n",
    "            continue\n",
    "    return ' '.join(English_words)\n",
    "\n",
    "anti_pig_latin(pig_latin('he was delighted with the varied play of the waterfalls, but no glamour blinded him to the squalor of swiss peasant life.'))\n",
    "\n",
    "# If you'd like to actually run the doctests here, you can uncomment the lines below.\n",
    "# We use this slightly more complex method to test only the pig_latin function, without running tests on any other functions that may be in this notebook.\n",
    "#import doctest\n",
    "#doctest.run_docstring_examples(pig_latin, globals(),verbose=True)"
   ]
  },
  {
   "cell_type": "code",
   "execution_count": null,
   "metadata": {
    "collapsed": true
   },
   "outputs": [],
   "source": [
    "def pig_latin(word):\n",
    "    \"\"\"\n",
    "    Return given 'word' translated into Pig Latin\n",
    "    \n",
    "    >>> pig_latin(\"software\")\n",
    "    'oftwaresay'\n",
    "    \"\"\"\n",
    "    pass #TODO: Implement me\n",
    "\n",
    "# If you'd like to actually run the doctests here, you can uncomment the lines below.\n",
    "# We use this slightly more complex method to test only the pig_latin function, without running tests on any other functions that may be in this notebook.\n",
    "#import doctest\n",
    "#doctest.run_docstring_examples(pig_latin, globals())"
   ]
  },
  {
   "cell_type": "code",
   "execution_count": 10,
   "metadata": {
    "collapsed": true
   },
   "outputs": [],
   "source": [
    "def pig_latin(word):\n",
    "    \"\"\"\n",
    "    Return given 'word' translated into Pig Latin\n",
    "    \n",
    "    >>> pig_latin(\"software\")\n",
    "    'oftwaresay'\n",
    "    \"\"\"\n",
    "    pass #TODO: Implement me\n",
    "\n",
    "# If you'd like to actually run the doctests here, you can uncomment the lines below.\n",
    "# We use this slightly more complex method to test only the pig_latin function, without running tests on any other functions that may be in this notebook.\n",
    "#import doctest\n",
    "#doctest.run_docstring_examples(pig_latin, globals())"
   ]
  },
  {
   "cell_type": "code",
   "execution_count": null,
   "metadata": {
    "collapsed": true
   },
   "outputs": [],
   "source": [
    "def pig_latin(word):\n",
    "    \"\"\"\n",
    "    Return given 'word' translated into Pig Latin\n",
    "    \n",
    "    >>> pig_latin(\"software\")\n",
    "    'oftwaresay'\n",
    "    \"\"\"\n",
    "    pass #TODO: Implement me\n",
    "\n",
    "# If you'd like to actually run the doctests here, you can uncomment the lines below.\n",
    "# We use this slightly more complex method to test only the pig_latin function, without running tests on any other functions that may be in this notebook.\n",
    "#import doctest\n",
    "#doctest.run_docstring_examples(pig_latin, globals())"
   ]
  },
  {
   "cell_type": "code",
   "execution_count": 9,
   "metadata": {
    "collapsed": false
   },
   "outputs": [
    {
     "name": "stdout",
     "output_type": "stream",
     "text": [
      "oftwaresay\n",
      "software\n"
     ]
    }
   ],
   "source": [
    "def pig_latin(word):\n",
    "    \"\"\"\n",
    "    Return given 'word' translated into Pig Latin\n",
    "    \n",
    "    >>> pig_latin(\"software\")\n",
    "    'oftwaresay'\n",
    "    \"\"\"\n",
    "    return word[1:] + word[0] + 'ay'\n",
    "    \n",
    "    #TODO: Implement me\n",
    "\n",
    "print (pig_latin('software'))\n",
    "\n",
    "def unpig_unlatin(ordway):\n",
    "    return ordway[-3] + ordway[:-3]\n",
    "\n",
    "print (unpig_unlatin(pig_latin('software')))\n",
    "\n",
    "# If you'd like to actually run the doctests here, you can uncomment the lines below.\n",
    "# We use this slightly more complex method to test only the pig_latin function, without running tests on any other functions that may be in this notebook.\n",
    "#import doctest\n",
    "#doctest.run_docstring_examples(pig_latin, globals())"
   ]
  },
  {
   "cell_type": "code",
   "execution_count": null,
   "metadata": {
    "collapsed": true
   },
   "outputs": [],
   "source": [
    "def pig_latin(word):\n",
    "    \"\"\"\n",
    "    Return given 'word' translated into Pig Latin\n",
    "    \n",
    "    >>> pig_latin(\"software\")\n",
    "    'oftwaresay'\n",
    "    \"\"\"\n",
    "    pass #TODO: Implement me\n",
    "\n",
    "# If you'd like to actually run the doctests here, you can uncomment the lines below.\n",
    "# We use this slightly more complex method to test only the pig_latin function, without running tests on any other functions that may be in this notebook.\n",
    "#import doctest\n",
    "#doctest.run_docstring_examples(pig_latin, globals())"
   ]
  },
  {
   "cell_type": "code",
   "execution_count": 39,
   "metadata": {
    "collapsed": false
   },
   "outputs": [
    {
     "name": "stdout",
     "output_type": "stream",
     "text": [
      "English word: Hello\n",
      "Pig Latin Word: ellohay\n"
     ]
    }
   ],
   "source": [
    "word = raw_input('English word: ')\n",
    "def pig_latin(word):\n",
    "    \"\"\"\n",
    "    Return given 'word' translated into Pig Latin\n",
    "    \n",
    "    >>> pig_latin(\"software\")\n",
    "    Pig Latin Word: oftwaresay\n",
    "    \"\"\"\n",
    "    first_letter = word.lower() #makes first letter of word lowercase as it will be middle of word\n",
    "    print \"Pig Latin Word: \" + word[1:] + first_letter[0] + 'ay'\n",
    "    pass #TODO: Implement me\n",
    "\n",
    "\n",
    "pig_latin(word)\n",
    "# If you'd like to actually run the doctests here, you can uncomment the lines below.\n",
    "# We use this slightly more complex method to test only the pig_latin function, without running tests on any other functions that may be in this notebook.\n",
    "import doctest\n",
    "doctest.run_docstring_examples(pig_latin, globals())"
   ]
  },
  {
   "cell_type": "code",
   "execution_count": 17,
   "metadata": {
    "collapsed": false
   },
   "outputs": [],
   "source": [
    "def pig_latin(word):\n",
    "    \"\"\"\n",
    "    Return given 'word' translated into Pig Latin\n",
    "    \n",
    "    >>> pig_latin(\"software\")\n",
    "    'oftwaresay'\n",
    "    \n",
    "    >>> pig_latin(\"apple\")\n",
    "    'appleyay'\n",
    "    \"\"\"\n",
    "    output = ''\n",
    "    if word[0] in 'aeiou':\n",
    "        return word + 'yay'\n",
    "    output = word[1:]\n",
    "    output += (word[0] + 'ay')\n",
    "    return output\n",
    "    \n",
    "def un_pig_latin(word):\n",
    "    \"\"\"\n",
    "    Return given pig latin word translated into english\n",
    "    \n",
    "    >>> un_pig_latin('appleyay')\n",
    "    'apple'\n",
    "    \n",
    "    >>> un_pig_latin('oftwaresay')\n",
    "    'software'\n",
    "    \"\"\"\n",
    "    if word[-3] == 'y':\n",
    "        return word[:-3]\n",
    "    output = word[-3]\n",
    "    output += word[:-3]\n",
    "    return output\n",
    "\n",
    "# If you'd like to actually run the doctests here, you can uncomment the lines below.\n",
    "# We use this slightly more complex method to test only the pig_latin function, without running tests on any other functions that may be in this notebook.\n",
    "import doctest\n",
    "doctest.run_docstring_examples(pig_latin, globals())\n",
    "doctest.run_docstring_examples(un_pig_latin, globals())"
   ]
  },
  {
   "cell_type": "code",
   "execution_count": 1,
   "metadata": {
    "collapsed": false
   },
   "outputs": [
    {
     "name": "stdout",
     "output_type": "stream",
     "text": [
      "ello worldhay\n",
      "hello world\n"
     ]
    }
   ],
   "source": [
    "def pig_latin(word):\n",
    "    \"\"\"\n",
    "    Return given 'word' translated into Pig Latin\n",
    "    \"\"\"\n",
    "    newWord = word[1:len(word)]+word[0]+'ay'\n",
    "    return newWord\n",
    "\n",
    "def un_pig_latin(word):\n",
    "    \"\"\"\n",
    "    Returns given 'word' translated from Pig Latin to English\n",
    "    \"\"\"\n",
    "    newWord = word[-3:-2]+word[0:-3]\n",
    "    return newWord\n",
    "\n",
    "piggy = pig_latin('hello world')\n",
    "print piggy\n",
    "engrish = un_pig_latin(piggy)\n",
    "print engrish"
   ]
  },
  {
   "cell_type": "code",
   "execution_count": 17,
   "metadata": {
    "collapsed": false
   },
   "outputs": [
    {
     "name": "stdout",
     "output_type": "stream",
     "text": [
      "oftwaresay\n"
     ]
    }
   ],
   "source": [
    "def pig_latin(word):\n",
    "    \"\"\"\n",
    "    Return given 'word' translated into Pig Latin\n",
    "    \n",
    "    >>> pig_latin(\"software\")\n",
    "    'oftwaresay'\n",
    "    \"\"\"\n",
    "\n",
    "    if word[0] == ('a' or 'e' or 'i' or 'o' or 'u'): #or sometimes y\n",
    "        string = word[1:]+'ay'\n",
    "    else:\n",
    "        string = word[1:] + word[0] + 'ay'\n",
    "    return string\n",
    "print pig_latin('software')\n",
    "# If you'd like to actually run the doctests here, you can uncomment the lines below.\n",
    "# We use this slightly more complex method to test only the pig_latin function, without running tests on any other functions that may be in this notebook.\n",
    "#import doctest\n",
    "#doctest.run_docstring_examples(pig_latin, globals())"
   ]
  },
  {
   "cell_type": "code",
   "execution_count": 21,
   "metadata": {
    "collapsed": false,
    "scrolled": false
   },
   "outputs": [],
   "source": [
    "def pig_latin():\n",
    "    ##OHMYGODNEVERMINDIHATEEVERYTHINGWHYWONTTHISWORK\n",
    "\n",
    "# If you'd like to actually run the doctests here, you can uncomment the lines below.\n",
    "# We use this slightly more complex method to test only the pig_latin function, without running tests on any other functions that may be in this notebook.\n",
    "#import doctest\n",
    "#doctest.run_docstring_examples(pig_latin, globals())"
   ]
  },
  {
   "cell_type": "code",
   "execution_count": 23,
   "metadata": {
    "collapsed": false
   },
   "outputs": [
    {
     "name": "stdout",
     "output_type": "stream",
     "text": [
      "o f t w a r e s a y\n"
     ]
    }
   ],
   "source": [
    "def pig_latin(word):\n",
    "    \"\"\"\n",
    "    Return given 'word' translated into Pig Latin\n",
    "    \n",
    "    >>> pig_latin(\"software\")\n",
    "    'oftwaresay'\n",
    "    \"\"\"\n",
    "    pass #TODO: Implement me\n",
    "    index = 1\n",
    "    while index < len(word):\n",
    "        letter = (word[index])\n",
    "        print letter,\n",
    "        index = index + 1\n",
    "    print word[0],'a','y'\n",
    "    \n",
    "\n",
    "\n",
    "pig_latin ('software')\n",
    "# If you'd like to actually run the doctests here, you can uncomment the lines below.\n",
    "# We use this slightly more complex method to test only the pig_latin function, without running tests on any other functions that may be in this notebook.\n",
    "# import doctest\n",
    "# doctest.run_docstring_examples(pig_latin, globals())"
   ]
  },
  {
   "cell_type": "code",
   "execution_count": 47,
   "metadata": {
    "collapsed": false
   },
   "outputs": [
    {
     "name": "stdout",
     "output_type": "stream",
     "text": [
      "oftwaresay\n",
      "software\n",
      "Finding tests in NoName\n",
      "Trying:\n",
      "    pig_latin(\"software\")\n",
      "Expecting:\n",
      "    'oftwaresay'\n",
      "**********************************************************************\n",
      "File \"__main__\", line 28, in NoName\n",
      "Failed example:\n",
      "    pig_latin(\"software\")\n",
      "Expected:\n",
      "    'oftwaresay'\n",
      "Got:\n",
      "    oftwaresay\n"
     ]
    }
   ],
   "source": [
    "def check_first_letter(letter):  #Function that checks the first letter of the word, returning True if a vowel or False if consonant\n",
    "    vowels = [\"a\",\"e\",\"i\",\"o\",\"u\"]\n",
    "    result = False\n",
    "    for stuff in vowels:\n",
    "        if(stuff == letter):\n",
    "            result = True\n",
    "    return result        \n",
    "            \n",
    "def check_last_bit(str):  #Function that checks the end of the word, returning True if way is there, meaning the word began with a vowel\n",
    "    if((\"way\" in str)):    #or False if only ay is there, meaning the word began with a consonant.\n",
    "        return True\n",
    "    elif((\"ay\" in str)):\n",
    "        return False\n",
    "    return None\n",
    "def back_to_normal(word):\n",
    "    back_bit = word[-1:-4]\n",
    "    normal_word = \"\"\n",
    "    if(check_last_bit(back_bit)):\n",
    "        normal_word = word[-4] + word[0:len(word)-4]\n",
    "    else:\n",
    "        normal_word = word[-3] + word[0:len(word)-3]\n",
    "    print normal_word    \n",
    "        \n",
    "def pig_latin(word):\n",
    "    \"\"\"\n",
    "    Return given 'word' translated into Pig Latin\n",
    "    \n",
    "    >>> pig_latin(\"software\")\n",
    "    'oftwaresay'\n",
    "    \"\"\"\n",
    "    pass \n",
    "    first_letter = word[0]\n",
    "    pig_word = ''\n",
    "    if(check_first_letter(first_letter)):   #Using the boolean from check_first_letter, will either way to the end or\n",
    "        pig_word = word + 'way'              #put the first letter to the end and then add ay depending on vowel or consonant\n",
    "    else:\n",
    "        pig_word = word[1:len(word)] + first_letter + 'ay'\n",
    "    \n",
    "    print pig_word \n",
    "# If you'd like to actually run the doctests here, you can uncomment the lines below.\n",
    "# We use this slightly more complex method to test only the pig_latin function, without running tests on any other functions that may be in this notebook.\n",
    "\n",
    "pig_latin(\"software\")\n",
    "back_to_normal(\"oftwaresay\")\n",
    "import doctest\n",
    "doctest.run_docstring_examples(pig_latin, globals(),verbose=True) #This doctest thing in notebook is really jank."
   ]
  },
  {
   "cell_type": "code",
   "execution_count": 99,
   "metadata": {
    "collapsed": false
   },
   "outputs": [],
   "source": [
    "def pig_latin(word):\n",
    "    \"\"\"\n",
    "    Return given 'word' translated into Pig Latin\n",
    "    \n",
    "    >>> pig_latin(\"software\")\n",
    "    oftwaresay\n",
    "    \n",
    "    >>> pig_latin(\"eat\")\n",
    "    eatyay\n",
    "    \"\"\"\n",
    "    pass #TODO: Implement me\n",
    "    first_letter = word[0]\n",
    "    if first_letter in ('a','e','i','o','u'):\n",
    "        print word + 'yay'\n",
    "    else:\n",
    "        print word[1:] + word[0] + 'ay'\n",
    "\n",
    "def english(word):\n",
    "    \"\"\"\n",
    "    Return given 'word' translated into English\n",
    "    \n",
    "    >>> english(\"oftwaresay\")\n",
    "    software\n",
    "    \n",
    "    >>> english(\"eatyay\")\n",
    "    eat\n",
    "    \n",
    "    \"\"\"\n",
    "    old_word = word\n",
    "    new_word = old_word.replace('ay','')\n",
    "    \n",
    "    first_letter = len(new_word) - 1\n",
    "    if new_word[first_letter] == 'y':\n",
    "        print old_word.replace('yay','')\n",
    "    else:\n",
    "        print new_word[first_letter] + new_word[0:first_letter]\n",
    "\n",
    "import doctest\n",
    "doctest.run_docstring_examples(pig_latin, globals())\n",
    "doctest.run_docstring_examples(english, globals())"
   ]
  },
  {
   "cell_type": "code",
   "execution_count": 34,
   "metadata": {
    "collapsed": false
   },
   "outputs": [
    {
     "name": "stdout",
     "output_type": "stream",
     "text": [
      "op-stay is-thay onsense-nay\n",
      "stop this nonsense\n"
     ]
    }
   ],
   "source": [
    "def pig_word(word):\n",
    "    \"\"\"\n",
    "    Return given 'word' translated into Pig Latin\n",
    "    \n",
    "    >>> pig_word(\"software\")\n",
    "    'oftware-say'\n",
    "    \"\"\"\n",
    "    first_vowel = find_beginning(word)\n",
    "    if first_vowel != 0:\n",
    "        pl_word = word[first_vowel:] + '-' + word[:first_vowel] + 'ay'\n",
    "    else:\n",
    "        pl_word = word + '-way'\n",
    "    return pl_word\n",
    "\n",
    "def find_beginning(word):\n",
    "    \"\"\"\n",
    "    Figures out where the first vowel is\n",
    "    \"\"\"\n",
    "    vowel = 6\n",
    "    for x in 'aeiouy':\n",
    "        new_vowel = word.find(x)\n",
    "        if new_vowel < vowel and new_vowel >= 0:\n",
    "            vowel = new_vowel\n",
    "    return vowel\n",
    "\n",
    "def pig_latin(phrase1):\n",
    "    \"\"\"\n",
    "    Translates an entire phrase into pig latin\n",
    "    \n",
    "    >>> pig_latin(\"Stop this nonsense\")\n",
    "    'op-stay is-thay onsense-nay'\n",
    "    \"\"\"\n",
    "    new_list = []\n",
    "    phrase1 = phrase1.lower()\n",
    "    phrase = phrase1.split()\n",
    "    for x in range(len(phrase)):\n",
    "        new_list.append(pig_word(phrase[x]))\n",
    "    pl_phrase = ' '.join(new_list)\n",
    "    return pl_phrase\n",
    "        \n",
    "    \n",
    "def and_back_to_english_word(pl_word):\n",
    "    \"\"\"\n",
    "    Translates single words back to English from pig latin\n",
    "    \"\"\"\n",
    "    word_length = len(pl_word) # this is just useful to have tbh\n",
    "    dash_place = pl_word.find('-')\n",
    "    consonants = pl_word[dash_place + 1:-2]\n",
    "    translated_word = consonants + pl_word[:dash_place]\n",
    "    return translated_word\n",
    "\n",
    "def and_back_to_english(pl_phrase):\n",
    "    \"\"\"\n",
    "    Translates a whole phrase back to English\n",
    "    \"\"\"\n",
    "    new_list = []\n",
    "    phrase = pl_phrase.split()\n",
    "    for x in range(len(phrase)):\n",
    "        new_list.append(and_back_to_english_word(phrase[x]))\n",
    "    trans_phrase = ' '.join(new_list)\n",
    "    return trans_phrase\n",
    "    \n",
    "# If you'd like to actually run the doctests here, you can uncomment the \n",
    "#  lines below.\n",
    "# We use this slightly more complex method to test only the pig_latin \n",
    "#  function, without running tests on any other functions that may be in \n",
    "#  this notebook.\n",
    "import doctest\n",
    "doctest.run_docstring_examples(pig_latin, globals())\n",
    "pl_word = pig_latin('Stop this nonsense')\n",
    "print pl_word\n",
    "print and_back_to_english(pl_word)"
   ]
  },
  {
   "cell_type": "code",
   "execution_count": 12,
   "metadata": {
    "collapsed": false
   },
   "outputs": [
    {
     "name": "stdout",
     "output_type": "stream",
     "text": [
      "ananabay\n"
     ]
    }
   ],
   "source": [
    "def pig_latin(word):\n",
    "    \"\"\"\n",
    "    Return given 'word' translated into Pig Latin\n",
    "    \n",
    "    >>> pig_latin(\"software\")\n",
    "    'oftwaresay'\n",
    "    \"\"\"\n",
    "    vowels = ['a', 'e', 'i', 'o', 'u']\n",
    "    if word[0] in vowels:\n",
    "        return word + 'yay'\n",
    "    else:\n",
    "        return word[1:] + word[0] + 'ay'\n",
    "print pig_latin('banana')\n",
    "# If you'd like to actually run the doctests here, you can uncomment the lines below.\n",
    "# We use this slightly more complex method to test only the pig_latin function, without running tests on any other functions that may be in this notebook.\n",
    "# import doctest\n",
    "# doctest.run_docstring_examples(pig_latin, globals())"
   ]
  },
  {
   "cell_type": "code",
   "execution_count": 23,
   "metadata": {
    "collapsed": false
   },
   "outputs": [
    {
     "name": "stdout",
     "output_type": "stream",
     "text": [
      "ananabay\n",
      "omeletyay\n"
     ]
    }
   ],
   "source": [
    "def isVowel(char):\n",
    "    \"\"\" Returns true if the character (or first letter of a string) is a vowel. False otherwise.\"\"\"\n",
    "    \n",
    "    vowels = 'aeiouy'\n",
    "    for aVowel in vowels:\n",
    "        if char[0] == aVowel: \n",
    "            return True\n",
    "    return False\n",
    "\n",
    "def pig_latin(word):\n",
    "    \"\"\"\n",
    "    Return given 'word' translated into Pig Latin\n",
    "    \n",
    "    >>> pig_latin(\"software\")\n",
    "    'oftwaresay'\n",
    "    \"\"\"\n",
    "    if isVowel(word[0]):\n",
    "        return word+\"yay\"\n",
    "    else:\n",
    "        return word[1:]+word[0]+\"ay\"\n",
    "\n",
    "# If you'd like to actually run the doctests here, you can uncomment the lines below.\n",
    "# We use this slightly more complex method to test only the pig_latin function, without running tests on any other functions that may be in this notebook.\n",
    "import doctest\n",
    "doctest.run_docstring_examples(pig_latin, globals())\n",
    "\n",
    "print pig_latin('banana')\n",
    "print pig_latin('omelet')"
   ]
  },
  {
   "cell_type": "code",
   "execution_count": 16,
   "metadata": {
    "collapsed": false
   },
   "outputs": [
    {
     "name": "stdout",
     "output_type": "stream",
     "text": [
      "ay\n",
      "banana\n",
      "ay\n",
      "omelet\n"
     ]
    }
   ],
   "source": [
    "def rev_pigLatin(word):\n",
    "   \n",
    "    \"\"\"Reverse the pig latinery. This does not work if the original word finished with a y.\"\"\"\n",
    "    if word[len(word)-2:] != \"ay\": # All pig latin words end in ay, return empty str if the input doesn't\n",
    "\n",
    "        print \"Not pig Latin\"\n",
    "        return ''\n",
    "    if word[len(word)-3:] == \"yay\": # if vowel\n",
    "        return word[:len(word)-3]\n",
    "    else:\n",
    "        return word[len(word)-3]+word[:len(word)-3]\n",
    "\n",
    "print rev_pigLatin('ananabay')\n",
    "print rev_pigLatin('omeletyay')"
   ]
  },
  {
   "cell_type": "code",
   "execution_count": 12,
   "metadata": {
    "collapsed": false
   },
   "outputs": [
    {
     "name": "stdout",
     "output_type": "stream",
     "text": [
      "oftwaresay\n",
      "evinkay\n",
      "eatyay\n",
      "arrycay\n"
     ]
    }
   ],
   "source": [
    "def pig_latin(word):\n",
    "    \"\"\"\n",
    "    Return given 'word' translated into Pig Latin\n",
    "    \n",
    "    >>> pig_latin(\"software\")\n",
    "    'oftwaresay'\n",
    "    \"\"\"\n",
    "    if word[0] in 'aeiou':\n",
    "        return word + 'yay'\n",
    "    else:\n",
    "        before_vowel = '' #string containing words before vowel, will be appended through iterating through given string\n",
    "        index = 0\n",
    "        vowel_appeared = False #will be changed to true once vowel appears for the first time\n",
    "        while index < len(word) and not vowel_appeared:\n",
    "            if word[index] in 'aeiou':\n",
    "                vowel_appeared = True\n",
    "            else:\n",
    "                before_vowel += word[index]\n",
    "                index += 1\n",
    "        result = word[index:] + before_vowel + 'ay'\n",
    "        return result\n",
    "            \n",
    "    \n",
    "    #TODO: Implement me\n",
    "\n",
    "# If you'd like to actually run the doctests here, you can uncomment the lines below.\n",
    "# We use this slightly more complex method to test only the pig_latin function, without running tests on any other functions that may be in this notebook.\n",
    "import doctest\n",
    "doctest.run_docstring_examples(pig_latin, globals())\n",
    "\n",
    "print pig_latin('software')\n",
    "print pig_latin('kevin')\n",
    "print pig_latin('eat')\n",
    "print pig_latin('carry')"
   ]
  },
  {
   "cell_type": "code",
   "execution_count": 21,
   "metadata": {
    "collapsed": false
   },
   "outputs": [],
   "source": [
    "vowels = ['a','e','i','o','u','y']\n",
    "def pig_latin(word):\n",
    "    \"\"\"\n",
    "    Return given 'word' translated into Pig Latin\n",
    "    \n",
    "    >>> pig_latin(\"software\")\n",
    "    'oftwaresay'\n",
    "    >>> pig_latin(\"apple\")\n",
    "    'appleay'\n",
    "    \"\"\"\n",
    "\n",
    "    if any(word[0] in s for s in vowels):\n",
    "        return word+'ay'\n",
    "    else:\n",
    "        return word[1:len(word)]+word[0]+'ay'\n",
    "\n",
    "# If you'd like to actually run the doctests here, you can uncomment the lines below.\n",
    "# We use this slightly more complex method to test only the pig_latin function, without running tests on any other functions that may be in this notebook.\n",
    "import doctest\n",
    "doctest.run_docstring_examples(pig_latin, globals())"
   ]
  },
  {
   "cell_type": "code",
   "execution_count": 29,
   "metadata": {
    "collapsed": false
   },
   "outputs": [],
   "source": [
    "def to_english(word):\n",
    "    \"\"\"\n",
    "    Return given Pig Latin 'word' translated into English\n",
    "    \n",
    "    >>> to_english(\"appleay\")\n",
    "    'apple'\n",
    "    >>> to_english(\"oftwaresay\")\n",
    "    'software'\n",
    "    \"\"\"\n",
    "    if any(word[len(word)-3] in s for s in vowels):\n",
    "        return word[0:len(word)-2]\n",
    "    else:\n",
    "        return word[len(word)-3]+word[0:len(word)-3]\n",
    "    \n",
    "doctest.run_docstring_examples(to_english, globals())"
   ]
  },
  {
   "cell_type": "code",
   "execution_count": 7,
   "metadata": {
    "collapsed": false
   },
   "outputs": [
    {
     "name": "stdout",
     "output_type": "stream",
     "text": [
      "ellohay\n"
     ]
    }
   ],
   "source": [
    "def pig_latin(word):\n",
    "    \"\"\"\n",
    "    Return given 'word' translated into Pig Latin\n",
    "    \n",
    "    >>> pig_latin(\"software\")\n",
    "    'oftwaresay'\n",
    "    \"\"\"\n",
    "    newEnd = word[0] + 'ay'\n",
    "    temp = word[1:]\n",
    "    return temp+newEnd\n",
    "# If you'd like to actually run the doctests here, you can uncomment the lines below.\n",
    "# We use this slightly more complex method to test only the pig_latin function, without running tests on any other functions that may be in this notebook.\n",
    "print pig_latin('hello')\n",
    "\n",
    "import doctest\n",
    "doctest.run_docstring_examples(pig_latin, globals())"
   ]
  },
  {
   "cell_type": "code",
   "execution_count": 13,
   "metadata": {
    "collapsed": false
   },
   "outputs": [
    {
     "name": "stdout",
     "output_type": "stream",
     "text": [
      "hello\n"
     ]
    }
   ],
   "source": [
    "def back_to_english(word):\n",
    "    \"\"\"\n",
    "    Return given Ppig Latin word turned back to English!!!!!!!!!!!!!!!!!!!!!!!!!!!!!!!!!!!!!!!!!!!!!!!!!!!!!\n",
    "    \n",
    "    >>> back_to_english('ellohay')\n",
    "    'hello'\n",
    "    \"\"\"\n",
    "    start = word[len(word)-3]\n",
    "    english = start + word[:len(word)-3]\n",
    "    return english\n",
    "print back_to_english('ellohay')\n",
    "import doctest\n",
    "doctest.run_docstring_examples(back_to_english, globals())"
   ]
  },
  {
   "cell_type": "code",
   "execution_count": 82,
   "metadata": {
    "collapsed": false
   },
   "outputs": [
    {
     "name": "stdout",
     "output_type": "stream",
     "text": [
      "elloHay\n"
     ]
    }
   ],
   "source": [
    "def pig_latin(word):\n",
    "    new_word = word[1:]+ word[0] +'ay'\n",
    "    print new_word\n",
    "\n",
    "pig_latin('Hello')\n",
    "\n",
    "# If you'd like to actually run the doctests here, you can uncomment the lines below.\n",
    "# We use this slightly more complex method to test only the pig_latin function, without running tests on any other functions that may be in this notebook.\n",
    "import doctest\n",
    "doctest.run_docstring_examples(pig_latin, globals())"
   ]
  },
  {
   "cell_type": "code",
   "execution_count": 91,
   "metadata": {
    "collapsed": false
   },
   "outputs": [],
   "source": [
    "def pig_latin(word):\n",
    "    \"\"\"\n",
    "    Return given 'word' translated into Pig Latin\n",
    "    \n",
    "    >>> pig_latin(\"software\")\n",
    "    'oftwaresay'\n",
    "    \"\"\"\n",
    "    new_word = word[1:] + word[0] + 'ay'\n",
    "    return new_word\n",
    "    \n",
    "    pass #TODO: Implement me\n",
    "\n",
    "#pig_latin('software')\n",
    "\n",
    "\n",
    "# If you'd like to actually run the doctests here, you can uncomment the lines below.\n",
    "# We use this slightly more complex method to test only the pig_latin function, without running tests on any other functions that may be in this notebook.\n",
    "import doctest\n",
    "doctest.run_docstring_examples(pig_latin, globals())"
   ]
  },
  {
   "cell_type": "code",
   "execution_count": 10,
   "metadata": {
    "collapsed": false
   },
   "outputs": [],
   "source": [
    "def pig_latin(word):\n",
    "    \"\"\"\n",
    "    Return given 'word' translated into Pig Latin\n",
    "    \n",
    "    >>> pig_latin(\"software\")\n",
    "    'oftwaresay'\n",
    "    >>> pig_latin(\"animal\")\n",
    "    'animalsay'\n",
    "    \"\"\"\n",
    "    word = word.lower()\n",
    "    first_chara = word[0]\n",
    "    if first_chara in 'aeiou':\n",
    "        piglatin = word + 'ay'\n",
    "    else:\n",
    "        piglatin = word[1:] + first_chara + 'ay'\n",
    "        return piglatin\n",
    "    pass \n",
    "\n",
    "\n",
    "\n",
    "# If you'd like to actually run the doctests here, you can uncomment the lines below.\n",
    "# We use this slightly more complex method to test only the pig_latin function, without running tests on any other functions that may be in this notebook.\n",
    "#import doctest\n",
    "#doctest.run_docstring_examples(pig_latin, globals())"
   ]
  },
  {
   "cell_type": "code",
   "execution_count": 143,
   "metadata": {
    "collapsed": false
   },
   "outputs": [
    {
     "data": {
      "text/plain": [
       "'oftwaresay'"
      ]
     },
     "execution_count": 143,
     "metadata": {},
     "output_type": "execute_result"
    }
   ],
   "source": [
    "def pig_latin(word):\n",
    "    \"\"\"\n",
    "    Return given 'word' translated into Pig Latin\n",
    "    >>> pig_latin(\"software\")\n",
    "    'oftwaresay'\n",
    "    \"\"\"\n",
    "    if word[0] == 'a' or word[0]=='e' or word[0]=='i' or word[0]=='o' or word[0]=='u':\n",
    "        pig_word = word + 'yay' # Just adds \"yay\" to end\n",
    "    else:        \n",
    "        pig_word = word[1:len(word)] + word[0] + 'ay' #Removes first letter, adds it to end, then adds \"ay\"\n",
    "    return pig_word\n",
    "\n",
    "#note: Doesn't take into account capitalization\n",
    "\n",
    "pig_latin('software')\n",
    "    \n",
    "\n",
    "# If you'd like to actually run the doctests here, you can uncomment the lines below.\n",
    "# We use this slightly more complex method to test only the pig_latin function, without running tests on any other functions that may be in this notebook.\n",
    "#import doctest\n",
    "#doctest.run_docstring_examples(pig_latin, globals())"
   ]
  },
  {
   "cell_type": "code",
   "execution_count": 12,
   "metadata": {
    "collapsed": false
   },
   "outputs": [
    {
     "name": "stdout",
     "output_type": "stream",
     "text": [
      "software\n"
     ]
    }
   ],
   "source": [
    "def pig_latin(word):\n",
    "    \"\"\"\n",
    "    Return given 'word' translated into Pig Latin\n",
    "    \n",
    "    >>> pig_latin(\"software\")\n",
    "    'oftwaresay'\n",
    "    >>> pig_latin(\"element\")\n",
    "    'elementyay'\n",
    "    >>> pig_latin(\"after\")\n",
    "    'afteryay'\n",
    "    >>> pig_latin(\"in\")\n",
    "    'inyay'\n",
    "    \"\"\"\n",
    "    vowels = ['a','e','i','o','u','y']\n",
    "    if word[0] in vowels:\n",
    "        word += 'yay'\n",
    "    else:\n",
    "        word += word[0] + \"ay\"\n",
    "        word = word[1:]\n",
    "    return word\n",
    "\n",
    "def pig_latin_to_english(word):\n",
    "    \"\"\"\n",
    "    Return given 'word' translated from Pig Latin into English\n",
    "    \n",
    "    >>> pig_latin_to_english(\"oftwaresay\")\n",
    "    'software'\n",
    "    >>> pig_latin_to_english(\"elementyay\")\n",
    "    'element'\n",
    "    \"\"\"\n",
    "    if word[-3:] == 'yay':\n",
    "        word = word [:-3]\n",
    "    else:\n",
    "        word = word [:-2]\n",
    "        word = word[-1] + word\n",
    "        word = word[:-1]\n",
    "    return word\n",
    "    \n",
    "\n",
    "# If you'd like to actually run the doctests here, you can uncomment the lines below.\n",
    "# We use this slightly more complex method to test only the pig_latin function, without running tests on any other functions that may be in this notebook.\n",
    "import doctest\n",
    "doctest.run_docstring_examples(pig_latin, globals())\n",
    "doctest.run_docstring_examples(pig_latin_to_english, globals())"
   ]
  },
  {
   "cell_type": "code",
   "execution_count": 8,
   "metadata": {
    "collapsed": false
   },
   "outputs": [
    {
     "name": "stdout",
     "output_type": "stream",
     "text": [
      "'ellohay orldway'\n",
      "'ellohay orldway'\n",
      "I don't understand\n"
     ]
    }
   ],
   "source": [
    "def pig_latin(word):\n",
    "    \"\"\"\n",
    "    Return given 'word' translated into Pig Latin\n",
    "    \n",
    "    >>> pig_latin(\"software\")\n",
    "    'oftwaresay'\n",
    "    \"\"\"\n",
    "    pyg = \"ay\"\n",
    "    if \" \" in word and len(word) > 0:\n",
    "        index = word.find(' ')\n",
    "        first = word[0]\n",
    "        second = word[index + 1]\n",
    "        new_thing = word[1:index] + first + pyg + \" \" + word[index+2:len(word)] + second + pyg\n",
    "        print \"'\" + new_thing.lower() + \"'\"\n",
    "\n",
    "    elif len(word) > 0:\n",
    "        first = word[0]\n",
    "        new_thing = word[1:len(word)] + first + pyg \n",
    "        print \"'\" + new_thing.lower() + \"'\"\n",
    "    else:\n",
    "        print \"I don't understand\"\n",
    "    \n",
    "pig_latin(\"HELLO WORLD\")\n",
    "pig_latin(\"hello world\")\n",
    "pig_latin(\"\")\n",
    "pass #TODO: Implement me\n",
    "\n",
    "# If you'd like to actually run the doctests here, you can uncomment the lines below.\n",
    "# We use this slightly more complex method to test only the pig_latin function, without running tests on any other functions that may be in this notebook.\n",
    "import doctest\n",
    "doctest.run_docstring_examples(pig_latin, globals())"
   ]
  },
  {
   "cell_type": "code",
   "execution_count": 42,
   "metadata": {
    "collapsed": false
   },
   "outputs": [
    {
     "name": "stdout",
     "output_type": "stream",
     "text": [
      "'hello'\n",
      "'hello world'\n",
      "'reading journal'\n"
     ]
    }
   ],
   "source": [
    "def english(word):\n",
    "    \n",
    "    if \" \" in word and len(word) > 0:\n",
    "        word = word.lower()\n",
    "        index = word.find(' ')\n",
    "        pyg1 = word.find(\"ay\")\n",
    "        pyg2 = word.find(\"ay\",len(word)-2)\n",
    "        first = word[pyg1-1]\n",
    "        second = word[pyg2-1]\n",
    "        \n",
    "        new_thing = first + word[0: index-3] + \" \" + second + word[index+1:pyg2-1]\n",
    "        print \"'\" + new_thing.lower() + \"'\"\n",
    "        \n",
    "    elif len(word) > 0:\n",
    "        pyg = word.find(\"ay\")\n",
    "        first = word[pyg-1]\n",
    "        new_thing = first + word[0: pyg-1] \n",
    "        print \"'\" + new_thing.lower() + \"'\"\n",
    "    \n",
    "    else:\n",
    "        print \"I don't understand\"\n",
    "    \n",
    "    \n",
    "english(\"ellohay\")\n",
    "english(\"ELLOHAY ORLDWAY\")\n",
    "english(\"EADINGRAY OURNALJAY\")"
   ]
  },
  {
   "cell_type": "code",
   "execution_count": 15,
   "metadata": {
    "collapsed": false
   },
   "outputs": [
    {
     "name": "stdout",
     "output_type": "stream",
     "text": [
      "implesay\n",
      "simple\n",
      "oblongyay\n",
      "oblong\n"
     ]
    }
   ],
   "source": [
    "def pig_latin(word):\n",
    "    \"\"\"\n",
    "    Return given 'word' translated into Pig Latin\n",
    "    \n",
    "    >>> pig_latin(\"software\")\n",
    "    'oftwaresay'\n",
    "    \"\"\"\n",
    "    if(word[0] in 'bcdfghjklmnpqrstvwxyz'):\n",
    "        pig = word[1:] + word[0] + 'ay'\n",
    "    else:\n",
    "        pig = word + 'yay'\n",
    "    return pig\n",
    "def reversePig(word):\n",
    "    if(word[len(word)-3] in 'bcdfghjklmnpqrstvwxz'):\n",
    "        pig = word[len(word)-3] + word[:len(word)-3]\n",
    "    else:\n",
    "        pig = word[:len(word)-3]\n",
    "    return pig\n",
    "#Reverse works for all words that did not originally begin with a y, otherwise requires a dictionary to define set of actual words\n",
    "#bruh\n",
    "import doctest\n",
    "doctest.run_docstring_examples(pig_latin, globals())\n",
    "print(pig_latin('simple'))\n",
    "print(reversePig(pig_latin('simple')))\n",
    "print(pig_latin('oblong'))\n",
    "print(reversePig(pig_latin('oblong')))"
   ]
  },
  {
   "cell_type": "code",
   "execution_count": 27,
   "metadata": {
    "collapsed": false
   },
   "outputs": [
    {
     "name": "stdout",
     "output_type": "stream",
     "text": [
      "Onay ifelay, onlyway oatsbay ownay.\n"
     ]
    }
   ],
   "source": [
    "def pig_word(entered_word):\n",
    "    \"\"\"\n",
    "    Return given 'word' translated into Pig Latin\n",
    "    \n",
    "    >>> pig_latin(\"boats\")\n",
    "    'oatsbay'\n",
    "    \"\"\"\n",
    "    vowels = ['a','e','i','o','u']\n",
    "    punctuation = ['.',',','?','!']\n",
    "    punc = ''\n",
    "    \n",
    "    word = entered_word.lower()\n",
    "    \n",
    "    if word[-1] in punctuation:\n",
    "        punc = word[-1]\n",
    "        word = word[:-1]\n",
    "    \n",
    "    if len(word) < 2 or word[0] in vowels:\n",
    "        return word + 'way' + punc\n",
    "    elif word[1] not in vowels and word[2] not in vowels:\n",
    "        return word[3:] + word[0:3] + 'ay' + punc\n",
    "    elif word[1] not in vowels:\n",
    "        return word[2:] + word[0:2] + 'ay' + punc\n",
    "    \n",
    "    return word[1:] + word[0] + 'ay' + punc\n",
    "\n",
    "def pig_latin(sentence):\n",
    "    \"\"\"\n",
    "    Return given sentence translated into Pig Latin\n",
    "    \n",
    "    >>> pig_latin(\"It floats, but does it boats?\")\n",
    "    'Itway oatsflay, utbay oesday itway oatsbay?'\n",
    "    \"\"\"\n",
    "    words = sentence.split()\n",
    "    output = ''\n",
    "    for word in words:\n",
    "        output += pig_word(word) + ' '\n",
    "    output = output[0].upper() + output[1:-1]\n",
    "    return output\n",
    "\n",
    "print pig_latin('No life, only boats now.')\n",
    "# If you'd like to actually run the doctests here, you can uncomment the lines below.\n",
    "# We use this slightly more complex method to test only the pig_latin function,\n",
    "# without running tests on any other functions that may be in this notebook.\n",
    "import doctest\n",
    "doctest.run_docstring_examples(pig_latin, globals())"
   ]
  },
  {
   "cell_type": "code",
   "execution_count": 29,
   "metadata": {
    "collapsed": false
   },
   "outputs": [
    {
     "name": "stdout",
     "output_type": "stream",
     "text": [
      "oftwaresay\n",
      "None\n"
     ]
    }
   ],
   "source": [
    "def pig_latin(word):\n",
    "\tpyg = 'ay'\n",
    "\n",
    "\tif len(word) > 0 and word.isalpha():\n",
    "\t\tterm = word.lower()\n",
    "\t\tfirst = term[0]\n",
    "\t\tnew_word = term + first + pyg\n",
    "\t\tnew_word = new_word[1:]\n",
    "\t\tprint new_word\n",
    "\telse:\n",
    "\t\tprint \"Try again!\"\n",
    "\n",
    "print pig_latin(\"software\")"
   ]
  },
  {
   "cell_type": "code",
   "execution_count": 20,
   "metadata": {
    "collapsed": false
   },
   "outputs": [],
   "source": [
    "def pig_latin(word):\n",
    "    \"\"\"\n",
    "    Return given 'word' translated into Pig Latin\n",
    "    \n",
    "    >>> pig_latin(\"software\")\n",
    "    'oftwaresay'\n",
    "    \"\"\"\n",
    "    index = 0\n",
    "    vowels = ['a','e','i','o','u','A','E','I','O','U']\n",
    "    while not word[index] in vowels:\n",
    "        index +=1\n",
    "    if index == 0:\n",
    "        return word+'yay'\n",
    "    else:\n",
    "        return word[index:]+word[0:index]+'ay'\n",
    "\n",
    "# If you'd like to actually run the doctests here, you can uncomment the lines below.\n",
    "# We use this slightly more complex method to test only the pig_latin function, without running tests on any other functions that may be in this notebook.\n",
    "import doctest\n",
    "doctest.run_docstring_examples(pig_latin, globals())"
   ]
  },
  {
   "cell_type": "code",
   "execution_count": 39,
   "metadata": {
    "collapsed": false
   },
   "outputs": [
    {
     "name": "stdout",
     "output_type": "stream",
     "text": [
      "ppleaay\n"
     ]
    }
   ],
   "source": [
    "def pig_latin(word):\n",
    "    \"\"\"\n",
    "    Return given 'word' translated into Pig Latin\n",
    "    \n",
    "    >>> pig_latin(\"software\")\n",
    "    'oftwaresay'\n",
    "    \"\"\"\n",
    "    return word[1:len(word)] + word[0] + \"ay\"\n",
    "\n",
    "print pig_latin(\"apple\")\n",
    "# If you'd like to actually run the doctests here, you can uncomment the lines below.\n",
    "# We use this slightly more complex method to test only the pig_latin function, without running tests on any other functions that may be in this notebook.\n",
    "#import doctest\n",
    "#doctest.run_docstring_examples(pig_latin, globals())"
   ]
  },
  {
   "cell_type": "code",
   "execution_count": 8,
   "metadata": {
    "collapsed": false
   },
   "outputs": [
    {
     "name": "stdout",
     "output_type": "stream",
     "text": [
      "oftwaresay\n",
      "software\n"
     ]
    }
   ],
   "source": [
    "def pig_latin(word):\n",
    "    letterStore = []\n",
    "    for i in xrange(0,len(word)):\n",
    "        letterStore.append(word[i])\n",
    "    letterStore.append(letterStore[0]+\"ay\")\n",
    "    return \"\".join(letterStore[1:])\n",
    "        \n",
    "print pig_latin(\"software\")\n",
    "\n",
    "def reverse_pig_latin(word):\n",
    "    letterStore = []\n",
    "    for i in xrange(0,len(word)-2):\n",
    "        letterStore.append(word[i])\n",
    "    return letterStore[len(letterStore)-1] + \"\".join(letterStore[:len(letterStore)-1])\n",
    "\n",
    "print reverse_pig_latin(\"oftwaresay\")\n"
   ]
  },
  {
   "cell_type": "markdown",
   "metadata": {},
   "source": [
    "### Exercise 5\n",
    "Encapsulate the character counting code in a fruitful function named `count` that accepts the string and the letter as arguments and returns the count."
   ]
  },
  {
   "cell_type": "code",
   "execution_count": 46,
   "metadata": {
    "collapsed": false
   },
   "outputs": [
    {
     "name": "stdout",
     "output_type": "stream",
     "text": [
      "2\n",
      "3\n"
     ]
    }
   ],
   "source": [
    "def count(string,letter):\n",
    "    count = 0\n",
    "    for x in string:\n",
    "        if x==letter:\n",
    "            count = count+1\n",
    "    print count\n",
    "count('hello','l')\n",
    "count('this is a test','t')"
   ]
  },
  {
   "cell_type": "code",
   "execution_count": 41,
   "metadata": {
    "collapsed": true
   },
   "outputs": [],
   "source": [
    "def char_count(word, char):\n",
    "    \"\"\"\n",
    "    >>> char_count('hello', 'l')\n",
    "    2\n",
    "    >>> char_count('software', 'c')\n",
    "    0\n",
    "    \"\"\"\n",
    "    count = 0\n",
    "    for c in word:\n",
    "        if c == char:\n",
    "            count += 1\n",
    "    return count\n",
    "import doctest\n",
    "doctest.run_docstring_examples(char_count, globals())"
   ]
  },
  {
   "cell_type": "code",
   "execution_count": 4,
   "metadata": {
    "collapsed": false
   },
   "outputs": [
    {
     "data": {
      "text/plain": [
       "3"
      ]
     },
     "execution_count": 4,
     "metadata": {},
     "output_type": "execute_result"
    }
   ],
   "source": [
    "def count(s, l):\n",
    "    i = 0\n",
    "    for letter in s:\n",
    "        if letter == l:\n",
    "            i = i + 1\n",
    "    return i\n",
    "\n",
    "count('banana', 'a')"
   ]
  },
  {
   "cell_type": "code",
   "execution_count": 160,
   "metadata": {
    "collapsed": false
   },
   "outputs": [
    {
     "data": {
      "text/plain": [
       "3"
      ]
     },
     "execution_count": 160,
     "metadata": {},
     "output_type": "execute_result"
    }
   ],
   "source": [
    "def count(string,letter):\n",
    "    count = 0\n",
    "    for i in string:\n",
    "        if i == letter:\n",
    "            count += 1\n",
    "    return count\n",
    "\n",
    "count('banana','a')"
   ]
  },
  {
   "cell_type": "code",
   "execution_count": 11,
   "metadata": {
    "collapsed": false
   },
   "outputs": [
    {
     "name": "stdout",
     "output_type": "stream",
     "text": [
      "2\n"
     ]
    }
   ],
   "source": [
    "def count(word, letter):\n",
    "    count = 0\n",
    "    for character in word:\n",
    "        if character == letter:\n",
    "            count = count + 1\n",
    "    print count\n",
    "    \n",
    "count('February', 'r')"
   ]
  },
  {
   "cell_type": "code",
   "execution_count": 10,
   "metadata": {
    "collapsed": false
   },
   "outputs": [
    {
     "data": {
      "text/plain": [
       "3"
      ]
     },
     "execution_count": 10,
     "metadata": {},
     "output_type": "execute_result"
    }
   ],
   "source": [
    "def count(string, letter):\n",
    "    count = 0\n",
    "    for char in string:\n",
    "        if char == letter:\n",
    "            count += 1\n",
    "    return count\n",
    "\n",
    "count('banana','a')"
   ]
  },
  {
   "cell_type": "code",
   "execution_count": 10,
   "metadata": {
    "collapsed": false
   },
   "outputs": [
    {
     "name": "stdout",
     "output_type": "stream",
     "text": [
      "3\n"
     ]
    }
   ],
   "source": [
    "#counts instances of a letter within a word\n",
    "#takes in two strings, a word string of arbitrary len and a letter string of len 1\n",
    "def count(word, letter): \n",
    "    count = 0\n",
    "    for index in word:\n",
    "        if index == letter:\n",
    "            count = count + 1\n",
    "    print count\n",
    "    \n",
    "count('banana', 'a')"
   ]
  },
  {
   "cell_type": "code",
   "execution_count": 9,
   "metadata": {
    "collapsed": false
   },
   "outputs": [
    {
     "name": "stdout",
     "output_type": "stream",
     "text": [
      "4\n"
     ]
    }
   ],
   "source": [
    "\n",
    "def count(string, letter):\n",
    "    count = 0\n",
    "    for i in range(len(string)):\n",
    "        if string[i] == letter:\n",
    "            count += 1\n",
    "    return count\n",
    "            \n",
    "print count('alabama','a')"
   ]
  },
  {
   "cell_type": "code",
   "execution_count": 33,
   "metadata": {
    "collapsed": false
   },
   "outputs": [
    {
     "data": {
      "text/plain": [
       "2"
      ]
     },
     "execution_count": 33,
     "metadata": {},
     "output_type": "execute_result"
    }
   ],
   "source": [
    "def count(string,target):\n",
    "    \"\"\"\n",
    "    count the number of the target letter in the string\n",
    "    \n",
    "    >>>count(\"abc\",\"a\")\n",
    "    1\n",
    "    \n",
    "    \"\"\"\n",
    "    count = 0\n",
    "    \n",
    "    for letter in string:\n",
    "        if letter == target:\n",
    "            count = count + 1\n",
    "        \n",
    "    return count\n",
    "\n",
    "count(\"Hello, world\",\"o\")"
   ]
  },
  {
   "cell_type": "code",
   "execution_count": 5,
   "metadata": {
    "collapsed": false
   },
   "outputs": [
    {
     "name": "stdout",
     "output_type": "stream",
     "text": [
      "3\n"
     ]
    }
   ],
   "source": [
    "def count(string,le):\n",
    "    count=0\n",
    "    for letter in string:\n",
    "        if letter == le:\n",
    "            count=count+1\n",
    "    print count\n",
    "        \n",
    "count('banana','a')"
   ]
  },
  {
   "cell_type": "code",
   "execution_count": 3,
   "metadata": {
    "collapsed": false
   },
   "outputs": [
    {
     "name": "stdout",
     "output_type": "stream",
     "text": [
      "input word: supercalifragilisticexpialidocious\n",
      "input letter to count: i\n",
      "7\n"
     ]
    }
   ],
   "source": [
    "word = raw_input('input word: ')             #inputting word into the function\n",
    "let = raw_input('input letter to count: ')   #inputting letter to count\n",
    "\n",
    "def count(letter, word):\n",
    "    counting = 0\n",
    "    for letter in word:\n",
    "        if letter == let:                   #let is defined as a string that is inputted above\n",
    "            counting = counting + 1         #takes previous number and adds 1\n",
    "    print counting\n",
    "\n",
    "count(let, word)"
   ]
  },
  {
   "cell_type": "code",
   "execution_count": 19,
   "metadata": {
    "collapsed": false
   },
   "outputs": [
    {
     "data": {
      "text/plain": [
       "3"
      ]
     },
     "execution_count": 19,
     "metadata": {},
     "output_type": "execute_result"
    }
   ],
   "source": [
    "def count(word, letter):\n",
    "    count = 0\n",
    "    for c in word:\n",
    "        if c == letter:\n",
    "            count += 1\n",
    "    return count\n",
    "\n",
    "count('banana', 'a')\n"
   ]
  },
  {
   "cell_type": "code",
   "execution_count": 4,
   "metadata": {
    "collapsed": false
   },
   "outputs": [
    {
     "name": "stdout",
     "output_type": "stream",
     "text": [
      "3\n"
     ]
    }
   ],
   "source": [
    "def count(s,c):\n",
    "    index = 0\n",
    "    count = 0\n",
    "    while index < len(s):\n",
    "        if s[index] == c:\n",
    "            count = count + 1\n",
    "        index = index + 1\n",
    "    print count\n",
    "\n",
    "count('banana','a')"
   ]
  },
  {
   "cell_type": "code",
   "execution_count": 14,
   "metadata": {
    "collapsed": false
   },
   "outputs": [
    {
     "data": {
      "text/plain": [
       "2"
      ]
     },
     "execution_count": 14,
     "metadata": {},
     "output_type": "execute_result"
    }
   ],
   "source": [
    "def char_count(s, char):\n",
    "    count = 0\n",
    "    for i in s:\n",
    "        if i == char:\n",
    "            count += 1\n",
    "    return count\n",
    "\n",
    "char_count('hello', 'l')"
   ]
  },
  {
   "cell_type": "code",
   "execution_count": 123,
   "metadata": {
    "collapsed": false
   },
   "outputs": [
    {
     "data": {
      "text/plain": [
       "4"
      ]
     },
     "execution_count": 123,
     "metadata": {},
     "output_type": "execute_result"
    }
   ],
   "source": [
    "def count(words, letter):\n",
    "    count=0                       #0 of the letter you are looking for\n",
    "    i=0                           #starting at the first letter\n",
    "    characters=len(words)-1\n",
    "    while i< characters :         #for the entire string\n",
    "        if words[i]== letter:\n",
    "            count= count+1       #found the letter!\n",
    "        i= i+1                   #check the next one\n",
    "    return count\n",
    "\n",
    "count('Do spaces count as characters?', ' ')"
   ]
  },
  {
   "cell_type": "code",
   "execution_count": 13,
   "metadata": {
    "collapsed": false
   },
   "outputs": [
    {
     "data": {
      "text/plain": [
       "0"
      ]
     },
     "execution_count": 13,
     "metadata": {},
     "output_type": "execute_result"
    }
   ],
   "source": [
    "def count(word,letter):\n",
    "    count = 0\n",
    "    for char in word:\n",
    "        if char == letter:\n",
    "            count = count + 1\n",
    "    return count\n",
    "\n",
    "count('indispensable','u')"
   ]
  },
  {
   "cell_type": "code",
   "execution_count": 11,
   "metadata": {
    "collapsed": false
   },
   "outputs": [
    {
     "data": {
      "text/plain": [
       "4"
      ]
     },
     "execution_count": 11,
     "metadata": {},
     "output_type": "execute_result"
    }
   ],
   "source": [
    "def count(string,letter):\n",
    "    count = []\n",
    "    for character in string:\n",
    "        \n",
    "        if character == letter:\n",
    "            count.append(character)\n",
    "    return len(count)\n",
    "count('HAPPYLOLIPOP','P')"
   ]
  },
  {
   "cell_type": "code",
   "execution_count": 20,
   "metadata": {
    "collapsed": false
   },
   "outputs": [
    {
     "data": {
      "text/plain": [
       "2"
      ]
     },
     "execution_count": 20,
     "metadata": {},
     "output_type": "execute_result"
    }
   ],
   "source": [
    "def count(word,letter):\n",
    "    count = 0\n",
    "    for char in word:\n",
    "        if char == letter:\n",
    "            count = count + 1\n",
    "    return count\n",
    "\n",
    "count('mama','a')"
   ]
  },
  {
   "cell_type": "code",
   "execution_count": 11,
   "metadata": {
    "collapsed": false
   },
   "outputs": [
    {
     "name": "stdout",
     "output_type": "stream",
     "text": [
      "3\n",
      "0\n",
      "0\n"
     ]
    }
   ],
   "source": [
    "def count(word,letter):\n",
    "    instances=0\n",
    "    for char in word:\n",
    "        if char==letter:\n",
    "            instances=instances+1\n",
    "    return instances\n",
    "\n",
    "print count('twelfthnight','t')\n",
    "print count('softdes','y')\n",
    "print count('twelfthnight','th')"
   ]
  },
  {
   "cell_type": "code",
   "execution_count": 25,
   "metadata": {
    "collapsed": false
   },
   "outputs": [
    {
     "data": {
      "text/plain": [
       "5"
      ]
     },
     "execution_count": 25,
     "metadata": {},
     "output_type": "execute_result"
    }
   ],
   "source": [
    "\n",
    "def count(letter, word):\n",
    "    count = 0\n",
    "    for char in word:\n",
    "        if char == letter:\n",
    "            count = count + 1\n",
    "    return count\n",
    "\n",
    "count('l', 'lalalalala')"
   ]
  },
  {
   "cell_type": "code",
   "execution_count": 2,
   "metadata": {
    "collapsed": true
   },
   "outputs": [],
   "source": [
    "def counter(string):\n",
    "    count = 0\n",
    "    for letter in string:\n",
    "        if letter == 'a':\n",
    "            count = count + 1\n",
    "    if count == 0:\n",
    "        print 'Nice try'\n",
    "    return count"
   ]
  },
  {
   "cell_type": "code",
   "execution_count": 25,
   "metadata": {
    "collapsed": false
   },
   "outputs": [
    {
     "name": "stdout",
     "output_type": "stream",
     "text": [
      "3\n",
      "3\n",
      "1\n",
      "4\n",
      "2\n"
     ]
    }
   ],
   "source": [
    "def count(string, letter): \n",
    "    count = 0\n",
    "    string = string.lower() #now uppercase letters can be counted \n",
    "    for character in string:\n",
    "        if character == letter:\n",
    "            count += 1\n",
    "    print count\n",
    "        \n",
    "count('Ariana', 'a')\n",
    "count('ariana', 'a')\n",
    "count('123', '1')\n",
    "count('@#$%%%%', '%')"
   ]
  },
  {
   "cell_type": "code",
   "execution_count": 30,
   "metadata": {
    "collapsed": false
   },
   "outputs": [
    {
     "name": "stdout",
     "output_type": "stream",
     "text": [
      "10\n"
     ]
    }
   ],
   "source": [
    "def count (word, letter):\n",
    "    counter = 0\n",
    "    index = 0\n",
    "    while index < (len(word)):\n",
    "        let = word[index]\n",
    "        if let == letter:\n",
    "            counter = counter + 1\n",
    "        index = index + 1\n",
    "    print counter\n",
    "    \n",
    "count ('khaaaaaaaaaan', 'a')"
   ]
  },
  {
   "cell_type": "code",
   "execution_count": 29,
   "metadata": {
    "collapsed": false
   },
   "outputs": [
    {
     "name": "stdout",
     "output_type": "stream",
     "text": [
      "Your word has 2 c's\n"
     ]
    }
   ],
   "source": [
    "def count(string,letter):\n",
    "    count = 0\n",
    "    for stuff in string:\n",
    "        if(stuff == letter):\n",
    "            count = count +1\n",
    "    print \"Your word has \" + str(count) + \" \" + letter + \"'s\"       \n",
    "\n",
    "count(\"chicken\", \"c\")"
   ]
  },
  {
   "cell_type": "code",
   "execution_count": 3,
   "metadata": {
    "collapsed": false
   },
   "outputs": [
    {
     "data": {
      "text/plain": [
       "3"
      ]
     },
     "execution_count": 3,
     "metadata": {},
     "output_type": "execute_result"
    }
   ],
   "source": [
    "def count(string, letter):\n",
    "    count = 0\n",
    "    for character in string:\n",
    "        if character == letter:\n",
    "            count = count + 1\n",
    "    return count\n",
    "\n",
    "count('banana', 'a')"
   ]
  },
  {
   "cell_type": "code",
   "execution_count": 13,
   "metadata": {
    "collapsed": false
   },
   "outputs": [
    {
     "data": {
      "text/plain": [
       "1"
      ]
     },
     "execution_count": 13,
     "metadata": {},
     "output_type": "execute_result"
    }
   ],
   "source": [
    "def count(w,l):\n",
    "    return w.find(l)\n",
    "\n",
    "count('John', 'o')\n",
    "    "
   ]
  },
  {
   "cell_type": "code",
   "execution_count": 66,
   "metadata": {
    "collapsed": true
   },
   "outputs": [],
   "source": [
    "\"\"\"\n",
    "Counts the number of times a letter appears in the string\n",
    "\n",
    ">>> count('banana', a)\n",
    "3\n",
    "\n",
    ">>>count('mississippi',s)\n",
    "4\n",
    "\n",
    "\"\"\"\n",
    "\n",
    "def count(word,character):\n",
    "    counting = 0\n",
    "    for letter in word:\n",
    "        if letter == character:\n",
    "            counting = counting + 1\n",
    "    print count\n",
    "import doctest\n",
    "doctest.run_docstring_examples(count, globals())"
   ]
  },
  {
   "cell_type": "code",
   "execution_count": 10,
   "metadata": {
    "collapsed": false
   },
   "outputs": [
    {
     "data": {
      "text/plain": [
       "7"
      ]
     },
     "execution_count": 10,
     "metadata": {},
     "output_type": "execute_result"
    }
   ],
   "source": [
    "def count(word,letter):\n",
    "    \"\"\"\n",
    "    Takes a word and a letter to search for, then returns the number of\n",
    "    times that letter appears\n",
    "    \"\"\"\n",
    "    count = 0\n",
    "    for x in word:\n",
    "        if x == letter:\n",
    "            count += 1\n",
    "    return count\n",
    "\n",
    "count('supercalifragilisticexpialidocious', 'i')"
   ]
  },
  {
   "cell_type": "code",
   "execution_count": null,
   "metadata": {
    "collapsed": true
   },
   "outputs": [],
   "source": [
    "def count(word, target):\n",
    "    counter = 0\n",
    "    for letter in word:\n",
    "        if letter == target:\n",
    "            counter += 1\n",
    "    return counter"
   ]
  },
  {
   "cell_type": "code",
   "execution_count": 19,
   "metadata": {
    "collapsed": true
   },
   "outputs": [],
   "source": [
    "def count(word,search_letter):\n",
    "    count = 0\n",
    "    for letter in word:\n",
    "        if letter == search_letter:\n",
    "            count = count + 1\n",
    "            print count"
   ]
  },
  {
   "cell_type": "code",
   "execution_count": 15,
   "metadata": {
    "collapsed": false
   },
   "outputs": [
    {
     "data": {
      "text/plain": [
       "3"
      ]
     },
     "execution_count": 15,
     "metadata": {},
     "output_type": "execute_result"
    }
   ],
   "source": [
    "def count (string, letter):\n",
    "    countnum = 0\n",
    "    for char in string:\n",
    "        if char == letter:\n",
    "            countnum = countnum +1\n",
    "        else:\n",
    "            countnum = countnum\n",
    "    return countnum\n",
    "count ('happypenguin', 'p')"
   ]
  },
  {
   "cell_type": "code",
   "execution_count": 13,
   "metadata": {
    "collapsed": false
   },
   "outputs": [
    {
     "name": "stdout",
     "output_type": "stream",
     "text": [
      "3\n"
     ]
    }
   ],
   "source": [
    "def count(word, letter):\n",
    "    number = 0\n",
    "    for i in word:\n",
    "        if i == letter:\n",
    "            number +=1\n",
    "    return number\n",
    "print count('banana', 'a')"
   ]
  },
  {
   "cell_type": "code",
   "execution_count": 18,
   "metadata": {
    "collapsed": false
   },
   "outputs": [
    {
     "data": {
      "text/plain": [
       "4"
      ]
     },
     "execution_count": 18,
     "metadata": {},
     "output_type": "execute_result"
    }
   ],
   "source": [
    "def count(string, letter):\n",
    "    count = 0\n",
    "    \n",
    "    for char in string:\n",
    "        if char == letter:\n",
    "            count += 1\n",
    "    return count\n",
    "\n",
    "count('Apparently, e appears four times', 'e')"
   ]
  },
  {
   "cell_type": "code",
   "execution_count": 13,
   "metadata": {
    "collapsed": false
   },
   "outputs": [
    {
     "name": "stdout",
     "output_type": "stream",
     "text": [
      "3\n",
      "1\n"
     ]
    }
   ],
   "source": [
    "def count(letter,word):\n",
    "    counter = 0\n",
    "    for char in word:\n",
    "        if char == letter:\n",
    "            counter += 1\n",
    "    return counter\n",
    "\n",
    "print count('a','banana')\n",
    "print count('e','daniel')"
   ]
  },
  {
   "cell_type": "code",
   "execution_count": 6,
   "metadata": {
    "collapsed": false
   },
   "outputs": [
    {
     "data": {
      "text/plain": [
       "2"
      ]
     },
     "execution_count": 6,
     "metadata": {},
     "output_type": "execute_result"
    }
   ],
   "source": [
    "def count(string, letter):\n",
    "    n = 0\n",
    "    for char in string:\n",
    "        if char == letter:\n",
    "            n = n+1\n",
    "    return n\n",
    "count(\"test\",\"t\")"
   ]
  },
  {
   "cell_type": "code",
   "execution_count": 16,
   "metadata": {
    "collapsed": false
   },
   "outputs": [
    {
     "name": "stdout",
     "output_type": "stream",
     "text": [
      "15\n"
     ]
    },
    {
     "data": {
      "text/plain": [
       "15"
      ]
     },
     "execution_count": 16,
     "metadata": {},
     "output_type": "execute_result"
    }
   ],
   "source": [
    "def counter(word,a):\n",
    "    count = 0\n",
    "    for letter in word:\n",
    "        if letter == a:\n",
    "            count += 1\n",
    "    print count\n",
    "    return count\n",
    "counter('heeyyayayyaaayyayayyayayayayaya', 'y')"
   ]
  },
  {
   "cell_type": "code",
   "execution_count": 77,
   "metadata": {
    "collapsed": false
   },
   "outputs": [
    {
     "data": {
      "text/plain": [
       "44"
      ]
     },
     "execution_count": 77,
     "metadata": {},
     "output_type": "execute_result"
    }
   ],
   "source": [
    "def count(word):\n",
    "    return len(word)\n",
    "\n",
    "#count('a') # 1\n",
    "#count('racecar') # 7\n",
    "count('the quick brown fox jumped over the lazy dog') # 44 \n"
   ]
  },
  {
   "cell_type": "code",
   "execution_count": 12,
   "metadata": {
    "collapsed": false
   },
   "outputs": [
    {
     "data": {
      "text/plain": [
       "2"
      ]
     },
     "execution_count": 12,
     "metadata": {},
     "output_type": "execute_result"
    }
   ],
   "source": [
    "def counting(string,letter):\n",
    "    count = 0\n",
    "    for char in string:\n",
    "        if char == letter:\n",
    "            count += 1\n",
    "    return count\n",
    "\n",
    "counting(\"Chocolate\",'o')"
   ]
  },
  {
   "cell_type": "code",
   "execution_count": 18,
   "metadata": {
    "collapsed": false
   },
   "outputs": [
    {
     "data": {
      "text/plain": [
       "2"
      ]
     },
     "execution_count": 18,
     "metadata": {},
     "output_type": "execute_result"
    }
   ],
   "source": [
    "def count(word, character):\n",
    "    count = 0;\n",
    "    for letter in word:\n",
    "        if letter == character:\n",
    "            count = count + 1\n",
    "    return count\n",
    "\n",
    "count('banana', 'n')"
   ]
  },
  {
   "cell_type": "code",
   "execution_count": 31,
   "metadata": {
    "collapsed": false
   },
   "outputs": [
    {
     "data": {
      "text/plain": [
       "2"
      ]
     },
     "execution_count": 31,
     "metadata": {},
     "output_type": "execute_result"
    }
   ],
   "source": [
    "def count(word, letter):\n",
    "    count = 0\n",
    "    for x in word:\n",
    "        if x == letter:\n",
    "            count = count + 1\n",
    "    return count\n",
    "\n",
    "count('jello', 'l')"
   ]
  },
  {
   "cell_type": "code",
   "execution_count": 16,
   "metadata": {
    "collapsed": false
   },
   "outputs": [
    {
     "name": "stdout",
     "output_type": "stream",
     "text": [
      "1\n"
     ]
    }
   ],
   "source": [
    "def count(string, character):\n",
    "    count = 0\n",
    "    for letter in string:\n",
    "        if letter == character:\n",
    "            count = count + 1\n",
    "    print count\n",
    "\n",
    "count('pizza', 'a')"
   ]
  },
  {
   "cell_type": "code",
   "execution_count": 24,
   "metadata": {
    "collapsed": false
   },
   "outputs": [
    {
     "data": {
      "text/plain": [
       "3"
      ]
     },
     "execution_count": 24,
     "metadata": {},
     "output_type": "execute_result"
    }
   ],
   "source": [
    "def count(word, search_letter):\n",
    "    count = 0\n",
    "    for letter in word:\n",
    "        if letter == search_letter:\n",
    "            count = count + 1\n",
    "    #print count\n",
    "    return count\n",
    "count('banana', 'a')"
   ]
  },
  {
   "cell_type": "code",
   "execution_count": 2,
   "metadata": {
    "collapsed": false
   },
   "outputs": [
    {
     "data": {
      "text/plain": [
       "5"
      ]
     },
     "execution_count": 2,
     "metadata": {},
     "output_type": "execute_result"
    }
   ],
   "source": [
    "def count(s):\n",
    "    num = len(s)\n",
    "    return num\n",
    "count('apple')"
   ]
  },
  {
   "cell_type": "code",
   "execution_count": 14,
   "metadata": {
    "collapsed": false
   },
   "outputs": [
    {
     "name": "stdout",
     "output_type": "stream",
     "text": [
      "3\n"
     ]
    }
   ],
   "source": [
    "def count(word, letter):\n",
    "    \"\"\"\n",
    "    Returns the number of times character 'letter' occurs in string 'word'\n",
    "    \n",
    "    >>> count('banana','a')\n",
    "    3\n",
    "    >>> count('objective','z')\n",
    "    0\n",
    "    >>> count('a','a')\n",
    "    1\n",
    "    \"\"\"\n",
    "    count = 0\n",
    "    for char in word:\n",
    "        if char == letter:\n",
    "            count += 1\n",
    "    return count\n",
    "\n",
    "import doctest\n",
    "doctest.run_docstring_examples(count, globals())"
   ]
  },
  {
   "cell_type": "code",
   "execution_count": 2,
   "metadata": {
    "collapsed": false
   },
   "outputs": [
    {
     "name": "stdout",
     "output_type": "stream",
     "text": [
      "9\n"
     ]
    }
   ],
   "source": [
    "def count(word):\n",
    "    count = 0\n",
    "    for letter in word:\n",
    "        count +=1\n",
    "        \n",
    "    return count\n",
    "\n",
    "print count(\"hellooooo\")"
   ]
  },
  {
   "cell_type": "code",
   "execution_count": 19,
   "metadata": {
    "collapsed": false
   },
   "outputs": [
    {
     "name": "stdout",
     "output_type": "stream",
     "text": [
      "3\n"
     ]
    }
   ],
   "source": [
    "def count(string, letter):\n",
    "    tot = 0\n",
    "    for stuff in string:\n",
    "        if(stuff == letter):\n",
    "            tot += 1\n",
    "    return tot\n",
    "print(count('aksjflhakjdasldjkgs', 'a'))"
   ]
  },
  {
   "cell_type": "code",
   "execution_count": 8,
   "metadata": {
    "collapsed": false
   },
   "outputs": [
    {
     "name": "stdout",
     "output_type": "stream",
     "text": [
      "Write a phrase\n",
      "lazy sunday selecta\n",
      "Pick a letter from your phrase\n",
      "a\n"
     ]
    },
    {
     "data": {
      "text/plain": [
       "3"
      ]
     },
     "execution_count": 8,
     "metadata": {},
     "output_type": "execute_result"
    }
   ],
   "source": [
    "phrase = raw_input(\"Write a phrase\\n\")\n",
    "letter = raw_input(\"Pick a letter from your phrase\\n\")\n",
    "def count(phrase,letter):\n",
    "    total = 0\n",
    "    index = 0\n",
    "    while index < len(phrase):\n",
    "        if letter == phrase[index]:\n",
    "            total = total + 1\n",
    "        index = index + 1\n",
    "    return total\n",
    "count(phrase,letter) "
   ]
  },
  {
   "cell_type": "code",
   "execution_count": 148,
   "metadata": {
    "collapsed": false
   },
   "outputs": [
    {
     "name": "stdout",
     "output_type": "stream",
     "text": [
      "1\n",
      "2\n",
      "0\n"
     ]
    }
   ],
   "source": [
    "def count(string, letter):\n",
    "    number = 0\n",
    "    for character in string:\n",
    "        if character == letter:\n",
    "            number = number + 1\n",
    "    print number\n",
    "     \n",
    "\n",
    "count('may', 'a')\n",
    "count('vacuum', 'u')\n",
    "count('phone', 'y')\n"
   ]
  },
  {
   "cell_type": "code",
   "execution_count": 34,
   "metadata": {
    "collapsed": false
   },
   "outputs": [
    {
     "name": "stdout",
     "output_type": "stream",
     "text": [
      "2\n"
     ]
    }
   ],
   "source": [
    "def count(string, letter):\n",
    "    # inputs: word(s) to parse and character to count\n",
    "    # returns: the number of times the character appears\n",
    "    count = 0\n",
    "    for char in string:\n",
    "        if char == letter:\n",
    "            count += 1\n",
    "    print count\n",
    "\n",
    "count('hello', 'l')"
   ]
  },
  {
   "cell_type": "code",
   "execution_count": 25,
   "metadata": {
    "collapsed": false
   },
   "outputs": [
    {
     "data": {
      "text/plain": [
       "4"
      ]
     },
     "execution_count": 25,
     "metadata": {},
     "output_type": "execute_result"
    }
   ],
   "source": [
    "def count(word, letter):\n",
    "    count = 0\n",
    "    for char in word:\n",
    "        if char == letter:\n",
    "            count += 1\n",
    "    return count\n",
    "\n",
    "count('boatsboatsboatsboats','t')"
   ]
  },
  {
   "cell_type": "code",
   "execution_count": 8,
   "metadata": {
    "collapsed": false
   },
   "outputs": [
    {
     "data": {
      "text/plain": [
       "2"
      ]
     },
     "execution_count": 8,
     "metadata": {},
     "output_type": "execute_result"
    }
   ],
   "source": [
    "def countit(word, char):\n",
    "    count = 0\n",
    "    for letter in word:\n",
    "        if letter == char:\n",
    "            count = count + 1\n",
    "    return count\n",
    "\n",
    "countit('supercalifragilisticexpialidocious','e')"
   ]
  },
  {
   "cell_type": "code",
   "execution_count": 2,
   "metadata": {
    "collapsed": false
   },
   "outputs": [
    {
     "name": "stdout",
     "output_type": "stream",
     "text": [
      "3\n"
     ]
    }
   ],
   "source": [
    "def count(string, letter):\n",
    "\tcount = 0\n",
    "\tfor character in string:\n",
    "\t\tif character == letter:\n",
    "\t\t\tcount += 1\n",
    "\tprint count\n",
    "\n",
    "count(\"puppycat\", \"p\")"
   ]
  },
  {
   "cell_type": "code",
   "execution_count": 5,
   "metadata": {
    "collapsed": false
   },
   "outputs": [
    {
     "data": {
      "text/plain": [
       "3"
      ]
     },
     "execution_count": 5,
     "metadata": {},
     "output_type": "execute_result"
    }
   ],
   "source": [
    "\n",
    "def count(word, let):\n",
    "    #option 1\n",
    "    #return word.count(let)\n",
    "    \n",
    "    #option 2\n",
    "    count = 0\n",
    "    for c in word:\n",
    "        if c == let:\n",
    "            count +=1\n",
    "    return count\n",
    "count(\"bdifbenfowneofkneoncoencoe\", 'f')"
   ]
  },
  {
   "cell_type": "code",
   "execution_count": 89,
   "metadata": {
    "collapsed": false
   },
   "outputs": [
    {
     "name": "stdout",
     "output_type": "stream",
     "text": [
      "5\n",
      "0\n"
     ]
    }
   ],
   "source": [
    "\n",
    "def count(shtring, letter):\n",
    "    \"\"\"Takes in a string and a letter, counts how many times that letter occurs in the string.\n",
    "    >>>count('abcda', 'a')\n",
    "    2\n",
    "    >>>count('b','a')\n",
    "    0\n",
    "    \"\"\"\n",
    "    return sum([x is letter for x in shtring])\n",
    "\n",
    "#An experiment in python protection\n",
    "#def count(str, letter):\n",
    "#    \"\"\"Takes in a string and a letter, counts how many times that letter occurs in the string.\n",
    "#    >>>count('abcda', 'a')\n",
    "#    2\n",
    "#    >>>count('b','a')\n",
    "#    0\n",
    "#    \"\"\"\n",
    "#    len = lambda eval: globals()['len'](str) - sum([x is not letter for x in eval])\n",
    "#    the_str = locals()['str']\n",
    "#    return len(the_str)\n",
    "#Answer: It doesn't exist\n",
    "\n",
    "print count(\"asdfaaaa\", \"a\")\n",
    "print count('a','b')"
   ]
  },
  {
   "cell_type": "code",
   "execution_count": 37,
   "metadata": {
    "collapsed": false
   },
   "outputs": [
    {
     "name": "stdout",
     "output_type": "stream",
     "text": [
      "6\n"
     ]
    }
   ],
   "source": [
    "def count(word, letter):\n",
    "    count = 0\n",
    "    for i in range(len(word)):\n",
    "        if(word[i-1] == letter):\n",
    "            count += 1\n",
    "    print count\n",
    "\n",
    "count('20 dollars is still 20 dollars', 'l')"
   ]
  },
  {
   "cell_type": "code",
   "execution_count": 7,
   "metadata": {
    "collapsed": false
   },
   "outputs": [
    {
     "name": "stdout",
     "output_type": "stream",
     "text": [
      "5\n"
     ]
    }
   ],
   "source": [
    "def count(str, letter):\n",
    "    c = 0\n",
    "    for let in str:\n",
    "        if let == letter:\n",
    "            c += 1\n",
    "    print c\n",
    "    \n",
    "count(\"bananAaaa\", 'a')"
   ]
  },
  {
   "cell_type": "code",
   "execution_count": 3,
   "metadata": {
    "collapsed": false
   },
   "outputs": [
    {
     "name": "stdout",
     "output_type": "stream",
     "text": [
      "5\n"
     ]
    }
   ],
   "source": [
    "def count(string, letter):\n",
    "    count = 0\n",
    "    for i in string:\n",
    "        if i == letter:\n",
    "            count +=1\n",
    "    return count\n",
    "\n",
    "print count('banananana', 'a')"
   ]
  },
  {
   "cell_type": "code",
   "execution_count": 4,
   "metadata": {
    "collapsed": false
   },
   "outputs": [
    {
     "name": "stdout",
     "output_type": "stream",
     "text": [
      "4\n",
      "3\n"
     ]
    }
   ],
   "source": [
    "def counter(word, letter):\n",
    "    count = 0\n",
    "    index = len(word)\n",
    "    while index > -1:\n",
    "        for aletter in word:\n",
    "            if aletter == letter:\n",
    "                count = count + 1\n",
    "        break\n",
    "    print count\n",
    "        \n",
    "counter('onomatopoeia', 'o')\n",
    "counter('hippopotomous', 'p')"
   ]
  },
  {
   "cell_type": "markdown",
   "metadata": {},
   "source": [
    "### Exercise 8\n",
    "Skim the documentation of the Python [string methods](http://docs.python.org/2/library/stdtypes.html#string-methods). Experiment with some of them to make sure you understand how they work. strip, replace, and upper/lower are particularly useful."
   ]
  },
  {
   "cell_type": "code",
   "execution_count": 52,
   "metadata": {
    "collapsed": false
   },
   "outputs": [
    {
     "name": "stdout",
     "output_type": "stream",
     "text": [
      "1\n"
     ]
    }
   ],
   "source": [
    "word = 'test'\n",
    "new_word = word.count('te')\n",
    "print new_word"
   ]
  },
  {
   "cell_type": "code",
   "execution_count": 40,
   "metadata": {
    "collapsed": false
   },
   "outputs": [
    {
     "name": "stdout",
     "output_type": "stream",
     "text": [
      "{'fox', 'lazy', 'over', 'dog', 'jumped', 'quick', 'brown', 'the'}\n",
      "google\n",
      "Computer_networks\n"
     ]
    }
   ],
   "source": [
    "def get_words(sentence):\n",
    "    sentence = sentence.lower()\n",
    "    words = set(sentence.split())\n",
    "    return words\n",
    "print(get_words('The quick brown fox jumped over the lazy dog'))\n",
    "\n",
    "def web_name(s):\n",
    "    return s.strip('w.com')\n",
    "print(web_name('www.google.com'))\n",
    "\n",
    "def replace_whitespace(s):\n",
    "    return s.replace(' ', '_')\n",
    "print(replace_whitespace('Computer networks'))"
   ]
  },
  {
   "cell_type": "code",
   "execution_count": 19,
   "metadata": {
    "collapsed": false
   },
   "outputs": [
    {
     "name": "stdout",
     "output_type": "stream",
     "text": [
      "12\n",
      "               Hello, my name is Inigo Montoya. You killed my father. Prepare to die.               \n",
      "Hello, my name is Inigo Montoya! You killed my father! Prepare to die!\n",
      "                              Hello, my name is Inigo Montoya. You killed my father. Prepare to die.\n",
      "hELLO, MY NAME IS iNIGO mONTOYA. yOU KILLED MY FATHER. pREPARE TO DIE.\n",
      "o, my name is Inigo Montoya. You killed my father. Prepare to die.\n"
     ]
    }
   ],
   "source": [
    "s = 'Hello, my name is Inigo Montoya. You killed my father. Prepare to die.'\n",
    "\n",
    "print s.count(' ')\n",
    "print s.center(100)\n",
    "print s.replace('.', '!')\n",
    "print s.rjust(100)\n",
    "print s.swapcase()\n",
    "print s.strip('Hel')"
   ]
  },
  {
   "cell_type": "code",
   "execution_count": 173,
   "metadata": {
    "collapsed": false
   },
   "outputs": [
    {
     "name": "stdout",
     "output_type": "stream",
     "text": [
      "Hello, soft-des-ers.\n",
      "you may be wondering why i've gathered you here today, in room 326, for software design.\n",
      "I ACTUALLY DIDN'T.\n",
      "hello again, students.\n",
      "heyy...\n"
     ]
    }
   ],
   "source": [
    "# please remember to capitalize the first letter in a sentence.\n",
    "print 'hello, soft-des-ers.'.capitalize()\n",
    "# talking in lower case can have benefits, though. (don't ask me what they are)\n",
    "print \"You may be wondering why I've gathered you here today, in Room 326, for Software Design.\".lower()\n",
    "# or you can be very scary and use all caps.\n",
    "print \"i actually didn't.\".upper()\n",
    "# replacing sections can be useful too\n",
    "print \"hello again, soft-des-ers.\".replace(\"soft-des-ers\",\"students\")\n",
    "# or stripping.\n",
    "print \"heyy...     \".strip()"
   ]
  },
  {
   "cell_type": "code",
   "execution_count": 12,
   "metadata": {
    "collapsed": false
   },
   "outputs": [],
   "source": [
    "word = 'Wonderfully'\n",
    "\n",
    "#word.upper()\n",
    "#word.lower()\n",
    "#word.swapcase()\n",
    "#word.strip('fully')\n"
   ]
  },
  {
   "cell_type": "code",
   "execution_count": 22,
   "metadata": {
    "collapsed": false
   },
   "outputs": [
    {
     "name": "stdout",
     "output_type": "stream",
     "text": [
      "gold\n",
      "Four like, score like, and like, seven like, years like, ago like, our like, fathers like, brought like, forth like, on like, this like, continent.\n",
      "FOUR LIKE, SCORE LIKE, AND LIKE, SEVEN LIKE, YEARS LIKE, AGO LIKE, OUR LIKE, FATHERS LIKE, BROUGHT LIKE, FORTH LIKE, ON LIKE, THIS LIKE, CONTINENT!!!!\n",
      "Four score and seven years ago our fathers brought forth on this continent.\n"
     ]
    }
   ],
   "source": [
    "strip_this = 'rocksgoldrocks'\n",
    "print (strip_this.strip('scork'))   # notice that the 'o' in gold remains\n",
    "\n",
    "address = 'Four score and seven years ago our fathers brought forth on this continent.'\n",
    "bad_address = address.replace(' ', ' like, ')\n",
    "print(bad_address)\n",
    "\n",
    "super_bad_address = bad_address.upper().replace('.','!!!!')\n",
    "print(super_bad_address)\n",
    "\n",
    "version_control_substitute = super_bad_address[:1].upper() + super_bad_address[1:].lower().replace(' like,','').replace('!','') + '.'\n",
    "print(version_control_substitute)"
   ]
  },
  {
   "cell_type": "code",
   "execution_count": 25,
   "metadata": {
    "collapsed": false
   },
   "outputs": [
    {
     "name": "stdout",
     "output_type": "stream",
     "text": [
      "supercalifragilisticexpialidocious\n",
      "SUPERCALIFRAGILISTICEXPIALIDOCIOUS\n",
      "supercilifrigilisticexpiilidocious\n",
      "califragilisticexpialidocio\n"
     ]
    }
   ],
   "source": [
    "word = 'supercalifragilisticexpialidocious'\n",
    "\n",
    "#lower\n",
    "wordlow = word.lower()\n",
    "print wordlow\n",
    "\n",
    "#upper\n",
    "wordup = word.upper()\n",
    "print wordup\n",
    "\n",
    "#replace\n",
    "wordreplace = word.replace('a', 'i')\n",
    "print wordreplace\n",
    "\n",
    "#strip\n",
    "wordstrip = word.strip('super')\n",
    "print wordstrip"
   ]
  },
  {
   "cell_type": "code",
   "execution_count": 22,
   "metadata": {
    "collapsed": false
   },
   "outputs": [
    {
     "name": "stdout",
     "output_type": "stream",
     "text": [
      "Alabama\n",
      "True\n",
      "True\n",
      "False\n",
      "True\n",
      "False\n",
      "False\n",
      "False\n",
      "alabama\n"
     ]
    }
   ],
   "source": [
    "print str.capitalize('alabama')\n",
    "print str.isalnum('alabama')\n",
    "print str.isalpha('alabama')\n",
    "print str.isdigit('alabama')\n",
    "print str.islower('alabama')\n",
    "print str.isspace('alabama')\n",
    "print str.istitle('alabama')\n",
    "print str.isupper('alabama')\n",
    "print str.lower('alabama')"
   ]
  },
  {
   "cell_type": "code",
   "execution_count": 62,
   "metadata": {
    "collapsed": false
   },
   "outputs": [
    {
     "name": "stdout",
     "output_type": "stream",
     "text": [
      "World!\n",
      "Hella, World!\n",
      "HELLO, WORLD!\n",
      "hello, world!\n"
     ]
    }
   ],
   "source": [
    "print \"Hello, World!\".lstrip(\"olleH ,\")\n",
    "\n",
    "print \"Hello, World!\".replace(\"o\",\"a\",1)\n",
    "\n",
    "print \"Hello, World!\".upper()\n",
    "\n",
    "print \"Hello, World!\".lower()"
   ]
  },
  {
   "cell_type": "code",
   "execution_count": 13,
   "metadata": {
    "collapsed": false
   },
   "outputs": [
    {
     "data": {
      "text/plain": [
       "2"
      ]
     },
     "execution_count": 13,
     "metadata": {},
     "output_type": "execute_result"
    }
   ],
   "source": [
    "abc='ABCEDABCABC'\n",
    "abc[3:].find('ABC')"
   ]
  },
  {
   "cell_type": "code",
   "execution_count": 30,
   "metadata": {
    "collapsed": false
   },
   "outputs": [
    {
     "name": "stdout",
     "output_type": "stream",
     "text": [
      "supercalifragilisticexpialidocious\n",
      "Supercalifragilisticexpialidocious\n",
      "upercalifragilisticexpialidociou\n",
      "ruff\n",
      "ruf\n",
      "SUPERCALIFRAGILISTICEXPIALIDOCIOUS!!!\n"
     ]
    }
   ],
   "source": [
    "word = 'supercalifragilisticexpialidocious'\n",
    "print word\n",
    "print word.capitalize()\n",
    "print word.strip(\"s\") #strips off each side of the string the letters given, but stops once reaches other letters\n",
    "new = 'ruff'\n",
    "print word.replace(word, new) #replaces old string with a new string\n",
    "print word.replace(word, new[0:3]) #replaces old string with range of new string\n",
    "print word.upper() + '!!!' #makes all leters uppercase '.lower' would make lowercase\n"
   ]
  },
  {
   "cell_type": "code",
   "execution_count": 21,
   "metadata": {
    "collapsed": false
   },
   "outputs": [
    {
     "name": "stdout",
     "output_type": "stream",
     "text": [
      "blarg has 10 lawnmowers and 32 cans of Jamba Juice to fill them with.\n",
      "thisisastring\n",
      "0000000thisisastring\n",
      "sisastring\n",
      "THISISASTRING\n",
      "('thisisas', 't', 'ring')\n"
     ]
    }
   ],
   "source": [
    "string = 'thisisastring'\n",
    "\n",
    "lm = 10\n",
    "cans = 32\n",
    "fuel = 'Jamba Juice'\n",
    "print('blarg has {} lawnmowers and {} cans of {} to fill them with.'.format(lm, cans, fuel))\n",
    "\n",
    "print(string.strip('i'))\n",
    "\n",
    "print(string.zfill(20))\n",
    "\n",
    "print(string.lstrip('thi'))\n",
    "\n",
    "print(string.upper())\n",
    "\n",
    "print(string.rpartition('t'))"
   ]
  },
  {
   "cell_type": "code",
   "execution_count": 6,
   "metadata": {
    "collapsed": false
   },
   "outputs": [
    {
     "data": {
      "text/plain": [
       "'Orange'"
      ]
     },
     "execution_count": 6,
     "metadata": {},
     "output_type": "execute_result"
    }
   ],
   "source": [
    "str = 'orange'\n",
    "str.capitalize()"
   ]
  },
  {
   "cell_type": "code",
   "execution_count": 4,
   "metadata": {
    "collapsed": false
   },
   "outputs": [
    {
     "name": "stdout",
     "output_type": "stream",
     "text": [
      "herro\n",
      "you doofus\n",
      "HEY\n"
     ]
    }
   ],
   "source": [
    "print 'hello'.replace('l','r')\n",
    "print 'hahahaha you doofus'.lstrip('h a')\n",
    "print 'hey'.upper()"
   ]
  },
  {
   "cell_type": "code",
   "execution_count": 107,
   "metadata": {
    "collapsed": false
   },
   "outputs": [
    {
     "name": "stdout",
     "output_type": "stream",
     "text": [
      "Time to play with strings\n",
      "----------------------time to play with strings-----------------------\n",
      "1\n",
      "st-------r-i--p----asdf\n",
      "replace some of these bees with other bees\n",
      "i do not like when people type like this\n",
      "I DO NOT LIKE WHEN PEOPLE TYPE LIKE THIS\n"
     ]
    }
   ],
   "source": [
    "str= \"time to play with strings\"\n",
    "print str.capitalize()\n",
    "print str.center(70, '-') #center(number of spaces, character put around)\n",
    "print str.count('play')\n",
    "\n",
    "words= \"----st-------r-i--p----asdf\"   #only takes off of outer sides\n",
    "print words.strip('-')\n",
    " \n",
    "str= \"replace some of these words with other words\"    \n",
    "print str.replace('words', 'bees')\n",
    "       \n",
    "str= \"I dO nOt LiKe WhEn PeOpLe TyPe LiKe ThIs\"\n",
    "print str.lower()\n",
    "print str.upper()"
   ]
  },
  {
   "cell_type": "code",
   "execution_count": 22,
   "metadata": {
    "collapsed": false
   },
   "outputs": [
    {
     "data": {
      "text/plain": [
       "'bcdefghkl'"
      ]
     },
     "execution_count": 22,
     "metadata": {},
     "output_type": "execute_result"
    }
   ],
   "source": [
    "s='abcdefghklkjaaa'\n",
    "s.strip('ajk')"
   ]
  },
  {
   "cell_type": "code",
   "execution_count": 19,
   "metadata": {
    "collapsed": false
   },
   "outputs": [
    {
     "name": "stdout",
     "output_type": "stream",
     "text": [
      "LOLIPOP\n",
      "lolipop\n",
      "example.com\n"
     ]
    }
   ],
   "source": [
    "string = 'LolIpoP'\n",
    "string = string.upper()\n",
    "print string\n",
    "string = string.lower()\n",
    "print string\n",
    "print 'www.example.com'.lstrip('wcomz.')"
   ]
  },
  {
   "cell_type": "code",
   "execution_count": 31,
   "metadata": {
    "collapsed": false
   },
   "outputs": [
    {
     "name": "stdout",
     "output_type": "stream",
     "text": [
      "yo mama\n",
      "your mama\n",
      "YO MAMA\n",
      "yo mama\n",
      "------Now for gene project testing------\n",
      "genes in between the codons are coded by: CCGCTAATGC\n",
      "yay\n"
     ]
    }
   ],
   "source": [
    "string = 'yo mama'\n",
    "print string.strip()\n",
    "print string.replace('yo','your')\n",
    "newString = string.upper()\n",
    "print newString\n",
    "print newString.lower()\n",
    "\n",
    "print 'Now for gene project testing'.center(40,'-')\n",
    "startCodon = 'AAA' # I made this up\n",
    "baseString = 'CGTCCAAGTTTAAACCGCTAATGCGGA'\n",
    "threeTuple = baseString.partition(startCodon)\n",
    "afterStart = threeTuple[-1]\n",
    "stopCodon = 'GGA'\n",
    "anotherFuckingThreeTuple = afterStart.partition(stopCodon)\n",
    "afterStartBeforeStop = anotherFuckingThreeTuple[0]\n",
    "print 'genes in between the codons are coded by: '+ str(afterStartBeforeStop)\n",
    "print 'yay'\n"
   ]
  },
  {
   "cell_type": "code",
   "execution_count": 24,
   "metadata": {
    "collapsed": false
   },
   "outputs": [
    {
     "name": "stdout",
     "output_type": "stream",
     "text": [
      "twelfth night by william shakespeare\n",
      "['twelfth', 'night', 'by', 'william', 'shakespeare']\n",
      "4\n",
      "TWELFTH NIGHT BY WILLIAM SHAKESPEARE\n",
      "Twelfth Night By William Shakespeare\n",
      "Twelfth Night by William Shakespeare\n"
     ]
    }
   ],
   "source": [
    "play='  twelfth night by william shakespeare  '\n",
    "print play.strip()\n",
    "play = play.strip()\n",
    "print play.split(' ')\n",
    "\n",
    "print play.count('e')\n",
    "\n",
    "print play.upper()\n",
    "\n",
    "print play.title()\n",
    "\n",
    "play=play.title()\n",
    "\n",
    "print play.replace('By','by')"
   ]
  },
  {
   "cell_type": "code",
   "execution_count": 46,
   "metadata": {
    "collapsed": false
   },
   "outputs": [
    {
     "name": "stdout",
     "output_type": "stream",
     "text": [
      "Www.banana.com\n",
      "banana\n",
      "lalabanana.com\n",
      "WWW.BANANA.COM\n",
      "www.banana.com\n"
     ]
    }
   ],
   "source": [
    "word = 'www.banana.com'\n",
    "print word.capitalize() #caps 1st letter\n",
    "print word.strip(\"cmowz.\") #Strips out these characters, except when surrounded by a non-mentioned characters\n",
    "print word.replace('www.', 'lala')\n",
    "print word.upper()\n",
    "print word.lower()\n"
   ]
  },
  {
   "cell_type": "code",
   "execution_count": 4,
   "metadata": {
    "collapsed": false
   },
   "outputs": [
    {
     "name": "stdout",
     "output_type": "stream",
     "text": [
      "TOO MANY WAAFU RUAN LAAFU\n"
     ]
    }
   ],
   "source": [
    "string = 'Too many waifu ruin laifu'\n",
    "string2 = string.strip('a')\n",
    "string3 = string2.replace('i', 'a')\n",
    "string4 = string3.upper()\n",
    "print string4"
   ]
  },
  {
   "cell_type": "code",
   "execution_count": 34,
   "metadata": {
    "collapsed": false
   },
   "outputs": [
    {
     "name": "stdout",
     "output_type": "stream",
     "text": [
      "    THIS IS AN EXAMPLE!!!\n",
      "    this is an example!!!\n",
      "This is an ExAmPlE!!!\n",
      "his is an ExAmPlE\n",
      "    THIS is an ExAmPlE!!!\n",
      "    tHIS IS AN eXaMpLe!!!\n"
     ]
    }
   ],
   "source": [
    "string = '    This is an ExAmPlE!!!'\n",
    "\n",
    "print string.upper()\n",
    "print string.lower()\n",
    "print string.strip()\n",
    "print string.strip(' T!')\n",
    "print string.replace('This', 'This'.upper())\n",
    "print string.swapcase()"
   ]
  },
  {
   "cell_type": "code",
   "execution_count": 49,
   "metadata": {
    "collapsed": false
   },
   "outputs": [
    {
     "data": {
      "text/plain": [
       "'johnmoreland.io'"
      ]
     },
     "execution_count": 49,
     "metadata": {},
     "output_type": "execute_result"
    }
   ],
   "source": [
    "\"http://SAMPLEWEBSITE.io\".lstrip('htp:/').replace('SAMPLE', 'john').replace(\"WEBSITE\",\"MORELAND\").lower()\n",
    "\n"
   ]
  },
  {
   "cell_type": "code",
   "execution_count": 35,
   "metadata": {
    "collapsed": false
   },
   "outputs": [
    {
     "name": "stdout",
     "output_type": "stream",
     "text": [
      "p    chicken                g\n",
      "chicken\n",
      "chickenssssssssssssssssssss!!!!!!!!!!!!!\n",
      "chicken$$$$$sssssssssssssss!!!!!!!!!!!!!\n",
      "CHICKENSSSSSSSSSSSSSSSSSSSS!!!!!!!!!!!!!\n",
      "chickenssssssssssssssssssss!!!!!!!!!!!!!\n"
     ]
    }
   ],
   "source": [
    "word = \"p    chicken                g\"\n",
    "print word\n",
    "word2 = word.strip('pg ')\n",
    "print word2\n",
    "word3 = word2.replace('n',\"nssssssssssssssssssss!!!!!!!!!!!!!\")\n",
    "print word3\n",
    "word4 = word3.replace('s',\"$\",5)\n",
    "print word4\n",
    "word5 = word3.upper()\n",
    "print word5\n",
    "word6 = word5.lower()\n",
    "print word6\n",
    "\n",
    "#THESE ARE SO USEFUL OMG"
   ]
  },
  {
   "cell_type": "code",
   "execution_count": 10,
   "metadata": {
    "collapsed": false
   },
   "outputs": [
    {
     "name": "stdout",
     "output_type": "stream",
     "text": [
      "LOWERCASE\n",
      "messy\n"
     ]
    }
   ],
   "source": [
    "word = 'lowercase'\n",
    "new_word = word.upper()\n",
    "print new_word\n",
    "\n",
    "messy_string = '    messy'\n",
    "clean_string = messy_string.strip()\n",
    "print clean_string\n"
   ]
  },
  {
   "cell_type": "code",
   "execution_count": 34,
   "metadata": {
    "collapsed": false
   },
   "outputs": [
    {
     "name": "stdout",
     "output_type": "stream",
     "text": [
      "lablahla\n"
     ]
    }
   ],
   "source": [
    "x = str.lower('LABLAHLA')\n",
    "print x"
   ]
  },
  {
   "cell_type": "code",
   "execution_count": 14,
   "metadata": {
    "collapsed": false
   },
   "outputs": [
    {
     "name": "stdout",
     "output_type": "stream",
     "text": [
      "                  what                  \n",
      "what\n",
      "BUT WHY\n",
      "I am a human with the most humanish characteristics of all humans\n",
      "I am a dragon with the most dragonish characteristics of all dragons\n",
      "SUP\n"
     ]
    }
   ],
   "source": [
    "print \"what\".center(40)\n",
    "print \"WHAT\".lower()\n",
    "print \"but why\".upper()\n",
    "human = \"I am a human with the most humanish characteristics of all humans\"\n",
    "print human\n",
    "print human.replace('human', 'dragon')\n",
    "print \"whinewhinewhinewhineSUPwhine\".strip('whine')"
   ]
  },
  {
   "cell_type": "code",
   "execution_count": 41,
   "metadata": {
    "collapsed": false
   },
   "outputs": [
    {
     "name": "stdout",
     "output_type": "stream",
     "text": [
      "34\n",
      "0\n",
      "27\n"
     ]
    }
   ],
   "source": [
    "str1 = \"TCTGACTGCATCTGACTGACTACGATCGATCGTCATGCTAGCTGACTGCTGA\";\n",
    "str2 = \"ATGlkjfsdflkjs\"\n",
    "str3 = \"lkjlkjglkjlaksdglkjlkajsatgATG\"\n",
    "str4 = \"ATG\";\n",
    "\n",
    "print str1.find(str4)\n",
    "print str2.find(str4)\n",
    "print str3.find(str4)"
   ]
  },
  {
   "cell_type": "code",
   "execution_count": 17,
   "metadata": {
    "collapsed": false
   },
   "outputs": [
    {
     "data": {
      "text/plain": [
       "['Haha, this is great fun!',\n",
       " 'haha, this is not great fun!',\n",
       " 'HAHA, THIS IS GREAT FUN!']"
      ]
     },
     "execution_count": 17,
     "metadata": {},
     "output_type": "execute_result"
    }
   ],
   "source": [
    "def transform_func(string):\n",
    "    caps = string.capitalize()\n",
    "    replaced = string.replace('great', 'not great')\n",
    "    uppered = string.upper()\n",
    "    return [caps, replaced, uppered]\n",
    "transform_func('haha, this is great fun!')"
   ]
  },
  {
   "cell_type": "code",
   "execution_count": 14,
   "metadata": {
    "collapsed": false
   },
   "outputs": [
    {
     "name": "stdout",
     "output_type": "stream",
     "text": [
      "              banana bread              \n",
      "banana bread\n",
      "True\n",
      "Cardinal\n",
      "My home state is Montana and the state bird is a granite\n",
      "banana bread\n",
      "banana bread\n",
      "banana bread\n"
     ]
    }
   ],
   "source": [
    "a = 'banana bread'\n",
    "print a.center(40)\n",
    "print a.encode()\n",
    "print a.endswith(('read', 'reed', 'rude'))\n",
    "b = 'My home state is {}'\n",
    "b.format('Virginia')\n",
    "b = 'My home state is {state} and the state bird is a {bird}'\n",
    "birdies = {'Virginia':'Cardinal', 'Kentucky':'Turkey', 'Michigan':'Goose', 'Florida':'Alligator', 'Montana':'Granite'}\n",
    "print birdies['Virginia']\n",
    "my_state = 'Montana'\n",
    "print b.format(state = my_state, bird = birdies[my_state].lower())\n",
    "c = a.strip('a')\n",
    "print a\n",
    "print c\n",
    "# ohhh figured it out\n",
    "print c.strip('')"
   ]
  },
  {
   "cell_type": "code",
   "execution_count": 29,
   "metadata": {
    "collapsed": false
   },
   "outputs": [
    {
     "name": "stdout",
     "output_type": "stream",
     "text": [
      "Why good day, world\n",
      "WHY GOOD DAY, WORLD\n",
      "$$$$$why good day, world$$$$$$\n",
      "y good day, world\n",
      "Why good evening, world\n"
     ]
    }
   ],
   "source": [
    "mahString = \"why good day, world\"\n",
    "print mahString.capitalize()\n",
    "print mahString.upper()\n",
    "print mahString.center(30, '$')\n",
    "print mahString.strip('whrlo') # Ah, it doesn't just remove them from the str. I suspect it checks whether leading and trailing chars are in the list, removes appropriately, then checks again.\n",
    "print mahString.replace('day', 'evening').capitalize() #You can 'string' them yay"
   ]
  },
  {
   "cell_type": "code",
   "execution_count": 19,
   "metadata": {
    "collapsed": false
   },
   "outputs": [
    {
     "name": "stdout",
     "output_type": "stream",
     "text": [
      "jello\n",
      "jllo\n",
      "lah\n"
     ]
    }
   ],
   "source": [
    "word = 'hello'\n",
    "print word.replace('h','j')\n",
    "print word.replace('he','j')\n",
    "word = 'blah'\n",
    "print word.strip('ba')"
   ]
  },
  {
   "cell_type": "code",
   "execution_count": 37,
   "metadata": {
    "collapsed": false
   },
   "outputs": [
    {
     "name": "stdout",
     "output_type": "stream",
     "text": [
      "Dog\n",
      "CAT\n",
      "mouse\n",
      "t  t ttt         t\n",
      "  t  t t tt w ta sdg as\n",
      "t  t t tt w ta sdg asdg\n",
      "Hello\n",
      "My name is REDACTED\n",
      "MyREDACTEDnameREDACTEDis John Doe\n"
     ]
    }
   ],
   "source": [
    "print str.capitalize(\"dOg\")\n",
    "print str.upper(\"cAt\")\n",
    "print str.lower(\"MoUsE\")\n",
    "print \"      t  t ttt         t   \".strip()\n",
    "print \"  t  t t tt w ta sdg asd\".strip(\"wd\")\n",
    "print \"  t  t t tt w ta sdg asdg  \".strip(\" \") #only works on edges\n",
    "print \"  heLLo \".strip().capitalize()\n",
    "print \"My name is John Doe\".replace(\"John Doe\",\"REDACTED\")\n",
    "print \"My name is John Doe\".replace(\" \",\"REDACTED\", 2)\n"
   ]
  },
  {
   "cell_type": "code",
   "execution_count": 9,
   "metadata": {
    "collapsed": false
   },
   "outputs": [
    {
     "name": "stdout",
     "output_type": "stream",
     "text": [
      "Okaaay - capitalize\n",
      "                           Okaaay                            - center\n",
      "3\n",
      "Okaaay\n",
      "OKAAAY\n",
      "okaaay\n"
     ]
    }
   ],
   "source": [
    "def testOnWords(word):\n",
    "    print word.capitalize() + ' - capitalize'\n",
    "    print word.center(60) + ' - center'\n",
    "    print word.count('a',2,5) \n",
    "    wordWithSpace = '        '+word+'       '\n",
    "    print wordWithSpace.strip()\n",
    "    print word.upper()\n",
    "    print word.lower()\n",
    "testOnWords('Okaaay')"
   ]
  },
  {
   "cell_type": "code",
   "execution_count": 33,
   "metadata": {
    "collapsed": false,
    "scrolled": true
   },
   "outputs": [
    {
     "name": "stdout",
     "output_type": "stream",
     "text": [
      "Rawr\n",
      "                                 raWr                                 \n",
      "RAWR\n",
      "rawr\n",
      "roar\n",
      "Wr\n"
     ]
    }
   ],
   "source": [
    "def loud(word):\n",
    "    print str.upper(word)\n",
    "        \n",
    "def quiet(word):\n",
    "    print str.lower(word)\n",
    "    \n",
    "def replace(word, old, new):\n",
    "    print str.replace(word, old, new)\n",
    "    #if give 4 arg count, only the first count occurances are changed\n",
    "    \n",
    "def strip(word,cut):\n",
    "    print word.lstrip(cut)\n",
    "    \n",
    "def caps(word):\n",
    "    print str.capitalize(word)  # name--> Name\n",
    "    \n",
    "def cen(word):\n",
    "    print str.center(word, 70)\n",
    "  \n",
    "\n",
    "        \n",
    "word = 'raWr'  \n",
    "\n",
    "caps(word)\n",
    "cen(word)\n",
    "loud(word)\n",
    "quiet(word)\n",
    "replace(word, 'aW', 'oa')\n",
    "strip(word,'ra') #if raW given, cuts all because sequence pattern\n",
    "\n"
   ]
  },
  {
   "cell_type": "code",
   "execution_count": 38,
   "metadata": {
    "collapsed": false
   },
   "outputs": [
    {
     "name": "stdout",
     "output_type": "stream",
     "text": [
      "CHOCOLATE\n",
      "Chocolate is yummy\n",
      "My chocolate!\n"
     ]
    }
   ],
   "source": [
    "word = 'Chocolate'\n",
    "new_word = word.upper()\n",
    "print new_word\n",
    "\n",
    "phrase = '  Chocolate is yummy  '\n",
    "new_phrase = phrase.strip()  #removes leading/trailing white spaces\n",
    "print new_phrase\n",
    "\n",
    "string = 'Yay chocolate!'\n",
    "new_string = string.replace('Yay','My')\n",
    "print new_string\n"
   ]
  },
  {
   "cell_type": "code",
   "execution_count": 46,
   "metadata": {
    "collapsed": false
   },
   "outputs": [
    {
     "data": {
      "text/plain": [
       "'fSoftwaredSoftwaredSoftwarefSoftwaresSoftwaredSoftwarefSoftwaresSoftwarefSoftwaref'"
      ]
     },
     "execution_count": 46,
     "metadata": {},
     "output_type": "execute_result"
    }
   ],
   "source": [
    "stri = 'Software'\n",
    "\n",
    "stri.lstrip('S')\n",
    "stri.strip('r')\n",
    "stri.isalnum()\n",
    "stri.join('fddfsdfsff')"
   ]
  },
  {
   "cell_type": "code",
   "execution_count": 38,
   "metadata": {
    "collapsed": false
   },
   "outputs": [
    {
     "name": "stdout",
     "output_type": "stream",
     "text": [
      "EXPERIMENT\n",
      "1\n",
      "jiggly\n",
      "birthday\n"
     ]
    }
   ],
   "source": [
    "def test():\n",
    "    print 'experiment'.upper()\n",
    "    print 'happy'.find('a')\n",
    "    print 'JIGGLY'.lower()\n",
    "    print '    birthday    '.strip()\n",
    "    \n",
    "test()"
   ]
  },
  {
   "cell_type": "code",
   "execution_count": 28,
   "metadata": {
    "collapsed": false
   },
   "outputs": [
    {
     "name": "stdout",
     "output_type": "stream",
     "text": [
      "bbcdefghijk defghij\n"
     ]
    }
   ],
   "source": [
    "str = 'abcdefghijk'\n",
    "x = str.replace('a','b')\n",
    "\n",
    "n = str.strip('abck')\n",
    "\n",
    "print x,n"
   ]
  },
  {
   "cell_type": "code",
   "execution_count": 2,
   "metadata": {
    "collapsed": false
   },
   "outputs": [
    {
     "name": "stdout",
     "output_type": "stream",
     "text": [
      "capitalize\n",
      "Banana\n",
      "isdigit\n",
      "True\n",
      "istitle This Is Titlecase\n",
      "True\n",
      "istitle This is Not titlecase\n",
      "False\n",
      "istitle This Is Not TItlecase\n",
      "False\n",
      "istitle This Is Not T1tlecase\n",
      "False\n",
      "join('-','banana')\n",
      "b-a-n-a-n-a\n",
      "strip banana, na\n",
      "b\n",
      "replace banana, na, cat\n",
      "bacatcat\n",
      "upper banana\n",
      "BANANA\n",
      "lower BANANA\n",
      "banana\n"
     ]
    }
   ],
   "source": [
    "print 'capitalize'\n",
    "print str.capitalize('banana')\n",
    "\n",
    "print 'isdigit'\n",
    "print str.isdigit('1234')\n",
    "\n",
    "print 'istitle This Is Titlecase'\n",
    "print str.istitle('This Is Titlecase')\n",
    "print 'istitle This is Not titlecase'\n",
    "print str.istitle('This Is Not titlecase')\n",
    "print 'istitle This Is Not TItlecase'\n",
    "print str.istitle('This Is Not TItlecase')\n",
    "print 'istitle This Is Not T1tlecase'\n",
    "print str.istitle('This Is Not T1tlecase')\n",
    "\n",
    "print \"join('-','banana')\"\n",
    "print str.join('-','banana')\n",
    "\n",
    "print 'strip banana, na'\n",
    "print str.strip('banana', 'na')\n",
    "print 'replace banana, na, cat'\n",
    "print str.replace('banana','na', 'cat')\n",
    "\n",
    "print 'upper banana'\n",
    "print str.upper('banana')\n",
    "\n",
    "print 'lower BANANA'\n",
    "print str.lower ('BANANA')\n"
   ]
  },
  {
   "cell_type": "code",
   "execution_count": 21,
   "metadata": {
    "collapsed": false
   },
   "outputs": [
    {
     "name": "stdout",
     "output_type": "stream",
     "text": [
      "le aPple APPLE\n"
     ]
    }
   ],
   "source": [
    "def moddify(s):\n",
    "    a = s.lstrip('ape')\n",
    "    b = s.replace('p','P',1)\n",
    "    c = s.upper()\n",
    "    print a,b,c\n",
    "moddify('apple')"
   ]
  },
  {
   "cell_type": "code",
   "execution_count": 24,
   "metadata": {
    "collapsed": false
   },
   "outputs": [
    {
     "name": "stdout",
     "output_type": "stream",
     "text": [
      "True\n",
      "False\n",
      "True\n",
      "False\n",
      "\n",
      "ABC\n",
      "abc\n",
      "\n",
      "hero\n",
      "         hero\n",
      "\n",
      "[\"I'm\", 'testing', 'the', 'split', 'function!']\n",
      "[\"I'm \", 'es', 'ing ', 'he spli', ' func', 'ion!']\n",
      "\n",
      "I'm testing the strip function!\n"
     ]
    }
   ],
   "source": [
    "a = 'abc'\n",
    "num = '123'\n",
    "print a.isalpha()\n",
    "print num.isalpha()\n",
    "print num.isdigit()\n",
    "print a.isdigit()\n",
    "print\n",
    "print a.upper()\n",
    "print \"ABC\".lower()\n",
    "print\n",
    "\n",
    "b = \"hello\"\n",
    "b = b.replace(\"ell\",\"er\")\n",
    "print b\n",
    "print b.rjust(13)\n",
    "print\n",
    "\n",
    "test = \"I'm testing the split function!\"\n",
    "print test.split()\n",
    "print test.split(\"t\")\n",
    "print\n",
    "\n",
    "test2 = \"    I'm testing the strip function!     \"\n",
    "print test2.strip()"
   ]
  },
  {
   "cell_type": "code",
   "execution_count": 28,
   "metadata": {
    "collapsed": false
   },
   "outputs": [
    {
     "name": "stdout",
     "output_type": "stream",
     "text": [
      "Helloooo worldddd\n",
      "-------------------Hello World--------------------\n",
      "google.com\n"
     ]
    }
   ],
   "source": [
    "print str.capitalize(\"helloooo worldddd\")\n",
    "print str. center(\"Hello World\",50,\"-\")\n",
    "\n",
    "print \"www.google.com\".lstrip(\"cmowz.\")"
   ]
  },
  {
   "cell_type": "code",
   "execution_count": 20,
   "metadata": {
    "collapsed": false
   },
   "outputs": [
    {
     "name": "stdout",
     "output_type": "stream",
     "text": [
      "sdkjlghaslkgj\n"
     ]
    }
   ],
   "source": [
    "print('asdkjlghaslkgj'.strip('a'))"
   ]
  },
  {
   "cell_type": "code",
   "execution_count": 17,
   "metadata": {
    "collapsed": false
   },
   "outputs": [
    {
     "name": "stdout",
     "output_type": "stream",
     "text": [
      "KATIE BUTLER\n",
      "katie butler\n",
      "Katie\n",
      "Katherine Elizabeth Butler\n"
     ]
    }
   ],
   "source": [
    "name = 'Katie Butler'\n",
    "upper = name.upper()\n",
    "print upper\n",
    "lower = name.lower()\n",
    "print lower\n",
    "print name[:5]\n",
    "print name.replace('Katie', 'Katherine Elizabeth')"
   ]
  },
  {
   "cell_type": "code",
   "execution_count": 163,
   "metadata": {
    "collapsed": false
   },
   "outputs": [
    {
     "name": "stdout",
     "output_type": "stream",
     "text": [
      "    lemons1\n",
      "False\n",
      "    lemons1\n",
      "lemons1\n",
      "    LEMONS1\n"
     ]
    }
   ],
   "source": [
    "word = '    lemons1'\n",
    "word2 = 'lemons2'\n",
    "\n",
    "capital = str.capitalize(word) # capitalizes first letter in string\n",
    "print capital\n",
    "\n",
    "abc = str.isalnum(word) # if all characters are alphanumeric and there is at least 1 character\n",
    "print abc\n",
    "\n",
    "lower = str.lower(word) # returns all lower case letters\n",
    "print lower\n",
    "\n",
    "strip = str.strip(word) # removes spaces\n",
    "print strip\n",
    "\n",
    "upper = str.upper(word)\n",
    "print upper\n",
    "\n"
   ]
  },
  {
   "cell_type": "code",
   "execution_count": 58,
   "metadata": {
    "collapsed": false
   },
   "outputs": [
    {
     "name": "stdout",
     "output_type": "stream",
     "text": [
      " supercalifragilisticexpialidocious\n",
      ".count of a: 3\n",
      ".find index of super: 0\n",
      ".index of super: 0 (yields a ValueError if sub not in string)\n",
      ".replace i with !: supercal!frag!l!st!cexp!al!doc!ous\n",
      ".strip vowels: supercalifragilisticexpialidocious (NOT WORKING)\n",
      ".upper: SUPERCALIFRAGILISTICEXPIALIDOCIOUS\n"
     ]
    }
   ],
   "source": [
    "string = 'supercalifragilisticexpialidocious'\n",
    "print string\n",
    "\n",
    "print '.count of a:', string.count('a')\n",
    "\n",
    "sub = 'super'\n",
    "sub in string # check to make sure sub in string (bool)\n",
    "print '.find index of super:', string.find(sub)\n",
    "print '.index of super:', string.index(sub), '(yields a ValueError if sub not in string)'\n",
    "\n",
    "old = 'i'\n",
    "new = '!'\n",
    "print '.replace i with !:', string.replace(old,new)\n",
    "\n",
    "vowels = 'aeiou'\n",
    "print '.strip vowels:', string.strip(vowels), '(NOT WORKING)'\n",
    "\n",
    "print '.upper:', string.upper()"
   ]
  },
  {
   "cell_type": "code",
   "execution_count": 32,
   "metadata": {
    "collapsed": false
   },
   "outputs": [
    {
     "name": "stdout",
     "output_type": "stream",
     "text": [
      "Today Is A New Boat.\n",
      "BOATHUB\n"
     ]
    }
   ],
   "source": [
    "string = \"Today is a new day.\"\n",
    "\n",
    "print string.replace(' day',' boat').title()\n",
    "\n",
    "string2 = \"www.BoatHub.co\"\n",
    "\n",
    "print string2.strip('cwmo.').upper()"
   ]
  },
  {
   "cell_type": "code",
   "execution_count": 16,
   "metadata": {
    "collapsed": false
   },
   "outputs": [
    {
     "name": "stdout",
     "output_type": "stream",
     "text": [
      "he quick brown fox jumped over the lazy sleeping dog\n",
      "the.quick.brown.fox.jumped.over.the.lazy.sleeping.dog\n"
     ]
    }
   ],
   "source": [
    "\n",
    "string= 'the quick brown fox jumped over the lazy sleeping dog'\n",
    "a = string.strip('t')\n",
    "b = string.replace(' ','.')\n",
    "print a\n",
    "print b\n"
   ]
  },
  {
   "cell_type": "code",
   "execution_count": 8,
   "metadata": {
    "collapsed": false
   },
   "outputs": [
    {
     "name": "stdout",
     "output_type": "stream",
     "text": [
      "MOTHER OF ALL THAT IS HOLY\n",
      "other of all that is holy\n"
     ]
    }
   ],
   "source": [
    "word = \"mother of all that is holy\"\n",
    "print word.upper()\n",
    "print word.strip(\"m\")"
   ]
  },
  {
   "cell_type": "code",
   "execution_count": 7,
   "metadata": {
    "collapsed": false
   },
   "outputs": [
    {
     "name": "stdout",
     "output_type": "stream",
     "text": [
      "False\n",
      "False\n",
      "('I', ' ', 'am happy')\n",
      "GROSS\n",
      "False\n"
     ]
    }
   ],
   "source": [
    "print 'hello'.istitle()\n",
    "print 'Blue the Elephant'.istitle()\n",
    "print 'I am happy'.partition(' ')\n",
    "print 'gross'.swapcase()\n",
    "print '.'.islower()"
   ]
  },
  {
   "cell_type": "code",
   "execution_count": 92,
   "metadata": {
    "collapsed": false
   },
   "outputs": [
    {
     "name": "stdout",
     "output_type": "stream",
     "text": [
      "Hello\n"
     ]
    }
   ],
   "source": [
    "test = 'hello'\n",
    "print test.capitalize()"
   ]
  },
  {
   "cell_type": "code",
   "execution_count": 70,
   "metadata": {
    "collapsed": false
   },
   "outputs": [
    {
     "name": "stdout",
     "output_type": "stream",
     "text": [
      "Hello\n",
      "hello\n",
      "30 dollars is still 20 dollars\n"
     ]
    }
   ],
   "source": [
    "print('hello'.capitalize())\n",
    "\n",
    "print('heLlo'.lower())\n",
    "'  www.example.com   '.strip('w.com ')\n",
    "\n",
    "print('20 dollars is still 20 dollars'.replace('20', '30', 1))"
   ]
  },
  {
   "cell_type": "code",
   "execution_count": 21,
   "metadata": {
    "collapsed": false
   },
   "outputs": [
    {
     "data": {
      "text/plain": [
       "'nanananananananana banana'"
      ]
     },
     "execution_count": 21,
     "metadata": {},
     "output_type": "execute_result"
    }
   ],
   "source": [
    "str.upper('imsoangry')\n",
    "str.capitalize('harper')\n",
    "str.swapcase('ThesTRugglEiSreAL')\n",
    "str.strip('what'[1:3])\n",
    "str.replace('nanananananananana batman', 'batman', 'banana')"
   ]
  },
  {
   "cell_type": "markdown",
   "metadata": {},
   "source": [
    "### Exercise 11  \n",
    "\n",
    "The following functions are all intended to check whether a string contains any lowercase letters, but at least some of them are wrong. For each function, describe what the function actually does (assuming that the parameter is a string)."
   ]
  },
  {
   "cell_type": "code",
   "execution_count": 64,
   "metadata": {
    "collapsed": false
   },
   "outputs": [
    {
     "data": {
      "text/plain": [
       "False"
      ]
     },
     "execution_count": 64,
     "metadata": {},
     "output_type": "execute_result"
    }
   ],
   "source": [
    "def any_lowercase1(s):\n",
    "    for c in s:\n",
    "        if c.islower():\n",
    "            return True\n",
    "        else:\n",
    "            return False\n",
    "any_lowercase1('Tasdf')"
   ]
  },
  {
   "cell_type": "markdown",
   "metadata": {},
   "source": [
    "this function returns False if there are any characters in the string that are not lowercase"
   ]
  },
  {
   "cell_type": "markdown",
   "metadata": {},
   "source": [
    " "
   ]
  },
  {
   "cell_type": "code",
   "execution_count": 72,
   "metadata": {
    "collapsed": false
   },
   "outputs": [
    {
     "data": {
      "text/plain": [
       "'True'"
      ]
     },
     "execution_count": 72,
     "metadata": {},
     "output_type": "execute_result"
    }
   ],
   "source": [
    "def any_lowercase2(s):\n",
    "    for c in s:\n",
    "        if 'c'.islower():\n",
    "            return 'True'\n",
    "        else:\n",
    "            return 'False'\n",
    "any_lowercase2('CcasdfEasd')"
   ]
  },
  {
   "cell_type": "markdown",
   "metadata": {},
   "source": [
    "this function always returns 'True' because it just checks if 'c' is lowercase which it always will be."
   ]
  },
  {
   "cell_type": "markdown",
   "metadata": {},
   "source": [
    " "
   ]
  },
  {
   "cell_type": "code",
   "execution_count": 83,
   "metadata": {
    "collapsed": false
   },
   "outputs": [
    {
     "data": {
      "text/plain": [
       "False"
      ]
     },
     "execution_count": 83,
     "metadata": {},
     "output_type": "execute_result"
    }
   ],
   "source": [
    "def any_lowercase3(s):\n",
    "    for c in s:\n",
    "        flag = c.islower()\n",
    "    return flag\n",
    "any_lowercase3('asdfJKDS')"
   ]
  },
  {
   "cell_type": "markdown",
   "metadata": {},
   "source": [
    "Because flag is in a for loop, this function only checks to see whether the last letter in the string is lowercase or not."
   ]
  },
  {
   "cell_type": "markdown",
   "metadata": {},
   "source": [
    " "
   ]
  },
  {
   "cell_type": "code",
   "execution_count": 93,
   "metadata": {
    "collapsed": false
   },
   "outputs": [
    {
     "data": {
      "text/plain": [
       "True"
      ]
     },
     "execution_count": 93,
     "metadata": {},
     "output_type": "execute_result"
    }
   ],
   "source": [
    "def any_lowercase4(s):\n",
    "    flag = False\n",
    "    for c in s:\n",
    "        flag = flag or c.islower()\n",
    "    return flag\n",
    "any_lowercase4('a3F')"
   ]
  },
  {
   "cell_type": "markdown",
   "metadata": {},
   "source": [
    "This function checks each letter in the string and returns True if there are any lowercase letters. Otherwise, it returns False."
   ]
  },
  {
   "cell_type": "markdown",
   "metadata": {},
   "source": [
    " "
   ]
  },
  {
   "cell_type": "code",
   "execution_count": 92,
   "metadata": {
    "collapsed": false
   },
   "outputs": [
    {
     "data": {
      "text/plain": [
       "False"
      ]
     },
     "execution_count": 92,
     "metadata": {},
     "output_type": "execute_result"
    }
   ],
   "source": [
    "def any_lowercase5(s):\n",
    "    for c in s:\n",
    "        if not c.islower():\n",
    "            return False\n",
    "    return True\n",
    "any_lowercase5('a3f')"
   ]
  },
  {
   "cell_type": "markdown",
   "metadata": {},
   "source": [
    "This function returns False if any character in the string is not lowercase. Otherwise, it returns true."
   ]
  },
  {
   "cell_type": "markdown",
   "metadata": {},
   "source": [
    " "
   ]
  },
  {
   "cell_type": "code",
   "execution_count": null,
   "metadata": {
    "collapsed": true
   },
   "outputs": [],
   "source": [
    "def any_lowercase1(s):\n",
    "    for c in s:\n",
    "        if c.islower():\n",
    "            return True\n",
    "        else:\n",
    "            return False\n",
    "#This function checks whether the first character in a string is lowercase"
   ]
  },
  {
   "cell_type": "markdown",
   "metadata": {},
   "source": [
    " "
   ]
  },
  {
   "cell_type": "code",
   "execution_count": null,
   "metadata": {
    "collapsed": true
   },
   "outputs": [],
   "source": [
    "def any_lowercase2(s):\n",
    "    for c in s:\n",
    "        if 'c'.islower():\n",
    "            return 'True'\n",
    "        else:\n",
    "            return 'False'\n",
    "#This function returns whether the character 'c' is lowercase"
   ]
  },
  {
   "cell_type": "markdown",
   "metadata": {},
   "source": [
    " "
   ]
  },
  {
   "cell_type": "code",
   "execution_count": null,
   "metadata": {
    "collapsed": true
   },
   "outputs": [],
   "source": [
    "def any_lowercase3(s):\n",
    "    for c in s:\n",
    "        flag = c.islower()\n",
    "    return flag\n",
    "#This function returns whether the last character in s is lowercase"
   ]
  },
  {
   "cell_type": "markdown",
   "metadata": {},
   "source": [
    " "
   ]
  },
  {
   "cell_type": "code",
   "execution_count": null,
   "metadata": {
    "collapsed": true
   },
   "outputs": [],
   "source": [
    "def any_lowercase4(s):\n",
    "    flag = False\n",
    "    for c in s:\n",
    "        flag = flag or c.islower()\n",
    "    return flag\n",
    "#This function goes through each character in the string and checks if it is lowercase\n",
    "#It saves the answer in flag and returns it"
   ]
  },
  {
   "cell_type": "markdown",
   "metadata": {},
   "source": [
    " "
   ]
  },
  {
   "cell_type": "code",
   "execution_count": null,
   "metadata": {
    "collapsed": true
   },
   "outputs": [],
   "source": [
    "def any_lowercase5(s):\n",
    "    for c in s:\n",
    "        if not c.islower():\n",
    "            return False\n",
    "    return True\n",
    "#This function checks if there are any uppercase characters in the string"
   ]
  },
  {
   "cell_type": "markdown",
   "metadata": {},
   "source": [
    " "
   ]
  },
  {
   "cell_type": "code",
   "execution_count": 22,
   "metadata": {
    "collapsed": false
   },
   "outputs": [
    {
     "data": {
      "text/plain": [
       "False"
      ]
     },
     "execution_count": 22,
     "metadata": {},
     "output_type": "execute_result"
    }
   ],
   "source": [
    "def any_lowercase1(s):\n",
    "    for c in s:\n",
    "        if c.islower():\n",
    "            return True\n",
    "        else:\n",
    "            return False\n",
    "\n",
    "any_lowercase1('Hello')"
   ]
  },
  {
   "cell_type": "markdown",
   "metadata": {},
   "source": [
    "This returns true if the first letter is lowercase, and false if the first letter is uppercase"
   ]
  },
  {
   "cell_type": "markdown",
   "metadata": {},
   "source": [
    " "
   ]
  },
  {
   "cell_type": "code",
   "execution_count": 24,
   "metadata": {
    "collapsed": false
   },
   "outputs": [
    {
     "data": {
      "text/plain": [
       "'True'"
      ]
     },
     "execution_count": 24,
     "metadata": {},
     "output_type": "execute_result"
    }
   ],
   "source": [
    "def any_lowercase2(s):\n",
    "    for c in s:\n",
    "        if 'c'.islower():\n",
    "            return 'True\n",
    "        else:\n",
    "            return 'False'\n",
    "        \n",
    "any_lowercase2('Hello')"
   ]
  },
  {
   "cell_type": "markdown",
   "metadata": {},
   "source": [
    "This always returns the string true because 'c' is always lowercase"
   ]
  },
  {
   "cell_type": "markdown",
   "metadata": {},
   "source": [
    " "
   ]
  },
  {
   "cell_type": "code",
   "execution_count": 25,
   "metadata": {
    "collapsed": false
   },
   "outputs": [
    {
     "data": {
      "text/plain": [
       "False"
      ]
     },
     "execution_count": 25,
     "metadata": {},
     "output_type": "execute_result"
    }
   ],
   "source": [
    "def any_lowercase3(s):\n",
    "    for c in s:\n",
    "        flag = c.islower()\n",
    "    return flag\n",
    "\n",
    "any_lowercase3('hellO')"
   ]
  },
  {
   "cell_type": "markdown",
   "metadata": {},
   "source": [
    "This returns whether or not the last letter of the string is lowercase. "
   ]
  },
  {
   "cell_type": "markdown",
   "metadata": {},
   "source": [
    " "
   ]
  },
  {
   "cell_type": "code",
   "execution_count": 27,
   "metadata": {
    "collapsed": false
   },
   "outputs": [
    {
     "name": "stdout",
     "output_type": "stream",
     "text": [
      "True\n",
      "False\n",
      "True\n",
      "True\n"
     ]
    }
   ],
   "source": [
    "def any_lowercase4(s):\n",
    "    flag = False\n",
    "    for c in s:\n",
    "        flag = flag or c.islower()\n",
    "    return flag\n",
    "\n",
    "print any_lowercase4('hello')\n",
    "print any_lowercase4('HELLO')\n",
    "print any_lowercase4('Hello')\n",
    "print any_lowercase4('hellO')"
   ]
  },
  {
   "cell_type": "markdown",
   "metadata": {},
   "source": [
    "This function works. As soon as there is a lowercase letter, flag becomes true, and it remains true for the rest of the string. "
   ]
  },
  {
   "cell_type": "markdown",
   "metadata": {},
   "source": [
    " "
   ]
  },
  {
   "cell_type": "code",
   "execution_count": 28,
   "metadata": {
    "collapsed": false
   },
   "outputs": [
    {
     "name": "stdout",
     "output_type": "stream",
     "text": [
      "True\n",
      "False\n",
      "False\n"
     ]
    }
   ],
   "source": [
    "def any_lowercase5(s):\n",
    "    for c in s:\n",
    "        if not c.islower():\n",
    "            return False\n",
    "    return True\n",
    "\n",
    "print any_lowercase5('hello')\n",
    "print any_lowercase5('Hello')\n",
    "print any_lowercase5('hEllo')"
   ]
  },
  {
   "cell_type": "markdown",
   "metadata": {},
   "source": [
    "This function returns false if there are any uppercase letters in the string"
   ]
  },
  {
   "cell_type": "markdown",
   "metadata": {},
   "source": [
    " "
   ]
  },
  {
   "cell_type": "code",
   "execution_count": 185,
   "metadata": {
    "collapsed": false
   },
   "outputs": [
    {
     "data": {
      "text/plain": [
       "False"
      ]
     },
     "execution_count": 185,
     "metadata": {},
     "output_type": "execute_result"
    }
   ],
   "source": [
    "# if there are any lowercase characters in input, returns True\n",
    "def any_lowercase1(s):\n",
    "    for c in s:\n",
    "        if c.islower():\n",
    "            return True\n",
    "        else:\n",
    "            return False\n",
    "        \n",
    "any_lowercase1('HEY')"
   ]
  },
  {
   "cell_type": "markdown",
   "metadata": {},
   "source": [
    " "
   ]
  },
  {
   "cell_type": "code",
   "execution_count": 183,
   "metadata": {
    "collapsed": false
   },
   "outputs": [],
   "source": [
    "# if 'c' contains any lowercase characters, returns True. therefore, always returns True.\n",
    "def any_lowercase2(s):\n",
    "    for c in s:\n",
    "        if 'c'.islower():\n",
    "            return 'True'\n",
    "        else:\n",
    "            return 'False'\n",
    "        \n",
    "any_lowercase2('HEY')"
   ]
  },
  {
   "cell_type": "markdown",
   "metadata": {},
   "source": [
    " "
   ]
  },
  {
   "cell_type": "code",
   "execution_count": 189,
   "metadata": {
    "collapsed": false
   },
   "outputs": [
    {
     "data": {
      "text/plain": [
       "False"
      ]
     },
     "execution_count": 189,
     "metadata": {},
     "output_type": "execute_result"
    }
   ],
   "source": [
    "# returns False if no lowercase, True if any lowercase characters\n",
    "def any_lowercase3(s):\n",
    "    for c in s:\n",
    "        flag = c.islower()\n",
    "    return flag\n",
    "\n",
    "any_lowercase3('HEY')"
   ]
  },
  {
   "cell_type": "markdown",
   "metadata": {},
   "source": [
    " "
   ]
  },
  {
   "cell_type": "code",
   "execution_count": 205,
   "metadata": {
    "collapsed": false
   },
   "outputs": [
    {
     "data": {
      "text/plain": [
       "False"
      ]
     },
     "execution_count": 205,
     "metadata": {},
     "output_type": "execute_result"
    }
   ],
   "source": [
    "# if c.islower() is True, then False or True evaluates to True. otherwise,\n",
    "# remains False\n",
    "def any_lowercase4(s):\n",
    "    flag = False\n",
    "    for c in s:\n",
    "        flag = flag or c.islower()\n",
    "    return flag\n",
    "\n",
    "any_lowercase4('HEY')"
   ]
  },
  {
   "cell_type": "markdown",
   "metadata": {},
   "source": [
    " "
   ]
  },
  {
   "cell_type": "code",
   "execution_count": 206,
   "metadata": {
    "collapsed": false
   },
   "outputs": [
    {
     "data": {
      "text/plain": [
       "False"
      ]
     },
     "execution_count": 206,
     "metadata": {},
     "output_type": "execute_result"
    }
   ],
   "source": [
    "# if any character is uppercase, returns False\n",
    "def any_lowercase5(s):\n",
    "    for c in s:\n",
    "        if not c.islower():\n",
    "            return False\n",
    "    return True\n",
    "\n",
    "any_lowercase5('heYY')"
   ]
  },
  {
   "cell_type": "markdown",
   "metadata": {},
   "source": [
    " "
   ]
  },
  {
   "cell_type": "code",
   "execution_count": null,
   "metadata": {
    "collapsed": true
   },
   "outputs": [],
   "source": [
    "def any_lowercase1(s):\n",
    "    for c in s:\n",
    "        if c.islower():\n",
    "            return True\n",
    "        else:\n",
    "            return False"
   ]
  },
  {
   "cell_type": "markdown",
   "metadata": {},
   "source": [
    " "
   ]
  },
  {
   "cell_type": "code",
   "execution_count": null,
   "metadata": {
    "collapsed": true
   },
   "outputs": [],
   "source": [
    "def any_lowercase2(s):\n",
    "    for c in s:\n",
    "        if 'c'.islower():\n",
    "            return 'True'\n",
    "        else:\n",
    "            return 'False'"
   ]
  },
  {
   "cell_type": "markdown",
   "metadata": {},
   "source": [
    " "
   ]
  },
  {
   "cell_type": "code",
   "execution_count": null,
   "metadata": {
    "collapsed": true
   },
   "outputs": [],
   "source": [
    "def any_lowercase3(s):\n",
    "    for c in s:\n",
    "        flag = c.islower()\n",
    "    return flag"
   ]
  },
  {
   "cell_type": "markdown",
   "metadata": {},
   "source": [
    " "
   ]
  },
  {
   "cell_type": "code",
   "execution_count": null,
   "metadata": {
    "collapsed": true
   },
   "outputs": [],
   "source": [
    "def any_lowercase4(s):\n",
    "    flag = False\n",
    "    for c in s:\n",
    "        flag = flag or c.islower()\n",
    "    return flag"
   ]
  },
  {
   "cell_type": "markdown",
   "metadata": {},
   "source": [
    " "
   ]
  },
  {
   "cell_type": "code",
   "execution_count": null,
   "metadata": {
    "collapsed": true
   },
   "outputs": [],
   "source": [
    "def any_lowercase5(s):\n",
    "    for c in s:\n",
    "        if not c.islower():\n",
    "            return False\n",
    "    return True"
   ]
  },
  {
   "cell_type": "markdown",
   "metadata": {},
   "source": [
    " "
   ]
  },
  {
   "cell_type": "code",
   "execution_count": null,
   "metadata": {
    "collapsed": true
   },
   "outputs": [],
   "source": [
    "def any_lowercase1(s):\n",
    "    for c in s:\n",
    "        if c.islower():\n",
    "            return True\n",
    "        else:\n",
    "            return False"
   ]
  },
  {
   "cell_type": "markdown",
   "metadata": {},
   "source": [
    " "
   ]
  },
  {
   "cell_type": "code",
   "execution_count": null,
   "metadata": {
    "collapsed": true
   },
   "outputs": [],
   "source": [
    "def any_lowercase2(s):\n",
    "    for c in s:\n",
    "        if 'c'.islower():\n",
    "            return 'True'\n",
    "        else:\n",
    "            return 'False'"
   ]
  },
  {
   "cell_type": "markdown",
   "metadata": {},
   "source": [
    " "
   ]
  },
  {
   "cell_type": "code",
   "execution_count": null,
   "metadata": {
    "collapsed": true
   },
   "outputs": [],
   "source": [
    "def any_lowercase3(s):\n",
    "    for c in s:\n",
    "        flag = c.islower()\n",
    "    return flag"
   ]
  },
  {
   "cell_type": "markdown",
   "metadata": {},
   "source": [
    " "
   ]
  },
  {
   "cell_type": "code",
   "execution_count": null,
   "metadata": {
    "collapsed": true
   },
   "outputs": [],
   "source": [
    "def any_lowercase4(s):\n",
    "    flag = False\n",
    "    for c in s:\n",
    "        flag = flag or c.islower()\n",
    "    return flag"
   ]
  },
  {
   "cell_type": "markdown",
   "metadata": {},
   "source": [
    " "
   ]
  },
  {
   "cell_type": "code",
   "execution_count": null,
   "metadata": {
    "collapsed": true
   },
   "outputs": [],
   "source": [
    "def any_lowercase5(s):\n",
    "    for c in s:\n",
    "        if not c.islower():\n",
    "            return False\n",
    "    return True"
   ]
  },
  {
   "cell_type": "markdown",
   "metadata": {},
   "source": [
    " "
   ]
  },
  {
   "cell_type": "code",
   "execution_count": 13,
   "metadata": {
    "collapsed": false
   },
   "outputs": [
    {
     "data": {
      "text/plain": [
       "False"
      ]
     },
     "execution_count": 13,
     "metadata": {},
     "output_type": "execute_result"
    }
   ],
   "source": [
    "def any_lowercase1(s):\n",
    "    for c in s:\n",
    "        if c.islower():\n",
    "            return True\n",
    "        else:\n",
    "            return False"
   ]
  },
  {
   "cell_type": "markdown",
   "metadata": {},
   "source": [
    "This function checks whether a string contains all lowercase letters. "
   ]
  },
  {
   "cell_type": "code",
   "execution_count": 4,
   "metadata": {
    "collapsed": false
   },
   "outputs": [
    {
     "data": {
      "text/plain": [
       "'True'"
      ]
     },
     "execution_count": 4,
     "metadata": {},
     "output_type": "execute_result"
    }
   ],
   "source": [
    "def any_lowercase2(s):\n",
    "    for c in s:\n",
    "        if 'c'.islower():\n",
    "            return 'True'\n",
    "        else:\n",
    "            return 'False')"
   ]
  },
  {
   "cell_type": "markdown",
   "metadata": {},
   "source": [
    "Always returns True because it checks the capitalization of the string 'c' rather than the variable c. "
   ]
  },
  {
   "cell_type": "code",
   "execution_count": 7,
   "metadata": {
    "collapsed": false
   },
   "outputs": [
    {
     "data": {
      "text/plain": [
       "False"
      ]
     },
     "execution_count": 7,
     "metadata": {},
     "output_type": "execute_result"
    }
   ],
   "source": [
    "def any_lowercase3(s):\n",
    "    for c in s:\n",
    "        flag = c.islower()\n",
    "    return flag\n",
    "any_lowercase3('hellO')\n"
   ]
  },
  {
   "cell_type": "markdown",
   "metadata": {},
   "source": [
    " This function only returns what it checks for the capitalization of the final character."
   ]
  },
  {
   "cell_type": "code",
   "execution_count": 11,
   "metadata": {
    "collapsed": false
   },
   "outputs": [
    {
     "data": {
      "text/plain": [
       "False"
      ]
     },
     "execution_count": 11,
     "metadata": {},
     "output_type": "execute_result"
    }
   ],
   "source": [
    "def any_lowercase4(s):\n",
    "    flag = False\n",
    "    for c in s:\n",
    "        flag = flag or c.islower()\n",
    "    return flag\n",
    "any_lowercase4('HELLO')"
   ]
  },
  {
   "cell_type": "markdown",
   "metadata": {},
   "source": [
    "This function is working correctly.  "
   ]
  },
  {
   "cell_type": "code",
   "execution_count": null,
   "metadata": {
    "collapsed": true
   },
   "outputs": [],
   "source": [
    "def any_lowercase5(s):\n",
    "    for c in s:\n",
    "        if not c.islower():\n",
    "            return False\n",
    "    return True"
   ]
  },
  {
   "cell_type": "markdown",
   "metadata": {},
   "source": [
    "This function checks if the letter contains all lowercase letters."
   ]
  },
  {
   "cell_type": "code",
   "execution_count": 76,
   "metadata": {
    "collapsed": false
   },
   "outputs": [
    {
     "data": {
      "text/plain": [
       "True"
      ]
     },
     "execution_count": 76,
     "metadata": {},
     "output_type": "execute_result"
    }
   ],
   "source": [
    "def any_lowercase1(s):\n",
    "    for c in s:\n",
    "        if c.islower():\n",
    "            return True\n",
    "        else:\n",
    "            return False\n",
    "        \n",
    "any_lowercase1(\"Abc\") #only checks the first character"
   ]
  },
  {
   "cell_type": "markdown",
   "metadata": {},
   "source": [
    " "
   ]
  },
  {
   "cell_type": "code",
   "execution_count": 75,
   "metadata": {
    "collapsed": false
   },
   "outputs": [
    {
     "data": {
      "text/plain": [
       "'True'"
      ]
     },
     "execution_count": 75,
     "metadata": {},
     "output_type": "execute_result"
    }
   ],
   "source": [
    "def any_lowercase2(s):\n",
    "    for c in s:\n",
    "        if 'c'.islower():\n",
    "            return 'True'\n",
    "        else:\n",
    "            return 'False'\n",
    "        \n",
    "any_lowercase2(\"ABC\") #function is checking to see if the character \"c\"\n",
    "                      #is lowercase.  It does not use the characters in\n",
    "                      #the string "
   ]
  },
  {
   "cell_type": "markdown",
   "metadata": {},
   "source": [
    " "
   ]
  },
  {
   "cell_type": "code",
   "execution_count": 85,
   "metadata": {
    "collapsed": false
   },
   "outputs": [
    {
     "data": {
      "text/plain": [
       "False"
      ]
     },
     "execution_count": 85,
     "metadata": {},
     "output_type": "execute_result"
    }
   ],
   "source": [
    "def any_lowercase3(s):\n",
    "    for c in s:\n",
    "        flag = c.islower()\n",
    "    return flag\n",
    "\n",
    "any_lowercase3(\"abC\") #only checks the last letter"
   ]
  },
  {
   "cell_type": "markdown",
   "metadata": {},
   "source": [
    " "
   ]
  },
  {
   "cell_type": "code",
   "execution_count": 96,
   "metadata": {
    "collapsed": false
   },
   "outputs": [
    {
     "data": {
      "text/plain": [
       "True"
      ]
     },
     "execution_count": 96,
     "metadata": {},
     "output_type": "execute_result"
    }
   ],
   "source": [
    "def any_lowercase4(s):\n",
    "    flag = False\n",
    "    for c in s:\n",
    "        flag = flag or c.islower()\n",
    "    return flag\n",
    "\n",
    "\"\"\"\n",
    "I can't seem to find an error in this one.  As soon as c.islower() \n",
    "evaluates to True, flag will never return false.\n",
    "\"\"\""
   ]
  },
  {
   "cell_type": "markdown",
   "metadata": {},
   "source": [
    " "
   ]
  },
  {
   "cell_type": "code",
   "execution_count": 100,
   "metadata": {
    "collapsed": false
   },
   "outputs": [
    {
     "data": {
      "text/plain": [
       "False"
      ]
     },
     "execution_count": 100,
     "metadata": {},
     "output_type": "execute_result"
    }
   ],
   "source": [
    "def any_lowercase5(s):\n",
    "    for c in s:\n",
    "        if not c.islower():\n",
    "            return False\n",
    "    return True\n",
    "\n",
    "any_lowercase5(\"Abc\") #this checks if the entire string is lowercase"
   ]
  },
  {
   "cell_type": "markdown",
   "metadata": {},
   "source": [
    " "
   ]
  },
  {
   "cell_type": "code",
   "execution_count": 27,
   "metadata": {
    "collapsed": false
   },
   "outputs": [
    {
     "data": {
      "text/plain": [
       "True"
      ]
     },
     "execution_count": 27,
     "metadata": {},
     "output_type": "execute_result"
    }
   ],
   "source": [
    "def any_lowercase1(s):\n",
    "    for c in s:\n",
    "        if c.islower():\n",
    "            return True\n",
    "        else:\n",
    "            return False\n",
    "any_lowercase1('yes')\n",
    "\n",
    "#this checks to see if all the letters in the string are lowercase. It returns true if they all are, false otherwise."
   ]
  },
  {
   "cell_type": "markdown",
   "metadata": {},
   "source": [
    " "
   ]
  },
  {
   "cell_type": "code",
   "execution_count": 32,
   "metadata": {
    "collapsed": false
   },
   "outputs": [
    {
     "data": {
      "text/plain": [
       "'True'"
      ]
     },
     "execution_count": 32,
     "metadata": {},
     "output_type": "execute_result"
    }
   ],
   "source": [
    "def any_lowercase2(s):\n",
    "    for c in s:\n",
    "        if 'c'.islower():\n",
    "            return 'True'\n",
    "        else:\n",
    "            return 'False'\n",
    "\n",
    "any_lowercase2('123')\n",
    "#This just checks to see if it is a string. If it is, it returns a string 'True' and if it is not, we get an error message and it doesn't work."
   ]
  },
  {
   "cell_type": "markdown",
   "metadata": {},
   "source": [
    " "
   ]
  },
  {
   "cell_type": "code",
   "execution_count": 35,
   "metadata": {
    "collapsed": false
   },
   "outputs": [
    {
     "data": {
      "text/plain": [
       "False"
      ]
     },
     "execution_count": 35,
     "metadata": {},
     "output_type": "execute_result"
    }
   ],
   "source": [
    "def any_lowercase3(s):\n",
    "    for c in s:\n",
    "        flag = c.islower()\n",
    "    return flag\n",
    "\n",
    "any_lowercase3('STRING')\n",
    "#This returns True if there are any lowercase letters. If there are none, it returns False."
   ]
  },
  {
   "cell_type": "markdown",
   "metadata": {},
   "source": [
    " "
   ]
  },
  {
   "cell_type": "code",
   "execution_count": 42,
   "metadata": {
    "collapsed": false
   },
   "outputs": [
    {
     "data": {
      "text/plain": [
       "True"
      ]
     },
     "execution_count": 42,
     "metadata": {},
     "output_type": "execute_result"
    }
   ],
   "source": [
    "def any_lowercase4(s):\n",
    "    flag = False\n",
    "    for c in s:\n",
    "        flag = flag or c.islower()\n",
    "    return flag\n",
    "\n",
    "any_lowercase4('StrinG')\n",
    "#This returns True if there are any lowercase letters, False otherwise."
   ]
  },
  {
   "cell_type": "markdown",
   "metadata": {},
   "source": [
    " "
   ]
  },
  {
   "cell_type": "code",
   "execution_count": 48,
   "metadata": {
    "collapsed": false
   },
   "outputs": [
    {
     "data": {
      "text/plain": [
       "False"
      ]
     },
     "execution_count": 48,
     "metadata": {},
     "output_type": "execute_result"
    }
   ],
   "source": [
    "def any_lowercase5(s):\n",
    "    for c in s:\n",
    "        if not c.islower():\n",
    "            return False\n",
    "    return True\n",
    "\n",
    "any_lowercase5('string1')\n",
    "#This checks to see if ALL the letters are lowercase. And if all the characters in the string are letters. "
   ]
  },
  {
   "cell_type": "markdown",
   "metadata": {},
   "source": [
    " "
   ]
  },
  {
   "cell_type": "code",
   "execution_count": 10,
   "metadata": {
    "collapsed": false
   },
   "outputs": [
    {
     "name": "stdout",
     "output_type": "stream",
     "text": [
      "**********************************************************************\n",
      "File \"__main__\", line 5, in NoName\n",
      "Failed example:\n",
      "    any_lowercase1('HeLlo')\n",
      "Expected:\n",
      "    True\n",
      "Got:\n",
      "    False\n"
     ]
    }
   ],
   "source": [
    "def any_lowercase1(s):\n",
    "    \"\"\"\n",
    "    >>> any_lowercase1('hello')\n",
    "    True\n",
    "    >>> any_lowercase1('HeLlo')\n",
    "    True\n",
    "    >>> any_lowercase1('HELLO')\n",
    "    False\n",
    "    \"\"\"\n",
    "    for c in s:\n",
    "        if c.islower():\n",
    "            return True\n",
    "        else:\n",
    "            return False\n",
    "        \n",
    "import doctest\n",
    "doctest.run_docstring_examples(any_lowercase1, globals())"
   ]
  },
  {
   "cell_type": "markdown",
   "metadata": {},
   "source": [
    "This function does not work on a word that starts with a capital letter. It stops after evaluating the first character to either true or false."
   ]
  },
  {
   "cell_type": "markdown",
   "metadata": {},
   "source": [
    " "
   ]
  },
  {
   "cell_type": "code",
   "execution_count": 25,
   "metadata": {
    "collapsed": false
   },
   "outputs": [
    {
     "name": "stdout",
     "output_type": "stream",
     "text": [
      "**********************************************************************\n",
      "File \"__main__\", line 3, in NoName\n",
      "Failed example:\n",
      "    any_lowercase2('hello')\n",
      "Expected:\n",
      "    True\n",
      "Got:\n",
      "    'True'\n",
      "**********************************************************************\n",
      "File \"__main__\", line 5, in NoName\n",
      "Failed example:\n",
      "    any_lowercase2('HeLlo')\n",
      "Expected:\n",
      "    True\n",
      "Got:\n",
      "    'True'\n",
      "**********************************************************************\n",
      "File \"__main__\", line 7, in NoName\n",
      "Failed example:\n",
      "    any_lowercase2('HELLO')\n",
      "Expected:\n",
      "    False\n",
      "Got:\n",
      "    'True'\n"
     ]
    }
   ],
   "source": [
    "def any_lowercase2(s):\n",
    "    \"\"\"\n",
    "    >>> any_lowercase2('hello')\n",
    "    True\n",
    "    >>> any_lowercase2('HeLlo')\n",
    "    True\n",
    "    >>> any_lowercase2('HELLO')\n",
    "    False\n",
    "    \"\"\"\n",
    "    for c in s:\n",
    "        if 'c'.islower():\n",
    "            return 'True'\n",
    "        else:\n",
    "            return 'False'\n",
    "        \n",
    "any_lowercase2(' ')\n",
    "import doctest\n",
    "doctest.run_docstring_examples(any_lowercase2, globals())"
   ]
  },
  {
   "cell_type": "markdown",
   "metadata": {},
   "source": [
    "As long as there is an input in the form of a string, the function will run and produce 'True' as the answer"
   ]
  },
  {
   "cell_type": "markdown",
   "metadata": {},
   "source": [
    " "
   ]
  },
  {
   "cell_type": "code",
   "execution_count": 11,
   "metadata": {
    "collapsed": false
   },
   "outputs": [
    {
     "name": "stdout",
     "output_type": "stream",
     "text": [
      "**********************************************************************\n",
      "File \"__main__\", line 5, in NoName\n",
      "Failed example:\n",
      "    any_lowercase3('HellO')\n",
      "Expected:\n",
      "    True\n",
      "Got:\n",
      "    False\n"
     ]
    }
   ],
   "source": [
    "def any_lowercase3(s):\n",
    "    \"\"\"\n",
    "    >>> any_lowercase3('hello')\n",
    "    True\n",
    "    >>> any_lowercase3('HellO')\n",
    "    True\n",
    "    >>> any_lowercase3('HELLO')\n",
    "    False\n",
    "    \"\"\"\n",
    "    for c in s:\n",
    "        flag = c.islower()\n",
    "    return flag\n",
    "\n",
    "any_lowercase3('hello')\n",
    "import doctest\n",
    "doctest.run_docstring_examples(any_lowercase3, globals())"
   ]
  },
  {
   "cell_type": "markdown",
   "metadata": {},
   "source": [
    "This breaks when the last character of the word evaluates to false, as it returns the last statement of either true or false."
   ]
  },
  {
   "cell_type": "code",
   "execution_count": 21,
   "metadata": {
    "collapsed": false
   },
   "outputs": [],
   "source": [
    "def any_lowercase4(s):\n",
    "    \"\"\"\n",
    "    >>> any_lowercase4('hello')\n",
    "    True\n",
    "    >>> any_lowercase4('HellO')\n",
    "    True\n",
    "    >>> any_lowercase4('HELLO')\n",
    "    False\n",
    "    \"\"\"\n",
    "    flag = False\n",
    "    for c in s:\n",
    "        flag = flag or c.islower()\n",
    "    return flag\n",
    "\n",
    "any_lowercase4('HELlO')\n",
    "import doctest\n",
    "doctest.run_docstring_examples(any_lowercase4, globals())"
   ]
  },
  {
   "cell_type": "markdown",
   "metadata": {},
   "source": [
    "This works!"
   ]
  },
  {
   "cell_type": "code",
   "execution_count": 24,
   "metadata": {
    "collapsed": false
   },
   "outputs": [
    {
     "name": "stdout",
     "output_type": "stream",
     "text": [
      "**********************************************************************\n",
      "File \"__main__\", line 5, in NoName\n",
      "Failed example:\n",
      "    any_lowercase5('Hello')\n",
      "Expected:\n",
      "    True\n",
      "Got:\n",
      "    False\n"
     ]
    }
   ],
   "source": [
    "def any_lowercase5(s):\n",
    "    \"\"\"\n",
    "    >>> any_lowercase5('hello')\n",
    "    True\n",
    "    >>> any_lowercase5('Hello')\n",
    "    True\n",
    "    >>> any_lowercase5('HELLO')\n",
    "    False\n",
    "    \"\"\"\n",
    "    for c in s:\n",
    "        if not c.islower():\n",
    "            return False\n",
    "    return True\n",
    "any_lowercase5('HeLlO')\n",
    "import doctest\n",
    "doctest.run_docstring_examples(any_lowercase5, globals())"
   ]
  },
  {
   "cell_type": "markdown",
   "metadata": {},
   "source": [
    " The function cuts off when it reaches a false and does not evaluate further."
   ]
  },
  {
   "cell_type": "code",
   "execution_count": null,
   "metadata": {
    "collapsed": true
   },
   "outputs": [],
   "source": [
    "def any_lowercase1(s):\n",
    "    for c in s:\n",
    "        if c.islower():\n",
    "            return True\n",
    "        else:\n",
    "            return False"
   ]
  },
  {
   "cell_type": "markdown",
   "metadata": {},
   "source": [
    "This function will return false as soon as it hits a letter that is not lowercase, so if the first letter is uppercase, it will return false immediately. "
   ]
  },
  {
   "cell_type": "code",
   "execution_count": null,
   "metadata": {
    "collapsed": true
   },
   "outputs": [],
   "source": [
    "def any_lowercase2(s):\n",
    "    for c in s:\n",
    "        if 'c'.islower():\n",
    "            return 'True'\n",
    "        else:\n",
    "            return 'False'"
   ]
  },
  {
   "cell_type": "markdown",
   "metadata": {},
   "source": [
    "This does the same thing, ending if it starts with an uppercase letter, but it also returns strings that say 'True' and 'False' which are not booleans, and will both evaluate to 1 because they are not empty. It doesn't work. "
   ]
  },
  {
   "cell_type": "code",
   "execution_count": null,
   "metadata": {
    "collapsed": true
   },
   "outputs": [],
   "source": [
    "def any_lowercase3(s):\n",
    "    for c in s:\n",
    "        flag = c.islower()\n",
    "    return flag"
   ]
  },
  {
   "cell_type": "markdown",
   "metadata": {},
   "source": [
    "This function will return whether or not the last character in the string is lower, because the flag variable gets reset to the evaluation of c.islower() in every loop. If the last character in the string is uppercase, it will return false, regardless of what came before. Doesn't work. "
   ]
  },
  {
   "cell_type": "code",
   "execution_count": null,
   "metadata": {
    "collapsed": true
   },
   "outputs": [],
   "source": [
    "def any_lowercase4(s):\n",
    "    flag = False\n",
    "    for c in s:\n",
    "        flag = flag or c.islower()\n",
    "    return flag"
   ]
  },
  {
   "cell_type": "markdown",
   "metadata": {},
   "source": [
    "This works, if at any point c.islower() is true, flag gets set to true, and will always return true when 'or'ed with another boolean. "
   ]
  },
  {
   "cell_type": "code",
   "execution_count": null,
   "metadata": {
    "collapsed": true
   },
   "outputs": [],
   "source": [
    "def any_lowercase5(s):\n",
    "    for c in s:\n",
    "        if not c.islower():\n",
    "            return False\n",
    "    return True"
   ]
  },
  {
   "cell_type": "markdown",
   "metadata": {},
   "source": [
    "This does not work. If at any point there is an uppercase letter, not c.islower() will evaluate to true, and the function will return false, regardless of the preceding characters. This function returns if the string is all lowercase.  "
   ]
  },
  {
   "cell_type": "code",
   "execution_count": null,
   "metadata": {
    "collapsed": true
   },
   "outputs": [],
   "source": [
    "def any_lowercase1(s):\n",
    "    for c in s:\n",
    "        if c.islower():\n",
    "            return True\n",
    "        else:\n",
    "            return False"
   ]
  },
  {
   "cell_type": "code",
   "execution_count": null,
   "metadata": {
    "collapsed": true
   },
   "outputs": [],
   "source": [
    "This function checks the first character in the string for lowercase and returns true if it is lowercase, otherwise it \n",
    "returns false"
   ]
  },
  {
   "cell_type": "markdown",
   "metadata": {},
   "source": [
    " "
   ]
  },
  {
   "cell_type": "code",
   "execution_count": null,
   "metadata": {
    "collapsed": true
   },
   "outputs": [],
   "source": [
    "def any_lowercase2(s):\n",
    "    for c in s:\n",
    "        if 'c'.islower():\n",
    "            return 'True'\n",
    "        else:\n",
    "            return 'False'"
   ]
  },
  {
   "cell_type": "code",
   "execution_count": null,
   "metadata": {
    "collapsed": true
   },
   "outputs": [],
   "source": [
    "This function is the same as the one above except this one returns the string true or false, not the boolean. This does \n",
    "not really make sense since in most cases, a boolean should be used."
   ]
  },
  {
   "cell_type": "markdown",
   "metadata": {},
   "source": [
    " "
   ]
  },
  {
   "cell_type": "code",
   "execution_count": null,
   "metadata": {
    "collapsed": true
   },
   "outputs": [],
   "source": [
    "def any_lowercase3(s):\n",
    "    for c in s:\n",
    "        flag = c.islower()\n",
    "    return flag"
   ]
  },
  {
   "cell_type": "code",
   "execution_count": null,
   "metadata": {
    "collapsed": true
   },
   "outputs": [],
   "source": [
    "This function returns either true or false as a boolean depending on whether the last character in the string is upper\n",
    "case or lowercase."
   ]
  },
  {
   "cell_type": "markdown",
   "metadata": {},
   "source": [
    " "
   ]
  },
  {
   "cell_type": "code",
   "execution_count": null,
   "metadata": {
    "collapsed": true
   },
   "outputs": [],
   "source": [
    "def any_lowercase4(s):\n",
    "    flag = False\n",
    "    for c in s:\n",
    "        flag = flag or c.islower()\n",
    "    return flag"
   ]
  },
  {
   "cell_type": "code",
   "execution_count": null,
   "metadata": {
    "collapsed": true
   },
   "outputs": [],
   "source": [
    "This function returns true if any of the letters are lowercase."
   ]
  },
  {
   "cell_type": "markdown",
   "metadata": {},
   "source": [
    " "
   ]
  },
  {
   "cell_type": "code",
   "execution_count": null,
   "metadata": {
    "collapsed": true
   },
   "outputs": [],
   "source": [
    "def any_lowercase5(s):\n",
    "    for c in s:\n",
    "        if not c.islower():\n",
    "            return False\n",
    "    return True"
   ]
  },
  {
   "cell_type": "code",
   "execution_count": null,
   "metadata": {
    "collapsed": true
   },
   "outputs": [],
   "source": [
    "This function returns false if any of the characters in the string are uppercase."
   ]
  },
  {
   "cell_type": "markdown",
   "metadata": {},
   "source": [
    " "
   ]
  },
  {
   "cell_type": "code",
   "execution_count": null,
   "metadata": {
    "collapsed": true
   },
   "outputs": [],
   "source": [
    "def any_lowercase1(s): #checks if the first letter only is lowercase, and returns true if so and false if not\n",
    "    for c in s: #cycles through each letter in the string parameter\n",
    "        if c.islower(): #checks if the character is lowercase\n",
    "            return True #returns true for the entire function on first iteration if the first letter is lowercase\n",
    "        else:\n",
    "            return False #returns false for the entire function on first iteration if the first letter is not lowercase"
   ]
  },
  {
   "cell_type": "markdown",
   "metadata": {},
   "source": [
    " "
   ]
  },
  {
   "cell_type": "code",
   "execution_count": null,
   "metadata": {
    "collapsed": true
   },
   "outputs": [],
   "source": [
    "def any_lowercase2(s): #always returns true, no matter the input\n",
    "    for c in s: \n",
    "        if 'c'.islower(): #checks if the lowercase letter c is lowercase - always true, evaluates if statement\n",
    "            return 'True' \n",
    "        else:\n",
    "            return 'False' #this line never used"
   ]
  },
  {
   "cell_type": "markdown",
   "metadata": {},
   "source": [
    " "
   ]
  },
  {
   "cell_type": "code",
   "execution_count": null,
   "metadata": {
    "collapsed": true
   },
   "outputs": [],
   "source": [
    "def any_lowercase3(s): #no return value\n",
    "    for c in s:\n",
    "        flag = c.islower() #assigns a new variable each iteration of the loop but does nothing with it\n",
    "    return flag #does not return anything - flag is only a variable within the for loop"
   ]
  },
  {
   "cell_type": "markdown",
   "metadata": {},
   "source": [
    " "
   ]
  },
  {
   "cell_type": "code",
   "execution_count": null,
   "metadata": {
    "collapsed": true
   },
   "outputs": [],
   "source": [
    "def any_lowercase4(s): #always returns false\n",
    "    flag = False\n",
    "    for c in s:\n",
    "        flag = flag or c.islower() #changes the value of false only inside this loop\n",
    "    return flag #the flag inside the loop is destroyed at the end of each iteration, will always return the original value"
   ]
  },
  {
   "cell_type": "markdown",
   "metadata": {},
   "source": [
    " "
   ]
  },
  {
   "cell_type": "code",
   "execution_count": null,
   "metadata": {
    "collapsed": true
   },
   "outputs": [],
   "source": [
    "def any_lowercase5(s): #returns false if there is one or more letters that are uppercase, and true if all lowercase\n",
    "    for c in s:\n",
    "        if not c.islower(): #checks to see if a letter is not lowercase\n",
    "            return False #breaks loop and returns false if one is uppercase\n",
    "    return True #only evaluates if every character is lowercase and the if statement never evaluates"
   ]
  },
  {
   "cell_type": "markdown",
   "metadata": {},
   "source": [
    " "
   ]
  },
  {
   "cell_type": "code",
   "execution_count": 98,
   "metadata": {
    "collapsed": false
   },
   "outputs": [
    {
     "data": {
      "text/plain": [
       "False"
      ]
     },
     "execution_count": 98,
     "metadata": {},
     "output_type": "execute_result"
    }
   ],
   "source": [
    "def any_lowercase1(s):\n",
    "    for c in s:\n",
    "        if c.islower():\n",
    "            return True\n",
    "        else:\n",
    "            return False\n",
    "        "
   ]
  },
  {
   "cell_type": "markdown",
   "metadata": {},
   "source": [
    "This function only check if the first character in the string is upper or lower case."
   ]
  },
  {
   "cell_type": "code",
   "execution_count": 104,
   "metadata": {
    "collapsed": false
   },
   "outputs": [
    {
     "data": {
      "text/plain": [
       "'True'"
      ]
     },
     "execution_count": 104,
     "metadata": {},
     "output_type": "execute_result"
    }
   ],
   "source": [
    "def any_lowercase2(s):\n",
    "    for c in s:\n",
    "        if 'c'.islower():\n",
    "            return 'True'\n",
    "        else:\n",
    "            return 'False'\n",
    "        "
   ]
  },
  {
   "cell_type": "markdown",
   "metadata": {},
   "source": [
    "This function will always return true, because it is saying to return 'True' if the string 'c' is lower case.  'c' is always lower case because that is how it is written in the string. "
   ]
  },
  {
   "cell_type": "code",
   "execution_count": 124,
   "metadata": {
    "collapsed": false
   },
   "outputs": [
    {
     "data": {
      "text/plain": [
       "False"
      ]
     },
     "execution_count": 124,
     "metadata": {},
     "output_type": "execute_result"
    }
   ],
   "source": [
    "def any_lowercase3(s):\n",
    "    for c in s:\n",
    "        flag = c.islower()\n",
    "    return flag\n"
   ]
  },
  {
   "cell_type": "markdown",
   "metadata": {},
   "source": [
    "This function tests every character in the string, but it only returns if the last letter is lowercase because it reassigns flag every time it goes through the loop to check the next letter."
   ]
  },
  {
   "cell_type": "code",
   "execution_count": 128,
   "metadata": {
    "collapsed": false
   },
   "outputs": [
    {
     "data": {
      "text/plain": [
       "True"
      ]
     },
     "execution_count": 128,
     "metadata": {},
     "output_type": "execute_result"
    }
   ],
   "source": [
    "def any_lowercase4(s):\n",
    "    flag = False\n",
    "    for c in s:\n",
    "        flag = flag or c.islower()\n",
    "    return flag\n",
    "\n",
    "any_lowercase4('strinG')"
   ]
  },
  {
   "cell_type": "markdown",
   "metadata": {},
   "source": [
    "This function works as intended (but I'm not entirely sure how).  It assumes the all letters are upper case to start.  As it goes through the for loop to check every letter in the word, it rewrites the value of flag, saying either that it equals itself (false) or is true.\n"
   ]
  },
  {
   "cell_type": "code",
   "execution_count": 111,
   "metadata": {
    "collapsed": false
   },
   "outputs": [
    {
     "data": {
      "text/plain": [
       "False"
      ]
     },
     "execution_count": 111,
     "metadata": {},
     "output_type": "execute_result"
    }
   ],
   "source": [
    "def any_lowercase5(s):\n",
    "    for c in s:\n",
    "        if not c.islower():\n",
    "            return False\n",
    "    return True\n",
    "\n",
    "#any_lowercase5('String')"
   ]
  },
  {
   "cell_type": "markdown",
   "metadata": {},
   "source": [
    "This function only checks if the first letter is lower case."
   ]
  },
  {
   "cell_type": "code",
   "execution_count": 28,
   "metadata": {
    "collapsed": false
   },
   "outputs": [
    {
     "data": {
      "text/plain": [
       "False"
      ]
     },
     "execution_count": 28,
     "metadata": {},
     "output_type": "execute_result"
    }
   ],
   "source": [
    "def any_lowercase1(s):\n",
    "    for c in s:\n",
    "        if c.islower():\n",
    "            return True\n",
    "        else:\n",
    "            return False\n",
    "#This function is correct     \n",
    "any_lowercase1('   ')"
   ]
  },
  {
   "cell_type": "markdown",
   "metadata": {},
   "source": [
    " "
   ]
  },
  {
   "cell_type": "code",
   "execution_count": 29,
   "metadata": {
    "collapsed": false
   },
   "outputs": [
    {
     "data": {
      "text/plain": [
       "'True'"
      ]
     },
     "execution_count": 29,
     "metadata": {},
     "output_type": "execute_result"
    }
   ],
   "source": [
    "def any_lowercase2(s):\n",
    "    for c in s:\n",
    "        if 'c'.islower():\n",
    "            return 'True'\n",
    "        else:\n",
    "            return 'False'\n",
    "#This function checks whether the string 'c' is lower cased."
   ]
  },
  {
   "cell_type": "markdown",
   "metadata": {},
   "source": [
    " "
   ]
  },
  {
   "cell_type": "code",
   "execution_count": 30,
   "metadata": {
    "collapsed": false
   },
   "outputs": [
    {
     "data": {
      "text/plain": [
       "False"
      ]
     },
     "execution_count": 30,
     "metadata": {},
     "output_type": "execute_result"
    }
   ],
   "source": [
    "def any_lowercase3(s):\n",
    "    for c in s:\n",
    "        flag = c.islower()\n",
    "    return flag\n",
    "\n",
    "any_lowercase3('   ')\n",
    "\n",
    "#This function is correct"
   ]
  },
  {
   "cell_type": "markdown",
   "metadata": {},
   "source": [
    " "
   ]
  },
  {
   "cell_type": "code",
   "execution_count": 45,
   "metadata": {
    "collapsed": false
   },
   "outputs": [
    {
     "data": {
      "text/plain": [
       "False"
      ]
     },
     "execution_count": 45,
     "metadata": {},
     "output_type": "execute_result"
    }
   ],
   "source": [
    "def any_lowercase4(s):\n",
    "    flag = False\n",
    "    for c in s:\n",
    "        flag = flag or c.islower()\n",
    "    return flag\n",
    "\n",
    "any_lowercase4('ABC')\n",
    "\n",
    "# This is also correct"
   ]
  },
  {
   "cell_type": "markdown",
   "metadata": {},
   "source": [
    " "
   ]
  },
  {
   "cell_type": "code",
   "execution_count": 46,
   "metadata": {
    "collapsed": false
   },
   "outputs": [
    {
     "name": "stdout",
     "output_type": "stream",
     "text": [
      "False\n",
      "False\n"
     ]
    }
   ],
   "source": [
    "def any_lowercase5(s):\n",
    "    for c in s:\n",
    "        if not c.islower():\n",
    "            return False\n",
    "    return True\n",
    "\n",
    "print any_lowercase5('abc  -')\n",
    "\n",
    "#This function returns false if one of the character is not lower case. \n",
    "#It only returns true when all letters in the string are lower case. "
   ]
  },
  {
   "cell_type": "markdown",
   "metadata": {},
   "source": [
    " "
   ]
  },
  {
   "cell_type": "code",
   "execution_count": 29,
   "metadata": {
    "collapsed": false,
    "scrolled": true
   },
   "outputs": [
    {
     "data": {
      "text/plain": [
       "False"
      ]
     },
     "execution_count": 29,
     "metadata": {},
     "output_type": "execute_result"
    }
   ],
   "source": [
    "def any_lowercase1(s):\n",
    "    for c in s:\n",
    "        if c.islower():\n",
    "            return True\n",
    "        else:\n",
    "            return False\n",
    "any_lowercase1('Plol')"
   ]
  },
  {
   "cell_type": "markdown",
   "metadata": {},
   "source": [
    "This checks the letters in order, and if the first letter is not loercase then it returns False. It does not check all of the letters if a leading letter fails. "
   ]
  },
  {
   "cell_type": "markdown",
   "metadata": {},
   "source": [
    " "
   ]
  },
  {
   "cell_type": "code",
   "execution_count": 31,
   "metadata": {
    "collapsed": false,
    "scrolled": true
   },
   "outputs": [
    {
     "data": {
      "text/plain": [
       "'True'"
      ]
     },
     "execution_count": 31,
     "metadata": {},
     "output_type": "execute_result"
    }
   ],
   "source": [
    "def any_lowercase2(s):\n",
    "    for c in s:\n",
    "        if 'c'.islower():\n",
    "            return 'True'\n",
    "        else:\n",
    "            return 'False'\n",
    "any_lowercase2('LOL')"
   ]
  },
  {
   "cell_type": "markdown",
   "metadata": {},
   "source": [
    "This checks if the string 'c' has lowercase letters, and then it returns true since 'c' does indeed contain lowercase letters. "
   ]
  },
  {
   "cell_type": "markdown",
   "metadata": {},
   "source": [
    " "
   ]
  },
  {
   "cell_type": "code",
   "execution_count": 37,
   "metadata": {
    "collapsed": false
   },
   "outputs": [
    {
     "data": {
      "text/plain": [
       "False"
      ]
     },
     "execution_count": 37,
     "metadata": {},
     "output_type": "execute_result"
    }
   ],
   "source": [
    "def any_lowercase3(s):\n",
    "    for c in s:\n",
    "        flag = c.islower()\n",
    "    return flag\n",
    "any_lowercase3('lolLOL')"
   ]
  },
  {
   "cell_type": "markdown",
   "metadata": {},
   "source": [
    "This returns the most recent value of flag, which, since islower() goes in index order, is 'L'. Thus it returns false because flag is overwritten to false if the last letter Upper case."
   ]
  },
  {
   "cell_type": "markdown",
   "metadata": {},
   "source": [
    " "
   ]
  },
  {
   "cell_type": "code",
   "execution_count": 41,
   "metadata": {
    "collapsed": false,
    "scrolled": true
   },
   "outputs": [
    {
     "data": {
      "text/plain": [
       "False"
      ]
     },
     "execution_count": 41,
     "metadata": {},
     "output_type": "execute_result"
    }
   ],
   "source": [
    "def any_lowercase4(s):\n",
    "    flag = False\n",
    "    for c in s:\n",
    "        flag = flag or c.islower()\n",
    "    return flag\n",
    "any_lowercase4('LOL')"
   ]
  },
  {
   "cell_type": "markdown",
   "metadata": {},
   "source": [
    "flag is initially false, and it is only assigned as true if c.islower() evaluates to true. This is because the or statement looks for a true value in either flag or c.islower() and will return true if one of them is true. This is good code."
   ]
  },
  {
   "cell_type": "markdown",
   "metadata": {},
   "source": [
    " "
   ]
  },
  {
   "cell_type": "code",
   "execution_count": 49,
   "metadata": {
    "collapsed": false,
    "scrolled": true
   },
   "outputs": [
    {
     "data": {
      "text/plain": [
       "False"
      ]
     },
     "execution_count": 49,
     "metadata": {},
     "output_type": "execute_result"
    }
   ],
   "source": [
    "def any_lowercase5(s):\n",
    "    for c in s:\n",
    "        if not c.islower():\n",
    "            return False\n",
    "    return True\n",
    "any_lowercase5('lolL')"
   ]
  },
  {
   "cell_type": "markdown",
   "metadata": {},
   "source": [
    "This only returns true if all of the letters are lowercase, because not returns true if all of the letters in the loop are lowercase, and if this doesn't happen then it returns false. "
   ]
  },
  {
   "cell_type": "markdown",
   "metadata": {},
   "source": [
    " "
   ]
  },
  {
   "cell_type": "code",
   "execution_count": 34,
   "metadata": {
    "collapsed": false
   },
   "outputs": [
    {
     "data": {
      "text/plain": [
       "False"
      ]
     },
     "execution_count": 34,
     "metadata": {},
     "output_type": "execute_result"
    }
   ],
   "source": [
    "def any_lowercase1(s):\n",
    "    for c in s:\n",
    "        if c.islower():\n",
    "            return True\n",
    "        else:\n",
    "            return False\n",
    "        \n",
    "print \"Returns T/F if the FIRST character is lower- or uppercase. Returns inside the if-loop, so it doesn't get past the first character.\""
   ]
  },
  {
   "cell_type": "markdown",
   "metadata": {},
   "source": [
    "Returns T/F if the FIRST character is lower- or uppercase. Returns inside the if-loop, so it doesn't get past the first character. "
   ]
  },
  {
   "cell_type": "code",
   "execution_count": null,
   "metadata": {
    "collapsed": true
   },
   "outputs": [],
   "source": [
    "def any_lowercase2(s):\n",
    "    for c in s:\n",
    "        if 'c'.islower():\n",
    "            return 'True'\n",
    "        else:\n",
    "            return 'False'\n",
    "print \"This one doesn't even return a proper boolean\""
   ]
  },
  {
   "cell_type": "markdown",
   "metadata": {},
   "source": [
    "This one doesn't even return a proper boolean + same problem as any_lowercase1"
   ]
  },
  {
   "cell_type": "code",
   "execution_count": 43,
   "metadata": {
    "collapsed": false
   },
   "outputs": [
    {
     "name": "stdout",
     "output_type": "stream",
     "text": [
      "True\n"
     ]
    }
   ],
   "source": [
    "def any_lowercase3(s):\n",
    "    for c in s:\n",
    "        flag = c.islower()\n",
    "    return flag\n",
    "\n",
    "print 'Returns the bool of the final letter'"
   ]
  },
  {
   "cell_type": "markdown",
   "metadata": {},
   "source": [
    "Returns the bool of the final letter "
   ]
  },
  {
   "cell_type": "code",
   "execution_count": 53,
   "metadata": {
    "collapsed": false
   },
   "outputs": [
    {
     "name": "stdout",
     "output_type": "stream",
     "text": [
      "False\n",
      "False\n",
      "False\n",
      "False\n",
      "False\n",
      "False\n",
      "True\n",
      "True\n"
     ]
    },
    {
     "data": {
      "text/plain": [
       "True"
      ]
     },
     "execution_count": 53,
     "metadata": {},
     "output_type": "execute_result"
    }
   ],
   "source": [
    "def any_lowercase4(s):\n",
    "    flag = False\n",
    "    for c in s:\n",
    "        flag = flag or c.islower()\n",
    "        print flag\n",
    "    return flag\n",
    "any_lowercase4('HEY THaR')"
   ]
  },
  {
   "cell_type": "markdown",
   "metadata": {},
   "source": [
    "I think this is written confusingly with the 'assignment or' line, but seems to function fine!"
   ]
  },
  {
   "cell_type": "code",
   "execution_count": 54,
   "metadata": {
    "collapsed": false
   },
   "outputs": [
    {
     "name": "stdout",
     "output_type": "stream",
     "text": [
      "False\n"
     ]
    }
   ],
   "source": [
    "def any_lowercase5(s):\n",
    "    for c in s:\n",
    "        if not c.islower():\n",
    "            return False\n",
    "    return True"
   ]
  },
  {
   "cell_type": "markdown",
   "metadata": {},
   "source": [
    "This one does things backward - it breaks out and declares False as soon as it finds an uppercase, rather than declaring True as soon as it finds a lowercase. "
   ]
  },
  {
   "cell_type": "code",
   "execution_count": 40,
   "metadata": {
    "collapsed": false
   },
   "outputs": [
    {
     "name": "stdout",
     "output_type": "stream",
     "text": [
      "False\n",
      "True\n"
     ]
    }
   ],
   "source": [
    "def any_lowercase1(s):\n",
    "    for c in s:\n",
    "        if c.islower():\n",
    "            return True\n",
    "        else:\n",
    "            return False\n",
    "\n",
    "print any_lowercase1('TWeLFTH')\n",
    "print any_lowercase1('tWELFTH')"
   ]
  },
  {
   "cell_type": "markdown",
   "metadata": {},
   "source": [
    "The function checks if the first letter is lowercase - the returns mean that the flow of execution is stopped after the first iteration of the loop, no matter what. I think you could replace \"return False\" with \"continue\" and it would work."
   ]
  },
  {
   "cell_type": "markdown",
   "metadata": {},
   "source": [
    " "
   ]
  },
  {
   "cell_type": "code",
   "execution_count": 43,
   "metadata": {
    "collapsed": false
   },
   "outputs": [
    {
     "name": "stdout",
     "output_type": "stream",
     "text": [
      "True\n",
      "True\n",
      "None\n"
     ]
    }
   ],
   "source": [
    "def any_lowercase2(s):\n",
    "    for c in s:\n",
    "        if 'c'.islower():\n",
    "            return 'True'\n",
    "        else:\n",
    "            return 'False'\n",
    "\n",
    "print any_lowercase2('TWeLFTH')\n",
    "print any_lowercase2('TWELFTH')\n",
    "print any_lowercase2('')"
   ]
  },
  {
   "cell_type": "markdown",
   "metadata": {},
   "source": [
    "This function has all the problems of the previous one, plus more. It doesn't actually check if the letters in the string are lowercase, it checks if the string 'c' is...spoiler alert, it always is. And on top of that, not only does it always return True (except if you put in an empty string, in which case the for loop doesn't execute), it doesn't even bother to return it as a Boolean. RUDE. "
   ]
  },
  {
   "cell_type": "markdown",
   "metadata": {},
   "source": [
    " "
   ]
  },
  {
   "cell_type": "code",
   "execution_count": 1,
   "metadata": {
    "collapsed": false
   },
   "outputs": [
    {
     "name": "stdout",
     "output_type": "stream",
     "text": [
      "True\n",
      "False\n",
      "False\n"
     ]
    }
   ],
   "source": [
    "def any_lowercase3(s):\n",
    "    for c in s:\n",
    "        flag = c.islower()\n",
    "    return flag\n",
    "\n",
    "print any_lowercase3('Twelfth')\n",
    "print any_lowercase3('TWELFTH')\n",
    "print any_lowercase3('twelftH')\n",
    "#print any_lowercase3('')"
   ]
  },
  {
   "cell_type": "markdown",
   "metadata": {},
   "source": [
    "This is like, the opposite of the first one. It only checks if the last letter is lowercase, since flag is reassigned every loop iteration. You could fix that by checking if it's True, and breaking the loop if it was. Also, if you input an empty string, it freaks out cuz flag isn't initialized before the loop."
   ]
  },
  {
   "cell_type": "markdown",
   "metadata": {},
   "source": [
    " "
   ]
  },
  {
   "cell_type": "code",
   "execution_count": 2,
   "metadata": {
    "collapsed": false
   },
   "outputs": [
    {
     "name": "stdout",
     "output_type": "stream",
     "text": [
      "True\n",
      "False\n",
      "True\n",
      "True\n",
      "False\n"
     ]
    }
   ],
   "source": [
    "def any_lowercase4(s):\n",
    "    flag = False\n",
    "    for c in s:\n",
    "        flag = flag or c.islower()\n",
    "    return flag\n",
    "\n",
    "print any_lowercase4('Twelfth')\n",
    "print any_lowercase4('TWELFTH')\n",
    "print any_lowercase4('twelftH')\n",
    "print any_lowercase4('TWeLFTH')\n",
    "print any_lowercase4('')"
   ]
  },
  {
   "cell_type": "markdown",
   "metadata": {},
   "source": [
    "This one checks out. Good Job!"
   ]
  },
  {
   "cell_type": "markdown",
   "metadata": {},
   "source": [
    " "
   ]
  },
  {
   "cell_type": "code",
   "execution_count": 5,
   "metadata": {
    "collapsed": false
   },
   "outputs": [
    {
     "name": "stdout",
     "output_type": "stream",
     "text": [
      "False\n",
      "False\n",
      "True\n",
      "False\n",
      "True\n"
     ]
    }
   ],
   "source": [
    "def any_lowercase5(s):\n",
    "    for c in s:\n",
    "        if not c.islower():\n",
    "            return False\n",
    "    return True\n",
    "\n",
    "print any_lowercase5('Twelfth')\n",
    "print any_lowercase5('TWELFTH')\n",
    "print any_lowercase5('twelfth')\n",
    "print any_lowercase5('TWeLFTH')\n",
    "print any_lowercase5('')"
   ]
  },
  {
   "cell_type": "markdown",
   "metadata": {},
   "source": [
    "This one checks if EVERYTHING is lowercase, as opposed to if ANYTHING is lowercase. And it returns the wrong value for the empty string."
   ]
  },
  {
   "cell_type": "code",
   "execution_count": null,
   "metadata": {
    "collapsed": true
   },
   "outputs": [],
   "source": [
    "def any_lowercase1(s):\n",
    "    for c in s:\n",
    "        if c.islower():\n",
    "            return True\n",
    "        else:\n",
    "            return False"
   ]
  },
  {
   "cell_type": "markdown",
   "metadata": {},
   "source": [
    " "
   ]
  },
  {
   "cell_type": "code",
   "execution_count": null,
   "metadata": {
    "collapsed": true
   },
   "outputs": [],
   "source": [
    "def any_lowercase2(s):\n",
    "    for c in s:\n",
    "        if 'c'.islower():\n",
    "            return 'True'\n",
    "        else:\n",
    "            return 'False'"
   ]
  },
  {
   "cell_type": "markdown",
   "metadata": {},
   "source": [
    " "
   ]
  },
  {
   "cell_type": "code",
   "execution_count": null,
   "metadata": {
    "collapsed": true
   },
   "outputs": [],
   "source": [
    "def any_lowercase3(s):\n",
    "    for c in s:\n",
    "        flag = c.islower()\n",
    "    return flag"
   ]
  },
  {
   "cell_type": "markdown",
   "metadata": {},
   "source": [
    " "
   ]
  },
  {
   "cell_type": "code",
   "execution_count": null,
   "metadata": {
    "collapsed": true
   },
   "outputs": [],
   "source": [
    "def any_lowercase4(s):\n",
    "    flag = False\n",
    "    for c in s:\n",
    "        flag = flag or c.islower()\n",
    "    return flag"
   ]
  },
  {
   "cell_type": "markdown",
   "metadata": {},
   "source": [
    " "
   ]
  },
  {
   "cell_type": "code",
   "execution_count": null,
   "metadata": {
    "collapsed": true
   },
   "outputs": [],
   "source": [
    "def any_lowercase5(s):\n",
    "    for c in s:\n",
    "        if not c.islower():\n",
    "            return False\n",
    "    return True"
   ]
  },
  {
   "cell_type": "markdown",
   "metadata": {},
   "source": [
    " "
   ]
  },
  {
   "cell_type": "code",
   "execution_count": 84,
   "metadata": {
    "collapsed": false
   },
   "outputs": [
    {
     "name": "stdout",
     "output_type": "stream",
     "text": [
      "False\n",
      "True\n",
      "False\n",
      "False\n",
      "True\n",
      "False\n"
     ]
    }
   ],
   "source": [
    "def any_lowercase1(s):\n",
    "    for c in s:\n",
    "        if c.islower():\n",
    "            return True\n",
    "        else:\n",
    "            return False\n",
    "print any_lowercase1('ABCDe') #False\n",
    "print any_lowercase1('aBCDE') #True\n",
    "print any_lowercase1('ABcDE') #False\n",
    "print any_lowercase1('ABC def') #False\n",
    "print any_lowercase1('aBC DEF') #True\n",
    "print any_lowercase1('ABc DEF') #False"
   ]
  },
  {
   "cell_type": "markdown",
   "metadata": {},
   "source": [
    "If there's only one word in the input string, it checks to see if the first character is lower case; if it is, then it returns True. If it isn't, then it returns False.\n",
    "\n",
    "If there's a sentence in the string, it checks the first character of the first sentences to see if it's lowercase. If that first character is, then it returns true. "
   ]
  },
  {
   "cell_type": "markdown",
   "metadata": {},
   "source": [
    " "
   ]
  },
  {
   "cell_type": "code",
   "execution_count": 88,
   "metadata": {
    "collapsed": false
   },
   "outputs": [
    {
     "data": {
      "text/plain": [
       "'True'"
      ]
     },
     "execution_count": 88,
     "metadata": {},
     "output_type": "execute_result"
    }
   ],
   "source": [
    "def any_lowercase2(s):\n",
    "    for c in s:\n",
    "        if 'c'.islower():\n",
    "            return 'True'\n",
    "        else:\n",
    "            return 'False'\n",
    "any_lowercase2('ASDF')"
   ]
  },
  {
   "cell_type": "markdown",
   "metadata": {},
   "source": [
    "This function only returns 'True', which is the string, not the boolean. In addition to the string return, this function has the infinitely true statement, 'c'.islower(), since 'c' is a string."
   ]
  },
  {
   "cell_type": "code",
   "execution_count": 101,
   "metadata": {
    "collapsed": false
   },
   "outputs": [
    {
     "data": {
      "text/plain": [
       "False"
      ]
     },
     "execution_count": 101,
     "metadata": {},
     "output_type": "execute_result"
    }
   ],
   "source": [
    "def any_lowercase3(s):\n",
    "    for c in s:\n",
    "        flag = c.islower()\n",
    "    return flag\n",
    "\n",
    "any_lowercase3('abcdeF')"
   ]
  },
  {
   "cell_type": "markdown",
   "metadata": {},
   "source": [
    "This function takes the last character of the string and returns True if it is lowercase, and False otherwise. "
   ]
  },
  {
   "cell_type": "code",
   "execution_count": 113,
   "metadata": {
    "collapsed": false
   },
   "outputs": [
    {
     "name": "stdout",
     "output_type": "stream",
     "text": [
      "True\n",
      "True\n"
     ]
    }
   ],
   "source": [
    "def any_lowercase4(s):\n",
    "    flag = False\n",
    "    for c in s:\n",
    "        flag = flag or c.islower()\n",
    "    return flag\n",
    "print any_lowercase4('ABCdeF ABCDE')\n",
    "\n",
    "\n",
    "str = \"THiS ASDF V\"\n",
    "print any_lowercase4(str)"
   ]
  },
  {
   "cell_type": "markdown",
   "metadata": {},
   "source": [
    "This function assumes there are no lowercase letters in the string and goes through each character. Because there is a lowercase letter (True) in there, the or statement result is True."
   ]
  },
  {
   "cell_type": "code",
   "execution_count": 118,
   "metadata": {
    "collapsed": false
   },
   "outputs": [
    {
     "name": "stdout",
     "output_type": "stream",
     "text": [
      "False\n",
      "False\n"
     ]
    }
   ],
   "source": [
    "def any_lowercase5(s):\n",
    "    for c in s:\n",
    "        if not c.islower():\n",
    "            return False\n",
    "    return True\n",
    "\n",
    "print any_lowercase5('abcdef G')\n",
    "\n",
    "\n",
    "str = \"THiS ASDF V\"\n",
    "print any_lowercase5(str)"
   ]
  },
  {
   "cell_type": "markdown",
   "metadata": {},
   "source": [
    "If the string is not completely lowercase, then the if statement proceeds. Once the if statement proceeds, the return is False. Otherwise it returns true. "
   ]
  },
  {
   "cell_type": "code",
   "execution_count": null,
   "metadata": {
    "collapsed": true
   },
   "outputs": [],
   "source": [
    "def any_lowercase1(s): #Checks to see if any letter in s is lowercase, ends with the return.\n",
    "    for c in s:\n",
    "        if c.islower():\n",
    "            return True\n",
    "        else:\n",
    "            return False"
   ]
  },
  {
   "cell_type": "markdown",
   "metadata": {},
   "source": [
    " "
   ]
  },
  {
   "cell_type": "code",
   "execution_count": null,
   "metadata": {
    "collapsed": true
   },
   "outputs": [],
   "source": [
    "def any_lowercase2(s): #Checks to see if the string \"c\" itself is lowercase, which will always return the string \"True\"\n",
    "    for c in s:\n",
    "        if 'c'.islower():\n",
    "            return 'True'\n",
    "        else:\n",
    "            return 'False'"
   ]
  },
  {
   "cell_type": "markdown",
   "metadata": {},
   "source": [
    " "
   ]
  },
  {
   "cell_type": "code",
   "execution_count": null,
   "metadata": {
    "collapsed": true
   },
   "outputs": [],
   "source": [
    "def any_lowercase3(s): #Effectively checks if the last letter of the function is lowercase, due to return at the end.\n",
    "    for c in s:\n",
    "        flag = c.islower()\n",
    "    return flag"
   ]
  },
  {
   "cell_type": "markdown",
   "metadata": {},
   "source": [
    " "
   ]
  },
  {
   "cell_type": "code",
   "execution_count": 5,
   "metadata": {
    "collapsed": true
   },
   "outputs": [],
   "source": [
    "def any_lowercase4(s): #Will set the truth value of flag to true for the remaining duration if islower() returns true\n",
    "                        # once, due to the or joint conditional requiring only one to be true.\n",
    "    flag = False\n",
    "    for c in s:\n",
    "        flag = flag or c.islower()\n",
    "    return flag"
   ]
  },
  {
   "cell_type": "markdown",
   "metadata": {},
   "source": [
    " "
   ]
  },
  {
   "cell_type": "code",
   "execution_count": null,
   "metadata": {
    "collapsed": true
   },
   "outputs": [],
   "source": [
    "def any_lowercase5(s): # will check the string, but if it ever hits a capital letter it will end and return false. \n",
    "    for c in s:\n",
    "        if not c.islower():\n",
    "            return False\n",
    "    return True"
   ]
  },
  {
   "cell_type": "markdown",
   "metadata": {},
   "source": [
    " "
   ]
  },
  {
   "cell_type": "code",
   "execution_count": 42,
   "metadata": {
    "collapsed": false
   },
   "outputs": [
    {
     "name": "stdout",
     "output_type": "stream",
     "text": [
      "False\n",
      "True\n"
     ]
    }
   ],
   "source": [
    "def any_lowercase1(s):\n",
    "    for c in s:\n",
    "        if c.islower():\n",
    "            return True\n",
    "        else:\n",
    "            return False\n",
    "#checks only the first character before assigning a return value of True or False\n",
    "print any_lowercase1('ArIAnA')\n",
    "print any_lowercase1('arIAnA')"
   ]
  },
  {
   "cell_type": "markdown",
   "metadata": {},
   "source": [
    " "
   ]
  },
  {
   "cell_type": "code",
   "execution_count": 44,
   "metadata": {
    "collapsed": false
   },
   "outputs": [
    {
     "name": "stdout",
     "output_type": "stream",
     "text": [
      "True\n",
      "True\n"
     ]
    }
   ],
   "source": [
    "def any_lowercase2(s):\n",
    "    for c in s:\n",
    "        if 'c'.islower():\n",
    "            return 'True'\n",
    "        else:\n",
    "            return 'False'\n",
    "#only checks if the string 'c' is lowercase. will always return True\n",
    "print any_lowercase2('ArIAnA')\n",
    "print any_lowercase2('arIAnA')"
   ]
  },
  {
   "cell_type": "markdown",
   "metadata": {},
   "source": [
    " "
   ]
  },
  {
   "cell_type": "code",
   "execution_count": 49,
   "metadata": {
    "collapsed": false
   },
   "outputs": [
    {
     "name": "stdout",
     "output_type": "stream",
     "text": [
      "False\n",
      "True\n"
     ]
    }
   ],
   "source": [
    "def any_lowercase3(s):\n",
    "    for c in s:\n",
    "        flag = c.islower()\n",
    "    return flag\n",
    "\n",
    "#only returns final flag value\n",
    "print any_lowercase3('ArIAnA')\n",
    "print any_lowercase3('arIAna')"
   ]
  },
  {
   "cell_type": "markdown",
   "metadata": {},
   "source": [
    " "
   ]
  },
  {
   "cell_type": "code",
   "execution_count": 56,
   "metadata": {
    "collapsed": false
   },
   "outputs": [
    {
     "name": "stdout",
     "output_type": "stream",
     "text": [
      "True\n",
      "False\n"
     ]
    }
   ],
   "source": [
    "def any_lowercase4(s):\n",
    "    flag = False\n",
    "    for c in s:\n",
    "        flag = flag or c.islower()\n",
    "    return flag\n",
    "\n",
    "#if the value of c.islower() is False, flag will be False, otherwise it will be True.\n",
    "#once flag becomes True, it cannot become False again. This works!\n",
    "print any_lowercase4('ArIAnA')\n",
    "print any_lowercase4('ARIANA')"
   ]
  },
  {
   "cell_type": "markdown",
   "metadata": {},
   "source": [
    " "
   ]
  },
  {
   "cell_type": "code",
   "execution_count": 59,
   "metadata": {
    "collapsed": false
   },
   "outputs": [
    {
     "name": "stdout",
     "output_type": "stream",
     "text": [
      "False\n",
      "False\n",
      "True\n"
     ]
    }
   ],
   "source": [
    "def any_lowercase5(s):\n",
    "    for c in s:\n",
    "        if not c.islower():\n",
    "            return False\n",
    "    return True\n",
    "#if any of the letters in this function are uppercase, it will return False\n",
    "print any_lowercase5('ArIAnA')\n",
    "print any_lowercase5('ARIANA')\n",
    "print any_lowercase5('ariana')"
   ]
  },
  {
   "cell_type": "markdown",
   "metadata": {},
   "source": [
    " "
   ]
  },
  {
   "cell_type": "code",
   "execution_count": 53,
   "metadata": {
    "collapsed": false
   },
   "outputs": [
    {
     "data": {
      "text/plain": [
       "True"
      ]
     },
     "execution_count": 53,
     "metadata": {},
     "output_type": "execute_result"
    }
   ],
   "source": [
    "def any_lowercase1(s):\n",
    "    for c in s:\n",
    "        if c.islower():\n",
    "            return True\n",
    "        else:\n",
    "            return False\n",
    "        \n",
    "any_lowercase1('jOHN')"
   ]
  },
  {
   "cell_type": "markdown",
   "metadata": {},
   "source": [
    "above: checks if characters in string s are lowercase"
   ]
  },
  {
   "cell_type": "markdown",
   "metadata": {},
   "source": [
    " "
   ]
  },
  {
   "cell_type": "code",
   "execution_count": 58,
   "metadata": {
    "collapsed": false
   },
   "outputs": [
    {
     "data": {
      "text/plain": [
       "'True'"
      ]
     },
     "execution_count": 58,
     "metadata": {},
     "output_type": "execute_result"
    }
   ],
   "source": [
    "def any_lowercase2(s):\n",
    "    for c in s:\n",
    "        if 'c'.islower():\n",
    "            return 'True'\n",
    "        else:\n",
    "            return 'False'\n",
    "        \n",
    "any_lowercase2('QM')"
   ]
  },
  {
   "cell_type": "markdown",
   "metadata": {},
   "source": [
    "above: checks if string 'c' is lowercase, which is always true\n",
    "\n",
    "'c' != c"
   ]
  },
  {
   "cell_type": "code",
   "execution_count": 61,
   "metadata": {
    "collapsed": false
   },
   "outputs": [
    {
     "data": {
      "text/plain": [
       "True"
      ]
     },
     "execution_count": 61,
     "metadata": {},
     "output_type": "execute_result"
    }
   ],
   "source": [
    "def any_lowercase3(s):\n",
    "    for c in s:\n",
    "        flag = c.islower()\n",
    "    return flag\n",
    "\n",
    "any_lowercase3('JOHn')"
   ]
  },
  {
   "cell_type": "markdown",
   "metadata": {},
   "source": [
    "above: just checks if the entire string is lowercase\n"
   ]
  },
  {
   "cell_type": "markdown",
   "metadata": {},
   "source": [
    " "
   ]
  },
  {
   "cell_type": "code",
   "execution_count": 63,
   "metadata": {
    "collapsed": false
   },
   "outputs": [
    {
     "data": {
      "text/plain": [
       "False"
      ]
     },
     "execution_count": 63,
     "metadata": {},
     "output_type": "execute_result"
    }
   ],
   "source": [
    "def any_lowercase4(s):\n",
    "    flag = False\n",
    "    for c in s:\n",
    "        flag = flag or c.islower()\n",
    "    return flag\n",
    "\n",
    "any_lowercase4('JOHN')"
   ]
  },
  {
   "cell_type": "markdown",
   "metadata": {},
   "source": [
    "above: checks if characters are lowercase to toggle flag, if not flag stays false\n"
   ]
  },
  {
   "cell_type": "markdown",
   "metadata": {},
   "source": [
    " "
   ]
  },
  {
   "cell_type": "code",
   "execution_count": 70,
   "metadata": {
    "collapsed": false
   },
   "outputs": [
    {
     "data": {
      "text/plain": [
       "False"
      ]
     },
     "execution_count": 70,
     "metadata": {},
     "output_type": "execute_result"
    }
   ],
   "source": [
    "def any_lowercase5(s):\n",
    "    for c in s:\n",
    "        if not c.islower():\n",
    "            return False\n",
    "    return True\n",
    "\n",
    "any_lowercase5('jOhn')"
   ]
  },
  {
   "cell_type": "markdown",
   "metadata": {},
   "source": [
    "above: if any of the letters are uppercase, returns false\n"
   ]
  },
  {
   "cell_type": "markdown",
   "metadata": {},
   "source": [
    " "
   ]
  },
  {
   "cell_type": "code",
   "execution_count": null,
   "metadata": {
    "collapsed": true
   },
   "outputs": [],
   "source": [
    "def any_lowercase1(s):\n",
    "    for c in s:\n",
    "        if c.islower():\n",
    "            return True\n",
    "        else:\n",
    "            return False"
   ]
  },
  {
   "cell_type": "markdown",
   "metadata": {},
   "source": [
    "The above function is incorrect. When invoked, the function will begin a for loop, examining every letter in the string. For every letter, it will call a string method that checks if c is lowercase, and then return a boolean. Based on the boolean, the function returns too quickly, as it will literally only check the first letter. Since If and else are both inside the loop, then on the first letter, there will a return executed, and the function stops."
   ]
  },
  {
   "cell_type": "markdown",
   "metadata": {},
   "source": [
    " "
   ]
  },
  {
   "cell_type": "code",
   "execution_count": null,
   "metadata": {
    "collapsed": true
   },
   "outputs": [],
   "source": [
    "def any_lowercase2(s):\n",
    "    for c in s:\n",
    "        if 'c'.islower():\n",
    "            return 'True'\n",
    "        else:\n",
    "            return 'False'"
   ]
  },
  {
   "cell_type": "markdown",
   "metadata": {},
   "source": [
    "This function is incorrect. The function also begins with a for loop and check every character, but upon entering the conditonal statement, it has the quotations around \"c\", meaning that it is literally using the letter \"c\". This means that the statement will also result in true, regardless of what's going on in the actual string."
   ]
  },
  {
   "cell_type": "markdown",
   "metadata": {},
   "source": [
    " "
   ]
  },
  {
   "cell_type": "code",
   "execution_count": null,
   "metadata": {
    "collapsed": true
   },
   "outputs": [],
   "source": [
    "def any_lowercase3(s):\n",
    "    for c in s:\n",
    "        flag = c.islower()\n",
    "    return flag"
   ]
  },
  {
   "cell_type": "markdown",
   "metadata": {},
   "source": [
    "This function doesn't work. The function will begin with a loop and examine every letter, but the assignment statement is called repeatedly inside the loop, so flag will continually be reassigned, and the previous data will be lost. This means that flag really only represents the boolean for the final letter."
   ]
  },
  {
   "cell_type": "markdown",
   "metadata": {},
   "source": [
    " "
   ]
  },
  {
   "cell_type": "code",
   "execution_count": null,
   "metadata": {
    "collapsed": true
   },
   "outputs": [],
   "source": [
    "def any_lowercase4(s):\n",
    "    flag = False\n",
    "    for c in s:\n",
    "        flag = flag or c.islower()\n",
    "    return flag"
   ]
  },
  {
   "cell_type": "markdown",
   "metadata": {},
   "source": [
    "This function works. The function begins with a loop which looks at all letters in the string. Then since the flag variable is outside the loop this time can starts on the assumption that there are no uppercase letters until proven otherwise, the loop runs and can properly record all the booleans and whether or no there will be a lowercase, for in one lowercase is determined, then flag switches to True, and the \"or\" statement retains the True throughout the rest of the loop, so that True is returned."
   ]
  },
  {
   "cell_type": "markdown",
   "metadata": {},
   "source": [
    " "
   ]
  },
  {
   "cell_type": "code",
   "execution_count": null,
   "metadata": {
    "collapsed": true
   },
   "outputs": [],
   "source": [
    "def any_lowercase5(s):\n",
    "    for c in s:\n",
    "        if not c.islower():\n",
    "            return False\n",
    "    return True"
   ]
  },
  {
   "cell_type": "markdown",
   "metadata": {},
   "source": [
    "This function doesn't work. The functions begins with a for loop and examines all letters in the string. However, given the not in the conditional followed by the immediate return statement, this function will stop too quickly if there is even one uppercase letter."
   ]
  },
  {
   "cell_type": "markdown",
   "metadata": {},
   "source": [
    " "
   ]
  },
  {
   "cell_type": "code",
   "execution_count": 24,
   "metadata": {
    "collapsed": false
   },
   "outputs": [
    {
     "data": {
      "text/plain": [
       "False"
      ]
     },
     "execution_count": 24,
     "metadata": {},
     "output_type": "execute_result"
    }
   ],
   "source": [
    "def any_lowercase1(s):\n",
    "    for c in s:\n",
    "        if c.islower():\n",
    "            return True\n",
    "        else:\n",
    "            return False\n",
    "        \n",
    "any_lowercase1('John')"
   ]
  },
  {
   "cell_type": "markdown",
   "metadata": {},
   "source": [
    "only checks the first letter in the string"
   ]
  },
  {
   "cell_type": "markdown",
   "metadata": {},
   "source": [
    " "
   ]
  },
  {
   "cell_type": "code",
   "execution_count": 19,
   "metadata": {
    "collapsed": false
   },
   "outputs": [
    {
     "data": {
      "text/plain": [
       "'True'"
      ]
     },
     "execution_count": 19,
     "metadata": {},
     "output_type": "execute_result"
    }
   ],
   "source": [
    "def any_lowercase2(s):\n",
    "    for c in s:\n",
    "        if 'c'.islower():\n",
    "            return 'True'\n",
    "        else:\n",
    "            return 'False'\n",
    "any_lowercase2('JOHN')"
   ]
  },
  {
   "cell_type": "markdown",
   "metadata": {},
   "source": [
    "checks if the char 'c' is a lowercase letter and will always return true"
   ]
  },
  {
   "cell_type": "markdown",
   "metadata": {},
   "source": [
    " "
   ]
  },
  {
   "cell_type": "code",
   "execution_count": 22,
   "metadata": {
    "collapsed": false
   },
   "outputs": [
    {
     "data": {
      "text/plain": [
       "False"
      ]
     },
     "execution_count": 22,
     "metadata": {},
     "output_type": "execute_result"
    }
   ],
   "source": [
    "def any_lowercase3(s):\n",
    "    for c in s:\n",
    "        flag = c.islower()\n",
    "    return flag\n",
    "\n",
    "any_lowercase3('JohN')"
   ]
  },
  {
   "cell_type": "markdown",
   "metadata": {},
   "source": [
    "only checks the last letter in the string"
   ]
  },
  {
   "cell_type": "markdown",
   "metadata": {},
   "source": [
    " "
   ]
  },
  {
   "cell_type": "code",
   "execution_count": 26,
   "metadata": {
    "collapsed": false
   },
   "outputs": [
    {
     "data": {
      "text/plain": [
       "True"
      ]
     },
     "execution_count": 26,
     "metadata": {},
     "output_type": "execute_result"
    }
   ],
   "source": [
    "def any_lowercase4(s):\n",
    "    flag = False     \n",
    "    for c in s:\n",
    "        flag = flag or c.islower()\n",
    "    return flag\n",
    "any_lowercase4('bOb')"
   ]
  },
  {
   "cell_type": "markdown",
   "metadata": {},
   "source": [
    "correctly checks all the letters"
   ]
  },
  {
   "cell_type": "markdown",
   "metadata": {},
   "source": [
    " "
   ]
  },
  {
   "cell_type": "code",
   "execution_count": 28,
   "metadata": {
    "collapsed": false
   },
   "outputs": [
    {
     "data": {
      "text/plain": [
       "False"
      ]
     },
     "execution_count": 28,
     "metadata": {},
     "output_type": "execute_result"
    }
   ],
   "source": [
    "def any_lowercase5(s):\n",
    "    for c in s:\n",
    "        if not c.islower():\n",
    "            return False\n",
    "    return True\n",
    "any_lowercase5('jOhn')"
   ]
  },
  {
   "cell_type": "markdown",
   "metadata": {},
   "source": [
    "if a single uppercase letter appears in the string then the function will return false"
   ]
  },
  {
   "cell_type": "markdown",
   "metadata": {},
   "source": [
    " "
   ]
  },
  {
   "cell_type": "code",
   "execution_count": 41,
   "metadata": {
    "collapsed": false
   },
   "outputs": [
    {
     "data": {
      "text/plain": [
       "True"
      ]
     },
     "execution_count": 41,
     "metadata": {},
     "output_type": "execute_result"
    }
   ],
   "source": [
    "def any_lowercase1(s):\n",
    "    for c in s:\n",
    "        if c.islower():\n",
    "            return True\n",
    "        else:\n",
    "            return False\n",
    "any_lowercase1('WOrD')\n",
    "any_lowercase1('word')\n",
    "# don't need to return True b/c string method itself returns True--redundant\n",
    "# only returns True if all letters are lowercase, not just one"
   ]
  },
  {
   "cell_type": "markdown",
   "metadata": {},
   "source": [
    " "
   ]
  },
  {
   "cell_type": "code",
   "execution_count": 42,
   "metadata": {
    "collapsed": false
   },
   "outputs": [
    {
     "data": {
      "text/plain": [
       "'True'"
      ]
     },
     "execution_count": 42,
     "metadata": {},
     "output_type": "execute_result"
    }
   ],
   "source": [
    "def any_lowercase2(s):\n",
    "    for c in s:\n",
    "        if 'c'.islower():\n",
    "            return 'True'\n",
    "        else:\n",
    "            return 'False'\n",
    "any_lowercase2('WOrD')\n",
    "any_lowercase2('WORD')\n",
    "# returns string of 'True' and 'False', not booleans of True and False\n",
    "# will always return True"
   ]
  },
  {
   "cell_type": "markdown",
   "metadata": {},
   "source": [
    " "
   ]
  },
  {
   "cell_type": "code",
   "execution_count": 44,
   "metadata": {
    "collapsed": false
   },
   "outputs": [
    {
     "data": {
      "text/plain": [
       "True"
      ]
     },
     "execution_count": 44,
     "metadata": {},
     "output_type": "execute_result"
    }
   ],
   "source": [
    "def any_lowercase3(s):\n",
    "    for c in s:\n",
    "        flag = c.islower()\n",
    "    return flag\n",
    "any_lowercase3('WoRD')\n",
    "any_lowercase3('word')\n",
    "# only returns True if all letters are lowercase, not just one letter"
   ]
  },
  {
   "cell_type": "markdown",
   "metadata": {},
   "source": [
    " "
   ]
  },
  {
   "cell_type": "code",
   "execution_count": 47,
   "metadata": {
    "collapsed": false
   },
   "outputs": [
    {
     "data": {
      "text/plain": [
       "False"
      ]
     },
     "execution_count": 47,
     "metadata": {},
     "output_type": "execute_result"
    }
   ],
   "source": [
    "def any_lowercase4(s):\n",
    "    flag = False\n",
    "    for c in s:\n",
    "        flag = flag or c.islower()\n",
    "    return flag\n",
    "any_lowercase4('WORD')\n",
    "# correct!! "
   ]
  },
  {
   "cell_type": "markdown",
   "metadata": {},
   "source": [
    " "
   ]
  },
  {
   "cell_type": "code",
   "execution_count": 50,
   "metadata": {
    "collapsed": false
   },
   "outputs": [
    {
     "data": {
      "text/plain": [
       "False"
      ]
     },
     "execution_count": 50,
     "metadata": {},
     "output_type": "execute_result"
    }
   ],
   "source": [
    "def any_lowercase5(s):\n",
    "    for c in s:\n",
    "        if not c.islower():\n",
    "            return False\n",
    "    return True\n",
    "any_lowercase5('WoRD')\n",
    "any_lowercase5('WORD')\n",
    "# always returns False"
   ]
  },
  {
   "cell_type": "markdown",
   "metadata": {},
   "source": [
    " "
   ]
  },
  {
   "cell_type": "code",
   "execution_count": 17,
   "metadata": {
    "collapsed": false
   },
   "outputs": [
    {
     "name": "stdout",
     "output_type": "stream",
     "text": [
      "At the moment, this one just is like 'whoops the first one is lowercase done!'\n",
      "We need to make sure it goes all the way through. Try continue instead of return, then have return True after the whole loop\n",
      "True\n",
      "(It's really not)\n"
     ]
    }
   ],
   "source": [
    "def any_lowercase1(s):\n",
    "    for c in s:\n",
    "        if c.islower():\n",
    "            return True\n",
    "        else:\n",
    "            return False\n",
    "        \n",
    "print \"At the moment, this one just is like 'whoops the first one is lowercase done!'\"\n",
    "print \"We need to make sure it goes all the way through. Try continue instead of return, then have return True after the whole loop\"\n",
    "\n",
    "print any_lowercase1(\"bECAUSE THIS IS TOTALLY LOWERCASE YEP\")\n",
    "print \"(It's really not)\""
   ]
  },
  {
   "cell_type": "markdown",
   "metadata": {},
   "source": [
    " "
   ]
  },
  {
   "cell_type": "code",
   "execution_count": 18,
   "metadata": {
    "collapsed": false
   },
   "outputs": [
    {
     "name": "stdout",
     "output_type": "stream",
     "text": [
      "This will just always return True because 'c', as in this lovely string that is literally just c is always lowercase.\n",
      "True\n"
     ]
    }
   ],
   "source": [
    "def any_lowercase2(s):\n",
    "    for c in s:\n",
    "        if 'c'.islower():\n",
    "            return 'True'\n",
    "        else:\n",
    "            return 'False'\n",
    "print \"This will just always return True because 'c', as in this lovely string that is literally just c is always lowercase.\"\n",
    "print any_lowercase2('ALSO NOT LOWERCASE')"
   ]
  },
  {
   "cell_type": "markdown",
   "metadata": {},
   "source": [
    " "
   ]
  },
  {
   "cell_type": "code",
   "execution_count": 21,
   "metadata": {
    "collapsed": false
   },
   "outputs": [
    {
     "name": "stdout",
     "output_type": "stream",
     "text": [
      "This one should work! If flag is triggered, it will be False! Let's try:\n",
      "True\n",
      "True\n",
      "Oooh I see. This one ends on a lowercase, so flag is returned to True before the end of the program. It won't work.\n"
     ]
    }
   ],
   "source": [
    "def any_lowercase3(s):\n",
    "    for c in s:\n",
    "        flag = c.islower()\n",
    "    return flag\n",
    "\n",
    "print \"This one should work! If flag is triggered, it will be False! Let's try:\"\n",
    "print any_lowercase3(\"does this work\")\n",
    "print any_lowercase3(\"okay but what about thIs\")\n",
    "\n",
    "print \"Oooh I see. This one ends on a lowercase, so flag is returned to True before the end of the program. It won't work.\""
   ]
  },
  {
   "cell_type": "markdown",
   "metadata": {},
   "source": [
    " "
   ]
  },
  {
   "cell_type": "code",
   "execution_count": 22,
   "metadata": {
    "collapsed": false
   },
   "outputs": [
    {
     "name": "stdout",
     "output_type": "stream",
     "text": [
      "This one won't work for the same reason as above. It will be constantly overwritten, and as soon as one c is indeed lower, flag becomes True. Due to 'or,' everything will then be true from then on. Watch:\n",
      "True\n"
     ]
    }
   ],
   "source": [
    "def any_lowercase4(s):\n",
    "    flag = False\n",
    "    for c in s:\n",
    "        flag = flag or c.islower()\n",
    "    return flag\n",
    "\n",
    "print \"This one won't work for the same reason as above. It will be constantly overwritten, and as soon as one c is indeed lower, flag becomes True. Due to 'or,' everything will then be true from then on. Watch:\"\n",
    "print any_lowercase4(\"ALL I NEED IS A SINGLE LITTLE lOWERCASE YEAH\")"
   ]
  },
  {
   "cell_type": "markdown",
   "metadata": {},
   "source": [
    " "
   ]
  },
  {
   "cell_type": "code",
   "execution_count": 25,
   "metadata": {
    "collapsed": false
   },
   "outputs": [
    {
     "name": "stdout",
     "output_type": "stream",
     "text": [
      "This one should work!\n",
      "False\n",
      "False\n",
      "False\n",
      "Oh frick spaces mess with it dang.\n"
     ]
    }
   ],
   "source": [
    "def any_lowercase5(s):\n",
    "    for c in s:\n",
    "        if not c.islower():\n",
    "            return False\n",
    "    return True\n",
    "\n",
    "print \"This one should work!\"\n",
    "print any_lowercase5(\"please please work\")\n",
    "print any_lowercase5(\"i put my TRUUUUST in YOOOOOU\")\n",
    "print any_lowercase5(\"and all the thIngs you said you would do\")\n",
    "s = 'please'\n",
    "any_lowercase5(s)\n",
    "print \"Oh frick spaces mess with it dang.\""
   ]
  },
  {
   "cell_type": "markdown",
   "metadata": {},
   "source": [
    " "
   ]
  },
  {
   "cell_type": "code",
   "execution_count": null,
   "metadata": {
    "collapsed": true
   },
   "outputs": [],
   "source": [
    "def any_lowercase1(s): \n",
    "    \"\"\"\n",
    "    Iterates through string until it finds a lowercase letter, returns True.\n",
    "    \"\"\"\n",
    "    for c in s:\n",
    "        if c.islower(): \n",
    "            return True \n",
    "        else:\n",
    "            return False"
   ]
  },
  {
   "cell_type": "markdown",
   "metadata": {},
   "source": [
    " "
   ]
  },
  {
   "cell_type": "code",
   "execution_count": 8,
   "metadata": {
    "collapsed": false
   },
   "outputs": [
    {
     "data": {
      "text/plain": [
       "'True'"
      ]
     },
     "execution_count": 8,
     "metadata": {},
     "output_type": "execute_result"
    }
   ],
   "source": [
    "def any_lowercase2(s):\n",
    "    \"\"\"\n",
    "    Returns True immediately, doesn't check characters in the string.\n",
    "    \"\"\"\n",
    "    for c in s:\n",
    "        if 'c'.islower():\n",
    "            return 'True'\n",
    "        else:\n",
    "            return 'False'\n",
    "any_lowercase2('STRING')"
   ]
  },
  {
   "cell_type": "markdown",
   "metadata": {},
   "source": [
    " "
   ]
  },
  {
   "cell_type": "code",
   "execution_count": 7,
   "metadata": {
    "collapsed": false
   },
   "outputs": [
    {
     "data": {
      "text/plain": [
       "False"
      ]
     },
     "execution_count": 7,
     "metadata": {},
     "output_type": "execute_result"
    }
   ],
   "source": [
    "def any_lowercase3(s):\n",
    "    \"\"\"\n",
    "    Returns True or False for whether or not the last character is lowercase.\n",
    "    \"\"\"\n",
    "    for c in s:\n",
    "        flag = c.islower()\n",
    "    return flag\n",
    "any_lowercase3('STRInG')"
   ]
  },
  {
   "cell_type": "markdown",
   "metadata": {},
   "source": [
    " "
   ]
  },
  {
   "cell_type": "code",
   "execution_count": 9,
   "metadata": {
    "collapsed": false
   },
   "outputs": [
    {
     "data": {
      "text/plain": [
       "True"
      ]
     },
     "execution_count": 9,
     "metadata": {},
     "output_type": "execute_result"
    }
   ],
   "source": [
    "def any_lowercase4(s):\n",
    "    \"\"\"\n",
    "    Iterates through the whole string, works properly.\n",
    "    \"\"\"\n",
    "    flag = False\n",
    "    for c in s:\n",
    "        flag = flag or c.islower()\n",
    "    return flag\n",
    "any_lowercase4('StRING')"
   ]
  },
  {
   "cell_type": "markdown",
   "metadata": {},
   "source": [
    " "
   ]
  },
  {
   "cell_type": "code",
   "execution_count": 10,
   "metadata": {
    "collapsed": false
   },
   "outputs": [
    {
     "data": {
      "text/plain": [
       "False"
      ]
     },
     "execution_count": 10,
     "metadata": {},
     "output_type": "execute_result"
    }
   ],
   "source": [
    "def any_lowercase5(s):\n",
    "    \"\"\"\n",
    "    Returns false if it finds any uppercase letters.\n",
    "    \"\"\"\n",
    "    for c in s:\n",
    "        if not c.islower():\n",
    "            return False\n",
    "    return True\n",
    "any_lowercase5('String')"
   ]
  },
  {
   "cell_type": "markdown",
   "metadata": {},
   "source": [
    " "
   ]
  },
  {
   "cell_type": "code",
   "execution_count": 68,
   "metadata": {
    "collapsed": true
   },
   "outputs": [],
   "source": [
    "def any_lowercase1(s):\n",
    "    for c in s:\n",
    "        if c.islower():\n",
    "            return True\n",
    "        else:\n",
    "            return False"
   ]
  },
  {
   "cell_type": "markdown",
   "metadata": {},
   "source": [
    "The problem with this function is that it only looks at the first character - if the character is lowercase, the loop hits the return True and stops running.  If the first letter is not lowercase, the loops goes to the else statement and returns false before checking the rest of the characters."
   ]
  },
  {
   "cell_type": "markdown",
   "metadata": {},
   "source": [
    " "
   ]
  },
  {
   "cell_type": "code",
   "execution_count": 56,
   "metadata": {
    "collapsed": true
   },
   "outputs": [],
   "source": [
    "def any_lowercase2(s):\n",
    "    for c in s:\n",
    "        if 'c'.islower():\n",
    "            return 'True'\n",
    "        else:\n",
    "            return 'False'"
   ]
  },
  {
   "cell_type": "code",
   "execution_count": 57,
   "metadata": {
    "collapsed": false
   },
   "outputs": [
    {
     "data": {
      "text/plain": [
       "'True'"
      ]
     },
     "execution_count": 57,
     "metadata": {},
     "output_type": "execute_result"
    }
   ],
   "source": [
    "any_lowercase2('AAAAAAA')"
   ]
  },
  {
   "cell_type": "markdown",
   "metadata": {},
   "source": [
    "The problem here is in the if statement - by saying \"if 'c'.islower():\" the function will always return true for every character in s, whether or not it is uppercase or lowercase.  The reason is because the islower function is accepting the string 'c' every time instead of accepting a character from s."
   ]
  },
  {
   "cell_type": "markdown",
   "metadata": {},
   "source": [
    " "
   ]
  },
  {
   "cell_type": "code",
   "execution_count": 72,
   "metadata": {
    "collapsed": true
   },
   "outputs": [],
   "source": [
    "def any_lowercase3(s):\n",
    "    for c in s:\n",
    "        flag = c.islower()\n",
    "    return flag"
   ]
  },
  {
   "cell_type": "markdown",
   "metadata": {},
   "source": [
    "The problem here appears to be the opposite - each time the loop iterates, flag is redefined.  This means that the function ignores all the characters in the middle and only looks at the last character."
   ]
  },
  {
   "cell_type": "code",
   "execution_count": 73,
   "metadata": {
    "collapsed": false
   },
   "outputs": [
    {
     "data": {
      "text/plain": [
       "False"
      ]
     },
     "execution_count": 73,
     "metadata": {},
     "output_type": "execute_result"
    }
   ],
   "source": [
    "any_lowercase3('aaaA')"
   ]
  },
  {
   "cell_type": "code",
   "execution_count": 74,
   "metadata": {
    "collapsed": false
   },
   "outputs": [
    {
     "data": {
      "text/plain": [
       "True"
      ]
     },
     "execution_count": 74,
     "metadata": {},
     "output_type": "execute_result"
    }
   ],
   "source": [
    "any_lowercase3('AAAa')"
   ]
  },
  {
   "cell_type": "markdown",
   "metadata": {},
   "source": [
    " "
   ]
  },
  {
   "cell_type": "code",
   "execution_count": 75,
   "metadata": {
    "collapsed": true
   },
   "outputs": [],
   "source": [
    "def any_lowercase4(s):\n",
    "    flag = False\n",
    "    for c in s:\n",
    "        flag = flag or c.islower()\n",
    "    return flag"
   ]
  },
  {
   "cell_type": "markdown",
   "metadata": {},
   "source": [
    "This function appears to work correctly.  Essentially, flag is initially set to False, but then for each character in s, if the character is lowercase, it updates flag to be True.  At the end of the for loop, the function returns flag."
   ]
  },
  {
   "cell_type": "markdown",
   "metadata": {},
   "source": [
    " "
   ]
  },
  {
   "cell_type": "code",
   "execution_count": 76,
   "metadata": {
    "collapsed": false
   },
   "outputs": [
    {
     "data": {
      "text/plain": [
       "True"
      ]
     },
     "execution_count": 76,
     "metadata": {},
     "output_type": "execute_result"
    }
   ],
   "source": [
    "any_lowercase4('AaA')"
   ]
  },
  {
   "cell_type": "code",
   "execution_count": 77,
   "metadata": {
    "collapsed": false
   },
   "outputs": [
    {
     "data": {
      "text/plain": [
       "False"
      ]
     },
     "execution_count": 77,
     "metadata": {},
     "output_type": "execute_result"
    }
   ],
   "source": [
    "any_lowercase4('AAA')"
   ]
  },
  {
   "cell_type": "code",
   "execution_count": 78,
   "metadata": {
    "collapsed": true
   },
   "outputs": [],
   "source": [
    "def any_lowercase5(s):\n",
    "    for c in s:\n",
    "        if not c.islower():\n",
    "            return False\n",
    "    return True"
   ]
  },
  {
   "cell_type": "markdown",
   "metadata": {},
   "source": [
    " "
   ]
  },
  {
   "cell_type": "markdown",
   "metadata": {},
   "source": [
    "The problem with this function is that it doesn't look to see if there are any lowercase letters, it looks to make sure that none of the characters in the string are uppercase.  In essence, if this function were used on the string 'aaAa' it would look at the first character a - the confition of the if statement would not be met so it would move on to the next character, a again...the same thing would happen, but then, if it reaches an uppercase letter, the if statement would be met and the function would terminate and return False."
   ]
  },
  {
   "cell_type": "code",
   "execution_count": 22,
   "metadata": {
    "collapsed": false
   },
   "outputs": [
    {
     "data": {
      "text/plain": [
       "False"
      ]
     },
     "execution_count": 22,
     "metadata": {},
     "output_type": "execute_result"
    }
   ],
   "source": [
    "def any_lowercase1(s):\n",
    "    for c in s:\n",
    "        if c.islower():\n",
    "            return True\n",
    "        else:\n",
    "            return False\n",
    "#any_lowercase1('lalaL') #should be true\n",
    "#any_lowercase1('LALALAL') # should be false\n",
    "#any_lowercase1('lalala') #should be ture\n",
    "#any_lowercase1('***') #should be false"
   ]
  },
  {
   "cell_type": "markdown",
   "metadata": {},
   "source": [
    "For each letter in the string, s, this function returns true (boolean) if THAT letter is lowercase, and false (boolean) if it is not OR if there is no characters with cases in the string. It does function correctly in that it returns true any time there is at least 1 lowercase letter in the string (see my unit tests above - yes, I should have used doctests :/)."
   ]
  },
  {
   "cell_type": "code",
   "execution_count": null,
   "metadata": {
    "collapsed": true
   },
   "outputs": [],
   "source": [
    "def any_lowercase2(s):\n",
    "    for c in s:\n",
    "        if 'c'.islower():\n",
    "            return 'True'\n",
    "        else:\n",
    "            return 'False'"
   ]
  },
  {
   "cell_type": "markdown",
   "metadata": {},
   "source": [
    "For the string'c', this function returns true (as a string) if THAT letter is lowercase (which it always is, as the string never changes), and false (as a string) if it is not OR if there is no characters with cases in the string (which never happens because it is always running on the string 'c'). This function doesn't work"
   ]
  },
  {
   "cell_type": "code",
   "execution_count": 30,
   "metadata": {
    "collapsed": false
   },
   "outputs": [
    {
     "data": {
      "text/plain": [
       "False"
      ]
     },
     "execution_count": 30,
     "metadata": {},
     "output_type": "execute_result"
    }
   ],
   "source": [
    "def any_lowercase3(s):\n",
    "    for c in s:\n",
    "        flag = c.islower()\n",
    "    return flag\n",
    "#any_lowercase3('lalaL') #should be true\n",
    "any_lowercase3('LALALAL') # should be false\n",
    "#any_lowercase3('lalala') #should be ture\n",
    "#any_lowercase3('***') #should be false"
   ]
  },
  {
   "cell_type": "markdown",
   "metadata": {},
   "source": [
    " islower automatically returns booleans so the flag will be true/false. However, we want it to return true if there is one or more lowercase lettters, whereas this returns true only if the string is all lowercase letters, because that is what islower does. As a result, this function doesn't work"
   ]
  },
  {
   "cell_type": "code",
   "execution_count": 35,
   "metadata": {
    "collapsed": false
   },
   "outputs": [
    {
     "data": {
      "text/plain": [
       "False"
      ]
     },
     "execution_count": 35,
     "metadata": {},
     "output_type": "execute_result"
    }
   ],
   "source": [
    "def any_lowercase4(s):\n",
    "    flag = False\n",
    "    for c in s:\n",
    "        flag = flag or c.islower()\n",
    "    return flag\n",
    "#any_lowercase4('lalaL') #should be true\n",
    "any_lowercase4('LALALAL') # should be false\n",
    "#any_lowercase4('lalala') #should be ture\n",
    "#any_lowercase4('***') #should be false"
   ]
  },
  {
   "cell_type": "markdown",
   "metadata": {},
   "source": [
    "This function works just great, it returns true if there is at least one lower case letter in the string! It starts out with the flag always false, and then steps though each letter in the string; the flag stays the same value as it was previously until it encounters a lowercase letter in the string, and then goes to true!"
   ]
  },
  {
   "cell_type": "code",
   "execution_count": 39,
   "metadata": {
    "collapsed": false
   },
   "outputs": [
    {
     "data": {
      "text/plain": [
       "False"
      ]
     },
     "execution_count": 39,
     "metadata": {},
     "output_type": "execute_result"
    }
   ],
   "source": [
    "def any_lowercase5(s):\n",
    "    for c in s:\n",
    "        if not c.islower():\n",
    "            return False\n",
    "    return True\n",
    "any_lowercase5('lalaL') #should be true\n",
    "#any_lowercase5('LALALAL') # should be false\n",
    "#any_lowercase5('lalala') #should be ture\n",
    "#any_lowercase5('***') #should be false"
   ]
  },
  {
   "cell_type": "markdown",
   "metadata": {},
   "source": [
    "Thus function doesn't work. All of the letters must be lower case for it to return true, but we want it to return true if ANY of the letters are lowercase. As soon as it encounters a single non lower case letter, it immediately returns false; it only returns true if it gets through them all without encounteirng non lower cases. "
   ]
  },
  {
   "cell_type": "code",
   "execution_count": 15,
   "metadata": {
    "collapsed": false
   },
   "outputs": [],
   "source": [
    "def any_lowercase1(s):\n",
    "    for c in s:\n",
    "        if c.islower():\n",
    "            return True\n",
    "        else:\n",
    "            return False"
   ]
  },
  {
   "cell_type": "markdown",
   "metadata": {},
   "source": [
    "That one only checks the first letter. Ends the function call as soon as it returns."
   ]
  },
  {
   "cell_type": "code",
   "execution_count": 16,
   "metadata": {
    "collapsed": true
   },
   "outputs": [],
   "source": [
    "def any_lowercase2(s):\n",
    "    for c in s:\n",
    "        if 'c'.islower():\n",
    "            return 'True'\n",
    "        else:\n",
    "            return 'False'"
   ]
  },
  {
   "cell_type": "markdown",
   "metadata": {},
   "source": [
    " Same mistake as before, but added the fact that those are strings and not bools."
   ]
  },
  {
   "cell_type": "code",
   "execution_count": 17,
   "metadata": {
    "collapsed": true
   },
   "outputs": [],
   "source": [
    "def any_lowercase3(s):\n",
    "    for c in s:\n",
    "        flag = c.islower()\n",
    "    return flag"
   ]
  },
  {
   "cell_type": "markdown",
   "metadata": {},
   "source": [
    " Only returns the result of the last letter."
   ]
  },
  {
   "cell_type": "code",
   "execution_count": 18,
   "metadata": {
    "collapsed": false
   },
   "outputs": [
    {
     "name": "stdout",
     "output_type": "stream",
     "text": [
      "True\n"
     ]
    }
   ],
   "source": [
    "def any_lowercase4(s):\n",
    "    flag = False\n",
    "    for c in s:\n",
    "        flag = flag or c.islower()\n",
    "    return flag\n",
    "print any_lowercase4('BaANA')"
   ]
  },
  {
   "cell_type": "markdown",
   "metadata": {},
   "source": [
    " It calculates an or on flag, which defaults to FALSE, and c.islower, which is only true if there's a lowercase. So, as soon as islower goes to True, False or True = True, and then the flag always stays true."
   ]
  },
  {
   "cell_type": "code",
   "execution_count": 19,
   "metadata": {
    "collapsed": true
   },
   "outputs": [],
   "source": [
    "def any_lowercase5(s):\n",
    "    for c in s:\n",
    "        if not c.islower():\n",
    "            return False\n",
    "    return True"
   ]
  },
  {
   "cell_type": "markdown",
   "metadata": {},
   "source": [
    "As soon as it gets to an uppercase, it'll return false. This one is \"doesn't contain uppercase?\" "
   ]
  },
  {
   "cell_type": "code",
   "execution_count": 32,
   "metadata": {
    "collapsed": false
   },
   "outputs": [
    {
     "data": {
      "text/plain": [
       "False"
      ]
     },
     "execution_count": 32,
     "metadata": {},
     "output_type": "execute_result"
    }
   ],
   "source": [
    "def any_lowercase1(s):\n",
    "    for c in s:\n",
    "        if c.islower(): # Code will stop at the first char\n",
    "            return True\n",
    "        else:\n",
    "            return False"
   ]
  },
  {
   "cell_type": "markdown",
   "metadata": {},
   "source": [
    " "
   ]
  },
  {
   "cell_type": "code",
   "execution_count": null,
   "metadata": {
    "collapsed": true
   },
   "outputs": [],
   "source": [
    "def any_lowercase2(s):\n",
    "    for c in s:\n",
    "        if 'c'.islower(): # Code is checking if 'c' islower, rather that the variable c\n",
    "            return 'True'\n",
    "        else:\n",
    "            return 'False'"
   ]
  },
  {
   "cell_type": "markdown",
   "metadata": {},
   "source": [
    " "
   ]
  },
  {
   "cell_type": "code",
   "execution_count": null,
   "metadata": {
    "collapsed": true
   },
   "outputs": [],
   "source": [
    "def any_lowercase3(s):\n",
    "    for c in s:\n",
    "        flag = c.islower() # Really it's just checking whether the last char is lowercase\n",
    "    return flag"
   ]
  },
  {
   "cell_type": "markdown",
   "metadata": {},
   "source": [
    " "
   ]
  },
  {
   "cell_type": "code",
   "execution_count": null,
   "metadata": {
    "collapsed": true
   },
   "outputs": [],
   "source": [
    "def any_lowercase4(s):\n",
    "    flag = False\n",
    "    for c in s:\n",
    "        flag = flag or c.islower() # Sexy\n",
    "    return flag"
   ]
  },
  {
   "cell_type": "markdown",
   "metadata": {},
   "source": [
    " "
   ]
  },
  {
   "cell_type": "code",
   "execution_count": null,
   "metadata": {
    "collapsed": true
   },
   "outputs": [],
   "source": [
    "def any_lowercase5(s):\n",
    "    for c in s:\n",
    "        if not c.islower():  # Will stop at the first capitalized letter, so really just checking if the whole string is lowercase\n",
    "            return False\n",
    "    return True"
   ]
  },
  {
   "cell_type": "markdown",
   "metadata": {},
   "source": [
    " "
   ]
  },
  {
   "cell_type": "code",
   "execution_count": null,
   "metadata": {
    "collapsed": true
   },
   "outputs": [],
   "source": [
    "def any_lowercase1(s):\n",
    "    for c in s:\n",
    "        if c.islower():\n",
    "            return True\n",
    "        else:\n",
    "            return False\n",
    "# Returns True if first letter of the word is lowercase. If the first letter is uppercase or anything else, it returns False."
   ]
  },
  {
   "cell_type": "markdown",
   "metadata": {},
   "source": [
    " "
   ]
  },
  {
   "cell_type": "code",
   "execution_count": null,
   "metadata": {
    "collapsed": true
   },
   "outputs": [],
   "source": [
    "def any_lowercase2(s):\n",
    "    for c in s:\n",
    "        if 'c'.islower():\n",
    "            return 'True'\n",
    "        else:\n",
    "            return 'False'\n",
    "# This function always returns a string 'True' (not boolean), because it checks whether string 'c' is a lowercase letter"
   ]
  },
  {
   "cell_type": "markdown",
   "metadata": {},
   "source": [
    " "
   ]
  },
  {
   "cell_type": "code",
   "execution_count": null,
   "metadata": {
    "collapsed": true
   },
   "outputs": [],
   "source": [
    "def any_lowercase3(s):\n",
    "    for c in s:\n",
    "        flag = c.islower()\n",
    "    return flag\n",
    "# This function returns true if last letter of the word is lower case. False if the last letter is true."
   ]
  },
  {
   "cell_type": "markdown",
   "metadata": {},
   "source": [
    " "
   ]
  },
  {
   "cell_type": "code",
   "execution_count": null,
   "metadata": {
    "collapsed": true
   },
   "outputs": [],
   "source": [
    "def any_lowercase4(s):\n",
    "    flag = False\n",
    "    for c in s:\n",
    "        flag = flag or c.islower()\n",
    "    return flag\n",
    "# This function returns true if there is any lower case letter in the string"
   ]
  },
  {
   "cell_type": "markdown",
   "metadata": {},
   "source": [
    " "
   ]
  },
  {
   "cell_type": "code",
   "execution_count": null,
   "metadata": {
    "collapsed": true
   },
   "outputs": [],
   "source": [
    "def any_lowercase5(s):\n",
    "    for c in s:\n",
    "        if not c.islower():\n",
    "            return False\n",
    "    return True\n",
    "# This function returns False if there is any upper case letter in the word. It returns True if all letters in the word are lower case."
   ]
  },
  {
   "cell_type": "markdown",
   "metadata": {},
   "source": [
    " "
   ]
  },
  {
   "cell_type": "code",
   "execution_count": 43,
   "metadata": {
    "collapsed": false
   },
   "outputs": [],
   "source": [
    "def any_lowercase1(s):\n",
    "    for c in s:\n",
    "        if c.islower():\n",
    "            return True\n",
    "        else:\n",
    "            return False"
   ]
  },
  {
   "cell_type": "markdown",
   "metadata": {},
   "source": [
    " Returns if the 1st character is lowercase."
   ]
  },
  {
   "cell_type": "code",
   "execution_count": 44,
   "metadata": {
    "collapsed": true
   },
   "outputs": [],
   "source": [
    "def any_lowercase2(s):\n",
    "    for c in s:\n",
    "        if 'c'.islower():\n",
    "            return 'True'\n",
    "        else:\n",
    "            return 'False'"
   ]
  },
  {
   "cell_type": "markdown",
   "metadata": {},
   "source": [
    "Returns if the string 'c' is lowercase. (True)"
   ]
  },
  {
   "cell_type": "code",
   "execution_count": null,
   "metadata": {
    "collapsed": true
   },
   "outputs": [],
   "source": [
    "def any_lowercase3(s):\n",
    "    for c in s:\n",
    "        flag = c.islower()\n",
    "    return flag"
   ]
  },
  {
   "cell_type": "markdown",
   "metadata": {},
   "source": [
    "Returns if the last character is lowercase."
   ]
  },
  {
   "cell_type": "code",
   "execution_count": null,
   "metadata": {
    "collapsed": true
   },
   "outputs": [],
   "source": [
    "def any_lowercase4(s):\n",
    "    flag = False\n",
    "    for c in s:\n",
    "        flag = flag or c.islower()\n",
    "    return flag"
   ]
  },
  {
   "cell_type": "markdown",
   "metadata": {},
   "source": [
    "Returns True if there is any lowercase character in s "
   ]
  },
  {
   "cell_type": "code",
   "execution_count": null,
   "metadata": {
    "collapsed": true
   },
   "outputs": [],
   "source": [
    "def any_lowercase5(s):\n",
    "    for c in s:\n",
    "        if not c.islower():\n",
    "            return False\n",
    "    return True"
   ]
  },
  {
   "cell_type": "markdown",
   "metadata": {},
   "source": [
    "Returns True if no character in s in upper "
   ]
  },
  {
   "cell_type": "code",
   "execution_count": null,
   "metadata": {
    "collapsed": true
   },
   "outputs": [],
   "source": [
    "def any_lowercase1(s):\n",
    "    for c in s:\n",
    "        if c.islower():\n",
    "            return True\n",
    "        else:\n",
    "            return False\n",
    "#This function checks if the first letter in the string is lowercase"
   ]
  },
  {
   "cell_type": "markdown",
   "metadata": {},
   "source": [
    " "
   ]
  },
  {
   "cell_type": "code",
   "execution_count": null,
   "metadata": {
    "collapsed": true
   },
   "outputs": [],
   "source": [
    "def any_lowercase2(s):\n",
    "    for c in s:\n",
    "        if 'c'.islower():\n",
    "            return 'True'\n",
    "        else:\n",
    "            return 'False'\n",
    "#this function sees if the letter 'c' is lowercase, which is always True"
   ]
  },
  {
   "cell_type": "markdown",
   "metadata": {},
   "source": [
    " "
   ]
  },
  {
   "cell_type": "code",
   "execution_count": null,
   "metadata": {
    "collapsed": true
   },
   "outputs": [],
   "source": [
    "def any_lowercase3(s):\n",
    "    for c in s:\n",
    "        flag = c.islower()\n",
    "    return flag\n",
    "#This returns the last letter of the word made lowercase"
   ]
  },
  {
   "cell_type": "markdown",
   "metadata": {},
   "source": [
    " "
   ]
  },
  {
   "cell_type": "code",
   "execution_count": 12,
   "metadata": {
    "collapsed": false
   },
   "outputs": [],
   "source": [
    "def any_lowercase4(s):\n",
    "    flag = False\n",
    "    for c in s:\n",
    "        flag = flag or c.islower()\n",
    "    return flag\n",
    "#flag will always equal flag, so it will always be true"
   ]
  },
  {
   "cell_type": "markdown",
   "metadata": {},
   "source": [
    " "
   ]
  },
  {
   "cell_type": "code",
   "execution_count": 11,
   "metadata": {
    "collapsed": true
   },
   "outputs": [],
   "source": [
    "def any_lowercase5(s):\n",
    "    for c in s:\n",
    "        if not c.islower():\n",
    "            return False\n",
    "    return True\n",
    "#this function returns false if the first letter is not lowercase"
   ]
  },
  {
   "cell_type": "markdown",
   "metadata": {},
   "source": [
    " "
   ]
  },
  {
   "cell_type": "code",
   "execution_count": 40,
   "metadata": {
    "collapsed": false
   },
   "outputs": [
    {
     "data": {
      "text/plain": [
       "False"
      ]
     },
     "execution_count": 40,
     "metadata": {},
     "output_type": "execute_result"
    }
   ],
   "source": [
    "def any_lowercase1(s):\n",
    "    for c in s:\n",
    "        if c.islower():\n",
    "            return True\n",
    "        else:\n",
    "            return False\n",
    "\n",
    "any_lowercase1('Yes')"
   ]
  },
  {
   "cell_type": "markdown",
   "metadata": {},
   "source": [
    "This looks at the first character in the string and ignores the rest because return."
   ]
  },
  {
   "cell_type": "code",
   "execution_count": 45,
   "metadata": {
    "collapsed": false
   },
   "outputs": [
    {
     "data": {
      "text/plain": [
       "'True'"
      ]
     },
     "execution_count": 45,
     "metadata": {},
     "output_type": "execute_result"
    }
   ],
   "source": [
    "def any_lowercase2(s):\n",
    "    for c in s:\n",
    "        if 'c'.islower():\n",
    "            return 'True'\n",
    "        else:\n",
    "            return 'False'\n",
    "\n",
    "any_lowercase2('Yes')"
   ]
  },
  {
   "cell_type": "markdown",
   "metadata": {},
   "source": [
    "Returns true for everything because it is asked if the string 'c' is lowercase. "
   ]
  },
  {
   "cell_type": "code",
   "execution_count": 62,
   "metadata": {
    "collapsed": false
   },
   "outputs": [
    {
     "data": {
      "text/plain": [
       "False"
      ]
     },
     "execution_count": 62,
     "metadata": {},
     "output_type": "execute_result"
    }
   ],
   "source": [
    "def any_lowercase3(s):\n",
    "    for c in s:\n",
    "        flag = c.islower()\n",
    "    return flag\n",
    "\n",
    "any_lowercase3('nO')"
   ]
  },
  {
   "cell_type": "markdown",
   "metadata": {},
   "source": [
    "T/F dependent on last character of the string ."
   ]
  },
  {
   "cell_type": "code",
   "execution_count": 78,
   "metadata": {
    "collapsed": false
   },
   "outputs": [
    {
     "data": {
      "text/plain": [
       "True"
      ]
     },
     "execution_count": 78,
     "metadata": {},
     "output_type": "execute_result"
    }
   ],
   "source": [
    "def any_lowercase4(s):\n",
    "    flag = False\n",
    "    for c in s:\n",
    "        flag = flag or c.islower()\n",
    "    return flag\n",
    "\n",
    "any_lowercase4('IS TRUE lower OR NOT?')"
   ]
  },
  {
   "cell_type": "markdown",
   "metadata": {},
   "source": [
    "This one works! Assumes that all will be uppercase, so starts with False (the flag). If a lowercase is found, the flag is turned to True. After being turned True, it cannot be turned false because the conditional is to remain the same or turn True. \n",
    "\n",
    "*upon further inspection, i treated meaning of **or** as 'or if' and assumed the True value took precedence over false.  I think i'm still a tad confused about this. "
   ]
  },
  {
   "cell_type": "code",
   "execution_count": 82,
   "metadata": {
    "collapsed": false
   },
   "outputs": [
    {
     "data": {
      "text/plain": [
       "False"
      ]
     },
     "execution_count": 82,
     "metadata": {},
     "output_type": "execute_result"
    }
   ],
   "source": [
    "def any_lowercase5(s):\n",
    "    for c in s:\n",
    "        if not c.islower():\n",
    "            return False\n",
    "    return True\n",
    "\n",
    "any_lowercase1('Ul')"
   ]
  },
  {
   "cell_type": "markdown",
   "metadata": {},
   "source": [
    "Only sees the first letter because returns. If first character is Uppercase, the if statement is triggered and False is returned. If it is lowercase, the if is ignored and True is returned."
   ]
  },
  {
   "cell_type": "code",
   "execution_count": 51,
   "metadata": {
    "collapsed": false
   },
   "outputs": [
    {
     "data": {
      "text/plain": [
       "False"
      ]
     },
     "execution_count": 51,
     "metadata": {},
     "output_type": "execute_result"
    }
   ],
   "source": [
    "def any_lowercase1(s):\n",
    "    for c in s:\n",
    "        if c.islower():\n",
    "            return True\n",
    "        else:\n",
    "            return False\n",
    "\n",
    "#It goes through each letter and checks if it's lowercase\n",
    "#It only returns True if they're all lowercase"
   ]
  },
  {
   "cell_type": "markdown",
   "metadata": {},
   "source": [
    " "
   ]
  },
  {
   "cell_type": "code",
   "execution_count": null,
   "metadata": {
    "collapsed": true
   },
   "outputs": [],
   "source": [
    "def any_lowercase2(s):\n",
    "    for c in s:\n",
    "        if 'c'.islower():\n",
    "            return 'True'\n",
    "        else:\n",
    "            return 'False'\n",
    "\n",
    "#This one would do the same thing as the one above but return strings\n",
    "#instead of booleans if the c wasn't 'c'."
   ]
  },
  {
   "cell_type": "markdown",
   "metadata": {},
   "source": [
    " "
   ]
  },
  {
   "cell_type": "code",
   "execution_count": 52,
   "metadata": {
    "collapsed": false
   },
   "outputs": [
    {
     "data": {
      "text/plain": [
       "False"
      ]
     },
     "execution_count": 52,
     "metadata": {},
     "output_type": "execute_result"
    }
   ],
   "source": [
    "def any_lowercase3(s):\n",
    "    for c in s:\n",
    "        flag = c.islower()\n",
    "    return flag\n",
    "\n",
    "any_lowercase3('BOB IS DEaD')\n",
    "\n",
    "#returns True if the last letter is lowercase;\n",
    "#if last letter is uppercase, it returns False,\n",
    "#because when it returns flag, it only returns the last letter."
   ]
  },
  {
   "cell_type": "markdown",
   "metadata": {},
   "source": [
    " "
   ]
  },
  {
   "cell_type": "code",
   "execution_count": 55,
   "metadata": {
    "collapsed": false
   },
   "outputs": [
    {
     "data": {
      "text/plain": [
       "True"
      ]
     },
     "execution_count": 55,
     "metadata": {},
     "output_type": "execute_result"
    }
   ],
   "source": [
    "def any_lowercase4(s):\n",
    "    flag = False\n",
    "    for c in s:\n",
    "        flag = flag or c.islower()\n",
    "    return flag\n",
    "\n",
    "any_lowercase4('BOB IS DEaD')\n",
    "\n",
    "#works correctly -- if any letter is lowercase, it returns True.\n",
    "#it's either False or lowercase"
   ]
  },
  {
   "cell_type": "markdown",
   "metadata": {},
   "source": [
    " "
   ]
  },
  {
   "cell_type": "code",
   "execution_count": 61,
   "metadata": {
    "collapsed": false
   },
   "outputs": [
    {
     "data": {
      "text/plain": [
       "False"
      ]
     },
     "execution_count": 61,
     "metadata": {},
     "output_type": "execute_result"
    }
   ],
   "source": [
    "def any_lowercase5(s):\n",
    "    for c in s:\n",
    "        if not c.islower():\n",
    "            return False\n",
    "    return True\n",
    "\n",
    "any_lowercase5('bob ')\n",
    "#if there are any spaces or uppercase letters, returns False."
   ]
  },
  {
   "cell_type": "markdown",
   "metadata": {},
   "source": [
    " "
   ]
  },
  {
   "cell_type": "code",
   "execution_count": null,
   "metadata": {
    "collapsed": true
   },
   "outputs": [],
   "source": [
    "#returns a boolean statement about whether the first letter of a string is lowercase\n",
    "\n",
    "def any_lowercase1(s):\n",
    "    for c in s:\n",
    "        if c.islower():\n",
    "            return True\n",
    "        else:\n",
    "            return False"
   ]
  },
  {
   "cell_type": "markdown",
   "metadata": {},
   "source": [
    " "
   ]
  },
  {
   "cell_type": "code",
   "execution_count": 22,
   "metadata": {
    "collapsed": false
   },
   "outputs": [],
   "source": [
    "#returns true\n",
    "\n",
    "def any_lowercase2(s):\n",
    "    for c in s:\n",
    "        if 'c'.islower():\n",
    "            return 'True'\n",
    "        else:\n",
    "            return 'False'"
   ]
  },
  {
   "cell_type": "markdown",
   "metadata": {},
   "source": [
    " "
   ]
  },
  {
   "cell_type": "code",
   "execution_count": null,
   "metadata": {
    "collapsed": true
   },
   "outputs": [],
   "source": [
    "#returns a boolean statement about whether the last letter of a string is lowercase\n",
    "\n",
    "def any_lowercase3(s):\n",
    "    for c in s:\n",
    "        flag = c.islower()\n",
    "    return flag"
   ]
  },
  {
   "cell_type": "markdown",
   "metadata": {},
   "source": [
    " "
   ]
  },
  {
   "cell_type": "code",
   "execution_count": 27,
   "metadata": {
    "collapsed": false
   },
   "outputs": [
    {
     "data": {
      "text/plain": [
       "True"
      ]
     },
     "execution_count": 27,
     "metadata": {},
     "output_type": "execute_result"
    }
   ],
   "source": [
    "#returns a boolean statement about whether a string has any lowercase letters\n",
    "\n",
    "def any_lowercase4(s):\n",
    "    flag = False\n",
    "    for c in s:\n",
    "        flag = flag or c.islower()\n",
    "    return flag\n",
    "\n",
    "any_lowercase4('FFfFF')"
   ]
  },
  {
   "cell_type": "markdown",
   "metadata": {},
   "source": [
    " "
   ]
  },
  {
   "cell_type": "code",
   "execution_count": 32,
   "metadata": {
    "collapsed": false
   },
   "outputs": [
    {
     "data": {
      "text/plain": [
       "False"
      ]
     },
     "execution_count": 32,
     "metadata": {},
     "output_type": "execute_result"
    }
   ],
   "source": [
    "#returns a boolean statement about whether a string has all lowercase letters\n",
    "\n",
    "def any_lowercase5(s):\n",
    "    for c in s:\n",
    "        if not c.islower():\n",
    "            return False\n",
    "    return True\n",
    "\n",
    "any_lowercase5('ffFf')"
   ]
  },
  {
   "cell_type": "markdown",
   "metadata": {},
   "source": [
    " "
   ]
  },
  {
   "cell_type": "code",
   "execution_count": 25,
   "metadata": {
    "collapsed": true
   },
   "outputs": [],
   "source": [
    "def any_lowercase1(s):\n",
    "    for c in s:\n",
    "        if c.islower():\n",
    "            return True\n",
    "        else:\n",
    "            return False"
   ]
  },
  {
   "cell_type": "markdown",
   "metadata": {},
   "source": [
    " This appears to work for a string of all letters."
   ]
  },
  {
   "cell_type": "code",
   "execution_count": null,
   "metadata": {
    "collapsed": true
   },
   "outputs": [],
   "source": [
    "def any_lowercase2(s):\n",
    "    for c in s:\n",
    "        if 'c'.islower():\n",
    "            return 'True'\n",
    "        else:\n",
    "            return 'False'"
   ]
  },
  {
   "cell_type": "markdown",
   "metadata": {},
   "source": [
    "This will always result in True because it will only use 'c' "
   ]
  },
  {
   "cell_type": "code",
   "execution_count": null,
   "metadata": {
    "collapsed": true
   },
   "outputs": [],
   "source": [
    "def any_lowercase3(s):\n",
    "    for c in s:\n",
    "        flag = c.islower()\n",
    "    return flag"
   ]
  },
  {
   "cell_type": "markdown",
   "metadata": {},
   "source": [
    "This will cycle through everything but only return the last lowercase letter. "
   ]
  },
  {
   "cell_type": "code",
   "execution_count": null,
   "metadata": {
    "collapsed": true
   },
   "outputs": [],
   "source": [
    "def any_lowercase4(s):\n",
    "    flag = False\n",
    "    for c in s:\n",
    "        flag = flag or c.islower()\n",
    "    return flag"
   ]
  },
  {
   "cell_type": "markdown",
   "metadata": {},
   "source": [
    "This will return True or False bases upon if c is lower case. "
   ]
  },
  {
   "cell_type": "code",
   "execution_count": null,
   "metadata": {
    "collapsed": true
   },
   "outputs": [],
   "source": [
    "def any_lowercase5(s):\n",
    "    for c in s:\n",
    "        if not c.islower():\n",
    "            return False\n",
    "    return True"
   ]
  },
  {
   "cell_type": "markdown",
   "metadata": {},
   "source": [
    "This will return False if any letter is lowercase and True if it is all uppercase."
   ]
  },
  {
   "cell_type": "code",
   "execution_count": 42,
   "metadata": {
    "collapsed": false
   },
   "outputs": [],
   "source": [
    "def any_lowercase1(s):\n",
    "    for c in s:\n",
    "        if c.islower():\n",
    "            return True\n",
    "        else:\n",
    "            return False"
   ]
  },
  {
   "cell_type": "markdown",
   "metadata": {},
   "source": [
    "This code tells if a given string has a lowercase character AT THE END, also slightly redundant as it's kind of \"if true, return true\""
   ]
  },
  {
   "cell_type": "code",
   "execution_count": 29,
   "metadata": {
    "collapsed": false
   },
   "outputs": [],
   "source": [
    "def any_lowercase2(s):\n",
    "    for c in s:\n",
    "        if 'c'.islower():\n",
    "            return 'True'\n",
    "        else:\n",
    "            return 'False'"
   ]
  },
  {
   "cell_type": "markdown",
   "metadata": {},
   "source": [
    "Won't work properly because the function will only examine if 'c' is lowercase or not, no matter the input. Also \"True\" and \"False\" in these cases would only be strings."
   ]
  },
  {
   "cell_type": "code",
   "execution_count": 44,
   "metadata": {
    "collapsed": false
   },
   "outputs": [],
   "source": [
    "def any_lowercase3(s):\n",
    "    for c in s:\n",
    "        flag = c.islower()\n",
    "    return flag"
   ]
  },
  {
   "cell_type": "markdown",
   "metadata": {},
   "source": [
    "Similar to the first example as in it only outputs the last letter except it assign \"flag\" as boolean and outputs that."
   ]
  },
  {
   "cell_type": "code",
   "execution_count": 67,
   "metadata": {
    "collapsed": false
   },
   "outputs": [],
   "source": [
    "def any_lowercase4(s):\n",
    "    flag = False\n",
    "    for c in s:\n",
    "        flag = flag or c.islower()\n",
    "    return flag"
   ]
  },
  {
   "cell_type": "markdown",
   "metadata": {},
   "source": [
    "Works as in \"Flag\" is initially set to False unless c.islower() at any point says otherwise and changed the boolean variable. Unlike previous examples, not only the last result is outputed."
   ]
  },
  {
   "cell_type": "code",
   "execution_count": 60,
   "metadata": {
    "collapsed": false
   },
   "outputs": [],
   "source": [
    "def any_lowercase5(s):\n",
    "    for c in s:\n",
    "        if not c.islower():\n",
    "            return False\n",
    "    return True"
   ]
  },
  {
   "cell_type": "markdown",
   "metadata": {},
   "source": [
    "This one works as a test if all letters are lower case. If any are capitalized, then the function outputs \"False\". It gets something right as it doesn't just output the last result, but it's testing for the wrong thing since any capital letter will make it output \"False\" as a result."
   ]
  },
  {
   "cell_type": "code",
   "execution_count": 28,
   "metadata": {
    "collapsed": false
   },
   "outputs": [
    {
     "name": "stdout",
     "output_type": "stream",
     "text": [
      "False\n",
      "False\n",
      "True\n"
     ]
    }
   ],
   "source": [
    "def any_lowercase1(s):\n",
    "    for c in s:\n",
    "        if c.islower():\n",
    "            return True\n",
    "        else:\n",
    "            return False\n",
    "        \n",
    "#This only checks if the first character is lowercase. If it's not, it returns false\n",
    "print any_lowercase1(\"Hello\")\n",
    "print any_lowercase1(\"HELLO\")\n",
    "print any_lowercase1(\"hEllo\")"
   ]
  },
  {
   "cell_type": "markdown",
   "metadata": {},
   "source": [
    " "
   ]
  },
  {
   "cell_type": "code",
   "execution_count": 29,
   "metadata": {
    "collapsed": false
   },
   "outputs": [
    {
     "name": "stdout",
     "output_type": "stream",
     "text": [
      "True\n"
     ]
    }
   ],
   "source": [
    "def any_lowercase2(s):\n",
    "    for c in s:\n",
    "        if 'c'.islower():\n",
    "            return 'True'\n",
    "        else:\n",
    "            return 'False'\n",
    "\n",
    "#This one checks if the string 'c' is lowercase. It always is\n",
    "print any_lowercase2('A')"
   ]
  },
  {
   "cell_type": "markdown",
   "metadata": {},
   "source": [
    " "
   ]
  },
  {
   "cell_type": "code",
   "execution_count": 31,
   "metadata": {
    "collapsed": false
   },
   "outputs": [
    {
     "name": "stdout",
     "output_type": "stream",
     "text": [
      "True\n",
      "False\n"
     ]
    }
   ],
   "source": [
    "def any_lowercase3(s):\n",
    "    for c in s:\n",
    "        flag = c.islower()\n",
    "    return flag\n",
    "#This one only checks the last character, because flag is redefined for every c\n",
    "print any_lowercase3(\"An\")\n",
    "print any_lowercase3(\"aN\")"
   ]
  },
  {
   "cell_type": "markdown",
   "metadata": {},
   "source": [
    " "
   ]
  },
  {
   "cell_type": "code",
   "execution_count": 32,
   "metadata": {
    "collapsed": false
   },
   "outputs": [
    {
     "name": "stdout",
     "output_type": "stream",
     "text": [
      "True\n",
      "False\n",
      "True\n",
      "True\n"
     ]
    }
   ],
   "source": [
    "def any_lowercase4(s):\n",
    "    flag = False\n",
    "    for c in s:\n",
    "        flag = flag or c.islower()\n",
    "    return flag\n",
    "\n",
    "#this one works. If either flag or c.islower() is True, flag becomes True\n",
    "#Once flag becomes True, it'll stay true.\n",
    "print any_lowercase4(\"Hello\")\n",
    "print any_lowercase4(\"HELLO\")\n",
    "print any_lowercase4(\"hELLO\")\n",
    "print any_lowercase4(\"HELLo\")"
   ]
  },
  {
   "cell_type": "markdown",
   "metadata": {},
   "source": [
    " "
   ]
  },
  {
   "cell_type": "code",
   "execution_count": 33,
   "metadata": {
    "collapsed": false
   },
   "outputs": [
    {
     "name": "stdout",
     "output_type": "stream",
     "text": [
      "True\n",
      "False\n",
      "True\n",
      "True\n"
     ]
    }
   ],
   "source": [
    "def any_lowercase5(s):\n",
    "    for c in s:\n",
    "        if not c.islower():\n",
    "            return False\n",
    "    return True\n",
    "\n",
    "#This one also works. If any of the characters aren't lowercase, it returns false\n",
    "print any_lowercase4(\"Hello\")\n",
    "print any_lowercase4(\"HELLO\")\n",
    "print any_lowercase4(\"hELLO\")\n",
    "print any_lowercase4(\"HELLo\")"
   ]
  },
  {
   "cell_type": "markdown",
   "metadata": {},
   "source": [
    " "
   ]
  },
  {
   "cell_type": "code",
   "execution_count": null,
   "metadata": {
    "collapsed": true
   },
   "outputs": [],
   "source": [
    "def any_lowercase1(s):\n",
    "    for c in s:\n",
    "        if c.islower():\n",
    "            return True\n",
    "        else:\n",
    "            return False\n",
    "#only checks the first character"
   ]
  },
  {
   "cell_type": "markdown",
   "metadata": {},
   "source": [
    " "
   ]
  },
  {
   "cell_type": "code",
   "execution_count": null,
   "metadata": {
    "collapsed": true
   },
   "outputs": [],
   "source": [
    "def any_lowercase2(s):\n",
    "    for c in s:\n",
    "        if 'c'.islower():\n",
    "            return 'True'\n",
    "        else:\n",
    "            return 'False'\n",
    "#always returns True, it checks to see whether the character 'c' is lower, which it always is"
   ]
  },
  {
   "cell_type": "markdown",
   "metadata": {},
   "source": [
    " "
   ]
  },
  {
   "cell_type": "code",
   "execution_count": null,
   "metadata": {
    "collapsed": true
   },
   "outputs": [],
   "source": [
    "def any_lowercase3(s):\n",
    "    for c in s:\n",
    "        flag = c.islower()\n",
    "    return flag\n",
    "#returns whether the last character in s is lowercase or not"
   ]
  },
  {
   "cell_type": "markdown",
   "metadata": {},
   "source": [
    " "
   ]
  },
  {
   "cell_type": "code",
   "execution_count": null,
   "metadata": {
    "collapsed": true
   },
   "outputs": [],
   "source": [
    "def any_lowercase4(s):\n",
    "    flag = False\n",
    "    for c in s:\n",
    "        flag = flag or c.islower()\n",
    "    return flag\n",
    "#works correctly, if there is a lowercase, the flag boolean assignment will continue to be True for all further iterations"
   ]
  },
  {
   "cell_type": "markdown",
   "metadata": {},
   "source": [
    " "
   ]
  },
  {
   "cell_type": "code",
   "execution_count": null,
   "metadata": {
    "collapsed": true
   },
   "outputs": [],
   "source": [
    "def any_lowercase5(s):\n",
    "    for c in s:\n",
    "        if not c.islower():\n",
    "            return False\n",
    "    return True\n",
    "#returns False at the first instance of a non-lowercase letter, True if the whole string is lowercase"
   ]
  },
  {
   "cell_type": "markdown",
   "metadata": {},
   "source": [
    " "
   ]
  },
  {
   "cell_type": "code",
   "execution_count": 18,
   "metadata": {
    "collapsed": true
   },
   "outputs": [],
   "source": [
    "def any_lowercase1(s):\n",
    "    for c in s:\n",
    "        if c.islower():\n",
    "            return True\n",
    "        else:\n",
    "            return False"
   ]
  },
  {
   "cell_type": "markdown",
   "metadata": {},
   "source": [
    "won't print anything if there are lowercase and will print False if there aren't"
   ]
  },
  {
   "cell_type": "code",
   "execution_count": null,
   "metadata": {
    "collapsed": true
   },
   "outputs": [],
   "source": [
    "def any_lowercase2(s):\n",
    "    for c in s:\n",
    "        if 'c'.islower():\n",
    "            return 'True'\n",
    "        else:\n",
    "            return 'False'"
   ]
  },
  {
   "cell_type": "markdown",
   "metadata": {},
   "source": [
    "will print the script 'True' if all values are lowercase"
   ]
  },
  {
   "cell_type": "code",
   "execution_count": null,
   "metadata": {
    "collapsed": true
   },
   "outputs": [],
   "source": [
    "def any_lowercase3(s):\n",
    "    for c in s:\n",
    "        flag = c.islower()\n",
    "    return flag"
   ]
  },
  {
   "cell_type": "markdown",
   "metadata": {},
   "source": [
    " will return if the last value is upper or lowercase"
   ]
  },
  {
   "cell_type": "code",
   "execution_count": null,
   "metadata": {
    "collapsed": true
   },
   "outputs": [],
   "source": [
    "def any_lowercase4(s):\n",
    "    flag = False\n",
    "    for c in s:\n",
    "        flag = flag or c.islower()\n",
    "    return flag"
   ]
  },
  {
   "cell_type": "markdown",
   "metadata": {},
   "source": [
    "will return True regardless"
   ]
  },
  {
   "cell_type": "code",
   "execution_count": null,
   "metadata": {
    "collapsed": true
   },
   "outputs": [],
   "source": [
    "def any_lowercase5(s):\n",
    "    for c in s:\n",
    "        if not c.islower():\n",
    "            return False\n",
    "    return True"
   ]
  },
  {
   "cell_type": "markdown",
   "metadata": {},
   "source": [
    "will return False for uppercase letters until it hits a lowercase letter"
   ]
  },
  {
   "cell_type": "code",
   "execution_count": 63,
   "metadata": {
    "collapsed": false
   },
   "outputs": [
    {
     "name": "stdout",
     "output_type": "stream",
     "text": [
      "False\n",
      "True\n"
     ]
    }
   ],
   "source": [
    "def any_lowercase1(s):\n",
    "    for c in s:\n",
    "        if c.islower():\n",
    "            return True\n",
    "        else:\n",
    "            return False\n",
    "        \n",
    "print any_lowercase1('Help')\n",
    "print any_lowercase1('help')\n",
    "\n",
    "# This function can only check the first character, as\n",
    "# it always returns after the first character"
   ]
  },
  {
   "cell_type": "markdown",
   "metadata": {},
   "source": [
    " "
   ]
  },
  {
   "cell_type": "code",
   "execution_count": 65,
   "metadata": {
    "collapsed": false
   },
   "outputs": [
    {
     "name": "stdout",
     "output_type": "stream",
     "text": [
      "True\n"
     ]
    },
    {
     "data": {
      "text/plain": [
       "'True'"
      ]
     },
     "execution_count": 65,
     "metadata": {},
     "output_type": "execute_result"
    }
   ],
   "source": [
    "def any_lowercase2(s):\n",
    "    for c in s:\n",
    "        if 'c'.islower():\n",
    "#             print 'True'\n",
    "            return 'True'\n",
    "        else:\n",
    "#             print 'False'\n",
    "            return 'False'\n",
    "\n",
    "any_lowercase2('Help')\n",
    "\n",
    "# This function applies .islower to 'c'"
   ]
  },
  {
   "cell_type": "markdown",
   "metadata": {},
   "source": [
    " "
   ]
  },
  {
   "cell_type": "code",
   "execution_count": 69,
   "metadata": {
    "collapsed": false
   },
   "outputs": [
    {
     "name": "stdout",
     "output_type": "stream",
     "text": [
      "True\n",
      "False\n",
      "True\n"
     ]
    }
   ],
   "source": [
    "def any_lowercase3(s):\n",
    "    for c in s:\n",
    "        flag = c.islower()\n",
    "    return flag\n",
    "\n",
    "print any_lowercase3('Help')\n",
    "print any_lowercase3('HELP')\n",
    "print any_lowercase3('help')\n",
    "\n",
    "# This function seems to work"
   ]
  },
  {
   "cell_type": "code",
   "execution_count": 71,
   "metadata": {
    "collapsed": false
   },
   "outputs": [
    {
     "name": "stdout",
     "output_type": "stream",
     "text": [
      "True\n",
      "False\n",
      "True\n"
     ]
    }
   ],
   "source": [
    "def any_lowercase4(s):\n",
    "    flag = False\n",
    "    for c in s:\n",
    "        flag = flag or c.islower()\n",
    "    return flag\n",
    "\n",
    "print any_lowercase4('Help')\n",
    "print any_lowercase4('HELP')\n",
    "print any_lowercase4('help')\n",
    "\n",
    "# This also seems to work"
   ]
  },
  {
   "cell_type": "markdown",
   "metadata": {},
   "source": [
    " "
   ]
  },
  {
   "cell_type": "code",
   "execution_count": 74,
   "metadata": {
    "collapsed": false
   },
   "outputs": [
    {
     "name": "stdout",
     "output_type": "stream",
     "text": [
      "False\n",
      "False\n",
      "True\n",
      "False\n"
     ]
    }
   ],
   "source": [
    "def any_lowercase5(s):\n",
    "    for c in s:\n",
    "        if not c.islower():\n",
    "            return False\n",
    "    return True\n",
    "\n",
    "print any_lowercase5('Help')\n",
    "print any_lowercase5('HELP')\n",
    "print any_lowercase5('help')\n",
    "print any_lowercase5('hELP')\n",
    "\n",
    "# This function returns false as soon as it hits an\n",
    "# uppercase character"
   ]
  },
  {
   "cell_type": "markdown",
   "metadata": {},
   "source": [
    " "
   ]
  },
  {
   "cell_type": "code",
   "execution_count": 35,
   "metadata": {
    "collapsed": false
   },
   "outputs": [],
   "source": [
    "def any_lowercase1(s):\n",
    "    for c in s:\n",
    "        if c.islower():\n",
    "            return True\n",
    "        else:\n",
    "            return False\n",
    "\n",
    "# This function checks to see if the first letter is lowercase.\n",
    "# It returns out before the loop is finished, so it doesn't check any\n",
    "# others."
   ]
  },
  {
   "cell_type": "markdown",
   "metadata": {},
   "source": [
    " "
   ]
  },
  {
   "cell_type": "code",
   "execution_count": null,
   "metadata": {
    "collapsed": true
   },
   "outputs": [],
   "source": [
    "def any_lowercase2(s):\n",
    "    for c in s:\n",
    "        if 'c'.islower():\n",
    "            return 'True'\n",
    "        else:\n",
    "            return 'False'\n",
    "\n",
    "# This function returns true. Always. Cause 'c' is always lowercase."
   ]
  },
  {
   "cell_type": "markdown",
   "metadata": {},
   "source": [
    " "
   ]
  },
  {
   "cell_type": "code",
   "execution_count": 39,
   "metadata": {
    "collapsed": false
   },
   "outputs": [],
   "source": [
    "def any_lowercase3(s):\n",
    "    for c in s:\n",
    "        flag = c.islower()\n",
    "    return flag\n",
    "\n",
    "# This one lets you know if the last letter is lowercase, in case you\n",
    "# were specifically curious about that. Flag keeps getting reassigned\n",
    "# until the string ends, and only saves the state of the last letter."
   ]
  },
  {
   "cell_type": "markdown",
   "metadata": {},
   "source": [
    " "
   ]
  },
  {
   "cell_type": "code",
   "execution_count": 44,
   "metadata": {
    "collapsed": false
   },
   "outputs": [],
   "source": [
    "def any_lowercase4(s):\n",
    "    flag = False\n",
    "    for c in s:\n",
    "        flag = flag or c.islower()\n",
    "    return flag\n",
    "\n",
    "# This one works, I think. It will iterate through until c.islower()\n",
    "# is true, then remain true until the return."
   ]
  },
  {
   "cell_type": "markdown",
   "metadata": {},
   "source": [
    " "
   ]
  },
  {
   "cell_type": "code",
   "execution_count": null,
   "metadata": {
    "collapsed": true
   },
   "outputs": [],
   "source": [
    "def any_lowercase5(s):\n",
    "    for c in s:\n",
    "        if not c.islower():\n",
    "            return False\n",
    "    return True\n",
    "\n",
    "# This one lets you know if all of the letters are lowercase. Once one\n",
    "# is capitalized, it returns out false."
   ]
  },
  {
   "cell_type": "markdown",
   "metadata": {},
   "source": [
    " "
   ]
  },
  {
   "cell_type": "code",
   "execution_count": 22,
   "metadata": {
    "collapsed": false
   },
   "outputs": [
    {
     "name": "stdout",
     "output_type": "stream",
     "text": [
      "True\n",
      "True\n",
      "False\n"
     ]
    }
   ],
   "source": [
    "def any_lowercase1(s):\n",
    "    for c in s:\n",
    "        if c.islower():\n",
    "            return True\n",
    "        else:\n",
    "            return False\n",
    "print any_lowercase1('hELLO')\n",
    "print any_lowercase1('hello')\n",
    "print any_lowercase1('Hello')\n",
    "#actually checks if the first letter is lowercase"
   ]
  },
  {
   "cell_type": "markdown",
   "metadata": {},
   "source": [
    " "
   ]
  },
  {
   "cell_type": "code",
   "execution_count": 25,
   "metadata": {
    "collapsed": false
   },
   "outputs": [
    {
     "data": {
      "text/plain": [
       "'True'"
      ]
     },
     "execution_count": 25,
     "metadata": {},
     "output_type": "execute_result"
    }
   ],
   "source": [
    "def any_lowercase2(s):\n",
    "    for c in s:\n",
    "        if 'c'.islower():\n",
    "            return 'True'\n",
    "        else:\n",
    "            return 'False'\n",
    "any_lowercase2('HELLO')\n",
    "#actually checks if the string 'c' contains any lowercase letters"
   ]
  },
  {
   "cell_type": "markdown",
   "metadata": {},
   "source": [
    " "
   ]
  },
  {
   "cell_type": "code",
   "execution_count": 30,
   "metadata": {
    "collapsed": false
   },
   "outputs": [
    {
     "data": {
      "text/plain": [
       "False"
      ]
     },
     "execution_count": 30,
     "metadata": {},
     "output_type": "execute_result"
    }
   ],
   "source": [
    "def any_lowercase3(s):\n",
    "    for c in s:\n",
    "        flag = c.islower()\n",
    "    return flag\n",
    "any_lowercase3('hellO')\n",
    "#actually checks if the last letter is lowercase"
   ]
  },
  {
   "cell_type": "markdown",
   "metadata": {},
   "source": [
    " "
   ]
  },
  {
   "cell_type": "code",
   "execution_count": 34,
   "metadata": {
    "collapsed": false
   },
   "outputs": [
    {
     "data": {
      "text/plain": [
       "False"
      ]
     },
     "execution_count": 34,
     "metadata": {},
     "output_type": "execute_result"
    }
   ],
   "source": [
    "def any_lowercase4(s):\n",
    "    flag = False\n",
    "    for c in s:\n",
    "        flag = flag or c.islower()\n",
    "    return flag\n",
    "any_lowercase4('HELLO')\n",
    "#this one works just fine"
   ]
  },
  {
   "cell_type": "markdown",
   "metadata": {},
   "source": [
    " "
   ]
  },
  {
   "cell_type": "code",
   "execution_count": 38,
   "metadata": {
    "collapsed": false
   },
   "outputs": [
    {
     "data": {
      "text/plain": [
       "False"
      ]
     },
     "execution_count": 38,
     "metadata": {},
     "output_type": "execute_result"
    }
   ],
   "source": [
    "def any_lowercase5(s):\n",
    "    for c in s:\n",
    "        if not c.islower():\n",
    "            return False\n",
    "    return True\n",
    "any_lowercase5('Hello')\n",
    "#actually checks if all the letters are lowercase"
   ]
  },
  {
   "cell_type": "markdown",
   "metadata": {},
   "source": [
    " "
   ]
  },
  {
   "cell_type": "code",
   "execution_count": 11,
   "metadata": {
    "collapsed": false
   },
   "outputs": [
    {
     "name": "stdout",
     "output_type": "stream",
     "text": [
      "False\n"
     ]
    }
   ],
   "source": [
    "def any_lowercase1(s):\n",
    "    for c in s:\n",
    "        if c.islower():\n",
    "            return True\n",
    "        else:\n",
    "            return False\n",
    "\n",
    "print any_lowercase1(\"I LIKE TO MOVE IT MOVE IT\")\n",
    "# This function works. It tells me whether there are lower case letters in the string."
   ]
  },
  {
   "cell_type": "markdown",
   "metadata": {},
   "source": [
    " "
   ]
  },
  {
   "cell_type": "code",
   "execution_count": 12,
   "metadata": {
    "collapsed": false
   },
   "outputs": [
    {
     "name": "stdout",
     "output_type": "stream",
     "text": [
      "True\n"
     ]
    }
   ],
   "source": [
    "def any_lowercase2(s):\n",
    "    for c in s:\n",
    "        if 'c'.islower():\n",
    "            return 'True'\n",
    "        else:\n",
    "            return 'False'\n",
    "        \n",
    "print any_lowercase2(\"I LIKE TO MOVE IT MOVE IT\")\n",
    "# This function doesn't really work. It tells me that 'c' is lowercase... and it's pretty much useless otherwise."
   ]
  },
  {
   "cell_type": "markdown",
   "metadata": {},
   "source": [
    " "
   ]
  },
  {
   "cell_type": "code",
   "execution_count": 13,
   "metadata": {
    "collapsed": false
   },
   "outputs": [
    {
     "name": "stdout",
     "output_type": "stream",
     "text": [
      "False\n"
     ]
    }
   ],
   "source": [
    "def any_lowercase3(s):\n",
    "    for c in s:\n",
    "        flag = c.islower()\n",
    "    return flag\n",
    "\n",
    "print any_lowercase3(\"I LIKE TO MOVE IT MOVE IT\")\n",
    "# This string works. It uses flag to tell me if there are any lower case letters in the string, and returns the Boolean value."
   ]
  },
  {
   "cell_type": "markdown",
   "metadata": {},
   "source": [
    " "
   ]
  },
  {
   "cell_type": "code",
   "execution_count": 16,
   "metadata": {
    "collapsed": false
   },
   "outputs": [
    {
     "name": "stdout",
     "output_type": "stream",
     "text": [
      "False\n"
     ]
    }
   ],
   "source": [
    "def any_lowercase4(s):\n",
    "    flag = False\n",
    "    for c in s:\n",
    "        flag = flag or c.islower()\n",
    "    return flag\n",
    "\n",
    "print any_lowercase4(\"I LIKE TO MOVE IT MOVE IT\")\n",
    "# This function works. It tells me whether there are any lower case letters in the string-- it either returns False if there are no lowercase letters or c.islower() (True) if there are."
   ]
  },
  {
   "cell_type": "markdown",
   "metadata": {},
   "source": [
    " "
   ]
  },
  {
   "cell_type": "code",
   "execution_count": 21,
   "metadata": {
    "collapsed": false
   },
   "outputs": [
    {
     "name": "stdout",
     "output_type": "stream",
     "text": [
      "False\n"
     ]
    }
   ],
   "source": [
    "def any_lowercase5(s):\n",
    "    for c in s:\n",
    "        if not c.islower():\n",
    "            return False\n",
    "    return True\n",
    "\n",
    "print any_lowercase5(\"i like to move it move it\")\n",
    "# This function doesn't work. It returns False no matter what."
   ]
  },
  {
   "cell_type": "markdown",
   "metadata": {},
   "source": [
    " "
   ]
  },
  {
   "cell_type": "code",
   "execution_count": null,
   "metadata": {
    "collapsed": true
   },
   "outputs": [],
   "source": [
    "def any_lowercase1(s):\n",
    "    for c in s:\n",
    "        if c.islower():\n",
    "            return True\n",
    "        else:\n",
    "            return False\n",
    "        \n",
    "\"\"\"Returns whether the first letter of the string if lowercase\"\"\""
   ]
  },
  {
   "cell_type": "markdown",
   "metadata": {},
   "source": [
    " "
   ]
  },
  {
   "cell_type": "code",
   "execution_count": null,
   "metadata": {
    "collapsed": true
   },
   "outputs": [],
   "source": [
    "def any_lowercase2(s):\n",
    "    for c in s:\n",
    "        if 'c'.islower():\n",
    "            return 'True'\n",
    "        else:\n",
    "            return 'False'\n",
    "        \n",
    "\"\"\"Also returns whether the first letter of the string is lowercase\"\"\""
   ]
  },
  {
   "cell_type": "markdown",
   "metadata": {},
   "source": [
    " "
   ]
  },
  {
   "cell_type": "code",
   "execution_count": 10,
   "metadata": {
    "collapsed": false
   },
   "outputs": [
    {
     "data": {
      "text/plain": [
       "'Returns whether the last letter in the string is lowercase'"
      ]
     },
     "execution_count": 10,
     "metadata": {},
     "output_type": "execute_result"
    }
   ],
   "source": [
    "def any_lowercase3(s):\n",
    "    for c in s:\n",
    "        flag = c.islower()\n",
    "    return flag\n",
    "\n",
    "\"\"\"Returns whether the last letter in the string is lowercase\"\"\""
   ]
  },
  {
   "cell_type": "markdown",
   "metadata": {},
   "source": [
    " "
   ]
  },
  {
   "cell_type": "code",
   "execution_count": null,
   "metadata": {
    "collapsed": true
   },
   "outputs": [],
   "source": [
    "def any_lowercase4(s):\n",
    "    flag = False\n",
    "    for c in s:\n",
    "        flag = flag or c.islower()\n",
    "    return flag\n",
    "\n",
    "\"\"\"Returns whether any letter in the string is lowercase\"\"\""
   ]
  },
  {
   "cell_type": "markdown",
   "metadata": {},
   "source": [
    " "
   ]
  },
  {
   "cell_type": "code",
   "execution_count": null,
   "metadata": {
    "collapsed": true
   },
   "outputs": [],
   "source": [
    "def any_lowercase5(s):\n",
    "    for c in s:\n",
    "        if not c.islower():\n",
    "            return False\n",
    "    return True\n",
    "\n",
    "\"\"\"Returns whether all the letters in the string are lowercase\"\"\""
   ]
  },
  {
   "cell_type": "markdown",
   "metadata": {},
   "source": [
    " "
   ]
  },
  {
   "cell_type": "code",
   "execution_count": null,
   "metadata": {
    "collapsed": true
   },
   "outputs": [],
   "source": [
    "def any_lowercase1(s):\n",
    "    \"\"\"Returns if the first letter in the string is lowercase.\"\"\"\n",
    "    for c in s:\n",
    "        if c.islower():\n",
    "            return True\n",
    "        else:\n",
    "            return False"
   ]
  },
  {
   "cell_type": "markdown",
   "metadata": {},
   "source": [
    " "
   ]
  },
  {
   "cell_type": "code",
   "execution_count": null,
   "metadata": {
    "collapsed": true
   },
   "outputs": [],
   "source": [
    "def any_lowercase2(s):\n",
    "    \"\"\"Returns the string'True' if the first letter is lowercase, else 'False'\"\"\"\n",
    "    for c in s:\n",
    "        if 'c'.islower():\n",
    "            return 'True'\n",
    "        else:\n",
    "            return 'False'"
   ]
  },
  {
   "cell_type": "markdown",
   "metadata": {},
   "source": [
    " "
   ]
  },
  {
   "cell_type": "code",
   "execution_count": null,
   "metadata": {
    "collapsed": true
   },
   "outputs": [],
   "source": [
    "def any_lowercase3(s):\n",
    "    \"\"\"Returns if the last letter is lowercase\"\"\"\n",
    "    for c in s:\n",
    "        flag = c.islower()\n",
    "    return flag"
   ]
  },
  {
   "cell_type": "markdown",
   "metadata": {},
   "source": [
    " "
   ]
  },
  {
   "cell_type": "code",
   "execution_count": null,
   "metadata": {
    "collapsed": true
   },
   "outputs": [],
   "source": [
    "def any_lowercase4(s):\n",
    "    \"\"\"Returns if there is any lowercase letter in s\"\"\"\n",
    "    flag = False\n",
    "    for c in s:\n",
    "        flag = flag or c.islower()\n",
    "    return flag"
   ]
  },
  {
   "cell_type": "markdown",
   "metadata": {},
   "source": [
    " "
   ]
  },
  {
   "cell_type": "code",
   "execution_count": null,
   "metadata": {
    "collapsed": true
   },
   "outputs": [],
   "source": [
    "def any_lowercase5(s):\n",
    "    \"\"\"Returns if there is any lowercase letter in s, returning after the first one. Rather nice. \"\"\"\n",
    "    for c in s:\n",
    "        if not c.islower():\n",
    "            return False\n",
    "    return True"
   ]
  },
  {
   "cell_type": "markdown",
   "metadata": {},
   "source": [
    " "
   ]
  },
  {
   "cell_type": "code",
   "execution_count": 82,
   "metadata": {
    "collapsed": false
   },
   "outputs": [
    {
     "data": {
      "text/plain": [
       "True"
      ]
     },
     "execution_count": 82,
     "metadata": {},
     "output_type": "execute_result"
    }
   ],
   "source": [
    "def any_lowercase1(s):\n",
    "    for c in s:\n",
    "        if c.islower():\n",
    "            return True\n",
    "        else:\n",
    "            return False"
   ]
  },
  {
   "cell_type": "markdown",
   "metadata": {},
   "source": [
    "and_lowercase1() returns true/false if the first character in the string is uppercase or lowercase. The loop stops after the function returns true/false"
   ]
  },
  {
   "cell_type": "code",
   "execution_count": 113,
   "metadata": {
    "collapsed": false
   },
   "outputs": [],
   "source": [
    "def any_lowercase2(s):\n",
    "    for c in s:\n",
    "        if 'c'.islower():\n",
    "            return 'True'\n",
    "        else:\n",
    "            return 'False'"
   ]
  },
  {
   "cell_type": "markdown",
   "metadata": {},
   "source": [
    "In this function, 'c' is always lowercase, so the function will return true."
   ]
  },
  {
   "cell_type": "code",
   "execution_count": 100,
   "metadata": {
    "collapsed": false
   },
   "outputs": [],
   "source": [
    "def any_lowercase3(s):\n",
    "    for c in s:\n",
    "        flag = c.islower()\n",
    "    return flag"
   ]
  },
  {
   "cell_type": "markdown",
   "metadata": {},
   "source": [
    "In this function, since any \"true\" is overwritten, this will only return true/false if the last character is uppercase or lowercase."
   ]
  },
  {
   "cell_type": "code",
   "execution_count": 107,
   "metadata": {
    "collapsed": false
   },
   "outputs": [],
   "source": [
    "def any_lowercase4(s):\n",
    "    flag = False\n",
    "    for c in s:\n",
    "        flag = flag or c.islower()\n",
    "    return flag"
   ]
  },
  {
   "cell_type": "markdown",
   "metadata": {},
   "source": [
    "This function returns false in the case all strings are uppercase. If there is a string that is lowercase, flag turns true. After the fact, flag cannot be overwritten."
   ]
  },
  {
   "cell_type": "code",
   "execution_count": 112,
   "metadata": {
    "collapsed": false
   },
   "outputs": [],
   "source": [
    "def any_lowercase5(s):\n",
    "    for c in s:\n",
    "        if not c.islower():\n",
    "            return False\n",
    "    return True"
   ]
  },
  {
   "cell_type": "markdown",
   "metadata": {},
   "source": [
    "This function only returns true if all characters are lowercase. "
   ]
  },
  {
   "cell_type": "code",
   "execution_count": 13,
   "metadata": {
    "collapsed": false
   },
   "outputs": [],
   "source": [
    "def any_lowercase1(s):\n",
    "    for c in s:\n",
    "        if c.islower():\n",
    "            return True\n",
    "        else:\n",
    "            return False"
   ]
  },
  {
   "cell_type": "markdown",
   "metadata": {},
   "source": [
    "This only checks the first letter and returns True if it is, otherwise it returns False."
   ]
  },
  {
   "cell_type": "markdown",
   "metadata": {},
   "source": [
    " "
   ]
  },
  {
   "cell_type": "code",
   "execution_count": null,
   "metadata": {
    "collapsed": true
   },
   "outputs": [],
   "source": [
    "def any_lowercase2(s):\n",
    "    for c in s:\n",
    "        if 'c'.islower():\n",
    "            return 'True'\n",
    "        else:\n",
    "            return 'False'"
   ]
  },
  {
   "cell_type": "markdown",
   "metadata": {},
   "source": [
    "This will always just check if the character 'c' is lower, which it is, so it will return True."
   ]
  },
  {
   "cell_type": "markdown",
   "metadata": {},
   "source": [
    " "
   ]
  },
  {
   "cell_type": "code",
   "execution_count": null,
   "metadata": {
    "collapsed": true
   },
   "outputs": [],
   "source": [
    "def any_lowercase3(s):\n",
    "    for c in s:\n",
    "        flag = c.islower()\n",
    "    return flag"
   ]
  },
  {
   "cell_type": "markdown",
   "metadata": {},
   "source": [
    "This will return True if the first character is lowercase. It will return False otherwise."
   ]
  },
  {
   "cell_type": "markdown",
   "metadata": {},
   "source": [
    " "
   ]
  },
  {
   "cell_type": "code",
   "execution_count": null,
   "metadata": {
    "collapsed": true
   },
   "outputs": [],
   "source": [
    "def any_lowercase4(s):\n",
    "    flag = False\n",
    "    for c in s:\n",
    "        flag = flag or c.islower()\n",
    "    return flag"
   ]
  },
  {
   "cell_type": "markdown",
   "metadata": {},
   "source": [
    "This will return True if any of the cases are lowercase. It will return False otherwise."
   ]
  },
  {
   "cell_type": "markdown",
   "metadata": {},
   "source": [
    " "
   ]
  },
  {
   "cell_type": "code",
   "execution_count": null,
   "metadata": {
    "collapsed": true
   },
   "outputs": [],
   "source": [
    "def any_lowercase5(s):\n",
    "    for c in s:\n",
    "        if not c.islower():\n",
    "            return False\n",
    "    return True"
   ]
  },
  {
   "cell_type": "markdown",
   "metadata": {},
   "source": [
    "This will return True only if all the characters are lowercase."
   ]
  },
  {
   "cell_type": "markdown",
   "metadata": {},
   "source": [
    " "
   ]
  },
  {
   "cell_type": "code",
   "execution_count": null,
   "metadata": {
    "collapsed": true
   },
   "outputs": [],
   "source": [
    "def any_lowercase1(s):\n",
    "    for c in s:\n",
    "        if c.islower():\n",
    "            return True\n",
    "        else:\n",
    "            return False\n",
    "        \n",
    "#This one checks if the first character in the string is upper- or lower-case."
   ]
  },
  {
   "cell_type": "markdown",
   "metadata": {},
   "source": [
    " "
   ]
  },
  {
   "cell_type": "code",
   "execution_count": 9,
   "metadata": {
    "collapsed": true
   },
   "outputs": [],
   "source": [
    "def any_lowercase2(s):\n",
    "    for c in s:\n",
    "        if 'c'.islower():\n",
    "            return 'True'\n",
    "        else:\n",
    "            return 'False'\n",
    "#Will return 'True' right away. Firstly we want a boolean output, and secondly we're checking the case of the string 'c'\n",
    "#instead of the actual character in the string. "
   ]
  },
  {
   "cell_type": "markdown",
   "metadata": {},
   "source": [
    " "
   ]
  },
  {
   "cell_type": "code",
   "execution_count": null,
   "metadata": {
    "collapsed": true
   },
   "outputs": [],
   "source": [
    "def any_lowercase3(s):\n",
    "    for c in s:\n",
    "        flag = c.islower()\n",
    "    return flag\n",
    "#flag keeps refreshing itself, and only the last value is returned, so we can only tell if the last character is upper or\n",
    "#lower."
   ]
  },
  {
   "cell_type": "markdown",
   "metadata": {},
   "source": [
    " "
   ]
  },
  {
   "cell_type": "code",
   "execution_count": null,
   "metadata": {
    "collapsed": true
   },
   "outputs": [],
   "source": [
    "def any_lowercase4(s):\n",
    "    flag = False\n",
    "    for c in s:\n",
    "        flag = flag or c.islower()\n",
    "    return flag\n",
    "#This one works. flag will equal False until c.islower() evaluates to True, at which point it will stay True until the end."
   ]
  },
  {
   "cell_type": "markdown",
   "metadata": {},
   "source": [
    " "
   ]
  },
  {
   "cell_type": "code",
   "execution_count": null,
   "metadata": {
    "collapsed": true
   },
   "outputs": [],
   "source": [
    "def any_lowercase5(s):\n",
    "    for c in s:\n",
    "        if not c.islower():\n",
    "            return False\n",
    "    return True\n",
    "\n",
    "#The first uppercase character will stop the program and return False. If all the characters are lowercase, we get true."
   ]
  },
  {
   "cell_type": "markdown",
   "metadata": {},
   "source": [
    " "
   ]
  },
  {
   "cell_type": "code",
   "execution_count": 5,
   "metadata": {
    "collapsed": false
   },
   "outputs": [],
   "source": [
    "def any_lowercase1(s):\n",
    "    for c in s:\n",
    "        if c.islower():\n",
    "            return True\n",
    "        else:\n",
    "            return False\n",
    "        \n",
    "#checks for unspecified parameter c in s"
   ]
  },
  {
   "cell_type": "markdown",
   "metadata": {},
   "source": [
    " "
   ]
  },
  {
   "cell_type": "code",
   "execution_count": null,
   "metadata": {
    "collapsed": true
   },
   "outputs": [],
   "source": [
    "def any_lowercase2(s):\n",
    "    for c in s:\n",
    "        if 'c'.islower():\n",
    "            return 'True'\n",
    "        else:\n",
    "            return 'False'\n",
    "        \n",
    "#checks if the letter 'c' is lower"
   ]
  },
  {
   "cell_type": "markdown",
   "metadata": {},
   "source": [
    " "
   ]
  },
  {
   "cell_type": "code",
   "execution_count": null,
   "metadata": {
    "collapsed": true
   },
   "outputs": [],
   "source": [
    "def any_lowercase3(s):\n",
    "    for c in s:\n",
    "        flag = c.islower()\n",
    "    return flag\n",
    "\n",
    "# returns the lowercase letters, not a T/F"
   ]
  },
  {
   "cell_type": "markdown",
   "metadata": {},
   "source": [
    " "
   ]
  },
  {
   "cell_type": "code",
   "execution_count": null,
   "metadata": {
    "collapsed": true
   },
   "outputs": [],
   "source": [
    "def any_lowercase4(s):\n",
    "    flag = False\n",
    "    for c in s:\n",
    "        flag = flag or c.islower()\n",
    "    return flag\n",
    "\n",
    "#overwrites Talse to return lowercase if true"
   ]
  },
  {
   "cell_type": "markdown",
   "metadata": {},
   "source": [
    " "
   ]
  },
  {
   "cell_type": "code",
   "execution_count": null,
   "metadata": {
    "collapsed": true
   },
   "outputs": [],
   "source": [
    "def any_lowercase5(s):\n",
    "    for c in s:\n",
    "        if not c.islower():\n",
    "            return False\n",
    "    return True\n",
    "\n",
    "# returns true for literally any other option (values, floating points, etc)"
   ]
  },
  {
   "cell_type": "markdown",
   "metadata": {},
   "source": [
    " "
   ]
  },
  {
   "cell_type": "markdown",
   "metadata": {},
   "source": [
    "## Quick Check"
   ]
  },
  {
   "cell_type": "markdown",
   "metadata": {},
   "source": [
    "**Quick check:** Give at least one similarity and one difference between lists and strings."
   ]
  },
  {
   "cell_type": "markdown",
   "metadata": {},
   "source": [
    "One difference is that strings are immutable while lists can be changed. One similiarity is that they are both sequence types."
   ]
  },
  {
   "cell_type": "markdown",
   "metadata": {},
   "source": [
    "Both have lengths. A list is mutable and strings are not. "
   ]
  },
  {
   "cell_type": "markdown",
   "metadata": {},
   "source": [
    "The in operator works in lists like it does in strings"
   ]
  },
  {
   "cell_type": "markdown",
   "metadata": {},
   "source": [
    " "
   ]
  },
  {
   "cell_type": "markdown",
   "metadata": {},
   "source": [
    " both are a sequnce of values, a list has elements, not characters"
   ]
  },
  {
   "cell_type": "markdown",
   "metadata": {},
   "source": [
    " "
   ]
  },
  {
   "cell_type": "markdown",
   "metadata": {},
   "source": [
    "Elements in both can be accessed with [index], and can be sliced accordingly. However, strings are immutable, while lists are mutable, meaning that methods can change a list without reassigning a new value to the variable, while this is not true for strings."
   ]
  },
  {
   "cell_type": "markdown",
   "metadata": {},
   "source": [
    "They are both a sequence of values, but in strings the values are characters while in lists the items are of any type. Also, unlike strings, lists are mutable."
   ]
  },
  {
   "cell_type": "markdown",
   "metadata": {},
   "source": [
    "Lists and strings are both indexed.\n",
    "\n",
    "Lists are mutable. Strings are immutable.  Mutable means that list[x] will replace values at x."
   ]
  },
  {
   "cell_type": "code",
   "execution_count": 50,
   "metadata": {
    "collapsed": false
   },
   "outputs": [
    {
     "name": "stdout",
     "output_type": "stream",
     "text": [
      "Strings and lists can both have their members called by number. Lists can have their items changed by number, while strings cannot. \n"
     ]
    },
    {
     "ename": "TypeError",
     "evalue": "'str' object does not support item assignment",
     "output_type": "error",
     "traceback": [
      "\u001b[1;31m---------------------------------------------------------------------------\u001b[0m",
      "\u001b[1;31mTypeError\u001b[0m                                 Traceback (most recent call last)",
      "\u001b[1;32m<ipython-input-50-646ee2c8389a>\u001b[0m in \u001b[0;36m<module>\u001b[1;34m()\u001b[0m\n\u001b[0;32m      1\u001b[0m \u001b[1;32mprint\u001b[0m\u001b[1;33m(\u001b[0m\u001b[1;34m'Strings and lists can both have their members called by number. Lists can have their items changed by number, while strings cannot. '\u001b[0m\u001b[1;33m)\u001b[0m\u001b[1;33m\u001b[0m\u001b[0m\n\u001b[0;32m      2\u001b[0m \u001b[0mstring\u001b[0m\u001b[1;33m=\u001b[0m\u001b[1;34m'banana'\u001b[0m\u001b[1;33m\u001b[0m\u001b[0m\n\u001b[1;32m----> 3\u001b[1;33m \u001b[0mstring\u001b[0m\u001b[1;33m[\u001b[0m\u001b[1;36m2\u001b[0m\u001b[1;33m]\u001b[0m\u001b[1;33m=\u001b[0m\u001b[1;34m'a'\u001b[0m\u001b[1;33m\u001b[0m\u001b[0m\n\u001b[0m\u001b[0;32m      4\u001b[0m \u001b[1;32mprint\u001b[0m \u001b[0mstring\u001b[0m\u001b[1;33m\u001b[0m\u001b[0m\n",
      "\u001b[1;31mTypeError\u001b[0m: 'str' object does not support item assignment"
     ]
    }
   ],
   "source": [
    "print('Strings and lists can both have their members called by number. Lists can have their items changed by number, while strings cannot. ')\n",
    "string='banana'\n",
    "string[2]='a'\n",
    "print string"
   ]
  },
  {
   "cell_type": "markdown",
   "metadata": {},
   "source": [
    "Similarity: the indices work the same way\n",
    "Difference: you can update lists using the indices, something you cannot do with strings"
   ]
  },
  {
   "cell_type": "markdown",
   "metadata": {},
   "source": [
    "They are both iterable, however lists are mutable and strings are not.  "
   ]
  },
  {
   "cell_type": "markdown",
   "metadata": {},
   "source": [
    " "
   ]
  },
  {
   "cell_type": "markdown",
   "metadata": {},
   "source": [
    " "
   ]
  },
  {
   "cell_type": "markdown",
   "metadata": {},
   "source": [
    "Both are sequences of values.  Strings can only have characters in it's sequence, but lists can have mixed types (even within a single list). "
   ]
  },
  {
   "cell_type": "markdown",
   "metadata": {},
   "source": [
    "Similarity: they are have index for their elements\n",
    "Difference: \n",
    "-you can assign values to list, but not to strings\n",
    "-list methods are all void (no return value) because they modify the list, while string methods often (always?) return values \n"
   ]
  },
  {
   "cell_type": "markdown",
   "metadata": {},
   "source": [
    " A list references locations in memorty where as a string references characters with its index values. Both lists and strings report the value of the index when the index is called upon.  A list is a sequence of values. A string has the values equal to characters. "
   ]
  },
  {
   "cell_type": "markdown",
   "metadata": {},
   "source": [
    "Similarity: holds a sequence of things\n",
    "Difference: Accessing an element of a string just gives you a single character, but accessing an element of a list can give you any type/amount of information"
   ]
  },
  {
   "cell_type": "markdown",
   "metadata": {},
   "source": [
    "The for loop structure for traversing it is the same, but lists are mutable, so with a simple little bracket operation you can replace individual elements."
   ]
  },
  {
   "cell_type": "markdown",
   "metadata": {},
   "source": [
    " "
   ]
  },
  {
   "cell_type": "markdown",
   "metadata": {},
   "source": [
    "A list is a sequence of values. It just depends on the type of things are sequenced. "
   ]
  },
  {
   "cell_type": "markdown",
   "metadata": {},
   "source": [
    "Similarity: Both lists and strings can contain a sequence of characters.\n",
    "Difference: A string is an immutable data type, while a list can contain multiple elements of a single data type.  "
   ]
  },
  {
   "cell_type": "markdown",
   "metadata": {},
   "source": [
    "strings and lists can both be concatenated and repeated with the operators '+' and '*'\n",
    "\n",
    "strings are immutable while lists are mutable"
   ]
  },
  {
   "cell_type": "markdown",
   "metadata": {},
   "source": [
    "they are both a sequence of values\n",
    "strings only contain characters, lists can contain any value\n",
    "strings are mutable!!!"
   ]
  },
  {
   "cell_type": "markdown",
   "metadata": {},
   "source": [
    "One similarity between lists and strings is that they both use the same [] operator to access their values, and they both use the same rules for indices.\n",
    "\n",
    "The biggest difference bewteen lists and strings is that lists are mutable, while strings are not."
   ]
  },
  {
   "cell_type": "markdown",
   "metadata": {},
   "source": [
    "Similarity:  Lists and strings are sequences of values.  Difference:  In a string, the values are characters.  In a list, the values can be any type."
   ]
  },
  {
   "cell_type": "markdown",
   "metadata": {},
   "source": [
    "similarity: the characters and items in a string and list (respectively) can be accessed through an index\n",
    "\n",
    "difference: lists are mutable, strings are not"
   ]
  },
  {
   "cell_type": "markdown",
   "metadata": {},
   "source": [
    "**List** = sequence of values of any type (called **elements** or **items**)"
   ]
  },
  {
   "cell_type": "markdown",
   "metadata": {},
   "source": [
    "SIMILARITIES: you can index things also values\n",
    "DIFFERENCES: yeahhhh characters are only for the LAME"
   ]
  },
  {
   "cell_type": "markdown",
   "metadata": {},
   "source": [
    " "
   ]
  },
  {
   "cell_type": "markdown",
   "metadata": {},
   "source": [
    " "
   ]
  },
  {
   "cell_type": "markdown",
   "metadata": {},
   "source": [
    "similarity: they are both a sequence of values\n",
    "difference: strings always have characters as values, but lists can have any type as an element"
   ]
  },
  {
   "cell_type": "markdown",
   "metadata": {},
   "source": [
    "Lists can both be sliced, but lists are mutable "
   ]
  },
  {
   "cell_type": "markdown",
   "metadata": {},
   "source": [
    "You can traverse both lists and strings, but where lists are mutable, strs are immutable. "
   ]
  },
  {
   "cell_type": "markdown",
   "metadata": {},
   "source": [
    "- Both lists and strings are iterable (ex. for loops)\n",
    "- Strings are immutable while lists are mutable."
   ]
  },
  {
   "cell_type": "markdown",
   "metadata": {},
   "source": [
    "Both are ordered sequences of values. "
   ]
  },
  {
   "cell_type": "markdown",
   "metadata": {},
   "source": [
    " "
   ]
  },
  {
   "cell_type": "markdown",
   "metadata": {},
   "source": [
    "Similarity: Indexing! Use of operator in and other operations like slicing\n",
    "Difference: lists are mutable, strings are not"
   ]
  },
  {
   "cell_type": "markdown",
   "metadata": {},
   "source": [
    "any integer expression can be used as an index for both strings and lists and you get IndexError's if you try to read/write an element that doesn't exist\n",
    "\n",
    "unlike strings, lists are mutable -- they can be changed"
   ]
  },
  {
   "cell_type": "markdown",
   "metadata": {},
   "source": [
    "Difference: Lists are immutable\n",
    "Similarity: Indices begin at 0"
   ]
  },
  {
   "cell_type": "markdown",
   "metadata": {},
   "source": [
    "Similarity: They can both be indexed and index the same way.\n",
    "Diffrence: Lists are mutable while strings are not. Lists can be stored within lists."
   ]
  },
  {
   "cell_type": "markdown",
   "metadata": {},
   "source": [
    "Lists can hold any type of data while strings can only hold a set of characters. "
   ]
  },
  {
   "cell_type": "markdown",
   "metadata": {},
   "source": [
    "- Lists are mutable, unlike strings\n",
    "- A list is a sequence of values, like strings"
   ]
  },
  {
   "cell_type": "markdown",
   "metadata": {},
   "source": [
    "Lists and strings both have indices.\n",
    "Lists can hold different types of items (strings, lists, integers, and floats), but strings can only hold characters."
   ]
  },
  {
   "cell_type": "markdown",
   "metadata": {},
   "source": [
    "Both can have contents referenced by index values, strings can be checked for character properties (eg. lowercase) "
   ]
  },
  {
   "cell_type": "markdown",
   "metadata": {},
   "source": [
    " "
   ]
  },
  {
   "cell_type": "markdown",
   "metadata": {},
   "source": [
    "They both have a sequences of values, but a string contains characters and a list can contain integers, floats and strings."
   ]
  },
  {
   "cell_type": "markdown",
   "metadata": {},
   "source": [
    "Strings are immutable, lists are mutable.\n",
    "A lot of the operations are the same (+ concatenates both)."
   ]
  },
  {
   "cell_type": "markdown",
   "metadata": {},
   "source": [
    "They are both sequences of values, but lists are mutable and strings are not. "
   ]
  },
  {
   "cell_type": "markdown",
   "metadata": {},
   "source": [
    "A list can hold characters other than strings, such as numbers. However, many of the functions that can be used on strings can also be used on lists. "
   ]
  },
  {
   "cell_type": "markdown",
   "metadata": {},
   "source": [
    " Strings are immutable lists of characters; lists are mutable and can contain any type"
   ]
  },
  {
   "cell_type": "markdown",
   "metadata": {},
   "source": [
    "Both have indexes, strings are immutable? "
   ]
  },
  {
   "cell_type": "markdown",
   "metadata": {},
   "source": [
    "1. A list can have multiple strings within it \n",
    "2. A list is indexed the same as a string.\n",
    "3. A list can have a lists within it."
   ]
  },
  {
   "cell_type": "markdown",
   "metadata": {},
   "source": [
    "Similarity: both are sequences of items\n",
    "Difference: lists are mutable, strings are not.\n",
    "                strings are sequences of characters, lists are sequencess of any object"
   ]
  },
  {
   "cell_type": "markdown",
   "metadata": {},
   "source": [
    "Strings are immutable but you can mess around with the elements in a list. "
   ]
  },
  {
   "cell_type": "markdown",
   "metadata": {},
   "source": [
    "They have the same syntax, but strings can only hold a set of characters, not values. "
   ]
  },
  {
   "cell_type": "markdown",
   "metadata": {},
   "source": [
    "### Exercise\n",
    "\n",
    "Write a function `average` that takes a list of numbers and returns their arithmetic mean."
   ]
  },
  {
   "cell_type": "code",
   "execution_count": 122,
   "metadata": {
    "collapsed": false
   },
   "outputs": [
    {
     "data": {
      "text/plain": [
       "44"
      ]
     },
     "execution_count": 122,
     "metadata": {},
     "output_type": "execute_result"
    }
   ],
   "source": [
    "numbers = [1,2,3,4,5,6,23]\n",
    "\n",
    "def average(a):\n",
    "    s = 0\n",
    "    for number in a:\n",
    "        s = s + number\n",
    "    return s\n",
    "        \n",
    "average(numbers)"
   ]
  },
  {
   "cell_type": "code",
   "execution_count": 38,
   "metadata": {
    "collapsed": false
   },
   "outputs": [
    {
     "name": "stdout",
     "output_type": "stream",
     "text": [
      "0\n",
      "3.0\n"
     ]
    }
   ],
   "source": [
    "def mean(nums):\n",
    "    tot = 0\n",
    "    if len(nums) > 0:\n",
    "        for num in nums:\n",
    "            tot +=num\n",
    "        return tot/len(nums)\n",
    "    return 0\n",
    "print(mean([]))\n",
    "print(mean([1, 3, 5]))"
   ]
  },
  {
   "cell_type": "code",
   "execution_count": 32,
   "metadata": {
    "collapsed": false
   },
   "outputs": [
    {
     "data": {
      "text/plain": [
       "2.75"
      ]
     },
     "execution_count": 32,
     "metadata": {},
     "output_type": "execute_result"
    }
   ],
   "source": [
    "def average(l):\n",
    "    sum = 0.0\n",
    "    for item in l:\n",
    "        sum += item\n",
    "    return sum / len(l)\n",
    "\n",
    "average([1,2,3,5])"
   ]
  },
  {
   "cell_type": "code",
   "execution_count": 207,
   "metadata": {
    "collapsed": false
   },
   "outputs": [
    {
     "data": {
      "text/plain": [
       "4"
      ]
     },
     "execution_count": 207,
     "metadata": {},
     "output_type": "execute_result"
    }
   ],
   "source": [
    "def arith_mean(list_numbers):\n",
    "    sum_list = sum(list_numbers)\n",
    "    length_list = len(list_numbers)\n",
    "    return sum_list/length_list\n",
    "\n",
    "arith_mean([1,2,3,4,5,6,7])"
   ]
  },
  {
   "cell_type": "code",
   "execution_count": 19,
   "metadata": {
    "collapsed": false
   },
   "outputs": [
    {
     "data": {
      "text/plain": [
       "5.375"
      ]
     },
     "execution_count": 19,
     "metadata": {},
     "output_type": "execute_result"
    }
   ],
   "source": [
    "def arith_mean(x):\n",
    "    total = float(sum(x))\n",
    "    return total/len(x)\n",
    "\n",
    "\n",
    "arith_mean([1, 4, 7, 2, 8, 9, 4, 8])"
   ]
  },
  {
   "cell_type": "code",
   "execution_count": 42,
   "metadata": {
    "collapsed": false
   },
   "outputs": [
    {
     "data": {
      "text/plain": [
       "2.5"
      ]
     },
     "execution_count": 42,
     "metadata": {},
     "output_type": "execute_result"
    }
   ],
   "source": [
    "def average(number_list):\n",
    "    return float(sum(number_list))/len(number_list)\n",
    "\n",
    "average([1,2,3,4])"
   ]
  },
  {
   "cell_type": "code",
   "execution_count": 60,
   "metadata": {
    "collapsed": false
   },
   "outputs": [
    {
     "data": {
      "text/plain": [
       "57.08"
      ]
     },
     "execution_count": 60,
     "metadata": {},
     "output_type": "execute_result"
    }
   ],
   "source": [
    "#takes in list of integers or floating point values, returns their arithmetic mean\n",
    "def average(a):\n",
    "    i = sum(a)\n",
    "    b = len(a)*1.0\n",
    "    average = i/b\n",
    "    return average\n",
    "\n",
    "a = [30.7, 50.3, 86, 27.9, 90.5]\n",
    "average(a)"
   ]
  },
  {
   "cell_type": "code",
   "execution_count": 26,
   "metadata": {
    "collapsed": false
   },
   "outputs": [
    {
     "data": {
      "text/plain": [
       "2.5"
      ]
     },
     "execution_count": 26,
     "metadata": {},
     "output_type": "execute_result"
    }
   ],
   "source": [
    "def average(x):\n",
    "    a = sum(x)\n",
    "    return float(a)/len(x)\n",
    "    \n",
    "average([1,2,3,4])"
   ]
  },
  {
   "cell_type": "code",
   "execution_count": 103,
   "metadata": {
    "collapsed": false
   },
   "outputs": [
    {
     "data": {
      "text/plain": [
       "3"
      ]
     },
     "execution_count": 103,
     "metadata": {},
     "output_type": "execute_result"
    }
   ],
   "source": [
    "def average(x):\n",
    "    total = 0\n",
    "    for item in x:\n",
    "        total = total + item\n",
    "    total = total / len(x)\n",
    "    return total\n",
    "\n",
    "average([1,2,3,4,5])"
   ]
  },
  {
   "cell_type": "code",
   "execution_count": 52,
   "metadata": {
    "collapsed": false
   },
   "outputs": [
    {
     "data": {
      "text/plain": [
       "4"
      ]
     },
     "execution_count": 52,
     "metadata": {},
     "output_type": "execute_result"
    }
   ],
   "source": [
    "def average(numbers):\n",
    "    total=0\n",
    "    for x in numbers:\n",
    "        total += x\n",
    "    length=len(numbers)\n",
    "    average=total/length\n",
    "    return average\n",
    "\n",
    "average([1,4,5,6])"
   ]
  },
  {
   "cell_type": "code",
   "execution_count": 7,
   "metadata": {
    "collapsed": false
   },
   "outputs": [
    {
     "name": "stdout",
     "output_type": "stream",
     "text": [
      "2.5\n"
     ]
    }
   ],
   "source": [
    "list_numbers = [1, 2, 3, 4]\n",
    "def cummulative(list_numbers):\n",
    "    add = 0.0                   #starts at 0 for the zeroeth entry, 0.0 to be sure that everything is a float\n",
    "    new_list = []               #empty list to be added to\n",
    "    for i in list_numbers:\n",
    "        add += i                #add 1 to the previous value of i\n",
    "        new_list.append(add)    #put lists together, append keeps adding onto the previous list\n",
    "    return new_list\n",
    "\n",
    "def average(new_list):          \n",
    "    mean = new_list[-1]/(len(new_list))  #input from previous function's output, averages them by dividing by length of list\n",
    "    print mean\n",
    "    \n",
    "average(cummulative(list_numbers))\n",
    "    "
   ]
  },
  {
   "cell_type": "code",
   "execution_count": 22,
   "metadata": {
    "collapsed": true
   },
   "outputs": [],
   "source": [
    "def average(list):\n",
    "    sum = 0.0\n",
    "    for e in list:\n",
    "        sum += float(list[e])\n",
    "    return sum / len(list)"
   ]
  },
  {
   "cell_type": "code",
   "execution_count": 9,
   "metadata": {
    "collapsed": false
   },
   "outputs": [
    {
     "data": {
      "text/plain": [
       "2"
      ]
     },
     "execution_count": 9,
     "metadata": {},
     "output_type": "execute_result"
    }
   ],
   "source": [
    "def average(list):\n",
    "    sum = 0\n",
    "    elements = 0\n",
    "    for element in list:\n",
    "        sum = sum + element\n",
    "        elements = elements + 1\n",
    "    average = sum/elements\n",
    "    return average\n",
    "\n",
    "average([1,2,3])"
   ]
  },
  {
   "cell_type": "code",
   "execution_count": 8,
   "metadata": {
    "collapsed": false
   },
   "outputs": [
    {
     "data": {
      "text/plain": [
       "3.1"
      ]
     },
     "execution_count": 8,
     "metadata": {},
     "output_type": "execute_result"
    }
   ],
   "source": [
    "def mean(list):\n",
    "    total = 0\n",
    "    for i in list:\n",
    "        total += i\n",
    "    return total/len(list)\n",
    "\n",
    "mean({1, .4, 8, 3})"
   ]
  },
  {
   "cell_type": "code",
   "execution_count": 140,
   "metadata": {
    "collapsed": false
   },
   "outputs": [
    {
     "data": {
      "text/plain": [
       "4"
      ]
     },
     "execution_count": 140,
     "metadata": {},
     "output_type": "execute_result"
    }
   ],
   "source": [
    "def mean(t):\n",
    "    total= sum(t)\n",
    "    return total/int(len(t))  \n",
    "\n",
    "mean([1,2,2,5,10])    "
   ]
  },
  {
   "cell_type": "code",
   "execution_count": 52,
   "metadata": {
    "collapsed": false
   },
   "outputs": [
    {
     "data": {
      "text/plain": [
       "4"
      ]
     },
     "execution_count": 52,
     "metadata": {},
     "output_type": "execute_result"
    }
   ],
   "source": [
    "def average(t):\n",
    "    s=sum(t)\n",
    "    return s/len(t)\n",
    "\n",
    "average([2,3,4,5,6])\n",
    "    "
   ]
  },
  {
   "cell_type": "code",
   "execution_count": 61,
   "metadata": {
    "collapsed": false
   },
   "outputs": [
    {
     "data": {
      "text/plain": [
       "8.611666666666666"
      ]
     },
     "execution_count": 61,
     "metadata": {},
     "output_type": "execute_result"
    }
   ],
   "source": [
    "def average(numbers):\n",
    "    sum = 0.0\n",
    "    for i in range(0, len(numbers)):\n",
    "        sum = 0.0 + sum + numbers[i]\n",
    "    mean = 0.0+sum/len(numbers)\n",
    "    return mean\n",
    "average([6,7,8,9,10,11.67])"
   ]
  },
  {
   "cell_type": "code",
   "execution_count": 59,
   "metadata": {
    "collapsed": false
   },
   "outputs": [
    {
     "name": "stdout",
     "output_type": "stream",
     "text": [
      "3.5\n"
     ]
    }
   ],
   "source": [
    "def average(list):\n",
    "    sum = 0\n",
    "    for num in list:\n",
    "        sum = sum + num\n",
    "    mean = float(sum)/len(list)\n",
    "    return mean\n",
    "\n",
    "print average([1, 2, 4, 7]) #Return 3.5"
   ]
  },
  {
   "cell_type": "code",
   "execution_count": 3,
   "metadata": {
    "collapsed": false
   },
   "outputs": [
    {
     "data": {
      "text/plain": [
       "2"
      ]
     },
     "execution_count": 3,
     "metadata": {},
     "output_type": "execute_result"
    }
   ],
   "source": [
    "def average(thing):\n",
    "    total=0\n",
    "    for number in thing:\n",
    "        total += number\n",
    "    return total/len(thing)\n",
    "    \n",
    "average([1,2,3,3,2,1])"
   ]
  },
  {
   "cell_type": "code",
   "execution_count": 122,
   "metadata": {
    "collapsed": false
   },
   "outputs": [
    {
     "name": "stdout",
     "output_type": "stream",
     "text": [
      "5\n"
     ]
    }
   ],
   "source": [
    "def average(number_list):\n",
    "    sum = 0\n",
    "    index = 0\n",
    "    for number in number_list:\n",
    "        sum = sum + number\n",
    "        index = index + 1\n",
    "    average = sum / index\n",
    "    return average\n",
    "\n",
    "print average([2, 4, 6, 8])"
   ]
  },
  {
   "cell_type": "code",
   "execution_count": null,
   "metadata": {
    "collapsed": true
   },
   "outputs": [],
   "source": [
    "def mean(list):\n",
    "    total = 0\n",
    "    for i in list:\n",
    "        total = total + i\n",
    "    return total/len(list)"
   ]
  },
  {
   "cell_type": "code",
   "execution_count": 77,
   "metadata": {
    "collapsed": false
   },
   "outputs": [
    {
     "data": {
      "text/plain": [
       "3.3333333333333335"
      ]
     },
     "execution_count": 77,
     "metadata": {},
     "output_type": "execute_result"
    }
   ],
   "source": [
    "def average(list):\n",
    "    add = 0\n",
    "    for index in list:\n",
    "        number = float(index)\n",
    "        add = add + number\n",
    "    divide = len(list)\n",
    "    return add/divide\n",
    "    print result\n",
    "average ([2, 3, 5])"
   ]
  },
  {
   "cell_type": "code",
   "execution_count": 81,
   "metadata": {
    "collapsed": false
   },
   "outputs": [
    {
     "name": "stdout",
     "output_type": "stream",
     "text": [
      "4.0\n"
     ]
    }
   ],
   "source": [
    "def average (list):\n",
    "    i = 0\n",
    "    sum = 0.0 #makes sure that result is a float\n",
    "    while i < len(list):\n",
    "        sum = list[i] + sum\n",
    "        i = i + 1\n",
    "    avg = sum / (len(list))\n",
    "    print avg\n",
    "    return avg\n",
    "    \n",
    "list = [5, 4, 5, 2]\n",
    "average (list)"
   ]
  },
  {
   "cell_type": "code",
   "execution_count": 39,
   "metadata": {
    "collapsed": false
   },
   "outputs": [
    {
     "name": "stdout",
     "output_type": "stream",
     "text": [
      "5\n",
      "732\n"
     ]
    }
   ],
   "source": [
    "def average(numbers):\n",
    "    sum = 0;\n",
    "    for number in numbers:\n",
    "        sum = sum + number\n",
    "    return sum/len(numbers)\n",
    "\n",
    "print average([1,2,3,4,5,6,7,8,9,10])\n",
    "chicken = [1,4,6,7,26,24,67,6858,87,976,4]\n",
    "print average(chicken)"
   ]
  },
  {
   "cell_type": "code",
   "execution_count": 2,
   "metadata": {
    "collapsed": false
   },
   "outputs": [
    {
     "name": "stdout",
     "output_type": "stream",
     "text": [
      "0\n",
      "1\n",
      "2\n",
      "3\n"
     ]
    }
   ],
   "source": [
    "def averagetest(L):\n",
    "    for i in range(len(L)):\n",
    "        print i\n",
    "averagetest([1, 2, 3, 3])"
   ]
  },
  {
   "cell_type": "code",
   "execution_count": 32,
   "metadata": {
    "collapsed": false
   },
   "outputs": [
    {
     "data": {
      "text/plain": [
       "3"
      ]
     },
     "execution_count": 32,
     "metadata": {},
     "output_type": "execute_result"
    }
   ],
   "source": [
    "def average(a):\n",
    "    total = 0\n",
    "    length = len(a)\n",
    "    for x in xrange(0,length):\n",
    "        total = total + a[x] \n",
    "    return total/length\n",
    "average([1,2,3,4,5])"
   ]
  },
  {
   "cell_type": "code",
   "execution_count": 65,
   "metadata": {
    "collapsed": false
   },
   "outputs": [],
   "source": [
    "\"\"\"\n",
    "Find average of given list of numbers\n",
    "\n",
    ">>> average([2.0,5,3])\n",
    "3.333333333\n",
    "\n",
    ">>> average([6,4,5,5])\n",
    "5\n",
    "\n",
    "\"\"\"\n",
    "def average(list):\n",
    "    total = 0\n",
    "    for number in range(len(list)):\n",
    "        add = list[number]\n",
    "        total = total + add\n",
    "    print total / len(list)   \n",
    "import doctest\n",
    "doctest.run_docstring_examples(average, globals())"
   ]
  },
  {
   "cell_type": "code",
   "execution_count": 35,
   "metadata": {
    "collapsed": false
   },
   "outputs": [
    {
     "name": "stdout",
     "output_type": "stream",
     "text": [
      "5.0\n"
     ]
    }
   ],
   "source": [
    "def arith_mean(number_list):\n",
    "    number_of_numbers = len(number_list)\n",
    "    total = sum(number_list)\n",
    "    mean = float(total)/number_of_numbers\n",
    "    return mean\n",
    "\n",
    "list = [1,6,4,9,7,3]\n",
    "print arith_mean(list)"
   ]
  },
  {
   "cell_type": "code",
   "execution_count": 16,
   "metadata": {
    "collapsed": false
   },
   "outputs": [
    {
     "data": {
      "text/plain": [
       "3.6666666666666665"
      ]
     },
     "execution_count": 16,
     "metadata": {},
     "output_type": "execute_result"
    }
   ],
   "source": [
    "def average(numbers):\n",
    "    number = len(numbers)\n",
    "    total = sum(numbers)\n",
    "    return float(total) / number\n",
    "average([1,2,3,4,5,7])"
   ]
  },
  {
   "cell_type": "code",
   "execution_count": 85,
   "metadata": {
    "collapsed": true
   },
   "outputs": [],
   "source": [
    "def average(t):\n",
    "    total = 0\n",
    "    for x in t:\n",
    "        total += x\n",
    "    average=total/len(t)\n",
    "    return average"
   ]
  },
  {
   "cell_type": "code",
   "execution_count": 41,
   "metadata": {
    "collapsed": false
   },
   "outputs": [
    {
     "data": {
      "text/plain": [
       "2.5"
      ]
     },
     "execution_count": 41,
     "metadata": {},
     "output_type": "execute_result"
    }
   ],
   "source": [
    "def average(list):\n",
    "    sum = 0\n",
    "    for i in range(len(list)):\n",
    "        list[i] = float(list[i])\n",
    "        sum = sum + list[i]\n",
    "    mean = sum/len(list)\n",
    "    return mean\n",
    "average([1,2,3,4])"
   ]
  },
  {
   "cell_type": "code",
   "execution_count": 21,
   "metadata": {
    "collapsed": false
   },
   "outputs": [
    {
     "data": {
      "text/plain": [
       "2.0"
      ]
     },
     "execution_count": 21,
     "metadata": {},
     "output_type": "execute_result"
    }
   ],
   "source": [
    "def arith_mean(numbers):\n",
    "    total = 0\n",
    "    for i in numbers:\n",
    "        total +=i\n",
    "    return total/float(len(numbers))\n",
    "arith_mean([1,2,3])"
   ]
  },
  {
   "cell_type": "code",
   "execution_count": 34,
   "metadata": {
    "collapsed": false
   },
   "outputs": [
    {
     "name": "stdout",
     "output_type": "stream",
     "text": [
      "3.5\n"
     ]
    }
   ],
   "source": [
    "def average(demNums):\n",
    "    runningSum = 0.0\n",
    "    for num in demNums:\n",
    "        runningSum = runningSum + num # Rhymes!\n",
    "    return runningSum/len(demNums)\n",
    "\n",
    "print average([1,2,3,4,5,6])"
   ]
  },
  {
   "cell_type": "code",
   "execution_count": 21,
   "metadata": {
    "collapsed": false
   },
   "outputs": [
    {
     "name": "stdout",
     "output_type": "stream",
     "text": [
      "5.0\n",
      "5.66666666667\n"
     ]
    }
   ],
   "source": [
    "def average(myList):\n",
    "    my_sum = 0\n",
    "    for num in myList:\n",
    "        my_sum += num\n",
    "    return my_sum/float(len(myList))\n",
    "\n",
    "print average([3,5,7])        \n",
    "print average([2,5,10])"
   ]
  },
  {
   "cell_type": "code",
   "execution_count": 55,
   "metadata": {
    "collapsed": false
   },
   "outputs": [
    {
     "data": {
      "text/plain": [
       "2.5"
      ]
     },
     "execution_count": 55,
     "metadata": {},
     "output_type": "execute_result"
    }
   ],
   "source": [
    "def mean(numbers):\n",
    "    total = 0\n",
    "    for number in numbers:\n",
    "        total = total + number +0.0\n",
    "    return total/len(numbers)\n",
    "mean([1,2,3,4,5,6,7])\n",
    "\n",
    "def add(x,y): return x+y\n",
    "\n",
    "def mean2(numbers):\n",
    "    return reduce(add, numbers)/float(len(numbers))\n",
    "mean2([1,2,3,4])"
   ]
  },
  {
   "cell_type": "code",
   "execution_count": 13,
   "metadata": {
    "collapsed": false
   },
   "outputs": [
    {
     "name": "stdout",
     "output_type": "stream",
     "text": [
      "5\n"
     ]
    }
   ],
   "source": [
    "def arithmeticMean(nums):\n",
    "    total = 0\n",
    "    for number in nums:\n",
    "        total += number\n",
    "    return total/len(nums)\n",
    "print arithmeticMean([1,2,3,4,5,6,7,8,9,10])"
   ]
  },
  {
   "cell_type": "code",
   "execution_count": 88,
   "metadata": {
    "collapsed": false
   },
   "outputs": [
    {
     "data": {
      "text/plain": [
       "5"
      ]
     },
     "execution_count": 88,
     "metadata": {},
     "output_type": "execute_result"
    }
   ],
   "source": [
    "def amean(int_list):\n",
    "    \n",
    "    num = sum(int_list)\n",
    "    denom = len(int_list)\n",
    "    \n",
    "    return num/denom\n",
    "\n",
    "amean([1,2,3,4,5,6,7,8,9]) #5  45/9 yay for Gauss and mental math!"
   ]
  },
  {
   "cell_type": "code",
   "execution_count": 65,
   "metadata": {
    "collapsed": false
   },
   "outputs": [
    {
     "data": {
      "text/plain": [
       "10"
      ]
     },
     "execution_count": 65,
     "metadata": {},
     "output_type": "execute_result"
    }
   ],
   "source": [
    "def sum(list):\n",
    "    count = 0\n",
    "    for i in range(len(list) + 1):\n",
    "        count += i\n",
    "    return count\n",
    "\n",
    "sum([1,2,3,4])"
   ]
  },
  {
   "cell_type": "code",
   "execution_count": 73,
   "metadata": {
    "collapsed": false
   },
   "outputs": [
    {
     "data": {
      "text/plain": [
       "12.090909090909092"
      ]
     },
     "execution_count": 73,
     "metadata": {},
     "output_type": "execute_result"
    }
   ],
   "source": [
    "def average(nums):\n",
    "    Sum = 0.0\n",
    "    \n",
    "    for x in range(len(nums)):\n",
    "        Sum = nums[x] + Sum;\n",
    "    return Sum/len(nums);\n",
    "\n",
    "average([3,3,3,3,3,3,4,3,100,4,4])"
   ]
  },
  {
   "cell_type": "code",
   "execution_count": 79,
   "metadata": {
    "collapsed": false
   },
   "outputs": [
    {
     "data": {
      "text/plain": [
       "4.2"
      ]
     },
     "execution_count": 79,
     "metadata": {},
     "output_type": "execute_result"
    }
   ],
   "source": [
    "def average(numbers):\n",
    "    sum = 0.0\n",
    "    for x in range(len(numbers)):\n",
    "        sum += numbers[x]\n",
    "    return sum/len(numbers)\n",
    "\n",
    "x = [1,3,4,6,7]\n",
    "average(x)"
   ]
  },
  {
   "cell_type": "code",
   "execution_count": 1,
   "metadata": {
    "collapsed": false
   },
   "outputs": [
    {
     "data": {
      "text/plain": [
       "5"
      ]
     },
     "execution_count": 1,
     "metadata": {},
     "output_type": "execute_result"
    }
   ],
   "source": [
    "def average(list):\n",
    "    length = len(list)\n",
    "    x = sum(list)\n",
    "    return x / length\n",
    "average([5, 6, 4])"
   ]
  },
  {
   "cell_type": "code",
   "execution_count": 18,
   "metadata": {
    "collapsed": false
   },
   "outputs": [
    {
     "data": {
      "text/plain": [
       "4.166666666666667"
      ]
     },
     "execution_count": 18,
     "metadata": {},
     "output_type": "execute_result"
    }
   ],
   "source": [
    "list = [1, 2, 3, 4, 5, 10]\n",
    "\n",
    "def average(list):\n",
    "    return sum(list)/ float(len(list))\n",
    "\n",
    "average(list)  \n",
    "    "
   ]
  },
  {
   "cell_type": "code",
   "execution_count": 91,
   "metadata": {
    "collapsed": false
   },
   "outputs": [
    {
     "data": {
      "text/plain": [
       "13.233333333333334"
      ]
     },
     "execution_count": 91,
     "metadata": {},
     "output_type": "execute_result"
    }
   ],
   "source": [
    "def average(list):\n",
    "    total=sum(list)\n",
    "    avg = float(total/len(list))\n",
    "    return avg\n",
    "average([1,4,67,2,4,1.4])"
   ]
  },
  {
   "cell_type": "code",
   "execution_count": 41,
   "metadata": {
    "collapsed": false
   },
   "outputs": [
    {
     "name": "stdout",
     "output_type": "stream",
     "text": [
      "2.5\n"
     ]
    }
   ],
   "source": [
    "def average(numbers):\n",
    "    #I'm not sure if there's a more legit way to make sure this does decimal division\n",
    "    return (sum(numbers)+0.0)/len(numbers)\n",
    "    \n",
    "print average([1,2,3,4])"
   ]
  },
  {
   "cell_type": "code",
   "execution_count": 13,
   "metadata": {
    "collapsed": false
   },
   "outputs": [
    {
     "name": "stdout",
     "output_type": "stream",
     "text": [
      "5\n",
      "3.311111\n"
     ]
    }
   ],
   "source": [
    "def average(list):\n",
    "    sum = 0\n",
    "    for i in list:\n",
    "        if type(i) == int or type(i) == float:\n",
    "            sum = sum  + i\n",
    "            average = sum/len(list)\n",
    "    print average\n",
    "        \n",
    "average([1,2,3,4,5,6,7,8,9])\n",
    "average([1.1,2.2,3.3,4.4,5.555555])"
   ]
  },
  {
   "cell_type": "code",
   "execution_count": 22,
   "metadata": {
    "collapsed": false
   },
   "outputs": [
    {
     "data": {
      "text/plain": [
       "4.5"
      ]
     },
     "execution_count": 22,
     "metadata": {},
     "output_type": "execute_result"
    }
   ],
   "source": [
    "def average(l):\n",
    "    tot = 0\n",
    "    for x in l:\n",
    "        tot += x\n",
    "    return tot/len(l)\n",
    "average([1, 2, 3, 4, 5, 6, 7, 8, 9, 0])"
   ]
  },
  {
   "cell_type": "code",
   "execution_count": 50,
   "metadata": {
    "collapsed": false
   },
   "outputs": [
    {
     "name": "stdout",
     "output_type": "stream",
     "text": [
      "7.65085714286\n"
     ]
    }
   ],
   "source": [
    "sample = [5.0, 6.83, 9.1, 11.25, 16.0, 1.9, 3.476]\n",
    "def average(sample):\n",
    "    index = 0\n",
    "    total = 0\n",
    "    while index < len(sample):\n",
    "        total = total + sample[index]\n",
    "        index = index + 1\n",
    "    print total/len(sample)\n",
    "average(sample)"
   ]
  },
  {
   "cell_type": "code",
   "execution_count": 27,
   "metadata": {
    "collapsed": false
   },
   "outputs": [
    {
     "data": {
      "text/plain": [
       "4.333333333333333"
      ]
     },
     "execution_count": 27,
     "metadata": {},
     "output_type": "execute_result"
    }
   ],
   "source": [
    "def list_average(list):\n",
    "    length = len(list)\n",
    "    my_sum = 0\n",
    "    for value in list:\n",
    "        my_sum = my_sum + value\n",
    "    return (my_sum / length)\n",
    "      \n",
    "\n",
    "list_average([10.0, 1, 2])"
   ]
  },
  {
   "cell_type": "code",
   "execution_count": 79,
   "metadata": {
    "collapsed": false
   },
   "outputs": [
    {
     "data": {
      "text/plain": [
       "2"
      ]
     },
     "execution_count": 79,
     "metadata": {},
     "output_type": "execute_result"
    }
   ],
   "source": [
    "def average(numbers):\n",
    "    return sum(numbers)/len(numbers)\n",
    "\n",
    "average([1,2,3])"
   ]
  },
  {
   "cell_type": "code",
   "execution_count": 46,
   "metadata": {
    "collapsed": false
   },
   "outputs": [
    {
     "data": {
      "text/plain": [
       "2.5"
      ]
     },
     "execution_count": 46,
     "metadata": {},
     "output_type": "execute_result"
    }
   ],
   "source": [
    "def average(numbers):\n",
    "    total = 0\n",
    "    count = 0\n",
    "    for number in numbers:\n",
    "        total += number\n",
    "        count += 1.0\n",
    "    return total/count\n",
    "\n",
    "average([1,2,3,4])"
   ]
  },
  {
   "cell_type": "code",
   "execution_count": 59,
   "metadata": {
    "collapsed": false
   },
   "outputs": [
    {
     "data": {
      "text/plain": [
       "45.75"
      ]
     },
     "execution_count": 59,
     "metadata": {},
     "output_type": "execute_result"
    }
   ],
   "source": [
    "n = [29,4,69,81]\n",
    "def average(numbers):\n",
    "    for i in numbers:\n",
    "        if type(i) != int or float:\n",
    "            break\n",
    "    total = 0.0\n",
    "    for i in numbers:\n",
    "        total = total + i\n",
    "    mean = total/len(numbers)\n",
    "    return mean\n",
    "\n",
    "average(n)\n",
    "    \n",
    "    "
   ]
  },
  {
   "cell_type": "code",
   "execution_count": 22,
   "metadata": {
    "collapsed": false
   },
   "outputs": [
    {
     "name": "stdout",
     "output_type": "stream",
     "text": [
      "3\n"
     ]
    }
   ],
   "source": [
    "def average(list):\n",
    "\tdef total():\n",
    "\t\ttotal = 0\n",
    "\t\tfor element in list:\n",
    "\t\t\ttotal += element\n",
    "\t\treturn total\n",
    "\taverage = total() / len(list)\n",
    "\treturn average\n",
    "\n",
    "print average([1, 2, 3, 4, 5, 6, 2, 4, 5, 5])"
   ]
  },
  {
   "cell_type": "code",
   "execution_count": 13,
   "metadata": {
    "collapsed": false
   },
   "outputs": [
    {
     "name": "stdout",
     "output_type": "stream",
     "text": [
      "2.5\n",
      "2.66666666667\n"
     ]
    }
   ],
   "source": [
    "\n",
    "def average(numList):\n",
    "    sum = 0\n",
    "    for i in numList:\n",
    "        sum+=i\n",
    "    return float(sum)/len(numList)\n",
    "\n",
    "print average([1,2,3,4])\n",
    "print average([1.1,4.6,2.3])"
   ]
  },
  {
   "cell_type": "code",
   "execution_count": 6,
   "metadata": {
    "collapsed": false
   },
   "outputs": [
    {
     "name": "stdout",
     "output_type": "stream",
     "text": [
      "1.5\n"
     ]
    }
   ],
   "source": [
    "def average(numbers):\n",
    "    \"\"\"Takes a list of numbers and returns their arithmetic mean\n",
    "    \n",
    "    >>>average([1,2,3])\n",
    "    2\n",
    "    >>>average([1,2])\n",
    "    1.5\n",
    "    \"\"\"\n",
    "    n = 0\n",
    "    total = 0\n",
    "    while n < len(numbers):\n",
    "        total += numbers[n]\n",
    "        n += 1\n",
    "    return total / (float(len(numbers)))\n",
    "\n",
    "print average([1,2])"
   ]
  },
  {
   "cell_type": "code",
   "execution_count": 126,
   "metadata": {
    "collapsed": false
   },
   "outputs": [
    {
     "name": "stdout",
     "output_type": "stream",
     "text": [
      "5.0\n"
     ]
    }
   ],
   "source": [
    "def average(list):\n",
    "    sum = 0.0;\n",
    "    for i in list:\n",
    "        sum = sum + i\n",
    "    sum = sum/ len(list)\n",
    "    print sum\n",
    "    \n",
    "average([5,5,6,4])"
   ]
  },
  {
   "cell_type": "markdown",
   "metadata": {},
   "source": [
    "x += 1 is the shorthand for x = x + 1 "
   ]
  },
  {
   "cell_type": "code",
   "execution_count": 10,
   "metadata": {
    "collapsed": false
   },
   "outputs": [
    {
     "name": "stdout",
     "output_type": "stream",
     "text": [
      "3.5\n"
     ]
    }
   ],
   "source": [
    "def average(lst):\n",
    "    i = 0.0\n",
    "    sumArray = []\n",
    "    for x in lst:\n",
    "        i+=1\n",
    "        sumArray.append(x)\n",
    "    return sum(sumArray)/i\n",
    "\n",
    "print average([1,2,3,4,5,6])"
   ]
  },
  {
   "cell_type": "code",
   "execution_count": 7,
   "metadata": {
    "collapsed": false
   },
   "outputs": [
    {
     "name": "stdout",
     "output_type": "stream",
     "text": [
      "3\n"
     ]
    }
   ],
   "source": [
    "def list_mean(a):\n",
    "    return sum(a)/len(a)\n",
    "\n",
    "print list_mean([1, 4, 7, 1, 6])"
   ]
  },
  {
   "cell_type": "markdown",
   "metadata": {},
   "source": [
    "### Exercise\n",
    "You own a restaurant, and you need to keep up with the latest food fads or risk losing your fickle customers. You decide to write a Python function that adds the hot new ingredient _du jour_ to each of your regular menu items and returns the trendy new menu."
   ]
  },
  {
   "cell_type": "code",
   "execution_count": 13,
   "metadata": {
    "collapsed": false
   },
   "outputs": [],
   "source": [
    "def add_ingredient(menu, ingredient):\n",
    "    \"\"\"\n",
    "    Given a list of string 'menu' items and a trendy 'ingredient' string of the day,\n",
    "    return a new menu list of strings with the ingredient added to each.\n",
    "    \n",
    "    >>> add_ingredient([\"burger\", \"salad\", \"ice cream\"], \"kale\")\n",
    "    ['burger with kale', 'salad with kale', 'ice cream with kale']\n",
    "    >>> add_ingredient([\"toast\", \"123\", \"ice cream\"], \"skittles\")\n",
    "    ['toast with skittles', '123 with skittles', 'ice cream with skittles']\n",
    "    \"\"\"\n",
    "    newmenu = [item + ' with ' + ingredient for item in menu]\n",
    "    print newmenu\n",
    "\n",
    "# Running doctests in jupyter notebook:\n",
    "# If you'd like to actually run the doctests here, you can uncomment the lines below.\n",
    "# We use this slightly more complex method to test only the add_ingredient function,\n",
    "# without running tests on any other functions that may be in this notebook.\n",
    "\n",
    "import doctest\n",
    "doctest.run_docstring_examples(add_ingredient, globals())"
   ]
  },
  {
   "cell_type": "code",
   "execution_count": 32,
   "metadata": {
    "collapsed": false
   },
   "outputs": [],
   "source": [
    "def add_ingredient(menu, ingredient):\n",
    "    \"\"\"\n",
    "    Given a list of string 'menu' items and a trendy 'ingredient' string of the day,\n",
    "    return a new menu list of strings with the ingredient added to each.\n",
    "    \n",
    "    >>> add_ingredient([\"burger\", \"salad\", \"ice cream\"], \"kale\")\n",
    "    ['burger with kale', 'salad with kale', 'ice cream with kale']\n",
    "    \n",
    "    \"\"\"\n",
    "    new_menu = []\n",
    "    for item in menu:\n",
    "        new_menu.append(item + ' with ' + ingredient)\n",
    "    return new_menu\n",
    "\n",
    "# Running doctests in jupyter notebook:\n",
    "# If you'd like to actually run the doctests here, you can uncomment the lines below.\n",
    "# We use this slightly more complex method to test only the add_ingredient function,\n",
    "# without running tests on any other functions that may be in this notebook.\n",
    "\n",
    "import doctest\n",
    "doctest.run_docstring_examples(add_ingredient, globals())"
   ]
  },
  {
   "cell_type": "code",
   "execution_count": 33,
   "metadata": {
    "collapsed": false
   },
   "outputs": [
    {
     "data": {
      "text/plain": [
       "['burger with kale', 'salad with kale', 'ice cream with kale']"
      ]
     },
     "execution_count": 33,
     "metadata": {},
     "output_type": "execute_result"
    }
   ],
   "source": [
    "def add_ingredient(menu, ingredient):\n",
    "    \"\"\"\n",
    "    Given a list of string 'menu' items and a trendy 'ingredient' string of the day,\n",
    "    return a new menu list of strings with the ingredient added to each.\n",
    "    \n",
    "    >>> add_ingredient([\"burger\", \"salad\", \"ice cream\"], \"kale\")\n",
    "    ['burger with kale', 'salad with kale', 'ice cream with kale']\n",
    "    \n",
    "    \"\"\"\n",
    "    \n",
    "    for i in range(len(menu)):\n",
    "        menu[i] = menu[i] + ' with ' + ingredient\n",
    "        \n",
    "    return menu\n",
    "    pass    \n",
    "\n",
    "add_ingredient([\"burger\", \"salad\", \"ice cream\"], \"kale\")"
   ]
  },
  {
   "cell_type": "code",
   "execution_count": 210,
   "metadata": {
    "collapsed": false
   },
   "outputs": [
    {
     "data": {
      "text/plain": [
       "['smoothies with tempeh',\n",
       " 'grilled cheese sandwiches with tempeh',\n",
       " 'tomato soup with tempeh']"
      ]
     },
     "execution_count": 210,
     "metadata": {},
     "output_type": "execute_result"
    }
   ],
   "source": [
    "def add_ingredient(Menu, ingredient):\n",
    "    \"\"\"\n",
    "    Given a list of string 'menu' items and a trendy 'ingredient' string of the day,\n",
    "    return a new menu list of strings with the ingredient added to each.\n",
    "    \n",
    "    >>> add_ingredient([\"burger\", \"salad\", \"ice cream\"], \"kale\")\n",
    "    ['burger with kale', 'salad with kale', 'ice cream with kale']\n",
    "    \n",
    "    \"\"\"\n",
    "    New_menu = []\n",
    "    for i in Menu:\n",
    "        New_menu.append(i + ' with ' + ingredient)\n",
    "    return New_menu\n",
    "\n",
    "add_ingredient(['smoothies','grilled cheese sandwiches','tomato soup'], 'tempeh')\n",
    "    \n",
    "# Running doctests in jupyter notebook:\n",
    "# If you'd like to actually run the doctests here, you can uncomment the lines below.\n",
    "# We use this slightly more complex method to test only the add_ingredient function,\n",
    "# without running tests on any other functions that may be in this notebook.\n",
    "\n",
    "#import doctest\n",
    "#doctest.run_docstring_examples(add_ingredient, globals(),verbose=True)"
   ]
  },
  {
   "cell_type": "code",
   "execution_count": 51,
   "metadata": {
    "collapsed": false
   },
   "outputs": [],
   "source": [
    "def add_ingredient(menu, ingredient):\n",
    "    \"\"\"\n",
    "    Given a list of string 'menu' items and a trendy 'ingredient' string of the day,\n",
    "    return a new menu list of strings with the ingredient added to each.\n",
    "    \n",
    "    >>> add_ingredient([\"burger\", \"salad\", \"ice cream\"], \"kale\")\n",
    "    ['burger with kale', 'salad with kale', 'ice cream with kale']\n",
    "    \n",
    "    \"\"\"\n",
    "    menu_list = []\n",
    "    for item in menu:\n",
    "        new_menu_item = str(item + ' with ' + ingredient)\n",
    "        #print new_menu_item\n",
    "        menu_list.append(new_menu_item)\n",
    "    return menu_list\n",
    "   # TODO: Implement me\n",
    "\n",
    "#add_ingredient(['burger', 'salad', 'ice cream'], 'kale')\n",
    "\n",
    "# Running doctests in jupyter notebook:\n",
    "# If you'd like to actually run the doctests here, you can uncomment the lines below.\n",
    "# We use this slightly more complex method to test only the add_ingredient function,\n",
    "# without running tests on any other functions that may be in this notebook.\n",
    "\n",
    "import doctest\n",
    "doctest.run_docstring_examples(add_ingredient, globals())"
   ]
  },
  {
   "cell_type": "code",
   "execution_count": 51,
   "metadata": {
    "collapsed": false
   },
   "outputs": [
    {
     "name": "stdout",
     "output_type": "stream",
     "text": [
      "Finding tests in NoName\n",
      "Trying:\n",
      "    add_ingredient([\"burger\", \"salad\", \"ice cream\"], \"kale\")\n",
      "Expecting:\n",
      "    ['burger with kale', 'salad with kale', 'ice cream with kale']\n",
      "ok\n"
     ]
    }
   ],
   "source": [
    "def add_ingredient(menu, ingredient):\n",
    "    \"\"\"\n",
    "    Given a list of string 'menu' items and a trendy 'ingredient' string of the day,\n",
    "    return a new menu list of strings with the ingredient added to each.\n",
    "    \n",
    "    >>> add_ingredient([\"burger\", \"salad\", \"ice cream\"], \"kale\")\n",
    "    ['burger with kale', 'salad with kale', 'ice cream with kale']\n",
    "    \n",
    "    \"\"\"\n",
    "    def add_du_jour(item, ingredient):\n",
    "        return item + ' with ' + ingredient\n",
    "    \n",
    "    return [add_du_jour(item, ingredient) for item in menu]\n",
    "    # this is pretty cool syntax\n",
    "\n",
    "# Running doctests in jupyter notebook:\n",
    "# If you'd like to actually run the doctests here, you can uncomment the lines below.\n",
    "# We use this slightly more complex method to test only the add_ingredient function,\n",
    "# without running tests on any other functions that may be in this notebook.\n",
    "\n",
    "import doctest\n",
    "doctest.run_docstring_examples(add_ingredient, globals(), verbose=True)"
   ]
  },
  {
   "cell_type": "code",
   "execution_count": null,
   "metadata": {
    "collapsed": false
   },
   "outputs": [],
   "source": [
    "def add_ingredient(menu, ingredient):\n",
    "    i = 0\n",
    "    while 0 <= i <= ((len(menu)) - 1):\n",
    "        menu[i] = menu[i] + ' with' + ingredient\n",
    "    print menu\n",
    "    \n",
    "add_ingredient(['burger', 'salad', 'icecream'],'kale')"
   ]
  },
  {
   "cell_type": "code",
   "execution_count": 117,
   "metadata": {
    "collapsed": false
   },
   "outputs": [],
   "source": [
    "def add_ingredient(menu, ingredient):\n",
    "    \"\"\"\n",
    "    Given a list of string 'menu' items and a trendy 'ingredient' string of the day,\n",
    "    return a new menu list of strings with the ingredient added to each.\n",
    "    \n",
    "    >>> add_ingredient([\"burger\", \"salad\", \"ice cream\"], \"kale\")\n",
    "    ['burger with kale', 'salad with kale', 'ice cream with kale']\n",
    "    \n",
    "    \"\"\"\n",
    "    pass    # TODO: Implement me\n",
    "\n",
    "    for i in range(len(menu)):\n",
    "        menu[i] = menu[i]+\" with \"+ingredient \n",
    "    return menu\n",
    "    \n",
    "# Running doctests in jupyter notebook:\n",
    "# If you'd like to actually run the doctests here, you can uncomment the lines below.\n",
    "# We use this slightly more complex method to test only the add_ingredient function,\n",
    "# without running tests on any other functions that may be in this notebook.\n",
    "\n",
    "import doctest\n",
    "doctest.run_docstring_examples(add_ingredient, globals())\n"
   ]
  },
  {
   "cell_type": "code",
   "execution_count": 69,
   "metadata": {
    "collapsed": false
   },
   "outputs": [],
   "source": [
    "def add_ingredient(menu, ingredient):\n",
    "    \"\"\"\n",
    "    Given a list of string 'menu' items and a trendy 'ingredient' string of the day,\n",
    "    return a new menu list of strings with the ingredient added to each.\n",
    "    \n",
    "    >>> add_ingredient([\"burger\", \"salad\", \"ice cream\"], \"kale\")\n",
    "    ['burger with kale', 'salad with kale', 'ice cream with kale']\n",
    "    \n",
    "    \"\"\"\n",
    "    for x in range (0,len(menu)):\n",
    "        menu[x]= menu[x] + ' with ' + ingredient\n",
    "    return menu\n",
    "\n",
    "# Running doctests in jupyter notebook:\n",
    "# If you'd like to actually run the doctests here, you can uncomment the lines below.\n",
    "# We use this slightly more complex method to test only the add_ingredient function,\n",
    "# without running tests on any other functions that may be in this notebook.\n",
    "\n",
    "import doctest\n",
    "doctest.run_docstring_examples(add_ingredient, globals())"
   ]
  },
  {
   "cell_type": "code",
   "execution_count": 36,
   "metadata": {
    "collapsed": false
   },
   "outputs": [
    {
     "data": {
      "text/plain": [
       "['burger with kale', 'salad with kale', 'ice cream with kale']"
      ]
     },
     "execution_count": 36,
     "metadata": {},
     "output_type": "execute_result"
    }
   ],
   "source": [
    "menu = [\"burger\", \"salad\", \"ice cream\"]\n",
    "ingredient = \"kale\"\n",
    "\n",
    "def add_ingredient(menu, ingredient):\n",
    "    \"\"\"\n",
    "    Given a list of string 'menu' items and a trendy 'ingredient' string of the day,\n",
    "    return a new menu list of strings with the ingredient added to each.\n",
    "    \n",
    "    >>> add_ingredient([\"burger\", \"salad\", \"ice cream\"], \"kale\")\n",
    "    ['burger with kale', 'salad with kale', 'ice cream with kale']\n",
    "    \n",
    "    \"\"\"\n",
    "    for i in range(len(menu)):\n",
    "        menu[i] = menu[i] + ' with ' + ingredient\n",
    "    return menu\n",
    "    pass    # TODO: Implement me\n",
    "\n",
    "add_ingredient(menu, ingredient)\n",
    "# Running doctests in jupyter notebook:\n",
    "# If you'd like to actually run the doctests here, you can uncomment the lines below.\n",
    "# We use this slightly more complex method to test only the add_ingredient function,\n",
    "# without running tests on any other functions that may be in this notebook.\n",
    "\n",
    "#import doctest\n",
    "#doctest.run_docstring_examples(add_ingredient, globals())"
   ]
  },
  {
   "cell_type": "code",
   "execution_count": 25,
   "metadata": {
    "collapsed": false
   },
   "outputs": [],
   "source": [
    "def add_ingredient(menu, ingredient):\n",
    "    \"\"\"\n",
    "    Given a list of string 'menu' items and a trendy 'ingredient' string of the day,\n",
    "    return a new menu list of strings with the ingredient added to each.\n",
    "    \n",
    "    >>> add_ingredient([\"burger\", \"salad\", \"ice cream\"], \"kale\")\n",
    "    ['burger with kale', 'salad with kale', 'ice cream with kale']\n",
    "    \n",
    "    \"\"\"\n",
    "    for i in range(len(menu)):\n",
    "        menu[i] += ' with ' + ingredient\n",
    "    return menu\n",
    "\n",
    "# Running doctests in jupyter notebook:\n",
    "# If you'd like to actually run the doctests here, you can uncomment the lines below.\n",
    "# We use this slightly more complex method to test only the add_ingredient function,\n",
    "# without running tests on any other functions that may be in this notebook.\n",
    "\n",
    "import doctest\n",
    "doctest.run_docstring_examples(add_ingredient, globals())"
   ]
  },
  {
   "cell_type": "code",
   "execution_count": 8,
   "metadata": {
    "collapsed": false
   },
   "outputs": [
    {
     "data": {
      "text/plain": [
       "['burger with chocolate',\n",
       " 'fries with chocolate',\n",
       " 'beef wellington with chocolate']"
      ]
     },
     "execution_count": 8,
     "metadata": {},
     "output_type": "execute_result"
    }
   ],
   "source": [
    "def add_ingredient(menu, ingredient):\n",
    "    menu_updated = []\n",
    "    for item in menu:\n",
    "        item = item + ' with ' + ingredient\n",
    "        menu_updated.append(item)\n",
    "    return menu_updated\n",
    "\n",
    "menu = ['burger','fries','beef wellington']\n",
    "add_ingredient(menu,'chocolate')\n",
    "\n",
    "#pass   # TODO: Implement me\n",
    "# Running doctests in jupyter notebook:\n",
    "# If you'd like to actually run the doctests here, you can uncomment the lines below.\n",
    "# We use this slightly more complex method to test only the add_ingredient function,\n",
    "# without running tests on any other functions that may be in this notebook.\n",
    "#import doctest\n",
    "#doctest.run_docstring_examples(add_ingredient, globals())"
   ]
  },
  {
   "cell_type": "code",
   "execution_count": 19,
   "metadata": {
    "collapsed": false
   },
   "outputs": [],
   "source": [
    "def add_ingredient(menu, ingredient):\n",
    "    \"\"\"\n",
    "    Given a list of string 'menu' items and a trendy 'ingredient' string of the day,\n",
    "    return a new menu list of strings with the ingredient added to each.\n",
    "    \n",
    "    >>> add_ingredient([\"burger\", \"salad\", \"ice cream\"], \"kale\")\n",
    "    ['burger with kale', 'salad with kale', 'ice cream with kale']\n",
    "    \n",
    "    \"\"\"\n",
    "    return [s+' with '+ingredient for s in menu]\n",
    "    pass    # TODO: Implement me\n",
    "\n",
    "\n",
    "#add_ingredient([\"burger\", \"salad\", \"ice cream\"], \"kale\")\n",
    "\n",
    "# Running doctests in jupyter notebook:\n",
    "# If you'd like to actually run the doctests here, you can uncomment the lines below.\n",
    "# We use this slightly more complex method to test only the add_ingredient function,\n",
    "# without running tests on any other functions that may be in this notebook.\n",
    "\n",
    "import doctest\n",
    "doctest.run_docstring_examples(add_ingredient, globals())"
   ]
  },
  {
   "cell_type": "code",
   "execution_count": 155,
   "metadata": {
    "collapsed": false
   },
   "outputs": [
    {
     "name": "stdout",
     "output_type": "stream",
     "text": [
      "['burger with kale', 'salad with kale', 'ice cream with kale']\n"
     ]
    }
   ],
   "source": [
    "def add_ingredient(menu, ingredient):\n",
    "    \"\"\"\n",
    "    Given a list of string 'menu' items and a trendy 'ingredient' string of the day,\n",
    "    return a new menu list of strings with the ingredient added to each.\n",
    "    \n",
    "    >>> add_ingredient([\"burger\", \"salad\", \"ice cream\"], \"kale\")\n",
    "    ['burger with kale', 'salad with kale', 'ice cream with kale']\n",
    "    \n",
    "    \"\"\"\n",
    "#    pass    # TODO: Implement me\n",
    "    new_menu= []\n",
    "    for item in menu:\n",
    "        new_item= [item+ ' with ' +ingredient]\n",
    "        new_menu= new_menu+ new_item\n",
    "    print new_menu\n",
    "    \n",
    "add_ingredient([\"burger\", \"salad\", \"ice cream\"], \"kale\")\n",
    "# Running doctests in jupyter notebook:\n",
    "# If you'd like to actually run the doctests here, you can uncomment the lines below.\n",
    "# We use this slightly more complex method to test only the add_ingredient function,\n",
    "# without running tests on any other functions that may be in this notebook.\n",
    "\n",
    "#import doctest\n",
    "#doctest.run_docstring_examples(add_ingredient, globals())"
   ]
  },
  {
   "cell_type": "code",
   "execution_count": 64,
   "metadata": {
    "collapsed": false
   },
   "outputs": [],
   "source": [
    "def add_ingredient(menu, ingredient):\n",
    "    \"\"\"\n",
    "    Given a list of string 'menu' items and a trendy 'ingredient' string of the day,\n",
    "    return a new menu list of strings with the ingredient added to each.\n",
    "    \n",
    "    >>> add_ingredient([\"burger\", \"salad\", \"ice cream\"], \"kale\")\n",
    "    ['burger with kale', 'salad with kale', 'ice cream with kale']\n",
    "    \n",
    "    \"\"\"\n",
    "    for i in range(len(menu)):\n",
    "        #print menu[i]\n",
    "        menu[i]=menu[i]+' with '+ingredient\n",
    "     \n",
    "    return menu\n",
    "\n",
    "# Running doctests in jupyter notebook:\n",
    "# If you'd like to actually run the doctests here, you can uncomment the lines below.\n",
    "# We use this slightly more complex method to test only the add_ingredient function,\n",
    "# without running tests on any other functions that may be in this notebook.\n",
    "\n",
    "import doctest\n",
    "doctest.run_docstring_examples(add_ingredient, globals())"
   ]
  },
  {
   "cell_type": "code",
   "execution_count": 69,
   "metadata": {
    "collapsed": false
   },
   "outputs": [
    {
     "data": {
      "text/plain": [
       "['LOL with CATZ', 'KITTENS with CATZ', 'Raining Dogs with CATZ']"
      ]
     },
     "execution_count": 69,
     "metadata": {},
     "output_type": "execute_result"
    }
   ],
   "source": [
    "def add_ingredient(menu, ingredient):\n",
    "    \"\"\"\n",
    "    Given a list of string 'menu' items and a trendy 'ingredient' string of the day,\n",
    "    return a new menu list of strings with the ingredient added to each.\n",
    "    \n",
    "    >>> add_ingredient([\"burger\", \"salad\", \"ice cream\"], \"kale\")\n",
    "    ['burger with kale', 'salad with kale', 'ice cream with kale']\n",
    "    \n",
    "    \"\"\"\n",
    "    newmenu = []\n",
    "    for i in range(0, len(menu)):\n",
    "        newmenuitem = menu[i]+' with ' +ingredient\n",
    "        newmenu.append(newmenuitem)\n",
    "    return newmenu\n",
    "add_ingredient([\"LOL\", \"KITTENS\", \"Raining Dogs\"], \"CATZ\")\n",
    "# Running doctests in jupyter notebook:\n",
    "# If you'd like to actually run the doctests here, you can uncomment the lines below.\n",
    "# We use this slightly more complex method to test only the add_ingredient function,\n",
    "# without running tests on any other functions that may be in this notebook.\n",
    "\n",
    "#import doctest\n",
    "#doctest.run_docstring_examples(add_ingredient, globals())"
   ]
  },
  {
   "cell_type": "code",
   "execution_count": 63,
   "metadata": {
    "collapsed": false
   },
   "outputs": [],
   "source": [
    "def add_ingredient(menu, ingredient):\n",
    "    \"\"\"\n",
    "    Given a list of string 'menu' items and a trendy 'ingredient' string of the day,\n",
    "    return a new menu list of strings with the ingredient added to each.\n",
    "    \n",
    "    >>> add_ingredient([\"burger\", \"salad\", \"ice cream\"], \"kale\")\n",
    "    ['burger with kale', 'salad with kale', 'ice cream with kale']\n",
    "    \n",
    "    \"\"\"\n",
    "    for i in range(len(menu)):\n",
    "        menu[i] = menu[i] + \" with \" + ingredient\n",
    "    return menu\n",
    "\n",
    "\n",
    "# Running doctests in jupyter notebook:\n",
    "# If you'd like to actually run the doctests here, you can uncomment the lines below.\n",
    "# We use this slightly more complex method to test only the add_ingredient function,\n",
    "# without running tests on any other functions that may be in this notebook.\n",
    "\n",
    "import doctest\n",
    "doctest.run_docstring_examples(add_ingredient, globals())"
   ]
  },
  {
   "cell_type": "code",
   "execution_count": 12,
   "metadata": {
    "collapsed": false
   },
   "outputs": [],
   "source": [
    "def add_ingredient(menu, ingredient):\n",
    "    \"\"\"\n",
    "    Given a list of string 'menu' items and a trendy 'ingredient' string of the day,\n",
    "    return a new menu list of strings with the ingredient added to each.\n",
    "    \n",
    "    >>> add_ingredient([\"burger\", \"salad\", \"ice cream\"], \"kale\")\n",
    "    ['burger with kale', 'salad with kale', 'ice cream with kale']\n",
    "    \n",
    "    \"\"\"\n",
    "    for item in range(len(menu)):\n",
    "        menu[item] = menu[item] + ' with ' + ingredient\n",
    "    return menu\n",
    "\n",
    "# Running doctests in jupyter notebook:\n",
    "# If you'd like to actually run the doctests here, you can uncomment the lines below.\n",
    "# We use this slightly more complex method to test only the add_ingredient function,\n",
    "# without running tests on any other functions that may be in this notebook.\n",
    "\n",
    "import doctest\n",
    "doctest.run_docstring_examples(add_ingredient, globals())\n"
   ]
  },
  {
   "cell_type": "code",
   "execution_count": 127,
   "metadata": {
    "collapsed": false
   },
   "outputs": [],
   "source": [
    "def add_ingredient(menu, ingredient):\n",
    "    \"\"\"\n",
    "    Given a list of string 'menu' items and a trendy 'ingredient' string of the day,\n",
    "    return a new menu list of strings with the ingredient added to each.\n",
    "    \n",
    "    >>> add_ingredient([\"burger\", \"salad\", \"ice cream\"], \"kale\")\n",
    "    ['burger with kale', 'salad with kale', 'ice cream with kale']\n",
    "    \n",
    "    \"\"\"\n",
    "    for dish in range(len(menu)):\n",
    "        menu[dish] = menu[dish] + \" with \" + ingredient\n",
    "    return menu\n",
    "    pass    # TODO: Implement me\n",
    "\n",
    "# Running doctests in jupyter notebook:\n",
    "# If you'd like to actually run the doctests here, you can uncomment the lines below.\n",
    "# We use this slightly more complex method to test only the add_ingredient function,\n",
    "# without running tests on any other functions that may be in this notebook.\n",
    "\n",
    "import doctest\n",
    "doctest.run_docstring_examples(add_ingredient, globals())"
   ]
  },
  {
   "cell_type": "code",
   "execution_count": 9,
   "metadata": {
    "collapsed": false
   },
   "outputs": [
    {
     "name": "stdout",
     "output_type": "stream",
     "text": [
      "['Soba with miso', 'takoyaki with miso', 'jidori with miso']\n"
     ]
    }
   ],
   "source": [
    "def add_ingredient(menu, ingredient):\n",
    "    \"\"\"\n",
    "    Given a list of string 'menu' items and a trendy 'ingredient' string of the day,\n",
    "    return a new menu list of strings with the ingredient added to each.\n",
    "    \n",
    "    >>> add_ingredient([\"burger\", \"salad\", \"ice cream\"], \"kale\")\n",
    "    ['burger with kale', 'salad with kale', 'ice cream with kale']\n",
    "    \n",
    "    \"\"\"\n",
    "    for i in range(0, len(menu)):\n",
    "        menu[i] = menu[i] + ' with ' + ingredient\n",
    "    \n",
    "    return menu\n",
    "    \n",
    "print add_ingredient([\"Soba\", \"takoyaki\", \"jidori\"], \"miso\")\n",
    "    \n",
    "    # TODO: Implement me\n",
    "\n",
    "# Running doctests in jupyter notebook:\n",
    "# If you'd like to actually run the doctests here, you can uncomment the lines below.\n",
    "# We use this slightly more complex method to test only the add_ingredient function,\n",
    "# without running tests on any other functions that may be in this notebook.\n",
    "\n",
    "#import doctest\n",
    "#doctest.run_docstring_examples(add_ingredient, globals())"
   ]
  },
  {
   "cell_type": "code",
   "execution_count": 10,
   "metadata": {
    "collapsed": false
   },
   "outputs": [
    {
     "name": "stdout",
     "output_type": "stream",
     "text": [
      "['CHESE with CHEse', 'MOARE CHEESE with CHEse', 'I loV cheEEse with CHEse']\n"
     ]
    }
   ],
   "source": [
    "def add_ingredient(menu, ingredient):\n",
    "    \"\"\"\n",
    "    Given a list of string 'menu' items and a trendy 'ingredient' string of the day,\n",
    "    return a new menu list of strings with the ingredient added to each.\n",
    "    \n",
    "    >>> add_ingredient([\"burger\", \"salad\", \"ice cream\"], \"kale\")\n",
    "    ['burger with kale', 'salad with kale', 'ice cream with kale']\n",
    "    \n",
    "    \"\"\"\n",
    "    pass    # TODO: Implement me\n",
    "    i = 0\n",
    "    while i < (len(menu)):\n",
    "        menu[i] = menu[i] + \" with \" + ingredient\n",
    "        i = i+1\n",
    "    print menu\n",
    "add_ingredient([\"CHESE\", 'MOARE CHEESE', \"I loV cheEEse\"], \"CHEse\")\n"
   ]
  },
  {
   "cell_type": "code",
   "execution_count": 46,
   "metadata": {
    "collapsed": false
   },
   "outputs": [
    {
     "name": "stdout",
     "output_type": "stream",
     "text": [
      "['chicken with broccoli', 'pork with broccoli', 'beef with broccoli', 'lamb with broccoli', 'tenderloin with broccoli', 'steak with broccoli']\n",
      "Finding tests in NoName\n",
      "Trying:\n",
      "    add_ingredient([\"burger\", \"salad\", \"ice cream\"], \"kale\")\n",
      "Expecting:\n",
      "    ['burger with kale', 'salad with kale', 'ice cream with kale']\n",
      "ok\n"
     ]
    }
   ],
   "source": [
    "def add_stuff(menu_item, ingredient): #function that concatenates the original menu item string with the new ingredient\n",
    "    return menu_item + \" with \" + ingredient\n",
    "    \n",
    "def add_ingredient(menu, ingredient):\n",
    "    \"\"\"\n",
    "    Given a list of string 'menu' items and a trendy 'ingredient' string of the day,\n",
    "    return a new menu list of strings with the ingredient added to each.\n",
    "    \n",
    "    >>> add_ingredient([\"burger\", \"salad\", \"ice cream\"], \"kale\")\n",
    "    ['burger with kale', 'salad with kale', 'ice cream with kale']\n",
    "    \n",
    "    \"\"\"\n",
    "    pass    # TODO: Implement me\n",
    "    new_menu = []\n",
    "    for item in menu:\n",
    "        new_menu.append(add_stuff(item,ingredient))\n",
    "    print new_menu    \n",
    "\n",
    "# Running doctests in jupyter notebook:\n",
    "# If you'd like to actually run the doctests here, you can uncomment the lines below.\n",
    "# We use this slightly more complex method to test only the add_ingredient function,\n",
    "# without running tests on any other functions that may be in this notebook.\n",
    "\n",
    "add_ingredient([\"chicken\", \"pork\", \"beef\", \"lamb\", \"tenderloin\", \"steak\"],\"broccoli\")\n",
    "import doctest\n",
    "doctest.run_docstring_examples(add_ingredient, globals(),verbose=True) #this line never works for me. sad face\n",
    "#EDIT: Now it works, read Piazza happy face"
   ]
  },
  {
   "cell_type": "code",
   "execution_count": 11,
   "metadata": {
    "collapsed": false
   },
   "outputs": [
    {
     "name": "stdout",
     "output_type": "stream",
     "text": [
      "Finding tests in NoName\n",
      "Trying:\n",
      "    add_ingredient([\"burger\", \"salad\", \"ice cream\"], \"kale\")\n",
      "Expecting:\n",
      "    ['burger with kale', 'salad with kale', 'ice cream with kale']\n",
      "ok\n"
     ]
    }
   ],
   "source": [
    "def add_ingredient(menu, ingredient):\n",
    "    \"\"\"\n",
    "    Given a list of string 'menu' items and a trendy 'ingredient' string of the day,\n",
    "    return a new menu list of strings with the ingredient added to each.\n",
    "    \n",
    "    >>> add_ingredient([\"burger\", \"salad\", \"ice cream\"], \"kale\")\n",
    "    ['burger with kale', 'salad with kale', 'ice cream with kale']\n",
    "    \n",
    "    \"\"\"\n",
    "    for i in range(len(menu)):\n",
    "        menu[i] = menu[i] + ' with ' + ingredient\n",
    "    return menu\n",
    "\n",
    "# Running doctests in jupyter notebook:\n",
    "# If you'd like to actually run the doctests here, you can uncomment the lines below.\n",
    "# We use this slightly more complex method to test only the add_ingredient function,\n",
    "# without running tests on any other functions that may be in this notebook.\n",
    "\n",
    "import doctest\n",
    "doctest.run_docstring_examples(add_ingredient, globals(), verbose=True)"
   ]
  },
  {
   "cell_type": "code",
   "execution_count": 52,
   "metadata": {
    "collapsed": false
   },
   "outputs": [],
   "source": [
    "def add_ingredient(menu, ingredient):\n",
    "    \"\"\"\n",
    "    Given a list of string 'menu' items and a trendy 'ingredient' string of the day,\n",
    "    return a new menu list of strings with the ingredient added to each.\n",
    "    >>> add_ingredient([\"burger\", \"salad\", \"ice cream\"], \"kale\")\n",
    "    ['burger with kale', 'salad with kale', 'ice cream with kale']\n",
    "    \"\"\"\n",
    "    newMenu = []\n",
    "    for x in menu:\n",
    "        newMenu.append(x + ' with ' + ingredient)  \n",
    "    return newMenu\n",
    "    \n",
    "    \n",
    "# Running doctests in jupyter notebook:\n",
    "# If you'd like to actually run the doctests here, you can uncomment the lines below.\n",
    "# We use this slightly more complex method to test only the add_ingredient function,\n",
    "# without running tests on any other functions that may be in this notebook.\n",
    "\n",
    "import doctest\n",
    "doctest.run_docstring_examples(add_ingredient, globals())\n",
    "    "
   ]
  },
  {
   "cell_type": "code",
   "execution_count": 110,
   "metadata": {
    "collapsed": false
   },
   "outputs": [
    {
     "name": "stdout",
     "output_type": "stream",
     "text": [
      "['burger with du jour', 'salad with du jour', 'ice cream with du jour']\n"
     ]
    }
   ],
   "source": [
    "def add_ingredient(menu, ingredient):\n",
    "    \"\"\"\n",
    "    Given a list of string 'menu' items and a trendy 'ingredient' string of the day,\n",
    "    return a new menu list of strings with the ingredient added to each.\n",
    "    \n",
    "    >>> add_ingredient([\"burger\", \"salad\", \"ice cream\"], \"du jour\")\n",
    "    ['burger with du jour', 'salad with du jour', 'ice cream with du jour']\n",
    "    \n",
    "    \"\"\"\n",
    "    pass\n",
    "    \n",
    "    for i in range(len(menu)):\n",
    "        dish = menu[i]\n",
    "        trendy_dish = dish + \" with \" + ingredient\n",
    "        menu[i] = trendy_dish\n",
    "    print menu\n",
    "add_ingredient(['burger','salad','ice cream'], 'du jour')\n",
    "\n",
    "import doctest\n",
    "doctest.run_docstring_examples(add_ingredient, globals())"
   ]
  },
  {
   "cell_type": "code",
   "execution_count": 45,
   "metadata": {
    "collapsed": false
   },
   "outputs": [
    {
     "name": "stdout",
     "output_type": "stream",
     "text": [
      "  Molten Lava Cake with Salted Caramel  \n",
      "   Apple Turnover with Salted Caramel   \n",
      "  Apricot Cobbler with Salted Caramel   \n",
      " Ice Cream Sandwich with Salted Caramel \n",
      "  Gingerbread Cake with Salted Caramel  \n"
     ]
    }
   ],
   "source": [
    "def add_ingredient(menu, ingredient):\n",
    "    \"\"\"\n",
    "    Given a list of string 'menu' items and a trendy 'ingredient' string of the day,\n",
    "    return a new menu list of strings with the ingredient added to each.\n",
    "    \n",
    "    >>> add_ingredient([\"burger\", \"salad\", \"ice cream\"], \"kale\")\n",
    "    ['burger with kale', 'salad with kale', 'ice cream with kale']\n",
    "    \n",
    "    \"\"\"\n",
    "    new_menu = [] #make an empty list for 'new_menu'\n",
    "    for i in range(len(menu)):\n",
    "        new_menu.append(menu[i] + ' with ' + ingredient)\n",
    "    return new_menu\n",
    "\n",
    "def format_menu(menu):\n",
    "    for x in menu:\n",
    "        print x.center(40)\n",
    "\n",
    "# Running doctests in jupyter notebook:\n",
    "# If you'd like to actually run the doctests here, you can uncomment the lines below.\n",
    "# We use this slightly more complex method to test only the add_ingredient function,\n",
    "# without running tests on any other functions that may be in this notebook.\n",
    "\n",
    "import doctest\n",
    "doctest.run_docstring_examples(add_ingredient, globals())\n",
    "# Why would you ever have something not a dessert shop. I'm ashamed.\n",
    "dessert_menu = ['Molten Lava Cake', 'Apple Turnover', 'Apricot Cobbler', 'Ice Cream Sandwich', 'Gingerbread Cake']\n",
    "ingredient = 'Salted Caramel'\n",
    "better_menu = add_ingredient(dessert_menu, ingredient)\n",
    "format_menu(better_menu)"
   ]
  },
  {
   "cell_type": "code",
   "execution_count": 19,
   "metadata": {
    "collapsed": false
   },
   "outputs": [
    {
     "name": "stdout",
     "output_type": "stream",
     "text": [
      "['hot dog with rice', 'chicken parmesan with rice', 'smoothie with rice']\n"
     ]
    }
   ],
   "source": [
    "def add_ingredient(menu, ingredient):\n",
    "    \"\"\"\n",
    "    Given a list of string 'menu' items and a trendy 'ingredient' string of the day,\n",
    "    return a new menu list of strings with the ingredient added to each.\n",
    "    \n",
    "    >>> add_ingredient([\"burger\", \"salad\", \"ice cream\"], \"kale\")\n",
    "    ['burger with kale', 'salad with kale', 'ice cream with kale']\n",
    "    \n",
    "    \"\"\"\n",
    "    new_menu = [item + ' with ' + ingredient for item in menu]\n",
    "    return new_menu\n",
    "\n",
    "print add_ingredient(['hot dog', 'chicken parmesan', 'smoothie'], 'rice')\n",
    "\n",
    "# Running doctests in jupyter notebook:\n",
    "# If you'd like to actually run the doctests here, you can uncomment the lines below.\n",
    "# We use this slightly more complex method to test only the add_ingredient function,\n",
    "# without running tests on any other functions that may be in this notebook.\n",
    "\n",
    "#import doctest\n",
    "#doctest.run_docstring_examples(add_ingredient, globals())"
   ]
  },
  {
   "cell_type": "code",
   "execution_count": 125,
   "metadata": {
    "collapsed": false
   },
   "outputs": [],
   "source": [
    "def add_ingredient(menu, ingredient):\n",
    "    \"\"\"\n",
    "    Given a list of string 'menu' items and a trendy 'ingredient' string of the day,\n",
    "    return a new menu list of strings with the ingredient added to each.\n",
    "    \n",
    "    >>> add_ingredient([\"burger\", \"salad\", \"ice cream\"], \"kale\")\n",
    "    ['burger with kale', 'salad with kale', 'ice cream with kale']\n",
    "    \n",
    "    \"\"\"\n",
    "    x=0\n",
    "    for x in range(len(menu)):\n",
    "        menu[x]=menu[x]+' with ' + ingredient\n",
    "        x=x+1\n",
    "    print menu\n",
    "\n",
    "# Running doctests in jupyter notebook:\n",
    "# If you'd like to actually run the doctests here, you can uncomment the lines below.\n",
    "# We use this slightly more complex method to test only the add_ingredient function,\n",
    "# without running tests on any other functions that may be in this notebook.\n",
    "\n",
    "#import doctest\n",
    "#doctest.run_docstring_examples(add_ingredient, globals())"
   ]
  },
  {
   "cell_type": "code",
   "execution_count": null,
   "metadata": {
    "collapsed": false
   },
   "outputs": [],
   "source": [
    "def add_ingredient(menu, ingredient):\n",
    "    \"\"\"\n",
    "    Given a list of string 'menu' items and a trendy 'ingredient' string of the day,\n",
    "    return a new menu list of strings with the ingredient added to each.\n",
    "    \n",
    "    >>> add_ingredient([\"burger\", \"salad\", \"ice cream\"], \"kale\")\n",
    "    ['burger with kale', 'salad with kale', 'ice cream with kale']\n",
    "    \n",
    "    \"\"\"\n",
    "    newmenulist = [] #new list to build stuff with\n",
    "    for element in menu:\n",
    "        newmenulist = menu.append('with'+ingredient)\n",
    "    return newmenulist\n",
    "\n",
    "# Running doctests in jupyter notebook:\n",
    "# If you'd like to actually run the doctests here, you can uncomment the lines below.\n",
    "# We use this slightly more complex method to test only the add_ingredient function,\n",
    "# without running tests on any other functions that may be in this notebook.\n",
    "\n",
    "#import doctest\n",
    "#doctest.run_docstring_examples(add_ingredient, globals())\n",
    "add_ingredient([\"burger\", \"salad\", \"ice cream\"], \"kale\")"
   ]
  },
  {
   "cell_type": "code",
   "execution_count": null,
   "metadata": {
    "collapsed": false
   },
   "outputs": [],
   "source": [
    "def add_ingredient(menu, ingredient):\n",
    "    \"\"\"\n",
    "    Given a list of string 'menu' items and a trendy 'ingredient' string of the day,\n",
    "    return a new menu list of strings with the ingredient added to each.\n",
    "    \n",
    "    >>> add_ingredient([\"burger\", \"salad\", \"ice cream\"], \"kale\")\n",
    "    ['burger with kale', 'salad with kale', 'ice cream with kale']\n",
    "    \"\"\"\n",
    "    for i in range(len(menu)):\n",
    "        menu[i]+= ' with ' + ingredient\n",
    "    return menu\n",
    "# Running doctests in jupyter notebook:\n",
    "# If you'd like to actually run the doctests here, you can uncomment the lines below.\n",
    "# We use this slightly more complex method to test only the add_ingredient function,\n",
    "# without running tests on any other functions that may be in this notebook.\n",
    "\n",
    "import doctest\n",
    "doctest.run_docstring_examples(add_ingredient, globals())"
   ]
  },
  {
   "cell_type": "code",
   "execution_count": 40,
   "metadata": {
    "collapsed": false
   },
   "outputs": [],
   "source": [
    "def add_ingredient(menu, ingredient):\n",
    "    \"\"\"\n",
    "    Given a list of string 'menu' items and a trendy 'ingredient' string of the day,\n",
    "    return a new menu list of strings with the ingredient added to each.\n",
    "    \n",
    "    >>> add_ingredient([\"burger\", \"salad\", \"ice cream\"], \"kale\")\n",
    "    ['burger with kale', 'salad with kale', 'ice cream with kale']\n",
    "    \n",
    "    \"\"\"\n",
    "    newMenu = menu[:] # Don't change the inital menu\n",
    "    for idx in range(len(newMenu)):\n",
    "        newMenu[idx] = newMenu[idx] + ' with ' + ingredient\n",
    "    return newMenu\n",
    "        \n",
    "\n",
    "# Running doctests in jupyter notebook:\n",
    "# If you'd like to actually run the doctests here, you can uncomment the lines below.\n",
    "# We use this slightly more complex method to test only the add_ingredient function,\n",
    "# without running tests on any other functions that may be in this notebook.\n",
    "\n",
    "import doctest\n",
    "doctest.run_docstring_examples(add_ingredient, globals())"
   ]
  },
  {
   "cell_type": "code",
   "execution_count": 23,
   "metadata": {
    "collapsed": false
   },
   "outputs": [],
   "source": [
    "def add_ingredient(menu, ingredient):\n",
    "    \"\"\"\n",
    "    Given a list of string 'menu' items and a trendy 'ingredient' string of the day,\n",
    "    return a new menu list of strings with the ingredient added to each.\n",
    "    \n",
    "    >>> add_ingredient([\"burger\", \"salad\", \"ice cream\"], \"kale\")\n",
    "    ['burger with kale', 'salad with kale', 'ice cream with kale']\n",
    "    \n",
    "    \"\"\"\n",
    "    new_menu = [] #empty list to be appended with new menu\n",
    "    for item in menu:\n",
    "        new_menu.append(item + ' with ' + ingredient)\n",
    "    return new_menu\n",
    "    # TODO: Implement me\n",
    "\n",
    "# Running doctests in jupyter notebook:\n",
    "# If you'd like to actually run the doctests here, you can uncomment the lines below.\n",
    "# We use this slightly more complex method to test only the add_ingredient function,\n",
    "# without running tests on any other functions that may be in this notebook.\n",
    "\n",
    "import doctest\n",
    "doctest.run_docstring_examples(add_ingredient, globals())"
   ]
  },
  {
   "cell_type": "code",
   "execution_count": 61,
   "metadata": {
    "collapsed": false
   },
   "outputs": [],
   "source": [
    "def combine(item1, item2):\n",
    "    return item1 + \" with \" + item2\n",
    "\n",
    "def add_ingredient(menu, ingredient):\n",
    "    \"\"\"\n",
    "    Given a list of string 'menu' items and a trendy 'ingredient' string of the day,\n",
    "    return a new menu list of strings with the ingredient added to each.\n",
    "    \n",
    "    >>> add_ingredient([\"burger\", \"salad\", \"ice cream\"], \"kale\")\n",
    "    ['burger with kale', 'salad with kale', 'ice cream with kale']\n",
    "    \n",
    "    \"\"\"\n",
    "    map(combine, menu, ingredient)\n",
    "\n",
    "# Running doctests in jupyter notebook:\n",
    "# If you'd like to actually run the doctests here, you can uncomment the lines below.\n",
    "# We use this slightly more complex method to test only the add_ingredient function,\n",
    "# without running tests on any other functions that may be in this notebook.\n",
    "\n",
    "#import doctest\n",
    "#doctest.run_docstring_examples(add_ingredient, globals())"
   ]
  },
  {
   "cell_type": "code",
   "execution_count": 17,
   "metadata": {
    "collapsed": false
   },
   "outputs": [],
   "source": [
    "def add_ingredient(menu, ingredient):\n",
    "    \"\"\"\n",
    "    Given a list of string 'menu' items and a trendy 'ingredient' string of the day,\n",
    "    return a new menu list of strings with the ingredient added to each.\n",
    "    \n",
    "    >>> add_ingredient([\"burger\", \"salad\", \"ice cream\"], \"kale\")\n",
    "    ['burger with kale', 'salad with kale', 'ice cream with kale']\n",
    "    \n",
    "    \"\"\"\n",
    "    for index in range(len(menu)):\n",
    "        menu[index] += ' with ' + ingredient\n",
    "    return menu\n",
    "# Running doctests in jupyter notebook:\n",
    "# If you'd like to actually run the doctests here, you can uncomment the lines below.\n",
    "# We use this slightly more complex method to test only the add_ingredient function,\n",
    "# without running tests on any other functions that may be in this notebook.\n",
    "\n",
    "import doctest\n",
    "doctest.run_docstring_examples(add_ingredient, globals())"
   ]
  },
  {
   "cell_type": "code",
   "execution_count": 97,
   "metadata": {
    "collapsed": false
   },
   "outputs": [
    {
     "data": {
      "text/plain": [
       "['House omlette with fresh fruit',\n",
       " 'Buttermilk pancakes with fresh fruit',\n",
       " 'French toast with fresh fruit',\n",
       " 'Oatmeal with fresh fruit']"
      ]
     },
     "execution_count": 97,
     "metadata": {},
     "output_type": "execute_result"
    }
   ],
   "source": [
    "def add_ingredient(menu, ingredient):\n",
    "    \"\"\"\n",
    "    Given a list of string 'menu' items and a trendy 'ingredient' string of the day,\n",
    "    return a new menu list of strings with the ingredient added to each.\n",
    "    \n",
    "    >>> add_ingredient([\"burger\", \"salad\", \"ice cream\"], \"kale\")\n",
    "    ['burger with kale', 'salad with kale', 'ice cream with kale']\n",
    "    \n",
    "    \"\"\"\n",
    "    #pass    # TODO: Implement me\n",
    "    i = 0\n",
    "    while i < len(menu):\n",
    "        menu[i] += ' with ' + ingredient\n",
    "        i+=1\n",
    "    return menu\n",
    "\n",
    "menu = [\"House omlette\", \"Buttermilk pancakes\", \"French toast\", \"Oatmeal\"]\n",
    "ingredient = 'fresh fruit'  \n",
    "add_ingredient(menu, ingredient)\n",
    "    \n",
    "# Running doctests in jupyter notebook:\n",
    "# If you'd like to actually run the doctests here, you can uncomment the lines below.\n",
    "# We use this slightly more complex method to test only the add_ingredient function,\n",
    "# without running tests on any other functions that may be in this notebook.\n",
    "\n",
    "#import doctest\n",
    "#doctest.run_docstring_examples(add_ingredient, globals())"
   ]
  },
  {
   "cell_type": "code",
   "execution_count": 83,
   "metadata": {
    "collapsed": false
   },
   "outputs": [],
   "source": [
    "def add_ingredient(menu, ingredient):\n",
    "    new_food = []\n",
    "    for i in range(len(menu)):\n",
    "        food = menu[i]\n",
    "        new_food.append(food + ' ' + ingredient)\n",
    "    return new_food\n",
    "\n",
    "\n",
    "\n",
    "add_ingredient([\"burger\", \"salad\", \"ice cream\"], \"du jour\")\n",
    "\n",
    "    \n",
    "    \n",
    "\n",
    "\n",
    "# Running doctests in jupyter notebook:\n",
    "# If you'd like to actually run the doctests here, you can uncomment the lines below.\n",
    "# We use this slightly more complex method to test only the add_ingredient function,\n",
    "# without running tests on any other functions that may be in this notebook.\n",
    "\n",
    "import doctest\n",
    "doctest.run_docstring_examples(add_ingredient, globals())"
   ]
  },
  {
   "cell_type": "code",
   "execution_count": 76,
   "metadata": {
    "collapsed": false
   },
   "outputs": [],
   "source": [
    "def add_ingredient(menu, ingredient):\n",
    "    \"\"\"\n",
    "    Given a list of string 'menu' items and a trendy 'ingredient' string of the day,\n",
    "    return a new menu list of strings with the ingredient added to each.\n",
    "    \n",
    "    >>> add_ingredient([\"burger\", \"salad\", \"ice cream\"], \"kale\")\n",
    "    ['burger with kale', 'salad with kale', 'ice cream with kale']\n",
    "    \n",
    "    \"\"\"\n",
    "    for x in range(len(menu)):\n",
    "        menu[x]+= ' with ' + ingredient\n",
    "    return menu\n",
    "    \n",
    "# Running doctests in jupyter notebook:\n",
    "# If you'd like to actually run the doctests here, you can uncomment the lines below.\n",
    "# We use this slightly more complex method to test only the add_ingredient function,\n",
    "# without running tests on any other functions that may be in this notebook.\n",
    "\n",
    "import doctest\n",
    "doctest.run_docstring_examples(add_ingredient, globals())"
   ]
  },
  {
   "cell_type": "code",
   "execution_count": 87,
   "metadata": {
    "collapsed": false
   },
   "outputs": [],
   "source": [
    "def add_ingredient(menu, ingredient):\n",
    "    \"\"\"\n",
    "    Given a list of string 'menu' items and a trendy 'ingredient' string of the day,\n",
    "    return a new menu list of strings with the ingredient added to each.\n",
    "    \n",
    "    >>> add_ingredient([\"burger\", \"salad\", \"ice cream\"], \"kale\")\n",
    "    ['burger with kale', 'salad with kale', 'ice cream with kale']\n",
    "    \n",
    "    \"\"\"\n",
    "    new_menu = []\n",
    "    for x in range(len(menu)):\n",
    "        new_menu.append(menu[x] + ' with ' + ingredient)\n",
    "        \n",
    "    return new_menu\n",
    "    \n",
    "    pass    # TODO: Implement me\n",
    "\n",
    "# Running doctests in jupyter notebook:\n",
    "# If you'd like to actually run the doctests here, you can uncomment the lines below.\n",
    "# We use this slightly more complex method to test only the add_ingredient function,\n",
    "# without running tests on any other functions that may be in this notebook.\n",
    "\n",
    "import doctest\n",
    "doctest.run_docstring_examples(add_ingredient, globals())"
   ]
  },
  {
   "cell_type": "code",
   "execution_count": 6,
   "metadata": {
    "collapsed": false
   },
   "outputs": [
    {
     "data": {
      "text/plain": [
       "['burger with kale', 'salad with kale', 'ice cream with kale']"
      ]
     },
     "execution_count": 6,
     "metadata": {},
     "output_type": "execute_result"
    }
   ],
   "source": [
    "def add_ingredient(menu, ingredient):\n",
    "    for i in range(len(menu)):\n",
    "        menu[i] = menu[i] + ' with ' + ingredient\n",
    "    return menu\n",
    "\n",
    "#add_ingredient([\"burger\", \"salad\", \"ice cream\"], \"kale\")\n",
    "\n",
    ">>> add_ingredient([\"burger\", \"salad\", \"ice cream\"], \"kale\")\n",
    "['burger with kale', 'salad with kale', 'ice cream with kale']\n",
    "    pass    # TODO: Implement me\n",
    "\n",
    "import doctest\n",
    "doctest.run_docstring_examples(add_ingredient, globals())"
   ]
  },
  {
   "cell_type": "code",
   "execution_count": 20,
   "metadata": {
    "collapsed": false
   },
   "outputs": [],
   "source": [
    "menu = [\"burger\", \"salad\", \"ice cream\"]\n",
    "ingredient = \"kale\"\n",
    "def add_ingredient(menu, ingredient):\n",
    "    \"\"\"\n",
    "    Given a list of string 'menu' items and a trendy 'ingredient' string of the day,\n",
    "    return a new menu list of strings with the ingredient added to each.\n",
    "    \n",
    "    >>> add_ingredient([\"burger\", \"salad\", \"ice cream\"], \"kale\")\n",
    "    ['burger with kale', 'salad with kale', 'ice cream with kale']\n",
    "    \n",
    "    \"\"\"\n",
    "    for i in range (len(menu)):\n",
    "        menu[i] = menu[i] + ' with ' + ingredient\n",
    "    return menu    \n",
    "\n",
    "# Running doctests in jupyter notebook:\n",
    "# If you'd like to actually run the doctests here, you can uncomment the lines below.\n",
    "# We use this slightly more complex method to test only the add_ingredient function,\n",
    "# without running tests on any other functions that may be in this notebook.\n",
    "\n",
    "import doctest\n",
    "doctest.run_docstring_examples(add_ingredient, globals())"
   ]
  },
  {
   "cell_type": "code",
   "execution_count": 117,
   "metadata": {
    "collapsed": false
   },
   "outputs": [
    {
     "name": "stdout",
     "output_type": "stream",
     "text": [
      "['burger with kale', 'salad with kale', 'ice cream with kale']\n"
     ]
    }
   ],
   "source": [
    "def add_ingredient(menu, ingredient):\n",
    "    \"\"\"\n",
    "    Given a list of string 'menu' items and a trendy 'ingredient' string of the day,\n",
    "    return a new menu list of strings with the ingredient added to each.\n",
    "    \n",
    "    >>> add_ingredient([\"burger\", \"salad\", \"ice cream\"], \"kale\")\n",
    "    ['burger with kale', 'salad with kale', 'ice cream with kale']\n",
    "    \"\"\"\n",
    "    new_list=[s + ' with ' + ingredient for s in menu]\n",
    "\n",
    "    print new_list\n",
    "\n",
    "add_ingredient([\"burger\", \"salad\", \"ice cream\"], \"kale\")\n",
    "\n",
    "# Running doctests in jupyter notebook:\n",
    "# If you'd like to actually run the doctests here, you can uncomment the lines below.\n",
    "# We use this slightly more complex method to test only the add_ingredient function,\n",
    "# without running tests on any other functions that may be in this notebook.\n",
    "\n",
    "import doctest\n",
    "doctest.run_docstring_examples(add_ingredient, globals())"
   ]
  },
  {
   "cell_type": "code",
   "execution_count": 43,
   "metadata": {
    "collapsed": false
   },
   "outputs": [],
   "source": [
    "def add_ingredient(menu, ingredient):\n",
    "    \"\"\"\n",
    "    Given a list of string 'menu' items and a trendy 'ingredient' string of the day,\n",
    "    return a new menu list of strings with the ingredient added to each.\n",
    "    \n",
    "    >>> add_ingredient([\"burger\", \"salad\", \"ice cream\"], \"kale\")\n",
    "    ['burger with kale', 'salad with kale', 'ice cream with kale']\n",
    "    \n",
    "    \"\"\"\n",
    "    #new_menu = []\n",
    "    #for item in menu:\n",
    "    #    new_menu.append(\"{0} with {1}\".format(item,ingredient))\n",
    "    #return new_menu\n",
    "    \n",
    "    return [\"{0} with {1}\".format(item,ingredient) for item in menu]\n",
    "    #This is surprisingly comprehensible for a list comprehension\n",
    "    #It bugs me how incomprehensible list comprehensions tend to be\n",
    "    #Go figure\n",
    "\n",
    "import doctest\n",
    "doctest.run_docstring_examples(add_ingredient, globals())"
   ]
  },
  {
   "cell_type": "code",
   "execution_count": 38,
   "metadata": {
    "collapsed": false
   },
   "outputs": [],
   "source": [
    "def add_ingredient(menu, ingredient):\n",
    "    \"\"\"\n",
    "    Given a list of string 'menu' items and a trendy 'ingredient' string of the day,\n",
    "    return a new menu list of strings with the ingredient added to each.\n",
    "    \n",
    "    >>> add_ingredient([\"burger\", \"salad\", \"ice cream\"], \"kale\")\n",
    "    ['burger with kale', 'salad with kale', 'ice cream with kale']\n",
    "    \n",
    "    \"\"\"\n",
    "    new_menu = []\n",
    "    \n",
    "    for i in menu:\n",
    "        new_menu.append(i + \" with \" + ingredient)\n",
    "    \n",
    "    print new_menu\n",
    "    pass# TODO: Implement me\n",
    "\n",
    "# Running doctests in jupyter notebook:\n",
    "# If you'd like to actually run the doctests here, you can uncomment the lines below.\n",
    "# We use this slightly more complex method to test only the add_ingredient function,\n",
    "# without running tests on any other functions that may be in this notebook.\n",
    "\n",
    "import doctest\n",
    "doctest.run_docstring_examples(add_ingredient, globals())"
   ]
  },
  {
   "cell_type": "code",
   "execution_count": 26,
   "metadata": {
    "collapsed": false
   },
   "outputs": [
    {
     "data": {
      "text/plain": [
       "['burger with kale', 'salad with kale', 'ice cream with kale']"
      ]
     },
     "execution_count": 26,
     "metadata": {},
     "output_type": "execute_result"
    }
   ],
   "source": [
    "def add_ingredient(menu, ingredient):\n",
    "    \"\"\"\n",
    "    Given a list of string 'menu' items and a trendy 'ingredient' string of the day,\n",
    "    return a new menu list of strings with the ingredient added to each.\n",
    "    \n",
    "    >>> add_ingredient([\"burger\", \"salad\", \"ice cream\"], \"kale\")\n",
    "    ['burger with kale', 'salad with kale', 'ice cream with kale']\n",
    "    \n",
    "    \"\"\"\n",
    "    stuff = []\n",
    "    for x in menu:\n",
    "        x = x + ' with ' + ingredient\n",
    "        stuff.append(x)\n",
    "    return stuff\n",
    "\n",
    "# Running doctests in jupyter notebook:\n",
    "# If you'd like to actually run the doctests here, you can uncomment the lines below.\n",
    "# We use this slightly more complex method to test only the add_ingredient function,\n",
    "# without running tests on any other functions that may be in this notebook.\n",
    "\n",
    "import doctest\n",
    "doctest.run_docstring_examples(add_ingredient, globals())\n",
    "add_ingredient([\"burger\", \"salad\", \"ice cream\"], \"kale\")"
   ]
  },
  {
   "cell_type": "code",
   "execution_count": 47,
   "metadata": {
    "collapsed": false
   },
   "outputs": [
    {
     "data": {
      "text/plain": [
       "['burger with kale', 'salad with kale', 'ice cream with kale']"
      ]
     },
     "execution_count": 47,
     "metadata": {},
     "output_type": "execute_result"
    }
   ],
   "source": [
    "menu = ['burger', 'salad', 'ice cream']\n",
    "ingredient = 'kale'\n",
    "def add_ingredient(menu,ingredient):\n",
    "    index = 0\n",
    "    while index < len(menu):\n",
    "        menu[index] = menu[index]+' with '+ingredient\n",
    "        index = index + 1\n",
    "    return menu\n",
    "add_ingredient(menu,ingredient)\n",
    "\n",
    "    \n",
    "\n",
    "# Running doctests in jupyter notebook:\n",
    "# If you'd like to actually run the doctests here, you can uncomment the lines below.\n",
    "# We use this slightly more complex method to test only the add_ingredient function,\n",
    "# without running tests on any other functions that may be in this notebook.\n",
    "\n",
    "#import doctest\n",
    "#doctest.run_docstring_examples(add_ingredient, globals())"
   ]
  },
  {
   "cell_type": "code",
   "execution_count": 33,
   "metadata": {
    "collapsed": false
   },
   "outputs": [
    {
     "name": "stdout",
     "output_type": "stream",
     "text": [
      "['burger with kale', 'salad with kale', 'ice cream with kale']\n"
     ]
    }
   ],
   "source": [
    "def add_ingredient(menu, ingredient):\n",
    "    \"\"\"\n",
    "    Given a list of string 'menu' items and a trendy 'ingredient' string of the day,\n",
    "    return a new menu list of strings with the ingredient added to each.\n",
    "    \n",
    "    >>> add_ingredient([\"burger\", \"salad\", \"ice cream\"], \"kale\")\n",
    "    ['burger with kale', 'salad with kale', 'ice cream with kale']\n",
    "    \n",
    "    \"\"\"\n",
    "    string = ''\n",
    "    my_list = []\n",
    "    for item in menu:\n",
    "        new_item = item + ' with ' + ingredient\n",
    "        item2 = [new_item]\n",
    "        my_list = my_list + item2 \n",
    "    print my_list\n",
    "\n",
    "    pass    # TODO: Implement me\n",
    "\n",
    "# Running doctests in jupyter notebook:\n",
    "# If you'd like to actually run the doctests here, you can uncomment the lines below.\n",
    "# We use this slightly more complex method to test only the add_ingredient function,\n",
    "# without running tests on any other functions that may be in this notebook.\n",
    "\n",
    "#import doctest\n",
    "#doctest.run_docstring_examples(add_ingredient, globals())\n",
    "\n",
    "add_ingredient(['burger', 'salad', 'ice cream'], 'kale')\n"
   ]
  },
  {
   "cell_type": "code",
   "execution_count": 88,
   "metadata": {
    "collapsed": false
   },
   "outputs": [],
   "source": [
    "def add_ingredient(menu, ingredient):\n",
    "    \"\"\"\n",
    "    Given a list of string 'menu' items and a trendy 'ingredient' string of the day,\n",
    "    return a new menu list of strings with the ingredient added to each.\n",
    "    \n",
    "    >>> add_ingredient([\"burger\", \"salad\", \"ice cream\"], \"kale\")\n",
    "    ['burger with kale', 'salad with kale', 'ice cream with kale']\n",
    "    \n",
    "    \"\"\"\n",
    "    for item in range(len(menu)):\n",
    "        menu[item] += ' with ' + ingredient\n",
    "    return menu\n",
    "    \n",
    "\n",
    "# Running doctests in jupyter notebook:\n",
    "# If you'd like to actually run the doctests here, you can uncomment the lines below.\n",
    "# We use this slightly more complex method to test only the add_ingredient function,\n",
    "# without running tests on any other functions that may be in this notebook.\n",
    "\n",
    "import doctest\n",
    "doctest.run_docstring_examples(add_ingredient, globals())"
   ]
  },
  {
   "cell_type": "code",
   "execution_count": 55,
   "metadata": {
    "collapsed": false
   },
   "outputs": [],
   "source": [
    "def add_ingredient(menu, ingredient):\n",
    "    \"\"\"\n",
    "    Given a list of string 'menu' items and a trendy 'ingredient' string of the day,\n",
    "    return a new menu list of strings with the ingredient added to each.\n",
    "    \n",
    "    >>> add_ingredient([\"burger\", \"salad\", \"ice cream\"], \"kale\")\n",
    "    ['burger with kale', 'salad with kale', 'ice cream with kale']\n",
    "    \n",
    "    \"\"\"\n",
    "    new_menu = []\n",
    "    for item in menu:\n",
    "        new_item = item + ' with ' + ingredient\n",
    "        new_menu.append(new_item)\n",
    "    return new_menu\n",
    "\n",
    "# Running doctests in jupyter notebook:\n",
    "# If you'd like to actually run the doctests here, you can uncomment the lines below.\n",
    "# We use this slightly more complex method to test only the add_ingredient function,\n",
    "# without running tests on any other functions that may be in this notebook.\n",
    "\n",
    "import doctest\n",
    "doctest.run_docstring_examples(add_ingredient, globals())"
   ]
  },
  {
   "cell_type": "code",
   "execution_count": 60,
   "metadata": {
    "collapsed": false
   },
   "outputs": [
    {
     "name": "stdout",
     "output_type": "stream",
     "text": [
      "**********************************************************************\n",
      "File \"__main__\", line 7, in NoName\n",
      "Failed example:\n",
      "    add_ingredient([\"burger\", \"salad\", \"ice cream\"], \"kale\")\n",
      "Expected:\n",
      "    ['burger with kale', 'salad with kale', 'ice cream with kale']\n",
      "Got nothing\n"
     ]
    }
   ],
   "source": [
    "def add_ingredient(menu, ingredient):\n",
    "    \n",
    "    \"\"\"\n",
    "    Given a list of string 'menu' items and a trendy 'ingredient' string of the day,\n",
    "    return a new menu list of strings with the ingredient added to each.\n",
    "    \n",
    "    >>> add_ingredient([\"burger\", \"salad\", \"ice cream\"], \"kale\")\n",
    "    ['burger with kale', 'salad with kale', 'ice cream with kale']\n",
    "    \n",
    "    \"\"\"\n",
    "    pass    # TODO: Implement me\n",
    "\n",
    "# Running doctests in jupyter notebook:\n",
    "# If you'd like to actually run the doctests here, you can uncomment the lines below.\n",
    "# We use this slightly more complex method to test only the add_ingredient function,\n",
    "# without running tests on any other functions that may be in this notebook.\n",
    "\n",
    "import doctest\n",
    "doctest.run_docstring_examples(add_ingredient, globals())"
   ]
  },
  {
   "cell_type": "code",
   "execution_count": 27,
   "metadata": {
    "collapsed": false
   },
   "outputs": [
    {
     "name": "stdout",
     "output_type": "stream",
     "text": [
      "['burger with kale', 'salad with kale', 'ice cream with kale']\n"
     ]
    }
   ],
   "source": [
    "def add_ingredient(menu, ingredient):\n",
    "    \"\"\"\n",
    "    Given a list of string 'menu' items and a trendy 'ingredient' string of the day,\n",
    "    return a new menu list of strings with the ingredient added to each.\n",
    "    \n",
    "    >>> add_ingredient([\"burger\", \"salad\", \"ice cream\"], \"kale\")\n",
    "    ['burger with kale', 'salad with kale', 'ice cream with kale']\n",
    "    \n",
    "    \"\"\"\n",
    "    newMenu = []\n",
    "    for item in menu:\n",
    "        newMenu.append(item + \" with \" + ingredient)\n",
    "    return newMenu\n",
    "    \n",
    "print add_ingredient([\"burger\", \"salad\", \"ice cream\"], \"kale\")\n",
    "# Running doctests in jupyter notebook:\n",
    "# If you'd like to actually run the doctests here, you can uncomment the lines below.\n",
    "# We use this slightly more complex method to test only the add_ingredient function,\n",
    "# without running tests on any other functions that may be in this notebook.\n",
    "\n",
    "#import doctest\n",
    "#doctest.run_docstring_examples(add_ingredient, globals())"
   ]
  },
  {
   "cell_type": "code",
   "execution_count": 18,
   "metadata": {
    "collapsed": false
   },
   "outputs": [],
   "source": [
    "def add_ingredient(menu, ingredient):\n",
    "    \"\"\"\n",
    "    Given a list of string 'menu' items and a trendy 'ingredient' string of the day,\n",
    "    return a new menu list of strings with the ingredient added to each.\n",
    "    \n",
    "    >>> add_ingredient([\"burger\", \"salad\", \"ice cream\"], \"kale\")\n",
    "    ['burger with kale', 'salad with kale', 'ice cream with kale']\n",
    "    \n",
    "    \"\"\"\n",
    "    newMenu = [i+\" with \"+ingredient for i in menu]\n",
    "    return newMenu\n",
    "\n",
    "# Running doctests in jupyter notebook:\n",
    "# If you'd like to actually run the doctests here, you can uncomment the lines below.\n",
    "# We use this slightly more complex method to test only the add_ingredient function,\n",
    "# without running tests on any other functions that may be in this notebook.\n",
    "\n",
    "import doctest\n",
    "doctest.run_docstring_examples(add_ingredient, globals())"
   ]
  },
  {
   "cell_type": "code",
   "execution_count": 91,
   "metadata": {
    "collapsed": false
   },
   "outputs": [],
   "source": [
    "def add_ingredient(menu, ingredient):\n",
    "    \"\"\"\n",
    "    Given a list of string 'menu' items and a trendy 'ingredient' string of the day,\n",
    "    return a new menu list of strings with the ingredient added to each.\n",
    "    \n",
    "    >>> add_ingredient([\"burger\", \"salad\", \"ice cream\"], \"kale\")\n",
    "    ['burger with kale', 'salad with kale', 'ice cream with kale']\n",
    "    \n",
    "    \"\"\"\n",
    "    for i in xrange(len(menu)):\n",
    "        menu[i-1] += \" with \" + ingredient\n",
    "    return menu\n",
    "\n",
    "\n",
    "        \n",
    "    \n",
    "    \n",
    "# Running doctests in jupyter notebook:\n",
    "# If you'd like to actually run the doctests here, you can uncomment the lines below.\n",
    "# We use this slightly more complex method to test only the add_ingredient function,\n",
    "# without running tests on any other functions that may be in this notebook.\n",
    "\n",
    "import doctest\n",
    "doctest.run_docstring_examples(add_ingredient, globals())"
   ]
  },
  {
   "cell_type": "code",
   "execution_count": 133,
   "metadata": {
    "collapsed": false
   },
   "outputs": [],
   "source": [
    "def add_ingredient(menu, ingredient):\n",
    "    \"\"\"\n",
    "    Given a list of string 'menu' items and a trendy 'ingredient' string of the day,\n",
    "    return a new menu list of strings with the ingredient added to each.\n",
    "    \n",
    "    >>> add_ingredient([\"burger\", \"salad\", \"ice cream\"], \"kale\")\n",
    "    ['burger with kale', 'salad with kale', 'ice cream with kale']\n",
    "    \n",
    "    \"\"\"\n",
    "    list = []\n",
    "    for dish in menu:\n",
    "        list.append(dish + ' with ' + ingredient)\n",
    "    return list\n",
    "# Running doctests in jupyter notebook:\n",
    "# If you'd like to actually run the doctests here, you can uncomment the lines below.\n",
    "# We use this slightly more complex method to test only the add_ingredient function,\n",
    "# without running tests on any other functions that may be in this notebook.\n",
    "\n",
    "import doctest\n",
    "doctest.run_docstring_examples(add_ingredient, globals())"
   ]
  },
  {
   "cell_type": "code",
   "execution_count": 40,
   "metadata": {
    "collapsed": false
   },
   "outputs": [
    {
     "name": "stdout",
     "output_type": "stream",
     "text": [
      "['burger with kale', 'salad with kale', 'ice cream with kale']\n"
     ]
    }
   ],
   "source": [
    "def add_ingredient(menu, ingredient):\n",
    "    new_menu = menu\n",
    "    i = 0\n",
    "    while i < len(new_menu):\n",
    "        new_menu[i] = new_menu[i] + \" with \" + ingredient\n",
    "        i += 1\n",
    "    return new_menu\n",
    "\n",
    "print(add_ingredient([\"burger\", \"salad\", \"ice cream\"], \"kale\"))"
   ]
  },
  {
   "cell_type": "code",
   "execution_count": null,
   "metadata": {
    "collapsed": false
   },
   "outputs": [],
   "source": [
    "def add_ingredient(menu, ingredient):\n",
    "    newMenu = []\n",
    "    for x in menu:\n",
    "        newMenu.append(x + \" with kale\")\n",
    "    return newMenu\n",
    "\n",
    "print add_ingredient([\"burger\", \"salad\", \"ice cream\"], \"kale\")"
   ]
  },
  {
   "cell_type": "code",
   "execution_count": 14,
   "metadata": {
    "collapsed": false
   },
   "outputs": [
    {
     "data": {
      "text/plain": [
       "['cholesterol on a stick',\n",
       " 'diabetes on a stick',\n",
       " 'heart disease on a stick',\n",
       " 'cancer on a stick']"
      ]
     },
     "execution_count": 14,
     "metadata": {},
     "output_type": "execute_result"
    }
   ],
   "source": [
    "def add_ingredient(menu, ingredient):\n",
    "    \"\"\"\n",
    "    Given a list of string 'menu' items and a trendy 'ingredient' string of the day,\n",
    "    return a new menu list of strings with the ingredient added to each.\n",
    "    \n",
    "    >>> add_ingredient([\"burger\", \"salad\", \"ice cream\"], \"kale\")\n",
    "    ['burger with kale', 'salad with kale', 'ice cream with kale']\n",
    "    \n",
    "    \"\"\"\n",
    "    i = 0\n",
    "    for i in range(0, len(menu)):\n",
    "        menu[i] = menu[i] + ingredient\n",
    "    i = i + 1\n",
    "    return menu\n",
    "    \n",
    "add_ingredient([ \"cholesterol\", \"diabetes\", \"heart disease\", \"cancer\"], \" on a stick\")\n",
    "    \n",
    "\n",
    "# Running doctests in jupyter notebook:\n",
    "# If you'd like to actually run the doctests here, you can uncomment the lines below.\n",
    "# We use this slightly more complex method to test only the add_ingredient function,\n",
    "# without running tests on any other functions that may be in this notebook.\n",
    "\n",
    "#import doctest\n",
    "#doctest.run_docstring_examples(add_ingredient, globals())"
   ]
  },
  {
   "cell_type": "markdown",
   "metadata": {},
   "source": [
    "## Reading Journal feedback\n",
    "\n",
    "Have any comments on this Reading Journal? Feel free to leave them below and we'll read them when you submit your journal entry. This could include suggestions to improve the exercises, topics you'd like to see covered in class next time, or other feedback.\n",
    "\n",
    "If you have Python questions or run into problems while completing the reading, you should post them to Piazza instead so you can get a quick response before your journal is submitted."
   ]
  },
  {
   "cell_type": "markdown",
   "metadata": {},
   "source": [
    "All good! Excited to try this stuff out on geneproject. "
   ]
  },
  {
   "cell_type": "markdown",
   "metadata": {},
   "source": [
    "This exercise set seemed relatively simple, but super useful! I learned a lot from finding the errors in the any_lowercase functions."
   ]
  },
  {
   "cell_type": "markdown",
   "metadata": {},
   "source": [
    "I thought this one was pretty straightforward. Although, I'm a little confused as to why we keep skipping around so much. "
   ]
  },
  {
   "cell_type": "markdown",
   "metadata": {},
   "source": [
    "still confused by exercise 11, would appreciate if we could go over that one in depth in class "
   ]
  },
  {
   "cell_type": "markdown",
   "metadata": {},
   "source": [
    "I had a bit too much fun with this, sorry. Boats boats boats. I like messing around with string operations though, and python just has built-in functions for everything, it's kind of ridiculous. I mean, I guess that's the whole pythonic coding style, but still.\n",
    "As for questions/changes, is there actually a way to consistently translate pig latin back into english? I had to write a surprisingly complex function to comprehensively translate into pig latin, and I don't think it's reversible."
   ]
  },
  {
   "cell_type": "markdown",
   "metadata": {},
   "source": [
    "This was all really interesting and great information, but I wish I'd known it before Thursday/Friday when I was able to start on the journal. I had a lot of questions for mini-project 1 that were answered in these readings."
   ]
  }
 ],
 "metadata": {
  "kernelspec": {
   "display_name": "Python 2",
   "language": "python",
   "name": "python2"
  },
  "language_info": {
   "codemirror_mode": {
    "name": "ipython",
    "version": 2
   },
   "file_extension": ".py",
   "mimetype": "text/x-python",
   "name": "python",
   "nbconvert_exporter": "python",
   "pygments_lexer": "ipython2",
   "version": "2.7.6"
  }
 },
 "nbformat": 4,
 "nbformat_minor": 0
}
