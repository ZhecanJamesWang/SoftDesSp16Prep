{
 "cells": [
  {
   "cell_type": "markdown",
   "metadata": {},
   "source": [
    "## Day 7 Reading Journal Debrief\n",
    "\n",
    "High-level comment: we've learned pretty much all of the data types we are going to use in this class.  Pretty much all that is left is to learn how to make our own data types (these are the concepts of object-oriented programming).  If you feel like a lot of knew data types have been thrown at you lately, you are right, but it will get better soon."
   ]
  },
  {
   "cell_type": "markdown",
   "metadata": {},
   "source": [
    "**Quick check:** In about one sentence using your own words, what is a dictionary?"
   ]
  },
  {
   "cell_type": "markdown",
   "metadata": {},
   "source": [
    "### Exercise 2  \n",
    "\n",
    "Dictionaries have a [method called `get`](https://docs.python.org/2/library/stdtypes.html#mapping-types-dict) that takes a key and a default value. If the key appears in the dictionary, `get` returns the corresponding value; otherwise it returns the default value. For example:\n",
    "\n",
    "```\n",
    ">>> h = histogram('a')\n",
    ">>> print h\n",
    "{'a': 1}\n",
    ">>> h.get('a', 0)\n",
    "1\n",
    ">>> h.get('b', 0)\n",
    "0\n",
    "```\n",
    "\n",
    "Use `get` to write `histogram` more concisely. You should be able to eliminate the `if` statement. Add unit tests for your histogram implementation."
   ]
  },
  {
   "cell_type": "code",
   "execution_count": null,
   "metadata": {
    "collapsed": true
   },
   "outputs": [],
   "source": [
    "def histogram2(s): #doesn't work\n",
    "    d = dict()\n",
    "    for c in s:\n",
    "        d.get(c, d[c]) +=1  # i want it to incremement the return value of the existing key, or create a new key and incremement that value...   \n",
    "    print d\n",
    "        \n",
    "        \n",
    "histogram2('banana')"
   ]
  },
  {
   "cell_type": "code",
   "execution_count": null,
   "metadata": {
    "collapsed": true
   },
   "outputs": [],
   "source": [
    "def histogram(s):\n",
    "    \"\"\"\n",
    "    >>> h = histogram('a')\n",
    "    >>> print h\n",
    "    {'a': 1}\n",
    "    >>> h.get('a', 0)\n",
    "    1\n",
    "    >>> h.get('b', 0)\n",
    "    0\n",
    "    \"\"\"\n",
    "    d = dict()\n",
    "    for c in s:\n",
    "        d[c] = d.get(c,1)\n",
    "    return d"
   ]
  },
  {
   "cell_type": "code",
   "execution_count": null,
   "metadata": {
    "collapsed": true
   },
   "outputs": [],
   "source": [
    "def histogram(s):\n",
    "    \"\"\"\n",
    "    >>> print histogram('dino')\n",
    "       # how to determine the order of the letters?\n",
    "    {'d': 1, 'i': 1, 'n': 1, 'o': 1}    \n",
    "    >>> histogram('dino').get('a', 0)\n",
    "    0\n",
    "    >>> histogram('dino').get('n', 0)\n",
    "    1\n",
    "    \n",
    "    \"\"\"\n",
    "    d = dict()\n",
    "    for c in s:\n",
    "            d[c] = 1 + d.get(c,0)\n",
    "    return d"
   ]
  },
  {
   "cell_type": "code",
   "execution_count": null,
   "metadata": {
    "collapsed": true
   },
   "outputs": [],
   "source": [
    "def histogram(s):\n",
    "    ''' maps items in s to their frequency in s as a dicitonary\n",
    "    >>> histogram('banana')\n",
    "    {'a': 3, 'b': 1, 'n': 2}\n",
    "    >>> softdes = ['list comprehensions!']*39 + ['recursion!']*85 + ['truthy statements!']*3\n",
    "    >>> histogram(softdes)\n",
    "    {'truthy statements!': 3, 'recursion!': 85, 'list comprehensions!': 39}\n",
    "    '''\n",
    "    d = dict()\n",
    "    for c in s:\n",
    "        d[c] = d.get(c, 0) + 1\n",
    "    return d\n",
    "\n",
    "import doctest\n",
    "doctest.testmod()"
   ]
  },
  {
   "cell_type": "markdown",
   "metadata": {},
   "source": [
    "### Exercise 4  \n",
    "\n",
    "Modify `reverse_lookup` so that it builds and returns a list of all keys that map to `v`, or an empty list if there are none. Add unit tests for your implementation."
   ]
  },
  {
   "cell_type": "code",
   "execution_count": null,
   "metadata": {
    "collapsed": false
   },
   "outputs": [],
   "source": [
    "def reverse_lookup(d, v):\n",
    "    \"\"\"Function creates list of keys that map to input value\n",
    "    >>> reverse_lookup('boo', 2)\n",
    "    ['o']\n",
    "    >>> reverse_lookup('abbcc', 2)\n",
    "    ['b', 'c']\n",
    "    \"\"\"\n",
    "    \n",
    "    d = histogram(d)\n",
    "    l = list()\n",
    "    for k in d:\n",
    "        if d[k] == v:\n",
    "            l.append(k)\n",
    "    return sorted(l)\n",
    "\n",
    "if __name__ == \"__main__\":\n",
    "    import doctest\n",
    "    doctest.testmod()\n",
    "    \n",
    "reverse_lookup('elephant', 2)"
   ]
  },
  {
   "cell_type": "code",
   "execution_count": null,
   "metadata": {
    "collapsed": true
   },
   "outputs": [],
   "source": [
    "def reverse_lookup(d, v):\n",
    "    \"\"\"\n",
    "    This method utilizes the dictionary and lists to make reverse lookup return a list instead of just one key.\n",
    "    Doctesting to check that it works properly.\n",
    "    \n",
    "    Once again, it appears that dictionary is randomizing the order, so doctesting is hard.\n",
    "    \n",
    "    >>> reverse_lookup({'Im': 1, 'chicken': 1, 'and': 2, 'wut': 3},1)\n",
    "    ['chicken', 'Im']\n",
    "    >>> reverse_lookup({'Im': 2, 'chicken': 2, 'and': 2, 'wut': 3},1)\n",
    "    []\n",
    "    \"\"\"\n",
    "    result = []\n",
    "    for k in d:\n",
    "        if d[k] == v:\n",
    "            result.append(k)\n",
    "    return result\n",
    "\n",
    "import doctest\n",
    "doctest.run_docstring_examples(reverse_lookup,globals(),verbose=True)"
   ]
  },
  {
   "cell_type": "code",
   "execution_count": null,
   "metadata": {
    "collapsed": true
   },
   "outputs": [],
   "source": [
    "def reverse_lookup(d, v):\n",
    "    keys=[]\n",
    "    for k in d:\n",
    "        if d[k] == v:\n",
    "            keys.append(k)\n",
    "    return keys\n",
    "    raise ValueError\n",
    "\n",
    "reverse_lookup(histogram('pparrot'),2)"
   ]
  },
  {
   "cell_type": "code",
   "execution_count": 8,
   "metadata": {
    "collapsed": false
   },
   "outputs": [
    {
     "name": "stdout",
     "output_type": "stream",
     "text": [
      "**********************************************************************\n",
      "File \"__main__\", line 21, in __main__.reverse_lookup\n",
      "Failed example:\n",
      "    reverse_lookup(histogram('hippopotamus'), 1 )\n",
      "Expected:\n",
      "    ['h', 'i', 't', 'a', 'm', 'u', 's']\n",
      "Got:\n",
      "    ['a', 'i', 'h', 'm', 's', 'u', 't']\n",
      "**********************************************************************\n",
      "1 items had failures:\n",
      "   1 of   2 in __main__.reverse_lookup\n",
      "***Test Failed*** 1 failures.\n"
     ]
    }
   ],
   "source": [
    "def histogram(s):\n",
    "    \"\"\"\n",
    "    >>> h = histogram('a')\n",
    "    >>> print h\n",
    "    {'a': 1}\n",
    "    >>> h.get('a', 0)\n",
    "    1\n",
    "    >>> h.get('b', 0)\n",
    "    0\n",
    "    \"\"\"\n",
    "    d = dict()\n",
    "    for c in s:\n",
    "        d[c] = d.get(c,0) + 1\n",
    "    return d\n",
    "\n",
    "def reverse_lookup(d, v):\n",
    "    \"\"\"\n",
    "    >>> reverse_lookup(histogram('hippopotamus'), 3 )\n",
    "    ['p']\n",
    "    \n",
    "    >>> reverse_lookup(histogram('hippopotamus'), 1 )\n",
    "    ['h', 'i', 't', 'a', 'm', 'u', 's']\n",
    "    \n",
    "    \"\"\"\n",
    "    h = []\n",
    "    for k in d:\n",
    "        if d[k] == v:\n",
    "            h.append(k) \n",
    "    return h\n",
    "    raise ValueError\n",
    "    \n",
    "\n",
    "if __name__ == \"__main__\":\n",
    "    import doctest\n",
    "    doctest.testmod()"
   ]
  },
  {
   "cell_type": "markdown",
   "metadata": {},
   "source": [
    "**Quick check** What type of objects can be used as keys to a dictionary, i.e. what property must they have?"
   ]
  },
  {
   "cell_type": "markdown",
   "metadata": {},
   "source": [
    "### Exercise 6 (modified)\n",
    "\n",
    "Create a memoized version of your Levenshtein distance function from Day 7. What kind of performance change do you see?\n",
    "\n",
    "Optional: If you'd like to get some quantitative results, you could check out the [timeit](https://docs.python.org/2/library/timeit.html) module\n",
    "\n",
    "Note: You can also study Fibonacci here if you prefer."
   ]
  },
  {
   "cell_type": "code",
   "execution_count": null,
   "metadata": {
    "collapsed": true
   },
   "outputs": [],
   "source": [
    "def lev_memo(a,b,d):\n",
    "    \"\"\"returns the levenshtein distance between two strings a and b\n",
    "    >>> lev_memo('linnea', 'lauren', {})\n",
    "    4\n",
    "    \"\"\"\n",
    "    if b==\"\":\n",
    "        return len(a)\n",
    "    elif a==\"\":\n",
    "        return len(b)\n",
    "    elif (a,b) in d:\n",
    "        return d[(a,b)]\n",
    "    elif a[0]==b[0]:\n",
    "        lev_skip_sub = lev(a[1:],b[1:],d)\n",
    "    else:\n",
    "        lev_skip_sub = 1+lev(a[1:],b[1:],d)\n",
    "    lev_insert = 1+lev(a,b[1:],d)\n",
    "    lev_delete = 1+lev(a[1:],b,d)\n",
    "    minLev = min(lev_skip_sub, lev_insert, lev_delete)\n",
    "    d[(a,b)] = minLev\n",
    "    return minLev\n",
    "\n",
    "print lev_memo('linnea', 'lauren', {})"
   ]
  },
  {
   "cell_type": "markdown",
   "metadata": {},
   "source": [
    "Careful with `k in d.keys()`"
   ]
  },
  {
   "cell_type": "code",
   "execution_count": null,
   "metadata": {
    "collapsed": true
   },
   "outputs": [],
   "source": [
    "dicts = {}\n",
    "\n",
    "def levenshtein_distance(a, b):\n",
    "    if (a,b) in dicts.keys():\n",
    "        return dicts[a,b] \n",
    "    else:\n",
    "        if len(a)==0:\n",
    "            return len(b)\n",
    "        elif len(b)==0:\n",
    "            return len(a)\n",
    "        elif a[0] == b[0]:\n",
    "            option1 = levenshtein_distance(a[1:],b[1:])\n",
    "        else:\n",
    "            option1 = 1 + levenshtein_distance(a[1:],b[1:])\n",
    "        option2 = 1 + levenshtein_distance(a[1:],b)\n",
    "        option3 = 1 + levenshtein_distance(a,b[1:])\n",
    "\n",
    "    minimum = min(option1,option2,option3)\n",
    "\n",
    "    dicts[a,b] = minimum\n",
    "    return minimum\n",
    "\n",
    "print(levenshtein_distance('a','b'))\n",
    "print(levenshtein_distance('ertghjnkml,mbhvcgf','wedfvghhjknbvfdfg'))\n",
    "print(levenshtein_distance('aaabbb','abbb'))"
   ]
  },
  {
   "cell_type": "code",
   "execution_count": null,
   "metadata": {
    "collapsed": true
   },
   "outputs": [],
   "source": [
    "\"\"\" Implements a function that computes the Levenshtein\n",
    "    distance between two strings. \"\"\"\n",
    "\n",
    "def levenshtein_memo(a, b, d):\n",
    "    \"\"\" returns the Levenshtein distance between a and b\n",
    "        >>> d = {}\n",
    "        >>> levenshtein_memo(\"apple\", \"\",d)\n",
    "        5\n",
    "        >>> levenshtein_memo(\"battle\", \"bet\",d)\n",
    "        4\n",
    "        >>> levenshtein_memo(\"beta\", \"pedal\",d)\n",
    "        3\n",
    "        >>> levenshtein_memo(\"kitten\", \"smitten\",d)\n",
    "        2\n",
    "    \"\"\"\n",
    "    if a == \"\":\n",
    "        return len(b)\n",
    "    if b == \"\":\n",
    "        return len(a)\n",
    "    if (len(a),len(b)) in d:\n",
    "        return d[(len(a),len(b))]\n",
    "\n",
    "    # Strategy 1: Change the first character to match\n",
    "    if a[0] == b[0]:\n",
    "        option1 = levenshtein_memo(a[1:], b[1:], d) # First characters already match, so no extra distance\n",
    "        d[(a,b)] = option1\n",
    "    else:\n",
    "        option1 = levenshtein_memo(a[1:], b[1:], d) + 1\n",
    "        d[(a,b)] = option1\n",
    "\n",
    "    # Strategy 2: Drop the first character of b\n",
    "    option2 = 1 + levenshtein_memo(a, b[1:], d)\n",
    "    d[(a,b)] = option2\n",
    "    \n",
    "    # Strategy 3: Drop the first character of a\n",
    "    option3 = 1 + levenshtein_memo(a[1:], b, d)\n",
    "    d[(a,b)] = option3\n",
    "\n",
    "    return min(option1, option2, option3)\n",
    "\n",
    "# Run only if called from command line, not when imported\n",
    "if __name__ == \"__main__\":\n",
    "    import doctest\n",
    "    d ={}\n",
    "    doctest.run_docstring_examples(levenshtein_memo,globals(), verbose=True)"
   ]
  },
  {
   "cell_type": "code",
   "execution_count": null,
   "metadata": {
    "collapsed": true
   },
   "outputs": [],
   "source": [
    "known = {0:0, 1:1}\n",
    "\n",
    "def fibonacci(n):\n",
    "    if n in known:\n",
    "        return known[n]\n",
    "    \n",
    "    res = fibonacci(n-1) + fibonacci(n-2)\n",
    "    known[n] = res\n",
    "    return res\n",
    "\n",
    "import timeit\n",
    "print timeit.timeit('\"-\".join(str(n) for n in range(100))', number=10000)\n",
    "\n",
    "fibonacci(100)\n",
    "\n",
    "# the computation time remained esentailly the same for inputs of 4, 10 and even 100"
   ]
  },
  {
   "cell_type": "code",
   "execution_count": null,
   "metadata": {
    "collapsed": true
   },
   "outputs": [],
   "source": [
    "def levenshtein(s, len_s, t, len_t):\n",
    "    memo = dict()\n",
    "    key = str(len_s) + str(len_t)\n",
    "    cost = 0\n",
    "    if key in memo:\n",
    "        return memo[key]\n",
    "    if len_s == 0:\n",
    "        memo[key] = len_t\n",
    "        return len_t\n",
    "    if len_t == 0:\n",
    "        memo[key] = len_s\n",
    "        return len_s\n",
    "    if s[len_s-1] == t[len_t-1]:\n",
    "        cost = 0\n",
    "    else:\n",
    "        cost = 1\n",
    "        \n",
    "    res =  min(levenshtein(s, len_s-1, t, len_t) + 1,\n",
    "               levenshtein(s, len_s, t, len_t-1) + 1,\n",
    "               levenshtein(s, len_s-1, t, len_t-1) + cost)\n",
    "    memo[key] = res\n",
    "    return res\n",
    "\n",
    "print levenshtein('bill', len('bill'), 'billion', len('billion'))\n",
    "print levenshtein('bill', len('bill'), 'million', len('million'))"
   ]
  },
  {
   "cell_type": "code",
   "execution_count": null,
   "metadata": {
    "collapsed": true
   },
   "outputs": [],
   "source": [
    "known = {0:0, 1:1}\n",
    "\n",
    "def fibonacci(n):\n",
    "    if n in known:\n",
    "        return known[n]\n",
    "\n",
    "    res = fibonacci(n-1) + fibonacci(n-2)\n",
    "    known[n] = res\n",
    "    return res\n",
    "\n",
    "print fibonacci(90) #I followed various n's through python tutor\n",
    "                    #to see how fibonacci computes with the help of a\n",
    "                    #hash table"
   ]
  },
  {
   "cell_type": "markdown",
   "metadata": {},
   "source": [
    "## [Chapter 12](http://www.greenteapress.com/thinkpython/html/thinkpython013.html)\n",
    "\n",
    "**Quick check:** In about one sentence using your own words, what is a tuple?"
   ]
  },
  {
   "cell_type": "markdown",
   "metadata": {},
   "source": [
    "### Exercise\n",
    "\n",
    "Write a function `sort_by_last_letter` that takes a list of words and returns a new list with the words sorted alphabetically by the _last letter_ in the word. Hint: use the **Decorate, Sort, Undecorate** pattern. Write unit tests for your function."
   ]
  },
  {
   "cell_type": "markdown",
   "metadata": {},
   "source": [
    "Great solution!  Notice the cool iteration trick in the second for loop."
   ]
  },
  {
   "cell_type": "code",
   "execution_count": 9,
   "metadata": {
    "collapsed": false
   },
   "outputs": [
    {
     "name": "stdout",
     "output_type": "stream",
     "text": [
      "['world', 'software', 'hi', 'design', 'hello']\n"
     ]
    }
   ],
   "source": [
    "def sort_by_last_letter(words):\n",
    "    t = []\n",
    "    for word in words:\n",
    "        t.append((word[-1],word))\n",
    "    \n",
    "    t.sort()\n",
    "    \n",
    "    res = []\n",
    "    for last_letter, word in t:\n",
    "        res.append(word)\n",
    "    return res\n",
    "\n",
    "print sort_by_last_letter(['hello','world','hi','software','design'])"
   ]
  },
  {
   "cell_type": "markdown",
   "metadata": {},
   "source": [
    "This one uses a slightly different technique for sorting."
   ]
  },
  {
   "cell_type": "code",
   "execution_count": null,
   "metadata": {
    "collapsed": true
   },
   "outputs": [],
   "source": [
    "def sort_by_last_letter(words):\n",
    "    \"\"\"\n",
    "    takes list of words and returns new list with words sorted\n",
    "    alphabetically by last letter in the word\n",
    "    \n",
    "    >>> sort_by_last_letter(['what', 'bat', 'wart'])\n",
    "    ['bat', 'what', 'wart']\n",
    "    \"\"\"\n",
    "    \n",
    "    sort_words = []\n",
    "    for word in words:            \n",
    "        sort_words.append((word[::-1], word))\n",
    "        \n",
    "    sort_words.sort()\n",
    "    \n",
    "    res_words = []\n",
    "    for last_letter, word in sort_words:\n",
    "        res_words.append(word)\n",
    "    return res_words\n",
    "\n",
    "import doctest\n",
    "doctest.run_docstring_examples(sort_by_last_letter, globals())    "
   ]
  },
  {
   "cell_type": "markdown",
   "metadata": {},
   "source": [
    "### Exercise 3  \n",
    "\n",
    "Write a function called `most_frequent` that takes a string and prints the letters in decreasing order of frequency. Find text samples from several different languages and see how letter frequency varies between languages. Compare your results with the tables at http://en.wikipedia.org/wiki/Letter_frequencies. \n",
    "\n",
    "Allen's solution (try it on your own first): http://thinkpython.com/code/most_frequent.py. "
   ]
  },
  {
   "cell_type": "code",
   "execution_count": 10,
   "metadata": {
    "collapsed": false
   },
   "outputs": [
    {
     "name": "stdout",
     "output_type": "stream",
     "text": [
      "['p', 'y', 'h', 'a']\n",
      "['p', 'y', 'i']\n",
      "['l', 'o', 'h', 'e']\n"
     ]
    }
   ],
   "source": [
    "def histogram(s):\n",
    "    d = dict()\n",
    "    for c in s:\n",
    "        d[c] = 1 + d.get(c, 0)\n",
    "    return d\n",
    "\n",
    "def most_frequent(string):\n",
    "    x = histogram(string)\n",
    "    \n",
    "    t = []\n",
    "    for char in x:\n",
    "        t.append((x[char], char))\n",
    "    \n",
    "    t.sort(reverse = True)\n",
    "    \n",
    "    res = []\n",
    "    for freq, char in t:\n",
    "        res.append(char)\n",
    "    \n",
    "    return res\n",
    "    \n",
    "\n",
    "\n",
    "print most_frequent('happy')\n",
    "print most_frequent('pippy')\n",
    "print most_frequent('hello')"
   ]
  },
  {
   "cell_type": "code",
   "execution_count": 12,
   "metadata": {
    "collapsed": false
   },
   "outputs": [
    {
     "name": "stdout",
     "output_type": "stream",
     "text": [
      "Finding tests in NoName\n",
      "Trying:\n",
      "    most_frequent('Im a chicken')\n",
      "Expecting:\n",
      "    i c n m k h e a\n",
      "ok\n",
      "Trying:\n",
      "    most_frequent('')\n",
      "Expecting nothing\n",
      "ok\n",
      "Trying:\n",
      "    most_frequent('abcdefg')\n",
      "Expecting:\n",
      "    g f e d c b a\n",
      "ok\n",
      "\n",
      "i n c a t m k h g e \n",
      "n i e h u s r m \n",
      "o n l i g u t p m e a \n",
      "u t n é p o m l i g e a\n"
     ]
    }
   ],
   "source": [
    "def most_frequent(string):\n",
    "    \"\"\"\n",
    "    This method sorts a string by decreasing order of frequency. It uses both DSU and the get method.\n",
    "    One thing I found I couldn't stop is that if the frequencies are the same, then it will still display the letters in reverse order\n",
    "    \n",
    "    In any case, here are some doctests to show functionality, bigger strings got too complicated to try and figure out.\n",
    "    \n",
    "    >>> most_frequent('Im a chicken')\n",
    "    i c n m k h e a\n",
    "    >>> most_frequent('')\n",
    "    \n",
    "    >>> most_frequent('abcdefg')\n",
    "    g f e d c b a\n",
    "    \"\"\"\n",
    "    string1 = string.replace(\" \", \"\").lower()\n",
    "    d = {}\n",
    "    for letter in string1:\n",
    "        d[letter] = d.get(letter,0) + 1\n",
    "    t = []\n",
    "    for letter in d:\n",
    "        t.append((d[letter],letter))\n",
    "    t.sort(reverse=True)\n",
    "    for freq, letter in t:\n",
    "        print letter,\n",
    "        \n",
    "import doctest   \n",
    "doctest.run_docstring_examples(most_frequent, globals(),verbose=True)\n",
    "\n",
    "print \"\"\n",
    "\n",
    "most_frequent(\"Im a giant chicken\")\n",
    "print \"\"\n",
    "most_frequent('im ein RiesenHuhn') #German\n",
    "print \"\"\n",
    "most_frequent('im un pollo gigante') #Spanish\n",
    "print \"\"\n",
    "most_frequent(\"im un poulet géant\") #French,  IDK what to do when letters get weird."
   ]
  },
  {
   "cell_type": "markdown",
   "metadata": {},
   "source": [
    "**Quick check** Give an example of when you might use each sequence type:\n",
    "\n",
    "- tuple\n",
    "\n",
    "- list\n",
    "\n",
    "- string"
   ]
  },
  {
   "cell_type": "code",
   "execution_count": null,
   "metadata": {
    "collapsed": true
   },
   "outputs": [],
   "source": []
  }
 ],
 "metadata": {
  "kernelspec": {
   "display_name": "Python 2",
   "language": "python",
   "name": "python2"
  },
  "language_info": {
   "codemirror_mode": {
    "name": "ipython",
    "version": 2
   },
   "file_extension": ".py",
   "mimetype": "text/x-python",
   "name": "python",
   "nbconvert_exporter": "python",
   "pygments_lexer": "ipython2",
   "version": "2.7.6"
  }
 },
 "nbformat": 4,
 "nbformat_minor": 0
}
