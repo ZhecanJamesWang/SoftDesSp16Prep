{
 "cells": [
  {
   "cell_type": "markdown",
   "metadata": {},
   "source": [
    "## Chapter 6"
   ]
  },
  {
   "cell_type": "markdown",
   "metadata": {},
   "source": [
    "### Exercise 1  \n",
    "Write a `compare` function that returns `1` if `x > y`, `0` if `x == y`, and `-1` if `x < y`."
   ]
  },
  {
   "cell_type": "code",
   "execution_count": null,
   "metadata": {
    "collapsed": true
   },
   "outputs": [],
   "source": [
    "def compare(x,y):\n",
    "    if x > y:\n",
    "        return 1\n",
    "    elif x == y:\n",
    "        return 0\n",
    "    elif x < y:\n",
    "        return -1"
   ]
  },
  {
   "cell_type": "code",
   "execution_count": 6,
   "metadata": {
    "collapsed": false
   },
   "outputs": [],
   "source": [
    "def compare(x,y):\n",
    "    if x > y:\n",
    "        return 1\n",
    "    elif x < y:\n",
    "        return -1\n",
    "    else:\n",
    "        return 0"
   ]
  },
  {
   "cell_type": "code",
   "execution_count": 1,
   "metadata": {
    "collapsed": false
   },
   "outputs": [],
   "source": [
    "\"\"\"\n",
    "Compares two values, x and y. \n",
    "Returns 1 if x > y, 0 if x == y, and -1 if x < y\n",
    "\n",
    "practicing doctests:\n",
    "\n",
    ">>> compare(1,2)\n",
    "-1\n",
    ">>> compare(2,1)\n",
    "1\n",
    ">>> compare(1,1)\n",
    "0\n",
    ">>> compare(1, 1.5)\n",
    "-1\n",
    "\n",
    "\"\"\"\n",
    "\n",
    "def compare(x,y):\n",
    "    if x > y:\n",
    "        return 1\n",
    "    if x == y:\n",
    "        return 0\n",
    "    if x < y:\n",
    "        return -1\n",
    "\n",
    "#compare (1,2)"
   ]
  },
  {
   "cell_type": "code",
   "execution_count": 11,
   "metadata": {
    "collapsed": false
   },
   "outputs": [
    {
     "name": "stdout",
     "output_type": "stream",
     "text": [
      "1\n",
      "-1\n",
      "0\n",
      "1\n"
     ]
    }
   ],
   "source": [
    "import doctest\n",
    "\n",
    "def compare(x,y):\n",
    "    \"\"\"Compares two values, and returns if the first is bigger than the second. Only designed with numbers in mind.\n",
    "    \n",
    "    >>>compare(1,-1)\n",
    "    1\n",
    "    >>>compare(-1,1)\n",
    "    -1\n",
    "    >>>compare(0,0)\n",
    "    0\n",
    "    \"\"\"\n",
    "\n",
    "    if x > y:\n",
    "        return 1\n",
    "    elif x < y:\n",
    "        return -1\n",
    "    elif x == y:\n",
    "        return 0\n",
    "    else:\n",
    "        return \"Something's fishy\" #Not needed? This should never catch anything.\n",
    "\n",
    "\n",
    "print compare(1,-1)\n",
    "print compare(-1,1)\n",
    "print compare(0,0)\n",
    "print compare('t',6) #Dangit, need to typecheck or specify."
   ]
  },
  {
   "cell_type": "code",
   "execution_count": 9,
   "metadata": {
    "collapsed": false
   },
   "outputs": [
    {
     "data": {
      "text/plain": [
       "0"
      ]
     },
     "execution_count": 9,
     "metadata": {},
     "output_type": "execute_result"
    }
   ],
   "source": [
    "def compare(x,y):\n",
    "    x = int(x)\n",
    "    y = int(y)\n",
    "    if x > y:\n",
    "        return 1\n",
    "    if x == y: \n",
    "        return 0\n",
    "    if x < y:\n",
    "        return -1\n",
    "    \n",
    "compare(4,9)\n",
    "compare(9,4)\n",
    "compare(4.03,4)\n",
    "    "
   ]
  },
  {
   "cell_type": "code",
   "execution_count": 1,
   "metadata": {
    "collapsed": false
   },
   "outputs": [
    {
     "data": {
      "text/plain": [
       "1"
      ]
     },
     "execution_count": 1,
     "metadata": {},
     "output_type": "execute_result"
    }
   ],
   "source": [
    "def fruitful(x,y):\n",
    "    if x > y:\n",
    "        return 1\n",
    "    elif x == y:\n",
    "        return 0\n",
    "    elif x < y:\n",
    "        return -1"
   ]
  },
  {
   "cell_type": "code",
   "execution_count": 5,
   "metadata": {
    "collapsed": false
   },
   "outputs": [
    {
     "name": "stdout",
     "output_type": "stream",
     "text": [
      "-1\n",
      "0\n",
      "1\n"
     ]
    }
   ],
   "source": [
    "from numpy import sign\n",
    "def compare(x,y):\n",
    "    return int(sign(x-y))\n",
    "\n",
    "print(compare(1,2))\n",
    "print(compare(1.1,1.1))\n",
    "print(compare(2.1,1.3))"
   ]
  },
  {
   "cell_type": "code",
   "execution_count": null,
   "metadata": {
    "collapsed": true
   },
   "outputs": [],
   "source": [
    "def compare(x, y):\n",
    "    if x == y:\n",
    "        return 0\n",
    "    elif x < y:\n",
    "        return -1\n",
    "    else: #x > y\n",
    "        return 1"
   ]
  },
  {
   "cell_type": "code",
   "execution_count": 42,
   "metadata": {
    "collapsed": false
   },
   "outputs": [
    {
     "name": "stdout",
     "output_type": "stream",
     "text": [
      "-1\n",
      "1\n",
      "0\n",
      "These are not valid inputs\n",
      "These are not valid inputs\n",
      "These are not valid inputs\n"
     ]
    }
   ],
   "source": [
    "import numbers\n",
    "import decimal\n",
    "\n",
    "def compare(x,y): #This will first check if x and y are valid inputs, and then it will compare them, return 1, 0, -1, or \"These are not valid inputs\"\n",
    "    if checkifnumber(x):\n",
    "        if checkifnumber(y):\n",
    "            if x > y:\n",
    "                return 1\n",
    "            if x == y:\n",
    "                return 0\n",
    "            if x < y:\n",
    "                return -1\n",
    "        else:\n",
    "            return \"These are not valid inputs\"\n",
    "    else:\n",
    "        return \"These are not valid inputs\"\n",
    "def checkifnumber(a):   #This checks if the input is a number. \n",
    "    return isinstance(a, (int, long, float, complex))\n",
    "\n",
    "\n",
    "print compare(3,4)\n",
    "print compare(4,3)\n",
    "print compare(4,4)\n",
    "print compare(1, \"not\")\n",
    "print compare(\"why\", 1)\n",
    "print compare(\"why\", \"not\")"
   ]
  },
  {
   "cell_type": "markdown",
   "metadata": {},
   "source": [
    "**Quick check:** Modify the `absolute_value` function so that it returns the correct result for all integer inputs."
   ]
  },
  {
   "cell_type": "code",
   "execution_count": 1,
   "metadata": {
    "collapsed": true
   },
   "outputs": [],
   "source": [
    "def absolute_value(x):\n",
    "    if x < 0:\n",
    "        return -x\n",
    "    if x >= 0:\n",
    "        return x"
   ]
  },
  {
   "cell_type": "code",
   "execution_count": 10,
   "metadata": {
    "collapsed": false
   },
   "outputs": [],
   "source": [
    "def absolute_value(x):\n",
    "    if x < 0:\n",
    "        return -x\n",
    "    elif x > 0:\n",
    "        return x\n",
    "    else:\n",
    "        return 0"
   ]
  },
  {
   "cell_type": "code",
   "execution_count": 5,
   "metadata": {
    "collapsed": false
   },
   "outputs": [
    {
     "name": "stdout",
     "output_type": "stream",
     "text": [
      "5\n",
      "5\n",
      "0\n"
     ]
    }
   ],
   "source": [
    "def absolute_value(x): #function was corrected to account for 0\n",
    "    if x < 0:\n",
    "        return -x\n",
    "    if x > 0:\n",
    "        return x\n",
    "    return 0\n",
    "\n",
    "print absolute_value(5)\n",
    "print absolute_value(-5)\n",
    "print absolute_value(0)"
   ]
  },
  {
   "cell_type": "code",
   "execution_count": 48,
   "metadata": {
    "collapsed": false
   },
   "outputs": [
    {
     "name": "stdout",
     "output_type": "stream",
     "text": [
      "2\n",
      "1\n",
      "0\n",
      "1\n",
      "2\n"
     ]
    }
   ],
   "source": [
    "def absolute_value(x):\n",
    "    if x < 0:\n",
    "        return -x\n",
    "    if x >= 0:\n",
    "        return x\n",
    "\n",
    "for i in range (-2,3):\n",
    "    print(absolute_value(i))"
   ]
  },
  {
   "cell_type": "code",
   "execution_count": 6,
   "metadata": {
    "collapsed": false
   },
   "outputs": [
    {
     "data": {
      "text/plain": [
       "0"
      ]
     },
     "execution_count": 6,
     "metadata": {},
     "output_type": "execute_result"
    }
   ],
   "source": [
    "def absolute_value(x):\n",
    "    if x < 0:\n",
    "        return -x\n",
    "    else:\n",
    "        return x\n",
    "    \n",
    "absolute_value(0)"
   ]
  },
  {
   "cell_type": "code",
   "execution_count": 5,
   "metadata": {
    "collapsed": false,
    "scrolled": true
   },
   "outputs": [
    {
     "data": {
      "text/plain": [
       "'you can not take the abs val of 0'"
      ]
     },
     "execution_count": 5,
     "metadata": {},
     "output_type": "execute_result"
    }
   ],
   "source": [
    "def absolute_value(x):\n",
    "    if x < 0:\n",
    "        return -x\n",
    "    if x > 0:\n",
    "        return x\n",
    "    if x == 0: \n",
    "        return \"you can not take the abs val of 0\"\n",
    "absolute_value(0)"
   ]
  },
  {
   "cell_type": "markdown",
   "metadata": {},
   "source": [
    "### Exercise 2  \n",
    "Use incremental development to write a function called `hypotenuse` that returns the length of the hypotenuse of a right triangle given the lengths of the two legs as arguments. Record each stage of the development process as you go, using as many cells as you need."
   ]
  },
  {
   "cell_type": "code",
   "execution_count": 2,
   "metadata": {
    "collapsed": false
   },
   "outputs": [
    {
     "data": {
      "text/plain": [
       "0.0"
      ]
     },
     "execution_count": 2,
     "metadata": {},
     "output_type": "execute_result"
    }
   ],
   "source": [
    "def hypotenuse(a,b):\n",
    "    return 0.0\n",
    "\n",
    "hypotenuse(3,4)"
   ]
  },
  {
   "cell_type": "code",
   "execution_count": 4,
   "metadata": {
    "collapsed": false
   },
   "outputs": [
    {
     "name": "stdout",
     "output_type": "stream",
     "text": [
      "25\n"
     ]
    },
    {
     "data": {
      "text/plain": [
       "0.0"
      ]
     },
     "execution_count": 4,
     "metadata": {},
     "output_type": "execute_result"
    }
   ],
   "source": [
    "def hypotenuse(a,b):\n",
    "    sum_squares = a**2 + b**2\n",
    "    print sum_squares\n",
    "    return 0.0\n",
    "\n",
    "hypotenuse(3,4)"
   ]
  },
  {
   "cell_type": "code",
   "execution_count": 5,
   "metadata": {
    "collapsed": false
   },
   "outputs": [
    {
     "name": "stdout",
     "output_type": "stream",
     "text": [
      "25\n",
      "5.0\n"
     ]
    },
    {
     "data": {
      "text/plain": [
       "0.0"
      ]
     },
     "execution_count": 5,
     "metadata": {},
     "output_type": "execute_result"
    }
   ],
   "source": [
    "import math\n",
    "\n",
    "def hypotenuse(a,b):\n",
    "    sum_squares = a**2 + b**2\n",
    "    print sum_squares\n",
    "    hyp = math.sqrt(sum_squares)\n",
    "    print hyp\n",
    "    return 0.0\n",
    "\n",
    "hypotenuse(3,4)"
   ]
  },
  {
   "cell_type": "code",
   "execution_count": 7,
   "metadata": {
    "collapsed": false
   },
   "outputs": [
    {
     "data": {
      "text/plain": [
       "5.0"
      ]
     },
     "execution_count": 7,
     "metadata": {},
     "output_type": "execute_result"
    }
   ],
   "source": [
    "def hypotenuse(a,b):\n",
    "    hyp = math.sqrt(a**2 + b**2)\n",
    "    return hyp\n",
    "\n",
    "hypotenuse(3,4)"
   ]
  },
  {
   "cell_type": "code",
   "execution_count": 12,
   "metadata": {
    "collapsed": false
   },
   "outputs": [
    {
     "data": {
      "text/plain": [
       "'testing testing 1, 2, 3'"
      ]
     },
     "execution_count": 12,
     "metadata": {},
     "output_type": "execute_result"
    }
   ],
   "source": [
    "def hypotenuse():\n",
    "    return 'testing testing 1, 2, 3'\n",
    "\n",
    "hypotenuse()"
   ]
  },
  {
   "cell_type": "code",
   "execution_count": 13,
   "metadata": {
    "collapsed": false
   },
   "outputs": [
    {
     "data": {
      "text/plain": [
       "25"
      ]
     },
     "execution_count": 13,
     "metadata": {},
     "output_type": "execute_result"
    }
   ],
   "source": [
    "def hypotenuse(a, b):\n",
    "    csquared = a**2 + b**2\n",
    "    return csquared\n",
    "\n",
    "hypotenuse(3,4)"
   ]
  },
  {
   "cell_type": "code",
   "execution_count": 15,
   "metadata": {
    "collapsed": false
   },
   "outputs": [
    {
     "data": {
      "text/plain": [
       "5.0"
      ]
     },
     "execution_count": 15,
     "metadata": {},
     "output_type": "execute_result"
    }
   ],
   "source": [
    "import math\n",
    "def hypotenuse(a, b):\n",
    "    csquared = a**2 + b**2\n",
    "    return math.sqrt(csquared)\n",
    "\n",
    "hypotenuse(3,4)"
   ]
  },
  {
   "cell_type": "code",
   "execution_count": 16,
   "metadata": {
    "collapsed": false
   },
   "outputs": [
    {
     "data": {
      "text/plain": [
       "5.0"
      ]
     },
     "execution_count": 16,
     "metadata": {},
     "output_type": "execute_result"
    }
   ],
   "source": [
    "import math\n",
    "def hypotenuse(a, b):\n",
    "    return math.sqrt(a**2 + b**2)\n",
    "\n",
    "hypotenuse(3,4)"
   ]
  },
  {
   "cell_type": "code",
   "execution_count": 9,
   "metadata": {
    "collapsed": false
   },
   "outputs": [
    {
     "name": "stdout",
     "output_type": "stream",
     "text": [
      "0\n"
     ]
    }
   ],
   "source": [
    "def hypotenuse(a,b): #starting with a function to ensure functional syntax\n",
    "    return 0\n",
    "\n",
    "print hypotenuse(3,4)"
   ]
  },
  {
   "cell_type": "code",
   "execution_count": 10,
   "metadata": {
    "collapsed": false
   },
   "outputs": [
    {
     "name": "stdout",
     "output_type": "stream",
     "text": [
      "7\n"
     ]
    }
   ],
   "source": [
    "def hypotenuse(a,b): #now adding in temp variables, checking that they're correct\n",
    "    leg1 = a\n",
    "    leg2 = b\n",
    "    return a + b\n",
    "\n",
    "print hypotenuse(3,4)"
   ]
  },
  {
   "cell_type": "code",
   "execution_count": 11,
   "metadata": {
    "collapsed": false
   },
   "outputs": [
    {
     "name": "stdout",
     "output_type": "stream",
     "text": [
      "25\n"
     ]
    }
   ],
   "source": [
    "def hypotenuse(a,b): #computing basic squaring first\n",
    "    leg1 = a\n",
    "    leg2 = b\n",
    "    squared = a**2+b**2\n",
    "    return squared\n",
    "\n",
    "print hypotenuse(3,4)"
   ]
  },
  {
   "cell_type": "code",
   "execution_count": 14,
   "metadata": {
    "collapsed": false
   },
   "outputs": [
    {
     "name": "stdout",
     "output_type": "stream",
     "text": [
      "5\n"
     ]
    }
   ],
   "source": [
    "import math\n",
    "\n",
    "def hypotenuse(a,b): #final iteration with the real calculation\n",
    "    leg1 = a\n",
    "    leg2 = b\n",
    "    squared = a**2+b**2\n",
    "    result = math.sqrt(squared)\n",
    "    return result\n",
    "\n",
    "print int(hypotenuse(3,4))"
   ]
  },
  {
   "cell_type": "code",
   "execution_count": 12,
   "metadata": {
    "collapsed": false
   },
   "outputs": [
    {
     "data": {
      "text/plain": [
       "33.24154027718932"
      ]
     },
     "execution_count": 12,
     "metadata": {},
     "output_type": "execute_result"
    }
   ],
   "source": [
    "import math\n",
    "def hypotenuse(a, b):\n",
    "    if (a < 0) or (b < 0):\n",
    "        return \"Sides a and b need to be positive\"\n",
    "    else:\n",
    "        a_squared = a**2\n",
    "        b_squared = b**2\n",
    "        square_sum = a_squared + b_squared\n",
    "        c_squared = square_sum\n",
    "        c = math.sqrt(c_squared)\n",
    "        return c\n",
    "hypotenuse(33, 4)"
   ]
  },
  {
   "cell_type": "markdown",
   "metadata": {},
   "source": [
    "### Exercise 3  \n",
    "Write a function `is_between(x, y, z)` that returns `True` if `x ≤ y ≤ z` or `False` otherwise."
   ]
  },
  {
   "cell_type": "code",
   "execution_count": 11,
   "metadata": {
    "collapsed": false
   },
   "outputs": [
    {
     "data": {
      "text/plain": [
       "False"
      ]
     },
     "execution_count": 11,
     "metadata": {},
     "output_type": "execute_result"
    }
   ],
   "source": [
    "def is_between(x,y,z):\n",
    "    return x <= y and y <= z\n",
    "\n",
    "is_between(3,2,4)"
   ]
  },
  {
   "cell_type": "code",
   "execution_count": 17,
   "metadata": {
    "collapsed": false
   },
   "outputs": [
    {
     "data": {
      "text/plain": [
       "True"
      ]
     },
     "execution_count": 17,
     "metadata": {},
     "output_type": "execute_result"
    }
   ],
   "source": [
    "def is_between(x, y, z):\n",
    "    if x <= y and y <= z:\n",
    "        return True\n",
    "    else:\n",
    "        return False\n",
    "    \n",
    "is_between(1,2,3)"
   ]
  },
  {
   "cell_type": "code",
   "execution_count": 28,
   "metadata": {
    "collapsed": false
   },
   "outputs": [
    {
     "name": "stdout",
     "output_type": "stream",
     "text": [
      "True\n",
      "True\n",
      "False\n",
      "False\n"
     ]
    }
   ],
   "source": [
    "def is_between(x,y,z):\n",
    "    \"\"\"returns true if x <= y <= z, else returns false\n",
    "    \n",
    "    >>>is_between(1,2,3)\n",
    "    True\n",
    "    \n",
    "    >>>is_between(1.9,2,2.1)\n",
    "    True\n",
    "    \n",
    "    >>>is_between(3,2,1)\n",
    "    False\n",
    "    \n",
    "    >>>is_between(2,1,3)\n",
    "    False\n",
    "    \n",
    "    \n",
    "    \"\"\"\n",
    "    if x<=y<=z:\n",
    "        return True\n",
    "    else:\n",
    "        return False\n",
    "\n",
    "print is_between(1,2,3)\n",
    "print is_between(1.9,2,2.1)\n",
    "print is_between(3,2,1)    \n",
    "print is_between(2,1,3)        "
   ]
  },
  {
   "cell_type": "code",
   "execution_count": 39,
   "metadata": {
    "collapsed": false
   },
   "outputs": [
    {
     "data": {
      "text/plain": [
       "False"
      ]
     },
     "execution_count": 39,
     "metadata": {},
     "output_type": "execute_result"
    }
   ],
   "source": [
    "def is_between (x, y, z):\n",
    "    if x == y == z: \n",
    "        return True \n",
    "    else: \n",
    "        if x < y < z: \n",
    "            return True \n",
    "        else: \n",
    "            if x <= y <= z: \n",
    "                return True\n",
    "            else: \n",
    "                return False \n",
    "            \n",
    "is_between( 2, 1, 1)\n",
    "        \n",
    "    \n",
    "    "
   ]
  },
  {
   "cell_type": "code",
   "execution_count": 6,
   "metadata": {
    "collapsed": false
   },
   "outputs": [
    {
     "name": "stdout",
     "output_type": "stream",
     "text": [
      "true\n",
      "true\n",
      "false\n"
     ]
    }
   ],
   "source": [
    "def is_between(x, y, z):\n",
    "    if x <= y <= z:\n",
    "        print('true')\n",
    "    else:\n",
    "        print('false')\n",
    "    \n",
    "is_between(3,3,3)\n",
    "is_between(3,4,5)\n",
    "is_between(5,4,3)"
   ]
  },
  {
   "cell_type": "code",
   "execution_count": 23,
   "metadata": {
    "collapsed": false
   },
   "outputs": [
    {
     "name": "stdout",
     "output_type": "stream",
     "text": [
      "False\n"
     ]
    }
   ],
   "source": [
    "def is_between(x,y,z):\n",
    "    if x<= y and y <= z:\n",
    "        print \"True\"\n",
    "    else:\n",
    "        print \"False\"\n",
    "        \n",
    "        \n",
    "is_between(3,2,3)"
   ]
  },
  {
   "cell_type": "code",
   "execution_count": 71,
   "metadata": {
    "collapsed": false,
    "scrolled": true
   },
   "outputs": [
    {
     "data": {
      "text/plain": [
       "True"
      ]
     },
     "execution_count": 71,
     "metadata": {},
     "output_type": "execute_result"
    }
   ],
   "source": [
    "def is_between(x,y,z):\n",
    "    a = [x,y,z]\n",
    "    b = sorted(a)\n",
    "    if a == b:\n",
    "        return True\n",
    "    return False\n",
    "\n",
    "is_between(2,1,3)"
   ]
  },
  {
   "cell_type": "code",
   "execution_count": 18,
   "metadata": {
    "collapsed": false
   },
   "outputs": [
    {
     "data": {
      "text/plain": [
       "'truuu'"
      ]
     },
     "execution_count": 18,
     "metadata": {},
     "output_type": "execute_result"
    }
   ],
   "source": [
    "def is_between(x,y,z):\n",
    "    if x<=y<=z:\n",
    "        return 'truuu'\n",
    "    else:\n",
    "        return 'nah'\n",
    "    \n",
    "is_between(1,5,7)"
   ]
  },
  {
   "cell_type": "code",
   "execution_count": 25,
   "metadata": {
    "collapsed": false
   },
   "outputs": [
    {
     "data": {
      "text/plain": [
       "False"
      ]
     },
     "execution_count": 25,
     "metadata": {},
     "output_type": "execute_result"
    }
   ],
   "source": [
    "def is_between(x,y,z):\n",
    "    return (x<y or x==y) and (y<z or y==z)\n",
    "is_between(1,0,1)"
   ]
  },
  {
   "cell_type": "code",
   "execution_count": 1,
   "metadata": {
    "collapsed": false
   },
   "outputs": [
    {
     "data": {
      "text/plain": [
       "False"
      ]
     },
     "execution_count": 1,
     "metadata": {},
     "output_type": "execute_result"
    }
   ],
   "source": [
    "def is_between(x, y, z):\n",
    "    if checkifnumber(x) and checkifnumber(y) and checkifnumber(z):\n",
    "        if x <= y and y <= z:\n",
    "            return True\n",
    "        elif x >= y and y >= z:\n",
    "            return True\n",
    "        return False\n",
    "    else:\n",
    "        return \"The inputs are invalid\"\n",
    "def checkifnumber(a):   #This checks if the input is a number. \n",
    "    return isinstance(a, (int, long, float, complex))\n",
    "is_between(5,7,2)"
   ]
  },
  {
   "cell_type": "markdown",
   "metadata": {},
   "source": [
    "## Chapter 7"
   ]
  },
  {
   "cell_type": "markdown",
   "metadata": {},
   "source": [
    "### Exercise 2  \n",
    "Encapsulate the loop from Section 7.5 in a function called `square_root` that takes `a` as a parameter, chooses a reasonable value of `x`, and returns an estimate of the square root of `a`."
   ]
  },
  {
   "cell_type": "code",
   "execution_count": 130,
   "metadata": {
    "collapsed": false
   },
   "outputs": [
    {
     "data": {
      "text/plain": [
       "3.0"
      ]
     },
     "execution_count": 130,
     "metadata": {},
     "output_type": "execute_result"
    }
   ],
   "source": [
    "def square_root(a):\n",
    "    epsilon = 1e-15\n",
    "    x = float(a)/2\n",
    "    while True:\n",
    "        y = (x + a/x) / 2\n",
    "        if abs(y-x) < epsilon:\n",
    "            break\n",
    "        x = y\n",
    "    return x\n",
    "\n",
    "square_root(9.0)"
   ]
  },
  {
   "cell_type": "code",
   "execution_count": 42,
   "metadata": {
    "collapsed": false
   },
   "outputs": [
    {
     "data": {
      "text/plain": [
       "2.8284271247493797"
      ]
     },
     "execution_count": 42,
     "metadata": {},
     "output_type": "execute_result"
    }
   ],
   "source": [
    "def squareRoot(a):\n",
    "    x = a/2.0\n",
    "    epsilon = 0.0000001\n",
    "    while True:\n",
    "#         print x\n",
    "        y = (x + a/x) / 2\n",
    "        if abs(y-x) < epsilon:\n",
    "#             break\n",
    "            return x\n",
    "        x = y\n",
    "\n",
    "squareRoot(8)"
   ]
  },
  {
   "cell_type": "code",
   "execution_count": 59,
   "metadata": {
    "collapsed": false
   },
   "outputs": [
    {
     "data": {
      "text/plain": [
       "2"
      ]
     },
     "execution_count": 59,
     "metadata": {},
     "output_type": "execute_result"
    }
   ],
   "source": [
    "def square_root(a):\n",
    "    x = a\n",
    "    y = (x + a/x) / 2\n",
    "    while (abs(y - x) > 0.0000001):\n",
    "        x = y\n",
    "        square_root(x)\n",
    "    return x\n",
    "\n",
    "square_root(4)"
   ]
  },
  {
   "cell_type": "code",
   "execution_count": 21,
   "metadata": {
    "collapsed": false
   },
   "outputs": [
    {
     "name": "stdout",
     "output_type": "stream",
     "text": [
      "x is 12.5\n",
      "my guess is 7.25\n",
      "x is 7.25\n",
      "my guess is 5.34913793103\n",
      "x is 5.34913793103\n",
      "my guess is 5.01139410653\n",
      "x is 5.01139410653\n",
      "my guess is 5.00001295305\n",
      "x is 5.00001295305\n",
      "my guess is 5.00000000002\n",
      "x is 5.00000000002\n",
      "my guess is 5.0\n",
      "x is 5.0\n",
      "my guess is 5.0\n"
     ]
    }
   ],
   "source": [
    "def square_root(a):\n",
    "    root = a/2.0\n",
    "    while True:\n",
    "        x = root\n",
    "        print 'x is', x\n",
    "        root = (x + a/x) / 2\n",
    "        print 'my guess is', root\n",
    "        if root == x:\n",
    "            break\n",
    "            \n",
    "square_root(25)\n",
    "        \n",
    "        "
   ]
  },
  {
   "cell_type": "code",
   "execution_count": 21,
   "metadata": {
    "collapsed": false
   },
   "outputs": [
    {
     "data": {
      "text/plain": [
       "5.744562646538029"
      ]
     },
     "execution_count": 21,
     "metadata": {},
     "output_type": "execute_result"
    }
   ],
   "source": [
    "def good_enough(x, y, epsilon):\n",
    "    if abs(y - x) < epsilon:\n",
    "        return True\n",
    "    else:\n",
    "        return False\n",
    "    \n",
    "def square_root(a):\n",
    "    x = a/2.0\n",
    "    epsilon = 0.0000000000000000001\n",
    "    while True:\n",
    "        y = (x + a/x) / 2.0\n",
    "        if good_enough(x, y, epsilon):\n",
    "            break\n",
    "        x = y\n",
    "    return x\n",
    "square_root(33)"
   ]
  },
  {
   "cell_type": "code",
   "execution_count": 63,
   "metadata": {
    "collapsed": false
   },
   "outputs": [
    {
     "data": {
      "text/plain": [
       "'2.0 and 2.0*i'"
      ]
     },
     "execution_count": 63,
     "metadata": {},
     "output_type": "execute_result"
    }
   ],
   "source": [
    "def square_root(a):\n",
    "    \n",
    "    count = 50    # security against infinite loops\n",
    "    imaginary = 0 # in case negative number\n",
    "    \n",
    "    if a<0:       # will use this at the final print line if negative\n",
    "        a = -a    # to return real and imaginary roots\n",
    "        imaginary = 1\n",
    "        \n",
    "    if a == 0:    # because zero is a hero\n",
    "        return 0\n",
    "    \n",
    "    x = a/2 #initial value and set up, \n",
    "    y = (x + a/x) /2.0 #need these x and y values for first run of while loop!\n",
    "    \n",
    "    while x!=y:\n",
    "        \n",
    "        x = y   # set new x equal to old y\n",
    "        y = (x + a/x) /2.0   # find new y using new x\n",
    "        count = count - 1    # decriment security counter\n",
    "        \n",
    "        if count == 0: # ABORT MISSION!!! ABORT MISSION!!!!\n",
    "            return 'Taking too long, sorry!'\n",
    "        \n",
    "    if imaginary == 1:\n",
    "            return str(y) + ' and ' + str(y) +'*i' #Hah! Win! :D\n",
    "            \n",
    "    print(y) #Mission Complete.\n",
    "    \n",
    "square_root(-4)"
   ]
  },
  {
   "cell_type": "markdown",
   "metadata": {},
   "source": [
    "### Exercise 3  \n",
    "To test the square root algorithm you developed in Exercise 2, you could compare it with Python's `math.sqrt` function. Write a function named `test_square_root` that prints a table like this:\n",
    "\n",
    "```python\n",
    "1.0 1.0           1.0           0.0\n",
    "2.0 1.41421356237 1.41421356237 2.22044604925e-16\n",
    "3.0 1.73205080757 1.73205080757 0.0\n",
    "4.0 2.0           2.0           0.0\n",
    "5.0 2.2360679775  2.2360679775  0.0\n",
    "6.0 2.44948974278 2.44948974278 0.0\n",
    "7.0 2.64575131106 2.64575131106 0.0\n",
    "8.0 2.82842712475 2.82842712475 4.4408920985e-16\n",
    "9.0 3.0           3.0           0.0\n",
    "```\n",
    "\n",
    "The first column is a number, `a`; the second column is the square root of a computed with the function from Section 7.5; the third column is the square root computed by `math.sqrt`; the fourth column is the absolute value of the difference between the two estimates."
   ]
  },
  {
   "cell_type": "code",
   "execution_count": 133,
   "metadata": {
    "collapsed": false
   },
   "outputs": [
    {
     "name": "stdout",
     "output_type": "stream",
     "text": [
      "1.0 1.0           1.0           0.0\n",
      "2.0 1.41421356237 1.41421356237 5.10702591328e-15\n",
      "3.0 1.73205080757 1.73205080757 2.28705943073e-14\n",
      "4.0 2.0           2.0           0.0\n",
      "5.0 2.2360679775  2.2360679775  1.02140518266e-14\n",
      "6.0 2.44948974278 2.44948974278 2.13162820728e-14\n",
      "7.0 2.64575131106 2.64575131106 9.32587340685e-15\n",
      "8.0 2.82842712475 2.82842712475 1.02140518266e-14\n",
      "9.0 3.0           3.0           0.0\n"
     ]
    }
   ],
   "source": [
    "import math\n",
    "\n",
    "def test_square_root():\n",
    "    A = range(10)[1:]\n",
    "    Newtoned = []\n",
    "    Calculated = []\n",
    "    Diff = []\n",
    "    for i in range(len(A)):\n",
    "        A[i] = float(A[i])\n",
    "        Newtoned.append(round(square_root(A[i]),16))\n",
    "        Calculated.append(round(math.sqrt(A[i]),13))\n",
    "        Diff.append(abs(Newtoned[i] - Calculated[i]))\n",
    "        print A[i],\n",
    "        print str(Newtoned[i]) + ' '*(13-len(str(Newtoned[i]))),\n",
    "        print str(Calculated[i]) + ' '*(13 - len(str(Calculated[i]))),\n",
    "        print Diff[i]\n",
    "    \n",
    "test_square_root()"
   ]
  },
  {
   "cell_type": "code",
   "execution_count": 51,
   "metadata": {
    "collapsed": false
   },
   "outputs": [
    {
     "name": "stdout",
     "output_type": "stream",
     "text": [
      "1.0 1.000000000000 1.000000000000 0.000000000000e+00\n",
      "2.0 1.414213562373 1.414213562373 2.220446049250e-16\n",
      "3.0 1.732050807569 1.732050807569 0.000000000000e+00\n",
      "4.0 2.000000000000 2.000000000000 0.000000000000e+00\n",
      "5.0 2.236067977500 2.236067977500 0.000000000000e+00\n",
      "6.0 2.449489742783 2.449489742783 0.000000000000e+00\n",
      "7.0 2.645751311065 2.645751311065 0.000000000000e+00\n",
      "8.0 2.828427124746 2.828427124746 4.440892098501e-16\n",
      "9.0 3.000000000000 3.000000000000 0.000000000000e+00\n"
     ]
    }
   ],
   "source": [
    "import math\n",
    "\n",
    "def test_square_root():\n",
    "\n",
    "    def square_root(a):\n",
    "        x = 1.0 #first guess\n",
    "        while True:        \n",
    "            y = (x + a / x) / 2\n",
    "            if abs(y - x) < 0.0000000000000000001:\n",
    "                break\n",
    "            x = y\n",
    "        return x\n",
    "\n",
    "    for i in range (1, 10):\n",
    "        a = float(i)\n",
    "        sroot_newton_method = square_root(a)\n",
    "        sroot_math = math.sqrt(a)\n",
    "        difference = abs(sroot_newton_method - sroot_math)\n",
    "        #formatstrings https://docs.python.org/2/library/string.html\n",
    "        print '{0:.1f} {1:.12f} {2:.12f} {3:.12e}'.\\\n",
    "            format(a, sroot_newton_method,sroot_math , difference)\n",
    "            \n",
    "test_square_root()\n"
   ]
  },
  {
   "cell_type": "code",
   "execution_count": 40,
   "metadata": {
    "collapsed": false
   },
   "outputs": [
    {
     "name": "stdout",
     "output_type": "stream",
     "text": [
      "1 1            1.0          0.0         \n",
      "2 1.41421356237 1.41421356237 2.22044604925e-16\n",
      "3 1.73205080757 1.73205080757 0.0         \n",
      "4 2.0          2.0          0.0         \n",
      "5 2.2360679775 2.2360679775 0.0         \n",
      "6 2.44948974278 2.44948974278 0.0         \n",
      "7 2.64575131106 2.64575131106 0.0         \n",
      "8 2.82842712475 2.82842712475 4.4408920985e-16\n",
      "9 3.0          3.0          0.0         \n",
      "10 3.16227766017 3.16227766017 4.4408920985e-16\n"
     ]
    }
   ],
   "source": [
    "import math\n",
    "\n",
    "def square_root(a, tolerance = 0.00000001):\n",
    "    \"\"\"returns an approximation of sqrt(a) within a given tolerance by newtons method\"\"\"\n",
    "    if a > 1:\n",
    "        x = a/2.0 #estimating seed\n",
    "    elif a < 1:\n",
    "        x = 2 * a #estimating seed\n",
    "    else:\n",
    "        return 1\n",
    "    while True:\n",
    "#        print (x) #verbose\n",
    "        y = (x + a/x) / 2.\n",
    "        if abs(y-x) < tolerance:\n",
    "            break\n",
    "        x = y\n",
    "    return y\n",
    "\n",
    "def string_format(a):\n",
    "    \"\"\"takes a number, and returns a string of length 13 of the number \"\"\"\n",
    "    astr = str(a)\n",
    "    spacelength = 12-len(astr)\n",
    "    return str(a) + spacelength * \" \"\n",
    "\n",
    "def test_square_root(a):\n",
    "    \"\"\"Compares amateur square root method to the standard library, and prints a table of results\"\"\"\n",
    "    amateur = square_root(a)\n",
    "                \n",
    "    professional = math.sqrt(a)\n",
    "    \n",
    "    print a, string_format(amateur), string_format(professional), string_format(abs(professional-amateur))\n",
    "\n",
    "for i in range(10):\n",
    "    test_square_root(i+1)\n"
   ]
  },
  {
   "cell_type": "code",
   "execution_count": 4,
   "metadata": {
    "collapsed": false
   },
   "outputs": [
    {
     "name": "stdout",
     "output_type": "stream",
     "text": [
      "1.0 1.0 1.0 0.0\n",
      "2.0 1.41421356237 1.41421356237 2.22044604925e-16\n",
      "3.0 1.73205080757 1.73205080757 0.0\n",
      "4.0 2.0 2.0 0.0\n",
      "5.0 2.2360679775 2.2360679775 0.0\n",
      "6.0 2.44948974278 2.44948974278 0.0\n",
      "7.0 2.64575131106 2.64575131106 0.0\n",
      "8.0 2.82842712475 2.82842712475 4.4408920985e-16\n",
      "9.0 3.0 3.0 0.0\n"
     ]
    }
   ],
   "source": [
    "import math\n",
    "def test_square_root():\n",
    "    for i in range(1,10):\n",
    "        i=float(i)\n",
    "        b=square_root(i)\n",
    "        c=math.sqrt(i)\n",
    "        d=abs(b-c)\n",
    "        print i,b,c,d"
   ]
  },
  {
   "cell_type": "code",
   "execution_count": 37,
   "metadata": {
    "collapsed": false
   },
   "outputs": [
    {
     "name": "stdout",
     "output_type": "stream",
     "text": [
      "1   1.0           1.0           0.0           \n",
      "2   1.41421356237 1.41421356237 2.22044604925e-16\n",
      "3   1.73205080757 1.73205080757 0.0           \n",
      "4   2.0           2.0           0.0           \n",
      "5   2.2360679775  2.2360679775  0.0           \n",
      "6   2.44948974278 2.44948974278 0.0           \n",
      "7   2.64575131106 2.64575131106 0.0           \n",
      "8   2.82842712475 2.82842712475 4.4408920985e-16\n",
      "9   3.0           3.0           0.0           \n"
     ]
    }
   ],
   "source": [
    "import math\n",
    "def test_square_root():\n",
    "    for i in range(1,10):\n",
    "        print('{:<4}{:<14}{:<14}{:<14}'.format(i, square_root(i), math.sqrt(i), math.fabs(square_root(i) - math.sqrt(i))))\n",
    "              \n",
    "test_square_root()"
   ]
  },
  {
   "cell_type": "markdown",
   "metadata": {},
   "source": [
    "### Challenge: Exercise 5  (optional)\n",
    "The mathematician Srinivasa Ramanujan found an infinite series that can be used to generate a numerical approximation of\n",
    "$\\frac{1}{\\pi}$:\n",
    "\n",
    "$$\\frac{1}{\\pi} = \\frac{2 \\sqrt{2}}{9801} \\sum_{k=0}^{\\infty} \\frac{(4k)! (1103+26390k)}{(k!)^4 396^{4k}}$$\n",
    " \n",
    "Write a function called `estimate_pi` that uses this formula to compute and return an estimate of $\\pi$. It should use a `while` loop to compute terms of the summation until the last term is smaller than `1e-15` (which is Python notation for $10^{−15}$). You can check the result by comparing it to `math.pi`.\n",
    "\n",
    "[Possible solution](http://thinkpython.com/code/pi.py) (give the exercise a try before viewing the solution)"
   ]
  },
  {
   "cell_type": "code",
   "execution_count": 27,
   "metadata": {
    "collapsed": false
   },
   "outputs": [
    {
     "name": "stdout",
     "output_type": "stream",
     "text": [
      "3.14159272683\n",
      "7.32391991498e-08\n"
     ]
    }
   ],
   "source": [
    "import math\n",
    "\n",
    "def estimate_pi():\n",
    "    epilson = 1e-15;\n",
    "    k = 0\n",
    "    y=0;\n",
    "    while True:\n",
    "        temp = (math.factorial(4*0))*(1103+26390*k)/(math.pow(math.factorial(k),4)*math.pow(396,4*k))\n",
    "        if temp < epilson:\n",
    "            return 1/((2*math.sqrt(2)/9801)*y)\n",
    "        y = y + temp\n",
    "        k = k + 1\n",
    "\n",
    "print estimate_pi()\n",
    "print estimate_pi()-math.pi\n"
   ]
  },
  {
   "cell_type": "code",
   "execution_count": 63,
   "metadata": {
    "collapsed": false
   },
   "outputs": [
    {
     "name": "stdout",
     "output_type": "stream",
     "text": [
      "0.318309886184\n"
     ]
    }
   ],
   "source": [
    "import math\n",
    "\n",
    "def estimate_pi():\n",
    "    n = 0\n",
    "    result = 0\n",
    "    temp = 1\n",
    "    while True:\n",
    "        if temp < 10**(-15):\n",
    "            break\n",
    "        temp = (2.0*math.sqrt(2)/9801)*math.factorial(4*n)*(1103 + 26390*n)/((math.factorial(n))**4 * (396 ** (4*n)))\n",
    "        n = n + 1\n",
    "        result = result + temp\n",
    "    \n",
    "    result = 1.0/\n",
    "    print(result)    \n",
    "    \n",
    "estimate_pi()"
   ]
  },
  {
   "cell_type": "code",
   "execution_count": 5,
   "metadata": {
    "collapsed": false
   },
   "outputs": [
    {
     "name": "stdout",
     "output_type": "stream",
     "text": [
      "This function produces: 3.14159265359, and math.pi returns a value of: 3.14159265359.\n"
     ]
    }
   ],
   "source": [
    "import math\n",
    "def estimate_pi():\n",
    "    x = []\n",
    "    i = 0\n",
    "    while i<=10**7:\n",
    "        a = (((2*(math.sqrt(2)))/9801.0))*(math.factorial(4.0*i))*(1103+26390*i)/(((math.factorial(i))**4.0*(396.0**(4.0*i))))\n",
    "        x.append(a)\n",
    "        i+=1\n",
    "        if a <= 10**(-15):\n",
    "            return \"This function produces: \" + str(1.0/sum(x)) + \", and\" + \" math.pi returns a value of: \" + str(math.pi)+\".\"\n",
    "\n",
    "print estimate_pi()\n",
    "\n",
    "#Everything in one line is super hard to debug, in retrospect. This took way longer than it should've."
   ]
  },
  {
   "cell_type": "code",
   "execution_count": 72,
   "metadata": {
    "collapsed": false
   },
   "outputs": [
    {
     "name": "stdout",
     "output_type": "stream",
     "text": [
      "Approximation:  3.14159265359\n",
      "Difference from pi:  0.0\n"
     ]
    }
   ],
   "source": [
    "from math import *\n",
    "def factorial(n):\n",
    "    if n == 0:\n",
    "        return 1\n",
    "    else:\n",
    "        recurse = factorial(n-1)\n",
    "        result = n * recurse\n",
    "        return result\n",
    "def summation(eps):\n",
    "    k = 0\n",
    "    result = 0\n",
    "    while True:\n",
    "        piece = factorial(4*k)*(1103+26390*k)*1.0/((factorial(k))**4*396**(4*k))\n",
    "        result = result + piece\n",
    "        if piece < eps:\n",
    "            break\n",
    "        k=k+1\n",
    "    return result\n",
    "def approximate_pi(eps):\n",
    "    a = summation(eps)\n",
    "    return 1/(2*sqrt(2)*a/9801)\n",
    "eps = 1e-15\n",
    "maybe = approximate_pi(eps)\n",
    "print 'Approximation: ',\n",
    "print maybe\n",
    "print 'Difference from pi: ',\n",
    "print abs(pi-maybe)"
   ]
  },
  {
   "cell_type": "code",
   "execution_count": 51,
   "metadata": {
    "collapsed": false
   },
   "outputs": [
    {
     "data": {
      "text/plain": [
       "3.1415927300133055"
      ]
     },
     "execution_count": 51,
     "metadata": {},
     "output_type": "execute_result"
    }
   ],
   "source": [
    "def estimate_pi():\n",
    "    sum = 0\n",
    "    k = 0\n",
    "    term = 1                # arbitrary value set to initiate the while loop\n",
    "    while term >= 1e-15:    # apparently there are no do-while loops in Python.\n",
    "        term = math.factorial(4*k)*(1103+26390*k)/math.factorial(k)**4/396**(4*k)\n",
    "        sum += term\n",
    "        k += 1              # there is no '++' notation, either.\n",
    "                            # I am thoroughly disappointed.\n",
    "    return 9801/math.sqrt(8)/sum\n",
    "\n",
    "\n",
    "estimate_pi()"
   ]
  },
  {
   "cell_type": "code",
   "execution_count": 2,
   "metadata": {
    "collapsed": false
   },
   "outputs": [
    {
     "name": "stdout",
     "output_type": "stream",
     "text": [
      "0.31830987844\n",
      "0.318309886184\n"
     ]
    }
   ],
   "source": [
    "from math import *\n",
    "def estimate_pi():\n",
    "    k = 0\n",
    "    x = (2*sqrt(2) / 9801)*(factorial(4*k)*(1103 + 26390*k)/(factorial(k)**4 * 398 **(4*k)))\n",
    "    n = x\n",
    "    while x >= 1e-15:\n",
    "        k+=1\n",
    "        x = (2*sqrt(2) / 9801)*(factorial(4*k)*(1103 + 26390*k)/(factorial(k)**4 * 398 **(4*k)))\n",
    "        n = n + x\n",
    "    print n\n",
    "    print 1/pi\n",
    "    \n",
    "estimate_pi()"
   ]
  },
  {
   "cell_type": "code",
   "execution_count": 41,
   "metadata": {
    "collapsed": false,
    "scrolled": true
   },
   "outputs": [
    {
     "name": "stdout",
     "output_type": "stream",
     "text": [
      "computed 3.14159265359 in 4 iterations\n"
     ]
    },
    {
     "data": {
      "text/plain": [
       "3.141592653589793"
      ]
     },
     "execution_count": 41,
     "metadata": {},
     "output_type": "execute_result"
    }
   ],
   "source": [
    "from math import *\n",
    "\n",
    "def estimate_pi():\n",
    "    total = 0.0\n",
    "    k = 0\n",
    "    run = True\n",
    "    while run:\n",
    "        factor = 2*sqrt(2) / 9801\n",
    "        num = factorial(4*k) * (1103 + 26390.0 * k)\n",
    "        denom = factorial(k)**4.0 * 396**(4.0*k)\n",
    "        k += 1\n",
    "        if abs(num / denom) < 1e-15:\n",
    "            break\n",
    "        total = total + factor*(num/denom)\n",
    "    print('computed {} in {} iterations'.format(1/total, k))\n",
    "    return 1/total\n",
    "\n",
    "estimate_pi()"
   ]
  },
  {
   "cell_type": "code",
   "execution_count": 9,
   "metadata": {
    "collapsed": false
   },
   "outputs": [
    {
     "ename": "TypeError",
     "evalue": "unsupported operand type(s) for *: 'NoneType' and 'float'",
     "output_type": "error",
     "traceback": [
      "\u001b[1;31m---------------------------------------------------------------------------\u001b[0m",
      "\u001b[1;31mTypeError\u001b[0m                                 Traceback (most recent call last)",
      "\u001b[1;32m<ipython-input-9-099df9add225>\u001b[0m in \u001b[0;36m<module>\u001b[1;34m()\u001b[0m\n\u001b[0;32m     22\u001b[0m \u001b[1;33m\u001b[0m\u001b[0m\n\u001b[0;32m     23\u001b[0m     \u001b[1;32mreturn\u001b[0m \u001b[1;36m1\u001b[0m \u001b[1;33m/\u001b[0m \u001b[0mfinal\u001b[0m\u001b[1;33m\u001b[0m\u001b[0m\n\u001b[1;32m---> 24\u001b[1;33m \u001b[1;32mprint\u001b[0m \u001b[0mestimate_pi\u001b[0m\u001b[1;33m(\u001b[0m\u001b[1;33m)\u001b[0m\u001b[1;33m\u001b[0m\u001b[0m\n\u001b[0m\u001b[0;32m     25\u001b[0m \u001b[1;33m\u001b[0m\u001b[0m\n",
      "\u001b[1;32m<ipython-input-9-099df9add225>\u001b[0m in \u001b[0;36mestimate_pi\u001b[1;34m()\u001b[0m\n\u001b[0;32m     12\u001b[0m     \u001b[1;32mwhile\u001b[0m \u001b[0mTrue\u001b[0m\u001b[1;33m:\u001b[0m\u001b[1;33m\u001b[0m\u001b[0m\n\u001b[0;32m     13\u001b[0m         \u001b[0mconstant\u001b[0m \u001b[1;33m=\u001b[0m \u001b[1;36m2.0\u001b[0m \u001b[1;33m*\u001b[0m \u001b[0mmath\u001b[0m\u001b[1;33m.\u001b[0m\u001b[0msqrt\u001b[0m\u001b[1;33m(\u001b[0m\u001b[1;36m2.0\u001b[0m\u001b[1;33m)\u001b[0m \u001b[1;33m/\u001b[0m \u001b[1;36m9801.0\u001b[0m\u001b[1;33m\u001b[0m\u001b[0m\n\u001b[1;32m---> 14\u001b[1;33m         \u001b[0mtop\u001b[0m \u001b[1;33m=\u001b[0m \u001b[1;33m(\u001b[0m\u001b[0mfactorial\u001b[0m\u001b[1;33m(\u001b[0m\u001b[1;36m4.0\u001b[0m \u001b[1;33m*\u001b[0m \u001b[0mk\u001b[0m\u001b[1;33m)\u001b[0m\u001b[1;33m)\u001b[0m \u001b[1;33m*\u001b[0m \u001b[1;33m(\u001b[0m\u001b[1;36m1103.0\u001b[0m \u001b[1;33m+\u001b[0m \u001b[1;36m26390.0\u001b[0m \u001b[1;33m*\u001b[0m \u001b[0mk\u001b[0m\u001b[1;33m)\u001b[0m\u001b[1;33m\u001b[0m\u001b[0m\n\u001b[0m\u001b[0;32m     15\u001b[0m         \u001b[0mbottom\u001b[0m \u001b[1;33m=\u001b[0m \u001b[1;33m(\u001b[0m\u001b[0mfactorial\u001b[0m\u001b[1;33m(\u001b[0m\u001b[0mk\u001b[0m\u001b[1;33m)\u001b[0m\u001b[1;33m)\u001b[0m\u001b[1;33m**\u001b[0m\u001b[1;36m4.0\u001b[0m \u001b[1;33m*\u001b[0m \u001b[1;33m(\u001b[0m\u001b[1;36m396.0\u001b[0m\u001b[1;33m)\u001b[0m\u001b[1;33m**\u001b[0m\u001b[1;33m(\u001b[0m\u001b[1;36m4.0\u001b[0m \u001b[1;33m*\u001b[0m \u001b[0mk\u001b[0m\u001b[1;33m)\u001b[0m\u001b[1;33m\u001b[0m\u001b[0m\n\u001b[0;32m     16\u001b[0m         \u001b[0mtotal\u001b[0m \u001b[1;33m=\u001b[0m \u001b[0mconstant\u001b[0m \u001b[1;33m*\u001b[0m \u001b[0mtop\u001b[0m \u001b[1;33m/\u001b[0m \u001b[0mbottom\u001b[0m\u001b[1;33m\u001b[0m\u001b[0m\n",
      "\u001b[1;31mTypeError\u001b[0m: unsupported operand type(s) for *: 'NoneType' and 'float'"
     ]
    }
   ],
   "source": [
    "import math\n",
    "def factorial(n):\n",
    "    while n > 0:\n",
    "        j = factorial(n-1)\n",
    "        result = n * j\n",
    "        return result\n",
    "def estimate_pi():\n",
    "    \n",
    "    final = 0.0\n",
    "    k = 0.0\n",
    "    \n",
    "    while True:\n",
    "        constant = 2.0 * math.sqrt(2.0) / 9801.0 \n",
    "        top = (factorial(4.0 * k)) * (1103.0 + 26390.0 * k)\n",
    "        bottom = (factorial(k))**4.0 * (396.0)**(4.0 * k)\n",
    "        total = constant * top / bottom\n",
    "        final = final + total\n",
    "        \n",
    "        if abs(final) < 1e-15:\n",
    "            break\n",
    "        k = k + 1\n",
    "        \n",
    "    return 1 / final\n",
    "print estimate_pi()\n",
    "    "
   ]
  },
  {
   "cell_type": "markdown",
   "metadata": {},
   "source": [
    "## Reading Journal feedback\n",
    "\n",
    "Have any comments on this Reading Journal? Feel free to leave them below and we'll read them when you submit your journal entry. This could include suggestions to improve the exercises, topics you'd like to see covered in class next time, or other feedback.\n",
    "\n",
    "If you have Python questions or run into problems while completing the reading, you should post them to Piazza instead so you can get a quick response before your journal is submitted."
   ]
  },
  {
   "cell_type": "markdown",
   "metadata": {},
   "source": [
    " "
   ]
  },
  {
   "cell_type": "markdown",
   "metadata": {},
   "source": [
    " "
   ]
  },
  {
   "cell_type": "markdown",
   "metadata": {},
   "source": [
    "I had some trouble with getting the table in Exercise 3 of Chapter 7 to format correctly, as you can see. The columns wouldn't line up properly. Do you know how to do that?"
   ]
  },
  {
   "cell_type": "markdown",
   "metadata": {},
   "source": [
    " "
   ]
  },
  {
   "cell_type": "markdown",
   "metadata": {},
   "source": [
    " "
   ]
  },
  {
   "cell_type": "markdown",
   "metadata": {},
   "source": [
    "In the example in the Break section, I am not entirely sure what the break is doing...\n",
    "Would the code behave differently without it? It seems like it's not really doing anything...?"
   ]
  },
  {
   "cell_type": "markdown",
   "metadata": {},
   "source": [
    " "
   ]
  },
  {
   "cell_type": "markdown",
   "metadata": {},
   "source": [
    " "
   ]
  },
  {
   "cell_type": "code",
   "execution_count": 53,
   "metadata": {
    "collapsed": false
   },
   "outputs": [
    {
     "ename": "SyntaxError",
     "evalue": "invalid syntax (<ipython-input-53-3e2a7c72094b>, line 1)",
     "output_type": "error",
     "traceback": [
      "\u001b[1;36m  File \u001b[1;32m\"<ipython-input-53-3e2a7c72094b>\"\u001b[1;36m, line \u001b[1;32m1\u001b[0m\n\u001b[1;33m    It was a little confusing what we were intended to do with Exercise 3.\u001b[0m\n\u001b[1;37m         ^\u001b[0m\n\u001b[1;31mSyntaxError\u001b[0m\u001b[1;31m:\u001b[0m invalid syntax\n"
     ]
    }
   ],
   "source": [
    "It was a little confusing what we were intended to do with Exercise 3."
   ]
  },
  {
   "cell_type": "markdown",
   "metadata": {},
   "source": [
    " "
   ]
  },
  {
   "cell_type": "markdown",
   "metadata": {},
   "source": [
    " "
   ]
  },
  {
   "cell_type": "markdown",
   "metadata": {},
   "source": [
    " "
   ]
  },
  {
   "cell_type": "markdown",
   "metadata": {},
   "source": [
    " "
   ]
  },
  {
   "cell_type": "markdown",
   "metadata": {},
   "source": [
    " "
   ]
  },
  {
   "cell_type": "markdown",
   "metadata": {},
   "source": [
    " "
   ]
  },
  {
   "cell_type": "markdown",
   "metadata": {},
   "source": [
    " "
   ]
  },
  {
   "cell_type": "markdown",
   "metadata": {},
   "source": [
    " "
   ]
  },
  {
   "cell_type": "markdown",
   "metadata": {},
   "source": [
    " "
   ]
  },
  {
   "cell_type": "markdown",
   "metadata": {},
   "source": [
    " "
   ]
  },
  {
   "cell_type": "markdown",
   "metadata": {},
   "source": [
    " "
   ]
  },
  {
   "cell_type": "markdown",
   "metadata": {},
   "source": [
    " "
   ]
  },
  {
   "cell_type": "markdown",
   "metadata": {},
   "source": [
    " "
   ]
  },
  {
   "cell_type": "markdown",
   "metadata": {},
   "source": [
    " "
   ]
  },
  {
   "cell_type": "markdown",
   "metadata": {},
   "source": [
    " "
   ]
  },
  {
   "cell_type": "markdown",
   "metadata": {},
   "source": [
    " "
   ]
  },
  {
   "cell_type": "markdown",
   "metadata": {},
   "source": [
    " "
   ]
  },
  {
   "cell_type": "markdown",
   "metadata": {},
   "source": [
    " "
   ]
  },
  {
   "cell_type": "markdown",
   "metadata": {},
   "source": [
    " "
   ]
  },
  {
   "cell_type": "markdown",
   "metadata": {},
   "source": [
    " "
   ]
  },
  {
   "cell_type": "markdown",
   "metadata": {},
   "source": [
    " "
   ]
  },
  {
   "cell_type": "markdown",
   "metadata": {},
   "source": [
    " "
   ]
  },
  {
   "cell_type": "markdown",
   "metadata": {},
   "source": [
    " "
   ]
  },
  {
   "cell_type": "markdown",
   "metadata": {},
   "source": [
    " "
   ]
  },
  {
   "cell_type": "markdown",
   "metadata": {},
   "source": [
    " "
   ]
  },
  {
   "cell_type": "markdown",
   "metadata": {},
   "source": [
    " "
   ]
  },
  {
   "cell_type": "markdown",
   "metadata": {},
   "source": [
    " "
   ]
  },
  {
   "cell_type": "markdown",
   "metadata": {},
   "source": [
    " "
   ]
  },
  {
   "cell_type": "markdown",
   "metadata": {},
   "source": [
    " "
   ]
  },
  {
   "cell_type": "markdown",
   "metadata": {},
   "source": [
    " "
   ]
  },
  {
   "cell_type": "markdown",
   "metadata": {},
   "source": [
    " "
   ]
  },
  {
   "cell_type": "markdown",
   "metadata": {},
   "source": [
    " "
   ]
  },
  {
   "cell_type": "markdown",
   "metadata": {},
   "source": [
    " "
   ]
  },
  {
   "cell_type": "markdown",
   "metadata": {},
   "source": [
    " "
   ]
  },
  {
   "cell_type": "markdown",
   "metadata": {},
   "source": [
    " "
   ]
  },
  {
   "cell_type": "markdown",
   "metadata": {},
   "source": [
    " "
   ]
  },
  {
   "cell_type": "markdown",
   "metadata": {},
   "source": [
    " "
   ]
  },
  {
   "cell_type": "markdown",
   "metadata": {},
   "source": [
    "No comments so far. My only question is, if there is a break in a nested loop, does the break exit only the inner loop or both?"
   ]
  },
  {
   "cell_type": "markdown",
   "metadata": {},
   "source": [
    " "
   ]
  },
  {
   "cell_type": "markdown",
   "metadata": {},
   "source": [
    " "
   ]
  },
  {
   "cell_type": "markdown",
   "metadata": {},
   "source": [
    " "
   ]
  },
  {
   "cell_type": "markdown",
   "metadata": {},
   "source": [
    " "
   ]
  },
  {
   "cell_type": "markdown",
   "metadata": {},
   "source": [
    " "
   ]
  },
  {
   "cell_type": "markdown",
   "metadata": {},
   "source": [
    " "
   ]
  },
  {
   "cell_type": "markdown",
   "metadata": {},
   "source": [
    " "
   ]
  },
  {
   "cell_type": "markdown",
   "metadata": {},
   "source": [
    " "
   ]
  },
  {
   "cell_type": "markdown",
   "metadata": {},
   "source": [
    " "
   ]
  },
  {
   "cell_type": "markdown",
   "metadata": {},
   "source": [
    " "
   ]
  },
  {
   "cell_type": "markdown",
   "metadata": {},
   "source": [
    " "
   ]
  },
  {
   "cell_type": "markdown",
   "metadata": {},
   "source": [
    "I liked it! Curious about recursion since we keep getting hints at that. Nice to finally learn how to use while loops. Github is hard."
   ]
  },
  {
   "cell_type": "markdown",
   "metadata": {},
   "source": [
    " "
   ]
  }
 ],
 "metadata": {
  "kernelspec": {
   "display_name": "Python 2",
   "language": "python",
   "name": "python2"
  },
  "language_info": {
   "codemirror_mode": {
    "name": "ipython",
    "version": 2
   },
   "file_extension": ".py",
   "mimetype": "text/x-python",
   "name": "python",
   "nbconvert_exporter": "python",
   "pygments_lexer": "ipython2",
   "version": "2.7.6"
  }
 },
 "nbformat": 4,
 "nbformat_minor": 0
}
