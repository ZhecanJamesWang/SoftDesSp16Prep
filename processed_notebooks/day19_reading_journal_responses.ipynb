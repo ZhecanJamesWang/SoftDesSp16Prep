{
 "cells": [
  {
   "cell_type": "markdown",
   "metadata": {
    "is_question": true,
    "problem": "Exercise 19.1"
   },
   "source": [
    "### Exercise 1  \n",
    "\n",
    "Rewrite the following functions using list comprehensions."
   ]
  },
  {
   "cell_type": "code",
   "execution_count": 4,
   "metadata": {
    "collapsed": false,
    "solution": "Exercise 19.1"
   },
   "outputs": [
    {
     "data": {
      "text/plain": [
       "TestResults(failed=0, attempted=5)"
      ]
     },
     "execution_count": 4,
     "metadata": {},
     "output_type": "execute_result"
    }
   ],
   "source": [
    "def square(seq):\n",
    "    \"\"\"\n",
    "    Return a new list containing all the elements of 'seq'uence squared.\n",
    "    \n",
    "    >>> square([1, 2, 3])\n",
    "    [1, 4, 9]\n",
    "    >>> square([0, -5, 2.5])\n",
    "    [0, 25, 6.25]\n",
    "    >>> square([8, \"hello\", 10])\n",
    "    Traceback (most recent call last):\n",
    "      ...\n",
    "    TypeError: unsupported operand type(s) for ** or pow(): 'str' and 'int'\n",
    "    \"\"\"\n",
    "    return [elt**2 for elt in seq]\n",
    "\n",
    "def evens(seq):\n",
    "    \"\"\"\n",
    "    Return a new list containing only the elements of 'seq'uence that are even.\n",
    "    \n",
    "    >>> evens([1, 2, 3, 4])\n",
    "    [2, 4]\n",
    "    >>> evens(square(range(5)))\n",
    "    [0, 4, 16]\n",
    "    \"\"\"\n",
    "    return [elt for elt in seq if elt%2==0]\n",
    "\n",
    "\n",
    "import doctest\n",
    "doctest.testmod()\n",
    "        "
   ]
  },
  {
   "cell_type": "code",
   "execution_count": 4,
   "metadata": {
    "collapsed": false,
    "solution": "Exercise 19.1"
   },
   "outputs": [
    {
     "data": {
      "text/plain": [
       "TestResults(failed=0, attempted=5)"
      ]
     },
     "execution_count": 4,
     "metadata": {},
     "output_type": "execute_result"
    }
   ],
   "source": [
    "def square(seq):\n",
    "    \"\"\"\n",
    "    Return a new list containing all the elements of 'seq'uence squared.\n",
    "    \n",
    "    >>> square([1, 2, 3])\n",
    "    [1, 4, 9]\n",
    "    >>> square([0, -5, 2.5])\n",
    "    [0, 25, 6.25]\n",
    "    >>> square([8, \"hello\", 10])\n",
    "    Traceback (most recent call last):\n",
    "      ...\n",
    "    TypeError: unsupported operand type(s) for ** or pow(): 'str' and 'int'\n",
    "    \"\"\"\n",
    "#     result = []\n",
    "#     for item in seq:\n",
    "#         squared_value = item **2\n",
    "#         result.append(squared_value)\n",
    "#     return result\n",
    "\n",
    "    return [item**2 for item in seq]\n",
    "\n",
    "def evens(seq):\n",
    "    \"\"\"\n",
    "    Return a new list containing only the elements of 'seq'uence that are even.\n",
    "    \n",
    "    >>> evens([1, 2, 3, 4])\n",
    "    [2, 4]\n",
    "    >>> evens(square(range(5)))\n",
    "    [0, 4, 16]\n",
    "    \"\"\"\n",
    "#     result = []\n",
    "#     for item in seq:\n",
    "#         if item % 2 == 0:\n",
    "#             result.append(item)\n",
    "#     return result\n",
    "\n",
    "    return [item for item in seq if item%2==0]\n",
    "\n",
    "import doctest\n",
    "doctest.testmod()\n",
    "        "
   ]
  },
  {
   "cell_type": "code",
   "execution_count": 8,
   "metadata": {
    "collapsed": false,
    "solution": "Exercise 19.1"
   },
   "outputs": [
    {
     "data": {
      "text/plain": [
       "TestResults(failed=0, attempted=5)"
      ]
     },
     "execution_count": 8,
     "metadata": {},
     "output_type": "execute_result"
    }
   ],
   "source": [
    "def square(seq):\n",
    "    \"\"\"\n",
    "    Return a new list containing all the elements of 'seq'uence squared.\n",
    "    \n",
    "    >>> square([1, 2, 3])\n",
    "    [1, 4, 9]\n",
    "    >>> square([0, -5, 2.5])\n",
    "    [0, 25, 6.25]\n",
    "    >>> square([8, \"hello\", 10])\n",
    "    Traceback (most recent call last):\n",
    "      ...\n",
    "    TypeError: unsupported operand type(s) for ** or pow(): 'str' and 'int'\n",
    "    \"\"\"\n",
    "    result = [item**2 for item in seq]\n",
    "    return result\n",
    "    \n",
    "\n",
    "def evens(seq):\n",
    "    \"\"\"\n",
    "    Return a new list containing only the elements of 'seq'uence that are even.\n",
    "    \n",
    "    >>> evens([1, 2, 3, 4])\n",
    "    [2, 4]\n",
    "    >>> evens(square(range(5)))\n",
    "    [0, 4, 16]\n",
    "    \"\"\"\n",
    "    result = [item for item in seq if item%2 == 0]\n",
    "    return result\n",
    "\n",
    "\n",
    "import doctest\n",
    "doctest.testmod()\n",
    "        "
   ]
  },
  {
   "cell_type": "markdown",
   "metadata": {},
   "source": [
    "- The bracket operators indicate that we are constructing a new list. The expression inside the brackets specifies the elements of the list, and the for clause indicates what sequence we are traversing. \n",
    "- List comprehensions can also be used for filtering.\n",
    "- List comprehensions are concise and easy to read, at least for simple expressions. And they are usually faster than the equivalent for loops, sometimes much faster.\n",
    "- List comprehensions are harder to debug because you can’t put a print statement inside the loop."
   ]
  },
  {
   "cell_type": "code",
   "execution_count": 8,
   "metadata": {
    "collapsed": false,
    "solution": "Exercise 19.1"
   },
   "outputs": [
    {
     "data": {
      "text/plain": [
       "TestResults(failed=0, attempted=5)"
      ]
     },
     "execution_count": 8,
     "metadata": {},
     "output_type": "execute_result"
    }
   ],
   "source": [
    "def square(seq):\n",
    "    \"\"\"\n",
    "    Return a new list containing all the elements of 'seq'uence squared.\n",
    "    \n",
    "    >>> square([1, 2, 3])\n",
    "    [1, 4, 9]\n",
    "    >>> square([0, -5, 2.5])\n",
    "    [0, 25, 6.25]\n",
    "    >>> square([8, \"hello\", 10])\n",
    "    Traceback (most recent call last):\n",
    "      ...\n",
    "    TypeError: unsupported operand type(s) for ** or pow(): 'str' and 'int'\n",
    "    \"\"\"\n",
    "    #result = []\n",
    "    #for item in seq:\n",
    "    #    squared_value = item **2\n",
    "    #    result.append(squared_value)\n",
    "    #return result\n",
    "\n",
    "    return [item**2 for item in seq] #my first one-liner!\n",
    "\n",
    "\n",
    "def evens(seq):\n",
    "    \"\"\"\n",
    "    Return a new list containing only the elements of 'seq'uence that are even.\n",
    "    \n",
    "    >>> evens([1, 2, 3, 4])\n",
    "    [2, 4]\n",
    "    >>> evens(square(range(5)))\n",
    "    [0, 4, 16]\n",
    "    \"\"\"\n",
    "    #result = []\n",
    "    #for item in seq:\n",
    "    #    if item % 2 == 0:\n",
    "    #        result.append(item)\n",
    "    #return result\n",
    "    return [item for item in seq if item %2 == 0]\n",
    " \n",
    "\n",
    "\n",
    "import doctest\n",
    "doctest.testmod()"
   ]
  },
  {
   "cell_type": "code",
   "execution_count": 4,
   "metadata": {
    "collapsed": false,
    "solution": "Exercise 19.1"
   },
   "outputs": [
    {
     "data": {
      "text/plain": [
       "TestResults(failed=0, attempted=5)"
      ]
     },
     "execution_count": 4,
     "metadata": {},
     "output_type": "execute_result"
    }
   ],
   "source": [
    "def square(seq):\n",
    "    \"\"\"\n",
    "    Return a new list containing all the elements of 'seq'uence squared.\n",
    "    \n",
    "    >>> square([1, 2, 3])\n",
    "    [1, 4, 9]\n",
    "    >>> square([0, -5, 2.5])\n",
    "    [0, 25, 6.25]\n",
    "    >>> square([8, \"hello\", 10])\n",
    "    Traceback (most recent call last):\n",
    "      ...\n",
    "    TypeError: unsupported operand type(s) for ** or pow(): 'str' and 'int'\n",
    "    \"\"\"\n",
    "    result = []\n",
    "    return [s**2 for s in seq]\n",
    "def evens(seq):\n",
    "    \"\"\"\n",
    "    Return a new list containing only the elements of 'seq'uence that are even.\n",
    "    \n",
    "    >>> evens([1, 2, 3, 4])\n",
    "    [2, 4]\n",
    "    >>> evens(square(range(5)))\n",
    "    [0, 4, 16]\n",
    "    \"\"\"\n",
    "    return [s for s in seq if s % 2 == 0]\n",
    "\n",
    "import doctest\n",
    "doctest.testmod()\n",
    "        "
   ]
  },
  {
   "cell_type": "code",
   "execution_count": 1,
   "metadata": {
    "collapsed": false,
    "solution": "Exercise 19.1"
   },
   "outputs": [
    {
     "data": {
      "text/plain": [
       "TestResults(failed=0, attempted=5)"
      ]
     },
     "execution_count": 1,
     "metadata": {},
     "output_type": "execute_result"
    }
   ],
   "source": [
    "def square(seq):\n",
    "    \"\"\"\n",
    "    Return a new list containing all the elements of 'seq'uence squared.\n",
    "    \n",
    "    >>> square([1, 2, 3])\n",
    "    [1, 4, 9]\n",
    "    >>> square([0, -5, 2.5])\n",
    "    [0, 25, 6.25]\n",
    "    >>> square([8, \"hello\", 10])\n",
    "    Traceback (most recent call last):\n",
    "      ...\n",
    "    TypeError: unsupported operand type(s) for ** or pow(): 'str' and 'int'\n",
    "    \"\"\"\n",
    "#     result = []\n",
    "#     for item in seq:\n",
    "#         squared_value = item **2\n",
    "#         result.append(squared_value)\n",
    "    return [item**2 for item in seq]\n",
    "\n",
    "def evens(seq):\n",
    "    \"\"\"\n",
    "    Return a new list containing only the elements of 'seq'uence that are even.\n",
    "    \n",
    "    >>> evens([1, 2, 3, 4])\n",
    "    [2, 4]\n",
    "    >>> evens(square(range(5)))\n",
    "    [0, 4, 16]\n",
    "    \"\"\"\n",
    "#     result = []\n",
    "#     for item in seq:\n",
    "#         if item % 2 == 0:\n",
    "#             result.append(item)\n",
    "    return [item for item in seq if item%2==0]\n",
    "\n",
    "\n",
    "import doctest\n",
    "doctest.testmod()\n",
    "        "
   ]
  },
  {
   "cell_type": "code",
   "execution_count": 2,
   "metadata": {
    "collapsed": false,
    "solution": "Exercise 19.1"
   },
   "outputs": [
    {
     "data": {
      "text/plain": [
       "TestResults(failed=0, attempted=9)"
      ]
     },
     "execution_count": 2,
     "metadata": {},
     "output_type": "execute_result"
    }
   ],
   "source": [
    "def square(seq):\n",
    "    \"\"\"\n",
    "    Return a new list containing all the elements of 'seq'uence squared.\n",
    "    \n",
    "    >>> square([1, 2, 3])\n",
    "    [1, 4, 9]\n",
    "    >>> square([0, -5, 2.5])\n",
    "    [0, 25, 6.25]\n",
    "    >>> square([8, \"hello\", 10])\n",
    "    Traceback (most recent call last):\n",
    "      ...\n",
    "    TypeError: unsupported operand type(s) for ** or pow(): 'str' and 'int'\n",
    "    \"\"\"\n",
    "    return [x**2 for x in seq]\n",
    "\n",
    "def evens(seq):\n",
    "    \"\"\"\n",
    "    Return a new list containing only the elements of 'seq'uence that are even.\n",
    "    \n",
    "    >>> evens([1, 2, 3, 4])\n",
    "    [2, 4]\n",
    "    >>> evens(square(range(5)))\n",
    "    [0, 4, 16]\n",
    "    \"\"\"\n",
    "    return [x for x in seq if x%2==0]\n",
    "\n",
    "def oddsToOne(seq):\n",
    "    \"\"\"\n",
    "    Return a new list where all even values are preserved but odd values are changed to 1\n",
    "    >>> oddsToOne([1, 2, 3, 4])\n",
    "    [1, 2, 1, 4]\n",
    "    >>> oddsToOne(range(10))\n",
    "    [0, 1, 2, 1, 4, 1, 6, 1, 8, 1]\n",
    "    \"\"\"\n",
    "    return [x if x%2==0 else 1 for x in seq ]\n",
    "\n",
    "import doctest\n",
    "doctest.testmod()\n",
    "        "
   ]
  },
  {
   "cell_type": "code",
   "execution_count": 1,
   "metadata": {
    "collapsed": false,
    "solution": "Exercise 19.1"
   },
   "outputs": [
    {
     "data": {
      "text/plain": [
       "TestResults(failed=0, attempted=5)"
      ]
     },
     "execution_count": 1,
     "metadata": {},
     "output_type": "execute_result"
    }
   ],
   "source": [
    "def square(seq):\n",
    "    \"\"\"\n",
    "    Return a new list containing all the elements of 'seq'uence squared.\n",
    "    \n",
    "    >>> square([1, 2, 3])\n",
    "    [1, 4, 9]\n",
    "    >>> square([0, -5, 2.5])\n",
    "    [0, 25, 6.25]\n",
    "    >>> square([8, \"hello\", 10])\n",
    "    Traceback (most recent call last):\n",
    "      ...\n",
    "    TypeError: unsupported operand type(s) for ** or pow(): 'str' and 'int'\n",
    "    \"\"\"\n",
    "    return [item ** 2 for item in seq]\n",
    "\n",
    "def evens(seq):\n",
    "    \"\"\"\n",
    "    Return a new list containing only the elements of 'seq'uence that are even.\n",
    "    \n",
    "    >>> evens([1, 2, 3, 4])\n",
    "    [2, 4]\n",
    "    >>> evens(square(range(5)))\n",
    "    [0, 4, 16]\n",
    "    \"\"\"\n",
    "    return [item for item in seq if item % 2 == 0]\n",
    "\n",
    "\n",
    "import doctest\n",
    "doctest.testmod()\n",
    "        "
   ]
  },
  {
   "cell_type": "code",
   "execution_count": 1,
   "metadata": {
    "collapsed": false,
    "solution": "Exercise 19.1"
   },
   "outputs": [
    {
     "data": {
      "text/plain": [
       "TestResults(failed=0, attempted=5)"
      ]
     },
     "execution_count": 1,
     "metadata": {},
     "output_type": "execute_result"
    }
   ],
   "source": [
    "def square(seq):\n",
    "    \"\"\"\n",
    "    Return a new list containing all the elements of 'seq'uence squared.\n",
    "    \n",
    "    >>> square([1, 2, 3])\n",
    "    [1, 4, 9]\n",
    "    >>> square([0, -5, 2.5])\n",
    "    [0, 25, 6.25]\n",
    "    >>> square([8, \"hello\", 10])\n",
    "    Traceback (most recent call last):\n",
    "      ...\n",
    "    TypeError: unsupported operand type(s) for ** or pow(): 'str' and 'int'\n",
    "    \"\"\"\n",
    "#     result = []\n",
    "#     for item in seq:\n",
    "#         squared_value = item **2\n",
    "#         result.append(squared_value)\n",
    "#     return result\n",
    "\n",
    "    return [item **2 for item in seq]\n",
    "\n",
    "def evens(seq):\n",
    "    \"\"\"\n",
    "    Return a new list containing only the elements of 'seq'uence that are even.\n",
    "    \n",
    "    >>> evens([1, 2, 3, 4])\n",
    "    [2, 4]\n",
    "    >>> evens(square(range(5)))\n",
    "    [0, 4, 16]\n",
    "    \"\"\"\n",
    "#     result = []\n",
    "#     for item in seq:\n",
    "#         if item % 2 == 0:\n",
    "#             result.append(item)\n",
    "#     return result\n",
    "\n",
    "    return [item for item in seq if item % 2 == 0]\n",
    "\n",
    "import doctest\n",
    "doctest.testmod()\n",
    "        "
   ]
  },
  {
   "cell_type": "code",
   "execution_count": 2,
   "metadata": {
    "collapsed": false,
    "solution": "Exercise 19.1"
   },
   "outputs": [
    {
     "data": {
      "text/plain": [
       "TestResults(failed=0, attempted=5)"
      ]
     },
     "execution_count": 2,
     "metadata": {},
     "output_type": "execute_result"
    }
   ],
   "source": [
    "def square(seq):\n",
    "    \"\"\"\n",
    "    Return a new list containing all the elements of 'seq'uence squared.\n",
    "    \n",
    "    >>> square([1, 2, 3])\n",
    "    [1, 4, 9]\n",
    "    >>> square([0, -5, 2.5])\n",
    "    [0, 25, 6.25]\n",
    "    >>> square([8, \"hello\", 10])\n",
    "    Traceback (most recent call last):\n",
    "      ...\n",
    "    TypeError: unsupported operand type(s) for ** or pow(): 'str' and 'int'\n",
    "    \"\"\"\n",
    "    result = [item**2 for item in seq]\n",
    "    return result\n",
    "\n",
    "def evens(seq):\n",
    "    \"\"\"\n",
    "    Return a new list containing only the elements of 'seq'uence that are even.\n",
    "    \n",
    "    >>> evens([1, 2, 3, 4])\n",
    "    [2, 4]\n",
    "    >>> evens(square(range(5)))\n",
    "    [0, 4, 16]\n",
    "    \"\"\"\n",
    "    result = [item for item in seq if item%2==0]\n",
    "    return result\n",
    "\n",
    "\n",
    "import doctest\n",
    "doctest.testmod()\n",
    "        "
   ]
  },
  {
   "cell_type": "code",
   "execution_count": 1,
   "metadata": {
    "collapsed": false,
    "solution": "Exercise 19.1"
   },
   "outputs": [
    {
     "data": {
      "text/plain": [
       "TestResults(failed=0, attempted=5)"
      ]
     },
     "execution_count": 1,
     "metadata": {},
     "output_type": "execute_result"
    }
   ],
   "source": [
    "def square(seq):\n",
    "    \"\"\"\n",
    "    Return a new list containing all the elements of 'seq'uence squared.\n",
    "    \n",
    "    >>> square([1, 2, 3])\n",
    "    [1, 4, 9]\n",
    "    >>> square([0, -5, 2.5])\n",
    "    [0, 25, 6.25]\n",
    "    >>> square([8, \"hello\", 10])\n",
    "    Traceback (most recent call last):\n",
    "      ...\n",
    "    TypeError: unsupported operand type(s) for ** or pow(): 'str' and 'int'\n",
    "    \"\"\"\n",
    "    return [x**2 for x in seq]\n",
    "\n",
    "def evens(seq):\n",
    "    \"\"\"\n",
    "    Return a new list containing only the elements of 'seq'uence that are even.\n",
    "    \n",
    "    >>> evens([1, 2, 3, 4])\n",
    "    [2, 4]\n",
    "    >>> evens(square(range(5)))\n",
    "    [0, 4, 16]\n",
    "    \"\"\"\n",
    "    return [x for x in seq if not x%2]\n",
    "\n",
    "\n",
    "import doctest\n",
    "doctest.testmod()\n",
    "        "
   ]
  },
  {
   "cell_type": "code",
   "execution_count": 18,
   "metadata": {
    "collapsed": false,
    "solution": "Exercise 19.1"
   },
   "outputs": [
    {
     "data": {
      "text/plain": [
       "TestResults(failed=0, attempted=5)"
      ]
     },
     "execution_count": 18,
     "metadata": {},
     "output_type": "execute_result"
    }
   ],
   "source": [
    "def square(seq):\n",
    "    \"\"\"\n",
    "    Return a new list containing all the elements of 'seq'uence squared.\n",
    "    \n",
    "    >>> square([1, 2, 3])\n",
    "    [1, 4, 9]\n",
    "    >>> square([0, -5, 2.5])\n",
    "    [0, 25, 6.25]\n",
    "    >>> square([8, \"hello\", 10])\n",
    "    Traceback (most recent call last):\n",
    "      ...\n",
    "    TypeError: unsupported operand type(s) for ** or pow(): 'str' and 'int'\n",
    "    \"\"\"\n",
    "   \n",
    "    return [item**2 for item in seq]\n",
    "\n",
    "def evens(seq):\n",
    "    \"\"\"\n",
    "    Return a new list containing only the elements of 'seq'uence that are even.\n",
    "    \n",
    "    >>> evens([1, 2, 3, 4])\n",
    "    [2, 4]\n",
    "    >>> evens(square(range(5)))\n",
    "    [0, 4, 16]\n",
    "    \"\"\"\n",
    "    return [item if item%2 == 0 for item in seq]\n",
    "\n",
    "\n",
    "import doctest\n",
    "doctest.testmod()\n",
    "        "
   ]
  },
  {
   "cell_type": "code",
   "execution_count": 3,
   "metadata": {
    "collapsed": false,
    "solution": "Exercise 19.1"
   },
   "outputs": [
    {
     "data": {
      "text/plain": [
       "TestResults(failed=0, attempted=5)"
      ]
     },
     "execution_count": 3,
     "metadata": {},
     "output_type": "execute_result"
    }
   ],
   "source": [
    "def square(seq):\n",
    "    \"\"\"\n",
    "    Return a new list containing all the elements of 'seq'uence squared.\n",
    "    \n",
    "    >>> square([1, 2, 3])\n",
    "    [1, 4, 9]\n",
    "    >>> square([0, -5, 2.5])\n",
    "    [0, 25, 6.25]\n",
    "    >>> square([8, \"hello\", 10])\n",
    "    Traceback (most recent call last):\n",
    "      ...\n",
    "    TypeError: unsupported operand type(s) for ** or pow(): 'str' and 'int'\n",
    "    \"\"\"\n",
    "#     result = []\n",
    "#     for item in seq:\n",
    "#         squared_value = item **2\n",
    "#         result.append(squared_value)\n",
    "#     return result\n",
    "    return [item**2 for item in seq]\n",
    "\n",
    "def evens(seq):\n",
    "    \"\"\"\n",
    "    Return a new list containing only the elements of 'seq'uence that are even.\n",
    "    \n",
    "    >>> evens([1, 2, 3, 4])\n",
    "    [2, 4]\n",
    "    >>> evens(square(range(5)))\n",
    "    [0, 4, 16]\n",
    "    \"\"\"\n",
    "#     result = []\n",
    "#     for item in seq:\n",
    "#         if item % 2 == 0:\n",
    "#             result.append(item)\n",
    "#     return result\n",
    "    return [item for item in seq if item % 2 ==0]\n",
    "\n",
    "\n",
    "import doctest\n",
    "doctest.testmod()\n",
    "        "
   ]
  },
  {
   "cell_type": "code",
   "execution_count": 4,
   "metadata": {
    "collapsed": false,
    "solution": "Exercise 19.1"
   },
   "outputs": [
    {
     "data": {
      "text/plain": [
       "TestResults(failed=0, attempted=10)"
      ]
     },
     "execution_count": 4,
     "metadata": {},
     "output_type": "execute_result"
    }
   ],
   "source": [
    "def square(seq):\n",
    "    \"\"\"\n",
    "    Return a new list containing all the elements of 'seq'uence squared.\n",
    "    \n",
    "    >>> square([1, 2, 3])\n",
    "    [1, 4, 9]\n",
    "    >>> square([0, -5, 2.5])\n",
    "    [0, 25, 6.25]\n",
    "    >>> square([8, \"hello\", 10])\n",
    "    Traceback (most recent call last):\n",
    "      ...\n",
    "    TypeError: unsupported operand type(s) for ** or pow(): 'str' and 'int'\n",
    "    \"\"\"\n",
    "    result = []\n",
    "    for item in seq:\n",
    "        squared_value = item **2\n",
    "        result.append(squared_value)\n",
    "    return result\n",
    "\n",
    "def square2(seq):\n",
    "    \"\"\"\n",
    "    Return a new list containing all the elements of 'seq'uence squared.\n",
    "    \n",
    "    >>> square2([1, 2, 3])\n",
    "    [1, 4, 9]\n",
    "    >>> square([0, -5, 2.5])\n",
    "    [0, 25, 6.25]\n",
    "    >>> square2([8, \"hello\", 10])\n",
    "    Traceback (most recent call last):\n",
    "      ...\n",
    "    TypeError: unsupported operand type(s) for ** or pow(): 'str' and 'int'\n",
    "    \"\"\"\n",
    "    res = []\n",
    "    return [s**2 for s in seq]\n",
    "\n",
    "\n",
    "def evens(seq):\n",
    "    \"\"\"\n",
    "    Return a new list containing only the elements of 'seq'uence that are even.\n",
    "    \n",
    "    >>> evens([1, 2, 3, 4])\n",
    "    [2, 4]\n",
    "    >>> evens(square(range(5)))\n",
    "    [0, 4, 16]\n",
    "    \"\"\"\n",
    "    result = []\n",
    "    for item in seq:\n",
    "        if item % 2 == 0:\n",
    "            result.append(item)\n",
    "    return result\n",
    "\n",
    "\n",
    "def evens2(seq):\n",
    "    \"\"\"\n",
    "    Return a new list containing only the elements of 'seq'uence that are even.\n",
    "    \n",
    "    >>> evens2([1, 2, 3, 4])\n",
    "    [2, 4]\n",
    "    >>> evens2(square(range(5)))\n",
    "    [0, 4, 16]\n",
    "    \"\"\"\n",
    "    res = []\n",
    "    return [s for s in seq if s % 2 == 0]\n",
    "\n",
    "import doctest\n",
    "doctest.testmod()\n",
    "        "
   ]
  },
  {
   "cell_type": "code",
   "execution_count": 2,
   "metadata": {
    "collapsed": false,
    "solution": "Exercise 19.1"
   },
   "outputs": [
    {
     "data": {
      "text/plain": [
       "TestResults(failed=0, attempted=5)"
      ]
     },
     "execution_count": 2,
     "metadata": {},
     "output_type": "execute_result"
    }
   ],
   "source": [
    "def square(seq):\n",
    "    \"\"\"\n",
    "    Return a new list containing all the elements of 'seq'uence squared.\n",
    "    \n",
    "    >>> square([1, 2, 3])\n",
    "    [1, 4, 9]\n",
    "    >>> square([0, -5, 2.5])\n",
    "    [0, 25, 6.25]\n",
    "    >>> square([8, \"hello\", 10])\n",
    "    Traceback (most recent call last):\n",
    "      ...\n",
    "    TypeError: unsupported operand type(s) for ** or pow(): 'str' and 'int'\n",
    "    \"\"\"\n",
    "#     result = []\n",
    "#     for item in seq:\n",
    "#         squared_value = item **2\n",
    "#         result.append(squared_value)\n",
    "    return[item**2 for item in seq]\n",
    "\n",
    "def evens(seq):\n",
    "    \"\"\"\n",
    "    Return a new list containing only the elements of 'seq'uence that are even.\n",
    "    \n",
    "    >>> evens([1, 2, 3, 4])\n",
    "    [2, 4]\n",
    "    >>> evens(square(range(5)))\n",
    "    [0, 4, 16]\n",
    "    \"\"\"\n",
    "#     result = []\n",
    "#     for item in seq:\n",
    "#         if item % 2 == 0:\n",
    "#             result.append(item)\n",
    "    return [item for item in seq if item % 2 == 0]\n",
    "\n",
    "\n",
    "import doctest\n",
    "doctest.testmod()\n",
    "        "
   ]
  },
  {
   "cell_type": "code",
   "execution_count": 3,
   "metadata": {
    "collapsed": false,
    "solution": "Exercise 19.1"
   },
   "outputs": [
    {
     "data": {
      "text/plain": [
       "TestResults(failed=0, attempted=5)"
      ]
     },
     "execution_count": 3,
     "metadata": {},
     "output_type": "execute_result"
    }
   ],
   "source": [
    "def square(seq):\n",
    "    \"\"\"\n",
    "    Return a new list containing all the elements of 'seq'uence squared.\n",
    "    \n",
    "    >>> square([1, 2, 3])\n",
    "    [1, 4, 9]\n",
    "    >>> square([0, -5, 2.5])\n",
    "    [0, 25, 6.25]\n",
    "    >>> square([8, \"hello\", 10])\n",
    "    Traceback (most recent call last):\n",
    "      ...\n",
    "    TypeError: unsupported operand type(s) for ** or pow(): 'str' and 'int'\n",
    "    \"\"\"\n",
    "    return [item**2 for item in seq]\n",
    "\n",
    "def evens(seq):\n",
    "    \"\"\"\n",
    "    Return a new list containing only the elements of 'seq'uence that are even.\n",
    "    \n",
    "    >>> evens([1, 2, 3, 4])\n",
    "    [2, 4]\n",
    "    >>> evens(square(range(5)))\n",
    "    [0, 4, 16]\n",
    "    \"\"\"\n",
    "\n",
    "    return [item for item in seq if item % 2 == 0]\n",
    "\n",
    "\n",
    "import doctest\n",
    "doctest.testmod()\n",
    "        "
   ]
  },
  {
   "cell_type": "code",
   "execution_count": 12,
   "metadata": {
    "collapsed": false,
    "solution": "Exercise 19.1"
   },
   "outputs": [
    {
     "data": {
      "text/plain": [
       "TestResults(failed=0, attempted=7)"
      ]
     },
     "execution_count": 12,
     "metadata": {},
     "output_type": "execute_result"
    }
   ],
   "source": [
    "def square(seq):\n",
    "    \"\"\"\n",
    "    Return a new list containing all the elements of 'seq'uence squared.\n",
    "    \n",
    "    >>> square([1, 2, 3])\n",
    "    [1, 4, 9]\n",
    "    >>> square([0, -5, 2.5])\n",
    "    [0, 25, 6.25]\n",
    "    >>> square([8, \"hello\", 10])\n",
    "    Traceback (most recent call last):\n",
    "      ...\n",
    "    TypeError: unsupported operand type(s) for ** or pow(): 'str' and 'int'\n",
    "    \"\"\"\n",
    "    return [item **2 for item in seq]\n",
    "\n",
    "def evens(seq):\n",
    "    \"\"\"\n",
    "    Return a new list containing only the elements of 'seq'uence that are even.\n",
    "    \n",
    "    >>> evens([1, 2, 3, 4])\n",
    "    [2, 4]\n",
    "    >>> evens(square(range(5)))\n",
    "    [0, 4, 16]\n",
    "    \"\"\"\n",
    "    return [item for item in seq if item % 2 == 0]\n",
    "\n",
    "import doctest\n",
    "doctest.testmod()\n",
    "        "
   ]
  },
  {
   "cell_type": "code",
   "execution_count": 1,
   "metadata": {
    "collapsed": false,
    "solution": "Exercise 19.1"
   },
   "outputs": [
    {
     "data": {
      "text/plain": [
       "TestResults(failed=0, attempted=5)"
      ]
     },
     "execution_count": 1,
     "metadata": {},
     "output_type": "execute_result"
    }
   ],
   "source": [
    "def square(seq):\n",
    "    \"\"\"\n",
    "    Return a new list containing all the elements of 'seq'uence squared.\n",
    "    \n",
    "    >>> square([1, 2, 3])\n",
    "    [1, 4, 9]\n",
    "    >>> square([0, -5, 2.5])\n",
    "    [0, 25, 6.25]\n",
    "    >>> square([8, \"hello\", 10])\n",
    "    Traceback (most recent call last):\n",
    "      ...\n",
    "    TypeError: unsupported operand type(s) for ** or pow(): 'str' and 'int'\n",
    "    \"\"\"\n",
    "    return [item**2 for item in seq]\n",
    "\n",
    "def evens(seq):\n",
    "    \"\"\"\n",
    "    Return a new list containing only the elements of 'seq'uence that are even.\n",
    "    \n",
    "    >>> evens([1, 2, 3, 4])\n",
    "    [2, 4]\n",
    "    >>> evens(square(range(5)))\n",
    "    [0, 4, 16]\n",
    "    \"\"\"\n",
    "    return [item for item in seq if item % 2 == 0]\n",
    "\n",
    "\n",
    "import doctest\n",
    "doctest.testmod()\n",
    "        "
   ]
  },
  {
   "cell_type": "code",
   "execution_count": 3,
   "metadata": {
    "collapsed": false,
    "solution": "Exercise 19.1"
   },
   "outputs": [
    {
     "data": {
      "text/plain": [
       "TestResults(failed=0, attempted=5)"
      ]
     },
     "execution_count": 3,
     "metadata": {},
     "output_type": "execute_result"
    }
   ],
   "source": [
    "def square(seq):\n",
    "    \"\"\"\n",
    "    Return a new list containing all the elements of 'seq'uence squared.\n",
    "    \n",
    "    >>> square([1, 2, 3])\n",
    "    [1, 4, 9]\n",
    "    >>> square([0, -5, 2.5])\n",
    "    [0, 25, 6.25]\n",
    "    >>> square([8, \"hello\", 10])\n",
    "    Traceback (most recent call last):\n",
    "      ...\n",
    "    TypeError: unsupported operand type(s) for ** or pow(): 'str' and 'int'\n",
    "    \"\"\"\n",
    "    return [a**2 for a in seq]\n",
    "\n",
    "def evens(seq):\n",
    "    \"\"\"\n",
    "    Return a new list containing only the elements of 'seq'uence that are even.\n",
    "    \n",
    "    >>> evens([1, 2, 3, 4])\n",
    "    [2, 4]\n",
    "    >>> evens(square(range(5)))\n",
    "    [0, 4, 16]\n",
    "    \"\"\"\n",
    "    return [b for b in seq if b % 2 == 0]\n",
    "\n",
    "\n",
    "import doctest\n",
    "doctest.testmod()\n",
    "        "
   ]
  },
  {
   "cell_type": "code",
   "execution_count": 6,
   "metadata": {
    "collapsed": false,
    "solution": "Exercise 19.1"
   },
   "outputs": [
    {
     "data": {
      "text/plain": [
       "TestResults(failed=0, attempted=5)"
      ]
     },
     "execution_count": 6,
     "metadata": {},
     "output_type": "execute_result"
    }
   ],
   "source": [
    "def square(seq):\n",
    "    \"\"\"\n",
    "    Return a new list containing all the elements of 'seq'uence squared.\n",
    "    \n",
    "    >>> square([1, 2, 3])\n",
    "    [1, 4, 9]\n",
    "    >>> square([0, -5, 2.5])\n",
    "    [0, 25, 6.25]\n",
    "    >>> square([8, \"hello\", 10])\n",
    "    Traceback (most recent call last):\n",
    "      ...\n",
    "    TypeError: unsupported operand type(s) for ** or pow(): 'str' and 'int'\n",
    "    \"\"\"\n",
    "    return [item**2 for item in seq]\n",
    "\n",
    "def evens(seq):\n",
    "    \"\"\"\n",
    "    Return a new list containing only the elements of 'seq'uence that are even.\n",
    "    \n",
    "    >>> evens([1, 2, 3, 4])\n",
    "    [2, 4]\n",
    "    >>> evens(square(range(5)))\n",
    "    [0, 4, 16]\n",
    "    \"\"\"\n",
    "    return [item for item in seq if item%2==0]\n",
    "\n",
    "import doctest\n",
    "doctest.testmod()\n",
    "        "
   ]
  },
  {
   "cell_type": "code",
   "execution_count": 4,
   "metadata": {
    "collapsed": false,
    "solution": "Exercise 19.1"
   },
   "outputs": [
    {
     "data": {
      "text/plain": [
       "[2, 4]"
      ]
     },
     "execution_count": 4,
     "metadata": {},
     "output_type": "execute_result"
    }
   ],
   "source": [
    "def square(seq):\n",
    "    \"\"\"\n",
    "    Return a new list containing all the elements of 'seq'uence squared.\n",
    "    \n",
    "    >>> square([1, 2, 3])\n",
    "    [1, 4, 9]\n",
    "    >>> square([0, -5, 2.5])\n",
    "    [0, 25, 6.25]\n",
    "    >>> square([8, \"hello\", 10])\n",
    "    Traceback (most recent call last):\n",
    "      ...\n",
    "    TypeError: unsupported operand type(s) for ** or pow(): 'str' and 'int'\n",
    "    \"\"\"\n",
    "    return[item**2 for item in seq]\n",
    "\n",
    "def evens(seq):\n",
    "    \"\"\"\n",
    "    Return a new list containing only the elements of 'seq'uence that are even.\n",
    "    \n",
    "    >>> evens([1, 2, 3, 4])\n",
    "    [2, 4]\n",
    "    >>> evens(square(range(5)))\n",
    "    [0, 4, 16]\n",
    "    \"\"\"\n",
    "    return[item for item in seq if item%2==0]\n",
    "\n",
    "\n",
    "import doctest\n",
    "doctest.testmod()\n"
   ]
  },
  {
   "cell_type": "code",
   "execution_count": 3,
   "metadata": {
    "collapsed": false,
    "solution": "Exercise 19.1"
   },
   "outputs": [
    {
     "data": {
      "text/plain": [
       "TestResults(failed=0, attempted=5)"
      ]
     },
     "execution_count": 3,
     "metadata": {},
     "output_type": "execute_result"
    }
   ],
   "source": [
    "def square(seq):\n",
    "    \"\"\"\n",
    "    Return a new list containing all the elements of 'seq'uence squared.\n",
    "    \n",
    "    >>> square([1, 2, 3])\n",
    "    [1, 4, 9]\n",
    "    >>> square([0, -5, 2.5])\n",
    "    [0, 25, 6.25]\n",
    "    >>> square([8, \"hello\", 10])\n",
    "    Traceback (most recent call last):\n",
    "      ...\n",
    "    TypeError: unsupported operand type(s) for ** or pow(): 'str' and 'int'\n",
    "    \"\"\"\n",
    "    return [item**2 for item in seq]\n",
    "\n",
    "def evens(seq):\n",
    "    \"\"\"\n",
    "    Return a new list containing only the elements of 'seq'uence that are even.\n",
    "    \n",
    "    >>> evens([1, 2, 3, 4])\n",
    "    [2, 4]\n",
    "    >>> evens(square(range(5)))\n",
    "    [0, 4, 16]\n",
    "    \"\"\"\n",
    "    return [item for item in seq if item % 2==0]\n",
    "\n",
    "\n",
    "import doctest\n",
    "doctest.testmod()\n",
    "        "
   ]
  },
  {
   "cell_type": "code",
   "execution_count": 2,
   "metadata": {
    "collapsed": false,
    "solution": "Exercise 19.1"
   },
   "outputs": [
    {
     "data": {
      "text/plain": [
       "TestResults(failed=0, attempted=5)"
      ]
     },
     "execution_count": 2,
     "metadata": {},
     "output_type": "execute_result"
    }
   ],
   "source": [
    "def square(seq):\n",
    "    \"\"\"\n",
    "    Return a new list containing all the elements of 'seq'uence squared.\n",
    "    \n",
    "    >>> square([1, 2, 3])\n",
    "    [1, 4, 9]\n",
    "    >>> square([0, -5, 2.5])\n",
    "    [0, 25, 6.25]\n",
    "    >>> square([8, \"hello\", 10])\n",
    "    Traceback (most recent call last):\n",
    "      ...\n",
    "    TypeError: unsupported operand type(s) for ** or pow(): 'str' and 'int'\n",
    "    \"\"\"\n",
    "\n",
    "    return [item**2 for item in seq ]\n",
    "\n",
    "def evens(seq):\n",
    "    \"\"\"\n",
    "    Return a new list containing only the elements of 'seq'uence that are even.\n",
    "    \n",
    "    >>> evens([1, 2, 3, 4])\n",
    "    [2, 4]\n",
    "    >>> evens(square(range(5)))\n",
    "    [0, 4, 16]\n",
    "    \"\"\"\n",
    "  \n",
    "    return [item for item in seq if item % 2 == 0]\n",
    "\n",
    "\n",
    "import doctest\n",
    "doctest.testmod()\n",
    "        "
   ]
  },
  {
   "cell_type": "code",
   "execution_count": 5,
   "metadata": {
    "collapsed": false,
    "solution": "Exercise 19.1"
   },
   "outputs": [
    {
     "data": {
      "text/plain": [
       "TestResults(failed=0, attempted=5)"
      ]
     },
     "execution_count": 5,
     "metadata": {},
     "output_type": "execute_result"
    }
   ],
   "source": [
    "def square(seq):\n",
    "    \"\"\"\n",
    "    Return a new list containing all the elements of 'seq'uence squared.\n",
    "    \n",
    "    >>> square([1, 2, 3])\n",
    "    [1, 4, 9]\n",
    "    >>> square([0, -5, 2.5])\n",
    "    [0, 25, 6.25]\n",
    "    >>> square([8, \"hello\", 10])\n",
    "    Traceback (most recent call last):\n",
    "      ...\n",
    "    TypeError: unsupported operand type(s) for ** or pow(): 'str' and 'int'\n",
    "    \"\"\"\n",
    "    return [x**2 for x in seq]\n",
    "\n",
    "def evens(seq):\n",
    "    \"\"\"\n",
    "    Return a new list containing only the elements of 'seq'uence that are even.\n",
    "    \n",
    "    >>> evens([1, 2, 3, 4])\n",
    "    [2, 4]\n",
    "    >>> evens(square(range(5)))\n",
    "    [0, 4, 16]\n",
    "    \"\"\"\n",
    "    return [x for x in seq if x % 2 == 0]\n",
    "\n",
    "\n",
    "import doctest\n",
    "doctest.testmod()\n",
    "        "
   ]
  },
  {
   "cell_type": "code",
   "execution_count": 18,
   "metadata": {
    "collapsed": false,
    "solution": "Exercise 19.1"
   },
   "outputs": [
    {
     "data": {
      "text/plain": [
       "TestResults(failed=0, attempted=5)"
      ]
     },
     "execution_count": 18,
     "metadata": {},
     "output_type": "execute_result"
    }
   ],
   "source": [
    "def square(seq):\n",
    "    \"\"\"\n",
    "    Return a new list containing all the elements of 'seq'uence squared.\n",
    "    \n",
    "    >>> square([1, 2, 3])\n",
    "    [1, 4, 9]\n",
    "    >>> square([0, -5, 2.5])\n",
    "    [0, 25, 6.25]\n",
    "    >>> square([8, \"hello\", 10])\n",
    "    Traceback (most recent call last):\n",
    "      ...\n",
    "    TypeError: unsupported operand type(s) for ** or pow(): 'str' and 'int'\n",
    "    \"\"\"\n",
    "    result = []\n",
    "    for item in seq:\n",
    "        squared_value = item **2\n",
    "        result.append(squared_value)\n",
    "    return result\n",
    "\n",
    "def evens(seq):\n",
    "    \"\"\"\n",
    "    Return a new list containing only the elements of 'seq'uence that are even.\n",
    "    \n",
    "    >>> evens([1, 2, 3, 4])\n",
    "    [2, 4]\n",
    "    >>> evens(square(range(5)))\n",
    "    [0, 4, 16]\n",
    "    \"\"\"\n",
    "    result = []\n",
    "    for item in seq:\n",
    "        if item % 2 == 0:\n",
    "            result.append(item)\n",
    "    return result\n",
    "\n",
    "\n",
    "import doctest\n",
    "doctest.testmod()\n",
    "        "
   ]
  },
  {
   "cell_type": "code",
   "execution_count": 3,
   "metadata": {
    "collapsed": false,
    "solution": "Exercise 19.1"
   },
   "outputs": [
    {
     "data": {
      "text/plain": [
       "TestResults(failed=0, attempted=5)"
      ]
     },
     "execution_count": 3,
     "metadata": {},
     "output_type": "execute_result"
    }
   ],
   "source": [
    "def square(seq):\n",
    "    \"\"\"\n",
    "    Return a new list containing all the elements of 'seq'uence squared.\n",
    "    \n",
    "    >>> square([1, 2, 3])\n",
    "    [1, 4, 9]\n",
    "    >>> square([0, -5, 2.5])\n",
    "    [0, 25, 6.25]\n",
    "    >>> square([8, \"hello\", 10])\n",
    "    Traceback (most recent call last):\n",
    "      ...\n",
    "    TypeError: unsupported operand type(s) for ** or pow(): 'str' and 'int'\n",
    "    \"\"\"\n",
    "#     result = []\n",
    "#     for item in seq:\n",
    "#         squared_value = item **2\n",
    "#         result.append(squared_value)\n",
    "#     return result\n",
    "    return [item**2 for item in seq]\n",
    "\n",
    "def evens(seq):\n",
    "    \"\"\"\n",
    "    Return a new list containing only the elements of 'seq'uence that are even.\n",
    "    \n",
    "    >>> evens([1, 2, 3, 4])\n",
    "    [2, 4]\n",
    "    >>> evens(square(range(5)))\n",
    "    [0, 4, 16]\n",
    "    \"\"\"\n",
    "#     result = []\n",
    "#     for item in seq:\n",
    "#         if item % 2 == 0:\n",
    "#             result.append(item)\n",
    "#     return result\n",
    "    return [item for item in seq if item%2 == 0]\n",
    "\n",
    "\n",
    "import doctest\n",
    "doctest.testmod()\n",
    "        "
   ]
  },
  {
   "cell_type": "code",
   "execution_count": 5,
   "metadata": {
    "collapsed": false,
    "solution": "Exercise 19.1"
   },
   "outputs": [
    {
     "data": {
      "text/plain": [
       "TestResults(failed=0, attempted=5)"
      ]
     },
     "execution_count": 5,
     "metadata": {},
     "output_type": "execute_result"
    }
   ],
   "source": [
    "def square(seq):\n",
    "    \"\"\"\n",
    "    Return a new list containing all the elements of 'seq'uence squared.\n",
    "    \n",
    "    >>> square([1, 2, 3])\n",
    "    [1, 4, 9]\n",
    "    >>> square([0, -5, 2.5])\n",
    "    [0, 25, 6.25]\n",
    "    >>> square([8, \"hello\", 10])\n",
    "    Traceback (most recent call last):\n",
    "      ...\n",
    "    TypeError: unsupported operand type(s) for ** or pow(): 'str' and 'int'\n",
    "    \"\"\"\n",
    "    result = [item**2 for item in seq]\n",
    "    return result\n",
    "\n",
    "def evens(seq):\n",
    "    \"\"\"\n",
    "    Return a new list containing only the elements of 'seq'uence that are even.\n",
    "    \n",
    "    >>> evens([1, 2, 3, 4])\n",
    "    [2, 4]\n",
    "    >>> evens(square(range(5)))\n",
    "    [0, 4, 16]\n",
    "    \"\"\"\n",
    "    result = [item for item in seq if item % 2 == 0]\n",
    "\n",
    "    return result\n",
    "\n",
    "\n",
    "import doctest\n",
    "doctest.testmod()\n",
    "        "
   ]
  },
  {
   "cell_type": "code",
   "execution_count": 9,
   "metadata": {
    "collapsed": false,
    "solution": "Exercise 19.1"
   },
   "outputs": [
    {
     "data": {
      "text/plain": [
       "TestResults(failed=0, attempted=5)"
      ]
     },
     "execution_count": 9,
     "metadata": {},
     "output_type": "execute_result"
    }
   ],
   "source": [
    "def square(seq):\n",
    "    \"\"\"\n",
    "    Return a new list containing all the elements of 'seq'uence squared.\n",
    "    \n",
    "    >>> square([1, 2, 3])\n",
    "    [1, 4, 9]\n",
    "    >>> square([0, -5, 2.5])\n",
    "    [0, 25, 6.25]\n",
    "    >>> square([8, \"hello\", 10])\n",
    "    Traceback (most recent call last):\n",
    "      ...\n",
    "    TypeError: unsupported operand type(s) for ** or pow(): 'str' and 'int'\n",
    "    \"\"\"\n",
    "    results = []\n",
    "    results = [x**2 for x in seq]\n",
    "    return results\n",
    "\n",
    "\n",
    "def evens(seq):\n",
    "    \"\"\"\n",
    "    Return a new list containing only the elements of 'seq'uence that are even.\n",
    "    \n",
    "    >>> evens([1, 2, 3, 4])\n",
    "    [2, 4]\n",
    "    >>> evens(square(range(5)))\n",
    "    [0, 4, 16]\n",
    "    \"\"\"\n",
    "    result = []\n",
    "    result = [x for x in seq if x%2==0]\n",
    "    return result\n",
    "\n",
    "\n",
    "import doctest\n",
    "doctest.testmod()\n",
    "        "
   ]
  },
  {
   "cell_type": "code",
   "execution_count": 2,
   "metadata": {
    "collapsed": false,
    "solution": "Exercise 19.1"
   },
   "outputs": [
    {
     "data": {
      "text/plain": [
       "TestResults(failed=0, attempted=5)"
      ]
     },
     "execution_count": 2,
     "metadata": {},
     "output_type": "execute_result"
    }
   ],
   "source": [
    "def square(seq):\n",
    "    \"\"\"\n",
    "    Return a new list containing all the elements of 'seq'uence squared.\n",
    "    \n",
    "    >>> square([1, 2, 3])\n",
    "    [1, 4, 9]\n",
    "    >>> square([0, -5, 2.5])\n",
    "    [0, 25, 6.25]\n",
    "    >>> square([8, \"hello\", 10])\n",
    "    Traceback (most recent call last):\n",
    "      ...\n",
    "    TypeError: unsupported operand type(s) for ** or pow(): 'str' and 'int'\n",
    "    \"\"\"\n",
    "    return [item ** 2 for item in seq]\n",
    "\n",
    "def evens(seq):\n",
    "    \"\"\"\n",
    "    Return a new list containing only the elements of 'seq'uence that are even.\n",
    "    \n",
    "    >>> evens([1, 2, 3, 4])\n",
    "    [2, 4]\n",
    "    >>> evens(square(range(5)))\n",
    "    [0, 4, 16]\n",
    "    \"\"\"\n",
    "    return [x for x in seq if x % 2 == 0]\n",
    "\n",
    "\n",
    "import doctest\n",
    "doctest.testmod()\n",
    "        "
   ]
  },
  {
   "cell_type": "code",
   "execution_count": 1,
   "metadata": {
    "collapsed": false,
    "solution": "Exercise 19.1"
   },
   "outputs": [
    {
     "data": {
      "text/plain": [
       "TestResults(failed=0, attempted=5)"
      ]
     },
     "execution_count": 1,
     "metadata": {},
     "output_type": "execute_result"
    }
   ],
   "source": [
    "def square(seq):\n",
    "    \"\"\"\n",
    "    Return a new list containing all the elements of 'seq'uence squared.\n",
    "    \n",
    "    >>> square([1, 2, 3])\n",
    "    [1, 4, 9]\n",
    "    >>> square([0, -5, 2.5])\n",
    "    [0, 25, 6.25]\n",
    "    >>> square([8, \"hello\", 10])\n",
    "    Traceback (most recent call last):\n",
    "      ...\n",
    "    TypeError: unsupported operand type(s) for ** or pow(): 'str' and 'int'\n",
    "    \"\"\"\n",
    "  \n",
    "    return [item**2 for item in seq]\n",
    "\n",
    "def evens(seq):\n",
    "    \"\"\"\n",
    "    Return a new list containing only the elements of 'seq'uence that are even.\n",
    "    \n",
    "    >>> evens([1, 2, 3, 4])\n",
    "    [2, 4]\n",
    "    >>> evens(square(range(5)))\n",
    "    [0, 4, 16]\n",
    "    \"\"\"\n",
    "    \n",
    "    return [item for item in seq if item % 2 == 0]\n",
    "\n",
    "\n",
    "import doctest\n",
    "doctest.testmod()\n",
    "        "
   ]
  },
  {
   "cell_type": "code",
   "execution_count": 7,
   "metadata": {
    "collapsed": false,
    "solution": "Exercise 19.1"
   },
   "outputs": [
    {
     "data": {
      "text/plain": [
       "TestResults(failed=0, attempted=5)"
      ]
     },
     "execution_count": 7,
     "metadata": {},
     "output_type": "execute_result"
    }
   ],
   "source": [
    "def square(seq):\n",
    "    \"\"\"\n",
    "    Return a new list containing all the elements of 'seq'uence squared.\n",
    "    \n",
    "    >>> square([1, 2, 3])\n",
    "    [1, 4, 9]\n",
    "    >>> square([0, -5, 2.5])\n",
    "    [0, 25, 6.25]\n",
    "    >>> square([8, \"hello\", 10])\n",
    "    Traceback (most recent call last):\n",
    "      ...\n",
    "    TypeError: unsupported operand type(s) for ** or pow(): 'str' and 'int'\n",
    "    \"\"\"\n",
    "#     result = []\n",
    "#     for item in seq:\n",
    "#         squared_value = item **2\n",
    "#         result.append(squared_value)\n",
    "    return [item**2 for item in seq]\n",
    "\n",
    "def evens(seq):\n",
    "    \"\"\"\n",
    "    Return a new list containing only the elements of 'seq'uence that are even.\n",
    "    \n",
    "    >>> evens([1, 2, 3, 4])\n",
    "    [2, 4]\n",
    "    >>> evens(square(range(5)))\n",
    "    [0, 4, 16]\n",
    "    \"\"\"\n",
    "#     result = []\n",
    "#     for item in seq:\n",
    "#         if item % 2 == 0:\n",
    "#             result.append(item)\n",
    "    return [item for item in seq if item%2 == 0]\n",
    "\n",
    "\n",
    "import doctest\n",
    "doctest.testmod()\n",
    "        "
   ]
  },
  {
   "cell_type": "code",
   "execution_count": 15,
   "metadata": {
    "collapsed": false,
    "solution": "Exercise 19.1"
   },
   "outputs": [
    {
     "data": {
      "text/plain": [
       "TestResults(failed=0, attempted=5)"
      ]
     },
     "execution_count": 15,
     "metadata": {},
     "output_type": "execute_result"
    }
   ],
   "source": [
    "def square(seq):\n",
    "    \"\"\"\n",
    "    Return a new list containing all the elements of 'seq'uence squared.\n",
    "    \n",
    "    >>> square([1, 2, 3])\n",
    "    [1, 4, 9]\n",
    "    >>> square([0, -5, 2.5])\n",
    "    [0, 25, 6.25]\n",
    "    >>> square([8, \"hello\", 10])\n",
    "    Traceback (most recent call last):\n",
    "      ...\n",
    "    TypeError: unsupported operand type(s) for ** or pow(): 'str' and 'int'\n",
    "    \"\"\"\n",
    "#     result = []\n",
    "#     for item in seq:\n",
    "#         squared_value = item **2\n",
    "#         result.append(squared_value)\n",
    "#     return result\n",
    "\n",
    "    return [x**2 for x in seq]\n",
    "\n",
    "\n",
    "\n",
    "def evens(seq):\n",
    "    \"\"\"\n",
    "    Return a new list containing only the elements of 'seq'uence that are even.\n",
    "    \n",
    "    >>> evens([1, 2, 3, 4])\n",
    "    [2, 4]\n",
    "    >>> evens(square(range(5)))\n",
    "    [0, 4, 16]\n",
    "    \"\"\"\n",
    "#     result = []\n",
    "#     for item in seq:\n",
    "#         if item % 2 == 0:\n",
    "#             result.append(item)\n",
    "#     return result\n",
    "    return [s for s in seq if s%2 == 0]\n",
    "\n",
    "\n",
    "import doctest\n",
    "doctest.testmod()\n",
    "        "
   ]
  },
  {
   "cell_type": "code",
   "execution_count": 1,
   "metadata": {
    "collapsed": false,
    "solution": "Exercise 19.1"
   },
   "outputs": [
    {
     "data": {
      "text/plain": [
       "TestResults(failed=0, attempted=5)"
      ]
     },
     "execution_count": 1,
     "metadata": {},
     "output_type": "execute_result"
    }
   ],
   "source": [
    "def square(seq):\n",
    "    \"\"\"\n",
    "    Return a new list containing all the elements of 'seq'uence squared.\n",
    "    \n",
    "    >>> square([1, 2, 3])\n",
    "    [1, 4, 9]\n",
    "    >>> square([0, -5, 2.5])\n",
    "    [0, 25, 6.25]\n",
    "    >>> square([8, \"hello\", 10])\n",
    "    Traceback (most recent call last):\n",
    "      ...\n",
    "    TypeError: unsupported operand type(s) for ** or pow(): 'str' and 'int'\n",
    "    \"\"\"\n",
    "\n",
    "    return [x**2 for x in seq]\n",
    "\n",
    "def evens(seq):\n",
    "    \"\"\"\n",
    "    Return a new list containing only the elements of 'seq'uence that are even.\n",
    "    \n",
    "    >>> evens([1, 2, 3, 4])\n",
    "    [2, 4]\n",
    "    >>> evens(square(range(5)))\n",
    "    [0, 4, 16]\n",
    "    \n",
    "    \"\"\"\n",
    "    \n",
    "    \n",
    "    return [x for x in seq if x % 2 == 0]\n",
    "\n",
    "\n",
    "import doctest\n",
    "doctest.testmod()\n",
    "        "
   ]
  },
  {
   "cell_type": "code",
   "execution_count": 4,
   "metadata": {
    "collapsed": false,
    "solution": "Exercise 19.1"
   },
   "outputs": [
    {
     "name": "stdout",
     "output_type": "stream",
     "text": [
      "[2, 4, 6, 8]\n"
     ]
    },
    {
     "data": {
      "text/plain": [
       "TestResults(failed=0, attempted=5)"
      ]
     },
     "execution_count": 4,
     "metadata": {},
     "output_type": "execute_result"
    }
   ],
   "source": [
    "def square(seq):\n",
    "    \"\"\"\n",
    "    Return a new list containing all the elements of 'seq'uence squared.\n",
    "    \n",
    "    >>> square([1, 2, 3])\n",
    "    [1, 4, 9]\n",
    "    >>> square([0, -5, 2.5])\n",
    "    [0, 25, 6.25]\n",
    "    >>> square([8, \"hello\", 10])\n",
    "    Traceback (most recent call last):\n",
    "      ...\n",
    "    TypeError: unsupported operand type(s) for ** or pow(): 'str' and 'int'\n",
    "    \"\"\"\n",
    "#     result = []\n",
    "#     for item in seq:\n",
    "#         squared_value = item **2\n",
    "#         result.append(squared_value)\n",
    "\n",
    "    return [item**2 for item in seq]\n",
    "\n",
    "def evens(seq):\n",
    "    \"\"\"\n",
    "    Return a new list containing only the elements of 'seq'uence that are even.\n",
    "    \n",
    "    >>> evens([1, 2, 3, 4])\n",
    "    [2, 4]\n",
    "    >>> evens(square(range(5)))\n",
    "    [0, 4, 16]\n",
    "    \"\"\"\n",
    "#     result = []\n",
    "#     for item in seq:\n",
    "#         if item % 2 == 0:\n",
    "#             result.append(item)\n",
    "#     return result\n",
    "    return [item for item in seq if item % 2 == 0]\n",
    "\n",
    "\n",
    "import doctest\n",
    "doctest.testmod()\n",
    "        "
   ]
  },
  {
   "cell_type": "code",
   "execution_count": 2,
   "metadata": {
    "collapsed": false,
    "solution": "Exercise 19.1"
   },
   "outputs": [
    {
     "name": "stdout",
     "output_type": "stream",
     "text": [
      "Trying:\n",
      "    evens([1, 2, 3, 4])\n",
      "Expecting:\n",
      "    [2, 4]\n",
      "ok\n",
      "Trying:\n",
      "    evens(square(range(5)))\n",
      "Expecting:\n",
      "    [0, 4, 16]\n",
      "ok\n",
      "Trying:\n",
      "    square([1, 2, 3])\n",
      "Expecting:\n",
      "    [1, 4, 9]\n",
      "ok\n",
      "Trying:\n",
      "    square([0, -5, 2.5])\n",
      "Expecting:\n",
      "    [0, 25, 6.25]\n",
      "ok\n",
      "Trying:\n",
      "    square([8, \"hello\", 10])\n",
      "Expecting:\n",
      "    Traceback (most recent call last):\n",
      "      ...\n",
      "    TypeError: unsupported operand type(s) for ** or pow(): 'str' and 'int'\n",
      "ok\n",
      "1 items had no tests:\n",
      "    __main__\n",
      "2 items passed all tests:\n",
      "   2 tests in __main__.evens\n",
      "   3 tests in __main__.square\n",
      "5 tests in 3 items.\n",
      "5 passed and 0 failed.\n",
      "Test passed.\n"
     ]
    },
    {
     "data": {
      "text/plain": [
       "TestResults(failed=0, attempted=5)"
      ]
     },
     "execution_count": 2,
     "metadata": {},
     "output_type": "execute_result"
    }
   ],
   "source": [
    "def square(seq):\n",
    "    \"\"\"\n",
    "    Return a new list containing all the elements of 'seq'uence squared.\n",
    "    \n",
    "    >>> square([1, 2, 3])\n",
    "    [1, 4, 9]\n",
    "    >>> square([0, -5, 2.5])\n",
    "    [0, 25, 6.25]\n",
    "    >>> square([8, \"hello\", 10])\n",
    "    Traceback (most recent call last):\n",
    "      ...\n",
    "    TypeError: unsupported operand type(s) for ** or pow(): 'str' and 'int'\n",
    "    \"\"\"\n",
    "\n",
    "    return [item**2 for item in seq]\n",
    "\n",
    "def evens(seq):\n",
    "    \"\"\"\n",
    "    Return a new list containing only the elements of 'seq'uence that are even.\n",
    "    \n",
    "    >>> evens([1, 2, 3, 4])\n",
    "    [2, 4]\n",
    "    >>> evens(square(range(5)))\n",
    "    [0, 4, 16]\n",
    "    \"\"\"\n",
    "    return [item for item in seq if item % 2 == 0]\n",
    "\n",
    "\n",
    "import doctest\n",
    "doctest.testmod(verbose=True)\n",
    "        "
   ]
  },
  {
   "cell_type": "code",
   "execution_count": 8,
   "metadata": {
    "collapsed": false,
    "solution": "Exercise 19.1"
   },
   "outputs": [
    {
     "data": {
      "text/plain": [
       "TestResults(failed=0, attempted=5)"
      ]
     },
     "execution_count": 8,
     "metadata": {},
     "output_type": "execute_result"
    }
   ],
   "source": [
    "def square(seq):\n",
    "    \"\"\"\n",
    "    Return a new list containing all the elements of 'seq'uence squared.\n",
    "    \n",
    "    >>> square([1, 2, 3])\n",
    "    [1, 4, 9]\n",
    "    >>> square([0, -5, 2.5])\n",
    "    [0, 25, 6.25]\n",
    "    >>> square([8, \"hello\", 10])\n",
    "    Traceback (most recent call last):\n",
    "      ...\n",
    "    TypeError: unsupported operand type(s) for ** or pow(): 'str' and 'int'\n",
    "    \"\"\"\n",
    "#     result = []\n",
    "#     for item in seq:\n",
    "#         squared_value = item **2\n",
    "#         result.append(squared_value)\n",
    "#     return result\n",
    "    return [s**2 for s in seq]\n",
    "\n",
    "def evens(seq):\n",
    "    \"\"\"\n",
    "    Return a new list containing only the elements of 'seq'uence that are even.\n",
    "    \n",
    "    >>> evens([1, 2, 3, 4])\n",
    "    [2, 4]\n",
    "    >>> evens(square(range(5)))\n",
    "    [0, 4, 16]\n",
    "    \"\"\"\n",
    "#     result = []\n",
    "#     for item in seq:\n",
    "#         if item % 2 == 0:\n",
    "#             result.append(item)\n",
    "    return [s for s in seq if s%2 == 0]\n",
    "\n",
    "\n",
    "import doctest\n",
    "doctest.testmod()"
   ]
  },
  {
   "cell_type": "code",
   "execution_count": 7,
   "metadata": {
    "collapsed": false,
    "solution": "Exercise 19.1"
   },
   "outputs": [
    {
     "name": "stdout",
     "output_type": "stream",
     "text": [
      "**********************************************************************\n",
      "File \"__main__\", line 9, in __main__.formal_greeting\n",
      "Failed example:\n",
      "    formal_greeting(\"Jasper\", names)\n",
      "Exception raised:\n",
      "    Traceback (most recent call last):\n",
      "      File \"/usr/lib/python2.7/doctest.py\", line 1315, in __run\n",
      "        compileflags, 1) in test.globs\n",
      "      File \"<doctest __main__.formal_greeting[1]>\", line 1, in <module>\n",
      "        formal_greeting(\"Jasper\", names)\n",
      "      File \"<ipython-input-5-92ac7ff0ef47>\", line 12, in formal_greeting\n",
      "        print \"Hello, Professor {}!\".format(name_dict[first_name])\n",
      "    KeyError: 'Jasper'\n",
      "**********************************************************************\n",
      "1 items had failures:\n",
      "   1 of   2 in __main__.formal_greeting\n",
      "***Test Failed*** 1 failures.\n"
     ]
    },
    {
     "data": {
      "text/plain": [
       "TestResults(failed=1, attempted=7)"
      ]
     },
     "execution_count": 7,
     "metadata": {},
     "output_type": "execute_result"
    }
   ],
   "source": [
    "def square(seq):\n",
    "    \"\"\"\n",
    "    Return a new list containing all the elements of 'seq'uence squared.\n",
    "    \n",
    "    >>> square([1, 2, 3])\n",
    "    [1, 4, 9]\n",
    "    >>> square([0, -5, 2.5])\n",
    "    [0, 25, 6.25]\n",
    "    >>> square([8, \"hello\", 10])\n",
    "    Traceback (most recent call last):\n",
    "      ...\n",
    "    TypeError: unsupported operand type(s) for ** or pow(): 'str' and 'int'\n",
    "    \"\"\"\n",
    "  \n",
    "    return [item**2 for item in seq]\n",
    "\n",
    "def evens(seq):\n",
    "    \"\"\"\n",
    "    Return a new list containing only the elements of 'seq'uence that are even.\n",
    "    \n",
    "    >>> evens([1, 2, 3, 4])\n",
    "    [2, 4]\n",
    "    >>> evens(square(range(5)))\n",
    "    [0, 4, 16]\n",
    "    \"\"\"\n",
    "    \n",
    "    return [item for item in seq if item%2 == 0]\n",
    "\n",
    "\n",
    "import doctest\n",
    "doctest.testmod()\n",
    "        "
   ]
  },
  {
   "cell_type": "code",
   "execution_count": 2,
   "metadata": {
    "collapsed": false,
    "solution": "Exercise 19.1"
   },
   "outputs": [
    {
     "data": {
      "text/plain": [
       "TestResults(failed=0, attempted=5)"
      ]
     },
     "execution_count": 2,
     "metadata": {},
     "output_type": "execute_result"
    }
   ],
   "source": [
    "def square(seq):\n",
    "    \"\"\"\n",
    "    Return a new list containing all the elements of 'seq'uence squared.\n",
    "    \n",
    "    >>> square([1, 2, 3])\n",
    "    [1, 4, 9]\n",
    "    >>> square([0, -5, 2.5])\n",
    "    [0, 25, 6.25]\n",
    "    >>> square([8, \"hello\", 10])\n",
    "    Traceback (most recent call last):\n",
    "      ...\n",
    "    TypeError: unsupported operand type(s) for ** or pow(): 'str' and 'int'\n",
    "    \"\"\"\n",
    "    return [x**2 for x in seq]\n",
    "\n",
    "def evens(seq):\n",
    "    \"\"\"\n",
    "    Return a new list containing only the elements of 'seq'uence that are even.\n",
    "    \n",
    "    >>> evens([1, 2, 3, 4])\n",
    "    [2, 4]\n",
    "    >>> evens(square(range(5)))\n",
    "    [0, 4, 16]\n",
    "    \"\"\"\n",
    "    return [x for x in seq if x%2 == 0]\n",
    "\n",
    "\n",
    "import doctest\n",
    "doctest.testmod()\n",
    "        "
   ]
  },
  {
   "cell_type": "code",
   "execution_count": 2,
   "metadata": {
    "collapsed": false,
    "solution": "Exercise 19.1"
   },
   "outputs": [
    {
     "data": {
      "text/plain": [
       "TestResults(failed=0, attempted=5)"
      ]
     },
     "execution_count": 2,
     "metadata": {},
     "output_type": "execute_result"
    }
   ],
   "source": [
    "def square(seq):\n",
    "    \"\"\"\n",
    "    Return a new list containing all the elements of 'seq'uence squared.\n",
    "    \n",
    "    >>> square([1, 2, 3])\n",
    "    [1, 4, 9]\n",
    "    >>> square([0, -5, 2.5])\n",
    "    [0, 25, 6.25]\n",
    "    >>> square([8, \"hello\", 10])\n",
    "    Traceback (most recent call last):\n",
    "      ...\n",
    "    TypeError: unsupported operand type(s) for ** or pow(): 'str' and 'int'\n",
    "    \"\"\"\n",
    "    result = []\n",
    "    return [item**2 for item in seq]\n",
    "\n",
    "def evens(seq):\n",
    "    \"\"\"\n",
    "    Return a new list containing only the elements of 'seq'uence that are even.\n",
    "    \n",
    "    >>> evens([1, 2, 3, 4])\n",
    "    [2, 4]\n",
    "    >>> evens(square(range(5)))\n",
    "    [0, 4, 16]\n",
    "    \"\"\"\n",
    "    result = []\n",
    "    for item in seq:\n",
    "        if item % 2 == 0:\n",
    "            result.append(item)\n",
    "    return [item for item in seq if item % 2 == 0]\n",
    "\n",
    "\n",
    "import doctest\n",
    "doctest.testmod()\n",
    "        "
   ]
  },
  {
   "cell_type": "markdown",
   "metadata": {
    "is_question": true,
    "problem": "Exercise 19.2"
   },
   "source": [
    "### Exercise 2 \n",
    "\n",
    "Complete the following function using an exception handler. How else might you implement it?"
   ]
  },
  {
   "cell_type": "code",
   "execution_count": 8,
   "metadata": {
    "collapsed": false,
    "solution": "Exercise 19.2"
   },
   "outputs": [],
   "source": [
    "names = {\"Paul\": \"Ruvolo\", \"Oliver\": \"Steele\", \"Ben\": \"Hill\"}\n",
    "\n",
    "def formal_greeting(first_name, name_dict):\n",
    "    \"\"\"\n",
    "    Greet SoftDes professors by last name, and strangers with some skepticism.\n",
    "    \n",
    "    >>> formal_greeting(\"Oliver\", names)\n",
    "    Hello, Professor Steele!\n",
    "    >>> formal_greeting(\"Jasper\", names)\n",
    "    Howdy, stranger!\n",
    "    \"\"\"\n",
    "    try:\n",
    "        print \"Hello, Professor {}!\".format(name_dict[first_name])\n",
    "    except KeyError:\n",
    "        print \"Howdy, stranger!\"\n",
    "    \n",
    "\n",
    "doctest.run_docstring_examples(formal_greeting, globals())    "
   ]
  },
  {
   "cell_type": "code",
   "execution_count": 6,
   "metadata": {
    "collapsed": false,
    "solution": "Exercise 19.2"
   },
   "outputs": [],
   "source": [
    "names = {\"Paul\": \"Ruvolo\", \"Oliver\": \"Steele\", \"Ben\": \"Hill\"}\n",
    "\n",
    "def formal_greeting(first_name, name_dict):\n",
    "    \"\"\"\n",
    "    Greet SoftDes professors by last name, and strangers with some skepticism.\n",
    "    \n",
    "    >>> formal_greeting(\"Oliver\", names)\n",
    "    Hello, Professor Steele!\n",
    "    >>> formal_greeting(\"Jasper\", names)\n",
    "    Who are you and what have you done with Hermoine\n",
    "    \"\"\"\n",
    "    try:\n",
    "        print \"Hello, Professor {}!\".format(name_dict[first_name])\n",
    "    except:\n",
    "        print \"Who are you and what have you done with Hermoine\"\n",
    "    \n",
    "\n",
    "doctest.run_docstring_examples(formal_greeting, globals())    "
   ]
  },
  {
   "cell_type": "code",
   "execution_count": 18,
   "metadata": {
    "collapsed": false,
    "solution": "Exercise 19.2"
   },
   "outputs": [],
   "source": [
    "names = {\"Paul\": \"Ruvolo\", \"Oliver\": \"Steele\", \"Ben\": \"Hill\"}\n",
    "\n",
    "def formal_greeting(first_name, name_dict):\n",
    "    \"\"\"\n",
    "    Greet SoftDes professors by last name, and strangers with some skepticism.\n",
    "    \n",
    "    >>> formal_greeting(\"Oliver\", names)\n",
    "    Hello, Professor Steele!\n",
    "    >>> formal_greeting(\"Jasper\", names)\n",
    "    Howdy, stranger!\n",
    "    \"\"\"\n",
    "    try:\n",
    "        print \"Hello, Professor {}!\".format(name_dict[first_name])\n",
    "    except KeyError:\n",
    "        print \"Howdy, stranger!\"\n",
    "\n",
    "    \n",
    "\n",
    "    \n",
    "    \n",
    "\n",
    "doctest.run_docstring_examples(formal_greeting, globals())    "
   ]
  },
  {
   "cell_type": "code",
   "execution_count": 3,
   "metadata": {
    "collapsed": false,
    "solution": "Exercise 19.2"
   },
   "outputs": [],
   "source": [
    "names = {\"Paul\": \"Ruvolo\", \"Oliver\": \"Steele\", \"Ben\": \"Hill\"}\n",
    "\n",
    "def formal_greeting(first_name, name_dict):\n",
    "    \"\"\"\n",
    "    Greet SoftDes professors by last name, and strangers with some skepticism.\n",
    "    \n",
    "    >>> formal_greeting(\"Oliver\", names)\n",
    "    Hello, Professor Steele!\n",
    "    >>> formal_greeting(\"Jasper\", names)\n",
    "    Howdy, stranger!\n",
    "    \"\"\"\n",
    "    try:\n",
    "        print \"Hello, Professor {}!\".format(name_dict[first_name])\n",
    "    except:\n",
    "        print \"Howdy, stranger!\"\n",
    "\n",
    "doctest.run_docstring_examples(formal_greeting, globals())    "
   ]
  },
  {
   "cell_type": "code",
   "execution_count": 3,
   "metadata": {
    "collapsed": false,
    "solution": "Exercise 19.2"
   },
   "outputs": [
    {
     "name": "stdout",
     "output_type": "stream",
     "text": [
      "**********************************************************************\nFile \"__main__\", line 14, in NoName\nFailed example:\n    formal_greeting(\"Oliver\", names)\nException raised:\n    Traceback (most recent call last):\n      File \"/Users/rgettys/anaconda/lib/python2.7/doctest.py\", line 1315, in __run\n        compileflags, 1) in test.globs\n      File \"<doctest NoName[0]>\", line 1, in <module>\n        formal_greeting(\"Oliver\", names)\n      File \"<ipython-input-3-ae67b97bb772>\", line 19, in formal_greeting\n        ProfNameError = ProfNameErrorClass()\n    TypeError: __init__() takes exactly 2 arguments (1 given)\n**********************************************************************\nFile \"__main__\", line 16, in NoName\nFailed example:\n    formal_greeting(\"Jasper\", names)\nException raised:\n    Traceback (most recent call last):\n      File \"/Users/rgettys/anaconda/lib/python2.7/doctest.py\", line 1315, in __run\n        compileflags, 1) in test.globs\n      File \"<doctest NoName[1]>\", line 1, in <module>\n        formal_greeting(\"Jasper\", names)\n      File \"<ipython-input-3-ae67b97bb772>\", line 19, in formal_greeting\n        ProfNameError = ProfNameErrorClass()\n    TypeError: __init__() takes exactly 2 arguments (1 given)\n"
     ]
    }
   ],
   "source": [
    "import doctest\n",
    "names = {\"Paul\": \"Ruvolo\", \"Oliver\": \"Steele\", \"Ben\": \"Hill\"}\n",
    "\n",
    "class ProfNameErrorClass(Exception):\n",
    "    def __init__(self, value):\n",
    "        self.value = value\n",
    "    def __str__(self):\n",
    "        return repr(self.value)\n",
    "\n",
    "def formal_greeting(first_name, name_dict):\n",
    "    \"\"\"\n",
    "    Greet SoftDes professors by last name, and strangers with some skepticism.\n",
    "    \n",
    "    >>> formal_greeting(\"Oliver\", names)\n",
    "    Hello, Professor Steele!\n",
    "    >>> formal_greeting(\"Jasper\", names)\n",
    "    Howdy, stranger!\n",
    "    \"\"\"\n",
    "    ProfNameError = ProfNameErrorClass()\n",
    "    \n",
    "    #print \"Hello, Professor {}!\".format(name_dict[first_name])\n",
    "    if first_name in name_dict:\n",
    "        print \"Hello, Professor {}!\".format(name_dict[first_name])\n",
    "    else:\n",
    "        raise ProfNameError #is this right??\n",
    "        print 'Howdy, Stranger'\n",
    "\n",
    "    \n",
    "        \n",
    "\n",
    "doctest.run_docstring_examples(formal_greeting, globals())"
   ]
  },
  {
   "cell_type": "code",
   "execution_count": 3,
   "metadata": {
    "collapsed": false,
    "solution": "Exercise 19.2"
   },
   "outputs": [],
   "source": [
    "names = {\"Paul\": \"Ruvolo\", \"Oliver\": \"Steele\", \"Ben\": \"Hill\"}\n",
    "\n",
    "def formal_greeting(first_name, name_dict):\n",
    "    \"\"\"\n",
    "    Greet SoftDes professors by last name, and strangers with some skepticism.\n",
    "    \n",
    "    >>> formal_greeting(\"Oliver\", names)\n",
    "    Hello, Professor Steele!\n",
    "    >>> formal_greeting(\"Jasper\", names)\n",
    "    Howdy, stranger!\n",
    "    \"\"\"\n",
    "    if first_name in name_dict:\n",
    "        print \"Hello, Professor {}!\".format(name_dict[first_name])\n",
    "    elif first_name == \"Jasper\":\n",
    "        print \"Howdy, stranger!\"\n",
    "    else:\n",
    "        raise MyError(\"Unacceptable.\")\n",
    "    \n",
    "\n",
    "doctest.run_docstring_examples(formal_greeting, globals())    "
   ]
  },
  {
   "cell_type": "code",
   "execution_count": 4,
   "metadata": {
    "collapsed": false,
    "solution": "Exercise 19.2"
   },
   "outputs": [
    {
     "name": "stdout",
     "output_type": "stream",
     "text": [
      "Hello, Professor Steele!\n",
      "Howdy, stranger!\n"
     ]
    }
   ],
   "source": [
    "names = {\"Paul\": \"Ruvolo\", \"Oliver\": \"Steele\", \"Ben\": \"Hill\"}\n",
    "\n",
    "def formal_greeting(first_name, name_dict):\n",
    "    \"\"\"\n",
    "    Greet SoftDes professors by last name, and strangers with some skepticism.\n",
    "    \n",
    "    >>> formal_greeting(\"Oliver\", names)\n",
    "    Hello, Professor Steele!\n",
    "    >>> formal_greeting(\"Jasper\", names)\n",
    "    Howdy, stranger!\n",
    "    \"\"\"\n",
    "    try:\n",
    "        print \"Hello, Professor {}!\".format(name_dict[first_name])\n",
    "    except KeyError:\n",
    "        print \"Howdy, stranger!\"\n",
    "    \n",
    "formal_greeting(\"Oliver\", names)\n",
    "formal_greeting(\"Jasper\", names)\n",
    "    \n",
    "doctest.run_docstring_examples(formal_greeting, globals())    #unsure why this isn't working."
   ]
  },
  {
   "cell_type": "code",
   "execution_count": 7,
   "metadata": {
    "collapsed": false,
    "solution": "Exercise 19.2"
   },
   "outputs": [],
   "source": [
    "names = {\"Paul\": \"Ruvolo\", \"Oliver\": \"Steele\", \"Ben\": \"Hill\"}\n",
    "\n",
    "def formal_greeting(first_name, name_dict):\n",
    "    \"\"\"\n",
    "    Greet SoftDes professors by last name, and strangers with some skepticism.\n",
    "    \n",
    "    >>> formal_greeting(\"Oliver\", names)\n",
    "    Hello, Professor Steele!\n",
    "    >>> formal_greeting(\"Jasper\", names)\n",
    "    Howdy, stranger!\n",
    "    \"\"\"\n",
    "    \n",
    "    #you could also implement this using an if statement\n",
    "    try:\n",
    "        print \"Hello, Professor {}!\".format(name_dict[first_name])\n",
    "    except KeyError:\n",
    "        print \"Howdy, stranger!\"\n",
    "\n",
    "doctest.run_docstring_examples(formal_greeting, globals())    "
   ]
  },
  {
   "cell_type": "code",
   "execution_count": null,
   "metadata": {
    "collapsed": false,
    "solution": "Exercise 19.2"
   },
   "outputs": [],
   "source": [
    "names = {\"Paul\": \"Ruvolo\", \"Oliver\": \"Steele\", \"Ben\": \"Hill\"}\n",
    "\n",
    "def formal_greeting(first_name, name_dict):\n",
    "    \"\"\"\n",
    "    Greet SoftDes professors by last name, and strangers with some skepticism.\n",
    "    \n",
    "    >>> formal_greeting(\"Oliver\", names)\n",
    "    Hello, Professor Steele!\n",
    "    >>> formal_greeting(\"Jasper\", names)\n",
    "    Howdy, stranger!\n",
    "    \"\"\"\n",
    "    while True:\n",
    "        try:\n",
    "            print \"Hello, Professor {}!\".format(name_dict[first_name])\n",
    "            break\n",
    "        except KeyError:\n",
    "            print \"Howdy, stranger!\"\n",
    "    \n",
    "\n",
    "doctest.run_docstring_examples(formal_greeting, globals())    "
   ]
  },
  {
   "cell_type": "code",
   "execution_count": 6,
   "metadata": {
    "collapsed": false,
    "solution": "Exercise 19.2"
   },
   "outputs": [],
   "source": [
    "names = {\"Paul\": \"Ruvolo\", \"Oliver\": \"Steele\", \"Ben\": \"Hill\"}\n",
    "\n",
    "def formal_greeting(first_name, name_dict):\n",
    "    \"\"\"\n",
    "    Greet SoftDes professors by last name, and strangers with some skepticism.\n",
    "    \n",
    "    >>> formal_greeting(\"Oliver\", names)\n",
    "    Hello, Professor Steele!\n",
    "    >>> formal_greeting(\"Jasper\", names)\n",
    "    Howdy, stranger!\n",
    "    \"\"\"\n",
    "    try:\n",
    "        print(\"Hello, Professor {}!\".format(name_dict[first_name]))\n",
    "    except:\n",
    "        print('Howdy, stranger!')\n",
    "\n",
    "doctest.run_docstring_examples(formal_greeting, globals())    "
   ]
  },
  {
   "cell_type": "code",
   "execution_count": 5,
   "metadata": {
    "collapsed": false,
    "solution": "Exercise 19.2"
   },
   "outputs": [],
   "source": [
    "names = {\"Paul\": \"Ruvolo\", \"Oliver\": \"Steele\", \"Ben\": \"Hill\"}\n",
    "\n",
    "def formal_greeting(first_name, name_dict):\n",
    "    \"\"\"\n",
    "    Greet SoftDes professors by last name, and strangers with some skepticism.\n",
    "    \n",
    "    >>> formal_greeting(\"Oliver\", names)\n",
    "    'Hello, Professor Steele!'\n",
    "    >>> formal_greeting(\"Jasper\", names)\n",
    "    'Howdy, stranger!'\n",
    "    \"\"\"\n",
    "    try:\n",
    "        return 'Hello, Professor {}!'.format(name_dict[first_name])\n",
    "    except KeyError:\n",
    "        return 'Howdy, stranger!'\n",
    "    \n",
    "\n",
    "doctest.run_docstring_examples(formal_greeting, globals())    "
   ]
  },
  {
   "cell_type": "code",
   "execution_count": 6,
   "metadata": {
    "collapsed": false,
    "solution": "Exercise 19.2"
   },
   "outputs": [],
   "source": [
    "import doctest\n",
    "names = {\"Paul\": \"Ruvolo\", \"Oliver\": \"Steele\", \"Ben\": \"Hill\"}\n",
    "\n",
    "def formal_greeting(first_name, name_dict):\n",
    "    \"\"\"\n",
    "    Greet SoftDes professors by last name, and strangers with some skepticism.\n",
    "    \n",
    "    >>> formal_greeting(\"Oliver\", names)\n",
    "    Hello, Professor Steele!\n",
    "    >>> formal_greeting(\"Jasper\", names)\n",
    "    Howdy, stranger!\n",
    "    \"\"\"\n",
    "    try:\n",
    "        print \"Hello, Professor {}!\".format(name_dict[first_name])\n",
    "    except KeyError:\n",
    "        print \"Howdy, stranger!\"\n",
    "    \n",
    "\n",
    "doctest.run_docstring_examples(formal_greeting, globals()) "
   ]
  },
  {
   "cell_type": "code",
   "execution_count": 6,
   "metadata": {
    "collapsed": false,
    "solution": "Exercise 19.2"
   },
   "outputs": [],
   "source": [
    "names = {\"Paul\": \"Ruvolo\", \"Oliver\": \"Steele\", \"Ben\": \"Hill\"}\n",
    "\n",
    "def formal_greeting(first_name, name_dict):\n",
    "    \"\"\"\n",
    "    Greet SoftDes professors by last name, and strangers with some skepticism.\n",
    "    \n",
    "    >>> formal_greeting(\"Oliver\", names)\n",
    "    Hello, Professor Steele!\n",
    "    >>> formal_greeting(\"Jasper\", names)\n",
    "    Howdy, stranger!\n",
    "    \"\"\"\n",
    "    try:\n",
    "        print \"Hello, Professor {}!\".format(name_dict[first_name])\n",
    "    except KeyError:\n",
    "        print \"Howdy, stranger!\"\n",
    "\n",
    "    \n",
    "\n",
    "doctest.run_docstring_examples(formal_greeting, globals())    "
   ]
  },
  {
   "cell_type": "code",
   "execution_count": 7,
   "metadata": {
    "collapsed": false,
    "solution": "Exercise 19.2"
   },
   "outputs": [],
   "source": [
    "names = {\"Paul\": \"Ruvolo\", \"Oliver\": \"Steele\", \"Ben\": \"Hill\"}\n",
    "\n",
    "def formal_greeting(first_name, name_dict):\n",
    "    \"\"\"\n",
    "    Greet SoftDes professors by last name, and strangers with some skepticism.\n",
    "    \n",
    "    >>> formal_greeting(\"Oliver\", names)\n",
    "    Hello, Professor Steele!\n",
    "    >>> formal_greeting(\"Jasper\", names)\n",
    "    Howdy, stranger!\n",
    "    \"\"\"\n",
    "    try:\n",
    "        print \"Hello, Professor {}!\".format(name_dict[first_name])\n",
    "    except:\n",
    "        print \"Howdy, stranger!\"\n",
    "    \n",
    "\n",
    "doctest.run_docstring_examples(formal_greeting, globals())    "
   ]
  },
  {
   "cell_type": "code",
   "execution_count": 3,
   "metadata": {
    "collapsed": false,
    "solution": "Exercise 19.2"
   },
   "outputs": [
    {
     "name": "stdout",
     "output_type": "stream",
     "text": [
      "**********************************************************************\n",
      "File \"__main__\", line 9, in NoName\n",
      "Failed example:\n",
      "    formal_greeting(\"Jasper\", names)\n",
      "Exception raised:\n",
      "    Traceback (most recent call last):\n",
      "      File \"/usr/lib/python2.7/doctest.py\", line 1315, in __run\n",
      "        compileflags, 1) in test.globs\n",
      "      File \"<doctest NoName[1]>\", line 1, in <module>\n",
      "        formal_greeting(\"Jasper\", names)\n",
      "      File \"<ipython-input-3-92ac7ff0ef47>\", line 12, in formal_greeting\n",
      "        print \"Hello, Professor {}!\".format(name_dict[first_name])\n",
      "    KeyError: 'Jasper'\n"
     ]
    }
   ],
   "source": [
    "names = {\"Paul\": \"Ruvolo\", \"Oliver\": \"Steele\", \"Ben\": \"Hill\"}\n",
    "\n",
    "def formal_greeting(first_name, name_dict):\n",
    "    \"\"\"\n",
    "    Greet SoftDes professors by last name, and strangers with some skepticism.\n",
    "    \n",
    "    >>> formal_greeting(\"Oliver\", names)\n",
    "    Hello, Professor Steele!\n",
    "    >>> formal_greeting(\"Jasper\", names)\n",
    "    Howdy, stranger!\n",
    "    \"\"\"\n",
    "    try:\n",
    "        print \"Hello, Professor {}!\".format(name_dict[first_name])\n",
    "    except KeyError:\n",
    "        print \"Hello, Professor {}!\".format(name_dict[first_name])\n",
    "        \n",
    "\n",
    "doctest.run_docstring_examples(formal_greeting, globals())    "
   ]
  },
  {
   "cell_type": "code",
   "execution_count": 11,
   "metadata": {
    "collapsed": false,
    "solution": "Exercise 19.2"
   },
   "outputs": [],
   "source": [
    "def formal_greeting(first_name):\n",
    "    \"\"\"\n",
    "    Greet SoftDes professors by last name, and strangers with some skepticism.\n",
    "    \n",
    "    >>> formal_greeting(\"Oliver\")\n",
    "    Hello, Professor Steele!\n",
    "    >>> formal_greeting(\"Jasper\")\n",
    "    Howdy, stranger!\n",
    "    \"\"\"\n",
    "    names = {\"Paul\": \"Ruvolo\", \"Oliver\": \"Steele\", \"Ben\": \"Hill\"}\n",
    "    try:\n",
    "        print \"Hello, Professor {}!\".format(names[first_name])\n",
    "    except:\n",
    "        print \"Howdy, stranger!\"\n",
    "    \n",
    "\n",
    "doctest.run_docstring_examples(formal_greeting, globals())    "
   ]
  },
  {
   "cell_type": "code",
   "execution_count": 11,
   "metadata": {
    "collapsed": false,
    "solution": "Exercise 19.2"
   },
   "outputs": [
    {
     "name": "stdout",
     "output_type": "stream",
     "text": [
      "**********************************************************************\n",
      "File \"__main__\", line 9, in NoName\n",
      "Failed example:\n",
      "    formal_greeting(\"Jasper\", names)\n",
      "Exception raised:\n",
      "    Traceback (most recent call last):\n",
      "      File \"/usr/lib/python2.7/doctest.py\", line 1315, in __run\n",
      "        compileflags, 1) in test.globs\n",
      "      File \"<doctest NoName[1]>\", line 1, in <module>\n",
      "        formal_greeting(\"Jasper\", names)\n",
      "      File \"<ipython-input-11-cdeda9d84e00>\", line 13, in formal_greeting\n",
      "        raise NameError(\"Howdy, stranger!\")\n",
      "    NameError: Howdy, stranger!\n"
     ]
    }
   ],
   "source": [
    "names = {\"Paul\": \"Ruvolo\", \"Oliver\": \"Steele\", \"Ben\": \"Hill\"}\n",
    "\n",
    "def formal_greeting(first_name, name_dict):\n",
    "    \"\"\"\n",
    "    Greet SoftDes professors by last name, and strangers with some skepticism.\n",
    "    \n",
    "    >>> formal_greeting(\"Oliver\", names)\n",
    "    Hello, Professor Steele!\n",
    "    >>> formal_greeting(\"Jasper\", names)\n",
    "    Howdy, stranger!\n",
    "    \"\"\"\n",
    "    if first_name not in name_dict:\n",
    "        raise NameError(\"Howdy, stranger!\")\n",
    "    else:\n",
    "        print \"Hello, Professor {}!\".format(name_dict[first_name])\n",
    "    \n",
    "\n",
    "doctest.run_docstring_examples(formal_greeting, globals())    "
   ]
  },
  {
   "cell_type": "code",
   "execution_count": 16,
   "metadata": {
    "collapsed": false,
    "solution": "Exercise 19.2"
   },
   "outputs": [],
   "source": [
    "names = {\"Paul\": \"Ruvolo\", \"Oliver\": \"Steele\", \"Ben\": \"Hill\"}\n",
    "\n",
    "def formal_greeting(first_name, name_dict):\n",
    "    \"\"\"\n",
    "    Greet SoftDes professors by last name, and strangers with some skepticism.\n",
    "    \n",
    "    >>> formal_greeting(\"Oliver\", names)\n",
    "    'Hello, Professor Steele!'\n",
    "    >>> formal_greeting(\"Jasper\", names)\n",
    "    'Howdy, stranger!'\n",
    "    \"\"\"\n",
    "    try:\n",
    "        return \"Hello, Professor {}!\".format(name_dict[first_name])\n",
    "    except KeyError:\n",
    "        return 'Howdy, stranger!'\n",
    "\n",
    "doctest.run_docstring_examples(formal_greeting, globals())    "
   ]
  },
  {
   "cell_type": "code",
   "execution_count": 7,
   "metadata": {
    "collapsed": false,
    "solution": "Exercise 19.2"
   },
   "outputs": [
    {
     "name": "stdout",
     "output_type": "stream",
     "text": [
      "Finding tests in NoName\n",
      "Trying:\n",
      "    formal_greeting(\"Oliver\", names)\n",
      "Expecting:\n",
      "    Hello, Professor Steele!\n",
      "ok\n",
      "Trying:\n",
      "    formal_greeting(\"Jasper\", names)\n",
      "Expecting:\n",
      "    Howdy, stranger!\n",
      "ok\n"
     ]
    }
   ],
   "source": [
    "names = {\"Paul\": \"Ruvolo\", \"Oliver\": \"Steele\", \"Ben\": \"Hill\"}\n",
    "\n",
    "def formal_greeting(first_name, name_dict):\n",
    "    \"\"\"\n",
    "    Greet SoftDes professors by last name, and strangers with some skepticism.\n",
    "    \n",
    "    >>> formal_greeting(\"Oliver\", names)\n",
    "    Hello, Professor Steele!\n",
    "    >>> formal_greeting(\"Jasper\", names)\n",
    "    Howdy, stranger!\n",
    "    \"\"\"\n",
    "    try:\n",
    "        print \"Hello, Professor {}!\".format(name_dict[first_name])\n",
    "\n",
    "    except KeyError as first_name:\n",
    "        print 'Howdy, stranger!'\n",
    "    \n",
    "\n",
    "doctest.run_docstring_examples(formal_greeting, globals(), verbose = True)    "
   ]
  },
  {
   "cell_type": "code",
   "execution_count": 13,
   "metadata": {
    "collapsed": false,
    "solution": "Exercise 19.2"
   },
   "outputs": [
    {
     "data": {
      "text/plain": [
       "TestResults(failed=0, attempted=7)"
      ]
     },
     "execution_count": 13,
     "metadata": {},
     "output_type": "execute_result"
    }
   ],
   "source": [
    "names = {\"Paul\": \"Ruvolo\", \"Oliver\": \"Steele\", \"Ben\": \"Hill\"}\n",
    "\n",
    "def formal_greeting(first_name, name_dict):\n",
    "    \"\"\"\n",
    "    Greet SoftDes professors by last name, and strangers with some skepticism.\n",
    "    \n",
    "    >>> formal_greeting(\"Oliver\", names)\n",
    "    Hello, Professor Steele!\n",
    "    >>> formal_greeting(\"Jasper\", names)\n",
    "    Howdy, Jasper!\n",
    "    \"\"\"\n",
    "    try:\n",
    "        print \"Hello, Professor {}!\".format(name_dict[first_name])\n",
    "    except:\n",
    "        print \"Howdy, {}!\".format(first_name)\n",
    "\n",
    "import doctest\n",
    "doctest.testmod()"
   ]
  },
  {
   "cell_type": "code",
   "execution_count": null,
   "metadata": {
    "collapsed": false,
    "solution": "Exercise 19.2"
   },
   "outputs": [],
   "source": [
    "names = {\"Paul\": \"Ruvolo\", \"Oliver\": \"Steele\", \"Ben\": \"Hill\"}\n",
    "\n",
    "def formal_greeting(first_name, name_dict):\n",
    "    \"\"\"\n",
    "    Greet SoftDes professors by last name, and strangers with some skepticism.\n",
    "    \n",
    "    >>> formal_greeting(\"Oliver\", names)\n",
    "    Hello, Professor Steele!\n",
    "    >>> formal_greeting(\"Jasper\", names)\n",
    "    Howdy, stranger!\n",
    "    \"\"\"\n",
    "    print \"Hello, Professor {}!\".format(name_dict[first_name])\n",
    "    \n",
    "\n",
    "doctest.run_docstring_examples(formal_greeting, globals())    "
   ]
  },
  {
   "cell_type": "markdown",
   "metadata": {},
   "source": [
    "This can also be implemented using an if/else statement."
   ]
  },
  {
   "cell_type": "code",
   "execution_count": 6,
   "metadata": {
    "collapsed": false,
    "solution": "Exercise 19.2"
   },
   "outputs": [],
   "source": [
    "names = {\"Paul\": \"Ruvolo\", \"Oliver\": \"Steele\", \"Ben\": \"Hill\"}\n",
    "\n",
    "def formal_greeting(first_name, name_dict):\n",
    "    \"\"\"\n",
    "    Greet SoftDes professors by last name, and strangers with some skepticism.\n",
    "    \n",
    "    >>> formal_greeting(\"Oliver\", names)\n",
    "    Hello, Professor Steele!\n",
    "    >>> formal_greeting(\"Jasper\", names)\n",
    "    Howdy, stranger!\n",
    "    \"\"\"\n",
    "    try:\n",
    "        print(\"Hello, Professor {}!\".format(name_dict[first_name]))\n",
    "    except KeyError:\n",
    "        print('Howdy, stranger!')\n",
    "\n",
    "doctest.run_docstring_examples(formal_greeting, globals())    "
   ]
  },
  {
   "cell_type": "code",
   "execution_count": null,
   "metadata": {
    "collapsed": false,
    "solution": "Exercise 19.2"
   },
   "outputs": [],
   "source": [
    "names = {\"Paul\": \"Ruvolo\", \"Oliver\": \"Steele\", \"Ben\": \"Hill\"}\n",
    "\n",
    "def formal_greeting(first_name, name_dict):\n",
    "    \"\"\"\n",
    "    Greet SoftDes professors by last name, and strangers with some skepticism.\n",
    "    \n",
    "    >>> formal_greeting(\"Oliver\", names)\n",
    "    Hello, Professor Steele!\n",
    "    >>> formal_greeting(\"Jasper\", names)\n",
    "    Howdy, stranger!\n",
    "    \"\"\"\n",
    "    \n",
    "    # I'm confused about this...\n",
    "    print \"Hello, Professor {}!\".format(name_dict[first_name])\n",
    "    \n",
    "\n",
    "doctest.run_docstring_examples(formal_greeting, globals())    "
   ]
  },
  {
   "cell_type": "code",
   "execution_count": 25,
   "metadata": {
    "collapsed": false,
    "solution": "Exercise 19.2"
   },
   "outputs": [],
   "source": [
    "import doctest\n",
    "names = {\"Paul\": \"Ruvolo\", \"Oliver\": \"Steele\", \"Ben\": \"Hill\"}\n",
    "\n",
    "def formal_greeting(first_name, name_dict):\n",
    "    \"\"\"\n",
    "    Greet SoftDes professors by last name, and strangers with some skepticism.\n",
    "    \n",
    "    >>> formal_greeting(\"Oliver\", names)\n",
    "    Hello, Professor Steele!\n",
    "    >>> formal_greeting(\"Jasper\", names)\n",
    "    Howdy, stranger!\n",
    "    \"\"\"\n",
    "    try: \n",
    "        print \"Hello, Professor {}!\".format(name_dict[first_name])\n",
    "    except:\n",
    "        print \"Howdy, stranger!\"\n",
    "\n",
    "doctest.run_docstring_examples(formal_greeting, globals())    "
   ]
  },
  {
   "cell_type": "code",
   "execution_count": 4,
   "metadata": {
    "collapsed": false,
    "solution": "Exercise 19.2"
   },
   "outputs": [
    {
     "name": "stdout",
     "output_type": "stream",
     "text": [
      "Hello, Professor Ruvolo!\n"
     ]
    }
   ],
   "source": [
    "names = {\"Paul\": \"Ruvolo\", \"Oliver\": \"Steele\", \"Ben\": \"Hill\"}\n",
    "\n",
    "def formal_greeting(first_name, name_dict):\n",
    "    \"\"\"\n",
    "    Greet SoftDes professors by last name, and strangers with some skepticism.\n",
    "    \n",
    "    >>> formal_greeting(\"Oliver\", names)\n",
    "    Hello, Professor Steele!\n",
    "    >>> formal_greeting(\"Jasper\", names)\n",
    "    Howdy, stranger!\n",
    "    \"\"\"\n",
    "    try:\n",
    "        print \"Hello, Professor {}!\".format(name_dict[first_name])\n",
    "    except KeyError:\n",
    "        print \"Howdy, stranger!\"\n",
    "    \n",
    "formal_greeting(\"Paul\", names)\n",
    "doctest.run_docstring_examples(formal_greeting, globals())    "
   ]
  },
  {
   "cell_type": "code",
   "execution_count": 6,
   "metadata": {
    "collapsed": false,
    "solution": "Exercise 19.2"
   },
   "outputs": [],
   "source": [
    "names = {\"Paul\": \"Ruvolo\", \"Oliver\": \"Steele\", \"Ben\": \"Hill\"}\n",
    "\n",
    "def formal_greeting(first_name, name_dict):\n",
    "    \"\"\"\n",
    "    Greet SoftDes professors by last name, and strangers with some skepticism.\n",
    "    \n",
    "    >>> formal_greeting(\"Oliver\", names)\n",
    "    Hello, Professor Steele!\n",
    "    >>> formal_greeting(\"Jasper\", names)\n",
    "    Howdy, stranger!\n",
    "    \"\"\"\n",
    "    try:\n",
    "        print \"Hello, Professor {}!\".format(name_dict[first_name])\n",
    "    except:\n",
    "        print \"Howdy, stranger!\"\n",
    "        \n",
    "def formal_greeting_alternate(first_name, name_dict):\n",
    "    \"\"\"\n",
    "    Greet SoftDes professors by last name, and strangers with some skepticism.\n",
    "    \n",
    "    >>> formal_greeting(\"Oliver\", names)\n",
    "    Hello, Professor Steele!\n",
    "    >>> formal_greeting(\"Jasper\", names)\n",
    "    Howdy, stranger!\n",
    "    \"\"\"\n",
    "    name = name_dict.get(first_name, None)\n",
    "    if name == None:\n",
    "        print \"Howdy, stranger!\"\n",
    "    else:\n",
    "        print \"Hello, Professor {}!\".format(name)\n",
    "\n",
    "doctest.run_docstring_examples(formal_greeting, globals())    "
   ]
  },
  {
   "cell_type": "code",
   "execution_count": 8,
   "metadata": {
    "collapsed": false,
    "solution": "Exercise 19.2"
   },
   "outputs": [
    {
     "name": "stdout",
     "output_type": "stream",
     "text": [
      "Finding tests in NoName\n",
      "Trying:\n",
      "    formal_greeting(\"Oliver\", names)\n",
      "Expecting:\n",
      "    Hello, Professor Steele!\n",
      "ok\n",
      "Trying:\n",
      "    formal_greeting(\"Jasper\", names)\n",
      "Expecting:\n",
      "    Howdy, stranger!\n",
      "ok\n"
     ]
    }
   ],
   "source": [
    "names = {\"Paul\": \"Ruvolo\", \"Oliver\": \"Steele\", \"Ben\": \"Hill\"}\n",
    "\n",
    "def formal_greeting(first_name, name_dict):\n",
    "    \"\"\"\n",
    "    Greet SoftDes professors by last name, and strangers with some skepticism.\n",
    "    \n",
    "    >>> formal_greeting(\"Oliver\", names)\n",
    "    Hello, Professor Steele!\n",
    "    >>> formal_greeting(\"Jasper\", names)\n",
    "    Howdy, stranger!\n",
    "    \"\"\"\n",
    "    try:\n",
    "        print \"Hello, Professor {}!\".format(name_dict[first_name])\n",
    "    \n",
    "    except KeyError:\n",
    "        print \"Howdy, stranger!\"\n",
    "    \n",
    "    \n",
    "\n",
    "doctest.run_docstring_examples(formal_greeting, globals(), verbose=True)    "
   ]
  },
  {
   "cell_type": "code",
   "execution_count": 15,
   "metadata": {
    "collapsed": false,
    "solution": "Exercise 19.2"
   },
   "outputs": [],
   "source": [
    "names = {\"Paul\": \"Ruvolo\", \"Oliver\": \"Steele\", \"Ben\": \"Hill\"}\n",
    "\n",
    "def formal_greeting(first_name, name_dict):\n",
    "    \"\"\"\n",
    "    Greet SoftDes professors by last name, and strangers with some skepticism.\n",
    "    \n",
    "    >>> formal_greeting(\"Oliver\", names)\n",
    "    Hello, Professor Steele!\n",
    "    >>> formal_greeting(\"Jasper\", names)\n",
    "    Howdy, stranger!\n",
    "    \"\"\"\n",
    "    try:\n",
    "        print \"Hello, Professor {}!\".format(name_dict[first_name])\n",
    "    except(KeyError):\n",
    "        print \"Howdy, stranger!\"\n",
    "\n",
    "\n",
    "doctest.run_docstring_examples(formal_greeting, globals())    "
   ]
  },
  {
   "cell_type": "code",
   "execution_count": 7,
   "metadata": {
    "collapsed": false,
    "solution": "Exercise 19.2"
   },
   "outputs": [],
   "source": [
    "names = {\"Paul\": \"Ruvolo\", \"Oliver\": \"Steele\", \"Ben\": \"Hill\"}\n",
    "\n",
    "def formal_greeting(first_name, name_dict):\n",
    "    \"\"\"\n",
    "    Greet SoftDes professors by last name, and strangers with some skepticism.\n",
    "    \n",
    "    >>> formal_greeting(\"Oliver\", names)\n",
    "    Hello, Professor Steele!\n",
    "    >>> formal_greeting(\"Jasper\", names)\n",
    "    Howdy, stranger!\n",
    "    \"\"\"\n",
    "    try:\n",
    "        print \"Hello, Professor {}!\".format(name_dict[first_name])\n",
    "    except Exception:\n",
    "        print \"Howdy, stranger!\"\n",
    "    \n",
    "\n",
    "doctest.run_docstring_examples(formal_greeting, globals()) "
   ]
  },
  {
   "cell_type": "code",
   "execution_count": 4,
   "metadata": {
    "collapsed": false,
    "solution": "Exercise 19.2"
   },
   "outputs": [],
   "source": [
    "names = {\"Paul\": \"Ruvolo\", \"Oliver\": \"Steele\", \"Ben\": \"Hill\"}\n",
    "\n",
    "def formal_greeting(first_name, name_dict):\n",
    "    \"\"\"\n",
    "    Greet SoftDes professors by last name, and strangers with some skepticism.\n",
    "    \n",
    "    >>> formal_greeting(\"Oliver\", names)\n",
    "    Hello, Professor Steele!\n",
    "    >>> formal_greeting(\"Jasper\", names)\n",
    "    Howdy, stranger!\n",
    "    \"\"\"\n",
    "    try:\n",
    "        print \"Hello, Professor {}!\".format(name_dict[first_name])\n",
    "    except:\n",
    "        print 'Howdy, stranger!'\n",
    "\n",
    "doctest.run_docstring_examples(formal_greeting, globals())    "
   ]
  },
  {
   "cell_type": "code",
   "execution_count": 6,
   "metadata": {
    "collapsed": false,
    "solution": "Exercise 19.2"
   },
   "outputs": [],
   "source": [
    "names = {\"Paul\": \"Ruvolo\", \"Oliver\": \"Steele\", \"Ben\": \"Hill\"}\n",
    "\n",
    "def formal_greeting(first_name, name_dict):\n",
    "    \"\"\"\n",
    "    Greet SoftDes professors by last name, and strangers with some skepticism.\n",
    "    \n",
    "    >>> formal_greeting(\"Oliver\", names)\n",
    "    Hello, Professor Steele!\n",
    "    >>> formal_greeting(\"Jasper\", names)\n",
    "    Howdy, stranger!\n",
    "    \"\"\"\n",
    "    try:\n",
    "        print(\"Hello, Professor {}!\".format(name_dict[first_name]))\n",
    "    except KeyError:\n",
    "        print('Howdy, stranger!')\n",
    "    \n",
    "\n",
    "doctest.run_docstring_examples(formal_greeting, globals())    "
   ]
  },
  {
   "cell_type": "markdown",
   "metadata": {
    "is_poll": true,
    "is_question": true,
    "problem": "Time spent"
   },
   "source": [
    "## Quick poll\n",
    "About how long did you spend working on this Reading Journal?"
   ]
  },
  {
   "cell_type": "code",
   "execution_count": null,
   "metadata": {
    "collapsed": true
   },
   "outputs": [],
   "source": [
    "1 Hour"
   ]
  },
  {
   "cell_type": "markdown",
   "metadata": {
    "poll_response": true,
    "solution": "Time spent"
   },
   "source": [
    "~45 minutes "
   ]
  },
  {
   "cell_type": "markdown",
   "metadata": {
    "poll_response": true,
    "solution": "Time spent"
   },
   "source": [
    "30 minutes "
   ]
  },
  {
   "cell_type": "markdown",
   "metadata": {
    "poll_response": true,
    "solution": "Time spent"
   },
   "source": [
    "10 minutes"
   ]
  },
  {
   "cell_type": "markdown",
   "metadata": {
    "poll_response": true,
    "solution": "Time spent"
   },
   "source": [
    "1 hour "
   ]
  },
  {
   "cell_type": "markdown",
   "metadata": {
    "poll_response": true,
    "solution": "Time spent"
   },
   "source": [
    "10 minutes. I've learned a lot of the things in this section just from looking at things on stack overflow. "
   ]
  },
  {
   "cell_type": "markdown",
   "metadata": {
    "poll_response": true,
    "solution": "Time spent"
   },
   "source": [
    "30 min "
   ]
  },
  {
   "cell_type": "markdown",
   "metadata": {
    "poll_response": true,
    "solution": "Time spent"
   },
   "source": [
    " like 10 minutes, this one was really short and simple"
   ]
  },
  {
   "cell_type": "markdown",
   "metadata": {
    "poll_response": true,
    "solution": "Time spent"
   },
   "source": [
    "20 min. "
   ]
  },
  {
   "cell_type": "markdown",
   "metadata": {
    "poll_response": true,
    "solution": "Time spent"
   },
   "source": [
    "A few minutes"
   ]
  },
  {
   "cell_type": "markdown",
   "metadata": {
    "poll_response": true,
    "solution": "Time spent"
   },
   "source": [
    "It took me 1 hour.  "
   ]
  },
  {
   "cell_type": "markdown",
   "metadata": {
    "poll_response": true,
    "solution": "Time spent"
   },
   "source": [
    " ~30 minutes"
   ]
  },
  {
   "cell_type": "markdown",
   "metadata": {
    "poll_response": true,
    "solution": "Time spent"
   },
   "source": [
    "About 30 minutes "
   ]
  },
  {
   "cell_type": "markdown",
   "metadata": {
    "poll_response": true,
    "solution": "Time spent"
   },
   "source": [
    "About 15 min "
   ]
  },
  {
   "cell_type": "markdown",
   "metadata": {
    "poll_response": true,
    "solution": "Time spent"
   },
   "source": [
    "~15 Minutes "
   ]
  },
  {
   "cell_type": "markdown",
   "metadata": {},
   "source": [
    "About 1.5 hours"
   ]
  },
  {
   "cell_type": "markdown",
   "metadata": {
    "poll_response": true,
    "solution": "Time spent"
   },
   "source": [
    "15 minutes "
   ]
  },
  {
   "cell_type": "markdown",
   "metadata": {
    "poll_response": true,
    "solution": "Time spent"
   },
   "source": [
    " ~ 30 mins"
   ]
  },
  {
   "cell_type": "markdown",
   "metadata": {
    "poll_response": true,
    "solution": "Time spent"
   },
   "source": [
    "~30 mins "
   ]
  },
  {
   "cell_type": "markdown",
   "metadata": {
    "poll_response": true,
    "solution": "Time spent"
   },
   "source": [
    "This reading journal took less than an hour. I think I learned a lot from the reading -- nice ways to shorten code/make it run faster. "
   ]
  },
  {
   "cell_type": "markdown",
   "metadata": {
    "poll_response": true,
    "solution": "Time spent"
   },
   "source": [
    "5 min "
   ]
  },
  {
   "cell_type": "raw",
   "metadata": {
    "poll_response": true,
    "solution": "Time spent"
   },
   "source": [
    " under 5 minutes"
   ]
  },
  {
   "cell_type": "markdown",
   "metadata": {
    "poll_response": true,
    "solution": "Time spent"
   },
   "source": [
    "20 mins with reading "
   ]
  },
  {
   "cell_type": "markdown",
   "metadata": {
    "poll_response": true,
    "solution": "Time spent"
   },
   "source": [
    "Around 1 hour. "
   ]
  },
  {
   "cell_type": "markdown",
   "metadata": {
    "poll_response": true,
    "solution": "Time spent"
   },
   "source": [
    "10 minutes max "
   ]
  },
  {
   "cell_type": "markdown",
   "metadata": {
    "poll_response": true,
    "solution": "Time spent"
   },
   "source": [
    "About an hour, probably less "
   ]
  },
  {
   "cell_type": "markdown",
   "metadata": {
    "poll_response": true,
    "solution": "Time spent"
   },
   "source": [
    "About an hour."
   ]
  },
  {
   "cell_type": "markdown",
   "metadata": {
    "poll_response": true,
    "solution": "Time spent"
   },
   "source": [
    "10 minutes. "
   ]
  },
  {
   "cell_type": "markdown",
   "metadata": {
    "poll_response": true,
    "solution": "Time spent"
   },
   "source": [
    " 45 mins"
   ]
  },
  {
   "cell_type": "markdown",
   "metadata": {
    "poll_response": true,
    "solution": "Time spent"
   },
   "source": [
    "2 minutes "
   ]
  },
  {
   "cell_type": "markdown",
   "metadata": {
    "is_question": true,
    "problem": "Feedback"
   },
   "source": [
    "## Reading Journal feedback\n",
    "\n",
    "Have any comments on this Reading Journal? Feel free to leave them below and we'll read them when you submit your journal entry. This could include suggestions to improve the exercises, topics you'd like to see covered in class next time, or other feedback.\n",
    "\n",
    "If you have Python questions or run into problems while completing the reading, you should post them to Piazza instead so you can get a quick response before your journal is submitted."
   ]
  },
  {
   "cell_type": "markdown",
   "metadata": {
    "feedback_response": true,
    "solution": "Feedback"
   },
   "source": [
    " "
   ]
  },
  {
   "cell_type": "markdown",
   "metadata": {
    "feedback_response": true,
    "solution": "Feedback"
   },
   "source": [
    "I am confused how raising exceptions is helpful. I would apprecitate seeing this in a greater context.  "
   ]
  },
  {
   "cell_type": "markdown",
   "metadata": {
    "feedback_response": true,
    "solution": "Feedback"
   },
   "source": [
    "I think it would be nice to go over sets and counters.  What are some times you would use defaultdict over other dictionaries? I do not entirely understand the 'with-statement'; it would be great to go over that as well."
   ]
  },
  {
   "cell_type": "markdown",
   "metadata": {
    "feedback_response": true,
    "solution": "Feedback"
   },
   "source": [
    " This length is nice given that we are working on a project."
   ]
  },
  {
   "cell_type": "markdown",
   "metadata": {
    "feedback_response": true,
    "solution": "Feedback"
   },
   "source": [
    "I don't really understand the point of exceptions...\n",
    "Couldn't you just use an if/else statement? Like if name in list do this, else do that....?"
   ]
  },
  {
   "cell_type": "markdown",
   "metadata": {
    "feedback_response": true,
    "solution": "Feedback"
   },
   "source": [
    " This was useful stuff, I liked it."
   ]
  }
 ],
 "metadata": {
  "celltoolbar": "Edit Metadata",
  "kernelspec": {
   "display_name": "Python 2",
   "language": "python",
   "name": "python2"
  },
  "language_info": {
   "codemirror_mode": {
    "name": "ipython",
    "version": 2
   },
   "file_extension": ".py",
   "mimetype": "text/x-python",
   "name": "python",
   "nbconvert_exporter": "python",
   "pygments_lexer": "ipython2",
   "version": "2.7.6"
  }
 },
 "nbformat": 4,
 "nbformat_minor": 0
}
