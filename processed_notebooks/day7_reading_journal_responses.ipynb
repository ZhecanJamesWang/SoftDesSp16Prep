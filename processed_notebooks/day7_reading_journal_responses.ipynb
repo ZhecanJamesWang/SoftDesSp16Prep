{
 "cells": [
  {
   "cell_type": "markdown",
   "metadata": {
    "is_question": true,
    "problem": "Exercise 11.2"
   },
   "source": [
    "### Exercise 2  \n",
    "\n",
    "Dictionaries have a [method called `get`](https://docs.python.org/2/library/stdtypes.html#mapping-types-dict) that takes a key and a default value. If the key appears in the dictionary, `get` returns the corresponding value; otherwise it returns the default value. For example:\n",
    "\n",
    "```\n",
    ">>> h = histogram('a')\n",
    ">>> print h\n",
    "{'a': 1}\n",
    ">>> h.get('a', 0)\n",
    "1\n",
    ">>> h.get('b', 0)\n",
    "0\n",
    "```\n",
    "\n",
    "Use `get` to write `histogram` more concisely. You should be able to eliminate the `if` statement. Add unit tests for your histogram implementation."
   ]
  },
  {
   "cell_type": "code",
   "execution_count": 17,
   "metadata": {
    "collapsed": false,
    "solution": "Exercise 11.2"
   },
   "outputs": [
    {
     "name": "stdout",
     "output_type": "stream",
     "text": [
      "{'a': 2, 'b': 1, 'n': 2}\n"
     ]
    }
   ],
   "source": [
    "def histogram(s): #wrong, a:3\n",
    "    d = dict()\n",
    "    for c in s:\n",
    "        if d.get(c, False) == True:\n",
    "            d[c] +=1        \n",
    "        elif d.get(c, False) == False:\n",
    "            d[c] = 1        \n",
    "    print d\n",
    "    \n",
    "    \n",
    "def histogram2(s): #doesn't work\n",
    "    d = dict()\n",
    "    for c in s:\n",
    "        d.get(c, d[c]) +=1  # i want it to incremement the return value of the existing key, or create a new key and incremement that value...   \n",
    "    print d\n",
    "        \n",
    "        \n",
    "histogram('banana')"
   ]
  },
  {
   "cell_type": "code",
   "execution_count": null,
   "metadata": {
    "collapsed": false,
    "solution": "Exercise 11.2"
   },
   "outputs": [],
   "source": [
    "def histogram(s):\n",
    "    d = dict()\n",
    "    for c in s:\n",
    "        d[c] = d.get(c,0) + 1\n",
    "    return d\n",
    "\n",
    "print histogram('elephants')"
   ]
  },
  {
   "cell_type": "code",
   "execution_count": 60,
   "metadata": {
    "collapsed": false,
    "solution": "Exercise 11.2"
   },
   "outputs": [
    {
     "name": "stdout",
     "output_type": "stream",
     "text": [
      "Finding tests in NoName\n",
      "Trying:\n",
      "    histogram(\"apple\")\n",
      "Expecting:\n",
      "    {'a': 1, 'p': 2, 'e': 1, 'l': 1}\n",
      "ok\n",
      "Trying:\n",
      "    histogram(\"a\")\n",
      "Expecting:\n",
      "    {'a': 1}\n",
      "ok\n"
     ]
    }
   ],
   "source": [
    "def histogram(s):\n",
    "    \"\"\" returns the histogram of a string\n",
    "\n",
    "        >>> histogram(\"apple\")\n",
    "        {'a': 1, 'p': 2, 'e': 1, 'l': 1}\n",
    "        >>> histogram(\"a\")\n",
    "        {'a': 1}\n",
    "\n",
    "    \"\"\"\n",
    "    d = dict()\n",
    "    for c in s:\n",
    "        count = d.get(c,0)\n",
    "        d[c] = count + 1\n",
    "    return d\n",
    "\n",
    "import doctest\n",
    "doctest.run_docstring_examples(histogram,globals(), verbose=True)"
   ]
  },
  {
   "cell_type": "code",
   "execution_count": 7,
   "metadata": {
    "collapsed": false,
    "solution": "Exercise 11.2"
   },
   "outputs": [
    {
     "data": {
      "text/plain": [
       "{'a': 1, 'e': 2, 'h': 1, 'l': 1, 'n': 1, 'p': 1, 't': 1}"
      ]
     },
     "execution_count": 7,
     "metadata": {},
     "output_type": "execute_result"
    }
   ],
   "source": [
    "def histogram(s):\n",
    "    \"\"\" Function counts number of times each character appears in input string\n",
    "    >>> histogram('banana')\n",
    "    {'a': 3, 'b': 1, 'n': 2}\n",
    "    \"\"\"\n",
    "    d = dict()\n",
    "    for c in s:\n",
    "        d[c] = 1 + d.get(c, 0)\n",
    "    return d\n",
    "\n",
    "if __name__ == \"__main__\":\n",
    "    import doctest\n",
    "    doctest.testmod()\n",
    "    \n",
    "histogram('elephant')"
   ]
  },
  {
   "cell_type": "code",
   "execution_count": 7,
   "metadata": {
    "collapsed": false,
    "solution": "Exercise 11.2"
   },
   "outputs": [
    {
     "name": "stdout",
     "output_type": "stream",
     "text": [
      "Finding tests in NoName\n",
      "Trying:\n",
      "    histogram('chicken')\n",
      "Expecting:\n",
      "    {'c': 2, 'e': 1, 'i': 1, 'h': 1, 'k': 1, 'n': 1}\n",
      "ok\n"
     ]
    }
   ],
   "source": [
    "def histogram(s):\n",
    "    \"\"\"\n",
    "    This method will create a dictionary that stores all the frequencies of the letters in a word.\n",
    "    Using the get method, it is much more concise. I am testing to see if it works.\n",
    "    \n",
    "    However since the order of the dictionary is unpredictable, it's hard to really come up with good doctests. I just\n",
    "    did one to show proof that it works.\n",
    "    >>> histogram('chicken')\n",
    "    {'c': 2, 'e': 1, 'i': 1, 'h': 1, 'k': 1, 'n': 1}\n",
    "    \"\"\"\n",
    "    d = dict()\n",
    "    for c in s:\n",
    "        d[c] = d.get(c,0)+1\n",
    "    print d\n",
    "    \n",
    "import doctest\n",
    "doctest.run_docstring_examples(histogram, globals(),verbose=True)\n"
   ]
  },
  {
   "cell_type": "code",
   "execution_count": 3,
   "metadata": {
    "collapsed": false,
    "solution": "Exercise 11.2"
   },
   "outputs": [
    {
     "data": {
      "text/plain": [
       "{'l': 1, 'n': 1, 'o': 4}"
      ]
     },
     "execution_count": 3,
     "metadata": {},
     "output_type": "execute_result"
    }
   ],
   "source": [
    "def histogram(s):\n",
    "    d = dict()\n",
    "    for c in s:\n",
    "        d[c] = d.get(c, 0)+1\n",
    "    return d\n",
    "\n",
    "histogram('loonoo')"
   ]
  },
  {
   "cell_type": "code",
   "execution_count": 8,
   "metadata": {
    "collapsed": false,
    "solution": "Exercise 11.2"
   },
   "outputs": [
    {
     "data": {
      "text/plain": [
       "TestResults(failed=0, attempted=1)"
      ]
     },
     "execution_count": 8,
     "metadata": {},
     "output_type": "execute_result"
    }
   ],
   "source": [
    "def histogram(s):\n",
    "    \"\"\"\n",
    "    >>> histogram('brontosaurus')\n",
    "    {'a': 1, 'b': 1, 'o': 2, 'n': 1, 's': 2, 'r': 2, 'u': 2, 't': 1}\n",
    "    \"\"\"\n",
    "    d = dict()\n",
    "    for c in s:\n",
    "        d[c] = d.get(c, 0) + 1\n",
    "    return d\n",
    "\n",
    "import doctest\n",
    "doctest.testmod()"
   ]
  },
  {
   "cell_type": "code",
   "execution_count": 4,
   "metadata": {
    "collapsed": false,
    "solution": "Exercise 11.2"
   },
   "outputs": [
    {
     "data": {
      "text/plain": [
       "{'a': 1, 'b': 1, 'c': 2, 'd': 3, 's': 2}"
      ]
     },
     "execution_count": 4,
     "metadata": {},
     "output_type": "execute_result"
    }
   ],
   "source": [
    "def histogram(s):\n",
    "    d = dict()    \n",
    "    for c in s:\n",
    "        d[c]=d.get(c,0)+1\n",
    "    return d \n",
    "histogram('abccdddss')   \n",
    "    "
   ]
  },
  {
   "cell_type": "code",
   "execution_count": 18,
   "metadata": {
    "collapsed": false,
    "solution": "Exercise 11.2"
   },
   "outputs": [],
   "source": [
    "def histogram(s,v):\n",
    "    \"\"\"\n",
    "    shorten histogram function using get method\n",
    "    \n",
    "    >>> histogram('banana',0)\n",
    "    {'a': 3, 'b': 1, 'n': 2}\n",
    "    \"\"\"\n",
    "    d = dict()   \n",
    "    for c in s:\n",
    "        d[c] = d.get(c,v) + 1\n",
    "    return d\n",
    "\n",
    "import doctest\n",
    "doctest.run_docstring_examples(histogram, globals())\n"
   ]
  },
  {
   "cell_type": "code",
   "execution_count": 88,
   "metadata": {
    "collapsed": false,
    "solution": "Exercise 11.2"
   },
   "outputs": [],
   "source": [
    "def histogram(s):\n",
    "    d = dict()\n",
    "    for c in s:\n",
    "        d[c] = d.get(c,0) + 1\n",
    "    return d\n",
    "    #   if c not in d:\n",
    "    #      d[c] = 1\n",
    "    #   else:\n",
    "    #       d[c] += 1\n",
    "\n",
    "\n",
    "\"\"\"\n",
    ">>> histogram({'a':1,'c':2,'b':3})\n",
    "{'a': 1, 'c': 1, 'b': 1}\n",
    "\"\"\"\n",
    "\n",
    "if __name__ == \"__main__\":\n",
    "    import doctest\n",
    "    doctest.testmod()"
   ]
  },
  {
   "cell_type": "code",
   "execution_count": 69,
   "metadata": {
    "collapsed": false,
    "solution": "Exercise 11.2"
   },
   "outputs": [
    {
     "name": "stdout",
     "output_type": "stream",
     "text": [
      "{0: 4, 1: 5}\n",
      "{0: 4, 1: 5}\n"
     ]
    }
   ],
   "source": [
    "def histogram(string): return {x: string.count(x) for x in set(string)}\n",
    "\n",
    "x = [0, 0, 0, 1, 1, 1, 0, 1, 1]\n",
    "\n",
    "print histogram(x)\n",
    "\n",
    "# legit implementation:\n",
    "\n",
    "def real_histogram(s):\n",
    "    d = dict()\n",
    "    for c in s:\n",
    "        d[c] = 1 + d.get(c, 0)\n",
    "    return d\n",
    "\n",
    "print real_histogram(x)"
   ]
  },
  {
   "cell_type": "code",
   "execution_count": null,
   "metadata": {
    "collapsed": true,
    "solution": "Exercise 11.2"
   },
   "outputs": [],
   "source": [
    "def histogram(s):\n",
    "    \"\"\"\n",
    "    >>> print histogram('abbbbcdss')\n",
    "    {'a': 1, 's': 2, 'c': 1, 'b': 4, 'd': 1}\n",
    "    \"\"\"\n",
    "    d = dict()\n",
    "    for c in s:\n",
    "        d[c] = d.get(c,0)+1 #d.get(c,0) returns the number of occurences of c (0 if c not in d). We then increment by 1.\n",
    "    return d"
   ]
  },
  {
   "cell_type": "code",
   "execution_count": null,
   "metadata": {
    "collapsed": true,
    "solution": "Exercise 11.2"
   },
   "outputs": [],
   "source": [
    "def histogram(s):\n",
    "    d = dict()\n",
    "    for c in s:\n",
    "        if c not in d:\n",
    "            d[c] = 1\n",
    "        else:\n",
    "            d[c] += 1\n",
    "    return d"
   ]
  },
  {
   "cell_type": "code",
   "execution_count": 2,
   "metadata": {
    "collapsed": false,
    "solution": "Exercise 11.2"
   },
   "outputs": [
    {
     "data": {
      "text/plain": [
       "TestResults(failed=0, attempted=4)"
      ]
     },
     "execution_count": 2,
     "metadata": {},
     "output_type": "execute_result"
    }
   ],
   "source": [
    "def histogram(s):\n",
    "    \"\"\"\n",
    "    >>> h = histogram('a')\n",
    "    >>> print h\n",
    "    {'a': 1}\n",
    "    >>> h.get('a', 0)\n",
    "    1\n",
    "    >>> h.get('b', 0)\n",
    "    0\n",
    "    \"\"\"\n",
    "    d = dict()\n",
    "    for c in s:\n",
    "        d[c] = d.get(c,1)\n",
    "    return d\n",
    "\n",
    "import doctest\n",
    "doctest.testmod()"
   ]
  },
  {
   "cell_type": "code",
   "execution_count": 20,
   "metadata": {
    "collapsed": false,
    "solution": "Exercise 11.2"
   },
   "outputs": [
    {
     "name": "stdout",
     "output_type": "stream",
     "text": [
      "  2\n",
      "e 1\n",
      "d 1\n",
      "f 1\n",
      "i 1\n",
      "m 1\n",
      "o 1\n",
      "n 1\n",
      "r 1\n",
      "y 2\n"
     ]
    }
   ],
   "source": [
    "def histogram(s):\n",
    "    d = dict()\n",
    "    s = s.lower()\n",
    "    for c in s:\n",
    "        d[c] = d.get(c,0) + 1\n",
    "    return d\n",
    "\n",
    "def print_hist(d):\n",
    "    for c in d:\n",
    "        print c, d[c]\n",
    "        \n",
    "h = histogram('Yo my friend')\n",
    "print_hist(h)"
   ]
  },
  {
   "cell_type": "code",
   "execution_count": 1,
   "metadata": {
    "collapsed": false,
    "solution": "Exercise 11.2"
   },
   "outputs": [
    {
     "name": "stdout",
     "output_type": "stream",
     "text": [
      "{'a': 1, 'b': 1, 'o': 2, 'n': 1, 's': 2, 'r': 2, 'u': 2, 't': 1}\n"
     ]
    }
   ],
   "source": [
    "def histogram(s):\n",
    "    d = dict()\n",
    "    for c in s:\n",
    "        d[c] = d.get(c, 0) + 1\n",
    "    return d\n",
    "print histogram('brontosaurus')"
   ]
  },
  {
   "cell_type": "code",
   "execution_count": 16,
   "metadata": {
    "collapsed": false,
    "solution": "Exercise 11.2"
   },
   "outputs": [],
   "source": [
    "\"\"\"\n",
    "def histogram(s):\n",
    "    d = dict()\n",
    "    for c in s:\n",
    "        if c not in d:\n",
    "            d[c] = 1\n",
    "        else:\n",
    "            d[c] += 1\n",
    "    return d\n",
    "\"\"\"\n",
    "\n",
    "def histogram(s):\n",
    "    \"\"\"\n",
    "        >>> histogram (\"hello\")\n",
    "        {'h': 1, 'e': 1, 'l': 2, 'o': 1}\n",
    "        >>> histogram(\"pooooop\")\n",
    "        {'p': 2, 'o': 5}\n",
    "    \"\"\"\n",
    "    d = {}\n",
    "    for c in s:\n",
    "        d[c] = d.get(c, 0) + 1\n",
    "    return d\n",
    "\n",
    "if __name__ == '__main__':\n",
    "    import doctest\n",
    "    doctest.testmod()"
   ]
  },
  {
   "cell_type": "code",
   "execution_count": 19,
   "metadata": {
    "collapsed": false,
    "solution": "Exercise 11.2"
   },
   "outputs": [
    {
     "name": "stdout",
     "output_type": "stream",
     "text": [
      "**********************************************************************\n",
      "File \"__main__\", line 3, in __main__.histogram\n",
      "Failed example:\n",
      "    print histogram('dino')\n",
      "Expected:\n",
      "       # how to determine the order of the letters?\n",
      "    {'d': 1, 'i': 1, 'n': 1, 'o': 1}    \n",
      "Got:\n",
      "    {'i': 1, 'd': 1, 'o': 1, 'n': 1}\n",
      "**********************************************************************\n",
      "File \"__main__\", line 3, in __main__.reverse_lookup\n",
      "Failed example:\n",
      "    reverse_lookup(histogram('hippopotamus'), \"d\" )\n",
      "Expected:\n",
      "    [2, 3, 5]\n",
      "Got:\n",
      "    't'\n",
      "**********************************************************************\n",
      "2 items had failures:\n",
      "   1 of   3 in __main__.histogram\n",
      "   1 of   1 in __main__.reverse_lookup\n",
      "***Test Failed*** 2 failures.\n"
     ]
    }
   ],
   "source": [
    "def histogram(s):\n",
    "    \"\"\"\n",
    "    >>> print histogram('dino')\n",
    "       # how to determine the order of the letters?\n",
    "    {'d': 1, 'i': 1, 'n': 1, 'o': 1}    \n",
    "    >>> histogram('dino').get('a', 0)\n",
    "    0\n",
    "    >>> histogram('dino').get('n', 0)\n",
    "    1\n",
    "    \n",
    "    \"\"\"\n",
    "    d = dict()\n",
    "    for c in s:\n",
    "            d[c] = 1 + d.get(c,0)\n",
    "    return d\n",
    "\n",
    "\n",
    "if __name__ == \"__main__\":\n",
    "    import doctest\n",
    "    doctest.testmod()\n",
    "    \n",
    "    "
   ]
  },
  {
   "cell_type": "code",
   "execution_count": 2,
   "metadata": {
    "collapsed": false
   },
   "outputs": [
    {
     "name": "stdout",
     "output_type": "stream",
     "text": [
      "{'a': 1, 'b': 1, 'o': 2, 'n': 1, 's': 2, 'r': 2, 'u': 2, 't': 1}\n"
     ]
    }
   ],
   "source": [
    "#Answer \n",
    "def hist(s): \n",
    "    d = dict() \n",
    "    for c in s:\n",
    "        d[c] = d.get(c, 0) + 1\n",
    "    return d \n",
    "\n",
    "print(hist('brontosaurus'))\n",
    "#It seems like I'm not understanding syntax somewhere. "
   ]
  },
  {
   "cell_type": "code",
   "execution_count": 9,
   "metadata": {
    "collapsed": false,
    "solution": "Exercise 11.2"
   },
   "outputs": [],
   "source": [
    "\"\"\"\n",
    "Old histogram:\n",
    "def histogram(s):\n",
    "    d = dict()\n",
    "    for c in s:\n",
    "        if c not in d:\n",
    "            d[c] = 1\n",
    "        else:\n",
    "            d[c] += 1\n",
    "\"\"\"\n",
    "\n",
    "\n",
    "def histogram_get(s):\n",
    "    \"\"\"\n",
    "    Takes string s, returns a dictionary with characters in s as keys \n",
    "    and the frequency of the character as the value\n",
    "    \n",
    "    >>> histogram_get('appleappleapple')['p']\n",
    "    6\n",
    "    >>> histogram_get('appleappleapple')['e']\n",
    "    3\n",
    "    \"\"\"\n",
    "    d = dict()\n",
    "    for letter in s:\n",
    "        d[letter] = d.get(letter, 0) + 1\n",
    "    return d\n",
    "\n",
    "#myHist = histogram_get('appleappleapple') \n",
    "#for c in myHist:\n",
    "   # print c, myHist[c]\n",
    "\n",
    "import doctest\n",
    "doctest.run_docstring_examples(histogram_get, globals())\n"
   ]
  },
  {
   "cell_type": "code",
   "execution_count": 5,
   "metadata": {
    "collapsed": false,
    "solution": "Exercise 11.2"
   },
   "outputs": [
    {
     "data": {
      "text/plain": [
       "{'a': 1, 'o': 1, 'p': 1, 'r': 2, 't': 1}"
      ]
     },
     "execution_count": 5,
     "metadata": {},
     "output_type": "execute_result"
    }
   ],
   "source": [
    "def histogram(s):\n",
    "    d = dict()\n",
    "    for c in s:\n",
    "        d[c] = d.get(c, 0) + 1\n",
    "    return d\n",
    "\n",
    "histogram('parrot')"
   ]
  },
  {
   "cell_type": "code",
   "execution_count": 2,
   "metadata": {
    "collapsed": false,
    "solution": "Exercise 11.2"
   },
   "outputs": [
    {
     "name": "stdout",
     "output_type": "stream",
     "text": [
      "{'a': 2, 'c': 2, 'b': 2, 'e': 2, 'd': 2, 'f': 2}\n",
      "{'a': 1}\n",
      "{'a': 1, 4: 2, 5: 1, '4': 1}\n"
     ]
    }
   ],
   "source": [
    "def histogram(s):\n",
    "    d = dict()\n",
    "    for c in s:\n",
    "        d[c] = d.get(c,0)+1\n",
    "    return d\n",
    "print histogram(\"abcdeffedcba\")\n",
    "print histogram(\"a\")\n",
    "print histogram(['a',4,5,4,'4'])"
   ]
  },
  {
   "cell_type": "code",
   "execution_count": 15,
   "metadata": {
    "collapsed": false,
    "solution": "Exercise 11.2"
   },
   "outputs": [],
   "source": [
    "def histogram(s):\n",
    "    \"\"\"Counts occurances of letters in string and returns dict\n",
    "    >>>histogram(\"aabcdc\")\n",
    "    {'a': 2, 'c': 2, 'b': 1, 'd': 1}\n",
    "\n",
    "    >>>histogram(\"\")\n",
    "    {}\n",
    "    \"\"\"\n",
    "    d = dict()\n",
    "    for c in s:\n",
    "        d[c] = d.get(c,0) + 1\n",
    "    return d\n"
   ]
  },
  {
   "cell_type": "code",
   "execution_count": 22,
   "metadata": {
    "collapsed": false,
    "solution": "Exercise 11.2"
   },
   "outputs": [
    {
     "data": {
      "text/plain": [
       "{'a': 2, 'g': 1, 'k': 1, 'n': 1, 'o': 2, 'r': 1}"
      ]
     },
     "execution_count": 22,
     "metadata": {},
     "output_type": "execute_result"
    }
   ],
   "source": [
    "def histogram(s):\n",
    "    d = dict()    \n",
    "    for c in s:\n",
    "        d[c] = 1 + d.get(c,0)\n",
    "    return d\n",
    "\n",
    "\n",
    "histogram('kangaroo')\n",
    "\n"
   ]
  },
  {
   "cell_type": "code",
   "execution_count": 3,
   "metadata": {
    "collapsed": true,
    "solution": "Exercise 11.2"
   },
   "outputs": [],
   "source": [
    "\"\"\"\n",
    ">>> h = histogram('a')\n",
    ">>> print h\n",
    "{'a': 1}\n",
    ">>> h.get('a',0)\n",
    "2\n",
    ">>> h.get('b', 0)\n",
    "1\n",
    "\"\"\"\n",
    "def histogram(s):\n",
    "    d = dict()\n",
    "    for c in s:\n",
    "        d[c] = 1+d.get(c,0)\n",
    "    return d\n",
    "\n",
    "if __name__ == '__main__':\n",
    "    import doctest\n",
    "    doctest.testmod()"
   ]
  },
  {
   "cell_type": "code",
   "execution_count": 5,
   "metadata": {
    "collapsed": false,
    "solution": "Exercise 11.2"
   },
   "outputs": [
    {
     "name": "stdout",
     "output_type": "stream",
     "text": [
      "{'h': 1, 'e': 1, 'l': 2, 'o': 1}\n"
     ]
    }
   ],
   "source": [
    "def histogram(s):\n",
    "    d = dict()\n",
    "    for c in s:\n",
    "        d[c] = d.get(c, 0)\n",
    "        d[c] += 1\n",
    "    return d\n",
    "\n",
    "h = histogram('hello')\n",
    "print h"
   ]
  },
  {
   "cell_type": "code",
   "execution_count": 5,
   "metadata": {
    "collapsed": false,
    "solution": "Exercise 11.2"
   },
   "outputs": [
    {
     "name": "stdout",
     "output_type": "stream",
     "text": [
      "{'g': 1, 'd': 1, 'o': 1}\n",
      "1\n"
     ]
    }
   ],
   "source": [
    "def histogram(s):\n",
    "    d = dict()\n",
    "    for c in s:\n",
    "        if c not in d:\n",
    "            d[c] = 1\n",
    "        else:\n",
    "            d[c] += 1\n",
    "    return d\n",
    "h = histogram('dog')\n",
    "print h\n",
    "print h.get('o')"
   ]
  },
  {
   "cell_type": "code",
   "execution_count": 28,
   "metadata": {
    "collapsed": false,
    "solution": "Exercise 11.2"
   },
   "outputs": [
    {
     "name": "stdout",
     "output_type": "stream",
     "text": [
      "{'a': 1, 'h': 1, 'y': 1, 'p': 5}\n"
     ]
    }
   ],
   "source": [
    "def histogram(s):\n",
    "    d = dict()\n",
    "    for c in s:\n",
    "        d[c] = 1 + d.get(c, 0)\n",
    "    return d\n",
    "\n",
    "print histogram('happy')"
   ]
  },
  {
   "cell_type": "code",
   "execution_count": 9,
   "metadata": {
    "collapsed": false,
    "solution": "Exercise 11.2"
   },
   "outputs": [
    {
     "data": {
      "text/plain": [
       "TestResults(failed=0, attempted=3)"
      ]
     },
     "execution_count": 9,
     "metadata": {},
     "output_type": "execute_result"
    }
   ],
   "source": [
    "def histogram(s):\n",
    "    ''' maps items in s to their frequency in s as a dicitonary\n",
    "    >>> histogram('banana')\n",
    "    {'a': 3, 'b': 1, 'n': 2}\n",
    "    >>> softdes = ['list comprehensions!']*39 + ['recursion!']*85 + ['truthy statements!']*3\n",
    "    >>> histogram(softdes)\n",
    "    {'truthy statements!': 3, 'recursion!': 85, 'list comprehensions!': 39}\n",
    "    '''\n",
    "    d = dict()\n",
    "    for c in s:\n",
    "        d[c] = d.get(c, 0) + 1\n",
    "    return d\n",
    "\n",
    "import doctest\n",
    "doctest.testmod()"
   ]
  },
  {
   "cell_type": "code",
   "execution_count": 25,
   "metadata": {
    "collapsed": false,
    "solution": "Exercise 11.2"
   },
   "outputs": [
    {
     "name": "stdout",
     "output_type": "stream",
     "text": [
      "{'a': 1, 'g': 1, 'i': 1, 'h': 1, 'm': 1, 'o': 1, 's': 1, 'r': 1, 't': 1}\n",
      "{'r': 1, 'm': 1, 'o': 5}\n"
     ]
    }
   ],
   "source": [
    "def histogram(s):\n",
    "    d = dict()\n",
    "    for c in s:\n",
    "        if d.get(c,0)>0:\n",
    "            d[c] = d[c] + 1\n",
    "        else:\n",
    "            d[c] = d.get(c,1) + d.get(c,0)  \n",
    "    return d\n",
    "print histogram('histogram')\n",
    "print histogram('rooooom')\n"
   ]
  },
  {
   "cell_type": "code",
   "execution_count": 2,
   "metadata": {
    "collapsed": false,
    "solution": "Exercise 11.2"
   },
   "outputs": [
    {
     "data": {
      "text/plain": [
       "TestResults(failed=0, attempted=4)"
      ]
     },
     "execution_count": 2,
     "metadata": {},
     "output_type": "execute_result"
    }
   ],
   "source": [
    "def histogram(s):\n",
    "    \"\"\"\n",
    "    >>> h = histogram('a')\n",
    "    >>> print h\n",
    "    {'a': 1}\n",
    "    >>> j = histogram('aaa')\n",
    "    >>> print j\n",
    "    {'a': 3}\n",
    "    \"\"\"\n",
    "    d = dict()\n",
    "    for c in s:\n",
    "        d[c] = d.get(c, 0) + 1\n",
    "    return d\n",
    "\n",
    "import doctest\n",
    "doctest.testmod()"
   ]
  },
  {
   "cell_type": "code",
   "execution_count": 30,
   "metadata": {
    "collapsed": false,
    "solution": "Exercise 11.2"
   },
   "outputs": [
    {
     "name": "stdout",
     "output_type": "stream",
     "text": [
      "{'a': 3, 'e': 2, 'i': 2, 'l': 1, 'o': 3, 'n': 3, 'q': 1, 's': 1, 'r': 2, 'u': 1, 'v': 1}\n"
     ]
    },
    {
     "data": {
      "text/plain": [
       "TestResults(failed=0, attempted=2)"
      ]
     },
     "execution_count": 30,
     "metadata": {},
     "output_type": "execute_result"
    }
   ],
   "source": [
    "'''counts the number of characters in a string (not including spaces) and returns a dictionary \n",
    "with letters as keys and numbers as corresponding values\n",
    "\n",
    ">>> histogram('arianaveroniqueolson')\n",
    "{'a': 3, 'e': 2, 'i': 2, 'l': 1, 'o': 3, 'n': 3, 'q': 1, 's': 1, 'r': 2, 'u': 1, 'v': 1}\n",
    ">>> histogram('Ariana Veronique Olson')\n",
    "{'a': 3, 'e': 2, 'i': 2, 'l': 1, 'o': 3, 'n': 3, 'q': 1, 's': 1, 'r': 2, 'u': 1, 'v': 1}\n",
    "\n",
    "'''\n",
    "def histogram(s):\n",
    "    d = dict()\n",
    "    s = s.replace(' ', '').lower()\n",
    "    for c in s:\n",
    "        d[c] = d.get(c,0)+1\n",
    "    return d\n",
    "print histogram('Ariana Veronique Olson')\n",
    "\n",
    "import doctest\n",
    "doctest.testmod()"
   ]
  },
  {
   "cell_type": "code",
   "execution_count": 2,
   "metadata": {
    "collapsed": false,
    "solution": "Exercise 11.2"
   },
   "outputs": [
    {
     "data": {
      "text/plain": [
       "{' ': 5,\n",
       " 'a': 1,\n",
       " 'c': 2,\n",
       " 'd': 3,\n",
       " 'e': 1,\n",
       " 'h': 2,\n",
       " 'i': 3,\n",
       " 'l': 1,\n",
       " 'm': 2,\n",
       " 'n': 1,\n",
       " 'o': 3,\n",
       " 'r': 1,\n",
       " 's': 3,\n",
       " 't': 2,\n",
       " 'u': 1}"
      ]
     },
     "execution_count": 2,
     "metadata": {},
     "output_type": "execute_result"
    }
   ],
   "source": [
    "def histogram(s):\n",
    "    d = dict()\n",
    "    for c in s:\n",
    "        d[c] = d.get(c, 0) + 1\n",
    "    return d\n",
    "\n",
    "histogram(\"schommer said i couldnt do this\")\n"
   ]
  },
  {
   "cell_type": "code",
   "execution_count": 2,
   "metadata": {
    "collapsed": false,
    "solution": "Exercise 11.2"
   },
   "outputs": [],
   "source": [
    "def histogram(s):\n",
    "    d = dict()\n",
    "    for c in s:\n",
    "        if c not in d:\n",
    "            d[c] = 1\n",
    "        else:\n",
    "            d[c] += 1\n",
    "    return d\n",
    "\n",
    "def better_histogram(s):\n",
    "    \"\"\"\n",
    "    Takes in a string s, returns a dictionary whose keys are the letters\n",
    "    that appear in s, and whose values are the frequency of those letters\n",
    "    \n",
    "    Doctests are hard because dictionaries are random. But let's try this\n",
    "    >>> better_histogram('aaaa')['a']\n",
    "    4\n",
    "    >>> better_histogram('boogeyman')['g']\n",
    "    1\n",
    "    \"\"\"\n",
    "    d = dict()\n",
    "    for letter in s:\n",
    "        d[letter] = d.get(letter,0) + 1\n",
    "    return d\n",
    "\n",
    "import doctest\n",
    "doctest.run_docstring_examples(better_histogram, globals())"
   ]
  },
  {
   "cell_type": "code",
   "execution_count": 2,
   "metadata": {
    "collapsed": true,
    "solution": "Exercise 11.2"
   },
   "outputs": [],
   "source": [
    "def histogram(s):\n",
    "    d = dict()\n",
    "    for c in s:\n",
    "        d[c] = 1 + d.get(c,0)\n",
    "    return d"
   ]
  },
  {
   "cell_type": "code",
   "execution_count": 53,
   "metadata": {
    "collapsed": false,
    "solution": "Exercise 11.2"
   },
   "outputs": [
    {
     "name": "stdout",
     "output_type": "stream",
     "text": [
      "{'s': 1, 'e': 1, 't': 2}\n",
      "{'a': 1, 'c': 1, 'b': 1, 'e': 1, 'd': 1, 'g': 1, 'f': 1, 'i': 1, 'h': 1, 'k': 1, 'j': 1, 'm': 1, 'l': 1, 'o': 1, 'n': 1, 'q': 1, 'p': 1, 's': 1, 'r': 1, 'u': 1, 't': 1, 'w': 1, 'v': 1, 'y': 1, 'x': 1, 'z': 1}\n",
      "{'a': 1, 'c': 1, 'b': 1, 'e': 1, 'd': 1, 'g': 1, 'f': 1, 'i': 1, 'h': 1, 'k': 1, 'j': 1, 'm': 26, 'l': 1, 'o': 1, 'n': 16, 'q': 1, 'p': 1, 's': 1, 'r': 1, 'u': 1, 't': 1, 'w': 1, 'v': 1, 'y': 1, 'x': 1, 'z': 1}\n"
     ]
    }
   ],
   "source": [
    "def histogram(s):\n",
    "    #doc tests are hard because the order is non hard to guess\n",
    "    d = dict()\n",
    "    for c in s:\n",
    "        d[c] = d.get(c,0) +1\n",
    "    return d\n",
    "\n",
    "print(histogram('test'))\n",
    "print(histogram('qwertyuiopasdfghjklzxcvbnm'))\n",
    "print(histogram('qwertyuiopasdfghjklzxcvbnmnmnmmmmmnmnmnmnmmmnmnmnmnmmnmnmnmnmmmmnm'))"
   ]
  },
  {
   "cell_type": "code",
   "execution_count": 72,
   "metadata": {
    "collapsed": false,
    "solution": "Exercise 11.2"
   },
   "outputs": [
    {
     "data": {
      "text/plain": [
       "TestResults(failed=0, attempted=10)"
      ]
     },
     "execution_count": 72,
     "metadata": {},
     "output_type": "execute_result"
    }
   ],
   "source": [
    "def histogram(s):\n",
    "    \"\"\"\n",
    "    >>> histogram('puppy')\n",
    "    {'y': 1, 'p': 3, 'u': 1}\n",
    "    >>> histogram('hello')\n",
    "    {'h': 1, 'e': 1, 'l': 2, 'o': 1}\n",
    "    \"\"\"\n",
    "    d = dict()\n",
    "    for c in s:\n",
    "        d[c] = 1 + d.get(c, 0)\n",
    "    return d\n",
    "\n",
    "import doctest\n",
    "doctest.testmod()"
   ]
  },
  {
   "cell_type": "code",
   "execution_count": 9,
   "metadata": {
    "collapsed": false,
    "solution": "Exercise 11.2"
   },
   "outputs": [
    {
     "name": "stdout",
     "output_type": "stream",
     "text": [
      "{'a': 1, 'e': 3, 'i': 1, 'h': 1, 'l': 1, 'n': 2, 'p': 1, 't': 1}\n",
      "{'a': 2, 'c': 2, 'l': 4, 'o': 2, 's': 1, 't': 2, 'z': 1}\n"
     ]
    }
   ],
   "source": [
    "def histogram(s):\n",
    "    d = dict()\n",
    "    for c in s:\n",
    "        d[c] = d.get(c,0) + 1\n",
    "    return d\n",
    "print histogram(\"elephantine\")\n",
    "print histogram(\"lolcatzlolcats\")"
   ]
  },
  {
   "cell_type": "code",
   "execution_count": 7,
   "metadata": {
    "collapsed": false,
    "solution": "Exercise 11.2"
   },
   "outputs": [
    {
     "name": "stdout",
     "output_type": "stream",
     "text": [
      "{'r': 1, 'g': 3, 'o': 1, 'f': 1}\n"
     ]
    }
   ],
   "source": [
    "def histogram(s):\n",
    "    d = dict()\n",
    "    for c in s:\n",
    "        d[c]= d.get(c,0) + 1\n",
    "    return d\n",
    "\n",
    "\n",
    "print histogram('froggg')"
   ]
  },
  {
   "cell_type": "code",
   "execution_count": 34,
   "metadata": {
    "collapsed": false,
    "solution": "Exercise 11.2"
   },
   "outputs": [
    {
     "data": {
      "text/plain": [
       "{'a': 2, 'b': 1, 'c': 1, 's': 1, 'u': 1}"
      ]
     },
     "execution_count": 34,
     "metadata": {},
     "output_type": "execute_result"
    }
   ],
   "source": [
    "def histogram(s,d):\n",
    "    for c in s:\n",
    "        d[c] = d.get(c,0)+1\n",
    "    return d\n",
    "    \"\"\"\n",
    "        if c not in d:\n",
    "            d[c] = 1\n",
    "        else:\n",
    "            d[c] += 1\n",
    "    return d\n",
    "    \"\"\"\n",
    "#this question is soooooooo unclear   \n",
    "\n",
    "\n",
    "histogram('abacus',{})"
   ]
  },
  {
   "cell_type": "code",
   "execution_count": 3,
   "metadata": {
    "collapsed": false,
    "solution": "Exercise 11.2"
   },
   "outputs": [
    {
     "name": "stdout",
     "output_type": "stream",
     "text": [
      "{'d': 1, 'r': 1, 'o': 1, 's': 1, 'w': 1}\n",
      "{'i': 4, 'p': 2, 'm': 1, 's': 4}\n"
     ]
    }
   ],
   "source": [
    "def histogram(s):\n",
    "    d = dict()\n",
    "    for c in s:\n",
    "        d[c] = 1+d.get(c, 0)\n",
    "    return d\n",
    "print(histogram('words'))\n",
    "print(histogram('mississippi'))"
   ]
  },
  {
   "cell_type": "code",
   "execution_count": 3,
   "metadata": {
    "collapsed": false,
    "solution": "Exercise 11.2"
   },
   "outputs": [
    {
     "name": "stdout",
     "output_type": "stream",
     "text": [
      "{'a': 1, 'p': 2, 'e': 1, 'l': 1}\n"
     ]
    }
   ],
   "source": [
    "def histogram(s):\n",
    "    d = dict()\n",
    "    for c in s:\n",
    "        d[c] = 1 + d.get(c,0)\n",
    "    return d\n",
    "\n",
    "print histogram('apple')"
   ]
  },
  {
   "cell_type": "code",
   "execution_count": 9,
   "metadata": {
    "collapsed": false,
    "solution": "Exercise 11.2"
   },
   "outputs": [],
   "source": [
    "def histogram(s):\n",
    "    \"\"\" \n",
    "    >>> histogram('test')\n",
    "    {'s': 1, 'e': 1, 't': 2}\n",
    "    >>> histogram('brontosaurus')\n",
    "    {'a': 1, 'b': 1, 'o': 2, 'n': 1, 's': 2, 'r': 2, 'u': 2, 't': 1}\n",
    "    >>> histogram('random')\n",
    "    {'a': 1, 'd': 1, 'm': 1, 'o': 1, 'n': 1, 'r': 1}\n",
    "    \"\"\"\n",
    "    \n",
    "    d = dict()\n",
    "    for c in s:\n",
    "        d[c] = 1 + d.get(c,0)\n",
    "    return d\n",
    "if __name__ == '__main__':\n",
    "    import doctest\n",
    "    doctest.testmod()"
   ]
  },
  {
   "cell_type": "code",
   "execution_count": 11,
   "metadata": {
    "collapsed": false,
    "solution": "Exercise 11.2"
   },
   "outputs": [],
   "source": [
    "def histogram(s):\n",
    "    \"\"\"\n",
    "    takes a string, returns a histogram with letter keys and values \n",
    "    associated with the number of the letters\n",
    "    \n",
    "    \n",
    "    >>> histogram('aaabbbcccddd').get('a',0)\n",
    "    3\n",
    "    \n",
    "    >>> histogram('aaabbbcccddd').get('z',0)\n",
    "    0\n",
    "    \n",
    "    \"\"\"\n",
    "    \n",
    "    d = dict()\n",
    "    for c in s:\n",
    "        d[c] = d.get(c,0) + 1\n",
    "    return d\n",
    "import doctest\n",
    "doctest.run_docstring_examples(histogram,globals())"
   ]
  },
  {
   "cell_type": "code",
   "execution_count": 11,
   "metadata": {
    "collapsed": false,
    "solution": "Exercise 11.2"
   },
   "outputs": [
    {
     "data": {
      "text/plain": [
       "{'c': 1, 'e': 1, 'h': 1, 's': 2}"
      ]
     },
     "execution_count": 11,
     "metadata": {},
     "output_type": "execute_result"
    }
   ],
   "source": [
    "import doctest\n",
    "\n",
    "def histogram(s):\n",
    "    \"\"\"\n",
    "    >>>histogram('chess')\n",
    "    {'c': 1, 'e': 1, 'h': 1, 's': 2}\n",
    "    >>>histogram('')\n",
    "    {}\n",
    "    \"\"\"\n",
    "    d = dict()\n",
    "    \n",
    "    for c in s:\n",
    "        d[c] = d.get(c,0) + 1\n",
    "        \n",
    "    return d\n",
    "\n",
    "\n",
    "histogram('chess')"
   ]
  },
  {
   "cell_type": "code",
   "execution_count": 6,
   "metadata": {
    "collapsed": false,
    "solution": "Exercise 11.2"
   },
   "outputs": [
    {
     "name": "stdout",
     "output_type": "stream",
     "text": [
      "{'c': 2, 'd': 1, 'e': 1, 'a': 1, 'b': 1}\n"
     ]
    }
   ],
   "source": [
    "def histogram(s):\n",
    "    d = dict()\n",
    "    for c in s:\n",
    "        d[c] = d.get(c, 0) + 1\n",
    "    return d\n",
    "h = histogram('abcedc')\n",
    "print(h)"
   ]
  },
  {
   "cell_type": "code",
   "execution_count": 20,
   "metadata": {
    "collapsed": false,
    "solution": "Exercise 11.2"
   },
   "outputs": [
    {
     "name": "stdout",
     "output_type": "stream",
     "text": [
      "{'l': 5, 'o': 2}\n",
      "{'l': 4, 'o': 1}\n"
     ]
    }
   ],
   "source": [
    "def histogram(s):\n",
    "    d = dict()\n",
    "    for c in s:\n",
    "        if c not in d:\n",
    "            d[c] = 1\n",
    "        else:\n",
    "            d[c] += 1\n",
    "    return d\n",
    "\n",
    "def histogram2(s):\n",
    "    \"\"\"\n",
    "    >>> histogram(\"lollll\")\n",
    "    {'l': 4, 'o': 1}\n",
    "    \"\"\"\n",
    "    d2 = dict()\n",
    "    for i in s:\n",
    "        d2[i] = d2.get(i, 0) + 1\n",
    "    return d2"
   ]
  },
  {
   "cell_type": "code",
   "execution_count": 8,
   "metadata": {
    "collapsed": false,
    "solution": "Exercise 11.2"
   },
   "outputs": [
    {
     "name": "stdout",
     "output_type": "stream",
     "text": [
      "**********************************************************************\n",
      "File \"__main__\", line 3, in __main__.histogram\n",
      "Failed example:\n",
      "    histogram('agravate')\n",
      "Expected:\n",
      "    {'a':3, 'e':1, 'g':1, 'r':1, 't':1, 'v':1}\n",
      "Got:\n",
      "    {'a': 3, 'e': 1, 'g': 1, 'r': 1, 't': 1, 'v': 1}\n",
      "**********************************************************************\n",
      "1 items had failures:\n",
      "   1 of   1 in __main__.histogram\n",
      "***Test Failed*** 1 failures.\n"
     ]
    },
    {
     "data": {
      "text/plain": [
       "TestResults(failed=1, attempted=1)"
      ]
     },
     "execution_count": 8,
     "metadata": {},
     "output_type": "execute_result"
    }
   ],
   "source": [
    "def histogram(s):\n",
    "    \"\"\" This is one of the several reasons I hate doctest. This code is right, I didn't put the expected number of spaces\n",
    "    in my doctest answer, so it was marked as wrong. Print has been much easier and more reliable for me even in larger\n",
    "    projects.\n",
    "    >>> histogram('agravate')\n",
    "    {'a':3, 'e':1, 'g':1, 'r':1, 't':1, 'v':1}\n",
    "    \"\"\"\n",
    "    d = dict()\n",
    "    for c in s:\n",
    "        d[c] = d.get(c, 0) + 1\n",
    "    return d\n",
    "import doctest\n",
    "doctest.testmod()"
   ]
  },
  {
   "cell_type": "code",
   "execution_count": 3,
   "metadata": {
    "collapsed": false,
    "solution": "Exercise 11.2"
   },
   "outputs": [
    {
     "name": "stdout",
     "output_type": "stream",
     "text": [
      "{'a': 1, 'b': 1, 'o': 2, 'n': 1, 's': 2, 'r': 2, 'u': 2, 't': 1}\n",
      "{'a': 4, 'c': 1, 'b': 2}\n"
     ]
    }
   ],
   "source": [
    "def histogram(s):\n",
    "    d = dict()\n",
    "    for c in s:\n",
    "        d[c] = d.get(c, 0)+1\n",
    "    return d\n",
    "\n",
    "h = histogram('brontosaurus')\n",
    "j = histogram('baaabac')\n",
    "print h\n",
    "print j"
   ]
  },
  {
   "cell_type": "code",
   "execution_count": 31,
   "metadata": {
    "collapsed": false,
    "solution": "Exercise 11.2"
   },
   "outputs": [
    {
     "data": {
      "text/plain": [
       "{'a': 1, 'c': 1, 'g': 1, 'h': 1, 'o': 1, 't': 1}"
      ]
     },
     "execution_count": 31,
     "metadata": {},
     "output_type": "execute_result"
    }
   ],
   "source": [
    "def histogram(s):\n",
    "    \"\"\"\n",
    "    Counts the amount of times a letter appears in a word.\n",
    "    >>> histogram('gotcha')\n",
    "    {'a': 1, 'c': 1, 'g': 1, 'h': 1, 'o': 1, 't': 1}\n",
    "    >>> histogram('llllll')\n",
    "    {'l': 6}\n",
    "    \"\"\"\n",
    "    d = dict()\n",
    "    for c in s:\n",
    "        \n",
    "        d[c] = 1 + d.get(c, 0) \n",
    "        \n",
    "        \n",
    "    return d\n",
    "\n",
    "import doctest\n",
    "doctest.run_docstring_examples(histogram, globals())\n",
    "\n",
    "histogram('gotcha')"
   ]
  },
  {
   "cell_type": "markdown",
   "metadata": {
    "is_question": true,
    "problem": "Exercise 11.4"
   },
   "source": [
    "### Exercise 4  \n",
    "\n",
    "Modify `reverse_lookup` so that it builds and returns a list of all keys that map to `v`, or an empty list if there are none. Add unit tests for your implementation."
   ]
  },
  {
   "cell_type": "code",
   "execution_count": 21,
   "metadata": {
    "collapsed": false,
    "solution": "Exercise 11.4"
   },
   "outputs": [
    {
     "data": {
      "text/plain": [
       "[]"
      ]
     },
     "execution_count": 21,
     "metadata": {},
     "output_type": "execute_result"
    }
   ],
   "source": [
    "def reverse_lookup(d, v):\n",
    "    key_list = []\n",
    "    for k in d:\n",
    "        if d[k] == v:\n",
    "            key_list.append(k)\n",
    "    return key_list\n",
    "    #raise ValueError\n",
    "    \n",
    "#reverse_lookup({'a':1, 'b':2, 'c':1 }, 1)\n",
    "reverse_lookup({'a':1, 'b':2, 'c':1 }, 2)\n",
    "#reverse_lookup({'a':1, 'b':2, 'c':1 }, 0)"
   ]
  },
  {
   "cell_type": "code",
   "execution_count": null,
   "metadata": {
    "collapsed": false,
    "solution": "Exercise 11.4"
   },
   "outputs": [],
   "source": [
    "def reverse_lookup(d, v):\n",
    "    t = []\n",
    "    for k in d:\n",
    "        if d[k] == v:\n",
    "            t.append(k)\n",
    "    return t\n",
    "\n",
    "h = histogram('elephants')\n",
    "print reverse_lookup(h,2)\n",
    "print reverse_lookup(h,3)\n",
    "print reverse_lookup(h,1)"
   ]
  },
  {
   "cell_type": "code",
   "execution_count": 64,
   "metadata": {
    "collapsed": false,
    "solution": "Exercise 11.4"
   },
   "outputs": [
    {
     "name": "stdout",
     "output_type": "stream",
     "text": [
      "Finding tests in NoName\n",
      "Trying:\n",
      "    reverse_lookup({'a': 1, 'p': 2, 'e': 1, 'l': 1},1)\n",
      "Expecting:\n",
      "    ['a', 'e', 'l']\n",
      "ok\n",
      "Trying:\n",
      "    reverse_lookup({'a': 1, 'p': 2, 'e': 1, 'l': 1},2)\n",
      "Expecting:\n",
      "    ['p']\n",
      "ok\n",
      "Trying:\n",
      "    reverse_lookup({'a': 1, 'p': 2, 'e': 1, 'l': 1},3)\n",
      "Expecting:\n",
      "    []\n",
      "ok\n"
     ]
    }
   ],
   "source": [
    "def reverse_lookup(d, v):\n",
    "    \"\"\" finds the keys corresponding to a value in a dictionary\n",
    "\n",
    "        >>> reverse_lookup({'a': 1, 'p': 2, 'e': 1, 'l': 1},1)\n",
    "        ['a', 'e', 'l']\n",
    "        >>> reverse_lookup({'a': 1, 'p': 2, 'e': 1, 'l': 1},2)\n",
    "        ['p']\n",
    "        >>> reverse_lookup({'a': 1, 'p': 2, 'e': 1, 'l': 1},3)\n",
    "        []\n",
    "    \"\"\"\n",
    "    lst = []\n",
    "    for k in d:\n",
    "        if d[k] == v:\n",
    "            lst.append(k)\n",
    "    return lst\n",
    "    \n",
    "import doctest\n",
    "doctest.run_docstring_examples(reverse_lookup,globals(), verbose=True)"
   ]
  },
  {
   "cell_type": "code",
   "execution_count": 12,
   "metadata": {
    "collapsed": false,
    "solution": "Exercise 11.4"
   },
   "outputs": [
    {
     "data": {
      "text/plain": [
       "['e']"
      ]
     },
     "execution_count": 12,
     "metadata": {},
     "output_type": "execute_result"
    }
   ],
   "source": [
    "def reverse_lookup(d, v):\n",
    "    \"\"\"Function creates list of keys that map to input value\n",
    "    >>> reverse_lookup('boo', 2)\n",
    "    ['o']\n",
    "    >>> reverse_lookup('abbcc', 2)\n",
    "    ['b', 'c']\n",
    "    \"\"\"\n",
    "    \n",
    "    d = histogram(d)\n",
    "    l = list()\n",
    "    for k in d:\n",
    "        if d[k] == v:\n",
    "            l.append(k)\n",
    "    return sorted(l)\n",
    "\n",
    "if __name__ == \"__main__\":\n",
    "    import doctest\n",
    "    doctest.testmod()\n",
    "    \n",
    "reverse_lookup('elephant', 2)"
   ]
  },
  {
   "cell_type": "code",
   "execution_count": 10,
   "metadata": {
    "collapsed": false,
    "solution": "Exercise 11.4"
   },
   "outputs": [
    {
     "name": "stdout",
     "output_type": "stream",
     "text": [
      "Finding tests in NoName\n",
      "Trying:\n",
      "    reverse_lookup({'Im': 1, 'chicken': 1, 'and': 2, 'wut': 3},1)\n",
      "Expecting:\n",
      "    ['chicken', 'Im']\n",
      "ok\n",
      "Trying:\n",
      "    reverse_lookup({'Im': 2, 'chicken': 2, 'and': 2, 'wut': 3},1)\n",
      "Expecting:\n",
      "    []\n",
      "ok\n"
     ]
    }
   ],
   "source": [
    "def reverse_lookup(d, v):\n",
    "    \"\"\"\n",
    "    This method utilizes the dictionary and lists to make reverse lookup return a list instead of just one key.\n",
    "    Doctesting to check that it works properly.\n",
    "    \n",
    "    Once again, it appears that dictionary is randomizing the order, so doctesting is hard.\n",
    "    \n",
    "    >>> reverse_lookup({'Im': 1, 'chicken': 1, 'and': 2, 'wut': 3},1)\n",
    "    ['chicken', 'Im']\n",
    "    >>> reverse_lookup({'Im': 2, 'chicken': 2, 'and': 2, 'wut': 3},1)\n",
    "    []\n",
    "    \"\"\"\n",
    "    result = []\n",
    "    for k in d:\n",
    "        if d[k] == v:\n",
    "            result.append(k)\n",
    "    return result\n",
    "\n",
    "import doctest\n",
    "doctest.run_docstring_examples(reverse_lookup,globals(),verbose=True)\n"
   ]
  },
  {
   "cell_type": "code",
   "execution_count": 9,
   "metadata": {
    "collapsed": false,
    "solution": "Exercise 11.4"
   },
   "outputs": [
    {
     "data": {
      "text/plain": [
       "['l', 'n']"
      ]
     },
     "execution_count": 9,
     "metadata": {},
     "output_type": "execute_result"
    }
   ],
   "source": [
    "def reverse_lookup(d, v):\n",
    "    rtrnlist = []\n",
    "    for k in d:\n",
    "        if d[k] == v:\n",
    "            rtrnlist.append(k)\n",
    "    return rtrnlist\n",
    "\n",
    "#from previous exercise\n",
    "def histogram(s):\n",
    "    d = dict()\n",
    "    for c in s:\n",
    "        d[c] = d.get(c, 0)+1\n",
    "    return d\n",
    "\n",
    "\n",
    "reverse_lookup(histogram('loonoo'), 1)"
   ]
  },
  {
   "cell_type": "code",
   "execution_count": 6,
   "metadata": {
    "collapsed": false,
    "solution": "Exercise 11.4"
   },
   "outputs": [
    {
     "data": {
      "text/plain": [
       "TestResults(failed=0, attempted=5)"
      ]
     },
     "execution_count": 6,
     "metadata": {},
     "output_type": "execute_result"
    }
   ],
   "source": [
    "def reverseLookup(d, v):\n",
    "    \"\"\"\n",
    "    >>> h = histogram('parrot')\n",
    "    >>> reverseLookup(h, 2)\n",
    "    ['r']\n",
    "    >>> h2 = histogram('keys')\n",
    "    >>> reverseLookup(h2, 2)\n",
    "    []\n",
    "    \"\"\"\n",
    "    keys = []\n",
    "    for k in d:\n",
    "        if d[k] == v:\n",
    "            keys.append(k)\n",
    "    return keys\n",
    "    raise ValueError\n",
    "    \n",
    "def histogram(s):\n",
    "    \"\"\"\n",
    "    >>> histogram('brontosaurus')\n",
    "    {'a': 1, 'b': 1, 'o': 2, 'n': 1, 's': 2, 'r': 2, 'u': 2, 't': 1}\n",
    "    \"\"\"\n",
    "    d = dict()\n",
    "    for c in s:\n",
    "        d[c] = d.get(c, 0) + 1\n",
    "    return d\n",
    "    \n",
    "import doctest\n",
    "doctest.testmod()"
   ]
  },
  {
   "cell_type": "code",
   "execution_count": 5,
   "metadata": {
    "collapsed": false,
    "solution": "Exercise 11.4"
   },
   "outputs": [
    {
     "data": {
      "text/plain": [
       "['p', 'r']"
      ]
     },
     "execution_count": 5,
     "metadata": {},
     "output_type": "execute_result"
    }
   ],
   "source": [
    "def reverse_lookup(d, v):\n",
    "    keys=[]\n",
    "    for k in d:\n",
    "        if d[k] == v:\n",
    "            keys.append(k)\n",
    "    return keys\n",
    "    raise ValueError\n",
    "\n",
    "reverse_lookup(histogram('pparrot'),2)"
   ]
  },
  {
   "cell_type": "code",
   "execution_count": 30,
   "metadata": {
    "collapsed": false,
    "solution": "Exercise 11.4"
   },
   "outputs": [],
   "source": [
    "def reverse_lookup(d, v):\n",
    "    \"\"\"\n",
    "    modify function to build and return a list of all keys that map to \n",
    "    v or to return an empty list if there are none\n",
    "    \n",
    "    >>> reverse_lookup(histogram('moonshine',0),2)\n",
    "    ['o', 'n']\n",
    "    \n",
    "    >>> reverse_lookup(histogram('happy',0),3)\n",
    "    None\n",
    "    \"\"\"\n",
    "    \n",
    "    d_new = []\n",
    "    for k in d:\n",
    "        if d[k] == v:\n",
    "            d_new.append(k)\n",
    "    return d_new\n",
    "    raise ValueError"
   ]
  },
  {
   "cell_type": "code",
   "execution_count": 79,
   "metadata": {
    "collapsed": false,
    "solution": "Exercise 11.4"
   },
   "outputs": [],
   "source": [
    "def reverse_lookup(d, v):\n",
    "    v_map = []\n",
    "    for k in d:\n",
    "        if d[k] == v:\n",
    "            v_map.append(k)\n",
    "    return v_map\n",
    "\n",
    "\"\"\"\n",
    ">>> reverse_lookup({'a':1,'d':3, 'b':2,'c':3}, 3)\n",
    "['c', 'd']\n",
    "\"\"\"\n",
    "if __name__ == \"__main__\":\n",
    "    import doctest\n",
    "    doctest.testmod()"
   ]
  },
  {
   "cell_type": "code",
   "execution_count": 17,
   "metadata": {
    "collapsed": false,
    "solution": "Exercise 11.4"
   },
   "outputs": [
    {
     "name": "stdout",
     "output_type": "stream",
     "text": [
      "['a', 'b', 'e']\n",
      "[]\n"
     ]
    }
   ],
   "source": [
    "def reverse_lookup(d, v):\n",
    "    keys = []\n",
    "    for k in d:\n",
    "        if d[k] == v:\n",
    "            keys.append(k)\n",
    "    return keys\n",
    "\n",
    "example_dict = {'a':1, 'b':1, 'c':2, 'd':3, 'e':1}\n",
    "\n",
    "print reverse_lookup(example_dict, 1)\n",
    "print reverse_lookup(example_dict, 4)"
   ]
  },
  {
   "cell_type": "code",
   "execution_count": 8,
   "metadata": {
    "collapsed": false,
    "solution": "Exercise 11.4"
   },
   "outputs": [
    {
     "name": "stdout",
     "output_type": "stream",
     "text": [
      "[2, 3]\n",
      "[]\n"
     ]
    }
   ],
   "source": [
    "def reverse_lookup(d, v): #look for all keys in dictionary d which have a value v\n",
    "    \"\"\"\n",
    "    >>> d = {1:10,2:20,3:20,4:30}\n",
    "    >>> print reverse_lookup(d,20)\n",
    "    [2, 3]\n",
    "    >>> print reverse_lookup(d,45)\n",
    "    \"\"\"\n",
    "    keylist = [x for x in d if d[x]==v]\n",
    "    return keylist\n",
    "\n",
    "d = {1:10,2:20,3:20,4:30}\n",
    "print reverse_lookup(d,20)\n",
    "print reverse_lookup(d,45)"
   ]
  },
  {
   "cell_type": "code",
   "execution_count": null,
   "metadata": {
    "collapsed": true,
    "solution": "Exercise 11.4"
   },
   "outputs": [],
   "source": [
    "def reverse_lookup(d, v):\n",
    "    for k in d:\n",
    "        if d[k] == v:\n",
    "            return k\n",
    "    raise ValueError"
   ]
  },
  {
   "cell_type": "code",
   "execution_count": 5,
   "metadata": {
    "collapsed": false,
    "solution": "Exercise 11.4"
   },
   "outputs": [
    {
     "data": {
      "text/plain": [
       "TestResults(failed=0, attempted=9)"
      ]
     },
     "execution_count": 5,
     "metadata": {},
     "output_type": "execute_result"
    }
   ],
   "source": [
    "def reverse_lookup(dic, v):\n",
    "    \"\"\"\n",
    "    >>> d = dict()\n",
    "    >>> d['turkey'] = 'Narnia'\n",
    "    >>> d['monkey'] = 'Narnia'\n",
    "    >>> d['junkey'] = 'Middle Earth'\n",
    "    >>> reverse_lookup(d, 'Narnia')\n",
    "    ['turkey', 'monkey']\n",
    "    \"\"\"\n",
    "    output = []\n",
    "    for k in dic:\n",
    "        if dic[k] == v:\n",
    "            output.append(k)\n",
    "    return output\n",
    "\n",
    "\n",
    "import doctest\n",
    "doctest.testmod()"
   ]
  },
  {
   "cell_type": "code",
   "execution_count": 22,
   "metadata": {
    "collapsed": false,
    "solution": "Exercise 11.4"
   },
   "outputs": [
    {
     "data": {
      "text/plain": [
       "TestResults(failed=0, attempted=1)"
      ]
     },
     "execution_count": 22,
     "metadata": {},
     "output_type": "execute_result"
    }
   ],
   "source": [
    "def reverse_lookup(d, v):\n",
    "    \"\"\" Finds which keys correspond to a particular value (v) in dictionary d.\n",
    "    >>> reverse_lookup({'a':2,'b':5,'c':2},2)\n",
    "    ['a', 'c']\n",
    "    \"\"\"\n",
    "    key_list = []\n",
    "    for k in d:\n",
    "        if d[k] == v:\n",
    "            key_list.append(k)\n",
    "    return key_list\n",
    "\n",
    "import doctest\n",
    "doctest.testmod()"
   ]
  },
  {
   "cell_type": "code",
   "execution_count": 2,
   "metadata": {
    "collapsed": false,
    "solution": "Exercise 11.4"
   },
   "outputs": [
    {
     "data": {
      "text/plain": [
       "['a', 'c', 'd']"
      ]
     },
     "execution_count": 2,
     "metadata": {},
     "output_type": "execute_result"
    }
   ],
   "source": [
    "def reverse_lookup(d, v):\n",
    "    l=[]\n",
    "    for k in d:\n",
    "        if d[k] == v:\n",
    "            l.append(k)\n",
    "    else: \n",
    "        return l\n",
    "d={'a':1,'b':2,'c':1,'d':1,'e':2}\n",
    "reverse_lookup(d,1)\n",
    "    "
   ]
  },
  {
   "cell_type": "code",
   "execution_count": 10,
   "metadata": {
    "collapsed": false,
    "solution": "Exercise 11.4"
   },
   "outputs": [],
   "source": [
    "def histogram(s):\n",
    "    d = {}\n",
    "    for c in s:\n",
    "        d[c] = d.get(c, 0) + 1\n",
    "    return d\n",
    "def reverse_lookup(d, v):\n",
    "    \"\"\"\n",
    "        >>> reverse_lookup(histogram('hello'), 2)\n",
    "        ['l']\n",
    "        >>> reverse_lookup(histogram('helo'), 1)\n",
    "        ['h', 'e', 'l', 'o']\n",
    "        >>> reverse_lookup(histogram('pooooop'), 5)\n",
    "        ['o']\n",
    "    \"\"\"\n",
    "    keys = []\n",
    "    for k in d:\n",
    "        if d[k] == v:\n",
    "            keys.append(k)\n",
    "    if keys == []:\n",
    "        return None\n",
    "    return keys\n",
    "\n",
    "if __name__ == '__main__':\n",
    "    import doctest\n",
    "    doctest.testmod()"
   ]
  },
  {
   "cell_type": "code",
   "execution_count": 35,
   "metadata": {
    "collapsed": false,
    "solution": "Exercise 11.4"
   },
   "outputs": [
    {
     "name": "stdout",
     "output_type": "stream",
     "text": [
      "**********************************************************************\n",
      "File \"__main__\", line 3, in __main__.histogram\n",
      "Failed example:\n",
      "    print histogram('dino')\n",
      "Expected:\n",
      "       # how to determine the order of the letters?\n",
      "    {'d': 1, 'i': 1, 'n': 1, 'o': 1}    \n",
      "Got:\n",
      "    {'i': 1, 'd': 1, 'o': 1, 'n': 1}\n",
      "**********************************************************************\n",
      "File \"__main__\", line 6, in __main__.reverse_lookup\n",
      "Failed example:\n",
      "    reverse_lookup(histogram('hippopotamus'), 1 )\n",
      "Expected:\n",
      "    ['h', 'i', 't', 'a', 'm', 'u', 's']\n",
      "Got:\n",
      "    ['a', 'i', 'h', 'm', 's', 'u', 't']\n",
      "**********************************************************************\n",
      "2 items had failures:\n",
      "   1 of   3 in __main__.histogram\n",
      "   1 of   2 in __main__.reverse_lookup\n",
      "***Test Failed*** 2 failures.\n"
     ]
    }
   ],
   "source": [
    "def reverse_lookup(d, v):\n",
    "    \"\"\"\n",
    "    >>> reverse_lookup(histogram('hippopotamus'), 3 )\n",
    "    ['p']\n",
    "    \n",
    "    >>> reverse_lookup(histogram('hippopotamus'), 1 )\n",
    "    ['h', 'i', 't', 'a', 'm', 'u', 's']\n",
    "    \n",
    "    \"\"\"\n",
    "    h = []\n",
    "    for k in d:\n",
    "        if d[k] == v:\n",
    "            h.append(k) \n",
    "    return h\n",
    "    raise ValueError\n",
    "    \n",
    "\n",
    "if __name__ == \"__main__\":\n",
    "    import doctest\n",
    "    doctest.testmod()"
   ]
  },
  {
   "cell_type": "code",
   "execution_count": 24,
   "metadata": {
    "collapsed": false,
    "solution": "Exercise 11.4"
   },
   "outputs": [
    {
     "data": {
      "text/plain": [
       "['a']"
      ]
     },
     "execution_count": 24,
     "metadata": {},
     "output_type": "execute_result"
    }
   ],
   "source": [
    "def reverse_lookup(d, v):\n",
    "    \"\"\" Unit tests for: \n",
    "    >>>reverse_lookup(ddict, 0) \n",
    "    []\n",
    "    >>>reverse_lookup(ddict, r)\n",
    "    NameError \n",
    "    >>>reverse_lookup(ddict, 10)\n",
    "    ['a']\n",
    "    \"\"\"\n",
    "    lista = []\n",
    "    for k in d:\n",
    "        if d[k] == v:\n",
    "            lista.append(k)\n",
    "    return lista\n",
    "\n",
    "ddict = {'a': 10, 'b': 7, 'c': 7, 'd': 2}\n",
    "    \n",
    "reverse_lookup(ddict, 10)"
   ]
  },
  {
   "cell_type": "code",
   "execution_count": 4,
   "metadata": {
    "collapsed": false,
    "solution": "Exercise 11.4"
   },
   "outputs": [],
   "source": [
    "def reverse_lookup(dictionary, value):\n",
    "    \"\"\"\n",
    "    Finds corresponding keys given a value in a given dictionary\n",
    "    \n",
    "    >>> reverse_lookup({'a':1,'p':2,'l':1,'e':1}, 1)\n",
    "    ['a', 'l', 'e']\n",
    "    >>> reverse_lookup({'a':1,'p':2,'l':1,'e':1}, 2)\n",
    "    ['p']\n",
    "    \"\"\"\n",
    "    keyList = []    \n",
    "    for key in dictionary:\n",
    "        if dictionary[key] == value:\n",
    "            keyList.append(key)\n",
    "    return keyList\n",
    "\n",
    "#myDict = {'a':1,'p':2,'l':1,'e':1}\n",
    "#print reverse_lookup(myDict, 1)\n",
    "#print reverse_lookup(myDict, 2)"
   ]
  },
  {
   "cell_type": "code",
   "execution_count": 13,
   "metadata": {
    "collapsed": false,
    "solution": "Exercise 11.4"
   },
   "outputs": [],
   "source": [
    "\"\"\" \n",
    "    >>> reverse_lookup(histogram('parrot'), 1)\n",
    "    ['a', 'p', 't', 'o']\n",
    "    >>> reverse_lookup(histogram('bus'), 1)\n",
    "    ['b', 'u', 's']\n",
    "\"\"\"\n",
    "\n",
    "def histogram(s):\n",
    "    d = dict()\n",
    "    for c in s:\n",
    "        if c not in d:\n",
    "            d[c] = 1\n",
    "        else:\n",
    "            d[c] += 1\n",
    "    return d\n",
    "\n",
    "def reverse_lookup(d, v):\n",
    "    keys = []\n",
    "    for k in d:\n",
    "        if d[k] == v:\n",
    "            keys.append(k)\n",
    "    return keys\n",
    "        \n",
    "if __name__ == \"__main__\":\n",
    "    import doctest"
   ]
  },
  {
   "cell_type": "code",
   "execution_count": 5,
   "metadata": {
    "collapsed": false,
    "solution": "Exercise 11.4"
   },
   "outputs": [
    {
     "name": "stdout",
     "output_type": "stream",
     "text": [
      "[1, 2, 7]\n",
      "[]\n"
     ]
    }
   ],
   "source": [
    "def reverse_lookup(d, v):\n",
    "    keys = []\n",
    "    for k in d:\n",
    "        if d[k] == v:\n",
    "            keys.append(k)\n",
    "    return keys\n",
    "print reverse_lookup({1:1,2:1,3:2,7:1},1)\n",
    "print reverse_lookup({1:1,2:1,3:2,7:1},5)"
   ]
  },
  {
   "cell_type": "code",
   "execution_count": 8,
   "metadata": {
    "collapsed": false,
    "solution": "Exercise 11.4"
   },
   "outputs": [
    {
     "name": "stdout",
     "output_type": "stream",
     "text": [
      "['a', 'c']\n",
      "[]\n"
     ]
    }
   ],
   "source": [
    "def reverse_lookup(d, v):\n",
    "    \"\"\"reverse search a dict\n",
    "    \n",
    "    >>>reverse_lookup({'a':1,'b':2,'c':1},1)\n",
    "    ['a', 'c']\n",
    "    \n",
    "    >>>reverse_lookup({'a':1,'b':2,'c':1},3)\n",
    "    []\n",
    "    \"\"\"\n",
    "    values = []\n",
    "    for k in d:\n",
    "        if d[k] == v:\n",
    "            values += k\n",
    "    return values\n",
    "\n",
    "print reverse_lookup({'a':1,'b':2,'c':1},1)\n",
    "print reverse_lookup({'a':1,'b':2,'c':1},3)"
   ]
  },
  {
   "cell_type": "code",
   "execution_count": 32,
   "metadata": {
    "collapsed": false,
    "solution": "Exercise 11.4"
   },
   "outputs": [
    {
     "data": {
      "text/plain": [
       "[]"
      ]
     },
     "execution_count": 32,
     "metadata": {},
     "output_type": "execute_result"
    }
   ],
   "source": [
    "def reverse_lookup(d, v):\n",
    "    keys = []\n",
    "    for k in d:\n",
    "        if d[k] == v:\n",
    "            print k\n",
    "            keys.append(k)\n",
    "    return keys\n",
    "\n",
    "reverse_lookup(histogram('parrot'),'2')"
   ]
  },
  {
   "cell_type": "code",
   "execution_count": 6,
   "metadata": {
    "collapsed": false,
    "solution": "Exercise 11.4"
   },
   "outputs": [],
   "source": [
    "eng2sp = {'one': 'uno', 'two': 'uno', 'three': 'tres'}\n",
    "\n",
    "\"\"\"\n",
    ">>> reverse_lookup(eng2sp,'uno')\n",
    "['two', 'one']\n",
    "\"\"\"\n",
    "def reverse_lookup(d, v):\n",
    "    ListofKeys = []\n",
    "    for k in d:\n",
    "        if d[k] == v:\n",
    "            ListofKeys.append(k)\n",
    "    return ListofKeys\n",
    "\n",
    "if __name__ == '__main__':\n",
    "    import doctest\n",
    "    doctest.testmod()"
   ]
  },
  {
   "cell_type": "code",
   "execution_count": 9,
   "metadata": {
    "collapsed": false,
    "solution": "Exercise 11.4"
   },
   "outputs": [
    {
     "name": "stdout",
     "output_type": "stream",
     "text": [
      "['a', 'b']\n"
     ]
    }
   ],
   "source": [
    "def reverse_lookup(d, v):\n",
    "    l = []\n",
    "    for k in d:\n",
    "        if d[k] == v:\n",
    "            l.append(k)\n",
    "    return l\n",
    "\n",
    "def histogram(s): #using this code to test reverse_lookup\n",
    "    d = dict()\n",
    "    for c in s:\n",
    "        d[c] = d.get(c, 0)\n",
    "        d[c] += 1\n",
    "    return d\n",
    "\n",
    "h = histogram('abcccc')\n",
    "print reverse_lookup(h, 1)\n",
    "\n"
   ]
  },
  {
   "cell_type": "code",
   "execution_count": 31,
   "metadata": {
    "collapsed": false,
    "solution": "Exercise 11.4"
   },
   "outputs": [
    {
     "data": {
      "text/plain": [
       "'o'"
      ]
     },
     "execution_count": 31,
     "metadata": {},
     "output_type": "execute_result"
    }
   ],
   "source": [
    "def reverse_lookup(d, v):\n",
    "    for k in d:\n",
    "        if d[k] == v:\n",
    "            return k\n",
    "    raise ValueError\n",
    "    \n",
    "d = {'d': 1, 'g': 1, 'o': 2}\n",
    "reverse_lookup(d, 2) "
   ]
  },
  {
   "cell_type": "code",
   "execution_count": 37,
   "metadata": {
    "collapsed": false,
    "solution": "Exercise 11.4"
   },
   "outputs": [
    {
     "data": {
      "text/plain": [
       "TestResults(failed=0, attempted=3)"
      ]
     },
     "execution_count": 37,
     "metadata": {},
     "output_type": "execute_result"
    }
   ],
   "source": [
    "\"\"\"\n",
    "\n",
    ">>> d = {'a':1, 'b':2, 'c':5, 'd':2}\n",
    ">>> print reverse_lookup(d,2)\n",
    "['b', 'd']\n",
    "\n",
    ">>> print reverse_lookup(d,0)\n",
    "[]\n",
    "\n",
    "\"\"\"\n",
    "\n",
    "def reverse_lookup(d, v):\n",
    "    key_list = []\n",
    "    for k in d:\n",
    "        if d[k] == v:\n",
    "            key_list.append(k)\n",
    "    return key_list\n",
    "\n",
    "import doctest\n",
    "doctest.testmod()"
   ]
  },
  {
   "cell_type": "code",
   "execution_count": 11,
   "metadata": {
    "collapsed": false,
    "solution": "Exercise 11.4"
   },
   "outputs": [
    {
     "data": {
      "text/plain": [
       "TestResults(failed=0, attempted=5)"
      ]
     },
     "execution_count": 11,
     "metadata": {},
     "output_type": "execute_result"
    }
   ],
   "source": [
    "def reverse_lookup(d, v):\n",
    "    ''' creates a list of all keys for v in d\n",
    "    >>> reverse_lookup({'a': 3, 'b': 1, 'n': 2}, 2)\n",
    "    ['n']\n",
    "    >>> reverse_lookup({'a': 'string', 'b': 147, 'c': 'string'}, 'string')\n",
    "    ['a', 'c']\n",
    "    '''\n",
    "    keys = []\n",
    "    for k in d:\n",
    "        if d[k] == v:\n",
    "            keys.append(k)\n",
    "\n",
    "    if keys:\n",
    "        return keys\n",
    "    else:\n",
    "        raise ValueError\n",
    "        \n",
    "import doctest\n",
    "doctest.testmod()"
   ]
  },
  {
   "cell_type": "code",
   "execution_count": 32,
   "metadata": {
    "collapsed": false,
    "solution": "Exercise 11.4"
   },
   "outputs": [
    {
     "name": "stdout",
     "output_type": "stream",
     "text": [
      "['r', 't', 'o']\n",
      "['a', 'p']\n"
     ]
    },
    {
     "ename": "ValueError",
     "evalue": "",
     "output_type": "error",
     "traceback": [
      "\u001b[1;31m---------------------------------------------------------------------------\u001b[0m",
      "\u001b[1;31mValueError\u001b[0m                                Traceback (most recent call last)",
      "\u001b[1;32m<ipython-input-32-62a4422474f9>\u001b[0m in \u001b[0;36m<module>\u001b[1;34m()\u001b[0m\n\u001b[0;32m     11\u001b[0m \u001b[1;32mprint\u001b[0m \u001b[0mreverse_lookup\u001b[0m\u001b[1;33m(\u001b[0m\u001b[0mh\u001b[0m\u001b[1;33m,\u001b[0m\u001b[1;36m2\u001b[0m\u001b[1;33m)\u001b[0m\u001b[1;33m\u001b[0m\u001b[0m\n\u001b[0;32m     12\u001b[0m \u001b[1;32mprint\u001b[0m \u001b[0mreverse_lookup\u001b[0m\u001b[1;33m(\u001b[0m\u001b[0mh\u001b[0m\u001b[1;33m,\u001b[0m\u001b[1;36m1\u001b[0m\u001b[1;33m)\u001b[0m\u001b[1;33m\u001b[0m\u001b[0m\n\u001b[1;32m---> 13\u001b[1;33m \u001b[1;32mprint\u001b[0m \u001b[0mreverse_lookup\u001b[0m\u001b[1;33m(\u001b[0m\u001b[0mh\u001b[0m\u001b[1;33m,\u001b[0m\u001b[1;36m0\u001b[0m\u001b[1;33m)\u001b[0m\u001b[1;33m\u001b[0m\u001b[0m\n\u001b[0m",
      "\u001b[1;32m<ipython-input-32-62a4422474f9>\u001b[0m in \u001b[0;36mreverse_lookup\u001b[1;34m(d, v)\u001b[0m\n\u001b[0;32m      7\u001b[0m         \u001b[1;32mreturn\u001b[0m \u001b[0mkeys\u001b[0m\u001b[1;33m\u001b[0m\u001b[0m\n\u001b[0;32m      8\u001b[0m     \u001b[1;32melse\u001b[0m\u001b[1;33m:\u001b[0m\u001b[1;33m\u001b[0m\u001b[0m\n\u001b[1;32m----> 9\u001b[1;33m         \u001b[1;32mraise\u001b[0m \u001b[0mValueError\u001b[0m\u001b[1;33m\u001b[0m\u001b[0m\n\u001b[0m\u001b[0;32m     10\u001b[0m \u001b[0mh\u001b[0m \u001b[1;33m=\u001b[0m \u001b[0mhistogram\u001b[0m\u001b[1;33m(\u001b[0m\u001b[1;34m'parroott'\u001b[0m\u001b[1;33m)\u001b[0m\u001b[1;33m\u001b[0m\u001b[0m\n\u001b[0;32m     11\u001b[0m \u001b[1;32mprint\u001b[0m \u001b[0mreverse_lookup\u001b[0m\u001b[1;33m(\u001b[0m\u001b[0mh\u001b[0m\u001b[1;33m,\u001b[0m\u001b[1;36m2\u001b[0m\u001b[1;33m)\u001b[0m\u001b[1;33m\u001b[0m\u001b[0m\n",
      "\u001b[1;31mValueError\u001b[0m: "
     ]
    }
   ],
   "source": [
    "def reverse_lookup(d, v):\n",
    "    keys= []\n",
    "    for k in d:\n",
    "        if d[k] == v:\n",
    "            keys.append(k)\n",
    "    if len(keys)>0:\n",
    "        return keys\n",
    "    else:\n",
    "        raise ValueError\n",
    "h = histogram('parroott')\n",
    "print reverse_lookup(h,2)\n",
    "print reverse_lookup(h,1)\n",
    "print reverse_lookup(h,0)\n"
   ]
  },
  {
   "cell_type": "code",
   "execution_count": 25,
   "metadata": {
    "collapsed": false,
    "solution": "Exercise 11.4"
   },
   "outputs": [
    {
     "data": {
      "text/plain": [
       "TestResults(failed=0, attempted=11)"
      ]
     },
     "execution_count": 25,
     "metadata": {},
     "output_type": "execute_result"
    }
   ],
   "source": [
    "def reverse_lookup(d, v):\n",
    "    \"\"\"\n",
    "    >>> d = {'a': 'boat', 'b': 'boat', 'c': 'boat'}\n",
    "    >>> print reverse_lookup(d, 'boat')\n",
    "    ['a', 'c', 'b']\n",
    "    >>> print(reverse_lookup(d, 'anything_else'))\n",
    "    []\n",
    "    \"\"\"\n",
    "    \n",
    "    return [k for k in d if d[k] == v]\n",
    "\n",
    "doctest.testmod()"
   ]
  },
  {
   "cell_type": "code",
   "execution_count": 40,
   "metadata": {
    "collapsed": false,
    "solution": "Exercise 11.4"
   },
   "outputs": [
    {
     "data": {
      "text/plain": [
       "TestResults(failed=0, attempted=2)"
      ]
     },
     "execution_count": 40,
     "metadata": {},
     "output_type": "execute_result"
    }
   ],
   "source": [
    "'''prints the keys that correspond to a given value in a dictionary\n",
    "\n",
    ">>> h = histogram('Ariana Veronique Olson')\n",
    ">>> reverse_lookup(h, 3)\n",
    "['a', 'o', 'n']\n",
    "\n",
    "'''\n",
    "def reverse_lookup(d, v):\n",
    "    values = []\n",
    "    for k in d:\n",
    "        if d[k] == v:\n",
    "            values.append(k)\n",
    "    if values == []:\n",
    "        raise ValueError\n",
    "    else: \n",
    "        return values\n",
    "\n",
    "\n",
    "import doctest\n",
    "doctest.testmod()\n",
    "\n"
   ]
  },
  {
   "cell_type": "code",
   "execution_count": 7,
   "metadata": {
    "collapsed": false,
    "solution": "Exercise 11.4"
   },
   "outputs": [
    {
     "name": "stdout",
     "output_type": "stream",
     "text": [
      "['a', 'g', 'i', 'h', 's', 'u', 't', 'w']\n"
     ]
    }
   ],
   "source": [
    "def histogram(s):\n",
    "    d = dict()\n",
    "    for c in s:\n",
    "        d[c] = d.get(c, 0) + 1\n",
    "    return d\n",
    "    \n",
    "def reverse_lookup(d, v):\n",
    "    arblist = []\n",
    "    for k in d:\n",
    "        if d[k] == v:\n",
    "            arblist.append(k)\n",
    "    return arblist\n",
    "\n",
    "h = histogram('yoyowhatsgucci')\n",
    "# print h\n",
    "\n",
    "print reverse_lookup(h, 1)\n",
    "            "
   ]
  },
  {
   "cell_type": "code",
   "execution_count": 16,
   "metadata": {
    "collapsed": false,
    "solution": "Exercise 11.4"
   },
   "outputs": [
    {
     "name": "stdout",
     "output_type": "stream",
     "text": [
      "['a', 'y']\n"
     ]
    }
   ],
   "source": [
    "def reverse_lookup(d, v):\n",
    "    for k in d:\n",
    "        if d[k] == v:\n",
    "            return k\n",
    "    raise ValueError #This throws an error if v isn't a value in d\n",
    "    \n",
    "def list_reverse_lookup(dictionary, value):\n",
    "    \"\"\"\n",
    "    Takes in a dictionary and a value, returns all keys that map to that\n",
    "    value in a list. If there are none, return an empty list.\n",
    "    \"\"\"\n",
    "    values = []\n",
    "    for key in dictionary:\n",
    "        if dictionary[key] == value:\n",
    "            values.append(key)\n",
    "    return values\n",
    "\n",
    "h = better_histogram('psychoanalysis')\n",
    "print list_reverse_lookup(h,2)"
   ]
  },
  {
   "cell_type": "code",
   "execution_count": 16,
   "metadata": {
    "collapsed": false,
    "solution": "Exercise 11.4"
   },
   "outputs": [
    {
     "name": "stdout",
     "output_type": "stream",
     "text": [
      "['a', 'h', 'y']\n"
     ]
    }
   ],
   "source": [
    "def reverse_lookup(d, v):\n",
    "    return_list = []\n",
    "    for k in d:\n",
    "        if d[k] == v:\n",
    "            return_list.append(k)\n",
    "    return return_list\n",
    "\n",
    "d = histogram(\"happy\")\n",
    "print reverse_lookup(d,1)"
   ]
  },
  {
   "cell_type": "code",
   "execution_count": 54,
   "metadata": {
    "collapsed": false,
    "solution": "Exercise 11.4"
   },
   "outputs": [
    {
     "name": "stdout",
     "output_type": "stream",
     "text": [
      "['s', 'e']\n",
      "[]\n",
      "['t']\n"
     ]
    }
   ],
   "source": [
    "def reverse_lookup(d, v):\n",
    "    keys = []\n",
    "    for k in d:\n",
    "        if d[k] == v:\n",
    "            keys.append(k)\n",
    "    return keys\n",
    "h = histogram('test')\n",
    "k = reverse_lookup(h,1)\n",
    "print k\n",
    "k = reverse_lookup(h,3)\n",
    "print k\n",
    "k = reverse_lookup(h,2)\n",
    "print k"
   ]
  },
  {
   "cell_type": "code",
   "execution_count": 19,
   "metadata": {
    "collapsed": false,
    "solution": "Exercise 11.4"
   },
   "outputs": [
    {
     "name": "stdout",
     "output_type": "stream",
     "text": [
      "['bro', 'dude']\n",
      "[]\n"
     ]
    }
   ],
   "source": [
    "def reverse_lookup(d, v):\n",
    "    klist = []\n",
    "    for k in d:\n",
    "        if d[k] == v:\n",
    "            klist += [k]\n",
    "    return klist\n",
    "\n",
    "h = {'hi': 3.0, 'bro':'cool', 'dude':'cool', 'y': 8 }\n",
    "print reverse_lookup(h, 'cool')\n",
    "print reverse_lookup(h, 'yeah')"
   ]
  },
  {
   "cell_type": "code",
   "execution_count": 3,
   "metadata": {
    "collapsed": false,
    "solution": "Exercise 11.4"
   },
   "outputs": [
    {
     "data": {
      "text/plain": [
       "TestResults(failed=0, attempted=5)"
      ]
     },
     "execution_count": 3,
     "metadata": {},
     "output_type": "execute_result"
    }
   ],
   "source": [
    "def reverse_lookup(d, v):\n",
    "    \"\"\"\n",
    "    >>> reverse_lookup(histogram('puppy'), 1)\n",
    "    ['y', 'u']\n",
    "    >>> reverse_lookup(histogram('puppy'), 2)\n",
    "    []\n",
    "    >>> reverse_lookup(histogram('puppy'), 3)\n",
    "    ['p']\n",
    "    \"\"\"\n",
    "    reverse_list = []\n",
    "    for k in d:\n",
    "        if d[k] == v:\n",
    "            reverse_list.append(k)\n",
    "    return reverse_list\n",
    "\n",
    "import doctest\n",
    "doctest.testmod()"
   ]
  },
  {
   "cell_type": "code",
   "execution_count": 17,
   "metadata": {
    "collapsed": false,
    "solution": "Exercise 11.4"
   },
   "outputs": [
    {
     "name": "stdout",
     "output_type": "stream",
     "text": [
      "['l']\n",
      "['a', 'i', 'l', 'n', 'w']\n"
     ]
    }
   ],
   "source": [
    "def reverse_lookup(d, v):\n",
    "    mylist = []\n",
    "    for k in d:\n",
    "        if d[k] == v:\n",
    "            mylist.append(k)\n",
    "    return mylist\n",
    "h = histogram(\"lolcatzlolcats\")\n",
    "print reverse_lookup(h, 4)\n",
    "h = histogram(\"wutisalolcatidontknow\")\n",
    "print reverse_lookup(h, 2)"
   ]
  },
  {
   "cell_type": "code",
   "execution_count": 16,
   "metadata": {
    "collapsed": false,
    "solution": "Exercise 11.4"
   },
   "outputs": [
    {
     "name": "stdout",
     "output_type": "stream",
     "text": [
      "['e', 's']\n"
     ]
    }
   ],
   "source": [
    "def reverse_lookup(d, v):\n",
    "    a = []\n",
    "    for k in d:\n",
    "        if d[k] == v:\n",
    "            a += k\n",
    "    return a\n",
    "keymap= {'a':'s','s':'r','m':'w','e':'r'}\n",
    "print reverse_lookup (keymap,'r')\n",
    "\n"
   ]
  },
  {
   "cell_type": "code",
   "execution_count": 33,
   "metadata": {
    "collapsed": false,
    "solution": "Exercise 11.4"
   },
   "outputs": [
    {
     "data": {
      "text/plain": [
       "['t', 'o']"
      ]
     },
     "execution_count": 33,
     "metadata": {},
     "output_type": "execute_result"
    }
   ],
   "source": [
    "#import doc.test\n",
    "\n",
    "def histogram(s,d):\n",
    "    for c in s:\n",
    "        d[c] = d.get(c,0)+1\n",
    "    return d\n",
    "\n",
    "def reverse_lookup(d, v):\n",
    "    keys = []\n",
    "    for k in d:\n",
    "        if d[k] == v:\n",
    "            keys.append(k)\n",
    "    return keys\n",
    "\n",
    "reverse_lookup(histogram('tooth',{}),2)"
   ]
  },
  {
   "cell_type": "code",
   "execution_count": 5,
   "metadata": {
    "collapsed": false,
    "solution": "Exercise 11.4"
   },
   "outputs": [
    {
     "name": "stdout",
     "output_type": "stream",
     "text": [
      "['r', 'o', 's', 'w', 'd']\n",
      "['i', 's']\n"
     ]
    }
   ],
   "source": [
    "def reverse_lookup(d, v):\n",
    "    stuff = []\n",
    "    for k in d:\n",
    "        if d[k] == v:\n",
    "            stuff.append(k)\n",
    "    return stuff\n",
    "print(reverse_lookup({'d': 1, 'r': 1, 'o': 1, 's': 1, 'w': 1}, 1))\n",
    "print(reverse_lookup({'i': 4, 'p': 2, 'm': 1, 's': 4}, 4))"
   ]
  },
  {
   "cell_type": "code",
   "execution_count": 10,
   "metadata": {
    "collapsed": false,
    "solution": "Exercise 11.4"
   },
   "outputs": [
    {
     "name": "stdout",
     "output_type": "stream",
     "text": [
      "['a', 'c']\n",
      "[]\n"
     ]
    }
   ],
   "source": [
    "def reverse_lookup(d, v):\n",
    "    #Build and return a single list of all keys in d that map to value v.\n",
    "    keyList = []\n",
    "    for k in d:\n",
    "        if d[k] == v:\n",
    "            keyList.append(k)\n",
    "    return keyList\n",
    "    raise ValueError\n",
    "\n",
    "print reverse_lookup({'a': 1, 'b': 2, 'c': 1}, 1) #should return ['a', 'c']\n",
    "print reverse_lookup({'a': 1, 'b': 2, 'c': 1}, 3) #should return empty list"
   ]
  },
  {
   "cell_type": "code",
   "execution_count": 23,
   "metadata": {
    "collapsed": false,
    "solution": "Exercise 11.4"
   },
   "outputs": [],
   "source": [
    "def reverse_lookup(d, v):\n",
    "    \"\"\" \n",
    "    >>> reverse_lookup(histogram('parrot'), 2)\n",
    "    ['r']\n",
    "    >>> reverse_lookup(histogram('parrot'), 1)\n",
    "    ['a', 'p', 't', 'o']\n",
    "    >>> reverse_lookup(histogram('parrot'), 3)\n",
    "    []\n",
    "    \"\"\"\n",
    "    a = list()\n",
    "    for k in d:\n",
    "        if d[k] == v:\n",
    "            a.append(k)\n",
    "    return a\n",
    "\n",
    "if __name__ == '__main__':\n",
    "    import doctest\n",
    "    doctest.testmod()"
   ]
  },
  {
   "cell_type": "code",
   "execution_count": 23,
   "metadata": {
    "collapsed": false,
    "solution": "Exercise 11.4"
   },
   "outputs": [],
   "source": [
    "def reverse_lookup(d, v):\n",
    "    \"\"\"\n",
    "    returns all of the keys for a given value\n",
    "    >>> reverse_lookup(histogram('aaabbbccc'),3)\n",
    "    ['a', 'b', 'c']\n",
    "    \n",
    "    >>> reverse_lookup(histogram('dddpefjag'),3)\n",
    "    ['d']\n",
    "    \n",
    "    \n",
    "    \"\"\"\n",
    "    \n",
    "    keys =[]\n",
    "    for k in d:\n",
    "        if d[k] == v:\n",
    "            keys.append(k)\n",
    "    keys.sort()\n",
    "    return keys\n",
    "import doctest\n",
    "doctest.run_docstring_examples(reverse_lookup,globals())"
   ]
  },
  {
   "cell_type": "code",
   "execution_count": 27,
   "metadata": {
    "collapsed": false,
    "solution": "Exercise 11.4"
   },
   "outputs": [
    {
     "data": {
      "text/plain": [
       "['c', 'e', 'h']"
      ]
     },
     "execution_count": 27,
     "metadata": {},
     "output_type": "execute_result"
    }
   ],
   "source": [
    "def reverse_lookup(d, v):\n",
    "    \"\"\"\n",
    "    >>>reverse_lookup({'c': 1, 'e': 1, 'h': 1, 's': 2}, 1)\n",
    "    ['c','e','h']\n",
    "    >>>reverse_lookup({'c': 1, 'e': 1, 'h': 1, 's': 2}, 2)\n",
    "    ['s']\n",
    "    \"\"\"\n",
    "    l = []\n",
    "    \n",
    "    for k in d:\n",
    "        if d[k] == v:\n",
    "          l.append(k)\n",
    "    l.sort()\n",
    "    return l\n",
    "    raise ValueError\n",
    "    \n",
    "reverse_lookup({'c': 1, 'e': 1, 'h': 1, 's': 2}, 1)"
   ]
  },
  {
   "cell_type": "code",
   "execution_count": 5,
   "metadata": {
    "collapsed": false,
    "solution": "Exercise 11.4"
   },
   "outputs": [
    {
     "name": "stdout",
     "output_type": "stream",
     "text": [
      "['a']\n",
      "['b', 'c']\n",
      "[]\n"
     ]
    }
   ],
   "source": [
    "def reverse_lookup(d, v):\n",
    "    s = []\n",
    "    for k in d:\n",
    "        if d[k] == v:\n",
    "            s.append(k)\n",
    "    return s\n",
    "    raise ValueError\n",
    "\n",
    "d = {'a':1, 'b':2, 'c':2, 'd':3}\n",
    "print(reverse_lookup(d, 1))\n",
    "print(reverse_lookup(d, 2))\n",
    "print(reverse_lookup(d, 0))"
   ]
  },
  {
   "cell_type": "markdown",
   "metadata": {},
   "source": [
    "A lookup is when given a dictionary d and a key k, you find the corresponding value v = d[k]. A reverse lookup is the opposite."
   ]
  },
  {
   "cell_type": "code",
   "execution_count": 11,
   "metadata": {
    "collapsed": false,
    "solution": "Exercise 11.4"
   },
   "outputs": [
    {
     "name": "stdout",
     "output_type": "stream",
     "text": [
      "['p', 90, 'greg4president']\n"
     ]
    }
   ],
   "source": [
    "def reverse_lookup(d, v):\n",
    "    keys = []\n",
    "    for k in d:\n",
    "        if d[k] == v:\n",
    "            keys.append(k)\n",
    "    return keys\n",
    "a = {'p':4, 'dog':'cat', 90: 4, 'greg':1, 'greg4president': 4}\n",
    "print reverse_lookup(a, 4)"
   ]
  },
  {
   "cell_type": "code",
   "execution_count": 5,
   "metadata": {
    "collapsed": false,
    "scrolled": true,
    "solution": "Exercise 11.4"
   },
   "outputs": [
    {
     "name": "stdout",
     "output_type": "stream",
     "text": [
      "['o', 's', 'r', 'u']\n",
      "['c', 'b']\n"
     ]
    }
   ],
   "source": [
    "def reverse_lookup(d, v):\n",
    "    list_of_keys = []\n",
    "    for k in d:\n",
    "        if d[k] == v:\n",
    "             list_of_keys.append(k)\n",
    "    return list_of_keys\n",
    "h = histogram('brontosaurus')\n",
    "j = histogram('baaabacbcc')\n",
    "print reverse_lookup(h,2)\n",
    "print reverse_lookup(j,3)"
   ]
  },
  {
   "cell_type": "code",
   "execution_count": 40,
   "metadata": {
    "collapsed": false,
    "solution": "Exercise 11.4"
   },
   "outputs": [
    {
     "name": "stdout",
     "output_type": "stream",
     "text": [
      "['r']\n"
     ]
    }
   ],
   "source": [
    "def reverse_lookup(d, v):\n",
    "    \"\"\"\n",
    "    Builds and returns a list of all keys that have a given value.\n",
    "    >>> reverse_lookup({'a': 1, 'p': 1, 'r': 2, 't': 1, 'o': 1}, 2)\n",
    "    ['r']\n",
    "    >>> reverse_lookup({'a': 1, 'p': 1, 'r': 2, 't': 1, 'o': 1}, 4)\n",
    "    []\n",
    "    \"\"\"\n",
    "    l = []\n",
    "    for k in d:\n",
    "        if d[k] == v:\n",
    "            l.append(k)\n",
    "    return l\n",
    "    raise ValueError\n",
    "    \n",
    "import doctest\n",
    "doctest.run_docstring_examples(reverse_lookup, globals())\n",
    "    \n",
    "h = histogram('parrot')\n",
    "k = reverse_lookup(h, 2)\n",
    "print k"
   ]
  },
  {
   "cell_type": "markdown",
   "metadata": {
    "is_question": true,
    "problem": "Exercise 11.6"
   },
   "source": [
    "### Exercise 6 (modified)\n",
    "\n",
    "Create a memoized version of your Levenshtein distance function from Day 7. What kind of performance change do you see?\n",
    "\n",
    "Optional: If you'd like to get some quantitative results, you could check out the [timeit](https://docs.python.org/2/library/timeit.html) module\n",
    "\n",
    "Note: You can also study Fibonacci here if you prefer."
   ]
  },
  {
   "cell_type": "code",
   "execution_count": null,
   "metadata": {
    "collapsed": true,
    "solution": "Exercise 11.6"
   },
   "outputs": [],
   "source": [
    "known = {} #create a dictionary\n",
    "\n",
    "def levenshtein_distance(a,b):\n",
    "    if [a,b] in known: #i know inputting lists as keys is bad form...\n",
    "        return known[[a,b]] #if this combo has been seen before, return the value!\n",
    "    \n",
    "    \"\"\"the following should be the levenshtein_distance()\"\"\"\n",
    "    res = # didn't do this in class and miserably confused and no time to clear it up.\n",
    "    known[[a,b]] = res\n",
    "    return res"
   ]
  },
  {
   "cell_type": "code",
   "execution_count": null,
   "metadata": {
    "collapsed": false,
    "solution": "Exercise 11.6"
   },
   "outputs": [],
   "source": [
    "def levenshtein(s,len_s,t,len_t):\n",
    "    #store key as string of 2 ints - (len_s)(len_t) - i.e. 23 len_s = 2 len_t = 3\n",
    "    known = dict()\n",
    "    key = str(len_s) + str(len_t)\n",
    "    if key in known:\n",
    "        return known[key]\n",
    "    \n",
    "    if len_s == 0:\n",
    "        known[key] = len_t\n",
    "        return len_t\n",
    "    if len_t == 0:\n",
    "        known[key] = len_s\n",
    "        return len_s\n",
    "    if s[len_s-1] == t[len_t-1]:\n",
    "        cost = 0\n",
    "    else:\n",
    "        cost = 1\n",
    "    \n",
    "    res = min(levenshtein(s,len_s-1,t,len_t)+1,levenshtein(s,len_s,t,len_t-1)+1,levenshtein(s,len_s-1,t,len_t-1)+cost)\n",
    "    known[key] = res\n",
    "    return res\n",
    "    \n",
    "word1 = 'kitten'\n",
    "word2 = 'sitting'\n",
    "print levenshtein(word1,len(word1),word2,len(word2))"
   ]
  },
  {
   "cell_type": "code",
   "execution_count": 99,
   "metadata": {
    "collapsed": false,
    "solution": "Exercise 11.6"
   },
   "outputs": [
    {
     "name": "stdout",
     "output_type": "stream",
     "text": [
      "Finding tests in NoName\n",
      "Trying:\n",
      "    d = {}\n",
      "Expecting nothing\n",
      "ok\n",
      "Trying:\n",
      "    levenshtein_memo(\"apple\", \"\",d)\n",
      "Expecting:\n",
      "    5\n",
      "ok\n",
      "Trying:\n",
      "    levenshtein_memo(\"battle\", \"bet\",d)\n",
      "Expecting:\n",
      "    4\n",
      "ok\n",
      "Trying:\n",
      "    levenshtein_memo(\"beta\", \"pedal\",d)\n",
      "Expecting:\n",
      "    3\n",
      "ok\n",
      "Trying:\n",
      "    levenshtein_memo(\"kitten\", \"smitten\",d)\n",
      "Expecting:\n",
      "    2\n",
      "ok\n"
     ]
    }
   ],
   "source": [
    "\"\"\" Implements a function that computes the Levenshtein\n",
    "    distance between two strings. \"\"\"\n",
    "\n",
    "def levenshtein_memo(a, b, d):\n",
    "    \"\"\" returns the Levenshtein distance between a and b\n",
    "        >>> d = {}\n",
    "        >>> levenshtein_memo(\"apple\", \"\",d)\n",
    "        5\n",
    "        >>> levenshtein_memo(\"battle\", \"bet\",d)\n",
    "        4\n",
    "        >>> levenshtein_memo(\"beta\", \"pedal\",d)\n",
    "        3\n",
    "        >>> levenshtein_memo(\"kitten\", \"smitten\",d)\n",
    "        2\n",
    "    \"\"\"\n",
    "    if a == \"\":\n",
    "        return len(b)\n",
    "    if b == \"\":\n",
    "        return len(a)\n",
    "    if (len(a),len(b)) in d:\n",
    "        return d[(len(a),len(b))]\n",
    "\n",
    "    # Strategy 1: Change the first character to match\n",
    "    if a[0] == b[0]:\n",
    "        option1 = levenshtein_memo(a[1:], b[1:], d) # First characters already match, so no extra distance\n",
    "        d[(a,b)] = option1\n",
    "    else:\n",
    "        option1 = levenshtein_memo(a[1:], b[1:], d) + 1\n",
    "        d[(a,b)] = option1\n",
    "\n",
    "    # Strategy 2: Drop the first character of b\n",
    "    option2 = 1 + levenshtein_memo(a, b[1:], d)\n",
    "    d[(a,b)] = option2\n",
    "    \n",
    "    # Strategy 3: Drop the first character of a\n",
    "    option3 = 1 + levenshtein_memo(a[1:], b, d)\n",
    "    d[(a,b)] = option3\n",
    "\n",
    "    return min(option1, option2, option3)\n",
    "\n",
    "# Run only if called from command line, not when imported\n",
    "if __name__ == \"__main__\":\n",
    "    import doctest\n",
    "    d ={}\n",
    "    doctest.run_docstring_examples(levenshtein_memo,globals(), verbose=True)"
   ]
  },
  {
   "cell_type": "code",
   "execution_count": 18,
   "metadata": {
    "collapsed": false,
    "solution": "Exercise 11.6"
   },
   "outputs": [
    {
     "name": "stdout",
     "output_type": "stream",
     "text": [
      "0.181765079498\n"
     ]
    },
    {
     "data": {
      "text/plain": [
       "354224848179261915075L"
      ]
     },
     "execution_count": 18,
     "metadata": {},
     "output_type": "execute_result"
    }
   ],
   "source": [
    "known = {0:0, 1:1}\n",
    "\n",
    "def fibonacci(n):\n",
    "    if n in known:\n",
    "        return known[n]\n",
    "    \n",
    "    res = fibonacci(n-1) + fibonacci(n-2)\n",
    "    known[n] = res\n",
    "    return res\n",
    "\n",
    "import timeit\n",
    "print timeit.timeit('\"-\".join(str(n) for n in range(100))', number=10000)\n",
    "\n",
    "fibonacci(100)\n",
    "\n",
    "# the computation time remained esentailly the same for inputs of 4, 10 and even 100"
   ]
  },
  {
   "cell_type": "code",
   "execution_count": 2,
   "metadata": {
    "collapsed": false,
    "solution": "Exercise 11.6"
   },
   "outputs": [
    {
     "name": "stdout",
     "output_type": "stream",
     "text": [
      "1\n",
      "1\n",
      "14\n",
      "39\n"
     ]
    }
   ],
   "source": [
    "dicts = {}\n",
    "\n",
    "def levenshtein_distance(a, b):\n",
    "    \"\"\"\n",
    "    This method uses a dictionary to keep track of all possible character set pairs, and\n",
    "    their corresponding values representing how many more operations are required until the end of the string.\n",
    "    \n",
    "    I tested it for both long and small, obviously not using doctest because IDK what the number of operations\n",
    "    required is.\n",
    "    \"\"\"\n",
    "\tif (a,b) in dicts.keys():\n",
    "\t\treturn dicts[a,b] \n",
    "\telse:\t\n",
    "\t\tif len(a)==0:\n",
    "\t\t\treturn len(b)\n",
    "\t\telif len(b)==0:\n",
    "\t\t\treturn len(a)\n",
    "\t\telif a[0] == b[0]:\n",
    "\t\t\toption1 = levenshtein_distance(a[1:],b[1:])\n",
    "\t\telse:\n",
    "\t\t\toption1 = 1 + levenshtein_distance(a[1:],b[1:])\n",
    "\t\toption2 = 1 + levenshtein_distance(a[1:],b)\n",
    "\t\toption3 = 1 + levenshtein_distance(a,b[1:])\n",
    "\n",
    "\t\tminimum = min(option1,option2,option3)\n",
    "\n",
    "\t\tdicts[a,b] = minimum\n",
    "\t\treturn minimum\n",
    "\n",
    "print levenshtein_distance('a','b')\n",
    "print levenshtein_distance('ab','bb')\n",
    "print levenshtein_distance('imagianthickcenwholoveschickens','imagiantbuttwholovesbutts')\n",
    "print levenshtein_distance('dfsndnvsdjscovhweofvrogihvwochohv','epfijcmasidcqwpdjcjwqAJLDASKSJKSDJSGERGVSOSI')"
   ]
  },
  {
   "cell_type": "code",
   "execution_count": 11,
   "metadata": {
    "collapsed": false,
    "solution": "Exercise 11.6"
   },
   "outputs": [
    {
     "name": "stdout",
     "output_type": "stream",
     "text": [
      "4\n"
     ]
    }
   ],
   "source": [
    "def lev_memo(a,b,d):\n",
    "    \"\"\"returns the levenshtein distance between two strings a and b\n",
    "    >>> lev_memo('linnea', 'lauren', {})\n",
    "    4\n",
    "    \"\"\"\n",
    "    if b==\"\":\n",
    "        return len(a)\n",
    "    elif a==\"\":\n",
    "        return len(b)\n",
    "    elif (a,b) in d:\n",
    "        return d[(a,b)]\n",
    "    elif a[0]==b[0]:\n",
    "        lev_skip_sub = lev(a[1:],b[1:],d)\n",
    "    else:\n",
    "        lev_skip_sub = 1+lev(a[1:],b[1:],d)\n",
    "    lev_insert = 1+lev(a,b[1:],d)\n",
    "    lev_delete = 1+lev(a[1:],b,d)\n",
    "    minLev = min(lev_skip_sub, lev_insert, lev_delete)\n",
    "    d[(a,b)] = minLev\n",
    "    return minLev\n",
    "\n",
    "print lev_memo('linnea', 'lauren', {})"
   ]
  },
  {
   "cell_type": "code",
   "execution_count": 8,
   "metadata": {
    "collapsed": false,
    "solution": "Exercise 11.6"
   },
   "outputs": [
    {
     "data": {
      "text/plain": [
       "TestResults(failed=0, attempted=11)"
      ]
     },
     "execution_count": 8,
     "metadata": {},
     "output_type": "execute_result"
    }
   ],
   "source": [
    "def levenshtein(a, b, cache):\n",
    "    \"\"\" Returns the levenshtein distance between a and b.\n",
    "        >>> cache = {}\n",
    "        >>> levenshtein('apple', '', cache)\n",
    "        5\n",
    "        >>> levenshtein('', 'software', cache)\n",
    "        8\n",
    "        >>> levenshtein('cat', 'cat', cache)\n",
    "        0\n",
    "        >>> levenshtein('beta', 'pedal', cache)\n",
    "        3\n",
    "        >>> levenshtein('battle', 'bet', cache)\n",
    "        4\n",
    "    \"\"\"\n",
    "\n",
    "    if (a, b) in cache:\n",
    "        return cache[(a, b)]\n",
    "    \n",
    "    if a == b:\n",
    "        return 0\n",
    "    elif not a or not b:\n",
    "        return len(a) or len(b)\n",
    "    elif a[0] == b[0]:\n",
    "        option1 = levenshtein(a[1:], b[1:], cache)\n",
    "    else:\n",
    "        option1 = 1 + levenshtein(a[1:], b[1:], cache) # change 1st char to match\n",
    "\n",
    "    option2 = 1 + levenshtein(a, b[1:], cache) # insert b[0] as first character of a\n",
    "    option3 = 1 + levenshtein(a[1:], b, cache) # remove first character of a\n",
    "\n",
    "    minimum = min(option1, option2, option3)\n",
    "    cache[(a, b)] = minimum\n",
    "    return minimum\n",
    "\n",
    "import doctest\n",
    "doctest.testmod()"
   ]
  },
  {
   "cell_type": "code",
   "execution_count": 10,
   "metadata": {
    "collapsed": false,
    "solution": "Exercise 11.6"
   },
   "outputs": [
    {
     "name": "stdout",
     "output_type": "stream",
     "text": [
      "3\n"
     ]
    }
   ],
   "source": [
    "known={}\n",
    "def lev_dist(a,b):\n",
    "        '''\n",
    "        This function calculates the Levenshtein distance between two strings\n",
    "        a and b. i,j indicates the first i chars of a and first j chars of b\n",
    "        using the wikipedia recursion formula.\n",
    "        It is modified to use a memo dictionary \n",
    "        https://en.wikipedia.org/wiki/Levenshtein_distance\n",
    "        '''\n",
    "        i=len(a)\n",
    "        j=len(b)\n",
    "        if (a,b) in known:\n",
    "            return known[(a,b)]\n",
    "        elif min(i,j)==0:\n",
    "            res=max(i,j)\n",
    "            known[(a,b)]=res        \n",
    "            return res\n",
    "        else:\n",
    "            element_1=lev_dist(a[:i-1],b[:j])+1\n",
    "            element_2=lev_dist(a[:i],b[:j-1])+1\n",
    "            element_3=lev_dist(a[:i-1],b[:j-1])+(0 if a[-1]==b[-1] else 1)\n",
    "            res=min(element_3,element_2,element_1)\n",
    "            known[(a,b)]=res\n",
    "            return res \n",
    "    \n",
    "print lev_dist('acabcc','acacda')"
   ]
  },
  {
   "cell_type": "code",
   "execution_count": 41,
   "metadata": {
    "collapsed": false,
    "solution": "Exercise 11.6"
   },
   "outputs": [],
   "source": [
    "def Lev1(a,b):\n",
    "    # first pass at Levenshtein distance code\n",
    "    if not a:\n",
    "        return len(b)\n",
    "    if not b:\n",
    "        return len(a)\n",
    "    # Strategy 1: Change the first character to match\n",
    "    if a[0] == b[0]:\n",
    "        # First characters already match, so no extra distance\n",
    "        option1 = levenshtein(a[1:], b[1:])\n",
    "    else:\n",
    "        option1 = levenshtein(a[1:], b[1:]) + 1\n",
    "\n",
    "    # Strategy 2: Insert b[0] as the first character of a\n",
    "    option2 = 1 + levenshtein(a, b[1:])\n",
    "    \n",
    "    # Strategy 3: Delete the first character of a\n",
    "    option3 = 1 + levenshtein(a[1:], b)\n",
    "\n",
    "    return min(option1, option2, option3)\n",
    "\n",
    "def Lev2(a,b):\n",
    "    # memoized version\n",
    "    x = len(a)\n",
    "    y = len(b)\n",
    "    \n",
    "    if x == 0:\n",
    "        return y\n",
    "    if y == 0:\n",
    "        return x\n",
    "    \n",
    "    return min(Lev2(a[:x-1],b)+1, Lev2(a,b[:y-1])+1, Lev2(a[:x-1],b[:y-1]+substCost(a[y-1],b[x-1])))"
   ]
  },
  {
   "cell_type": "code",
   "execution_count": 27,
   "metadata": {
    "collapsed": false,
    "solution": "Exercise 11.6"
   },
   "outputs": [
    {
     "data": {
      "text/plain": [
       "354224848179261915075L"
      ]
     },
     "execution_count": 27,
     "metadata": {},
     "output_type": "execute_result"
    }
   ],
   "source": [
    "known = {0:0, 1:1}\n",
    "def memo_fibo(n):\n",
    "    if n in known:\n",
    "        return known[n]\n",
    "    res = memo_fibo(n-1) + memo_fibo(n-2)\n",
    "    known[n]= res\n",
    "    return res\n",
    "\n",
    "memo_fibo(100)\n",
    "#it's significantly faster. I know each time I ran the Pascal's\n",
    "#Triangle function in class last week it got faster so I'm guessing\n",
    "#Python does something similar to memoizing every time it runs a\n",
    "#calculation, storing the answer in __main__\n",
    "\n",
    "#you have to declare a variable \"global\" before you use it --\n",
    "#if it's mutable, you can change it without declaring it"
   ]
  },
  {
   "cell_type": "code",
   "execution_count": 1,
   "metadata": {
    "collapsed": false,
    "solution": "Exercise 11.6"
   },
   "outputs": [
    {
     "data": {
      "text/plain": [
       "7"
      ]
     },
     "execution_count": 1,
     "metadata": {},
     "output_type": "execute_result"
    }
   ],
   "source": [
    "def lev(s1, s2, memo=None):\n",
    "\tif memo is None: \n",
    "\t\tmemo = {}\n",
    "\tif len(s1) == 0:\n",
    "\t\treturn len(s2)\n",
    "\tif len(s2) == 0:\n",
    "\t\treturn len(s1)\n",
    "\tif (len(s1), len(s2)) in memo:\n",
    "\t\treturn memo[(len(s1), len(s2))]\n",
    "\tdelta = 1 if s1[-1] != s2[-1] else 0\n",
    "\tdiag = lev(s1[:-1], s2[:-1], memo) + delta\n",
    "\tvert = lev(s1[:-1], s2, memo) + 1\n",
    "\thorz = lev(s1, s2[:-1], memo) + 1\n",
    "\tans = min(diag, vert, horz)\n",
    "\tmemo[(len(s1), len(s2))] = ans \n",
    "\treturn ans\n",
    "\n",
    "lev('paulruvulo', 'provolone')"
   ]
  },
  {
   "cell_type": "code",
   "execution_count": null,
   "metadata": {
    "collapsed": true,
    "solution": "Exercise 11.6"
   },
   "outputs": [],
   "source": [
    "# I found this floating around the internet - it does more or less the same thing the dictionary in thinkpython does, I think.\n",
    "# Each time it is given a hashable set of arguments, it stores those in self.cache as a args:value key/value pair.\n",
    "# *args gathers arguments into a tuple.\n",
    "# Is there a way to memoize a function that takes a list as input? \n",
    "#I suppose we could rewrite the function to take a tuple, unpack tuple into a list, modify list and repack it into a tuple to return\n",
    "\n",
    "\n",
    "import collections\n",
    "import functools\n",
    "\n",
    "class memoized(object):\n",
    "    '''Decorator. Caches a function's return value each time it is called.\n",
    "    If called later with the same arguments, the cached value is returned\n",
    "    (not reevaluated).\n",
    "    '''\n",
    "    def __init__(self, func):\n",
    "        self.func = func\n",
    "        self.cache = {}\n",
    "    def __call__(self, *args):\n",
    "        if not isinstance(args, collections.Hashable):\n",
    "         # uncacheable. a list, for instance.\n",
    "         # better to not cache than blow up.\n",
    "            return self.func(*args)\n",
    "        if args in self.cache:\n",
    "            return self.cache[args]\n",
    "        else:\n",
    "            value = self.func(*args)\n",
    "            self.cache[args] = value\n",
    "            return value\n",
    "    def __repr__(self):\n",
    "        '''Return the function's docstring.'''\n",
    "        return self.func.__doc__\n",
    "    def __get__(self, obj, objtype):\n",
    "        '''Support instance methods.'''\n",
    "        return functools.partial(self.__call__, obj)\n",
    "    \n",
    "#memoized definitely makes recursion a lot faster."
   ]
  },
  {
   "cell_type": "code",
   "execution_count": 11,
   "metadata": {
    "collapsed": false,
    "solution": "Exercise 11.6"
   },
   "outputs": [
    {
     "data": {
      "text/plain": [
       "TestResults(failed=0, attempted=10)"
      ]
     },
     "execution_count": 11,
     "metadata": {},
     "output_type": "execute_result"
    }
   ],
   "source": [
    "def findStringDist(a,b):\n",
    "    \"\"\"\n",
    "    >>> findStringDist('kitten','sitting')\n",
    "    3\n",
    "    \"\"\"\n",
    "    return lev(len(a),len(b), a,b,dict())\n",
    "\n",
    "\n",
    "def lev(i, j, a, b, memory):\n",
    "    if i == 0:\n",
    "        return j\n",
    "    if j == 0:\n",
    "        return i\n",
    "    if memory.has_key((i,j)):\n",
    "        return memory.get((i,j))\n",
    "\n",
    "    x = lev(i-1,j, a,b,memory)\n",
    "    y = lev(i,j-1, a,b,memory)\n",
    "    z = lev(i-1,j-1, a,b,memory) - (a[i-1] == b[j-1])\n",
    "    \n",
    "    memory[(i,j)] = min(x,y,z)+1\n",
    "    return min(x,y,z)+1\n",
    "\n",
    "\n",
    "import doctest\n",
    "doctest.testmod()"
   ]
  },
  {
   "cell_type": "code",
   "execution_count": 11,
   "metadata": {
    "collapsed": false,
    "solution": "Exercise 11.6"
   },
   "outputs": [
    {
     "name": "stdout",
     "output_type": "stream",
     "text": [
      "179\n"
     ]
    }
   ],
   "source": [
    "known = {}\n",
    "\n",
    "def levenshtein_distance(a,b):\n",
    "    \"\"\" Finds the difference between two strings/finds the least number of\n",
    "        changes required to make one string into the other\n",
    "\n",
    "        >>> levenshtein_distance('kitten','smitten')\n",
    "        2\n",
    "        >>> levenshtein_distance('','apple')\n",
    "        5\n",
    "        >>> levenshtein_distance('why','')\n",
    "        3\n",
    "    \"\"\"\n",
    "    if len(a) == 0:\n",
    "        return len(b)\n",
    "    if len(b) == 0:\n",
    "        return len(a)\n",
    "\n",
    "    if (a,b) in known:\n",
    "        return known[(a,b)]\n",
    "    \n",
    "    if a[0] == b[0]:\n",
    "        option1 = levenshtein_distance(a[1:], b[1:])\n",
    "    else:\n",
    "        option1 = 1 + levenshtein_distance(a[1:], b[1:])\n",
    "    \n",
    "    option2 = levenshtein_distance(a, b[1:]) + 1\n",
    "    option3 = levenshtein_distance(a[1:], b) + 1\n",
    "\n",
    "    res = min(option1, option2, option3)\n",
    "    known[(a,b)] = res\n",
    "    return res\n",
    "    \n",
    "print levenshtein_distance('In a hole in the ground there lived a hobbit. Not a nasty, dirty, wet hole, filled with the ends of worms and an oozy smell, nor yet a dry, bare, sandy hole with nothing in it to sit down on or to eat: it was a hobbit-hole and that means comfort.','When Mr. Bilbo Baggins of Bag End announced that he would shortly be celebrating his eleventy-first birthday with a party of special magnificence, there was much talk and excitement in Hobbiton.')"
   ]
  },
  {
   "cell_type": "code",
   "execution_count": 15,
   "metadata": {
    "collapsed": false
   },
   "outputs": [
    {
     "name": "stdout",
     "output_type": "stream",
     "text": [
      "7\n"
     ]
    }
   ],
   "source": [
    "d = {}\n",
    "def levenshtein(s,t,d):\n",
    "    if len(s) == 0:\n",
    "        return len(t)\n",
    "    if len(t) == 0:\n",
    "        return len(s)\n",
    "    if (s[:-1],t[:-1]) in d:\n",
    "        return d[(s[:-1],t[:-1])]\n",
    "    if s[-1] == t[-1]:\n",
    "        cost = 0\n",
    "    else:\n",
    "        cost = 1\n",
    "    \n",
    "    returnval = min(levenshtein(s[:len(s)-1],t,d)+1, levenshtein(s,t[:len(t)-1],d)+1, levenshtein(s[:len(s)-1],t[:len(t)-1],d) + cost)\n",
    "    d[(s,t)] = returnval\n",
    "    return returnval\n",
    "\n",
    "print levenshtein ('kittenasdf;j;asdf','sittingasdflknlaks', d)"
   ]
  },
  {
   "cell_type": "code",
   "execution_count": 21,
   "metadata": {
    "collapsed": false,
    "solution": "Exercise 11.6"
   },
   "outputs": [
    {
     "name": "stdout",
     "output_type": "stream",
     "text": [
      "1\n",
      "13\n",
      "2281217241465037496128651402858212007295\n"
     ]
    }
   ],
   "source": [
    "already_done = {0:0, 1:1}\n",
    "# times_called = 0\n",
    "def fibonacci(i):\n",
    "    # times_called +=1\n",
    "    if i in already_done:\n",
    "        return already_done[i]\n",
    "    value = fibonacci(i-1) + fibonacci(i-2)\n",
    "    already_done[i] = value\n",
    "    #print times_called\n",
    "    return value\n",
    "\n",
    "print fibonacci(2)\n",
    "print fibonacci(7)\n",
    "print fibonacci(190)"
   ]
  },
  {
   "cell_type": "code",
   "execution_count": null,
   "metadata": {
    "collapsed": true,
    "solution": "Exercise 11.6"
   },
   "outputs": [],
   "source": [
    "known = {0:0, 1:1}\n",
    "\n",
    "def fibonacci(n):\n",
    "    if n in known:\n",
    "        return known[n]\n",
    "    \n",
    "    num = fibonacci(n-1) + fibonacci(n-2)\n",
    "    known[n] = num\n",
    "    return num\n",
    "\n",
    "#Performance change: a lot more efficient because you don't have to \n",
    "#calculate the fibonaccis you already calculated before.\n",
    "\n",
    "    "
   ]
  },
  {
   "cell_type": "code",
   "execution_count": 13,
   "metadata": {
    "collapsed": false,
    "solution": "Exercise 11.6"
   },
   "outputs": [],
   "source": [
    "def levenshtein_distance(s1, s2, known={}):\n",
    "    \"\"\"\n",
    "    Finds the levenshtein distance between two strings, s1 and s2\n",
    "    \n",
    "    >>> levenshtein_distance('quiet', 'quite')\n",
    "    2\n",
    "    >>> levenshtein_distance('noodle', 'oodle')\n",
    "    1\n",
    "    >>> levenshtein_distance('', 'apple')\n",
    "    5\n",
    "    \"\"\"\n",
    "    \n",
    "    if (s1,s2) in known:\n",
    "        return known[(s1, s2)]\n",
    "\n",
    "    #base case\n",
    "    if len(s1) == 0:\n",
    "        return len(s2)\n",
    "    if len(s2) == 0:\n",
    "        return len(s1)\n",
    "\n",
    "    \n",
    "    #single character (last) match\n",
    "    if s1[-1]  == s2[-1]:\n",
    "        cost = 0\n",
    "    else:\n",
    "        cost = 1\n",
    "        \n",
    "    #most of this is from the wikipedia page on levenshtein distance\n",
    "    known[(s1,s2)] = min(\n",
    "              levenshtein_distance(s1[:-1],s2,     known)+1,\n",
    "              levenshtein_distance(s1,     s2[:-1],known)+1,\n",
    "              levenshtein_distance(s1[:-1],s2[:-1],known)+cost\n",
    "              )\n",
    "    return known[(s1,s2)]\n",
    "\n",
    "import doctest\n",
    "doctest.run_docstring_examples(levenshtein_distance, globals())"
   ]
  },
  {
   "cell_type": "code",
   "execution_count": 11,
   "metadata": {
    "collapsed": false,
    "solution": "Exercise 11.6"
   },
   "outputs": [
    {
     "data": {
      "text/plain": [
       "6"
      ]
     },
     "execution_count": 11,
     "metadata": {},
     "output_type": "execute_result"
    }
   ],
   "source": [
    "def levenshtein(s1, s2, memo):\n",
    "    # Base cases: one of the strings is empty\n",
    "    if s1 == \"\":\n",
    "        return len(s2)\n",
    "    if s2 == \"\":\n",
    "        return len(s1)\n",
    "    if (s1, s2) in memo:\n",
    "        return memo[(s1, s2)]\n",
    "    else:\n",
    "        if s1[0] == s2[0]:\n",
    "            option1 = levenshtein(s1[1:], s2[1:], memo)\n",
    "        else:\n",
    "            option1 = 1 + levenshtein(s1[1:], s2[1:], memo)\n",
    "\n",
    "        option2 = 1 + levenshtein(s1, s2[1:], memo)\n",
    "\n",
    "        option3 = 1 + levenshtein(s1[1:], s2, memo)\n",
    "\n",
    "        return min(option1, option2, option3)\n",
    "\n",
    "levenshtein('bus', 'busssssss', {})"
   ]
  },
  {
   "cell_type": "code",
   "execution_count": 13,
   "metadata": {
    "collapsed": false,
    "solution": "Exercise 11.6"
   },
   "outputs": [
    {
     "name": "stdout",
     "output_type": "stream",
     "text": [
      "3\n",
      "10.306306839\n",
      "6.73558497429\n"
     ]
    }
   ],
   "source": [
    "def levenshtein(s1, s2):\n",
    "    return lev_dist(s1,len(s1)-1,s2,len(s2)-1)\n",
    "def lev_dist(s1,s1i, s2,s2i):\n",
    "    if s1i<0:\n",
    "        return s2i+1\n",
    "    elif s2i <0:\n",
    "        return s1i+1\n",
    "    cost = 0 if s1[s1i]==s2[s2i] else 1\n",
    "    return min(lev_dist(s1, s1i-1,s2,s2i)+1, lev_dist(s1,s1i,s2,s2i-1)+1, lev_dist(s1,s1i-1, s2,s2i-1)+cost)\n",
    "\n",
    "memo = []\n",
    "def levenshtein_memo(s1, s2):\n",
    "    memo = []\n",
    "    for c in s1:\n",
    "        memo.append([-1]*len(s2))\n",
    "    return lev_dist(s1,len(s1)-1,s2,len(s2)-1)\n",
    "def lev_dist_memo(s1,s1i, s2,s2i):\n",
    "    if memo[s1i][s2i]>=0:\n",
    "        return memo[s1i][s2i]\n",
    "    if s1i<0:\n",
    "        return s2i+1\n",
    "    elif s2i <0:\n",
    "        return s1i+1\n",
    "    cost = 0 if s1[s1i]==s2[s2i] else 1\n",
    "    res = min(lev_dist(s1, s1i-1,s2,s2i)+1, lev_dist(s1,s1i,s2,s2i-1)+1, lev_dist(s1,s1i-1, s2,s2i-1)+cost)\n",
    "    memo[s1i][s2i] = res\n",
    "    return res\n",
    "\n",
    "if __name__ == '__main__':\n",
    "    from timeit import timeit\n",
    "    print levenshtein_memo('kitten','sitting')\n",
    "    print timeit(stmt=\"levenshtein('kitten','sitting')\",setup=\"from __main__ import levenshtein\",number=1000)\n",
    "    print timeit(stmt=\"levenshtein_memo('kitten','sitting')\",setup=\"from __main__ import levenshtein_memo\", number=1000)"
   ]
  },
  {
   "cell_type": "code",
   "execution_count": null,
   "metadata": {
    "collapsed": true,
    "solution": "Exercise 11.6"
   },
   "outputs": [],
   "source": [
    "def lev(a,b):\n",
    "    \"\"\"Computes levenshtein distance.\n",
    "\n",
    ">>> lev('apple', 'apple')\n",
    "0\n",
    ">>> lev('apple', 'app')\n",
    "2\n",
    ">>> lev('nope', 'uhhuh')\n",
    "5\n",
    "\"\"\"\n",
    "    if a == \"\" or b == \"\":\n",
    "        return len(a+b)\n",
    "    if a[:1] == b[:1]:\n",
    "        return lev(a[1:],b[1:])\n",
    "    else:\n",
    "        return min(1 + lev(a[1:],b[1:]),1+ lev(a,b[1:]),1+ lev(a[1:],b))\n"
   ]
  },
  {
   "cell_type": "code",
   "execution_count": 15,
   "metadata": {
    "collapsed": false,
    "solution": "Exercise 11.6"
   },
   "outputs": [
    {
     "data": {
      "text/plain": [
       "1"
      ]
     },
     "execution_count": 15,
     "metadata": {},
     "output_type": "execute_result"
    }
   ],
   "source": [
    "dictionary = {0: 1, 1: 1}\n",
    "def fibonacci(index):\n",
    "    if index in dictionary:\n",
    "        return dictionary[1]\n",
    "    else:\n",
    "        return fibonacci(index-1) + fibonacci(index-2)\n",
    "\n",
    "fibonacci(0)\n",
    "    "
   ]
  },
  {
   "cell_type": "markdown",
   "metadata": {},
   "source": [
    "It is so much faster with memoization. "
   ]
  },
  {
   "cell_type": "code",
   "execution_count": 86,
   "metadata": {
    "collapsed": false,
    "solution": "Exercise 11.6"
   },
   "outputs": [
    {
     "data": {
      "text/plain": [
       "354224848179261915075L"
      ]
     },
     "execution_count": 86,
     "metadata": {},
     "output_type": "execute_result"
    }
   ],
   "source": [
    "import doctest\n",
    "d = {}\n",
    "def fibonacci(n):\n",
    "    \"\"\" find fibonacci number of the nth term\n",
    "    >>> fibonacci(4)\n",
    "    3\n",
    "    \n",
    "    \"\"\"\n",
    "    if n == 0:\n",
    "        return 0\n",
    "    if n == 1:\n",
    "        return 1\n",
    "    if n in d:\n",
    "        return d[n]\n",
    "\n",
    "    res = fibonacci(n-1) + fibonacci(n-2)\n",
    "    d[n] = res\n",
    "    return res\n",
    "\n",
    "#doctest.testmod()\n",
    "fibonacci(100)\n"
   ]
  },
  {
   "cell_type": "code",
   "execution_count": 50,
   "metadata": {
    "collapsed": false,
    "solution": "Exercise 11.6"
   },
   "outputs": [
    {
     "name": "stdout",
     "output_type": "stream",
     "text": [
      "3\n",
      "4\n"
     ]
    }
   ],
   "source": [
    "def levenshtein(s, len_s, t, len_t):\n",
    "    memo = dict()\n",
    "    key = str(len_s) + str(len_t)\n",
    "    cost = 0\n",
    "    if key in memo:\n",
    "        return memo[key]\n",
    "    if len_s == 0:\n",
    "        memo[key] = len_t\n",
    "        return len_t\n",
    "    if len_t == 0:\n",
    "        memo[key] = len_s\n",
    "        return len_s\n",
    "    if s[len_s-1] == t[len_t-1]:\n",
    "        cost = 0\n",
    "    else:\n",
    "        cost = 1\n",
    "        \n",
    "    res =  min(levenshtein(s, len_s-1, t, len_t) + 1,\n",
    "               levenshtein(s, len_s, t, len_t-1) + 1,\n",
    "               levenshtein(s, len_s-1, t, len_t-1) + cost)\n",
    "    memo[key] = res\n",
    "    return res\n",
    "\n",
    "print levenshtein('bill', len('bill'), 'billion', len('billion'))\n",
    "print levenshtein('bill', len('bill'), 'million', len('million'))"
   ]
  },
  {
   "cell_type": "code",
   "execution_count": 17,
   "metadata": {
    "collapsed": false,
    "solution": "Exercise 11.6"
   },
   "outputs": [
    {
     "data": {
      "text/plain": [
       "TestResults(failed=0, attempted=9)"
      ]
     },
     "execution_count": 17,
     "metadata": {},
     "output_type": "execute_result"
    }
   ],
   "source": [
    "def lev_distance(a, b, history={}):\n",
    "    ''' returns the Levenshtein distance between a and b\n",
    "    >>> lev_distance('kitten', 'smitten')\n",
    "    2\n",
    "    >>> lev_distance('beta', 'pedal')\n",
    "    3\n",
    "    >>> lev_distance('battle', 'bet')\n",
    "    4\n",
    "    >>> lev_distance('agtctggggcatcgggccgtcagcggccgacacgaccaggatcgcgccgtccatctgcgcggcaccggtgatcatgttcttgacgtagtcggcgtggc', 'cggggcagtcgacgtgcgcgtaatgacgcgcatcgctctcgtactccacgtgcgccgtggcaatggtgatgccgcgctcacgctcttccggggcgttgt')\n",
    "    45\n",
    "    '''\n",
    "    if (a, b) in history:\n",
    "        return history[a, b]\n",
    "    \n",
    "    if not a:\n",
    "        return len(b)\n",
    "    if not b:\n",
    "        return len(a)\n",
    "    \n",
    "    if a[0] == b[0]:\n",
    "        option1 = 0 + lev_distance(a[1:], b[1:])\n",
    "    else:\n",
    "        option1 = 1 + lev_distance(a[1:], b[1:])\n",
    "    option2 = 1 + lev_distance(a[1:], b)\n",
    "    option3 = 1 + lev_distance(a, b[1:])\n",
    "\n",
    "    distance = min(option1, option2, option3)\n",
    "    history[a, b] = distance\n",
    "    return distance\n",
    "\n",
    "import doctest\n",
    "doctest.testmod()"
   ]
  },
  {
   "cell_type": "code",
   "execution_count": 59,
   "metadata": {
    "collapsed": false,
    "solution": "Exercise 11.6"
   },
   "outputs": [
    {
     "data": {
      "text/plain": [
       "4"
      ]
     },
     "execution_count": 59,
     "metadata": {},
     "output_type": "execute_result"
    }
   ],
   "source": [
    "memo = {}\n",
    "def levenshtein_distance(a,b,memo):\n",
    "    \"\"\" Returns the Levenshtein distance between strings a and b\n",
    "        Now with memoization!\n",
    "        >>> levenshtein_distance(\"apple\", \"opple\")\n",
    "        1\n",
    "        >>> levenshtein_distance(\"kitten\", \"smitten\")\n",
    "        2\n",
    "        >>> levenshtein_distance(\"apple\",\"\")\n",
    "        5\n",
    "        >>> levenshtein_distance(\"\", \"banana\")\n",
    "        6\n",
    "        >>> levenshtein_distance(\"\", \"\")\n",
    "        0\n",
    "    \"\"\"\n",
    "    if a=='': \n",
    "        return len(b)\n",
    "    if b=='': \n",
    "        return len(a)\n",
    "    if (a,b) in memo:\n",
    "        return memo[(a,b)]\n",
    "    \n",
    "    if a[0] == b[0]:\n",
    "        option1 = levenshtein_distance(a[1:],b[1:],memo)\n",
    "        memo[(a,b)] = option1\n",
    "        \n",
    "    else:\n",
    "        option1 = levenshtein_distance(a[1:],b[1:],memo) + 1\n",
    "        memo[(a,b)] = option1\n",
    "    option2 = levenshtein_distance(a[1:],b,memo)+1\n",
    "    memo[(a,b)] = option2\n",
    "    option3 = levenshtein_distance(a, b[1:],memo)+1\n",
    "    memo[(a,b)] = option3\n",
    "    return min(option1,option2,option3)\n",
    "levenshtein_distance('linnea','lauren',memo)\n"
   ]
  },
  {
   "cell_type": "code",
   "execution_count": 21,
   "metadata": {
    "collapsed": false,
    "solution": "Exercise 11.6"
   },
   "outputs": [
    {
     "name": "stdout",
     "output_type": "stream",
     "text": [
      "start regular fib:\n",
      "2016-02-13 15:07:39.905939\n",
      "end regular fib, start fastFib\n",
      "2016-02-13 15:07:40.099433\n",
      "done\n",
      "2016-02-13 15:07:40.099631\n"
     ]
    }
   ],
   "source": [
    "def fibonacci(n):\n",
    "    if n < 1:\n",
    "        return 0\n",
    "    elif n < 3:\n",
    "        return 1\n",
    "    return fibonacci(n-1) + fibonacci(n-2)\n",
    "\n",
    "known = {0:0, 1:1, 2:1}\n",
    "\n",
    "def fastFib(n):\n",
    "    if n in known:\n",
    "        return known[n]\n",
    "    else:\n",
    "        known[n] = fastFib(n-1) + fastFib(n-2)\n",
    "        return known[n]\n",
    "\n",
    "import datetime\n",
    "print 'start regular fib:'\n",
    "print datetime.datetime.now()\n",
    "fibonacci(30)\n",
    "print 'end regular fib, start fastFib'\n",
    "print datetime.datetime.now()\n",
    "fastFib(30)\n",
    "print 'done'\n",
    "print datetime.datetime.now()"
   ]
  },
  {
   "cell_type": "code",
   "execution_count": 5,
   "metadata": {
    "collapsed": false,
    "solution": "Exercise 11.6"
   },
   "outputs": [
    {
     "data": {
      "text/plain": [
       "TestResults(failed=0, attempted=2)"
      ]
     },
     "execution_count": 5,
     "metadata": {},
     "output_type": "execute_result"
    }
   ],
   "source": [
    "'''returns the nth fibonacci number using a memoized version of the fibonacci function\n",
    "\n",
    ">>> fibonacci(1)\n",
    "1\n",
    ">>> fibonacci(8)\n",
    "21\n",
    "\n",
    "'''\n",
    "known = {1:1, 0:0}\n",
    "def fibonacci(n):\n",
    "    if n in known:\n",
    "        return known[n]\n",
    "    res = fibonacci(n-1)+fibonacci(n-2)\n",
    "    known[n] = res\n",
    "    \n",
    "    return res\n",
    "    pass\n",
    "\n",
    "import doctest\n",
    "doctest.testmod()"
   ]
  },
  {
   "cell_type": "code",
   "execution_count": 13,
   "metadata": {
    "collapsed": false,
    "solution": "Exercise 11.6"
   },
   "outputs": [
    {
     "name": "stdout",
     "output_type": "stream",
     "text": [
      "13\n"
     ]
    }
   ],
   "source": [
    "known = dict()\n",
    "\n",
    "def levenshtein(a, b):\n",
    "    \"\"\" returns the Levenshtein distance between a and b\n",
    "\n",
    "        >>> levenshtein(\"apple\", \"\")\n",
    "        5\n",
    "        >>> levenshtein(\"battle\", \"bet\")\n",
    "        4\n",
    "        >>> levenshtein(\"beta\", \"pedal\")\n",
    "        3\n",
    "        >>> levenshtein(\"kitten\", \"smitten\")\n",
    "        2\n",
    "    \"\"\"\n",
    "    if a == \"\":\n",
    "        return len(b)\n",
    "    if b == \"\":\n",
    "        return len(a)\n",
    "    \n",
    "    if (a,b) in known:\n",
    "        return known[a,b]\n",
    "\n",
    "    # Strategy 1: Change the first character to match\n",
    "    if a[0] == b[0]:\n",
    "        # First characters already match, so no extra distance\n",
    "        option1 = levenshtein(a[1:], b[1:])\n",
    "    else:\n",
    "        option1 = levenshtein(a[1:], b[1:]) + 1\n",
    "\n",
    "    # Strategy 2: Insert b[0] as the first character of a\n",
    "    option2 = 1 + levenshtein(a, b[1:])\n",
    "    \n",
    "    # Strategy 3: Delete the first character of a\n",
    "    option3 = 1 + levenshtein(a[1:], b)\n",
    "\n",
    "    mymin = min(option1, option2, option3)\n",
    "    known[a,b] = mymin\n",
    "    return mymin\n",
    "\n",
    "# Run only if called from command line, not when imported\n",
    "if __name__ == \"__main__\":\n",
    "    import doctest\n",
    "#     doctest.testmod(verbose=True)\n",
    "    print levenshtein(\"skfl;lkdsajflitten\", \"mitten\")"
   ]
  },
  {
   "cell_type": "code",
   "execution_count": 13,
   "metadata": {
    "collapsed": false,
    "solution": "Exercise 11.6"
   },
   "outputs": [],
   "source": [
    "def levenshtein_distance(s1,s2,known={}):\n",
    "    \"\"\"\n",
    "    Returns the Levenshtein distance between two strings, calculated\n",
    "    recursively.\n",
    "    \n",
    "    >>> levenshtein_distance(\"\",\"apple\")\n",
    "    5\n",
    "    >>> levenshtein_distance(\"\",\"\")\n",
    "    0\n",
    "    >>> levenshtein_distance(\"apple\",\"apple\")\n",
    "    0\n",
    "    >>> levenshtein_distance(\"apple\",\"opple\")\n",
    "    1\n",
    "    >>> levenshtein_distance(\"mitten\",\"smitten\")\n",
    "    1\n",
    "    \"\"\"\n",
    "    if (s1,s2) in known:\n",
    "        return known[(s1,s2)]\n",
    "    #Base case: empty strings\n",
    "    #If a string becomes empty, the minimum number of modifications\n",
    "    #is to add all the characters of the other. Since one addition\n",
    "    #is one change, the cost is the length of the other string\n",
    "    if len(s1) == 0:\n",
    "        return len(s2)\n",
    "    elif len(s2) == 0:\n",
    "        return len(s1)\n",
    "    \n",
    "    #Test if last characters of strings match\n",
    "    #If they do match, the cost to make the last characters match is 0\n",
    "    #Otherwise it's 1\n",
    "    if s1[-1] == s2[-1]:\n",
    "        cost = 0\n",
    "    else:\n",
    "        cost = 1\n",
    "    \n",
    "    \n",
    "    #Calculate the cost for each string that is a product of\n",
    "    #Removing a character from s1\n",
    "    #Adding a character from s2 (same as inserting a character ro s1)\n",
    "    #Or changing the two last characters to be the same\n",
    "    known[(s1,s2)] = min(\n",
    "              levenshtein_distance(s1[:-1],s2,     known)+1,\n",
    "              levenshtein_distance(s1,     s2[:-1],known)+1,\n",
    "              levenshtein_distance(s1[:-1],s2[:-1],known)+cost\n",
    "              )\n",
    "    return known[(s1,s2)]\n",
    "\n",
    "import doctest\n",
    "doctest.run_docstring_examples(levenshtein_distance, globals())"
   ]
  },
  {
   "cell_type": "code",
   "execution_count": 8,
   "metadata": {
    "collapsed": false,
    "solution": "Exercise 11.6"
   },
   "outputs": [
    {
     "name": "stdout",
     "output_type": "stream",
     "text": [
      "2880067194370816120\n"
     ]
    }
   ],
   "source": [
    "known = {0:0, 1:1}\n",
    "\n",
    "def fibonacci(n):\n",
    "    if n in known:\n",
    "        return known[n]\n",
    "\n",
    "    res = fibonacci(n-1) + fibonacci(n-2)\n",
    "    known[n] = res\n",
    "    return res\n",
    "\n",
    "print fibonacci(90) #I followed various n's through python tutor\n",
    "                    #to see how fibonacci computes with the help of a\n",
    "                    #hash table"
   ]
  },
  {
   "cell_type": "code",
   "execution_count": 55,
   "metadata": {
    "collapsed": false,
    "solution": "Exercise 11.6"
   },
   "outputs": [
    {
     "name": "stdout",
     "output_type": "stream",
     "text": [
      "1\n",
      "14\n",
      "2\n"
     ]
    }
   ],
   "source": [
    "dicts = {}\n",
    "\n",
    "def levenshtein_distance(a, b):\n",
    "    if (a,b) in dicts.keys():\n",
    "        return dicts[a,b] \n",
    "    else:\n",
    "        if len(a)==0:\n",
    "            return len(b)\n",
    "        elif len(b)==0:\n",
    "            return len(a)\n",
    "        elif a[0] == b[0]:\n",
    "            option1 = levenshtein_distance(a[1:],b[1:])\n",
    "        else:\n",
    "            option1 = 1 + levenshtein_distance(a[1:],b[1:])\n",
    "        option2 = 1 + levenshtein_distance(a[1:],b)\n",
    "        option3 = 1 + levenshtein_distance(a,b[1:])\n",
    "\n",
    "    minimum = min(option1,option2,option3)\n",
    "\n",
    "    dicts[a,b] = minimum\n",
    "    return minimum\n",
    "\n",
    "print(levenshtein_distance('a','b'))\n",
    "print(levenshtein_distance('ertghjnkml,mbhvcgf','wedfvghhjknbvfdfg'))\n",
    "print(levenshtein_distance('aaabbb','abbb'))"
   ]
  },
  {
   "cell_type": "code",
   "execution_count": 32,
   "metadata": {
    "collapsed": false,
    "solution": "Exercise 11.6"
   },
   "outputs": [],
   "source": [
    "d = {}\n",
    "def lev(string1, string2, d):\n",
    "    '''Function that calculates the number of steps to turn string1 into string2. TODO: Memoize with dictionary for efficiency.\n",
    "\n",
    "    >>> lev('apple', '', d)\n",
    "    5\n",
    "\n",
    "    >>> lev('apple', 'bpple', d)\n",
    "    1\n",
    "    '''\n",
    "    if (string1, string2) in d: #tuple because lists aren't hashable\n",
    "        return d[(string1, string2)]\n",
    "        \n",
    "    if string1 == '':\n",
    "        return len(string2)\n",
    "\n",
    "    if string2 == '':\n",
    "        return len(string1)\n",
    "\n",
    "    if string1[0]==string2[0]:\n",
    "        d[(string1[1:], string2[1:])] = lev(string1[1:], string2[1:], d)\n",
    "        return lev(string1[1:], string2[1:], d)\n",
    "\n",
    "    else:\n",
    "        d[(string1[1:], string2[1:])] = lev(string1[1:], string2[1:], d)\n",
    "        d[(string1, string2[1:])] = lev(string1, string2[1:], d)\n",
    "        d[(string1[1:], string2)] = lev(string1[1:], string2, d)\n",
    "          \n",
    "        return min (1 + lev(string1[1:], string2[1:], d), 1 + lev(string1, string2[1:], d), 1 + lev(string1[1:], string2, d))\n",
    "\n",
    "if __name__ == \"__main__\":\n",
    "    import doctest\n",
    "    doctest.testmod()\n"
   ]
  },
  {
   "cell_type": "code",
   "execution_count": 44,
   "metadata": {
    "collapsed": false,
    "solution": "Exercise 11.6"
   },
   "outputs": [
    {
     "name": "stdout",
     "output_type": "stream",
     "text": [
      "832040\n",
      "222232244629420445529739893461909967206666939096499764990979600\n"
     ]
    }
   ],
   "source": [
    "def recursive_fibonacci(n):\n",
    "    if n == 1:\n",
    "        return 1\n",
    "    elif n == 0:\n",
    "        return 0\n",
    "    return recursive_fibonacci(n-1) + recursive_fibonacci(n-2)\n",
    "print recursive_fibonacci(30)\n",
    "\n",
    "known_values = {0:0, 1:1}\n",
    "def memoized_fibonacci(n):\n",
    "    if n in known_values:\n",
    "        return known_values[n]\n",
    "    temp = memoized_fibonacci(n-1) + memoized_fibonacci(n-2)\n",
    "    known_values[n] = temp\n",
    "    return temp\n",
    "print memoized_fibonacci(300)"
   ]
  },
  {
   "cell_type": "code",
   "execution_count": 22,
   "metadata": {
    "collapsed": false,
    "solution": "Exercise 11.6"
   },
   "outputs": [
    {
     "name": "stdout",
     "output_type": "stream",
     "text": [
      "35\n"
     ]
    }
   ],
   "source": [
    "\"\"\" An implementation of Levenshtein distance using recursion \"\"\"\n",
    "\n",
    "known = dict()\n",
    "def lev(a, b):\n",
    "    \"\"\" Returns the Levenshtein distance between strings a and b\n",
    "\n",
    "        >>> lev(\"apple\", \"opple\")\n",
    "        1\n",
    "        >>> lev(\"kitten\", \"smitten\")\n",
    "        2\n",
    "        >>> lev(\"apple\",\"\")\n",
    "        5\n",
    "        >>> lev(\"\", \"banana\")\n",
    "        6\n",
    "        >>> lev(\"\", \"\")\n",
    "        0\n",
    "        >>> lev(\"speak\", \"peak\")\n",
    "        1\n",
    "        >>> lev(\"pple\", \"aardvark\")\n",
    "        8\n",
    "        >>> lev(\"software\", \"software\")\n",
    "        0\n",
    "\n",
    "    \"\"\"\n",
    "\n",
    "\n",
    "    # Base cases: one of the strings is empty\n",
    "    if a == \"\":\n",
    "        return len(b)\n",
    "    if b == \"\":\n",
    "        return len(a)\n",
    "    \n",
    "    if (a,b) in known:\n",
    "        return known[(a,b)]\n",
    "    # Strategy 1: Change the first character to match\n",
    "    if a[0] == b[0]:\n",
    "        # First character already matches, no extra distance\n",
    "       \n",
    "        option1 = lev(a[1:], b[1:])\n",
    "        \n",
    "    else:\n",
    "        # First character is different, distance of 1 to change it\n",
    "        option1 = 1 + lev(a[1:], b[1:])\n",
    "\n",
    "    # Strategy 2: Insert b[0] as the first character of a\n",
    "    option2 = 1 + lev(a, b[1:])\n",
    "\n",
    "    # Strategy 3: Delete the first character of a\n",
    "    option3 = 1 + lev(a[1:], b)\n",
    "    mymin = min(option1, option2, option3)\n",
    "    known[(a,b)] = mymin\n",
    "    return mymin\n",
    "\n",
    "\n",
    "# Run only when runned from the command line, not when imported\n",
    "if __name__ == \"__main__\":\n",
    "    import doctest\n",
    "    doctest.testmod(verbose=False)\n",
    "print lev(\"asldfpaodiuaslkdfjlakjcxzvppoiupaoisdflkashd\", \"alsdkjfhaoiduyqkjnmbvczlaksjdhfqpieurlasjkdfh\")"
   ]
  },
  {
   "cell_type": "code",
   "execution_count": 17,
   "metadata": {
    "collapsed": false,
    "solution": "Exercise 11.6"
   },
   "outputs": [
    {
     "ename": "IndentationError",
     "evalue": "expected an indented block (<ipython-input-17-b02dbfc7bf56>, line 5)",
     "output_type": "error",
     "traceback": [
      "\u001b[1;36m  File \u001b[1;32m\"<ipython-input-17-b02dbfc7bf56>\"\u001b[1;36m, line \u001b[1;32m5\u001b[0m\n\u001b[1;33m    else:\u001b[0m\n\u001b[1;37m       ^\u001b[0m\n\u001b[1;31mIndentationError\u001b[0m\u001b[1;31m:\u001b[0m expected an indented block\n"
     ]
    }
   ],
   "source": [
    "def leven(a,b):\n",
    "    changed={a}\n",
    "    if len(a) == len(b):\n",
    "        \n",
    "    else:\n",
    "        short= min(len(a),len(b))\n",
    "        for x in range (len(short)-1):\n",
    "            if a[x] == b[x]:\n",
    "                pass\n",
    "            elif a[x+1] == b[x]:\n",
    "                changed+= a[x+1]:b[x]\n",
    "            elif a[x] == b[x+1]:\n",
    "                changed+= a[x]:b[(x+1):]\n",
    "            \n",
    "                \n",
    "        "
   ]
  },
  {
   "cell_type": "code",
   "execution_count": 9,
   "metadata": {
    "collapsed": false,
    "solution": "Exercise 11.6"
   },
   "outputs": [
    {
     "name": "stdout",
     "output_type": "stream",
     "text": [
      "Trying:\n",
      "    levenshtein(\"apple\", \"\")\n",
      "Expecting:\n",
      "    5\n",
      "ok\n",
      "Trying:\n",
      "    levenshtein(\"battle\", \"bet\")\n",
      "Expecting:\n",
      "    4\n",
      "ok\n",
      "Trying:\n",
      "    levenshtein(\"beta\", \"pedal\")\n",
      "Expecting:\n",
      "    3\n",
      "ok\n",
      "Trying:\n",
      "    levenshtein(\"kitten\", \"smitten\")\n",
      "Expecting:\n",
      "    2\n",
      "ok\n",
      "Trying:\n",
      "    lev_memo={}\n",
      "Expecting nothing\n",
      "ok\n",
      "Trying:\n",
      "    levenshtein_memo(\"apple\", \"\", lev_memo)\n",
      "Expecting:\n",
      "    5\n",
      "ok\n",
      "Trying:\n",
      "    levenshtein_memo(\"battle\", \"bet\", lev_memo)\n",
      "Expecting:\n",
      "    4\n",
      "ok\n",
      "Trying:\n",
      "    levenshtein_memo(\"beta\", \"pedal\", lev_memo)\n",
      "Expecting:\n",
      "    3\n",
      "ok\n",
      "Trying:\n",
      "    levenshtein_memo(\"kitten\", \"smitten\", lev_memo)\n",
      "Expecting:\n",
      "    2\n",
      "ok\n",
      "Trying:\n",
      "    levenshtein_memo(\"a;sdlfkjas;lkdvja;slkdjvalkjvalkwjlvaksdjlvkasjdlvkjlskajsd\",\"asldfkajsdlfkjas;dlfkajs;dlkfjas;dlkfjas;dlkfjas;ldkfja;sldkfja;sdlkj\",lev_memo)\n",
      "Expecting:\n",
      "    43\n",
      "ok\n",
      "1 items had no tests:\n",
      "    __main__\n",
      "2 items passed all tests:\n",
      "   4 tests in __main__.levenshtein\n",
      "   6 tests in __main__.levenshtein_memo\n",
      "10 tests in 3 items.\n",
      "10 passed and 0 failed.\n",
      "Test passed.\n"
     ]
    }
   ],
   "source": [
    "def levenshtein_memo(a, b, lev_memo):\n",
    "    \"\"\" returns the Levenshtein distance between a and b\n",
    "        >>> lev_memo={}\n",
    "        >>> levenshtein_memo(\"apple\", \"\", lev_memo)\n",
    "        5\n",
    "        >>> levenshtein_memo(\"battle\", \"bet\", lev_memo)\n",
    "        4\n",
    "        >>> levenshtein_memo(\"beta\", \"pedal\", lev_memo)\n",
    "        3\n",
    "        >>> levenshtein_memo(\"kitten\", \"smitten\", lev_memo)\n",
    "        2\n",
    "        >>> levenshtein_memo(\"a;sdlfkjas;lkdvja;slkdjvalkjvalkwjlvaksdjlvkasjdlvkjlskajsd\",\"asldfkajsdlfkjas;dlfkajs;dlkfjas;dlkfjas;dlkfjas;ldkfja;sldkfja;sdlkj\",lev_memo)\n",
    "        43\n",
    "    \"\"\"\n",
    "    \n",
    "    if a == \"\":\n",
    "        return len(b)\n",
    "    if b == \"\":\n",
    "        return len(a)\n",
    "    \n",
    "    if (a,b) in lev_memo:\n",
    "        return lev_memo[(a,b)]\n",
    "    \n",
    "    \n",
    "    # Strategy 1: Change the first character to match\n",
    "    if a[0] == b[0]:\n",
    "        # First characters already match, so no extra distance\n",
    "        option1 = levenshtein_memo(a[1:], b[1:],lev_memo)\n",
    "    else:\n",
    "        option1 = levenshtein_memo(a[1:], b[1:],lev_memo) + 1\n",
    "\n",
    "    # Strategy 2: Insert b[0] as the first character of a\n",
    "    option2 = 1 + levenshtein_memo(a, b[1:],lev_memo)\n",
    "    \n",
    "    # Strategy 3: Delete the first character of a\n",
    "    option3 = 1 + levenshtein_memo(a[1:], b,lev_memo)\n",
    "    \n",
    "    return_value=min(option1, option2, option3)\n",
    "    lev_memo[(a,b)]=return_value\n",
    "    return return_value\n",
    "\n",
    "# Run only if called from command line, not when imported\n",
    "if __name__ == \"__main__\":\n",
    "    import doctest\n",
    "    doctest.testmod(verbose=True)"
   ]
  },
  {
   "cell_type": "code",
   "execution_count": 50,
   "metadata": {
    "collapsed": false,
    "solution": "Exercise 11.6"
   },
   "outputs": [
    {
     "data": {
      "text/plain": [
       "TestResults(failed=0, attempted=8)"
      ]
     },
     "execution_count": 50,
     "metadata": {},
     "output_type": "execute_result"
    }
   ],
   "source": [
    "import doctest\n",
    "\n",
    "known = {}\n",
    "\n",
    "def lev(a, b):\n",
    "    \"\"\" Returns the Levenshtein distance between strings a and b\n",
    "\n",
    "        >>> lev(\"apple\", \"opple\")\n",
    "        1\n",
    "        >>> lev(\"kitten\", \"smitten\")\n",
    "        2\n",
    "        >>> lev(\"apple\",\"\")\n",
    "        5\n",
    "        >>> lev(\"\", \"banana\")\n",
    "        6\n",
    "        >>> lev(\"\", \"\")\n",
    "        0\n",
    "        >>> lev(\"speak\", \"peak\")\n",
    "        1\n",
    "        >>> lev(\"pple\", \"aardvark\")\n",
    "        8\n",
    "        >>> lev(\"software\", \"software\")\n",
    "        0\n",
    "\n",
    "    \"\"\"\n",
    "    # Base cases: one of the strings is empty\n",
    "    if (a,b) in known:\n",
    "        return known[a,b]\n",
    "    if a == \"\":\n",
    "        return len(b)\n",
    "    if b == \"\":\n",
    "        return len(a)\n",
    "    \n",
    "    # Strategy 1: Change the first character to match\n",
    "    if a[0] == b[0]:\n",
    "        # First character already matches, no extra distance\n",
    "        option1 = lev(a[1:], b[1:])\n",
    "    else:\n",
    "        # First character is different, distance of 1 to change it\n",
    "        option1 = 1 + lev(a[1:], b[1:])\n",
    "\n",
    "    # Strategy 2: Insert b[0] as the first character of a\n",
    "    option2 = 1 + lev(a, b[1:])\n",
    "\n",
    "    # Strategy 3: Delete the first character of a\n",
    "    option3 = 1 + lev(a[1:], b)\n",
    "\n",
    "    res = min(option1, option2, option3)\n",
    "    known[a,b] = res\n",
    "    return res\n",
    "doctest.testmod()\n",
    "#lev('bumblebee','tuna')"
   ]
  },
  {
   "cell_type": "code",
   "execution_count": 12,
   "metadata": {
    "collapsed": false,
    "solution": "Exercise 11.6"
   },
   "outputs": [
    {
     "name": "stdout",
     "output_type": "stream",
     "text": [
      "3\n"
     ]
    }
   ],
   "source": [
    "known = {}\n",
    "def levenshtein_distance(a, b, i, j):\n",
    "    check = str(a)+str(b)+str(i)+str(j)\n",
    "    if check in known:\n",
    "        return known[check]\n",
    "    if(i == 0 or j == 0):\n",
    "        return 0\n",
    "    if(a[i-1] == b[i-1]):\n",
    "        stuff = 0\n",
    "    else:\n",
    "        stuff = 1\n",
    "    ans =  min(levenshtein_distance(a, b, i-1, j)+1, levenshtein_distance(a, b, i, j-1)+1, levenshtein_distance(a, b, i-1, j-1)+stuff)\n",
    "    known[check] = ans\n",
    "    return ans\n",
    "word1 = 'kitten'\n",
    "word2 = 'siuhen'\n",
    "print(levenshtein_distance(word1, word2, len(word1), len(word2)))"
   ]
  },
  {
   "cell_type": "code",
   "execution_count": 44,
   "metadata": {
    "collapsed": false,
    "solution": "Exercise 11.6"
   },
   "outputs": [
    {
     "name": "stdout",
     "output_type": "stream",
     "text": [
      "6\n"
     ]
    }
   ],
   "source": [
    "known = dict()\n",
    "\n",
    "def levenshtein_distance(word1, len1, word2, len2):\n",
    "    \n",
    "    cost = 0\n",
    "    \n",
    "    if len1 ==0:\n",
    "        return len2\n",
    "    if len2 ==0:\n",
    "        return len1\n",
    "    \n",
    "    for x, y in known:\n",
    "        if (x ==len1 and y == len2):\n",
    "            return known[len1,len2]\n",
    "    \n",
    "    if word1[len1-1] == word2[len2-1]:\n",
    "        cost = 0\n",
    "    else:\n",
    "        cost = 1\n",
    "    \n",
    "    remove = levenshtein_distance(word1, len1-1, word2, len2)\n",
    "    known[len1-1, len2] = remove\n",
    "    add = levenshtein_distance(word1,len1,word2,len2-1)\n",
    "    known[len1, len2-1] = add\n",
    "    change = levenshtein_distance(word1, len1-1, word2, len2-1)\n",
    "    known[len1-1, len2-1] = change\n",
    "    \n",
    "    return min(remove + 1, add + 1, change + cost)\n",
    "\n",
    "\n",
    "print levenshtein_distance('kitten',6,'driving',7)"
   ]
  },
  {
   "cell_type": "code",
   "execution_count": 22,
   "metadata": {
    "collapsed": false,
    "solution": "Exercise 11.6"
   },
   "outputs": [],
   "source": [
    "def fibonacciOld(n):\n",
    "    if n == 0:\n",
    "        return 0\n",
    "    elif n == 1:\n",
    "        return 1\n",
    "    else:\n",
    "        return fibonacciOld(n-1) + fibonacciOld(n-2)\n",
    "\n",
    "def fibonacciMemo(n):\n",
    "    known = {0:0, 1:1}\n",
    "    if n is known:\n",
    "        return known[n]\n",
    "    else:\n",
    "        res = fibonacciMemo(n-1) + fibonacciMemo(n-2)\n",
    "        known[n] = res\n",
    "        return res"
   ]
  },
  {
   "cell_type": "code",
   "execution_count": 12,
   "metadata": {
    "collapsed": true,
    "solution": "Exercise 11.6"
   },
   "outputs": [],
   "source": [
    "known = {0:0, 1:1}\n",
    "def fibonacci(n):\n",
    "   \n",
    "    if n in known[n]:\n",
    "        return known[n]\n",
    "    \n",
    "    result = fibonacci(n-1) + fibonacci(n-2)\n",
    "    known[n] = result\n",
    "    return result\n"
   ]
  },
  {
   "cell_type": "code",
   "execution_count": 45,
   "metadata": {
    "collapsed": false,
    "solution": "Exercise 11.6"
   },
   "outputs": [
    {
     "name": "stdout",
     "output_type": "stream",
     "text": [
      "10\n"
     ]
    }
   ],
   "source": [
    "def levenshtein_distance(a,b,dic):\n",
    "    known = dic\n",
    "    temp = str(len(a)) + str(len(b))\n",
    "\n",
    "    if(temp in known):\n",
    "        return known[temp]\n",
    "    \n",
    "    #base case\n",
    "    if(a == ''):\n",
    "        known[temp] = len(b)\n",
    "        return len(b)\n",
    "        \n",
    "    if(b == ''):\n",
    "        known[temp] = len(a)\n",
    "        return len(a)\n",
    "    \n",
    "    if(a[0] == b[0]):\n",
    "        option1 = levenshtein_distance(a[1:], b[1:],known)\n",
    "    else:\n",
    "        option1 = levenshtein_distance(a[1:], b[1:],known) + 1\n",
    "        \n",
    "    option2 = levenshtein_distance(a, b[1:],known) + 1 \n",
    "    option3 = levenshtein_distance(a[1:], b,known) + 1\n",
    "    \n",
    "    minimum = min([option1,option2,option3])\n",
    "    known[temp] = minimum\n",
    "    return minimum\n",
    "\n",
    "diction = dict()\n",
    "print levenshtein_distance('apple','applefdffaddsaf',diction)"
   ]
  },
  {
   "cell_type": "code",
   "execution_count": 22,
   "metadata": {
    "collapsed": false,
    "solution": "Exercise 11.6"
   },
   "outputs": [
    {
     "name": "stdout",
     "output_type": "stream",
     "text": [
      "normal:   2.216311060999942\n",
      "memoized: 0.0033361519999743905\n"
     ]
    }
   ],
   "source": [
    "import timeit\n",
    "\n",
    "def levenshtein_distance(a, b):\n",
    "    if a == '':\n",
    "        return len(b)\n",
    "    elif b == '':\n",
    "        return len(a)\n",
    "\n",
    "    if a[0] == b[0]:\n",
    "        option1 = levenshtein_distance(a[1:], b[1:])\n",
    "    else:\n",
    "        option1 = levenshtein_distance(a[1:], b[1:])+1\n",
    "\n",
    "    option2 = levenshtein_distance(a, b[1:]) + 1\n",
    "    option3 = levenshtein_distance(a[1:], b) + 1\n",
    "    options = [option1, option2, option3]\n",
    "    return min(options)\n",
    "\n",
    "def levenshtein_distance_memoized(a, b, d):\n",
    "    if (a,b) in d:\n",
    "        return d[(a,b)]\n",
    "    if a == '':\n",
    "        return len(b)\n",
    "    elif b == '':\n",
    "        return len(a)\n",
    "\n",
    "    if a[0] == b[0]:\n",
    "        option1 = levenshtein_distance_memoized(a[1:], b[1:], d)\n",
    "    else:\n",
    "        option1 = levenshtein_distance_memoized(a[1:], b[1:], d)+1\n",
    "\n",
    "    option2 = levenshtein_distance_memoized(a, b[1:], d) + 1\n",
    "    option3 = levenshtein_distance_memoized(a[1:], b, d) + 1\n",
    "    options = [option1, option2, option3]\n",
    "    d[(a,b)] = min(options)\n",
    "    return min(options)\n",
    "\n",
    "def runnormal():\n",
    "    levenshtein_distance('already', 'software')\n",
    "def runmemoized():\n",
    "    levenshtein_distance_memoized('already', 'software', {})\n",
    "\n",
    "if __name__ == '__main__':\n",
    "    print('normal:  ',timeit.timeit(\"runnormal()\", setup=\"from __main__ import runnormal\", number = 10))\n",
    "    print('memoized:', timeit.timeit(\"runmemoized()\", setup=\"from __main__ import runmemoized\", number = 10))"
   ]
  },
  {
   "cell_type": "code",
   "execution_count": 99,
   "metadata": {
    "collapsed": false,
    "scrolled": true,
    "solution": "Exercise 11.6"
   },
   "outputs": [
    {
     "name": "stdout",
     "output_type": "stream",
     "text": [
      "8\n"
     ]
    }
   ],
   "source": [
    "#source: wikipedia\n",
    "known = {}\n",
    "\n",
    "def leven(a, b):\n",
    "    if not a: return len(b)\n",
    "    if not b: return len(a)\n",
    "    res1 = 999\n",
    "    res2 = 999\n",
    "    res3 = 999\n",
    "    \n",
    "    if (a, b[1:]) not in known:\n",
    "        res1 = leven(a, b[1:])+1\n",
    "        known[(a, b[1:])] = res1\n",
    "    else:\n",
    "        res1 = known[(a, b[1:])]\n",
    "        \n",
    "    if (a[1:], b) not in known:\n",
    "        res2 = leven(a[1:], b)+1\n",
    "        known[(a[1:], b)] = res2\n",
    "    else:\n",
    "        res2 = known[(a[1:], b)]\n",
    "        \n",
    "    if (a[1:], b[1:]) not in known:\n",
    "        res3 = leven(a[1:], b[1:]) + (a[0] != b[0])\n",
    "        known[(a[1:], b[1:])] = res3\n",
    "    else:\n",
    "        res3 = known[(a[1:], b[1:])]\n",
    "    \n",
    "    return min(res1, res2, res3)\n",
    "    \n",
    "print leven(\"animadsal\", \"anmal\")"
   ]
  },
  {
   "cell_type": "code",
   "execution_count": 15,
   "metadata": {
    "collapsed": false,
    "solution": "Exercise 11.6"
   },
   "outputs": [
    {
     "name": "stdout",
     "output_type": "stream",
     "text": [
      "55\n"
     ]
    }
   ],
   "source": [
    "known = {0:0, 1:1}\n",
    "\n",
    "def fibonacci(n):\n",
    "    if n in known:\n",
    "        return known[n]\n",
    "\n",
    "    res = fibonacci(n-1) + fibonacci(n-2)\n",
    "    known[n] = res\n",
    "    return res\n",
    "print fibonacci(10)"
   ]
  },
  {
   "cell_type": "code",
   "execution_count": 14,
   "metadata": {
    "collapsed": false,
    "solution": "Exercise 11.6"
   },
   "outputs": [
    {
     "data": {
      "text/plain": [
       "2504730781961"
      ]
     },
     "execution_count": 14,
     "metadata": {},
     "output_type": "execute_result"
    }
   ],
   "source": [
    "def fibo(n, memo):\n",
    "    \n",
    "    if n == 0:\n",
    "        return 1\n",
    "    if n == 1:\n",
    "        return 1\n",
    "    \n",
    "    if n in memo:\n",
    "        return memo[n]\n",
    "    memo[n] = fibo(n-1, d) + fibo(n-2, d)\n",
    "    \n",
    "    return memo[n]\n",
    "\n",
    "d = {}\n",
    "fibo(60, d)"
   ]
  },
  {
   "cell_type": "markdown",
   "metadata": {},
   "source": [
    "With the modified fibonacci function, I expect to see a decrease in the amount of time it takes to compute a Fibonacci number.  This is because using a memoized version means that previously calculated Fibonacci numbers do not need to be recalculated."
   ]
  },
  {
   "cell_type": "markdown",
   "metadata": {
    "is_question": true,
    "problem": "Exercise 12.1"
   },
   "source": [
    "### Exercise 1  \n",
    "\n",
    "Many of the built-in functions use variable-length argument tuples. For example, `max` and `min` can take any number of arguments:\n",
    "\n",
    "```\n",
    ">>> max(1,2,3)\n",
    "3\n",
    "```\n",
    "\n",
    "But `sum` does not.\n",
    "\n",
    "```\n",
    ">>> sum(1,2,3)\n",
    "TypeError: sum expected at most 2 arguments, got 3\n",
    "```\n",
    "\n",
    "Write a function called ```sumall``` that takes any number of arguments and returns their sum. \n",
    "\n",
    "Write unit tests for your function. Do I actually need to keep saying this? Let's assume it's always a good idea :)"
   ]
  },
  {
   "cell_type": "code",
   "execution_count": 26,
   "metadata": {
    "collapsed": false,
    "solution": "Exercise 12.1"
   },
   "outputs": [
    {
     "name": "stdout",
     "output_type": "stream",
     "text": [
      "2\n"
     ]
    }
   ],
   "source": [
    "def sumall(*args):\n",
    "    print sum(args)\n",
    "    \n",
    "#sumall(1,2,3) # 6\n",
    "sumall(1,-2,3) # 2\n",
    "#sumall('i',0,3) #nope!\n"
   ]
  },
  {
   "cell_type": "code",
   "execution_count": null,
   "metadata": {
    "collapsed": false,
    "solution": "Exercise 12.1"
   },
   "outputs": [],
   "source": [
    "def sumall(*args):\n",
    "    my_sum = 0\n",
    "    for arg in args:\n",
    "        my_sum += arg\n",
    "    return my_sum\n",
    "\n",
    "sumall(2,3,4,5)"
   ]
  },
  {
   "cell_type": "code",
   "execution_count": 71,
   "metadata": {
    "collapsed": false,
    "solution": "Exercise 12.1"
   },
   "outputs": [
    {
     "name": "stdout",
     "output_type": "stream",
     "text": [
      "Finding tests in NoName\n",
      "Trying:\n",
      "    sumall(2,3)\n",
      "Expecting:\n",
      "    5\n",
      "ok\n",
      "Trying:\n",
      "    sumall(1,1,1,1)\n",
      "Expecting:\n",
      "    4\n",
      "ok\n",
      "Trying:\n",
      "    sumall(1,3,5,7,9)\n",
      "Expecting:\n",
      "    25\n",
      "ok\n"
     ]
    }
   ],
   "source": [
    "def sumall(*args):\n",
    "    \"\"\" returns the sum of all arguments\n",
    "        >>> sumall(2,3)\n",
    "        5\n",
    "        >>> sumall(1,1,1,1)\n",
    "        4\n",
    "        >>> sumall(1,3,5,7,9)\n",
    "        25\n",
    "        \"\"\"\n",
    "    return sum(args)\n",
    "\n",
    "if __name__ == \"__main__\":\n",
    "    import doctest\n",
    "    doctest.run_docstring_examples(sumall,globals(), verbose=True)"
   ]
  },
  {
   "cell_type": "code",
   "execution_count": 21,
   "metadata": {
    "collapsed": false,
    "solution": "Exercise 12.1"
   },
   "outputs": [
    {
     "name": "stdout",
     "output_type": "stream",
     "text": [
      "6\n"
     ]
    }
   ],
   "source": [
    "numbers = (1,2,3)\n",
    "\n",
    "def sumall(numbers):\n",
    "    \"\"\"Function sums all numbers in a list\n",
    "    >>> sumall([1,1,1])\n",
    "    3\n",
    "    >>> sumall([2,2,0,4])\n",
    "    8\n",
    "    \"\"\"\n",
    "    \n",
    "    x = 0\n",
    "    for i in numbers:\n",
    "        x = x + i\n",
    "    print x\n",
    "    \n",
    "if __name__ == \"__main__\":\n",
    "    import doctest\n",
    "    doctest.testmod()\n",
    "    \n",
    "sumall(numbers)"
   ]
  },
  {
   "cell_type": "code",
   "execution_count": 11,
   "metadata": {
    "collapsed": false,
    "solution": "Exercise 12.1"
   },
   "outputs": [
    {
     "name": "stdout",
     "output_type": "stream",
     "text": [
      "Finding tests in NoName\n",
      "Trying:\n",
      "    sumall(1,2,3,4,5,6,7,8,9,10)\n",
      "Expecting:\n",
      "    55\n",
      "ok\n",
      "Trying:\n",
      "    sumall()\n",
      "Expecting:\n",
      "    0\n",
      "ok\n",
      "Trying:\n",
      "    sumall(1,1)\n",
      "Expecting:\n",
      "    2\n",
      "ok\n"
     ]
    }
   ],
   "source": [
    "def sumall(*args):\n",
    "    \"\"\"\n",
    "    This method utilizes the * operator that groups all arguments into a tuple, thus allowing for an infinite number of arguments\n",
    "    It then sums all of them buy iterating through the tuple. Here are some doctests to prove functionality.\n",
    "    \n",
    "    >>> sumall(1,2,3,4,5,6,7,8,9,10)\n",
    "    55\n",
    "    >>> sumall()\n",
    "    0\n",
    "    >>> sumall(1,1)\n",
    "    2\n",
    "    \"\"\"\n",
    "    total = 0\n",
    "    for i in args:\n",
    "        total +=i\n",
    "    return total\n",
    "\n",
    "doctest.run_docstring_examples(sumall, globals(),verbose=True)\n",
    "    "
   ]
  },
  {
   "cell_type": "code",
   "execution_count": 12,
   "metadata": {
    "collapsed": false,
    "solution": "Exercise 12.1"
   },
   "outputs": [
    {
     "data": {
      "text/plain": [
       "20"
      ]
     },
     "execution_count": 12,
     "metadata": {},
     "output_type": "execute_result"
    }
   ],
   "source": [
    "def sumall(*args):\n",
    "    \"\"\"sums all arguments and returns a total\"\"\"\n",
    "    total = 0\n",
    "    for i in args:\n",
    "        total+=i\n",
    "    return total\n",
    "\n",
    "sumall(2, 3, 4, 5, 6)"
   ]
  },
  {
   "cell_type": "code",
   "execution_count": 59,
   "metadata": {
    "collapsed": false,
    "solution": "Exercise 12.1"
   },
   "outputs": [
    {
     "data": {
      "text/plain": [
       "TestResults(failed=0, attempted=12)"
      ]
     },
     "execution_count": 59,
     "metadata": {},
     "output_type": "execute_result"
    }
   ],
   "source": [
    "def sumAll(*args):\n",
    "    \"\"\"\n",
    "    >>> sumAll(1,2,3)\n",
    "    6\n",
    "    \"\"\"\n",
    "    if len(args) > 1:\n",
    "        args = (args[0] + args[1],) + args[2:]\n",
    "        return sumAll(*args)\n",
    "    elif len(args) == 1:\n",
    "        return args[0]\n",
    "\n",
    "import doctest\n",
    "doctest.testmod()"
   ]
  },
  {
   "cell_type": "code",
   "execution_count": 13,
   "metadata": {
    "collapsed": false,
    "solution": "Exercise 12.1"
   },
   "outputs": [
    {
     "ename": "TypeError",
     "evalue": "unsupported operand type(s) for +: 'int' and 'list'",
     "output_type": "error",
     "traceback": [
      "\u001b[1;31m---------------------------------------------------------------------------\u001b[0m",
      "\u001b[1;31mTypeError\u001b[0m                                 Traceback (most recent call last)",
      "\u001b[1;32m<ipython-input-13-45a6afdf8c92>\u001b[0m in \u001b[0;36m<module>\u001b[1;34m()\u001b[0m\n\u001b[0;32m      3\u001b[0m \u001b[1;33m\u001b[0m\u001b[0m\n\u001b[0;32m      4\u001b[0m \u001b[0msumall\u001b[0m\u001b[1;33m(\u001b[0m\u001b[1;36m1\u001b[0m\u001b[1;33m,\u001b[0m\u001b[1;36m2\u001b[0m\u001b[1;33m,\u001b[0m\u001b[1;36m3\u001b[0m\u001b[1;33m)\u001b[0m\u001b[1;33m\u001b[0m\u001b[0m\n\u001b[1;32m----> 5\u001b[1;33m \u001b[0msumall\u001b[0m\u001b[1;33m(\u001b[0m\u001b[1;33m[\u001b[0m\u001b[1;36m1\u001b[0m\u001b[1;33m,\u001b[0m\u001b[1;36m2\u001b[0m\u001b[1;33m,\u001b[0m\u001b[1;36m3\u001b[0m\u001b[1;33m]\u001b[0m\u001b[1;33m)\u001b[0m\u001b[1;33m\u001b[0m\u001b[0m\n\u001b[0m\u001b[0;32m      6\u001b[0m \u001b[1;32mprint\u001b[0m \u001b[0msum\u001b[0m\u001b[1;33m(\u001b[0m\u001b[1;33m[\u001b[0m\u001b[1;36m1\u001b[0m\u001b[1;33m,\u001b[0m\u001b[1;36m2\u001b[0m\u001b[1;33m,\u001b[0m\u001b[1;36m3\u001b[0m\u001b[1;33m]\u001b[0m\u001b[1;33m)\u001b[0m\u001b[1;33m\u001b[0m\u001b[0m\n",
      "\u001b[1;32m<ipython-input-13-45a6afdf8c92>\u001b[0m in \u001b[0;36msumall\u001b[1;34m(*args)\u001b[0m\n\u001b[0;32m      1\u001b[0m \u001b[1;32mdef\u001b[0m \u001b[0msumall\u001b[0m\u001b[1;33m(\u001b[0m\u001b[1;33m*\u001b[0m\u001b[0margs\u001b[0m\u001b[1;33m)\u001b[0m\u001b[1;33m:\u001b[0m\u001b[1;33m\u001b[0m\u001b[0m\n\u001b[1;32m----> 2\u001b[1;33m     \u001b[1;32mreturn\u001b[0m \u001b[0msum\u001b[0m\u001b[1;33m(\u001b[0m\u001b[0margs\u001b[0m\u001b[1;33m)\u001b[0m\u001b[1;33m\u001b[0m\u001b[0m\n\u001b[0m\u001b[0;32m      3\u001b[0m \u001b[1;33m\u001b[0m\u001b[0m\n\u001b[0;32m      4\u001b[0m \u001b[0msumall\u001b[0m\u001b[1;33m(\u001b[0m\u001b[1;36m1\u001b[0m\u001b[1;33m,\u001b[0m\u001b[1;36m2\u001b[0m\u001b[1;33m,\u001b[0m\u001b[1;36m3\u001b[0m\u001b[1;33m)\u001b[0m\u001b[1;33m\u001b[0m\u001b[0m\n\u001b[0;32m      5\u001b[0m \u001b[0msumall\u001b[0m\u001b[1;33m(\u001b[0m\u001b[1;33m[\u001b[0m\u001b[1;36m1\u001b[0m\u001b[1;33m,\u001b[0m\u001b[1;36m2\u001b[0m\u001b[1;33m,\u001b[0m\u001b[1;36m3\u001b[0m\u001b[1;33m]\u001b[0m\u001b[1;33m)\u001b[0m\u001b[1;33m\u001b[0m\u001b[0m\n",
      "\u001b[1;31mTypeError\u001b[0m: unsupported operand type(s) for +: 'int' and 'list'"
     ]
    }
   ],
   "source": [
    "def sumall(*args):\n",
    "    return sum(args)\n",
    "\n",
    "sumall(1,2,3)\n",
    "# sumall([1,2,3]) -- this doens't work for a list?\n",
    "print sum([1,2,3])"
   ]
  },
  {
   "cell_type": "code",
   "execution_count": 3,
   "metadata": {
    "collapsed": false,
    "solution": "Exercise 12.1"
   },
   "outputs": [],
   "source": [
    "def sumall(*args):\n",
    "    \"\"\"\n",
    "    takes any number of arguments and returns their sum\n",
    "    \n",
    "    >>> sumall(1,2,3)\n",
    "    6\n",
    "    \n",
    "    >>> sumall(100,5,30)\n",
    "    135\n",
    "    \n",
    "    >>> sumall(1.4,2,5.6)\n",
    "    9.0\n",
    "    \"\"\"\n",
    "    total = 0\n",
    "    for arg in args:\n",
    "        total = total + arg\n",
    "    return total\n",
    "\n",
    "import doctest\n",
    "doctest.run_docstring_examples(sumall, globals())"
   ]
  },
  {
   "cell_type": "code",
   "execution_count": 82,
   "metadata": {
    "collapsed": false,
    "solution": "Exercise 12.1"
   },
   "outputs": [],
   "source": [
    "#putting * in front of a parameter lets it take multiple arguments\n",
    "#you can do the same thing when you put one argument in (scatters it)\n",
    "\n",
    "def sumall(*s):\n",
    "    count = 0\n",
    "    for i in s:\n",
    "        count += i\n",
    "    return count\n",
    "    \n",
    "\n",
    "\"\"\"\n",
    ">>> sumall(1,2,3,4,5)\n",
    "15\n",
    ">>> sumall(-1,2,3,4-5) #make sure it can handle negative numbers too\n",
    "3\n",
    "\"\"\"\n",
    "if __name__ == \"__main__\":\n",
    "    import doctest\n",
    "    doctest.testmod()"
   ]
  },
  {
   "cell_type": "code",
   "execution_count": 19,
   "metadata": {
    "collapsed": false,
    "solution": "Exercise 12.1"
   },
   "outputs": [
    {
     "name": "stdout",
     "output_type": "stream",
     "text": [
      "10\n"
     ]
    }
   ],
   "source": [
    "def sumall(*args): return sum(args)\n",
    "\n",
    "print sumall(1, 2, 3, 4)"
   ]
  },
  {
   "cell_type": "code",
   "execution_count": 3,
   "metadata": {
    "collapsed": false,
    "solution": "Exercise 12.1"
   },
   "outputs": [
    {
     "name": "stdout",
     "output_type": "stream",
     "text": [
      "25\n"
     ]
    }
   ],
   "source": [
    "def sumall(*args): #the asterisk gathers args into a tuple, which we can then iterate over.\n",
    "    \"\"\"\n",
    "    >>> print sumall(1,2,3,4,5,6)\n",
    "    21\n",
    "    >>> print sumall(1,3,5,7,9)\n",
    "    25\n",
    "    \"\"\"\n",
    "    count = 0\n",
    "    for c in args:\n",
    "        count += c\n",
    "    return count #if you use * on a tuple, you break the tuple up."
   ]
  },
  {
   "cell_type": "code",
   "execution_count": 13,
   "metadata": {
    "collapsed": false,
    "solution": "Exercise 12.1"
   },
   "outputs": [
    {
     "data": {
      "text/plain": [
       "TestResults(failed=0, attempted=12)"
      ]
     },
     "execution_count": 13,
     "metadata": {},
     "output_type": "execute_result"
    }
   ],
   "source": [
    "def sumall(*args):\n",
    "    \"\"\"\n",
    "    >>> sumall(1,2,3)\n",
    "    6\n",
    "    >>> sumall(1,2,3,4)\n",
    "    10\n",
    "    \"\"\"\n",
    "    sum = 0\n",
    "    for x in args:\n",
    "        sum += x\n",
    "    return sum\n",
    "\n",
    "\n",
    "import doctest\n",
    "doctest.testmod()"
   ]
  },
  {
   "cell_type": "code",
   "execution_count": 42,
   "metadata": {
    "collapsed": false,
    "solution": "Exercise 12.1"
   },
   "outputs": [
    {
     "name": "stdout",
     "output_type": "stream",
     "text": [
      "34\n",
      "3\n",
      "22\n",
      "1\n"
     ]
    }
   ],
   "source": [
    "def sumall(*args):\n",
    "    total = 0\n",
    "    for number in args:\n",
    "        total += number\n",
    "    return total\n",
    "\n",
    "print sumall(4,7,2,5,7,8,1)\n",
    "print sumall(2,1)\n",
    "print sumall(7,8,4,3)\n",
    "print sumall(1)"
   ]
  },
  {
   "cell_type": "code",
   "execution_count": 29,
   "metadata": {
    "collapsed": false
   },
   "outputs": [
    {
     "data": {
      "text/plain": [
       "6"
      ]
     },
     "execution_count": 29,
     "metadata": {},
     "output_type": "execute_result"
    }
   ],
   "source": [
    "def sumall(*x):\n",
    "    return sum(x)\n",
    "sumall(1,2,3)"
   ]
  },
  {
   "cell_type": "code",
   "execution_count": 2,
   "metadata": {
    "collapsed": false,
    "solution": "Exercise 12.1"
   },
   "outputs": [
    {
     "name": "stdout",
     "output_type": "stream",
     "text": [
      "5\n",
      "55\n",
      "0\n",
      "-40\n"
     ]
    }
   ],
   "source": [
    "def sumall(*args):\n",
    "    return sum (args)\n",
    "\n",
    "print sumall(1,1,1,1,1)\n",
    "print sumall(1,2,3,4,5,6,7,8,9,10)\n",
    "print sumall(0)\n",
    "print sumall(-72, 2,6,7,8,9)"
   ]
  },
  {
   "cell_type": "code",
   "execution_count": 30,
   "metadata": {
    "collapsed": false,
    "solution": "Exercise 12.1"
   },
   "outputs": [],
   "source": [
    "def sumall(*numlist):\n",
    "    \"\"\"\n",
    "    >>> sumall(1,2,3)\n",
    "    6\n",
    "    \n",
    "    \"\"\"\n",
    "    return sum(numlist)\n",
    "\n",
    "#     add = 0\n",
    "#     for char in numlist:\n",
    "#         add += char\n",
    "#     print add\n",
    "\n",
    "if __name__ == \"__main__\":\n",
    "    import doctest\n",
    "    doctest.testmod()"
   ]
  },
  {
   "cell_type": "code",
   "execution_count": 12,
   "metadata": {
    "collapsed": false,
    "solution": "Exercise 12.1"
   },
   "outputs": [
    {
     "name": "stdout",
     "output_type": "stream",
     "text": [
      "**********************************************************************\n",
      "File \"__main__\", line 5, in __main__.sumall\n",
      "Failed example:\n",
      "    sumall([1, 2, 3, 4, 20])\n",
      "Expected:\n",
      "    30 \n",
      "Got:\n",
      "    30\n",
      "**********************************************************************\n",
      "File \"__main__\", line 7, in __main__.sumall\n",
      "Failed example:\n",
      "    sumall([0, 1, 0, 1, 0])\n",
      "Expected:\n",
      "    2 \n",
      "Got:\n",
      "    2\n",
      "**********************************************************************\n",
      "File \"__main__\", line 9, in __main__.sumall\n",
      "Failed example:\n",
      "    sumall([0, 0, 0, 0, 0])\n",
      "Expected:\n",
      "    0 \n",
      "Got:\n",
      "    0\n",
      "**********************************************************************\n",
      "1 items had failures:\n",
      "   3 of   3 in __main__.sumall\n",
      "***Test Failed*** 3 failures.\n"
     ]
    },
    {
     "data": {
      "text/plain": [
       "TestResults(failed=3, attempted=7)"
      ]
     },
     "execution_count": 12,
     "metadata": {},
     "output_type": "execute_result"
    }
   ],
   "source": [
    "import doctest\n",
    "\n",
    "def sumall(lista):\n",
    "    \n",
    "    \"\"\"\n",
    "    >>> sumall([1, 2, 3, 4, 20])\n",
    "    30 \n",
    "    >>> sumall([0, 1, 0, 1, 0])\n",
    "    2 \n",
    "    >>> sumall([0, 0, 0, 0, 0])\n",
    "    0 \n",
    "    \"\"\"\n",
    "    \n",
    "    if len(lista)== 1:\n",
    "        return lista[0]\n",
    "    value1 = lista.pop() \n",
    "    value2 = lista.pop()\n",
    "    a = sum([value1, value2])\n",
    "    lista.append(a)\n",
    "    return sumall(lista)\n",
    "\n",
    "sumall([0, 0, 0, 0, 0])\n",
    "\n",
    "\n",
    "doctest.testmod()\n",
    "\n",
    "#Fails doctests but returns the same thing... \n",
    "    "
   ]
  },
  {
   "cell_type": "code",
   "execution_count": 14,
   "metadata": {
    "collapsed": true,
    "solution": "Exercise 12.1"
   },
   "outputs": [],
   "source": [
    "def sumall(*args):\n",
    "    \"\"\"\n",
    "    >>> sumall(0)\n",
    "    0\n",
    "    >>> sumall(1,2,3)\n",
    "    6\n",
    "    >>> sumall(1.0,2,3)\n",
    "    6.0\n",
    "    \"\"\"\n",
    "    total = 0\n",
    "    for number in args:\n",
    "        total += number\n",
    "    return total\n",
    "\n",
    "\n",
    "import doctest\n",
    "doctest.run_docstring_examples(sumall, globals())"
   ]
  },
  {
   "cell_type": "code",
   "execution_count": 14,
   "metadata": {
    "collapsed": false,
    "solution": "Exercise 12.1"
   },
   "outputs": [
    {
     "data": {
      "text/plain": [
       "10"
      ]
     },
     "execution_count": 14,
     "metadata": {},
     "output_type": "execute_result"
    }
   ],
   "source": [
    "def sumall(*args):\n",
    "    for c in args:\n",
    "        c += c\n",
    "    return c\n",
    "\n",
    "sumall(1, 2, 3, 4, 5)"
   ]
  },
  {
   "cell_type": "code",
   "execution_count": 16,
   "metadata": {
    "collapsed": false,
    "solution": "Exercise 12.1"
   },
   "outputs": [
    {
     "name": "stdout",
     "output_type": "stream",
     "text": [
      "10\n",
      "-1\n"
     ]
    }
   ],
   "source": [
    "def sumall(*args):\n",
    "    sum = 0\n",
    "    for n in args:\n",
    "        sum+=n\n",
    "    return sum\n",
    "print sumall(1,2,3,4)\n",
    "print sumall(0,-1)"
   ]
  },
  {
   "cell_type": "code",
   "execution_count": 12,
   "metadata": {
    "collapsed": false,
    "solution": "Exercise 12.1"
   },
   "outputs": [
    {
     "name": "stdout",
     "output_type": "stream",
     "text": [
      "0\n"
     ]
    }
   ],
   "source": [
    "def sumall(*args):\n",
    "    \"\"\"sums args\n",
    "    \n",
    "    >>>sumall(1,2,3,4,5,6)\n",
    "    21\n",
    "    >>>sumall()\n",
    "    0\n",
    "    \"\"\"\n",
    "    total = 0\n",
    "    for x in args:\n",
    "        total += x\n",
    "    return total"
   ]
  },
  {
   "cell_type": "code",
   "execution_count": 7,
   "metadata": {
    "collapsed": false,
    "solution": "Exercise 12.1"
   },
   "outputs": [
    {
     "name": "stdout",
     "output_type": "stream",
     "text": [
      "6\n"
     ]
    }
   ],
   "source": [
    "numbers = (1,2,3)\n",
    "def sumall(numbers):\n",
    "        tot = 0\n",
    "        for num in numbers:\n",
    "            tot = tot+ num\n",
    "        print tot\n",
    "sumall(numbers)"
   ]
  },
  {
   "cell_type": "code",
   "execution_count": 18,
   "metadata": {
    "collapsed": false,
    "solution": "Exercise 12.1"
   },
   "outputs": [],
   "source": [
    "\"\"\"\n",
    ">>> sumall(0)\n",
    "0\n",
    ">>> sumall(1,2,3)\n",
    "6\n",
    "\"\"\"\n",
    "\n",
    "def sumall(*args):\n",
    "    sum = 0\n",
    "    for num in args:\n",
    "        sum = sum + num\n",
    "    return sum\n",
    "\n",
    "if __name__ == '__main__':\n",
    "    import doctest\n",
    "    doctest.testmod()"
   ]
  },
  {
   "cell_type": "code",
   "execution_count": 29,
   "metadata": {
    "collapsed": false,
    "solution": "Exercise 12.1"
   },
   "outputs": [
    {
     "data": {
      "text/plain": [
       "22"
      ]
     },
     "execution_count": 29,
     "metadata": {},
     "output_type": "execute_result"
    }
   ],
   "source": [
    "def sumall(*s):\n",
    "    total = 0\n",
    "    for item in s:\n",
    "        total = total + item\n",
    "    return total\n",
    "\n",
    "sumall(10, 12)"
   ]
  },
  {
   "cell_type": "code",
   "execution_count": 87,
   "metadata": {
    "collapsed": false,
    "solution": "Exercise 12.1"
   },
   "outputs": [
    {
     "data": {
      "text/plain": [
       "10"
      ]
     },
     "execution_count": 87,
     "metadata": {},
     "output_type": "execute_result"
    }
   ],
   "source": [
    "import doctest\n",
    "def sumall(*args):\n",
    "    \"\"\"\n",
    "    >>> sumall(1, 2, 3)\n",
    "    6\n",
    "    \"\"\"\n",
    "    # *args makes all of the inputs given into a single tuple, which can be passed in as a single argument\n",
    "    return sum(args)\n",
    "\n",
    "#doctest.testmod()\n",
    "sumall(1, 2, 3, 4)\n"
   ]
  },
  {
   "cell_type": "code",
   "execution_count": 58,
   "metadata": {
    "collapsed": false,
    "solution": "Exercise 12.1"
   },
   "outputs": [
    {
     "data": {
      "text/plain": [
       "TestResults(failed=0, attempted=2)"
      ]
     },
     "execution_count": 58,
     "metadata": {},
     "output_type": "execute_result"
    }
   ],
   "source": [
    "\"\"\"\n",
    "\n",
    ">>> print sumall(1,2,3,4,5)\n",
    "15\n",
    ">>> print sumall(4,6,1)\n",
    "11\n",
    "\n",
    "\"\"\"\n",
    "\n",
    "\n",
    "def sumall(*args):\n",
    "    res = 0\n",
    "    for i in args:\n",
    "        res += i\n",
    "    return res\n",
    "\n",
    "import doctest\n",
    "doctest.testmod()"
   ]
  },
  {
   "cell_type": "code",
   "execution_count": 21,
   "metadata": {
    "collapsed": false,
    "solution": "Exercise 12.1"
   },
   "outputs": [
    {
     "data": {
      "text/plain": [
       "TestResults(failed=0, attempted=13)"
      ]
     },
     "execution_count": 21,
     "metadata": {},
     "output_type": "execute_result"
    }
   ],
   "source": [
    "def sumall(*args):\n",
    "    ''' returns the sum of all arguments\n",
    "    >>> sumall('a', 'b', 'c', 'd')\n",
    "    'abcd'\n",
    "    >>> sumall(1, 2, 3, 4)\n",
    "    10\n",
    "    >>> sumall([])\n",
    "    []\n",
    "    >>> sumall([1, 2, 3], [4, 5, 6])\n",
    "    [1, 2, 3, 4, 5, 6]\n",
    "    '''\n",
    "    if isinstance(args[0], (int, float)):\n",
    "        total = 0\n",
    "    elif isinstance(args[0], list):\n",
    "        total = []\n",
    "    elif isinstance(args[0], str):\n",
    "        total = \"\"\n",
    "        \n",
    "    for arg in args:\n",
    "        total += arg\n",
    "        \n",
    "    return total\n",
    "\n",
    "import doctest\n",
    "doctest.testmod()\n"
   ]
  },
  {
   "cell_type": "code",
   "execution_count": 42,
   "metadata": {
    "collapsed": false,
    "solution": "Exercise 12.1"
   },
   "outputs": [
    {
     "name": "stdout",
     "output_type": "stream",
     "text": [
      "34\n"
     ]
    }
   ],
   "source": [
    "def sumall(a):\n",
    "    sum = 0\n",
    "    for i in a:\n",
    "        sum = sum + i\n",
    "    return sum\n",
    "\n",
    "print sumall([1,10,20,1,1,1])\n",
    "        "
   ]
  },
  {
   "cell_type": "code",
   "execution_count": 26,
   "metadata": {
    "collapsed": false,
    "solution": "Exercise 12.1"
   },
   "outputs": [
    {
     "data": {
      "text/plain": [
       "TestResults(failed=0, attempted=11)"
      ]
     },
     "execution_count": 26,
     "metadata": {},
     "output_type": "execute_result"
    }
   ],
   "source": [
    "def sumall(*t):\n",
    "    \"\"\"\n",
    "    >>> sumall(1, 2, 3, 4, 5)\n",
    "    15\n",
    "    >>> sumall(4, 5)\n",
    "    9\n",
    "    >>> sumall(1)\n",
    "    1\n",
    "    >>> sumall(0)\n",
    "    0\n",
    "    \"\"\"\n",
    "    total = 0\n",
    "    for num in t:\n",
    "        total += num\n",
    "    return total\n",
    "\n",
    "doctest.testmod()"
   ]
  },
  {
   "cell_type": "code",
   "execution_count": 21,
   "metadata": {
    "collapsed": false,
    "solution": "Exercise 12.1"
   },
   "outputs": [
    {
     "data": {
      "text/plain": [
       "TestResults(failed=0, attempted=3)"
      ]
     },
     "execution_count": 21,
     "metadata": {},
     "output_type": "execute_result"
    }
   ],
   "source": [
    "'''sums any amount of numbers together. Must input a tuple as the argument\n",
    "\n",
    ">>> sumall((1,2))\n",
    "3\n",
    ">>> sumall((10,10,10,10,10))\n",
    "50\n",
    ">>> sumall((1.5, 1, 2.9))\n",
    "5.4\n",
    "\n",
    "'''\n",
    "def sumall(*ns):\n",
    "    return sum(*ns)\n",
    "\n",
    "import doctest\n",
    "doctest.testmod()"
   ]
  },
  {
   "cell_type": "code",
   "execution_count": 19,
   "metadata": {
    "collapsed": false,
    "solution": "Exercise 12.1"
   },
   "outputs": [
    {
     "name": "stdout",
     "output_type": "stream",
     "text": [
      "15\n"
     ]
    },
    {
     "data": {
      "text/plain": [
       "TestResults(failed=0, attempted=6)"
      ]
     },
     "execution_count": 19,
     "metadata": {},
     "output_type": "execute_result"
    }
   ],
   "source": [
    "def sum(t):\n",
    "    \"\"\"\n",
    "    >>> t = (1,2,3,4,5)\n",
    "    >>> sum(t)\n",
    "    15\n",
    "    \n",
    "    \"\"\"\n",
    "    totalizer = 0\n",
    "    for c in t:\n",
    "        totalizer = totalizer + c\n",
    "    return totalizer\n",
    "\n",
    "t = (1,2,3,4,5)\n",
    "\n",
    "print sum(t)\n",
    "\n",
    "import doctest\n",
    "doctest.testmod()"
   ]
  },
  {
   "cell_type": "code",
   "execution_count": 5,
   "metadata": {
    "collapsed": false,
    "solution": "Exercise 12.1"
   },
   "outputs": [],
   "source": [
    "def sumall(*args):\n",
    "    \"\"\"\n",
    "    Takes in any number of arguments, returns their sum\n",
    "    \n",
    "    >>> sumall(1)\n",
    "    1\n",
    "    >>> sumall(1,2)\n",
    "    3\n",
    "    >>> sumall(1,1,1,1,1,1,1,1,1,1.0)\n",
    "    10.0\n",
    "    \"\"\"\n",
    "    total = 0\n",
    "    for num in args:\n",
    "        total += num\n",
    "    return total\n",
    "\n",
    "import doctest\n",
    "doctest.run_docstring_examples(sumall, globals())"
   ]
  },
  {
   "cell_type": "code",
   "execution_count": 22,
   "metadata": {
    "collapsed": false,
    "solution": "Exercise 12.1"
   },
   "outputs": [
    {
     "name": "stdout",
     "output_type": "stream",
     "text": [
      "6\n",
      "1\n"
     ]
    }
   ],
   "source": [
    "def sumall(*args):\n",
    "    total = 0\n",
    "    for item in args:\n",
    "        total += item\n",
    "    \n",
    "    return total\n",
    "\n",
    "print sumall(1,2,3)\n",
    "print sumall(1)"
   ]
  },
  {
   "cell_type": "code",
   "execution_count": 56,
   "metadata": {
    "collapsed": false,
    "solution": "Exercise 12.1"
   },
   "outputs": [
    {
     "name": "stdout",
     "output_type": "stream",
     "text": [
      "6\n",
      "196.0\n"
     ]
    }
   ],
   "source": [
    "def sumall(*args):\n",
    "    '''\n",
    "    inputs must be numeric values\n",
    "    '''\n",
    "    return reduce(lambda x, y: x+y, args)\n",
    "    \n",
    "print sumall(1,2,3)\n",
    "print sumall(1.0,5, 190)"
   ]
  },
  {
   "cell_type": "code",
   "execution_count": 34,
   "metadata": {
    "collapsed": false,
    "solution": "Exercise 12.1"
   },
   "outputs": [
    {
     "name": "stdout",
     "output_type": "stream",
     "text": [
      "10\n",
      "55\n"
     ]
    }
   ],
   "source": [
    "def sumall(*args):\n",
    "    sum = 0\n",
    "    for arg in args:\n",
    "        sum+= arg\n",
    "    return sum\n",
    "\n",
    "print sumall(2,3,5)\n",
    "print sumall(1,2,3,4,5,6,7,8,9,10)"
   ]
  },
  {
   "cell_type": "code",
   "execution_count": 64,
   "metadata": {
    "collapsed": false,
    "solution": "Exercise 12.1"
   },
   "outputs": [
    {
     "data": {
      "text/plain": [
       "TestResults(failed=0, attempted=8)"
      ]
     },
     "execution_count": 64,
     "metadata": {},
     "output_type": "execute_result"
    }
   ],
   "source": [
    "def sumall(*args):\n",
    "    \"\"\"\n",
    "    >>> sumall(2, 3, 1)\n",
    "    6\n",
    "    >>> sumall(5)\n",
    "    5\n",
    "    >>> sumall(5, 5, 5, 5, 5)\n",
    "    25\n",
    "    \"\"\"\n",
    "    res = 0\n",
    "    for element in args:\n",
    "        res += element\n",
    "    return res\n",
    "\n",
    "import doctest\n",
    "doctest.testmod()"
   ]
  },
  {
   "cell_type": "code",
   "execution_count": 25,
   "metadata": {
    "collapsed": false,
    "solution": "Exercise 12.1"
   },
   "outputs": [
    {
     "name": "stdout",
     "output_type": "stream",
     "text": [
      "15\n",
      "17\n",
      "14\n"
     ]
    }
   ],
   "source": [
    "def sumall(t):\n",
    "    mysum = 0\n",
    "    for i in range(len(t)):\n",
    "        mysum = mysum + t[i]\n",
    "    return mysum\n",
    "mynums = 1,2,3,4,5\n",
    "print sumall(mynums)\n",
    "mynums = 2,3,5,7\n",
    "print sumall(mynums)\n",
    "mynums = 5,10,-5,4\n",
    "print sumall(mynums)"
   ]
  },
  {
   "cell_type": "markdown",
   "metadata": {},
   "source": [
    "If you're interested in more flexible ways to pass arguments to functions, check out the [Python tutorial](https://docs.python.org/2/tutorial/controlflow.html#more-on-defining-functions). For instance, you can also use keyword arguments, which are collected into a dictionary just like `*` gathers variable numbers of positional arguments into a tuple.\n",
    "\n",
    "This pattern is very common for defining functions with complex optional behaviors in Python, and you will often see definitions like:\n",
    "\n",
    "```\n",
    "def my_func(required_argument1, *arguments, **keywords):\n",
    "    ...\n",
    "```"
   ]
  },
  {
   "cell_type": "code",
   "execution_count": 60,
   "metadata": {
    "collapsed": true,
    "solution": "Exercise 12.1"
   },
   "outputs": [],
   "source": [
    "def sumall(*args):\n",
    "    sums=0\n",
    "    for i in range(len(args)):\n",
    "        sums=sums+args[i]\n",
    "    return sums"
   ]
  },
  {
   "cell_type": "code",
   "execution_count": 56,
   "metadata": {
    "collapsed": false,
    "solution": "Exercise 12.1"
   },
   "outputs": [
    {
     "data": {
      "text/plain": [
       "34"
      ]
     },
     "execution_count": 56,
     "metadata": {},
     "output_type": "execute_result"
    }
   ],
   "source": [
    "#import doctest\n",
    "\n",
    "def sumall(*args):\n",
    "    total = 0\n",
    "    for i in range(len(args)):\n",
    "        total = args[i] + total\n",
    "    return total\n",
    "        \n",
    "sumall(3,4,7,9,10,1)"
   ]
  },
  {
   "cell_type": "code",
   "execution_count": 14,
   "metadata": {
    "collapsed": false,
    "solution": "Exercise 12.1"
   },
   "outputs": [
    {
     "data": {
      "text/plain": [
       "9"
      ]
     },
     "execution_count": 14,
     "metadata": {},
     "output_type": "execute_result"
    }
   ],
   "source": [
    "def sumall(*stuff):\n",
    "    x = 0\n",
    "    for i in stuff:\n",
    "        x += i\n",
    "    return x\n",
    "sumall(1, 3, 5)"
   ]
  },
  {
   "cell_type": "code",
   "execution_count": 11,
   "metadata": {
    "collapsed": false,
    "scrolled": true,
    "solution": "Exercise 12.1"
   },
   "outputs": [
    {
     "name": "stdout",
     "output_type": "stream",
     "text": [
      "12\n"
     ]
    }
   ],
   "source": [
    "def sumall(*args):\n",
    "    if len(args) <=2:\n",
    "        return sum(args)\n",
    "    combine_first = sum(args[0:2])\n",
    "    args = (combine_first,) + args[2:]\n",
    "    return sumall(*args)\n",
    "    \n",
    "print sumall(2,6,3,1)"
   ]
  },
  {
   "cell_type": "code",
   "execution_count": 32,
   "metadata": {
    "collapsed": false,
    "solution": "Exercise 12.1"
   },
   "outputs": [],
   "source": [
    "def sumall(*anyNumbers):\n",
    "    \"\"\" \n",
    "    >>> sumall(1,2,3)\n",
    "    6\n",
    "    >>> sumall(2,20,440)\n",
    "    462\n",
    "    >>> sumall(23, 74, 785, 85432, 7)\n",
    "    86321\n",
    "    \"\"\"\n",
    "    a = 0\n",
    "    for i in anyNumbers:\n",
    "        a = a + i\n",
    "    print a\n",
    "\n",
    "if __name__ == '__main__':\n",
    "    import doctest\n",
    "    doctest.testmod()"
   ]
  },
  {
   "cell_type": "code",
   "execution_count": 1,
   "metadata": {
    "collapsed": false,
    "solution": "Exercise 12.1"
   },
   "outputs": [],
   "source": [
    "def sumall(*multi):\n",
    "    \"\"\"\n",
    "    takes a tuple of strings , returns the sum of them!\n",
    "    \n",
    "    >>> sumall(1,2,3,4,5,6)\n",
    "    21\n",
    "    \n",
    "    >>> sumall(4,1)\n",
    "    5\n",
    "    \"\"\"\n",
    "    \n",
    "    total = 0\n",
    "    for elem in multi:\n",
    "        total += elem\n",
    "    return total\n",
    "\n",
    "import doctest\n",
    "doctest.run_docstring_examples(sumall,globals())\n"
   ]
  },
  {
   "cell_type": "code",
   "execution_count": 51,
   "metadata": {
    "collapsed": false,
    "solution": "Exercise 12.1"
   },
   "outputs": [
    {
     "data": {
      "text/plain": [
       "32"
      ]
     },
     "execution_count": 51,
     "metadata": {},
     "output_type": "execute_result"
    }
   ],
   "source": [
    "def sumall(*arg):\n",
    "    \"\"\"\n",
    "    >>>sumall(1,2):\n",
    "    3\n",
    "    >>>sumall(1,2,3,4):\n",
    "    10\n",
    "    >>>sumall(0,0,0):\n",
    "    0\n",
    "    \"\"\"\n",
    "    return sum(arg)\n",
    "\n",
    "sumall(3,4,5,6,7,3,2,2)"
   ]
  },
  {
   "cell_type": "code",
   "execution_count": 8,
   "metadata": {
    "collapsed": false,
    "solution": "Exercise 12.1"
   },
   "outputs": [
    {
     "name": "stdout",
     "output_type": "stream",
     "text": [
      "2\n",
      "0\n"
     ]
    }
   ],
   "source": [
    "def sumall(t):\n",
    "    total = 0\n",
    "    for i in t:\n",
    "        total += i\n",
    "    return total\n",
    "tup = (1,-2,3)\n",
    "print(sumall(tup))\n",
    "print(sumall(()))"
   ]
  },
  {
   "cell_type": "code",
   "execution_count": 82,
   "metadata": {
    "collapsed": false,
    "solution": "Exercise 12.1"
   },
   "outputs": [
    {
     "name": "stdout",
     "output_type": "stream",
     "text": [
      "30\n"
     ]
    }
   ],
   "source": [
    "def sumall(*args):\n",
    "    \"\"\"\n",
    "    >>> sumall(1, 2, 4)\n",
    "    7\n",
    "    \"\"\"\n",
    "    total = 0\n",
    "    for i in range(len(args)):\n",
    "        total += args[i]\n",
    "    return total\n",
    "\n",
    "print sumall(6, 7, 8, 9)"
   ]
  },
  {
   "cell_type": "code",
   "execution_count": 19,
   "metadata": {
    "collapsed": false,
    "solution": "Exercise 12.1"
   },
   "outputs": [
    {
     "name": "stdout",
     "output_type": "stream",
     "text": [
      "10\n"
     ]
    }
   ],
   "source": [
    "def sumall(*args):\n",
    "    return sum(args)\n",
    "print sumall(1,2,3, 4)"
   ]
  },
  {
   "cell_type": "code",
   "execution_count": 17,
   "metadata": {
    "collapsed": false,
    "solution": "Exercise 12.1"
   },
   "outputs": [
    {
     "name": "stdout",
     "output_type": "stream",
     "text": [
      "10\n",
      "1\n"
     ]
    }
   ],
   "source": [
    "def sumall(*aTuple):\n",
    "    runningSum = 0\n",
    "    for aValue in aTuple:  # Basically english\n",
    "        runningSum += aValue\n",
    "    return runningSum\n",
    "\n",
    "print sumall(1,2,3,4)\n",
    "print sumall(1)"
   ]
  },
  {
   "cell_type": "code",
   "execution_count": 77,
   "metadata": {
    "collapsed": false,
    "solution": "Exercise 12.1"
   },
   "outputs": [],
   "source": [
    "def sumall(*args):\n",
    "    \"\"\"\n",
    "    For any input arguments returns their sum\n",
    "    >>> sumall()\n",
    "    'empty'\n",
    "    >>> sumall(1, 2, 4)\n",
    "    7\n",
    "    \"\"\"\n",
    "    if len(args) == 0:\n",
    "        return \"empty\"\n",
    "    summation = 0\n",
    "    for i in range(len(args)):\n",
    "        summation = summation + args[i]\n",
    "    return summation\n",
    "\n",
    "import doctest\n",
    "doctest.run_docstring_examples(sumall, globals())"
   ]
  },
  {
   "cell_type": "markdown",
   "metadata": {
    "is_question": true,
    "problem": "Exercise 12 sort"
   },
   "source": [
    "### Exercise\n",
    "\n",
    "Write a function `sort_by_last_letter` that takes a list of words and returns a new list with the words sorted alphabetically by the _last letter_ in the word. Hint: use the **Decorate, Sort, Undecorate** pattern. Write unit tests for your function."
   ]
  },
  {
   "cell_type": "code",
   "execution_count": 74,
   "metadata": {
    "collapsed": false,
    "solution": "Exercise 12 sort"
   },
   "outputs": [
    {
     "name": "stdout",
     "output_type": "stream",
     "text": [
      "['a', 'd', 'q', 'r']\n"
     ]
    }
   ],
   "source": [
    "#wow this took me WAY to long to do. Struggled for 2 hours... :(\n",
    "\n",
    "def sort_by_last_letter(words):\n",
    "    i=0\n",
    "    last_letters = []\n",
    "    #current_word = words[0]\n",
    "    #print current_word[len(current_word)-1]\n",
    "    #print words[0][len(current_word)-1]\n",
    "    \n",
    "    while i < len(words):\n",
    "        current_word = words[i]\n",
    "        #print current_word[-1]\n",
    "        last_letters.append(current_word[-1])\n",
    "        i+=1\n",
    "\n",
    "    zipped_words = zip(last_letters, words)\n",
    "    zipped_words.sort()\n",
    "    \n",
    "    res = []\n",
    "    for last_letters, words in zipped_words:\n",
    "        res.append(words)\n",
    "    print res\n",
    "    \n",
    "sort_by_last_letter(['dog', 'cat', 'bird', 'mouse'])\n",
    "#sort_by_last_letter(['d', 'q', 'r', 'a'])\n"
   ]
  },
  {
   "cell_type": "code",
   "execution_count": null,
   "metadata": {
    "collapsed": false,
    "solution": "Exercise 12 sort"
   },
   "outputs": [],
   "source": [
    "def sort_by_last_letter(words):\n",
    "    t = []\n",
    "    for word in words:\n",
    "        t.append((word[-1],word))\n",
    "    \n",
    "    t.sort()\n",
    "    \n",
    "    res = []\n",
    "    for last_letter, word in t:\n",
    "        res.append(word)\n",
    "    return res\n",
    "\n",
    "print sort_by_last_letter(['hello','world','hi','software','design'])"
   ]
  },
  {
   "cell_type": "code",
   "execution_count": 73,
   "metadata": {
    "collapsed": false,
    "solution": "Exercise 12 sort"
   },
   "outputs": [
    {
     "name": "stdout",
     "output_type": "stream",
     "text": [
      "Finding tests in NoName\n",
      "Trying:\n",
      "    sort_by_last_letter(['abc','dog','banana','cat'])\n",
      "Expecting:\n",
      "    ['banana', 'abc', 'dog', 'cat']\n",
      "ok\n",
      "Trying:\n",
      "    sort_by_last_letter(['row','a','z','kappa'])\n",
      "Expecting:\n",
      "    ['a', 'kappa', 'row', 'z']\n",
      "ok\n"
     ]
    }
   ],
   "source": [
    "def sort_by_last_letter(lst):\n",
    "    \"\"\" returns a list of words sorted by last letter alphabetically\n",
    "        >>> sort_by_last_letter(['abc','dog','banana','cat'])\n",
    "        ['banana', 'abc', 'dog', 'cat']\n",
    "        >>> sort_by_last_letter(['row','a','z','kappa'])\n",
    "        ['a', 'kappa', 'row', 'z']\n",
    "        \"\"\"\n",
    "    sorted_lst = []\n",
    "    for word in lst:\n",
    "        sorted_lst.append((word[-1],word))\n",
    "    sorted_lst.sort()\n",
    "    \n",
    "    res = []\n",
    "    for last_letter, word in sorted_lst:\n",
    "        res.append(word)\n",
    "    return res\n",
    "if __name__ == \"__main__\":\n",
    "    import doctest\n",
    "    doctest.run_docstring_examples(sort_by_last_letter,globals(), verbose=True)"
   ]
  },
  {
   "cell_type": "code",
   "execution_count": 12,
   "metadata": {
    "collapsed": false,
    "solution": "Exercise 12 sort"
   },
   "outputs": [
    {
     "name": "stdout",
     "output_type": "stream",
     "text": [
      "[('e', 'apple')]\n",
      "[('e', 'apple'), ('a', 'banana')]\n",
      "[('e', 'apple'), ('a', 'banana'), ('t', 'elephant')]\n",
      "[('a', 'banana'), ('e', 'apple'), ('t', 'elephant')]\n"
     ]
    },
    {
     "data": {
      "text/plain": [
       "['banana', 'apple', 'elephant']"
      ]
     },
     "execution_count": 12,
     "metadata": {},
     "output_type": "execute_result"
    }
   ],
   "source": [
    "words = ('apple','banana','elephant')\n",
    "\n",
    "def sort_by_last_letter(words):\n",
    "    t = []\n",
    "    for word in words:\n",
    "        t.append((word[-1], word))\n",
    "        print t\n",
    "        \n",
    "    t.sort()\n",
    "    print t\n",
    "    \n",
    "    res = []\n",
    "    for letter, word in t:\n",
    "        res.append(word)\n",
    "    return res\n",
    "    print res\n",
    "\n",
    "sort_by_last_letter(words)"
   ]
  },
  {
   "cell_type": "code",
   "execution_count": 12,
   "metadata": {
    "collapsed": false,
    "solution": "Exercise 12 sort"
   },
   "outputs": [
    {
     "name": "stdout",
     "output_type": "stream",
     "text": [
      "Finding tests in NoName\n",
      "Trying:\n",
      "    sort_by_last_letter(['chicken','butt','Im','a'])\n",
      "Expecting:\n",
      "    ['a', 'Im', 'chicken', 'butt']\n",
      "ok\n",
      "Trying:\n",
      "    sort_by_last_letter([])\n",
      "Expecting:\n",
      "    []\n",
      "ok\n",
      "Trying:\n",
      "    sort_by_last_letter(['chicken','butt','bun','a'])\n",
      "Expecting:\n",
      "    ['a', 'bun', 'chicken', 'butt']\n",
      "ok\n"
     ]
    }
   ],
   "source": [
    "def sort_by_last_letter(wordlist):\n",
    "        \n",
    "        \"\"\"\n",
    "        This method utilizes DSU to sort words by the last letter. Doctesting with the stuffs.\n",
    "        \n",
    "        >>> sort_by_last_letter(['chicken','butt','Im','a'])\n",
    "        ['a', 'Im', 'chicken', 'butt']\n",
    "        >>> sort_by_last_letter([])\n",
    "        []\n",
    "        >>> sort_by_last_letter(['chicken','butt','bun','a'])\n",
    "        ['a', 'bun', 'chicken', 'butt']\n",
    "        \"\"\"\n",
    "        t = []\n",
    "        for word in wordlist:\n",
    "            t.append((word[-1],word))\n",
    "        \n",
    "        t.sort()\n",
    "        \n",
    "        result = []\n",
    "        for lastletter, word in t:\n",
    "            result.append(word)\n",
    "        return result\n",
    "    \n",
    "doctest.run_docstring_examples(sort_by_last_letter,globals(), verbose=True)    "
   ]
  },
  {
   "cell_type": "code",
   "execution_count": 22,
   "metadata": {
    "collapsed": false,
    "solution": "Exercise 12 sort"
   },
   "outputs": [
    {
     "data": {
      "text/plain": [
       "['hi', 'hello', 'hey', 'howdy']"
      ]
     },
     "execution_count": 22,
     "metadata": {},
     "output_type": "execute_result"
    }
   ],
   "source": [
    "def sort_by_last_letter(wordList):\n",
    "    \"\"\"given list of words, returns a list sorted alphabetically by last letter of each word\"\"\"\n",
    "    t = []\n",
    "    for word in wordList:\n",
    "        t.append((word[-1],word))\n",
    "    t.sort()\n",
    "    rtrn = []\n",
    "    for lastLetter, word in t:\n",
    "        rtrn.append(word)\n",
    "    return rtrn\n",
    "\n",
    "sort_by_last_letter(['hey', 'howdy', 'hello', 'hi'])"
   ]
  },
  {
   "cell_type": "code",
   "execution_count": 64,
   "metadata": {
    "collapsed": false,
    "solution": "Exercise 12 sort"
   },
   "outputs": [
    {
     "data": {
      "text/plain": [
       "TestResults(failed=0, attempted=13)"
      ]
     },
     "execution_count": 64,
     "metadata": {},
     "output_type": "execute_result"
    }
   ],
   "source": [
    "def sortByLastLetter(words):\n",
    "    \"\"\"\n",
    "    >>> sortByLastLetter(['apple', 'banana', 'pear'])\n",
    "    ['banana', 'apple', 'pear']\n",
    "    \"\"\"\n",
    "    lasts = []\n",
    "    for word in words:\n",
    "        lasts.append((word[-1], word))\n",
    "    \n",
    "    lasts.sort()\n",
    "    \n",
    "    res = []\n",
    "    for last, word in lasts:\n",
    "        res.append(word)\n",
    "    return res\n",
    "\n",
    "import doctest\n",
    "doctest.testmod()"
   ]
  },
  {
   "cell_type": "code",
   "execution_count": 18,
   "metadata": {
    "collapsed": false,
    "solution": "Exercise 12 sort"
   },
   "outputs": [
    {
     "data": {
      "text/plain": [
       "['Leia', 'Luke', 'Han Solo']"
      ]
     },
     "execution_count": 18,
     "metadata": {},
     "output_type": "execute_result"
    }
   ],
   "source": [
    "def sort_by_last_letter(words):\n",
    "    '''\n",
    "    This functin takes in a list of words and sort them in the order of \n",
    "    their last letter. \n",
    "    '''\n",
    "    t = []\n",
    "    for word in words:\n",
    "       t.append((word[-1], word))\n",
    "\n",
    "    t.sort()\n",
    "\n",
    "    res = []\n",
    "    for last_letter, word in t:\n",
    "        res.append(word)\n",
    "    return res\n",
    "\n",
    "sort_by_last_letter(['Luke','Han Solo','Leia'])\n"
   ]
  },
  {
   "cell_type": "code",
   "execution_count": 29,
   "metadata": {
    "collapsed": false,
    "solution": "Exercise 12 sort"
   },
   "outputs": [],
   "source": [
    "def sort_by_last_letter(words):\n",
    "    \"\"\"\n",
    "    takes list of words and returns new list with words sorted\n",
    "    alphabetically by last letter in the word\n",
    "    \n",
    "    >>> sort_by_last_letter(['poop', 'turd', 'fart'])\n",
    "    ['turd', 'poop', 'fart']\n",
    "    \n",
    "    >>> sort_by_last_letter(['what', 'bat', 'wart'])\n",
    "    ['bat', 'what', 'wart']\n",
    "    \"\"\"\n",
    "    \n",
    "    sort_words = []\n",
    "    for word in words:            \n",
    "        sort_words.append((word[::-1], word))\n",
    "        \n",
    "    sort_words.sort()\n",
    "    \n",
    "    res_words = []\n",
    "    for last_letter, word in sort_words:\n",
    "        res_words.append(word)\n",
    "    return res_words\n",
    "import doctest\n",
    "doctest.run_docstring_examples(sort_by_last_letter, globals())    "
   ]
  },
  {
   "cell_type": "code",
   "execution_count": 84,
   "metadata": {
    "collapsed": false,
    "solution": "Exercise 12 sort"
   },
   "outputs": [],
   "source": [
    "#zip lets you match up two or more lists/sequences into one list of tuples\n",
    "#where each tuple has an element from each list/sequence.\n",
    "#if the sequences are not the same length, the result has the same length\n",
    "#as the shorter one\n",
    "\n",
    "#you can create dictionaries with zip\n",
    "#d = dict(zip(something,something))\n",
    "\n",
    "def sort_by_last_letter(words):\n",
    "    t = []\n",
    "    for word in words:\n",
    "        last_letter = word[len(word)-1]\n",
    "        t.append((last_letter,word))\n",
    "    t.sort()\n",
    "    res = []\n",
    "    for last_letter,word in t:\n",
    "        res.append(word)\n",
    "    return res\n",
    "    \n",
    "\n",
    "\"\"\"\n",
    ">>> sort_by_last_letter(['Uma','Gwyn','Mary','Barney'])\n",
    "['Uma', 'Gwyn', 'Barney', 'Mary']\n",
    "\"\"\"\n",
    "if __name__ == \"__main__\":\n",
    "    import doctest\n",
    "    doctest.testmod()"
   ]
  },
  {
   "cell_type": "code",
   "execution_count": 66,
   "metadata": {
    "collapsed": false,
    "solution": "Exercise 12 sort"
   },
   "outputs": [
    {
     "name": "stdout",
     "output_type": "stream",
     "text": [
      "['thing', 'knickknack', 'item', 'object']\n",
      "['thing', 'knickknack', 'item', 'object']\n"
     ]
    }
   ],
   "source": [
    "def sort_by_last_letter(words): return [word[::-1] for word in sorted([word[::-1] for word in words])]\n",
    "\n",
    "stuff = ['thing', 'item', 'knickknack', 'object']\n",
    "\n",
    "print sort_by_last_letter(stuff)\n",
    "\n",
    "# ok, less confusing:\n",
    "\n",
    "def real_sort(words):\n",
    "    backwards = [word[::-1] for word in words]\n",
    "    sorted_words = sorted(backwards)\n",
    "    final_words = [word[::-1] for word in sorted_words]\n",
    "    return final_words\n",
    "\n",
    "print real_sort(stuff)"
   ]
  },
  {
   "cell_type": "code",
   "execution_count": 5,
   "metadata": {
    "collapsed": false,
    "solution": "Exercise 12 sort"
   },
   "outputs": [
    {
     "name": "stdout",
     "output_type": "stream",
     "text": [
      "['zzzzza', 'yyyyb', '012c', 'qpweojy']\n"
     ]
    }
   ],
   "source": [
    "def sort_by_last_letter(lst):\n",
    "    \"\"\"\n",
    "    >>> print (sort_by_last_letter(['qpweojy', 'zzzzza', 'yyyyb', '012c']))\n",
    "    ['zzzzza', 'yyyyb', '012c', 'qpweojy']\n",
    "    \"\"\"\n",
    "    newLst = sorted([(c[-1],c) for c in lst])\n",
    "    return [c[1] for c in newLst]\n",
    "\n",
    "print (sort_by_last_letter(['qpweojy', 'zzzzza', 'yyyyb', '012c']))"
   ]
  },
  {
   "cell_type": "code",
   "execution_count": 18,
   "metadata": {
    "collapsed": false,
    "solution": "Exercise 12 sort"
   },
   "outputs": [
    {
     "data": {
      "text/plain": [
       "TestResults(failed=0, attempted=13)"
      ]
     },
     "execution_count": 18,
     "metadata": {},
     "output_type": "execute_result"
    }
   ],
   "source": [
    "def sort_by_last_letter(words):\n",
    "    \"\"\"\n",
    "    >>> sort_by_last_letter(['gniraebrof','gniraedne','gniraef','gniraefdog','gniraeg','gniraeh','gniraeher'])\n",
    "    ['gniraedne', 'gniraef', 'gniraebrof', 'gniraeg', 'gniraefdog', 'gniraeh', 'gniraeher']\n",
    "    \"\"\"\n",
    "    for i in range(len(words)):\n",
    "        words[i] = words[i][::-1]\n",
    "    words.sort()\n",
    "    for i in range(len(words)):\n",
    "        words[i] = words[i][::-1]\n",
    "    return words\n",
    "\n",
    "\n",
    "import doctest\n",
    "doctest.testmod()"
   ]
  },
  {
   "cell_type": "code",
   "execution_count": 48,
   "metadata": {
    "collapsed": false,
    "solution": "Exercise 12 sort"
   },
   "outputs": [
    {
     "name": "stdout",
     "output_type": "stream",
     "text": [
      "['i', 'random', 'do', 'sentences', 'enjoy', 'why']\n",
      "['take', 'write', 'long', 'so', 'to', 'they']\n"
     ]
    }
   ],
   "source": [
    "def sort_by_last_letter(words):\n",
    "    t = []\n",
    "    for word in words:\n",
    "        t.append((word[-1], word))\n",
    "        \n",
    "    t.sort()\n",
    "    \n",
    "    res = []\n",
    "    for last_letter, word in t:\n",
    "        res.append(word)\n",
    "    return res\n",
    "\n",
    "print sort_by_last_letter(['why','do','i','enjoy','random','sentences'])\n",
    "print sort_by_last_letter(['they','take','so','long','to','write'])"
   ]
  },
  {
   "cell_type": "code",
   "execution_count": 13,
   "metadata": {
    "collapsed": false,
    "solution": "Exercise 12 sort"
   },
   "outputs": [
    {
     "data": {
      "text/plain": [
       "['asfdasfa', 'asd', 'afsvf']"
      ]
     },
     "execution_count": 13,
     "metadata": {},
     "output_type": "execute_result"
    }
   ],
   "source": [
    "def sort_by_last_letter(l):\n",
    "    t = []\n",
    "    for i in range(len(l)):\n",
    "        word = l[i]\n",
    "        t.append((word[-1],word))\n",
    "        t.sort()\n",
    "    res=[]\n",
    "    for last, word in t:\n",
    "        res.append(word)\n",
    "    return res\n",
    "sort_by_last_letter(['asd','afsvf','asfdasfa'])"
   ]
  },
  {
   "cell_type": "code",
   "execution_count": 6,
   "metadata": {
    "collapsed": false,
    "solution": "Exercise 12 sort"
   },
   "outputs": [
    {
     "name": "stdout",
     "output_type": "stream",
     "text": [
      "['goose', 'pig', 'duck', 'sheep', 'cow']\n",
      "['goodbye', 'boom', 'darn', 'hello', 'clap']\n"
     ]
    }
   ],
   "source": [
    "def sort_by_last_letter(words):\n",
    "    l = []\n",
    "    for word in words:\n",
    "        l.append((word[-1], word))\n",
    "    l.sort()\n",
    "    res = []\n",
    "    for last_letter, word in l:\n",
    "        res.append(word)\n",
    "    return res\n",
    "\n",
    "print sort_by_last_letter([\"pig\", \"cow\",\"duck\", \"goose\", \"sheep\"])\n",
    "print sort_by_last_letter([\"hello\", \"goodbye\", \"darn\", \"boom\", \"clap\"])\n",
    "    "
   ]
  },
  {
   "cell_type": "code",
   "execution_count": 37,
   "metadata": {
    "collapsed": false,
    "solution": "Exercise 12 sort"
   },
   "outputs": [],
   "source": [
    "def sort_by_last_letter(*wordlist):\n",
    "    \"\"\"\n",
    "    >>> sort_by_last_letter('banana', 'kabob', 'pizazz', 'tarmac')\n",
    "    ['banana', 'kabob', 'tarmac', 'pizazz']\n",
    "    \n",
    "    \n",
    "    \n",
    "    \"\"\"\n",
    "    t = []\n",
    "    for word in wordlist:\n",
    "        t.append((word[len(word)-1], word))\n",
    "    \n",
    "    t.sort()\n",
    "    \n",
    "    res = []\n",
    "    for letter, word in t:\n",
    "        res.append(word)\n",
    "    return res\n",
    "\n",
    "\n",
    "\n",
    "if __name__ == \"__main__\":\n",
    "    import doctest\n",
    "    doctest.testmod()\n",
    "\n"
   ]
  },
  {
   "cell_type": "code",
   "execution_count": 1,
   "metadata": {
    "collapsed": false,
    "solution": "Exercise 12 sort"
   },
   "outputs": [
    {
     "data": {
      "text/plain": [
       "TestResults(failed=0, attempted=2)"
      ]
     },
     "execution_count": 1,
     "metadata": {},
     "output_type": "execute_result"
    }
   ],
   "source": [
    "import doctest\n",
    "\n",
    "def sort_by_last_letter(words): \n",
    "    \n",
    "    \"\"\"\n",
    "    >>> sort_by_last_letter(['lilly', 'Quintec', 'Pretty', 'Maria'])\n",
    "    ['Maria', 'Quintec', 'Pretty', 'lilly']\n",
    "\n",
    "    >>> sort_by_last_letter(['Liv', 'Claire', 'James', 'Duncan'])\n",
    "    ['Claire', 'Duncan', 'James', 'Liv']\n",
    "    \"\"\"\n",
    "    \n",
    "    t = []\n",
    "    for word in words: \n",
    "        last_letter = word[-1]\n",
    "        t.append((last_letter, word))\n",
    "    \n",
    "        t.sort()\n",
    "               \n",
    "    res = []\n",
    "    for last_letter, word in t: \n",
    "        res.append(word)\n",
    "    return res \n",
    "\n",
    "sort_by_last_letter(['Liv', 'Claire', 'James', 'Duncan'])\n",
    "\n",
    "doctest.testmod()"
   ]
  },
  {
   "cell_type": "code",
   "execution_count": 19,
   "metadata": {
    "collapsed": false,
    "solution": "Exercise 12 sort"
   },
   "outputs": [],
   "source": [
    "def sort_by_last_letter(wordList):\n",
    "    \"\"\"\n",
    "    Takes a list of words and returns the list sorted by last letter\n",
    "    \n",
    "    >>> sort_by_last_letter([\"noodle\", \"oodle\", \"boop\"])\n",
    "    ['noodle', 'oodle', 'boop']\n",
    "    \n",
    "    >>> sort_by_last_letter([\"aa\", \"bb\", \"cc\", \"cd\", \"bd\"])\n",
    "    ['aa', 'bb', 'cc', 'bd', 'cd']\n",
    "    \"\"\"\n",
    "    t = []\n",
    "    for word in wordList:\n",
    "        t.append((word[-1], word))\n",
    "    #sort first value\n",
    "    t.sort()\n",
    "    \n",
    "    res = []\n",
    "    for last_letter, word in t:\n",
    "        res.append(word)\n",
    "    return res\n",
    "\n",
    "import doctest\n",
    "doctest.run_docstring_examples(sort_by_last_letter, globals())"
   ]
  },
  {
   "cell_type": "code",
   "execution_count": 26,
   "metadata": {
    "collapsed": false,
    "solution": "Exercise 12 sort"
   },
   "outputs": [],
   "source": [
    "\"\"\"\n",
    "    >>> sort_by_last_letter('purple', 'game', 'fun', 'dogs')\n",
    "    ['game', 'purple', 'fun', 'dogs']\n",
    "    \n",
    "    >>> sort_by_last_letter('ab', 'bfd', 'adfv', 'wretfbaw')\n",
    "    ['ab', 'bfd', 'adfv', 'wretfbaw']\n",
    "\n",
    "\"\"\"\n",
    "\n",
    "def sort_by_last_letter(*words):\n",
    "    t = []\n",
    "    for word in words:\n",
    "        t.append((word[-1], word))\n",
    "        \n",
    "    t.sort()\n",
    "    \n",
    "    res = []\n",
    "    for last_letter, word in t:\n",
    "        res.append(word)\n",
    "    return res\n",
    "\n",
    "if __name__ == \"__main__\":\n",
    "    import doctest"
   ]
  },
  {
   "cell_type": "code",
   "execution_count": 20,
   "metadata": {
    "collapsed": false,
    "solution": "Exercise 12 sort"
   },
   "outputs": [
    {
     "name": "stdout",
     "output_type": "stream",
     "text": [
      "['apple', 'hi', 'hello', 'apples']\n",
      "['a', 'b', 'c']\n"
     ]
    }
   ],
   "source": [
    "\n",
    "def sort_by_last_letter(*words):\n",
    "    sortList = []\n",
    "    for w in words:\n",
    "        sortList.append(''.join(w[i] for i in range(len(w)-1,-1,-1)))\n",
    "    sortList.sort()\n",
    "    newList = []\n",
    "    for w in sortList:\n",
    "        newList.append(''.join(w[i] for i in range(len(w)-1,-1,-1)))\n",
    "    return newList\n",
    "\n",
    "print sort_by_last_letter('hello','hi','apples','apple')\n",
    "print sort_by_last_letter('c','b','a')"
   ]
  },
  {
   "cell_type": "code",
   "execution_count": 14,
   "metadata": {
    "collapsed": false,
    "solution": "Exercise 12 sort"
   },
   "outputs": [],
   "source": [
    "def sort_by_last_letter(lisht):\n",
    "    \"\"\"sorts a list of strings alphabetically by their last letter\n",
    "    \n",
    "    >>>sort_by_last_letter(['abc','abd','babc','baba'])\n",
    "    ['baba', 'abc', 'babc', 'abd']\n",
    "    \"\"\"\n",
    "    t = [word[::-1] for word in lisht] #Decorate\n",
    "    t.sort() #Sort\n",
    "    return [result[::-1] for result in t] #Undecorate"
   ]
  },
  {
   "cell_type": "code",
   "execution_count": null,
   "metadata": {
    "collapsed": true,
    "solution": "Exercise 12 sort"
   },
   "outputs": [],
   "source": [
    "def sort_by_last_letter(words):\n",
    "    for item in words:\n",
    "        item[-1]\n",
    "    \n",
    "    \n",
    "    \n",
    "sort_by_last_letter([water, tea, milk])\n",
    "    \n"
   ]
  },
  {
   "cell_type": "code",
   "execution_count": 19,
   "metadata": {
    "collapsed": true,
    "solution": "Exercise 12 sort"
   },
   "outputs": [],
   "source": [
    "\"\"\"\n",
    ">>> sort_by_last_letter(['one','four','two'])\n",
    "['one','two','four']\n",
    "\"\"\"\n",
    "\n",
    "def sort_by_last_letter(low):\n",
    "    t = []\n",
    "    for word in low:\n",
    "        t.append((word[-1],word))\n",
    "    \n",
    "    t.sort()\n",
    "    \n",
    "    res = []\n",
    "    for character,word in t:\n",
    "        res.append(word)\n",
    "    return res\n",
    "    \n",
    "\n",
    "if __name__ == '__main__':\n",
    "    import doctest\n",
    "    doctest.testmod()"
   ]
  },
  {
   "cell_type": "code",
   "execution_count": 52,
   "metadata": {
    "collapsed": false,
    "solution": "Exercise 12 sort"
   },
   "outputs": [
    {
     "name": "stdout",
     "output_type": "stream",
     "text": [
      "['1a', 'kb']\n",
      "['banana', 'apple', 'orange', 'peach', 'blueberry']\n"
     ]
    }
   ],
   "source": [
    "def sort_by_last_letter(l):\n",
    "    t = []\n",
    "    for word in l:\n",
    "        t.append((word[-1], word))\n",
    "    t.sort(reverse = False)\n",
    "    \n",
    "    res = []\n",
    "    for item in t:\n",
    "        res.append(item[1])\n",
    "    return res\n",
    "    \n",
    "print sort_by_last_letter(['1a', 'kb'])\n",
    "print sort_by_last_letter(['apple', 'banana', 'orange', 'blueberry', 'peach'])"
   ]
  },
  {
   "cell_type": "code",
   "execution_count": 31,
   "metadata": {
    "collapsed": false,
    "solution": "Exercise 12 sort"
   },
   "outputs": [
    {
     "data": {
      "text/plain": [
       "['dog', 'fish', 'cat']"
      ]
     },
     "execution_count": 31,
     "metadata": {},
     "output_type": "execute_result"
    }
   ],
   "source": [
    "def sort_by_last_letter(words):\n",
    "    t = []\n",
    "    for word in words:\n",
    "        t.append((word[-1], word))\n",
    "    t.sort()\n",
    "    \n",
    "    res = []\n",
    "    for letter, word in t:\n",
    "        res.append(word)\n",
    "    return res\n",
    "\n",
    "sort_by_last_letter(['cat', 'dog', 'fish'])"
   ]
  },
  {
   "cell_type": "code",
   "execution_count": 69,
   "metadata": {
    "collapsed": false,
    "solution": "Exercise 12 sort"
   },
   "outputs": [],
   "source": [
    "def sort_by_last_letter(words):\n",
    "    \"\"\"\n",
    "\n",
    "    >>> words = 'swim', 'dance', 'pickle', 'happy'\n",
    "    >>> print sort_by_last_letter(words)\n",
    "    ['dance', 'pickle', 'swim', 'happy']\n",
    "    \n",
    "    >>> words = 'poop', 'icing', 'willem', 'scarf'\n",
    "    >>> print sort_by_last_letter(words)\n",
    "    ['scarf', 'icing', 'willem', 'poop']\n",
    "\n",
    "\n",
    "    \"\"\"\n",
    "\n",
    "\n",
    "    t = []\n",
    "    for word in words:\n",
    "        t.append((word[::-1], word))\n",
    "        \n",
    "    t.sort()\n",
    "    \n",
    "    res = []\n",
    "    for char, word in t:\n",
    "        res.append(word)\n",
    "    return res\n",
    "\n",
    "import doctest\n",
    "doctest.run_docstring_examples(sort_by_last_letter, globals())"
   ]
  },
  {
   "cell_type": "code",
   "execution_count": 29,
   "metadata": {
    "collapsed": false,
    "solution": "Exercise 12 sort"
   },
   "outputs": [
    {
     "data": {
      "text/plain": [
       "TestResults(failed=0, attempted=14)"
      ]
     },
     "execution_count": 29,
     "metadata": {},
     "output_type": "execute_result"
    }
   ],
   "source": [
    "def sort_by_last_letter(word_list):\n",
    "    ''' sorts words in word list by last letter\n",
    "    >>> sort_by_last_letter(['Write', 'unit', 'tests', 'for', 'your', 'function'])\n",
    "    ['Write', 'function', 'for', 'your', 'tests', 'unit']\n",
    "    '''\n",
    "    t = []\n",
    "    for word in word_list:\n",
    "        t.append((word[-1], word))\n",
    "    t.sort()\n",
    "        \n",
    "    words = []\n",
    "    \n",
    "    for word in t:\n",
    "        words.append(word[1])\n",
    "    return words\n",
    "\n",
    "import doctest\n",
    "doctest.testmod()"
   ]
  },
  {
   "cell_type": "code",
   "execution_count": 42,
   "metadata": {
    "collapsed": false,
    "solution": "Exercise 12 sort"
   },
   "outputs": [
    {
     "name": "stdout",
     "output_type": "stream",
     "text": [
      "['friend', 'be', 'i', 'can', 'your']\n"
     ]
    }
   ],
   "source": [
    "def backward(word):\n",
    "    return word[::-1]\n",
    "\n",
    "def sort_by_last_letter(words):\n",
    "    wards = []\n",
    "    for w in enumerate(words):\n",
    "        w = str(w[1])\n",
    "        w = backward(w)\n",
    "        wards.append(w)\n",
    "    wards.sort()\n",
    "    waards = []\n",
    "    for w in enumerate(wards):\n",
    "        w = str(w[1])\n",
    "        w = backward(w)\n",
    "        waards.append(w)\n",
    "    print waards\n",
    "\n",
    "sort_by_last_letter(['i','can','be','your','friend'])\n",
    "            \n",
    "            \n",
    "    \n",
    "        "
   ]
  },
  {
   "cell_type": "code",
   "execution_count": 28,
   "metadata": {
    "collapsed": false,
    "solution": "Exercise 12 sort"
   },
   "outputs": [
    {
     "data": {
      "text/plain": [
       "TestResults(failed=0, attempted=13)"
      ]
     },
     "execution_count": 28,
     "metadata": {},
     "output_type": "execute_result"
    }
   ],
   "source": [
    "def sort_by_last_letter(ls):\n",
    "    \"\"\"\n",
    "    Sorts a list of words by the last letter in the word, using the DSU\n",
    "    \n",
    "    >>> sort_by_last_letter(['boats', 'car', 'banana', 'crepe'])\n",
    "    ['banana', 'crepe', 'car', 'boats']\n",
    "    \n",
    "    >>> sort_by_last_letter(['do', 'bo', 'so'])\n",
    "    ['bo', 'do', 'so']\n",
    "    \"\"\"\n",
    "    \n",
    "    t=[]\n",
    "    for word in ls:\n",
    "        t.append((word[-1], word))\n",
    "    t.sort()\n",
    "    out = []\n",
    "    for tup in t:\n",
    "        out.append(tup[1])\n",
    "    return out\n",
    "\n",
    "doctest.testmod()"
   ]
  },
  {
   "cell_type": "code",
   "execution_count": 2,
   "metadata": {
    "collapsed": false,
    "solution": "Exercise 12 sort"
   },
   "outputs": [
    {
     "data": {
      "text/plain": [
       "TestResults(failed=0, attempted=1)"
      ]
     },
     "execution_count": 2,
     "metadata": {},
     "output_type": "execute_result"
    }
   ],
   "source": [
    "'''sorts a list of words alphabetically by the last letter in the word\n",
    "\n",
    ">>> sort_by_last_letter(['coffee', 'pants', 'shoes', 'orange'])\n",
    "['coffee', 'orange', 'pants', 'shoes']\n",
    "\n",
    "'''\n",
    "\n",
    "def sort_by_last_letter(words):\n",
    "    t = []\n",
    "    for word in words:\n",
    "        t.append((word[-1], word))\n",
    "    t.sort()\n",
    "    res = []\n",
    "    for last_letter, word in t:\n",
    "        res.append(word)\n",
    "    return res\n",
    "import doctest\n",
    "doctest.testmod()"
   ]
  },
  {
   "cell_type": "code",
   "execution_count": 23,
   "metadata": {
    "collapsed": false,
    "solution": "Exercise 12 sort"
   },
   "outputs": [],
   "source": [
    "def sort_by_last_letter(s):\n",
    "    \"\"\"\n",
    "    >>>s = [\"john\", \"jeremy\", \"cedric\"]\n",
    "    >>>sort_by_last_letter(s)\n",
    "    ['jeremy', 'john', 'cedric']\n",
    "    \n",
    "    \"\"\"\n",
    "    t = []\n",
    "    for word in s:\n",
    "        t.append((word[::-1], word))\n",
    "    \n",
    "    t.sort(reverse=True)\n",
    "    \n",
    "    res = []\n",
    "    for wordbackwards, word in t:\n",
    "        res.append(word)\n",
    "    return res\n",
    "    \n",
    "    "
   ]
  },
  {
   "cell_type": "code",
   "execution_count": 12,
   "metadata": {
    "collapsed": false,
    "solution": "Exercise 12 sort"
   },
   "outputs": [],
   "source": [
    "def sort_by_last_letter(words):\n",
    "    \"\"\"\n",
    "    Takes in a list of words, returns the list sorted by last letter.\n",
    "    \n",
    "    >>> sort_by_last_letter([\"apple\",\"banana\"])\n",
    "    ['banana', 'apple']\n",
    "    \"\"\"\n",
    "    t = []\n",
    "    for word in words:\n",
    "        t.append((word[-1],word))\n",
    "    \n",
    "    #tuples are sorted based on the first value of their first sequence\n",
    "    t.sort()\n",
    "    \n",
    "    res = []\n",
    "    for last_letter, word in t:\n",
    "        res.append(word)\n",
    "    return res\n",
    "\n",
    "import doctest\n",
    "doctest.run_docstring_examples(sort_by_last_letter, globals())\n",
    "    "
   ]
  },
  {
   "cell_type": "code",
   "execution_count": 34,
   "metadata": {
    "collapsed": false,
    "solution": "Exercise 12 sort"
   },
   "outputs": [
    {
     "name": "stdout",
     "output_type": "stream",
     "text": [
      "['aa', 'ba', 'ca', 'da']\n",
      "['a', 'is', 'this', 'doctest', 'not']\n"
     ]
    }
   ],
   "source": [
    "def sort_by_last_letter(words):\n",
    "    t = []\n",
    "    for word in words:\n",
    "        t.append((word[-1],word))\n",
    "\n",
    "    t.sort()\n",
    "    \n",
    "    res = []\n",
    "    for last_letter, word, in t:\n",
    "        res.append(word)\n",
    "    return res\n",
    "\n",
    "print sort_by_last_letter([\"ba\",\"ca\",\"da\",\"aa\"])\n",
    "print sort_by_last_letter([\"this\",\"is\",\"not\",\"a\",\"doctest\"])"
   ]
  },
  {
   "cell_type": "code",
   "execution_count": 57,
   "metadata": {
    "collapsed": false,
    "solution": "Exercise 12 sort"
   },
   "outputs": [
    {
     "name": "stdout",
     "output_type": "stream",
     "text": [
      "[('word', 'food'), 'mouse', 'dog', 'test']\n"
     ]
    }
   ],
   "source": [
    "def sort_by_last_letter(words):\n",
    "    Dwords = {}\n",
    "    for word in words:\n",
    "        if word[-1] in Dwords.keys():\n",
    "            Dwords[word[-1]] = (Dwords[word[-1]],word)\n",
    "        else:\n",
    "            Dwords[word[-1]]=word\n",
    "\n",
    "    return_words = []\n",
    "    for k in sorted(Dwords.keys()):\n",
    "        return_words.append(Dwords[k])\n",
    "    return return_words\n",
    "    \n",
    "print(sort_by_last_letter(['word','test','dog', \"mouse\", \"food\"]))\n",
    "\n",
    "    "
   ]
  },
  {
   "cell_type": "code",
   "execution_count": 45,
   "metadata": {
    "collapsed": false,
    "solution": "Exercise 12 sort"
   },
   "outputs": [
    {
     "data": {
      "text/plain": [
       "['mouse', 'dog', 'cat']"
      ]
     },
     "execution_count": 45,
     "metadata": {},
     "output_type": "execute_result"
    }
   ],
   "source": [
    "def sort_by_last_letter(*args):\n",
    "    tup = tuple()\n",
    "    d = {} #create dictionary\n",
    "    for s in args:\n",
    "        d[s[::-1]] = s #adds to dictionary\n",
    "        tup += (s[::-1],) #adds value to tuple\n",
    "    tup = sorted(tup) #sorts tuple alphabetically backwards, actually a list now\n",
    "    \n",
    "    list1 = []\n",
    "    for s in tup:\n",
    "        list1 += [d[s]]\n",
    "    return list1\n",
    "        \n",
    "\n",
    "sort_by_last_letter('dog', 'cat', 'mouse')"
   ]
  },
  {
   "cell_type": "code",
   "execution_count": 71,
   "metadata": {
    "collapsed": false,
    "solution": "Exercise 12 sort"
   },
   "outputs": [
    {
     "data": {
      "text/plain": [
       "TestResults(failed=0, attempted=10)"
      ]
     },
     "execution_count": 71,
     "metadata": {},
     "output_type": "execute_result"
    }
   ],
   "source": [
    "def sort_by_last_letter(words):\n",
    "    \"\"\"\n",
    "    >>> print sort_by_last_letter(['zzb', 'kwed', 'zzzza', 'c'])\n",
    "    ['zzzza', 'zzb', 'c', 'kwed']\n",
    "    >>> print sort_by_last_letter(['five', 'six', 'seven'])\n",
    "    ['five', 'seven', 'six']\n",
    "    \"\"\"\n",
    "    t = []\n",
    "    for word in words:\n",
    "        t.append((word[-1], word))\n",
    "    t.sort()\n",
    "    \n",
    "    result = []\n",
    "    for last_letter, word in t:\n",
    "        result.append(word)\n",
    "    return result\n",
    "\n",
    "import doctest\n",
    "doctest.testmod()"
   ]
  },
  {
   "cell_type": "code",
   "execution_count": 34,
   "metadata": {
    "collapsed": false,
    "solution": "Exercise 12 sort"
   },
   "outputs": [
    {
     "name": "stdout",
     "output_type": "stream",
     "text": [
      "['oh', 'hello', 'wut', 'why']\n",
      "['wua', 'whb', 'hellc', 'ox']\n"
     ]
    }
   ],
   "source": [
    "def sort_by_last_letter(mylist):\n",
    "    newlist = []\n",
    "    finallist = []\n",
    "    for i in range(len(mylist)):\n",
    "        newlist.append(mylist[i][::-1])\n",
    "    newlist = sorted(newlist)\n",
    "    for i in range(len(newlist)):\n",
    "        finallist.append(newlist[i][::-1])\n",
    "    return finallist\n",
    "print sort_by_last_letter([\"hello\", \"why\", \"wut\", \"oh\"])\n",
    "print sort_by_last_letter([\"hellc\", \"whb\", \"wua\", \"ox\"])  \n",
    "    "
   ]
  },
  {
   "cell_type": "code",
   "execution_count": 74,
   "metadata": {
    "collapsed": false,
    "solution": "Exercise 12 sort"
   },
   "outputs": [
    {
     "data": {
      "text/plain": [
       "['aaaa', 'orange', 'frog', 'rock', 'frankenstein', 'abcz']"
      ]
     },
     "execution_count": 74,
     "metadata": {},
     "output_type": "execute_result"
    }
   ],
   "source": [
    "def sort_by_last_letter(listofwords):\n",
    "    newlist = []\n",
    "    for word in listofwords:\n",
    "        newlist.append([word[len(word)-1], word])\n",
    "    newlist.sort()\n",
    "    res = []\n",
    "    for letter, word in newlist:\n",
    "        res.append(word)\n",
    "    return res\n",
    "\n",
    "sort_by_last_letter(['frankenstein','orange','frog','rock','abcz','aaaa'])"
   ]
  },
  {
   "cell_type": "code",
   "execution_count": 14,
   "metadata": {
    "collapsed": false,
    "solution": "Exercise 12 sort"
   },
   "outputs": [],
   "source": [
    "def sort_by_last_letter(words):\n",
    "    words_sort = []\n",
    "    for word in words:\n",
    "        words_sort.append((word[-1], word))\n",
    "\n",
    "    words_sort.sort()\n",
    "\n",
    "    words_sorted = []\n",
    "    for last_letter,word in words_sort:\n",
    "        words_sorted.append(word)\n",
    "    return words_sorted\n"
   ]
  },
  {
   "cell_type": "code",
   "execution_count": 65,
   "metadata": {
    "collapsed": false,
    "solution": "Exercise 12 sort"
   },
   "outputs": [
    {
     "data": {
      "text/plain": [
       "['shoe', 'fish', 'ass']"
      ]
     },
     "execution_count": 65,
     "metadata": {},
     "output_type": "execute_result"
    }
   ],
   "source": [
    "def sort_by_last_letter(*words):\n",
    "    t = []\n",
    "    for word in words:\n",
    "        t.append((word[-1],word))\n",
    "    t.sort()\n",
    "    res = []\n",
    "    for length, word in t:\n",
    "        res.append(word)\n",
    "    return res\n",
    "\n",
    "sort_by_last_letter('fish','shoe','ass')"
   ]
  },
  {
   "cell_type": "code",
   "execution_count": 17,
   "metadata": {
    "collapsed": false,
    "solution": "Exercise 12 sort"
   },
   "outputs": [
    {
     "data": {
      "text/plain": [
       "['a', 'are', 'these', 'of', 'bunch', 'words']"
      ]
     },
     "execution_count": 17,
     "metadata": {},
     "output_type": "execute_result"
    }
   ],
   "source": [
    "def sort_by_last_letter(l):\n",
    "    q = [x[::-1] for x in l]\n",
    "    q.sort()\n",
    "    return [x[::-1] for x in q]\n",
    "sort_by_last_letter(['these', 'are', 'a', 'bunch', 'of', 'words'])"
   ]
  },
  {
   "cell_type": "code",
   "execution_count": 25,
   "metadata": {
    "collapsed": false,
    "solution": "Exercise 12 sort"
   },
   "outputs": [
    {
     "name": "stdout",
     "output_type": "stream",
     "text": [
      "['beard', 'bug', 'blanket', 'wow', 'forty']\n"
     ]
    }
   ],
   "source": [
    "def sort_by_last_letter(words):\n",
    "    #first create alphabet dictionary\n",
    "    alphabet = 'abcdefghijklmnopqrstuvwxyz'\n",
    "    alph_dict = dict()\n",
    "    for i in range(len(alphabet)):\n",
    "        letter = alphabet[i]\n",
    "        alph_dict[letter] = i\n",
    "    \n",
    "    #decorate\n",
    "    tups = []\n",
    "    for word in words:\n",
    "        last_letter_index = alph_dict.get(word[-1])\n",
    "        tup.append((last_letter_index, word))\n",
    "    \n",
    "    #sort\n",
    "    tups.sort()\n",
    "    \n",
    "    #undecorate\n",
    "    res = []\n",
    "    for index, word in tups:\n",
    "        res.append(word)\n",
    "    \n",
    "    return res\n",
    "    \n",
    "        \n",
    "print sort_by_last_letter(['bug', 'forty', 'wow', 'blanket', 'beard'])"
   ]
  },
  {
   "cell_type": "code",
   "execution_count": 50,
   "metadata": {
    "collapsed": false,
    "solution": "Exercise 12 sort"
   },
   "outputs": [],
   "source": [
    "def sort_by_last_letter(*words):\n",
    "    \"\"\" \n",
    "    >>> sort_by_last_letter('computer', 'keyboard', 'desk', 'lamp')\n",
    "    ['keyboard', 'desk', 'lamp', 'computer']\n",
    "    >>> sort_by_last_letter('gold','blue','silver','pink','grey')\n",
    "    ['gold', 'blue', 'pink', 'silver', 'grey']\n",
    "    >>> sort_by_last_letter('metal','glass','wood','plastic','paper')\n",
    "    ['plastic', 'wood', 'metal', 'paper', 'glass']\n",
    "    \"\"\"\n",
    "    t = []\n",
    "    for word in words:\n",
    "        t.append((word[-1], word))\n",
    "    t.sort()\n",
    "    res = []\n",
    "    for letter,word in t:\n",
    "        res.append(word)\n",
    "    return res\n",
    "if __name__ == '__main__':\n",
    "    import doctest\n",
    "    doctest.testmod()"
   ]
  },
  {
   "cell_type": "code",
   "execution_count": 5,
   "metadata": {
    "collapsed": false,
    "solution": "Exercise 12 sort"
   },
   "outputs": [],
   "source": [
    "def sort_by_last_letter(words):\n",
    "    \n",
    "    \"\"\"\n",
    "    sorts a list of words alphabetically by the last letter in the word\n",
    "    \n",
    "    >>> sort_by_last_letter(['aa', 'zz', 'cc', 'dd', 'bb'])\n",
    "    ['aa', 'bb', 'cc', 'dd', 'zz']\n",
    "    \n",
    "    >>> sort_by_last_letter(['deb', 'jon', 'hello', 'cheese'])\n",
    "    ['deb', 'cheese', 'jon', 'hello']\n",
    "    \"\"\"\n",
    "    temp = []\n",
    "    \n",
    "    for word in words:\n",
    "        temp.append(word[-1],word)\n",
    "    \n",
    "    temp.sort(reverse=True)\n",
    "    \n",
    "    result = []\n",
    "    \n",
    "    for endLetter, word in temp:\n",
    "        result.append(word)\n",
    "    return result\n",
    "    "
   ]
  },
  {
   "cell_type": "code",
   "execution_count": 73,
   "metadata": {
    "collapsed": false,
    "solution": "Exercise 12 sort"
   },
   "outputs": [
    {
     "name": "stdout",
     "output_type": "stream",
     "text": [
      "[('b', 'bob'), ('e', 'tree'), ('s', 'chess'), ('t', 'ant')]\n"
     ]
    },
    {
     "data": {
      "text/plain": [
       "['bob', 'tree', 'chess', 'ant']"
      ]
     },
     "execution_count": 73,
     "metadata": {},
     "output_type": "execute_result"
    }
   ],
   "source": [
    "def sort_by_last_letter(a):\n",
    "    \"\"\"\n",
    "    >>>sort_by_last_letter(['bob','ant','tree','chess'])\n",
    "    ['bob', 'tree', 'chess', 'ant']\n",
    "    \"\"\"\n",
    "    b = []\n",
    "    for x in a:\n",
    "        b.append((x[-1],x))\n",
    "        \n",
    "    b.sort()\n",
    "    \n",
    "    a= []\n",
    "    for x,y in b:\n",
    "        a.append(y)\n",
    "    return a\n",
    "\n",
    "sort_by_last_letter(['bob','ant','tree','chess'])"
   ]
  },
  {
   "cell_type": "code",
   "execution_count": 14,
   "metadata": {
    "collapsed": false,
    "solution": "Exercise 12 sort"
   },
   "outputs": [
    {
     "name": "stdout",
     "output_type": "stream",
     "text": [
      "['are', 'hello', 'you', 'how']\n",
      "[]\n"
     ]
    }
   ],
   "source": [
    "def sort_by_last_letter(old):\n",
    "    new = []\n",
    "    for word in old:\n",
    "        new.append(word[::-1])\n",
    "    new = sorted(new)\n",
    "    for i in range(len(new)):\n",
    "        new[i] = new[i][::-1]\n",
    "    return new\n",
    "l = ['hello', 'how', 'are', 'you']\n",
    "print(sort_by_last_letter(l))\n",
    "print(sort_by_last_letter([]))"
   ]
  },
  {
   "cell_type": "code",
   "execution_count": 101,
   "metadata": {
    "collapsed": false,
    "solution": "Exercise 12 sort"
   },
   "outputs": [
    {
     "name": "stdout",
     "output_type": "stream",
     "text": [
      "['aaa', 'aaefg', 'az']\n"
     ]
    }
   ],
   "source": [
    "def sort_by_last_letter(words):\n",
    "    \"\"\"\n",
    "    >>> sort_by_last_letter(['abz', 'def', 'hia'])\n",
    "    ['hia', 'def', 'abz']\n",
    "    \"\"\"\n",
    "    reverse_words = []\n",
    "    for i in words:\n",
    "        reverse_words.append(i[::-1])\n",
    "        \n",
    "    reverse_words.sort()\n",
    "    \n",
    "    answer = []\n",
    "    for i in reverse_words:\n",
    "        answer.append(i[::-1])\n",
    "        \n",
    "    return answer\n",
    "\n",
    "print sort_by_last_letter(['az', 'aaefg', 'aaa'])"
   ]
  },
  {
   "cell_type": "code",
   "execution_count": null,
   "metadata": {
    "collapsed": false,
    "solution": "Exercise 12 sort"
   },
   "outputs": [],
   "source": [
    "def sort_by_last_letter(words):\n",
    "    words_list = []\n",
    "    for word in words:\n",
    "        words.append((word[len(word)-1], word))\n",
    "    words_list.sort()\n",
    "    words_sorted = []\n",
    "    for word in words_list:\n",
    "        words_sorted.append(word)\n",
    "    return words_sorted\n",
    "print 'hi'\n",
    "print sort_by_last_letter(['cat', 'fred', 'albuqurque'])"
   ]
  },
  {
   "cell_type": "code",
   "execution_count": 18,
   "metadata": {
    "collapsed": false,
    "solution": "Exercise 12 sort"
   },
   "outputs": [
    {
     "name": "stdout",
     "output_type": "stream",
     "text": [
      "['World', 'are', 'we', 'sorting', 'Hello', 'letter', 'last', 'by', 'today']\n"
     ]
    }
   ],
   "source": [
    "def sort_by_last_letter(list_of_words):\n",
    "    # Decorate\n",
    "    dec = []\n",
    "    for word in list_of_words:\n",
    "        dec.append((word[-1], word))\n",
    "    \n",
    "    # Sort\n",
    "    dec.sort()\n",
    "    \n",
    "    # Undecorate\n",
    "    res = []\n",
    "    for lastLetter, word in dec:\n",
    "        res.append(word)\n",
    "    \n",
    "    return res\n",
    "\n",
    "print sort_by_last_letter('Hello World today we are sorting by last letter'.split()) # That split makes me feel pretty sexy\n",
    "    "
   ]
  },
  {
   "cell_type": "code",
   "execution_count": 87,
   "metadata": {
    "collapsed": false,
    "solution": "Exercise 12 sort"
   },
   "outputs": [],
   "source": [
    "def sort_by_last_letter(n):\n",
    "    \"\"\"\n",
    "    Function that takes a list of words and returns a new list in alphabetical for, by last letter\n",
    "    \n",
    ">>> sort_by_last_letter([\"abc\", \"bcd\"])\n",
    "['abc', 'bcd']\n",
    ">>> sort_by_last_letter([\"bcd\", \"bcb\"])\n",
    "['bcb', 'bcd']\n",
    ">>> sort_by_last_letter([])\n",
    "[]\n",
    "\"\"\"\n",
    "    info_tuples = []\n",
    "    for word in n:\n",
    "        info_tuples.append((word[-1], word))\n",
    "    info_tuples.sort()\n",
    "    res = []\n",
    "    for letter, word in info_tuples:\n",
    "        res.append(word)\n",
    "    return res\n",
    "\n",
    "\n",
    "import doctest\n",
    "doctest.run_docstring_examples(sort_by_last_letter, globals())        "
   ]
  },
  {
   "cell_type": "markdown",
   "metadata": {
    "is_question": true,
    "problem": "Exercise 12.3"
   },
   "source": [
    "### Exercise 3  \n",
    "\n",
    "Write a function called `most_frequent` that takes a string and prints the letters in decreasing order of frequency. Find text samples from several different languages and see how letter frequency varies between languages. Compare your results with the tables at http://en.wikipedia.org/wiki/Letter_frequencies. \n",
    "\n",
    "Allen's solution (try it on your own first): http://thinkpython.com/code/most_frequent.py. "
   ]
  },
  {
   "cell_type": "code",
   "execution_count": 108,
   "metadata": {
    "collapsed": false,
    "solution": "Exercise 12.3"
   },
   "outputs": [
    {
     "name": "stdout",
     "output_type": "stream",
     "text": [
      "[(3, 'a'), (2, 'n'), (1, 'b')]\n"
     ]
    }
   ],
   "source": [
    "def most_frequent(s):\n",
    "    d = dict()\n",
    "    letters = []\n",
    "    i = 0\n",
    "    \n",
    "    while i < len(s):\n",
    "        letters.append(s[i])\n",
    "        i+=1\n",
    "    letters.sort()\n",
    "    \n",
    "    i=0 #reset index\n",
    "    while i <len(letters):\n",
    "        letter = letters[i]\n",
    "        if letters[i] not in d:\n",
    "            d[letter] = 1\n",
    "        else:\n",
    "            d[letter] +=1\n",
    "        i+=1\n",
    "\n",
    "    #print d\n",
    "    \n",
    "    new_d = zip(d.values(), d.keys())\n",
    "    \n",
    "    new_d.sort()\n",
    "    \n",
    "    print new_d[::-1]\n",
    "    \n",
    "    \n",
    "\n",
    "    \n",
    "most_frequent('banana')"
   ]
  },
  {
   "cell_type": "code",
   "execution_count": null,
   "metadata": {
    "collapsed": false,
    "solution": "Exercise 12.3"
   },
   "outputs": [],
   "source": [
    "def most_frequent(text):\n",
    "    d = dict()\n",
    "    for letter in text:\n",
    "        if letter not in d:\n",
    "            d[letter] = 1\n",
    "        else:\n",
    "            d[letter] += 1\n",
    "    \n",
    "    t = []\n",
    "    for key in d:\n",
    "        t.append((d[key],key))\n",
    "    \n",
    "    t.sort(reverse=True)\n",
    "    \n",
    "    for freq, letter in t:\n",
    "        print letter,\n",
    "        \n",
    "text = \"\"\n",
    "fin = open('pride_and_prejudice.txt') #Pride and Prejudice from Project Gutenberg\n",
    "for line in fin:\n",
    "    text += line.strip().lower()\n",
    "\n",
    "most_frequent(text)\n",
    "print\n",
    "\n",
    "french_text = \"\"\n",
    "fin = open('french_text.txt')\n",
    "for line in fin:\n",
    "    french_text += line.strip().lower()\n",
    "most_frequent(french_text)"
   ]
  },
  {
   "cell_type": "code",
   "execution_count": 95,
   "metadata": {
    "collapsed": false,
    "solution": "Exercise 12.3"
   },
   "outputs": [
    {
     "name": "stdout",
     "output_type": "stream",
     "text": [
      "Finding tests in NoName\n",
      "Trying:\n",
      "    most_frequent('test')\n",
      "Expecting:\n",
      "    ['t', 's', 'e']\n",
      "ok\n",
      "Trying:\n",
      "    most_frequent('sequences')\n",
      "Expecting:\n",
      "    ['e', 's', 'u', 'q', 'n', 'c']\n",
      "ok\n"
     ]
    }
   ],
   "source": [
    "def most_frequent(string):\n",
    "    \"\"\" prints the letters of a string in decreasing order of frequency\n",
    "        >>> most_frequent('test')\n",
    "        ['t', 's', 'e']\n",
    "        >>> most_frequent('sequences')\n",
    "        ['e', 's', 'u', 'q', 'n', 'c']\n",
    "        \"\"\"\n",
    "    lst = []\n",
    "    hist = histogram(string)\n",
    "    for letter,number in hist.iteritems():\n",
    "        lst.append((number,letter))\n",
    "    lst.sort(reverse=True)\n",
    "    res = []\n",
    "    for number,letter in lst:\n",
    "        res.append(letter)\n",
    "    return res\n",
    "\n",
    "if __name__ == \"__main__\":\n",
    "    import doctest\n",
    "    doctest.run_docstring_examples(most_frequent,globals(), verbose=True)"
   ]
  },
  {
   "cell_type": "code",
   "execution_count": 20,
   "metadata": {
    "collapsed": false,
    "solution": "Exercise 12.3"
   },
   "outputs": [
    {
     "data": {
      "text/plain": [
       "['e', 'd', 'c', 'b', 'a']"
      ]
     },
     "execution_count": 20,
     "metadata": {},
     "output_type": "execute_result"
    }
   ],
   "source": [
    "def most_frequent(s):\n",
    "    \"\"\"Prints letters of string in decreasing order of frequency\n",
    "    >>> most_frequent('abbcccddddeeeee')\n",
    "    ['e', 'd', 'c', 'b', 'a']\n",
    "    >>> most_frequent('aaaaaaaaabbbbbcc')\n",
    "    ['a', 'b', 'c']\n",
    "    \"\"\"\n",
    "    \n",
    "    hist = make_histogram(s)\n",
    "    \n",
    "    t = []\n",
    "    for x, freq in hist.iteritems():\n",
    "        t.append((freq, x))\n",
    "        \n",
    "    t.sort(reverse=True)\n",
    "    \n",
    "    res = []\n",
    "    for freq, x in t:\n",
    "        res.append(x)\n",
    "    \n",
    "    return res\n",
    "\n",
    "def make_histogram(s):\n",
    "    \n",
    "    hist = {}\n",
    "    for x in s:\n",
    "        hist[x] = hist.get(x, 0) + 1\n",
    "    return hist\n",
    "\n",
    "if __name__ == \"__main__\":\n",
    "    import doctest\n",
    "    doctest.testmod()\n",
    "\n",
    "s = 'abbcccddddeeeee'\n",
    "most_frequent(s)"
   ]
  },
  {
   "cell_type": "code",
   "execution_count": 36,
   "metadata": {
    "collapsed": false,
    "solution": "Exercise 12.3"
   },
   "outputs": [
    {
     "name": "stdout",
     "output_type": "stream",
     "text": [
      "Finding tests in NoName\n",
      "Trying:\n",
      "    most_frequent('Im a chicken')\n",
      "Expecting:\n",
      "    i c n m k h e a\n",
      "ok\n",
      "Trying:\n",
      "    most_frequent('')\n",
      "Expecting nothing\n",
      "ok\n",
      "Trying:\n",
      "    most_frequent('abcdefg')\n",
      "Expecting:\n",
      "    g f e d c b a\n",
      "ok\n",
      "\n",
      "i n c a t m k h g e \n",
      "n i e h u s r m \n",
      "o n l i g u t p m e a \n",
      "u t n � � p o m l i g e a\n"
     ]
    }
   ],
   "source": [
    "def most_frequent(string):\n",
    "    \"\"\"\n",
    "    This method sorts a string by decreasing order of frequency. It uses both DSU and the get method.\n",
    "    One thing I found I couldn't stop is that if the frequencies are the same, then it will still display the letters in reverse order\n",
    "    \n",
    "    In any case, here are some doctests to show functionality, bigger strings got too complicated to try and figure out.\n",
    "    \n",
    "    >>> most_frequent('Im a chicken')\n",
    "    i c n m k h e a\n",
    "    >>> most_frequent('')\n",
    "    \n",
    "    >>> most_frequent('abcdefg')\n",
    "    g f e d c b a\n",
    "    \"\"\"\n",
    "    string1 = string.replace(\" \", \"\").lower()\n",
    "    d = {}\n",
    "    for letter in string1:\n",
    "        d[letter] = d.get(letter,0) + 1\n",
    "    t = []\n",
    "    for letter in d:\n",
    "        t.append((d[letter],letter))\n",
    "    t.sort(reverse=True)\n",
    "    for freq, letter in t:\n",
    "        print letter,\n",
    "        \n",
    "import doctest   \n",
    "doctest.run_docstring_examples(most_frequent, globals(),verbose=True)\n",
    "\n",
    "print \"\"\n",
    "\n",
    "most_frequent(\"Im a giant chicken\")\n",
    "print \"\"\n",
    "most_frequent('im ein RiesenHuhn') #German\n",
    "print \"\"\n",
    "most_frequent('im un pollo gigante') #Spanish\n",
    "print \"\"\n",
    "most_frequent(\"im un poulet géant\") #French,  IDK what to do when letters get weird."
   ]
  },
  {
   "cell_type": "code",
   "execution_count": 23,
   "metadata": {
    "collapsed": false,
    "solution": "Exercise 12.3"
   },
   "outputs": [
    {
     "name": "stdout",
     "output_type": "stream",
     "text": [
      "o\n",
      "l\n",
      "h\n",
      "e\n"
     ]
    },
    {
     "data": {
      "text/plain": [
       "['o', 'l', 'h', 'e']"
      ]
     },
     "execution_count": 23,
     "metadata": {},
     "output_type": "execute_result"
    }
   ],
   "source": [
    "def most_frequent(s):\n",
    "    \"\"\"prints characters (and returns list of characters) in decreasing order based on frequency of appearances in a string\"\"\"\n",
    "    d = {}\n",
    "    for c in s:\n",
    "        d[c] = d.get(c, 0)+1\n",
    "    charList = []\n",
    "    for char in d:\n",
    "        charList.append((d[char], char))\n",
    "    charList.sort(reverse=True)\n",
    "    rtrn = []\n",
    "    for frequency, char in charList:\n",
    "        rtrn.append(char)\n",
    "        print char\n",
    "    return rtrn\n",
    "\n",
    "most_frequent('hellooo')"
   ]
  },
  {
   "cell_type": "code",
   "execution_count": 77,
   "metadata": {
    "collapsed": false,
    "solution": "Exercise 12.3"
   },
   "outputs": [
    {
     "data": {
      "text/plain": [
       "TestResults(failed=0, attempted=14)"
      ]
     },
     "execution_count": 77,
     "metadata": {},
     "output_type": "execute_result"
    }
   ],
   "source": [
    "def histogram(s):\n",
    "    \"\"\"\n",
    "    >>> histogram('brontosaurus')\n",
    "    {'a': 1, 'b': 1, 'o': 2, 'n': 1, 's': 2, 'r': 2, 'u': 2, 't': 1}\n",
    "    \"\"\"\n",
    "    d = dict()\n",
    "    for c in s:\n",
    "        d[c] = d.get(c, 0) + 1\n",
    "    return d\n",
    "\n",
    "def mostFrequent(string):\n",
    "    \"\"\"\n",
    "    >>> mostFrequent('see')\n",
    "    ['e', 's']\n",
    "    \"\"\"\n",
    "    d = histogram(string)\n",
    "    freqs = []\n",
    "    for i in d:\n",
    "        freqs.append((d[i], i))\n",
    "    \n",
    "    freqs.sort(reverse=True)\n",
    "    \n",
    "    res = []\n",
    "    for freq, letter in freqs:\n",
    "        res.append(letter)\n",
    "    return res\n",
    "    \n",
    "    \n",
    "import doctest\n",
    "doctest.testmod()"
   ]
  },
  {
   "cell_type": "code",
   "execution_count": 20,
   "metadata": {
    "collapsed": false,
    "solution": "Exercise 12.3"
   },
   "outputs": [
    {
     "name": "stdout",
     "output_type": "stream",
     "text": [
      "s 4\n",
      "u 2\n",
      "o 2\n",
      "i 2\n",
      "a 1\n"
     ]
    }
   ],
   "source": [
    "def histogram(s):\n",
    "    d = dict()    \n",
    "    for c in s:\n",
    "        d[c]=d.get(c,0)+1\n",
    "    return d \n",
    "\n",
    "def most_frequent(s):\n",
    "    d=histogram(s)\n",
    "    t=d.items() #t is a list of tuples \n",
    "    for index,pair in enumerate(t):\n",
    "        t[index]=(pair[1],pair[0])\n",
    "    \n",
    "    t.sort(reverse=True)\n",
    "    for pair in t:\n",
    "        print pair[1],pair[0]\n",
    "    \n",
    "most_frequent('ssssooiiuua')"
   ]
  },
  {
   "cell_type": "code",
   "execution_count": 28,
   "metadata": {
    "collapsed": false,
    "solution": "Exercise 12.3"
   },
   "outputs": [],
   "source": [
    "def most_frequent(s):\n",
    "    \"\"\"\n",
    "    takes a string and prints letters in decreasing order of frequency\n",
    "    \n",
    "    >>> most_frequent(\"apple\")\n",
    "    ['p', 'l', 'e', 'a']\n",
    "    \n",
    "    >>> most_frequent(\"manzana\")\n",
    "    ['a', 'n', 'z', 'm']\n",
    "    \n",
    "    >>> most_frequent(\"pomme\")\n",
    "    ['m', 'p', 'o', 'e']\n",
    "    \n",
    "    >>> most_frequent(\"eat apples\")\n",
    "    ['p', 'e', 'a', 't', 's', 'l']\n",
    "    \"\"\"\n",
    "    s = s.replace(' ', '')\n",
    "    d = {}\n",
    "    for c in s:\n",
    "        d[c] = d.get(c,0) + 1\n",
    "\n",
    "    sort_d = []\n",
    "    for x, freq in d.items():\n",
    "        sort_d.append((freq, x))\n",
    "        \n",
    "    sort_d.sort(reverse = True)\n",
    "    \n",
    "    res_d = []\n",
    "    for freq, x in sort_d:\n",
    "        res_d.append(x)\n",
    "    return res_d\n",
    "\n",
    "import doctest\n",
    "doctest.run_docstring_examples(most_frequent, globals())\n"
   ]
  },
  {
   "cell_type": "code",
   "execution_count": 87,
   "metadata": {
    "collapsed": false,
    "solution": "Exercise 12.3"
   },
   "outputs": [
    {
     "name": "stdout",
     "output_type": "stream",
     "text": [
      "['e', 't', 'r', 'a', 's', 'n', 'l', 'i', 'f', 'u', 'o', 'd', 'g', 'c', 'h', 'w', 'm', 'y', 'q', 'p', 'v', 'b', 'x', 'k']\n",
      "['e', 'r', 'o', 'a', 'c', 's', 'n', 't', 'p', 'i', '\\xc3', 'd', '\\xad', 'b', '\\xa9', 'u', 'q', 'm', 'l', 'g']\n"
     ]
    }
   ],
   "source": [
    "def most_frequent(s):\n",
    "    #getting rid of certain cases (not all, I know)\n",
    "    s = s.replace(\" \", \"\")\n",
    "    s = s.replace('_','')\n",
    "    s = s.replace('.','')\n",
    "    s = s.replace(',','')\n",
    "    #making sure upper letters count towards letter count\n",
    "    s = s.lower()\n",
    "    #now we can actually get started\n",
    "    t= []\n",
    "    d = dict()\n",
    "    for c in s:\n",
    "        d[c] = d.get(c,0) + 1\n",
    "    for letter in d:\n",
    "        frequency = d[letter]\n",
    "        t.append((frequency,letter))\n",
    "    t.sort(reverse = True)\n",
    "    res = []\n",
    "    for frequency,letter in t:\n",
    "        res.append(letter)\n",
    "    return res    \n",
    "    \n",
    "    \n",
    "print most_frequent('Write a function called most_frequent that takes a string and prints the letters in decreasing order of frequency. Find text samples from several different languages and see how letter frequency varies between languages. Compare your results with the tables at ')\n",
    "print most_frequent('Pero te sorprendería saber que Corea del Norte es conocido también por creaciones artísticas por encargo.')\n",
    "#I took very small samples, but they seem pretty similar.\n",
    "#'e', 't', 'a' are the three most common letters in English,\n",
    "#and my function returns those in the top 3 (for English)\n",
    "#'e', 'a', 'o' are the three most common letters in Spanish,\n",
    "#and again, my function returns those in the top 3. So based on these,\n",
    "#very small samples, I'd say it's working pretty well\n",
    "\n",
    "\"\"\" Only really feasible to unit test it with a small string\n",
    ">>> most_frequent('aaabcc') \n",
    "['a', 'c', 'b']\n",
    "\"\"\"\n",
    "if __name__ == \"__main__\":\n",
    "    import doctest\n",
    "    doctest.testmod()"
   ]
  },
  {
   "cell_type": "code",
   "execution_count": 65,
   "metadata": {
    "collapsed": false,
    "solution": "Exercise 12.3"
   },
   "outputs": [
    {
     "name": "stdout",
     "output_type": "stream",
     "text": [
      "p\n",
      "e\n",
      "a\n",
      "i\n",
      "l\n",
      "n\n",
      "\n",
      "p\n",
      "e\n",
      "a\n",
      "i\n",
      "l\n",
      "n\n"
     ]
    }
   ],
   "source": [
    "most_frequent = lambda string: __import__('sys', globals(), locals(), [], 0).stdout.write('\\n'.join(sorted({x: string.count(x) for x in set(string)}.keys(), key=lambda x: {x: string.count(x) for x in set(string)}[x], reverse=True)))\n",
    "\n",
    "most_frequent('pineapple')\n",
    "\n",
    "# but actually\n",
    "\n",
    "print '\\n'\n",
    "\n",
    "def real_most_frequent(string):\n",
    "    hist = histogram(string)\n",
    "    keys = hist.keys() # list of different letters\n",
    "    sorted_list = sorted(keys, key=lambda x: hist[x], reverse=True) # sort keys by corresponding value, in descending order\n",
    "    for x in sorted_list: \n",
    "        print x\n",
    "\n",
    "real_most_frequent('pineapple')"
   ]
  },
  {
   "cell_type": "code",
   "execution_count": 6,
   "metadata": {
    "collapsed": false,
    "solution": "Exercise 12.3"
   },
   "outputs": [
    {
     "name": "stdout",
     "output_type": "stream",
     "text": [
      "gfedcba\n"
     ]
    }
   ],
   "source": [
    "def most_frequent(s):\n",
    "    \"\"\"\n",
    "    >>> print most_frequent('abfcdeeffgggggg')\n",
    "    gfedcba\n",
    "    \"\"\"\n",
    "    d = dict()\n",
    "    for c in s:\n",
    "        d[c] = d.get(c,0)+1 #t his populates d with (letter, frequency) pairs\n",
    "    flippedLst = [(d[k],k) for k in d] #t his generates a new list with (frequency, letter) pairs for easy sorting\n",
    "    return \"\".join([c[1] for c in sorted(flippedLst)[::-1]]) # this takes the letters in sorted flippedLst and prints them\n",
    "\n",
    "print most_frequent('abfcdeeffgggggg')"
   ]
  },
  {
   "cell_type": "code",
   "execution_count": 36,
   "metadata": {
    "collapsed": false,
    "solution": "Exercise 12.3"
   },
   "outputs": [
    {
     "name": "stdout",
     "output_type": "stream",
     "text": [
      "\n",
      "Latin:\n",
      "e i t s u n a r o l m c p d v b g q f h x j \n",
      "English:\n",
      "e t a s n i o r h w l m d y c f u p v g k x b � q \n",
      "Spanish:\n",
      "a e r u c l p o n t m i g d y s q h b\n"
     ]
    }
   ],
   "source": [
    "def most_frequent(s):\n",
    "    \"\"\"\n",
    "    >>> most_frequent(\"mississippi\")\n",
    "    s i p m\"\"\"\n",
    "    chars = []\n",
    "    s = s.lower()\n",
    "    for i in range(0, len(s)):\n",
    "        if not s[i] in \" .,;'?!-–\":\n",
    "            c = s[i]\n",
    "            chars.append((s.count(c), c))\n",
    "            s = s.replace(c,\" \")\n",
    "    chars.sort(reverse=True)\n",
    "    for t in chars:\n",
    "        print t[1],\n",
    "        \n",
    "\n",
    "import doctest\n",
    "doctest.testmod()\n",
    "\n",
    "print \"\\nLatin:\"\n",
    "most_frequent(\"Lorem ipsum dolor sit amet, consectetur adipiscing elit. Duis pellentesque, magna fringilla venenatis laoreet, diam purus tempor nisi, sit amet euismod sapien nunc non tortor. Sed aliquet tellus justo, vestibulum pharetra ex varius vel. Morbi pharetra nisi eu auctor cursus. Nullam sit amet tortor a arcu ornare consectetur. Nulla dapibus risus velit, eu finibus metus elementum id. In semper ante id leo tincidunt, sit amet vestibulum orci imperdiet. Nam non consequat magna, in convallis ipsum. Vestibulum in lacus et odio posuere dapibus. Ut eleifend felis orci, quis porta lectus dignissim non.\")\n",
    "print \"\\nEnglish:\"\n",
    "most_frequent(\"My mother drove me to the airport with the windows rolled down. It was seventy-five degrees in Phoenix, the sky a perfect, cloudless blue. I was wearing my favorite shirt – sleeveless, white eyelet lace; I was wearing it as a farewell gesture. My carry-on item was a parka.In the Olympic Peninsula of northwest Washington State, a small town named Forks exists under a near-constant cover of clouds. It rains on this inconsequential town more than any other place in the United States of America. It was from this town and its gloomy, omnipresent shade that my mother escaped with me when I was only a few months old. It was in this town that I’d been compelled to spend a month every summer until I was fourteen. That was the year I finally put my foot down; these past three summers, my dad, Charlie, vacationed with me in California for two weeks instead.\")\n",
    "print \"\\nSpanish:\"\n",
    "most_frequent(\"Dale a tu cuerpo alegria Macarena Que tu cuerpo es pa' darle alegria y cosa buena Dale a tu cuerpo alegria, Macarena Hey Macarena Dale a tu cuerpo alegria Macarena Que tu cuerpo es pa' darle alegria y cosa buena Dale a tu cuerpo alegria, Macarena Hey Macarena\")"
   ]
  },
  {
   "cell_type": "code",
   "execution_count": 30,
   "metadata": {
    "collapsed": false,
    "solution": "Exercise 12.3"
   },
   "outputs": [
    {
     "name": "stdout",
     "output_type": "stream",
     "text": [
      "English   German    Spanish   \n",
      "e 29      e 74      o 47\n",
      "a 24      n 50      a 42\n",
      "n 21      i 42      e 34\n",
      "i 20      u 32      s 29\n",
      "t 16      h 32      r 27\n",
      "r 16      s 28      i 20\n",
      "s 14      r 28      l 19\n",
      "l 13      a 26      c 18\n",
      "m 11      t 20      � 15\n",
      "u 9       c 19      p 14\n",
      "d 9       d 17      u 13\n",
      "c 9       l 16      d 13\n",
      "y 8       b 13      y 10\n",
      "o 8       m 12      t 10\n",
      "h 7       z 10      m 10\n",
      "g 7       g 9       n 9\n",
      "v 5       � 7       v 7\n",
      "f 4       w 5       h 6\n",
      "b 4       o 5       q 4\n",
      "� 2       f 5       b 4\n"
     ]
    }
   ],
   "source": [
    "def histogram(s):\n",
    "    d = dict()\n",
    "    s = s.lower()\n",
    "    for c in s:\n",
    "        d[c] = d.get(c,0) + 1\n",
    "    return d\n",
    "\n",
    "def most_frequent(text):\n",
    "    s = histogram(text)\n",
    "    to_sort = []\n",
    "    result = []\n",
    "    for x, number in s.items():\n",
    "        if x not in \"',.!?:;( )& \":\n",
    "            to_sort.append((number,x))\n",
    "    \n",
    "    to_sort.sort(reverse=True)\n",
    "    for number, x in to_sort:\n",
    "        result.append((x,number))\n",
    "    return result\n",
    "\n",
    "letter_list_english = most_frequent('Hello. My name is Hilde and I am from Germany. I was born in Essen, but have lived for fourteen years in Stuttgart. Currently I am studying mechanical engineering at the university. I like to travel, read and dance. My friends call me a chatterbox , because I’m always talking so much – even during class!')\n",
    "letter_list_german = most_frequent('Hallo. Ich heiße Hilde und komme aus Deutschland. Ich bin in Essen geboren, aber lebe seit vierzehn Jahren in Stuttgart. Zur Zeit studiere ich Maschinenbau an der Universität. Ich mag reisen, lesen und tanzen. Meine Freunde nennen mich „Schwatzliese“, weil ich immer so redselig bin – auch während den Unterricht! Ich habe dunkle, krause Haare, haselnussbraune Augen und ziehe öfters eine Schnute wenn ich beleidigt bin. Ich bin sehr fleißig zum Studieren aber zu faul um meine Wohnung aufzuräumen. Ich trage lieber Jeans und Rennschuhe, als Röcke und Spitzschuhen.')\n",
    "letter_list_spanish = most_frequent('Hola! Yo empecé aprendo Español hace dos mes en la escuela. Yo voy la universidad. Yo tratar estudioso Español tres hora todos los días para que yo saco mejor rápido. ¿Cosa algún yo debo hacer además construir mí vocabulario? Muchas veces yo estudioso la palabras solo para que yo construir mí voabulario rápido. Yo quiero empiezo leo el periódico Español la próxima semana. Por favor correcto algún la equivocaciónes yo hisciste. Gracias!')\n",
    "\n",
    "english_header = \"English\"\n",
    "german_header = \"German\"\n",
    "spanish_header = \"Spanish\"\n",
    "spacing = 10\n",
    "english_header = english_header + \" \"*(spacing - len(english_header))\n",
    "german_header = german_header + ' ' * (spacing - len(german_header))\n",
    "spanish_header = spanish_header + ' ' * (spacing - len(spanish_header))\n",
    "\n",
    "print english_header +  german_header + spanish_header\n",
    "\n",
    "for t in range(20):\n",
    "    spacing_e = ' ' * (9 - (len(str(letter_list_english[t][0])) + len(str(letter_list_english[t][1]))))\n",
    "    spacing_g = ' ' * (9 - (len(str(letter_list_german[t][0])) + len(str(letter_list_german[t][1]))))\n",
    "    \n",
    "    english = str(letter_list_english[t][0]) + ' ' + str(letter_list_english[t][1]) + spacing_e\n",
    "    german = str(letter_list_german[t][0]) + ' ' + str(letter_list_german[t][1]) + spacing_g\n",
    "    spanish = str(letter_list_spanish[t][0]) + ' ' + str(letter_list_spanish[t][1])\n",
    "    print english + german + spanish\n",
    "    \n"
   ]
  },
  {
   "cell_type": "code",
   "execution_count": 10,
   "metadata": {
    "collapsed": false,
    "solution": "Exercise 12.3"
   },
   "outputs": [
    {
     "data": {
      "text/plain": [
       "['E',\n",
       " 'T',\n",
       " 'R',\n",
       " 'N',\n",
       " 'O',\n",
       " 'A',\n",
       " 'S',\n",
       " 'I',\n",
       " 'B',\n",
       " 'Y',\n",
       " 'U',\n",
       " 'C',\n",
       " 'W',\n",
       " 'D',\n",
       " 'Q',\n",
       " 'L',\n",
       " 'F',\n",
       " 'V',\n",
       " 'K',\n",
       " 'J',\n",
       " 'H']"
      ]
     },
     "execution_count": 10,
     "metadata": {},
     "output_type": "execute_result"
    }
   ],
   "source": [
    "import string\n",
    "def most_frequent(string):\n",
    "    string = string.upper()\n",
    "    d = dict()\n",
    "    for c in string:\n",
    "        d[c] = d.get(c, 0) + 1 \n",
    "    l = zip(d.values(),d.keys())\n",
    "    l.sort(reverse = True)\n",
    "    return list(x[1] for x in l if x[1] in map(chr,range(65,91)))\n",
    "most_frequent('Letter frequencies, like word frequencies, tend to vary, both by writer and by subject. One cannot write an essay about')"
   ]
  },
  {
   "cell_type": "code",
   "execution_count": 18,
   "metadata": {
    "collapsed": false,
    "solution": "Exercise 12.3"
   },
   "outputs": [
    {
     "name": "stdout",
     "output_type": "stream",
     "text": [
      "['a', ' ', 'e', 'n', 't', 's', 'r', 'l', 'o', 'd', 'v', 'u', 'p', 'm', 'c', 'x', 'j', 'i', 'g', 'b']\n",
      "['e', ' ', 'l', 'i', 't', 'n', 'r', 's', 'o', 'c', 'a', 'p', 'g', 'f', 'y', 'u', 'h', 'd', 'w', 'q', 'k']\n"
     ]
    }
   ],
   "source": [
    "def most_frequent(string):\n",
    "    \n",
    "    l = []\n",
    "    d = dict()\n",
    "    for character in string:\n",
    "        d[character] = d.get(character, 0) + 1\n",
    "    for letter in d:\n",
    "        frequency = d[letter]\n",
    "        l.append((frequency, letter))\n",
    "    l.sort(reverse = True)\n",
    "    res = []\n",
    "    for frequency, character in l:\n",
    "        res.append(character)\n",
    "    return res\n",
    "    \n",
    "sentence2 = 'description in classical literature of applying the knowledge of english letter frequency'\n",
    "sentence1 = \"de semana entonces necesitan gente extra para lavar de semana el trabaja en un restaurante lavando platos\"\n",
    "print most_frequent(sentence1.strip())\n",
    "print most_frequent(sentence2.strip())"
   ]
  },
  {
   "cell_type": "code",
   "execution_count": 57,
   "metadata": {
    "collapsed": false,
    "solution": "Exercise 12.3"
   },
   "outputs": [],
   "source": [
    "def most_frequent(string):\n",
    "    \"\"\"\n",
    "    takes a string and prints letters in decreasing order of frequency\n",
    "    \n",
    "    >>> most_frequent(\"abbcdddiffff\")\n",
    "    f\n",
    "    d\n",
    "    b\n",
    "    a\n",
    "    c\n",
    "    i\n",
    "    \n",
    "    \n",
    "    \n",
    "    \"\"\"\n",
    "    d = dict()\n",
    "    a = []\n",
    "    for char in string.lower():\n",
    "        d[char] = d.get(char, 0) + 1\n",
    "    for val in sorted(d, key=d.get, reverse=True):\n",
    "        print val\n",
    "   \n",
    "\n",
    "\n",
    "if __name__ == \"__main__\":\n",
    "    import doctest\n",
    "    doctest.testmod()  \n",
    "    \n"
   ]
  },
  {
   "cell_type": "code",
   "execution_count": 2,
   "metadata": {
    "collapsed": false,
    "solution": "Exercise 12.3"
   },
   "outputs": [
    {
     "data": {
      "text/plain": [
       "TestResults(failed=0, attempted=4)"
      ]
     },
     "execution_count": 2,
     "metadata": {},
     "output_type": "execute_result"
    }
   ],
   "source": [
    "\n",
    "import doctest\n",
    "\n",
    "def most_frequent(s):\n",
    "    \"\"\"\n",
    "    >>> most_frequent('abdicate eliminate ennunciate')\n",
    "    ['e', 'n', 'i', 'a', 't', 'c', ' ', 'u', 'm', 'l', 'd', 'b']\n",
    "    >>> most_frequent('Liv eats a bear')\n",
    "    ['a', ' ', 'e', 'v', 't', 's', 'r', 'i', 'b', 'L']\n",
    "    \"\"\"\n",
    "    s.lower() \n",
    "    d = dict() \n",
    "    for c in s:\n",
    "        d[c] = d.get(c, 0) + 1\n",
    "    r = []\n",
    "    \n",
    "    for letter in d:\n",
    "        frequency = d[letter]\n",
    "        r.append((frequency, letter))\n",
    "    \n",
    "    r.sort(reverse=True)\n",
    "    \n",
    "    freq = []\n",
    "    for frequency, letter in r: \n",
    "        freq.append(letter)\n",
    "    return freq\n",
    "\n",
    "most_frequent('Liv eats a bear')\n",
    "\n",
    "doctest.testmod()"
   ]
  },
  {
   "cell_type": "code",
   "execution_count": 27,
   "metadata": {
    "collapsed": false,
    "solution": "Exercise 12.3"
   },
   "outputs": [
    {
     "name": "stdout",
     "output_type": "stream",
     "text": [
      "[('a', 24), ('e', 19), ('r', 18), ('n', 17), ('t', 16), ('m', 15), ('i', 15), ('o', 12), ('s', 11), ('p', 11), ('d', 11), ('l', 8), ('g', 8), ('y', 7), ('u', 7), ('c', 7), ('h', 3), ('v', 2), ('f', 2), ('b', 2), ('j', 1)]\n",
      "[('e', 35), ('r', 21), ('i', 21), ('t', 20), ('n', 17), ('a', 11), ('s', 10), ('p', 10), ('o', 9), ('m', 8), ('d', 8), ('h', 7), ('u', 6), ('g', 6), ('y', 5), ('k', 4), ('c', 4), ('z', 3), ('l', 3), ('f', 3), ('b', 3), ('w', 2), ('\\xc3', 1), ('\\xbc', 1), ('v', 1), ('j', 1)]\n",
      "[('a', 27), ('e', 18), ('i', 16), ('r', 15), ('n', 15), ('o', 14), ('t', 12), ('m', 11), ('u', 9), ('p', 9), ('d', 8), ('s', 6), ('l', 6), ('g', 6), ('c', 6), ('\\xc3', 5), ('\\xb3', 4), ('y', 3), ('j', 3), ('f', 2), ('\\xa1', 1), ('v', 1), ('q', 1), ('b', 1)]\n"
     ]
    }
   ],
   "source": [
    "def histogram_get(s):\n",
    "    \"\"\"\n",
    "    Takes string s, returns a dictionary with characters in s as keys \n",
    "    and the frequency of the character as the value\n",
    "    \n",
    "    >>> histogram_get('appleappleapple')['p']\n",
    "    6\n",
    "    >>> histogram_get('appleappleapple')['e']\n",
    "    3\n",
    "    \"\"\"\n",
    "    s = s.lower()\n",
    "    d = dict()\n",
    "    for letter in s:\n",
    "        d[letter] = d.get(letter, 0) + 1\n",
    "    return d\n",
    "\n",
    "def most_frequent(myString):\n",
    "    garbage = \" ,.-\"\n",
    "    s = histogram_get(myString)\n",
    "    sorting = []\n",
    "    sort_most_freq = []\n",
    "    for a, number in s.items():\n",
    "        if a not in garbage:\n",
    "            sorting.append((number,a))\n",
    "            \n",
    "    sorting.sort(reverse = True)\n",
    "    for number, x in sorting:\n",
    "        sort_most_freq.append((x, number))        \n",
    "    return sort_most_freq\n",
    "        \n",
    "english_sample = \"Python supports multiple programming paradigms, including object-oriented, imperative and functional programming or procedural styles. It features a dynamic type system and automatic memory management and has a large and comprehensive standard library.\"\n",
    "german_sample = \"Python unterstützt mehrere Programmierparadigmen, z. B. die objektorientierte, die aspektorientierte und die funktionale Programmierung. Ferner bietet es eine dynamische Typisierung. Wie viele dynamische Sprachen wird Python oft als Skriptsprache genutzt.\"\n",
    "spanish_sample = \"Se trata de un lenguaje de programación multiparadigma, ya que soporta orientación a objetos, programación imperativa y, en menor medida, programación funcional. Es un lenguaje interpretado, usa tipado dinámico y es multiplataforma.\"\n",
    "\n",
    "import doctest\n",
    "doctest.run_docstring_examples(most_frequent, globals())\n",
    "\n",
    "\n",
    "print most_frequent(english_sample)\n",
    "print most_frequent(german_sample)\n",
    "print most_frequent(spanish_sample)\n",
    "\n",
    "#the sample isn't long to accurately represent the letter distribution in languages, but has certain general trends right.\n"
   ]
  },
  {
   "cell_type": "code",
   "execution_count": 35,
   "metadata": {
    "collapsed": false,
    "solution": "Exercise 12.3"
   },
   "outputs": [
    {
     "name": "stdout",
     "output_type": "stream",
     "text": [
      "\r\n",
      "\n",
      "\n",
      "e\n",
      "s\n",
      "i\n",
      "a\n",
      "r\n",
      "n\n",
      "t\n",
      "o\n",
      "l\n",
      "c\n",
      "d\n",
      "u\n",
      "g\n",
      "p\n",
      "m\n",
      "h\n",
      "b\n",
      "y\n",
      "f\n",
      "v\n",
      "k\n",
      "w\n",
      "z\n",
      "x\n",
      "j\n",
      "q\n",
      "'\n"
     ]
    }
   ],
   "source": [
    "import random\n",
    "\n",
    "def histogram(s):\n",
    "    d = dict()\n",
    "    for c in s:\n",
    "        d[c] = d.get(c, 0) + 1\n",
    "    return d\n",
    "\n",
    "def most_frequent(s):\n",
    "    hist = histogram(s)\n",
    "    \n",
    "    t = []\n",
    "    for element,freq in hist.items():\n",
    "        t.append((freq,element))\n",
    "        \n",
    "    t.sort(reverse=True)\n",
    "    \n",
    "    res = []\n",
    "    for freq, element in t:\n",
    "        res.append(element)\n",
    "    return res\n",
    "\n",
    "def read_file(filename):\n",
    "    \"\"\"Returns the contents of a file as a string.\"\"\"\n",
    "    return open(filename).read()\n",
    "\n",
    "if __name__ == '__main__':\n",
    "    s = read_file('wordsEn.txt')\n",
    "    t = most_frequent(s)\n",
    "    for x in t:\n",
    "        print x"
   ]
  },
  {
   "cell_type": "code",
   "execution_count": 32,
   "metadata": {
    "collapsed": false,
    "solution": "Exercise 12.3"
   },
   "outputs": [
    {
     "name": "stdout",
     "output_type": "stream",
     "text": [
      "English\n",
      "80  :   \n",
      "51  :  e\n",
      "36  :  a\n",
      "33  :  i t\n",
      "27  :  n\n",
      "22  :  s\n",
      "19  :  l\n",
      "18  :  h o r\n",
      "17  :  d\n",
      "16  :  c\n",
      "11  :  u y\n",
      "9   :  b m p\n",
      "7   :  f\n",
      "5   :  q v\n",
      "4   :  , C\n",
      "3   :  0 E g k\n",
      "2   :  ) ( . 1 8 A w x\n",
      "1   :  � � - 3 4 7 I K J L � T\n",
      "None\n",
      "Spanish\n",
      "80  :   \n",
      "50  :  e\n",
      "39  :  a\n",
      "31  :  o\n",
      "28  :  s\n",
      "27  :  l n\n",
      "25  :  r\n",
      "24  :  i\n",
      "22  :  t\n",
      "21  :  u\n",
      "19  :  c\n",
      "14  :  d\n",
      "13  :  �\n",
      "10  :  m\n",
      "8   :  p\n",
      "7   :  h\n",
      "6   :  � . b f\n",
      "5   :  E v\n",
      "4   :  ' ,\n",
      "3   :  � S g y\n",
      "2   :  W\n",
      "1   :  � � � � ; : j q x\n",
      "None\n",
      "French\n",
      "84  :   \n",
      "61  :  e\n",
      "30  :  a\n",
      "28  :  n u\n",
      "27  :  i\n",
      "26  :  l s t\n",
      "25  :  r\n",
      "18  :  d\n",
      "16  :  c\n",
      "15  :  o\n",
      "13  :  p\n",
      "10  :  m\n",
      "9   :  � f\n",
      "7   :  b\n",
      "6   :  �\n",
      "5   :  v\n",
      "4   :  , g y\n",
      "3   :  � � : � L � q\n",
      "2   :  � . �\n",
      "1   :  ) � 2 ( � O W Z h x\n",
      "None\n",
      "German\n",
      "66  :   \n",
      "65  :  e\n",
      "34  :  t\n",
      "33  :  i n\n",
      "27  :  a\n",
      "25  :  s\n",
      "22  :  r\n",
      "21  :  h\n",
      "19  :  u\n",
      "14  :  d\n",
      "13  :  g\n",
      "11  :  c b l o\n",
      "9   :  m\n",
      "8   :  �\n",
      "6   :  f\n",
      "5   :  � B k v z\n",
      "4   :  p\n",
      "3   :  , . G S T w x\n",
      "2   :  � A D �\n",
      "1   :  R � � � ) ( � � H K W V Z j q\n",
      "None\n"
     ]
    }
   ],
   "source": [
    "\n",
    "def most_frequent(s):\n",
    "    letters = {}\n",
    "    for c in s:\n",
    "        letters[c] = letters.get(c,0)+1\n",
    "    return letters\n",
    "def print_dict(d):\n",
    "    d_temp = {}\n",
    "    for k in d.keys():\n",
    "        d_temp[d[k]] = d_temp.get(d[k],'')+\" \"+k\n",
    "    sortkeys = sorted(d_temp.keys(),reverse=True)\n",
    "    for k in sortkeys:\n",
    "        print '{:<3d}'.format(k),':',d_temp[k]\n",
    "        \n",
    "        \n",
    "eng = \"The frequency of letters in text has been studied for use in cryptanalysis, and frequency analysis in particular, dating back to the Iraqi mathematician Al-Kindi (c. 801–873 CE), who formally developed the method (the ciphers breakable by this technique go back at least to the Caesar cipher invented by Julius Caesar, so this method could have been explored in classical times). Letter frequency analysis gained additional importance with the development of movable type in Asia in 1040 CE and in Eu\"\n",
    "spa = \"El cálculo de la frecuencia de letras en una lengua es difícil y está sujeto a la interpretación. Se cuenta la frecuencia de las letras de un texto arbitrariamente largo, pero en los resultados influyen varios parámetros:El estilo narrativo. Si hay muchos verbos en infinitivo, habrá muchas \"R\".El vocabulario específico del documento. Si se habla de ríos, habrá muchas 'Í'; si uno de los protagonistas se llama Wenceslao, aumentará el número de 'W'.El tipo de documento. En pequeños anuncios se pued\"\n",
    "fra = \"Le calcul de la fréquence des lettres dans une langue est difficile et soumis à interprétation. On compte la fréquence des lettres d’un texte arbitrairement long, mais un certain nombre de paramètres influencent les résultats:Le style narratif : s’il y a beaucoup de verbes à la 2e personne du pluriel (le vouvoiement, présent dans beaucoup de dialogues), il y aura significativement plus de « Z ».Le vocabulaire spécifique du document : si l’on parle de chemins de fer, il y aura beaucoup plus de« W\"\n",
    "ger = \"Die Buchstabenhäufigkeit ist eine statistische Größe, die angibt, wie oft ein bestimmter Buchstabe in einem Text oder einer Sammlung von Texten („Korpus“) vorkommt. Sie kann als absolute Anzahl oder in Relation zur Gesamtzahl der Buchstaben des Textes angegeben werden. Die Häufigkeitsverteilung der Buchstaben hängt von der jeweiligen Sprache ab. Während frühere Annahmen pauschal die statistische Verteilung der Buchstabenhäufigkeit durch das Zipfsche Gesetz vorherzusagen glaubten, hat die quantit\"\n",
    "\n",
    "print 'English'\n",
    "print print_dict(most_frequent(eng))\n",
    "print 'Spanish'\n",
    "print print_dict(most_frequent(spa))\n",
    "print 'French'\n",
    "print print_dict(most_frequent(fra))\n",
    "print 'German'\n",
    "print print_dict(most_frequent(ger))"
   ]
  },
  {
   "cell_type": "code",
   "execution_count": 30,
   "metadata": {
    "collapsed": false,
    "solution": "Exercise 12.3"
   },
   "outputs": [
    {
     "name": "stdout",
     "output_type": "stream",
     "text": [
      "E 31\n",
      "T 18\n",
      "N 16\n",
      "A 15\n",
      "R 15\n",
      "S 13\n",
      "F 9\n",
      "I 9\n",
      "L 8\n",
      "D 7\n",
      "G 6\n",
      "O 6\n",
      "U 6\n",
      "C 5\n",
      "H 3\n",
      "M 3\n",
      "Q 3\n",
      "W 3\n",
      "P 2\n",
      "V 2\n",
      "Y 2\n",
      "B 1\n",
      "K 1\n",
      "X 1\n"
     ]
    }
   ],
   "source": [
    "def most_frequent(shtring):\n",
    "    \"\"\"takes a string and prints the letters in decreasing order of frequency.\n",
    "    >>>most_frequent(\"Write a function called most_frequent\")\n",
    "    E 4\n",
    "    T 4\n",
    "    N 3\n",
    "    A 2\n",
    "    C 2\n",
    "    F 2\n",
    "    I 2\n",
    "    L 2\n",
    "    O 2\n",
    "    R 2\n",
    "    U 2\n",
    "    D 1\n",
    "    M 1\n",
    "    Q 1\n",
    "    S 1\n",
    "    W 1\n",
    "    \"\"\"\n",
    "    s = shtring.translate(None, \",.!_ \").upper()\n",
    "    d = dict()\n",
    "    for c in s:\n",
    "        d[c] = d.get(c,0) + 1\n",
    "    results = sorted(d.items(), key=lambda (k, v): v, reverse=True)\n",
    "    for (k, v) in results:\n",
    "        print k, v\n",
    "        \n",
    "most_frequent(\"Write a function called most_frequent that takes a string and prints the letters in decreasing order of frequency. Find text samples from several different languages and see how letter frequency varies between languages. \")"
   ]
  },
  {
   "cell_type": "code",
   "execution_count": 11,
   "metadata": {
    "collapsed": false,
    "solution": "Exercise 12.3"
   },
   "outputs": [],
   "source": [
    "import random\n",
    "\n",
    "\n",
    "def most_frequent(s):\n",
    "    \"\"\"Sorts the letters in s in reverse order of frequency.\n",
    "\n",
    "    s: string\n",
    "\n",
    "    Returns: list of letters\n",
    "    \"\"\"\n",
    "    hist = make_histogram(s)\n",
    "\n",
    "    t = []\n",
    "    for x, freq in hist.iteritems():\n",
    "        t.append((freq, x))\n",
    "\n",
    "    t.sort(reverse=True)\n",
    "\n",
    "    res = []\n",
    "    for freq, x in t:\n",
    "        res.append(x)\n",
    "\n",
    "    return res\n",
    "    \n",
    "\n",
    "def make_histogram(s):\n",
    "    hist = {}\n",
    "    for x in s:\n",
    "        hist[x] = hist.get(x, 0) + 1\n",
    "    return his\n"
   ]
  },
  {
   "cell_type": "code",
   "execution_count": 27,
   "metadata": {
    "collapsed": false,
    "solution": "Exercise 12.3"
   },
   "outputs": [
    {
     "ename": "TypeError",
     "evalue": "'reversed' object has no attribute '__getitem__'",
     "output_type": "error",
     "traceback": [
      "\u001b[1;31m---------------------------------------------------------------------------\u001b[0m",
      "\u001b[1;31mTypeError\u001b[0m                                 Traceback (most recent call last)",
      "\u001b[1;32m<ipython-input-27-d94b22147ad9>\u001b[0m in \u001b[0;36m<module>\u001b[1;34m()\u001b[0m\n\u001b[0;32m     23\u001b[0m     \u001b[0mdoctest\u001b[0m\u001b[1;33m.\u001b[0m\u001b[0mtestmod\u001b[0m\u001b[1;33m(\u001b[0m\u001b[1;33m)\u001b[0m\u001b[1;33m\u001b[0m\u001b[0m\n\u001b[0;32m     24\u001b[0m \u001b[1;33m\u001b[0m\u001b[0m\n\u001b[1;32m---> 25\u001b[1;33m \u001b[0mmost_frequent\u001b[0m\u001b[1;33m(\u001b[0m\u001b[1;34m'apple'\u001b[0m\u001b[1;33m)\u001b[0m\u001b[1;33m\u001b[0m\u001b[0m\n\u001b[0m",
      "\u001b[1;32m<ipython-input-27-d94b22147ad9>\u001b[0m in \u001b[0;36mmost_frequent\u001b[1;34m(string)\u001b[0m\n\u001b[0;32m     17\u001b[0m     \u001b[0mres\u001b[0m \u001b[1;33m=\u001b[0m \u001b[1;33m[\u001b[0m\u001b[1;33m]\u001b[0m\u001b[1;33m\u001b[0m\u001b[0m\n\u001b[0;32m     18\u001b[0m     \u001b[1;32mfor\u001b[0m \u001b[0mtuplev\u001b[0m \u001b[1;32min\u001b[0m \u001b[0mlist\u001b[0m\u001b[1;33m:\u001b[0m\u001b[1;33m\u001b[0m\u001b[0m\n\u001b[1;32m---> 19\u001b[1;33m         \u001b[1;32mprint\u001b[0m \u001b[0mtuplev\u001b[0m\u001b[1;33m[\u001b[0m\u001b[1;36m1\u001b[0m\u001b[1;33m]\u001b[0m\u001b[1;33m\u001b[0m\u001b[0m\n\u001b[0m\u001b[0;32m     20\u001b[0m \u001b[1;33m\u001b[0m\u001b[0m\n\u001b[0;32m     21\u001b[0m \u001b[1;32mif\u001b[0m \u001b[0m__name__\u001b[0m \u001b[1;33m==\u001b[0m \u001b[1;34m'__main__'\u001b[0m\u001b[1;33m:\u001b[0m\u001b[1;33m\u001b[0m\u001b[0m\n",
      "\u001b[1;31mTypeError\u001b[0m: 'reversed' object has no attribute '__getitem__'"
     ]
    }
   ],
   "source": [
    "def histogram(s):\n",
    "    d = dict()\n",
    "    for c in s:\n",
    "        d[c] = 1+d.get(c,0)\n",
    "    return d\n",
    "\n",
    "def most_frequent(string):\n",
    "    dictionary = histogram(string)\n",
    "    dictionary.items()\n",
    "    list = []\n",
    "    for tupled in dictionary:\n",
    "        tuples = reversed(tupled)\n",
    "        list.append(tuples)\n",
    "    \n",
    "    list.sort(reverse=True)\n",
    "    \n",
    "    res = []\n",
    "    for tuplev in list:\n",
    "        print tuplev[1]\n",
    "\n",
    "if __name__ == '__main__':\n",
    "    import doctest\n",
    "    doctest.testmod()\n",
    "    \n",
    "most_frequent('apple')"
   ]
  },
  {
   "cell_type": "code",
   "execution_count": 43,
   "metadata": {
    "collapsed": false,
    "solution": "Exercise 12.3"
   },
   "outputs": [
    {
     "name": "stdout",
     "output_type": "stream",
     "text": [
      "etaarethemostcommonletters\n",
      "t e o m s r a n l h c\n"
     ]
    }
   ],
   "source": [
    "def histogram(s):\n",
    "    d = dict()\n",
    "    for c in s:\n",
    "        d[c] = d.get(c, 0)\n",
    "        d[c] += 1\n",
    "    return d\n",
    "\n",
    "def most_frequent(s):\n",
    "    s = s.lower()\n",
    "    s = s.replace(\" \", \"\")\n",
    "    print s\n",
    "    d = histogram(s)\n",
    "    \n",
    "    l = []\n",
    "    for i in d:\n",
    "        l.append((d[i], i))\n",
    "        \n",
    "    l.sort(reverse = True)\n",
    "    \n",
    "    for n in l:\n",
    "        print(n[1]),\n",
    "    \n",
    "most_frequent('eta are the most common letters')"
   ]
  },
  {
   "cell_type": "code",
   "execution_count": 148,
   "metadata": {
    "collapsed": false
   },
   "outputs": [
    {
     "data": {
      "text/plain": [
       "['i', 's', 'l', 'c', 'a', 'u', 'r', 'p', 'o', 'e', 'x', 't', 'g', 'f', 'd']"
      ]
     },
     "execution_count": 148,
     "metadata": {},
     "output_type": "execute_result"
    }
   ],
   "source": [
    "def most_frequent(word):\n",
    "    t = []\n",
    "    for char in word:\n",
    "        count = word.count(char)\n",
    "        letter = (count, char)\n",
    "        t.append(letter)\n",
    "        t.sort(reverse=True)\n",
    "        \n",
    "    #removing duplicate tuples    \n",
    "    i = 0 \n",
    "    while i <= len(t)-1:\n",
    "        if t[i] == t[i-1]:\n",
    "            t.remove(t[i])\n",
    "            i = i\n",
    "        else:    \n",
    "            i += 1\n",
    "       \n",
    "    res = []\n",
    "    for count, char in t:\n",
    "        res.append(char)\n",
    "       \n",
    "    return res\n",
    "\n",
    "    \n",
    "    \n",
    "\n",
    "most_frequent('supercalifragilisticexpialidocious')"
   ]
  },
  {
   "cell_type": "code",
   "execution_count": 91,
   "metadata": {
    "collapsed": false,
    "solution": "Exercise 12.3"
   },
   "outputs": [
    {
     "name": "stdout",
     "output_type": "stream",
     "text": [
      "['p', 'y', 'h', 'a']\n",
      "['p', 'y', 'i']\n",
      "['l', 'o', 'h', 'e']\n"
     ]
    }
   ],
   "source": [
    "def histogram(s):\n",
    "    d = dict()\n",
    "    for c in s:\n",
    "        d[c] = 1 + d.get(c, 0)\n",
    "    return d\n",
    "\n",
    "def most_frequent(string):\n",
    "    x = histogram(string)\n",
    "    \n",
    "    t = []\n",
    "    for char in x:\n",
    "        t.append((x[char], char))\n",
    "    \n",
    "    t.sort(reverse = True)\n",
    "    \n",
    "    res = []\n",
    "    for freq, char in t:\n",
    "        res.append(char)\n",
    "    \n",
    "    return res\n",
    "    \n",
    "\n",
    "\n",
    "print most_frequent('happy')\n",
    "print most_frequent('pippy')\n",
    "print most_frequent('hello')"
   ]
  },
  {
   "cell_type": "code",
   "execution_count": 43,
   "metadata": {
    "collapsed": false,
    "solution": "Exercise 12.3"
   },
   "outputs": [
    {
     "name": "stdout",
     "output_type": "stream",
     "text": [
      "[(999, ' '), (646, 'e'), (386, 't'), (379, 'i'), (354, 'a'), (327, 'r'), (302, 'n'), (298, 's'), (291, 'o'), (261, 'h'), (224, 'l'), (212, 'd'), (199, 'g'), (152, 'm'), (128, 'u'), (127, 'f'), (117, '.'), (94, 'v'), (93, 'y'), (93, 'w'), (80, 'b'), (65, 'p'), (61, 'c'), (60, \"'\"), (41, ','), (26, 'k'), (7, 'x')]\n",
      "[(1047, ' '), (1026, 'e'), (542, 'n'), (458, 'i'), (394, 't'), (372, 'r'), (348, 's'), (316, 'h'), (291, 'a'), (249, 'g'), (247, 'l'), (212, 'c'), (175, 'm'), (149, 'u'), (130, 'b'), (129, 'd'), (125, 'f'), (117, '.'), (96, 'w'), (94, 'o'), (81, '\\xc3'), (53, 'z'), (53, 'k'), (48, ','), (41, '\\xbc'), (27, 'v'), (18, 'j'), (13, '\\xa4'), (13, '\\x9f'), (8, '\\xb6'), (6, 'p'), (5, '\\x84'), (2, 'y'), (1, '\\x9c'), (1, '-')]\n",
      "[(1195, ' '), (887, 'e'), (518, 's'), (456, 'i'), (439, 'a'), (406, 'r'), (392, 'n'), (348, 't'), (332, 'l'), (329, 'u'), (308, 'o'), (246, 'm'), (232, '\\xc3'), (216, 'd'), (175, 'p'), (121, 'v'), (121, 'c'), (117, '.'), (114, '\\xa9'), (94, 'b'), (60, '\\xa8'), (60, 'f'), (50, ','), (45, 'g'), (44, 'h'), (40, 'q'), (37, \"'\"), (32, 'x'), (26, '\\xaa'), (20, 'z'), (17, 'j'), (15, '-'), (14, '\\xa0'), (6, 'y'), (5, '\\xa2'), (4, '\\xae'), (4, 'w'), (3, '\\xa7'), (2, '\\xb9'), (2, '\\x89'), (1, '\\xaf'), (1, '\\x80')]\n",
      "[(1250, ' '), (807, 'e'), (737, 'a'), (453, 'o'), (450, 'r'), (414, 's'), (407, 'n'), (333, 'i'), (322, 'd'), (284, 'l'), (242, 'u'), (236, 't'), (195, 'c'), (186, 'm'), (149, '\\xc3'), (117, '.'), (105, 'b'), (104, 'p'), (83, 'h'), (77, 'v'), (59, '\\xad'), (58, 'q'), (53, 'g'), (48, ','), (47, 'f'), (37, '\\xa1'), (35, 'j'), (23, 'y'), (22, '\\xa9'), (19, '\\xb1'), (19, 'z'), (11, '\\xb3'), (9, 'x'), (1, '\\xba'), (1, 'w')]\n"
     ]
    }
   ],
   "source": [
    "def most_frequent(S):\n",
    "    ''' returns a sorted list of tuples of letters and frequency in s\n",
    "    >>> most_frequent('find the most frequent')\n",
    "    [(3, 't'), (3, 'e'), (3, ' '), (2, 'n'), (2, 'f'), (1, 'u'), (1, 's'), (1, 'r'), (1, 'q'), (1, 'o'), (1, 'm'), (1, 'i'), (1, 'h'), (1, 'd')]\n",
    "    '''\n",
    "    data_d = {}\n",
    "    s = S.lower()\n",
    "    for char in s:\n",
    "        data_d[char] = data_d.get(char, 0) + 1\n",
    "        \n",
    "#     for char in data_d:\n",
    "#         if char != lower(char)\n",
    "#             data_d[char.lower()] = data_d.get(char.lower(), 0) + data_d[char]\n",
    "#             data_d.pop(char, None)\n",
    "        \n",
    "    data_t = []\n",
    "    \n",
    "    for char in data_d:\n",
    "        data_t.append((data_d[char], char))\n",
    "    data_t.sort(reverse=True)\n",
    "    \n",
    "    return data_t\n",
    "    \n",
    "import doctest\n",
    "# doctest.testmod()\n",
    "\n",
    "print most_frequent(\"Good blessed that man. Cattle them give man i divided, given abundantly beginning upon, god divided morning wherein the. Is to dominion You're without waters cattle third day man image all his hath beast from itself be of likeness Subdue him saying is give given midst earth you his, one seasons beast you'll. Over herb beast, stars sea stars the fruit living spirit without moved kind night spirit called given cattle open spirit Wherein two. Them it gathering whose she'd saying open beginning male meat firmament living gathering all void abundantly moveth isn't won't tree air replenish Fish itself saw one. Brought seasons good, divide one good morning evening heaven, there good blessed had every sixth make you're hath good fowl. Greater you'll likeness appear he doesn't creeping moved creature. Behold. Third void without yielding form without had them their firmament. Blessed appear. Over from, sea fifth wherein. Earth divided. Also were and moving fill give made hath female meat herb saying without rule fruitful fifth. All void saying heaven, fly life behold own were fruitful wherein creepeth. May two divided so make man third god heaven gathered, for one firmament. Our can't. Without. Upon third. Unto have fruit together he likeness years don't kind greater behold, under male all. After first image after night kind Give from years of i made thing Shall light firmament all seas living fourth. Great shall his, stars all moveth over meat had two creeping so there stars for after divide their so day female said form thing green firmament given replenish Were above brought. Let can't in two image grass seed can't. There set. Sixth. May there seasons fly without lesser tree beast face you. Fowl light may tree blessed darkness him. Female multiply rule which. Our behold bring dominion all. I seed man lesser multiply shall. Our have there spirit sea midst second bring. Meat creepeth. You're, itself subdue multiply their meat, creature face can't midst. You'll unto herb is, seasons heaven forth greater make. Won't fifth image. Hath our were blessed isn't you'll shall, from deep great beginning. Thing you saw our given gathered life grass. Creepeth cattle image tree us after male be, was good tree light living he moving form, yielding fish land. Moving after two that you don't he doesn't can't lights together set gathered creepeth blessed evening. Meat over a saw said sea fly spirit. Beast face image void blessed a tree grass wherein earth light saw god cattle. Won't land. Sea very days beast under creeping without. You're earth second winged in, blessed upon you'll. Won't green upon, male a thing created. Them created made morning own of moving. Spirit. Greater bearing multiply don't. Over his so. Meat. You're sixth divided together called to. Kind winged was thing one can't male bearing divided. All make rule beast every. Creeping third thing. Light bring. Seasons female whose won't place waters fruitful seed gathering form creeping meat signs creature female god years which. Fruit male you'll, female. Thing creepeth herb day over doesn't. Likeness you're won't also spirit, night be herb Moveth above kind, light over, morning you. Gathering of. From, firmament fruitful fruit in they're beginning creature so very man let place. Rule isn't to unto of good Him form form you're very beast brought great Said behold won't days days them the signs for under one one, evening seasons one Heaven, face won't, his living also. Grass it day void, lights two a. I let gathering likeness give. Them wherein fifth. Won't, fly multiply. Were set whose you're place us for kind made dry creature. Said. Can't wherein. Divide signs lesser sixth sixth together he. Place. Made It were be firmament years he moved can't gathering signs you Very firmament for Upon he of let morning was, make be creeping you'll divided given. Saying void whales also days likeness said female blessed whales years us their. Third rule lights be hath multiply it in shall meat us face. Land. Meat fly form likeness signs unto one face face. Winged morning had deep the own above beast stars fish above signs, evening. Divide lesser sea form sixth fish was. Is called. Fowl them whales i fill moveth. Appear, saying he. Gathering fifth stars. Years. Make their, were give man from doesn't. Morning appear so. Darkness, second lights all. Stars bearing hath seed she'd fourth unto fly. Can't without upon earth own god Day spirit heaven said signs you're fish divided you'll to green the upon upon may one don't bring to bring behold whales bring light behold own. Shall upon, thing green, meat bring of beginning air. Air. Gathered behold man above Dominion fourth good gathering in and likeness won't. Wherein. It upon cattle third. I from midst them, brought fifth years. Dry itself fish fifth. Fish tree day made creeping meat moveth you'll morning. Seasons over to he cattle fourth Multiply multiply divide greater together he firmament waters. Great years you, itself own you void god. Third evening evening were which said dry divide cattle to great all our spirit was, in brought She'd that man two without itself Us. Said to they're morning fish thing given and. Earth, you're together Herb. Lights. Upon. Abundantly gathered open don't shall spirit. Beast fowl herb land second divide creature creature good for fowl. Subdue appear seas darkness spirit meat there herb one heaven don't. You'll. Let wherein fourth them divided forth void him in is earth don't sea were day, seed. Above air fill shall creature together sea. Bring us great Be them Gathered yielding meat. Fowl fish stars day waters grass form. Greater. There fourth great so abundantly. Let said he wherein hath greater air years behold tree waters living they're appear. Earth lights good whose image god whales have midst of fruit man let lesser Be heaven called winged give don't them image saw gathering void unto good abundantly man rule saw whose morning i fowl likeness there. Sixth under him. Make bearing. Whales make sea.\")\n",
    "print most_frequent(\"Gut gesegnet, dass man. Cattle sie Mann geben i, gegeben geteilt reichlich beginnend auf, gott geteilt Morgen wobei die. Ist zur Herrschaft Du bist ohne Wasser Vieh dritten Tag Mannes alle seine hath Tier aus sich der Ähnlichkeit, ihn mitten Erden geben Subdue sagen wird man seine, ein Jahreszeiten Tier Sie werde. Über Kraut Tier, Sterne die Frucht lebendigen Geist Seesterne ohne Art Nacht Geist genannt gegeben Rinder offenen Geist bewegt, wobei zwei. Sie sammeln sie dessen sie hatte sagen offen männlich Fleisch Firmament Wohn beginnen alle nichtig sammeln reichlich beweget wird nicht nicht Baum Luft Fisch ergänzen sich eine Säge. Gebracht Jahreszeiten gut, einen guten Morgen Abend Himmel teilen, gibt gesegnet gut hatte jeder sechste machen, du bist hat gute Geflügel. Größer werden Sie likeness erscheinen er nicht Kreatur bewegt kriecht. Erblicken. Drittens Leere ohne Form ergibt ohne hatte sie ihre Firmament. Selig erscheinen. Im Laufe von, Meer fünfte bei. Erde geteilt. Auch waren und geben gemacht hat Kraut weibliche Fleisch sagen ohne Regel fruchtbar fünften füllen bewegen. Alle nichtig sagen Himmel, fliegen Leben siehe eigenen waren fruchtbar wobei kriecht. zwei gesammelt, geteilt Kann ein Firmament so Mann dritte Gott Himmel machen. Unsere nicht. Ohne. Beim dritten. Unto Früchte haben zusammen likeness er Jahre nicht Art größer siehe, unter männlichen alle. Nach dem ersten Bild nach der Nacht von Jahren Geben Art von i Sache vierten allen Meeren leben Firmament leuchten gemacht Soll. Groß wird sein, alle kriecht über Fleisch Sterne waren zwei schleichende so Sterne dort nach ihrer so Tag weibliche sagte Formular Sache grünen Firmament gegeben replenish teilen oben gebracht wurden. Lassen Sie kann nicht in zwei Bildgrassamen kann es nicht. Es gesetzt. Sechste. Kann es Jahreszeiten fliegen Sie ohne geringerem Baum Tier Gesicht. Geflügel-Licht kann gesegnet Baum Dunkelheit ihn. Weiblich mehrfach Regel, welche. Unsere siehe bringen alle Herrschaft. Ich Saatgut Mann weniger vermehren sollen. Unsere haben es Geist Meer inmitten zweite bringen. Fleisch kriecht. Sie sind, unterwerfen sich ihr Fleisch vermehren, Kreatur Gesicht kann nicht mitten unter ihnen. Du wirst zu Kraut ist, Jahreszeiten Himmel her größer machen. Will nicht fünfte Bild. Hat unsere wurden gesegnet ist nicht, dass Sie wird von tiefen großer Anfang. Sache haben Sie unsere gegeben gesammelt Leben Gras. Kriecht Vieh Bild Baum uns nach männlich sein, war guter Baum helle Wohn er bewegte Form, Fisch Land führt. Umzug nach zwei, die du nicht weiß er nicht nicht abends leuchtet zusammen gesetzt gesammelt kriecht gesegnet können. Fleisch über einer Säge sagte Meer fliegen Geist. Beast Gesicht Bild Leere gesegnet einen Baum Gras wobei Erde Licht sah Gott Rinder. Wird nicht landen. Meer sehr Tag Tier unter schleichend ohne. Du bist Erde zweiten Flügel in segnete auf euch werde. Will nicht grün auf, männlich eine Sache geschaffen. Sie geschaffen gemacht Morgen eigenen zu bewegen. Geist. Größere Lager nicht vermehren. Im Laufe seiner so. Fleisch. Du sechsten zusammen geteilt aufgerufen. Art geflügelten war, was man kann nicht männlich Lager geteilt. Alle machen jede Regel Tier. Schleichende dritte Sache. Licht bringen. Jahreszeiten weibliche dessen nicht Gewässern fruchtbaren Samen Versammlung Form Fleisch Anzeichen Wesen weiblicher Gott Jahren schleichend statt. Obst männlich Sie werden es tun, weiblich. Thing kriecht Kraut Tag über nicht. Likeness du bist will nicht auch Geist, Nacht Kraut werden kriecht über Art, Lichtübermorgen Sie. Gathering of. Von, Firmament fruchtbare Obst in sie beginnen Wesen so sehr Mann Platz lassen. Regel ist nicht zu zu guter Ihm Form Form bist du sehr Tier brachte große Said siehe wird nicht Tage Tage sie die Anzeichen für unter einem ein, Abend Jahreszeiten ein Himmel, das Gesicht wird nicht, seinen Lebensunterhalt auch. Grass es Tag ungültig, leuchtet zwei ein. Ich lasse das Sammeln Ähnlichkeit geben. Sie bei Fünftel. Wird nicht, Fliegen vermehren. Gesetzt wurden, deren du bist uns für Art gemacht trocken Kreatur platzieren. Sagte. Kann nicht bei. Teilen Sie Anzeichen geringerer sechsten sechsten zusammen er. Ort. Machte es waren Firmament Jahren zog er keine Anzeichen Sammlung kann man sehr Firmament für Upon er von lassen Morgen wurde, stellen Sie schleichen Sie gegeben geteilt werde. Sagen die Leere Wale auch die Tage Ähnlichkeit weiblichen gesegnet Wale Jahre uns ihre. Dritte Regel Lichter hat er denn das sein multiplizieren in soll Fleisch uns gegenüber. Land. Fleisch fliegen Form Ähnlichkeit Zeichen zu einem Gesicht Gesicht. Winged Morgen hatte tief die eigene oben Tier Sterne Fisch oben genannten Anzeichen, Abend. Teilen Sie geringerem Meer Form sechsten Fisch war. Wird genannt. Fowl sie Wale i füllen kriecht. Erscheinen und sagte, er. Das Sammeln fünfte Sterne. Jahre. Machen Sie ihren wurden geben Menschen aus nicht. Morgen erscheint so. Dunkelheit leuchtet zweite alle. Sterne Lager hath Saatgut sie würde vierte zu fliegen. Kann nicht ohne besitzen auf Erden Gott Day Geist Himmel Zeichen der Sie unterteilt Fisch auf grünem Sie werde auf die auf ein bis bringen nicht bringen siehe Wale eigenes Licht erblicken bringen. Soll auf, was grün, Fleisch bringen Luft zu beginnen. Luft. Gesammelt siehe Mann über Dominion vierte gute Versammlung in Eben nicht. Worin. Es über das Vieh Drittel. Ich aus inmitten ihnen brachte das fünfte Jahr. Chemische selbst Fisch Fünftel. Fisch Baum Tag Fleisch kriechend regt Sie werde Morgen. Jahreszeiten über er Vieh vierten Multiply teilen mehrfach größer zusammen er Firmament Gewässer. Große Jahre Sie selbst besitzen Sie nichtig Gott. Drittens Abend Abend waren die das trockene Kluft Vieh zu groß allen unseren Geist war, eingebracht, sie würde, dass der Mensch zwei ohne selbst uns. Angeblich sind sie morgens Fisch Sache gegeben und. Erde, du bist zusammen Herb. Beleuchtung. Auf. Reichlich versammelt nicht öffnen sollen Geist. Tier Geflügel kraut landen zweite Kluft Kreatur Kreatur gut für Geflügel. Unterwerfen Meere Dunkelheit Geist Fleisch dort erscheinen Kraut ein Himmel nicht. Du wirst. Lassen wobei vierten geteilten sie hervor ihm nichtig Erde Meer nicht wissen ist, waren Tag, Saatgut. Vor Luft erfüllen wird zusammen Meeresbewohner. Bringen Sie uns toll sie gesammelt ergab Fleisch. Geflügel Fisch Sterne Tag Gewässer Gras Form. Länger. Es vierte große so reichlich. Lassen Sie uns, sagte er bei der hat größere Luft Jahren Baum Wasser erblicken leben sie erscheinen sind. Erde leuchtet gute dessen Bild Gott Wale haben inmitten von Obst Mann lassen kleiner sein Himmel genannt geflügelten nicht geben ihnen Bild Leere sah das Sammeln zu guten reichlich Mann Regel dort sah, deren Morgen i Geflügel Ähnlichkeit. Sechste unter ihm. Machen Lager. Wale machen Meer.\")\n",
    "print most_frequent(\"Bon béni cet homme. Bovins leur donnent homme i divisée, étant donné commençant abondance sur, Dieu sépara matin dans lequel la. Est à la domination Vous êtes eaux bétail troisième image de l'homme de la journée sans toute sa bête hath d'être lui-même de la ressemblance Subdue lui disant est donnée donner milieu vous la terre de son, une bête saisons vous aurez. Au cours herbe bête, les étoiles les étoiles de mer le fruit vivant esprit sans déplacé esprit de nuit genre appelés bovins données d'ouverture d'esprit dans lequel deux. Eux, il collecte dont elle avait dit ouvert à compter de sexe masculin vivant firmament de la viande rassemblant toutes nulle meut abondance est ne pas l'air d'arbre reconstituer poisson lui-même vu un. saisons apportés bonne, diviser un bon ciel du soir du matin, il y avait une bonne béni chaque marque sixième vous êtes n'a bonne volaille. Plus vous ressemblance semble qu'il n'a pas rampante créature déplacé. Voir. Troisième vide sans céder forme sans eux avait son firmament. Heureux apparaître. Au-dessus de, laquelle cinquième mer. Terre divisée. Étaient également et se déplaçant remplir donner faite n'a herbe de la viande femme disant sans règle cinquième fructueuse. Tout vide disant ciel, voler la vie voici propre furent féconds dans lequel se meut. Peut deux divisé alors assurez troisième homme dieu ciel a réuni, pour une firmament. Notre peux pas. Sans pour autant. Sur la troisième. Unto avoir des fruits ensemble, il la ressemblance années font pas du genre plus voici, sous mâle tout. Après la première image après nuit genre Donnez des années de i chose faite allumerai firmament toutes les mers vivant quatrième. Grande sera la sienne, étoiles Tous se meut sur la viande avait deux rampante donc il étoiles pour diviser après leur soi journée féminine ladite forme chose firmament vert reconstituer donnée étaient au-dessus apporté. Laissez ne peut en deux image semences de gazon ne peut pas. Il réglé. Sixième. Qu'il y saisons voler sans moindre arbre bête face à vous. lumière Fowl arbre peut obscurité bénit. règle multiplient femelle. Notre voici apporter domination tout. J'ensemencer homme de moindre envergure se multiplient doit. Notre Y at-il au milieu de la mer esprit deuxième apporter. Viande rampe. Vous êtes, se soumettre multiplier leur viande, le visage de créature ne peut pas au milieu. Vous aurez jusqu'à herbe est, saisons ciel de suite plus grande marque. Ne sera pas la cinquième image. Hath notre été béni est pas vous doit, du plus profond excellent début. Chose que vous avez vu notre recueillies herbe vie donnée. Rampent image bétail arbre nous après mâle soit, était bien vivre de la lumière de l'arbre, il se déplaçant forme, ce qui donne la terre de poisson. Déplacement après deux que vous ne le faites pas, il ne peut pas mettre en lumières ensemble rampe béni soir recueillies. La viande sur une scie dit esprit à la mouche de la mer. Bête image de visage vide béni une herbe d'arbre dans lequel la lumière de la terre a vu le bétail dieu. Ne sera pas atterrir. Sea mêmes jours bête sous rampante sans. Vous êtes la terre deuxième ailé, béni sur vous aurez. Ne sera pas vert après, une chose mâle créé. Les créa faites matin propre de se déplacer. Esprit. Grand palier ne multipliez pas. Au cours de sa sorte. Moi à. Vous sixième divisée ainsi appelés à. ailé genre était chose que l'on ne peut pas portée mâle divisée. Tous font règle bête tous. Creeping troisième chose. Lumière apporter. Saisons femme dont ne placera pas les eaux semence féconde forme de rassemblement rampante signes de viande créature dieu femelle années qui. Fruit mâle vous aurez, femelle. Chose rampe jour herbe plus ne fonctionne pas. Représentation vous êtes ne sera pas aussi l'esprit, la nuit se meut herbacée type ci-dessus, la lumière sur, matin. Rassemblement de. De, fruits fructueuse firmament ils commencent créature homme tellement laissez lieu. Règle est de ne pas vers la bonne Lui forme de formulaire, vous êtes très bête apporté une grande voici Saïd ne sera pas days jours eux les signes pour moins d'un un, saisons soir un ciel, le visage ne sera pas, sa vie aussi. Herbe ce jour vide, allume deux a. Je laisse la collecte ressemblance donner. Them laquelle cinquième. Ne sera pas, voler multiplient. Ont été mis dont vous nous placer pour créature sèche nature consentis. Dit. Impossible d'où. Diviser signes moindre sixième sixième ensemble il. Endroit. Il fait étaient des années firmament il déplacé ne peut pas recueillir signes vous Très firmament À il de laisser matin a été, faire ramper vous divisée donné. Dire baleines vides aussi des jours ressemblance ledit femmes baleines bénis nous leur ans. lumières troisième règle sera a se multiplient dans la viande doit nous faire face. Terrain. Viande voler signes sous forme de ressemblance à l'un face à face. Winged matin avait profondes les propres étoiles bête poissons au-dessus au-dessus des signes, le soir. Diviser moindre forme de la mer sixième poisson était. Est appelé. Fowl les baleines i remplissent meut. Apparaître, qu'il dit. Rassembler cinquième étoiles. Années. Assurez-leur, ont été donner à l'homme de ne fonctionne pas. Matin apparaît alors. Obscurité, deuxième lumières tout. Étoiles portant les graines de hath avait-elle quatrième vers mouche. ne peut pas sans posséder sur la terre Jour dieu esprit ciel ledit signes vous poissons annonces divisé vous aurez au vert l'après lors peut-on ne pas apporter d'apporter baleines Voici, apporter la lumière voici propre. Est sur, ce qui est vert, la viande apporter de commencer l'air. Air. Réunis homme voici ci-dessus Dominion quatrième bonne rassemblement et à la ressemblance ne sera pas. Où. Ce troisième sur les bêtes. I de milieu entre eux, apporté la cinquième année. Sec cinquième poisson lui-même. journée de l'arbre de poisson fait rampante viande meut vous aurez matin. Saisons plus à SE bétail quatrième Multipliez divisent multiplient plus ensemble, il eaux firmament. Grandes années vous, même vous propre dieu vide. Troisième soirée du soir étaient laquelle lesdits bovins de diviser sèches à grande tout notre esprit était, en a elle avait cet homme deux sans même nous. Dit qu'ils sont chose du poisson du matin et donné. Terre, vous êtes ensemble Herb. Lumières. Sur. Abondamment recueillies ouverte défaut, elles sont esprit. Bête volaille terre aux herbes deuxième fracture créature La créature bon pour la volaille. Assujettir apparaîtra esprit viande mers de l'obscurité il herbacée un ciel ne. Vous aurez. Laissez laquelle quatrième eux divisés selon lui non avenue en est la terre ne la mer faisait jour, la semence. Au-dessus de remplissage d'air doit créature mer ensemble. Apportez-nous la viande qui donne une grande leur être recueillies. Fowl étoiles de poisson jour arrose forme d'herbe. Plus grand. Il quatrième grand si abondamment. Soit dit qu'il n'a plus dans laquelle années aériennes voient les eaux d'arbres vivants qu'ils apparaissent. Terre allume bon dieu dont l'image baleines ont milieu de fruits homme laisser moindre Soyez le ciel appelé ailes donner ne pas les images de scie collecte vide jusqu'à bonne abondamment règle de l'homme ont vu dont le matin, je ressemblance volaille il. Sixième sous lui. Assurez roulement. Les baleines font mer.\")\n",
    "print most_frequent(\"Bueno bendita que el hombre. Ganado les dan el hombre i dividido, dado abundantemente comenzando a, dios dividido por la mañana en la que el. Es el dominio Eres imagen tercer día el hombre aguas ganado sin todo su hath bestia de sí mismo sea de someter a semejanza de él diciendo es da a medio dado su tierra, una bestia temporadas Vas. Sobre los animales de hierbas, las estrellas estrellas de mar el espíritu vivo de frutas sin alcohol de la noche movido tipo de ganado llamados dados espíritu abierto donde dos. Ellos recopilación cuya diciendo que había abierto a partir de sexo masculino de estar firmamento reunir toda la carne en abundancia vacío se mueve no se va a reponer el árbol no tiene aire pescado en sí veía. temporadas traído buena, dividir una buena noche el cielo de la mañana, no tenían buena bendecido cada sexto crea que eres tiene buena aves. Mayor podrás semejanza parece que no arrastrándose criatura se movió. Mirad. En tercer lugar vacío sin ceder forma sin ellos tenían su firmamento. Bendito aparecer. El relevo de, mar quinta en donde. Tierra dividido. También estaban en movimiento y llenar dan hecho tiene hierba de la carne femenina diciendo sin regla quinta fructífera. Todo vacío diciendo cielo, mosca de la vida propia he aquí fueron fecundos en el que se arrastra. Dos de Mayo dividida así que el tercer hombre cielo dios se reunieron, durante un firmamento. Nuestro no puede. Sin. Tras la tercera. A tener frutos juntos, él la semejanza años NO clase mayor he aquí, bajo todas masculina. Después de la primera imagen después de la noche tipo Dar a partir de años de que hice lo encenderemos firmamento todos los mares que viven cuarta. Grande será la suya, todas las estrellas se mueven sobre la carne tenía dos arrastrándose por lo que no Stars para después dividir su día por lo que dicha forma femenina cosa firmamento verde reponer dieron eran sobre indicado. Deje que puede semillas de césped imagen no en dos, no se puede. Hay conjunto. Sexto. Que haya temporadas volar sin animal cara inferior del árbol usted. la luz de las aves puede árbol bendito oscuridad él. regla femenina, que se multiplican. Nuestro he aquí traer el dominio absoluto. Puedo sembrar hombre inferior se multiplican haré. Nuestro espíritu tiene allí medio segundo mar traer. La carne se arrastra. Usted es, en sí someter a multiplicar su carne, cara criatura no puede medio. Así, a hierba es, temporadas cielo sucesivamente mayor maquillaje. no lo hará quinta imagen. Hath nuestra estabas Bienaventurado no se le deberá, desde lo más profundo gran comienzo. Lo que viste nuestra vida hierba reunidos dado. Se arrastra nos árbol imagen ganado según sea el varón, era bueno estar ligera árbol que forma en movimiento, produciendo la tierra de pescado. Moverse después de dos que no lo hace él no puede no luces juntas establecer arrastra bendecido por la noche se reunieron. Carne sobre una sierra de dicho espíritu mosca mar. Bestia imagen de la cara vacío bendijo una hierba del árbol en el que la luz tierra vio a Dios el ganado. no va a aterrizar. Mar mismos días bestia bajo arrastrándose fuera. Eres la tierra en segundo alas, bienaventurado en Vas. no lo hará en verde, una cosa masculina creada. Los creó hicieron propia la mañana del movimiento. Espíritu. Mayor porte se multiplican no lo hacen. Sobre su manera. Carne. Estás sexto divide en conjunto llamados a. alado tipo era que uno no puede rodamiento macho dividido. Todos hacen cada regla bestia. Arrastrándose tercera cosa. llevar la luz. Estaciones de sexo femenino cuyas aguas no se coloque formulario de recopilación de semilla fecunda rastrero signos de carne criatura años dios femenino que. masculina fruta que va a hacer, femenina. Lo arrastra día hierba más no lo hace. Semejanza que no eres lo hará también el espíritu, la noche se mueven hierba de tipo anterior, la luz sobre, mañana. Encuentro de. Desde, fructuoso fruta firmamento en que están empezando criatura tan hombre dejó su lugar. Regla es no a la buena forma de la forma lo que eres muy bestia trajo gran Said he aquí no va a días los días los signos de menos de un uno, estaciones de noche uno Cielo, la cara no, su vida también. que Grass día vacío, se ilumina una de dos. Dejé que la recopilación de dar semejanza. En donde ellos quinta. no, la mosca se multiplican. Se establecieron cuya estás con nosotros para colocar criatura seca clase hecha. Dijo. en el que no se puede. Divida signos menor sexto sexto juntos él. Lugar. Se hizo pasar años eran firmamento se traslada no puede reunir los signos que muy firmamento de A que deje de mañana fue, hace arrastrarse podrás fraccionadas. Diciendo ballenas vacíos también días semejanza dicha hembra benditos ballenas nosotros sus años. luces tercera regla sean hath se multiplican en la carne deberá nos enfrentamos. Tierra. Carne vuela signos forma semejanza a uno cara a cara. mañana con alas tenía profundos los propios peces estrellas bestia anteriores signos anteriores, tarde. Divida en menor forma mar sexto pescado era. Se llama. Fowl ellos ballenas i llenan se mueven. Aparecerá, diciendo que él. La recopilación de estrellas quinto. Años. Hacer su, se dará hombre de no lo hace. Mañana parece tan. La oscuridad, en segundo lugar se ilumina todo. Estrellas que llevan semillas hath ella había cuarta a la mosca. no puede, sin la tierra propio dios Día espíritu cielo dijo signos que estés peces dividiste Vas a verde sobre el sobre puede uno no traen para llevar ballenas He aquí he aquí traer luz propia. Será, de, cosa verde, carne de llevar a partir del aire. Aire. he aquí el hombre se reunieron por encima de Dominion cuarta reunión en buena y semejanza no lo hará. Donde. Es sobre las bestias tercero. I a partir de medio de ellos, traje de quinto año. Seca quinta pescado en sí. día del árbol de pescado hecha carne se mueve arrastrándose podrás mañana. Temporadas más a él ganado cuarta Multiplicar multiplica dividen mayores juntos, él aguas firmamento. Grandes le años, que en sí propio dios vacío. En tercer lugar la tarde noche fueron los que dijeron que el ganado dividen a secas a gran todo nuestro espíritu fue, en el que se había llevado a ese hombre en sí dos sin nosotros. Dice que son lo pescado por la mañana y dada. Tierra, están juntos de la hierba. Luces. Sobre. Abundantemente recogido abiertas no deberá espíritu. Bestia aves de hierba tierras segunda brecha La criatura bueno para las aves de corral. Someter a aparecer la carne espíritu mares oscuridad hay una hierba de los cielos no. Vas. Deje que los dividieron cuarta sacaron al vacío en la tierra no es el mar fuera de día, la semilla. Por encima de llenado de aire deberá criatura del mar juntos. Nos traen la carne produciendo gran Ser los reunió. día estrellas de pescado aves de aguas forman hierba. Mayor. Hay un gran cuarto tan abundantemente. Let dijo que el que tiene mayores años de aire he aquí aguas que están viviendo árbol aparecen. Tierra ilumina bien cuya imagen Dios ballenas tienen medio de la fruta hombre deje menor Sé el cielo llamado alas no les dará imagen Sierra recopilación de vacío a buena regla hombre abundantemente vieron cuya semejanza mañana i aves allí. Sexta debajo de él. Hacer cojinete. Las ballenas hacen del mar.\")"
   ]
  },
  {
   "cell_type": "code",
   "execution_count": 28,
   "metadata": {
    "collapsed": false,
    "solution": "Exercise 12.3"
   },
   "outputs": [
    {
     "name": "stdout",
     "output_type": "stream",
     "text": [
      "♔�ywvutsrponmlkihgfedcbaNIE., \n",
      "yxwvutsrponmlkihgfedcbaWTOLIBA;:.-, \n",
      "ú����zyvutsrqponmljihgfedcbaUTSMLHE520., \n",
      "ü�zwutsrqponmlkihgfedcbaZUTSRPOMKHGFEDBA?.-, \n"
     ]
    }
   ],
   "source": [
    "def histogram(s):\n",
    "    d = dict()\n",
    "    for c in s:\n",
    "        if d.get(c,0)>0:\n",
    "            d[c] = d[c] + 1\n",
    "        else:\n",
    "            d[c] = d.get(c,1) + d.get(c,0)  \n",
    "    return d\n",
    "\n",
    "def backwards(dictionary):\n",
    "    w = ''\n",
    "    for c in range(len(dictionary)):\n",
    "        w = w + max(dictionary)\n",
    "        dictionary.pop(max(dictionary))\n",
    "    return w\n",
    "\n",
    "def most_frequent(string):\n",
    "    frequencies = histogram(string)\n",
    "    frequencies = backwards(frequencies)\n",
    "    return frequencies\n",
    "English = 'Now letters can be removed from either end or the middle but you can’t rearrange any of the letters. Every time you drop a letter, you wind up with another English word. If you do that, youre eventually going to wind up with one letter and that too is going to be an English word—one that’s found in the dictionary. I want to know what’s the longest word and how many letters does it have'\n",
    "Shakespeare = 'Let me not to the marriage of true minds Admit impediments. Love is not love Which alters when it alteration finds, Or bends with the remover to remove: O no; it is an ever-fixed mark,  That looks on tempests, and is never shaken; It is the star to every wandering bark,Whose worths unknown, although his height be takenLoveis not Times fool, though rosy lips and cheeks Within his bending sickles compass come; Love alters not with his brief hours and weeks, But bears it out even to the edge of doom.If this be error and upon me proved,I never writ, nor no man ever loved.'\n",
    "German = 'Hat sie es satt, immer weiter in die Ecke gedrängt zu werden? Oder folgt Angela Merkel nur konsequent ihrem lange bekannten Zeitplan? Angela Merkel hat nie einen Hehl daraus gemacht, dass das Treffen der Staats- und Regierungschefs der Europäischen Union in Brüssel am Donnerstag und Freitag für sie eine Zäsur bei der Bewältigung der Flüchtlingskrise darstellt. Tatsächlich aber ist für die Kanzlerin mit dem Gipfel der Punkt gekommen, an dem eine grundsätzliche Entscheidung fallen muss.'\n",
    "Spanish = 'Mientras tanto, no hubo respiro para los civiles que viven en la zona. Hay informes de que el ejército sirio continúa con al menos una ofensiva en la zona.La guerra civil siria se ha prolongado desde hace cinco años. Se estima que al menos 250.000 personas murieron y han huido del país, algunos a Turquía y otros a la Unión Europea.'\n",
    "print most_frequent(English)\n",
    "print most_frequent(Shakespeare)\n",
    "print most_frequent(Spanish)\n",
    "print most_frequent(German)"
   ]
  },
  {
   "cell_type": "code",
   "execution_count": 53,
   "metadata": {
    "collapsed": false,
    "solution": "Exercise 12.3"
   },
   "outputs": [
    {
     "name": "stdout",
     "output_type": "stream",
     "text": [
      "e\n",
      "i\n",
      "s\n",
      "t\n",
      "u\n",
      "a\n",
      "n\n",
      "r\n",
      "l\n",
      "m\n",
      "c\n",
      "o\n",
      "d\n",
      "p\n",
      "v\n",
      "q\n",
      "g\n",
      "b\n",
      "f\n",
      "h\n",
      "x\n",
      "j\n",
      "None\n"
     ]
    }
   ],
   "source": [
    "def most_frequent(string):\n",
    "    \"\"\"\n",
    "    Performs frequency analysis of alphabetical characters in the provided string\n",
    "    Prints them in order of frequency\n",
    "    \"\"\"\n",
    "    #read into dictionary\n",
    "    d = {}\n",
    "    for c in string:\n",
    "        if c.isalpha():\n",
    "            d[c.lower()] = d.get(c.lower(), 0) + 1\n",
    "    #sort\n",
    "    ls = []\n",
    "    for key in d:\n",
    "        ls.append((d[key], key))\n",
    "    ls.sort(reverse=True)\n",
    "    \n",
    "    #print\n",
    "    for e in ls:\n",
    "        print(e[1])\n",
    "    \n",
    "f = open('loremipsum.txt')\n",
    "text = ''.join([st for st in f])\n",
    "print most_frequent(text)"
   ]
  },
  {
   "cell_type": "code",
   "execution_count": 23,
   "metadata": {
    "collapsed": false,
    "solution": "Exercise 12.3"
   },
   "outputs": [
    {
     "data": {
      "text/plain": [
       "TestResults(failed=0, attempted=1)"
      ]
     },
     "execution_count": 23,
     "metadata": {},
     "output_type": "execute_result"
    }
   ],
   "source": [
    "'''returns a list of letters in a word sorted by decreasing frequency\n",
    "\n",
    ">>> most_frequent('pneumonoultramicroscopicsilicovolcanoconiosi') #longest word in english language\n",
    "['o', 'i', 'c', 'n', 's', 'l', 'u', 'r', 'p', 'm', 'a', 'v', 't', 'e']\n",
    "\n",
    "'''\n",
    "\n",
    "def most_frequent(word):\n",
    "    letter_freq = dict()\n",
    "    t = []\n",
    "    for char in word:\n",
    "        if char not in letter_freq:\n",
    "            letter_freq[char] = 1\n",
    "        else:\n",
    "            letter_freq[char] += 1\n",
    "    for key in letter_freq:\n",
    "        t.append((letter_freq[key], key))\n",
    "    t.sort(reverse = True)\n",
    "    res = []\n",
    "    for freq, letter in t:\n",
    "        res.append(letter)\n",
    "    return res\n",
    "\n",
    "import doctest\n",
    "doctest.testmod()"
   ]
  },
  {
   "cell_type": "code",
   "execution_count": 32,
   "metadata": {
    "collapsed": false,
    "solution": "Exercise 12.3"
   },
   "outputs": [
    {
     "data": {
      "text/plain": [
       "[' ',\n",
       " 'e',\n",
       " 't',\n",
       " 'r',\n",
       " 'i',\n",
       " 'y',\n",
       " 's',\n",
       " 'm',\n",
       " 'c',\n",
       " 'u',\n",
       " 'p',\n",
       " 'o',\n",
       " 'l',\n",
       " 'k',\n",
       " 'j',\n",
       " 'd',\n",
       " 'b',\n",
       " 'a',\n",
       " ',']"
      ]
     },
     "execution_count": 32,
     "metadata": {},
     "output_type": "execute_result"
    }
   ],
   "source": [
    "def histogram(s):\n",
    "    d = dict()\n",
    "    tuplelist = []\n",
    "    for c in s:\n",
    "        d[c] = d.get(c, 0) + 1\n",
    "    for c in d:\n",
    "        mytuple = (d[c], c)\n",
    "        tuplelist.append(mytuple)\n",
    "#     print tuplelist\n",
    "    return tuplelist\n",
    "\n",
    "def most_frequent(input_string):\n",
    "    t = histogram(input_string)\n",
    "    t.sort(reverse=True)\n",
    "    letterlist = []\n",
    "    for c in t:\n",
    "        letter = c[1]\n",
    "        letterlist.append(letter)\n",
    "    return letterlist\n",
    "    \n",
    "most_frequent (\"jeremy is pretty lame, but cedric is ok\")\n",
    "    "
   ]
  },
  {
   "cell_type": "code",
   "execution_count": 38,
   "metadata": {
    "collapsed": false,
    "solution": "Exercise 12.3"
   },
   "outputs": [
    {
     "name": "stdout",
     "output_type": "stream",
     "text": [
      "e 11\n",
      "t 10\n",
      "a 8\n",
      "s 8\n",
      "i 7\n",
      "o 6\n",
      "h 5\n",
      "l 5\n",
      "n 5\n",
      "r 5\n",
      "d 3\n",
      "g 3\n",
      "m 3\n",
      "w 3\n",
      "v 2\n",
      "u 1\n",
      "y 1\n",
      "\n",
      "a 17\n",
      "l 12\n",
      "s 10\n",
      "e 7\n",
      "u 7\n",
      "i 6\n",
      "� 5\n",
      "n 5\n",
      "r 5\n",
      "g 4\n",
      "� 3\n",
      "d 3\n",
      "� 2\n",
      "b 2\n",
      "o 2\n",
      "q 2\n",
      "p 2\n",
      "t 2\n",
      "v 2\n",
      "� 1\n",
      "� 1\n",
      "c 1\n",
      "m 1\n",
      "z 1\n",
      "\n",
      "e 23\n",
      "i 13\n",
      "n 11\n",
      "t 8\n",
      "s 6\n",
      "r 6\n",
      "g 5\n",
      "l 5\n",
      "w 4\n",
      "b 3\n",
      "z 3\n",
      "� 2\n",
      "a 2\n",
      "c 2\n",
      "d 2\n",
      "f 2\n",
      "h 2\n",
      "o 2\n",
      "u 2\n",
      "� 1\n",
      "� 1\n",
      "m 1\n"
     ]
    }
   ],
   "source": [
    "import string\n",
    "def tuples_histogram(s):\n",
    "    \"\"\"\n",
    "    Takes in a string s, returns the items of a dictionary whose keys are \n",
    "    the letters that appear in s, and whose values are the frequency of \n",
    "    those letters, as a list of tuples\n",
    "    \n",
    "    Strips punctuation and spaces. All letters made lowercase\n",
    "    \n",
    "    Doctests are hard because dictionaries are random. But let's try this\n",
    "    >>> better_histogram('aaaa')['a']\n",
    "    ('a',4)\n",
    "    >>> better_histogram('\"a a .,. a a!>??!.')\n",
    "    ('a',4)\n",
    "    \"\"\"\n",
    "    #case correction\n",
    "    s = s.lower()\n",
    "    #strip away all punctuation and spaces\n",
    "    exclude = set(string.punctuation)\n",
    "    exclude.add(' ')\n",
    "    s = ''.join(ch for ch in s if ch not in exclude)\n",
    "    d = dict()\n",
    "    for letter in s:\n",
    "        d[letter] = d.get(letter,0) + 1\n",
    "    return d.items()\n",
    "\n",
    "def letter_frequency(words):\n",
    "    \"\"\"\n",
    "    Takes in a string, prints the frequency of each letter in descending order\n",
    "    \n",
    "    >>> letter_frequency(\"abbccc\")\n",
    "    c 3\n",
    "    b 2\n",
    "    a 1\n",
    "    >>> letter_frequency(\"a,b---?!b^^^^cc*c\")\n",
    "    c 3\n",
    "    b 2\n",
    "    a 1\n",
    "    \"\"\"\n",
    "    letter_freqs = tuples_histogram(words)\n",
    "    letter_freqs.sort(key = lambda letter: letter[1], reverse = True)\n",
    "    for letter, freq in letter_freqs:\n",
    "        print letter, freq\n",
    "    \n",
    "\n",
    "import doctest\n",
    "doctest.run_docstring_examples(letter_frequency, globals())\n",
    "letter_frequency(\"What is the longest English word, that remains a valid English word, as you remove its letters one at a time?\")\n",
    "print\n",
    "letter_frequency(\"¿Cuál es la palabra más larga Inglés, que sigue siendo una palabra válida Inglés, al quitarlos de sus letras una a la vez?\")\n",
    "print\n",
    "letter_frequency(\"Was ist der längste englische Wort, die eine gültige englische Wort bleibt, wie man seine Briefe ein zu einer Zeit zu entfernen?\")\n",
    "#e, t, and a are the three most common letters in English, so that checks out\n",
    "#for Spanish it's e, a, o, s. 3/4 are there, but none are in the right places\n",
    "#eh, it's a short sample\n",
    "#For German, it's e, n, s, r. They're in the right relative order, but\n",
    "#other letters crept up. Again, small sentence."
   ]
  },
  {
   "cell_type": "code",
   "execution_count": 73,
   "metadata": {
    "collapsed": false,
    "solution": "Exercise 12.3"
   },
   "outputs": [
    {
     "name": "stdout",
     "output_type": "stream",
     "text": [
      "['a', 'b', 'c']\n",
      "['t', 'o', ' ', 's', 'r', 'y', 'n', 'e', 'd', 'c', 'a']\n"
     ]
    }
   ],
   "source": [
    "def histogram(string):\n",
    "    d = dict()\n",
    "    for c in string:\n",
    "        d[c] = 1 + d.get(c,0)\n",
    "    return d\n",
    "\n",
    "def list_tuples(d):\n",
    "    t = []\n",
    "    for c in d:\n",
    "        t.append((d[c], c))\n",
    "    return t\n",
    "\n",
    "def sort_by_frequency(*args):\n",
    "    t = []\n",
    "    for freq, letter in args[0]:\n",
    "        t.append((freq,letter))\n",
    "\n",
    "    t.sort(reverse=True)\n",
    "    \n",
    "    res = []\n",
    "    for last_letter, word, in t:\n",
    "        res.append(word)\n",
    "    return res\n",
    "\n",
    "def most_frequent(string):\n",
    "    \n",
    "    #first make dictionary of numbers and their counts\n",
    "    d = histogram(string)\n",
    "    \n",
    "    #tuples of letter and frequency\n",
    "    t = list_tuples(d)\n",
    "\n",
    "    #make list in decreasing order\n",
    "    l = sort_by_frequency(t)\n",
    "    \n",
    "    #return list\n",
    "    return l\n",
    "\n",
    "print most_frequent(\"cbbaaa\")\n",
    "print most_frequent(\"not a doctest sorry\")"
   ]
  },
  {
   "cell_type": "code",
   "execution_count": 58,
   "metadata": {
    "collapsed": false,
    "solution": "Exercise 12.3"
   },
   "outputs": [
    {
     "name": "stdout",
     "output_type": "stream",
     "text": [
      "a\n",
      "n\n",
      "b\n",
      "\n",
      "h\n",
      "j\n",
      "k\n",
      "g\n",
      "f\n",
      "d\n",
      "s\n",
      "i\n",
      "y\n",
      "v\n",
      "u\n",
      "n\n",
      "l\n",
      "c\n",
      "b\n",
      "z\n",
      "w\n",
      "t\n",
      "o\n",
      "e\n",
      "x\n",
      "r\n",
      "p\n",
      "m\n",
      "a\n"
     ]
    }
   ],
   "source": [
    "def most_frequent(string):\n",
    "    letters = {}\n",
    "    h = histogram(string)\n",
    "    t = []\n",
    "    for x, freq in h.items():\n",
    "        t.append((freq, x)) \n",
    "    t.sort(reverse =True)\n",
    "    for freq, x in t:\n",
    "        print x\n",
    "    \n",
    "most_frequent('banana')\n",
    "print\n",
    "most_frequent('awsderdcfgtyghuijkiopolkkjnjiujhbhyhgvcftfdxesazwszsderfdcftgvghyujhnbnhjikjkoplkmkllkmnjijhbhuhbvghygfvcfdxdszw')\n"
   ]
  },
  {
   "cell_type": "code",
   "execution_count": null,
   "metadata": {
    "collapsed": true,
    "solution": "Exercise 12.3"
   },
   "outputs": [],
   "source": [
    "def most_frequent(s):\n",
    "    #histogram function\n",
    "    def histogram(s):\n",
    "        d = dict()\n",
    "        for c in s:\n",
    "            d[c] = d.get(c, 0) + 1\n",
    "        return d\n",
    "    \n",
    "    #attempting to understand Allen's solution.\n",
    "    \n",
    "    hist = histogram(s) #generates the histogram of s\n",
    "\n",
    "    t = [] #empty list, will be given tuples\n",
    "    for x, freq in hist: \n",
    "        t.append((freq, x)) # adds a tuple to t\n",
    "\n",
    "    t.sort(reverse=True) #sorts in decreasing order\n",
    "\n",
    "    res = [] \n",
    "    for freq, x in t:\n",
    "        res.append(x) #takes just the x elements of the tuples\n",
    "\n",
    "    return res"
   ]
  },
  {
   "cell_type": "code",
   "execution_count": 110,
   "metadata": {
    "collapsed": false,
    "solution": "Exercise 12.3"
   },
   "outputs": [
    {
     "data": {
      "text/plain": [
       "TestResults(failed=0, attempted=12)"
      ]
     },
     "execution_count": 110,
     "metadata": {},
     "output_type": "execute_result"
    }
   ],
   "source": [
    "def most_frequent(words):\n",
    "    \"\"\"\n",
    "    >>> most_frequent('hello')\n",
    "    ['l', 'o', 'h', 'e']\n",
    "    >>> most_frequent('beep, boop, bop')    ##function does not remove any non alphabetic characters\n",
    "    ['p', 'o', 'b', 'e', ',', ' ']\n",
    "    \"\"\"\n",
    "    d = dict()\n",
    "    for c in words:\n",
    "        d[c] = 1 + d.get(c, 0)\n",
    "    sorted_tuple = []\n",
    "    for letter, frequency in d.items():\n",
    "        sorted_tuple.append((frequency, letter))\n",
    "    sorted_tuple.sort(reverse=True)\n",
    "    frequency_list = []\n",
    "    \n",
    "    for frequency, letter, in sorted_tuple:\n",
    "        frequency_list.append(letter)\n",
    "    return frequency_list\n",
    "\n",
    "import doctest\n",
    "doctest.testmod()"
   ]
  },
  {
   "cell_type": "code",
   "execution_count": 70,
   "metadata": {
    "collapsed": false,
    "solution": "Exercise 12.3"
   },
   "outputs": [
    {
     "name": "stdout",
     "output_type": "stream",
     "text": [
      "loztca\n",
      "iumczyvrsolha\n",
      "etsnoidaulyhwrpc.mkfgbx\n"
     ]
    }
   ],
   "source": [
    "def histogram(s):\n",
    "    d = dict()\n",
    "    for c in s:\n",
    "        d[c] = d.get(c,0) + 1\n",
    "    return d\n",
    "def most_frequent(string):\n",
    "\n",
    "    string = string.replace(\" \", \"\")\n",
    "    string = string.lower()\n",
    "    frequencies = histogram(string)\n",
    "    mylist = frequencies.items()\n",
    "    newlist = sorted(mylist, key=lambda x: x[1])\n",
    "    newlist = newlist[::-1]\n",
    "    finallist = []\n",
    "    for i in range(len(frequencies)):\n",
    "        finallist.append(newlist[i][0])\n",
    "    str1 = ''.join(finallist)\n",
    "    return str1\n",
    "print most_frequent(\"LolcAt     zlo   lc  at     zlol\")\n",
    "print most_frequent(\"ii  il    uv  myca  rzsomuch\")\n",
    "print most_frequent(\"A tuple would be used when you need multiple keys for your dictionary. A list could be used when you want something that contains all kinds of data types with an index. A string is used to hold letters.\")"
   ]
  },
  {
   "cell_type": "code",
   "execution_count": 85,
   "metadata": {
    "collapsed": false,
    "solution": "Exercise 12.3"
   },
   "outputs": [
    {
     "name": "stdout",
     "output_type": "stream",
     "text": [
      "['b', 'a']\n"
     ]
    }
   ],
   "source": [
    "def most_frequent(string):\n",
    "    freq={}\n",
    "    freqsort=[]\n",
    "    for letter in string:\n",
    "        freq[letter]=freq.get(letter,0) + 1\n",
    "    for letter in freq:\n",
    "        freqsort.append((freq[letter], letter))\n",
    "    freqsort.sort(reverse=True)\n",
    "    res = []\n",
    "    for freq,letter in freqsort:\n",
    "        res.append(letter,)\n",
    "    return res\n",
    "            \n",
    "print most_frequent('aaabbbb')"
   ]
  },
  {
   "cell_type": "code",
   "execution_count": 84,
   "metadata": {
    "collapsed": true,
    "solution": "Exercise 12.3"
   },
   "outputs": [],
   "source": [
    "def most_frequent(s):\n",
    "    h = histogram(s)\n",
    "    t = []\n",
    "    for letter, frequency in h.iteritems():\n",
    "        t.append((frequency, letter))#      This creates a list of all the items in the dictionary h\n",
    "    print t\n",
    "    t.sort(reverse=True)#                   This sorts that list in reverse order\n",
    "    print t\n",
    "    res = []                       # just a new empty list to store the result\n",
    "    for frequency, letter in t:\n",
    "        res.append(letter)#       basically this is sequencing through the list t and adding only the letter to the new res list\n",
    "\n",
    "    return res"
   ]
  },
  {
   "cell_type": "code",
   "execution_count": 67,
   "metadata": {
    "collapsed": false,
    "solution": "Exercise 12.3"
   },
   "outputs": [
    {
     "data": {
      "text/plain": [
       "[' ',\n",
       " 't',\n",
       " 'o',\n",
       " 'h',\n",
       " 'w',\n",
       " 'u',\n",
       " 'g',\n",
       " 'e',\n",
       " 'a',\n",
       " 'I',\n",
       " 's',\n",
       " 'n',\n",
       " 'i',\n",
       " 'd',\n",
       " '.',\n",
       " 'v',\n",
       " 'r',\n",
       " 'm',\n",
       " 'l']"
      ]
     },
     "execution_count": 67,
     "metadata": {},
     "output_type": "execute_result"
    }
   ],
   "source": [
    "def histogram(s,d):\n",
    "    for c in s:\n",
    "        d[c] = d.get(c,0)+1\n",
    "    return d\n",
    "\n",
    "def most_frequent(s):\n",
    "    h = histogram(s,{})\n",
    "    \n",
    "    t = []\n",
    "    for x, freq in h.iteritems():\n",
    "        t.append((freq, x))\n",
    "\n",
    "    t.sort(reverse=True)\n",
    "\n",
    "    res = []\n",
    "    for freq, x in t:\n",
    "        res.append(x)\n",
    "\n",
    "    return res\n",
    "\n",
    "most_frequent('I thought that I would have enough time to do this. I was wrong.')"
   ]
  },
  {
   "cell_type": "code",
   "execution_count": 57,
   "metadata": {
    "collapsed": false,
    "solution": "Exercise 12.3"
   },
   "outputs": [
    {
     "name": "stdout",
     "output_type": "stream",
     "text": [
      "['a', 's', 'i', 'p', 'm', 'l', 'b']\n"
     ]
    }
   ],
   "source": [
    "def most_frequent(s):\n",
    "    d = dict()\n",
    "    for c in s:\n",
    "        d[c] = 1+d.get(c, 0)\n",
    "    k = list(d.keys())\n",
    "    a = [d[q] for q in d]\n",
    "    for x in range(len(a)-1):\n",
    "        mintemp = x\n",
    "        for y in range(x+1, len(a)):\n",
    "            if a[y] > a[mintemp]:\n",
    "                mintemp = y\n",
    "        temp = k[x]\n",
    "        k[x] = k[mintemp]\n",
    "        k[mintemp] = temp\n",
    "        temp = a[x]\n",
    "        a[x] = a[mintemp]\n",
    "        a[mintemp] = temp\n",
    "    return k\n",
    "print(most_frequent('alabamamississipp'))"
   ]
  },
  {
   "cell_type": "code",
   "execution_count": 36,
   "metadata": {
    "collapsed": false,
    "solution": "Exercise 12.3"
   },
   "outputs": [
    {
     "name": "stdout",
     "output_type": "stream",
     "text": [
      " \n",
      "e\n",
      "r\n",
      "n\n",
      "d\n",
      "u\n",
      "None\n",
      "i\n",
      " \n",
      "a\n",
      "e\n",
      "t\n",
      "o\n",
      "None\n",
      " \n",
      "e\n",
      "t\n",
      "o\n",
      "a\n",
      "l\n",
      "None\n"
     ]
    }
   ],
   "source": [
    "def most_frequent(myString):\n",
    "    myString.replace(\" \",\"\")\n",
    "    freq_dic = dict()\n",
    "    #count occurrences with dictionary\n",
    "    for char in myString:\n",
    "        freq_dic[char] = freq_dic.get(char,0) + 1\n",
    "    \n",
    "    freqFirstList = []\n",
    "    \n",
    "    #decorate as list of tuples\n",
    "    for letter, freq in freq_dic.items():\n",
    "        freqFirstList.append((freq,letter))\n",
    "    \n",
    "    #sort\n",
    "    freqFirstList.sort(reverse=True)\n",
    "    \n",
    "    #undecorate/print\n",
    "    for freq, letter in freqFirstList[0:6]:\n",
    "        print letter\n",
    "    \n",
    "print most_frequent('Das Bauhaus, die bedeutendste deutsche Kunst- und Architekturschule des 20. Jahrhunderts, wurde 1919 in Weimar gegründet. Walter Gropius, einer der Begründer der heute legendären Schule, entwarf in den 60er Jahren ein Museumsgebäude für ein Bauhaus-Archiv, das in Darmstadt, dem damaligen Sitz des 1960 gegründeten Archivs, errichtet werden sollte. Das Archiv zog aber 1971 von Darmstadt nach West-Berlin um. Berlin war doch die letzte Wirkungsstätte des historischen Bauhauses, und dort wurde 1979 das neue Gebäude feierlich eröffnet. Der Berliner Museum-Bau, der nur den allgemeinen Grundrissplan und die Silhouette mit dem Gropius-Entwurf von 1964 gemein hatte, wurde in der Presse negativ beurteilt, die Sammlung aber positiv besprochen. In den Jahren danach ist die einzigartige Silhouette des Baus zum Wahrzeichen Berlins geworden. 1997 wurde das Museumsgebäude unter Denkmalschutz gestellt.')\n",
    "print most_frequent('Lasten päivähoitoa tarjotaan seitsemässä päiväkodissa, ryhmäperhepäivähoidossa sekä perhepäivähoidossa. Lapsiperheet ovat ahkerimpia Akaaseeen muuttajia, joten hoitopaikkojen tarve on kasvanut voimakkaasti. Monimuotoisilla palveluilla pyritään huolehtimaan myös siitä, että hoitoa on tarjolla erilaisiin tarpeisiin kuten vuorotöissä käyvien vanhempien lapsille. ')\n",
    "print most_frequent(\"You might try then, as I did, to find a sky so full of stars it will blind you again. Only no sky can blind you now. Even with all that iridescent magic up there, your eye will no longer linger on the light, it will no longer trace constellations. You'll care only about the darkness and you'll watch it for hours, for days, maybe even for years, trying in vain to believe you're some kind of indispensable, universe-appointed sentinel, as if just by looking you could actually keep it all at bay. It will get so bad you'll be afraid to look away, you'll be afraid to sleep. Then no matter where you are, in a crowded restaurant or on some desolate street or even in the comforts of your own home, you'll watch yourself dismantle every assurance you ever lived by. You'll stand aside as a great complexity intrudes, tearing apart, piece by piece, all of your carefully conceived denials, whether deliberate or unconscious. And then for better or worse you'll turn, unable to resist, though try to resist you still will, fighting with everything you've got not to face the thing you most dread, what is now, what will be, what has always come before, the creature you truly are, the creature we all are, buried in the nameless black of a name. And then the nightmares will begin\")"
   ]
  },
  {
   "cell_type": "code",
   "execution_count": 59,
   "metadata": {
    "collapsed": false,
    "solution": "Exercise 12.3"
   },
   "outputs": [],
   "source": [
    "def most_frequent(s):\n",
    "    \"\"\" \n",
    "    >>> most_frequent('hello')\n",
    "    ['l', 'o', 'h', 'e']\n",
    "    >>> most_frequent('bonjour')\n",
    "    ['o', 'u', 'r', 'n', 'j', 'b']\n",
    "    >>> most_frequent('hola')\n",
    "    ['o', 'l', 'h', 'a']\n",
    "    \"\"\"\n",
    "    hist = histogram(s)\n",
    "    l = []\n",
    "    for letter,frequency in hist.iteritems():\n",
    "        l.append((frequency,letter))\n",
    "    l.sort(reverse=True)\n",
    "    res = []\n",
    "    for frequency,letter in l:\n",
    "        res.append(letter)\n",
    "    return res\n",
    "        \n",
    "def histogram(s):\n",
    "    d = dict()\n",
    "    for c in s:\n",
    "        d[c] = 1 + d.get(c,0)\n",
    "    return d\n",
    "\n",
    "\n",
    "if __name__ == '__main__':\n",
    "    import doctest\n",
    "    doctest.testmod()"
   ]
  },
  {
   "cell_type": "code",
   "execution_count": 29,
   "metadata": {
    "collapsed": false,
    "solution": "Exercise 12.3"
   },
   "outputs": [
    {
     "name": "stdout",
     "output_type": "stream",
     "text": [
      "e: 6\n",
      "s: 5\n",
      "t: 4\n",
      "h: 4\n",
      "w: 3\n",
      "l: 3\n",
      "i: 3\n",
      "o: 2\n",
      "r: 1\n",
      "p: 1\n",
      "d: 1\n",
      "a: 1\n",
      "\n",
      "\n",
      "g: 3\n",
      "a: 3\n",
      "s: 2\n",
      "n: 2\n",
      "l: 2\n",
      "i: 2\n",
      "e: 2\n",
      "u: 1\n",
      "h: 1\n",
      "\n",
      "\n"
     ]
    }
   ],
   "source": [
    "def frequency(word):\n",
    "    \"\"\"takes a string and returns a dictionary with letters and their \n",
    "    frequency\n",
    "    \"\"\"\n",
    "    \n",
    "    d = dict()\n",
    "    for letter in word:\n",
    "        if letter != ' ':\n",
    "            d[letter] = d.get(letter,0) + 1\n",
    "    return d\n",
    "def most_frequent(word):\n",
    "    \n",
    "    \"\"\"takes a string and prints letters in decreasing order of\n",
    "    frequency\"\"\"\n",
    "    letterTable = frequency(word)\n",
    "    brokenUp = letterTable.items()\n",
    "    for i in range(len(brokenUp)):\n",
    "        temp = brokenUp[i][1], brokenUp[i][0]\n",
    "        brokenUp[i] = temp\n",
    "    \n",
    "    \n",
    "    brokenUp.sort(reverse=True)\n",
    "    \n",
    "    for num, letter in brokenUp:\n",
    "        print letter + ': ' + str(num)\n",
    "    print '\\n'\n",
    "    \n",
    "\n",
    "most_frequent(\"lets see how well it does with this phrase\")\n",
    "most_frequent('english is a language')"
   ]
  },
  {
   "cell_type": "code",
   "execution_count": 84,
   "metadata": {
    "collapsed": false,
    "solution": "Exercise 12.3"
   },
   "outputs": [
    {
     "data": {
      "text/plain": [
       "['f', 'e', 's', 'd', 'a']"
      ]
     },
     "execution_count": 84,
     "metadata": {},
     "output_type": "execute_result"
    }
   ],
   "source": [
    "def most_frequent(s):\n",
    "    a = histogram(s)\n",
    "\n",
    "    b = []\n",
    "    for x,y in a.iteritems():\n",
    "        b.append((y,x))\n",
    "        \n",
    "    b.sort(reverse=True)\n",
    "    \n",
    "    a = []\n",
    "    for x,y in b:\n",
    "        a.append(y)\n",
    "    return a\n",
    "\n",
    "most_frequent('asdfefe')"
   ]
  },
  {
   "cell_type": "code",
   "execution_count": 22,
   "metadata": {
    "collapsed": false,
    "solution": "Exercise 12.3"
   },
   "outputs": [
    {
     "name": "stdout",
     "output_type": "stream",
     "text": [
      "eonliaguhwdvryp\n"
     ]
    }
   ],
   "source": [
    "def most_frequent(s):\n",
    "    s = s.replace(' ', '')\n",
    "    d = dict()\n",
    "    for c in s:\n",
    "        d[c] = d.get(c, 0) + 1\n",
    "    chars = ''\n",
    "    for v in range(max(list(d.values()))):\n",
    "        for k in d:\n",
    "            if d[k] == v:\n",
    "                chars += k\n",
    "    return chars[::-1]\n",
    "s = 'eventually going to wind up with one letter and that too'\n",
    "print(most_frequent(s))"
   ]
  },
  {
   "cell_type": "code",
   "execution_count": 77,
   "metadata": {
    "collapsed": false,
    "solution": "Exercise 12.3"
   },
   "outputs": [
    {
     "name": "stdout",
     "output_type": "stream",
     "text": [
      "[(8, 't'), (1, 's'), (1, 'e')]\n"
     ]
    }
   ],
   "source": [
    "def most_frequent(str):\n",
    "    d = dict()\n",
    "    for c in str:\n",
    "        if c not in d:\n",
    "            d[c] = 1\n",
    "        else:\n",
    "            d[c] += 1\n",
    "    \n",
    "    answer = []\n",
    "    \n",
    "    for i in d:\n",
    "        answer.append((d[i], i))\n",
    "        answer.sort(reverse = True)\n",
    "    return answer\n",
    "    \n",
    "print most_frequent(\"testtttttt\")"
   ]
  },
  {
   "cell_type": "code",
   "execution_count": 8,
   "metadata": {
    "collapsed": false,
    "solution": "Exercise 12.3"
   },
   "outputs": [
    {
     "name": "stdout",
     "output_type": "stream",
     "text": [
      "[(4, 'o'), (4, 'e'), (3, 't'), (3, 'r'), (3, 'c'), (3, 'a'), (2, 'y'), (2, 'l'), (1, 's'), (1, 'n'), (1, 'm'), (1, 'k'), (1, 'i'), (1, 'h'), (1, 'g'), (1, 'd'), (1, 'b'), (1, \"'\")]\n"
     ]
    }
   ],
   "source": [
    "def most_frequent(word):\n",
    "    characters_dict = dict()\n",
    "    for c in word:\n",
    "        characters_dict[c] = characters_dict.get(c, 0) + 1\n",
    "    len_list = []\n",
    "    for c, number in characters_dict.items():\n",
    "        len_list.append((number, c))\n",
    "    len_list.sort(reverse=True)\n",
    "    for letter in len_list:\n",
    "        print letter[1]\n",
    "most_frequent(\"crikeymatethat'sonebloodylargecroc\")"
   ]
  },
  {
   "cell_type": "code",
   "execution_count": 37,
   "metadata": {
    "collapsed": false,
    "solution": "Exercise 12.3"
   },
   "outputs": [
    {
     "name": "stdout",
     "output_type": "stream",
     "text": [
      "French:\n",
      "  : 16.2911611785\n",
      "e : 11.6117850953\n",
      "r : 7.10571923744\n",
      "a : 6.41247833622\n",
      "i : 5.89254766031\n",
      "u : 5.71923743501\n",
      "s : 5.71923743501\n",
      "n : 5.1993067591\n",
      "t : 4.50606585789\n",
      "o : 4.33275563258\n",
      "l : 3.63951473137\n",
      ", : 2.77296360485\n",
      "m : 2.59965337955\n",
      "d : 2.59965337955\n",
      "j : 1.73310225303\n",
      "p : 1.55979202773\n",
      "c : 1.55979202773\n",
      "b : 1.38648180243\n",
      "v : 1.03986135182\n",
      "h : 1.03986135182\n",
      ". : 1.03986135182\n",
      "� : 0.693240901213\n",
      "� : 0.693240901213\n",
      "� : 0.693240901213\n",
      "q : 0.693240901213\n",
      "g : 0.693240901213\n",
      "f : 0.693240901213\n",
      "x : 0.51993067591\n",
      "� : 0.346620450607\n",
      "y : 0.346620450607\n",
      "' : 0.346620450607\n",
      "� : 0.173310225303\n",
      "� : 0.173310225303\n",
      "- : 0.173310225303\n",
      "\n",
      "American:\n",
      "  : 15.6342182891\n",
      "e : 10.6194690265\n",
      "s : 6.78466076696\n",
      "t : 6.19469026549\n",
      "o : 5.60471976401\n",
      "a : 5.60471976401\n",
      "i : 5.30973451327\n",
      "r : 4.7197640118\n",
      "h : 4.42477876106\n",
      "d : 4.42477876106\n",
      "n : 4.12979351032\n",
      "l : 3.83480825959\n",
      "w : 2.3598820059\n",
      "u : 2.3598820059\n",
      ", : 2.3598820059\n",
      "y : 2.06489675516\n",
      "p : 2.06489675516\n",
      "c : 2.06489675516\n",
      "g : 1.76991150442\n",
      "m : 1.47492625369\n",
      "f : 1.47492625369\n",
      "v : 1.17994100295\n",
      "b : 0.884955752212\n",
      ". : 0.884955752212\n",
      "k : 0.589970501475\n",
      "; : 0.589970501475\n",
      "z : 0.294985250737\n",
      "j : 0.294985250737\n"
     ]
    }
   ],
   "source": [
    "def most_frequent(aString):\n",
    "    \n",
    "    # Reimplement histogram() to keep track of the largest value.\n",
    "    d = dict()\n",
    "    maxFreq = 0\n",
    "    for c in aString:\n",
    "        cFreq = d.get(c, 0)+1\n",
    "        if cFreq > maxFreq:\n",
    "            maxFreq = cFreq\n",
    "        d[c] = cFreq\n",
    "    \n",
    "    # Decorate\n",
    "    listOfFreq = []\n",
    "    for letter, freq in d.items():\n",
    "        listOfFreq.append((freq, letter))\n",
    "    \n",
    "    # Sort\n",
    "    listOfFreq.sort(reverse=True)\n",
    "    \n",
    "    #print listOfFreq\n",
    "    \n",
    "    # Print\n",
    "    for freq, letter in listOfFreq:\n",
    "        print letter, ':', 100*freq/float(len(aString))\n",
    "    \n",
    "frenchAF = \"Demain, dès laube, a l'heure ou blanchit la campagne, \\\n",
    "Je partirai. Vois-tu, je sais que tu m'attends.\\\n",
    "J’irai par la forêt, j’irai par la montagne.\\\n",
    "Je ne puis demeurer loin de toi plus longtemps.\\\n",
    "Je marcherai les yeux fixes sur mes pensees,\\\n",
    "Sans rien voir au dehors, sans entendre aucun bruit,\\\n",
    "Seul, inconnu, le dos courbe, les mains croisees,\\\n",
    "Triste, et le jour pour moi sera comme la nuit.\\\n",
    "Je ne regarderai ni l’or du soir qui tombe,\\\n",
    "Ni les voiles au loin descendant vers Harfleur,\\\n",
    "Et quand j’arriverai, je mettrai sur ta tombe\\\n",
    "Un bouquet de houx vert et de bruyere en fleur. \"\n",
    "\n",
    "american = \"Because I could not stop for Death,\\\n",
    "He kindly stopped for me;\\\n",
    "The carriage held but just ourselves\\\n",
    "And Immortality.\\\n",
    "We slowly drove, he knew no haste,\\\n",
    "And I had put away\\\n",
    "My labor, and my leisure too,\\\n",
    "For his civility.\\\n",
    "We passed the school, where children strove\\\n",
    "At recess, in the ring;\\\n",
    "We passed the fields of gazing grain,\\\n",
    "We passed the setting sun.\"\n",
    "\n",
    "print \"French:\"\n",
    "most_frequent(frenchAF.lower())\n",
    "print '\\n', 'American:'\n",
    "\n",
    "most_frequent(american.lower())"
   ]
  },
  {
   "cell_type": "code",
   "execution_count": 102,
   "metadata": {
    "collapsed": false,
    "solution": "Exercise 12.3"
   },
   "outputs": [],
   "source": [
    "def most_frequent(n):\n",
    "    \"\"\"\n",
    "    Prints letters in a string in decending order of frequency\n",
    "    >>> most_frequent(\"banana\")\n",
    "    ['a', 'n', 'b']\n",
    "    >>> most_frequent(\"I\")\n",
    "    ['i']\n",
    "    \"\"\"\n",
    "    n = n.lower()    \n",
    "    letter_freq = {}\n",
    "    for letter in n:\n",
    "        if letter in letter_freq:\n",
    "            letter_freq[letter] += 1\n",
    "        else:\n",
    "            letter_freq[letter] = 1\n",
    "    letter_freq_tuple = letter_freq.items()\n",
    "    freq_letter_tuple = []\n",
    "    for letter, freq in letter_freq_tuple:\n",
    "        freq_letter_tuple.append((freq, letter))\n",
    "    freq_letter_tuple.sort(reverse = True)\n",
    "    res = []\n",
    "    for freq, letter in freq_letter_tuple:\n",
    "        res.append(letter)\n",
    "    return res\n",
    "   \n",
    "    \n",
    "\n",
    "most_frequent('banana')\n",
    "\n",
    "import doctest\n",
    "doctest.run_docstring_examples(most_frequent, globals())   "
   ]
  },
  {
   "cell_type": "markdown",
   "metadata": {
    "is_question": true,
    "problem": "Exercise 12.6"
   },
   "source": [
    "### Challenge: Exercise 6   (optional)\n",
    "\n",
    "From a [Car Talk Puzzler](http://www.cartalk.com/content/puzzlers):\n",
    "\n",
    "What is the longest English word, that remains a valid English word, as you remove its letters one at a time?\n",
    "\n",
    "Now, letters can be removed from either end, or the middle, but you can’t rearrange any of the letters. Every time you drop a letter, you wind up with another English word. If you do that, you’re eventually going to wind up with one letter and that too is going to be an English word—one that’s found in the dictionary. I want to know what’s the longest word and how many letters does it have?\n",
    "\n",
    "I’m going to give you a little modest example: Sprite. Ok? You start off with sprite, you take a letter off, one from the interior of the word, take the r away, and we’re left with the word spite, then we take the e off the end, we’re left with spit, we take the s off, we’re left with pit, it, and I. \n",
    "\n",
    "Write a program to find all words that can be reduced in this way, and then find the longest one.\n",
    "\n",
    "This exercise is a little more challenging than most, so here are some suggestions:\n",
    "\n",
    "- You might want to write a function that takes a word and computes a list of all the words that can be formed by removing one letter. These are the “children” of the word.\n",
    "- Recursively, a word is reducible if any of its children are reducible. As a base case, you can consider the empty string reducible.\n",
    "- The word list from [Chapter 9.1](http://www.greenteapress.com/thinkpython/html/thinkpython010.html) Exercise 1 doesn’t contain single letter words. So you might want to add “I”, “a”, and the empty string.\n",
    "- To improve the performance of your program, you might want to memoize the words that are known to be reducible.\n",
    "\n",
    "Allen's solution: http://thinkpython.com/code/reducible.py."
   ]
  },
  {
   "cell_type": "code",
   "execution_count": 3,
   "metadata": {
    "collapsed": false,
    "scrolled": true,
    "solution": "Exercise 12.6"
   },
   "outputs": [
    {
     "name": "stdout",
     "output_type": "stream",
     "text": [
      "['site', 'spite', 'sprite']\n"
     ]
    }
   ],
   "source": [
    "fin = open('words.txt')\n",
    "words = ['i','a']\n",
    "for line in fin:\n",
    "    words.append(line.strip())\n",
    "\n",
    "known = dict() #contains a word as a key and a list of all its children word as a value\n",
    "def compute_children(word): #Returns a list of all children word\n",
    "    if len(word) == 0:\n",
    "        return []\n",
    "    if word in known:\n",
    "        return known[word]\n",
    "    if word in words:\n",
    "        res = []\n",
    "        for i in range(len(word)-1):\n",
    "            res += compute_children(word[:i]+word[i+1:])\n",
    "        res.append(word)\n",
    "        known[word] = res\n",
    "        return res\n",
    "    else:\n",
    "        return []\n",
    "    \n",
    "print compute_children('sprite')"
   ]
  },
  {
   "cell_type": "code",
   "execution_count": 3,
   "metadata": {
    "collapsed": false,
    "solution": "Exercise 12.6"
   },
   "outputs": [
    {
     "name": "stdout",
     "output_type": "stream",
     "text": [
      "I'm sad because I didn't have the time to complete this code :(\n"
     ]
    }
   ],
   "source": [
    "fin = open('words.txt')\n",
    "wordlist = []\n",
    "for line in fin:\n",
    "    word = line.strip()\n",
    "    wordlist.append(word)\n",
    "    \n",
    "    \n",
    "     \n",
    "def is_reducible(word):\n",
    "    if word == '':\n",
    "        return True\n",
    "    elif word in wordlist:\n",
    "        for i in range(len(word)):\n",
    "            word.replace(word[i],\"\")\n",
    "            return is_reducible(word)\n",
    "    else:\n",
    "        return False\n",
    "    \n",
    "def longest_word():\n",
    "    longestword = \"\"\n",
    "    max_length = 0\n",
    "    for word in wordlist:\n",
    "        if is_reducible(word) and len(word)>max_length:\n",
    "            longestword = word\n",
    "    return word  \n",
    "\n",
    "print \"I'm sad because I didn't have the time to complete this code :(\"\n",
    "longest_word() # So after my code just completely broke jupyter notebook, and I lost the last 15 minutes of my work,\n",
    "#I decided not to continue to bash my head against this problem, as I know how to do it, I just don't have\n",
    "#the time to implement and debug it, and also risk losing my work in the process. I did read Allen's solution as well,\n",
    "#so I understand how it works.\n",
    "            "
   ]
  },
  {
   "cell_type": "code",
   "execution_count": null,
   "metadata": {
    "collapsed": true,
    "solution": "Exercise 12.6"
   },
   "outputs": [],
   "source": [
    "def testWord(word, memory, dictionary):\n",
    "    \"\"\"\n",
    "    >>> testWord(\"a\",dict(),dict())\n",
    "    True\n",
    "    >>> testWord(\"sprite\",dict(),dict())\n",
    "    True\n",
    "    >>> testWord(\"incorrect\",dict(),dict())\n",
    "    False\n",
    "    \"\"\"\n",
    "    if memory.has_key(word):\n",
    "        return memory[word]\n",
    "    if not (\"a\" in word or \"i\" in word): # it can't be if it has no a or i\n",
    "        memory[word] = False\n",
    "        return False\n",
    "    if len(word) == 1:\n",
    "        memory[word] = True\n",
    "        return True\n",
    "    if not word in dictionary: # I never got around to implementing the dictionary\n",
    "        memory[word] = False\n",
    "        return False\n",
    "    \n",
    "    output = False\n",
    "    for i in range(len(word)):\n",
    "        output = output or testWord(word[0:i]+word[i+1:len(word)])\n",
    "    \n",
    "    memory[word] = output\n",
    "    return output\n",
    "\n",
    "\n",
    "doctest.testmod()"
   ]
  },
  {
   "cell_type": "markdown",
   "metadata": {
    "is_question": true,
    "problem": "Feedback"
   },
   "source": [
    "## Reading Journal feedback\n",
    "\n",
    "Have any comments on this Reading Journal? Feel free to leave them below and we'll read them when you submit your journal entry. This could include suggestions to improve the exercises, topics you'd like to see covered in class next time, or other feedback.\n",
    "\n",
    "If you have Python questions or run into problems while completing the reading, you should post them to Piazza instead so you can get a quick response before your journal is submitted."
   ]
  },
  {
   "cell_type": "code",
   "execution_count": 26,
   "metadata": {
    "collapsed": false,
    "solution": "Exercise 12.6"
   },
   "outputs": [
    {
     "name": "stdout",
     "output_type": "stream",
     "text": [
      "True\n",
      "False\n"
     ]
    }
   ],
   "source": [
    "memo = {}\n",
    "reader = open('words.txt')\n",
    "temp_words = [w.strip() for w in reader]\n",
    "temp_words.append('i')\n",
    "temp_words.append('a')\n",
    "temp_words.append('')\n",
    "#set:implemented with hashtable\n",
    "all_words = set(temp_words)\n",
    "def reduce_word(s):\n",
    "    if s == '':\n",
    "        return True\n",
    "    if memo.get(s):\n",
    "        return memo[s]\n",
    "    remaining_words = []\n",
    "    for i in range(len(s)):\n",
    "        temp = (s[:i]+s[i+1:])\n",
    "        if temp in all_words:\n",
    "            remaining_words.append(temp)\n",
    "    if len(remaining_words)==0:\n",
    "        return False\n",
    "    reducible = True in [reduce_word(w) for w in remaining_words]\n",
    "    memo[s] = reducible\n",
    "    \n",
    "    return reducible\n",
    "print reduce_word('sprite')\n",
    "print reduce_word('hello')"
   ]
  },
  {
   "cell_type": "markdown",
   "metadata": {
    "is_question": true,
    "problem": "Feedback"
   },
   "source": [
    "## Reading Journal feedback\n",
    "\n",
    "Have any comments on this Reading Journal? Feel free to leave them below and we'll read them when you submit your journal entry. This could include suggestions to improve the exercises, topics you'd like to see covered in class next time, or other feedback.\n",
    "\n",
    "If you have Python questions or run into problems while completing the reading, you should post them to Piazza instead so you can get a quick response before your journal is submitted."
   ]
  },
  {
   "cell_type": "markdown",
   "metadata": {
    "feedback_response": true,
    "solution": "Feedback"
   },
   "source": [
    " I would like to see a example of memoized Levenshtein distance function."
   ]
  },
  {
   "cell_type": "markdown",
   "metadata": {
    "feedback_response": true,
    "solution": "Feedback"
   },
   "source": [
    "It might be worth saying that fibonacci is far easier to memoize then the levenschtein fuction.  "
   ]
  },
  {
   "cell_type": "markdown",
   "metadata": {
    "feedback_response": true,
    "solution": "Feedback"
   },
   "source": [
    "I am still not confident in combining dictionaries and lists/ getting outputs from dictionaries. "
   ]
  },
  {
   "cell_type": "markdown",
   "metadata": {
    "feedback_response": true,
    "solution": "Feedback"
   },
   "source": [
    "It'd be nice if the website had a page of useful things that are easy to forget- like the commands to run docstrings. And the interesting stuff that gets posted to Piazza and then buried as time goes on, like the post Oliver made about the program that runs your code every time you save it. That would be super useful.\n"
   ]
  }
 ],
 "metadata": {
  "celltoolbar": "Edit Metadata",
  "kernelspec": {
   "display_name": "Python 2",
   "language": "python",
   "name": "python2"
  },
  "language_info": {
   "codemirror_mode": {
    "name": "ipython",
    "version": 2
   },
   "file_extension": ".py",
   "mimetype": "text/x-python",
   "name": "python",
   "nbconvert_exporter": "python",
   "pygments_lexer": "ipython2",
   "version": "2.7.6"
  }
 },
 "nbformat": 4,
 "nbformat_minor": 0
}
