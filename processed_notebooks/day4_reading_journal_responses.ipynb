{
 "cells": [
  {
   "cell_type": "markdown",
   "metadata": {},
   "source": [
    "### Exercise 4  \n",
    "Write a function called `middle` that takes a list and returns a new list that contains all but the first and last elements. So `middle([1,2,3,4])` should return `[2,3]`."
   ]
  },
  {
   "cell_type": "code",
   "execution_count": 2,
   "metadata": {
    "collapsed": false
   },
   "outputs": [
    {
     "name": "stdout",
     "output_type": "stream",
     "text": [
      "[2, 3]\n"
     ]
    }
   ],
   "source": [
    "def middle(lst):\n",
    "    return lst[1:len(lst)-1]\n",
    "print middle([1,2,3,4])"
   ]
  },
  {
   "cell_type": "code",
   "execution_count": 4,
   "metadata": {
    "collapsed": false
   },
   "outputs": [
    {
     "data": {
      "text/plain": [
       "[2, 3]"
      ]
     },
     "execution_count": 4,
     "metadata": {},
     "output_type": "execute_result"
    }
   ],
   "source": [
    "def middle(s):\n",
    "    return s[1:len(s)-1]\n",
    "\n",
    "middle([1,2,3,4,])"
   ]
  },
  {
   "cell_type": "code",
   "execution_count": 6,
   "metadata": {
    "collapsed": false
   },
   "outputs": [
    {
     "data": {
      "text/plain": [
       "[2, 3]"
      ]
     },
     "execution_count": 6,
     "metadata": {},
     "output_type": "execute_result"
    }
   ],
   "source": [
    "def middle(list):\n",
    "    new = []\n",
    "    for x in range(0, len(list)):\n",
    "        new.append(list[x])\n",
    "    new.remove(new[0])\n",
    "    new.remove(new[-1])\n",
    "    return new\n",
    "middle([1,2,3,4])\n",
    "\n",
    "\n",
    "#an imperfect exersie because if list[-1] is defined more than once only the first occurence of it is removed\n"
   ]
  },
  {
   "cell_type": "code",
   "execution_count": 1,
   "metadata": {
    "collapsed": false
   },
   "outputs": [
    {
     "name": "stdout",
     "output_type": "stream",
     "text": [
      "[2, 3]\n"
     ]
    }
   ],
   "source": [
    "def middle(input_list):\n",
    "    return input_list[1:(len(input_list) - 1)]"
   ]
  },
  {
   "cell_type": "code",
   "execution_count": 5,
   "metadata": {
    "collapsed": false
   },
   "outputs": [
    {
     "data": {
      "text/plain": [
       "[2, 3, 4, 5, 6]"
      ]
     },
     "execution_count": 5,
     "metadata": {},
     "output_type": "execute_result"
    }
   ],
   "source": [
    "def middle(l):\n",
    "    return l[1:-1]\n",
    "\n",
    "middle([1,2,3,4,5,6,7])"
   ]
  },
  {
   "cell_type": "code",
   "execution_count": 29,
   "metadata": {
    "collapsed": false
   },
   "outputs": [
    {
     "data": {
      "text/plain": [
       "[2, 3]"
      ]
     },
     "execution_count": 29,
     "metadata": {},
     "output_type": "execute_result"
    }
   ],
   "source": [
    "def middle(list_numbers):\n",
    "    new_list = list_numbers[1:len(list_numbers)-1]\n",
    "    return new_list\n",
    "\n",
    "\n",
    "\n",
    "middle([1,2,3,4])"
   ]
  },
  {
   "cell_type": "code",
   "execution_count": 1,
   "metadata": {
    "collapsed": false
   },
   "outputs": [
    {
     "data": {
      "text/plain": [
       "[[2, 3]]"
      ]
     },
     "execution_count": 1,
     "metadata": {},
     "output_type": "execute_result"
    }
   ],
   "source": [
    "def middle (random_list):\n",
    "    new_list = []\n",
    "    for element in random_list:\n",
    "        new_list = [random_list[1:-1]]\n",
    "    return new_list\n",
    "\n",
    "middle([1,2,3,4])"
   ]
  },
  {
   "cell_type": "code",
   "execution_count": 6,
   "metadata": {
    "collapsed": false
   },
   "outputs": [
    {
     "name": "stdout",
     "output_type": "stream",
     "text": [
      "[2, 3]\n",
      "[1, 2, 3, 4]\n"
     ]
    }
   ],
   "source": [
    "def middle(first_list):\n",
    "    \"\"\"\n",
    "    Takes a list and returns all but the first and the last elements.\n",
    "    \"\"\"\n",
    "    last_index = len(first_list) - 1\n",
    "    new_list = first_list[1:last_index] #this all could be one line but I like readability\n",
    "    return new_list\n",
    "\n",
    "my_list = [1,2,3,4]\n",
    "print middle(my_list)\n",
    "print my_list"
   ]
  },
  {
   "cell_type": "code",
   "execution_count": 7,
   "metadata": {
    "collapsed": false
   },
   "outputs": [
    {
     "data": {
      "text/plain": [
       "[2, 3]"
      ]
     },
     "execution_count": 7,
     "metadata": {},
     "output_type": "execute_result"
    }
   ],
   "source": [
    "def middle (x):\n",
    "    new_x = x[1:-1]\n",
    "    return new_x\n",
    "\n",
    "middle([1,2,3,4])"
   ]
  },
  {
   "cell_type": "code",
   "execution_count": 37,
   "metadata": {
    "collapsed": false
   },
   "outputs": [
    {
     "data": {
      "text/plain": [
       "[3, 5, 4]"
      ]
     },
     "execution_count": 37,
     "metadata": {},
     "output_type": "execute_result"
    }
   ],
   "source": [
    "def middle(w):\n",
    "    return w[1:-1]\n",
    "    res = []\n",
    "    i = 1\n",
    "    while i <= len(w)-2:\n",
    "        res.append(w[i])\n",
    "        i += 1\n",
    "    return res\n",
    "        \n",
    "    \n",
    "middle([3,3,5,4,2])"
   ]
  },
  {
   "cell_type": "code",
   "execution_count": 19,
   "metadata": {
    "collapsed": false
   },
   "outputs": [
    {
     "name": "stdout",
     "output_type": "stream",
     "text": [
      "Finding tests in NoName\n",
      "Trying:\n",
      "    middle(['1', '2', '3', '4'])\n",
      "Expecting:\n",
      "    ['2', '3']\n",
      "ok\n"
     ]
    },
    {
     "data": {
      "text/plain": [
       "'List is too short.'"
      ]
     },
     "execution_count": 19,
     "metadata": {},
     "output_type": "execute_result"
    }
   ],
   "source": [
    "def middle(Input):\n",
    "    \"\"\"\n",
    "    Given a list, return a new list that contains all but the first and last elements.\n",
    "    \n",
    "    >>> middle(['1', '2', '3', '4'])\n",
    "    ['2', '3']\n",
    "    \n",
    "    \"\"\"\n",
    "    if len(Input)>1:\n",
    "\n",
    "        List = Input\n",
    "        del List[0]\n",
    "        del List[-1]\n",
    "    \n",
    "        return List\n",
    "    else:\n",
    "        \n",
    "        return \"List is too short.\"\n",
    "\n",
    "\n",
    "import doctest\n",
    "doctest.run_docstring_examples(middle, globals(), verbose = True)\n",
    "\n",
    "middle(['a', 'b'])\n",
    "middle(['a'])"
   ]
  },
  {
   "cell_type": "code",
   "execution_count": 2,
   "metadata": {
    "collapsed": false
   },
   "outputs": [
    {
     "name": "stdout",
     "output_type": "stream",
     "text": [
      "[2, 3]\n",
      "[2, 3]\n"
     ]
    }
   ],
   "source": [
    "def middle(allthegoodvariablenamesaretaken):\n",
    "    \"\"\"\n",
    "    >>> middle([1,2,3,4])\n",
    "    [2, 3]\n",
    "    \"\"\"\n",
    "    return allthegoodvariablenamesaretaken[1:len(allthegoodvariablenamesaretaken)-1]\n",
    "\n",
    "\n",
    "import doctest\n",
    "doctest.run_docstring_examples(middle,globals())"
   ]
  },
  {
   "cell_type": "code",
   "execution_count": 16,
   "metadata": {
    "collapsed": false
   },
   "outputs": [
    {
     "name": "stdout",
     "output_type": "stream",
     "text": [
      "[5, 3, 7, 8, 2, 4, 7, 4, 4, 5, 7]\n",
      "[4, 5, 3, 7, 8, 2, 4, 7, 4, 4, 5, 7, 3]\n"
     ]
    }
   ],
   "source": [
    "def middle(List):\n",
    "    \n",
    "    \"\"\" Returns the list without the middle and last character.\n",
    "    >>> middle([1,2,3,4])\n",
    "    [2, 3]\n",
    "    >>> middle([4,5,3,7,8,2,4,7,4,4,5,7,3])\n",
    "    [5,3,7,8,2,4,7,4,4,5,7]\n",
    "    >>> middle (['T','B','I','C','J','O','I','Y','E','C','B','S','Q','S','A','N'])\n",
    "    ['B','I','C','J','O','I','Y','E','C','B','S','Q','S','A']\n",
    "    >>> middle([1])\n",
    "    'List too short'\n",
    "    \"\"\"\n",
    "    if len(List) < 2:\n",
    "        return 'List too short'\n",
    "    else:\n",
    "        return List[1:-1]\n",
    "X = [4,5,3,7,8,2,4,7,4,4,5,7,3]\n",
    "print middle(X)\n",
    "print X"
   ]
  },
  {
   "cell_type": "code",
   "execution_count": 7,
   "metadata": {
    "collapsed": false
   },
   "outputs": [
    {
     "name": "stdout",
     "output_type": "stream",
     "text": [
      "['boatsboats', 'boatsboatsboats']\n"
     ]
    }
   ],
   "source": [
    "def middle(old_list):\n",
    "    return old_list[1:-1]\n",
    "\n",
    "print middle(['boats','boatsboats','boatsboatsboats','booooooats'])"
   ]
  },
  {
   "cell_type": "code",
   "execution_count": 1,
   "metadata": {
    "collapsed": false
   },
   "outputs": [
    {
     "ename": "TypeError",
     "evalue": "'builtin_function_or_method' object has no attribute '__getitem__'",
     "output_type": "error",
     "traceback": [
      "\u001b[1;31m---------------------------------------------------------------------------\u001b[0m",
      "\u001b[1;31mTypeError\u001b[0m                                 Traceback (most recent call last)",
      "\u001b[1;32m<ipython-input-1-3a76cfbb137c>\u001b[0m in \u001b[0;36m<module>\u001b[1;34m()\u001b[0m\n\u001b[0;32m      4\u001b[0m \u001b[0mnumbers\u001b[0m \u001b[1;33m=\u001b[0m \u001b[1;33m[\u001b[0m\u001b[1;36m1\u001b[0m\u001b[1;33m,\u001b[0m \u001b[1;36m2\u001b[0m\u001b[1;33m,\u001b[0m \u001b[1;36m3\u001b[0m\u001b[1;33m,\u001b[0m \u001b[1;36m4\u001b[0m\u001b[1;33m,\u001b[0m \u001b[1;36m5\u001b[0m\u001b[1;33m,\u001b[0m \u001b[1;36m6\u001b[0m\u001b[1;33m,\u001b[0m \u001b[1;36m7\u001b[0m\u001b[1;33m,\u001b[0m \u001b[1;36m8\u001b[0m\u001b[1;33m,\u001b[0m \u001b[1;36m9\u001b[0m\u001b[1;33m,\u001b[0m \u001b[1;36m10\u001b[0m\u001b[1;33m]\u001b[0m\u001b[1;33m\u001b[0m\u001b[0m\n\u001b[0;32m      5\u001b[0m \u001b[1;31m# In Python3, range(1,10) returns range(1,10) because range() was replaced with Python2's xrange()\u001b[0m\u001b[1;33m\u001b[0m\u001b[1;33m\u001b[0m\u001b[0m\n\u001b[1;32m----> 6\u001b[1;33m \u001b[1;32mprint\u001b[0m\u001b[1;33m(\u001b[0m\u001b[0mmiddle\u001b[0m\u001b[1;33m(\u001b[0m\u001b[0mrange\u001b[0m\u001b[1;33m)\u001b[0m\u001b[1;33m)\u001b[0m\u001b[1;33m\u001b[0m\u001b[0m\n\u001b[0m",
      "\u001b[1;32m<ipython-input-1-3a76cfbb137c>\u001b[0m in \u001b[0;36mmiddle\u001b[1;34m(t)\u001b[0m\n\u001b[0;32m      1\u001b[0m \u001b[1;32mdef\u001b[0m \u001b[0mmiddle\u001b[0m\u001b[1;33m(\u001b[0m\u001b[0mt\u001b[0m\u001b[1;33m)\u001b[0m\u001b[1;33m:\u001b[0m\u001b[1;33m\u001b[0m\u001b[0m\n\u001b[1;32m----> 2\u001b[1;33m     \u001b[1;32mreturn\u001b[0m \u001b[0mt\u001b[0m\u001b[1;33m[\u001b[0m\u001b[1;36m1\u001b[0m\u001b[1;33m:\u001b[0m\u001b[1;33m-\u001b[0m\u001b[1;36m1\u001b[0m\u001b[1;33m]\u001b[0m\u001b[1;33m\u001b[0m\u001b[0m\n\u001b[0m\u001b[0;32m      3\u001b[0m \u001b[1;33m\u001b[0m\u001b[0m\n\u001b[0;32m      4\u001b[0m \u001b[0mnumbers\u001b[0m \u001b[1;33m=\u001b[0m \u001b[1;33m[\u001b[0m\u001b[1;36m1\u001b[0m\u001b[1;33m,\u001b[0m \u001b[1;36m2\u001b[0m\u001b[1;33m,\u001b[0m \u001b[1;36m3\u001b[0m\u001b[1;33m,\u001b[0m \u001b[1;36m4\u001b[0m\u001b[1;33m,\u001b[0m \u001b[1;36m5\u001b[0m\u001b[1;33m,\u001b[0m \u001b[1;36m6\u001b[0m\u001b[1;33m,\u001b[0m \u001b[1;36m7\u001b[0m\u001b[1;33m,\u001b[0m \u001b[1;36m8\u001b[0m\u001b[1;33m,\u001b[0m \u001b[1;36m9\u001b[0m\u001b[1;33m,\u001b[0m \u001b[1;36m10\u001b[0m\u001b[1;33m]\u001b[0m\u001b[1;33m\u001b[0m\u001b[0m\n\u001b[0;32m      5\u001b[0m \u001b[1;31m# In Python3, range(1,10) returns range(1,10) because range() was replaced with Python2's xrange()\u001b[0m\u001b[1;33m\u001b[0m\u001b[1;33m\u001b[0m\u001b[0m\n",
      "\u001b[1;31mTypeError\u001b[0m: 'builtin_function_or_method' object has no attribute '__getitem__'"
     ]
    }
   ],
   "source": [
    "def middle(t):\n",
    "    return t[1:-1]\n",
    "\n",
    "numbers = [1, 2, 3, 4, 5, 6, 7, 8, 9, 10] \n",
    "# In Python3, range(1,10) returns range(1,10) because range() was replaced with Python2's xrange()\n",
    "print(middle(range))\n"
   ]
  },
  {
   "cell_type": "code",
   "execution_count": 3,
   "metadata": {
    "collapsed": false
   },
   "outputs": [
    {
     "data": {
      "text/plain": [
       "[2, 3]"
      ]
     },
     "execution_count": 3,
     "metadata": {},
     "output_type": "execute_result"
    }
   ],
   "source": [
    "def middle(numList):\n",
    "    return numList[1:-1]\n",
    "middle([1,2,3,4])"
   ]
  },
  {
   "cell_type": "code",
   "execution_count": 2,
   "metadata": {
    "collapsed": false
   },
   "outputs": [
    {
     "name": "stdout",
     "output_type": "stream",
     "text": [
      "[1, 2, 3, 4, 5]\n",
      "[2, 3, 4]\n"
     ]
    },
    {
     "data": {
      "text/plain": [
       "[2, 3, 4]"
      ]
     },
     "execution_count": 2,
     "metadata": {},
     "output_type": "execute_result"
    }
   ],
   "source": [
    "original_list = [1, 2, 3, 4, 5]\n",
    "\n",
    "import copy\n",
    "def middle(original_list):\n",
    "    copied_list = []\n",
    "    copied_list = copy.copy(original_list)\n",
    "    del copied_list[0]\n",
    "    del copied_list[-1]\n",
    "    \n",
    "    print original_list\n",
    "    print copied_list\n",
    "    return copied_list\n",
    "    \n",
    "middle(original_list)"
   ]
  },
  {
   "cell_type": "code",
   "execution_count": 10,
   "metadata": {
    "collapsed": false
   },
   "outputs": [
    {
     "name": "stdout",
     "output_type": "stream",
     "text": [
      "[2, 7, 1]\n"
     ]
    }
   ],
   "source": [
    "def middle(list):\n",
    "    new_list = list[1:len(list)-1]\n",
    "    return new_list\n",
    "print middle([9,2,7,1,4])"
   ]
  },
  {
   "cell_type": "code",
   "execution_count": 11,
   "metadata": {
    "collapsed": false
   },
   "outputs": [
    {
     "data": {
      "text/plain": [
       "[2, 3, 4, 5, 6]"
      ]
     },
     "execution_count": 11,
     "metadata": {},
     "output_type": "execute_result"
    }
   ],
   "source": [
    "def middle(orig):\n",
    "    return orig[1:len(orig)-1]\n",
    "\n",
    "middle([1,2,3,4,5,6,7])"
   ]
  },
  {
   "cell_type": "code",
   "execution_count": 1,
   "metadata": {
    "collapsed": false
   },
   "outputs": [
    {
     "data": {
      "text/plain": [
       "list"
      ]
     },
     "execution_count": 1,
     "metadata": {},
     "output_type": "execute_result"
    }
   ],
   "source": [
    "def middle(t):\n",
    "    lastindex = len(t) - 1\n",
    "#     del list[lastindex]\n",
    "#     del list[0]\n",
    "    t.pop(lastindex)\n",
    "    t.pop(0)\n",
    "    return list\n",
    "\n",
    "\n",
    "t = ['wow', 'i', 'love', 'cheese', 'so mUCHH']\n",
    "middle(t)"
   ]
  },
  {
   "cell_type": "code",
   "execution_count": 19,
   "metadata": {
    "collapsed": false
   },
   "outputs": [
    {
     "name": "stdout",
     "output_type": "stream",
     "text": [
      "[1, 2, 'ads', 2, 35, 6, 63]\n"
     ]
    },
    {
     "data": {
      "text/plain": [
       "[2, 'ads', 2, 35, 6]"
      ]
     },
     "execution_count": 19,
     "metadata": {},
     "output_type": "execute_result"
    }
   ],
   "source": [
    "def middle(l):\n",
    "    new_list = l[:]\n",
    "    new_list.pop(0)\n",
    "    new_list.pop(len(new_list)-1)\n",
    "    print l\n",
    "    return new_list\n",
    "\n",
    "middle([1,2,'ads',2,35,6,63])"
   ]
  },
  {
   "cell_type": "code",
   "execution_count": 8,
   "metadata": {
    "collapsed": false
   },
   "outputs": [],
   "source": [
    "def middle(list):\n",
    "    \"\"\"\n",
    "    Return new list that contains all but the first and last element\n",
    "    \n",
    "    >>> middle([1,2,3,4])\n",
    "    [2, 3]\n",
    "    \n",
    "    \"\"\"\n",
    "    return list[1:len(list)-1]\n",
    "\n",
    "import doctest\n",
    "doctest.run_docstring_examples(middle, globals())\n",
    "\n"
   ]
  },
  {
   "cell_type": "code",
   "execution_count": 5,
   "metadata": {
    "collapsed": false
   },
   "outputs": [
    {
     "data": {
      "text/plain": [
       "[1, 2, 3, 4]"
      ]
     },
     "execution_count": 5,
     "metadata": {},
     "output_type": "execute_result"
    }
   ],
   "source": [
    "def middle(x):\n",
    "    new_list = x\n",
    "    del new_list[0]\n",
    "    del new_list[len(new_list)-1]\n",
    "    return new_list\n",
    "\n",
    "middle([0,1,2,3,4,5])"
   ]
  },
  {
   "cell_type": "code",
   "execution_count": 13,
   "metadata": {
    "collapsed": false
   },
   "outputs": [
    {
     "data": {
      "text/plain": [
       "[2, 3]"
      ]
     },
     "execution_count": 13,
     "metadata": {},
     "output_type": "execute_result"
    }
   ],
   "source": [
    "def middle(l):    \n",
    "    return l[1:len(l)-1]\n",
    "middle([1,2,3,4])"
   ]
  },
  {
   "cell_type": "code",
   "execution_count": 17,
   "metadata": {
    "collapsed": false
   },
   "outputs": [
    {
     "name": "stdout",
     "output_type": "stream",
     "text": [
      "[2, 3, 4]\n"
     ]
    }
   ],
   "source": [
    "def middle(list):\n",
    "    temp = len(list)\n",
    "    midsection = list[1:temp-1]\n",
    "    return midsection\n",
    "print middle([1,2,3,4,5])\n",
    "\n",
    "    "
   ]
  },
  {
   "cell_type": "code",
   "execution_count": 15,
   "metadata": {
    "collapsed": false
   },
   "outputs": [
    {
     "data": {
      "text/plain": [
       "[2, 3, 4]"
      ]
     },
     "execution_count": 15,
     "metadata": {},
     "output_type": "execute_result"
    }
   ],
   "source": [
    "def middle(lists):\n",
    "    return lists[1:len(lists)-1]\n",
    "\n",
    "middle([1,2,3,4,5])"
   ]
  },
  {
   "cell_type": "code",
   "execution_count": 2,
   "metadata": {
    "collapsed": false
   },
   "outputs": [
    {
     "name": "stdout",
     "output_type": "stream",
     "text": [
      "[2, 3]\n",
      "[]\n"
     ]
    }
   ],
   "source": [
    "def middle(inputList):\n",
    "    \"\"\"Takes off the first and last elements of a list, and returns that new list.\n",
    "    \n",
    "    >>> middle([1,2,3,4])\n",
    "    [2,3]\n",
    "    \n",
    "    >>> middle([1,2])\n",
    "    []\n",
    "    \"\"\"\n",
    "    outputList = inputList[1:len(inputList)-1]\n",
    "    return outputList\n",
    "\n",
    "print middle([1,2,3,4])\n",
    "print middle([1,2])"
   ]
  },
  {
   "cell_type": "code",
   "execution_count": 7,
   "metadata": {
    "collapsed": false
   },
   "outputs": [
    {
     "data": {
      "text/plain": [
       "[2, 3, 4, 5, 6]"
      ]
     },
     "execution_count": 7,
     "metadata": {},
     "output_type": "execute_result"
    }
   ],
   "source": [
    "def middle(input_list):\n",
    "    new_list = input_list[1:len(input_list)-1]\n",
    "    return new_list\n",
    "\n",
    "middle([1, 2, 3, 4, 5, 6, 7])"
   ]
  },
  {
   "cell_type": "code",
   "execution_count": 17,
   "metadata": {
    "collapsed": false
   },
   "outputs": [
    {
     "name": "stdout",
     "output_type": "stream",
     "text": [
      "[1, 2, 3, 4, 5, 6, 7, 8, 9]\n"
     ]
    },
    {
     "data": {
      "text/plain": [
       "[2, 3, 4, 5, 6, 7, 8]"
      ]
     },
     "execution_count": 17,
     "metadata": {},
     "output_type": "execute_result"
    }
   ],
   "source": [
    "import copy \n",
    "\n",
    "def middle(L):\n",
    "    newL = L[:] #slice returns a copy, not an alias\n",
    "    del newL[0]\n",
    "    del newL[-1]\n",
    "    print L\n",
    "    return newL\n",
    "\n",
    "L = [1,2,3,4,5,6,7,8,9]\n",
    "middle(L)"
   ]
  },
  {
   "cell_type": "code",
   "execution_count": 9,
   "metadata": {
    "collapsed": false
   },
   "outputs": [
    {
     "name": "stdout",
     "output_type": "stream",
     "text": [
      "[2, 3]\n"
     ]
    }
   ],
   "source": [
    "new_list = []\n",
    "def middle(list):\n",
    "    new_list = list[1:-1]\n",
    "    return new_list\n",
    "    \n",
    "    \n",
    "print middle([1, 2, 3, 4])"
   ]
  },
  {
   "cell_type": "code",
   "execution_count": 26,
   "metadata": {
    "collapsed": false
   },
   "outputs": [
    {
     "data": {
      "text/plain": [
       "[[2, 3], [1, 2, 3, 4]]"
      ]
     },
     "execution_count": 26,
     "metadata": {},
     "output_type": "execute_result"
    }
   ],
   "source": [
    "def middle(arg_list):\n",
    "    new_list = []\n",
    "    for i in arg_list[1:len(arg_list)-1]:\n",
    "        new_list = new_list + [i]\n",
    "    return [new_list,arg_list]\n",
    "    \n",
    "middle([1,2,3,4])"
   ]
  },
  {
   "cell_type": "code",
   "execution_count": 4,
   "metadata": {
    "collapsed": false
   },
   "outputs": [
    {
     "data": {
      "text/plain": [
       "[2, 3, 4]"
      ]
     },
     "execution_count": 4,
     "metadata": {},
     "output_type": "execute_result"
    }
   ],
   "source": [
    "def middle(elems):\n",
    "    return elems[1:len(elems)-1]\n",
    "middle([1,2,3,4,5])"
   ]
  },
  {
   "cell_type": "code",
   "execution_count": 1,
   "metadata": {
    "collapsed": false
   },
   "outputs": [
    {
     "data": {
      "text/plain": [
       "[2, 3, 4]"
      ]
     },
     "execution_count": 1,
     "metadata": {},
     "output_type": "execute_result"
    }
   ],
   "source": [
    "def middle(x):\n",
    "    return x[1:len(x)-1]\n",
    "middle([1, 2, 3, 4, 5])"
   ]
  },
  {
   "cell_type": "code",
   "execution_count": 2,
   "metadata": {
    "collapsed": false
   },
   "outputs": [
    {
     "data": {
      "text/plain": [
       "[2, 3]"
      ]
     },
     "execution_count": 2,
     "metadata": {},
     "output_type": "execute_result"
    }
   ],
   "source": [
    "def middle(list):\n",
    "    list = list[1:len(list)-1]\n",
    "    return list\n",
    "\n",
    "middle([1,2,3,4])"
   ]
  },
  {
   "cell_type": "code",
   "execution_count": 24,
   "metadata": {
    "collapsed": false
   },
   "outputs": [
    {
     "name": "stdout",
     "output_type": "stream",
     "text": [
      "[2, 3, 4, 5]\n"
     ]
    }
   ],
   "source": [
    "def middle(t):\n",
    "    return t[1:-1]             # returns list with elements 1 through second to last\n",
    "\n",
    "print middle([1, 2, 3, 4, 5, 6])"
   ]
  },
  {
   "cell_type": "code",
   "execution_count": 7,
   "metadata": {
    "collapsed": false
   },
   "outputs": [
    {
     "data": {
      "text/plain": [
       "[2, 3, 4, 5]"
      ]
     },
     "execution_count": 7,
     "metadata": {},
     "output_type": "execute_result"
    }
   ],
   "source": [
    "def middle(data):\n",
    "    return data[1:len(data)-1]\n",
    "middle([1,2,3,4,5,6])"
   ]
  },
  {
   "cell_type": "code",
   "execution_count": 2,
   "metadata": {
    "collapsed": false
   },
   "outputs": [
    {
     "data": {
      "text/plain": [
       "[2, 3, 4, 5]"
      ]
     },
     "execution_count": 2,
     "metadata": {},
     "output_type": "execute_result"
    }
   ],
   "source": [
    "def middle(ls):\n",
    "    return ls[1:-1]\n",
    "\n",
    "middle([1,2,3,4,5,6])"
   ]
  },
  {
   "cell_type": "code",
   "execution_count": 2,
   "metadata": {
    "collapsed": false
   },
   "outputs": [
    {
     "name": "stdout",
     "output_type": "stream",
     "text": [
      "[2, 3]\n",
      "['hello', 5]\n"
     ]
    }
   ],
   "source": [
    "def middle(L):\n",
    "    res = list(L)\n",
    "    res.pop(0)\n",
    "    res.pop(-1)\n",
    "    return res\n",
    "\n",
    "print middle([1,2,3,4])\n",
    "print middle([2,\"hello\",5,'Hi'])"
   ]
  },
  {
   "cell_type": "code",
   "execution_count": 2,
   "metadata": {
    "collapsed": false
   },
   "outputs": [
    {
     "name": "stdout",
     "output_type": "stream",
     "text": [
      "[2, 3]\n"
     ]
    }
   ],
   "source": [
    "def middle(l):\n",
    "    return l[1:len(l)-1]\n",
    "print(middle([1,2,3,4]))"
   ]
  },
  {
   "cell_type": "code",
   "execution_count": 3,
   "metadata": {
    "collapsed": false
   },
   "outputs": [
    {
     "name": "stdout",
     "output_type": "stream",
     "text": [
      "[3, 4, 6, 842]\n"
     ]
    }
   ],
   "source": [
    "def middle(list1):\n",
    "    return list1[1:len(list1) - 1]\n",
    "\n",
    "print middle([2, 3, 4, 6, 842, 5])"
   ]
  },
  {
   "cell_type": "code",
   "execution_count": 4,
   "metadata": {
    "collapsed": false
   },
   "outputs": [
    {
     "name": "stdout",
     "output_type": "stream",
     "text": [
      "[2, 3, 4, 2, [1, 2, 3]]\n"
     ]
    }
   ],
   "source": [
    "def middle(list_in):\n",
    "    list_in.pop()\n",
    "    del list_in[0]\n",
    "    return list_in\n",
    "print middle([1, 2, 3, 4, 2, [1, 2, 3], 'a'])"
   ]
  },
  {
   "cell_type": "code",
   "execution_count": 1,
   "metadata": {
    "collapsed": false
   },
   "outputs": [
    {
     "data": {
      "text/plain": [
       "[2, 3, 4, 5]"
      ]
     },
     "execution_count": 1,
     "metadata": {},
     "output_type": "execute_result"
    }
   ],
   "source": [
    "\n",
    "def middle(alist):\n",
    "    length= len(alist)\n",
    "    nlist= [None]*(length-2)\n",
    "    for x in range (1,length-1):\n",
    "        nlist[x-1]=alist[x]\n",
    "    return nlist\n",
    "        \n",
    "lista=[1,2,3,4,5,6]\n",
    "middle(lista)\n",
    "        "
   ]
  },
  {
   "cell_type": "code",
   "execution_count": 7,
   "metadata": {
    "collapsed": false
   },
   "outputs": [
    {
     "name": "stdout",
     "output_type": "stream",
     "text": [
      "['b', 'c', 'd', 'e']\n"
     ]
    }
   ],
   "source": [
    "def middle (list):\n",
    "    length=len(list)\n",
    "    newlist = list[1:-1]\n",
    "    return newlist\n",
    "middle (['a','b', 'c', 'd', 'e', 'f'])"
   ]
  },
  {
   "cell_type": "code",
   "execution_count": 5,
   "metadata": {
    "collapsed": false
   },
   "outputs": [
    {
     "data": {
      "text/plain": [
       "[2, 3, 4, 5, 6, 7, 8]"
      ]
     },
     "execution_count": 5,
     "metadata": {},
     "output_type": "execute_result"
    }
   ],
   "source": [
    "def middle(inputlist):\n",
    "    new_list= inputlist[1:len(inputlist)-1]\n",
    "    return new_list\n",
    "\n",
    "middle([1,2,3,4,5,6,7,8,9])"
   ]
  },
  {
   "cell_type": "code",
   "execution_count": 4,
   "metadata": {
    "collapsed": false
   },
   "outputs": [
    {
     "data": {
      "text/plain": [
       "[2, 3, 4]"
      ]
     },
     "execution_count": 4,
     "metadata": {},
     "output_type": "execute_result"
    }
   ],
   "source": [
    "def middle(x):\n",
    "    middle_x = x[1:-1]\n",
    "    return middle_x\n",
    "middle([1,2,3,4])"
   ]
  },
  {
   "cell_type": "code",
   "execution_count": 35,
   "metadata": {
    "collapsed": false
   },
   "outputs": [
    {
     "data": {
      "text/plain": [
       "[2, 3, 4, 5, 6]"
      ]
     },
     "execution_count": 35,
     "metadata": {},
     "output_type": "execute_result"
    }
   ],
   "source": [
    "def middle(full_list):\n",
    "    return full_list[1:len(full_list)-1] #using length so it works with any list given\n",
    "middle([1,2,3,4,5,6,7])"
   ]
  },
  {
   "cell_type": "code",
   "execution_count": 1,
   "metadata": {
    "collapsed": false
   },
   "outputs": [],
   "source": [
    "def middle(my_list):\n",
    "    length = len(my_list)\n",
    "    if length < 2:\n",
    "        return 'the list is not long enough for this function'\n",
    "    end = length - 1\n",
    "    new_list = my_list[1:end]\n",
    "    return new_list\n",
    "\n",
    "#middle([1, 2, 3, 4, 5, 6, 7])   \n",
    "#middle([1])\n",
    "#middle(['egg', 'eg', 'e'])"
   ]
  },
  {
   "cell_type": "code",
   "execution_count": 1,
   "metadata": {
    "collapsed": false
   },
   "outputs": [
    {
     "data": {
      "text/plain": [
       "[2, 3]"
      ]
     },
     "execution_count": 1,
     "metadata": {},
     "output_type": "execute_result"
    }
   ],
   "source": [
    "def middle(L):\n",
    "    return L[1:len(L)-1]\n",
    "\n",
    "middle([1,2,3,4])"
   ]
  },
  {
   "cell_type": "code",
   "execution_count": 1,
   "metadata": {
    "collapsed": false
   },
   "outputs": [
    {
     "data": {
      "text/plain": [
       "[2, 3]"
      ]
     },
     "execution_count": 1,
     "metadata": {},
     "output_type": "execute_result"
    }
   ],
   "source": [
    "def middle(list):\n",
    "    return list[1:-1]\n",
    "\n",
    "middle([1,2,3,4])"
   ]
  },
  {
   "cell_type": "code",
   "execution_count": 1,
   "metadata": {
    "collapsed": false
   },
   "outputs": [
    {
     "name": "stdout",
     "output_type": "stream",
     "text": [
      "[2, 3]\n"
     ]
    }
   ],
   "source": [
    "def middle(arg):\n",
    "    return arg[1:-1]\n",
    "\n",
    "print middle([1, 2, 3, 4])"
   ]
  },
  {
   "cell_type": "code",
   "execution_count": 1,
   "metadata": {
    "collapsed": false
   },
   "outputs": [
    {
     "name": "stdout",
     "output_type": "stream",
     "text": [
      "[2, 3]\n",
      "[1, 2, 3, 4]\n"
     ]
    }
   ],
   "source": [
    "def middle(a_list):\n",
    "    res = []\n",
    "    for num in a_list:\n",
    "        res.append(num)\n",
    "    del res[0]\n",
    "    del res[-1]\n",
    "    return res\n",
    "\n",
    "a_list = [1,2,3,4]\n",
    "print middle(a_list)\n",
    "print a_list #yay\n"
   ]
  },
  {
   "cell_type": "code",
   "execution_count": 17,
   "metadata": {
    "collapsed": false
   },
   "outputs": [],
   "source": [
    "def middle(x):\n",
    "    \"\"\"\n",
    "    >>> middle([1,2,3,4])\n",
    "    [2, 3]\n",
    "    >>> middle(['a','b','c'])\n",
    "    ['b']\n",
    "    \"\"\"\n",
    "    return x[1:len(x)-1]\n",
    "\n",
    "import doctest\n",
    "doctest.run_docstring_examples(middle, globals())"
   ]
  },
  {
   "cell_type": "code",
   "execution_count": 4,
   "metadata": {
    "collapsed": false
   },
   "outputs": [],
   "source": [
    "def middle(L):\n",
    "    \"\"\"\n",
    "    Takes in a list L and returns a copy of L with the first and\n",
    "    last elements removed\n",
    "    \n",
    "    >>> middle([1])\n",
    "    []\n",
    "    >>> middle(['a','b'])\n",
    "    []\n",
    "    >>> middle([1,2,3,4])\n",
    "    [2, 3]\n",
    "    \"\"\"\n",
    "    if len(L) < 3:\n",
    "        return []\n",
    "    else:\n",
    "        return L[1:-1]\n",
    "\n",
    "import doctest\n",
    "doctest.run_docstring_examples(middle, globals())"
   ]
  },
  {
   "cell_type": "code",
   "execution_count": 4,
   "metadata": {
    "collapsed": false
   },
   "outputs": [
    {
     "data": {
      "text/plain": [
       "[2, 3, 4, 5, 6, 7, 8]"
      ]
     },
     "execution_count": 4,
     "metadata": {},
     "output_type": "execute_result"
    }
   ],
   "source": [
    "def middle(Input_list):\n",
    "    Output_list = Input_list[1:-1]\n",
    "    return Output_list\n",
    "\n",
    "middle([1,2,3,4,5,6,7,8,9])"
   ]
  },
  {
   "cell_type": "code",
   "execution_count": 20,
   "metadata": {
    "collapsed": false
   },
   "outputs": [],
   "source": [
    "def middle(input_list):\n",
    "    \"\"\"\n",
    "    Takes input list and returns new list with all elements \n",
    "    excluding first and last elements\n",
    "    \n",
    "    >>> middle([1,2,3,4])\n",
    "    [2, 3]\n",
    "    \n",
    "    \"\"\"\n",
    "    \n",
    "    output_list = []\n",
    "    del input_list[0]\n",
    "    del input_list[len(input_list) - 1]\n",
    "    output_list = input_list\n",
    "    return output_list\n",
    "\n",
    "\n",
    "    import doctest\n",
    "    doctest.run_docstring_examples(middle, globals())"
   ]
  },
  {
   "cell_type": "code",
   "execution_count": 3,
   "metadata": {
    "collapsed": false
   },
   "outputs": [
    {
     "name": "stdout",
     "output_type": "stream",
     "text": [
      "Finding tests in NoName\n",
      "Trying:\n",
      "    middle([1, 2, 3, 4])\n",
      "Expecting:\n",
      "    [2, 3]\n",
      "ok\n",
      "Trying:\n",
      "    middle([1, 2])\n",
      "Expecting:\n",
      "    []\n",
      "ok\n",
      "Trying:\n",
      "    middle([1, 2, 3, 4, 5, 6, 7, 8, 9, 10])\n",
      "Expecting:\n",
      "    [2, 3, 4, 5, 6, 7, 8, 9]\n",
      "ok\n",
      "Trying:\n",
      "    middle([])\n",
      "Expecting:\n",
      "    []\n",
      "ok\n"
     ]
    }
   ],
   "source": [
    "import doctest\n",
    "\n",
    "def middle(tester):\n",
    "    \"\"\"\n",
    "    Making some test cases to see whether it works or not. This function should remove the first element and the last element \n",
    "    via slicing and return a new list.\n",
    "    \n",
    "    >>> middle([1, 2, 3, 4])\n",
    "    [2, 3]\n",
    "    >>> middle([1, 2])\n",
    "    []\n",
    "    >>> middle([1, 2, 3, 4, 5, 6, 7, 8, 9, 10])\n",
    "    [2, 3, 4, 5, 6, 7, 8, 9]\n",
    "    >>> middle([])\n",
    "    []\n",
    "    \"\"\"\n",
    "    \n",
    "    if len(tester) < 3:\n",
    "        return []\n",
    "    else:\n",
    "        return tester[1:len(tester)-1]\n",
    "    \n",
    "doctest.run_docstring_examples(middle, globals(),verbose=True)    "
   ]
  },
  {
   "cell_type": "code",
   "execution_count": 17,
   "metadata": {
    "collapsed": true
   },
   "outputs": [],
   "source": [
    "def middle(list1):\n",
    "    newlist=list1[1:len(list1)-1]\n",
    "    return newlist"
   ]
  },
  {
   "cell_type": "code",
   "execution_count": 27,
   "metadata": {
    "collapsed": false
   },
   "outputs": [
    {
     "name": "stdout",
     "output_type": "stream",
     "text": [
      "[2, 3, 4, 5, 6]\n",
      "[1, 2, 3, 4, 5, 6, 7]\n"
     ]
    }
   ],
   "source": [
    "def middle (x):      #Prints a part of x without modifying x. \n",
    "    lslice = x[1: -1] \n",
    "    return lslice \n",
    "        \n",
    "x = [1, 2, 3, 4, 5, 6, 7]\n",
    "print middle (x) \n",
    "print x"
   ]
  },
  {
   "cell_type": "code",
   "execution_count": 3,
   "metadata": {
    "collapsed": false
   },
   "outputs": [
    {
     "data": {
      "text/plain": [
       "[2, 3, 4, 5, 6, 7]"
      ]
     },
     "execution_count": 3,
     "metadata": {},
     "output_type": "execute_result"
    }
   ],
   "source": [
    "def middle(l):\n",
    "    new_list = l[1: len(l) -1]\n",
    "    return new_list\n",
    "\n",
    "middle([1,2,3,4,5,6,7,8])"
   ]
  },
  {
   "cell_type": "code",
   "execution_count": 3,
   "metadata": {
    "collapsed": false
   },
   "outputs": [
    {
     "data": {
      "text/plain": [
       "[2, 3]"
      ]
     },
     "execution_count": 3,
     "metadata": {},
     "output_type": "execute_result"
    }
   ],
   "source": [
    "def middle(inputlist):\n",
    "    outputlist = inputlist[1:len(inputlist)-1]\n",
    "    return outputlist\n",
    "middle([1,2,3,4])"
   ]
  },
  {
   "cell_type": "markdown",
   "metadata": {},
   "source": [
    "### Exercise 5  \n",
    "Write a function called `chop` that takes a list, modifies it by removing the first and last elements, and returns `None`.\n",
    "\n",
    "What is the difference between `middle` and `chop`? Sketch out the program state or take a look at each in Python Tutor."
   ]
  },
  {
   "cell_type": "code",
   "execution_count": 5,
   "metadata": {
    "collapsed": false
   },
   "outputs": [
    {
     "name": "stdout",
     "output_type": "stream",
     "text": [
      "None\n",
      "middle(lst) preserves lst and returns another version which you can save as a different variable. chop(lst) returns nothing but modifies the list itself.\n"
     ]
    }
   ],
   "source": [
    "def chop(lst):\n",
    "    lst = lst[1:len(lst)-1]\n",
    "print chop([1,2,3,4])\n",
    "print \"middle(lst) preserves lst and returns another version which you can save as a different variable. chop(lst) returns nothing but modifies the list itself.\""
   ]
  },
  {
   "cell_type": "code",
   "execution_count": 5,
   "metadata": {
    "collapsed": false
   },
   "outputs": [],
   "source": [
    "def chop(b):\n",
    "    b = b[1:len(b)-1]\n",
    "    return None\n",
    "\n",
    "#one returns a modified list and the other doesn't -- the changed list\n",
    "#isn't returned so the function doesn't really do anything.\n",
    "#The exact same thing happens for both of them in Python Tutor.\n",
    "#It's just one step -- I don't really understand how they differ\n",
    "#besides their output"
   ]
  },
  {
   "cell_type": "code",
   "execution_count": 8,
   "metadata": {
    "collapsed": false
   },
   "outputs": [
    {
     "data": {
      "text/plain": [
       "[2, 3]"
      ]
     },
     "execution_count": 8,
     "metadata": {},
     "output_type": "execute_result"
    }
   ],
   "source": [
    "def middle(list):\n",
    "    list.remove(list[0])\n",
    "    list.remove(list[-1])\n",
    "    return None\n",
    "middle([1,2,3,4])\n",
    "\n",
    "\n",
    "#in the first case a new list is made and returned without modification to the original list,\n",
    "#in the second case the original list is modified thus removing the need to return the same list"
   ]
  },
  {
   "cell_type": "code",
   "execution_count": null,
   "metadata": {
    "collapsed": false
   },
   "outputs": [],
   "source": [
    "def chop(input_list):\n",
    "    input_list.remove(input_list[0])\n",
    "    input_list.remove(input_list[len(input_list)-1])\n",
    "    return None"
   ]
  },
  {
   "cell_type": "markdown",
   "metadata": {},
   "source": [
    "The function, \"middle,\" returns the middle values of the list without changing the list itself, whereas \"chop\" modifies the list (by removing the first and last elements) and returns None."
   ]
  },
  {
   "cell_type": "code",
   "execution_count": 26,
   "metadata": {
    "collapsed": false
   },
   "outputs": [
    {
     "name": "stdout",
     "output_type": "stream",
     "text": [
      "None\n"
     ]
    }
   ],
   "source": [
    "def chop(l):\n",
    "    l =l[1:-1]\n",
    "    return\n",
    "print chop([1,2,3,4,5,6,7])"
   ]
  },
  {
   "cell_type": "code",
   "execution_count": 27,
   "metadata": {
    "collapsed": false
   },
   "outputs": [],
   "source": [
    "def chop(list_numbers):\n",
    "    del list_numbers[0]\n",
    "    del list_numbers[-1]\n",
    "    print list_numbers\n",
    "    \n",
    "chop([1,2,3,4])\n",
    "    "
   ]
  },
  {
   "cell_type": "markdown",
   "metadata": {},
   "source": [
    "Middle creates a new list while keeping the old list intact, while chop modifies the existing list."
   ]
  },
  {
   "cell_type": "code",
   "execution_count": 1,
   "metadata": {
    "collapsed": false
   },
   "outputs": [
    {
     "name": "stdout",
     "output_type": "stream",
     "text": [
      "[2, 3]\n"
     ]
    }
   ],
   "source": [
    "def chop(random_list):\n",
    "    del random_list[0]\n",
    "    del random_list[-1]\n",
    "    return None\n",
    "\n",
    "random_list = [1,2,3,4]\n",
    "chop(random_list)\n",
    "print random_list"
   ]
  },
  {
   "cell_type": "markdown",
   "metadata": {},
   "source": [
    "#### Lists and strings\n",
    "- string = sequence of characters, list = sequence of values\n",
    "- *list* takes a string and converts it to a list of characters. 'spam' -> ['s', 'p', 'a', 'm']\n",
    "- *.split* breaks a string into words\n",
    "- **delimiter** specifices which characters are word boundaries. The includes the hyphen ('spam-spam-spam')\n",
    "- *.join* is the opposite of *.split*: takes a list of words and combines them into a string that's a sentence\n",
    "\n",
    "#### Objects and values\n",
    "- *is* checks is two strings are the same. Ex) a='banana' | b='banana' | a *is* b | --> True\n",
    "- two lists can never be identical, only equivalent\n",
    "\n",
    "#### Aliasing\n",
    "- reference: the association of a variablw with an object\n",
    "- an object with more than one reference has more than one name so it is **aliased**\n",
    "- if the aliased object is mutable, changes in one alias will affect the other\n",
    "\n",
    "#### List Arguments\n",
    "- When a funciton takes in a list, what the function calls and what the list is named are the same thing\n",
    "- ***confused about the rest of this one***\n",
    "\n",
    "#### Debugging\n",
    "- don't foget that most list methods modify the argument and return None\n",
    "- pick a tool and stick to it\n",
    "- make copies to avoid aliasing (change names of shit)"
   ]
  },
  {
   "cell_type": "code",
   "execution_count": 4,
   "metadata": {
    "collapsed": false
   },
   "outputs": [
    {
     "name": "stdout",
     "output_type": "stream",
     "text": [
      "[2, 3]\n",
      "[2, 3]\n"
     ]
    }
   ],
   "source": [
    "def chop(first_list):\n",
    "    \"\"\"\n",
    "    Modifies a list by removing the first and last element\n",
    "    \"\"\"\n",
    "    last_index = len(first_list) - 1\n",
    "    del first_list[last_index]\n",
    "    del first_list[0]\n",
    "    print first_list\n",
    "\n",
    "my_list = [1,2,3,4]\n",
    "chop(my_list)\n",
    "print my_list"
   ]
  },
  {
   "cell_type": "markdown",
   "metadata": {},
   "source": [
    "So, the printing out of 'my_list' on both after running the function shows the difference. 'chop' actually alters the original list. 'middle' makes a new list and leaves 'my_list' unaffected."
   ]
  },
  {
   "cell_type": "code",
   "execution_count": null,
   "metadata": {
    "collapsed": true
   },
   "outputs": [],
   "source": [
    "def chop (x):\n",
    "    new_x = x[1:-1]\n",
    "    return None\n",
    "chop([1,2,3,4])"
   ]
  },
  {
   "cell_type": "markdown",
   "metadata": {},
   "source": [
    "Middle and chop are different because one just returns None, while the other returns a new list that chops the first and last items."
   ]
  },
  {
   "cell_type": "code",
   "execution_count": 38,
   "metadata": {
    "collapsed": false
   },
   "outputs": [],
   "source": [
    "#removes rist and last elements returns none\n",
    "def chop(z): \n",
    "    del z[:1]\n",
    "    del z[-1:]\n",
    "    return 'None'\n",
    "\n",
    "\n",
    "#"
   ]
  },
  {
   "cell_type": "code",
   "execution_count": 48,
   "metadata": {
    "collapsed": false
   },
   "outputs": [
    {
     "data": {
      "text/plain": [
       "False"
      ]
     },
     "execution_count": 48,
     "metadata": {},
     "output_type": "execute_result"
    }
   ],
   "source": [
    "#Check if lists are the same with is\n",
    "\n",
    "#a = [1,2,3]\n",
    "#b = [1,2,3] # same value\n",
    "a = 'banana' #same object & immutable\n",
    "b = 'nanaba'\n",
    "a is b\n"
   ]
  },
  {
   "cell_type": "code",
   "execution_count": 47,
   "metadata": {
    "collapsed": false
   },
   "outputs": [
    {
     "name": "stdout",
     "output_type": "stream",
     "text": [
      "[17, 2, 3]\n"
     ]
    }
   ],
   "source": [
    "#aliasing\n",
    "b = [1,2,3]\n",
    "a = b\n",
    "b is a\n",
    "b[0] = 17\n",
    "print a"
   ]
  },
  {
   "cell_type": "code",
   "execution_count": 70,
   "metadata": {
    "collapsed": false
   },
   "outputs": [
    {
     "name": "stdout",
     "output_type": "stream",
     "text": [
      "None\n"
     ]
    }
   ],
   "source": [
    "def chop(Input):\n",
    "    \"\"\"\n",
    "    Given a list, modify the list and return none.\n",
    "    \n",
    "    >>> chop(['1', '2', '3', '4'])\n",
    "    \n",
    "    \"\"\"\n",
    "    if len(Input)>1:\n",
    "        del Input[0]\n",
    "        del Input[-1]\n",
    "     \n",
    "\n",
    "x = ['1', '2', '3']\n",
    "print chop(x)\n",
    "\n",
    "import doctest\n",
    "doctest.run_docstring_examples(chop, globals())"
   ]
  },
  {
   "cell_type": "code",
   "execution_count": 5,
   "metadata": {
    "collapsed": false
   },
   "outputs": [
    {
     "name": "stdout",
     "output_type": "stream",
     "text": [
      "[1, 2, 3, 4, 5, 6]\n",
      "[2, 3, 4, 5]\n",
      "[3, 4]\n"
     ]
    }
   ],
   "source": [
    "def chop(letsusesomethingshorter):\n",
    "    letsusesomethingshorter.remove(letsusesomethingshorter[0])\n",
    "    letsusesomethingshorter.remove(letsusesomethingshorter[len(letsusesomethingshorter)-1])\n",
    "    \n",
    "\n",
    "l = [1,2,3,4,5,6]\n",
    "print l\n",
    "chop(l)\n",
    "print l\n",
    "chop(l)\n",
    "print l"
   ]
  },
  {
   "cell_type": "code",
   "execution_count": 12,
   "metadata": {
    "collapsed": false
   },
   "outputs": [
    {
     "name": "stdout",
     "output_type": "stream",
     "text": [
      "None\n",
      "[6, 3, 8, 0, 2]\n"
     ]
    }
   ],
   "source": [
    "X = [3,6,3,8,0,2,5]\n",
    "def chop(List):\n",
    "    del List[:1]\n",
    "    del List[-1:]\n",
    "    \n",
    "print chop(X)\n",
    "print X\n",
    "#This is diffrent because in Python Tutor it seems to read through \n",
    "#the function twice while it only went the middle function once"
   ]
  },
  {
   "cell_type": "code",
   "execution_count": 10,
   "metadata": {
    "collapsed": false
   },
   "outputs": [
    {
     "name": "stdout",
     "output_type": "stream",
     "text": [
      "['only', 'boats']\n",
      "None\n"
     ]
    }
   ],
   "source": [
    "def chop(old_list):\n",
    "    del old_list[0]\n",
    "    del old_list[len(old_list)-1]\n",
    "    return\n",
    "\n",
    "boat_it_is_not_this_day = [\"shhh\",\"only\",\"boats\",\"now\"]\n",
    "chop(boat_it_is_not_this_day)\n",
    "print boat_it_is_not_this_day\n",
    "\n",
    "print chop(boat_it_is_not_this_day)\n",
    "# chop modifies the list itself, while middle just returns an altered\n",
    "# version of the original."
   ]
  },
  {
   "cell_type": "code",
   "execution_count": 35,
   "metadata": {
    "collapsed": false
   },
   "outputs": [
    {
     "name": "stdout",
     "output_type": "stream",
     "text": [
      "[1, 2, 3, 4, 5, 6, 7, 8, 9, 10]\n",
      "[2, 3, 4, 5, 6, 7, 8, 9]\n",
      "[2, 3, 4, 5, 6, 7, 8, 9]\n"
     ]
    }
   ],
   "source": [
    "def chop(t):\n",
    "    t.pop(0)\n",
    "    t.pop(-1)\n",
    "    return t\n",
    "numbers = [1, 2, 3, 4, 5, 6, 7, 8, 9, 10] \n",
    "print(numbers)\n",
    "print(chop(numbers))\n",
    "print(numbers)"
   ]
  },
  {
   "cell_type": "code",
   "execution_count": 5,
   "metadata": {
    "collapsed": false
   },
   "outputs": [
    {
     "name": "stdout",
     "output_type": "stream",
     "text": [
      "[2, 3]\n"
     ]
    }
   ],
   "source": [
    "def chop(numList):\n",
    "    numList.pop(0)\n",
    "    numList.pop(-1)\n",
    "x = [1,2,3,4]\n",
    "chop(x)\n",
    "print x\n",
    "\n",
    "#modifies the list object, rather than creating a new list"
   ]
  },
  {
   "cell_type": "code",
   "execution_count": 17,
   "metadata": {
    "collapsed": false
   },
   "outputs": [
    {
     "name": "stdout",
     "output_type": "stream",
     "text": [
      "[2, 3, 4]\n"
     ]
    }
   ],
   "source": [
    "the_list = [1, 2, 3, 4, 5]\n",
    "\n",
    "def chop(the_list):\n",
    "    del the_list[0]\n",
    "    del the_list[-1]\n",
    "    \n",
    "    print the_list\n",
    "    return\n",
    "\n",
    "chop(the_list)"
   ]
  },
  {
   "cell_type": "code",
   "execution_count": 14,
   "metadata": {
    "collapsed": false
   },
   "outputs": [
    {
     "name": "stdout",
     "output_type": "stream",
     "text": [
      "[7]\n"
     ]
    }
   ],
   "source": [
    "def chop(list):\n",
    "    return list[1:len(list)-1]\n",
    "print chop([6, 7, 1])"
   ]
  },
  {
   "cell_type": "markdown",
   "metadata": {},
   "source": [
    "middle creates a new list while chop modifies the input list. One is free to use the original list in middle easily, while the list in chop loses information"
   ]
  },
  {
   "cell_type": "code",
   "execution_count": 7,
   "metadata": {
    "collapsed": false
   },
   "outputs": [
    {
     "name": "stdout",
     "output_type": "stream",
     "text": [
      "[2, 3, 4, 5, 6]\n"
     ]
    }
   ],
   "source": [
    "def chop(orig):\n",
    "    del orig[0]\n",
    "    del orig[len(orig)-1]\n",
    "    \n",
    "orig = [1,2,3,4,5,6,7]\n",
    "chop(orig)\n",
    "print orig\n",
    "\n",
    "#One modifies original and doesn't return a value while the other does"
   ]
  },
  {
   "cell_type": "code",
   "execution_count": 2,
   "metadata": {
    "collapsed": false
   },
   "outputs": [],
   "source": [
    "def chop(t):\n",
    "    lastindex = len(t) - 1\n",
    "    del t[lastindex]\n",
    "    del t[0]\n",
    "    return None #this exercise is phrased weird?\n",
    "\n",
    "t = ['wow', 'i', 'love', 'cheese', 'so mUCHH']\n",
    "chop(t)"
   ]
  },
  {
   "cell_type": "code",
   "execution_count": 6,
   "metadata": {
    "collapsed": false
   },
   "outputs": [],
   "source": [
    "def chop(l):\n",
    "    l.pop(0)\n",
    "    l.pop(len(l)-1)\n",
    "    return None\n",
    "\n",
    "chop([1,2,'ads',2,35,6,63])"
   ]
  },
  {
   "cell_type": "markdown",
   "metadata": {},
   "source": [
    "## 10.9 Lists and strings"
   ]
  },
  {
   "cell_type": "code",
   "execution_count": 49,
   "metadata": {
    "collapsed": false
   },
   "outputs": [
    {
     "name": "stdout",
     "output_type": "stream",
     "text": [
      "['s', 'p', 'a', 'm']\n"
     ]
    }
   ],
   "source": [
    "# converting string to list\n",
    "s = 'spam'\n",
    "t = list(s)\n",
    "print t"
   ]
  },
  {
   "cell_type": "code",
   "execution_count": 50,
   "metadata": {
    "collapsed": false
   },
   "outputs": [
    {
     "name": "stdout",
     "output_type": "stream",
     "text": [
      "['breaking', 'strings', 'into', 'words']\n"
     ]
    }
   ],
   "source": [
    "# breaking string into words\n",
    "s = 'breaking strings into words'\n",
    "t = s.split()\n",
    "print t"
   ]
  },
  {
   "cell_type": "markdown",
   "metadata": {},
   "source": [
    "Inversely, you could use .join to join words into a string"
   ]
  },
  {
   "cell_type": "markdown",
   "metadata": {},
   "source": [
    "## 10.10 Objects and values"
   ]
  },
  {
   "cell_type": "code",
   "execution_count": 53,
   "metadata": {
    "collapsed": false
   },
   "outputs": [
    {
     "name": "stdout",
     "output_type": "stream",
     "text": [
      "a is b is True\n",
      "c is d is False\n"
     ]
    }
   ],
   "source": [
    "a = 'banana'\n",
    "b = 'banana'\n",
    "print 'a is b is {}'.format(a is b)\n",
    "c = [1,2,3]\n",
    "d = [1,2,3]\n",
    "print 'c is d is {}'.format(c is d)"
   ]
  },
  {
   "cell_type": "markdown",
   "metadata": {},
   "source": [
    "## 10.11 Aliasing"
   ]
  },
  {
   "cell_type": "code",
   "execution_count": 54,
   "metadata": {
    "collapsed": false
   },
   "outputs": [
    {
     "data": {
      "text/plain": [
       "True"
      ]
     },
     "execution_count": 54,
     "metadata": {},
     "output_type": "execute_result"
    }
   ],
   "source": [
    "a = [1,2,3]\n",
    "b = a\n",
    "# can say b = a[:] to make a new list b\n",
    "b is a"
   ]
  },
  {
   "cell_type": "markdown",
   "metadata": {},
   "source": [
    "Both a and b reference the same list.\n",
    "An object with more than one reference is aliased."
   ]
  },
  {
   "cell_type": "markdown",
   "metadata": {},
   "source": [
    "## 10.12 List arguments"
   ]
  },
  {
   "cell_type": "markdown",
   "metadata": {},
   "source": [
    "the append method modifies a list but the + opperator creates a new list\n",
    "similarly, the slice operator creates a new list while del operator deletes elements"
   ]
  },
  {
   "cell_type": "code",
   "execution_count": 13,
   "metadata": {
    "collapsed": false
   },
   "outputs": [
    {
     "name": "stdout",
     "output_type": "stream",
     "text": [
      "None\n"
     ]
    }
   ],
   "source": [
    "def chop(list):\n",
    "    list = list[1:len(list)-1]\n",
    "    return None\n",
    "\n",
    "print chop([1,2,3,4])\n",
    "    "
   ]
  },
  {
   "cell_type": "code",
   "execution_count": 12,
   "metadata": {
    "collapsed": false,
    "scrolled": true
   },
   "outputs": [
    {
     "name": "stdout",
     "output_type": "stream",
     "text": [
      "[2, 3, 4]\n"
     ]
    }
   ],
   "source": [
    "def chop(x):\n",
    "    del x[0]\n",
    "    del x[len(x)-1]\n",
    "    return None\n",
    "\n",
    "mylist = [1,2,3,4,5]\n",
    "chop(mylist)\n",
    "print mylist"
   ]
  },
  {
   "cell_type": "markdown",
   "metadata": {},
   "source": [
    "Middle is a function that will return a new list that is a modified version of the passed in list whereas chop is a function that modifies the passed in list"
   ]
  },
  {
   "cell_type": "code",
   "execution_count": 32,
   "metadata": {
    "collapsed": false
   },
   "outputs": [
    {
     "name": "stdout",
     "output_type": "stream",
     "text": [
      "[2, 3]\n"
     ]
    }
   ],
   "source": [
    "def middle(l):\n",
    "    del l[0]\n",
    "    del l[len(l)-1]\n",
    "    print l\n",
    "    return None\n",
    "middle([1,2,3,4])\n"
   ]
  },
  {
   "cell_type": "markdown",
   "metadata": {},
   "source": [
    "Middle creates a new list and leaves the original input list unchanged. Chop modifies the input list without creating new lists."
   ]
  },
  {
   "cell_type": "code",
   "execution_count": 14,
   "metadata": {
    "collapsed": false,
    "scrolled": true
   },
   "outputs": [
    {
     "name": "stdout",
     "output_type": "stream",
     "text": [
      "[2, 3, 4, 5]\n",
      "None\n",
      "[1, 2, 3, 4, 5, 6]\n"
     ]
    }
   ],
   "source": [
    "list = [1,2,3,4,5,6]\n",
    "def chop(list):\n",
    "    temp = len(list)\n",
    "    list = list[1:temp-1] \n",
    "    print list\n",
    "    return None\n",
    "print chop(list)\n",
    "print list"
   ]
  },
  {
   "cell_type": "markdown",
   "metadata": {},
   "source": [
    "chop modifies the list inside the function, but this modification is destroyed when the function returns none. Thus, list still equals what it was originally defined as. middle creates a new list called midsection, and this is returned and thus exists outside the function."
   ]
  },
  {
   "cell_type": "code",
   "execution_count": 24,
   "metadata": {
    "collapsed": false
   },
   "outputs": [
    {
     "name": "stdout",
     "output_type": "stream",
     "text": [
      "[2, 3, 4]\n"
     ]
    }
   ],
   "source": [
    "def chop(lists):\n",
    "    lists = lists[1:len(lists)-1]\n",
    "    return None\n",
    "chop([1,2,3,4,5])\n"
   ]
  },
  {
   "cell_type": "markdown",
   "metadata": {},
   "source": [
    "In chop, the function edits the list lists. In the middle function, lists remains the same throughout the function, and returns the list in a new list."
   ]
  },
  {
   "cell_type": "markdown",
   "metadata": {},
   "source": [
    "#### List operations\n",
    "1. + operator concatenates a list,\n",
    "2. * operator repeats what was multiplied\n"
   ]
  },
  {
   "cell_type": "markdown",
   "metadata": {},
   "source": [
    "#### List slices\n",
    "1. slice lists like strings\n",
    "2. with the \"[]\""
   ]
  },
  {
   "cell_type": "markdown",
   "metadata": {},
   "source": [
    "#### list methods\n",
    "1. example.append('this') adds 'this' to the end of a list\n",
    "2. example.extend(example2) adds list example2 onto list example"
   ]
  },
  {
   "cell_type": "code",
   "execution_count": 4,
   "metadata": {
    "collapsed": false
   },
   "outputs": [
    {
     "name": "stdout",
     "output_type": "stream",
     "text": [
      "None\n"
     ]
    }
   ],
   "source": [
    "def chop(inputList):\n",
    "    \"\"\"Removes the first and last elements from an input list, returns none.\n",
    "    >>> middle([1,2,3,4])\n",
    "    None\n",
    "    \"\"\"\n",
    "    inputlist = inputList[1:len(inputList)-1]\n",
    "    \n",
    "\n",
    "    "
   ]
  },
  {
   "cell_type": "code",
   "execution_count": null,
   "metadata": {
    "collapsed": false
   },
   "outputs": [],
   "source": [
    "def chop(the_list):\n",
    "    the_list = the_list[1:len(input_list)-1]\n",
    "    \n",
    "    #The difference between middle() and chop() is that \n",
    "    #middle() creates and returns a new list, and chop() modifies the current list"
   ]
  },
  {
   "cell_type": "code",
   "execution_count": 12,
   "metadata": {
    "collapsed": false
   },
   "outputs": [
    {
     "name": "stdout",
     "output_type": "stream",
     "text": [
      "[2, 3, 4, 5, 6, 7, 8]\n"
     ]
    }
   ],
   "source": [
    "def chop(L):\n",
    "    del L[0]\n",
    "    del L[(len(L)-1)]\n",
    "    print L          #Prints L, but returns value None\n",
    "    \n",
    "L = [1,2,3,4,5,6,7,8,9]\n",
    "chop(L)\n",
    "\n",
    "#looked in python tutor"
   ]
  },
  {
   "cell_type": "code",
   "execution_count": 11,
   "metadata": {
    "collapsed": false
   },
   "outputs": [
    {
     "name": "stdout",
     "output_type": "stream",
     "text": [
      "None\n"
     ]
    }
   ],
   "source": [
    "def chop(list):\n",
    "    first = list[0]\n",
    "    last = list[-1]\n",
    "    list.remove(first)\n",
    "    list.remove(last)\n",
    "    \n",
    "print chop([1, 2, 3, 4])"
   ]
  },
  {
   "cell_type": "markdown",
   "metadata": {},
   "source": [
    "These programs are different because they use different functions to remove the elements. The return value from 'remove' is None. "
   ]
  },
  {
   "cell_type": "code",
   "execution_count": 28,
   "metadata": {
    "collapsed": false
   },
   "outputs": [
    {
     "data": {
      "text/plain": [
       "[[2, 3], [2, 3]]"
      ]
     },
     "execution_count": 28,
     "metadata": {},
     "output_type": "execute_result"
    }
   ],
   "source": [
    "def chop(arg_list):\n",
    "    \"\"\"\n",
    "    chop deletes the first and last index of arg_list and returns\n",
    "    both new_ist and arg_list.\"\"\"\n",
    "    del arg_list[0]\n",
    "    del arg_list[-1]\n",
    "    new_list = arg_list\n",
    "    return [new_list,arg_list]\n",
    "\n",
    "chop([1,2,3,4])\n",
    "\n"
   ]
  },
  {
   "cell_type": "code",
   "execution_count": 6,
   "metadata": {
    "collapsed": false
   },
   "outputs": [],
   "source": [
    "def chop(elems):\n",
    "    elems = elems[1:len(elems)-1]\n",
    "    return None\n",
    "chop([1,2,3,4,5])\n",
    "    "
   ]
  },
  {
   "cell_type": "code",
   "execution_count": null,
   "metadata": {
    "collapsed": false
   },
   "outputs": [],
   "source": [
    "def chop(x):\n",
    "    x = x[1:len(x)-1]\n",
    "    return None\n",
    "chop([1, 2, 3, 4, 5]) #chop modifies the actual list itself, whereas middle returns a list of the middle values from input"
   ]
  },
  {
   "cell_type": "code",
   "execution_count": 3,
   "metadata": {
    "collapsed": false
   },
   "outputs": [
    {
     "name": "stdout",
     "output_type": "stream",
     "text": [
      "[2, 3]\n"
     ]
    }
   ],
   "source": [
    "def chop(list):\n",
    "    list[0] = None\n",
    "    list[len(list)-1] = None\n",
    "    return list\n",
    "\n",
    "print middle([1,2,3,4])\n",
    "\n",
    "#Not quite sure what the question is asking... I'm removing the values of the first and last cells\n",
    "#of the list and changing them to None, while keeping the original list intact in size. I guess the cells are still there?"
   ]
  },
  {
   "cell_type": "code",
   "execution_count": 25,
   "metadata": {
    "collapsed": false
   },
   "outputs": [],
   "source": [
    "def chop(t):\n",
    "    del t[:1]\n",
    "    del t[-1:]\n",
    "\n",
    "chop([1, 2, 3, 4, 5, 6])"
   ]
  },
  {
   "cell_type": "markdown",
   "metadata": {},
   "source": [
    "`middle` returns the augmented list\n",
    "`chop` returns None type because del is a method that has the value of none, it modifies the list, but it on it's own isn't an element"
   ]
  },
  {
   "cell_type": "code",
   "execution_count": 17,
   "metadata": {
    "collapsed": false
   },
   "outputs": [
    {
     "name": "stdout",
     "output_type": "stream",
     "text": [
      "[4, 5, 6]\n"
     ]
    }
   ],
   "source": [
    "def chop(data):\n",
    "    del data[0]\n",
    "    del data[len(data)-1]\n",
    "    return None\n",
    "test1 = [3,4,5,6,7]\n",
    "chop(test1)\n",
    "print(test1)"
   ]
  },
  {
   "cell_type": "markdown",
   "metadata": {},
   "source": [
    "Middle doesn't modify the list given to it. Chop modifies the list passed in."
   ]
  },
  {
   "cell_type": "code",
   "execution_count": 5,
   "metadata": {
    "collapsed": false
   },
   "outputs": [
    {
     "name": "stdout",
     "output_type": "stream",
     "text": [
      "[2, 3, 4]\n"
     ]
    }
   ],
   "source": [
    "def chop(ls):\n",
    "    \"\"\"Removes the first and last element of a list, returns None.\n",
    "    Will error if list has less than two elements.\"\"\"\n",
    "    ls.pop()\n",
    "    ls.pop(0)\n",
    "\n",
    "sample = [1,2,3,4,5]\n",
    "chop(sample)\n",
    "print sample"
   ]
  },
  {
   "cell_type": "code",
   "execution_count": 7,
   "metadata": {
    "collapsed": false
   },
   "outputs": [
    {
     "name": "stdout",
     "output_type": "stream",
     "text": [
      "[2, 3]\n"
     ]
    }
   ],
   "source": [
    "def chop(L):\n",
    "    L.pop(0)\n",
    "    L.pop(-1)\n",
    "    return None\n",
    "\n",
    "my_list = [1,2,3,4]\n",
    "chop(my_list)\n",
    "print my_list\n",
    "\n",
    "#Difference between middle and chop:\n",
    "#Middle does not modify the original list because it makes a new list\n",
    "#Chop directly modies the original list by removing its first and last element"
   ]
  },
  {
   "cell_type": "code",
   "execution_count": 1,
   "metadata": {
    "collapsed": false
   },
   "outputs": [],
   "source": [
    "def chop(l):\n",
    "    l = l[1:len(l)-1]\n",
    "chop([1,2,3,4])"
   ]
  },
  {
   "cell_type": "markdown",
   "metadata": {},
   "source": [
    "Middle returns a new list while chop modifies the existing list."
   ]
  },
  {
   "cell_type": "code",
   "execution_count": null,
   "metadata": {
    "collapsed": false
   },
   "outputs": [],
   "source": [
    "def chop(list1):\n",
    "    list1 = list1[1:len(list1) - 1]\n",
    "    return None"
   ]
  },
  {
   "cell_type": "markdown",
   "metadata": {},
   "source": [
    "Middle does not change the original list. It creates a new list and returns that. On the other hand, chop modifies the original list (since lists are mutable). How do I sketch here?"
   ]
  },
  {
   "cell_type": "code",
   "execution_count": 5,
   "metadata": {
    "collapsed": false
   },
   "outputs": [
    {
     "name": "stdout",
     "output_type": "stream",
     "text": [
      "None\n"
     ]
    }
   ],
   "source": [
    "def chop(list_in):\n",
    "    list_in.pop()\n",
    "    del list_in[0]\n",
    "print chop([1, 2, 3, 4, 2, [1, 2, 3], 'a'])"
   ]
  },
  {
   "cell_type": "markdown",
   "metadata": {},
   "source": [
    "This one does the same thing, but it doesn't return it; it might be useful if you wanted to more within the chop function, I guess."
   ]
  },
  {
   "cell_type": "code",
   "execution_count": 6,
   "metadata": {
    "collapsed": false
   },
   "outputs": [
    {
     "name": "stdout",
     "output_type": "stream",
     "text": [
      "other than the different methods, middle returns a new list, while chop just changes the original list.\n",
      "in middle, the original lists state doesnt change while within chop it does. but since chop doesnt return anything it doesnt change the list outside of the function\n"
     ]
    }
   ],
   "source": [
    "def chop(lista):\n",
    "    l=len(lista)\n",
    "    lista=lista[1:l-2]\n",
    "    return None\n",
    "\n",
    "lista=[1,2,3,4,5]\n",
    "chop(lista)\n",
    "\n",
    "\n",
    "print('other than the different methods, middle returns a new list, while chop just changes the original list.')\n",
    "print('in middle, the original lists state doesnt change while within chop it does. but since chop doesnt return anything it doesnt change the list outside of the function')"
   ]
  },
  {
   "cell_type": "code",
   "execution_count": 7,
   "metadata": {
    "collapsed": false
   },
   "outputs": [],
   "source": [
    "def chop(inputlist):\n",
    "    inputlist= inputlist[1:len(inputlist)-1]\n",
    "    return None\n",
    "\n",
    "chop([1,2,3,4,5,6,7,8,9])    "
   ]
  },
  {
   "cell_type": "markdown",
   "metadata": {},
   "source": [
    "middle creates and returns a new list (is a fruitful function), and chop modifies the input list and returns nothing"
   ]
  },
  {
   "cell_type": "code",
   "execution_count": 6,
   "metadata": {
    "collapsed": false
   },
   "outputs": [],
   "source": [
    "def chop(x):\n",
    "    x = x[1:-1]\n",
    "    return None\n",
    "chop([1,2,3,4])\n",
    "\n",
    "#Middle returns a new list leaving the old list unmodified.\n",
    "#Chop modifies the original list."
   ]
  },
  {
   "cell_type": "code",
   "execution_count": 44,
   "metadata": {
    "collapsed": false
   },
   "outputs": [
    {
     "name": "stdout",
     "output_type": "stream",
     "text": [
      "None\n",
      "[2, 3, 4, 5, 6]\n"
     ]
    }
   ],
   "source": [
    "def chop(full_list):\n",
    "    full_list.pop(0)\n",
    "    full_list.pop(len(full_list)-1)\n",
    "test_list = [1,2,3,4,5,6,7]\n",
    "print chop(test_list)\n",
    "print test_list"
   ]
  },
  {
   "cell_type": "code",
   "execution_count": 2,
   "metadata": {
    "collapsed": false
   },
   "outputs": [
    {
     "name": "stdout",
     "output_type": "stream",
     "text": [
      "[2, 3, 4, 5, 6]\n"
     ]
    }
   ],
   "source": [
    "this_list = [1, 2, 3, 4, 5, 6, 7]\n",
    "\n",
    "def chop(my_list):\n",
    "    length = len(my_list)\n",
    "    end = length - 2\n",
    "    del my_list[0]\n",
    "    del my_list[end]\n",
    "\n",
    "chop(this_list)\n",
    " \n",
    "print this_list\n",
    "\n",
    "#Middle creates a new list and chop modifies the original list."
   ]
  },
  {
   "cell_type": "code",
   "execution_count": 3,
   "metadata": {
    "collapsed": false
   },
   "outputs": [
    {
     "name": "stdout",
     "output_type": "stream",
     "text": [
      "[2, 3]\n"
     ]
    }
   ],
   "source": [
    "def chop(L):\n",
    "    del L[0],L[len(L)-1] \n",
    "\n",
    "L=[1,2,3,4]\n",
    "chop(L)\n",
    "print L\n",
    "\n",
    "# middle doesn't change L in the global frame, while chop does."
   ]
  },
  {
   "cell_type": "code",
   "execution_count": 5,
   "metadata": {
    "collapsed": false
   },
   "outputs": [
    {
     "data": {
      "text/plain": [
       "[2, 3]"
      ]
     },
     "execution_count": 5,
     "metadata": {},
     "output_type": "execute_result"
    }
   ],
   "source": [
    "def chop(list):\n",
    "    del list[0]\n",
    "    del list[len(list)-1]\n",
    "    return list\n",
    "\n",
    "chop([1,2,3,4])"
   ]
  },
  {
   "cell_type": "code",
   "execution_count": 3,
   "metadata": {
    "collapsed": false
   },
   "outputs": [
    {
     "name": "stdout",
     "output_type": "stream",
     "text": [
      "[2, 3]\n"
     ]
    }
   ],
   "source": [
    "# Chop mutates the input list, whereas middle just returns the middle.\n",
    "# It's the difference between a mutator and an accessor function. \n",
    "\n",
    "def chop(arg):\n",
    "    del arg[0]\n",
    "    del arg[-1]\n",
    "    \n",
    "nums = [1,2,3,4]\n",
    "chop(nums)\n",
    "print nums"
   ]
  },
  {
   "cell_type": "code",
   "execution_count": 2,
   "metadata": {
    "collapsed": false
   },
   "outputs": [
    {
     "name": "stdout",
     "output_type": "stream",
     "text": [
      "original list is [1, 2, 3, 4]\n",
      "None\n",
      "modified list is [2, 3]\n"
     ]
    }
   ],
   "source": [
    "a_list = [1,2,3,4]\n",
    "print \"original list is\", a_list\n",
    "def chop(a_list):\n",
    "    del a_list[0]\n",
    "    del a_list[-1]\n",
    "    #Returns None (no return statement)\n",
    "print chop(a_list) #theoretically runs the func, modifying a_list, but prints None\n",
    "print \"modified list is\", a_list\n",
    "print \"The difference is that while chop itself doesn't return anything, it modifies a list in the workspace once we call it.\""
   ]
  },
  {
   "cell_type": "code",
   "execution_count": 16,
   "metadata": {
    "collapsed": false
   },
   "outputs": [],
   "source": [
    "def chop(x):\n",
    "    \"\"\"\n",
    "    Removes the first and last elements of a list.\n",
    "    \n",
    "    x: a list\n",
    "    returns: None\n",
    "    \"\"\"\n",
    "    del x[0]\n",
    "    del x[len(x)-1]\n",
    "#     print x\n",
    "    return None"
   ]
  },
  {
   "cell_type": "code",
   "execution_count": 6,
   "metadata": {
    "collapsed": false
   },
   "outputs": [
    {
     "name": "stdout",
     "output_type": "stream",
     "text": [
      "[1, 2, 3, 4, 5]\n",
      "[2, 3, 4]\n"
     ]
    }
   ],
   "source": [
    "def chop(L):\n",
    "    \"\"\"\n",
    "    Takes in a list L and removes its first and last elements\n",
    "    \"\"\"\n",
    "    if len(L)==1:\n",
    "        del L[0]\n",
    "    else:\n",
    "        del L[0]\n",
    "        del L[-1]\n",
    "        \n",
    "L = [1,2,3,4,5]\n",
    "print L\n",
    "chop(L)\n",
    "print L\n",
    "#This function actually modifies L, removing its first and last elements\n",
    "#Middle returns a different list, and leaves L alone"
   ]
  },
  {
   "cell_type": "code",
   "execution_count": 8,
   "metadata": {
    "collapsed": false
   },
   "outputs": [
    {
     "name": "stdout",
     "output_type": "stream",
     "text": [
      "['o', 'n', 'o', 'm', 'o', 't', 'o', 'p', 'e', 'i', 'a']\n"
     ]
    }
   ],
   "source": [
    "#You can split a string into a list of characters using list(S)\n",
    "S = 'onomotopeia'\n",
    "print list(S)"
   ]
  },
  {
   "cell_type": "code",
   "execution_count": 17,
   "metadata": {
    "collapsed": false
   },
   "outputs": [
    {
     "name": "stdout",
     "output_type": "stream",
     "text": [
      "[\"Let's\", 'do', 'some', 'splitting']\n",
      "Let's do some splitting\n"
     ]
    }
   ],
   "source": [
    "#Split and join are interesting\n",
    "#Split takes in a delimiter to split the string\n",
    "#You call it on the string\n",
    "S = \"Let's do some splitting\"\n",
    "S = S.split()\n",
    "print S\n",
    "#With join, you need to call it on the delimeter\n",
    "#Pass it the list of strings to join\n",
    "delimeter = ' '\n",
    "S = delimeter.join(S)\n",
    "print S"
   ]
  },
  {
   "cell_type": "markdown",
   "metadata": {},
   "source": [
    "- Be careful about which operations make new lists and which ones modify existing lists"
   ]
  },
  {
   "cell_type": "code",
   "execution_count": 59,
   "metadata": {
    "collapsed": false
   },
   "outputs": [],
   "source": [
    "def chop(Input_list):\n",
    "    del Input_list[0]\n",
    "    del Input_list[-1]\n",
    "    return None\n",
    "\n",
    "chop([1,2,3,4,5,6,7,8,9])"
   ]
  },
  {
   "cell_type": "markdown",
   "metadata": {},
   "source": [
    "**10.9**\n",
    "- use list to convert from string to list of characters\n",
    "- split breaks string into words\n",
    "- delimiter specifies which characters to use as word boundaries\n",
    "- join is inverse of split"
   ]
  },
  {
   "cell_type": "markdown",
   "metadata": {},
   "source": [
    "**10.10**\n",
    "- to check if two variables refer to two different objects or to same object, use is operator\n",
    "- two equivalent lists assigned to different variables is still two different objects: not identical\n",
    "- an object has a value"
   ]
  },
  {
   "cell_type": "markdown",
   "metadata": {},
   "source": [
    "**10.11**\n",
    "- association of variable with object called reference\n",
    "- object with more than one reference has more than one name, so object is aliased\n",
    "- if aliased object is mutable, changes made with one alias affect the other\n",
    "- safer to avoid aliasing when working with mutable objects\n",
    "- aliasing doesn't really do a lot with immutable objects"
   ]
  },
  {
   "cell_type": "markdown",
   "metadata": {},
   "source": [
    "**10.12**\n",
    "- passing a list to a function, function gets reference to list: if function modifies list parameter, caller gets to see change  \n",
    "       def delete_head(t):  \n",
    "           del t[0]\n",
    "- if run delete_head(letters), parameter t and variable letters are aliases for same object\n",
    "- distinguish between operations that modify lists and operations that create new lists"
   ]
  },
  {
   "cell_type": "markdown",
   "metadata": {},
   "source": [
    "**10.13**\n",
    "- list methods modify arguments and return None\n",
    "- string methods return a new string and leave original alone\n",
    "- there are lots of ways to do things. choose one and stick with it\n",
    "- make copies to avoid aliasing"
   ]
  },
  {
   "cell_type": "code",
   "execution_count": 22,
   "metadata": {
    "collapsed": false
   },
   "outputs": [],
   "source": [
    "def chop(input_list):\n",
    "    \"\"\"\n",
    "    Takes input list and modifies it by excluding first and last elements\n",
    "    Returns none\n",
    "    \n",
    "    >>> middle([1,2,3,4])\n",
    "    None\n",
    "    \n",
    "    \"\"\"\n",
    "    \n",
    "    del input_list[0]\n",
    "    del input_list[len(input_list) - 1]\n",
    "    return None\n",
    "\n",
    "\n",
    "    import doctest\n",
    "    doctest.run_docstring_examples(chop, globals())\n",
    "    "
   ]
  },
  {
   "cell_type": "code",
   "execution_count": 25,
   "metadata": {
    "collapsed": false
   },
   "outputs": [
    {
     "name": "stdout",
     "output_type": "stream",
     "text": [
      "[1, 2, 3, 4, 5]\n",
      "None\n",
      "[2, 3, 4]\n",
      "[]\n",
      "None\n",
      "[]\n",
      "[1]\n",
      "None\n",
      "[]\n",
      "[1, 2]\n",
      "None\n",
      "[]\n"
     ]
    }
   ],
   "source": [
    "def chop(tester):\n",
    "    \"\"\"\n",
    "    Making some test cases to see whether it works or not. This function should remove the first element and the last element \n",
    "    via slicing only by modifying the original. There are no test cases for doctest this time around because if I'm correct doctest\n",
    "    only works with return methods, void methods weird, at when i tried it the output didn't make sense.\n",
    "\n",
    "    \"\"\"\n",
    "    if len(tester) > 0:    \n",
    "        del tester[len(tester)-1]\n",
    "    if len(tester) > 0:    \n",
    "        del tester[0]\n",
    "\n",
    "chicken = [1,2,3,4,5]\n",
    "print chicken\n",
    "print chop(chicken)\n",
    "print chicken \n",
    "\n",
    "chicken = []\n",
    "print chicken\n",
    "print chop(chicken)\n",
    "print chicken \n",
    "\n",
    "chicken = [1]\n",
    "print chicken\n",
    "print chop(chicken)\n",
    "print chicken \n",
    "\n",
    "chicken = [1,2]\n",
    "print chicken\n",
    "print chop(chicken)\n",
    "print chicken \n"
   ]
  },
  {
   "cell_type": "markdown",
   "metadata": {},
   "source": [
    "The difference between Middle and Chop is that Middle creates a list by returning something, so it's an operator that creates an entirely new object, whereas Chop only modifies the list that already existed by acting as a void method, so it's an operator that modifies the original."
   ]
  },
  {
   "cell_type": "code",
   "execution_count": 39,
   "metadata": {
    "collapsed": false
   },
   "outputs": [],
   "source": [
    "def chop(list1):\n",
    "    del list1[0]\n",
    "    del list1[len(list1)-1]\n",
    "    return None"
   ]
  },
  {
   "cell_type": "code",
   "execution_count": 40,
   "metadata": {
    "collapsed": true
   },
   "outputs": [],
   "source": [
    "list1=[1,2,3,4,5,6,7,8,9,10]"
   ]
  },
  {
   "cell_type": "code",
   "execution_count": 41,
   "metadata": {
    "collapsed": false
   },
   "outputs": [],
   "source": [
    "chop(list1)"
   ]
  },
  {
   "cell_type": "code",
   "execution_count": 42,
   "metadata": {
    "collapsed": false
   },
   "outputs": [
    {
     "name": "stdout",
     "output_type": "stream",
     "text": [
      "[2, 3, 4, 5, 6, 7, 8, 9]\n"
     ]
    }
   ],
   "source": [
    "print list1"
   ]
  },
  {
   "cell_type": "markdown",
   "metadata": {},
   "source": [
    "The difference between middle and chop is that middle returns a new list that contains all but the first and last item in the original list.  Chop actually modifies the list by removing the first and last elements."
   ]
  },
  {
   "cell_type": "code",
   "execution_count": 21,
   "metadata": {
    "collapsed": false
   },
   "outputs": [
    {
     "name": "stdout",
     "output_type": "stream",
     "text": [
      "None\n"
     ]
    }
   ],
   "source": [
    " def chop (x):\n",
    "    del x[0]\n",
    "    del x[-1]\n",
    "    return\n",
    "    \n",
    "#Must print this to see the boolean \"None.\"\n",
    "\n",
    "x = [1, 2, 3, 4, 5, 6, 7]\n",
    "print chop (x)\n",
    "print x\n",
    "\n",
    "#The difference between middle and chop is that middle ... \n",
    "#creates a new list that represents a region of the original... \n",
    "#While chop alters the list. \n"
   ]
  },
  {
   "cell_type": "code",
   "execution_count": 11,
   "metadata": {
    "collapsed": false
   },
   "outputs": [
    {
     "name": "stdout",
     "output_type": "stream",
     "text": [
      "[2, 3, 4, 5]\n"
     ]
    }
   ],
   "source": [
    "def chop(l):\n",
    "    del l[0]\n",
    "    del l[len(l) - 1]\n",
    "    return None\n",
    "\n",
    "ls = [1,2,3,4,5,6]\n",
    "chop(ls)\n",
    "print ls"
   ]
  },
  {
   "cell_type": "markdown",
   "metadata": {},
   "source": [
    "Middle creates a new modified list, while the original list remains the same, but chop modifies the original list. "
   ]
  },
  {
   "cell_type": "code",
   "execution_count": null,
   "metadata": {
    "collapsed": false
   },
   "outputs": [],
   "source": [
    "def chop(inputlist):\n",
    "    inputlist = inputlist[1:len(inputlist)-1]"
   ]
  },
  {
   "cell_type": "markdown",
   "metadata": {},
   "source": [
    "### Exercise 7  \n",
    "Two words are anagrams if you can rearrange the letters from one to spell the other. Write a function called `is_anagram` that takes two strings and returns `True` if they are anagrams."
   ]
  },
  {
   "cell_type": "code",
   "execution_count": 9,
   "metadata": {
    "collapsed": false,
    "scrolled": true
   },
   "outputs": [
    {
     "name": "stdout",
     "output_type": "stream",
     "text": [
      "True\n",
      "False\n",
      "True\n"
     ]
    }
   ],
   "source": [
    "def is_anagram(firstword,secondword):\n",
    "    word1 = firstword.lower().replace(\" \",\"\")#makes everything lowercase and removes spaces - we just want letters\n",
    "    word2 = secondword.lower().replace(\" \",\"\")\n",
    "    if len(word1)!= len(word2):\n",
    "        return False\n",
    "    else:\n",
    "        for c in word1:\n",
    "            if c in word2:\n",
    "                word2 = word2.replace(c,\"\",1)#for each occurence of a character in word1, we remove 1 identical character\n",
    "                word1 = word1.replace(c,\"\",1)#from both words. If word2 has letters left over, they aren't anagrams.\n",
    "        if word1 == \"\" and word2 == \"\":\n",
    "            return True\n",
    "        else:\n",
    "            return False\n",
    "        \n",
    "print is_anagram(\"Tomm arvoloriddle\", \"iamlordvoldemort\")\n",
    "print is_anagram(\"aaaaab\", \"bbbbba\")\n",
    "print is_anagram(\"abbbbb\", \"bbbbba\")\n",
    "    \n",
    "    "
   ]
  },
  {
   "cell_type": "code",
   "execution_count": 91,
   "metadata": {
    "collapsed": false
   },
   "outputs": [
    {
     "data": {
      "text/plain": [
       "True"
      ]
     },
     "execution_count": 91,
     "metadata": {},
     "output_type": "execute_result"
    }
   ],
   "source": [
    "def is_anagram(o,t):\n",
    "    if o.strip(t) == '':\n",
    "        return True\n",
    "    else:\n",
    "        return False\n",
    "\n",
    "is_anagram('banana','popcorn')\n",
    "is_anagram('banana','nabana')"
   ]
  },
  {
   "cell_type": "code",
   "execution_count": 13,
   "metadata": {
    "collapsed": false
   },
   "outputs": [
    {
     "data": {
      "text/plain": [
       "True"
      ]
     },
     "execution_count": 13,
     "metadata": {},
     "output_type": "execute_result"
    }
   ],
   "source": [
    "def anagrams(first, second):\n",
    "\n",
    "    if len(first) == len(second):\n",
    "        for i in range(0,len(second)):\n",
    "            if first[i] in second:\n",
    "                continue\n",
    "            else:\n",
    "                return False\n",
    "    else:\n",
    "        return False \n",
    "    return True\n",
    "\n",
    "anagrams('apple', 'paple')"
   ]
  },
  {
   "cell_type": "code",
   "execution_count": 3,
   "metadata": {
    "collapsed": true
   },
   "outputs": [],
   "source": [
    "def is_anagram(string1,string2):\n",
    "    for letter in string1:\n",
    "        if letter in string2:\n",
    "            string1 = string1.replace(letter, \"x\")\n",
    "            string2 = string2.replace(letter, \"x\")\n",
    "    if string1 == string2:\n",
    "        return True\n",
    "    else:\n",
    "        return False"
   ]
  },
  {
   "cell_type": "code",
   "execution_count": 26,
   "metadata": {
    "collapsed": false
   },
   "outputs": [
    {
     "name": "stdout",
     "output_type": "stream",
     "text": [
      "True\n",
      "False\n",
      "True\n"
     ]
    }
   ],
   "source": [
    "def is_anagram(string1, string2):\n",
    "    if len(string1) != len(string2):\n",
    "        return False\n",
    "    for letter in string1:\n",
    "        if letter not in string2:\n",
    "            return False\n",
    "    for letter in string2:\n",
    "        if letter not in string1:\n",
    "            return False\n",
    "    return True\n",
    "\n",
    "print is_anagram('dog', 'god')\n",
    "print is_anagram('dog', 'cat')\n",
    "print is_anagram('dogg', 'doog') #lolnope"
   ]
  },
  {
   "cell_type": "code",
   "execution_count": 70,
   "metadata": {
    "collapsed": false
   },
   "outputs": [
    {
     "name": "stdout",
     "output_type": "stream",
     "text": [
      "eilnst\n",
      "eilnst\n"
     ]
    },
    {
     "data": {
      "text/plain": [
       "True"
      ]
     },
     "execution_count": 70,
     "metadata": {},
     "output_type": "execute_result"
    }
   ],
   "source": [
    "def is_anagram(a, b):\n",
    "    x = list(b)       #puts the letters of b into a list\n",
    "    x.sort()          #sorts the list by alphabetical order\n",
    "    z = ''.join(x)    #joins celements of list back into string\n",
    "    \n",
    "    y = list(a)       #puts the letters of a into a list\n",
    "    y.sort()          #sorts the list\n",
    "    w = ''.join(y)    #joins elements of list back into string\n",
    "    \n",
    "    print w\n",
    "    print z\n",
    "    flag = False\n",
    "    for char in z and w:\n",
    "        flag = flag or z == w  #if the charaacter is eqivalent, becomes true\n",
    "    return flag\n",
    "    \n",
    "\n",
    "is_anagram('listen', 'silent')\n",
    "    \n",
    "    "
   ]
  },
  {
   "cell_type": "code",
   "execution_count": 7,
   "metadata": {
    "collapsed": false
   },
   "outputs": [
    {
     "data": {
      "text/plain": [
       "False"
      ]
     },
     "execution_count": 7,
     "metadata": {},
     "output_type": "execute_result"
    }
   ],
   "source": [
    "def anagram(word_one, word_two):\n",
    "    sort_word_one = sorted(word_one)\n",
    "    sort_word_two = sorted(word_two)\n",
    "    if sort_word_two == sort_word_one:\n",
    "        return True\n",
    "    else:\n",
    "        return False\n",
    "\n",
    "anagram('supper', 'persou')\n"
   ]
  },
  {
   "cell_type": "code",
   "execution_count": 11,
   "metadata": {
    "collapsed": false
   },
   "outputs": [
    {
     "name": "stdout",
     "output_type": "stream",
     "text": [
      "True\n",
      "False\n"
     ]
    }
   ],
   "source": [
    "def is_anagram(word1, word2):\n",
    "    \"\"\"\n",
    "    Takes 2 words and checks to see if they are anagrams\n",
    "    >>> is_anagram('lived', 'devil')\n",
    "    True\n",
    "    \"\"\"\n",
    "    for letter in word1:\n",
    "        if letter not in word2:\n",
    "            return False\n",
    "    for letter in word2:\n",
    "        if letter not in word1:\n",
    "            return False\n",
    "    return True\n",
    "\n",
    "print is_anagram('lived','devil')\n",
    "print is_anagram('right', 'wright')"
   ]
  },
  {
   "cell_type": "code",
   "execution_count": 20,
   "metadata": {
    "collapsed": false
   },
   "outputs": [
    {
     "data": {
      "text/plain": [
       "True"
      ]
     },
     "execution_count": 20,
     "metadata": {},
     "output_type": "execute_result"
    }
   ],
   "source": [
    "def is_anagram (x,y):\n",
    "    x = list(x)\n",
    "    y = list(y)\n",
    "    x.sort()\n",
    "    y.sort()\n",
    "    if x == y:\n",
    "        return True\n",
    "\n",
    "\n",
    "is_anagram('bat', 'tab')"
   ]
  },
  {
   "cell_type": "code",
   "execution_count": 20,
   "metadata": {
    "collapsed": false
   },
   "outputs": [
    {
     "data": {
      "text/plain": [
       "True"
      ]
     },
     "execution_count": 20,
     "metadata": {},
     "output_type": "execute_result"
    }
   ],
   "source": [
    "#take two strings and returns true if they are anagrams\n",
    "# find letter in index[0] and eliminate that letter from both words\n",
    "#do the same this time with index[1] and so on.\n",
    "#in the end, string 1 will have no letters in it. \n",
    "#if they are anagrams, then string two should also be empty\n",
    "def anagram(word1,word2):\n",
    "    listword1 = list(word1)\n",
    "    listword2 = list(word2)\n",
    "    if len(listword1) == len(listword2):\n",
    "        for char in listword1:\n",
    "            if char in listword2:           \n",
    "                listword2.remove(char)\n",
    "            else:\n",
    "                print \"False\"\n",
    "    #return listword1\n",
    "        return listword2 == []\n",
    "    else:\n",
    "        return False\n",
    "\n",
    "\n",
    "        \n",
    "anagram('silent','listen')"
   ]
  },
  {
   "cell_type": "code",
   "execution_count": 52,
   "metadata": {
    "collapsed": false
   },
   "outputs": [],
   "source": [
    "def anagrams(String1, String2):\n",
    "    \"\"\"\n",
    "    Given two string inputs, checks to see if they are anagrams.\n",
    "    >>>anagrams('tab', 'bat')\n",
    "    True\n",
    "    >>>anagrams('lad', 'bad')\n",
    "    False\n",
    "    \"\"\"\n",
    "    for letter in String1:\n",
    "        if letter in String2:\n",
    "            return True\n",
    "        else:\n",
    "            return False\n",
    "        \n",
    "anagrams('tab', 'bad')\n",
    "import doctest\n",
    "doctest.run_docstring_examples(chop, globals())"
   ]
  },
  {
   "cell_type": "code",
   "execution_count": 23,
   "metadata": {
    "collapsed": false
   },
   "outputs": [],
   "source": [
    "def is_anagram(input1, input2):\n",
    "    \"\"\"\n",
    "    >>> is_anagram(\"DoctorWho\", \"Torchwood\")\n",
    "    True\n",
    "    >>> is_anagram(\"Something\", \"Not even close\")\n",
    "    False\n",
    "    >>> is_anagram(\"Loose\", \"Losse\")\n",
    "    False\n",
    "    \"\"\"\n",
    "    if len(input1) != len(input2):\n",
    "        return False\n",
    "    \n",
    "    str1 = input1.lower()\n",
    "    str2 = input2.lower()\n",
    "    i = len(str1)-1\n",
    "    while (i >= 0): # cycles backward through characters in str1\n",
    "        i2 = str2.find(str1[i])\n",
    "        if i2 >= 0: # if there is a matching character in str2\n",
    "            str1 = str1[:len(str1)-1] # remove the character from both (to avoid using the same character again)\n",
    "            str2 = str2[:i2] + str2[i2+1:]\n",
    "        else: # if it does not match\n",
    "            return False\n",
    "        i -= 1\n",
    "    return True\n",
    "\n",
    "\n",
    "import doctest\n",
    "doctest.run_docstring_examples(is_anagram,globals())"
   ]
  },
  {
   "cell_type": "code",
   "execution_count": 26,
   "metadata": {
    "collapsed": false
   },
   "outputs": [
    {
     "name": "stdout",
     "output_type": "stream",
     "text": [
      "True\n",
      "False\n"
     ]
    }
   ],
   "source": [
    "def is_anagram(string1, string2):\n",
    "    List1 = list(string1)\n",
    "    List2 = list(string2)\n",
    "    List1.sort()\n",
    "    List2.sort()\n",
    "    \n",
    "    if List1 == List2:\n",
    "        return True\n",
    "    else:\n",
    "        return False\n",
    "print is_anagram('happy', 'pahyp')\n",
    "print is_anagram('happy', 'pahy')"
   ]
  },
  {
   "cell_type": "code",
   "execution_count": 26,
   "metadata": {
    "collapsed": false
   },
   "outputs": [
    {
     "data": {
      "text/plain": [
       "TestResults(failed=0, attempted=4)"
      ]
     },
     "execution_count": 26,
     "metadata": {},
     "output_type": "execute_result"
    }
   ],
   "source": [
    "def is_anagram(string1,string2):\n",
    "    \"\"\"\n",
    "    checks if two strings are anagrams of each other.\n",
    "\n",
    "    >>> is_anagram('boats','boast')\n",
    "    True\n",
    "\n",
    "    >>> is_anagram('ship','boat')\n",
    "    False\n",
    "\n",
    "    \"\"\"\n",
    "    list1 = list(string1)\n",
    "    list2 = list(string2)\n",
    "    list1.sort()\n",
    "    list2.sort()\n",
    "    if list1 == list2:\n",
    "        return True\n",
    "    else:\n",
    "        return False\n",
    "\n",
    "import doctest\n",
    "doctest.testmod()"
   ]
  },
  {
   "cell_type": "code",
   "execution_count": 52,
   "metadata": {
    "collapsed": false
   },
   "outputs": [
    {
     "name": "stdout",
     "output_type": "stream",
     "text": [
      "True\n",
      "True\n",
      "False\n",
      "False\n",
      "False\n",
      "False\n"
     ]
    }
   ],
   "source": [
    "def is_anagram(word1, word2):\n",
    "    w1 = word1.lower()\n",
    "    w2 = word2.lower()\n",
    "    for char in w1:\n",
    "        if char not in w2:\n",
    "            return False\n",
    "    for char in w2:\n",
    "        if char not in w1:\n",
    "            return False\n",
    "    for char in w1:\n",
    "        if w1.count(char) != w2.count(char):\n",
    "            return False\n",
    "            \n",
    "    return True\n",
    "    \n",
    "print(is_anagram('word','drow'))      # T\n",
    "print(is_anagram('Word','drOw'))      # T\n",
    "print(is_anagram('word','row'))       # F\n",
    "print(is_anagram('word','drows'))     # F\n",
    "print(is_anagram('wordd','drow'))     # F\n",
    "print(is_anagram('word','droww'))     # F"
   ]
  },
  {
   "cell_type": "code",
   "execution_count": 8,
   "metadata": {
    "collapsed": false
   },
   "outputs": [
    {
     "data": {
      "text/plain": [
       "True"
      ]
     },
     "execution_count": 8,
     "metadata": {},
     "output_type": "execute_result"
    }
   ],
   "source": [
    "def is_anagram(word1, word2):\n",
    "    return list(word1).sort()==list(word2).sort()\n",
    "is_anagram('hello', 'olehl')"
   ]
  },
  {
   "cell_type": "code",
   "execution_count": 31,
   "metadata": {
    "collapsed": false
   },
   "outputs": [
    {
     "data": {
      "text/plain": [
       "True"
      ]
     },
     "execution_count": 31,
     "metadata": {},
     "output_type": "execute_result"
    }
   ],
   "source": [
    "\"\"\"\n",
    "Determines if two words are anagrams of one another\n",
    "\n",
    ">>> is_anagram('silent','listen')\n",
    "True\n",
    "\n",
    ">>> is_anagram('Hello', 'hello')\n",
    "True\n",
    "\n",
    ">>> is_anagram('Word', 'Wordy')\n",
    "False\n",
    "\"\"\"\n",
    "\n",
    "def is_anagram(first_word, second_word):\n",
    "    first_word = first_word.lower()\n",
    "    second_word = second_word.lower()\n",
    "    \n",
    "    list_1 = list(first_word)\n",
    "    list_2 = list(second_word)\n",
    "    \n",
    "    list_1.sort()\n",
    "    list_2.sort()\n",
    "    \n",
    "    return list_1 == list_2\n",
    "       \n",
    "        \n",
    "is_anagram('Rabbit', 'rabbit')\n",
    "\n",
    "#import doctest\n"
   ]
  },
  {
   "cell_type": "code",
   "execution_count": 25,
   "metadata": {
    "collapsed": false
   },
   "outputs": [
    {
     "name": "stdout",
     "output_type": "stream",
     "text": [
      "False\n",
      "False\n",
      "True\n"
     ]
    }
   ],
   "source": [
    "def is_anagram(word1, word2):\n",
    "    if type(word1) == str and type(word2) == str:\n",
    "        if len(word1) == len(word2):\n",
    "            for c in word1:\n",
    "                if c not in word2:\n",
    "                    return False\n",
    "        else:\n",
    "            return False\n",
    "        return True\n",
    "    else:\n",
    "        return False\n",
    " \n",
    "print is_anagram('banana', 1)\n",
    "print is_anagram('apple', 'pear')\n",
    "print is_anagram('banana', 'ananab')\n",
    "\n"
   ]
  },
  {
   "cell_type": "code",
   "execution_count": 33,
   "metadata": {
    "collapsed": false
   },
   "outputs": [
    {
     "data": {
      "text/plain": [
       "True"
      ]
     },
     "execution_count": 33,
     "metadata": {},
     "output_type": "execute_result"
    }
   ],
   "source": [
    "def is_anagram(str1, str2):\n",
    "    \n",
    "    if(len(str1) != len(str2)):\n",
    "        return\n",
    "\n",
    "    str_list_1 = list(str1)\n",
    "    str_list_2 = list(str2)\n",
    "    str_list_1.sort()\n",
    "    str_list_2.sort()\n",
    "\n",
    "    count = 0\n",
    "    for x in str_list_1:\n",
    "        temp = False\n",
    "        for y in str_list_2:\n",
    "            if(x == y):\n",
    "                count += 1\n",
    "                temp = True\n",
    "            if(temp):\n",
    "                break\n",
    "\n",
    "    if(count == len(str1)):\n",
    "        return True\n",
    "\n",
    "word1 = 'noon'\n",
    "word2 = 'onon'\n",
    "is_anagram(word1,word2)"
   ]
  },
  {
   "cell_type": "code",
   "execution_count": 12,
   "metadata": {
    "collapsed": false
   },
   "outputs": [
    {
     "data": {
      "text/plain": [
       "True"
      ]
     },
     "execution_count": 12,
     "metadata": {},
     "output_type": "execute_result"
    }
   ],
   "source": [
    "def is_anagram(word1, word2):\n",
    "    if len(word1) == len(word2):\n",
    "        t1 = list(word1)\n",
    "        t2 = list(word2)\n",
    "        for c in t1: \n",
    "            t2.remove(c)\n",
    "        if t2 == []:\n",
    "            return True\n",
    "        else:\n",
    "            return False\n",
    "    else:\n",
    "        return False\n",
    "\n",
    "word1 = \"food\"\n",
    "word2 = \"doof\"\n",
    "is_anagram(word1, word2)"
   ]
  },
  {
   "cell_type": "code",
   "execution_count": 58,
   "metadata": {
    "collapsed": false
   },
   "outputs": [
    {
     "data": {
      "text/plain": [
       "True"
      ]
     },
     "execution_count": 58,
     "metadata": {},
     "output_type": "execute_result"
    }
   ],
   "source": [
    "def is_anagram(string_one,string_two):\n",
    "    for char in string_one:\n",
    "        if not char in string_two or len(string_one) != len(string_two):\n",
    "            return False\n",
    "        else:\n",
    "            return True\n",
    "        \n",
    "is_anagram('debit card','bad credit')"
   ]
  },
  {
   "cell_type": "code",
   "execution_count": 25,
   "metadata": {
    "collapsed": false
   },
   "outputs": [],
   "source": [
    "def is_anagram(string1, string2):\n",
    "    \"\"\"\n",
    "    Takes two strings and returns True is they are anagrams\n",
    "    \n",
    "    >>> is_anagram(\"lemon\",\"melon\")\n",
    "    True\n",
    "    \n",
    "    >>> is_anagram(\"cat\", \"catastrophe\")\n",
    "    False\n",
    "    \n",
    "    \"\"\"\n",
    "\n",
    "    if len(string1) == len(string2):\n",
    "        for letter in list(string1):\n",
    "            if letter in list(string2):\n",
    "                return True\n",
    "            else:\n",
    "                return False\n",
    "    else:\n",
    "        return False\n",
    "            \n",
    "    \n",
    "import doctest\n",
    "doctest.run_docstring_examples(is_anagram, globals())\n",
    "\n"
   ]
  },
  {
   "cell_type": "code",
   "execution_count": 13,
   "metadata": {
    "collapsed": false
   },
   "outputs": [
    {
     "name": "stdout",
     "output_type": "stream",
     "text": [
      "True\n"
     ]
    }
   ],
   "source": [
    "def is_anagram(string1, string2):\n",
    "    string1_value = get_string_value(string1)\n",
    "    string2_value = get_string_value(string2)\n",
    "    if string1_value == string2_value:\n",
    "        return True    \n",
    "    return False\n",
    "\n",
    "def get_string_value(string):\n",
    "    value = 0\n",
    "    for x in range(len(string)):\n",
    "        value += ord(string[x])\n",
    "    return value\n",
    "\n",
    "x = \"kin\"\n",
    "y = \"ink\"\n",
    "print is_anagram(x, y)"
   ]
  },
  {
   "cell_type": "code",
   "execution_count": 28,
   "metadata": {
    "collapsed": false
   },
   "outputs": [
    {
     "data": {
      "text/plain": [
       "True"
      ]
     },
     "execution_count": 28,
     "metadata": {},
     "output_type": "execute_result"
    }
   ],
   "source": [
    "def anagrams(word_1, word_2):\n",
    "    list_1=list(word_1)\n",
    "    list_2=list(word_2)\n",
    "    list_1.sort()\n",
    "    list_2.sort()\n",
    "    return list_1==list_2\n",
    "    \n",
    "anagrams('abc', 'bca')\n"
   ]
  },
  {
   "cell_type": "code",
   "execution_count": 24,
   "metadata": {
    "collapsed": false
   },
   "outputs": [
    {
     "name": "stdout",
     "output_type": "stream",
     "text": [
      "True\n"
     ]
    }
   ],
   "source": [
    "def is_anagram(word1, word2):\n",
    "    counter = 0 \n",
    "    for c in word1:\n",
    "        if c in word2:\n",
    "            counter = counter + 1\n",
    "    if counter == len(word2) and counter == len(word1):\n",
    "        return True\n",
    "    else:\n",
    "        return False\n",
    "print is_anagram('lhouse','uoelsh')"
   ]
  },
  {
   "cell_type": "code",
   "execution_count": 40,
   "metadata": {
    "collapsed": false
   },
   "outputs": [
    {
     "data": {
      "text/plain": [
       "True"
      ]
     },
     "execution_count": 40,
     "metadata": {},
     "output_type": "execute_result"
    }
   ],
   "source": [
    "def is_anagram(one, two):\n",
    "    list_one = list(one)\n",
    "    list_two = list(two)\n",
    "    list_one.sort()\n",
    "    list_two.sort()\n",
    "    return list_one == list_two\n",
    "is_anagram('poop', 'oopp')"
   ]
  },
  {
   "cell_type": "code",
   "execution_count": 8,
   "metadata": {
    "collapsed": false
   },
   "outputs": [
    {
     "name": "stdout",
     "output_type": "stream",
     "text": [
      "True\n",
      "False\n"
     ]
    }
   ],
   "source": [
    "def anagram(shtring1, shtring2):\n",
    "    \"\"\"checks if two strings are anagrams, returns a bool. Does not consider spaces.\n",
    "    \n",
    "    >>>anagram('Public relations','Crap built on lies')\n",
    "    True\n",
    "    >>>anagram('abc','abd')\n",
    "    False\n",
    "    \"\"\"\n",
    "    set1 = set((shtring1.replace(\" \", \"\")).lower())\n",
    "    set2 = set((shtring2.replace(\" \", \"\")).lower())\n",
    "    return set1 == set2\n",
    "\n",
    "print anagram('Public relations','Crap built on lies')\n",
    "print anagram('abc','abd')"
   ]
  },
  {
   "cell_type": "code",
   "execution_count": 27,
   "metadata": {
    "collapsed": false
   },
   "outputs": [
    {
     "data": {
      "text/plain": [
       "True"
      ]
     },
     "execution_count": 27,
     "metadata": {},
     "output_type": "execute_result"
    }
   ],
   "source": [
    "def anagram(word1, word2): \n",
    "    #overwriting to push all to lower and remove spaces\n",
    "    word1 = word1.lower()\n",
    "    word2 = word2.lower()\n",
    "    word1 = word1.replace(\" \",\"\") #note str.strip() doesn't remove internal spaces\n",
    "    word2 = word2.replace(\" \",\"\")\n",
    "    \n",
    "    if len(word1) != len(word2):\n",
    "        return False\n",
    "    \n",
    "    i = 0\n",
    "    while i <len(word1):\n",
    "        if word1[i] in word2:\n",
    "            i+=1\n",
    "        else:\n",
    "            return False       \n",
    "    return True\n",
    "\n",
    "anagram('Tom Marvelo Riddle', 'I am Lord Voldemort') #True"
   ]
  },
  {
   "cell_type": "code",
   "execution_count": 31,
   "metadata": {
    "collapsed": false
   },
   "outputs": [
    {
     "data": {
      "text/plain": [
       "True"
      ]
     },
     "execution_count": 31,
     "metadata": {},
     "output_type": "execute_result"
    }
   ],
   "source": [
    "def is_anagram(a, b):\n",
    "    if len(a) != len(b):\n",
    "        return False\n",
    "    a = a.lower()\n",
    "    b = b.lower()\n",
    "    a = list(a)\n",
    "    b = list(b)\n",
    "    a.sort()\n",
    "    b.sort()\n",
    "    i = 0\n",
    "    while i < len(a):\n",
    "        if a[i] == b[i]:\n",
    "            i = i + 1\n",
    "        else:\n",
    "            return False\n",
    "    return True\n",
    "\n",
    "a = 'PalInDROME'\n",
    "b = 'EMORDnilap'\n",
    "\n",
    "is_anagram(a, b)"
   ]
  },
  {
   "cell_type": "code",
   "execution_count": 43,
   "metadata": {
    "collapsed": false
   },
   "outputs": [
    {
     "name": "stdout",
     "output_type": "stream",
     "text": [
      "True\n"
     ]
    }
   ],
   "source": [
    "def is_anagram(str1, str2):\n",
    "\n",
    "    #initial conditions\n",
    "    group1 = []\n",
    "    group2 = []\n",
    "    increment = 0\n",
    "    str1.lower()\n",
    "    str2.lower()\n",
    "    final_result = False\n",
    "    \n",
    "    #List rearranging\n",
    "    for char_group1 in str1:\n",
    "        group1.append(char_group1)\n",
    "    for char_group2 in str2:\n",
    "        group2.append(char_group2)\n",
    "    group1.sort()\n",
    "    group2.sort()\n",
    "\n",
    "    #removing spaces and periods (not sure if there's a more efficient way)\n",
    "    if \" \" in group1:\n",
    "        group1.remove(' ')\n",
    "    if \" \" in group2:\n",
    "        group2.remove(' ')\n",
    "    if \".\" in group1:\n",
    "        group1.remove('.')\n",
    "    if \".\" in group2:\n",
    "        group2.remove('.')\n",
    "    \n",
    "    \n",
    "    #Are they really the same?\n",
    "    if len(group1) == len(group2):\n",
    "        for element in group1:\n",
    "            one_result = (group1[increment] == group2[increment])\n",
    "            final_result = one_result or final_result\n",
    "            increment += 1\n",
    "    else:\n",
    "        final_result = False\n",
    "    \n",
    "    \n",
    "    \n",
    "    return final_result\n",
    "\n",
    "print is_anagram('Schoolmaster.', 'The Classroom')\n",
    "        "
   ]
  },
  {
   "cell_type": "code",
   "execution_count": 49,
   "metadata": {
    "collapsed": false
   },
   "outputs": [
    {
     "data": {
      "text/plain": [
       "True"
      ]
     },
     "execution_count": 49,
     "metadata": {},
     "output_type": "execute_result"
    }
   ],
   "source": [
    "def is_anagram(string1,string2):\n",
    "    list1 = []\n",
    "    list2 = []\n",
    "\n",
    "    for i in string1:\n",
    "        list1.append(i)\n",
    "    for i in string2:\n",
    "        list2.append(i)\n",
    "    \n",
    "    list1.sort()\n",
    "    list2.sort()\n",
    "    \n",
    "    if list1 == list2:\n",
    "        return True\n",
    "    else:\n",
    "        return False\n",
    "\n",
    "is_anagram(\"hello\",\"loleh\")"
   ]
  },
  {
   "cell_type": "code",
   "execution_count": 22,
   "metadata": {
    "collapsed": false
   },
   "outputs": [],
   "source": [
    "def is_anagram(one,two):\n",
    "    \n",
    "    \"\"\"\n",
    "    Takes two strings, returns true if they are anagrams, false otherwise\n",
    "    \n",
    "    >>> is_anagram('abcde','ebadc')\n",
    "    True\n",
    "    >>> is_anagram('okay','asdf')\n",
    "    False\n",
    "    \"\"\"\n",
    "    \n",
    "    oneList = list(one)\n",
    "    twoList = list(two)\n",
    "\n",
    "    oneList.sort()\n",
    "    twoList.sort()\n",
    "    \n",
    "    if oneList == twoList:\n",
    "        return True\n",
    "    else:\n",
    "        return False\n",
    "\n",
    "\n",
    "import doctest\n",
    "doctest.run_docstring_examples(is_anagram, globals())"
   ]
  },
  {
   "cell_type": "code",
   "execution_count": 3,
   "metadata": {
    "collapsed": false
   },
   "outputs": [
    {
     "data": {
      "text/plain": [
       "True"
      ]
     },
     "execution_count": 3,
     "metadata": {},
     "output_type": "execute_result"
    }
   ],
   "source": [
    "def is_anagram(x, y):\n",
    "    xlist = [stuff for stuff in x]\n",
    "    ylist = [stuff for stuff in y]\n",
    "    xlist.sort()\n",
    "    ylist.sort()\n",
    "    return (xlist == ylist)\n",
    "is_anagram('decimate', 'medicate')"
   ]
  },
  {
   "cell_type": "code",
   "execution_count": 28,
   "metadata": {
    "collapsed": false
   },
   "outputs": [
    {
     "data": {
      "text/plain": [
       "True"
      ]
     },
     "execution_count": 28,
     "metadata": {},
     "output_type": "execute_result"
    }
   ],
   "source": [
    "def isanagram(string1, string2):\n",
    "    strlist = [string1, string2]\n",
    "    for i in range(0,2):\n",
    "        strlist[i] = strlist[i].replace(\" \",\"\")\n",
    "        strlist[i] = ''.join(sorted(strlist[i]))\n",
    "    \n",
    "    if strlist[0] == strlist[1]:\n",
    "        return True\n",
    "    return False\n",
    "\n",
    "isanagram('i am lord voldemort', 'tom marvolo riddle')"
   ]
  },
  {
   "cell_type": "code",
   "execution_count": 32,
   "metadata": {
    "collapsed": false
   },
   "outputs": [
    {
     "data": {
      "text/plain": [
       "False"
      ]
     },
     "execution_count": 32,
     "metadata": {},
     "output_type": "execute_result"
    }
   ],
   "source": [
    "def is_anagram(a, b):\n",
    "    b = b[::-1]\n",
    "    if a in b:\n",
    "        return True\n",
    "    return False\n",
    "# FunFact: while palindrome is not itself a palindrome, it is infact an emordnilap (reverse of palindrome) which is a word that spelled backwards, is another word.\n",
    "is_anagram('palindrome', 'emordnilap')"
   ]
  },
  {
   "cell_type": "code",
   "execution_count": 33,
   "metadata": {
    "collapsed": false
   },
   "outputs": [
    {
     "name": "stdout",
     "output_type": "stream",
     "text": [
      "(True, False, False)\n"
     ]
    }
   ],
   "source": [
    "def is_anagram(word1, word2):\n",
    "    if len(word1) != len(word2):\n",
    "        return False\n",
    "    l1 = list(word1)\n",
    "    l2 = list(word2)\n",
    "    l1.sort()\n",
    "    l2.sort()\n",
    "    if l1 == l2:\n",
    "        return True\n",
    "    else :\n",
    "        return False\n",
    "\n",
    "print(is_anagram('cats','stac'),is_anagram('cats', 'cats are the worst oh god why'),is_anagram('dawg','dogs'))"
   ]
  },
  {
   "cell_type": "code",
   "execution_count": 6,
   "metadata": {
    "collapsed": false
   },
   "outputs": [
    {
     "data": {
      "text/plain": [
       "True"
      ]
     },
     "execution_count": 6,
     "metadata": {},
     "output_type": "execute_result"
    }
   ],
   "source": [
    "def is_anagram(s1, s2):\n",
    "    ls1 = list(s1).sort()\n",
    "    ls2 = list(s2).sort()\n",
    "    if ls1 == ls2:\n",
    "        return True\n",
    "    else:\n",
    "        return False\n",
    "    \n",
    "is_anagram('hello', 'lolhe')"
   ]
  },
  {
   "cell_type": "code",
   "execution_count": 13,
   "metadata": {
    "collapsed": false
   },
   "outputs": [
    {
     "name": "stdout",
     "output_type": "stream",
     "text": [
      "True\n",
      "False\n",
      "False\n"
     ]
    }
   ],
   "source": [
    "def is_anagram(word1,word2):\n",
    "    letters = list(word1)\n",
    "    anagram = True\n",
    "    for letter in word2:\n",
    "        if letter not in letters:\n",
    "            return False\n",
    "        else:\n",
    "            letters.remove(letter)\n",
    "    if len(letters) != 0:\n",
    "        return False\n",
    "    return anagram\n",
    "\n",
    "print is_anagram('racecar','carrace')\n",
    "print is_anagram('asdasdasfasd','qowpiead')\n",
    "print is_anagram('aple','apple')"
   ]
  },
  {
   "cell_type": "code",
   "execution_count": 9,
   "metadata": {
    "collapsed": false
   },
   "outputs": [
    {
     "name": "stdout",
     "output_type": "stream",
     "text": [
      "True\n",
      "False\n"
     ]
    }
   ],
   "source": [
    "def anagram(s1, s2):\n",
    "    s1 = sorted(s1.lower())\n",
    "    s2 = sorted(s2.lower())\n",
    "    return s1 == s2\n",
    "    \n",
    "print(anagram('Scrabble', 'Clabbers'))\n",
    "print(anagram('cat', 'dog'))"
   ]
  },
  {
   "cell_type": "markdown",
   "metadata": {},
   "source": [
    "- Accumulators are used for summing elements when executing a loop.\n",
    "- Pop deletes the element at the designated index and returns it, remove just removes it"
   ]
  },
  {
   "cell_type": "code",
   "execution_count": 21,
   "metadata": {
    "collapsed": false
   },
   "outputs": [
    {
     "name": "stdout",
     "output_type": "stream",
     "text": [
      "i'm too tired to finish this function\n"
     ]
    }
   ],
   "source": [
    "def is_anagram(str1, str2, index):\n",
    "    if 'cat':\n",
    "        return \"i'm too tired to finish this function\"\n",
    "    if len(str1) != len(str2):\n",
    "        return False\n",
    "    print 'recursing'\n",
    "    res = is_anagram(str1, str2[0:i]+str2[index]+str2[i:index]+str2[i]+str2[index:], index-1)\n",
    "    if res == True:\n",
    "        return True\n",
    "    if str1 == str2:\n",
    "        return True\n",
    "    else:\n",
    "        return False\n",
    "print is_anagram('cat', 'tca', 2)"
   ]
  },
  {
   "cell_type": "code",
   "execution_count": 12,
   "metadata": {
    "collapsed": false
   },
   "outputs": [
    {
     "data": {
      "text/plain": [
       "True"
      ]
     },
     "execution_count": 12,
     "metadata": {},
     "output_type": "execute_result"
    }
   ],
   "source": [
    "def is_anagram(string1,string2):\n",
    "    s1=list(string1)\n",
    "    s2=list(string2)\n",
    "    s1.sort()\n",
    "    s2.sort()\n",
    "    if s1 == s2:\n",
    "        return True\n",
    "    else:\n",
    "        return False\n",
    "    \n",
    "is_anagram('elvis','lives')"
   ]
  },
  {
   "cell_type": "code",
   "execution_count": 23,
   "metadata": {
    "collapsed": false
   },
   "outputs": [
    {
     "data": {
      "text/plain": [
       "True"
      ]
     },
     "execution_count": 23,
     "metadata": {},
     "output_type": "execute_result"
    }
   ],
   "source": [
    "def is_anagram(word1, word2):\n",
    "    word1list = list(word1)\n",
    "    word2list = list(word2)\n",
    "    #set1 = set(word1list)\n",
    "    #set2 = set(word2list) this doesn't make sure that there are the SAME NUMBER OF EACH LETTER SO it doesn't work\n",
    "    #if set1 == set2:\n",
    "     #   return True\n",
    "    #else:\n",
    "     #   return False\n",
    "    from collections import Counter\n",
    "    if Counter(word1) == Counter(word2):\n",
    "        return True\n",
    "    else:\n",
    "        return False\n",
    "is_anagram('alpha','alpha')"
   ]
  },
  {
   "cell_type": "code",
   "execution_count": 30,
   "metadata": {
    "collapsed": false
   },
   "outputs": [
    {
     "data": {
      "text/plain": [
       "True"
      ]
     },
     "execution_count": 30,
     "metadata": {},
     "output_type": "execute_result"
    }
   ],
   "source": [
    "def is_anagram(word1, word2):\n",
    "    word1_new= word1.replace(\" \", \"\")\n",
    "    word2_new= word2.replace(\" \", \"\")\n",
    "    if len(word1_new)!= len(word2_new):\n",
    "        return False\n",
    "    word1_new= word1_new.lower()\n",
    "    word2_new= word2_new.lower()\n",
    "    letters1=[]\n",
    "    letters2=[]\n",
    "    i=0\n",
    "    while i<= len(word1_new)-1:\n",
    "        letters1.append(word1_new[i])\n",
    "        letters2.append(word2_new[i])\n",
    "        i+=1\n",
    "    letters1.sort()\n",
    "    letters2.sort()\n",
    "    j=0\n",
    "    while j<= len(letters1)-1:\n",
    "        if letters1[j]== letters2[j]:\n",
    "            j+=1\n",
    "        else:\n",
    "            return False\n",
    "    return True    \n",
    "        \n",
    "is_anagram(\"Tom Marvolo Riddle\",\"I am Lord Voldemort\")"
   ]
  },
  {
   "cell_type": "code",
   "execution_count": 7,
   "metadata": {
    "collapsed": false
   },
   "outputs": [
    {
     "name": "stdout",
     "output_type": "stream",
     "text": [
      "True\n",
      "False\n"
     ]
    }
   ],
   "source": [
    "def is_anagram(x,y):\n",
    "    list_x = list(x)\n",
    "    list_y = list(y)\n",
    "    list_x.sort()\n",
    "    list_y.sort()\n",
    "    \n",
    "    return list_x == list_y\n",
    "print is_anagram('python', 'thonpy')\n",
    "print is_anagram('python', 'apl')"
   ]
  },
  {
   "cell_type": "code",
   "execution_count": 6,
   "metadata": {
    "collapsed": false
   },
   "outputs": [
    {
     "name": "stdout",
     "output_type": "stream",
     "text": [
      "True\n",
      "False\n"
     ]
    }
   ],
   "source": [
    "def is_anagram(word1, word2):\n",
    "    list1 = list(word1)\n",
    "    list2 = list(word2)\n",
    "    list1.sort()\n",
    "    list2.sort()\n",
    "    return list1 == list2\n",
    "print is_anagram('i am lordvoldemort','tom marvolo riddle')   \n",
    "print is_anagram('hello','good bye')   "
   ]
  },
  {
   "cell_type": "code",
   "execution_count": 27,
   "metadata": {
    "collapsed": false
   },
   "outputs": [
    {
     "data": {
      "text/plain": [
       "False"
      ]
     },
     "execution_count": 27,
     "metadata": {},
     "output_type": "execute_result"
    }
   ],
   "source": [
    "def is_anagram(word1, word2):  \n",
    "    letters1 = list(word1)\n",
    "    letters2 = list(word2)\n",
    "    if len(word1) != len(word2):\n",
    "        return False\n",
    "    else:\n",
    "        for letter2 in letters2:\n",
    "            if letter2 in letters1:\n",
    "                letters1.remove(letter2)\n",
    "            if letter2 not in letters1:\n",
    "                return False\n",
    "    return True\n",
    "                \n",
    "\n",
    "\n",
    "#is_anagram('is', 'si')\n",
    "#is_anagram('tree', 'flower')\n",
    "#is_anagram('ttaa', 'ttee')\n",
    "#is_anagram('aaab', 'aabb')\n"
   ]
  },
  {
   "cell_type": "code",
   "execution_count": 5,
   "metadata": {
    "collapsed": false
   },
   "outputs": [
    {
     "name": "stdout",
     "output_type": "stream",
     "text": [
      "True\n",
      "True\n"
     ]
    }
   ],
   "source": [
    "def is_anagram(s1,s2):\n",
    "    l1=list(s1)\n",
    "    l2=list(s2)\n",
    "    l1.sort()\n",
    "    l2.sort()\n",
    "    if l1==l2:\n",
    "        return True \n",
    "    else:\n",
    "        return False\n",
    "\n",
    "print is_anagram('poiuy','yuiop')\n",
    "print is_anagram('cal cu late','late ucl ca')"
   ]
  },
  {
   "cell_type": "code",
   "execution_count": 4,
   "metadata": {
    "collapsed": false
   },
   "outputs": [
    {
     "data": {
      "text/plain": [
       "True"
      ]
     },
     "execution_count": 4,
     "metadata": {},
     "output_type": "execute_result"
    }
   ],
   "source": [
    "def is_anagram(string1,string2):\n",
    "    list1 = list(string1)\n",
    "    list2 = list(string2)\n",
    "    return list1.sort() is list2.sort()\n",
    "\n",
    "def is_anagram2(string1,string2):\n",
    "    return cmp(list(string1),list(string2))\n",
    "\n",
    "is_anagram('Hello','elloH')"
   ]
  },
  {
   "cell_type": "code",
   "execution_count": 15,
   "metadata": {
    "collapsed": false
   },
   "outputs": [],
   "source": [
    "def is_anagram(string, comparison):\n",
    "    \"\"\"\n",
    "        >>> is_anagram('amanap', 'panama')\n",
    "        True\n",
    "        >>> is_anagram('anamap', 'dick')\n",
    "        False\n",
    "    \"\"\"\n",
    "    comp = list(comparison)\n",
    "    ranout = False\n",
    "    for c in string:\n",
    "        try:\n",
    "            comp.remove(c)\n",
    "        except ValueError:\n",
    "            ranout = True\n",
    "    return len(comp) == 0 and (not ranout)\n",
    "                               \n",
    "import doctest\n",
    "doctest.run_docstring_examples(is_anagram, globals())\n",
    "            "
   ]
  },
  {
   "cell_type": "code",
   "execution_count": 4,
   "metadata": {
    "collapsed": false
   },
   "outputs": [
    {
     "name": "stdout",
     "output_type": "stream",
     "text": [
      "False\n",
      "True\n",
      "True\n",
      "True\n"
     ]
    }
   ],
   "source": [
    "def is_anagram(string1,string2):\n",
    "    string1 = string1.replace(' ','').lower() #take out spaces and make it lowercase\n",
    "    string2 = string2.replace(' ','').lower()\n",
    "    if len(string1) != len(string2):\n",
    "        return False\n",
    "    for eachLetter in string1:\n",
    "        howMany_1 = count(string1,eachLetter)\n",
    "        howMany_2 = count(string2,eachLetter)\n",
    "        if howMany_1 != howMany_2:\n",
    "            return False\n",
    "    return True\n",
    "    \n",
    "def count(word,letter):\n",
    "    count = 0\n",
    "    for char in word:\n",
    "        if char == letter:\n",
    "            count = count + 1\n",
    "    return count\n",
    "\n",
    "print is_anagram('banana', 'bagel') #just not true\n",
    "print is_anagram('Tom Marvolo Riddle', 'I am Lord Voldemort') #so true\n",
    "print is_anagram('Tom Marvolo Riddle', 'Lord Earldom Vomit')\n",
    "print is_anagram('Tom Marvolo Riddle', 'Marmot dildo lover') #thanksbuzzfeed\n"
   ]
  },
  {
   "cell_type": "code",
   "execution_count": 19,
   "metadata": {
    "collapsed": false
   },
   "outputs": [
    {
     "data": {
      "text/plain": [
       "TestResults(failed=0, attempted=8)"
      ]
     },
     "execution_count": 19,
     "metadata": {},
     "output_type": "execute_result"
    }
   ],
   "source": [
    "def isAnagram(s1, s2):\n",
    "    \"\"\"\n",
    "    Checks to see if two strings are anagrams.\n",
    "    \n",
    "    s1: a string\n",
    "    s2: another string\n",
    "    returns: True if s1 and s2 are anagrams, else returns \n",
    "    False\n",
    "    \n",
    "    >>> isAnagram('Tom Marvolo Riddle', 'I am Lord Voldemort')\n",
    "    True\n",
    "    >>> isAnagram('eleven plus two', 'twelve plus one')\n",
    "    True\n",
    "    >>> isAnagram('apples', 'bananas')\n",
    "    False\n",
    "    \"\"\"\n",
    "    return sorted((''.join(s1.split())).lower()) == sorted((''.join(s2.split())).lower())  \n",
    "# SUPER UGLY, but removes spaces, transforms to lowercase, sorts alphabetically, \n",
    "# and tests for equality all in one line\n",
    "    \n",
    "import doctest\n",
    "doctest.testmod()"
   ]
  },
  {
   "cell_type": "code",
   "execution_count": 29,
   "metadata": {
    "collapsed": false
   },
   "outputs": [],
   "source": [
    "def is_anagram(s1,s2):\n",
    "    \"\"\"\n",
    "    Takes in two strings, \"s1\" and \"s2\", and returns\n",
    "    True if they're anagrams (one can be rearranged into the other),\n",
    "    and False if they're not\n",
    "    \n",
    "    >>> is_anagram('ab','abc')\n",
    "    False\n",
    "    >>> is_anagram('read','dear')\n",
    "    True\n",
    "    >>> is_anagram('reed','dear')\n",
    "    False\n",
    "    \"\"\"\n",
    "    if len(s1) != len(s2):\n",
    "        return False\n",
    "    else:\n",
    "        s1 = list(s1)\n",
    "        s2 = list(s2)\n",
    "        s1.sort()\n",
    "        s2.sort()\n",
    "        for i in range(len(s1)):\n",
    "            if s1[i] != s2[i]:\n",
    "                return False\n",
    "        return True\n",
    "        \n",
    "import doctest\n",
    "doctest.run_docstring_examples(is_anagram, globals())"
   ]
  },
  {
   "cell_type": "code",
   "execution_count": 24,
   "metadata": {
    "collapsed": false
   },
   "outputs": [
    {
     "data": {
      "text/plain": [
       "False"
      ]
     },
     "execution_count": 24,
     "metadata": {},
     "output_type": "execute_result"
    }
   ],
   "source": [
    "def is_anagram(str_1, str_2):\n",
    "    Str_1 = list(str_1)\n",
    "    Str_2 = list(str_2)\n",
    "    Str_1.sort()\n",
    "    Str_2.sort()\n",
    "    return Str_1 == Str_2\n",
    "    \n",
    "\n",
    "is_anagram('spanish','smash')"
   ]
  },
  {
   "cell_type": "code",
   "execution_count": 7,
   "metadata": {
    "collapsed": false
   },
   "outputs": [],
   "source": [
    "def is_anagram(string_one, string_two):\n",
    "    \"\"\"\n",
    "    Takes input two strings and returns True is they are anagrams\n",
    "    \n",
    "    >>> is_anagram(\"car\", \"arc\")\n",
    "    True\n",
    "    \n",
    "    >>> is_anagram(\"blah\", \"nope\")\n",
    "    False\n",
    "    \"\"\"\n",
    "    if len(string_one) == len(string_two):  # words are the same length\n",
    "        for letter in string_one:\n",
    "            if letter in string_two:\n",
    "                return True\n",
    "        else:\n",
    "            return False\n",
    "            \n",
    "    import doctest\n",
    "    doctest.run_docstring_examples(is_anagram, globals())"
   ]
  },
  {
   "cell_type": "code",
   "execution_count": 28,
   "metadata": {
    "collapsed": false
   },
   "outputs": [
    {
     "name": "stdout",
     "output_type": "stream",
     "text": [
      "Finding tests in NoName\n",
      "Trying:\n",
      "    is_anagram('z', 'z')\n",
      "Expecting:\n",
      "    True\n",
      "ok\n",
      "Trying:\n",
      "    is_anagram('c', 'b')\n",
      "Expecting:\n",
      "    False\n",
      "ok\n",
      "Trying:\n",
      "    is_anagram('earth','heart')\n",
      "Expecting:\n",
      "    True\n",
      "ok\n",
      "Trying:\n",
      "    is_anagram('chicken','butt')\n",
      "Expecting:\n",
      "    False\n",
      "ok\n"
     ]
    }
   ],
   "source": [
    "def is_anagram(string1, string2):\n",
    "    \"\"\"\n",
    "    This function will use the split and sort command to check to see whether one string contains all the letters of the other string.\n",
    "    \n",
    "    >>> is_anagram('z', 'z')\n",
    "    True\n",
    "    >>> is_anagram('c', 'b')\n",
    "    False\n",
    "    >>> is_anagram('earth','heart')\n",
    "    True\n",
    "    >>> is_anagram('chicken','butt')\n",
    "    False\n",
    "    \"\"\"\n",
    "    \n",
    "    string1_list = list(string1)\n",
    "    string1_list.sort()\n",
    "    string2_list = list(string2)\n",
    "    string2_list.sort()\n",
    "    \n",
    "    for i in range(len(string1_list)):\n",
    "        if not string1_list[i] == string2_list[i]:\n",
    "            return False\n",
    "    return True    \n",
    "\n",
    "\n",
    "\n",
    "doctest.run_docstring_examples(is_anagram, globals(),verbose=True)  "
   ]
  },
  {
   "cell_type": "code",
   "execution_count": 43,
   "metadata": {
    "collapsed": true
   },
   "outputs": [],
   "source": [
    "def is_anagram(word1,word2):\n",
    "    return sorted(word1.lower())==sorted(word2.lower())# This converts all the letters in both words to lower case\n",
    "#                                     and sorts them alphabetically.  It then compares to see if they are identical"
   ]
  },
  {
   "cell_type": "code",
   "execution_count": 46,
   "metadata": {
    "collapsed": false
   },
   "outputs": [
    {
     "data": {
      "text/plain": [
       "True"
      ]
     },
     "execution_count": 46,
     "metadata": {},
     "output_type": "execute_result"
    }
   ],
   "source": [
    "def is_anagram (x, y): \n",
    "    list_a = []   #Converting from a string to a list\n",
    "    list_b = []   #For both x and y. \n",
    "    \n",
    "    for i in x:\n",
    "        list_a.append(i) #Putting the elements of the string x into list a.\n",
    "    \n",
    "    for i in y:\n",
    "        list_b.append(i) #Putting the elements of the string y into list b.\n",
    "        \n",
    "    #This part was checked with a print statement.\n",
    " \n",
    "    list_a.sort() #Modifies the list itself, does not return a value. \n",
    "    list_b.sort() #But for both, this function arranges the letters so that if it were an anagram they would be in the same order, which is from least to greatest in terms of their place in the alphabet.\n",
    "    \n",
    "    if list_a == list_b: #Rhis if statement compares the resulting lists from list sort. If they are the same, they contain the same letters, which would mean the words are anagrams. \n",
    "        return True \n",
    "    else:\n",
    "        return False\n",
    "    \n",
    "is_anagram ('love','vole')\n",
    "    "
   ]
  },
  {
   "cell_type": "code",
   "execution_count": 31,
   "metadata": {
    "collapsed": false
   },
   "outputs": [
    {
     "data": {
      "text/plain": [
       "True"
      ]
     },
     "execution_count": 31,
     "metadata": {},
     "output_type": "execute_result"
    }
   ],
   "source": [
    "def is_anagram(s1, s2):\n",
    "    s1 = s1.lower()\n",
    "    s2 = s2.lower()\n",
    "    s1 = s1.replace(\" \", \"\")\n",
    "    s2 = s2.replace(\" \", \"\")\n",
    "\n",
    "    l2 = list(s2)\n",
    "    for letter in s1:\n",
    "        if letter in l2:\n",
    "            l2.remove(letter)\n",
    "        else:\n",
    "            return False\n",
    "    if len(l2) == 0:\n",
    "        return True\n",
    "    else:\n",
    "        return False\n",
    "\n",
    "is_anagram('iceman    ', 'cinema')"
   ]
  },
  {
   "cell_type": "code",
   "execution_count": 8,
   "metadata": {
    "collapsed": false
   },
   "outputs": [
    {
     "data": {
      "text/plain": [
       "True"
      ]
     },
     "execution_count": 8,
     "metadata": {},
     "output_type": "execute_result"
    }
   ],
   "source": [
    "def is_anagram(a, b):\n",
    "    if sorted(a) == sorted(b):\n",
    "        return True\n",
    "    else:\n",
    "        return False\n",
    "is_anagram('elvis', 'lives')"
   ]
  },
  {
   "cell_type": "markdown",
   "metadata": {},
   "source": [
    "### Exercise 8  \n",
    "The (so-called) Birthday Paradox:\n",
    "1. Write a function called `has_duplicates` that takes a list and returns `True` if there is any element that appears more than once. It should not modify the original list.\n",
    "2. If there are 23 students in your class, what are the chances that two of you have the same birthday? You can estimate this probability by generating random samples of 23 birthdays and checking for matches. Hint: you can generate random birthdays with the randint function in the [random module](https://docs.python.org/2/library/random.html).\n",
    "\n",
    "You can read about this problem at http://en.wikipedia.org/wiki/Birthday_paradox, and you can download Allen's solution from http://thinkpython.com/code/birthday.py."
   ]
  },
  {
   "cell_type": "code",
   "execution_count": 10,
   "metadata": {
    "collapsed": false
   },
   "outputs": [
    {
     "name": "stdout",
     "output_type": "stream",
     "text": [
      "In 1000 total trials, 715 trials had occurences of duplicates.\n"
     ]
    }
   ],
   "source": [
    "def has_duplicates(lst):\n",
    "    newlist = []\n",
    "    for e in lst:\n",
    "        if e in newlist:\n",
    "            return True\n",
    "        else:\n",
    "            newlist.append(e)\n",
    "    return False\n",
    "\n",
    "import random\n",
    "\n",
    "def same_birthday(numStudents,numTrials):\n",
    "    numSuccesses = 0\n",
    "    successFail = []\n",
    "    for x in range(0,numTrials):\n",
    "        classBdayList = []\n",
    "        for i in range(0,numStudents):\n",
    "            classBdayList.append(random.randint(1,365))\n",
    "        successFail.append(has_duplicates(classBdayList))\n",
    "    for y in successFail:\n",
    "        if y == True:\n",
    "            numSuccesses += 1\n",
    "    return \"In %d total trials, %d trials had occurences of duplicates.\" %(numTrials, numSuccesses)\n",
    "\n",
    "print same_birthday(30,1000)\n",
    "        "
   ]
  },
  {
   "cell_type": "code",
   "execution_count": 90,
   "metadata": {
    "collapsed": false
   },
   "outputs": [
    {
     "data": {
      "text/plain": [
       "48"
      ]
     },
     "execution_count": 90,
     "metadata": {},
     "output_type": "execute_result"
    }
   ],
   "source": [
    "def has_duplicates(g):\n",
    "    number = 0\n",
    "    for birthday in g:   #run through every birthday\n",
    "        for others in g:    #run throguh the other birthdays\n",
    "            if birthday == others:   #how many bdays does it match?\n",
    "                number += 1\n",
    "        #print number\n",
    "    if number > len(g):     #if the number is greater than 23\n",
    "        return True         #then there was at least one duplicate\n",
    "    else:\n",
    "        return False\n",
    "\n",
    "import random\n",
    "\n",
    "def random_list():\n",
    "    t23 = []\n",
    "    for i in range(0,23):    #run 23 times\n",
    "        b = random.randrange(0,365)   #generate random numbers between 0\n",
    "        t23.append(b)                 #and 365; add them to list\n",
    "    #print t23\n",
    "    return t23     #return random list\n",
    "\n",
    "def onehundred():\n",
    "    count = 0\n",
    "    for s in range(0,100):    #run 100 times\n",
    "        t = random_list()    #make a new list each time\n",
    "        if has_duplicates(t) == True:   #if there is a duplicate,\n",
    "            count += 1                  #add one to count\n",
    "        #print count\n",
    "    return count    #should end up with a percentage -- rough probablity\n",
    "\n",
    "onehundred()\n",
    "    \n",
    "#****THE PROBABILITY IS ABOUT 50%\n",
    "    \n",
    "    \n",
    "#has_duplicates(['1/1', '1/10', '6/7', '1/11', '1/11'])"
   ]
  },
  {
   "cell_type": "code",
   "execution_count": 101,
   "metadata": {
    "collapsed": false
   },
   "outputs": [
    {
     "name": "stdout",
     "output_type": "stream",
     "text": [
      "The chance of you having the same birthday as someone else in a class of 23 is 50.8%\n"
     ]
    }
   ],
   "source": [
    "import random\n",
    "def has_duplicates(list):\n",
    "    new = []\n",
    "    \n",
    "    for x in range(0, len(list)):\n",
    "        new.append(list[x])\n",
    "        \n",
    "    for i in range(0,len(list)):\n",
    "        for x in range(i+1,len(list)):\n",
    "            if list[i] == list[x]:\n",
    "                return True\n",
    "            else:\n",
    "                continue\n",
    "    return False\n",
    "\n",
    "#has_duplicates([1,2,3,4,1])\n",
    "    \n",
    "m = 0\n",
    "a = [0 for x in range(23)]\n",
    "for i in range(0,1000):\n",
    "    for x in range(0,23):\n",
    "        birthdays[x]=(random.randint(1,366))\n",
    "    if has_duplicates(birthdays) == True:\n",
    "        m = m +1\n",
    "    else:\n",
    "        continue\n",
    "\n",
    "print \"The chance of you having the same birthday as someone else in a class of 23 is \" + str(float(m)/10) + \"%\"\n",
    "    \n",
    "        "
   ]
  },
  {
   "cell_type": "code",
   "execution_count": 2,
   "metadata": {
    "collapsed": false
   },
   "outputs": [
    {
     "name": "stdout",
     "output_type": "stream",
     "text": [
      "After 1000 trials with 23 students, there were 484 trials in which at least two students had the same birthday!\n"
     ]
    }
   ],
   "source": [
    "def has_duplicates(input_list):\n",
    "    check = []\n",
    "    for i in input_list:\n",
    "        if i not in check:\n",
    "            check.append(i)\n",
    "    if len(check) < len(input_list):\n",
    "        return True\n",
    "    else:\n",
    "        return False\n",
    "\n",
    "import math\n",
    "import random\n",
    "\n",
    "def shared_birthday(number_of_students):\n",
    "    birthday_list = []\n",
    "    for i in range(number_of_students):\n",
    "        birthday = random.randint(1,365)\n",
    "        birthday_list.append(birthday)\n",
    "    return birthday_list\n",
    "\n",
    "def twinsies(trials,number_of_students):\n",
    "    count = 0\n",
    "    for i in range(trials):\n",
    "        if has_duplicates(shared_birthday(number_of_students)) == True:\n",
    "            count += 1\n",
    "    return count\n",
    "\n",
    "trials = 1000\n",
    "number_of_students = 23\n",
    "count = twinsies(trials,number_of_students)\n",
    "\n",
    "print \"After %d trials with %d students, there were %d trials in which at least two students had the same birthday!\" % (trials,number_of_students, count)"
   ]
  },
  {
   "cell_type": "code",
   "execution_count": 19,
   "metadata": {
    "collapsed": false
   },
   "outputs": [
    {
     "data": {
      "text/plain": [
       "False"
      ]
     },
     "execution_count": 19,
     "metadata": {},
     "output_type": "execute_result"
    }
   ],
   "source": [
    "def has_duplicates(list1):\n",
    "    index = 0\n",
    "    while index < len(list1):\n",
    "        if list1[index] in list1[:index-1] and index != 0:\n",
    "            return True\n",
    "        if list1[index] in list1[index+1:]:\n",
    "            return True\n",
    "        index = index+1\n",
    "    return False\n",
    "\n",
    "import random\n",
    "def randlist(lim, num):  \n",
    "    #calculates num random integers between 1 and lim, puts them in a list'\n",
    "    list1 = []\n",
    "    index = 0\n",
    "    while index <= num:\n",
    "        list1.append(random.randint(1, lim))\n",
    "        index = index + 1\n",
    "    return list1\n",
    "\n",
    "list1 = randlist(365, 23)\n",
    "\n",
    "has_duplicates(list1)"
   ]
  },
  {
   "cell_type": "code",
   "execution_count": 88,
   "metadata": {
    "collapsed": false
   },
   "outputs": [
    {
     "data": {
      "text/plain": [
       "True"
      ]
     },
     "execution_count": 88,
     "metadata": {},
     "output_type": "execute_result"
    }
   ],
   "source": [
    "def has_duplicates(list_things):\n",
    "    list_things.sort()\n",
    "    flag = False\n",
    "    for index in range(1, len(list_things)):\n",
    "        flag = flag or list_things[index] == list_things[index-1]\n",
    "    return flag\n",
    "            \n",
    "has_duplicates([0,1,2,4, 3, 3, 3])"
   ]
  },
  {
   "cell_type": "code",
   "execution_count": 36,
   "metadata": {
    "collapsed": false
   },
   "outputs": [
    {
     "data": {
      "text/plain": [
       "False"
      ]
     },
     "execution_count": 36,
     "metadata": {},
     "output_type": "execute_result"
    }
   ],
   "source": [
    "import random\n",
    "\n",
    "def has_duplicates(random_list):\n",
    "    birthdays_sorted = sorted(birthdays)\n",
    "    for i in range(1,len(random_list)):\n",
    "        if random_list[i-1] == random_list[i]:\n",
    "            return True\n",
    "    return False\n",
    "        \n",
    "\n",
    "        \n",
    "\n",
    "birthdays = [random.randint(0, 365) for x in range(23)]\n",
    "has_duplicates(birthdays)\n",
    "    "
   ]
  },
  {
   "cell_type": "code",
   "execution_count": 40,
   "metadata": {
    "collapsed": false
   },
   "outputs": [
    {
     "name": "stdout",
     "output_type": "stream",
     "text": [
      "True\n",
      "False\n",
      "False\n",
      "There is a 49.2% chance you will share a birthday with someone else in the class.\n"
     ]
    }
   ],
   "source": [
    "def has_duplicates(my_list):\n",
    "    \"\"\"\n",
    "    Checks for duplicates in a list\n",
    "    \"\"\"\n",
    "    for i in range(len(my_list)):\n",
    "        if my_list[i] in my_list[i + 1:]:\n",
    "            return True\n",
    "    return False\n",
    "\n",
    "def make_random_bday_list(number_needed):\n",
    "    \"\"\"\n",
    "    Generates random dates\n",
    "    \"\"\"\n",
    "    import random\n",
    "    bday_list = []\n",
    "    for i in range(number_needed):\n",
    "        bday = random.randint(1,365)\n",
    "        bday_list.append(bday)\n",
    "    return bday_list\n",
    "\n",
    "def find_bday_sharing_prob(accuracy, number_bdays):\n",
    "    i = 0\n",
    "    trues = 0.0\n",
    "    while i < accuracy:\n",
    "        bday_list = make_random_bday_list(number_bdays)\n",
    "        result = has_duplicates(bday_list)\n",
    "        if result == True:\n",
    "            trues += 1\n",
    "        i += 1\n",
    "    print \"There is a \" + str((trues / accuracy) * 100) + \"% chance you will share a birthday with someone else in the class.\"\n",
    "    \n",
    "print has_duplicates([2,4,5,2,7,9,4,7,8])\n",
    "print has_duplicates([2,4,5,7,9,8])\n",
    "\n",
    "bday_list = make_random_bday_list(23)\n",
    "print has_duplicates(bday_list)\n",
    "find_bday_sharing_prob(1000, 23)"
   ]
  },
  {
   "cell_type": "code",
   "execution_count": 34,
   "metadata": {
    "collapsed": false
   },
   "outputs": [
    {
     "name": "stdout",
     "output_type": "stream",
     "text": [
      "27\n",
      "At least 2 of 23 students has the same birthday 27\n",
      "times in 50 sample groups.\n"
     ]
    }
   ],
   "source": [
    "def has_duplicates(x):\n",
    "    new_x = x[:]\n",
    "    new_x.sort()\n",
    "    for i in range(len(new_x)-1):\n",
    "        if new_x[i] == new_x[i+1]:\n",
    "            return True\n",
    "\n",
    "from random import*\n",
    "def birthday(students):\n",
    "    pass\n",
    "    birthdays = []\n",
    "    for i in range(students):\n",
    "        birth_date = randint(1,365)\n",
    "        birthdays.append(birth_date)\n",
    "    return birthdays\n",
    "\n",
    "def probability(students, random_samples):\n",
    "    pass\n",
    "    hits = 0\n",
    "    total_hits = 0\n",
    "    for j in range(random_samples):\n",
    "        k = birthdays(students)\n",
    "        if has_duplicates(k) == True:\n",
    "            hits =+ 1\n",
    "            total_hits += hits\n",
    "    print total_hits\n",
    "    print \"At least 2 of 23 students has the same birthday %d\" % total_hits\n",
    "    print \"times in %d sample groups.\" % random_samples\n",
    "\n",
    "probability(23, 50)\n"
   ]
  },
  {
   "cell_type": "code",
   "execution_count": 46,
   "metadata": {
    "collapsed": false,
    "scrolled": true
   },
   "outputs": [
    {
     "name": "stdout",
     "output_type": "stream",
     "text": [
      "74\n",
      "198\n"
     ]
    }
   ],
   "source": [
    "import random\n",
    "def has_duplicates(abc):  \n",
    "    abc.sort()\n",
    "    for item in range(len(abc)-1):\n",
    "        if abc[item] == abc[item +1]:\n",
    "            return True\n",
    "        return False \n",
    "has_duplicates([2,1,0,2,4])\n",
    "\n",
    "birthday1 = random.randint(1,365)\n",
    "birthday2 = random.randint(1,365)\n",
    "print birthday1\n",
    "print birthday2"
   ]
  },
  {
   "cell_type": "code",
   "execution_count": 11,
   "metadata": {
    "collapsed": false
   },
   "outputs": [
    {
     "name": "stdout",
     "output_type": "stream",
     "text": [
      "Finding tests in NoName\n",
      "Trying:\n",
      "    has_duplicates(['1', '1'])\n",
      "Expecting:\n",
      "    True\n",
      "ok\n",
      "Trying:\n",
      "    has_duplicates(['1', '0'])\n",
      "Expecting:\n",
      "    False\n",
      "ok\n",
      "Trying:\n",
      "    has_duplicates(['5', '3', '4', '1', '2', '2'])\n",
      "Expecting:\n",
      "    True\n",
      "ok\n"
     ]
    }
   ],
   "source": [
    "def has_duplicates(TestedList):\n",
    "    \"\"\"\n",
    "    Given a list, checks to see if the list contains duplicate values.\n",
    "    >>> has_duplicates(['1', '1'])\n",
    "    True\n",
    "    >>> has_duplicates(['1', '0'])\n",
    "    False\n",
    "    >>> has_duplicates(['5', '3', '4', '1', '2', '2'])\n",
    "    True\n",
    "    \"\"\"\n",
    "    TestedList.sort\n",
    "    for i in range(len(TestedList)):        \n",
    "        x = TestedList.pop(i)\n",
    "        if x in TestedList:\n",
    "            return True\n",
    "        TestedList.append(x)\n",
    "        TestedList.sort()\n",
    "    return False\n",
    "        \n",
    "       \n",
    "        \n",
    "\n",
    "x = ['1', '0', '2']\n",
    "has_duplicates(x)\n",
    "import doctest\n",
    "doctest.run_docstring_examples(has_duplicates, globals(), verbose = True)"
   ]
  },
  {
   "cell_type": "code",
   "execution_count": 38,
   "metadata": {
    "collapsed": false
   },
   "outputs": [
    {
     "name": "stdout",
     "output_type": "stream",
     "text": [
      "Oh. No matching birthdays.\n",
      "Oh. No matching birthdays.\n",
      "Oh. No matching birthdays.\n",
      "Wow! You have the same birthday as me!\n",
      "Wow! You have the same birthday as me!\n",
      "Wow! You have the same birthday as me!\n",
      "Oh. No matching birthdays.\n",
      "Wow! You have the same birthday as me!\n",
      "Wow! You have the same birthday as me!\n",
      "Wow! You have the same birthday as me!\n",
      "Oh. No matching birthdays.\n",
      "Oh. No matching birthdays.\n",
      "Oh. No matching birthdays.\n",
      "Oh. No matching birthdays.\n",
      "Oh. No matching birthdays.\n",
      "Oh. No matching birthdays.\n",
      "Wow! You have the same birthday as me!\n",
      "Oh. No matching birthdays.\n",
      "Wow! You have the same birthday as me!\n",
      "Oh. No matching birthdays.\n",
      "Wow! You have the same birthday as me!\n",
      "Wow! You have the same birthday as me!\n",
      "Wow! You have the same birthday as me!\n",
      "Wow! You have the same birthday as me!\n",
      "Oh. No matching birthdays.\n",
      "Wow! You have the same birthday as me!\n",
      "Wow! You have the same birthday as me!\n",
      "Oh. No matching birthdays.\n",
      "Wow! You have the same birthday as me!\n",
      "Wow! You have the same birthday as me!\n",
      "Oh. No matching birthdays.\n",
      "Wow! You have the same birthday as me!\n",
      "Wow! You have the same birthday as me!\n",
      "Wow! You have the same birthday as me!\n",
      "Wow! You have the same birthday as me!\n",
      "Oh. No matching birthdays.\n",
      "Oh. No matching birthdays.\n",
      "Wow! You have the same birthday as me!\n",
      "Wow! You have the same birthday as me!\n",
      "Wow! You have the same birthday as me!\n",
      "Wow! You have the same birthday as me!\n",
      "Wow! You have the same birthday as me!\n",
      "Oh. No matching birthdays.\n",
      "Oh. No matching birthdays.\n",
      "Wow! You have the same birthday as me!\n",
      "Oh. No matching birthdays.\n",
      "Oh. No matching birthdays.\n",
      "Wow! You have the same birthday as me!\n",
      "Oh. No matching birthdays.\n",
      "Wow! You have the same birthday as me!\n",
      "Oh. No matching birthdays.\n",
      "Wow! You have the same birthday as me!\n",
      "Wow! You have the same birthday as me!\n",
      "Oh. No matching birthdays.\n",
      "Wow! You have the same birthday as me!\n",
      "Wow! You have the same birthday as me!\n",
      "Oh. No matching birthdays.\n",
      "Oh. No matching birthdays.\n",
      "Wow! You have the same birthday as me!\n",
      "Wow! You have the same birthday as me!\n",
      "Wow! You have the same birthday as me!\n",
      "Oh. No matching birthdays.\n",
      "Wow! You have the same birthday as me!\n",
      "Oh. No matching birthdays.\n",
      "Oh. No matching birthdays.\n",
      "Oh. No matching birthdays.\n",
      "Wow! You have the same birthday as me!\n",
      "Oh. No matching birthdays.\n",
      "Oh. No matching birthdays.\n",
      "Oh. No matching birthdays.\n",
      "Oh. No matching birthdays.\n",
      "Oh. No matching birthdays.\n",
      "Oh. No matching birthdays.\n",
      "Oh. No matching birthdays.\n",
      "Oh. No matching birthdays.\n",
      "Wow! You have the same birthday as me!\n",
      "Oh. No matching birthdays.\n",
      "Oh. No matching birthdays.\n",
      "Wow! You have the same birthday as me!\n",
      "Oh. No matching birthdays.\n",
      "Wow! You have the same birthday as me!\n",
      "Oh. No matching birthdays.\n",
      "Oh. No matching birthdays.\n",
      "Oh. No matching birthdays.\n",
      "Oh. No matching birthdays.\n",
      "Wow! You have the same birthday as me!\n",
      "Wow! You have the same birthday as me!\n",
      "Wow! You have the same birthday as me!\n",
      "Oh. No matching birthdays.\n",
      "Wow! You have the same birthday as me!\n",
      "Wow! You have the same birthday as me!\n",
      "Wow! You have the same birthday as me!\n",
      "Wow! You have the same birthday as me!\n",
      "Wow! You have the same birthday as me!\n",
      "Oh. No matching birthdays.\n",
      "Oh. No matching birthdays.\n",
      "Wow! You have the same birthday as me!\n",
      "Wow! You have the same birthday as me!\n",
      "Oh. No matching birthdays.\n",
      "Oh. No matching birthdays.\n"
     ]
    }
   ],
   "source": [
    "def has_duplicates(birthdays):\n",
    "    \"\"\"\n",
    "    >>> has_duplicates([1,2,3,3,4])\n",
    "    True\n",
    "    >>> has_duplicates([\"one\",\"two\",\"banana\"])\n",
    "    False\n",
    "    \"\"\"\n",
    "    for i in range(0,len(birthdays)):\n",
    "        for j in range(0,i):\n",
    "            if birthdays[i] == birthdays[j]:\n",
    "                return True\n",
    "    return False\n",
    "\n",
    "\n",
    "import doctest\n",
    "import random\n",
    "doctest.run_docstring_examples(has_duplicates,globals())\n",
    "\n",
    "for i in range(100):\n",
    "    randList = [random.randint(0,365) for i in range(23)]\n",
    "    if has_duplicates(randList):\n",
    "        print \"Wow! You have the same birthday as me!\"\n",
    "    else:\n",
    "        print \"Oh. No matching birthdays.\""
   ]
  },
  {
   "cell_type": "code",
   "execution_count": 16,
   "metadata": {
    "collapsed": false,
    "scrolled": true
   },
   "outputs": [
    {
     "name": "stdout",
     "output_type": "stream",
     "text": [
      "0.519\n"
     ]
    }
   ],
   "source": [
    "import random\n",
    "def has_duplicates(List_of_inputs):\n",
    "    \"\"\" See if there is a duplicate for each item in the list.\n",
    "    >>> has_duplicates([1,2,3,4,5,6,7,8,9,0,1])\n",
    "    True\n",
    "    >>> has_duplicates([1,2,3,4,5,6,7,8,9,0])\n",
    "    False\n",
    "    \"\"\"\n",
    "    return not len(set(List_of_inputs)) == len(List_of_inputs)\n",
    "\n",
    "def random_birthdays():\n",
    "    x = []\n",
    "    for i in range(23):\n",
    "        day = random.randint(1,365)\n",
    "        x.append(day)\n",
    "    return x\n",
    "\n",
    "def find_prob(cases):\n",
    "    p = []\n",
    "    for i in range(cases):\n",
    "        b = random_birthdays()\n",
    "        if has_duplicates(b):\n",
    "            p.append(1)\n",
    "    return (float(len(p)) / float(cases))\n",
    "\n",
    "print find_prob(1000)"
   ]
  },
  {
   "cell_type": "code",
   "execution_count": 36,
   "metadata": {
    "collapsed": false
   },
   "outputs": [
    {
     "name": "stdout",
     "output_type": "stream",
     "text": [
      "0.497\n"
     ]
    },
    {
     "data": {
      "text/plain": [
       "TestResults(failed=0, attempted=6)"
      ]
     },
     "execution_count": 36,
     "metadata": {},
     "output_type": "execute_result"
    }
   ],
   "source": [
    "import random\n",
    "\n",
    "def has_duplicates(l):\n",
    "    \"\"\"\n",
    "    Tests if a list contains duplicate values. Returns True if so.\n",
    "    \n",
    "    >>> has_duplicates([1,2,3,4,5])\n",
    "    False\n",
    "    >>> has_duplicates([1,2,3,4,2])\n",
    "    True\n",
    "    \n",
    "    \"\"\"\n",
    "    items = l[:]\n",
    "    items.sort()\n",
    "    i = 1\n",
    "    while i < len(items):\n",
    "        if items[i] == items[i-1]:\n",
    "            return True\n",
    "        i += 1\n",
    "    return False\n",
    "\n",
    "def generate_birthdays(length):\n",
    "    \"\"\"\n",
    "    Generates a list of random integers between 1 and 365.\n",
    "    \"\"\"\n",
    "    result = []\n",
    "    for i in range(length):\n",
    "        result.append(random.randint(1, 365))\n",
    "    return result\n",
    "\n",
    "def probability_of_duplicates(n):\n",
    "    \"\"\"\n",
    "    Empirically estimates the chance that a group of n people will\n",
    "    contain at least one pair with the same birthday.\n",
    "    \"\"\"\n",
    "    count = 0\n",
    "    for i in range(1000):\n",
    "        birthdays = generate_birthdays(n)\n",
    "        if has_duplicates(birthdays):\n",
    "            count += 1\n",
    "    return count/1000.\n",
    "\n",
    "print probability_of_duplicates(23)\n",
    "\n",
    "import doctest\n",
    "doctest.testmod()"
   ]
  },
  {
   "cell_type": "code",
   "execution_count": 84,
   "metadata": {
    "collapsed": false
   },
   "outputs": [
    {
     "name": "stdout",
     "output_type": "stream",
     "text": [
      "True\n",
      "False\n",
      "True\n",
      "False\n",
      "[1, 2, 3, 4, 5, 1]\n"
     ]
    }
   ],
   "source": [
    "def has_duplicates(test_list):\n",
    "    for item in test_list:\n",
    "        t = test_list + []    # prevent aliasing\n",
    "        t.remove(item)\n",
    "        if item in t:\n",
    "            return True\n",
    "    return False\n",
    "\n",
    "# def has_duplicates(t):    # doesn't work , didn't get around to figuring out why...\n",
    "#     t_rev = t + []\n",
    "#     t_rev.reverse()\n",
    "#     for item in t:\n",
    "#         if t.index(item) != t_rev.index(item):\n",
    "#             return True\n",
    "#     return False\n",
    "\n",
    "my_list = [1,2,3,4,5,1]\n",
    "print(has_duplicates(my_list))              # True\n",
    "print(has_duplicates([[1,2],3,4,5,1]))      # False\n",
    "print(has_duplicates([[1,2],3,4,5,[1,2]]))  # True\n",
    "print(has_duplicates([1,2,3,4,5,6]))        # False\n",
    "print(my_list)   # mutable list still intact"
   ]
  },
  {
   "cell_type": "code",
   "execution_count": 39,
   "metadata": {
    "collapsed": false
   },
   "outputs": [
    {
     "name": "stdout",
     "output_type": "stream",
     "text": [
      "0.5074\n"
     ]
    }
   ],
   "source": [
    "def has_duplicates(arr):\n",
    "    temp_set = set(arr)\n",
    "    return len(arr)!=len(temp_set)\n",
    "import random\n",
    "days_inmonth = dict({0:31,1:28,2:31,3:30,4:31,5:30,6:31,7:31,8:30,9:31,10:30,11:31})\n",
    "num_trials = 100000\n",
    "numTrue = 0.0\n",
    "\n",
    "for i in range(num_trials):\n",
    "    birthdays = []\n",
    "    for j in range(23):\n",
    "        month = random.randrange(12)\n",
    "        birthdays.append((month,random.randrange(days_inmonth[month])))\n",
    "    if has_duplicates(birthdays):\n",
    "        numTrue += 1\n",
    "print numTrue/float(num_trials)"
   ]
  },
  {
   "cell_type": "code",
   "execution_count": 2,
   "metadata": {
    "collapsed": false
   },
   "outputs": [
    {
     "data": {
      "text/plain": [
       "0"
      ]
     },
     "execution_count": 2,
     "metadata": {},
     "output_type": "execute_result"
    }
   ],
   "source": [
    "import random                               # imports the built-in random module\n",
    "\n",
    "def has_duplicates(my_list):\n",
    "    sorted_list = my_list[:]\n",
    "    sorted_list.sort()\n",
    "    for i in range(len(sorted_list)-1):\n",
    "        if sorted_list[i] == sorted_list[i+1]:\n",
    "            return True\n",
    "    return False\n",
    "\n",
    "def random_birthdays(n):\n",
    "    birthday_list = []\n",
    "    for i in range(n):\n",
    "        birthday = random.randint(1, 365)\n",
    "        birthday_list.append(birthday)\n",
    "    return birthday_list\n",
    "\n",
    "def same_birthday(class_size, samples):\n",
    "    count = 0\n",
    "    for i in range(samples):\n",
    "        birthday_list = random_birthdays(class_size)\n",
    "        if has_duplicates(birthday_list):\n",
    "            count += 1\n",
    "        return count\n",
    "    \n",
    "\n",
    "same_birthday(23, 10000)"
   ]
  },
  {
   "cell_type": "code",
   "execution_count": 22,
   "metadata": {
    "collapsed": false
   },
   "outputs": [
    {
     "name": "stdout",
     "output_type": "stream",
     "text": [
      "0.044\n",
      "0.4442\n",
      "0.5409\n",
      "0.902\n"
     ]
    }
   ],
   "source": [
    "import random\n",
    "\n",
    "'''Function returns True if duplicate items exist in a list'''\n",
    "def has_duplicates(a_list):\n",
    "    i = 0\n",
    "    #chooses one element of the list\n",
    "    while i < len(a_list):\n",
    "        j=0\n",
    "        element = a_list[i]\n",
    "        count = 0\n",
    "        #counts the number of occurences of that element in the list\n",
    "        while j<len(a_list):\n",
    "            if element == a_list[j]:\n",
    "                count += 1\n",
    "                #if there are more than 1, returns True\n",
    "                if count > 1:\n",
    "                    return True\n",
    "            j+=1\n",
    "        i += 1\n",
    "    #returns False if no element is repeated in the list\n",
    "    return False\n",
    "        \n",
    "     \n",
    "            \n",
    "\n",
    "\n",
    "'''Function to determine if there is a duplicate in a list of birthdays\n",
    "Birthdays are numbered 1-365 and chosen randomly'''\n",
    "def duplicate_bday(class_size):\n",
    "    birthday_list = []\n",
    "    #randomly picks birthdays in range 1-365\n",
    "    for i in range(class_size+1):\n",
    "        birthday = random.randint(1, 365)\n",
    "        birthday_list.append(birthday)\n",
    "    return has_duplicates(birthday_list)\n",
    "\n",
    "\n",
    "'''Function to count number of Trues and return experimental probability \n",
    "that two people in the class have the same birthday (Trues/iterations) \n",
    "23 is apparently the minimum number of people to have a probability of\n",
    "50% or greater--let's see if that's true!'''\n",
    "\n",
    "def prob_same(iterations, class_size):\n",
    "    count = 0\n",
    "    #counts number of Trues (occurances of duplicate birthdays)\n",
    "    for i in range(iterations+1):\n",
    "        if duplicate_bday(class_size) == True:\n",
    "            count += 1\n",
    "    return float(count)/iterations\n",
    "\n",
    "print prob_same(10000, 5)\n",
    "print prob_same(10000, 20)\n",
    "print prob_same(10000,23)\n",
    "print prob_same(10000, 40)"
   ]
  },
  {
   "cell_type": "code",
   "execution_count": 39,
   "metadata": {
    "collapsed": false
   },
   "outputs": [
    {
     "data": {
      "text/plain": [
       "True"
      ]
     },
     "execution_count": 39,
     "metadata": {},
     "output_type": "execute_result"
    }
   ],
   "source": [
    "def has_duplicates(orig):\n",
    "    new = []\n",
    "    for x in orig:\n",
    "        new.append(x)\n",
    "        \n",
    "    new.sort()\n",
    "    temp = None\n",
    "    for x in new:\n",
    "        if(x == temp):\n",
    "            return True\n",
    "        temp = x\n",
    "        \n",
    "# orig = None\n",
    "orig = [6,1,5,3,2,4,6,8,0]\n",
    "has_duplicates(orig)\n",
    "# print orig"
   ]
  },
  {
   "cell_type": "code",
   "execution_count": 119,
   "metadata": {
    "collapsed": false
   },
   "outputs": [
    {
     "name": "stdout",
     "output_type": "stream",
     "text": [
      "[69, 153, 199, 164, 3, 35, 208, 48, 104, 242, 216, 168, 152, 125, 119, 53, 202, 344, 305, 362, 257, 327, 128]\n"
     ]
    },
    {
     "data": {
      "text/plain": [
       "False"
      ]
     },
     "execution_count": 119,
     "metadata": {},
     "output_type": "execute_result"
    }
   ],
   "source": [
    "def has_duplicates(t):\n",
    "    index = 0\n",
    "    while index < len(t):\n",
    "        if t.count(t[index]) > 1:\n",
    "            print 'birthday:', t[index]\n",
    "            return True\n",
    "        index += 1\n",
    "    return False\n",
    "\n",
    "import random\n",
    "birthdays = []\n",
    "j = 0\n",
    "while j < 23:\n",
    "    newbday = random.randint(0,366)\n",
    "    birthdays.append(newbday)\n",
    "    j += 1\n",
    "\n",
    "print birthdays\n",
    "has_duplicates(birthdays)"
   ]
  },
  {
   "cell_type": "code",
   "execution_count": 108,
   "metadata": {
    "collapsed": false
   },
   "outputs": [
    {
     "name": "stdout",
     "output_type": "stream",
     "text": [
      "5036\n"
     ]
    }
   ],
   "source": [
    "from random import randint\n",
    "\n",
    "def has_duplicates(t):\n",
    "    if len(t) != len(set(t)): #if length of the list doesnt equal the length of the list without duplicates\n",
    "        return True\n",
    "\n",
    "def random_samples(n):\n",
    "    t =[]\n",
    "    for number in range(n):\n",
    "        t.append(randint(1,365))\n",
    "    return t\n",
    "\n",
    "count = 0\n",
    "for element in range(10000):\n",
    "    students = random_samples(23)\n",
    "    if has_duplicates(students):\n",
    "        count +=1\n",
    "print count"
   ]
  },
  {
   "cell_type": "code",
   "execution_count": 9,
   "metadata": {
    "collapsed": false,
    "scrolled": true
   },
   "outputs": [
    {
     "name": "stdout",
     "output_type": "stream",
     "text": [
      "488\n"
     ]
    }
   ],
   "source": [
    "def has_duplicates(list):\n",
    "    i = 0 \n",
    "    while i+1 < len(list):\n",
    "        if list[i] in list[i+1:]:\n",
    "            return True\n",
    "        i+=1\n",
    "    \n",
    "from random import *\n",
    "\n",
    "def random_birthdays(number_of_students, samples):\n",
    "    \n",
    "    count = 0\n",
    "    for i in range(0,samples):\n",
    "        birthdays = []\n",
    "        for i in range(number_of_students):\n",
    "            random_birthdays = randint(1, 365)\n",
    "            birthdays.append(random_birthdays)\n",
    "        \n",
    "\n",
    "        if has_duplicates(birthdays):\n",
    "            count += 1\n",
    "    return count\n",
    "\n",
    "print random_birthdays(23,1000)"
   ]
  },
  {
   "cell_type": "code",
   "execution_count": 68,
   "metadata": {
    "collapsed": false
   },
   "outputs": [
    {
     "name": "stdout",
     "output_type": "stream",
     "text": [
      "0.522\n"
     ]
    }
   ],
   "source": [
    "import random\n",
    "\n",
    "def has_duplicates(mylist):\n",
    "    new_list = mylist\n",
    "    new_list.sort()\n",
    "    for x in range(0,len(new_list)-1):\n",
    "        if new_list[x] == new_list[x+1]:\n",
    "            return True\n",
    "    return False\n",
    "\n",
    "def get_bdays(a):\n",
    "    x = []\n",
    "    for z in range(a): \n",
    "        x.append(random.randint(1,365))\n",
    "    return x\n",
    "\n",
    "def find_bday_probability(students, simulations):\n",
    "    count = 0.0\n",
    "    for x in range(simulations):\n",
    "        test = get_bdays(students)\n",
    "        if has_duplicates(test):\n",
    "            count += 1.0\n",
    "    print count/simulations\n",
    "\n",
    "find_bday_probability(23, 1000)"
   ]
  },
  {
   "cell_type": "code",
   "execution_count": 22,
   "metadata": {
    "collapsed": false
   },
   "outputs": [
    {
     "data": {
      "text/plain": [
       "0.5000999999999612"
      ]
     },
     "execution_count": 22,
     "metadata": {},
     "output_type": "execute_result"
    }
   ],
   "source": [
    "import random\n",
    "def has_duplicates(l):\n",
    "    new=l\n",
    "    new.sort()\n",
    "    for i in range (0,len(new)-1):\n",
    "        if new[i]==new[i+1]:\n",
    "            return True\n",
    "            break\n",
    "    return False\n",
    "\n",
    "\n",
    "def generate_bdays():\n",
    "    bdays=[]\n",
    "    for i in range (0,23):\n",
    "        day=random.randint(0,365)\n",
    "        bdays.append(day)\n",
    "    return bdays\n",
    "\n",
    "def paradox():\n",
    "    p=0.0\n",
    "    for i in range (0,10000):\n",
    "        bdays=generate_bdays()\n",
    "        if has_duplicates(bdays):\n",
    "            p = p + 1.0/10000\n",
    "    return p\n",
    "paradox()\n",
    "        \n",
    "    \n",
    "\n",
    "\n",
    "\n",
    "    \n",
    "        \n",
    "        \n",
    "    \n",
    "    "
   ]
  },
  {
   "cell_type": "code",
   "execution_count": 75,
   "metadata": {
    "collapsed": false
   },
   "outputs": [
    {
     "name": "stdout",
     "output_type": "stream",
     "text": [
      "50.63925\n"
     ]
    }
   ],
   "source": [
    "import random\n",
    "def has_duplicates(list):\n",
    "    \n",
    "    templist = list\n",
    "    for c in list:\n",
    "        counter = -1\n",
    "        for x in templist:\n",
    "            if c == x:\n",
    "                counter = counter +1\n",
    "        if counter > 0:\n",
    "            return True\n",
    "    return False\n",
    "def makerandomlist(items):\n",
    "    list = []\n",
    "    for i in range(0,items):\n",
    "        list = list + [random.randint(1, 365)]\n",
    "    return list\n",
    "def probabilityapprox(numberoftrials):\n",
    "    tempcounter = 0\n",
    "    for i in range(0,numberoftrials):\n",
    "        if has_duplicates(makerandomlist(23)):\n",
    "            tempcounter = tempcounter + 1.0\n",
    "    return tempcounter/numberoftrials\n",
    "print 100.0*probabilityapprox(400000)\n",
    "\n",
    "    \n",
    "            "
   ]
  },
  {
   "cell_type": "code",
   "execution_count": 104,
   "metadata": {
    "collapsed": false
   },
   "outputs": [
    {
     "data": {
      "text/plain": [
       "0.5214"
      ]
     },
     "execution_count": 104,
     "metadata": {},
     "output_type": "execute_result"
    }
   ],
   "source": [
    "import random\n",
    "\n",
    "def has_duplicates(birthday):\n",
    "    temp_birthday = birthday[:]\n",
    "    temp_birthday.sort()\n",
    "    for i in range(len(temp_birthday) - 1):\n",
    "        if temp_birthday[i] == temp_birthday[i+1]:\n",
    "            return True\n",
    "    return False\n",
    "\n",
    "\n",
    "def generate_random_birthday(number_students):\n",
    "    students = []\n",
    "    for i in range(number_students):\n",
    "        students.append(random.randint(1, 365))\n",
    "    return students\n",
    "\n",
    "def find_probability(iterations, number_students):\n",
    "    same_birthdays = 0\n",
    "    for i in range(iterations):\n",
    "        if has_duplicates(generate_random_birthday(number_students)):\n",
    "            same_birthdays += 1\n",
    "    return same_birthdays*1.0/iterations\n",
    "\n",
    "find_probability(5000, 23)\n",
    "        "
   ]
  },
  {
   "cell_type": "code",
   "execution_count": 16,
   "metadata": {
    "collapsed": false
   },
   "outputs": [
    {
     "name": "stdout",
     "output_type": "stream",
     "text": [
      "0.5\n"
     ]
    }
   ],
   "source": [
    "\"\"\"Taking this as in a group, what are the chances that there is at least one shared birthday.\"\"\"\n",
    "\n",
    "import random\n",
    "\n",
    "def has_duplicates(lisht):\n",
    "    \"\"\"Returns True if there are any duplicates in the list. \n",
    "    >>>has_duplicates(['a','b',1,2,'ab','ab'])\n",
    "    True\n",
    "    >>>has_duplicates(['a','b',1,2,'ab',])\n",
    "    False\n",
    "    >>>has_duplicates([])\n",
    "    False\n",
    "    \"\"\"\n",
    "    shet = set()\n",
    "    return any(x in shet or shet.add(x) for x in lisht)\n",
    "\n",
    "#print has_duplicates(['a','b',1,2,'ab','ab'])\n",
    "#print has_duplicates(['a','b',1,2,'ab',])\n",
    "#print has_duplicates([])\n",
    "\n",
    "def birthday_calc(groupSize, iterationTimes):\n",
    "    \"\"\"Takes in a size of group and a number of times to test, and returns an average percentage of shared birthday occurances\n",
    "    \"\"\"\n",
    "    total = 0\n",
    "    for i in xrange(iterationTimes):\n",
    "        birthdayList = []\n",
    "        for n in xrange(groupSize):\n",
    "            birthday = random.randint(1, 365)\n",
    "            birthdayList.append(birthday)\n",
    "        if has_duplicates(birthdayList):\n",
    "            total += 1\n",
    "        \n",
    "    return total / float(iterationTimes) \n",
    "\n",
    "print birthday_calc(23,100) #Whaddya know, about 50%\n",
    "    "
   ]
  },
  {
   "cell_type": "code",
   "execution_count": 25,
   "metadata": {
    "collapsed": false
   },
   "outputs": [
    {
     "data": {
      "text/plain": [
       "True"
      ]
     },
     "execution_count": 25,
     "metadata": {},
     "output_type": "execute_result"
    }
   ],
   "source": [
    "def  has_duplicates():\n",
    "    import random\n",
    "    i = 0\n",
    "    j = i+1\n",
    "    s = 0\n",
    "    students = 23\n",
    "    new_list = []\n",
    "    \n",
    "    \"\"\" NOTE: input argument input_list into function, and comment out rand while loop!\n",
    "    new_list = [] + input_list\n",
    "    #new_list.sort()  # This makes the function take a lot less steps, but\n",
    "                     # new_list was a reference to input_list so that got modified too...\n",
    "        >>>has_duplicates([10,5,6,3,19,3,72,10])   \n",
    "    \"\"\"\n",
    "    \n",
    "    while s < students:\n",
    "        new_list.append([random.randint(1,12), random.randint(1,31)])\n",
    "        s+=1\n",
    "        \n",
    "    print new_list # to perform a visual check of output if necessary\n",
    "    \n",
    "    while i < len(new_list):\n",
    "        while j<len(new_list):\n",
    "            if new_list[i] == new_list[j]:\n",
    "                return True\n",
    "            j+=1\n",
    "        i+=1\n",
    "        j=i+1\n",
    "    return False\n",
    "    \n",
    "has_duplicates()"
   ]
  },
  {
   "cell_type": "code",
   "execution_count": 49,
   "metadata": {
    "collapsed": false
   },
   "outputs": [
    {
     "name": "stdout",
     "output_type": "stream",
     "text": [
      "[80, 242, 108, 339, 23, 251, 303, 322, 221, 0, 280, 310, 142, 186, 137, 285, 220, 244, 43, 192, 350, 209, 59, 76, 23, 210, 23, 174, 84, 86, 87, 167, 274, 262, 286]\n",
      "82\n"
     ]
    }
   ],
   "source": [
    "import random\n",
    "\n",
    "def has_duplicates(a):\n",
    "    a1 = a[:]\n",
    "    duplicates = []\n",
    "    i = 0\n",
    "    while i < len(a):\n",
    "        if a1[i] in duplicates:\n",
    "            return True\n",
    "        else:\n",
    "            duplicates.append(a1[i])\n",
    "            i = i + 1\n",
    "    return False\n",
    "\n",
    "def birthday_generator():\n",
    "    birthDays = []\n",
    "    i = 1\n",
    "    while i <= 35:\n",
    "        birthDays.append(random.randint(0, 365))\n",
    "        i = i + 1\n",
    "    return birthDays\n",
    "\n",
    "print birthday_generator()\n",
    "\n",
    "x = 0\n",
    "for i in range(100):\n",
    "    if has_duplicates(birthday_generator()): \n",
    "        x += 1\n",
    "print x"
   ]
  },
  {
   "cell_type": "code",
   "execution_count": 82,
   "metadata": {
    "collapsed": false
   },
   "outputs": [
    {
     "name": "stdout",
     "output_type": "stream",
     "text": [
      "[17, 9, 13, 21, 8, 10, 9, 7, 20, 7, 6, 5, 6, 23, 22, 21, 19, 1, 18, 18, 6, 11, 17]\n",
      "True\n"
     ]
    }
   ],
   "source": [
    "#1:\n",
    "def has_duplicates(initial_list):\n",
    "    result = False #initial condition\n",
    "    if len(initial_list) in [1, 0]:\n",
    "        return False\n",
    "    else:\n",
    "        while len(initial_list) > 0:\n",
    "            if initial_list[0] in initial_list[1:]:\n",
    "                result = True\n",
    "                break\n",
    "            else:\n",
    "                initial_list = initial_list[1:]\n",
    "                has_duplicates(initial_list)\n",
    "\n",
    "\n",
    "    return result\n",
    "import random\n",
    "#2:\n",
    "birthdays = []\n",
    "while len(birthdays) < 23:\n",
    "    one_birthday = random.randint(1, 23)\n",
    "    birthdays.append(one_birthday)\n",
    "\n",
    "print birthdays\n",
    "print has_duplicates(birthdays)"
   ]
  },
  {
   "cell_type": "code",
   "execution_count": 270,
   "metadata": {
    "collapsed": false
   },
   "outputs": [
    {
     "data": {
      "text/plain": [
       "[50, 50]"
      ]
     },
     "execution_count": 270,
     "metadata": {},
     "output_type": "execute_result"
    }
   ],
   "source": [
    "import random\n",
    "\n",
    "def random_birthdays(people):\n",
    "    birthday_list = []\n",
    "    for i in range(people):\n",
    "        birthday_list.append(random.randint(1,365))\n",
    "        \n",
    "    birthday_list.sort()\n",
    "    return birthday_list\n",
    "    \n",
    "def is_duplicate(birthday_list):\n",
    "    index = 0\n",
    "    for index in range(len(birthday_list)-1):\n",
    "        if birthday_list[index] == birthday_list[index+1]:\n",
    "            return True\n",
    "    return False\n",
    "\n",
    "def multiple_times(x):\n",
    "    counter = 0\n",
    "    for i in range(x):\n",
    "        if is_duplicate(random_birthdays(23)):\n",
    "            counter += 1\n",
    "    return [counter,x-counter]\n",
    "    \n",
    "multiple_times(100)"
   ]
  },
  {
   "cell_type": "code",
   "execution_count": 27,
   "metadata": {
    "collapsed": false
   },
   "outputs": [],
   "source": [
    "def has_duplicates(elems):\n",
    "    \n",
    "    \"\"\"\n",
    "    Takes a list an returns True if any element appears more than once\n",
    "    \n",
    "    >>> has_duplicates([1,1,2,3,4,5])\n",
    "    True\n",
    "    >>> has_duplicates(['a','b','c',1,2,3,'c'])\n",
    "    True\n",
    "    >>> has_duplicates([1,2,3,4,5,6])\n",
    "    False\n",
    "    \"\"\"\n",
    "    sortableList = elems + []\n",
    "    sortableList.sort()\n",
    "    for index in range(1,len(sortableList)):\n",
    "        if sortableList[index] == sortableList[index-1]:\n",
    "            return True\n",
    "    return False\n",
    "\n",
    "import doctest\n",
    "doctest.run_docstring_examples(has_duplicates, globals())"
   ]
  },
  {
   "cell_type": "code",
   "execution_count": 5,
   "metadata": {
    "collapsed": false
   },
   "outputs": [
    {
     "data": {
      "text/plain": [
       "True"
      ]
     },
     "execution_count": 5,
     "metadata": {},
     "output_type": "execute_result"
    }
   ],
   "source": [
    "def has_duplicates(l):\n",
    "    for stuff in l:\n",
    "        if(l.count(stuff) > 1):\n",
    "            return True\n",
    "    return False\n",
    "import random\n",
    "has_duplicates([random.randint(1, 365) for x in range(23)]) #Like 50-50, it either happens or it doesn't"
   ]
  },
  {
   "cell_type": "code",
   "execution_count": 6,
   "metadata": {
    "collapsed": false
   },
   "outputs": [
    {
     "name": "stdout",
     "output_type": "stream",
     "text": [
      "When tested 10 times, there were 3 duplicate birthdays in a class of 23 students.\n"
     ]
    }
   ],
   "source": [
    "import random\n",
    "def has_duplicates(birthdaylist):\n",
    "    Checked = [0]\n",
    "\n",
    "    templist = birthdaylist[:]\n",
    "    templist.sort()\n",
    "    \n",
    "    for i in range(len(templist)-1):\n",
    "        if templist[i] == templist[i+1]:\n",
    "            return True\n",
    "    return False\n",
    "\n",
    "def randomfunc(students):\n",
    "    birthdaylist = []\n",
    "    for i in range(students):\n",
    "        birthday = random.randint(1, 365)\n",
    "        birthdaylist.append(birthday)\n",
    "    return birthdaylist\n",
    "\n",
    "def birthdayfunc(students, testnum):\n",
    "    Doubles = 0\n",
    "    for i in range(1,testnum):\n",
    "        birthdaylist = randomfunc(students)\n",
    "        if has_duplicates(birthdaylist) == True:\n",
    "            Doubles = Doubles + 1\n",
    "    return Doubles\n",
    "\n",
    "students = 23\n",
    "testnum = 10\n",
    "print 'When tested {} times, there were {} duplicate birthdays in a class of {} students.'.format(testnum, birthdayfunc(students, testnum), students)"
   ]
  },
  {
   "cell_type": "code",
   "execution_count": 59,
   "metadata": {
    "collapsed": false
   },
   "outputs": [
    {
     "data": {
      "text/plain": [
       "True"
      ]
     },
     "execution_count": 59,
     "metadata": {},
     "output_type": "execute_result"
    }
   ],
   "source": [
    "def has_duplicates(t):\n",
    "    i = 0\n",
    "    while i < len(t):\n",
    "        element = t[i]\n",
    "        if element in t[i+1:]:\n",
    "            return True\n",
    "        if element in t[:i]:\n",
    "            return True\n",
    "        i += 1\n",
    "    return False\n",
    "\n",
    "has_duplicates([1, 2, 3, 4, 1])"
   ]
  },
  {
   "cell_type": "code",
   "execution_count": 39,
   "metadata": {
    "collapsed": false
   },
   "outputs": [
    {
     "name": "stdout",
     "output_type": "stream",
     "text": [
      "(True, False)\n"
     ]
    }
   ],
   "source": [
    "def has_duplicates(l):\n",
    "    #check list l for duplicates\n",
    "    t = l\n",
    "    t.sort()\n",
    "    for i in range(len(t)-1):\n",
    "        if t[i] == t[i+1]:\n",
    "            return True\n",
    "    return False\n",
    "print(has_duplicates([1,2,3,4,1]), has_duplicates([1,2,3,4,5,6]))"
   ]
  },
  {
   "cell_type": "code",
   "execution_count": 14,
   "metadata": {
    "collapsed": false
   },
   "outputs": [
    {
     "data": {
      "text/plain": [
       "[55, 45]"
      ]
     },
     "execution_count": 14,
     "metadata": {},
     "output_type": "execute_result"
    }
   ],
   "source": [
    "from random import randint\n",
    "\n",
    "def has_duplicates(ls):\n",
    "    lsNew=ls[:]\n",
    "    lsNew.sort()\n",
    "    for i in range(len(lsNew)-1):\n",
    "        if lsNew[i]==lsNew[i+1]:\n",
    "            return True\n",
    "    return False\n",
    "\n",
    "def probability_gen(runTimes):\n",
    "    prob=[0,0]\n",
    "    for i in range(runTimes):\n",
    "        ls=[]\n",
    "        for i in range(23):\n",
    "            ls.append(randint(1,365))\n",
    "        ls.sort()\n",
    "        if has_duplicates(ls):\n",
    "            prob[0]+=1\n",
    "        else:\n",
    "            prob[1]+=1\n",
    "    return prob\n",
    "\n",
    "probability_gen(100)"
   ]
  },
  {
   "cell_type": "code",
   "execution_count": 3,
   "metadata": {
    "collapsed": false
   },
   "outputs": [
    {
     "name": "stdout",
     "output_type": "stream",
     "text": [
      "51\n"
     ]
    }
   ],
   "source": [
    "import random\n",
    "\n",
    "def has_duplicates(t):\n",
    "    element_tracker = []\n",
    "    for item in t:\n",
    "        if item in element_tracker:\n",
    "            return True\n",
    "        element_tracker.append(item)\n",
    "    return False\n",
    "\n",
    "i = 0\n",
    "j = 0\n",
    "birthdays = []\n",
    "duplicates = []\n",
    "\n",
    "while i < 100:\n",
    "    while j < 23:\n",
    "        birthdays.append(random.randint(0,365)) #birthday represented as one of 365 days\n",
    "        j += 1\n",
    "    \n",
    "    duplicates.append(has_duplicates(birthdays))\n",
    "    birthdays = []\n",
    "    i += 1\n",
    "    j = 0\n",
    "\n",
    "print duplicates.count(True) #Should be ~50"
   ]
  },
  {
   "cell_type": "code",
   "execution_count": 95,
   "metadata": {
    "collapsed": false
   },
   "outputs": [
    {
     "name": "stdout",
     "output_type": "stream",
     "text": [
      "50.0\n"
     ]
    }
   ],
   "source": [
    "import random\n",
    "def has_duplicates(l):\n",
    "    no_dup = set(l)\n",
    "    return len(no_dup) == len(l)\n",
    "\n",
    "def birthday_paradox(students = 23, iterations = 100):\n",
    "    duplicates = 0\n",
    "    for i in range(iterations):\n",
    "        birthdays = []\n",
    "        for student in range(students):\n",
    "            birthdays.append(random.randint(0,365))\n",
    "        duplicates += has_duplicates(birthdays)\n",
    "    probability = (duplicates/iterations)*100\n",
    "    return probability\n",
    "print(birthday_paradox())"
   ]
  },
  {
   "cell_type": "code",
   "execution_count": 56,
   "metadata": {
    "collapsed": false
   },
   "outputs": [
    {
     "name": "stdout",
     "output_type": "stream",
     "text": [
      "0.50743\n"
     ]
    }
   ],
   "source": [
    "import random\n",
    "def has_duplicates(list1):\n",
    "    for i in range(0, len(list1)):\n",
    "        if list1[i] in list1[i+1:]:\n",
    "            return True\n",
    "    return False\n",
    "\n",
    "def generate_birthdays():\n",
    "    list1= []\n",
    "    for i in range(0, 23):\n",
    "        list1.append(random.randint(1, 365))\n",
    "    return list1\n",
    "\n",
    "def count_probability(number_of_tries):\n",
    "    count = 0.0\n",
    "    for i in range(0, number_of_tries):\n",
    "        if has_duplicates(generate_birthdays()):\n",
    "            count += 1\n",
    "    return count / number_of_tries\n",
    "\n",
    "print count_probability(100000)"
   ]
  },
  {
   "cell_type": "code",
   "execution_count": 11,
   "metadata": {
    "collapsed": false
   },
   "outputs": [
    {
     "name": "stdout",
     "output_type": "stream",
     "text": [
      "True\n",
      "False\n",
      "True\n"
     ]
    }
   ],
   "source": [
    "import random\n",
    "def has_duplicates(list_in):\n",
    "    list_in.sort()\n",
    "    for index in range(len(list_in)):\n",
    "        if list_in[index-1] == list_in[index]:\n",
    "            return True\n",
    "    else:\n",
    "        return False\n",
    "print has_duplicates([1, 2, 3, 4, 5, 1, 2])\n",
    "print has_duplicates([1, 2, 3, 4, 5])\n",
    "birthdays = []\n",
    "for k in range(23):\n",
    "    birthdays.append(random.randint(0, 365))\n",
    "print has_duplicates(birthdays)"
   ]
  },
  {
   "cell_type": "code",
   "execution_count": 73,
   "metadata": {
    "collapsed": false
   },
   "outputs": [
    {
     "name": "stdout",
     "output_type": "stream",
     "text": [
      "500\n",
      "seems to be about 50/50\n"
     ]
    }
   ],
   "source": [
    "def has_duplicates(alist):\n",
    "    l=len(alist)\n",
    "    blist=alist+[]\n",
    "    blist.sort()\n",
    "    for x in range (0,l-1):\n",
    "        if blist[x]==blist[x+1]:\n",
    "            return True\n",
    "    return False\n",
    "    \n",
    "has_duplicates([2,4,3,9,2,6])\n",
    "import random\n",
    "\n",
    "def random_birthdays():\n",
    "    bdaylist=[None]*23\n",
    "    for x in range (0,23):\n",
    "        bdaylist[x]=random.randint(1,365)\n",
    "    return bdaylist\n",
    "\n",
    "def run_lots(trials):\n",
    "    count=0\n",
    "    a=[None]*trials\n",
    "    for x in range(0,trials):\n",
    "        bdaylist=random_birthdays()\n",
    "        if has_duplicates(bdaylist)==True:\n",
    "            count=count+1\n",
    "    return count\n",
    "\n",
    "print run_lots(1000)\n",
    "print('seems to be about 50/50')"
   ]
  },
  {
   "cell_type": "code",
   "execution_count": 35,
   "metadata": {
    "collapsed": false
   },
   "outputs": [
    {
     "data": {
      "text/plain": [
       "True"
      ]
     },
     "execution_count": 35,
     "metadata": {},
     "output_type": "execute_result"
    }
   ],
   "source": [
    ">>> import random\n",
    "\n",
    "def generate_bdays():\n",
    "    rand_bdays=[]\n",
    "    i=0\n",
    "    while i<23:\n",
    "        month= random.randint(1,12)\n",
    "        day= random.randint(1,31)   #not all months have 31 days, may have imaginary dates\n",
    "        bday= str(month)+str(day)\n",
    "        rand_bdays.append(bday)\n",
    "        i+=1\n",
    "    return rand_bdays \n",
    "    \n",
    "def has_duplicates(bday_list):\n",
    "    new_bday_list=[]\n",
    "    i=0\n",
    "    while i<= len(bday_list)-1:\n",
    "        new_bday_list.append(bday_list[i])\n",
    "        i+=1\n",
    "    new_bday_list.sort()\n",
    "    j=0\n",
    "    while j<= len(new_bday_list)-2:\n",
    "        if new_bday_list[j]== new_bday_list[j+1]:\n",
    "            return True\n",
    "        else:\n",
    "            j+=1\n",
    "    return False        \n",
    "        \n",
    "has_duplicates(generate_bdays())\n",
    "#has_duplicates(['Feb 2', 'Feb 1', 'Jan 31'])    "
   ]
  },
  {
   "cell_type": "code",
   "execution_count": 5,
   "metadata": {
    "collapsed": false
   },
   "outputs": [
    {
     "name": "stdout",
     "output_type": "stream",
     "text": [
      "10 trials, 23 students, 4 matches\n"
     ]
    }
   ],
   "source": [
    "import random\n",
    "import math\n",
    "\n",
    "def has_duplicates(t):\n",
    "    duplicates_found = []\n",
    "    for i in t:\n",
    "        if i not in duplicates_found:\n",
    "            duplicates_found.append(i)\n",
    "    if len(duplicates_found) < len(t):\n",
    "        return True\n",
    "    else:\n",
    "        return False\n",
    "\n",
    "def generate_birthdays(people):\n",
    "    birthday_list = []\n",
    "    for i in range(people):\n",
    "        new_birthday = random.randint(1, 365)\n",
    "        birthday_list.append(new_birthday)\n",
    "    return birthday_list\n",
    "\n",
    "def probability(people, tests):\n",
    "    count = 0\n",
    "    for i in range(tests):\n",
    "        if has_duplicates(generate_birthdays(people)) == True:\n",
    "            count += 1\n",
    "    return count\n",
    "\n",
    "trials = 10\n",
    "number_of_students = 23\n",
    "count = probability(number_of_students, trials)\n",
    "\n",
    "print \"%d trials, %d students, %d matches\" % (trials,number_of_students, count)\n"
   ]
  },
  {
   "cell_type": "code",
   "execution_count": 43,
   "metadata": {
    "collapsed": false
   },
   "outputs": [
    {
     "name": "stdout",
     "output_type": "stream",
     "text": [
      "True\n",
      "In 100 trials with 23 students, 55.0% of the trials had students with duplicate birthdays.\n"
     ]
    }
   ],
   "source": [
    "students = 23\n",
    "trials = 100\n",
    "\n",
    "def has_duplicates(full_list):\n",
    "    test_list = full_list[:]\n",
    "    test_list.sort()\n",
    "    for i in range(len(test_list)-1):\n",
    "        if test_list[i] == test_list[i+1]:\n",
    "            return True\n",
    "    return False\n",
    "\n",
    "def birthday_randomizer():\n",
    "    return [random.randint(1,365) for student in range(students)]\n",
    "\n",
    "def matched_are_there(trials):\n",
    "    number_duplicates = 0\n",
    "    for i in range (trials):\n",
    "        if has_duplicates(birthday_randomizer()):\n",
    "            number_duplicates += 1\n",
    "    print \"In %d trials with %d students, %.1f%% of the trials had students\\\n",
    " with duplicate birthdays.\" % (trials, students, (float(number_duplicates) / trials) * 100)\n",
    "print has_duplicates(birthday_randomizer())\n",
    "matched_are_there(trials)"
   ]
  },
  {
   "cell_type": "code",
   "execution_count": 17,
   "metadata": {
    "collapsed": false
   },
   "outputs": [
    {
     "data": {
      "text/plain": [
       "True"
      ]
     },
     "execution_count": 17,
     "metadata": {},
     "output_type": "execute_result"
    }
   ],
   "source": [
    "def has_duplicates(new_list):      \n",
    "    for i in range(len(new_list)):\n",
    "        base = new_list[i]\n",
    "        for j in range(i+1, len(new_list)):\n",
    "            check = new_list[j]\n",
    "            if base == check:\n",
    "                return True\n",
    "    return False\n",
    "            \n",
    "\n",
    "has_duplicates([2, 3, 4, 5, 6, 6])"
   ]
  },
  {
   "cell_type": "code",
   "execution_count": 19,
   "metadata": {
    "collapsed": false
   },
   "outputs": [
    {
     "name": "stdout",
     "output_type": "stream",
     "text": [
      "7\n"
     ]
    }
   ],
   "source": [
    "import random\n",
    "def has_duplicates(L):\n",
    "    L_copy=L\n",
    "    L_copy.sort()\n",
    "    for i in range(0,len(L_copy)-1):\n",
    "        if L_copy[i]==L_copy[i+1]:\n",
    "            return True\n",
    "    return False\n",
    "\n",
    "def has_duplicates1(L):\n",
    "    L_copy=L\n",
    "    L_copy.sort()\n",
    "    comparer=L_copy[0]\n",
    "    for item in L_copy[1:]:\n",
    "        if item==comparer:\n",
    "            return True\n",
    "        comparer=item\n",
    "    return False\n",
    "\n",
    "def has_duplicates3(L):\n",
    "    for i in range(len(L)):\n",
    "        if L[i] in L[:i]+L[i+1:]:\n",
    "            return True\n",
    "    return False \n",
    "        \n",
    "        \n",
    "# print has_duplicates3([8,9,10,3,2,4,3])\n",
    "#print has_duplicates3(['11.9', '12.16', '10.12', '7.22', '5.22', '11.8', '11.9', '2.26', '3.22', '4.21', '5.13', '11.14', '5.2', '4.19', '4.3', '6.4', '11.7', '7.16', '10.10', '8.17', '1.18', '10.20', '6.9'])\n",
    "\n",
    "#generate lists of 23 birthdays:\n",
    "def generate_birthdays(n):\n",
    "    Month_list=[]\n",
    "    Days_list=[]\n",
    "    for i in range(n):\n",
    "        month=random.randrange(1,13)\n",
    "        Month_list.append(month)\n",
    "        if month in [1,3,5,7,8,10,12]:\n",
    "            day=random.randrange(1,32)\n",
    "        elif month==2:\n",
    "            day=random.randrange(1,30)\n",
    "        else: # if month=4,6,9,11\n",
    "            day=random.randrange(1,31)\n",
    "        Days_list.append(day)\n",
    "    # print Month_list\n",
    "    # print Days_list\n",
    "\n",
    "    Birthday_list=[str(m)+'.'+str(d) for m,d in zip(Month_list,Days_list)] #zip returns tuples of the ith elements in n lists. \n",
    "#ie. zip([1,2,3],[4,5,6]) returns [(1,4),(2,5),(3,6)]\n",
    "    return Birthday_list\n",
    "\n",
    "# print generate_birthdays(23)\n",
    "# Birthday_list.sort()\n",
    "# print Birthday_list # This birthday list can't be sorted by month (11, 12) goes before 2, so have to use has_duplicates3\n",
    "\n",
    "#Check for duplicates in Birthday_list\n",
    "def check_birthdays(num_trials,num_people): # n is howmany times to check, return in how many trails there was the same birthday\n",
    "    counter=0\n",
    "    for k in range(num_trials):\n",
    "        birthdays=generate_birthdays(num_people)\n",
    "        #print birthdays\n",
    "        if has_duplicates3(birthdays):\n",
    "            counter=counter+1\n",
    "    return counter\n",
    "\n",
    "print check_birthdays(10,23)\n",
    "\n"
   ]
  },
  {
   "cell_type": "code",
   "execution_count": 3,
   "metadata": {
    "collapsed": false
   },
   "outputs": [
    {
     "name": "stdout",
     "output_type": "stream",
     "text": [
      "1\n"
     ]
    }
   ],
   "source": [
    "import random\n",
    "\n",
    "def is_in_list(value,list):\n",
    "    for item in list:\n",
    "        if item is value:\n",
    "            return True\n",
    "    return False\n",
    "\n",
    "def has_duplicates(list):\n",
    "    for item in list:\n",
    "        if is_in_list(item,list):\n",
    "            return True\n",
    "    return False\n",
    "\n",
    "def random_class():\n",
    "    list = []\n",
    "    n = 0\n",
    "    while n<23:\n",
    "        list.append(random.randint(11,1231))\n",
    "        n = n + 1\n",
    "    return list\n",
    "\n",
    "def probability(iterations):\n",
    "    n=0\n",
    "    times = 0\n",
    "    while n<iterations:\n",
    "        if has_duplicates(random_class()):\n",
    "            times = times + 1\n",
    "        n = n + 1\n",
    "    return times/iterations\n",
    "\n",
    "print probability(100)"
   ]
  },
  {
   "cell_type": "code",
   "execution_count": 21,
   "metadata": {
    "collapsed": false
   },
   "outputs": [
    {
     "data": {
      "text/plain": [
       "True"
      ]
     },
     "execution_count": 21,
     "metadata": {},
     "output_type": "execute_result"
    }
   ],
   "source": [
    "def has_duplicates(arg_list):\n",
    "    s = set()\n",
    "    flag = False\n",
    "    for elem in arg_list:\n",
    "        if elem in s:\n",
    "            flag = True\n",
    "        else:\n",
    "            s.add(elem)\n",
    "    return flag\n",
    "\n",
    "birthdays = [1,3,4,5,6,14,1,7,22,12]\n",
    "has_duplicates(birthdays)"
   ]
  },
  {
   "cell_type": "code",
   "execution_count": 13,
   "metadata": {
    "collapsed": false
   },
   "outputs": [
    {
     "name": "stdout",
     "output_type": "stream",
     "text": [
      "0.493013972056\n"
     ]
    }
   ],
   "source": [
    "import random\n",
    "def has_duplicates(myList):\n",
    "    listCopy = list(myList)\n",
    "    for eachElement in myList:\n",
    "        listCopy.remove(eachElement)\n",
    "        if eachElement in listCopy:\n",
    "            return True\n",
    "    return False\n",
    "\n",
    "def est_probability():\n",
    "    prob = 0.0\n",
    "    trials = 0\n",
    "    success = 0\n",
    "\n",
    "    while trials <= 500:\n",
    "        trials += 1\n",
    "        birthdayList = []\n",
    "        for i in range(23): #just generatin\n",
    "            birthdayList = birthdayList + [random.randint(1,366)]\n",
    "        if has_duplicates(birthdayList):\n",
    "            success += 1\n",
    "        prob = float(success)/trials\n",
    "        \n",
    "    return prob\n",
    "    \n",
    "print est_probability()"
   ]
  },
  {
   "cell_type": "code",
   "execution_count": 6,
   "metadata": {
    "collapsed": false
   },
   "outputs": [
    {
     "data": {
      "text/plain": [
       "'Experimentally determined probability of duplicate birthdays with 23 people in the room: 59/1000'"
      ]
     },
     "execution_count": 6,
     "metadata": {},
     "output_type": "execute_result"
    }
   ],
   "source": [
    "import random\n",
    "\n",
    "def hasDuplicates(x):\n",
    "    \"\"\"\n",
    "    Checks to see if a list contains duplicate elements.\n",
    "    \n",
    "    x: a list\n",
    "    returns: True if any element appears more than once, else returns False\n",
    "    \n",
    "    >>> hasDuplicates([0,1,1])\n",
    "    True\n",
    "    >>> hasDuplicates(['cat','hat','mat','cat'])\n",
    "    True\n",
    "    >>> hasDuplicates([0,1,2])\n",
    "    False\n",
    "    \"\"\"\n",
    "    ordered = sorted(x)\n",
    "    \n",
    "    for i in range(len(ordered)-1):\n",
    "        if ordered[i] == ordered[i+1]: # if any element == the following element\n",
    "            return True\n",
    "        elif ordered[len(ordered)-2] != ordered[len(ordered)-1]: # elif the second-to-last element != the last element\n",
    "            return False\n",
    "    \n",
    "\n",
    "def makeRandomBirthdays(n):\n",
    "    \"\"\"\n",
    "    Generates a list of n random birthdays.\n",
    "    \n",
    "    n: number of birthdays to generate\n",
    "    returns: a list of birthdays\n",
    "    \"\"\"\n",
    "    thirtyDays = ['4','6','9','11']\n",
    "    february = ['2']\n",
    "    \n",
    "    birthdays = []\n",
    "    for i in range(n):\n",
    "        month = str(random.randrange(1, 13, 1)) \n",
    "        if month in thirtyDays:\n",
    "            birthdays.append(month + '/' + str(random.randrange(1, 31, 1)))\n",
    "        elif month == february:\n",
    "            leapYear = random.randrange(1, 5, 1)\n",
    "            if leapYear == 1: # once every four years\n",
    "                birthdays.append(month + '/' + str(random.randrange(1, 30, 1)))\n",
    "            else:\n",
    "                birthdays.append(month + '/' + str(random.randrange(1, 29, 1)))\n",
    "        else:\n",
    "            birthdays.append(month + '/' + str(random.randrange(1, 32, 1)))                     \n",
    "    return birthdays\n",
    "    \n",
    "    \n",
    "def birthdayParadox(n, sample):\n",
    "    \"\"\"\n",
    "    Determines the probability of duplicate birthdays given n birthdays by testing a sample of random sets\n",
    "    of n birthdays\n",
    "    \n",
    "    n: number of birthdays (people in the room)\n",
    "    sample: number of rooms containing n people tested to find the probabil\n",
    "    \n",
    "    \"\"\"\n",
    "    bools = []\n",
    "    for i in range(sample):\n",
    "        bools.append(hasDuplicates(makeRandomBirthdays(n)))\n",
    "    return 'Experimentally determined probability of duplicate birthdays with ' + str(n) + ' people in the room: ' + str(bools.count(True)) + '/' + str(sample)\n",
    "\n",
    "\n",
    "birthdayParadox(23,1000)\n",
    "# my numbers are WAY off..."
   ]
  },
  {
   "cell_type": "code",
   "execution_count": 64,
   "metadata": {
    "collapsed": false
   },
   "outputs": [
    {
     "name": "stdout",
     "output_type": "stream",
     "text": [
      "0.4971\n"
     ]
    }
   ],
   "source": [
    "def has_duplicates(L):\n",
    "    \"\"\"\n",
    "    Takes in a list L, and returns True if any of the elements\n",
    "    appear more than once\n",
    "    \n",
    "    >>> has_duplicates([1])\n",
    "    False\n",
    "    >>> has_duplicates([1,1,1])\n",
    "    True\n",
    "    >>> has_duplicates([1,2,3,4,5,6,7,8,8])\n",
    "    True\n",
    "    >>> has_duplicates([1,2,3,4,5])\n",
    "    False\n",
    "    >>> has_duplicates([\"cow\",\"chicken\",\"pig\",\"cow\"])\n",
    "    True\n",
    "    \"\"\"\n",
    "    for item in L:\n",
    "        if L.count(item) > 1:\n",
    "            return True\n",
    "    return False\n",
    "\n",
    "from random import randint\n",
    "def birthday_chance(trials):\n",
    "    successes = 0.0\n",
    "    for i in range(trials):\n",
    "        birthdays = [randint(1,365) for i in range(23)]\n",
    "        if has_duplicates(birthdays):\n",
    "            successes += 1\n",
    "    print successes/trials\n",
    "\n",
    "birthday_chance(10000)\n",
    "#The chance appears to be %50"
   ]
  },
  {
   "cell_type": "code",
   "execution_count": 51,
   "metadata": {
    "collapsed": false
   },
   "outputs": [
    {
     "data": {
      "text/plain": [
       "'50.697 %'"
      ]
     },
     "execution_count": 51,
     "metadata": {},
     "output_type": "execute_result"
    }
   ],
   "source": [
    "import random\n",
    "\n",
    "def has_duplicates(input_list):\n",
    "    sorted_list = input_list[:]\n",
    "    sorted_list.sort()\n",
    "    i = 0\n",
    "    while i < len(sorted_list)-1:\n",
    "        if sorted_list[i] == sorted_list[i+1]:\n",
    "            return True\n",
    "        i += 1\n",
    "    return False\n",
    "\n",
    "def random_birthdays(num_people):\n",
    "    n = 0\n",
    "    Birthdays = []\n",
    "    for n in range(0,num_people):\n",
    "        Birthdays.append(random.randint(1,366))\n",
    "    return Birthdays\n",
    "\n",
    "def same_birthday(num_people, iterations):\n",
    "    i = 0\n",
    "    same_birthdays = 0.\n",
    "    while i < iterations:\n",
    "        Birthdays = random_birthdays(num_people)\n",
    "        if has_duplicates(Birthdays):\n",
    "            same_birthdays += 1\n",
    "            i += 1\n",
    "        else:\n",
    "            i += 1\n",
    "    prob = same_birthdays/iterations\n",
    "    return str(prob*100) + ' %'\n",
    "    \n",
    "\n",
    "same_birthday(23,100000)\n"
   ]
  },
  {
   "cell_type": "code",
   "execution_count": 21,
   "metadata": {
    "collapsed": false
   },
   "outputs": [],
   "source": [
    "def has_duplicates(input_list):\n",
    "    \"\"\"\n",
    "    Part One: \n",
    "    Take input list and returns True if there is a repeat element\n",
    "    \n",
    "    Part Two:\n",
    "    Estimate probability that 2 students in class of 23 have the same \n",
    "    birthday\n",
    "    \n",
    "    >>> has_duplicates([1,1,2])\n",
    "    True\n",
    "    >>> has_duplicates([1,2,3])\n",
    "    False\n",
    "    >>> has_duplicates([\"hey\",\"hey\",\"hi\"])\n",
    "    True\n",
    "    >>> has_duplicates([\"yo\",\"sup\",\"hello\"])\n",
    "    \"\"\"\n",
    "    \n",
    "    temp = []       # creates temporary empty list\n",
    "    flag = False    # sets a \"flag\" that resorts to False\n",
    "         \n",
    "    for element in input_list:\n",
    "        if element in temp:      # if any repeat element in input_list\n",
    "            flag = True          # flag changes to True and break ends\n",
    "            break                # the search\n",
    "        else:\n",
    "            temp.append(element) # if not, adds to temp list and keeps\n",
    "    return flag                  # flag = False\n",
    "\n",
    "    \n",
    "    import doctest\n",
    "    doctest.run_docstring_examples(has_duplicates, globals())      \n",
    "        "
   ]
  },
  {
   "cell_type": "code",
   "execution_count": 49,
   "metadata": {
    "collapsed": false
   },
   "outputs": [
    {
     "name": "stdout",
     "output_type": "stream",
     "text": [
      "0.518\n",
      "0.497\n",
      "0.519\n",
      "0.507\n",
      "1.0\n"
     ]
    }
   ],
   "source": [
    "import random\n",
    "def has_duplicates(stuff):\n",
    "    \"\"\"\n",
    "    This function returns true if there are dupes, false otherwise.\n",
    "    \n",
    "    >>> has_duplicates([1,2,3,4])\n",
    "    False\n",
    "    >>> has_duplicates([1,2,3,3])\n",
    "    True\n",
    "    >>> has_duplicates([3,3])\n",
    "    True\n",
    "    \"\"\"\n",
    "    nodupes = []\n",
    "    \n",
    "    for item in stuff:\n",
    "        for thing in nodupes:\n",
    "            if(item == thing):\n",
    "                return True\n",
    "        nodupes.append(item)\n",
    "    return False\n",
    "\n",
    "#doctest.run_docstring_examples(has_duplicates, globals(),verbose=True)  \n",
    "\n",
    "def birthdays(number):\n",
    "    \"\"\"\n",
    "    This method will generate a list of random birthdays based on an inputted number that represents the number of people\n",
    "    you want to look at.\n",
    "    \"\"\"\n",
    "    students_bdays = []\n",
    "    for i in range(number):\n",
    "        students_bdays.append(random.randint(1,365))\n",
    "    return students_bdays\n",
    "\n",
    "def calc_prob(number):\n",
    "    \"\"\"\n",
    "    This method will calculate the probability that two people within an inputted number of people will have the same birthday.\n",
    "\n",
    "    \"\"\"\n",
    "    count = 0.0\n",
    "    for i in range(1000):\n",
    "        students_birthday_list = birthdays(number)\n",
    "        if has_duplicates(students_birthday_list):\n",
    "            count+=1.0\n",
    "    return count/1000.0\n",
    "\n",
    "\n",
    "print calc_prob(23)\n",
    "print calc_prob(23)\n",
    "print calc_prob(23)\n",
    "print calc_prob(23)\n",
    "\n",
    "print calc_prob(367)\n",
    "    \n",
    "\n",
    "    \n",
    "    "
   ]
  },
  {
   "cell_type": "code",
   "execution_count": 47,
   "metadata": {
    "collapsed": true
   },
   "outputs": [],
   "source": [
    "def has_duplicates(list1):\n",
    "    newlist=set(list1)#    Set is a built in function that returns an unordered list of none repeating items in a list\n",
    "    return len(newlist)==len(list1)#   I used the len() function so that the unordered nature of set() didn't cause problems here\n",
    "    "
   ]
  },
  {
   "cell_type": "code",
   "execution_count": 58,
   "metadata": {
    "collapsed": false
   },
   "outputs": [
    {
     "name": "stdout",
     "output_type": "stream",
     "text": [
      "0.001\n"
     ]
    }
   ],
   "source": [
    "import random as r\n",
    "def has_duplicates (x):    #This function returns the number of duplicates.\n",
    "    if set(x) == x:    #If the number without duplicates is the same as the number, there are no duplicates. \n",
    "        return False    #If there are duplicates, this if will be false.\n",
    "    else:\n",
    "        return True     #Conversely, no duplicates means it's true.\n",
    "    \n",
    "def random_generator (y):    #Generates a random number between 1 and 364 to represent each day of the year. \n",
    "    list_y = []\n",
    "    for i in range(y): \n",
    "        b = r.randint(0,364)    #Randint taking in the number of days. \n",
    "                                #Note to self: random.randint/r.randint makes it work.\n",
    "        list_y.append(b)    #Adding on randomized days to a list. \n",
    "    return list_y    #Outputting the randomized list. \n",
    "    \n",
    "def probab (z):    #This function calculates the probability.\n",
    "    list_d = []    #You put the # of duplicates into a list later, so you need the list here. \n",
    "    for i in range(z):    #Need for loop to run the three functions a certain number of times. \n",
    "        q = random_generator(23)    #Generates the random numbers.\n",
    "        if has_duplicates(q) == True:    #Looks if there are duplicates in the random numbers.\n",
    "            list_d.append(1)    #Add these duplicates to a list. \n",
    "        return len(list_d)/float(z) #Compare the number of duplicates found to the number of times the function is run to find the probability of same birthdays.\n",
    "            \n",
    "print(probab(1000))    #Print so you can see the probability in decimal form for a certain number of runs \"z.\""
   ]
  },
  {
   "cell_type": "code",
   "execution_count": 9,
   "metadata": {
    "collapsed": false
   },
   "outputs": [
    {
     "name": "stdout",
     "output_type": "stream",
     "text": [
      "0.5052\n"
     ]
    }
   ],
   "source": [
    "import random\n",
    "\n",
    "def has_duplicates(ls):\n",
    "    ls.sort()\n",
    "    for n in range(len(ls)-1):\n",
    "        if ls[n] == ls[n+1]:\n",
    "            return True\n",
    "    return False\n",
    "\n",
    "has_duplicates([1,6,2,3,4,5,6,7])\n",
    "\n",
    "def random_birthdays(num):\n",
    "    l = []\n",
    "    for i in range(0, num):\n",
    "        day = random.randint(0, 364)\n",
    "        l.append(day)\n",
    "    return l\n",
    "\n",
    "def bday_prob(num_students, trials):\n",
    "    true = 0.0\n",
    "    false = 0.0\n",
    "    for i in range(trials):\n",
    "        l = random_birthdays(num_students)\n",
    "        \n",
    "        if has_duplicates(l):\n",
    "            true = true + 1\n",
    "        else:\n",
    "            false = false + 1\n",
    "    prob = true / (true + false)\n",
    "    return prob\n",
    " \n",
    "print bday_prob(23, 100000)"
   ]
  },
  {
   "cell_type": "code",
   "execution_count": 39,
   "metadata": {
    "collapsed": false
   },
   "outputs": [
    {
     "data": {
      "text/plain": [
       "0.501"
      ]
     },
     "execution_count": 39,
     "metadata": {},
     "output_type": "execute_result"
    }
   ],
   "source": [
    "def has_duplicates(inputlist):\n",
    "    if len(inputlist) != len(set(inputlist)):\n",
    "        return True\n",
    "    else:\n",
    "        return False\n",
    "\n",
    "import random\n",
    "    \n",
    "def estimate_probability():\n",
    "    x = 0.0\n",
    "    y = 0.0\n",
    "    for i in range(1000):\n",
    "        y += 1\n",
    "        birthdays = [random.randint(1, 366) for i in range(23)]\n",
    "        if has_duplicates(birthdays):\n",
    "            x += 1\n",
    "    return x / y\n",
    "estimate_probability()"
   ]
  },
  {
   "cell_type": "markdown",
   "metadata": {},
   "source": [
    "### Challenge: Exercise 11 (optional)\n",
    "\n",
    "You should read [Chapter 9.1](http://www.greenteapress.com/thinkpython/html/thinkpython010.html) and do Exercise 1 first.\n",
    "\n",
    "To check whether a word is in the word list, you could use the `in` operator, but it would be relatively slow because it searches through the words in order (try it).\n",
    "\n",
    "Because the words are in alphabetical order, we can speed things up with a bisection search (also known as binary search), which is similar to what you do when you look a word up in the dictionary. You start in the middle and check to see whether the word you are looking for comes before the word in the middle of the list. If so, then you search the first half of the list the same way. Otherwise you search the second half.\n",
    "\n",
    "Either way, you cut the remaining search space in half. If the word list has 113,809 words, it will take about 17 steps to find the word or conclude that it’s not there.\n",
    "\n",
    "Write a function called `bisect` that takes a sorted list and a target value and returns the index of the value in the list, if it’s there, or `None` if it’s not.\n",
    "\n",
    "Or you could read the documentation of the `bisect` module and use that! Solution: http://thinkpython.com/code/inlist.py."
   ]
  },
  {
   "cell_type": "code",
   "execution_count": 7,
   "metadata": {
    "collapsed": false
   },
   "outputs": [
    {
     "name": "stdout",
     "output_type": "stream",
     "text": [
      "9\n",
      "None\n",
      "67\n"
     ]
    }
   ],
   "source": [
    "import math\n",
    "\n",
    "lst = []\n",
    "for i in range(0,100000):\n",
    "    lst.append(i**2)\n",
    "\n",
    "def bisect(lst,value):\n",
    "    \n",
    "    \"\"\"This function takes a sorted list and a target value \n",
    "    and searches the list using bisection. It returns the index of \n",
    "    the value in the list if it's there, or None if it's not.\"\"\"\n",
    "    \n",
    "    CheckIndex = int(math.ceil(len(lst)/2.0))\n",
    "    lowerBound = 0\n",
    "    upperBound = len(lst)-1\n",
    "    lastChecked = 0\n",
    "    i = 1\n",
    "    if lst[CheckIndex] == value:\n",
    "        return CheckIndex\n",
    "    else:\n",
    "        while (upperBound-lowerBound > 1) and (i<len(lst)): \n",
    "            #once there's nothing in between upper and lower bound, we're done. i's just there to prevent infinite loops.\n",
    "            if lst[CheckIndex] == value:\n",
    "                return CheckIndex\n",
    "                i+=1\n",
    "            elif lst[CheckIndex] > value:\n",
    "                upperBound = CheckIndex\n",
    "                CheckIndex = int(math.ceil((upperBound + lowerBound)/2.0)) #upper bound shifts to achieve bisecting effect\n",
    "                i+=1\n",
    "            elif lst[CheckIndex] < value:\n",
    "                lowerBound = CheckIndex\n",
    "                CheckIndex = int(math.ceil((upperBound + lowerBound)/2.0)) #lower bound shifts to achieve bisecting effect\n",
    "                i+=1\n",
    "            i+=1\n",
    "        return None\n",
    "\n",
    "print bisect(lst,81)\n",
    "print bisect(lst,103)\n",
    "print bisect(lst, 67**2)\n",
    "#I think this reduces the amount of time required to search a list from n-scaling to log 2 n scaling, which is pretty crazy.\n",
    "            "
   ]
  },
  {
   "cell_type": "code",
   "execution_count": null,
   "metadata": {
    "collapsed": true
   },
   "outputs": [],
   "source": [
    "def bisect(so_list, target):\n",
    "    \n",
    "    \n",
    "    \n",
    "\n",
    "bisect([1,2,3,4,5,6,7,8,9],2)"
   ]
  },
  {
   "cell_type": "code",
   "execution_count": 62,
   "metadata": {
    "collapsed": false
   },
   "outputs": [
    {
     "name": "stdout",
     "output_type": "stream",
     "text": [
      "counterdemonstrations\n"
     ]
    }
   ],
   "source": [
    "def print_longer_than(num_characters):\n",
    "    fin = open('words.txt')\n",
    "    for line in fin:\n",
    "        word = line.strip()\n",
    "        if len(word) > num_characters:\n",
    "            print word\n",
    "\n",
    "#print_longer_than(20)\n",
    "\n",
    "def make_word_list():\n",
    "    fin = open('words.txt')\n",
    "    word_list = []\n",
    "    for line in fin:\n",
    "        word = line.strip()\n",
    "        word_list.append(word)\n",
    "    return word_list\n",
    "\n",
    "def find_word(word, word_list):\n",
    "    \"\"\"\n",
    "    This code gives you the index of the word in the original list\n",
    "        using bisections.\n",
    "    \"\"\"\n",
    "    search_list = word_list[:] # copies the word list without aliasing it\n",
    "    front_cut = 0 # number of words cut from in front of the word\n",
    "    while len(search_list) > 1:\n",
    "        mid_word = len(search_list)/2\n",
    "        if search_list[mid_word] == word:\n",
    "            return mid_word + front_cut\n",
    "        elif search_list[mid_word] > word:\n",
    "            search_list = search_list[:mid_word]\n",
    "        else:\n",
    "            front_cut += mid_word\n",
    "            search_list = search_list[mid_word:]\n",
    "    return None\n",
    "        \n",
    "words = make_word_list()\n",
    "index = find_word('counterdemonstrations', words)\n",
    "if index != None:\n",
    "    print words[index]"
   ]
  },
  {
   "cell_type": "code",
   "execution_count": null,
   "metadata": {
    "collapsed": true
   },
   "outputs": [],
   "source": [
    "def bisect(allTheThings,target):\n",
    "    \"\"\"\n",
    "    >>> bisect([\"apple\",\"banana\",\"orange\",\"plum\"],\"banana\")\n",
    "    1\n",
    "    >>> bisect([\"apple\",\"banana\",\"orange\",\"plum\"],\"orange\")\n",
    "    1\n",
    "    >>> bisect([\"apple\",\"banana\",\"orange\",\"plum\"],\"peach\")\n",
    "    None\n",
    "    \"\"\"\n",
    "    i = len(allTheThings)/2\n",
    "    min = 0\n",
    "    max = len(allTheThings)\n",
    "    while min < max:\n",
    "        if allTheThings[i] < target:\n",
    "            min = i\n",
    "            i = (max+i)/2\n",
    "        elif allTheThings[i] > target:\n",
    "            max = i\n",
    "            i = (min+i)/2\n",
    "        else: # you have found it!\n",
    "            return i\n",
    "\n",
    "\n",
    "import doctest\n",
    "doctest.run_docstring_examples(bisect,globals())"
   ]
  },
  {
   "cell_type": "code",
   "execution_count": 62,
   "metadata": {
    "collapsed": false
   },
   "outputs": [
    {
     "name": "stdout",
     "output_type": "stream",
     "text": [
      "(10700, 'boats')\n"
     ]
    }
   ],
   "source": [
    "def build_list():\n",
    "    result = []\n",
    "    fin = open('words.txt')\n",
    "    for i,line in enumerate(fin):\n",
    "        indexed_word = (i,line.strip())\n",
    "        result.append(indexed_word)\n",
    "    return result\n",
    "\n",
    "def bisect(word_list,target_word):\n",
    "    \"\"\"\n",
    "    Takes an indexed list of words (tuples of the form (index,word))\n",
    "    and a target word.\n",
    "    Returns (index of target word, target word), or None if the target\n",
    "    word is not in the list.\n",
    "    \"\"\"\n",
    "    index = len(word_list)/2\n",
    "    if word_list[index][1] == target_word:\n",
    "        return word_list[index]\n",
    "    elif len(word_list) <= 1:\n",
    "        return None\n",
    "    elif word_list[index][1] < target_word:\n",
    "#         print 'bisecting upper half'\n",
    "#         print 'length = ', len(word_list)\n",
    "#         print 'guess = ',word_list[index]\n",
    "        return bisect(word_list[index:],target_word)\n",
    "    else:\n",
    "#         print 'bisecting lower half'\n",
    "#         print 'length = ', len(word_list)\n",
    "#         print 'guess = ',word_list[index]\n",
    "        return bisect(word_list[:index],target_word)\n",
    "\n",
    "word_list = build_list()\n",
    "print bisect(word_list,'boats')"
   ]
  },
  {
   "cell_type": "code",
   "execution_count": 46,
   "metadata": {
    "collapsed": false
   },
   "outputs": [
    {
     "data": {
      "text/plain": [
       "True"
      ]
     },
     "execution_count": 46,
     "metadata": {},
     "output_type": "execute_result"
    }
   ],
   "source": [
    "\n",
    "def bisect(sortedList, val):\n",
    "    return bisectHelper(sortedList, 0, len(sortedList),val)\n",
    "def bisectHelper(sortedList, first, last, val):\n",
    "    mid = (last+first)/2\n",
    "    if sortedList[mid]==val:\n",
    "        return True\n",
    "    elif first >=last:\n",
    "        return False\n",
    "    elif sortedList[mid]>val:\n",
    "        return bisectHelper(sortedList, first, mid, val)\n",
    "    else:\n",
    "        return bisectHelper(sortedList, mid, last, val)\n",
    "bisect(['a','b','c','d','e','f','g'], 'f')"
   ]
  },
  {
   "cell_type": "code",
   "execution_count": 1,
   "metadata": {
    "collapsed": false
   },
   "outputs": [
    {
     "ename": "SyntaxError",
     "evalue": "invalid syntax (<ipython-input-1-e35cb01b07ea>, line 1)",
     "output_type": "error",
     "traceback": [
      "\u001b[1;36m  File \u001b[1;32m\"<ipython-input-1-e35cb01b07ea>\"\u001b[1;36m, line \u001b[1;32m1\u001b[0m\n\u001b[1;33m    from http://thinkpython.com/code/words.txt import words.txt\u001b[0m\n\u001b[1;37m             ^\u001b[0m\n\u001b[1;31mSyntaxError\u001b[0m\u001b[1;31m:\u001b[0m invalid syntax\n"
     ]
    }
   ],
   "source": [
    "from http://thinkpython.com/code/words.txt import words.txt\n",
    "#how do we download this file?"
   ]
  },
  {
   "cell_type": "code",
   "execution_count": 10,
   "metadata": {
    "collapsed": false
   },
   "outputs": [
    {
     "data": {
      "text/plain": [
       "2"
      ]
     },
     "execution_count": 10,
     "metadata": {},
     "output_type": "execute_result"
    }
   ],
   "source": [
    "from bisect import*\n",
    "\n",
    "def bisect(words, val):\n",
    "    lo = 0\n",
    "    hi = len(words)-1\n",
    "    curr = hi/2\n",
    "    # print words[curr]\n",
    "    # print val\n",
    "    \n",
    "    while(words[curr] != val):\n",
    "        curr = (hi-lo)/2 + lo\n",
    "        # print curr\n",
    "        if(curr == lo):\n",
    "            return None\n",
    "        current = words[curr]\n",
    "        if(current == val):\n",
    "            return curr\n",
    "        if(current > val):\n",
    "            hi = curr\n",
    "        else:\n",
    "            lo = curr\n",
    "\n",
    "    #     if(words[curr] == val):\n",
    "    #         print 'a'\n",
    "    #         return curr\n",
    "    # print 'c'\n",
    "#     print words[i]\n",
    "#     print words[3]\n",
    "    \n",
    "bisect(['a', 'b', 'c', 'd', 'e', 'f', 'g', 'h', 'i', 'j', 'k', 'l', 'm'],'c')"
   ]
  },
  {
   "cell_type": "code",
   "execution_count": 124,
   "metadata": {
    "collapsed": false
   },
   "outputs": [
    {
     "data": {
      "text/plain": [
       "6"
      ]
     },
     "execution_count": 124,
     "metadata": {},
     "output_type": "execute_result"
    }
   ],
   "source": [
    "from bisect import bisect_left\n",
    "def bisect(t,x):\n",
    "    'Locate the leftmost value exactly equal to x'\n",
    "    i = bisect_left(t, x)\n",
    "    if i != len(t) and t[i] == x:\n",
    "        return i\n",
    "    else:\n",
    "        return None\n",
    "\n",
    "bisect(['1','2','3','3','2','4','5'],'5')"
   ]
  },
  {
   "cell_type": "code",
   "execution_count": 28,
   "metadata": {
    "collapsed": false
   },
   "outputs": [
    {
     "name": "stdout",
     "output_type": "stream",
     "text": [
      "counterdemonstrations\n",
      "hyperaggressivenesses\n",
      "microminiaturizations\n"
     ]
    }
   ],
   "source": [
    "fin = open('words.txt')\n",
    "\n",
    "def print20OrMore(fileIn):\n",
    "    for line in fileIn:\n",
    "        word = line.strip()\n",
    "        if len(word) > 20:\n",
    "            print word\n",
    "            \n",
    "            \n",
    "print20OrMore(fin)\n",
    "            "
   ]
  },
  {
   "cell_type": "code",
   "execution_count": 12,
   "metadata": {
    "collapsed": false
   },
   "outputs": [
    {
     "data": {
      "text/plain": [
       "0"
      ]
     },
     "execution_count": 12,
     "metadata": {},
     "output_type": "execute_result"
    }
   ],
   "source": [
    "def bisect(l, target):\n",
    "    lower = int(0)\n",
    "    upper = int(len(l))\n",
    "    cur = int(upper/2)\n",
    "    while(cur != upper and cur != lower):\n",
    "        if(l[cur] == target):\n",
    "            return cur\n",
    "        if(l[cur] > target):\n",
    "            upper = cur\n",
    "            cur = int((upper - lower)/2 + lower)\n",
    "        else:\n",
    "            lower = cur\n",
    "            cur = int((upper - lower)/2 + lower)\n",
    "    if(l[cur] == target):\n",
    "        return cur\n",
    "    return None\n",
    "bisect([0, 2, 5, 6, 7, 10, 23, 44, 64, 356, 1000], 0)"
   ]
  },
  {
   "cell_type": "code",
   "execution_count": 61,
   "metadata": {
    "collapsed": false
   },
   "outputs": [
    {
     "name": "stdout",
     "output_type": "stream",
     "text": [
      "4\n",
      "2\n"
     ]
    }
   ],
   "source": [
    "def bisect(t, target_value):\n",
    "    low = 0\n",
    "    high = len(t)\n",
    "    while low < high:\n",
    "        mid = (low+high) // 2\n",
    "        if t[mid] == target_value:\n",
    "            return mid\n",
    "        elif target_value < t[mid]:\n",
    "            high = mid\n",
    "        else: #target_value > t[mid]\n",
    "            low = mid + 1\n",
    "    return mid\n",
    "\n",
    "print bisect([0,1,2,3,4,5],4)\n",
    "print bisect([2,5,7,19,25,26],7)"
   ]
  },
  {
   "cell_type": "code",
   "execution_count": 16,
   "metadata": {
    "collapsed": false
   },
   "outputs": [
    {
     "name": "stdout",
     "output_type": "stream",
     "text": [
      "14\n"
     ]
    }
   ],
   "source": [
    "def bisect(list1, target):\n",
    "    loc = len(list1) / 2\n",
    "    step_size = loc / 2\n",
    "    while True:\n",
    "        #print loc\n",
    "        #print step_size\n",
    "        if list1[loc] < target:\n",
    "            loc += step_size\n",
    "            step_size = step_size / 2\n",
    "        elif list1[loc] > target:\n",
    "            loc -= step_size\n",
    "            step_size = step_size / 2\n",
    "        if list1[loc] == target:\n",
    "            return loc\n",
    "        elif step_size == 0:\n",
    "            return \"Not Found\"\n",
    "        \n",
    "print bisect([\"a\", \"b\", \"c\", \"d\", \"e\", \"f\", \"g\", \"h\", \"i\", \"j\", \"k\", \"l\", \"m\", \"n\", \"o\", \"z\", \"z\"], \"o\")"
   ]
  },
  {
   "cell_type": "code",
   "execution_count": 100,
   "metadata": {
    "collapsed": false
   },
   "outputs": [
    {
     "name": "stdout",
     "output_type": "stream",
     "text": [
      "['a', 'b', 'c', 'd', 'e', 'f', 'g', 'h', 'i', 'j', 'k', 'l', 'm', 'n', 'o', 'p', 'q', 'r', 's', 't', 'u', 'v']\n",
      "The word is at 0\n",
      "The word is at 1\n",
      "The word is at 2\n",
      "The word is at 3\n",
      "The word is at 4\n",
      "The word is at 5\n",
      "The word is at 6\n",
      "The word is at 7\n",
      "The word is at 8\n",
      "The word is at 9\n",
      "The word is at 10\n",
      "The word is at 11\n",
      "The word is at 12\n",
      "The word is at 13\n",
      "The word is at 14\n",
      "The word is at 15\n",
      "The word is at 16\n",
      "The word is at 17\n",
      "The word is at 18\n",
      "The word is at 19\n",
      "The word is at 20\n",
      "The word is at 21\n"
     ]
    }
   ],
   "source": [
    "import math\n",
    "def bisect(L,word):\n",
    "    num_steps=int(math.log(len(L),2))\n",
    "    #print 'max number of bisect= '+ str(num_steps)\n",
    "    index=len(L)/2\n",
    "    for i in range(0,num_steps):\n",
    "        #print index\n",
    "        if L[index-1]==word:\n",
    "            return index-1\n",
    "#         if L[index+1]==word:\n",
    "#             return index+1\n",
    "        elif L[index]==word:\n",
    "            return index\n",
    "        elif L[index] < word:\n",
    "            index=int(index+math.ceil(float(len(L))/(2**(i+2))))\n",
    "            #print index\n",
    "        elif L[index] > word:\n",
    "            index=int(index-math.ceil(float(len(L))/(2**(i+2))))\n",
    "            #print index\n",
    "    \n",
    "LList=[chr(x) for x in range(97,97+22)]\n",
    "\n",
    "print LList\n",
    "\n",
    "for letter in LList:\n",
    "    index_of_value=str(bisect(LList,letter))  \n",
    "    print 'The word is at ' + index_of_value\n",
    "\n"
   ]
  },
  {
   "cell_type": "code",
   "execution_count": 27,
   "metadata": {
    "collapsed": false
   },
   "outputs": [],
   "source": [
    "#I think this works. I dunno. I have to do compnet. \n",
    "def bisect(srtlst, target):\n",
    "    mid = len(srtlst/2)\n",
    "    if srtlst[mid] == target:\n",
    "        return mid\n",
    "    elif srtlist[mid] > target:\n",
    "        return bisect(srtlist[mid+1:], target)\n",
    "    else: # srtlist[mid] < target\n",
    "        return bisect(srtlist[:mid-1], target)\n",
    "    \n"
   ]
  },
  {
   "cell_type": "code",
   "execution_count": null,
   "metadata": {
    "collapsed": true
   },
   "outputs": [],
   "source": [
    "def bisect(myList,targetWord):\n",
    "    ### assumes input list is sorted alphabetically!!\n",
    "    ### doesn't look at more than the first letter but could be modified to do so\n",
    "    alphabet = 'abcdefghijklmnopqrstuvwxyz' #for reference: order of alphabet\n",
    "    midList = len(myList)/2\n",
    "    rangeMin = 0\n",
    "    rangeMax = len(myList)\n",
    "    while True:\n",
    "        midlistWord = alphabet.find(myList[midList])\n",
    "        if alphabet.find(targetWord[0]) < midlistWord[0]:\n",
    "            rangeMax = midList\n",
    "            midList = midList // 2\n",
    "        else:\n",
    "            rangeMin = midList\n",
    "            midList = midList + (midList // 2)\n",
    "        if (rangeMax-rangeMin)<26:\n",
    "            return myList[rangeMin:rangeMax].index(targetWord)\n",
    "\n",
    "print bisect(['apple' 'banana' 'cucumber' 'dog' 'epenephrin' 'fake' 'gimbal' 'hank' 'injustice' 'jam' 'kan' 'lop' 'mop' 'nope'], 'dog')        "
   ]
  },
  {
   "cell_type": "code",
   "execution_count": 64,
   "metadata": {
    "collapsed": false
   },
   "outputs": [
    {
     "data": {
      "text/plain": [
       "1"
      ]
     },
     "execution_count": 64,
     "metadata": {},
     "output_type": "execute_result"
    }
   ],
   "source": [
    "def bisect(thing,sorted_list):\n",
    "    length = len(sorted_list)\n",
    "    i = int(length/2)\n",
    "    if (i == 0) and (sorted_list[0] == thing):\n",
    "        answer = i\n",
    "    elif i == 0 and sorted_list[0] != thing:\n",
    "        answer = None\n",
    "    elif sorted_list[i] == thing:\n",
    "        answer = i\n",
    "    elif sorted_list[i] < thing:\n",
    "        answer = bisect(thing,sorted_list[i:])\n",
    "    elif sorted_list[i] > thing:\n",
    "        answer = bisect(thing,sorted_list[:i])\n",
    "    return answer\n",
    "\n",
    "bisect(2,[1,2,3])"
   ]
  },
  {
   "cell_type": "code",
   "execution_count": 57,
   "metadata": {
    "collapsed": false
   },
   "outputs": [],
   "source": [
    "def bisect(input_list,target_word):\n",
    "    \"\"\"\n",
    "    Takes input of a list and a target value\n",
    "    If value exists in list, returns index of the value in the list\n",
    "    If not, returns None\n",
    "    \n",
    "    >>> bisect(['happy','sad','depressed','optimistic','good'],'sad')\n",
    "    4\n",
    "    >>> bisect(['happy','sad','depressed','optimistic','good'],'good')\n",
    "    1\n",
    "    >>> bisect(['happy','sad','depressed','optimistic','good'],'happy')\n",
    "    2\n",
    "    >>> bisect(['happy','sad','depressed','optimistic','good'],'poop')\n",
    "    None\n",
    "    \"\"\"\n",
    "    \n",
    "    input_list.sort()      # sorts input_list into alphabetical order\n",
    "    print input_list\n",
    "    middle_word = len(input_list) / 2    # finds where to bisect\n",
    "    \n",
    "    if target_word < input_list[middle_word]:   # if target is before middle\n",
    "        input_list = input_list[:middle_word]   # range --> bisected range\n",
    "        return input_list.index(target_word)    # finds target index\n",
    "    elif target_word > input_list[middle_word]: # if target is after middle\n",
    "        input_list = input_list[middle_word:] \n",
    "        return input_list.index(target_word) + middle_word # index in terms of whole input_list, not bisected list\n",
    "    elif target_word == input_list[middle_word]: \n",
    "        return middle_word\n",
    "    else:\n",
    "        return None\n",
    "\n",
    "    import doctest\n",
    "    doctest.run_docstring_examples(bisect, globals())"
   ]
  },
  {
   "cell_type": "code",
   "execution_count": 48,
   "metadata": {
    "collapsed": false
   },
   "outputs": [
    {
     "name": "stdout",
     "output_type": "stream",
     "text": [
      "2\n",
      "13\n"
     ]
    }
   ],
   "source": [
    "def bisect(sortedlist,target):\n",
    "    \"\"\"\n",
    "    This function will do a binary search on a list and return an index if a match is found or None if there was nothing to return\n",
    "    It operates on the precondition that the list is sorted.\n",
    "    \"\"\"\n",
    "    low = 0\n",
    "    high = len(sortedlist)-1\n",
    "    while low <= high:\n",
    "        index = (low + high)/2\n",
    "        if sortedlist[index] > target:\n",
    "            high = index - 1\n",
    "        elif sortedlist[index] < target:\n",
    "            low = index + 1\n",
    "        else:\n",
    "            return index\n",
    "    return None\n",
    "\n",
    "chicken = ['alpha','beta','chicken','delta','epsilon','funnymuffins','gamma','horse']\n",
    "therealtest = \"Have any comments on this Reading Journal? Feel free to leave them below and well read them when you submit your journal entry.This could include suggestions to improve the exercises, topics youd like to see covered in class next time, or other feedback.If you have Python questions or run into problems while completing the reading, you should post them to Piazza instead so you canget a quick response before your journal is submitted.\"\n",
    "therealtest_list = therealtest.split(\" \")\n",
    "therealtest_list.sort()\n",
    "\n",
    "print bisect(chicken,'chicken')\n",
    "print bisect(therealtest_list, \"comments\")"
   ]
  },
  {
   "cell_type": "markdown",
   "metadata": {},
   "source": [
    "## Reading Journal feedback\n",
    "\n",
    "Have any comments on this Reading Journal? Feel free to leave them below and we'll read them when you submit your journal entry. This could include suggestions to improve the exercises, topics you'd like to see covered in class next time, or other feedback.\n",
    "\n",
    "If you have Python questions or run into problems while completing the reading, you should post them to Piazza instead so you can get a quick response before your journal is submitted."
   ]
  },
  {
   "cell_type": "markdown",
   "metadata": {},
   "source": [
    " "
   ]
  },
  {
   "cell_type": "markdown",
   "metadata": {},
   "source": [
    " "
   ]
  },
  {
   "cell_type": "markdown",
   "metadata": {},
   "source": [
    " "
   ]
  },
  {
   "cell_type": "markdown",
   "metadata": {},
   "source": [
    " "
   ]
  },
  {
   "cell_type": "markdown",
   "metadata": {},
   "source": [
    " "
   ]
  },
  {
   "cell_type": "markdown",
   "metadata": {},
   "source": [
    " "
   ]
  },
  {
   "cell_type": "markdown",
   "metadata": {},
   "source": [
    " "
   ]
  },
  {
   "cell_type": "markdown",
   "metadata": {},
   "source": [
    " "
   ]
  },
  {
   "cell_type": "markdown",
   "metadata": {},
   "source": [
    " "
   ]
  },
  {
   "cell_type": "markdown",
   "metadata": {},
   "source": [
    " "
   ]
  },
  {
   "cell_type": "markdown",
   "metadata": {},
   "source": [
    " "
   ]
  },
  {
   "cell_type": "markdown",
   "metadata": {},
   "source": [
    " "
   ]
  },
  {
   "cell_type": "markdown",
   "metadata": {},
   "source": [
    " "
   ]
  },
  {
   "cell_type": "markdown",
   "metadata": {},
   "source": [
    " "
   ]
  },
  {
   "cell_type": "markdown",
   "metadata": {},
   "source": [
    " "
   ]
  },
  {
   "cell_type": "markdown",
   "metadata": {},
   "source": [
    " "
   ]
  },
  {
   "cell_type": "markdown",
   "metadata": {},
   "source": [
    "I just wanted to let you know that I needed to look at Allen's code in order to figure out the birthday problem. I has struggling with how to account for duplicates that do not occur one after the other because I forgot about the sort function so once I saw that is made the birthday and the anagram problem much easier. \n",
    "\n",
    "Questions about deleting items from a list or string:\n",
    "Let's say I have two lists and I want to see if the elements of one are in the other. As I run throught the elements of list 1, I want to delete the matching elements (although they have different indices) from the second list. How do I do this? And how would this be different for strings? I tried to to do this for the anagram problem before to account for duplicate letters before I figured out the sort thing. "
   ]
  },
  {
   "cell_type": "markdown",
   "metadata": {},
   "source": [
    " "
   ]
  },
  {
   "cell_type": "markdown",
   "metadata": {},
   "source": [
    " "
   ]
  },
  {
   "cell_type": "markdown",
   "metadata": {},
   "source": [
    " "
   ]
  },
  {
   "cell_type": "markdown",
   "metadata": {},
   "source": [
    " "
   ]
  },
  {
   "cell_type": "markdown",
   "metadata": {},
   "source": [
    " "
   ]
  },
  {
   "cell_type": "markdown",
   "metadata": {},
   "source": [
    " "
   ]
  },
  {
   "cell_type": "markdown",
   "metadata": {},
   "source": [
    " "
   ]
  },
  {
   "cell_type": "markdown",
   "metadata": {},
   "source": [
    " "
   ]
  },
  {
   "cell_type": "markdown",
   "metadata": {},
   "source": [
    "Used the reading journal as an excuse to delve a little deeper into python's functional tools and datastructures. Sets are super useful!\n"
   ]
  },
  {
   "cell_type": "markdown",
   "metadata": {},
   "source": [
    " "
   ]
  },
  {
   "cell_type": "markdown",
   "metadata": {},
   "source": [
    " "
   ]
  },
  {
   "cell_type": "markdown",
   "metadata": {},
   "source": [
    " "
   ]
  },
  {
   "cell_type": "markdown",
   "metadata": {},
   "source": [
    " "
   ]
  },
  {
   "cell_type": "markdown",
   "metadata": {},
   "source": [
    " "
   ]
  },
  {
   "cell_type": "markdown",
   "metadata": {},
   "source": [
    " "
   ]
  },
  {
   "cell_type": "markdown",
   "metadata": {},
   "source": [
    " "
   ]
  },
  {
   "cell_type": "markdown",
   "metadata": {},
   "source": [
    " "
   ]
  },
  {
   "cell_type": "markdown",
   "metadata": {},
   "source": [
    " "
   ]
  },
  {
   "cell_type": "markdown",
   "metadata": {},
   "source": [
    " "
   ]
  },
  {
   "cell_type": "markdown",
   "metadata": {},
   "source": [
    " "
   ]
  },
  {
   "cell_type": "markdown",
   "metadata": {},
   "source": [
    " "
   ]
  },
  {
   "cell_type": "markdown",
   "metadata": {},
   "source": [
    " "
   ]
  },
  {
   "cell_type": "markdown",
   "metadata": {},
   "source": [
    " "
   ]
  },
  {
   "cell_type": "markdown",
   "metadata": {},
   "source": [
    " "
   ]
  },
  {
   "cell_type": "markdown",
   "metadata": {},
   "source": [
    " "
   ]
  },
  {
   "cell_type": "markdown",
   "metadata": {},
   "source": [
    " "
   ]
  },
  {
   "cell_type": "markdown",
   "metadata": {},
   "source": [
    " "
   ]
  },
  {
   "cell_type": "markdown",
   "metadata": {},
   "source": [
    " "
   ]
  },
  {
   "cell_type": "markdown",
   "metadata": {},
   "source": [
    " "
   ]
  },
  {
   "cell_type": "markdown",
   "metadata": {},
   "source": [
    " "
   ]
  },
  {
   "cell_type": "markdown",
   "metadata": {},
   "source": [
    " "
   ]
  },
  {
   "cell_type": "markdown",
   "metadata": {},
   "source": [
    " "
   ]
  },
  {
   "cell_type": "markdown",
   "metadata": {},
   "source": [
    " "
   ]
  },
  {
   "cell_type": "markdown",
   "metadata": {},
   "source": [
    "This one was challenging! Had to google/re-read Think Python once in a while to remember the string and list methods. "
   ]
  },
  {
   "cell_type": "markdown",
   "metadata": {},
   "source": [
    " "
   ]
  },
  {
   "cell_type": "markdown",
   "metadata": {},
   "source": [
    " "
   ]
  },
  {
   "cell_type": "markdown",
   "metadata": {},
   "source": [
    " "
   ]
  },
  {
   "cell_type": "markdown",
   "metadata": {},
   "source": [
    " "
   ]
  },
  {
   "cell_type": "markdown",
   "metadata": {},
   "source": [
    "All good, this was fun :)"
   ]
  },
  {
   "cell_type": "markdown",
   "metadata": {},
   "source": [
    " "
   ]
  },
  {
   "cell_type": "markdown",
   "metadata": {},
   "source": [
    " "
   ]
  },
  {
   "cell_type": "markdown",
   "metadata": {},
   "source": [
    " "
   ]
  },
  {
   "cell_type": "markdown",
   "metadata": {},
   "source": [
    " "
   ]
  }
 ],
 "metadata": {
  "kernelspec": {
   "display_name": "Python 2",
   "language": "python",
   "name": "python2"
  },
  "language_info": {
   "codemirror_mode": {
    "name": "ipython",
    "version": 2
   },
   "file_extension": ".py",
   "mimetype": "text/x-python",
   "name": "python",
   "nbconvert_exporter": "python",
   "pygments_lexer": "ipython2",
   "version": "2.7.6"
  }
 },
 "nbformat": 4,
 "nbformat_minor": 0
}
