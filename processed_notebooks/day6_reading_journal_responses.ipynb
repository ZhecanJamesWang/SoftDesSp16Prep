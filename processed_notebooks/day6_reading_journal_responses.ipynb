{
 "cells": [
  {
   "cell_type": "markdown",
   "metadata": {
    "is_question": true,
    "problem": "Exercise 6.4"
   },
   "source": [
    "### Exercise 4  \n",
    "\n",
    "Draw a stack diagram for the following program. What does the program print? \n",
    "\n",
    "You can do this on paper, using [Python Tutor](http://pythontutor.com/), or with [Lumpy](http://www.greenteapress.com/thinkpython/swampy/) as used in [Allen's solution](http://thinkpython.com/code/stack_diagram.py)."
   ]
  },
  {
   "cell_type": "markdown",
   "metadata": {},
   "source": [
    "I used Python Tutor and ended with 5 global frames (b, a, c, x, y) and 3 objects (b(z), a(x,y), c(x,y,z))."
   ]
  },
  {
   "cell_type": "code",
   "execution_count": null,
   "metadata": {
    "collapsed": false,
    "solution": "Exercise 6.4"
   },
   "outputs": [],
   "source": [
    "def b(z):\n",
    "    prod = a(z, z)\n",
    "    print z, prod\n",
    "    return prod\n",
    "\n",
    "def a(x, y):\n",
    "    x = x + 1\n",
    "    return x * y\n",
    "\n",
    "def c(x, y, z):\n",
    "    total = x + y + z\n",
    "    square = b(total)**2\n",
    "    return square\n",
    "\n",
    "x = 1\n",
    "y = x + 1\n",
    "print c(x, y+3, x+y)"
   ]
  },
  {
   "cell_type": "code",
   "execution_count": null,
   "metadata": {
    "collapsed": false,
    "solution": "Exercise 6.4"
   },
   "outputs": [],
   "source": [
    "def b(z):\n",
    "    prod = a(z, z)\n",
    "    print z, prod\n",
    "    return prod\n",
    "\n",
    "def a(x, y):\n",
    "    x = x + 1\n",
    "    return x * y\n",
    "\n",
    "def c(x, y, z):\n",
    "    total = x + y + z\n",
    "    square = b(total)**2\n",
    "    return square\n",
    "\n",
    "x = 1\n",
    "y = x + 1\n",
    "print c(x, y+3, x+y)"
   ]
  },
  {
   "cell_type": "code",
   "execution_count": 1,
   "metadata": {
    "collapsed": false,
    "solution": "Exercise 6.4"
   },
   "outputs": [
    {
     "name": "stdout",
     "output_type": "stream",
     "text": [
      "9 90\n",
      "8100\n"
     ]
    }
   ],
   "source": [
    "def b(z):\n",
    "    prod = a(z, z)\n",
    "    print z, prod\n",
    "    return prod\n",
    "\n",
    "def a(x, y):\n",
    "    x = x + 1\n",
    "    return x * y\n",
    "\n",
    "def c(x, y, z):\n",
    "    total = x + y + z\n",
    "    square = b(total)**2\n",
    "    return square\n",
    "\n",
    "x = 1\n",
    "y = x + 1\n",
    "print c(x, y+3, x+y)"
   ]
  },
  {
   "cell_type": "code",
   "execution_count": null,
   "metadata": {
    "collapsed": false,
    "solution": "Exercise 6.4"
   },
   "outputs": [],
   "source": [
    "def b(z):\n",
    "    prod = a(z, z)\n",
    "    print z, prod\n",
    "    return prod\n",
    "\n",
    "def a(x, y):\n",
    "    x = x + 1\n",
    "    return x * y\n",
    "\n",
    "def c(x, y, z):\n",
    "    total = x + y + z\n",
    "    square = b(total)**2\n",
    "    return square\n",
    "\n",
    "x = 1\n",
    "y = x + 1\n",
    "print c(x, y+3, x+y)"
   ]
  },
  {
   "cell_type": "code",
   "execution_count": 1,
   "metadata": {
    "collapsed": false,
    "solution": "Exercise 6.4"
   },
   "outputs": [
    {
     "name": "stdout",
     "output_type": "stream",
     "text": [
      "9 90\n",
      "8100\n"
     ]
    }
   ],
   "source": [
    "def b(z):\n",
    "    prod = a(z, z)\n",
    "    print z, prod\n",
    "    return prod\n",
    "\n",
    "def a(x, y):\n",
    "    x = x + 1\n",
    "    return x * y\n",
    "\n",
    "def c(x, y, z):\n",
    "    total = x + y + z\n",
    "    square = b(total)**2\n",
    "    return square\n",
    "\n",
    "x = 1\n",
    "y = x + 1\n",
    "print c(x, y+3, x+y)"
   ]
  },
  {
   "cell_type": "code",
   "execution_count": null,
   "metadata": {
    "collapsed": false,
    "solution": "Exercise 6.4"
   },
   "outputs": [],
   "source": [
    "def b(z):\n",
    "    prod = a(z, z)\n",
    "    print z, prod\n",
    "    return prod\n",
    "\n",
    "def a(x, y):\n",
    "    x = x + 1\n",
    "    return x * y\n",
    "\n",
    "def c(x, y, z):\n",
    "    total = x + y + z\n",
    "    square = b(total)**2\n",
    "    return square\n",
    "\n",
    "x = 1\n",
    "y = x + 1\n",
    "print c(x, y+3, x+y)"
   ]
  },
  {
   "cell_type": "code",
   "execution_count": null,
   "metadata": {
    "collapsed": false,
    "solution": "Exercise 6.4"
   },
   "outputs": [],
   "source": [
    "def b(z):\n",
    "    prod = a(z, z)\n",
    "    print z, prod\n",
    "    return prod\n",
    "\n",
    "def a(x, y):\n",
    "    x = x + 1\n",
    "    return x * y\n",
    "\n",
    "def c(x, y, z):\n",
    "    total = x + y + z\n",
    "    square = b(total)**2\n",
    "    return square\n",
    "\n",
    "x = 1\n",
    "y = x + 1\n",
    "print c(x, y+3, x+y)\n",
    "\n",
    "#I visualized it using python tutor\n",
    "#frame 1 = global frame has a function b that takes in z, and a function a that takes in x and y, and a function c that takes in x, y, and z\n",
    "#global frame assigns x = 1\n",
    "#global frame assigns y = 2\n",
    "#fram2 = frame c assigns x = 1, y = 5, z = 3, and total = 9\n",
    "#fram3 = frame b assigns z = 9\n",
    "#fram4 = frame a assigns x = 9, y = 9\n",
    "#frame a reassigns x = 10, returns value 90, disappears\n",
    "#frame b returns prod value 90, returns value 90, disappears\n",
    "#frame c returns square 8100, returns value 8100, disappears\n"
   ]
  },
  {
   "cell_type": "code",
   "execution_count": 1,
   "metadata": {
    "collapsed": false,
    "solution": "Exercise 6.4"
   },
   "outputs": [
    {
     "name": "stdout",
     "output_type": "stream",
     "text": [
      "9 90\n",
      "8100\n"
     ]
    }
   ],
   "source": [
    "def b(z):\n",
    "    prod = a(z, z)\n",
    "    print z, prod\n",
    "    return prod\n",
    "\n",
    "def a(x, y):\n",
    "    x = x + 1\n",
    "    return x * y\n",
    "\n",
    "def c(x, y, z):\n",
    "    total = x + y + z\n",
    "    square = b(total)**2\n",
    "    return square\n",
    "\n",
    "x = 1\n",
    "y = x + 1\n",
    "print c(x, y+3, x+y)"
   ]
  },
  {
   "cell_type": "code",
   "execution_count": null,
   "metadata": {
    "collapsed": false,
    "solution": "Exercise 6.4"
   },
   "outputs": [],
   "source": [
    "def b(z):\n",
    "    prod = a(z, z)\n",
    "    print z, prod\n",
    "    return prod\n",
    "\n",
    "def a(x, y):\n",
    "    x = x + 1\n",
    "    return x * y\n",
    "\n",
    "def c(x, y, z):\n",
    "    total = x + y + z\n",
    "    square = b(total)**2\n",
    "    return square\n",
    "\n",
    "x = 1\n",
    "y = x + 1\n",
    "print c(x, y+3, x+y)"
   ]
  },
  {
   "cell_type": "code",
   "execution_count": null,
   "metadata": {
    "collapsed": false,
    "solution": "Exercise 6.4"
   },
   "outputs": [],
   "source": [
    "def b(z):\n",
    "    prod = a(z, z)\n",
    "    print z, prod\n",
    "    return prod\n",
    "\n",
    "def a(x, y):\n",
    "    x = x + 1\n",
    "    return x * y\n",
    "\n",
    "def c(x, y, z):\n",
    "    total = x + y + z\n",
    "    square = b(total)**2\n",
    "    return square\n",
    "\n",
    "x = 1\n",
    "y = x + 1\n",
    "print c(x, y+3, x+y)"
   ]
  },
  {
   "cell_type": "code",
   "execution_count": 3,
   "metadata": {
    "collapsed": false,
    "solution": "Exercise 6.4"
   },
   "outputs": [
    {
     "name": "stdout",
     "output_type": "stream",
     "text": [
      "9 90\n",
      "8100\n"
     ]
    }
   ],
   "source": [
    "from swampy.Lumpy import Lumpy\n",
    "\n",
    "def b(z):\n",
    "    prod = a(z, z)\n",
    "    print z, prod\n",
    "    return prod\n",
    "\n",
    "def a(x, y):\n",
    "    x = x + 1\n",
    "    #lumpy.object_diagram()\n",
    "    return x * y\n",
    "\n",
    "def c(x, y, z):\n",
    "    total = x + y + z\n",
    "    square = b(total)**2\n",
    "    return square\n",
    "\n",
    "#lumpy = Lumpy()\n",
    "#lumpy.make_reference()\n",
    "\n",
    "x = 1\n",
    "y = x + 1\n",
    "print c(x, y+3, x+y)\n",
    "\n",
    "#Used Python Tutor to  helpvisualize it\n",
    "#c --> x = 1, y = 5, z = 3, total = 9 --> b(9)\n",
    "#b --> z = 9 --> a(9,9)\n",
    "#a --> x = 9, y = 9 -->  returns prod = 90 for b(9)\n",
    "#b returns 9 90 for z, prod\n",
    "#c returns 90**2\n",
    "#9 90 and 8100 are returned"
   ]
  },
  {
   "cell_type": "code",
   "execution_count": 8,
   "metadata": {
    "collapsed": false,
    "solution": "Exercise 6.4"
   },
   "outputs": [
    {
     "name": "stdout",
     "output_type": "stream",
     "text": [
      "8100\n"
     ]
    },
    {
     "data": {
      "text/plain": [
       "'lumpy.object_diagram()'"
      ]
     },
     "execution_count": 8,
     "metadata": {},
     "output_type": "execute_result"
    }
   ],
   "source": [
    "'''from swampy.Lumpy import Lumpy\n",
    "lumpy = Lumpy()\n",
    "lumpy.make_reference()'''\n",
    "\n",
    "def b(z):\n",
    "    prod = a(z, z)\n",
    "    #print z, prod\n",
    "    return prod\n",
    "\n",
    "def a(x, y):\n",
    "    x = x + 1\n",
    "    return x * y\n",
    "\n",
    "def c(x, y, z):\n",
    "    total = x + y + z\n",
    "    square = b(total)**2\n",
    "    return square\n",
    "\n",
    "x = 1\n",
    "y = x + 1\n",
    "print c(x, y+3, x+y)\n",
    "\n",
    "'''lumpy.object_diagram()'''"
   ]
  },
  {
   "cell_type": "code",
   "execution_count": null,
   "metadata": {
    "collapsed": false,
    "solution": "Exercise 6.4"
   },
   "outputs": [],
   "source": [
    "def b(z):\n",
    "    prod = a(z, z)\n",
    "    print z, prod\n",
    "    return prod\n",
    "\n",
    "def a(x, y):\n",
    "    x = x + 1\n",
    "    return x * y\n",
    "\n",
    "def c(x, y, z):\n",
    "    total = x + y + z\n",
    "    square = b(total)**2\n",
    "    return square\n",
    "\n",
    "x = 1\n",
    "y = x + 1\n",
    "print c(x, y+3, x+y)"
   ]
  },
  {
   "cell_type": "code",
   "execution_count": null,
   "metadata": {
    "collapsed": false,
    "solution": "Exercise 6.4"
   },
   "outputs": [],
   "source": [
    "def b(z):\n",
    "    prod = a(z, z)\n",
    "    print z, prod\n",
    "    return prod\n",
    "\n",
    "def a(x, y):\n",
    "    x = x + 1\n",
    "    return x * y\n",
    "\n",
    "def c(x, y, z):\n",
    "    total = x + y + z\n",
    "    square = b(total)**2\n",
    "    return square\n",
    "\n",
    "x = 1\n",
    "y = x + 1\n",
    "print c(x, y+3, x+y)"
   ]
  },
  {
   "cell_type": "code",
   "execution_count": null,
   "metadata": {
    "collapsed": false,
    "solution": "Exercise 6.4"
   },
   "outputs": [],
   "source": [
    "def b(z):\n",
    "    prod = a(z, z)\n",
    "    print z, prod\n",
    "    return prod\n",
    "\n",
    "def a(x, y):\n",
    "    x = x + 1\n",
    "    return x * y\n",
    "\n",
    "def c(x, y, z):\n",
    "    total = x + y + z\n",
    "    square = b(total)**2\n",
    "    return square\n",
    "\n",
    "x = 1\n",
    "y = x + 1\n",
    "print c(x, y+3, x+y)"
   ]
  },
  {
   "cell_type": "code",
   "execution_count": 41,
   "metadata": {
    "collapsed": false,
    "solution": "Exercise 6.4"
   },
   "outputs": [
    {
     "name": "stdout",
     "output_type": "stream",
     "text": [
      "9 90\n",
      "8100\n"
     ]
    }
   ],
   "source": [
    "def b(z):\n",
    "    prod = a(z, z)\n",
    "    print z, prod\n",
    "    return prod\n",
    "\n",
    "def a(x, y):\n",
    "    x = x + 1\n",
    "    return x * y\n",
    "\n",
    "def c(x, y, z):\n",
    "    total = x + y + z\n",
    "    square = b(total)**2\n",
    "    return square\n",
    "\n",
    "x = 1\n",
    "y = x + 1\n",
    "print c(x, y+3, x+y)"
   ]
  },
  {
   "cell_type": "code",
   "execution_count": 1,
   "metadata": {
    "collapsed": false,
    "solution": "Exercise 6.4"
   },
   "outputs": [
    {
     "name": "stdout",
     "output_type": "stream",
     "text": [
      "9 90\n",
      "8100\n"
     ]
    }
   ],
   "source": [
    "def b(z):\n",
    "    prod = a(z, z)\n",
    "    print z, prod\n",
    "    return prod\n",
    "\n",
    "def a(x, y):\n",
    "    x = x + 1\n",
    "    return x * y\n",
    "\n",
    "def c(x, y, z):\n",
    "    total = x + y + z\n",
    "    square = b(total)**2\n",
    "    return square\n",
    "\n",
    "x = 1\n",
    "y = x + 1\n",
    "print c(x, y+3, x+y)"
   ]
  },
  {
   "cell_type": "code",
   "execution_count": null,
   "metadata": {
    "collapsed": false,
    "solution": "Exercise 6.4"
   },
   "outputs": [],
   "source": [
    "def b(z):\n",
    "    prod = a(z, z)\n",
    "    print z, prod\n",
    "    return prod\n",
    "\n",
    "def a(x, y):\n",
    "    x = x + 1\n",
    "    return x * y\n",
    "\n",
    "def c(x, y, z):\n",
    "    total = x + y + z\n",
    "    square = b(total)**2\n",
    "    return square\n",
    "\n",
    "x = 1\n",
    "y = x + 1\n",
    "print c(x, y+3, x+y)"
   ]
  },
  {
   "cell_type": "code",
   "execution_count": null,
   "metadata": {
    "collapsed": false,
    "solution": "Exercise 6.4"
   },
   "outputs": [],
   "source": [
    "def b(z):\n",
    "    prod = a(z, z)\n",
    "    print z, prod\n",
    "    return prod\n",
    "\n",
    "def a(x, y):\n",
    "    x = x + 1\n",
    "    return x * y\n",
    "\n",
    "def c(x, y, z):\n",
    "    total = x + y + z\n",
    "    square = b(total)**2\n",
    "    return square\n",
    "\n",
    "x = 1\n",
    "y = x + 1\n",
    "print c(x, y+3, x+y)\n",
    "\n",
    "#The program prints 9 90\n",
    "#                   8100"
   ]
  },
  {
   "cell_type": "code",
   "execution_count": null,
   "metadata": {
    "collapsed": false,
    "solution": "Exercise 6.4"
   },
   "outputs": [],
   "source": [
    "def b(z):\n",
    "    prod = a(z, z)\n",
    "    print z, prod\n",
    "    return prod\n",
    "\n",
    "def a(x, y):\n",
    "    x = x + 1\n",
    "    return x * y\n",
    "\n",
    "def c(x, y, z):\n",
    "    total = x + y + z\n",
    "    square = b(total)**2\n",
    "    return square\n",
    "\n",
    "x = 1\n",
    "y = x + 1\n",
    "print c(x, y+3, x+y)\n",
    "\n",
    "#This program prints the total of 1, 1+1+3, and 1+1+1 (which is 9) then\n",
    "#9*(9 + 1) (the output of function a(x,y)), then prints 8100 (90^2)\n",
    "#(the output of function c(x,y,z))"
   ]
  },
  {
   "cell_type": "code",
   "execution_count": null,
   "metadata": {
    "collapsed": false,
    "solution": "Exercise 6.4"
   },
   "outputs": [],
   "source": [
    "def b(z):\n",
    "    prod = a(z, z)\n",
    "    print z, prod\n",
    "    return prod\n",
    "\n",
    "def a(x, y):\n",
    "    x = x + 1\n",
    "    return x * y\n",
    "\n",
    "def c(x, y, z):\n",
    "    total = x + y + z\n",
    "    square = b(total)**2\n",
    "    return square\n",
    "\n",
    "x = 1\n",
    "y = x + 1\n",
    "print c(x, y+3, x+y)"
   ]
  },
  {
   "cell_type": "markdown",
   "metadata": {
    "is_question": true,
    "problem": "Exercise 6.6"
   },
   "source": [
    "### Exercise 6  \n",
    "\n",
    "A palindrome is a word that is spelled the same backward and forward, like “noon” and “redivider”. Recursively, a word is a palindrome if the first and last letters are the same and the middle is a palindrome.\n",
    "\n",
    "You can use the `first`, `last`, and `middle` helper functions defined in Think Python, or do the string slices inside your function directly. Be sure to think about your base cases.\n",
    "    \n",
    "Write a function called `is_palindrome` that takes a string argument and returns `True` if it is a palindrome and `False` otherwise. Remember that you can use the built-in function `len` to check the length of a string.\n",
    "\n",
    "Write some unit tests for your function (optionally using doctest) to show that it works as intended."
   ]
  },
  {
   "cell_type": "code",
   "execution_count": 16,
   "metadata": {
    "collapsed": false,
    "solution": "Exercise 6.6"
   },
   "outputs": [
    {
     "name": "stdout",
     "output_type": "stream",
     "text": [
      "**********************************************************************\n",
      "File \"__main__\", line 3, in __main__.is_palindrome\n",
      "Failed example:\n",
      "    is_palindrome(\"cart\")\n",
      "Expected:\n",
      "        False\n",
      "Got:\n",
      "    False\n",
      "**********************************************************************\n",
      "File \"__main__\", line 5, in __main__.is_palindrome\n",
      "Failed example:\n",
      "    is_palindrome(\"bobob\")\n",
      "Expected:\n",
      "        True\n",
      "Got:\n",
      "    True\n",
      "**********************************************************************\n",
      "File \"__main__\", line 7, in __main__.is_palindrome\n",
      "Failed example:\n",
      "    is_palindrome(\"kayak\")\n",
      "Expected:\n",
      "        True\n",
      "Got:\n",
      "    True\n",
      "**********************************************************************\n",
      "1 items had failures:\n",
      "   3 of   3 in __main__.is_palindrome\n",
      "***Test Failed*** 3 failures.\n"
     ]
    },
    {
     "data": {
      "text/plain": [
       "TestResults(failed=3, attempted=3)"
      ]
     },
     "execution_count": 16,
     "metadata": {},
     "output_type": "execute_result"
    }
   ],
   "source": [
    "def is_palindrome (x):\n",
    "    \"\"\"\n",
    ">>> is_palindrome(\"cart\")\n",
    "    False\n",
    ">>> is_palindrome(\"bobob\")\n",
    "    True\n",
    ">>> is_palindrome(\"kayak\")\n",
    "    True\n",
    "    \"\"\"\n",
    "    for i in range(len(x)):\n",
    "        if x == x[::-1]:\n",
    "            return True\n",
    "    else:\n",
    "        return False\n",
    "\n",
    "\n",
    "if __name__ == \"__main__\":\n",
    "\timport doctest\n",
    "doctest.testmod()"
   ]
  },
  {
   "cell_type": "code",
   "execution_count": 42,
   "metadata": {
    "collapsed": false,
    "solution": "Exercise 6.6"
   },
   "outputs": [
    {
     "name": "stdout",
     "output_type": "stream",
     "text": [
      "False\n",
      "True\n",
      "True\n",
      "False\n"
     ]
    }
   ],
   "source": [
    "def is_pallindrome(string):\n",
    "    string = string.lower()\n",
    "    if len(string)>1:\n",
    "        if string[0] == string[len(string)-1]:\n",
    "            string = string[1:len(string)-1]\n",
    "            return True\n",
    "        if string[0] != string[len(string)-1]:\n",
    "            return False\n",
    "    return is_pallindrome(string)\n",
    "            \n",
    "    \n",
    "#     print first, last, middle\n",
    "    \n",
    "print is_pallindrome(\"pallindrome\")\n",
    "print is_pallindrome(\"Noon\")\n",
    "print is_pallindrome(\"redivider\")\n",
    "print is_pallindrome(\"hello\")"
   ]
  },
  {
   "cell_type": "code",
   "execution_count": null,
   "metadata": {
    "collapsed": true
   },
   "outputs": [],
   "source": [
    "string = ''\n"
   ]
  },
  {
   "cell_type": "code",
   "execution_count": 4,
   "metadata": {
    "collapsed": false,
    "solution": "Exercise 6.6"
   },
   "outputs": [
    {
     "data": {
      "text/plain": [
       "TestResults(failed=0, attempted=4)"
      ]
     },
     "execution_count": 4,
     "metadata": {},
     "output_type": "execute_result"
    }
   ],
   "source": [
    "def is_palindrome(s):\n",
    "    \"\"\"\n",
    "    >>> is_palindrome(\"Go hand a salami Im a lasagna hog\") # even palindrome\n",
    "    True\n",
    "    >>> is_palindrome(\"Ah Satan sees Natasha\")\n",
    "    True\n",
    "    >>> is_palindrome(\"No melons no lemon\") # odd palindrome\n",
    "    True\n",
    "    >>> is_palindrome(\"Now I see bees I lost\") # not a palindrome\n",
    "    False\n",
    "    \"\"\"\n",
    "    \n",
    "    s = s.strip().lower()\n",
    "    if len(s) <= 1:\n",
    "        return True\n",
    "    if s[0] == s[len(s)-1]:\n",
    "        return is_palindrome(s[1::len(s)-1])\n",
    "    else:\n",
    "        return False\n",
    "\n",
    "\n",
    "import doctest\n",
    "doctest.testmod()"
   ]
  },
  {
   "cell_type": "code",
   "execution_count": 19,
   "metadata": {
    "collapsed": false,
    "solution": "Exercise 6.6"
   },
   "outputs": [
    {
     "data": {
      "text/plain": [
       "True"
      ]
     },
     "execution_count": 19,
     "metadata": {},
     "output_type": "execute_result"
    }
   ],
   "source": [
    "def is_palindrome(word):\n",
    "    forward = word\n",
    "    backward = word[::-1]\n",
    "    if forward == backward:\n",
    "        return True\n",
    "    return False\n",
    "\n",
    "is_palindrome(\"racecar\")\n",
    "#is_palindrome(\"papyrus\")"
   ]
  },
  {
   "cell_type": "code",
   "execution_count": 27,
   "metadata": {
    "collapsed": false,
    "solution": "Exercise 6.6"
   },
   "outputs": [
    {
     "data": {
      "text/plain": [
       "True"
      ]
     },
     "execution_count": 27,
     "metadata": {},
     "output_type": "execute_result"
    }
   ],
   "source": [
    "def first(word):\n",
    "    return word[0]\n",
    "\n",
    "def last(word):\n",
    "    return word[-1]\n",
    "\n",
    "def middle(word):\n",
    "    return word[1:-1]\n",
    "\n",
    "def palindrome(a):\n",
    "    \"\"\"\n",
    "    Returns Boolean assignment True or False to determine if word is palindrome.\n",
    "    \n",
    "    >>> palindrome('DogGOD')\n",
    "    True\n",
    "    >>> palindrome('RACE car')\n",
    "    True\n",
    "    >>> palindrome('allen')\n",
    "    False\n",
    "    >>> palindrome('PAul ruvOLo')\n",
    "    False\n",
    "    >>> palindrome('stanley YELnats')\n",
    "    True\n",
    "    \"\"\"\n",
    "    a = a.lower() #converts all characters in a to lowercase\n",
    "    a = a.rstrip() #strips all spaces from a\n",
    "    if len(a) <= 1:\n",
    "        return True\n",
    "    elif first(a) != last(a):\n",
    "        return False\n",
    "    return palindrome(middle(a))\n",
    "\n",
    "if __name__ == \"__main__\":\n",
    "    import doctest\n",
    "    doctest.testmod()\n",
    "#what do you know, it works\n",
    "#fun with palindromes\n",
    "palindrome('Borrow or Rob') #a moral dilemma\n",
    "palindrome('Murder for a jar of red rum') #creepiest childhood game\n",
    "palindrome('Yo Banana Boy') #it's Gabe\n",
    "palindrome('satan oscillate my metallic sonatas') #that's unfortunate\n",
    "palindrome('SolO GIGOLOS') #I am having altogether to much fun with this\n",
    "palindrome('dammit Im mad')#lol not really but I bet whoever's reading this is"
   ]
  },
  {
   "cell_type": "markdown",
   "metadata": {},
   "source": [
    "Recursive functions must have one or more base cases that end the execution of the loop."
   ]
  },
  {
   "cell_type": "code",
   "execution_count": 57,
   "metadata": {
    "collapsed": false,
    "solution": "Exercise 6.6"
   },
   "outputs": [
    {
     "data": {
      "text/plain": [
       "True"
      ]
     },
     "execution_count": 57,
     "metadata": {},
     "output_type": "execute_result"
    }
   ],
   "source": [
    "def is_palindrome_nr(word): #non-recursive version... \n",
    "    if word == word[::-1]:\n",
    "        return True\n",
    "    return False\n",
    "\n",
    "def is_palindrome(word):\n",
    "    \n",
    "    if len(word) in [1,0]:\n",
    "        return True\n",
    "    \n",
    "    elif word[0] == word[len(word)-1]:\n",
    "        return is_palindrome(word[1:len(word)-1])\n",
    "    \n",
    "    else:\n",
    "        return False\n",
    "\n",
    "is_palindrome('racecar') #True\n",
    "#is_palindrome('1234321') #True\n",
    "#is_palindrome('tan nat') #True\n",
    "#is_palindrome('Racecar') #False (do we need to worry about case?)\n",
    "#is_palindrome('palindrome') #False"
   ]
  },
  {
   "cell_type": "code",
   "execution_count": 17,
   "metadata": {
    "collapsed": false,
    "solution": "Exercise 6.6"
   },
   "outputs": [
    {
     "name": "stdout",
     "output_type": "stream",
     "text": [
      "False\n",
      "True\n"
     ]
    }
   ],
   "source": [
    "def is_palindrome(word):\n",
    "    \"\"\" Uses recursion to check if a word is a palindrome\n",
    "    >>> is_palindrome('noon')\n",
    "    True\n",
    "    >>> is_palindrome('never')\n",
    "    False\n",
    "    \"\"\"\n",
    "    word = word.lower()\n",
    "    if len(word) > 1:\n",
    "        if word[0] == word[-1] and is_palindrome(middle(word)):\n",
    "            return True\n",
    "        else:\n",
    "            return False\n",
    "    else:\n",
    "        return True\n",
    "        \n",
    "def middle(word):\n",
    "    return word[1:-1]\n",
    "\n",
    "import doctest\n",
    "doctest.testmod()\n",
    "\n",
    "print is_palindrome('why this')\n",
    "print is_palindrome('yay')"
   ]
  },
  {
   "cell_type": "code",
   "execution_count": 56,
   "metadata": {
    "collapsed": false,
    "solution": "Exercise 6.6"
   },
   "outputs": [],
   "source": [
    "def first(word):\n",
    "    return word[0]\n",
    "\n",
    "def last(word):\n",
    "    return word[-1]\n",
    "\n",
    "def middle(word):\n",
    "    return word[1:-1]\n",
    "\n",
    "def is_palindrome(word):\n",
    "    if len(word) == 0:\n",
    "        return True\n",
    "    elif first(word) == last(word):\n",
    "        return is_palindrome(middle(word))\n",
    "    else:\n",
    "        return False\n",
    "    \n",
    "#is_palindrome('banana')\n",
    "#is_palindrome('baab')\n",
    "    \n",
    "\"\"\"\n",
    ">>> is_palindrome('b')\n",
    "True\n",
    ">>> is_palindrome('ba')\n",
    "False\n",
    "\"\"\"\n",
    "\n",
    "if __name__ == \"__main__\":\n",
    "    import doctest\n",
    "    doctest.testmod()"
   ]
  },
  {
   "cell_type": "code",
   "execution_count": 25,
   "metadata": {
    "collapsed": false,
    "solution": "Exercise 6.6"
   },
   "outputs": [
    {
     "name": "stdout",
     "output_type": "stream",
     "text": [
      "True\n",
      "False\n",
      "Trying:\n",
      "    is_palindrome('redivider')\n",
      "Expecting:\n",
      "    True\n",
      "ok\n",
      "Trying:\n",
      "    is_palindrome('banana')\n",
      "Expecting:\n",
      "    False\n",
      "ok\n",
      "Trying:\n",
      "    is_palindrome(' ')\n",
      "Expecting:\n",
      "    True\n",
      "ok\n",
      "7 items had no tests:\n",
      "    __main__.a\n",
      "    __main__.b\n",
      "    __main__.c\n",
      "    __main__.first\n",
      "    __main__.is_palindrome\n",
      "    __main__.last\n",
      "    __main__.middle\n",
      "1 items passed all tests:\n",
      "   3 tests in __main__\n",
      "3 tests in 8 items.\n",
      "3 passed and 0 failed.\n",
      "Test passed.\n"
     ]
    },
    {
     "data": {
      "text/plain": [
       "TestResults(failed=0, attempted=3)"
      ]
     },
     "execution_count": 25,
     "metadata": {},
     "output_type": "execute_result"
    }
   ],
   "source": [
    "'''returns the first letter of a word\n",
    "\n",
    ">>> first('ariana')\n",
    "'a'\n",
    "\n",
    "'''\n",
    "def first(word):\n",
    "    return word[0]\n",
    "'''returns the last letter of a word\n",
    "\n",
    ">>> last('ariana')\n",
    "'a'\n",
    "\n",
    "'''\n",
    "def last(word):\n",
    "    return word[-1]\n",
    "'''returns the word with the first and last letters removed\n",
    "\n",
    ">>> middle('ariana')\n",
    "'rian'\n",
    "\n",
    "'''\n",
    "def middle(word):\n",
    "    return word[1:-1]\n",
    "'''checks recursively if a word is a palindrome\n",
    "\n",
    ">>> is_palindrome('redivider')\n",
    "True\n",
    ">>> is_palindrome('banana')\n",
    "False\n",
    ">>> is_palindrome('')\n",
    "True\n",
    "\n",
    "\n",
    "'''\n",
    "def is_palindrome(word):\n",
    "    if len(word) == 0:\n",
    "        return True\n",
    "    else:\n",
    "        if last(word) == first(word):\n",
    "            #slices the forst and last letters off the word and checks if that's a palindrome\n",
    "            return is_palindrome(middle(word)) \n",
    "        else: \n",
    "            return False\n",
    "is_palindrome('apple')\n",
    "\n",
    "print is_palindrome('redivider')\n",
    "print is_palindrome('banana')\n",
    "import doctest\n",
    "doctest.testmod(verbose = True)"
   ]
  },
  {
   "cell_type": "code",
   "execution_count": null,
   "metadata": {
    "collapsed": true,
    "solution": "Exercise 6.6"
   },
   "outputs": [],
   "source": [
    "def is_palindrome(astring):\n",
    "    if len(astring) > 2:\n",
    "        if astring[::-1] == astring:\n",
    "            return True\n",
    "        else:\n",
    "            return False\n",
    "    else:\n",
    "        return \"A palindrome needs to be at least 3 letters long. Try again.\"\n",
    "\n",
    "print is_palindrome(\"aa\")\n",
    "print is_palindrome(\"redivider\")\n",
    "print is_palindrome(\"octopus\")"
   ]
  },
  {
   "cell_type": "code",
   "execution_count": 1,
   "metadata": {
    "collapsed": false,
    "solution": "Exercise 6.6"
   },
   "outputs": [
    {
     "name": "stdout",
     "output_type": "stream",
     "text": [
      "Is a palindrome!\n",
      "Not a palindrome\n"
     ]
    }
   ],
   "source": [
    "def first(word):\n",
    "    return word[0]\n",
    "def last(word):\n",
    "    return word[-1]\n",
    "def middle(word):\n",
    "    return word[1:-1]\n",
    "def is_palindrome(word):\n",
    "    if first(word) != last(word):\n",
    "        return \"Not a palindrome\"\n",
    "    elif len(word)<3:\n",
    "        return \"Is a palindrome!\"\n",
    "    else:\n",
    "        return is_palindrome(middle(word))\n",
    "    print 'wat'\n",
    "print is_palindrome(\"amanaplanagodsnamtablesnitratetartinselbatmansdoganalpanama\")\n",
    "print is_palindrome('ugrugur')"
   ]
  },
  {
   "cell_type": "code",
   "execution_count": 32,
   "metadata": {
    "collapsed": false,
    "solution": "Exercise 6.6"
   },
   "outputs": [
    {
     "name": "stdout",
     "output_type": "stream",
     "text": [
      "False\n",
      "False\n",
      "True\n"
     ]
    }
   ],
   "source": [
    "def first(word):\n",
    "    return word[0]\n",
    "\n",
    "def last(word):\n",
    "    return word[-1]\n",
    "\n",
    "def middle(word):\n",
    "    return word[1:-1]\n",
    "\n",
    "\n",
    "def is_palindrome(s):\n",
    "    '''\n",
    "    Input string, outpur true/false\n",
    "    \n",
    "    >>>is_palindrome(racecar)\n",
    "    true\n",
    "    >>>is_palindrome(notpalindrome)\n",
    "    false\n",
    "    '''\n",
    "    word_length = len(s)/2 \n",
    "    for c in range(word_length):\n",
    "        if first(s) == last(s):\n",
    "            s = middle(s)\n",
    "        else:\n",
    "            return False\n",
    "    return True\n",
    "\n",
    "print is_palindrome('words')\n",
    "print is_palindrome('car')\n",
    "print is_palindrome('racecar')"
   ]
  },
  {
   "cell_type": "code",
   "execution_count": 54,
   "metadata": {
    "collapsed": false,
    "solution": "Exercise 6.6"
   },
   "outputs": [
    {
     "name": "stdout",
     "output_type": "stream",
     "text": [
      "False\n"
     ]
    }
   ],
   "source": [
    "\"\"\"\n",
    ">>>is_palindrome('ABCBA')\n",
    "True\n",
    "\"\"\"\n",
    "def is_palindrome(val):\n",
    "    if(val[-1] != val[0]):\n",
    "        return False\n",
    "    elif(len(val) <= 3):\n",
    "        return True\n",
    "    else:\n",
    "        return is_palindrome(val[1:-1])\n",
    "        \n",
    "# import doctest\n",
    "# doctest.run_docstring_examples(is_palindrome, globals(),verbose=True)\n",
    "\n",
    "print(is_palindrome('BCBA'))"
   ]
  },
  {
   "cell_type": "code",
   "execution_count": 9,
   "metadata": {
    "collapsed": false,
    "solution": "Exercise 6.6"
   },
   "outputs": [
    {
     "name": "stdout",
     "output_type": "stream",
     "text": [
      "False\n"
     ]
    }
   ],
   "source": [
    "def is_palindrome(s):\n",
    "    if len(s)==1:\n",
    "        return True\n",
    "    elif s[0]==s[-1]:\n",
    "        if len(s)==2:\n",
    "            return True\n",
    "        else:\n",
    "            return is_palindrome(s[1:-1])\n",
    "    else:\n",
    "        return False \n",
    "\n",
    "print is_palindrome('rtcgcrtr')\n",
    "    "
   ]
  },
  {
   "cell_type": "code",
   "execution_count": 4,
   "metadata": {
    "collapsed": false,
    "solution": "Exercise 6.6"
   },
   "outputs": [],
   "source": [
    "def is_palindrome(word):\n",
    "    \"\"\" takes a word. Returns True if the word is a palindrome and \n",
    "        False otherwise\n",
    "        \n",
    "        >>> is_palindrome('blaha')\n",
    "        False\n",
    "        \n",
    "        >>> is_palindrome('redivider')\n",
    "        True\n",
    "    \n",
    "    \"\"\"\n",
    "    \n",
    "    return word == word[::-1]\n",
    "    \n",
    "import doctest\n",
    "doctest.run_docstring_examples(is_palindrome,globals())"
   ]
  },
  {
   "cell_type": "code",
   "execution_count": 5,
   "metadata": {
    "collapsed": false,
    "solution": "Exercise 6.6"
   },
   "outputs": [],
   "source": [
    "# string s1 is a palindrome if s1[0] == s1[-1] and s1[1:-1] is a palindrome\n",
    "\n",
    "def is_palindrome(s1):\n",
    "    \"\"\"\n",
    "        Takes in a string s1, returns True if s1 is a palindrome\n",
    "        Returns False if it isn't\n",
    "        \n",
    "    >>> is_palindrome('racecar')\n",
    "    True\n",
    "    >>> is_palindrome('john')\n",
    "    False\n",
    "    \"\"\"\n",
    "    if len(s1) < 3:\n",
    "        return s1[0] == s1[-1]\n",
    "    else:\n",
    "        return is_palindrome(s1[1:-1])\n",
    "\n",
    "import doctest\n",
    "doctest.run_docstring_examples(is_palindrome, globals())"
   ]
  },
  {
   "cell_type": "code",
   "execution_count": 39,
   "metadata": {
    "collapsed": false,
    "solution": "Exercise 6.6"
   },
   "outputs": [
    {
     "name": "stdout",
     "output_type": "stream",
     "text": [
      "Finding tests in NoName\n",
      "Trying:\n",
      "    is_palindrome(\"cavbac\")\n",
      "Expecting:\n",
      "    False\n",
      "ok\n",
      "Trying:\n",
      "    is_palindrome(\"noon\")\n",
      "Expecting:\n",
      "    True\n",
      "ok\n",
      "Trying:\n",
      "    is_palindrome(\"redivider\")\n",
      "Expecting:\n",
      "    True\n",
      "ok\n",
      "Trying:\n",
      "    is_palindrome(\"livevil\")\n",
      "Expecting:\n",
      "    True\n",
      "ok\n",
      "Trying:\n",
      "    is_palindrome(\"chicken\")\n",
      "Expecting:\n",
      "    False\n",
      "ok\n"
     ]
    }
   ],
   "source": [
    "import doctest\n",
    "\n",
    "def is_palindrome(word):\n",
    "    \"\"\"\n",
    "    This function will take in a string and then determine whether it\n",
    "    is a palindrome by checking the first and last letters, and then\n",
    "    recursively checking the middle letters.\n",
    "    \n",
    "    Testing to make sure it hits all the way to the innermost letters, as well as\n",
    "    simple cases for robustness.\n",
    "    \n",
    "    >>> is_palindrome(\"cavbac\")\n",
    "    False\n",
    "    >>> is_palindrome(\"noon\")\n",
    "    True\n",
    "    >>> is_palindrome(\"redivider\")\n",
    "    True\n",
    "    >>> is_palindrome(\"livevil\")\n",
    "    True\n",
    "    >>> is_palindrome(\"chicken\")\n",
    "    False\n",
    "    \"\"\"\n",
    "    if len(word) < 2:\n",
    "        return True\n",
    "    elif word[0] != word[-1]:\n",
    "        return False\n",
    "    else:\n",
    "        return is_palindrome(word[1:-1])\n",
    "        \n",
    "    \n",
    "doctest.run_docstring_examples(is_palindrome, globals(),verbose=True)   "
   ]
  },
  {
   "cell_type": "markdown",
   "metadata": {
    "is_question": true,
    "problem": "Exercise 6.6 challenge"
   },
   "source": [
    "### Challenge (optional)\n",
    "\n",
    "Use the word list from [Chapter 9.1](http://www.greenteapress.com/thinkpython/html/thinkpython010.html) Exercise 1 to find all of the palindromes."
   ]
  },
  {
   "cell_type": "code",
   "execution_count": 7,
   "metadata": {
    "collapsed": false,
    "solution": "Exercise 6.6 challenge"
   },
   "outputs": [
    {
     "ename": "IOError",
     "evalue": "[Errno 2] No such file or directory: 'words.txt'",
     "output_type": "error",
     "traceback": [
      "\u001b[1;31m---------------------------------------------------------------------------\u001b[0m",
      "\u001b[1;31mIOError\u001b[0m                                   Traceback (most recent call last)",
      "\u001b[1;32m<ipython-input-7-a0cfc770912d>\u001b[0m in \u001b[0;36m<module>\u001b[1;34m()\u001b[0m\n\u001b[1;32m----> 1\u001b[1;33m \u001b[0mfin\u001b[0m \u001b[1;33m=\u001b[0m \u001b[0mopen\u001b[0m\u001b[1;33m(\u001b[0m\u001b[1;34m'words.txt'\u001b[0m\u001b[1;33m)\u001b[0m\u001b[1;33m\u001b[0m\u001b[0m\n\u001b[0m\u001b[0;32m      2\u001b[0m \u001b[1;33m\u001b[0m\u001b[0m\n\u001b[0;32m      3\u001b[0m \u001b[1;32mdef\u001b[0m \u001b[0mfind_all_palindromes\u001b[0m\u001b[1;33m(\u001b[0m\u001b[1;33m)\u001b[0m\u001b[1;33m:\u001b[0m\u001b[1;33m\u001b[0m\u001b[0m\n\u001b[0;32m      4\u001b[0m     \u001b[0mpalindromes_list\u001b[0m \u001b[1;33m=\u001b[0m \u001b[1;33m[\u001b[0m\u001b[1;33m]\u001b[0m\u001b[1;33m\u001b[0m\u001b[0m\n\u001b[0;32m      5\u001b[0m     \u001b[1;32mfor\u001b[0m \u001b[0mline\u001b[0m \u001b[1;32min\u001b[0m \u001b[0mfin\u001b[0m\u001b[1;33m:\u001b[0m\u001b[1;33m\u001b[0m\u001b[0m\n",
      "\u001b[1;31mIOError\u001b[0m: [Errno 2] No such file or directory: 'words.txt'"
     ]
    }
   ],
   "source": [
    "fin = open('words.txt')\n",
    "\n",
    "def find_all_palindromes():\n",
    "    palindromes_list = []\n",
    "    for line in fin:\n",
    "        word = line.strip()\n",
    "        if palindrome(word):\n",
    "            palindromes_list.append(word)\n",
    "    return palindromes_list\n",
    "\n",
    "print find_all_palindromes"
   ]
  },
  {
   "cell_type": "code",
   "execution_count": 8,
   "metadata": {
    "collapsed": false,
    "solution": "Exercise 6.6 challenge"
   },
   "outputs": [
    {
     "ename": "IOError",
     "evalue": "[Errno 2] No such file or directory: 'words.txt'",
     "output_type": "error",
     "traceback": [
      "\u001b[1;31m---------------------------------------------------------------------------\u001b[0m",
      "\u001b[1;31mIOError\u001b[0m                                   Traceback (most recent call last)",
      "\u001b[1;32m<ipython-input-8-6eb35ce0d343>\u001b[0m in \u001b[0;36m<module>\u001b[1;34m()\u001b[0m\n\u001b[1;32m----> 1\u001b[1;33m \u001b[0mfil\u001b[0m \u001b[1;33m=\u001b[0m \u001b[0mopen\u001b[0m\u001b[1;33m(\u001b[0m\u001b[1;34m\"words.txt\"\u001b[0m\u001b[1;33m)\u001b[0m\u001b[1;33m\u001b[0m\u001b[0m\n\u001b[0m\u001b[0;32m      2\u001b[0m \u001b[1;32mfor\u001b[0m \u001b[0mword\u001b[0m \u001b[1;32min\u001b[0m \u001b[0mfil\u001b[0m\u001b[1;33m:\u001b[0m\u001b[1;33m\u001b[0m\u001b[0m\n\u001b[0;32m      3\u001b[0m     \u001b[1;32mif\u001b[0m \u001b[0mis_palindrome\u001b[0m\u001b[1;33m(\u001b[0m\u001b[0mword\u001b[0m\u001b[1;33m)\u001b[0m\u001b[1;33m:\u001b[0m\u001b[1;33m\u001b[0m\u001b[0m\n\u001b[0;32m      4\u001b[0m         \u001b[1;32mprint\u001b[0m \u001b[0mword\u001b[0m\u001b[1;33m\u001b[0m\u001b[0m\n",
      "\u001b[1;31mIOError\u001b[0m: [Errno 2] No such file or directory: 'words.txt'"
     ]
    }
   ],
   "source": [
    "fil = open(\"words.txt\") # how do I import text files?\n",
    "for word in fil:\n",
    "    if is_palindrome(word):\n",
    "        print word"
   ]
  },
  {
   "cell_type": "code",
   "execution_count": 8,
   "metadata": {
    "collapsed": false,
    "solution": "Exercise 6.6 challenge"
   },
   "outputs": [
    {
     "name": "stdout",
     "output_type": "stream",
     "text": [
      "['racecar', 'hoioh']\n"
     ]
    }
   ],
   "source": [
    "#Having trouble finding a downloadable copy of the text file...\n",
    "#This is what I'd probably do, though.\n",
    "\"\"\"\n",
    "def is_palindrome(word):\n",
    "    forward = word\n",
    "    backward = word[::-1]\n",
    "    if forward == backward:\n",
    "        return True\n",
    "    return False\n",
    "    \n",
    "def find_palindromes():\n",
    "    palindrome_list = []\n",
    "    #fin = (['blue', 'racecar', 'sushi', 'hoioh'])\n",
    "    fin = open('words.txt')\n",
    "    for line in fin:\n",
    "        word = line.strip()\n",
    "        if is_palindrome(word):\n",
    "            palindrome_list.append(word)\n",
    "    return palindrome_list      \n",
    "\n",
    "print find_palindromes()\n",
    "\"\"\""
   ]
  },
  {
   "cell_type": "code",
   "execution_count": 10,
   "metadata": {
    "collapsed": false,
    "solution": "Exercise 6.6 challenge"
   },
   "outputs": [
    {
     "ename": "IOError",
     "evalue": "[Errno 2] No such file or directory: 'words.txt'",
     "output_type": "error",
     "traceback": [
      "\u001b[1;31m---------------------------------------------------------------------------\u001b[0m",
      "\u001b[1;31mIOError\u001b[0m                                   Traceback (most recent call last)",
      "\u001b[1;32m<ipython-input-10-ef0245c035f3>\u001b[0m in \u001b[0;36m<module>\u001b[1;34m()\u001b[0m\n\u001b[0;32m      6\u001b[0m             \u001b[1;32mprint\u001b[0m \u001b[0mword\u001b[0m\u001b[1;33m\u001b[0m\u001b[0m\n\u001b[0;32m      7\u001b[0m \u001b[1;33m\u001b[0m\u001b[0m\n\u001b[1;32m----> 8\u001b[1;33m \u001b[0mfind_all_palindromes\u001b[0m\u001b[1;33m(\u001b[0m\u001b[1;33m)\u001b[0m\u001b[1;33m\u001b[0m\u001b[0m\n\u001b[0m",
      "\u001b[1;32m<ipython-input-10-ef0245c035f3>\u001b[0m in \u001b[0;36mfind_all_palindromes\u001b[1;34m()\u001b[0m\n\u001b[0;32m      1\u001b[0m \u001b[1;32mdef\u001b[0m \u001b[0mfind_all_palindromes\u001b[0m\u001b[1;33m(\u001b[0m\u001b[1;33m)\u001b[0m\u001b[1;33m:\u001b[0m\u001b[1;33m\u001b[0m\u001b[0m\n\u001b[1;32m----> 2\u001b[1;33m     \u001b[0mfin\u001b[0m \u001b[1;33m=\u001b[0m \u001b[0mopen\u001b[0m\u001b[1;33m(\u001b[0m\u001b[1;34m'words.txt'\u001b[0m\u001b[1;33m)\u001b[0m\u001b[1;33m\u001b[0m\u001b[0m\n\u001b[0m\u001b[0;32m      3\u001b[0m     \u001b[1;32mfor\u001b[0m \u001b[0mline\u001b[0m \u001b[1;32min\u001b[0m \u001b[0mfin\u001b[0m\u001b[1;33m:\u001b[0m\u001b[1;33m\u001b[0m\u001b[0m\n\u001b[0;32m      4\u001b[0m         \u001b[0mword\u001b[0m \u001b[1;33m=\u001b[0m \u001b[0mline\u001b[0m\u001b[1;33m.\u001b[0m\u001b[0mstrip\u001b[0m\u001b[1;33m(\u001b[0m\u001b[1;33m)\u001b[0m\u001b[1;33m\u001b[0m\u001b[0m\n\u001b[0;32m      5\u001b[0m         \u001b[1;32mif\u001b[0m \u001b[1;33m(\u001b[0m\u001b[0mis_palindrome\u001b[0m\u001b[1;33m(\u001b[0m\u001b[0mword\u001b[0m\u001b[1;33m)\u001b[0m\u001b[1;33m)\u001b[0m\u001b[1;33m:\u001b[0m\u001b[1;33m\u001b[0m\u001b[0m\n",
      "\u001b[1;31mIOError\u001b[0m: [Errno 2] No such file or directory: 'words.txt'"
     ]
    }
   ],
   "source": [
    "def find_all_palindromes():\n",
    "    fin = open('words.txt')\n",
    "    for line in fin:\n",
    "        word = line.strip()\n",
    "        if (is_palindrome(word)):\n",
    "            print word\n",
    "            \n",
    "find_all_palindromes()"
   ]
  },
  {
   "cell_type": "code",
   "execution_count": 19,
   "metadata": {
    "collapsed": false,
    "solution": "Exercise 6.6 challenge"
   },
   "outputs": [
    {
     "name": "stdout",
     "output_type": "stream",
     "text": [
      "['aa', 'aba', 'aga', 'aha', 'ala', 'alula', 'ama', 'ana', 'anna', 'ava', 'awa', 'bib', 'bob', 'boob', 'bub', 'civic', 'dad', 'deed', 'deified', 'deked', 'deled', 'denned', 'dewed', 'did', 'dud', 'eke', 'eme', 'ere', 'eve', 'ewe', 'eye', 'gag', 'gig', 'hah', 'halalah', 'hallah', 'huh', 'kaiak', 'kayak', 'keek', 'kook', 'level', 'madam', 'marram', 'mem', 'mim', 'minim', 'mom', 'mum', 'noon', 'nun', 'oho', 'otto', 'pap', 'peep', 'pep', 'pip', 'poop', 'pop', 'pup', 'radar', 'redder', 'refer', 'reifier', 'repaper', 'reviver', 'rotator', 'rotor', 'sagas', 'sees', 'selles', 'sememes', 'semes', 'seres', 'sexes', 'shahs', 'sis', 'solos', 'sos', 'stets', 'tat', 'tenet', 'terret', 'tit', 'toot', 'tot', 'tut', 'vav', 'waw', 'wow', 'yay']\n"
     ]
    }
   ],
   "source": [
    "def word_list_palindromes():\n",
    "    palindrome_list = []\n",
    "    fin = open('words.txt')\n",
    "    for line in fin:\n",
    "        word = line.strip()\n",
    "        if is_palindrome(word):\n",
    "            palindrome_list.append(word)\n",
    "    return palindrome_list\n",
    "\n",
    "print word_list_palindromes()"
   ]
  },
  {
   "cell_type": "code",
   "execution_count": 46,
   "metadata": {
    "collapsed": false,
    "solution": "Exercise 6.6 challenge"
   },
   "outputs": [
    {
     "data": {
      "text/plain": [
       "2"
      ]
     },
     "execution_count": 46,
     "metadata": {},
     "output_type": "execute_result"
    }
   ],
   "source": [
    "def palindrome_count(words):\n",
    "    count = 0\n",
    "    for i in words:\n",
    "        if is_palindrome(i) == True:\n",
    "            count += 1\n",
    "    return count\n",
    "\n",
    "palindrome_count(['bob','cat','bananab', 'tree', 'eye'])\n",
    "\n",
    "#I don't want to deal with a list that has 113,000 words, but I think \n",
    "#successfully testing it with a shorter list suggests it would work with\n",
    "#a longer one"
   ]
  },
  {
   "cell_type": "code",
   "execution_count": 35,
   "metadata": {
    "collapsed": false,
    "solution": "Exercise 6.6 challenge"
   },
   "outputs": [],
   "source": [
    "#I can't figure out how to access the words list from the notebook\n"
   ]
  },
  {
   "cell_type": "code",
   "execution_count": 5,
   "metadata": {
    "collapsed": false,
    "solution": "Exercise 6.6 challenge"
   },
   "outputs": [
    {
     "name": "stdout",
     "output_type": "stream",
     "text": [
      "['aa', 'aba', 'aga', 'aha', 'ala', 'alula', 'ama', 'ana', 'anna', 'ava', 'awa', 'bib', 'bob', 'boob', 'bub', 'civic', 'dad', 'deed', 'deified', 'deked', 'deled', 'denned', 'dewed', 'did', 'dud', 'eke', 'eme', 'ere', 'eve', 'ewe', 'eye', 'gag', 'gig', 'hah', 'halalah', 'hallah', 'huh', 'kaiak', 'kayak', 'keek', 'kook', 'level', 'madam', 'marram', 'mem', 'mim', 'minim', 'mom', 'mum', 'noon', 'nun', 'oho', 'otto', 'pap', 'peep', 'pep', 'pip', 'poop', 'pop', 'pup', 'radar', 'redder', 'refer', 'reifier', 'repaper', 'reviver', 'rotator', 'rotor', 'sagas', 'sees', 'selles', 'sememes', 'semes', 'seres', 'sexes', 'shahs', 'sis', 'solos', 'sos', 'stets', 'tat', 'tenet', 'terret', 'tit', 'toot', 'tot', 'tut', 'vav', 'waw', 'wow', 'yay']\n"
     ]
    }
   ],
   "source": [
    "def first(word):\n",
    "    return word[0]\n",
    "def last(word):\n",
    "    return word[-1]\n",
    "def middle(word):\n",
    "    return word[1:-1]\n",
    "def is_palindrome(word):\n",
    "    if first(word) != last(word):\n",
    "        return False\n",
    "    elif len(word)<3:\n",
    "        return True\n",
    "    else:\n",
    "        return is_palindrome(middle(word))\n",
    "    print 'wat'\n",
    "words_file = open('words.txt')\n",
    "is_palindrome('mumum')\n",
    "palindromes = []\n",
    "for word in words_file:\n",
    "    if is_palindrome(word.strip()):\n",
    "        palindromes.append(word.strip())\n",
    "print palindromes"
   ]
  },
  {
   "cell_type": "code",
   "execution_count": 55,
   "metadata": {
    "collapsed": false,
    "solution": "Exercise 6.6 challenge"
   },
   "outputs": [
    {
     "name": "stdout",
     "output_type": "stream",
     "text": [
      "['aa', 'aba', 'aga', 'aha', 'ala', 'alula', 'ama', 'ana', 'anna', 'ava', 'awa', 'bib', 'bob', 'boob', 'bub', 'civic', 'dad', 'deed', 'deified', 'deked', 'deled', 'denned', 'dewed', 'did', 'dud', 'eke', 'eme', 'ere', 'eve', 'ewe', 'eye', 'gag', 'gig', 'hah', 'halalah', 'hallah', 'huh', 'kaiak', 'kayak', 'keek', 'kook', 'level', 'madam', 'marram', 'mem', 'mim', 'minim', 'mom', 'mum', 'noon', 'nun', 'oho', 'otto', 'pap', 'peep', 'pep', 'pip', 'poop', 'pop', 'pup', 'radar', 'redder', 'refer', 'reifier', 'repaper', 'reviver', 'rotator', 'rotor', 'sagas', 'sees', 'selles', 'sememes', 'semes', 'seres', 'sexes', 'shahs', 'sis', 'solos', 'sos', 'stets', 'tat', 'tenet', 'terret', 'tit', 'toot', 'tot', 'tut', 'vav', 'waw', 'wow', 'yay']\n"
     ]
    }
   ],
   "source": [
    "ls = []\n",
    "text = open('words.txt')\n",
    "for line in text:\n",
    "    word = line.strip()\n",
    "    if is_palindrome(word):\n",
    "        ls.append(word)\n",
    "        \n",
    "print ls"
   ]
  },
  {
   "cell_type": "markdown",
   "metadata": {
    "collapsed": true,
    "solution": "Exercise 6.6 challenge"
   },
   "source": [
    "List of palindromes from local script: \n",
    "['aa', 'aba', 'aga', 'aha', 'ala', 'alula', 'ama', 'ana', 'anna', 'ava', 'awa', 'bib', 'bob', 'boob', 'bub', 'civic', 'dad', 'deed', 'deified', 'deked', 'deled', 'denned', 'dewed', 'did', 'dud', 'eke', 'eme', 'ere', 'eve', 'ewe', 'eye', 'gag', 'gig', 'hah', 'halalah', 'hallah', 'huh', 'kaiak', 'kayak', 'keek', 'kook', 'level', 'madam', 'marram', 'mem', 'mim', 'minim', 'mom', 'mum', 'noon', 'nun', 'oho', 'otto', 'pap', 'peep', 'pep', 'pip', 'poop', 'pop', 'pup', 'radar', 'redder', 'refer', 'reifier', 'repaper', 'reviver', 'rotator', 'rotor', 'sagas', 'sees', 'selles', 'sememes', 'semes', 'seres', 'sexes', 'shahs', 'sis', 'solos', 'sos', 'stets', 'tat', 'tenet', 'terret', 'tit', 'toot', 'tot', 'tut', 'vav', 'waw', 'wow', 'yay']"
   ]
  },
  {
   "cell_type": "code",
   "execution_count": 30,
   "metadata": {
    "collapsed": false,
    "solution": "Exercise 6.6 challenge"
   },
   "outputs": [
    {
     "name": "stdout",
     "output_type": "stream",
     "text": [
      "['aa', 'aba', 'aga', 'aha', 'ala', 'alula', 'ama', 'ana', 'anna', 'ava', 'awa', 'bib', 'bob', 'boob', 'bub', 'civic', 'dad', 'deed', 'deified', 'deked', 'deled', 'denned', 'dewed', 'did', 'dud', 'eke', 'eme', 'ere', 'eve', 'ewe', 'eye', 'gag', 'gig', 'hah', 'halalah', 'hallah', 'huh', 'kaiak', 'kayak', 'keek', 'kook', 'level', 'madam', 'marram', 'mem', 'mim', 'minim', 'mom', 'mum', 'noon', 'nun', 'oho', 'otto', 'pap', 'peep', 'pep', 'pip', 'poop', 'pop', 'pup', 'radar', 'redder', 'refer', 'reifier', 'repaper', 'reviver', 'rotator', 'rotor', 'sagas', 'sees', 'selles', 'sememes', 'semes', 'seres', 'sexes', 'shahs', 'sis', 'solos', 'sos', 'stets', 'tat', 'tenet', 'terret', 'tit', 'toot', 'tot', 'tut', 'vav', 'waw', 'wow', 'yay']\n"
     ]
    }
   ],
   "source": [
    "fin = open('words.txt')\n",
    "all_palindromes = []\n",
    "for line in fin:\n",
    "    word = line.strip()\n",
    "    if is_palindrome(word):\n",
    "        all_palindromes.append(word)\n",
    "print all_palindromes        "
   ]
  },
  {
   "cell_type": "markdown",
   "metadata": {
    "is_question": true,
    "problem": "Exercise 6.7"
   },
   "source": [
    "### Exercise 7  \n",
    "\n",
    "A number `a` is a power of `b` if it is divisible by `b` and `a/b` is a power of `b`. Write a function called `is_power` that takes parameters `a` and `b` and returns `True` if `a` is a power of `b`. Note: you will have to think about the base case."
   ]
  },
  {
   "cell_type": "code",
   "execution_count": 1,
   "metadata": {
    "collapsed": false,
    "solution": "Exercise 6.7"
   },
   "outputs": [
    {
     "data": {
      "text/plain": [
       "True"
      ]
     },
     "execution_count": 1,
     "metadata": {},
     "output_type": "execute_result"
    }
   ],
   "source": [
    "def is_power (a, b):\n",
    "    if a < b:\n",
    "        return False\n",
    "    elif a < 0 or b < 0:\n",
    "        return False\n",
    "    elif a == b:\n",
    "        return True\n",
    "    else:\n",
    "        return is_power (a/b, b)\n",
    "    \n",
    "is_power(27, 3)"
   ]
  },
  {
   "cell_type": "code",
   "execution_count": 39,
   "metadata": {
    "collapsed": false,
    "solution": "Exercise 6.7"
   },
   "outputs": [
    {
     "name": "stdout",
     "output_type": "stream",
     "text": [
      "True\n",
      "False\n",
      "True\n"
     ]
    }
   ],
   "source": [
    "def is_power(a,b):\n",
    "    if a>b:\n",
    "        if a%b == 0:\n",
    "            return True\n",
    "        if a%b != 0:\n",
    "            return False\n",
    "    return is_power(a/b,b)\n",
    "\n",
    "\n",
    "print is_power(81,3)\n",
    "\n",
    "print is_power(5,2)\n",
    "\n",
    "print is_power(8,2)\n",
    "            \n",
    "    \n",
    "        \n",
    "        "
   ]
  },
  {
   "cell_type": "code",
   "execution_count": 5,
   "metadata": {
    "collapsed": false,
    "solution": "Exercise 6.7"
   },
   "outputs": [
    {
     "data": {
      "text/plain": [
       "True"
      ]
     },
     "execution_count": 5,
     "metadata": {},
     "output_type": "execute_result"
    }
   ],
   "source": [
    "def is_power(a,b):\n",
    "    if a is b:\n",
    "        return True\n",
    "    elif a%b == 0:\n",
    "        return is_power(a/b,b)\n",
    "    else:\n",
    "        return False\n",
    "\n",
    "is_power(27,3)"
   ]
  },
  {
   "cell_type": "code",
   "execution_count": 10,
   "metadata": {
    "collapsed": false,
    "solution": "Exercise 6.7"
   },
   "outputs": [
    {
     "data": {
      "text/plain": [
       "TestResults(failed=0, attempted=6)"
      ]
     },
     "execution_count": 10,
     "metadata": {},
     "output_type": "execute_result"
    }
   ],
   "source": [
    "def is_power(a,b):\n",
    "    \"\"\"\n",
    "    >>> is_power(4,2)\n",
    "    True\n",
    "    >>> is_power(3,2)\n",
    "    False\n",
    "    \"\"\"\n",
    "    if a == 1:\n",
    "        return True\n",
    "    return a%b == 0 and is_power(float(a)/b, b)\n",
    "\n",
    "\n",
    "doctest.testmod()"
   ]
  },
  {
   "cell_type": "code",
   "execution_count": 24,
   "metadata": {
    "collapsed": false,
    "solution": "Exercise 6.7"
   },
   "outputs": [
    {
     "data": {
      "text/plain": [
       "False"
      ]
     },
     "execution_count": 24,
     "metadata": {},
     "output_type": "execute_result"
    }
   ],
   "source": [
    "def is_power(a, b):\n",
    "    if a % b == 0:\n",
    "        if (a/b) % b == 0:\n",
    "            return True\n",
    "    return False\n",
    "#is_power(16,2)\n",
    "#is_power(9,3)\n",
    "is_power(16,3)"
   ]
  },
  {
   "cell_type": "code",
   "execution_count": 16,
   "metadata": {
    "collapsed": false,
    "solution": "Exercise 6.7"
   },
   "outputs": [
    {
     "data": {
      "text/plain": [
       "True"
      ]
     },
     "execution_count": 16,
     "metadata": {},
     "output_type": "execute_result"
    }
   ],
   "source": [
    "def is_power(a, b):\n",
    "    if a%b != 0:\n",
    "        return False\n",
    "    else:\n",
    "        return True\n",
    "    c = a/b\n",
    "    return is_power(c, b)\n",
    "\n",
    "    \n",
    "    \n",
    "is_power(9, 3)"
   ]
  },
  {
   "cell_type": "code",
   "execution_count": 17,
   "metadata": {
    "collapsed": false,
    "solution": "Exercise 6.7"
   },
   "outputs": [
    {
     "name": "stdout",
     "output_type": "stream",
     "text": [
      "False\n"
     ]
    }
   ],
   "source": [
    "def is_power(a, b):\n",
    "    a = a * 1.0\n",
    "    if (a / b == 1.0):\n",
    "        return True\n",
    "    elif (a / b < 1.0):\n",
    "        return False\n",
    "    else:\n",
    "        return is_power(a / b, b)\n",
    "    \n",
    "print is_power(342, 7)"
   ]
  },
  {
   "cell_type": "code",
   "execution_count": 34,
   "metadata": {
    "collapsed": false,
    "solution": "Exercise 6.7"
   },
   "outputs": [
    {
     "data": {
      "text/plain": [
       "False"
      ]
     },
     "execution_count": 34,
     "metadata": {},
     "output_type": "execute_result"
    }
   ],
   "source": [
    "def is_power(a, b):\n",
    "    \n",
    "    if a/b > b:\n",
    "        n = a/b\n",
    "        return is_power(n, b)\n",
    "        \n",
    "    elif a/b < b:\n",
    "        return False\n",
    "    \n",
    "    elif a/b == b:\n",
    "        return True\n",
    "        \n",
    "#is_power(27, 3) #True\n",
    "#is_power(5.0625, 1.5) #True\n",
    "#is_power(5, 25) #False (wrong order)\n",
    "is_power(116,2) #False (128 is True though!)"
   ]
  },
  {
   "cell_type": "code",
   "execution_count": 26,
   "metadata": {
    "collapsed": false,
    "solution": "Exercise 6.7"
   },
   "outputs": [
    {
     "data": {
      "text/plain": [
       "TestResults(failed=0, attempted=6)"
      ]
     },
     "execution_count": 26,
     "metadata": {},
     "output_type": "execute_result"
    }
   ],
   "source": [
    "def is_power(a,b):\n",
    "    \"\"\" Uses recursion to check if a is a power of b. a and b must be integers\n",
    "    >>> is_power(4,2)\n",
    "    True\n",
    "    >>> is_power(28,2)\n",
    "    False\n",
    "    >>> is_power(49,7)\n",
    "    True\n",
    "    >>> is_power(109,3)\n",
    "    False\n",
    "    \"\"\"\n",
    "    if a == b:\n",
    "        return True\n",
    "    elif a < b:\n",
    "        return False\n",
    "    elif a % b == 0 and is_power(a/b,b):\n",
    "        return True\n",
    "    else:\n",
    "        return False\n",
    "    \n",
    "doctest.testmod()"
   ]
  },
  {
   "cell_type": "code",
   "execution_count": 41,
   "metadata": {
    "collapsed": false,
    "solution": "Exercise 6.7"
   },
   "outputs": [
    {
     "data": {
      "text/plain": [
       "True"
      ]
     },
     "execution_count": 41,
     "metadata": {},
     "output_type": "execute_result"
    }
   ],
   "source": [
    "def is_power(a,b):\n",
    "    if a%b == 0:\n",
    "        if a == b:\n",
    "            return True\n",
    "        a = a/b\n",
    "        return is_power(a,b)\n",
    "    else:\n",
    "        return False\n",
    "    \n",
    "#is_power(17,2)\n",
    "is_power(16,16)"
   ]
  },
  {
   "cell_type": "code",
   "execution_count": 58,
   "metadata": {
    "collapsed": false,
    "solution": "Exercise 6.7"
   },
   "outputs": [
    {
     "name": "stdout",
     "output_type": "stream",
     "text": [
      "True\n",
      "Trying:\n",
      "    is_power(1, 7)\n",
      "Expecting:\n",
      "    True\n",
      "ok\n",
      "Trying:\n",
      "    is_power(2, 0)\n",
      "Expecting:\n",
      "    False\n",
      "ok\n",
      "Trying:\n",
      "    is_power(0,0)\n",
      "Expecting:\n",
      "    True\n",
      "ok\n",
      "Trying:\n",
      "    is_power(1, 0)\n",
      "Expecting:\n",
      "    True\n",
      "ok\n",
      "Trying:\n",
      "    is_power(32, 2)\n",
      "Expecting:\n",
      "    True\n",
      "ok\n",
      "Trying:\n",
      "    is_power(45, 3)\n",
      "Expecting:\n",
      "    False\n",
      "ok\n",
      "8 items had no tests:\n",
      "    __main__.a\n",
      "    __main__.b\n",
      "    __main__.c\n",
      "    __main__.first\n",
      "    __main__.is_palindrome\n",
      "    __main__.is_power\n",
      "    __main__.last\n",
      "    __main__.middle\n",
      "1 items passed all tests:\n",
      "   6 tests in __main__\n",
      "6 tests in 9 items.\n",
      "6 passed and 0 failed.\n",
      "Test passed.\n"
     ]
    },
    {
     "data": {
      "text/plain": [
       "TestResults(failed=0, attempted=6)"
      ]
     },
     "execution_count": 58,
     "metadata": {},
     "output_type": "execute_result"
    }
   ],
   "source": [
    "'''checks if a is a power of b\n",
    "\n",
    ">>> is_power(1, 7)\n",
    "True\n",
    ">>> is_power(2, 0)\n",
    "False\n",
    ">>> is_power(0,0)\n",
    "True\n",
    ">>> is_power(1, 0)\n",
    "True\n",
    ">>> is_power(32, 2)\n",
    "True\n",
    ">>> is_power(45, 3)\n",
    "False\n",
    "\n",
    "'''\n",
    "def is_power(a, b):\n",
    "    if a == 1:\n",
    "        #any number to the zeroth power is 1\n",
    "        return True\n",
    "    #because we can't divide by 0, need a special case\n",
    "    elif b == 0:\n",
    "        if a == 0:\n",
    "            #0 to the power of anything but 0 is 0\n",
    "            return True\n",
    "        else:\n",
    "            #all powers of zero are zero or one (following convention 0^0=1)\n",
    "            return False\n",
    "    else:\n",
    "        if a/b == float(a)/float(b):\n",
    "            new_a = a/b\n",
    "            return is_power(new_a, b)\n",
    "        else:\n",
    "            return False\n",
    "print is_power(25, 5)\n",
    "import doctest\n",
    "doctest.testmod(verbose = True)"
   ]
  },
  {
   "cell_type": "code",
   "execution_count": null,
   "metadata": {
    "collapsed": true,
    "solution": "Exercise 6.7"
   },
   "outputs": [],
   "source": [
    "def is_power(a,b):\n",
    "    if a % b == 0:\n",
    "        if (a/b) % b == 0:\n",
    "            return True\n",
    "    else:\n",
    "        return False"
   ]
  },
  {
   "cell_type": "code",
   "execution_count": 14,
   "metadata": {
    "collapsed": false,
    "solution": "Exercise 6.7"
   },
   "outputs": [
    {
     "name": "stdout",
     "output_type": "stream",
     "text": [
      "True\n"
     ]
    }
   ],
   "source": [
    "def is_power(a, b):              \n",
    "    \"\"\"Checks if a is a power of b. 'Divisible' only makes sense for whole numbers, so we assume b and n are both \n",
    "    integers. Negative values of b work fine.\n",
    "    \"\"\"\n",
    "    a, b = float(a), float(b)\n",
    "    if b == a:\n",
    "        return True\n",
    "    elif abs(b) > abs(a) or a%b != 0:\n",
    "        return False\n",
    "    else:\n",
    "        return is_power(a/b, b)\n",
    "print is_power(-8, -2)"
   ]
  },
  {
   "cell_type": "code",
   "execution_count": 40,
   "metadata": {
    "collapsed": false,
    "solution": "Exercise 6.7"
   },
   "outputs": [
    {
     "data": {
      "text/plain": [
       "True"
      ]
     },
     "execution_count": 40,
     "metadata": {},
     "output_type": "execute_result"
    }
   ],
   "source": [
    "def is_power (a,b):\n",
    "    '''\n",
    "    input: two numbers\n",
    "    output: True if a is a power of b\n",
    "    false if not\n",
    "    '''\n",
    "    a = float(a)\n",
    "    b = float(b)\n",
    "    if a % b == 0 and (a % b) % b == 0:\n",
    "        return True\n",
    "    else:\n",
    "        return False\n",
    "    \n",
    "is_power(16,2)\n",
    "        "
   ]
  },
  {
   "cell_type": "code",
   "execution_count": 73,
   "metadata": {
    "collapsed": false,
    "solution": "Exercise 6.7"
   },
   "outputs": [
    {
     "name": "stdout",
     "output_type": "stream",
     "text": [
      "True\n"
     ]
    }
   ],
   "source": [
    "def is_power(a,b):\n",
    "    if(a%b == 0):\n",
    "        if(a!=b):\n",
    "            return is_power(float(a)/b,b)\n",
    "        else:\n",
    "            return True\n",
    "        \n",
    "print(is_power(8,2))"
   ]
  },
  {
   "cell_type": "code",
   "execution_count": 13,
   "metadata": {
    "collapsed": false,
    "solution": "Exercise 6.7"
   },
   "outputs": [
    {
     "name": "stdout",
     "output_type": "stream",
     "text": [
      "False\n"
     ]
    }
   ],
   "source": [
    "def is_power(a,b):\n",
    "    if a<b:\n",
    "        return False\n",
    "    elif a==b:\n",
    "        return True \n",
    "    elif a%b==0:\n",
    "        return is_power(a/b,b) \n",
    "    else:\n",
    "        return False\n",
    "    \n",
    "print is_power(12,6)\n"
   ]
  },
  {
   "cell_type": "code",
   "execution_count": 10,
   "metadata": {
    "collapsed": false,
    "solution": "Exercise 6.7"
   },
   "outputs": [],
   "source": [
    "def is_power(a,b):\n",
    "    \n",
    "    \"\"\"Takes two ints. Returns True if a is a power of b, False otherwise\n",
    "        \n",
    "        \n",
    "        >>> is_power(27,3)\n",
    "        True\n",
    "        \n",
    "        >>> is_power(125,5)\n",
    "        True\n",
    "        \n",
    "        >>> is_power(2,4)\n",
    "        False\n",
    "        \n",
    "        >>> is_power(7,1)\n",
    "        False\n",
    "    \"\"\"\n",
    "    \n",
    "    if a%b == 0 and b != 1:\n",
    "        if is_power(a/b,b) or a == b:\n",
    "            return True\n",
    "    else:\n",
    "        return False\n",
    "        \n",
    "import doctest\n",
    "doctest.run_docstring_examples(is_power,globals())"
   ]
  },
  {
   "cell_type": "code",
   "execution_count": 8,
   "metadata": {
    "collapsed": false,
    "solution": "Exercise 6.7"
   },
   "outputs": [],
   "source": [
    "def is_power(a,b):\n",
    "    \"\"\"\n",
    "        Returns True if a is a power of b\n",
    "        \n",
    "    >>> is_power(27,3)\n",
    "    True\n",
    "    >>> is_power(32,4)\n",
    "    False\n",
    "    >>> is_power(27,2)\n",
    "    False\n",
    "    \"\"\"\n",
    "    if a <= b:\n",
    "        return a == b\n",
    "    elif not a%b:\n",
    "        return is_power(a/b,b)\n",
    "    else:\n",
    "        return False\n",
    "\n",
    "import doctest\n",
    "doctest.run_docstring_examples(is_power, globals())"
   ]
  },
  {
   "cell_type": "code",
   "execution_count": 34,
   "metadata": {
    "collapsed": false,
    "solution": "Exercise 6.7"
   },
   "outputs": [
    {
     "name": "stdout",
     "output_type": "stream",
     "text": [
      "Finding tests in NoName\n",
      "Trying:\n",
      "    is_power(243, 3)\n",
      "Expecting:\n",
      "    True\n",
      "ok\n",
      "Trying:\n",
      "    is_power(125, 7)\n",
      "Expecting:\n",
      "    False\n",
      "ok\n",
      "Trying:\n",
      "    is_power(100, 5)\n",
      "Expecting:\n",
      "    False\n",
      "ok\n",
      "Trying:\n",
      "    is_power(2048, 2)\n",
      "Expecting:\n",
      "    True\n",
      "ok\n",
      "Trying:\n",
      "    is_power(2,1)\n",
      "Expecting:\n",
      "    False\n",
      "ok\n"
     ]
    }
   ],
   "source": [
    "def is_power(a, b):\n",
    "    \"\"\"\n",
    "    This function determines whether a is a power b through recursion.\n",
    "    Testing for edge cases such as embedded false positives, long recursions,\n",
    "    and when b is equal to 1\n",
    "    \n",
    "    >>> is_power(243, 3)\n",
    "    True\n",
    "    >>> is_power(125, 7)\n",
    "    False\n",
    "    >>> is_power(100, 5)\n",
    "    False\n",
    "    >>> is_power(2048, 2)\n",
    "    True\n",
    "    >>> is_power(2,1)\n",
    "    False\n",
    "    \"\"\"\n",
    "    if a/b == 1:\n",
    "        return True\n",
    "    elif a%b !=0 or b==1:\n",
    "        return False\n",
    "    else:\n",
    "        return is_power(a/b,b)\n",
    "    \n",
    "doctest.run_docstring_examples(is_power, globals(), verbose=True)"
   ]
  },
  {
   "cell_type": "markdown",
   "metadata": {
    "is_question": true,
    "problem": "Exercise 6.8"
   },
   "source": [
    "### Challenge (optional) - Exercise 8  \n",
    "\n",
    "The greatest common divisor (GCD) of `a` and `b` is the largest number that divides both of them with no remainder.\n",
    "\n",
    "One way to find the GCD of two numbers is based on the observation that if `r` is the remainder when `a` is divided by `b`, then `gcd(a, b) = gcd(b, r)`. As a base case, we can use `gcd(a, 0) = a`.\n",
    "\n",
    "Write a function called `gcd` that takes parameters `a` and `b` and returns their greatest common divisor."
   ]
  },
  {
   "cell_type": "code",
   "execution_count": 70,
   "metadata": {
    "collapsed": false,
    "problem": "Exercise 6.8"
   },
   "outputs": [
    {
     "data": {
      "text/plain": [
       "-2"
      ]
     },
     "execution_count": 70,
     "metadata": {},
     "output_type": "execute_result"
    }
   ],
   "source": [
    "def gcd (a,b):\n",
    "    \n",
    "    if b == 0:\n",
    "        return a\n",
    "    else:\n",
    "        r = a % b\n",
    "        return gcd (b,r)\n",
    "    \n",
    "gcd (16,32)"
   ]
  },
  {
   "cell_type": "code",
   "execution_count": 11,
   "metadata": {
    "collapsed": false,
    "problem": "Exercise 6.8"
   },
   "outputs": [
    {
     "data": {
      "text/plain": [
       "TestResults(failed=0, attempted=9)"
      ]
     },
     "execution_count": 11,
     "metadata": {},
     "output_type": "execute_result"
    }
   ],
   "source": [
    "def gcd(a, b):\n",
    "    \"\"\"\n",
    "    >>> gcd(4,2)\n",
    "    2\n",
    "    >>> gcd(16,24)\n",
    "    8\n",
    "    >>> gcd(23,17)\n",
    "    1\n",
    "    \"\"\"\n",
    "    if a == 0:\n",
    "        return b\n",
    "    if b == 0:\n",
    "        return a\n",
    "    return gcd(b, a%b)\n",
    "\n",
    "\n",
    "doctest.testmod()"
   ]
  },
  {
   "cell_type": "code",
   "execution_count": 7,
   "metadata": {
    "collapsed": false,
    "problem": "Exercise 6.8"
   },
   "outputs": [
    {
     "name": "stdout",
     "output_type": "stream",
     "text": [
      "5\n"
     ]
    }
   ],
   "source": [
    "def gcd(a, b):\n",
    "    if (a >= b and a % b == 0):\n",
    "        return b\n",
    "    elif (a < b):\n",
    "        return gcd(b, a)\n",
    "    else:\n",
    "        return gcd(b, a%b)\n",
    "\n",
    "print gcd(20, 35)"
   ]
  },
  {
   "cell_type": "code",
   "execution_count": 30,
   "metadata": {
    "collapsed": false,
    "problem": "Exercise 6.8"
   },
   "outputs": [
    {
     "name": "stdout",
     "output_type": "stream",
     "text": [
      "3\n",
      "1\n"
     ]
    }
   ],
   "source": [
    "def gcd(a, b):\n",
    "    \"\"\" Finds the greatest common divisor of a and b\n",
    "    >>> gcd(9,6)\n",
    "    3\n",
    "    \"\"\"\n",
    "    r = a % b\n",
    "    if r == 0:\n",
    "        return b\n",
    "    return gcd(b,r)\n",
    "\n",
    "print gcd(27,24)\n",
    "print gcd(699,38)"
   ]
  },
  {
   "cell_type": "code",
   "execution_count": 61,
   "metadata": {
    "collapsed": false,
    "problem": "Exercise 6.8"
   },
   "outputs": [
    {
     "name": "stdout",
     "output_type": "stream",
     "text": [
      "5\n"
     ]
    }
   ],
   "source": [
    "def gcd(a, b):\n",
    "    if b == 0:\n",
    "        return a\n",
    "    else:\n",
    "        r = a%b\n",
    "        return gcd(b, r)\n",
    "print gcd(35, 15)"
   ]
  },
  {
   "cell_type": "code",
   "execution_count": 28,
   "metadata": {
    "collapsed": false,
    "problem": "Exercise 6.8"
   },
   "outputs": [
    {
     "name": "stdout",
     "output_type": "stream",
     "text": [
      "9\n"
     ]
    }
   ],
   "source": [
    "def gcd(a, b):\n",
    "    if not isinstance(a, int) or not isinstance(b, int) or a<0 or b<0:\n",
    "        return 'Input positive integers, dummy'\n",
    "    if b == 0:\n",
    "        return a\n",
    "    else:\n",
    "        return gcd(b, a%b)\n",
    "print gcd(980235, 1238643)"
   ]
  },
  {
   "cell_type": "code",
   "execution_count": 115,
   "metadata": {
    "collapsed": false,
    "problem": "Exercise 6.8"
   },
   "outputs": [
    {
     "name": "stdout",
     "output_type": "stream",
     "text": [
      "1\n"
     ]
    }
   ],
   "source": [
    "# 6 is remainder of 15%9\n",
    "# gcd is 3\n",
    "\n",
    "# 9%6\n",
    "\n",
    "\n",
    "def gcd(a,b):\n",
    "    if(b == 0):\n",
    "        return a\n",
    "    else:\n",
    "        return gcd(b,a%b)\n",
    "\n",
    "print gcd(32,5)"
   ]
  },
  {
   "cell_type": "code",
   "execution_count": 19,
   "metadata": {
    "collapsed": false,
    "problem": "Exercise 6.8"
   },
   "outputs": [
    {
     "name": "stdout",
     "output_type": "stream",
     "text": [
      "18\n",
      "36 13\n"
     ]
    }
   ],
   "source": [
    "def gcd(a,b):\n",
    "    '''\n",
    "    This function returns the greatest common divisor of a, b \n",
    "    where a is the larger number\n",
    "    '''\n",
    "    if b==0:\n",
    "        return a\n",
    "    else:\n",
    "        return gcd(b,a%b)\n",
    "\n",
    "print gcd(648,234)"
   ]
  },
  {
   "cell_type": "code",
   "execution_count": 38,
   "metadata": {
    "collapsed": false,
    "problem": "Exercise 6.8"
   },
   "outputs": [
    {
     "name": "stdout",
     "output_type": "stream",
     "text": [
      "Finding tests in NoName\n",
      "Trying:\n",
      "    gcd(45,15)\n",
      "Expecting:\n",
      "    15\n",
      "ok\n",
      "Trying:\n",
      "    gcd(100,120)\n",
      "Expecting:\n",
      "    20\n",
      "ok\n",
      "Trying:\n",
      "    gcd(7,11)\n",
      "Expecting:\n",
      "    1\n",
      "ok\n",
      "Trying:\n",
      "    gcd(9999999999, 7777777777)\n",
      "Expecting:\n",
      "    1111111111\n",
      "ok\n",
      "Trying:\n",
      "    gcd(1,2)\n",
      "Expecting:\n",
      "    1\n",
      "ok\n"
     ]
    }
   ],
   "source": [
    "def gcd(a,b):\n",
    "    \"\"\"\n",
    "    This function determines the greatest common divisor of two numbers.\n",
    "    Checks for when the remainder works out, else it recurses.\n",
    "    \n",
    "    Testing for when they're very large, and for they're very small.\n",
    "    \n",
    "    >>> gcd(45,15)\n",
    "    15\n",
    "    >>> gcd(100,120)\n",
    "    20\n",
    "    >>> gcd(7,11)\n",
    "    1\n",
    "    >>> gcd(9999999999, 7777777777)\n",
    "    1111111111\n",
    "    >>> gcd(1,2)\n",
    "    1\n",
    "    \"\"\"\n",
    "    if b == 0:\n",
    "        return a\n",
    "    elif a%b == 0:\n",
    "        return b\n",
    "    else:\n",
    "        return gcd(b,a%b)\n",
    "    \n",
    "doctest.run_docstring_examples(gcd,globals(),verbose=True)    "
   ]
  }
 ],
 "metadata": {
  "kernelspec": {
   "display_name": "Python 2",
   "language": "python",
   "name": "python2"
  },
  "language_info": {
   "codemirror_mode": {
    "name": "ipython",
    "version": 2
   },
   "file_extension": ".py",
   "mimetype": "text/x-python",
   "name": "python",
   "nbconvert_exporter": "python",
   "pygments_lexer": "ipython2",
   "version": "2.7.6"
  }
 },
 "nbformat": 4,
 "nbformat_minor": 0
}
