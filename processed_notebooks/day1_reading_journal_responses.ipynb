{
 "cells": [
  {
   "cell_type": "markdown",
   "metadata": {},
   "source": [
    "## Chapter 1"
   ]
  },
  {
   "cell_type": "markdown",
   "metadata": {},
   "source": [
    "### Exercise 3\n",
    "\n",
    "Type `help()` to start the online help utility. Or you can type help('print') to get information about the print statement.  You should type `q` and then hit `enter` in the text box to exit the help utility. \n",
    "\n",
    "Note: this exercise is pretty simple (and there's not much to put in the box)!  We just want to make sure that you have tried out this super-handy feature of Python!"
   ]
  },
  {
   "cell_type": "code",
   "execution_count": 1,
   "metadata": {
    "collapsed": false
   },
   "outputs": [
    {
     "name": "stdout",
     "output_type": "stream",
     "text": [
      "\n",
      "Welcome to Python 2.7!  This is the online help utility.\n",
      "\n",
      "If this is your first time using Python, you should definitely check out\n",
      "the tutorial on the Internet at http://docs.python.org/2.7/tutorial/.\n",
      "\n",
      "Enter the name of any module, keyword, or topic to get help on writing\n",
      "Python programs and using Python modules.  To quit this help utility and\n",
      "return to the interpreter, just type \"quit\".\n",
      "\n",
      "To get a list of available modules, keywords, or topics, type \"modules\",\n",
      "\"keywords\", or \"topics\".  Each module also comes with a one-line summary\n",
      "of what it does; to list the modules whose summaries contain a given word\n",
      "such as \"spam\", type \"modules spam\".\n",
      "\n",
      "help> print\n",
      "The ``print`` statement\n",
      "***********************\n",
      "\n",
      "   print_stmt ::= \"print\" ([expression (\",\" expression)* [\",\"]]\n",
      "                  | \">>\" expression [(\",\" expression)+ [\",\"]])\n",
      "\n",
      "``print`` evaluates each expression in turn and writes the resulting\n",
      "object to standard output (see below).  If an object is not a string,\n",
      "it is first converted to a string using the rules for string\n",
      "conversions.  The (resulting or original) string is then written.  A\n",
      "space is written before each object is (converted and) written, unless\n",
      "the output system believes it is positioned at the beginning of a\n",
      "line.  This is the case (1) when no characters have yet been written\n",
      "to standard output, (2) when the last character written to standard\n",
      "output is a whitespace character except ``' '``, or (3) when the last\n",
      "write operation on standard output was not a ``print`` statement. (In\n",
      "some cases it may be functional to write an empty string to standard\n",
      "output for this reason.)\n",
      "\n",
      "Note: Objects which act like file objects but which are not the built-in\n",
      "  file objects often do not properly emulate this aspect of the file\n",
      "  object's behavior, so it is best not to rely on this.\n",
      "\n",
      "A ``'\\n'`` character is written at the end, unless the ``print``\n",
      "statement ends with a comma.  This is the only action if the statement\n",
      "contains just the keyword ``print``.\n",
      "\n",
      "Standard output is defined as the file object named ``stdout`` in the\n",
      "built-in module ``sys``.  If no such object exists, or if it does not\n",
      "have a ``write()`` method, a ``RuntimeError`` exception is raised.\n",
      "\n",
      "``print`` also has an extended form, defined by the second portion of\n",
      "the syntax described above. This form is sometimes referred to as\n",
      "\"``print`` chevron.\" In this form, the first expression after the\n",
      "``>>`` must evaluate to a \"file-like\" object, specifically an object\n",
      "that has a ``write()`` method as described above.  With this extended\n",
      "form, the subsequent expressions are printed to this file object.  If\n",
      "the first expression evaluates to ``None``, then ``sys.stdout`` is\n",
      "used as the file for output.\n",
      "\n",
      "\n",
      "You are now leaving help and returning to the Python interpreter.\n",
      "If you want to ask for help on a particular object directly from the\n",
      "interpreter, you can type \"help(object)\".  Executing \"help('string')\"\n",
      "has the same effect as typing a particular string at the help> prompt.\n"
     ]
    }
   ],
   "source": [
    "help()"
   ]
  },
  {
   "cell_type": "code",
   "execution_count": 1,
   "metadata": {
    "collapsed": false
   },
   "outputs": [
    {
     "name": "stdout",
     "output_type": "stream",
     "text": [
      "\n",
      "Welcome to Python 2.7!  This is the online help utility.\n",
      "\n",
      "If this is your first time using Python, you should definitely check out\n",
      "the tutorial on the Internet at http://docs.python.org/2.7/tutorial/.\n",
      "\n",
      "Enter the name of any module, keyword, or topic to get help on writing\n",
      "Python programs and using Python modules.  To quit this help utility and\n",
      "return to the interpreter, just type \"quit\".\n",
      "\n",
      "To get a list of available modules, keywords, or topics, type \"modules\",\n",
      "\"keywords\", or \"topics\".  Each module also comes with a one-line summary\n",
      "of what it does; to list the modules whose summaries contain a given word\n",
      "such as \"spam\", type \"modules spam\".\n",
      "\n",
      "help> print\n",
      "The ``print`` statement\n",
      "***********************\n",
      "\n",
      "   print_stmt ::= \"print\" ([expression (\",\" expression)* [\",\"]]\n",
      "                  | \">>\" expression [(\",\" expression)+ [\",\"]])\n",
      "\n",
      "``print`` evaluates each expression in turn and writes the resulting\n",
      "object to standard output (see below).  If an object is not a string,\n",
      "it is first converted to a string using the rules for string\n",
      "conversions.  The (resulting or original) string is then written.  A\n",
      "space is written before each object is (converted and) written, unless\n",
      "the output system believes it is positioned at the beginning of a\n",
      "line.  This is the case (1) when no characters have yet been written\n",
      "to standard output, (2) when the last character written to standard\n",
      "output is a whitespace character except ``' '``, or (3) when the last\n",
      "write operation on standard output was not a ``print`` statement. (In\n",
      "some cases it may be functional to write an empty string to standard\n",
      "output for this reason.)\n",
      "\n",
      "Note: Objects which act like file objects but which are not the built-in\n",
      "  file objects often do not properly emulate this aspect of the file\n",
      "  object's behavior, so it is best not to rely on this.\n",
      "\n",
      "A ``'\\n'`` character is written at the end, unless the ``print``\n",
      "statement ends with a comma.  This is the only action if the statement\n",
      "contains just the keyword ``print``.\n",
      "\n",
      "Standard output is defined as the file object named ``stdout`` in the\n",
      "built-in module ``sys``.  If no such object exists, or if it does not\n",
      "have a ``write()`` method, a ``RuntimeError`` exception is raised.\n",
      "\n",
      "``print`` also has an extended form, defined by the second portion of\n",
      "the syntax described above. This form is sometimes referred to as\n",
      "\"``print`` chevron.\" In this form, the first expression after the\n",
      "``>>`` must evaluate to a \"file-like\" object, specifically an object\n",
      "that has a ``write()`` method as described above.  With this extended\n",
      "form, the subsequent expressions are printed to this file object.  If\n",
      "the first expression evaluates to ``None``, then ``sys.stdout`` is\n",
      "used as the file for output.\n",
      "\n",
      "help> q\n",
      "\n",
      "You are now leaving help and returning to the Python interpreter.\n",
      "If you want to ask for help on a particular object directly from the\n",
      "interpreter, you can type \"help(object)\".  Executing \"help('string')\"\n",
      "has the same effect as typing a particular string at the help> prompt.\n",
      "The ``print`` statement\n",
      "***********************\n",
      "\n",
      "   print_stmt ::= \"print\" ([expression (\",\" expression)* [\",\"]]\n",
      "                  | \">>\" expression [(\",\" expression)+ [\",\"]])\n",
      "\n",
      "``print`` evaluates each expression in turn and writes the resulting\n",
      "object to standard output (see below).  If an object is not a string,\n",
      "it is first converted to a string using the rules for string\n",
      "conversions.  The (resulting or original) string is then written.  A\n",
      "space is written before each object is (converted and) written, unless\n",
      "the output system believes it is positioned at the beginning of a\n",
      "line.  This is the case (1) when no characters have yet been written\n",
      "to standard output, (2) when the last character written to standard\n",
      "output is a whitespace character except ``' '``, or (3) when the last\n",
      "write operation on standard output was not a ``print`` statement. (In\n",
      "some cases it may be functional to write an empty string to standard\n",
      "output for this reason.)\n",
      "\n",
      "Note: Objects which act like file objects but which are not the built-in\n",
      "  file objects often do not properly emulate this aspect of the file\n",
      "  object's behavior, so it is best not to rely on this.\n",
      "\n",
      "A ``'\\n'`` character is written at the end, unless the ``print``\n",
      "statement ends with a comma.  This is the only action if the statement\n",
      "contains just the keyword ``print``.\n",
      "\n",
      "Standard output is defined as the file object named ``stdout`` in the\n",
      "built-in module ``sys``.  If no such object exists, or if it does not\n",
      "have a ``write()`` method, a ``RuntimeError`` exception is raised.\n",
      "\n",
      "``print`` also has an extended form, defined by the second portion of\n",
      "the syntax described above. This form is sometimes referred to as\n",
      "\"``print`` chevron.\" In this form, the first expression after the\n",
      "``>>`` must evaluate to a \"file-like\" object, specifically an object\n",
      "that has a ``write()`` method as described above.  With this extended\n",
      "form, the subsequent expressions are printed to this file object.  If\n",
      "the first expression evaluates to ``None``, then ``sys.stdout`` is\n",
      "used as the file for output.\n",
      "\n"
     ]
    }
   ],
   "source": [
    "help()\n",
    "help('print')"
   ]
  },
  {
   "cell_type": "code",
   "execution_count": null,
   "metadata": {
    "collapsed": false
   },
   "outputs": [],
   "source": [
    "help()"
   ]
  },
  {
   "cell_type": "code",
   "execution_count": 1,
   "metadata": {
    "collapsed": false
   },
   "outputs": [
    {
     "name": "stdout",
     "output_type": "stream",
     "text": [
      "\n",
      "Welcome to Python 2.7!  This is the online help utility.\n",
      "\n",
      "If this is your first time using Python, you should definitely check out\n",
      "the tutorial on the Internet at http://docs.python.org/2.7/tutorial/.\n",
      "\n",
      "Enter the name of any module, keyword, or topic to get help on writing\n",
      "Python programs and using Python modules.  To quit this help utility and\n",
      "return to the interpreter, just type \"quit\".\n",
      "\n",
      "To get a list of available modules, keywords, or topics, type \"modules\",\n",
      "\"keywords\", or \"topics\".  Each module also comes with a one-line summary\n",
      "of what it does; to list the modules whose summaries contain a given word\n",
      "such as \"spam\", type \"modules spam\".\n",
      "\n",
      "help> q\n",
      "\n",
      "You are now leaving help and returning to the Python interpreter.\n",
      "If you want to ask for help on a particular object directly from the\n",
      "interpreter, you can type \"help(object)\".  Executing \"help('string')\"\n",
      "has the same effect as typing a particular string at the help> prompt.\n"
     ]
    }
   ],
   "source": [
    "help() "
   ]
  },
  {
   "cell_type": "code",
   "execution_count": 3,
   "metadata": {
    "collapsed": false
   },
   "outputs": [
    {
     "name": "stdout",
     "output_type": "stream",
     "text": [
      "\n",
      "Welcome to Python 2.7!  This is the online help utility.\n",
      "\n",
      "If this is your first time using Python, you should definitely check out\n",
      "the tutorial on the Internet at http://docs.python.org/2.7/tutorial/.\n",
      "\n",
      "Enter the name of any module, keyword, or topic to get help on writing\n",
      "Python programs and using Python modules.  To quit this help utility and\n",
      "return to the interpreter, just type \"quit\".\n",
      "\n",
      "To get a list of available modules, keywords, or topics, type \"modules\",\n",
      "\"keywords\", or \"topics\".  Each module also comes with a one-line summary\n",
      "of what it does; to list the modules whose summaries contain a given word\n",
      "such as \"spam\", type \"modules spam\".\n",
      "\n",
      "help> print\n",
      "The ``print`` statement\n",
      "***********************\n",
      "\n",
      "   print_stmt ::= \"print\" ([expression (\",\" expression)* [\",\"]]\n",
      "                  | \">>\" expression [(\",\" expression)+ [\",\"]])\n",
      "\n",
      "``print`` evaluates each expression in turn and writes the resulting\n",
      "object to standard output (see below).  If an object is not a string,\n",
      "it is first converted to a string using the rules for string\n",
      "conversions.  The (resulting or original) string is then written.  A\n",
      "space is written before each object is (converted and) written, unless\n",
      "the output system believes it is positioned at the beginning of a\n",
      "line.  This is the case (1) when no characters have yet been written\n",
      "to standard output, (2) when the last character written to standard\n",
      "output is a whitespace character except ``' '``, or (3) when the last\n",
      "write operation on standard output was not a ``print`` statement. (In\n",
      "some cases it may be functional to write an empty string to standard\n",
      "output for this reason.)\n",
      "\n",
      "Note: Objects which act like file objects but which are not the built-in\n",
      "  file objects often do not properly emulate this aspect of the file\n",
      "  object's behavior, so it is best not to rely on this.\n",
      "\n",
      "A ``'\\n'`` character is written at the end, unless the ``print``\n",
      "statement ends with a comma.  This is the only action if the statement\n",
      "contains just the keyword ``print``.\n",
      "\n",
      "Standard output is defined as the file object named ``stdout`` in the\n",
      "built-in module ``sys``.  If no such object exists, or if it does not\n",
      "have a ``write()`` method, a ``RuntimeError`` exception is raised.\n",
      "\n",
      "``print`` also has an extended form, defined by the second portion of\n",
      "the syntax described above. This form is sometimes referred to as\n",
      "\"``print`` chevron.\" In this form, the first expression after the\n",
      "``>>`` must evaluate to a \"file-like\" object, specifically an object\n",
      "that has a ``write()`` method as described above.  With this extended\n",
      "form, the subsequent expressions are printed to this file object.  If\n",
      "the first expression evaluates to ``None``, then ``sys.stdout`` is\n",
      "used as the file for output.\n",
      "\n",
      "\n",
      "You are now leaving help and returning to the Python interpreter.\n",
      "If you want to ask for help on a particular object directly from the\n",
      "interpreter, you can type \"help(object)\".  Executing \"help('string')\"\n",
      "has the same effect as typing a particular string at the help> prompt.\n"
     ]
    }
   ],
   "source": [
    "help()"
   ]
  },
  {
   "cell_type": "code",
   "execution_count": 25,
   "metadata": {
    "collapsed": false
   },
   "outputs": [
    {
     "name": "stdout",
     "output_type": "stream",
     "text": [
      "\n",
      "Welcome to Python 2.7!  This is the online help utility.\n",
      "\n",
      "If this is your first time using Python, you should definitely check out\n",
      "the tutorial on the Internet at http://docs.python.org/2.7/tutorial/.\n",
      "\n",
      "Enter the name of any module, keyword, or topic to get help on writing\n",
      "Python programs and using Python modules.  To quit this help utility and\n",
      "return to the interpreter, just type \"quit\".\n",
      "\n",
      "To get a list of available modules, keywords, or topics, type \"modules\",\n",
      "\"keywords\", or \"topics\".  Each module also comes with a one-line summary\n",
      "of what it does; to list the modules whose summaries contain a given word\n",
      "such as \"spam\", type \"modules spam\".\n",
      "\n",
      "help> print\n",
      "The ``print`` statement\n",
      "***********************\n",
      "\n",
      "   print_stmt ::= \"print\" ([expression (\",\" expression)* [\",\"]]\n",
      "                  | \">>\" expression [(\",\" expression)+ [\",\"]])\n",
      "\n",
      "``print`` evaluates each expression in turn and writes the resulting\n",
      "object to standard output (see below).  If an object is not a string,\n",
      "it is first converted to a string using the rules for string\n",
      "conversions.  The (resulting or original) string is then written.  A\n",
      "space is written before each object is (converted and) written, unless\n",
      "the output system believes it is positioned at the beginning of a\n",
      "line.  This is the case (1) when no characters have yet been written\n",
      "to standard output, (2) when the last character written to standard\n",
      "output is a whitespace character except ``' '``, or (3) when the last\n",
      "write operation on standard output was not a ``print`` statement. (In\n",
      "some cases it may be functional to write an empty string to standard\n",
      "output for this reason.)\n",
      "\n",
      "Note: Objects which act like file objects but which are not the built-in\n",
      "  file objects often do not properly emulate this aspect of the file\n",
      "  object's behavior, so it is best not to rely on this.\n",
      "\n",
      "A ``'\\n'`` character is written at the end, unless the ``print``\n",
      "statement ends with a comma.  This is the only action if the statement\n",
      "contains just the keyword ``print``.\n",
      "\n",
      "Standard output is defined as the file object named ``stdout`` in the\n",
      "built-in module ``sys``.  If no such object exists, or if it does not\n",
      "have a ``write()`` method, a ``RuntimeError`` exception is raised.\n",
      "\n",
      "``print`` also has an extended form, defined by the second portion of\n",
      "the syntax described above. This form is sometimes referred to as\n",
      "\"``print`` chevron.\" In this form, the first expression after the\n",
      "``>>`` must evaluate to a \"file-like\" object, specifically an object\n",
      "that has a ``write()`` method as described above.  With this extended\n",
      "form, the subsequent expressions are printed to this file object.  If\n",
      "the first expression evaluates to ``None``, then ``sys.stdout`` is\n",
      "used as the file for output.\n",
      "\n",
      "help> q\n",
      "\n",
      "You are now leaving help and returning to the Python interpreter.\n",
      "If you want to ask for help on a particular object directly from the\n",
      "interpreter, you can type \"help(object)\".  Executing \"help('string')\"\n",
      "has the same effect as typing a particular string at the help> prompt.\n"
     ]
    }
   ],
   "source": [
    "help()"
   ]
  },
  {
   "cell_type": "code",
   "execution_count": null,
   "metadata": {
    "collapsed": false
   },
   "outputs": [],
   "source": [
    "help()"
   ]
  },
  {
   "cell_type": "code",
   "execution_count": 7,
   "metadata": {
    "collapsed": false
   },
   "outputs": [
    {
     "ename": "SyntaxError",
     "evalue": "invalid syntax (<ipython-input-7-23aede42d1d4>, line 1)",
     "output_type": "error",
     "traceback": [
      "\u001b[1;36m  File \u001b[1;32m\"<ipython-input-7-23aede42d1d4>\"\u001b[1;36m, line \u001b[1;32m1\u001b[0m\n\u001b[1;33m    help('print') q\u001b[0m\n\u001b[1;37m                  ^\u001b[0m\n\u001b[1;31mSyntaxError\u001b[0m\u001b[1;31m:\u001b[0m invalid syntax\n"
     ]
    }
   ],
   "source": [
    "help('print') "
   ]
  },
  {
   "cell_type": "code",
   "execution_count": 4,
   "metadata": {
    "collapsed": false
   },
   "outputs": [
    {
     "name": "stdout",
     "output_type": "stream",
     "text": [
      "\n",
      "Welcome to Python 2.7!  This is the online help utility.\n",
      "\n",
      "If this is your first time using Python, you should definitely check out\n",
      "the tutorial on the Internet at http://docs.python.org/2.7/tutorial/.\n",
      "\n",
      "Enter the name of any module, keyword, or topic to get help on writing\n",
      "Python programs and using Python modules.  To quit this help utility and\n",
      "return to the interpreter, just type \"quit\".\n",
      "\n",
      "To get a list of available modules, keywords, or topics, type \"modules\",\n",
      "\"keywords\", or \"topics\".  Each module also comes with a one-line summary\n",
      "of what it does; to list the modules whose summaries contain a given word\n",
      "such as \"spam\", type \"modules spam\".\n",
      "\n",
      "help> q\n",
      "\n",
      "You are now leaving help and returning to the Python interpreter.\n",
      "If you want to ask for help on a particular object directly from the\n",
      "interpreter, you can type \"help(object)\".  Executing \"help('string')\"\n",
      "has the same effect as typing a particular string at the help> prompt.\n"
     ]
    }
   ],
   "source": [
    "help()"
   ]
  },
  {
   "cell_type": "code",
   "execution_count": 3,
   "metadata": {
    "collapsed": false,
    "scrolled": true
   },
   "outputs": [
    {
     "name": "stdout",
     "output_type": "stream",
     "text": [
      "\n",
      "Welcome to Python 2.7!  This is the online help utility.\n",
      "\n",
      "If this is your first time using Python, you should definitely check out\n",
      "the tutorial on the Internet at http://docs.python.org/2.7/tutorial/.\n",
      "\n",
      "Enter the name of any module, keyword, or topic to get help on writing\n",
      "Python programs and using Python modules.  To quit this help utility and\n",
      "return to the interpreter, just type \"quit\".\n",
      "\n",
      "To get a list of available modules, keywords, or topics, type \"modules\",\n",
      "\"keywords\", or \"topics\".  Each module also comes with a one-line summary\n",
      "of what it does; to list the modules whose summaries contain a given word\n",
      "such as \"spam\", type \"modules spam\".\n",
      "\n",
      "help> q\n",
      "\n",
      "You are now leaving help and returning to the Python interpreter.\n",
      "If you want to ask for help on a particular object directly from the\n",
      "interpreter, you can type \"help(object)\".  Executing \"help('string')\"\n",
      "has the same effect as typing a particular string at the help> prompt.\n"
     ]
    }
   ],
   "source": [
    "help()"
   ]
  },
  {
   "cell_type": "code",
   "execution_count": 2,
   "metadata": {
    "collapsed": false
   },
   "outputs": [
    {
     "name": "stdout",
     "output_type": "stream",
     "text": [
      "\n",
      "Welcome to Python 2.7!  This is the online help utility.\n",
      "\n",
      "If this is your first time using Python, you should definitely check out\n",
      "the tutorial on the Internet at http://docs.python.org/2.7/tutorial/.\n",
      "\n",
      "Enter the name of any module, keyword, or topic to get help on writing\n",
      "Python programs and using Python modules.  To quit this help utility and\n",
      "return to the interpreter, just type \"quit\".\n",
      "\n",
      "To get a list of available modules, keywords, or topics, type \"modules\",\n",
      "\"keywords\", or \"topics\".  Each module also comes with a one-line summary\n",
      "of what it does; to list the modules whose summaries contain a given word\n",
      "such as \"spam\", type \"modules spam\".\n",
      "\n",
      "help> q\n",
      "\n",
      "You are now leaving help and returning to the Python interpreter.\n",
      "If you want to ask for help on a particular object directly from the\n",
      "interpreter, you can type \"help(object)\".  Executing \"help('string')\"\n",
      "has the same effect as typing a particular string at the help> prompt.\n"
     ]
    }
   ],
   "source": [
    "help()"
   ]
  },
  {
   "cell_type": "code",
   "execution_count": 1,
   "metadata": {
    "collapsed": false
   },
   "outputs": [
    {
     "name": "stdout",
     "output_type": "stream",
     "text": [
      "\n",
      "Welcome to Python 2.7!  This is the online help utility.\n",
      "\n",
      "If this is your first time using Python, you should definitely check out\n",
      "the tutorial on the Internet at http://docs.python.org/2.7/tutorial/.\n",
      "\n",
      "Enter the name of any module, keyword, or topic to get help on writing\n",
      "Python programs and using Python modules.  To quit this help utility and\n",
      "return to the interpreter, just type \"quit\".\n",
      "\n",
      "To get a list of available modules, keywords, or topics, type \"modules\",\n",
      "\"keywords\", or \"topics\".  Each module also comes with a one-line summary\n",
      "of what it does; to list the modules whose summaries contain a given word\n",
      "such as \"spam\", type \"modules spam\".\n",
      "\n",
      "help> print\n",
      "The ``print`` statement\n",
      "***********************\n",
      "\n",
      "   print_stmt ::= \"print\" ([expression (\",\" expression)* [\",\"]]\n",
      "                  | \">>\" expression [(\",\" expression)+ [\",\"]])\n",
      "\n",
      "``print`` evaluates each expression in turn and writes the resulting\n",
      "object to standard output (see below).  If an object is not a string,\n",
      "it is first converted to a string using the rules for string\n",
      "conversions.  The (resulting or original) string is then written.  A\n",
      "space is written before each object is (converted and) written, unless\n",
      "the output system believes it is positioned at the beginning of a\n",
      "line.  This is the case (1) when no characters have yet been written\n",
      "to standard output, (2) when the last character written to standard\n",
      "output is a whitespace character except ``' '``, or (3) when the last\n",
      "write operation on standard output was not a ``print`` statement. (In\n",
      "some cases it may be functional to write an empty string to standard\n",
      "output for this reason.)\n",
      "\n",
      "Note: Objects which act like file objects but which are not the built-in\n",
      "  file objects often do not properly emulate this aspect of the file\n",
      "  object's behavior, so it is best not to rely on this.\n",
      "\n",
      "A ``'\\n'`` character is written at the end, unless the ``print``\n",
      "statement ends with a comma.  This is the only action if the statement\n",
      "contains just the keyword ``print``.\n",
      "\n",
      "Standard output is defined as the file object named ``stdout`` in the\n",
      "built-in module ``sys``.  If no such object exists, or if it does not\n",
      "have a ``write()`` method, a ``RuntimeError`` exception is raised.\n",
      "\n",
      "``print`` also has an extended form, defined by the second portion of\n",
      "the syntax described above. This form is sometimes referred to as\n",
      "\"``print`` chevron.\" In this form, the first expression after the\n",
      "``>>`` must evaluate to a \"file-like\" object, specifically an object\n",
      "that has a ``write()`` method as described above.  With this extended\n",
      "form, the subsequent expressions are printed to this file object.  If\n",
      "the first expression evaluates to ``None``, then ``sys.stdout`` is\n",
      "used as the file for output.\n",
      "\n",
      "help> q\n",
      "\n",
      "You are now leaving help and returning to the Python interpreter.\n",
      "If you want to ask for help on a particular object directly from the\n",
      "interpreter, you can type \"help(object)\".  Executing \"help('string')\"\n",
      "has the same effect as typing a particular string at the help> prompt.\n"
     ]
    }
   ],
   "source": [
    "help()"
   ]
  },
  {
   "cell_type": "code",
   "execution_count": null,
   "metadata": {
    "collapsed": false
   },
   "outputs": [],
   "source": [
    "help()"
   ]
  },
  {
   "cell_type": "code",
   "execution_count": 1,
   "metadata": {
    "collapsed": false
   },
   "outputs": [
    {
     "name": "stdout",
     "output_type": "stream",
     "text": [
      "\n",
      "Welcome to Python 2.7!  This is the online help utility.\n",
      "\n",
      "If this is your first time using Python, you should definitely check out\n",
      "the tutorial on the Internet at http://docs.python.org/2.7/tutorial/.\n",
      "\n",
      "Enter the name of any module, keyword, or topic to get help on writing\n",
      "Python programs and using Python modules.  To quit this help utility and\n",
      "return to the interpreter, just type \"quit\".\n",
      "\n",
      "To get a list of available modules, keywords, or topics, type \"modules\",\n",
      "\"keywords\", or \"topics\".  Each module also comes with a one-line summary\n",
      "of what it does; to list the modules whose summaries contain a given word\n",
      "such as \"spam\", type \"modules spam\".\n",
      "\n",
      "help> print\n",
      "The ``print`` statement\n",
      "***********************\n",
      "\n",
      "   print_stmt ::= \"print\" ([expression (\",\" expression)* [\",\"]]\n",
      "                  | \">>\" expression [(\",\" expression)+ [\",\"]])\n",
      "\n",
      "``print`` evaluates each expression in turn and writes the resulting\n",
      "object to standard output (see below).  If an object is not a string,\n",
      "it is first converted to a string using the rules for string\n",
      "conversions.  The (resulting or original) string is then written.  A\n",
      "space is written before each object is (converted and) written, unless\n",
      "the output system believes it is positioned at the beginning of a\n",
      "line.  This is the case (1) when no characters have yet been written\n",
      "to standard output, (2) when the last character written to standard\n",
      "output is a whitespace character except ``' '``, or (3) when the last\n",
      "write operation on standard output was not a ``print`` statement. (In\n",
      "some cases it may be functional to write an empty string to standard\n",
      "output for this reason.)\n",
      "\n",
      "Note: Objects which act like file objects but which are not the built-in\n",
      "  file objects often do not properly emulate this aspect of the file\n",
      "  object's behavior, so it is best not to rely on this.\n",
      "\n",
      "A ``'\\n'`` character is written at the end, unless the ``print``\n",
      "statement ends with a comma.  This is the only action if the statement\n",
      "contains just the keyword ``print``.\n",
      "\n",
      "Standard output is defined as the file object named ``stdout`` in the\n",
      "built-in module ``sys``.  If no such object exists, or if it does not\n",
      "have a ``write()`` method, a ``RuntimeError`` exception is raised.\n",
      "\n",
      "``print`` also has an extended form, defined by the second portion of\n",
      "the syntax described above. This form is sometimes referred to as\n",
      "\"``print`` chevron.\" In this form, the first expression after the\n",
      "``>>`` must evaluate to a \"file-like\" object, specifically an object\n",
      "that has a ``write()`` method as described above.  With this extended\n",
      "form, the subsequent expressions are printed to this file object.  If\n",
      "the first expression evaluates to ``None``, then ``sys.stdout`` is\n",
      "used as the file for output.\n",
      "\n",
      "\n",
      "You are now leaving help and returning to the Python interpreter.\n",
      "If you want to ask for help on a particular object directly from the\n",
      "interpreter, you can type \"help(object)\".  Executing \"help('string')\"\n",
      "has the same effect as typing a particular string at the help> prompt.\n"
     ]
    }
   ],
   "source": [
    "help()"
   ]
  },
  {
   "cell_type": "code",
   "execution_count": 1,
   "metadata": {
    "collapsed": false
   },
   "outputs": [
    {
     "name": "stdout",
     "output_type": "stream",
     "text": [
      "\n",
      "Welcome to Python 2.7!  This is the online help utility.\n",
      "\n",
      "If this is your first time using Python, you should definitely check out\n",
      "the tutorial on the Internet at http://docs.python.org/2.7/tutorial/.\n",
      "\n",
      "Enter the name of any module, keyword, or topic to get help on writing\n",
      "Python programs and using Python modules.  To quit this help utility and\n",
      "return to the interpreter, just type \"quit\".\n",
      "\n",
      "To get a list of available modules, keywords, or topics, type \"modules\",\n",
      "\"keywords\", or \"topics\".  Each module also comes with a one-line summary\n",
      "of what it does; to list the modules whose summaries contain a given word\n",
      "such as \"spam\", type \"modules spam\".\n",
      "\n",
      "help> print\n",
      "The ``print`` statement\n",
      "***********************\n",
      "\n",
      "   print_stmt ::= \"print\" ([expression (\",\" expression)* [\",\"]]\n",
      "                  | \">>\" expression [(\",\" expression)+ [\",\"]])\n",
      "\n",
      "``print`` evaluates each expression in turn and writes the resulting\n",
      "object to standard output (see below).  If an object is not a string,\n",
      "it is first converted to a string using the rules for string\n",
      "conversions.  The (resulting or original) string is then written.  A\n",
      "space is written before each object is (converted and) written, unless\n",
      "the output system believes it is positioned at the beginning of a\n",
      "line.  This is the case (1) when no characters have yet been written\n",
      "to standard output, (2) when the last character written to standard\n",
      "output is a whitespace character except ``' '``, or (3) when the last\n",
      "write operation on standard output was not a ``print`` statement. (In\n",
      "some cases it may be functional to write an empty string to standard\n",
      "output for this reason.)\n",
      "\n",
      "Note: Objects which act like file objects but which are not the built-in\n",
      "  file objects often do not properly emulate this aspect of the file\n",
      "  object's behavior, so it is best not to rely on this.\n",
      "\n",
      "A ``'\\n'`` character is written at the end, unless the ``print``\n",
      "statement ends with a comma.  This is the only action if the statement\n",
      "contains just the keyword ``print``.\n",
      "\n",
      "Standard output is defined as the file object named ``stdout`` in the\n",
      "built-in module ``sys``.  If no such object exists, or if it does not\n",
      "have a ``write()`` method, a ``RuntimeError`` exception is raised.\n",
      "\n",
      "``print`` also has an extended form, defined by the second portion of\n",
      "the syntax described above. This form is sometimes referred to as\n",
      "\"``print`` chevron.\" In this form, the first expression after the\n",
      "``>>`` must evaluate to a \"file-like\" object, specifically an object\n",
      "that has a ``write()`` method as described above.  With this extended\n",
      "form, the subsequent expressions are printed to this file object.  If\n",
      "the first expression evaluates to ``None``, then ``sys.stdout`` is\n",
      "used as the file for output.\n",
      "\n",
      "help> q\n",
      "\n",
      "You are now leaving help and returning to the Python interpreter.\n",
      "If you want to ask for help on a particular object directly from the\n",
      "interpreter, you can type \"help(object)\".  Executing \"help('string')\"\n",
      "has the same effect as typing a particular string at the help> prompt.\n"
     ]
    }
   ],
   "source": [
    "help()"
   ]
  },
  {
   "cell_type": "code",
   "execution_count": 1,
   "metadata": {
    "collapsed": false
   },
   "outputs": [
    {
     "name": "stdout",
     "output_type": "stream",
     "text": [
      "\n",
      "Welcome to Python 2.7!  This is the online help utility.\n",
      "\n",
      "If this is your first time using Python, you should definitely check out\n",
      "the tutorial on the Internet at http://docs.python.org/2.7/tutorial/.\n",
      "\n",
      "Enter the name of any module, keyword, or topic to get help on writing\n",
      "Python programs and using Python modules.  To quit this help utility and\n",
      "return to the interpreter, just type \"quit\".\n",
      "\n",
      "To get a list of available modules, keywords, or topics, type \"modules\",\n",
      "\"keywords\", or \"topics\".  Each module also comes with a one-line summary\n",
      "of what it does; to list the modules whose summaries contain a given word\n",
      "such as \"spam\", type \"modules spam\".\n",
      "\n",
      "help> q\n",
      "\n",
      "You are now leaving help and returning to the Python interpreter.\n",
      "If you want to ask for help on a particular object directly from the\n",
      "interpreter, you can type \"help(object)\".  Executing \"help('string')\"\n",
      "has the same effect as typing a particular string at the help> prompt.\n"
     ]
    }
   ],
   "source": [
    "help()"
   ]
  },
  {
   "cell_type": "code",
   "execution_count": 1,
   "metadata": {
    "collapsed": false
   },
   "outputs": [
    {
     "name": "stdout",
     "output_type": "stream",
     "text": [
      "\n",
      "Welcome to Python 2.7!  This is the online help utility.\n",
      "\n",
      "If this is your first time using Python, you should definitely check out\n",
      "the tutorial on the Internet at http://docs.python.org/2.7/tutorial/.\n",
      "\n",
      "Enter the name of any module, keyword, or topic to get help on writing\n",
      "Python programs and using Python modules.  To quit this help utility and\n",
      "return to the interpreter, just type \"quit\".\n",
      "\n",
      "To get a list of available modules, keywords, or topics, type \"modules\",\n",
      "\"keywords\", or \"topics\".  Each module also comes with a one-line summary\n",
      "of what it does; to list the modules whose summaries contain a given word\n",
      "such as \"spam\", type \"modules spam\".\n",
      "\n",
      "help> print\n",
      "The ``print`` statement\n",
      "***********************\n",
      "\n",
      "   print_stmt ::= \"print\" ([expression (\",\" expression)* [\",\"]]\n",
      "                  | \">>\" expression [(\",\" expression)+ [\",\"]])\n",
      "\n",
      "``print`` evaluates each expression in turn and writes the resulting\n",
      "object to standard output (see below).  If an object is not a string,\n",
      "it is first converted to a string using the rules for string\n",
      "conversions.  The (resulting or original) string is then written.  A\n",
      "space is written before each object is (converted and) written, unless\n",
      "the output system believes it is positioned at the beginning of a\n",
      "line.  This is the case (1) when no characters have yet been written\n",
      "to standard output, (2) when the last character written to standard\n",
      "output is a whitespace character except ``' '``, or (3) when the last\n",
      "write operation on standard output was not a ``print`` statement. (In\n",
      "some cases it may be functional to write an empty string to standard\n",
      "output for this reason.)\n",
      "\n",
      "Note: Objects which act like file objects but which are not the built-in\n",
      "  file objects often do not properly emulate this aspect of the file\n",
      "  object's behavior, so it is best not to rely on this.\n",
      "\n",
      "A ``'\\n'`` character is written at the end, unless the ``print``\n",
      "statement ends with a comma.  This is the only action if the statement\n",
      "contains just the keyword ``print``.\n",
      "\n",
      "Standard output is defined as the file object named ``stdout`` in the\n",
      "built-in module ``sys``.  If no such object exists, or if it does not\n",
      "have a ``write()`` method, a ``RuntimeError`` exception is raised.\n",
      "\n",
      "``print`` also has an extended form, defined by the second portion of\n",
      "the syntax described above. This form is sometimes referred to as\n",
      "\"``print`` chevron.\" In this form, the first expression after the\n",
      "``>>`` must evaluate to a \"file-like\" object, specifically an object\n",
      "that has a ``write()`` method as described above.  With this extended\n",
      "form, the subsequent expressions are printed to this file object.  If\n",
      "the first expression evaluates to ``None``, then ``sys.stdout`` is\n",
      "used as the file for output.\n",
      "\n",
      "help> q\n",
      "\n",
      "You are now leaving help and returning to the Python interpreter.\n",
      "If you want to ask for help on a particular object directly from the\n",
      "interpreter, you can type \"help(object)\".  Executing \"help('string')\"\n",
      "has the same effect as typing a particular string at the help> prompt.\n"
     ]
    }
   ],
   "source": [
    "help()"
   ]
  },
  {
   "cell_type": "markdown",
   "metadata": {},
   "source": [
    "## Chapter 1"
   ]
  },
  {
   "cell_type": "markdown",
   "metadata": {},
   "source": [
    "### Exercise 4  \n",
    "\n",
    "Start the Python interpreter and use it as a calculator. Python’s syntax for math operations is almost the same as standard mathematical notation. For example, the symbols +, - and / denote addition, subtraction and division, as you would expect. The symbol for multiplication is *.\n",
    "\n",
    "If you run a 10 kilometer race in 43 minutes 30 seconds, what is your average time per mile? What is your average speed in miles per hour? (Hint: there are 1.61 kilometers in a mile). "
   ]
  },
  {
   "cell_type": "code",
   "execution_count": 6,
   "metadata": {
    "collapsed": false
   },
   "outputs": [
    {
     "name": "stdout",
     "output_type": "stream",
     "text": [
      "0.116725\n",
      "8.56714499893\n"
     ]
    }
   ],
   "source": [
    "def calc():\n",
    "    hours = 43.5/60\n",
    "    miles = 10/1.61\n",
    "    average_time_per_mile = hours/miles\n",
    "    average_speed = miles/hours\n",
    "    print average_time_per_mile\n",
    "    print average_speed\n",
    "calc()"
   ]
  },
  {
   "cell_type": "code",
   "execution_count": 10,
   "metadata": {
    "collapsed": false
   },
   "outputs": [
    {
     "name": "stdout",
     "output_type": "stream",
     "text": [
      "The Average Time per Mile is: 7.00 minutes per mile\n"
     ]
    }
   ],
   "source": [
    "miles = 10 / 1.61 #convert km to miles\n",
    "hours = 43.5 / 60 #convert minutes to hours\n",
    "TimePerMi = 43.5 / miles #average time per mile\n",
    "print 'The Average Time per Mile is: %.2f minutes per mile' %TimePerMi\n"
   ]
  },
  {
   "cell_type": "code",
   "execution_count": 7,
   "metadata": {
    "collapsed": false
   },
   "outputs": [
    {
     "name": "stdout",
     "output_type": "stream",
     "text": [
      "average speed = 8.56714499893 mph\n",
      "average time per mile = 0.116725 hours per mile\n"
     ]
    }
   ],
   "source": [
    "avg_speed = (10.0/1.61)/(43.5/60); print \"average speed = \" + str(avg_speed) + \" mph\"; avg_time_per_mile = (43.5/60)/(10.0/1.61); print(\"average time per mile = \" + str(avg_time_per_mile) + \" hours per mile\") "
   ]
  },
  {
   "cell_type": "code",
   "execution_count": 32,
   "metadata": {
    "collapsed": false
   },
   "outputs": [
    {
     "data": {
      "text/plain": [
       "(6.9713, 8.567144998929106)"
      ]
     },
     "execution_count": 32,
     "metadata": {},
     "output_type": "execute_result"
    }
   ],
   "source": [
    "43.3/10*1.61 ,10/43.5/1.61*60"
   ]
  },
  {
   "cell_type": "code",
   "execution_count": 19,
   "metadata": {
    "collapsed": false
   },
   "outputs": [
    {
     "name": "stdout",
     "output_type": "stream",
     "text": [
      "8.56714499893\n"
     ]
    }
   ],
   "source": [
    "distance = 10/1.61\n",
    "time = 43.5/60\n",
    "averageSpeed = distance/time \n",
    "print averageSpeed\n"
   ]
  },
  {
   "cell_type": "code",
   "execution_count": 13,
   "metadata": {
    "collapsed": false
   },
   "outputs": [
    {
     "name": "stdout",
     "output_type": "stream",
     "text": [
      "0.116725\n",
      "8.56714499893\n"
     ]
    }
   ],
   "source": [
    "kilometers = 10 # number of kilometers\n",
    "miles = kilometers / 1.61 # number of kilometers in a mile\n",
    "\n",
    "minutes = 60 # number of seconds in a minute\n",
    "time = 43 * minutes + 30 # time in seconds\n",
    "time_in_hours = (43.000 * minutes + 30.000) / 3600 # total time in hours\n",
    "\n",
    "average_time_per_mile = (time_in_hours / miles) # average time per mile in hours\n",
    "\n",
    "average_speed_miles_per_hour = miles / time_in_hours # average speed in miles per hour\n",
    "\n",
    "print average_time_per_mile\n",
    "print average_speed_miles_per_hour"
   ]
  },
  {
   "cell_type": "code",
   "execution_count": 1,
   "metadata": {
    "collapsed": false
   },
   "outputs": [
    {
     "name": "stdout",
     "output_type": "stream",
     "text": [
      "Average time per mile is 7.0035min\n",
      "Average speed in miles per hr is 8.56714499893 mph\n"
     ]
    }
   ],
   "source": [
    "print 'Average time per mile is ' + str(43.5/(10/1.61)) + 'min'\n",
    "print 'Average speed in miles per hr is ' + str((10/1.61)/43.5*60) + ' mph'"
   ]
  },
  {
   "cell_type": "code",
   "execution_count": 12,
   "metadata": {
    "collapsed": false
   },
   "outputs": [
    {
     "name": "stdout",
     "output_type": "stream",
     "text": [
      "8.56714499893 mph\n"
     ]
    }
   ],
   "source": [
    "miles = 10/1.61 \n",
    "hours = 43.5/60\n",
    "averageSpeed = miles/hours\n",
    "print '%s mph' % (averageSpeed)"
   ]
  },
  {
   "cell_type": "markdown",
   "metadata": {},
   "source": [
    "NOTE: I added another cell for the interpreter calculation for mph. Sorry if this part of the answer does not get extracted."
   ]
  },
  {
   "cell_type": "code",
   "execution_count": 4,
   "metadata": {
    "collapsed": false
   },
   "outputs": [
    {
     "data": {
      "text/plain": [
       "8.567144998929106"
      ]
     },
     "execution_count": 4,
     "metadata": {},
     "output_type": "execute_result"
    }
   ],
   "source": [
    "43.5/(10/1.61) #Average time per mile\n",
    "60/(43.5/(10/1.61)) #Average speed mph"
   ]
  },
  {
   "cell_type": "code",
   "execution_count": 8,
   "metadata": {
    "collapsed": false
   },
   "outputs": [
    {
     "name": "stdout",
     "output_type": "stream",
     "text": [
      "6.21118012422 miles\n",
      "7.0035 minutes/mile\n",
      "8.56714499893 miles/hour\n"
     ]
    }
   ],
   "source": [
    "print 10 * (1/1.61) , \"miles\"\n",
    "print 43.5 / (10 * (1/1.61)) , \"minutes/mile\"\n",
    "print 10 * (1/1.61) / (43.5/60) , \"miles/hour\""
   ]
  },
  {
   "cell_type": "code",
   "execution_count": 11,
   "metadata": {
    "collapsed": false
   },
   "outputs": [
    {
     "name": "stdout",
     "output_type": "stream",
     "text": [
      "7 minutes per mile\n",
      "8 mph\n"
     ]
    }
   ],
   "source": [
    "print \"%d minutes per mile\" % (43.5/(10/1.61))\n",
    "print \"%d mph\" % (10/1.61/43.5*60)"
   ]
  },
  {
   "cell_type": "code",
   "execution_count": 8,
   "metadata": {
    "collapsed": false
   },
   "outputs": [
    {
     "name": "stdout",
     "output_type": "stream",
     "text": [
      "7.003500000000001 minutes/mile\n",
      "8.567144998929106 miles/hour\n"
     ]
    }
   ],
   "source": [
    "miles = 10/1.61\n",
    "print((str)(43.5/miles) + \" minutes/mile\")\n",
    "print((str)(miles/(43.5/60)) + \" miles/hour\")"
   ]
  },
  {
   "cell_type": "code",
   "execution_count": 11,
   "metadata": {
    "collapsed": false
   },
   "outputs": [
    {
     "name": "stdout",
     "output_type": "stream",
     "text": [
      "0.856714499893 average mph\n"
     ]
    }
   ],
   "source": [
    "mi = 10/16.1 #miles\n",
    "t = 43.5 / 60 #hours\n",
    "\n",
    "print str(mi/t) + \" average mph\""
   ]
  },
  {
   "cell_type": "code",
   "execution_count": 6,
   "metadata": {
    "collapsed": false
   },
   "outputs": [
    {
     "data": {
      "text/plain": [
       "8.567144998929106"
      ]
     },
     "execution_count": 6,
     "metadata": {},
     "output_type": "execute_result"
    }
   ],
   "source": [
    ">>> (10/1.61)/(43.5/60) #speed in mph\n"
   ]
  },
  {
   "cell_type": "code",
   "execution_count": 12,
   "metadata": {
    "collapsed": false
   },
   "outputs": [
    {
     "name": "stdout",
     "output_type": "stream",
     "text": [
      "Average Speed: 8.56714499893 miles per hour\n",
      "Average Time per Mile: 0.116725 hours per mile\n"
     ]
    }
   ],
   "source": [
    "distance = 10/1.61 #miles\n",
    "\n",
    "time = (30.0/3600)+(43.0/60) #hours\n",
    "\n",
    "average_speed = distance/time\n",
    "\n",
    "average_time_per_mile = time/distance\n",
    "\n",
    "print \"Average Speed: \" + str(average_speed) + \" miles per hour\"\n",
    "print \"Average Time per Mile: \" + str(average_time_per_mile) + \" hours per mile\""
   ]
  },
  {
   "cell_type": "code",
   "execution_count": 21,
   "metadata": {
    "collapsed": false
   },
   "outputs": [
    {
     "data": {
      "text/plain": [
       "420.21000000000004"
      ]
     },
     "execution_count": 21,
     "metadata": {},
     "output_type": "execute_result"
    }
   ],
   "source": [
    "(43.0 * 60.0 + 30.0)/(10/1.61)"
   ]
  },
  {
   "cell_type": "code",
   "execution_count": 7,
   "metadata": {
    "collapsed": false
   },
   "outputs": [
    {
     "data": {
      "text/plain": [
       "(7.003500000000001, 8.567144998929106)"
      ]
     },
     "execution_count": 7,
     "metadata": {},
     "output_type": "execute_result"
    }
   ],
   "source": [
    "43.5/(10/1.61), (10/1.61)/(43.5/60)"
   ]
  },
  {
   "cell_type": "markdown",
   "metadata": {},
   "source": [
    "## Chapter 2"
   ]
  },
  {
   "cell_type": "markdown",
   "metadata": {},
   "source": [
    "### Exercise 2  \n",
    "\n",
    "Assume that we execute the following assignment statements:\n",
    "\n",
    "width = 17\n",
    "height = 12.0\n",
    "delimiter = '.'\n",
    "\n",
    "For each of the following expressions, write the value of the expression and the type (of the value of the expression).\n",
    "\n",
    "1. `width/2`\n",
    "2. `width/2.0`\n",
    "3. `height/3`\n",
    "4. `1 + 2 * 5`\n",
    "5. `delimiter * 5`\n",
    "\n",
    "Please use the following markdown cell to provide your answer."
   ]
  },
  {
   "cell_type": "markdown",
   "metadata": {},
   "source": [
    "1. 8 integer\n",
    "2. 8.5 float\n",
    "3. 4.0 float\n",
    "4. 11 integer\n",
    "5. '…..' string"
   ]
  },
  {
   "cell_type": "markdown",
   "metadata": {},
   "source": [
    "1. 8, due to it cutting 8.5 off at the decimal\n",
    "2. 8.5, since 2.0 is a float\n",
    "3. 4.0\n",
    "4. 11\n",
    "5. ....."
   ]
  },
  {
   "cell_type": "markdown",
   "metadata": {},
   "source": [
    "1. value = 8, type = 'int' (or integer)\n",
    "2. value = 8.5, type = 'float'\n",
    "3. value = 4.0, type = 'float'\n",
    "4. value = 11, type = 'int'\n",
    "5. value = '.....' , type = 'str' (or string)"
   ]
  },
  {
   "cell_type": "markdown",
   "metadata": {},
   "source": [
    "8\n",
    "\n",
    "8.5\n",
    "\n",
    "4\n",
    "\n",
    "11\n",
    "\n",
    "....."
   ]
  },
  {
   "cell_type": "code",
   "execution_count": 39,
   "metadata": {
    "collapsed": false
   },
   "outputs": [
    {
     "data": {
      "text/plain": [
       "0.8333333333333334"
      ]
     },
     "execution_count": 39,
     "metadata": {},
     "output_type": "execute_result"
    }
   ],
   "source": [
    "minute = 50\n",
    "minute/60\n",
    "minute/60.0"
   ]
  },
  {
   "cell_type": "markdown",
   "metadata": {},
   "source": [
    "1. 8, integer\n",
    "2. 8.5, float\n",
    "3. 4.0, float\n",
    "4. 11, integer\n",
    "5. ....., string"
   ]
  },
  {
   "cell_type": "markdown",
   "metadata": {},
   "source": [
    "1. 8 (integer)\n",
    "2. 8.5 (float)\n",
    "3. 4.0 (float)\n",
    "4. 11 (integer)\n",
    "5. '.....' (string) "
   ]
  },
  {
   "cell_type": "markdown",
   "metadata": {},
   "source": [
    "1. 8\n",
    "2. 8.5\n",
    "3. 4.0\n",
    "4. 11\n",
    "5. ....."
   ]
  },
  {
   "cell_type": "markdown",
   "metadata": {},
   "source": [
    "1. 8 , int\n",
    "2. 8.5 , float\n",
    "3. 40 , float\n",
    "4. 11 , int\n",
    "5. ..... , str"
   ]
  },
  {
   "cell_type": "markdown",
   "metadata": {},
   "source": [
    "1. 8, integer\n",
    "2. 8.5, float\n",
    "3. 4.0, float\n",
    "4. 11, integer\n",
    "5. '.....', string"
   ]
  },
  {
   "cell_type": "markdown",
   "metadata": {},
   "source": [
    "8\n",
    "8.5\n",
    "6.0\n",
    "11\n",
    "....."
   ]
  },
  {
   "cell_type": "markdown",
   "metadata": {},
   "source": [
    "1. 8\n",
    "2. 8.5\n",
    "3. 4.0\n",
    "4. 11\n",
    "5. ....."
   ]
  },
  {
   "cell_type": "markdown",
   "metadata": {},
   "source": [
    "1. 8.5 float\n",
    "2. 8.5 float\n",
    "3. 4.0 float\n",
    "4. 11 int\n",
    "5. ..... String"
   ]
  },
  {
   "cell_type": "markdown",
   "metadata": {},
   "source": [
    "1. 8 (int)\n",
    "2. 8.5 (float)\n",
    "3. 4.0 (float)\n",
    "4. 11 (int)\n",
    "5. '.....' (string)"
   ]
  },
  {
   "cell_type": "markdown",
   "metadata": {},
   "source": [
    "1. width = 8.5 (assuming python 3) - floating-point\n",
    "2. width = 8.5 - floating-point\n",
    "3. height = 4.0 - floating-point\n",
    "4. 11 - integer\n",
    "5. '.....' - string"
   ]
  },
  {
   "cell_type": "markdown",
   "metadata": {},
   "source": [
    "1) 8\n",
    "2) 8.5\n",
    "3) 9.0\n",
    "4) 11\n",
    "5) ....."
   ]
  },
  {
   "cell_type": "markdown",
   "metadata": {},
   "source": [
    "1. 8 <int>\n",
    "2. 8.5 <float>\n",
    "3. 4.0 <float>\n",
    "4. 11 <int>\n",
    "5. ..... <str>"
   ]
  },
  {
   "cell_type": "markdown",
   "metadata": {},
   "source": [
    "1. 8 integer\n",
    "2. 8.5 float\n",
    "3. 4 float\n",
    "4. 11 integer\n",
    "5. '.....' string"
   ]
  },
  {
   "cell_type": "markdown",
   "metadata": {},
   "source": [
    "## Chapter 2"
   ]
  },
  {
   "cell_type": "markdown",
   "metadata": {},
   "source": [
    "The volume of a sphere with radius r is 4/3 $\\pi r^3$. What is the volume of a sphere with radius 5? Hint: 392.7 is wrong!"
   ]
  },
  {
   "cell_type": "code",
   "execution_count": 11,
   "metadata": {
    "collapsed": false
   },
   "outputs": [
    {
     "data": {
      "text/plain": [
       "392.5"
      ]
     },
     "execution_count": 11,
     "metadata": {},
     "output_type": "execute_result"
    }
   ],
   "source": [
    "4/3*3.14*(5**3)"
   ]
  },
  {
   "cell_type": "code",
   "execution_count": 11,
   "metadata": {
    "collapsed": false
   },
   "outputs": [
    {
     "name": "stdout",
     "output_type": "stream",
     "text": [
      "392.699081699\n"
     ]
    }
   ],
   "source": [
    "r = 5\n",
    "import math\n",
    "volume = (4/3) * math.pi * r**3\n",
    "print volume"
   ]
  },
  {
   "cell_type": "code",
   "execution_count": 8,
   "metadata": {
    "collapsed": false
   },
   "outputs": [
    {
     "data": {
      "text/plain": [
       "523.5833333333333"
      ]
     },
     "execution_count": 8,
     "metadata": {},
     "output_type": "execute_result"
    }
   ],
   "source": [
    "(4/3.00)*3.1415*(5**3)"
   ]
  },
  {
   "cell_type": "code",
   "execution_count": 14,
   "metadata": {
    "collapsed": false
   },
   "outputs": [
    {
     "data": {
      "text/plain": [
       "104.66666666666666"
      ]
     },
     "execution_count": 14,
     "metadata": {},
     "output_type": "execute_result"
    }
   ],
   "source": [
    "(4.0/3) * (3.14) * (5**2)"
   ]
  },
  {
   "cell_type": "code",
   "execution_count": 59,
   "metadata": {
    "collapsed": false
   },
   "outputs": [
    {
     "name": "stdout",
     "output_type": "stream",
     "text": [
      "523.598333333\n"
     ]
    }
   ],
   "source": [
    "r = 5\n",
    "Volume =  pi*(r**3)*4/3\n",
    "\n",
    "print Volume\n"
   ]
  },
  {
   "cell_type": "code",
   "execution_count": 24,
   "metadata": {
    "collapsed": false
   },
   "outputs": [
    {
     "name": "stdout",
     "output_type": "stream",
     "text": [
      "523.598775598\n"
     ]
    }
   ],
   "source": [
    "from math import *\n",
    "\n",
    "radius = 5\n",
    "Volume = (4 * pi * (radius ** 3)) / 3\n",
    "\n",
    "print Volume"
   ]
  },
  {
   "cell_type": "code",
   "execution_count": 8,
   "metadata": {
    "collapsed": false
   },
   "outputs": [
    {
     "name": "stdout",
     "output_type": "stream",
     "text": [
      "523.333333333\n"
     ]
    }
   ],
   "source": [
    "print (4.0/3)*(3.14)*(5**3)"
   ]
  },
  {
   "cell_type": "code",
   "execution_count": 24,
   "metadata": {
    "collapsed": false
   },
   "outputs": [
    {
     "name": "stdout",
     "output_type": "stream",
     "text": [
      "523.598333333\n"
     ]
    }
   ],
   "source": [
    "radius = 5.0\n",
    "volume = 4.0/3.0 * 3.14159 * radius**3\n",
    "print volume"
   ]
  },
  {
   "cell_type": "code",
   "execution_count": 19,
   "metadata": {
    "collapsed": false
   },
   "outputs": [
    {
     "data": {
      "text/plain": [
       "523.5987755982989"
      ]
     },
     "execution_count": 19,
     "metadata": {},
     "output_type": "execute_result"
    }
   ],
   "source": [
    "import math\n",
    "(4.0 * math.pi * 5.0 ** 3.0) / 3.0"
   ]
  },
  {
   "cell_type": "code",
   "execution_count": 6,
   "metadata": {
    "collapsed": false
   },
   "outputs": [
    {
     "data": {
      "text/plain": [
       "523.3333333333334"
      ]
     },
     "execution_count": 6,
     "metadata": {},
     "output_type": "execute_result"
    }
   ],
   "source": [
    "4 * 3.14 * 5**3 / 3"
   ]
  },
  {
   "cell_type": "code",
   "execution_count": 10,
   "metadata": {
    "collapsed": false
   },
   "outputs": [
    {
     "data": {
      "text/plain": [
       "523.3333333333334"
      ]
     },
     "execution_count": 10,
     "metadata": {},
     "output_type": "execute_result"
    }
   ],
   "source": [
    "(4.0/3) * 3.14 * 5**3"
   ]
  },
  {
   "cell_type": "code",
   "execution_count": 14,
   "metadata": {
    "collapsed": false
   },
   "outputs": [
    {
     "data": {
      "text/plain": [
       "523.5987755982989"
      ]
     },
     "execution_count": 14,
     "metadata": {},
     "output_type": "execute_result"
    }
   ],
   "source": [
    "import math\n",
    "4.0/3.0*math.pi*math.pow(5,3)"
   ]
  },
  {
   "cell_type": "code",
   "execution_count": 3,
   "metadata": {
    "collapsed": false
   },
   "outputs": [
    {
     "data": {
      "text/plain": [
       "523.3333333333334"
      ]
     },
     "execution_count": 3,
     "metadata": {},
     "output_type": "execute_result"
    }
   ],
   "source": [
    "4/3*3.14*(5**3)"
   ]
  },
  {
   "cell_type": "code",
   "execution_count": 22,
   "metadata": {
    "collapsed": false
   },
   "outputs": [
    {
     "data": {
      "text/plain": [
       "523.5987755982989"
      ]
     },
     "execution_count": 22,
     "metadata": {},
     "output_type": "execute_result"
    }
   ],
   "source": [
    "import math\n",
    "4.0/3.0 * math.pi * 5**3"
   ]
  },
  {
   "cell_type": "code",
   "execution_count": 11,
   "metadata": {
    "collapsed": false
   },
   "outputs": [
    {
     "data": {
      "text/plain": [
       "523.5987749999999"
      ]
     },
     "execution_count": 11,
     "metadata": {},
     "output_type": "execute_result"
    }
   ],
   "source": [
    ">>> r = 5.0\n",
    ">>> pi = 3.14159265\n",
    ">>> (4.0/3.0) * pi * r**3\n"
   ]
  },
  {
   "cell_type": "code",
   "execution_count": 15,
   "metadata": {
    "collapsed": false,
    "scrolled": true
   },
   "outputs": [
    {
     "name": "stdout",
     "output_type": "stream",
     "text": [
      "523.598775598\n"
     ]
    }
   ],
   "source": [
    "from math import *\n",
    "\n",
    "radius = 5 \n",
    "volume = (4*pi*radius**3)/3\n",
    "print volume"
   ]
  },
  {
   "cell_type": "code",
   "execution_count": 15,
   "metadata": {
    "collapsed": false
   },
   "outputs": [
    {
     "data": {
      "text/plain": [
       "523.3333333333334"
      ]
     },
     "execution_count": 15,
     "metadata": {},
     "output_type": "execute_result"
    }
   ],
   "source": [
    "(4.0/3.0 * pi * 5**3)"
   ]
  },
  {
   "cell_type": "code",
   "execution_count": 16,
   "metadata": {
    "collapsed": false,
    "scrolled": false
   },
   "outputs": [
    {
     "data": {
      "text/plain": [
       "523.5994226496554"
      ]
     },
     "execution_count": 16,
     "metadata": {},
     "output_type": "execute_result"
    }
   ],
   "source": [
    "r = 5\n",
    "pi = 3.141596535897932\n",
    "((r**3)*4*pi)/3"
   ]
  },
  {
   "cell_type": "markdown",
   "metadata": {},
   "source": [
    "Suppose the cover price of a book is \\$24.95, but bookstores get a 40% discount. Shipping costs \\$3 for the first copy and 75 cents for each additional copy. What is the total wholesale cost for 60 copies?"
   ]
  },
  {
   "cell_type": "code",
   "execution_count": 15,
   "metadata": {
    "collapsed": false
   },
   "outputs": [
    {
     "name": "stdout",
     "output_type": "stream",
     "text": [
      "945.45\n"
     ]
    }
   ],
   "source": [
    "def cost():\n",
    "    discount = 24.95 - 24.95*.4\n",
    "    shipping = 3 + .75*59\n",
    "    total = discount*60+shipping\n",
    "    print total\n",
    "cost()"
   ]
  },
  {
   "cell_type": "code",
   "execution_count": 16,
   "metadata": {
    "collapsed": false
   },
   "outputs": [
    {
     "name": "stdout",
     "output_type": "stream",
     "text": [
      "$945.45 for 60 books\n"
     ]
    }
   ],
   "source": [
    "bookPrice = 24.95\n",
    "BSPrice = bookPrice - (.4 * bookPrice)\n",
    "booksOrdered = 60\n",
    "addonShipping = .75 * (booksOrdered - 1)\n",
    "shippingPrice = 3 + addonShipping\n",
    "totalCost = BSPrice * booksOrdered + shippingPrice\n",
    "print '$' + str(totalCost) + ' for ' + str(booksOrdered) + ' books'"
   ]
  },
  {
   "cell_type": "code",
   "execution_count": 10,
   "metadata": {
    "collapsed": false
   },
   "outputs": [
    {
     "name": "stdout",
     "output_type": "stream",
     "text": [
      "Wholesale cost for 60 copies = $945.45\n"
     ]
    }
   ],
   "source": [
    "print \"Wholesale cost for 60 copies = $\" + str(24.95*0.6*60 + 3.0+(60-1)*0.75)"
   ]
  },
  {
   "cell_type": "code",
   "execution_count": 15,
   "metadata": {
    "collapsed": false
   },
   "outputs": [
    {
     "data": {
      "text/plain": [
       "707.3324999999999"
      ]
     },
     "execution_count": 15,
     "metadata": {},
     "output_type": "execute_result"
    }
   ],
   "source": [
    "discountedbook = 24.95 * 0.6\n",
    "3 * discountedbook + 59 * .75 * discountedbook"
   ]
  },
  {
   "cell_type": "code",
   "execution_count": 61,
   "metadata": {
    "collapsed": false
   },
   "outputs": [
    {
     "name": "stdout",
     "output_type": "stream",
     "text": [
      "946.2\n"
     ]
    }
   ],
   "source": [
    "book = 24.95 #Dollars\n",
    "discount = 24.95 *0.4 #40 percent\n",
    "quantity = 60 #60 books\n",
    "shipping = 3 + .75*quantity\n",
    "wholesale = (24.95-discount)*quantity + shipping\n",
    "print wholesale"
   ]
  },
  {
   "cell_type": "code",
   "execution_count": 23,
   "metadata": {
    "collapsed": false
   },
   "outputs": [
    {
     "name": "stdout",
     "output_type": "stream",
     "text": [
      "$945.45\n"
     ]
    }
   ],
   "source": [
    "books = 60\n",
    "cover_price = 24.95\n",
    "discount_price = 1 - 0.4\n",
    "purchase_cost = books * cover_price * discount_price\n",
    "\n",
    "first_copy_shipping = 3.00\n",
    "cost_per_additional_book = 0.75\n",
    "shipping_costs = first_copy_shipping + ((books - 1) * cost_per_additional_book)\n",
    "\n",
    "total_cost = purchase_cost + shipping_costs\n",
    "\n",
    "print \"$\" + str(total_cost)"
   ]
  },
  {
   "cell_type": "code",
   "execution_count": 1,
   "metadata": {
    "collapsed": false
   },
   "outputs": [
    {
     "name": "stdout",
     "output_type": "stream",
     "text": [
      "646.05\n"
     ]
    }
   ],
   "source": [
    "print ((60*24.95)*0.40) + 3 + (0.75*59)"
   ]
  },
  {
   "cell_type": "code",
   "execution_count": 25,
   "metadata": {
    "collapsed": false
   },
   "outputs": [
    {
     "name": "stdout",
     "output_type": "stream",
     "text": [
      "945.45\n"
     ]
    }
   ],
   "source": [
    "price = 24.95\n",
    "discount = 0.6 * price\n",
    "coppies = 60\n",
    "shipping = (coppies-1)*0.75 + 3.0\n",
    "totalCost = coppies*discount + shipping\n",
    "print totalCost"
   ]
  },
  {
   "cell_type": "code",
   "execution_count": 23,
   "metadata": {
    "collapsed": false
   },
   "outputs": [
    {
     "data": {
      "text/plain": [
       "945.4499999999999"
      ]
     },
     "execution_count": 23,
     "metadata": {},
     "output_type": "execute_result"
    }
   ],
   "source": [
    "(24.95 * 0.6 * 60) + (3.0 + 0.75 * 59.0)"
   ]
  },
  {
   "cell_type": "code",
   "execution_count": 7,
   "metadata": {
    "collapsed": false
   },
   "outputs": [
    {
     "data": {
      "text/plain": [
       "646.0500000000001"
      ]
     },
     "execution_count": 7,
     "metadata": {},
     "output_type": "execute_result"
    }
   ],
   "source": [
    "3 + .75*59 + 24.95*.4*60"
   ]
  },
  {
   "cell_type": "code",
   "execution_count": 21,
   "metadata": {
    "collapsed": false,
    "scrolled": true
   },
   "outputs": [
    {
     "name": "stdout",
     "output_type": "stream",
     "text": [
      "945.45\n",
      "for below:\n",
      "38.1 minutes\n",
      "get home at 7:30:06\n"
     ]
    }
   ],
   "source": [
    "print (24.95 * 60 * 0.6) + 3 + 0.75*59\n",
    "print \"for below:\"\n",
    "print (2*(8*60 + 15) + 3*(7*60 + 12))/60.0 , \"minutes\"\n",
    "print \"get home at 7:30:06\""
   ]
  },
  {
   "cell_type": "code",
   "execution_count": 24,
   "metadata": {
    "collapsed": false
   },
   "outputs": [
    {
     "data": {
      "text/plain": [
       "945.45"
      ]
     },
     "execution_count": 24,
     "metadata": {},
     "output_type": "execute_result"
    }
   ],
   "source": [
    "(int)(100*(24.95*.6*60+(3+.75*59)))/100.0"
   ]
  },
  {
   "cell_type": "code",
   "execution_count": 2,
   "metadata": {
    "collapsed": false
   },
   "outputs": [
    {
     "data": {
      "text/plain": [
       "945.4499999999999"
      ]
     },
     "execution_count": 2,
     "metadata": {},
     "output_type": "execute_result"
    }
   ],
   "source": [
    "(3+.75*59) + (24.95*.6*60)"
   ]
  },
  {
   "cell_type": "code",
   "execution_count": 24,
   "metadata": {
    "collapsed": false
   },
   "outputs": [
    {
     "name": "stdout",
     "output_type": "stream",
     "text": [
      "$945.45\n"
     ]
    }
   ],
   "source": [
    "price = 24.95 * 0.6\n",
    "print '$' + str(price * 60 + 3 + .75*59)"
   ]
  },
  {
   "cell_type": "code",
   "execution_count": 12,
   "metadata": {
    "collapsed": false
   },
   "outputs": [
    {
     "data": {
      "text/plain": [
       "945.4499999999999"
      ]
     },
     "execution_count": 12,
     "metadata": {},
     "output_type": "execute_result"
    }
   ],
   "source": [
    ">>> bookQuantity = 60;\n",
    ">>> bookCost = bookQuantity*24.95*0.6\n",
    ">>> shippingCost = 3 + (bookQuantity - 1)*0.75\n",
    ">>> bookCost + shippingCost"
   ]
  },
  {
   "cell_type": "code",
   "execution_count": 18,
   "metadata": {
    "collapsed": false
   },
   "outputs": [
    {
     "name": "stdout",
     "output_type": "stream",
     "text": [
      "945.45\n"
     ]
    }
   ],
   "source": [
    "cover_price = 24.95 #per book\n",
    "cover_price_with_discount = cover_price *0.6 \n",
    "\n",
    "total_wholesale_cost = cover_price_with_discount * 60 + (3 + 0.75 * 59)\n",
    "\n",
    "print total_wholesale_cost"
   ]
  },
  {
   "cell_type": "code",
   "execution_count": 16,
   "metadata": {
    "collapsed": false
   },
   "outputs": [
    {
     "data": {
      "text/plain": [
       "946.1999999999999"
      ]
     },
     "execution_count": 16,
     "metadata": {},
     "output_type": "execute_result"
    }
   ],
   "source": [
    "60 * (.75 + 24.95 * .6) + 3"
   ]
  },
  {
   "cell_type": "code",
   "execution_count": 17,
   "metadata": {
    "collapsed": false
   },
   "outputs": [
    {
     "data": {
      "text/plain": [
       "945.4499999999999"
      ]
     },
     "execution_count": 17,
     "metadata": {},
     "output_type": "execute_result"
    }
   ],
   "source": [
    "book = 24.95 * 0.6 * 60\n",
    "shipping = 3+(0.75*59)\n",
    "book + shipping"
   ]
  },
  {
   "cell_type": "markdown",
   "metadata": {},
   "source": [
    "If I leave my house at 6:52 am and run 1 mile at an easy pace (8:15 per mile), then 3 miles at tempo (7:12 per mile) and 1 mile at easy pace again, what time do I get home for breakfast? "
   ]
  },
  {
   "cell_type": "code",
   "execution_count": 20,
   "metadata": {
    "collapsed": false
   },
   "outputs": [
    {
     "name": "stdout",
     "output_type": "stream",
     "text": [
      "7:15\n"
     ]
    }
   ],
   "source": [
    "def time ():\n",
    "    one_mile_twice = (8*60+15)*2\n",
    "    three_miles = 7*60+12\n",
    "    total_minutes = (one_mile_twice + three_miles)/60\n",
    "    minutes = total_minutes -8\n",
    "    print '7:'+ str(minutes)\n",
    "time()\n"
   ]
  },
  {
   "cell_type": "markdown",
   "metadata": {},
   "source": [
    "## Chapter 3"
   ]
  },
  {
   "cell_type": "markdown",
   "metadata": {},
   "source": [
    "## Chapter 3"
   ]
  },
  {
   "cell_type": "markdown",
   "metadata": {},
   "source": [
    "## Chapter 3"
   ]
  },
  {
   "cell_type": "code",
   "execution_count": 22,
   "metadata": {
    "collapsed": false
   },
   "outputs": [
    {
     "name": "stdout",
     "output_type": "stream",
     "text": [
      "You get home at 7:30 am.\n"
     ]
    }
   ],
   "source": [
    "fastMile = 3 * (7 + 12.0/60) #converts to minutes so that computation is faster\n",
    "slowMile = 2 * (8 + 15.0/60)\n",
    "totalTimeM = fastMile + slowMile\n",
    "startTime = 6 * 60 + 52\n",
    "endTimeM = startTime + totalTimeM\n",
    "endTimeH = int(endTimeM) / 60\n",
    "endMinute = int(endTimeM - endTimeH * 60)\n",
    "print 'You get home at ' + str(endTimeH) + ':' + str(endMinute) + ' am.'"
   ]
  },
  {
   "cell_type": "markdown",
   "metadata": {},
   "source": [
    "## Chapter 3"
   ]
  },
  {
   "cell_type": "markdown",
   "metadata": {},
   "source": [
    "## Chapter 3"
   ]
  },
  {
   "cell_type": "markdown",
   "metadata": {},
   "source": [
    "## Chapter 3"
   ]
  },
  {
   "cell_type": "markdown",
   "metadata": {},
   "source": [
    "## Chapter 3"
   ]
  },
  {
   "cell_type": "code",
   "execution_count": null,
   "metadata": {
    "collapsed": true
   },
   "outputs": [],
   "source": [
    "number_of_minutes = int(8.25 * 1 + 3 * 7.2 + 1 * 8.25)\n",
    "\n",
    "startTime = [06,52]\n",
    "\n",
    "endTime = [startTime[0],startTime[1]+ number_of_minutes]\n",
    "while endTime[1]>=60:\n",
    "    endTime[1]-=60\n",
    "    endTime[0]+=1\n",
    "if endTime[0]<10:\n",
    "    endTime[0] = \"0\"+str(endTime[0])\n",
    "if endTime[1]<10:\n",
    "    endTime[1] = \"0\"+str(endTime[1])\n",
    "\n",
    "print \"End time = \" + \"%s:%s\" %(endTime[0],endTime[1])"
   ]
  },
  {
   "cell_type": "markdown",
   "metadata": {},
   "source": [
    "## Chapter 3"
   ]
  },
  {
   "cell_type": "code",
   "execution_count": 29,
   "metadata": {
    "collapsed": false
   },
   "outputs": [
    {
     "name": "stdout",
     "output_type": "stream",
     "text": [
      "7:30.1am\n"
     ]
    }
   ],
   "source": [
    "minutes = 52 + 2*8.25 + 3*7.2\n",
    "actualminutes = str(minutes-60)\n",
    "timehours = '7:'\n",
    "print timehours + actualminutes + 'am'\n"
   ]
  },
  {
   "cell_type": "code",
   "execution_count": 77,
   "metadata": {
    "collapsed": false
   },
   "outputs": [
    {
     "name": "stdout",
     "output_type": "stream",
     "text": [
      "0.36\n",
      "7.36416666667\n"
     ]
    }
   ],
   "source": [
    "startTime = 6 + 52/60.0 #convert to decimal\n",
    "easymiles = 8.25/60 #convert to hours in decimal\n",
    "nextthreemiles = (7+(12/60.0))/60.0 *3 #convert to hours in decimal\n",
    "finishTime = startTime + easymiles + nextthreemiles\n",
    "print finishTime"
   ]
  },
  {
   "cell_type": "markdown",
   "metadata": {},
   "source": [
    "## Chapter 3"
   ]
  },
  {
   "cell_type": "code",
   "execution_count": 4,
   "metadata": {
    "collapsed": false
   },
   "outputs": [
    {
     "name": "stdout",
     "output_type": "stream",
     "text": [
      "7:30\n"
     ]
    }
   ],
   "source": [
    "departure_time_hour = 6\n",
    "departure_time_minute = 52\n",
    "\n",
    "running_time_minute = (8 * 2) + (7 * 3)\n",
    "running_time_second = (15 * 2) + (12 * 3)\n",
    "\n",
    "if running_time_second >= 60:\n",
    "    running_time_minute = running_time_minute + 1\n",
    "    running_time_second = running_time_second - 60\n",
    "    \n",
    "return_time_hour = departure_time_hour\n",
    "return_time_minute = departure_time_minute + running_time_minute\n",
    "\n",
    "if return_time_minute >= 60:\n",
    "    return_time_hour = return_time_hour + 1\n",
    "    return_time_minute = return_time_minute - 60\n",
    "    \n",
    "print str(return_time_hour) + \":\" + str(return_time_minute)"
   ]
  },
  {
   "cell_type": "code",
   "execution_count": 5,
   "metadata": {
    "collapsed": false
   },
   "outputs": [
    {
     "name": "stdout",
     "output_type": "stream",
     "text": [
      "37.5\n",
      "You get home at 7:29:30 AM\n"
     ]
    }
   ],
   "source": [
    "easy_pace = 8 + (15.0/60)\n",
    "tempo_pace = 3 * (7 + (12/60))\n",
    "elapsed_time = 2*easy_pace + tempo_pace\n",
    "print elapsed_time\n",
    "print \"You get home at 7:29:30 AM\""
   ]
  },
  {
   "cell_type": "code",
   "execution_count": 42,
   "metadata": {
    "collapsed": false
   },
   "outputs": [
    {
     "name": "stdout",
     "output_type": "stream",
     "text": [
      "7:36.1\n"
     ]
    }
   ],
   "source": [
    "hour = 6\n",
    "minute = 52\n",
    "easyP = 8.25\n",
    "tempo = 7.2\n",
    "timeElapsed = startT + 2*easyP +3*tempo\n",
    "hour += 1\n",
    "minute = timeElapsed - 8\n",
    "print \"%s:%s\" % (hour,minute)\n"
   ]
  },
  {
   "cell_type": "markdown",
   "metadata": {},
   "source": [
    "## Chapter 3"
   ]
  },
  {
   "cell_type": "code",
   "execution_count": 5,
   "metadata": {
    "collapsed": false
   },
   "outputs": [
    {
     "name": "stdout",
     "output_type": "stream",
     "text": [
      "Allen Downey is home for breakfast at 07:30:06\n",
      "If it is a weekday, the dining hall opened 6 seconds ago. Maybe he ran to Olin?\n"
     ]
    }
   ],
   "source": [
    "#A niceish way to add times together\n",
    "#the premise of this approach is that times are basically base 60 integers.\n",
    "#this means that we can convert a time object that holds hours, minutes and seconds to an int that holds the number of seconds.\n",
    "#then we can just add as usual and convert to base 60. \n",
    "#then we get the correct times.\n",
    "\n",
    "#This does not account for am/pm or multi-day adding, since that is in multiples of 12 and Allen Downey's morning runs aren't that intense.\n",
    "#It also doesn't account for creating an exception when handling input values for the hour, minute and seconds being less than 0 or greater than 59\n",
    "\n",
    "\n",
    "#(also why is there no comment block thing in python) (what do I do)\n",
    "\n",
    "import math\n",
    "class Time(object):\n",
    "    pass\n",
    "    \n",
    "    #use hour, minutes, and seconds attributes\n",
    "\n",
    "    #can someone explain to me what exactly pass does? \n",
    "    #Is it just so you don't have empty blocks?\n",
    "    \n",
    "\n",
    "def time_to_base60(time):\n",
    "    # convert a time object to a base 60 int\n",
    "    minutes = time.hour * 60 + time.minutes\n",
    "    seconds = minutes * 60 + time.seconds\n",
    "    return seconds\n",
    "\n",
    "def base60_to_time(number_of_seconds):\n",
    "    #convert back from the int to a time object\n",
    "    time = Time()\n",
    "    number_of_minutes = math.floor(number_of_seconds / 60)\n",
    "    time.seconds = number_of_seconds % 60\n",
    "    time.hour = math.floor(number_of_minutes / 60)\n",
    "    time.minutes = number_of_minutes % 60\n",
    "    return time\n",
    "\n",
    "def addition_is_hard(start_time, duration_time):\n",
    "    #adds two times to each other\n",
    "    number_of_seconds = time_to_base60(start_time) + time_to_base60(duration_time);\n",
    "    return base60_to_time (number_of_seconds)\n",
    "\n",
    "def fancy_format_print(t):\n",
    "    #uses the string format operater to display things nicely\n",
    "    #http://stackoverflow.com/questions/22617/format-numbers-to-strings-in-python\n",
    "    print \"%02d:%02d:%02d\" % (t.hour, t.minutes, t.seconds)\n",
    "\n",
    "def main():\n",
    "\n",
    "    #time (from midnight) leaving the house\n",
    "    house = Time()\n",
    "    house.hour = 6\n",
    "    house.minutes = 52\n",
    "    house.seconds = 0\n",
    "\n",
    "    #time on an easy pace    \n",
    "    easy = Time()\n",
    "    easy.hour = 0\n",
    "    easy.minutes = 8\n",
    "    easy.seconds = 15\n",
    "\n",
    "    #time at tempo (multiplication by 3 for three miles)\n",
    "    tempo = Time()\n",
    "    tempo.hour = 0\n",
    "    tempo.minutes = 21\n",
    "    tempo.seconds = 36\n",
    "\n",
    "    #addition\n",
    "    \n",
    "    #time after first easy segment\n",
    "    after_easy_1 = addition_is_hard(house, easy)    \n",
    "    #print 'Allen Downey finishes his first easy segment at',\n",
    "    #fancy_format_print(after_easy_1)\n",
    "    \n",
    "    #time after tempo segment\n",
    "    after_tempo = addition_is_hard(after_easy_1, tempo)    \n",
    "    #print 'Allen Downey finishes his tempo segment at',\n",
    "    #fancy_format_print(after_tempo)\n",
    "    \n",
    "    #time after last easy segment\n",
    "    after_easy_2 = addition_is_hard(after_tempo, easy)\n",
    "    print 'Allen Downey is home for breakfast at',\n",
    "    fancy_format_print(after_easy_2)\n",
    "    #print 'If it is a weekday, the dining hall opened 6 seconds ago. Maybe he ran to Olin?'\n",
    "\n",
    "if __name__ == '__main__':\n",
    "    main()\n",
    "#this is a trick that lets you use the program as a module or a standalone program\n",
    "#https://docs.python.org/3/library/__main__.html"
   ]
  },
  {
   "cell_type": "markdown",
   "metadata": {},
   "source": [
    "## Chapter 3"
   ]
  },
  {
   "cell_type": "code",
   "execution_count": 11,
   "metadata": {
    "collapsed": false
   },
   "outputs": [
    {
     "data": {
      "text/plain": [
       "7.501666666666667"
      ]
     },
     "execution_count": 11,
     "metadata": {},
     "output_type": "execute_result"
    }
   ],
   "source": [
    "((1*8.25) + (3*7.2) + (1*8.25) - 8 + 7*60)/60 #answer is in terms of hours"
   ]
  },
  {
   "cell_type": "code",
   "execution_count": 26,
   "metadata": {
    "collapsed": false
   },
   "outputs": [
    {
     "name": "stdout",
     "output_type": "stream",
     "text": [
      "7:30\n"
     ]
    }
   ],
   "source": [
    "t = 6*60+52+2*8.25+3*7.2\n",
    "min = t%60\n",
    "hr = (int)(t/60)\n",
    "print(\"%d:%d\" % (hr, min))"
   ]
  },
  {
   "cell_type": "code",
   "execution_count": 10,
   "metadata": {
    "collapsed": false
   },
   "outputs": [
    {
     "name": "stdout",
     "output_type": "stream",
     "text": [
      "7:30\n"
     ]
    }
   ],
   "source": [
    "minutes = (6*60+52+8.25*2+7.2*3)\n",
    "print(str((int)(minutes/60)) + \":\" + str((int)(minutes%60)))"
   ]
  },
  {
   "cell_type": "code",
   "execution_count": 10,
   "metadata": {
    "collapsed": false
   },
   "outputs": [
    {
     "name": "stdout",
     "output_type": "stream",
     "text": [
      "Return at 7:30:05\n"
     ]
    }
   ],
   "source": [
    "easy = 8.25 #minutes/mile\n",
    "tempo = 7.2 #minutes/mile\n",
    "\n",
    "total_time = easy*2 + tempo*3 + 52 \n",
    "#assume we started at 6:00 to make math easier\n",
    "\n",
    "\n",
    "final_hour = (int) (6 + total_time//60)\n",
    "final_minute =  (int) (total_time % 60)\n",
    "final_seconds = (int) ((total_time % 1)*60)\n",
    "\n",
    "print \"Return at {}:{}:{:02d}\".format(final_hour,final_minute,final_seconds)"
   ]
  },
  {
   "cell_type": "markdown",
   "metadata": {},
   "source": [
    "## Chapter 3"
   ]
  },
  {
   "cell_type": "code",
   "execution_count": 24,
   "metadata": {
    "collapsed": false
   },
   "outputs": [
    {
     "data": {
      "text/plain": [
       "'7:29'"
      ]
     },
     "execution_count": 24,
     "metadata": {},
     "output_type": "execute_result"
    }
   ],
   "source": [
    ">>> minutesLeft = 6*60 + 52\n",
    ">>> minutesRan = 2*(8 + 15/60) + 3*(7 + 12/60)\n",
    ">>> minutesBack = minutesLeft + minutesRan\n",
    ">>> hours = minutesBack / 60\n",
    ">>> minutes = minutesBack - hours*60\n",
    ">>> str(hours)+':'+str(minutes)\n"
   ]
  },
  {
   "cell_type": "code",
   "execution_count": 23,
   "metadata": {
    "collapsed": false
   },
   "outputs": [
    {
     "name": "stdout",
     "output_type": "stream",
     "text": [
      "7:21am\n"
     ]
    }
   ],
   "source": [
    "initial_time = 6*60+52 #time in minutes\n",
    "travel_time = (8+15.0/60) + 3*(7+12.0/60) #in minutes\n",
    "m = int(initial_time + travel_time) #final time in minutes\n",
    "h, m = divmod(m, 60)\n",
    "print str(h) + \":\" + str(m) + \"am\""
   ]
  },
  {
   "cell_type": "code",
   "execution_count": 20,
   "metadata": {
    "collapsed": false
   },
   "outputs": [
    {
     "data": {
      "text/plain": [
       "7.501666666666667"
      ]
     },
     "execution_count": 20,
     "metadata": {},
     "output_type": "execute_result"
    }
   ],
   "source": [
    "(2*(15.0/60 + 8) + 3*(12.0/60 + 7) + 6*60 + 52)/60"
   ]
  },
  {
   "cell_type": "code",
   "execution_count": 25,
   "metadata": {
    "collapsed": false
   },
   "outputs": [
    {
     "name": "stdout",
     "output_type": "stream",
     "text": [
      "7 : 30.1 am\n"
     ]
    }
   ],
   "source": [
    "runtimesec = (((8*60)+15)*2)+(((7*60)+12)*3) #seconds\n",
    "runtimemin = runtimesec/60.0 #minutes\n",
    "endtimemin = runtimemin-8\n",
    "print 7,\":\",endtimemin,\"am\""
   ]
  },
  {
   "cell_type": "markdown",
   "metadata": {},
   "source": [
    "### Exercise 3\n",
    "\n",
    "Python provides a built-in function called len that returns the length of a string, so the value of len('allen') is 5.\n",
    "Write a function named right_justify that takes a string named s as a parameter and prints the string with enough leading spaces so that the last letter of the string is in column 70 of the display.\n",
    "\n",
    "```\n",
    ">>> right_justify('allen')\n",
    "                                                                 allen```"
   ]
  },
  {
   "cell_type": "code",
   "execution_count": 1,
   "metadata": {
    "collapsed": false
   },
   "outputs": [
    {
     "name": "stdout",
     "output_type": "stream",
     "text": [
      "                                                                 allen\n"
     ]
    }
   ],
   "source": [
    "def right_justify(s):\n",
    "    print \" \"*65 + s\n",
    "right_justify(\"allen\")"
   ]
  },
  {
   "cell_type": "code",
   "execution_count": 30,
   "metadata": {
    "collapsed": false
   },
   "outputs": [
    {
     "name": "stdout",
     "output_type": "stream",
     "text": [
      "                                                                     allen\n"
     ]
    }
   ],
   "source": [
    "def right_justify(s):\n",
    "    spaces = 70\n",
    "    strLen = len('s')\n",
    "    justify = (spaces - strLen) * ' '\n",
    "    print justify + s\n",
    "    \n",
    "right_justify('allen')"
   ]
  },
  {
   "cell_type": "code",
   "execution_count": null,
   "metadata": {
    "collapsed": true
   },
   "outputs": [],
   "source": [
    "def right_justify(s):\n",
    "    if len(s) <= 70:\n",
    "        return \" \"*(70-len(s)) + s\n",
    "    else:\n",
    "        return \"Error. String is too long.\"\n",
    "\n",
    "print right_justify(\"allen\")"
   ]
  },
  {
   "cell_type": "code",
   "execution_count": 34,
   "metadata": {
    "collapsed": false
   },
   "outputs": [
    {
     "name": "stdout",
     "output_type": "stream",
     "text": [
      "                                                                 allen\n"
     ]
    }
   ],
   "source": [
    "def right_justify(s):\n",
    "    multiplier = 70-len(s)\n",
    "    spaces = ' ' * multiplier\n",
    "    print spaces + s\n",
    "    \n",
    "    \n",
    "right_justify('allen')"
   ]
  },
  {
   "cell_type": "code",
   "execution_count": 97,
   "metadata": {
    "collapsed": false
   },
   "outputs": [
    {
     "data": {
      "text/plain": [
       "5"
      ]
     },
     "execution_count": 97,
     "metadata": {},
     "output_type": "execute_result"
    }
   ],
   "source": [
    "len('allen')"
   ]
  },
  {
   "cell_type": "code",
   "execution_count": 9,
   "metadata": {
    "collapsed": false
   },
   "outputs": [
    {
     "name": "stdout",
     "output_type": "stream",
     "text": [
      "                                                           fartnuggets\n"
     ]
    }
   ],
   "source": [
    "def right_justify(s):\n",
    "    word_length = len(s)\n",
    "    spaces = \" \" * (70 - word_length)\n",
    "    solution = spaces + s\n",
    "    print solution\n",
    "    \n",
    "right_justify('fartnuggets')"
   ]
  },
  {
   "cell_type": "code",
   "execution_count": 9,
   "metadata": {
    "collapsed": false
   },
   "outputs": [
    {
     "name": "stdout",
     "output_type": "stream",
     "text": [
      "                                                                 hello\n"
     ]
    }
   ],
   "source": [
    "def right_justify(word):\n",
    "    return ' '*(70-len(word)) + word\n",
    "print right_justify('hello')"
   ]
  },
  {
   "cell_type": "code",
   "execution_count": 45,
   "metadata": {
    "collapsed": false
   },
   "outputs": [
    {
     "name": "stdout",
     "output_type": "stream",
     "text": [
      "                                                                 allen\n"
     ]
    }
   ],
   "source": [
    "def right_justify(word):\n",
    "    spaces = 70 - len(word)\n",
    "    print ' '*spaces + word\n",
    "right_justify('allen')"
   ]
  },
  {
   "cell_type": "code",
   "execution_count": 3,
   "metadata": {
    "collapsed": false
   },
   "outputs": [
    {
     "name": "stdout",
     "output_type": "stream",
     "text": [
      "                                                                 allen\n"
     ]
    }
   ],
   "source": [
    "def right_justify(s):\n",
    "    indentation = 70 - len(s)\n",
    "    return \" \" * indentation + s\n",
    "\n",
    "print right_justify(\"allen\")"
   ]
  },
  {
   "cell_type": "code",
   "execution_count": 14,
   "metadata": {
    "collapsed": true
   },
   "outputs": [],
   "source": [
    "def right_justify(s):\n",
    "    result = (70 - len(s)) * ' ' + s\n",
    "    print result"
   ]
  },
  {
   "cell_type": "code",
   "execution_count": 22,
   "metadata": {
    "collapsed": false
   },
   "outputs": [
    {
     "name": "stdout",
     "output_type": "stream",
     "text": [
      "                                                                 allen\n"
     ]
    }
   ],
   "source": [
    "def right_justify(a_string):\n",
    "    number_spaces = 70 - len(a_string)\n",
    "    print ' ' * number_spaces + a_string\n",
    "\n",
    "right_justify('allen')"
   ]
  },
  {
   "cell_type": "code",
   "execution_count": 29,
   "metadata": {
    "collapsed": false
   },
   "outputs": [
    {
     "name": "stdout",
     "output_type": "stream",
     "text": [
      "                                                           mmfmmgmmhmm\n",
      "                                                                    hi\n"
     ]
    }
   ],
   "source": [
    "def right_justify(line):\n",
    "    print ' '*(70-len(line)) + line\n",
    "\n",
    "right_justify('mmfmmgmmhmm')\n",
    "right_justify('hi')"
   ]
  },
  {
   "cell_type": "code",
   "execution_count": 13,
   "metadata": {
    "collapsed": false
   },
   "outputs": [
    {
     "name": "stdout",
     "output_type": "stream",
     "text": [
      "                                                                 stuff\n"
     ]
    }
   ],
   "source": [
    "def right_justify(s):\n",
    "    length = len(s);\n",
    "    print(\" \"*(70-length) + s);\n",
    "right_justify('stuff')"
   ]
  },
  {
   "cell_type": "code",
   "execution_count": 16,
   "metadata": {
    "collapsed": false
   },
   "outputs": [
    {
     "name": "stdout",
     "output_type": "stream",
     "text": [
      "                                                                 allen\n"
     ]
    }
   ],
   "source": [
    "def right_justify(to_justify):\n",
    "    num_spaces = 70 - len(to_justify)\n",
    "    print ' ' * num_spaces + to_justify\n",
    "    \n",
    "right_justify('allen')"
   ]
  },
  {
   "cell_type": "code",
   "execution_count": 35,
   "metadata": {
    "collapsed": false
   },
   "outputs": [
    {
     "name": "stdout",
     "output_type": "stream",
     "text": [
      "                                                                  Hello\n"
     ]
    }
   ],
   "source": [
    "def right_justify(s):\n",
    "    numSpaces = 71 - len(s)\n",
    "    string = ' '*numSpaces + s\n",
    "    print string\n",
    "    \n",
    "right_justify('Hello')\n"
   ]
  },
  {
   "cell_type": "code",
   "execution_count": 29,
   "metadata": {
    "collapsed": false,
    "scrolled": true
   },
   "outputs": [
    {
     "name": "stdout",
     "output_type": "stream",
     "text": [
      "                                                                  whee\n"
     ]
    }
   ],
   "source": [
    "def right_justify(s):\n",
    "    print \" \" * (70-len(s)) + s\n",
    "    \n",
    "right_justify(\"whee\")"
   ]
  },
  {
   "cell_type": "code",
   "execution_count": 33,
   "metadata": {
    "collapsed": false
   },
   "outputs": [
    {
     "name": "stdout",
     "output_type": "stream",
     "text": [
      "                                                                 allen\n"
     ]
    }
   ],
   "source": [
    "def right_justify(s):\n",
    "    length = len(s)\n",
    "    space = 70 - length\n",
    "    spaces = \" \" * space\n",
    "    res = spaces+s\n",
    "    print res\n",
    "\n",
    "right_justify('allen')"
   ]
  },
  {
   "cell_type": "markdown",
   "metadata": {},
   "source": [
    "## Chapter 3"
   ]
  },
  {
   "cell_type": "markdown",
   "metadata": {},
   "source": [
    "### Exercise 5\n",
    "\n",
    "This exercise can be done using only the statements and other features we have learned so far.\n",
    "\n",
    "(a) Write a function that draws a grid like the following:\n",
    "```\n",
    "+ - - - - + - - - - +\n",
    "|         |         |\n",
    "|         |         |\n",
    "|         |         |\n",
    "|         |         |\n",
    "+ - - - - + - - - - +\n",
    "|         |         |\n",
    "|         |         |\n",
    "|         |         |\n",
    "|         |         |\n",
    "+ - - - - + - - - - +\n",
    "```\n",
    "**Hint:** to print more than one value on a line, you can print a comma-separated sequence:\n",
    "print '+', '-'\n",
    "If the sequence ends with a comma, Python leaves the line unfinished, so the value printed next appears on the same line.\n",
    "print '+', \n",
    "print '-'\n",
    "The output of these statements is '+ -'.\n",
    "A print statement all by itself ends the current line and goes to the next line."
   ]
  },
  {
   "cell_type": "code",
   "execution_count": 4,
   "metadata": {
    "collapsed": false
   },
   "outputs": [
    {
     "name": "stdout",
     "output_type": "stream",
     "text": [
      "+ - - - - + - - - - +\n",
      "|         |         |\n",
      "|         |         |\n",
      "|         |         |\n",
      "|         |         |\n",
      "+ - - - - + - - - - +\n",
      "|         |         |\n",
      "|         |         |\n",
      "|         |         |\n",
      "|         |         |\n",
      "+ - - - - + - - - - +\n"
     ]
    }
   ],
   "source": [
    "def grid():\n",
    "    print '+','-','-','-','-','+','-','-','-','-','+'\n",
    "    print '|', ' '*7,'|', ' '*7,'|'\n",
    "    print '|', ' '*7,'|', ' '*7,'|'\n",
    "    print '|', ' '*7,'|', ' '*7,'|'\n",
    "    print '|', ' '*7,'|', ' '*7,'|'\n",
    "    print '+','-','-','-','-','+','-','-','-','-','+'\n",
    "    print '|', ' '*7,'|', ' '*7,'|'\n",
    "    print '|', ' '*7,'|', ' '*7,'|'\n",
    "    print '|', ' '*7,'|', ' '*7,'|'\n",
    "    print '|', ' '*7,'|', ' '*7,'|'\n",
    "    print '+','-','-','-','-','+','-','-','-','-','+'\n",
    "grid()"
   ]
  },
  {
   "cell_type": "code",
   "execution_count": 33,
   "metadata": {
    "collapsed": false
   },
   "outputs": [
    {
     "name": "stdout",
     "output_type": "stream",
     "text": [
      "+ - - - - + - - - - +\n",
      "|         |         |\n",
      "|         |         |\n",
      "|         |         |\n",
      "|         |         |\n",
      "+ - - - - + - - - - +\n",
      "|         |         |\n",
      "|         |         |\n",
      "|         |         |\n",
      "|         |         |\n",
      "+ - - - - + - - - - +\n"
     ]
    }
   ],
   "source": [
    "def pIntersec():\n",
    "    # prints an intersection point\n",
    "    print '+',\n",
    "    \n",
    "def pHLine():\n",
    "    # prints a horizontal line segment\n",
    "    print '- - - -',\n",
    "    \n",
    "def newLine():\n",
    "    print\n",
    "    \n",
    "def pVerLine():\n",
    "    # prints a vertical line\n",
    "    print '|',\n",
    "    \n",
    "def pEmptySpace():\n",
    "    # creates the inner empty space\n",
    "    print '       ',\n",
    "    \n",
    "def gridRow(f,g):\n",
    "    # prints one row of the grid\n",
    "    f()\n",
    "    g()\n",
    "    f()\n",
    "    g()\n",
    "    f()\n",
    "    newLine()\n",
    "    \n",
    "def insideCell():\n",
    "    gridRow(pVerLine,pEmptySpace)\n",
    "    gridRow(pVerLine,pEmptySpace)\n",
    "    gridRow(pVerLine,pEmptySpace)\n",
    "    gridRow(pVerLine,pEmptySpace)\n",
    "\n",
    "def printGrid():\n",
    "    gridRow(pIntersec,pHLine)\n",
    "    insideCell()\n",
    "    gridRow(pIntersec,pHLine)\n",
    "    insideCell()\n",
    "    gridRow(pIntersec,pHLine)\n",
    "    \n",
    "printGrid()"
   ]
  },
  {
   "cell_type": "code",
   "execution_count": null,
   "metadata": {
    "collapsed": true
   },
   "outputs": [],
   "source": [
    "def drawHorizontalLine():\n",
    "    return (\"+ \"+\"- \"*4)*2 + \"+\"\n",
    "def drawVerticalLine():\n",
    "    return (\"|\" + \" \"*9)*2 + \"|\"\n",
    "\n",
    "def drawTwoByTwoGrid():\n",
    "    for i in xrange(0,11):\n",
    "        if i%5==0:\n",
    "            print drawHorizontalLine()\n",
    "        else:\n",
    "            print drawVerticalLine()\n",
    "\n",
    "print drawTwoByTwoGrid()"
   ]
  },
  {
   "cell_type": "code",
   "execution_count": 40,
   "metadata": {
    "collapsed": false
   },
   "outputs": [
    {
     "name": "stdout",
     "output_type": "stream",
     "text": [
      "+ - - - - + - - - - +\n",
      "|         |         |\n",
      "|         |         |\n",
      "|         |         |\n",
      "|         |         |\n",
      "+ - - - - + - - - - +\n",
      "|         |         |\n",
      "|         |         |\n",
      "|         |         |\n",
      "|         |         |\n",
      "+ - - - - + - - - - +\n"
     ]
    }
   ],
   "source": [
    "def gridtwo():\n",
    "    print'+ - - - - + - - - - +'\n",
    "    print'|         |         |'\n",
    "    print'|         |         |'\n",
    "    print'|         |         |'\n",
    "    print'|         |         |'\n",
    "    print'+ - - - - + - - - - +'\n",
    "    print'|         |         |'\n",
    "    print'|         |         |'\n",
    "    print'|         |         |'\n",
    "    print'|         |         |'\n",
    "    print'+ - - - - + - - - - +'\n",
    "    \n",
    "gridtwo() "
   ]
  },
  {
   "cell_type": "code",
   "execution_count": 150,
   "metadata": {
    "collapsed": false
   },
   "outputs": [
    {
     "name": "stdout",
     "output_type": "stream",
     "text": [
      "+  - - - -  +  - - - -  + \n",
      "|           |           |\n",
      "|           |           |\n",
      "|           |           |\n",
      "|           |           |\n",
      "+  - - - -  +  - - - -  + \n",
      "|           |           |\n",
      "|           |           |\n",
      "|           |           |\n",
      "|           |           |\n",
      "+  - - - -  +  - - - -  + \n"
     ]
    }
   ],
   "source": [
    "def row():\n",
    "    print '+ ',4*'- ',\n",
    "    print '+ ',4*'- ',\n",
    "    print '+ '\n",
    "    \n",
    "def column():\n",
    "    print '|',9*' ',\n",
    "    print '|',9*' ',\n",
    "    print '|'\n",
    "   \n",
    "row()\n",
    "column()\n",
    "column()\n",
    "column()\n",
    "column()\n",
    "   \n",
    "row()\n",
    "column()\n",
    "column()\n",
    "column()\n",
    "column()\n",
    "row()\n",
    "\n",
    "    \n",
    "    "
   ]
  },
  {
   "cell_type": "code",
   "execution_count": 6,
   "metadata": {
    "collapsed": false
   },
   "outputs": [
    {
     "name": "stdout",
     "output_type": "stream",
     "text": [
      "+ - - - - + - - - - +\n",
      "|         |         |\n",
      "|         |         |\n",
      "|         |         |\n",
      "|         |         |\n",
      "+ - - - - + - - - - +\n",
      "|         |         |\n",
      "|         |         |\n",
      "|         |         |\n",
      "|         |         |\n",
      "+ - - - - + - - - - +\n"
     ]
    }
   ],
   "source": [
    "def draw_grid():\n",
    "    cross = \"+\"\n",
    "    space = \" \"\n",
    "    dash = \"-\"\n",
    "    divider = \"|\"\n",
    "    line_1 = cross + (((space + dash) * 4) + space + cross) * 2\n",
    "    line_2 = (divider + (space * 9)) * 2 + divider\n",
    "    for x in range(0,11):\n",
    "        if x % 5 == 0:\n",
    "            print line_1\n",
    "        else:\n",
    "            print line_2\n",
    "\n",
    "draw_grid()"
   ]
  },
  {
   "cell_type": "code",
   "execution_count": 39,
   "metadata": {
    "collapsed": false
   },
   "outputs": [
    {
     "name": "stdout",
     "output_type": "stream",
     "text": [
      "+ - - - - + - - - - +\n",
      "|         |         |\n",
      "|         |         |\n",
      "|         |         |\n",
      "|         |         |\n",
      "+ - - - - + - - - - +\n",
      "|         |         |\n",
      "|         |         |\n",
      "|         |         |\n",
      "|         |         |\n",
      "+ - - - - + - - - - +\n"
     ]
    }
   ],
   "source": [
    "def print_plus():\n",
    "    print '+',\n",
    "def print_minus():\n",
    "    print '-',\n",
    "def print_pipe():\n",
    "    print '|',\n",
    "def print_space():\n",
    "    print ' ',\n",
    "    \n",
    "def print_horz():\n",
    "    print_plus()\n",
    "    print_minus()\n",
    "    print_minus()\n",
    "    print_minus()\n",
    "    print_minus()\n",
    "    print_plus()\n",
    "    print_minus()\n",
    "    print_minus()\n",
    "    print_minus()\n",
    "    print_minus()\n",
    "    print_plus()\n",
    "    print\n",
    "    \n",
    "def print_vert():\n",
    "    print_pipe()\n",
    "    print_space()\n",
    "    print_space()\n",
    "    print_space()\n",
    "    print_space()\n",
    "    print_pipe()\n",
    "    print_space()\n",
    "    print_space()\n",
    "    print_space()\n",
    "    print_space()\n",
    "    print_pipe()\n",
    "    print\n",
    "\n",
    "def print_rect():\n",
    "    print_horz()\n",
    "    print_vert()\n",
    "    print_vert()\n",
    "    print_vert()\n",
    "    print_vert()\n",
    "    print_horz()\n",
    "    print_vert()\n",
    "    print_vert()\n",
    "    print_vert()\n",
    "    print_vert()\n",
    "    print_horz()\n",
    "    \n",
    "print_rect()"
   ]
  },
  {
   "cell_type": "code",
   "execution_count": 49,
   "metadata": {
    "collapsed": false
   },
   "outputs": [
    {
     "name": "stdout",
     "output_type": "stream",
     "text": [
      "+ - - - - + - - - - +\n",
      "|         |         |\n",
      "|         |         |\n",
      "|         |         |\n",
      "|         |         |\n",
      "+ - - - - + - - - - +\n",
      "|         |         |\n",
      "|         |         |\n",
      "|         |         |\n",
      "|         |         |\n",
      "+ - - - - + - - - - +\n"
     ]
    }
   ],
   "source": [
    "def drawGrid():\n",
    "    line1 = '+ ' + '- '*4 + '+ ' + '- '*4 + '+'\n",
    "    line2 = '|' + ' '*9 + '|'+ ' '*9 + '|'\n",
    "    print line1\n",
    "    print line2\n",
    "    print line2\n",
    "    print line2\n",
    "    print line2\n",
    "    print line1\n",
    "    print line2\n",
    "    print line2\n",
    "    print line2\n",
    "    print line2\n",
    "    print line1\n",
    "    \n",
    "drawGrid()"
   ]
  },
  {
   "cell_type": "code",
   "execution_count": 15,
   "metadata": {
    "collapsed": false
   },
   "outputs": [
    {
     "name": "stdout",
     "output_type": "stream",
     "text": [
      "+----+----+\n",
      "|    |    |\n",
      "|    |    |\n",
      "|    |    |\n",
      "|    |    |\n",
      "+----+----+\n",
      "|    |    |\n",
      "|    |    |\n",
      "|    |    |\n",
      "|    |    |\n",
      "+----+----+\n",
      "\n"
     ]
    }
   ],
   "source": [
    "def grid(n):\n",
    "    grid = \"\"\n",
    "    edge = \"+----\"\n",
    "    side = \"|    \"\n",
    "\n",
    "    for i in range(n):\n",
    "        grid += edge * n + \"+\" + \"\\n\"\n",
    "        grid += 4 * (side * n + \"|\" + \"\\n\")\n",
    "        \n",
    "    grid += edge* n + \"+\" + \"\\n\"\n",
    "    \n",
    "    return grid\n",
    "\n",
    "print grid(2)"
   ]
  },
  {
   "cell_type": "code",
   "execution_count": 25,
   "metadata": {
    "collapsed": false
   },
   "outputs": [
    {
     "name": "stdout",
     "output_type": "stream",
     "text": [
      "+ - - - -  + - - - -  +\n",
      "|          |          |\n",
      "|          |          |\n",
      "|          |          |\n",
      "|          |          |\n",
      "+ - - - -  + - - - -  +\n",
      "|          |          |\n",
      "|          |          |\n",
      "|          |          |\n",
      "|          |          |\n",
      "+ - - - -  + - - - -  +\n"
     ]
    }
   ],
   "source": [
    "def plusmin():\n",
    "    print '+',\n",
    "    print 4 * '- ',\n",
    "    print '+',\n",
    "    print 4 * '- ',\n",
    "    print'+'\n",
    "    \n",
    "def line():\n",
    "    print '|',\n",
    "    print 4 * '  ',\n",
    "    print '|',\n",
    "    print 4 * '  ',\n",
    "    print '|'\n",
    "\n",
    "def grid():\n",
    "    plusmin()\n",
    "    line()\n",
    "    line()\n",
    "    line()\n",
    "    line()\n",
    "    plusmin()\n",
    "    line()\n",
    "    line()\n",
    "    line()\n",
    "    line()\n",
    "    plusmin()\n",
    "\n",
    "grid()"
   ]
  },
  {
   "cell_type": "code",
   "execution_count": 31,
   "metadata": {
    "collapsed": false
   },
   "outputs": [
    {
     "name": "stdout",
     "output_type": "stream",
     "text": [
      "+ - - - - + - - - - +\n",
      "|         |         |\n",
      "|         |         |\n",
      "|         |         |\n",
      "|         |         |\n",
      "+ - - - - + - - - - +\n",
      "|         |         |\n",
      "|         |         |\n",
      "|         |         |\n",
      "|         |         |\n",
      "+ - - - - + - - - - +\n"
     ]
    }
   ],
   "source": [
    "single_divider = '+ ' + '- ' * 4\n",
    "single_body = '| ' + '  ' * 4\n",
    "print single_divider * 2 + '+'\n",
    "print single_body * 2 + '|'\n",
    "print single_body * 2 + '|'\n",
    "print single_body * 2 + '|'\n",
    "print single_body * 2 + '|'\n",
    "print single_divider * 2 + '+'\n",
    "print single_body * 2 + '|'\n",
    "print single_body * 2 + '|'\n",
    "print single_body * 2 + '|'\n",
    "print single_body * 2 + '|'\n",
    "print single_divider * 2 + '+'"
   ]
  },
  {
   "cell_type": "markdown",
   "metadata": {},
   "source": [
    "                                                                                                / \\\n",
    "                                                                                                 |\n",
    "                                                                                                 |\n",
    "                                                                                    They lie! The output is\n",
    "                                                                                    '+ -'! Why does there\n",
    "                                                                                    need to be a random space\n",
    "                                                                                    there‽ That's so arbitrary!"
   ]
  },
  {
   "cell_type": "code",
   "execution_count": 17,
   "metadata": {
    "collapsed": false
   },
   "outputs": [
    {
     "name": "stdout",
     "output_type": "stream",
     "text": [
      "+ - - - - + - - - - +\n",
      "|         |         |\n",
      "|         |         |\n",
      "|         |         |\n",
      "|         |         |\n",
      "+ - - - - + - - - - +\n",
      "|         |         |\n",
      "|         |         |\n",
      "|         |         |\n",
      "|         |         |\n",
      "+ - - - - + - - - - +\n"
     ]
    }
   ],
   "source": [
    "print('+ ' + '- '*4 + '+ ' + '- '*4 + '+')\n",
    "for q in range (0,2):\n",
    "    for x in range (0,4):\n",
    "        print('| ' + '  '*4 + '| ' + '  '*4 + '|')\n",
    "    print('+ ' + '- '*4 + '+ ' + '- '*4 + '+')"
   ]
  },
  {
   "cell_type": "code",
   "execution_count": 23,
   "metadata": {
    "collapsed": false
   },
   "outputs": [
    {
     "name": "stdout",
     "output_type": "stream",
     "text": [
      "+ - - - - + - - - - +\n",
      "|         |         |\n",
      "|         |         |\n",
      "|         |         |\n",
      "|         |         |\n",
      "+ - - - - + - - - - +\n",
      "|         |         |\n",
      "|         |         |\n",
      "|         |         |\n",
      "|         |         |\n",
      "+ - - - - + - - - - +\n"
     ]
    }
   ],
   "source": [
    "def print_row(width, repeats):\n",
    "    print ('+' + ' -' * width + ' ') * repeats + '+'\n",
    "    \n",
    "def print_column(width, repeats):\n",
    "    print ('|' + '  ' * width + ' ') * repeats + '|'\n",
    "\n",
    "def print_box():\n",
    "    print_row(4,2)\n",
    "    print_column(4,2)\n",
    "    print_column(4,2)\n",
    "    print_column(4,2)\n",
    "    print_column(4,2)\n",
    "    \n",
    "def print_grid():\n",
    "    print_box()\n",
    "    print_box()\n",
    "    print_row(4,2)\n",
    "    \n",
    "\n",
    "print_grid()"
   ]
  },
  {
   "cell_type": "code",
   "execution_count": 2,
   "metadata": {
    "collapsed": false
   },
   "outputs": [
    {
     "name": "stdout",
     "output_type": "stream",
     "text": [
      "+ - - - - + - - - - +\n",
      "|         |         |\n",
      "|         |         |\n",
      "|         |         |\n",
      "|         |         |\n",
      "+ - - - - + - - - - +\n",
      "|         |         |\n",
      "|         |         |\n",
      "|         |         |\n",
      "|         |         |\n",
      "+ - - - - + - - - - +\n"
     ]
    }
   ],
   "source": [
    "s1 = '+ - - - - + - - - - +'\n",
    "s2 = '|         |         |'\n",
    "print(s1)\n",
    "print(s2)\n",
    "print(s2)\n",
    "print(s2)\n",
    "print(s2)\n",
    "print(s1)\n",
    "print(s2)\n",
    "print(s2)\n",
    "print(s2)\n",
    "print(s2)\n",
    "print(s1)"
   ]
  },
  {
   "cell_type": "code",
   "execution_count": 63,
   "metadata": {
    "collapsed": false
   },
   "outputs": [
    {
     "name": "stdout",
     "output_type": "stream",
     "text": [
      "+ - - - - + - - - - +\n",
      "|         |         |\n",
      "|         |         |\n",
      "|         |         |\n",
      "|         |         |\n",
      "+ - - - - + - - - - +\n",
      "|         |         |\n",
      "|         |         |\n",
      "|         |         |\n",
      "|         |         |\n",
      "+ - - - - + - - - - +\n"
     ]
    }
   ],
   "source": [
    "def draw_horiz():\n",
    "    print \"+ - - - - \"*2 + \"+\"\n",
    "def draw_vert():\n",
    "    n = 0\n",
    "    while n < 4:\n",
    "        print \"|         \"*2 + \"|\"\n",
    "        n+=1\n",
    "def draw_grid():\n",
    "    x = 0\n",
    "    while x < 2:\n",
    "        draw_horiz()\n",
    "        x +=1\n",
    "        draw_vert()\n",
    "    draw_horiz()\n",
    "    \n",
    "    \n",
    "   \n",
    "    \n",
    "draw_grid()"
   ]
  },
  {
   "cell_type": "code",
   "execution_count": 80,
   "metadata": {
    "collapsed": false
   },
   "outputs": [
    {
     "name": "stdout",
     "output_type": "stream",
     "text": [
      "+ - - - - + - - - - +\n",
      "|         |         |\n",
      "|         |         |\n",
      "|         |         |\n",
      "|         |         |\n",
      "+ - - - - + - - - - +\n",
      "|         |         |\n",
      "|         |         |\n",
      "|         |         |\n",
      "|         |         |\n",
      "+ - - - - + - - - - +\n"
     ]
    }
   ],
   "source": [
    "def draw_window():\n",
    "    draw_plus();\n",
    "    draw_lines();\n",
    "    draw_lines();\n",
    "    draw_lines();\n",
    "    draw_lines();\n",
    "    draw_plus();\n",
    "    draw_lines();\n",
    "    draw_lines();\n",
    "    draw_lines();\n",
    "    draw_lines();\n",
    "    draw_plus();\n",
    "    \n",
    "def draw_lines():\n",
    "    print('|' + ' '*9 + '|' + ' '*9 + '|')\n",
    "    \n",
    "def draw_plus():\n",
    "    print('+ ' + '- '*4 + '+ ' + '- '*4 + '+')\n",
    "    \n",
    "draw_window();"
   ]
  },
  {
   "cell_type": "code",
   "execution_count": 39,
   "metadata": {
    "collapsed": false
   },
   "outputs": [
    {
     "name": "stdout",
     "output_type": "stream",
     "text": [
      "+ - - - - + - - - - +\n",
      "|         |         |\n",
      "|         |         |\n",
      "|         |         |\n",
      "|         |         |\n",
      "+ - - - - + - - - - +\n",
      "|         |         |\n",
      "|         |         |\n",
      "|         |         |\n",
      "|         |         |\n",
      "+ - - - - + - - - - +\n"
     ]
    }
   ],
   "source": [
    "def grid2by2():\n",
    "    a = \"+ - - - - + - - - - +\"\n",
    "    b = \"|         |         |\"\n",
    "    print a \n",
    "    print b\n",
    "    print b\n",
    "    print b\n",
    "    print b\n",
    "    print a \n",
    "    print b\n",
    "    print b\n",
    "    print b\n",
    "    print b\n",
    "    print a\n",
    "grid2by2()"
   ]
  },
  {
   "cell_type": "markdown",
   "metadata": {},
   "source": [
    "(b) Write a function that draws a similar grid with four rows and four columns."
   ]
  },
  {
   "cell_type": "code",
   "execution_count": 7,
   "metadata": {
    "collapsed": false
   },
   "outputs": [
    {
     "name": "stdout",
     "output_type": "stream",
     "text": [
      "+ - - - - + - - - - + - - - - + - - - - +\n",
      "|         |         |         |         |\n",
      "|         |         |         |         |\n",
      "|         |         |         |         |\n",
      "|         |         |         |         |\n",
      "+ - - - - + - - - - + - - - - + - - - - +\n",
      "|         |         |         |         |\n",
      "|         |         |         |         |\n",
      "|         |         |         |         |\n",
      "|         |         |         |         |\n",
      "+ - - - - + - - - - + - - - - + - - - - +\n",
      "|         |         |         |         |\n",
      "|         |         |         |         |\n",
      "|         |         |         |         |\n",
      "|         |         |         |         |\n",
      "+ - - - - + - - - - + - - - - + - - - - +\n",
      "|         |         |         |         |\n",
      "|         |         |         |         |\n",
      "|         |         |         |         |\n",
      "|         |         |         |         |\n",
      "+ - - - - + - - - - + - - - - + - - - - +\n"
     ]
    }
   ],
   "source": [
    "def grid():\n",
    "    print '+','-','-','-','-','+','-','-','-','-','+','-','-','-','-','+','-','-','-','-','+'\n",
    "    print '|', ' '*7,'|', ' '*7,'|',' '*7,'|', ' '*7,'|'\n",
    "    print '|', ' '*7,'|', ' '*7,'|',' '*7,'|', ' '*7,'|'\n",
    "    print '|', ' '*7,'|', ' '*7,'|',' '*7,'|', ' '*7,'|'\n",
    "    print '|', ' '*7,'|', ' '*7,'|',' '*7,'|', ' '*7,'|'\n",
    "    print '+','-','-','-','-','+','-','-','-','-','+','-','-','-','-','+','-','-','-','-','+'\n",
    "    print '|', ' '*7,'|', ' '*7,'|',' '*7,'|', ' '*7,'|'\n",
    "    print '|', ' '*7,'|', ' '*7,'|',' '*7,'|', ' '*7,'|'\n",
    "    print '|', ' '*7,'|', ' '*7,'|',' '*7,'|', ' '*7,'|'\n",
    "    print '|', ' '*7,'|', ' '*7,'|',' '*7,'|', ' '*7,'|'\n",
    "    print '+','-','-','-','-','+','-','-','-','-','+','-','-','-','-','+','-','-','-','-','+'\n",
    "    print '|', ' '*7,'|', ' '*7,'|',' '*7,'|', ' '*7,'|'\n",
    "    print '|', ' '*7,'|', ' '*7,'|',' '*7,'|', ' '*7,'|'\n",
    "    print '|', ' '*7,'|', ' '*7,'|',' '*7,'|', ' '*7,'|'\n",
    "    print '|', ' '*7,'|', ' '*7,'|',' '*7,'|', ' '*7,'|'\n",
    "    print '+','-','-','-','-','+','-','-','-','-','+','-','-','-','-','+','-','-','-','-','+'\n",
    "    print '|', ' '*7,'|', ' '*7,'|',' '*7,'|', ' '*7,'|'\n",
    "    print '|', ' '*7,'|', ' '*7,'|',' '*7,'|', ' '*7,'|'\n",
    "    print '|', ' '*7,'|', ' '*7,'|',' '*7,'|', ' '*7,'|'\n",
    "    print '|', ' '*7,'|', ' '*7,'|',' '*7,'|', ' '*7,'|'\n",
    "    print '+','-','-','-','-','+','-','-','-','-','+','-','-','-','-','+','-','-','-','-','+'\n",
    "grid()"
   ]
  },
  {
   "cell_type": "code",
   "execution_count": 34,
   "metadata": {
    "collapsed": false
   },
   "outputs": [
    {
     "name": "stdout",
     "output_type": "stream",
     "text": [
      "+ - - - - + - - - - + - - - - + - - - - +\n",
      "|         |         |         |         |\n",
      "|         |         |         |         |\n",
      "|         |         |         |         |\n",
      "|         |         |         |         |\n",
      "+ - - - - + - - - - + - - - - + - - - - +\n",
      "|         |         |         |         |\n",
      "|         |         |         |         |\n",
      "|         |         |         |         |\n",
      "|         |         |         |         |\n",
      "+ - - - - + - - - - + - - - - + - - - - +\n",
      "|         |         |         |         |\n",
      "|         |         |         |         |\n",
      "|         |         |         |         |\n",
      "|         |         |         |         |\n",
      "+ - - - - + - - - - + - - - - + - - - - +\n",
      "|         |         |         |         |\n",
      "|         |         |         |         |\n",
      "|         |         |         |         |\n",
      "|         |         |         |         |\n",
      "+ - - - - + - - - - + - - - - + - - - - +\n"
     ]
    }
   ],
   "source": [
    "def pIntersec():\n",
    "    # prints an intersection point\n",
    "    print '+',\n",
    "    \n",
    "def pHLine():\n",
    "    # prints a horizontal line segment\n",
    "    print '- - - -',\n",
    "    \n",
    "def newLine():\n",
    "    print\n",
    "    \n",
    "def pVerLine():\n",
    "    # prints a vertical line\n",
    "    print '|',\n",
    "    \n",
    "def pEmptySpace():\n",
    "    # creates the inner empty space\n",
    "    print '       ',\n",
    "    \n",
    "def gridRow(f,g):\n",
    "    # prints one row of the grid\n",
    "    f()\n",
    "    g()\n",
    "    f()\n",
    "    g()\n",
    "    f()\n",
    "    g()\n",
    "    f()\n",
    "    g()\n",
    "    f()\n",
    "    newLine()\n",
    "    \n",
    "def insideCell():\n",
    "    gridRow(pVerLine,pEmptySpace)\n",
    "    gridRow(pVerLine,pEmptySpace)\n",
    "    gridRow(pVerLine,pEmptySpace)\n",
    "    gridRow(pVerLine,pEmptySpace)\n",
    "\n",
    "def printGrid():\n",
    "    gridRow(pIntersec,pHLine)\n",
    "    insideCell()\n",
    "    gridRow(pIntersec,pHLine)\n",
    "    insideCell()\n",
    "    gridRow(pIntersec,pHLine)\n",
    "    insideCell()\n",
    "    gridRow(pIntersec,pHLine)\n",
    "    insideCell()\n",
    "    gridRow(pIntersec,pHLine)\n",
    "    \n",
    "printGrid()"
   ]
  },
  {
   "cell_type": "code",
   "execution_count": null,
   "metadata": {
    "collapsed": true
   },
   "outputs": [],
   "source": [
    "def drawHorizontalLine():\n",
    "    return (\"+ \"+\"- \"*4)*4 + \"+\"\n",
    "def drawVerticalLine():\n",
    "    return (\"|\" + \" \"*9)*4 + \"|\"\n",
    "\n",
    "def drawFourByFourGrid():\n",
    "    for i in xrange(0,21):\n",
    "        if i%5==0:\n",
    "            print drawHorizontalLine()\n",
    "        else:\n",
    "            print drawVerticalLine()\n",
    "print drawFourByFourGrid()"
   ]
  },
  {
   "cell_type": "code",
   "execution_count": 36,
   "metadata": {
    "collapsed": false
   },
   "outputs": [
    {
     "name": "stdout",
     "output_type": "stream",
     "text": [
      "+ - - + - - + - - + - - +\n",
      "|     |     |     |     |\n",
      "|     |     |     |     |\n",
      "+ - - + - - + - - + - - +\n",
      "|     |     |     |     |\n",
      "|     |     |     |     |\n",
      "+ - - + - - + - - + - - +\n",
      "|     |     |     |     |\n",
      "|     |     |     |     |\n",
      "+ - - + - - + - - + - - +\n",
      "|     |     |     |     |\n",
      "|     |     |     |     |\n",
      "+ - - + - - + - - + - - +\n"
     ]
    }
   ],
   "source": [
    "def gridfour():\n",
    "    print'+ - - + - - + - - + - - +'\n",
    "    print'|     |     |     |     |'\n",
    "    print'|     |     |     |     |'\n",
    "    print'+ - - + - - + - - + - - +'\n",
    "    print'|     |     |     |     |'\n",
    "    print'|     |     |     |     |'\n",
    "    print'+ - - + - - + - - + - - +'\n",
    "    print'|     |     |     |     |'\n",
    "    print'|     |     |     |     |'\n",
    "    print'+ - - + - - + - - + - - +'\n",
    "    print'|     |     |     |     |'\n",
    "    print'|     |     |     |     |'\n",
    "    print'+ - - + - - + - - + - - +'\n",
    "gridfour() "
   ]
  },
  {
   "cell_type": "code",
   "execution_count": 162,
   "metadata": {
    "collapsed": false
   },
   "outputs": [
    {
     "name": "stdout",
     "output_type": "stream",
     "text": [
      "+  - - - -  +  - - - -  +  - - - -  + \n",
      "|           |           |           |\n",
      "|           |           |           |\n",
      "|           |           |           |\n",
      "|           |           |           |\n",
      "+  - - - -  +  - - - -  +  - - - -  + \n",
      "|           |           |           |\n",
      "|           |           |           |\n",
      "|           |           |           |\n",
      "|           |           |           |\n",
      "+  - - - -  +  - - - -  +  - - - -  + \n",
      "|           |           |           |\n",
      "|           |           |           |\n",
      "|           |           |           |\n",
      "|           |           |           |\n",
      "+  - - - -  +  - - - -  +  - - - -  + \n"
     ]
    }
   ],
   "source": [
    "def row():\n",
    "    print '+ ',4*'- ',\n",
    "    print '+ ',4*'- ',\n",
    "    print '+ ',4*'- ',\n",
    "    print '+ '\n",
    "    \n",
    "def column():\n",
    "    print '|',9*' ','|',9*' ','|',9*' ','|'\n",
    "    \n",
    "def pattern():\n",
    "    column()\n",
    "    column()\n",
    "    column()\n",
    "    column()  \n",
    "   \n",
    "row()\n",
    "pattern () \n",
    "row()\n",
    "pattern()\n",
    "row()\n",
    "pattern()\n",
    "row()"
   ]
  },
  {
   "cell_type": "code",
   "execution_count": 8,
   "metadata": {
    "collapsed": false
   },
   "outputs": [
    {
     "name": "stdout",
     "output_type": "stream",
     "text": [
      "+ - - - - + - - - - + - - - - + - - - - +\n",
      "|         |         |         |         |\n",
      "|         |         |         |         |\n",
      "|         |         |         |         |\n",
      "|         |         |         |         |\n",
      "+ - - - - + - - - - + - - - - + - - - - +\n",
      "|         |         |         |         |\n",
      "|         |         |         |         |\n",
      "|         |         |         |         |\n",
      "|         |         |         |         |\n",
      "+ - - - - + - - - - + - - - - + - - - - +\n",
      "|         |         |         |         |\n",
      "|         |         |         |         |\n",
      "|         |         |         |         |\n",
      "|         |         |         |         |\n",
      "+ - - - - + - - - - + - - - - + - - - - +\n",
      "|         |         |         |         |\n",
      "|         |         |         |         |\n",
      "|         |         |         |         |\n",
      "|         |         |         |         |\n",
      "+ - - - - + - - - - + - - - - + - - - - +\n"
     ]
    }
   ],
   "source": [
    "def draw_grid_2():\n",
    "    cross = \"+\"\n",
    "    space = \" \"\n",
    "    dash = \"-\"\n",
    "    divider = \"|\"\n",
    "    line_1 = cross + (((space + dash) * 4) + space + cross) * 4\n",
    "    line_2 = (divider + (space * 9)) * 4 + divider\n",
    "    for x in range(0,21):\n",
    "        if x % 5 == 0:\n",
    "            print line_1\n",
    "        else:\n",
    "            print line_2\n",
    "\n",
    "draw_grid_2()"
   ]
  },
  {
   "cell_type": "code",
   "execution_count": 42,
   "metadata": {
    "collapsed": false
   },
   "outputs": [
    {
     "name": "stdout",
     "output_type": "stream",
     "text": [
      "+ - - +\n",
      "|     |\n",
      "|     |\n",
      "+ - - +\n"
     ]
    }
   ],
   "source": [
    "def print_plus():\n",
    "    print '+',\n",
    "def print_minus():\n",
    "    print '-',\n",
    "def print_pipe():\n",
    "    print '|',\n",
    "def print_space():\n",
    "    print ' ',\n",
    "    \n",
    "def print_horz():\n",
    "    print_plus()\n",
    "    print_minus()\n",
    "    print_minus()\n",
    "    print_plus()\n",
    "    print\n",
    "\n",
    "def print_vert():\n",
    "    print_pipe()\n",
    "    print_space()\n",
    "    print_space()\n",
    "    print_pipe()\n",
    "    print\n",
    "    \n",
    "def print_rect():\n",
    "    print_horz()\n",
    "    print_vert()\n",
    "    print_vert()\n",
    "    print_horz()\n",
    "    \n",
    "print_rect()"
   ]
  },
  {
   "cell_type": "code",
   "execution_count": 51,
   "metadata": {
    "collapsed": false
   },
   "outputs": [
    {
     "name": "stdout",
     "output_type": "stream",
     "text": [
      "+ - - - - + - - - - + - - - - + - - - - +\n",
      "|         |         |         |         |\n",
      "|         |         |         |         |\n",
      "|         |         |         |         |\n",
      "|         |         |         |         |\n",
      "+ - - - - + - - - - + - - - - + - - - - +\n",
      "|         |         |         |         |\n",
      "|         |         |         |         |\n",
      "|         |         |         |         |\n",
      "|         |         |         |         |\n",
      "+ - - - - + - - - - + - - - - + - - - - +\n",
      "|         |         |         |         |\n",
      "|         |         |         |         |\n",
      "|         |         |         |         |\n",
      "|         |         |         |         |\n",
      "+ - - - - + - - - - + - - - - + - - - - +\n",
      "|         |         |         |         |\n",
      "|         |         |         |         |\n",
      "|         |         |         |         |\n",
      "|         |         |         |         |\n",
      "+ - - - - + - - - - + - - - - + - - - - +\n"
     ]
    }
   ],
   "source": [
    "def drawGrid():\n",
    "    line1 = '+ ' + '- '*4 + '+ ' + '- '*4 + '+ ' + '- '*4 + '+ '  + '- '*4 + '+'\n",
    "    line2 = '|' + ' '*9 + '|'+ ' '*9 + '|' + ' '*9 + '|' + ' '*9 + '|'\n",
    "    print line1 \n",
    "    print line2\n",
    "    print line2\n",
    "    print line2\n",
    "    print line2\n",
    "    print line1\n",
    "    print line2\n",
    "    print line2\n",
    "    print line2\n",
    "    print line2\n",
    "    print line1\n",
    "    print line2\n",
    "    print line2\n",
    "    print line2\n",
    "    print line2\n",
    "    print line1\n",
    "    print line2\n",
    "    print line2\n",
    "    print line2\n",
    "    print line2\n",
    "    print line1\n",
    "    \n",
    "    \n",
    "drawGrid()"
   ]
  },
  {
   "cell_type": "code",
   "execution_count": 16,
   "metadata": {
    "collapsed": false
   },
   "outputs": [
    {
     "name": "stdout",
     "output_type": "stream",
     "text": [
      "+----+----+----+----+\n",
      "|    |    |    |    |\n",
      "|    |    |    |    |\n",
      "|    |    |    |    |\n",
      "|    |    |    |    |\n",
      "+----+----+----+----+\n",
      "|    |    |    |    |\n",
      "|    |    |    |    |\n",
      "|    |    |    |    |\n",
      "|    |    |    |    |\n",
      "+----+----+----+----+\n",
      "|    |    |    |    |\n",
      "|    |    |    |    |\n",
      "|    |    |    |    |\n",
      "|    |    |    |    |\n",
      "+----+----+----+----+\n",
      "|    |    |    |    |\n",
      "|    |    |    |    |\n",
      "|    |    |    |    |\n",
      "|    |    |    |    |\n",
      "+----+----+----+----+\n",
      "\n"
     ]
    }
   ],
   "source": [
    "def grid(n):\n",
    "    filled = \"+----\"\n",
    "    empty = \"|    \"\n",
    "    grid = \"\"\n",
    "\n",
    "    for i in range(n):\n",
    "        grid += filled * n + filled[0] + \"\\n\"\n",
    "        grid += 4 * (empty * n + empty[0] + \"\\n\")\n",
    "        \n",
    "    grid += filled * n + filled[0] + \"\\n\"\n",
    "    \n",
    "    return grid\n",
    "\n",
    "print grid(4)"
   ]
  },
  {
   "cell_type": "code",
   "execution_count": 27,
   "metadata": {
    "collapsed": false
   },
   "outputs": [
    {
     "name": "stdout",
     "output_type": "stream",
     "text": [
      "+ ---- + ---- + ---- + ---- +\n",
      "|      |      |      |      |\n",
      "|      |      |      |      |\n",
      "|      |      |      |      |\n",
      "|      |      |      |      |\n",
      "+ ---- + ---- + ---- + ---- +\n",
      "|      |      |      |      |\n",
      "|      |      |      |      |\n",
      "|      |      |      |      |\n",
      "|      |      |      |      |\n",
      "+ ---- + ---- + ---- + ---- +\n",
      "|      |      |      |      |\n",
      "|      |      |      |      |\n",
      "|      |      |      |      |\n",
      "|      |      |      |      |\n",
      "+ ---- + ---- + ---- + ---- +\n",
      "|      |      |      |      |\n",
      "|      |      |      |      |\n",
      "|      |      |      |      |\n",
      "|      |      |      |      |\n",
      "+ ---- + ---- + ---- + ---- +\n"
     ]
    }
   ],
   "source": [
    "def plusmin():\n",
    "    print '+',\n",
    "    print 4 * '-',\n",
    "    print '+',\n",
    "    print 4 * '-',\n",
    "    print'+',\n",
    "    print 4 * '-',\n",
    "    print '+',\n",
    "    print 4 * '-',\n",
    "    print '+'\n",
    "    \n",
    "def line():\n",
    "    print '|',\n",
    "    print 4 * ' ',\n",
    "    print '|',\n",
    "    print 4 * ' ',\n",
    "    print '|',\n",
    "    print 4 * ' ',\n",
    "    print '|',\n",
    "    print 4 * ' ',\n",
    "    print '|'\n",
    "\n",
    "def grid():\n",
    "    plusmin()\n",
    "    line()\n",
    "    line()\n",
    "    line()\n",
    "    line()\n",
    "    plusmin()\n",
    "    line()\n",
    "    line()\n",
    "    line()\n",
    "    line()\n",
    "    plusmin()\n",
    "    line()\n",
    "    line()\n",
    "    line()\n",
    "    line()\n",
    "    plusmin()\n",
    "    line()\n",
    "    line()\n",
    "    line()\n",
    "    line()\n",
    "    plusmin()\n",
    "\n",
    "grid()"
   ]
  },
  {
   "cell_type": "code",
   "execution_count": 33,
   "metadata": {
    "collapsed": false
   },
   "outputs": [
    {
     "name": "stdout",
     "output_type": "stream",
     "text": [
      "+ - - - - + - - - - + - - - - + - - - - +\n",
      "|         |         |         |         |\n",
      "|         |         |         |         |\n",
      "|         |         |         |         |\n",
      "|         |         |         |         |\n",
      "+ - - - - + - - - - + - - - - + - - - - +\n",
      "|         |         |         |         |\n",
      "|         |         |         |         |\n",
      "|         |         |         |         |\n",
      "|         |         |         |         |\n",
      "+ - - - - + - - - - + - - - - + - - - - +\n",
      "|         |         |         |         |\n",
      "|         |         |         |         |\n",
      "|         |         |         |         |\n",
      "|         |         |         |         |\n",
      "+ - - - - + - - - - + - - - - + - - - - +\n",
      "|         |         |         |         |\n",
      "|         |         |         |         |\n",
      "|         |         |         |         |\n",
      "|         |         |         |         |\n",
      "+ - - - - + - - - - + - - - - + - - - - +\n"
     ]
    }
   ],
   "source": [
    "single_divider = '+ ' + '- ' * 4\n",
    "single_body = '| ' + '  ' * 4\n",
    "print single_divider * 4 + '+'\n",
    "print single_body * 4 + '|'\n",
    "print single_body * 4 + '|'\n",
    "print single_body * 4 + '|'\n",
    "print single_body * 4 + '|'\n",
    "print single_divider * 4 + '+'\n",
    "print single_body * 4 + '|'\n",
    "print single_body * 4 + '|'\n",
    "print single_body * 4 + '|'\n",
    "print single_body * 4 + '|'\n",
    "print single_divider * 4 + '+'\n",
    "print single_body * 4 + '|'\n",
    "print single_body * 4 + '|'\n",
    "print single_body * 4 + '|'\n",
    "print single_body * 4 + '|'\n",
    "print single_divider * 4 + '+'\n",
    "print single_body * 4 + '|'\n",
    "print single_body * 4 + '|'\n",
    "print single_body * 4 + '|'\n",
    "print single_body * 4 + '|'\n",
    "print single_divider * 4 + '+'"
   ]
  },
  {
   "cell_type": "code",
   "execution_count": 48,
   "metadata": {
    "collapsed": false
   },
   "outputs": [
    {
     "name": "stdout",
     "output_type": "stream",
     "text": [
      "+ - - - - + - - - - + - - - - + - - - - +\n",
      "|         |         |         |         |\n",
      "|         |         |         |         |\n",
      "|         |         |         |         |\n",
      "|         |         |         |         |\n",
      "+ - - - - + - - - - + - - - - + - - - - +\n",
      "|         |         |         |         |\n",
      "|         |         |         |         |\n",
      "|         |         |         |         |\n",
      "|         |         |         |         |\n",
      "+ - - - - + - - - - + - - - - + - - - - +\n",
      "|         |         |         |         |\n",
      "|         |         |         |         |\n",
      "|         |         |         |         |\n",
      "|         |         |         |         |\n",
      "+ - - - - + - - - - + - - - - + - - - - +\n",
      "|         |         |         |         |\n",
      "|         |         |         |         |\n",
      "|         |         |         |         |\n",
      "|         |         |         |         |\n",
      "+ - - - - + - - - - + - - - - + - - - - +\n"
     ]
    }
   ],
   "source": [
    "def drawGrid():\n",
    "    print (('+ '+'- '*4)*4+'+\\n'+(('|'+' '*9)*4+'|\\n')*4)*4 + ('+ '+'- '*4)*4+'+'"
   ]
  },
  {
   "cell_type": "code",
   "execution_count": 21,
   "metadata": {
    "collapsed": false
   },
   "outputs": [
    {
     "name": "stdout",
     "output_type": "stream",
     "text": [
      "+ - - - - + - - - - + - - - - + - - - - +\n",
      "|         |         |         |         |\n",
      "|         |         |         |         |\n",
      "|         |         |         |         |\n",
      "|         |         |         |         |\n",
      "+ - - - - + - - - - + - - - - + - - - - +\n",
      "|         |         |         |         |\n",
      "|         |         |         |         |\n",
      "|         |         |         |         |\n",
      "|         |         |         |         |\n",
      "+ - - - - + - - - - + - - - - + - - - - +\n",
      "|         |         |         |         |\n",
      "|         |         |         |         |\n",
      "|         |         |         |         |\n",
      "|         |         |         |         |\n",
      "+ - - - - + - - - - + - - - - + - - - - +\n",
      "|         |         |         |         |\n",
      "|         |         |         |         |\n",
      "|         |         |         |         |\n",
      "|         |         |         |         |\n",
      "+ - - - - + - - - - + - - - - + - - - - +\n"
     ]
    }
   ],
   "source": [
    "print('+ ' + '- '*4 + '+ ' + '- '*4 + '+ ' + '- '*4 + '+ ' + '- '*4 + '+')\n",
    "for q in range (0,4):\n",
    "    for x in range (0,4):\n",
    "        print('| ' + '  '*4 + '| ' + '  '*4 + '| ' + '  '*4 + '| ' + '  '*4 + '|')\n",
    "    print('+ ' + '- '*4 + '+ ' + '- '*4 + '+ ' + '- '*4 + '+ ' + '- '*4 + '+')"
   ]
  },
  {
   "cell_type": "code",
   "execution_count": 8,
   "metadata": {
    "collapsed": false
   },
   "outputs": [
    {
     "name": "stdout",
     "output_type": "stream",
     "text": [
      "+ - - - - - - - - - - + - - - - - - - - - - +\n",
      "|                     |                     |\n",
      "|                     |                     |\n",
      "|                     |                     |\n",
      "|                     |                     |\n",
      "|                     |                     |\n",
      "|                     |                     |\n",
      "|                     |                     |\n",
      "|                     |                     |\n",
      "|                     |                     |\n",
      "|                     |                     |\n",
      "+ - - - - - - - - - - + - - - - - - - - - - +\n",
      "|                     |                     |\n",
      "|                     |                     |\n",
      "|                     |                     |\n",
      "|                     |                     |\n",
      "|                     |                     |\n",
      "|                     |                     |\n",
      "|                     |                     |\n",
      "|                     |                     |\n",
      "|                     |                     |\n",
      "|                     |                     |\n",
      "+ - - - - - - - - - - + - - - - - - - - - - +\n",
      "\n"
     ]
    }
   ],
   "source": [
    "def horiz(width, repeats): #width: number of - #repeats: number of sections\n",
    "    return ('+' + ' -' * width + ' ') * repeats + '+\\n'\n",
    "\n",
    "def vert(width, repeats): #width: number of spaces #repeats: number of sections\n",
    "    return ('|' + '  ' * width + ' ') * repeats + '|\\n'\n",
    "\n",
    "def grid(square_size,side_length):\n",
    "    #square_row gives the repeatable section\n",
    "    square_row= horiz(side_length,square_size)+vert(side_length,square_size)*side_length\n",
    "    #grid repeats it and puts the final row on the end\n",
    "    grid = square_row*square_size+horiz(side_length,square_size)\n",
    "    print grid\n",
    "    \n",
    "grid(2,10)"
   ]
  },
  {
   "cell_type": "code",
   "execution_count": 5,
   "metadata": {
    "collapsed": false
   },
   "outputs": [
    {
     "name": "stdout",
     "output_type": "stream",
     "text": [
      "+ - - - - + - - - - + - - - - + - - - - +\n",
      "|         |         |         |         |\n",
      "|         |         |         |         |\n",
      "|         |         |         |         |\n",
      "|         |         |         |         |\n",
      "+ - - - - + - - - - + - - - - + - - - - +\n",
      "|         |         |         |         |\n",
      "|         |         |         |         |\n",
      "|         |         |         |         |\n",
      "|         |         |         |         |\n",
      "+ - - - - + - - - - + - - - - + - - - - +\n",
      "|         |         |         |         |\n",
      "|         |         |         |         |\n",
      "|         |         |         |         |\n",
      "|         |         |         |         |\n",
      "+ - - - - + - - - - + - - - - + - - - - +\n",
      "|         |         |         |         |\n",
      "|         |         |         |         |\n",
      "|         |         |         |         |\n",
      "|         |         |         |         |\n",
      "+ - - - - + - - - - + - - - - + - - - - +\n"
     ]
    }
   ],
   "source": [
    "def print_grid():\n",
    "    s1 = '+ - - - - + - - - - + - - - - + - - - - +'\n",
    "    s2 = '|         |         |         |         |'\n",
    "    print(s1)\n",
    "    print(s2)\n",
    "    print(s2)\n",
    "    print(s2)\n",
    "    print(s2)\n",
    "    print(s1)\n",
    "    print(s2)\n",
    "    print(s2)\n",
    "    print(s2)\n",
    "    print(s2)\n",
    "    print(s1)\n",
    "    print(s2)\n",
    "    print(s2)\n",
    "    print(s2)\n",
    "    print(s2)\n",
    "    print(s1)\n",
    "    print(s2)\n",
    "    print(s2)\n",
    "    print(s2)\n",
    "    print(s2)\n",
    "    print(s1)\n",
    "    \n",
    "print_grid()"
   ]
  },
  {
   "cell_type": "code",
   "execution_count": null,
   "metadata": {
    "collapsed": true
   },
   "outputs": [],
   "source": [
    "def draw_horiz(r,c):\n",
    "    print \"+ - - - - \"*c + \"+\"\n",
    "def draw_vert(r,c):\n",
    "    n = 0\n",
    "    while n < 4:\n",
    "        print \"|         \"*c + \"|\"\n",
    "        n+=1\n",
    "def draw_grid(r,c):\n",
    "    x = 0\n",
    "    while x < r:\n",
    "        draw_horiz(r,c)\n",
    "        x +=1\n",
    "        draw_vert(r,c)\n",
    "    draw_horiz(r,c)\n",
    "    \n",
    "    \n",
    "   \n",
    "    \n",
    "draw_grid(3,3)"
   ]
  },
  {
   "cell_type": "code",
   "execution_count": 62,
   "metadata": {
    "collapsed": false
   },
   "outputs": [
    {
     "name": "stdout",
     "output_type": "stream",
     "text": [
      "+ - - + - - + - - +\n",
      "|     |     |     |\n",
      "|     |     |     |\n",
      "+ - - + - - + - - +\n",
      "|     |     |     |\n",
      "|     |     |     |\n",
      "+ - - + - - + - - +\n",
      "|     |     |     |\n",
      "|     |     |     |\n",
      "+ - - + - - + - - +\n",
      "|     |     |     |\n",
      "|     |     |     |\n",
      "+ - - + - - + - - +\n"
     ]
    }
   ],
   "source": [
    "def draw_window():\n",
    "    draw_plus();\n",
    "    draw_lines();\n",
    "    draw_lines();\n",
    "    draw_plus();\n",
    "    draw_lines();\n",
    "    draw_lines();\n",
    "    draw_plus();\n",
    "    draw_lines();\n",
    "    draw_lines()\n",
    "    draw_plus();\n",
    "    draw_lines();\n",
    "    draw_lines();\n",
    "    draw_plus();\n",
    "    \n",
    "def draw_lines():\n",
    "    print('|' + ' '*5 + '|' + ' '*5 + '|'+ ' '*5 + '|')\n",
    "    \n",
    "def draw_plus():\n",
    "    print('+ ' + '- '*2 + '+ ' + '- '*2 + '+ ' + '- '*2 + '+')\n",
    "    \n",
    "draw_window();"
   ]
  },
  {
   "cell_type": "code",
   "execution_count": 40,
   "metadata": {
    "collapsed": false
   },
   "outputs": [
    {
     "name": "stdout",
     "output_type": "stream",
     "text": [
      "+ - - - - + - - - - + - - - - + - - - - +\n",
      "|         |         |         |         |\n",
      "|         |         |         |         |\n",
      "|         |         |         |         |\n",
      "|         |         |         |         |\n",
      "+ - - - - + - - - - + - - - - + - - - - +\n",
      "|         |         |         |         |\n",
      "|         |         |         |         |\n",
      "|         |         |         |         |\n",
      "|         |         |         |         |\n",
      "+ - - - - + - - - - + - - - - + - - - - +\n",
      "|         |         |         |         |\n",
      "|         |         |         |         |\n",
      "|         |         |         |         |\n",
      "|         |         |         |         |\n",
      "+ - - - - + - - - - + - - - - + - - - - +\n",
      "|         |         |         |         |\n",
      "|         |         |         |         |\n",
      "|         |         |         |         |\n",
      "|         |         |         |         |\n",
      "+ - - - - + - - - - + - - - - + - - - - +\n"
     ]
    }
   ],
   "source": [
    "def grid4by4():\n",
    "    a = \"+ - - - - + - - - - + - - - - + - - - - +\"\n",
    "    b = \"|         |         |         |         |\"\n",
    "    print a \n",
    "    print b\n",
    "    print b\n",
    "    print b\n",
    "    print b\n",
    "    print a \n",
    "    print b\n",
    "    print b\n",
    "    print b\n",
    "    print b\n",
    "    print a\n",
    "    print b\n",
    "    print b\n",
    "    print b\n",
    "    print b\n",
    "    print a \n",
    "    print b\n",
    "    print b\n",
    "    print b\n",
    "    print b\n",
    "    print a\n",
    "grid4by4()"
   ]
  },
  {
   "cell_type": "markdown",
   "metadata": {},
   "source": [
    "## Chapter 5"
   ]
  },
  {
   "cell_type": "markdown",
   "metadata": {},
   "source": [
    "### Exercise 3  \n",
    "\n",
    "Fermat’s Last Theorem says that there are no positive integers a, b, and c such that $a^n + b^n = c^n$ for any values of n greater than 2.\n",
    "\n",
    "(a) Write a function named `check_fermat` that takes four parameters—a, b, c and n—and that checks to see if Fermat’s theorem holds. If n is greater than 2 and it turns out to be true that\n",
    "$a^n + b^n = c^n$ the program should print, \"Holy smokes, Fermat was wrong!\" Otherwise the program should print, \"No, that doesn’t work.\""
   ]
  },
  {
   "cell_type": "code",
   "execution_count": 8,
   "metadata": {
    "collapsed": true
   },
   "outputs": [],
   "source": [
    "def check_fermat(a,b,c,n):\n",
    "    if n > 2:\n",
    "        print \"Holy smokes, Fermat was wrong!\"\n",
    "    else:\n",
    "        print \"No, that doesn't work.\"\n",
    "    "
   ]
  },
  {
   "cell_type": "code",
   "execution_count": 40,
   "metadata": {
    "collapsed": false
   },
   "outputs": [
    {
     "name": "stdout",
     "output_type": "stream",
     "text": [
      "Seriously? That, my friend, is not what we are trying to prove.\n",
      "Well, I mean, yes, but 1 really shouldn't count.\n",
      "No, that doesn't work...\n"
     ]
    }
   ],
   "source": [
    "def checkFermat(a,b,c,n): #sorry guys, I like the whole capital thing more...\n",
    "    if n == 2:\n",
    "        print 'Seriously? That, my friend, is not what we are trying to prove.'\n",
    "    elif a == 1 and b == 1 and c == 1:\n",
    "        print \"Well, I mean, yes, but 1 really shouldn't count.\"\n",
    "    else:\n",
    "        if (a**n + b**n) == c**n:\n",
    "            print 'Holy smokes, Fermat was... WRONG!'\n",
    "        else:\n",
    "            print \"No, that doesn't work...\"\n",
    "        \n",
    "checkFermat(2, 3, 5, 2)\n",
    "checkFermat(1, 1, 1, 15)\n",
    "checkFermat(5, 3, 4, 4)"
   ]
  },
  {
   "cell_type": "code",
   "execution_count": null,
   "metadata": {
    "collapsed": true
   },
   "outputs": [],
   "source": [
    "def check_fermat(a,b,c,n):\n",
    "    if a**n+b**n==c**n:\n",
    "        return \"Holy smokes, Fermat was wrong!\"\n",
    "    else:\n",
    "        return \"No, that doesn't work.\"\n",
    "\n",
    "print check_fermat(4,5,6,3)"
   ]
  },
  {
   "cell_type": "code",
   "execution_count": 41,
   "metadata": {
    "collapsed": true
   },
   "outputs": [],
   "source": [
    "def check_fermat(a, b, c, n):\n",
    "    if n > 2:\n",
    "        if (a**n + b**n) == c**n:\n",
    "            print 'Holy smokes, Fermat was wrong!'\n",
    "        else:\n",
    "            print \"No, that doesn't work.\"\n",
    "    else:\n",
    "        print 'n is not greater than 2.'\n",
    "        "
   ]
  },
  {
   "cell_type": "code",
   "execution_count": 168,
   "metadata": {
    "collapsed": false
   },
   "outputs": [
    {
     "name": "stdout",
     "output_type": "stream",
     "text": [
      "No, that doesn't work\n"
     ]
    }
   ],
   "source": [
    "def check_fermat(a,b,c,n):\n",
    "    #if n is greater than 2 and a^n + b^n = c^n\n",
    "    if n>2 and a**n + b**n == c**n:\n",
    "        print 'Holy smokes, Fermat was wrong!'\n",
    "    else:\n",
    "        print \"No, that doesn't work\"\n",
    "\n",
    "check_fermat(7,5,19,3)"
   ]
  },
  {
   "cell_type": "code",
   "execution_count": 10,
   "metadata": {
    "collapsed": false
   },
   "outputs": [
    {
     "name": "stdout",
     "output_type": "stream",
     "text": [
      "No, that doesn't work.\n"
     ]
    }
   ],
   "source": [
    "def check_fermat(a, b, c, n):\n",
    "    if n > 2:\n",
    "        if (a ** n) + (b ** n) == c ** n:\n",
    "            print \"Holy smokes, Fermat was wrong!\"\n",
    "        else:\n",
    "            print \"No, that doesn't work.\"\n",
    "\n",
    "check_fermat(20, 30, 40, 3)"
   ]
  },
  {
   "cell_type": "code",
   "execution_count": 43,
   "metadata": {
    "collapsed": true
   },
   "outputs": [],
   "source": [
    "def check_fermat(a,b,c,n):\n",
    "    if n>2 and a**n + b**n == c**n:\n",
    "        print 'Holy smokes, Fermat was wrong!'\n",
    "    else:\n",
    "        print \"No, that doesn't work\""
   ]
  },
  {
   "cell_type": "code",
   "execution_count": 53,
   "metadata": {
    "collapsed": false
   },
   "outputs": [
    {
     "name": "stdout",
     "output_type": "stream",
     "text": [
      "No, that doesn't work\n"
     ]
    }
   ],
   "source": [
    "def fermats(a,b,c,n):\n",
    "    if a**n + b**n == c**n and c > 2:\n",
    "        print \"Holy smokes, Fermat was wrong!\"\n",
    "    elif a**n + b**n == c**n and c <= 2:   \n",
    "        print \"that works\"\n",
    "    else:\n",
    "        print \"No, that doesn't work\"\n",
    "fermats(4,5,3,6)"
   ]
  },
  {
   "cell_type": "code",
   "execution_count": 7,
   "metadata": {
    "collapsed": false
   },
   "outputs": [
    {
     "name": "stdout",
     "output_type": "stream",
     "text": [
      "That isn't an integer. No, that doesn't work.\n"
     ]
    }
   ],
   "source": [
    "#Spoiler: Fermat wasn't wrong.\n",
    "def check_fermat(a, b, c, n):\n",
    "    if type(a) == int and type(b) == int and type(c) == int:\n",
    "        if n > 2:\n",
    "            if a ** n + b ** n == c ** n:\n",
    "                return \"Holy smokes, Fermat was wrong!\"\n",
    "            else:\n",
    "                return \"No, that doesn't work.\"\n",
    "        else:\n",
    "            return \"n must be greater than 2. No, that doesn't work.\"\n",
    "    else:\n",
    "        return \"That isn't an integer. No, that doesn't work.\"\n",
    "\n",
    "print check_fermat(1.1, 2, 3, 3.4)"
   ]
  },
  {
   "cell_type": "code",
   "execution_count": 30,
   "metadata": {
    "collapsed": false
   },
   "outputs": [
    {
     "name": "stdout",
     "output_type": "stream",
     "text": [
      "No, that doesn't work.\n"
     ]
    }
   ],
   "source": [
    "def check_fermat(a,b,c,n):\n",
    "    if a**n + b**n == c**n and n > 2:\n",
    "        print \"Holy smokes, Fermat was wrong!\"\n",
    "    else:\n",
    "        print \"No, that doesn't work.\"\n"
   ]
  },
  {
   "cell_type": "code",
   "execution_count": 34,
   "metadata": {
    "collapsed": true
   },
   "outputs": [],
   "source": [
    "def check_fermat(a,b,c,n):\n",
    "    if (n > 2) and (a**n + b**n == c**n):\n",
    "        print \"Holy smokes, Fermat was wrong!\"\n",
    "    else:\n",
    "        print \"No, that doesn't work.\"\n"
   ]
  },
  {
   "cell_type": "code",
   "execution_count": 51,
   "metadata": {
    "collapsed": false
   },
   "outputs": [],
   "source": [
    "import math\n",
    "\n",
    "\n",
    "def check_fermat(a,b,c,n):\n",
    "    if (n > 2 and math.pow(a,n)+math.pow(b,n)==math.pow(c,n)):\n",
    "        print \"Holy smokes, Fermat was wrong!\"\n",
    "    else:\n",
    "        print \"No, that doesn't work.\""
   ]
  },
  {
   "cell_type": "code",
   "execution_count": 40,
   "metadata": {
    "collapsed": false
   },
   "outputs": [],
   "source": [
    "def check_fermat(a, b, c, n):\n",
    "    if(n>2 and ((a**n + b**n) == c**n)):\n",
    "       print(\"Holy smokes, Fermat was wrong!\");\n",
    "    else:\n",
    "       print(\"No, that doesn't work.\");"
   ]
  },
  {
   "cell_type": "code",
   "execution_count": 1,
   "metadata": {
    "collapsed": false
   },
   "outputs": [
    {
     "name": "stdout",
     "output_type": "stream",
     "text": [
      "No, that doesn't work.\n"
     ]
    }
   ],
   "source": [
    "def check_fermat(a, b, c, n):\n",
    "    if a**n + b**n == c**n and n>2:\n",
    "        print \"Holy smokes, Fermat was wrong!\"\n",
    "    else:\n",
    "        print \"No, that doesn't work.\"\n",
    "\n",
    "check_fermat(2,3,4,3)"
   ]
  },
  {
   "cell_type": "code",
   "execution_count": 8,
   "metadata": {
    "collapsed": false
   },
   "outputs": [
    {
     "name": "stdout",
     "output_type": "stream",
     "text": [
      "intput a:\n",
      "3\n",
      "input b:\n",
      "4\n",
      "intput c:\n",
      "5\n",
      "input n:\n",
      "2\n",
      "No, that doesn't work\n"
     ]
    }
   ],
   "source": [
    "print('intput a:')\n",
    "a = raw_input()\n",
    "a = int(a)\n",
    "print('input b:')\n",
    "b = raw_input()\n",
    "b = int(b)\n",
    "print('intput c:')\n",
    "c = raw_input()\n",
    "c = int(c)\n",
    "print('input n:')\n",
    "n = raw_input()\n",
    "n = int(n)\n",
    "\n",
    "if a**n + b**n == c**n and n > 2:\n",
    "    print('Holy smokes, Fermat was wrong!')\n",
    "else:\n",
    "    print(\"No, that doesn't work\")"
   ]
  },
  {
   "cell_type": "code",
   "execution_count": 41,
   "metadata": {
    "collapsed": false
   },
   "outputs": [],
   "source": [
    "def check_fermat(a,b,c,n):\n",
    "    if n>2 and a**n + b**n == c**n:\n",
    "        print \"Holy smokes, Fermat was wrong!\"\n",
    "    else:\n",
    "        print \"No, that doesn't work.\"\n",
    "            "
   ]
  },
  {
   "cell_type": "code",
   "execution_count": 100,
   "metadata": {
    "collapsed": false
   },
   "outputs": [
    {
     "name": "stdout",
     "output_type": "stream",
     "text": [
      "No, that doesn’t work.\n"
     ]
    }
   ],
   "source": [
    "def check_fermat(a,b,c,n):\n",
    "    test = (a**n + b**n == c**n);\n",
    "    if test and n > 2:\n",
    "        print(\"Holy smokes, Fermat was wrong!\")\n",
    "    else:\n",
    "        print(\"No, that doesn’t work.\")\n",
    "        \n",
    "check_fermat(1,1,2,3);"
   ]
  },
  {
   "cell_type": "code",
   "execution_count": 1,
   "metadata": {
    "collapsed": false
   },
   "outputs": [
    {
     "name": "stdout",
     "output_type": "stream",
     "text": [
      "No, that doesn't work.\n"
     ]
    }
   ],
   "source": [
    "a = 2\n",
    "b = 3\n",
    "c = 4\n",
    "n = 3\n",
    "def check_fermat(a,b,c,n):\n",
    "    if a**n + b**n == c**n:\n",
    "        print (\"Holy smokes, Fermat was wrong!\")\n",
    "    else:\n",
    "        print (\"No, that doesn't work.\")\n",
    "check_fermat(a,b,c,n)"
   ]
  },
  {
   "cell_type": "markdown",
   "metadata": {},
   "source": [
    "(b) Write a function that prompts the user to input values for a, b, c and n, converts them to integers, and uses check_fermat to check whether they violate Fermat’s theorem."
   ]
  },
  {
   "cell_type": "code",
   "execution_count": 9,
   "metadata": {
    "collapsed": true
   },
   "outputs": [],
   "source": [
    "def prompt():\n",
    "    a = raw_input(\"input value for a\")\n",
    "    b = raw_input(\"input value for b\")\n",
    "    c = raw_input(\"input value for c\")\n",
    "    n = raw_input(\"input value for n\")\n",
    "    a = int(a)\n",
    "    b = int(b)\n",
    "    c = int(c)\n",
    "    n = int(n)\n",
    "    check_fermat(a,b,c,n)"
   ]
  },
  {
   "cell_type": "code",
   "execution_count": 43,
   "metadata": {
    "collapsed": false
   },
   "outputs": [
    {
     "name": "stdout",
     "output_type": "stream",
     "text": [
      "I'm going to need a few values to check Fermat.\n",
      "Please constrain yourself to positive integers that aren't 1...\n",
      "What do you want a to be?\n",
      "3\n",
      "How about b?\n",
      "4\n",
      "c's turn.\n",
      "5\n",
      "And finally, n. Remember, greater than 2.\n",
      "3\n",
      "No, that doesn't work...\n"
     ]
    }
   ],
   "source": [
    "def checkFermat(a,b,c,n): #sorry guys, I like the whole capital thing more...\n",
    "    if n == 2:\n",
    "        print 'Seriously? That, my friend, is not what we are trying to prove.'\n",
    "    elif a == 1 and b == 1 and c == 1:\n",
    "        print \"Well, I mean, yes, but 1 really shouldn't count.\"\n",
    "    else:\n",
    "        if (a**n + b**n) == c**n:\n",
    "            print 'Holy smokes, Fermat was... WRONG!'\n",
    "        else:\n",
    "            print \"No, that doesn't work...\"\n",
    "            \n",
    "def getInput():\n",
    "    print \"I'm going to need a few values to check Fermat.\"\n",
    "    print \"Please constrain yourself to positive integers that aren't 1...\"\n",
    "    a = raw_input(\"What do you want a to be?\\n\")\n",
    "    b = raw_input(\"How about b?\\n\")\n",
    "    c = raw_input(\"c's turn.\\n\")\n",
    "    n = raw_input(\"And finally, n. Remember, greater than 2.\\n\")\n",
    "    checkFermat(int(a),int(b),int(c),int(n))\n",
    "    \n",
    "getInput()"
   ]
  },
  {
   "cell_type": "code",
   "execution_count": null,
   "metadata": {
    "collapsed": true
   },
   "outputs": [],
   "source": [
    "def check_fermat():\n",
    "    a = int(raw_input(\"Choose a value for a.\"))\n",
    "    b = int(raw_input(\"Choose a value for b.\"))\n",
    "    c = int(raw_input(\"Choose a value for c.\"))\n",
    "    n = int(raw_input(\"Choose a value for n.\"))\n",
    "    if a**n+b**n==c**n:\n",
    "        return \"Holy smokes, Fermat was wrong!\"\n",
    "    else:\n",
    "        return \"No, that doesn't work.\""
   ]
  },
  {
   "cell_type": "code",
   "execution_count": 44,
   "metadata": {
    "collapsed": false
   },
   "outputs": [
    {
     "name": "stdout",
     "output_type": "stream",
     "text": [
      "No, that doesn't work.\n"
     ]
    }
   ],
   "source": [
    "def check_fermat(a, b, c, n):\n",
    "    if n > 2:\n",
    "        if (a**n + b**n) == c**n:\n",
    "            print 'Holy smokes, Fermat was wrong!'\n",
    "        else:\n",
    "            print \"No, that doesn't work.\"\n",
    "    else:\n",
    "        print 'n is not greater than 2.'\n",
    "        \n",
    "def user_tests_fermat(x, y, z, test):\n",
    "    a = int(x)\n",
    "    b = int(y)\n",
    "    c = int(z)\n",
    "    n = int(test)\n",
    "    check_fermat(a, b, c, n)\n",
    "    \n",
    "user_tests_fermat(3, 2, 1, 5)"
   ]
  },
  {
   "cell_type": "code",
   "execution_count": 171,
   "metadata": {
    "collapsed": false
   },
   "outputs": [
    {
     "name": "stdout",
     "output_type": "stream",
     "text": [
      "No, that doesn't work\n",
      "1\n"
     ]
    }
   ],
   "source": [
    "def check_fermat(a,b,c,n):\n",
    "    #if n is greater than 2 and a^n + b^n = c^n\n",
    "    if n>2 and a**n + b**n == c**n:\n",
    "        print 'Holy smokes, Fermat was wrong!'\n",
    "    else:\n",
    "        print \"No, that doesn't work\"\n",
    "        \n",
    "def user_input(a,b,c,n):\n",
    "    a = int(a)\n",
    "    b = int(b)\n",
    "    c = int(c)\n",
    "    n = int(n)\n",
    "    check_fermat(a,b,c,n)\n",
    "    print a\n",
    "    \n",
    "user_input(1.222,2.444,3.33,4.222)"
   ]
  },
  {
   "cell_type": "code",
   "execution_count": 11,
   "metadata": {
    "collapsed": false
   },
   "outputs": [
    {
     "name": "stdout",
     "output_type": "stream",
     "text": [
      "a = 12\n",
      "b = 13\n",
      "c = 14\n",
      "n = 5\n",
      "No, that doesn't work.\n",
      "None\n"
     ]
    }
   ],
   "source": [
    "a = input(\"a = \")\n",
    "b = input(\"b = \")\n",
    "c = input(\"c = \")\n",
    "n = input(\"n = \")\n",
    "\n",
    "def check_fermat(a, b, c, n):\n",
    "    if n > 2:\n",
    "        if (a ** n) + (b ** n) == c ** n:\n",
    "            print \"Holy smokes, Fermat was wrong!\"\n",
    "        else:\n",
    "            print \"No, that doesn't work.\"\n",
    "        \n",
    "print check_fermat(a, b, c, n)"
   ]
  },
  {
   "cell_type": "code",
   "execution_count": 48,
   "metadata": {
    "collapsed": false
   },
   "outputs": [
    {
     "name": "stdout",
     "output_type": "stream",
     "text": [
      "Type a\n",
      "1\n",
      "Type b\n",
      "2\n",
      "Type c\n",
      "3\n",
      "Type n\n",
      "4\n",
      "No, that doesn't work\n"
     ]
    }
   ],
   "source": [
    "def check_fermat(a,b,c,n):\n",
    "    if n>2 and a**n + b**n == c**n:\n",
    "        print 'Holy smokes, Fermat was wrong!'\n",
    "    else:\n",
    "        print \"No, that doesn't work\"\n",
    "def user_check_fermat():        \n",
    "    a = int(raw_input('Type a\\n'))\n",
    "    b = int(raw_input('Type b\\n'))\n",
    "    c = int(raw_input('Type c\\n'))\n",
    "    n = int(raw_input('Type n\\n'))\n",
    "    check_fermat(a,b,c,n)\n",
    "    \n",
    "user_check_fermat()"
   ]
  },
  {
   "cell_type": "code",
   "execution_count": 56,
   "metadata": {
    "collapsed": false
   },
   "outputs": [
    {
     "name": "stdout",
     "output_type": "stream",
     "text": [
      "type a\n",
      "1\n",
      "type b\n",
      "2\n",
      "type c\n",
      "4\n",
      "type n\n",
      "6\n",
      "No, that doesn't work\n"
     ]
    }
   ],
   "source": [
    "print 'type a'\n",
    "a = raw_input()\n",
    "print 'type b'\n",
    "b = raw_input()\n",
    "print 'type c'\n",
    "c = raw_input()\n",
    "print 'type n'\n",
    "n = raw_input()\n",
    "a = int(a)\n",
    "b = int(b)\n",
    "c = int(c)\n",
    "n = int(n)\n",
    "def fermats(a,b,c,n):\n",
    "    if a**n + b**n == c**n and c > 2:\n",
    "        print \"Holy smokes, Fermat was wrong!\"\n",
    "    elif a**n + b**n == c**n and c <= 2:   \n",
    "        print \"that works\"\n",
    "    else:\n",
    "        print \"No, that doesn't work\"\n",
    "fermats(a,b,c,n)\n"
   ]
  },
  {
   "cell_type": "code",
   "execution_count": 33,
   "metadata": {
    "collapsed": false
   },
   "outputs": [
    {
     "name": "stdout",
     "output_type": "stream",
     "text": [
      "Enter variable a: 1\n",
      "Enter variable b: 2\n",
      "Enter variable c: 3\n",
      "Enter exponent n: 4\n",
      "No, that doesn't work.\n"
     ]
    }
   ],
   "source": [
    "#Spoiler: Fermat still isn't wrong.\n",
    "def check_fermat(a, b, c, n):\n",
    "    if type(a) == int and type(b) == int and type(c) == int:\n",
    "        if n > 2:\n",
    "            if a ** n + b ** n == c ** n:\n",
    "                return \"Holy smokes, Fermat was wrong!\"\n",
    "            else:\n",
    "                return \"No, that doesn't work.\"\n",
    "        else:\n",
    "            return \"n must be greater than 2. No, that doesn't work.\"\n",
    "    else:\n",
    "        return \"That isn't an integer. No, that doesn't work.\"\n",
    "\n",
    "def input_fermat():\n",
    "    a = int(raw_input(\"Enter a variable a: \"))\n",
    "    b = int(raw_input(\"Enter a variable b: \"))\n",
    "    c = int(raw_input(\"Enter a variable c: \"))\n",
    "    n = int(raw_input(\"Enter a exponent n: \"))\n",
    "    print check_fermat(a, b, c, n)\n",
    "    \n",
    "input_fermat()"
   ]
  },
  {
   "cell_type": "code",
   "execution_count": 34,
   "metadata": {
    "collapsed": false,
    "scrolled": true
   },
   "outputs": [
    {
     "name": "stdout",
     "output_type": "stream",
     "text": [
      "What is your value for 'a'?3\n",
      "What is your value for 'b'?6\n",
      "What is your value for 'c'?8\n",
      "What is your value for 'n'?10\n",
      "No, that doesn't work.\n"
     ]
    }
   ],
   "source": [
    "def Fermat_prompter(): \n",
    "    a = int(raw_input(\"What is your value for 'a'?\"))\n",
    "    b = int(raw_input(\"What is your value for 'b'?\"))\n",
    "    c = int(raw_input(\"What is your value for 'c'?\"))\n",
    "    n = int(raw_input(\"What is your value for 'n'?\"))\n",
    "    check_fermat(a,b,c,n)\n"
   ]
  },
  {
   "cell_type": "code",
   "execution_count": 39,
   "metadata": {
    "collapsed": false
   },
   "outputs": [
    {
     "name": "stdout",
     "output_type": "stream",
     "text": [
      "Enter value for a.\n",
      "3.2\n",
      "Enter value for b.\n",
      "4\n",
      "Enter value for c.\n",
      "3\n",
      "Enter value for n.\n",
      "5\n",
      "No, that doesn't work.\n"
     ]
    }
   ],
   "source": [
    "def input_values():\n",
    "    a = input('Enter value for a.\\n')\n",
    "    b = input('Enter value for b.\\n')\n",
    "    c = input('Enter value for c.\\n')\n",
    "    n = input('Enter value for n.\\n')\n",
    "    a = int(a)\n",
    "    b = int(b)\n",
    "    c = int(c)\n",
    "    n = int(n)\n",
    "    check_fermat(a,b,c,n)\n",
    "input_values()"
   ]
  },
  {
   "cell_type": "code",
   "execution_count": 54,
   "metadata": {
    "collapsed": false
   },
   "outputs": [
    {
     "name": "stdout",
     "output_type": "stream",
     "text": [
      "Give me an a!3\n",
      "Give me a b!5\n",
      "Give me a c!2\n",
      "Give me an n!6\n",
      "What does that spell?\n",
      "No, that doesn't work.\n"
     ]
    }
   ],
   "source": [
    "a = int(raw_input(\"Give me an a!\"))\n",
    "b = int(raw_input(\"Give me a b!\"))\n",
    "c = int(raw_input(\"Give me a c!\"))\n",
    "n = int(raw_input(\"Give me an n!\"))\n",
    "print \"What does that spell?\"\n",
    "check_fermat(a,b,c,n)"
   ]
  },
  {
   "cell_type": "code",
   "execution_count": 41,
   "metadata": {
    "collapsed": false
   },
   "outputs": [
    {
     "name": "stdout",
     "output_type": "stream",
     "text": [
      "Input values for a, b, c, and n\n",
      "a:1\n",
      "b:2\n",
      "c:3\n",
      "n:4\n",
      "No, that doesn't work.\n"
     ]
    }
   ],
   "source": [
    "def check_fermat(a, b, c, n):\n",
    "    if(n>2 and ((a**n + b**n) == c**n)):\n",
    "       print(\"Holy smokes, Fermat was wrong!\");\n",
    "    else:\n",
    "       print(\"No, that doesn't work.\");\n",
    "def prompt():\n",
    "    print(\"Input values for a, b, c, and n\");\n",
    "    a = input(\"a:\");\n",
    "    b = input(\"b:\");\n",
    "    c = input(\"c:\");\n",
    "    n = input(\"n:\");\n",
    "    check_fermat((int)(a), (int)(b), (int)(c), (int)(n));\n",
    "prompt()"
   ]
  },
  {
   "cell_type": "code",
   "execution_count": 2,
   "metadata": {
    "collapsed": false
   },
   "outputs": [
    {
     "name": "stdout",
     "output_type": "stream",
     "text": [
      "We're testing Fermat's Last Theorem\n",
      "Gimme a number for a\n",
      "2\n",
      "And a number for b\n",
      "3\n",
      "A number for c...\n",
      "4\n",
      "And a number for n.\n",
      "4\n",
      "Nope, that doesn't work.\n"
     ]
    }
   ],
   "source": [
    "def check_fermat(a, b, c, n):\n",
    "    if a**n + b**n == c**n and n>2:\n",
    "        print \"Holy smokes, Fermat was wrong!\"\n",
    "    else:\n",
    "        print \"Nope, that doesn't work.\"\n",
    "\n",
    "print \"We're testing Fermat's Last Theorem\"\n",
    "a = raw_input(\"Gimme a number for a\\n\")\n",
    "b = raw_input(\"And a number for b\\n\")\n",
    "c = raw_input(\"A number for c...\\n\")\n",
    "n = raw_input(\"And a number for n.\\n\")\n",
    "check_fermat(int(a), int(b), int(c), int(n))"
   ]
  },
  {
   "cell_type": "code",
   "execution_count": 11,
   "metadata": {
    "collapsed": false
   },
   "outputs": [
    {
     "name": "stdout",
     "output_type": "stream",
     "text": [
      "intput a:\n",
      "4\n",
      "input b:\n",
      "5\n",
      "intput c:\n",
      "6\n",
      "input n:\n",
      "7\n",
      "No, that doesn't work\n"
     ]
    }
   ],
   "source": [
    "def check_fermat(a, b, c, n):\n",
    "    if a**n + b**n == c**n and n > 2:\n",
    "        print('Holy smokes, Fermat was wrong!')\n",
    "    else:\n",
    "        print(\"No, that doesn't work\")\n",
    "\n",
    "print('intput a:')\n",
    "a = raw_input()\n",
    "a = int(a)\n",
    "print('input b:')\n",
    "b = raw_input()\n",
    "b = int(b)\n",
    "print('intput c:')\n",
    "c = raw_input()\n",
    "c = int(c)\n",
    "print('input n:')\n",
    "n = raw_input()\n",
    "n = int(n)\n",
    "\n",
    "check_fermat(a, b, c, n)"
   ]
  },
  {
   "cell_type": "code",
   "execution_count": 42,
   "metadata": {
    "collapsed": false
   },
   "outputs": [
    {
     "name": "stdout",
     "output_type": "stream",
     "text": [
      "Input a:5\n",
      "Input b:6\n",
      "Input c:7\n",
      "Input n:8\n",
      "No, that doesn't work.\n"
     ]
    }
   ],
   "source": [
    "def user_input():\n",
    "    a = int(input(\"Input a:\"))\n",
    "    b = int(input(\"Input b:\"))\n",
    "    c = int(input(\"Input c:\"))\n",
    "    n = int(input(\"Input n:\"))\n",
    "\n",
    "    check_fermat(a,b,c,n)\n",
    "    \n",
    "user_input()"
   ]
  },
  {
   "cell_type": "code",
   "execution_count": 101,
   "metadata": {
    "collapsed": false
   },
   "outputs": [
    {
     "name": "stdout",
     "output_type": "stream",
     "text": [
      "No, that doesn’t work.\n"
     ]
    }
   ],
   "source": [
    "def check_fermat(a,b,c,n):\n",
    "    test = (a**n + b**n == c**n);\n",
    "    if test and n > 2:\n",
    "        print(\"Holy smokes, Fermat was wrong!\")\n",
    "    else:\n",
    "        print(\"No, that doesn’t work.\")\n",
    "\n",
    "def convert(a,b,c,n):\n",
    "    a = int(a)\n",
    "    b = int(b)\n",
    "    c = int(c)\n",
    "    n = int(n)\n",
    "    check_fermat(a,b,c,n)\n",
    "    \n",
    "convert(1,2,3,4)"
   ]
  },
  {
   "cell_type": "code",
   "execution_count": 2,
   "metadata": {
    "collapsed": false
   },
   "outputs": [
    {
     "name": "stdout",
     "output_type": "stream",
     "text": [
      "What value to assign for a2\n",
      "What value to assign for b3\n",
      "What value to assign for c4\n",
      "What value to assign for n3\n",
      "No, that doesn't work.\n"
     ]
    }
   ],
   "source": [
    "a = int(raw_input('What value to assign for a'))\n",
    "b = int(raw_input('What value to assign for b'))\n",
    "c = int(raw_input('What value to assign for c'))\n",
    "n = int(raw_input('What value to assign for n'))\n",
    "def check_fermat(a,b,c,n):\n",
    "    if a**n + b**n == c**n:\n",
    "        print (\"Holy smokes, Fermat was wrong!\")\n",
    "    else:\n",
    "        print (\"No, that doesn't work.\")\n",
    "check_fermat(a,b,c,n)"
   ]
  },
  {
   "cell_type": "markdown",
   "metadata": {},
   "source": [
    "## Chapter 5"
   ]
  },
  {
   "cell_type": "markdown",
   "metadata": {},
   "source": [
    "### Exercise 4  \n",
    "\n",
    "If you are given three sticks, you may or may not be able to arrange them in a triangle. For example, if one of the sticks is 12 inches long and the other two are one inch long, it is clear that you will not be able to get the short sticks to meet in the middle. For any three lengths, there is a simple test to see if it is possible to form a triangle:\n",
    "> If any of the three lengths is greater than the sum of the other two, then you cannot form a triangle. Otherwise, you can. (If the sum of two lengths equals the third, they form what is called a “degenerate” triangle.)\n",
    "\n",
    "(a) Write a function named `is_triangle` that takes three integers as arguments, and that prints either \"Yes\" or \"No,\" depending on whether you can or cannot form a triangle from sticks with the given lengths."
   ]
  },
  {
   "cell_type": "code",
   "execution_count": null,
   "metadata": {
    "collapsed": true
   },
   "outputs": [],
   "source": [
    "def is_triangle(a,b,c):\n",
    "    if a > b + c or b > a + c or c > a + b:\n",
    "        print \"No\"\n",
    "    else:\n",
    "        print \"Yes\""
   ]
  },
  {
   "cell_type": "code",
   "execution_count": 44,
   "metadata": {
    "collapsed": false
   },
   "outputs": [
    {
     "name": "stdout",
     "output_type": "stream",
     "text": [
      "Yes\n",
      "No\n"
     ]
    }
   ],
   "source": [
    "def isTriangle(a,b,c):\n",
    "    \"\"\"where a, b, and c are all lengths of triangle sides in the same unit.\"\"\"\n",
    "    if a + b < c or a + c < b or b + c < a:\n",
    "        print 'No'\n",
    "    else:\n",
    "        print 'Yes'\n",
    "        \n",
    "isTriangle(3,5,7)\n",
    "isTriangle(3,6,14)"
   ]
  },
  {
   "cell_type": "code",
   "execution_count": null,
   "metadata": {
    "collapsed": true
   },
   "outputs": [],
   "source": [
    "def is_triangle(a,b,c):\n",
    "    sides = []\n",
    "    sides.append(a)\n",
    "    sides.append(b)\n",
    "    sides.append(c)\n",
    "    sides = sorted(sides)\n",
    "    if sides[2]>sides[0]+sides[1]:\n",
    "        return \"No\"\n",
    "    else:\n",
    "        return \"Yes\""
   ]
  },
  {
   "cell_type": "code",
   "execution_count": 45,
   "metadata": {
    "collapsed": true
   },
   "outputs": [],
   "source": [
    "def is_triangle(x, y, z):\n",
    "    if x + y > z:\n",
    "        print 'No'\n",
    "    elif y + z > x:\n",
    "        print 'No'\n",
    "    elif z + x > y:\n",
    "        print 'No'\n",
    "    else:\n",
    "        print 'Yes'\n",
    "        \n",
    "        "
   ]
  },
  {
   "cell_type": "code",
   "execution_count": 174,
   "metadata": {
    "collapsed": false
   },
   "outputs": [
    {
     "name": "stdout",
     "output_type": "stream",
     "text": [
      "yes\n"
     ]
    }
   ],
   "source": [
    "def is_triangle(a,b,c):\n",
    "    if a> b+c or b>a+c or c> a+b:\n",
    "        print 'no'\n",
    "    else:\n",
    "        print 'yes'\n",
    "    \n",
    "is_triangle(3,4,5)"
   ]
  },
  {
   "cell_type": "code",
   "execution_count": 19,
   "metadata": {
    "collapsed": false
   },
   "outputs": [
    {
     "name": "stdout",
     "output_type": "stream",
     "text": [
      "No\n"
     ]
    }
   ],
   "source": [
    "def is_triangle(side1, side2, side3):\n",
    "    if side1 > (side2 + side3) or side2 > (side1 + side3) or side3 > (side1 + side2):\n",
    "        print \"No\"\n",
    "    else:\n",
    "        print \"Yes\"\n",
    "\n",
    "is_triangle(1, 1, 5)"
   ]
  },
  {
   "cell_type": "code",
   "execution_count": 52,
   "metadata": {
    "collapsed": false
   },
   "outputs": [],
   "source": [
    "def is_triangle(a,b,c):\n",
    "    if (a > b+c):\n",
    "        print 'No'\n",
    "    elif (b > a+c):\n",
    "        print 'No'\n",
    "    elif (c > a+b):\n",
    "        print 'No'\n",
    "    else:\n",
    "        print 'Yes'"
   ]
  },
  {
   "cell_type": "code",
   "execution_count": 54,
   "metadata": {
    "collapsed": false
   },
   "outputs": [
    {
     "name": "stdout",
     "output_type": "stream",
     "text": [
      "No\n"
     ]
    }
   ],
   "source": [
    "def is_triangle(a,b,c):\n",
    "    if a + b > c:\n",
    "        print \"No\"\n",
    "    elif a + c > b:\n",
    "        print \"No\"\n",
    "    elif c + b > a:\n",
    "        print \"No\"\n",
    "    else:\n",
    "        print \"Yes\"\n",
    "is_triangle(1,2,3)"
   ]
  },
  {
   "cell_type": "code",
   "execution_count": 38,
   "metadata": {
    "collapsed": false
   },
   "outputs": [
    {
     "name": "stdout",
     "output_type": "stream",
     "text": [
      "Yes, but it's a degenerate triangle.\n"
     ]
    }
   ],
   "source": [
    "def is_triangle(a, b, c):\n",
    "    if a > b + c or b > a + b or c > a + b:\n",
    "        return \"No,\"\n",
    "    else:\n",
    "        if a == b + c or b == a + c or c == a + b:\n",
    "            return \"Yes, but it's a degenerate triangle.\"\n",
    "        else:\n",
    "            return \"Yes, and it is not a degenerate triangle\"\n",
    "\n",
    "print is_triangle(1,2,3)\n",
    "#Spoiler: this is a degenerate triangle, which is still a triangle."
   ]
  },
  {
   "cell_type": "code",
   "execution_count": 40,
   "metadata": {
    "collapsed": true
   },
   "outputs": [],
   "source": [
    "def is_triangle(a,b,c):\n",
    "    if (a >= b + c) or (b >= a + c) or (c >= b + c):\n",
    "        print 'No'\n",
    "    else:\n",
    "        print 'Yes'\n"
   ]
  },
  {
   "cell_type": "code",
   "execution_count": 55,
   "metadata": {
    "collapsed": true
   },
   "outputs": [],
   "source": [
    "def is_triangle(a,b,c):\n",
    "    if a+b < c or b+c < a or c+a < b:\n",
    "        print \"Yes\"\n",
    "    else:\n",
    "        print \"No\""
   ]
  },
  {
   "cell_type": "code",
   "execution_count": 47,
   "metadata": {
    "collapsed": false
   },
   "outputs": [
    {
     "name": "stdout",
     "output_type": "stream",
     "text": [
      "Yes\n"
     ]
    }
   ],
   "source": [
    "def is_triangle(a, b, c):\n",
    "    if(a > b+c):\n",
    "        print(\"No\");\n",
    "    elif(b > a+c):\n",
    "        print(\"No\");\n",
    "    elif(c > a+b):\n",
    "        print(\"No\");\n",
    "    else:\n",
    "        print(\"Yes\");\n",
    "is_triangle(6, 9, 3)"
   ]
  },
  {
   "cell_type": "code",
   "execution_count": 30,
   "metadata": {
    "collapsed": false
   },
   "outputs": [
    {
     "name": "stdout",
     "output_type": "stream",
     "text": [
      "Yes\n",
      "No\n"
     ]
    }
   ],
   "source": [
    "def is_triangle(a,b,c):\n",
    "    if a < b+c and b < a+c and c < a+b:\n",
    "        print \"Yes\"\n",
    "    else:\n",
    "        print \"No\"\n",
    "\n",
    "is_triangle(3,4,5)\n",
    "is_triangle(15,4,5)"
   ]
  },
  {
   "cell_type": "code",
   "execution_count": null,
   "metadata": {
    "collapsed": true
   },
   "outputs": [],
   "source": [
    "def is_triangle(a, b, c):\n",
    "    if a + b > c and a + c > b and b + c > a:\n",
    "        print('Yes')\n",
    "    else:\n",
    "        print('No')"
   ]
  },
  {
   "cell_type": "code",
   "execution_count": 46,
   "metadata": {
    "collapsed": false
   },
   "outputs": [],
   "source": [
    "def is_triangle(x,y,z):\n",
    "    if x > y+z:\n",
    "        print\"No\"\n",
    "    elif y > x+z:\n",
    "        print\"No\"\n",
    "    elif z > x+y:\n",
    "        print\"No\"\n",
    "    else:\n",
    "        print\"Yes\"\n",
    "        \n"
   ]
  },
  {
   "cell_type": "code",
   "execution_count": 95,
   "metadata": {
    "collapsed": false
   },
   "outputs": [
    {
     "name": "stdout",
     "output_type": "stream",
     "text": [
      "Yes\n"
     ]
    }
   ],
   "source": [
    "def is_triangle(a,b,c):\n",
    "    if (a + b >= c):\n",
    "        if (b + c >= a):\n",
    "            if (c + a >= b):\n",
    "                print('Yes')\n",
    "            else:\n",
    "                print('No')\n",
    "        else:\n",
    "            print('No')\n",
    "    else:\n",
    "        print('No')\n",
    "        \n",
    "is_triangle(1,3,4)"
   ]
  },
  {
   "cell_type": "code",
   "execution_count": 4,
   "metadata": {
    "collapsed": false
   },
   "outputs": [
    {
     "name": "stdout",
     "output_type": "stream",
     "text": [
      "yes\n"
     ]
    }
   ],
   "source": [
    "def is_triangle(a,b,c):\n",
    "    if a > (b + c):\n",
    "        print(\"no\")\n",
    "    elif b > (a + c):\n",
    "        print(\"no\")\n",
    "    elif c > (a + b):\n",
    "        print(\"no\")\n",
    "    else:\n",
    "        print(\"yes\")\n",
    "is_triangle(2,4,5)"
   ]
  },
  {
   "cell_type": "markdown",
   "metadata": {},
   "source": [
    "(b) Write a function that prompts the user to input three stick lengths, converts them to integers, and uses is_triangle to check whether sticks with the given lengths can form a triangle."
   ]
  },
  {
   "cell_type": "code",
   "execution_count": 10,
   "metadata": {
    "collapsed": true
   },
   "outputs": [],
   "source": [
    "def prompt():\n",
    "    a = raw_input(\"input values for stick lenght 1\")\n",
    "    b = raw_input(\"input values for stick lenght 2\")\n",
    "    c = raw_input(\"input values for stick lenght 3\")\n",
    "    a = int(a)\n",
    "    b = int(b)\n",
    "    c = int(c)\n",
    "    is_triangle(a,b,c)"
   ]
  },
  {
   "cell_type": "code",
   "execution_count": 46,
   "metadata": {
    "collapsed": false
   },
   "outputs": [
    {
     "name": "stdout",
     "output_type": "stream",
     "text": [
      "Alright, so let's see if those sticks can make triangles!\n",
      "Please make sure they are positive integer lengths.\n",
      "How long is the first stick?\n",
      "3\n",
      "Mhm... how about the second?\n",
      "7\n",
      "Okay, good, good... what about the third?\n",
      "12\n",
      "Got it! And, the answer is...\n",
      "No\n"
     ]
    }
   ],
   "source": [
    "def isTriangle(a,b,c):\n",
    "    \"\"\"where a, b, and c are all lengths of triangle sides in the same unit.\"\"\"\n",
    "    if a + b < c or a + c < b or b + c < a:\n",
    "        print 'No'\n",
    "    else:\n",
    "        print 'Yes'\n",
    "        \n",
    "print \"Alright, so let's see if those sticks can make triangles!\"\n",
    "print \"Please make sure they are positive integer lengths.\"\n",
    "a = int(raw_input(\"How long is the first stick?\\n\"))\n",
    "b = int(raw_input(\"Mhm... how about the second?\\n\"))\n",
    "c = int(raw_input(\"Okay, good, good... what about the third?\\n\"))\n",
    "print \"Got it! And, the answer is...\"\n",
    "isTriangle(a,b,c)"
   ]
  },
  {
   "cell_type": "code",
   "execution_count": null,
   "metadata": {
    "collapsed": true
   },
   "outputs": [],
   "source": [
    "def is_triangle():\n",
    "    sides = []\n",
    "    sides.append(int(raw_input(\"Choose the length of the first side.\")))\n",
    "    sides.append(int(raw_input(\"Choose the length of the second side.\")))\n",
    "    sides.append(int(raw_input(\"Choose the length of the third side.\")))\n",
    "    sides = sorted(sides)\n",
    "    if sides[2]>sides[0]+sides[1]:\n",
    "        return \"No\"\n",
    "    else:\n",
    "        return \"Yes\""
   ]
  },
  {
   "cell_type": "code",
   "execution_count": 51,
   "metadata": {
    "collapsed": false
   },
   "outputs": [
    {
     "name": "stdout",
     "output_type": "stream",
     "text": [
      "Yes\n"
     ]
    }
   ],
   "source": [
    "def is_triangle(x, y, z):\n",
    "    if x + y < z:\n",
    "        print 'No'\n",
    "    elif y + z < x:\n",
    "        print 'No'\n",
    "    elif z + x < y:\n",
    "        print 'No'\n",
    "    else:\n",
    "        print 'Yes'\n",
    "        \n",
    "        \n",
    "def user_tests_triangle(a, b, c):\n",
    "    x = int(a)\n",
    "    y = int(b)\n",
    "    z = int(c)\n",
    "    is_triangle(x, y, z)\n",
    "    \n"
   ]
  },
  {
   "cell_type": "code",
   "execution_count": 177,
   "metadata": {
    "collapsed": false
   },
   "outputs": [
    {
     "name": "stdout",
     "output_type": "stream",
     "text": [
      "no\n"
     ]
    }
   ],
   "source": [
    "def is_triangle(a,b,c):\n",
    "    if a> b+c or b>a+c or c> a+b:\n",
    "        print 'no'\n",
    "    else:\n",
    "        print 'yes'\n",
    "    \n",
    "\n",
    "def user_input(a,b,c):\n",
    "    a = int(a)\n",
    "    b = int(b)\n",
    "    c = int(c)\n",
    "    is_triangle (a,b,c)\n",
    "    \n",
    "user_input(10.23,5.234,2.34)\n",
    "    "
   ]
  },
  {
   "cell_type": "code",
   "execution_count": 18,
   "metadata": {
    "collapsed": false
   },
   "outputs": [
    {
     "name": "stdout",
     "output_type": "stream",
     "text": [
      "Stick Length 1 = 3\n",
      "Stick Length 2 = 4\n",
      "Stick Length 3 = 5\n",
      "Yes\n"
     ]
    }
   ],
   "source": [
    "a = input(\"Stick Length 1 = \")\n",
    "b = input(\"Stick Length 2 = \")\n",
    "c = input(\"Stick Length 3 = \")\n",
    "\n",
    "side1 = int(a)\n",
    "side2 = int(b)\n",
    "side3 = int(c)\n",
    "\n",
    "def is_triangle(side1, side2, side3):\n",
    "    if side1 > (side2 + side3) or side2 > (side1 + side3) or side3 > (side1 + side2):\n",
    "        print \"No\"\n",
    "    else:\n",
    "        print \"Yes\"\n",
    "\n",
    "is_triangle(a, b, c)"
   ]
  },
  {
   "cell_type": "code",
   "execution_count": 56,
   "metadata": {
    "collapsed": false
   },
   "outputs": [
    {
     "name": "stdout",
     "output_type": "stream",
     "text": [
      "Type a\n",
      "3\n",
      "Type b\n",
      "4\n",
      "Type c\n",
      "8\n",
      "No\n"
     ]
    }
   ],
   "source": [
    "def is_triangle(a,b,c):\n",
    "    if (a > b+c):\n",
    "        print 'No'\n",
    "    elif (b > a+c):\n",
    "        print 'No'\n",
    "    elif (c > a+b):\n",
    "        print 'No'\n",
    "    else:\n",
    "        print 'Yes'\n",
    "        \n",
    "def user_is_triangle():\n",
    "    a = int(raw_input(\"Type a\\n\"))\n",
    "    b = int(raw_input('Type b\\n'))\n",
    "    c = int(raw_input('Type c\\n'))\n",
    "    is_triangle(a,b,c)\n",
    "    \n",
    "user_is_triangle()"
   ]
  },
  {
   "cell_type": "code",
   "execution_count": 55,
   "metadata": {
    "collapsed": false
   },
   "outputs": [
    {
     "name": "stdout",
     "output_type": "stream",
     "text": [
      "type a\n",
      "1\n",
      "type b\n",
      "2\n",
      "type c\n",
      "3\n",
      "No\n"
     ]
    }
   ],
   "source": [
    "print 'type a'\n",
    "a = raw_input()\n",
    "print 'type b'\n",
    "b = raw_input()\n",
    "print 'type c'\n",
    "c = raw_input()\n",
    "a = int(a)\n",
    "b = int(b)\n",
    "c = int(c)\n",
    "def is_triangle(a,b,c):\n",
    "    if a + b > c:\n",
    "        print \"No\"\n",
    "    elif a + c > b:\n",
    "        print \"No\"\n",
    "    elif c + b > a:\n",
    "        print \"No\"\n",
    "    else:\n",
    "        print \"Yes\"\n",
    "is_triangle(a,b,c)"
   ]
  },
  {
   "cell_type": "code",
   "execution_count": 39,
   "metadata": {
    "collapsed": false
   },
   "outputs": [
    {
     "name": "stdout",
     "output_type": "stream",
     "text": [
      "Enter length of side a: 1\n",
      "Enter length of side b: 2\n",
      "Enter length of side c: 3\n",
      "Yes, but it's a degenerate triangle.\n"
     ]
    }
   ],
   "source": [
    "def is_triangle(a, b, c):\n",
    "    if a > b + c or b > a + b or c > a + b:\n",
    "        return \"No,\"\n",
    "    else:\n",
    "        if a == b + c or b == a + c or c == a + b:\n",
    "            return \"Yes, but it's a degenerate triangle.\"\n",
    "        else:\n",
    "            return \"Yes, and it is not a degenerate triangle\"\n",
    "        \n",
    "def input_triangle():\n",
    "    a = int(raw_input(\"Enter length of side a: \"))\n",
    "    b = int(raw_input(\"Enter length of side b: \"))\n",
    "    c = int(raw_input(\"Enter length of side c: \"))\n",
    "    print is_triangle(a, b, c)\n",
    "    \n",
    "input_triangle()\n",
    "    \n"
   ]
  },
  {
   "cell_type": "code",
   "execution_count": 40,
   "metadata": {
    "collapsed": false,
    "scrolled": false
   },
   "outputs": [
    {
     "name": "stdout",
     "output_type": "stream",
     "text": [
      "What is your value for 'a'?4\n",
      "What is your value for 'b'?2\n",
      "What is your value for 'c'?6\n",
      "That triangle is degenerate. Aka: try again.\n"
     ]
    }
   ],
   "source": [
    "def stick_lengths():\n",
    "    a = int(raw_input(\"What is your value for 'a'?\"))\n",
    "    b = int(raw_input(\"What is your value for 'b'?\"))\n",
    "    c = int(raw_input(\"What is your value for 'c'?\"))\n",
    "    is_triangle(a,b,c)\n",
    "\n",
    "stick_lengths()"
   ]
  },
  {
   "cell_type": "code",
   "execution_count": 43,
   "metadata": {
    "collapsed": false
   },
   "outputs": [
    {
     "name": "stdout",
     "output_type": "stream",
     "text": [
      "Enter value for a.\n",
      "10\n",
      "Enter value for b.\n",
      "2\n",
      "Enter value for c.\n",
      "3\n",
      "No\n"
     ]
    }
   ],
   "source": [
    "def input_triangle():\n",
    "    a = input('Enter value for a.\\n')\n",
    "    b = input('Enter value for b.\\n')\n",
    "    c = input('Enter value for c.\\n')\n",
    "    a = int(a)\n",
    "    b = int(b)\n",
    "    c = int(c)\n",
    "    is_triangle(a,b,c)\n",
    "input_triangle()"
   ]
  },
  {
   "cell_type": "code",
   "execution_count": 56,
   "metadata": {
    "collapsed": false
   },
   "outputs": [
    {
     "name": "stdout",
     "output_type": "stream",
     "text": [
      "How long is the first stick?17\n",
      "How long is the second stick?34\n",
      "And how long is the final stick?9\n",
      "Yes\n"
     ]
    }
   ],
   "source": [
    "a = int(raw_input(\"How long is the first stick?\"))\n",
    "b = int(raw_input(\"How long is the second stick?\"))\n",
    "c = int(raw_input(\"And how long is the final stick?\"))\n",
    "\n",
    "is_triangle(a,b,c)"
   ]
  },
  {
   "cell_type": "code",
   "execution_count": 49,
   "metadata": {
    "collapsed": false
   },
   "outputs": [
    {
     "name": "stdout",
     "output_type": "stream",
     "text": [
      "Input three stick lengths\n",
      "Stick 1:6\n",
      "Stick 2:10\n",
      "Stick 3:3\n",
      "No\n"
     ]
    }
   ],
   "source": [
    "def is_triangle(a, b, c):\n",
    "    if(a > b+c):\n",
    "        print(\"No\");\n",
    "    elif(b > a+c):\n",
    "        print(\"No\");\n",
    "    elif(c > a+b):\n",
    "        print(\"No\");\n",
    "    else:\n",
    "        print(\"Yes\");\n",
    "def prompt():\n",
    "    print(\"Input three stick lengths\");\n",
    "    a = input(\"Stick 1:\");\n",
    "    b = input(\"Stick 2:\");\n",
    "    c = input(\"Stick 3:\");\n",
    "    is_triangle((int)(a), (int)(b), (int)(c));\n",
    "prompt()"
   ]
  },
  {
   "cell_type": "code",
   "execution_count": 3,
   "metadata": {
    "collapsed": false
   },
   "outputs": [
    {
     "name": "stdout",
     "output_type": "stream",
     "text": [
      "Let's see if three numbers make a triangle\n",
      "Give me one value\n",
      "3\n",
      "And another\n",
      "4\n",
      "And one more\n",
      "9\n",
      "Nope, that doesn't make a triangle\n"
     ]
    }
   ],
   "source": [
    "def is_triangle(a,b,c):\n",
    "    if a < b+c and b < a+c and c < a+b:\n",
    "        print \"Yep, that's a triangle\"\n",
    "    else:\n",
    "        print \"Nope, that doesn't make a triangle\"\n",
    "        \n",
    "print \"Let's see if three numbers make a triangle\"\n",
    "a = int(raw_input(\"Give me one value\\n\"))\n",
    "b = int(raw_input(\"And another\\n\"))\n",
    "c = int(raw_input(\"And one more\\n\"))\n",
    "is_triangle(a,b,c)\n",
    "#There are lots of inputs that can be passed that will make this fail.\n",
    "#Like negative numbers, or floats."
   ]
  },
  {
   "cell_type": "code",
   "execution_count": 13,
   "metadata": {
    "collapsed": false
   },
   "outputs": [
    {
     "name": "stdout",
     "output_type": "stream",
     "text": [
      "intput length 1:\n",
      "1\n",
      "input length 2:\n",
      "1\n",
      "intput length 3:\n",
      "12\n",
      "No\n"
     ]
    }
   ],
   "source": [
    "def is_triangle(a, b, c):\n",
    "    if a + b > c and a + c > b and b + c > a:\n",
    "        print('Yes')\n",
    "    else:\n",
    "        print('No')\n",
    "\n",
    "print('intput length 1:')\n",
    "a = raw_input()\n",
    "a = int(a)\n",
    "print('input length 2:')\n",
    "b = raw_input()\n",
    "b = int(b)\n",
    "print('intput length 3:')\n",
    "c = raw_input()\n",
    "c = int(c)\n",
    "\n",
    "is_triangle(a, b, c)"
   ]
  },
  {
   "cell_type": "code",
   "execution_count": 47,
   "metadata": {
    "collapsed": false
   },
   "outputs": [
    {
     "name": "stdout",
     "output_type": "stream",
     "text": [
      "Input Stick 1 length:5\n",
      "Input Stick 2 length:6\n",
      "Input Stick 3 length:7\n",
      "Yes\n"
     ]
    }
   ],
   "source": [
    "def triangle_size():\n",
    "    x = int(input(\"Input Stick 1 length:\"))\n",
    "    y = int(input(\"Input Stick 2 length:\"))\n",
    "    z = int(input(\"Input Stick 3 length:\"))\n",
    "    \n",
    "    is_triangle(x,y,z)\n",
    "    \n",
    "triangle_size()"
   ]
  },
  {
   "cell_type": "code",
   "execution_count": 99,
   "metadata": {
    "collapsed": false
   },
   "outputs": [
    {
     "name": "stdout",
     "output_type": "stream",
     "text": [
      "No\n"
     ]
    }
   ],
   "source": [
    "def convert(a,b,c):\n",
    "    a = int(a)\n",
    "    b = int(b)\n",
    "    c = int(c)\n",
    "    is_triangle(a,b,c);\n",
    "    \n",
    "convert(2.4, 3.7, 6.1)"
   ]
  },
  {
   "cell_type": "code",
   "execution_count": 5,
   "metadata": {
    "collapsed": false
   },
   "outputs": [
    {
     "name": "stdout",
     "output_type": "stream",
     "text": [
      "What value to assign for side a?2\n",
      "What value to assign for side b?4\n",
      "What value to assign for side c?5\n",
      "yes\n"
     ]
    }
   ],
   "source": [
    "a = int(raw_input('What value to assign for side a?'))\n",
    "b = int(raw_input('What value to assign for side b?'))\n",
    "c = int(raw_input('What value to assign for side c?'))\n",
    "def is_triangle(a,b,c):\n",
    "    if a > (b + c):\n",
    "        print(\"no\")\n",
    "    elif b > (a + c):\n",
    "        print(\"no\")\n",
    "    elif c > (a + b):\n",
    "        print(\"no\")\n",
    "    else:\n",
    "        print(\"yes\")\n",
    "is_triangle(a,b,c)"
   ]
  },
  {
   "cell_type": "markdown",
   "metadata": {},
   "source": [
    "1. I feel like we jumped into this course a little quickly... Setting up my computer with Linux was a bit of a challenge, but there wasn't enough time for me to ask questions or get help.\n",
    "2. I've already learned Python online, but some of my friends haven't, and they're struggling to understand the textbook and the assignments. \n",
    "3. I want to enjoy this course! But the reading journal isn't a whole lot of fun (in my honest opinion) and I never know what exactly to take notes on, since a lot of this material is review so far."
   ]
  },
  {
   "cell_type": "markdown",
   "metadata": {},
   "source": [
    "This was pretty nice. I'm starting to get a bit more comfortable with Python. The exercises chosen seemed like the important ones. "
   ]
  },
  {
   "cell_type": "markdown",
   "metadata": {},
   "source": [
    "This was a pretty hefty chunk of reading. I know this stuff, but it still took me quite a while to get through. I'm not sure how long this is intended to take, but I would imagine that people new to the concepts may have taken a long time indeed. Or I'm just slow.\n",
    "\n",
    "I do like the book; it explains things very simply and concisely.\n",
    "\n",
    "Actually, I think there are a number of people who are still struggling with Ubuntu installs and will not have a great time with this at the last minute."
   ]
  }
 ],
 "metadata": {
  "kernelspec": {
   "display_name": "Python 2",
   "language": "python",
   "name": "python2"
  },
  "language_info": {
   "codemirror_mode": {
    "name": "ipython",
    "version": 2
   },
   "file_extension": ".py",
   "mimetype": "text/x-python",
   "name": "python",
   "nbconvert_exporter": "python",
   "pygments_lexer": "ipython2",
   "version": "2.7.6"
  }
 },
 "nbformat": 4,
 "nbformat_minor": 0
}
