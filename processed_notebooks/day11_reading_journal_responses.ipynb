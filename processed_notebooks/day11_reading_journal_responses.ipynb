{
 "cells": [
  {
   "cell_type": "markdown",
   "metadata": {
    "is_question": true,
    "problem": "Exercise 1"
   },
   "source": [
    "### Exercise\n",
    "\n",
    "We're going to take the first steps toward writing a calendar application. To keep things simple, we'll restrict ourselves to a single day for now. Write an `Event` class with the following attributes:\n",
    "\n",
    " - `name`  : Title for the `Event`\n",
    " - `start` : `Time` object representing the start time for the `Event`\n",
    " - `end`   : `Time` object representing the end time for the `Event`\n",
    "\n",
    "You can also augment your `Event` class with additional attributes, such as location and attendees.\n",
    "\n",
    "Write `__init__` and `__str__` methods for your `Event` class."
   ]
  },
  {
   "cell_type": "code",
   "execution_count": 1,
   "metadata": {
    "collapsed": false,
    "solution": "Exercise 1"
   },
   "outputs": [
    {
     "name": "stdout",
     "output_type": "stream",
     "text": [
      "Undefined Name will take place at Undefined Location from 00:00:00 to 00:00:00\n",
      "Attendees include: \n",
      "puppy watching will take place at the lake from 15:22:00 to 17:40:00\n",
      "Attendees include: duck, fish\n"
     ]
    },
    {
     "ename": "NameError",
     "evalue": "global name 'time_to_int' is not defined",
     "output_type": "error",
     "traceback": [
      "\u001b[0;31m---------------------------------------------------------------------------\u001b[0m",
      "\u001b[0;31mNameError\u001b[0m                                 Traceback (most recent call last)",
      "\u001b[0;32m<ipython-input-1-fea3107cfaef>\u001b[0m in \u001b[0;36m<module>\u001b[0;34m()\u001b[0m\n\u001b[1;32m     65\u001b[0m \u001b[0;34m\u001b[0m\u001b[0m\n\u001b[1;32m     66\u001b[0m \u001b[0;32mprint\u001b[0m \u001b[0mmyevent\u001b[0m\u001b[0;34m\u001b[0m\u001b[0m\n\u001b[0;32m---> 67\u001b[0;31m \u001b[0;32mprint\u001b[0m  \u001b[0mmyevent\u001b[0m\u001b[0;34m.\u001b[0m\u001b[0mduration\u001b[0m\u001b[0;34m(\u001b[0m\u001b[0;34m)\u001b[0m\u001b[0;34m\u001b[0m\u001b[0m\n\u001b[0m\u001b[1;32m     68\u001b[0m \u001b[0;32mprint\u001b[0m \u001b[0mmyevent\u001b[0m\u001b[0;34m.\u001b[0m\u001b[0mstart\u001b[0m\u001b[0;34m.\u001b[0m\u001b[0mtime_to_int\u001b[0m\u001b[0;34m(\u001b[0m\u001b[0;34m)\u001b[0m\u001b[0;34m\u001b[0m\u001b[0m\n\u001b[1;32m     69\u001b[0m \u001b[0;32mprint\u001b[0m \u001b[0mmyevent\u001b[0m\u001b[0;34m.\u001b[0m\u001b[0mstartint\u001b[0m\u001b[0;34m(\u001b[0m\u001b[0;34m)\u001b[0m\u001b[0;34m\u001b[0m\u001b[0m\n",
      "\u001b[0;32m<ipython-input-1-fea3107cfaef>\u001b[0m in \u001b[0;36mduration\u001b[0;34m(self)\u001b[0m\n\u001b[1;32m     51\u001b[0m         \u001b[0mend\u001b[0m \u001b[0;34m=\u001b[0m \u001b[0mself\u001b[0m\u001b[0;34m.\u001b[0m\u001b[0mend\u001b[0m\u001b[0;34m\u001b[0m\u001b[0m\n\u001b[1;32m     52\u001b[0m \u001b[0;31m#         print type(start), type(end)\u001b[0m\u001b[0;34m\u001b[0m\u001b[0;34m\u001b[0m\u001b[0m\n\u001b[0;32m---> 53\u001b[0;31m         \u001b[0;32mreturn\u001b[0m \u001b[0mstart\u001b[0m\u001b[0;34m.\u001b[0m\u001b[0msubtract_time\u001b[0m\u001b[0;34m(\u001b[0m\u001b[0mend\u001b[0m\u001b[0;34m)\u001b[0m\u001b[0;34m\u001b[0m\u001b[0m\n\u001b[0m\u001b[1;32m     54\u001b[0m     \u001b[0;32mdef\u001b[0m \u001b[0mstartint\u001b[0m\u001b[0;34m(\u001b[0m\u001b[0mself\u001b[0m\u001b[0;34m)\u001b[0m\u001b[0;34m:\u001b[0m\u001b[0;34m\u001b[0m\u001b[0m\n\u001b[1;32m     55\u001b[0m         \u001b[0;32mreturn\u001b[0m \u001b[0mself\u001b[0m\u001b[0;34m.\u001b[0m\u001b[0mstart\u001b[0m\u001b[0;34m.\u001b[0m\u001b[0mtime_to_int\u001b[0m\u001b[0;34m(\u001b[0m\u001b[0;34m)\u001b[0m\u001b[0;34m\u001b[0m\u001b[0m\n",
      "\u001b[0;32m<ipython-input-1-fea3107cfaef>\u001b[0m in \u001b[0;36msubtract_time\u001b[0;34m(t1, t2)\u001b[0m\n\u001b[1;32m     14\u001b[0m         \u001b[0;32mreturn\u001b[0m \u001b[0mint_to_time\u001b[0m\u001b[0;34m(\u001b[0m\u001b[0mseconds\u001b[0m\u001b[0;34m)\u001b[0m\u001b[0;34m\u001b[0m\u001b[0m\n\u001b[1;32m     15\u001b[0m     \u001b[0;32mdef\u001b[0m \u001b[0msubtract_time\u001b[0m\u001b[0;34m(\u001b[0m\u001b[0mt1\u001b[0m\u001b[0;34m,\u001b[0m\u001b[0mt2\u001b[0m\u001b[0;34m)\u001b[0m\u001b[0;34m:\u001b[0m\u001b[0;34m\u001b[0m\u001b[0m\n\u001b[0;32m---> 16\u001b[0;31m         \u001b[0mseconds\u001b[0m \u001b[0;34m=\u001b[0m \u001b[0mseconds\u001b[0m \u001b[0;34m=\u001b[0m \u001b[0mtime_to_int\u001b[0m\u001b[0;34m(\u001b[0m\u001b[0mt2\u001b[0m\u001b[0;34m)\u001b[0m \u001b[0;34m-\u001b[0m \u001b[0mtime_to_int\u001b[0m\u001b[0;34m(\u001b[0m\u001b[0mt1\u001b[0m\u001b[0;34m)\u001b[0m\u001b[0;34m\u001b[0m\u001b[0m\n\u001b[0m\u001b[1;32m     17\u001b[0m         \u001b[0;32mreturn\u001b[0m \u001b[0mint_to_time\u001b[0m\u001b[0;34m(\u001b[0m\u001b[0mseconds\u001b[0m\u001b[0;34m)\u001b[0m\u001b[0;34m\u001b[0m\u001b[0m\n\u001b[1;32m     18\u001b[0m     \u001b[0;32mdef\u001b[0m \u001b[0mint_to_time\u001b[0m\u001b[0;34m(\u001b[0m\u001b[0mseconds\u001b[0m\u001b[0;34m)\u001b[0m\u001b[0;34m:\u001b[0m\u001b[0;34m\u001b[0m\u001b[0m\n",
      "\u001b[0;31mNameError\u001b[0m: global name 'time_to_int' is not defined"
     ]
    }
   ],
   "source": [
    "class Time (object):\n",
    "    \"\"\"Represents the time of day.\n",
    "       \n",
    "    attributes: hour, minute, second\n",
    "    \"\"\"\n",
    "    def __init__(self, hour=0, minute=0, second=0):\n",
    "        self.hour = hour\n",
    "        self.minute = minute\n",
    "        self.second = second\n",
    "    def __str__(self):\n",
    "        return  '%.2d:%.2d:%.2d' % (self.hour, self.minute, self.second)\n",
    "    def add_time(t1, t2):\n",
    "        seconds = time_to_int(t1) + time_to_int(t2)\n",
    "        return int_to_time(seconds)\n",
    "    def subtract_time(t1,t2):\n",
    "        seconds = seconds = time_to_int(t2) - time_to_int(t1)\n",
    "        return int_to_time(seconds)\n",
    "    def int_to_time(seconds):\n",
    "        time = Time()\n",
    "        minutes, time.second = divmod(seconds, 60)\n",
    "        time.hour, time.minute = divmod(minutes, 60)\n",
    "        return time\n",
    "    def time_to_int(time):\n",
    "        minutes = time.hour * 60 + time.minute\n",
    "        seconds = minutes * 60 + time.second\n",
    "        return seconds\n",
    "\n",
    "class Event(object):\n",
    "    \"\"\"Represents an event\n",
    "    attributes: name, start time, end time, location, attendees\n",
    "    \"\"\"\n",
    "    def __init__(self, name='Undefined Name', start=Time(0,0,0),\n",
    "                 end=Time(0,0,0), location='Undefined Location', attendees=[]):\n",
    "        self.name = name\n",
    "        self.start = start\n",
    "        self.end = end\n",
    "        self.location  = location\n",
    "        self.attendees = attendees\n",
    "    def __str__(self):\n",
    "        name = self.name\n",
    "        start = self.start\n",
    "        end = self.end\n",
    "        location = self.location\n",
    "        attendees = ', '.join(self.attendees)\n",
    "        sentence1 = name + \" will take place at \" + location \n",
    "        sentence2 = \" from \" + str(start) + \" to \" + str(end)\n",
    "        sentence3 = \"Attendees include: \" + attendees\n",
    "        return sentence1 + sentence2 + \"\\n\" + sentence3\n",
    "    def duration(self):\n",
    "        start = self.start\n",
    "        end = self.end\n",
    "#         print type(start), type(end)\n",
    "        return start.subtract_time(end)\n",
    "    def startint(self):\n",
    "        return self.start.time_to_int()\n",
    "\n",
    "\n",
    "otherevent = Event(\"puppy watching\", \"the lake\", Time(15,22), Time(17,40))\n",
    "\n",
    "myevent = Event()\n",
    "print myevent\n",
    "myevent.name = \"puppy watching\"\n",
    "myevent.location = \"the lake\"\n",
    "myevent.start = Time(15,22)\n",
    "myevent.end = Time(17,40)\n",
    "myevent.attendees = [\"duck\", \"fish\"]\n",
    "\n",
    "print myevent\n",
    "print  myevent.duration()\n",
    "print myevent.start.time_to_int()\n",
    "print myevent.startint()"
   ]
  },
  {
   "cell_type": "code",
   "execution_count": 14,
   "metadata": {
    "collapsed": false,
    "solution": "Exercise 1"
   },
   "outputs": [
    {
     "name": "stdout",
     "output_type": "stream",
     "text": [
      "02:01:04\n"
     ]
    }
   ],
   "source": [
    "#Taking Allan's nice time object as a base, not reimplementing. Expanding functionality.\n",
    "class Time(object):\n",
    "    \"\"\"Represents the time of day.\n",
    "       \n",
    "    attributes: hour, minute, second\n",
    "    \"\"\"\n",
    "    def __init__(self, hour=0, minute=0, second=0):\n",
    "        self.hour = hour\n",
    "        self.minute = minute\n",
    "        self.second = second\n",
    "\n",
    "    def __str__(self):\n",
    "        return '%.2d:%.2d:%.2d' % (self.hour, self.minute, self.second)\n",
    "\n",
    "    def print_time(self):\n",
    "        print str(self)\n",
    "\n",
    "    def time_to_int(self):\n",
    "        \"\"\"Computes the number of seconds since midnight.\"\"\"\n",
    "        minutes = self.hour * 60 + self.minute\n",
    "        seconds = minutes * 60 + self.second\n",
    "        return seconds\n",
    "\n",
    "    def is_after(self, other):\n",
    "        \"\"\"Returns True if t1 is after t2; false otherwise.\"\"\"\n",
    "        return self.time_to_int() > other.time_to_int()\n",
    "\n",
    "    def __add__(self, other):\n",
    "        \"\"\"Adds two Time objects or a Time object and a number.\n",
    "\n",
    "        other: Time object or number of seconds\n",
    "        \"\"\"\n",
    "        if isinstance(other, Time):\n",
    "            return self.add_time(other)\n",
    "        else:\n",
    "            return self.increment(other)\n",
    "\n",
    "    def __radd__(self, other):\n",
    "        \"\"\"Adds two Time objects or a Time object and a number.\"\"\"\n",
    "        return self.__add__(other)\n",
    "\n",
    "    def add_time(self, other):\n",
    "        \"\"\"Adds two time objects.\"\"\"\n",
    "        assert self.is_valid() and other.is_valid()\n",
    "        seconds = self.time_to_int() + other.time_to_int()\n",
    "        return int_to_time(seconds)\n",
    "\n",
    "    def increment(self, seconds):\n",
    "        \"\"\"Returns a new Time that is the sum of this time and seconds.\"\"\"\n",
    "        seconds += self.time_to_int()\n",
    "        return int_to_time(seconds)\n",
    "\n",
    "    def is_valid(self):\n",
    "        \"\"\"Checks whether a Time object satisfies the invariants.\"\"\"\n",
    "        if self.hour < 0 or self.minute < 0 or self.second < 0:\n",
    "            return False\n",
    "        if self.minute >= 60 or self.second >= 60:\n",
    "            return False\n",
    "        return True\n",
    "    def __sub__(self, other):\n",
    "        if isinstance(other, Time):\n",
    "            return self.sub_time(other)\n",
    "        else:\n",
    "            return self.decrement(other)\n",
    "        \n",
    "    def __rsub__(self, other):\n",
    "        \"\"\"subtracts two Time objects or a Time object and a number.\"\"\"\n",
    "        return self.__sub__(other)\n",
    "    \n",
    "    def decrement(self, seconds):\n",
    "        \"\"\"Returns a new Time that is the difference of this time and seconds.\"\"\"\n",
    "        seconds -= self.time_to_int()\n",
    "        return int_to_time(seconds) \n",
    "    \n",
    "    def sub_time(self, other):\n",
    "        \"\"\"subtracts two time objects.\"\"\"\n",
    "        assert self.is_valid() and other.is_valid()\n",
    "        seconds = abs(self.time_to_int() - other.time_to_int())\n",
    "        return int_to_time(seconds)    \n",
    "    \n",
    "def int_to_time(seconds):\n",
    "    \"\"\"Makes a new Time object.\n",
    "\n",
    "    seconds: int seconds since midnight.\n",
    "    \"\"\"\n",
    "    minutes, second = divmod(seconds, 60)\n",
    "    hour, minute = divmod(minutes, 60)\n",
    "    time = Time(hour, minute, second)\n",
    "    return time\n",
    "\n",
    "    \n",
    "class Event(object):\n",
    "    \"\"\"an event with attributes name, start and end\"\"\"\n",
    "    def __init__(self, name = \"Unspecified\", start = None, end = None):\n",
    "        \"\"\"Default event is unspecified starting at midight with a duration of half an hour\"\"\"\n",
    "        self.name = name\n",
    "        if start == None:\n",
    "            start = Time()\n",
    "        self.start = start\n",
    "        if end == None:\n",
    "            end = start + 1800\n",
    "        self.end = end\n",
    "    \n",
    "    def __str__(self):\n",
    "        return '{}:{} to {}' .format(self.name, self.start, self.end)\n",
    "    \n",
    "    def duration(self):\n",
    "        return self.end - self.start\n",
    "        \n",
    "    \n",
    "a = Event()\n",
    "b = Event('Reading Journal', Time(4,8,15), Time(6,9,19))\n",
    "print b.duration()"
   ]
  },
  {
   "cell_type": "code",
   "execution_count": 10,
   "metadata": {
    "collapsed": false,
    "solution": "Exercise 1"
   },
   "outputs": [
    {
     "name": "stdout",
     "output_type": "stream",
     "text": [
      "Meeting: From 09:45:00 to 10:30:00\n"
     ]
    }
   ],
   "source": [
    "class Time (object):\n",
    "    def __init__(self, hour=0, minute=0, second=0):\n",
    "        self.hour = hour\n",
    "        self.minute = minute\n",
    "        self.second = second\n",
    "    def __str__(self):\n",
    "        return '%.2d:%.2d:%.2d' % (self.hour, self.minute, self.second)\n",
    "\n",
    "class Event (object):\n",
    "    \"\"\"Represents an event with name, start, and stop time.\"\"\"\n",
    "    def __init__(self, name = 'Title', start = 0, end = 0):\n",
    "        self.name = name\n",
    "        self.start = start\n",
    "        self.end = end\n",
    "    def __str__(self):\n",
    "        return '%s: From %s to %s' %(self.name, self.start, self.end)\n",
    "event = Event('Meeting', Time(9,45), Time(10,30))\n",
    "print event\n",
    "    "
   ]
  },
  {
   "cell_type": "code",
   "execution_count": 3,
   "metadata": {
    "collapsed": false,
    "solution": "Exercise 1"
   },
   "outputs": [
    {
     "name": "stdout",
     "output_type": "stream",
     "text": [
      "SoftDes begins at 01:30:00 and ends at 05:00:00\n"
     ]
    }
   ],
   "source": [
    "class Time(object):\n",
    "    \"\"\"\n",
    "    Represents the time of day.   \n",
    "    Attributes: hour, minute, second\n",
    "    \"\"\"\n",
    "    \n",
    "    def __init__(self, hour=5, minute=0, second=0):\n",
    "        self.hour = hour\n",
    "        self.minute = minute\n",
    "        self.second = second\n",
    "\n",
    "    def __str__(self): \n",
    "        return \"{:02}:{:02}:{:02}\".format(self.hour,self.minute, self.second)\n",
    "\n",
    "\n",
    "class Event(object):\n",
    "    def __init__(self, name = None, start = Time(0,0,0), end = Time(23,59,59)):\n",
    "        self.name = name\n",
    "        self.start = start\n",
    "        self.end = end\n",
    "    def __str__(self):\n",
    "        return \"{} begins at {} and ends at {}\".format(self.name, self.start, self.end)\n",
    "\n",
    "\n",
    "t1 = Time(1,30,0)\n",
    "t2 = Time(5,0,0)\n",
    "hw = Event('SoftDes', t1, t2)\n",
    "                 \n",
    "print hw"
   ]
  },
  {
   "cell_type": "code",
   "execution_count": 8,
   "metadata": {
    "collapsed": false,
    "solution": "Exercise 1"
   },
   "outputs": [
    {
     "name": "stdout",
     "output_type": "stream",
     "text": [
      "Time is 12:10:1)\n"
     ]
    }
   ],
   "source": [
    "class Event(object):\n",
    "    def __init__ (self, name, start, end):\n",
    "        self.name = str(name)\n",
    "        self.start = start\n",
    "        self.end = end\n",
    "    def __str__ (self):\n",
    "        return 'An event called {} is scheduled to begin at {} and end at {} )'.format(self.name, self.start, self.end)\n",
    "class Time(object):\n",
    "    def __init__ (self, hour, minute, second):\n",
    "        self.hour = hour\n",
    "        self.minute = minute\n",
    "        self.second = second\n",
    "    def __str__(self):\n",
    "        return 'Time is {}:{}:{}'.format(self.hour, self.minute, self.second)\n",
    "#time1 = Time(12,10,1)\n"
   ]
  },
  {
   "cell_type": "code",
   "execution_count": 2,
   "metadata": {
    "collapsed": false,
    "solution": "Exercise 1"
   },
   "outputs": [
    {
     "name": "stdout",
     "output_type": "stream",
     "text": [
      "Birthday starts at 00:00:00 and ends at 01:00:00\n"
     ]
    }
   ],
   "source": [
    "class Time(object):\n",
    "    def __init__(self, hour=0, minute=0, second=0):\n",
    "        self.hour = hour\n",
    "        self.minute = minute\n",
    "        self.second = second\n",
    "    def __str__(self):\n",
    "        return '%.2d:%.2d:%.2d' % (self.hour, self.minute, self.second)\n",
    "    \n",
    "class Event(object):\n",
    "    def __init__(self, name = '', start = Time(0, 0, 0), end = Time(0, 0, 0)):\n",
    "        self.name = name\n",
    "        self.start = start\n",
    "        self.end = end\n",
    "    def __str__(self):\n",
    "        return '{} starts at {} and ends at {}'.format(self.name, self.start, self.end)\n",
    "    \n",
    "t1 = Time(0, 0, 0)\n",
    "t2 = Time(1, 0, 0)\n",
    "e = Event('Birthday', t1, t2)\n",
    "print e"
   ]
  },
  {
   "cell_type": "code",
   "execution_count": 7,
   "metadata": {
    "collapsed": false,
    "solution": "Exercise 1"
   },
   "outputs": [
    {
     "name": "stdout",
     "output_type": "stream",
     "text": [
      "softdes starts at 02:00:00 and ends at 03:30:00\n"
     ]
    }
   ],
   "source": [
    "class Time(object):\n",
    "    def __init__(self, hour=0, minute=0, second=0):\n",
    "        self.hour = hour\n",
    "        self.minute = minute\n",
    "        self.second = second\n",
    "    def __str__(self):\n",
    "        return '%.2d:%.2d:%.2d' % (self.hour, self.minute, self.second)\n",
    "    \n",
    "class Event(object):\n",
    "    def __init__(self, name, start, end):\n",
    "        self.name = name\n",
    "        self.start = start\n",
    "        self.end = end\n",
    "    def __str__(self):\n",
    "        return self.name + ' starts at ' + self.start.__str__() + ' and ends at ' + self.end.__str__()\n",
    "    \n",
    "start_time = Time(2,0,0)\n",
    "end_time = Time(3,30,0)\n",
    "\n",
    "softdes = Event('softdes',start_time,end_time)\n",
    "\n",
    "print softdes"
   ]
  },
  {
   "cell_type": "code",
   "execution_count": 6,
   "metadata": {
    "collapsed": false,
    "solution": "Exercise 1"
   },
   "outputs": [
    {
     "name": "stdout",
     "output_type": "stream",
     "text": [
      "{'start': <__main__.Time object at 0x7f6e7f7afd50>, 'end': <__main__.Time object at 0x7f6e7f7afdd0>, 'name': 'Birthday Party'}\n"
     ]
    }
   ],
   "source": [
    "class Event:\n",
    "    '''This is a event for a calender'''\n",
    "    def __init__(self,name,start,end):\n",
    "        self.name=name\n",
    "        self.start=start\n",
    "        self.end=end\n",
    "    \n",
    "    \n",
    "p=Event('Birthday Party',Time(9,2,3),Time(5,3,4))\n",
    "print vars(p)"
   ]
  },
  {
   "cell_type": "code",
   "execution_count": 26,
   "metadata": {
    "collapsed": false,
    "solution": "Exercise 1"
   },
   "outputs": [
    {
     "name": "stdout",
     "output_type": "stream",
     "text": [
      "00:06:40\n",
      "Event Name: REVO\n",
      "     Start: 04:30:00\n",
      "       End: 06:00:00\n"
     ]
    }
   ],
   "source": [
    "class Event(object):\n",
    "    \"\"\"\n",
    "    This will create an event with start and end time attributes\n",
    "    \"\"\"\n",
    "    def __init__(self, name=None, start=None, end=None):\n",
    "        if name == None:\n",
    "            name = ''\n",
    "        self.name = name\n",
    "        if start == None:\n",
    "            start = Time()\n",
    "        self.start = start\n",
    "        if end == None:\n",
    "            end = Time()\n",
    "        self.end = end\n",
    "    def __str__(self):\n",
    "        return \"Event Name: \" + self.name + \"\\n     Start: \" + str(self.start)+ \"\\n       End: \" + str(self.end)\n",
    "\n",
    "class Time(object):\n",
    "    \"\"\"Represents the time of day.\n",
    "    \n",
    "    attributes: hour, minute, second\n",
    "    \"\"\"\n",
    "    def __init__(self, hour=0, minute=0, second=0):\n",
    "        self.hour = hour\n",
    "        self.minute = minute\n",
    "        self.second = second\n",
    "    def time_to_int(time):\n",
    "        minutes = time.hour * 60 + time.minute\n",
    "        seconds = minutes * 60 + time.second\n",
    "        return seconds\n",
    "    def int_to_time(self, seconds):\n",
    "        time = Time()\n",
    "        minutes, time.second = divmod(seconds, 60)\n",
    "        time.hour, time.minute = divmod(minutes, 60)\n",
    "        return time\n",
    "    def is_after(t1, t2):\n",
    "        seconds1 = time_to_int(t1)\n",
    "        seconds2 = time_to_int(t2)\n",
    "        return seconds1 >= seconds2\n",
    "    def __str__(self):\n",
    "        return '%.2d:%.2d:%.2d' % (self.hour, self.minute, self.second)\n",
    "time1 = Time(4,30,0)\n",
    "time2 = Time(6,0,0)\n",
    "\n",
    "myevent = Event(\"REVO\", time1, time2)\n",
    "print myevent"
   ]
  },
  {
   "cell_type": "code",
   "execution_count": null,
   "metadata": {
    "collapsed": true,
    "solution": "Exercise 1"
   },
   "outputs": [],
   "source": [
    "class Time(object):\n",
    "    def __init__(self,hours=0,minutes=0,seconds=0):\n",
    "        self.hours = hours\n",
    "        self.minutes = minutes\n",
    "        self.seconds = seconds\n",
    "    def __str__(self):\n",
    "        return \"{:02}:{:02}:{:02}\".format(self.hours, self.minutes, self.seconds)\n",
    "    def lateness(self):\n",
    "        return self.hours * 3600 + self.minutes * 60 + self.seconds\n",
    "    \n",
    "class Event(object):\n",
    "    def __init__(self,start = Time(),end = Time()):\n",
    "        if start.lateness() <= end.lateness():\n",
    "            self.start = start\n",
    "            self.end = end\n",
    "        else:\n",
    "            self.start = end\n",
    "            self.end = start\n",
    "    def __str__(self):\n",
    "        return \"Event from {} to {}\".format(self.start,self.end)\n",
    "    def duration(self):\n",
    "        return (self.end.lateness()-self.start.lateness())/60.0\n",
    "    def clash(self,other):\n",
    "        return other.start.lateness()<self.start.lateness()<other.end.lateness() or self.start.lateness()<other.start.lateness()<self.end.lateness()"
   ]
  },
  {
   "cell_type": "code",
   "execution_count": 1,
   "metadata": {
    "collapsed": false,
    "solution": "Exercise 1"
   },
   "outputs": [
    {
     "name": "stdout",
     "output_type": "stream",
     "text": [
      "Title:Meeting A,Start:09:30,End:10:50\n"
     ]
    }
   ],
   "source": [
    "class Time(object):\n",
    "    def __init__(self, hour, minute):\n",
    "        self.hour = hour\n",
    "        self.minute = minute\n",
    "    def __str__(self):\n",
    "        return '{:02}:{:02}'.format(self.hour, self.minute)\n",
    "\n",
    "class Event(object):\n",
    "    def __init__(self, name, start, end):\n",
    "        self.name = name\n",
    "        self.start = start\n",
    "        self.end = end\n",
    "    def __str__(self):\n",
    "        return 'Title:{},Start:{},End:{}'.format(self.name,self.start,self.end)\n",
    "start = Time(9, 30)\n",
    "end = Time (10, 50)\n",
    "a = Event('Meeting A', start, end)\n",
    "print a\n"
   ]
  },
  {
   "cell_type": "code",
   "execution_count": 2,
   "metadata": {
    "collapsed": true
   },
   "outputs": [],
   "source": [
    "class Time(object):\n",
    "    \"\"\"\n",
    "    Represents the time of day.\n",
    "    \n",
    "    attributes: hour, minute, second\n",
    "    \"\"\"\n",
    "    \n",
    "    def __init__(self, hour=0, minute=0, second=0):\n",
    "        self.hour = hour\n",
    "        self.minute = minute\n",
    "        self.second = second\n",
    "\n",
    "    def __str__(self):\n",
    "        return '%.2d:%.2d:%.2d' % (self.hour, self.minute, self.second)\n",
    "\n",
    "def time_to_int(time):\n",
    "    \"\"\"\n",
    "    Converts a time to an int representing number of seconds\n",
    "    \"\"\"\n",
    "    minutes = time.hour * 60 + time.minute\n",
    "    seconds = minutes * 60 + time.second\n",
    "    return seconds\n",
    "\n",
    "def int_to_time(seconds):\n",
    "    \"\"\"\n",
    "    Converts an int representing number of seconds to a time\n",
    "    \"\"\"\n",
    "    time = Time()\n",
    "    minutes, time.second = divmod(seconds, 60)\n",
    "    time.hour, time.minute = divmod(minutes, 60)\n",
    "    return time"
   ]
  },
  {
   "cell_type": "code",
   "execution_count": 2,
   "metadata": {
    "collapsed": true,
    "solution": "Exercise 1"
   },
   "outputs": [],
   "source": [
    "class Event(object):\n",
    "    \"\"\"Represents an even that taken place in time.\n",
    "    \n",
    "    attributes: name, start, end\n",
    "    \"\"\"\n",
    "    \n",
    "    def __init__(self, name, start, end, location=None, atendees=None):\n",
    "        self.name = name\n",
    "        self.start = start\n",
    "        self.end = end\n",
    "        self.location = location\n",
    "        self.atendees = atendees\n",
    "        \n",
    "    def __str__(self):\n",
    "        return \"The event {} begins at {} and ends at {}.\".format(self.name, self.start, self.end)"
   ]
  },
  {
   "cell_type": "code",
   "execution_count": 33,
   "metadata": {
    "collapsed": false,
    "solution": "Exercise 1"
   },
   "outputs": [
    {
     "name": "stdout",
     "output_type": "stream",
     "text": [
      "Party starts at: 12:30:00 and ends at 03:00:00\n"
     ]
    }
   ],
   "source": [
    "class Time(object):\n",
    "    def __init__(self, hour=0, minute=0, second=0):\n",
    "        self.hour = hour\n",
    "        self.minute = minute\n",
    "        self.second = second\n",
    "    def __str__(self):\n",
    "        return '%.2d:%.2d:%.2d' % (self.hour, self.minute, self.second)\n",
    "\n",
    "class Event(object):\n",
    "    def __init__(self, name, start, end):\n",
    "        self.name = name\n",
    "        self.start = start\n",
    "        self.end = end\n",
    "    def __str__(self):\n",
    "        return self.name + ' starts at: ' + str(self.start) + ' and ends at ' + str(self.end)\n",
    "\n",
    "e1_start = Time(12, 30)\n",
    "e1_end = Time(3)\n",
    "e1 = Event('Party', e1_start, e1_end)\n",
    "print(e1)"
   ]
  },
  {
   "cell_type": "code",
   "execution_count": 7,
   "metadata": {
    "collapsed": false,
    "solution": "Exercise 1"
   },
   "outputs": [
    {
     "name": "stdout",
     "output_type": "stream",
     "text": [
      "Cocktail Party from 02:30:00 to 12:30:00\n"
     ]
    }
   ],
   "source": [
    "class Time(object):\n",
    "    \"\"\"Represents the time of day.\n",
    "       \n",
    "    attributes: hour, minute, second\n",
    "    \"\"\"\n",
    "    def __init__(self, hour=0, minute=0, second=0):\n",
    "        self.hour = hour\n",
    "        self.minute = minute\n",
    "        self.second = second\n",
    "\n",
    "    def __str__(self):\n",
    "        return '%.2d:%.2d:%.2d' % (self.hour, self.minute, self.second)\n",
    "\n",
    "    def print_time(self):\n",
    "        print str(self)\n",
    "\n",
    "    def time_to_int(self):\n",
    "        \"\"\"Computes the number of seconds since midnight.\"\"\"\n",
    "        minutes = self.hour * 60 + self.minute\n",
    "        seconds = minutes * 60 + self.second\n",
    "        return seconds\n",
    "\n",
    "    def is_after(self, other):\n",
    "        \"\"\"Returns True if t1 is after t2; false otherwise.\"\"\"\n",
    "        return self.time_to_int() > other.time_to_int()\n",
    "\n",
    "    def __add__(self, other):\n",
    "        \"\"\"Adds two Time objects or a Time object and a number.\n",
    "\n",
    "        other: Time object or number of seconds\n",
    "        \"\"\"\n",
    "        if isinstance(other, Time):\n",
    "            return self.add_time(other)\n",
    "        else:\n",
    "            return self.increment(other)\n",
    "\n",
    "    def __radd__(self, other):\n",
    "        \"\"\"Adds two Time objects or a Time object and a number.\"\"\"\n",
    "        return self.__add__(other)\n",
    "\n",
    "    def add_time(self, other):\n",
    "        \"\"\"Adds two time objects.\"\"\"\n",
    "        assert self.is_valid() and other.is_valid()\n",
    "        seconds = self.time_to_int() + other.time_to_int()\n",
    "        return int_to_time(seconds)\n",
    "\n",
    "    def increment(self, seconds):\n",
    "        \"\"\"Returns a new Time that is the sum of this time and seconds.\"\"\"\n",
    "        seconds += self.time_to_int()\n",
    "        return int_to_time(seconds)\n",
    "\n",
    "    def is_valid(self):\n",
    "        \"\"\"Checks whether a Time object satisfies the invariants.\"\"\"\n",
    "        if self.hour < 0 or self.minute < 0 or self.second < 0:\n",
    "            return False\n",
    "        if self.minute >= 60 or self.second >= 60:\n",
    "            return False\n",
    "        return True\n",
    "    \n",
    "class Event(object):\n",
    "    def __init__(self, name, start, end):\n",
    "        self.name, self.start, self.end = name, start, end\n",
    "    def __str__(self):\n",
    "        return self.name.title() + ' from ' + self.start.__str__() + ' to ' + self.end.__str__()\n",
    "    \n",
    "def int_to_time(seconds):\n",
    "    \"\"\"Makes a new Time object.\n",
    "\n",
    "    seconds: int seconds since midnight.\n",
    "    \"\"\"\n",
    "    minutes, second = divmod(seconds, 60)\n",
    "    hour, minute = divmod(minutes, 60)\n",
    "    time = Time(hour, minute, second)\n",
    "    return time\n",
    "\n",
    "new_event = Event('cocktail party', Time(2, 30), Time(12, 30))\n",
    "print new_event"
   ]
  },
  {
   "cell_type": "code",
   "execution_count": 24,
   "metadata": {
    "collapsed": false,
    "solution": "Exercise 1"
   },
   "outputs": [
    {
     "name": "stdout",
     "output_type": "stream",
     "text": [
      "05:07:59,05:07:59\n"
     ]
    }
   ],
   "source": [
    "#create time class\n",
    "class Time:\n",
    "    def __init__(t, hour = 0, minute = 0, second = 0):\n",
    "        t.hour = hour\n",
    "        t.minute = minute\n",
    "        t.second = second\n",
    "    def __str__(t):\n",
    "        return \"{:02}:{:02}:{:02}\".format(t.hour, t.minute, t.second)\n",
    "\n",
    "#create event class, which includes two time objects as inputs\n",
    "class Event:\n",
    "    def __init__(name, start = Time(0, 0, 0), end = None):\n",
    "        if not end:\n",
    "            end = start\n",
    "        name.start = start\n",
    "        name.end = end\n",
    "    def __str__(name):\n",
    "        return str(name.start) + ',' + str(name.end)\n",
    "\n",
    "event = Event(Time(5,7,59))\n",
    "print event\n",
    "    \n",
    "    "
   ]
  },
  {
   "cell_type": "code",
   "execution_count": 6,
   "metadata": {
    "collapsed": false,
    "solution": "Exercise 1"
   },
   "outputs": [
    {
     "name": "stdout",
     "output_type": "stream",
     "text": [
      "00:00:00\n",
      "Dinner, 00:00:00 to 00:00:00\n",
      "Lunch, 11:45:00 to 12:00:00\n"
     ]
    }
   ],
   "source": [
    "class Time(object):\n",
    "    def __init__(self, hour = 0, minute = 0, second = 0):\n",
    "        self.hour = hour\n",
    "        self.minute = minute\n",
    "        self.second = second\n",
    "    def __str__(self):\n",
    "        return '{:02}:{:02}:{:02}'.format(self.hour, self.minute, self.second)\n",
    "\n",
    "class Event(object):\n",
    "    def __init__(self, name, start = Time(), end = Time()):\n",
    "        self.name = name\n",
    "        self.start = start\n",
    "        self.end = end\n",
    "\n",
    "    def __str__(self):\n",
    "        return '{}, {} to {}'.format(self.name, self.start, self.end)\n",
    "\n",
    "\n",
    "e1 = Event('Dinner')\n",
    "print e1\n",
    "\n",
    "e2 = Event('Lunch', Time(11,45), Time(12))\n",
    "print e2           "
   ]
  },
  {
   "cell_type": "markdown",
   "metadata": {
    "is_question": true,
    "problem": "Exercise 2"
   },
   "source": [
    "### Exercise\n",
    "\n",
    "Write a `duration` method that returns the duration of the `Event` in minutes."
   ]
  },
  {
   "cell_type": "code",
   "execution_count": 9,
   "metadata": {
    "collapsed": false,
    "solution": "Exercise 1"
   },
   "outputs": [
    {
     "name": "stdout",
     "output_type": "stream",
     "text": [
      "Team Meeting: 02:34:58 - 04:35:26, Attendees: P&M Team, Location: Studio 318\n"
     ]
    }
   ],
   "source": [
    "class Time(object):\n",
    "    \"\"\"military time of day \n",
    "    attributes: hour, minute, second\n",
    "    \"\"\"\n",
    "    def __init__(self, hour=0, minute=0, second=0):\n",
    "        self.hour = hour\n",
    "        self.minute = minute\n",
    "        self.second = second\n",
    "    def __str__(self):\n",
    "        return '%.2d:%.2d:%.2d' % (self.hour, self.minute, self.second)\n",
    "        \n",
    "class Event(object):\n",
    "    \"\"\"event in single day calendar:\n",
    "    attributes: name, start, end\n",
    "    \"\"\"\n",
    "    def __init__(self, name = '', start = Time(), end = Time(), attendees = '', location = ''):\n",
    "        self.name = name\n",
    "        self.start = start\n",
    "        self.end = end\n",
    "        self.attendees = attendees\n",
    "        self.location = location\n",
    "    def __str__(self):\n",
    "        return '%s: %s - %s, Attendees: %s, Location: %s' % (self.name, self.start, self.end, self.attendees, self.location)\n",
    "    \n",
    "start = Time(2, 34, 58)\n",
    "end = Time(4, 35, 26)\n",
    "Event1 = Event('Team Meeting', start, end, 'P&M Team', 'Studio 318')\n",
    "print Event1\n"
   ]
  },
  {
   "cell_type": "code",
   "execution_count": 19,
   "metadata": {
    "collapsed": false,
    "solution": "Exercise 1"
   },
   "outputs": [
    {
     "name": "stdout",
     "output_type": "stream",
     "text": [
      "party begins at 03:45 and ends at 06:00\n"
     ]
    }
   ],
   "source": [
    "class Time(object):\n",
    "    def __init__(self, hour=0,minute=0,second=0):\n",
    "        self.hour=hour\n",
    "        self.minute=minute\n",
    "        self.second=second\n",
    "    def __str__(self):\n",
    "        if self.second == 0:\n",
    "            s = (\"%.2d:%.2d\") % (self.hour,self.minute)\n",
    "        else:\n",
    "            s = (\"%.2d:%.2d:%.2d\") % (self.hour,self.minute,self.second)\n",
    "        return s\n",
    "\n",
    "class Event(object):\n",
    "    def __init__(self,name,start,end):\n",
    "        self.name = name\n",
    "        self.start = start\n",
    "        self.end = end\n",
    "    def __str__(self):\n",
    "        s= (\"%s begins at %s and ends at %s\") % (self.name, self.start, self.end)\n",
    "        return s\n",
    "\n",
    "starttime= Time(3,45,0)\n",
    "endtime = Time(6)\n",
    "\n",
    "event = Event(\"party\", starttime,endtime)\n",
    "print event"
   ]
  },
  {
   "cell_type": "code",
   "execution_count": 2,
   "metadata": {
    "collapsed": true
   },
   "outputs": [],
   "source": [
    "# i'm copying allen's Time class definition here\n",
    "class Time(object):\n",
    "    \"\"\"Represents the time of day.\n",
    "       \n",
    "    attributes: hour, minute, second\n",
    "    \"\"\"\n",
    "    def __init__(self, hour=0, minute=0, second=0):\n",
    "        minutes = hour * 60 + minute\n",
    "        self.seconds = minutes * 60 + second\n",
    "\n",
    "    def __str__(self):\n",
    "        minutes, second = divmod(self.seconds, 60)\n",
    "        hour, minute = divmod(minutes, 60)\n",
    "        return '%.2d:%.2d:%.2d' % (hour, minute, second)\n",
    "\n",
    "    def print_time(self):\n",
    "        print str(self)\n",
    "\n",
    "    def time_to_int(self):\n",
    "        \"\"\"Computes the number of seconds since midnight.\"\"\"\n",
    "        return self.seconds\n",
    "\n",
    "    def is_after(self, other):\n",
    "        \"\"\"Returns True if t1 is after t2; false otherwise.\"\"\"\n",
    "        return self.seconds > other.seconds\n",
    "\n",
    "    def __add__(self, other):\n",
    "        \"\"\"Adds two Time objects or a Time object and a number.\n",
    "\n",
    "        other: Time object or number of seconds\n",
    "        \"\"\"\n",
    "        if isinstance(other, Time):\n",
    "            return self.add_time(other)\n",
    "        else:\n",
    "            return self.increment(other)\n",
    "\n",
    "    def __radd__(self, other):\n",
    "        \"\"\"Adds two Time objects or a Time object and a number.\"\"\"\n",
    "        return self.__add__(other)\n",
    "\n",
    "    def add_time(self, other):\n",
    "        \"\"\"Adds two time objects.\"\"\"\n",
    "        assert self.is_valid() and other.is_valid()\n",
    "        seconds = self.seconds + other.seconds\n",
    "        return int_to_time(seconds)\n",
    "\n",
    "    def increment(self, seconds):\n",
    "        \"\"\"Returns a new Time that is the sum of this time and seconds.\"\"\"\n",
    "        seconds += self.seconds\n",
    "        return int_to_time(seconds)\n",
    "\n",
    "    def is_valid(self):\n",
    "        \"\"\"Checks whether a Time object satisfies the invariants.\"\"\"\n",
    "        return self.seconds >= 0 and self.seconds < 24*60*60\n",
    "\n",
    "\n",
    "def int_to_time(seconds):\n",
    "    \"\"\"Makes a new Time object.\n",
    "\n",
    "    seconds: int seconds since midnight.\n",
    "    \"\"\"\n",
    "    return Time(0, 0, seconds)"
   ]
  },
  {
   "cell_type": "code",
   "execution_count": 2,
   "metadata": {
    "collapsed": true
   },
   "outputs": [],
   "source": [
    "#Taken from Chapter 17 to create a Time class\n",
    "class Time(object):\n",
    "    \"\"\"Represents the time of day.\n",
    "       \n",
    "    attributes: hour, minute, second\n",
    "    \"\"\"\n",
    "    def __init__(self, hour=0, minute=0, second=0):\n",
    "        self.hour = hour\n",
    "        self.minute = minute\n",
    "        self.second = second\n",
    "\n",
    "    def __str__(self):\n",
    "        return '%.2d:%.2d:%.2d' % (self.hour, self.minute, self.second)\n",
    "\n",
    "    def print_time(self):\n",
    "        print str(self)\n",
    "\n",
    "    def time_to_int(self):\n",
    "        \"\"\"Computes the number of seconds since midnight.\"\"\"\n",
    "        minutes = self.hour * 60 + self.minute\n",
    "        seconds = minutes * 60 + self.second\n",
    "        return seconds\n",
    "\n",
    "    def is_after(self, other):\n",
    "        \"\"\"Returns True if t1 is after t2; false otherwise.\"\"\"\n",
    "        return self.time_to_int() > other.time_to_int()\n",
    "\n",
    "    def __add__(self, other):\n",
    "        \"\"\"Adds two Time objects or a Time object and a number.\n",
    "\n",
    "        other: Time object or number of seconds\n",
    "        \"\"\"\n",
    "        if isinstance(other, Time):\n",
    "            return self.add_time(other)\n",
    "        else:\n",
    "            return self.increment(other)\n",
    "\n",
    "    def __radd__(self, other):\n",
    "        \"\"\"Adds two Time objects or a Time object and a number.\"\"\"\n",
    "        return self.__add__(other)\n",
    "\n",
    "    def add_time(self, other):\n",
    "        \"\"\"Adds two time objects.\"\"\"\n",
    "        assert self.is_valid() and other.is_valid()\n",
    "        seconds = self.time_to_int() + other.time_to_int()\n",
    "        return int_to_time(seconds)\n",
    "\n",
    "    def increment(self, seconds):\n",
    "        \"\"\"Returns a new Time that is the sum of this time and seconds.\"\"\"\n",
    "        seconds += self.time_to_int()\n",
    "        return int_to_time(seconds)\n",
    "\n",
    "    def is_valid(self):\n",
    "        \"\"\"Checks whether a Time object satisfies the invariants.\"\"\"\n",
    "        if self.hour < 0 or self.minute < 0 or self.second < 0:\n",
    "            return False\n",
    "        if self.minute >= 60 or self.second >= 60:\n",
    "            return False\n",
    "        return True\n",
    "    \n",
    "def int_to_time(seconds):\n",
    "    \"\"\"Makes a new Time object.\n",
    "\n",
    "    seconds: int seconds since midnight.\n",
    "    \"\"\"\n",
    "    minutes, second = divmod(seconds, 60)\n",
    "    hour, minute = divmod(minutes, 60)\n",
    "    time = Time(hour, minute, second)\n",
    "    return time"
   ]
  },
  {
   "cell_type": "code",
   "execution_count": 3,
   "metadata": {
    "collapsed": false,
    "solution": "Exercise 1"
   },
   "outputs": [
    {
     "name": "stdout",
     "output_type": "stream",
     "text": [
      "Finding tests in NoName\n",
      "Trying:\n",
      "    chicken = Event('Chickenfest', Time(8,30,15), Time(10,30,15))\n",
      "Expecting nothing\n",
      "ok\n",
      "Trying:\n",
      "    print chicken\n",
      "Expecting:\n",
      "    Chickenfest will start at 8:30:15 and end at 10:30:15\n",
      "ok\n"
     ]
    }
   ],
   "source": [
    "class Time(object):\n",
    "    \"\"\"\n",
    "    This class will merely be a filler class to account for Times in the Event class, which is the main show.\n",
    "    It will just contain the hour, minutes, and seconds attributes and then have __str__ to print them out\n",
    "    \"\"\"\n",
    "    def __init__(self, hour, minute, second):\n",
    "        self.hour = hour\n",
    "        self.minute = minute\n",
    "        self.second = second\n",
    "    def __str__(self):\n",
    "        return \"{}:{}:{}\".format(str(self.hour), str(self.minute), str(self.second))\n",
    "    \n",
    "class Event(object):\n",
    "    \"\"\"\n",
    "    This class will be an event class that utilizes the Time class to creates events for a calendar.\n",
    "    Name will be the title of the event, and start and end will be Time objects\n",
    "    \n",
    "    Some tests to ensure functionality\n",
    "    >>> chicken = Event('Chickenfest', Time(8,30,15), Time(10,30,15))\n",
    "    >>> print chicken\n",
    "    Chickenfest will start at 8:30:15 and end at 10:30:15\n",
    "    \"\"\"\n",
    "\n",
    "    def __init__(self, name, start, end):\n",
    "        self.name = name\n",
    "        self.start = start\n",
    "        self.end = end\n",
    "    def __str__(self):\n",
    "        return \"{} will start at {} and end at {}\".format(str(self.name), str(self.start),str(self.end))\n",
    "\n",
    "\n",
    "import doctest\n",
    "doctest.run_docstring_examples(Event, globals(), verbose=True)\n",
    "\n",
    "    \n",
    "    "
   ]
  },
  {
   "cell_type": "code",
   "execution_count": 11,
   "metadata": {
    "collapsed": false,
    "solution": "Exercise 1"
   },
   "outputs": [
    {
     "name": "stdout",
     "output_type": "stream",
     "text": [
      "Sleep start = 3 end = 10\n"
     ]
    }
   ],
   "source": [
    "class Event(object):\n",
    "    \"\"\"Calendar application\"\"\"\n",
    "    def __init__(self, name=None, start=0, end=0):\n",
    "        self.name = name\n",
    "        self.start = start\n",
    "        self.end = end\n",
    "    def __str__(self):\n",
    "        return self.name + ' start = %d end = %d' % (self.start, self.end)\n",
    "event0 = Event('Sleep', 3, 10)\n",
    "print event0"
   ]
  },
  {
   "cell_type": "code",
   "execution_count": 43,
   "metadata": {
    "collapsed": true,
    "solution": "Exercise 1"
   },
   "outputs": [],
   "source": [
    "class Time(object):\n",
    "    \"\"\"\n",
    "    Represents the time of day.\n",
    "\n",
    "    attributes: hour, minute, second\n",
    "    \"\"\"\n",
    "\n",
    "    def __init__(self, hour=0, minute=0, second=0):\n",
    "        self.hour = hour\n",
    "        self.minute = minute\n",
    "        self.second = second\n",
    "\n",
    "    def __str__(self):\n",
    "        time_string = \"{:02}:{:02}:{:02}\".format(self.hour, self.minute, self.second)\n",
    "        return time_string\n",
    "    def is_after(self,other):\n",
    "        if self.hour>other.hour:\n",
    "            return True\n",
    "        elif self.minute>other.minute:\n",
    "            return True\n",
    "        elif self.second>other.second:\n",
    "            return True\n",
    "        else:\n",
    "            return False\n",
    "\n",
    "class Event(object):\n",
    "    def __init__(self,name='enter the name of the event',start=Time(),end=Time()):\n",
    "        self.name=name\n",
    "        self.start=start\n",
    "        self.end=end\n",
    "        \n",
    "    def __str__(self):\n",
    "        return \"{} starting at {} and going until {}\".format(self.name,self.start,self.end)"
   ]
  },
  {
   "cell_type": "code",
   "execution_count": 17,
   "metadata": {
    "collapsed": false,
    "solution": "Exercise 1"
   },
   "outputs": [
    {
     "name": "stdout",
     "output_type": "stream",
     "text": [
      "My birthday event starting at 05:30:00 and ending at 07:00:00\n"
     ]
    }
   ],
   "source": [
    "class Event(object):\n",
    "    def __init__(self, name, start, end):\n",
    "        self.name = name\n",
    "        self.start = start\n",
    "        self.end = end\n",
    "        \n",
    "    def __str__(self):\n",
    "        start = str(self.start)\n",
    "        end = str(self.end)\n",
    "        base = '{} event starting at {} and ending at {}'\n",
    "        return base.format(self.name, start, end)        \n",
    "\n",
    "class Time(object):\n",
    "    def __init__(self, hour, minute=0, second=0):\n",
    "        self.hour = hour\n",
    "        self.minute = minute\n",
    "        self.second = second\n",
    "    def __str__(self):\n",
    "        hours = ('00' + str(self.hour))[-2:]\n",
    "        minutes = ('00' + str(self.minute))[-2:]\n",
    "        seconds = ('00' + str(self.second))[-2:]\n",
    "        return '{}:{}:{}'.format(hours, minutes, seconds)\n",
    "    \n",
    "    def total(self):\n",
    "        return self.hour * 3600 + self.minute * 60 + self.second\n",
    "    \n",
    "time1 = Time(5, 30)\n",
    "time2 = Time(7)\n",
    "event1 = Event('My birthday', time1, time2)\n",
    "print event1"
   ]
  },
  {
   "cell_type": "code",
   "execution_count": 2,
   "metadata": {
    "collapsed": false
   },
   "outputs": [
    {
     "name": "stdout",
     "output_type": "stream",
     "text": [
      "09:45:00\n",
      "10:07:17\n",
      "Is end after start? True\n",
      "Using __str__\n",
      "09:45:00 10:07:17\n",
      "11:20:00\n",
      "10:07:17\n",
      "10:07:17\n",
      "Example of polymorphism\n",
      "23:01:00\n"
     ]
    }
   ],
   "source": [
    "#I was told I could use time for this purpose. \n",
    "\n",
    "class Time(object):\n",
    "    \"\"\"Represents the time of day.\n",
    "       \n",
    "    attributes: hour, minute, second\n",
    "    \"\"\"\n",
    "    def __init__(self, hour=0, minute=0, second=0):\n",
    "        minutes = hour * 60 + minute\n",
    "        self.seconds = minutes * 60 + second\n",
    "\n",
    "    def __str__(self):\n",
    "        minutes, second = divmod(self.seconds, 60)\n",
    "        hour, minute = divmod(minutes, 60)\n",
    "        return '%.2d:%.2d:%.2d' % (hour, minute, second)\n",
    "\n",
    "    def print_time(self):\n",
    "        print str(self)\n",
    "\n",
    "    def time_to_int(self):\n",
    "        \"\"\"Computes the number of seconds since midnight.\"\"\"\n",
    "        return self.seconds\n",
    "\n",
    "    def is_after(self, other):\n",
    "        \"\"\"Returns True if t1 is after t2; false otherwise.\"\"\"\n",
    "        return self.seconds > other.seconds\n",
    "\n",
    "    def __add__(self, other):\n",
    "        \"\"\"Adds two Time objects or a Time object and a number.\n",
    "\n",
    "        other: Time object or number of seconds\n",
    "        \"\"\"\n",
    "        if isinstance(other, Time):\n",
    "            return self.add_time(other)\n",
    "        else:\n",
    "            return self.increment(other)\n",
    "\n",
    "    def __radd__(self, other):\n",
    "        \"\"\"Adds two Time objects or a Time object and a number.\"\"\"\n",
    "        return self.__add__(other)\n",
    "\n",
    "    def add_time(self, other):\n",
    "        \"\"\"Adds two time objects.\"\"\"\n",
    "        assert self.is_valid() and other.is_valid()\n",
    "        seconds = self.seconds + other.seconds\n",
    "        return int_to_time(seconds)\n",
    "\n",
    "    def increment(self, seconds):\n",
    "        \"\"\"Returns a new Time that is the sum of this time and seconds.\"\"\"\n",
    "        seconds += self.seconds\n",
    "        return int_to_time(seconds)\n",
    "\n",
    "    def is_valid(self):\n",
    "        \"\"\"Checks whether a Time object satisfies the invariants.\"\"\"\n",
    "        return self.seconds >= 0 and self.seconds < 24*60*60\n",
    "\n",
    "\n",
    "def int_to_time(seconds):\n",
    "    \"\"\"Makes a new Time object.\n",
    "\n",
    "    seconds: int seconds since midnight.\n",
    "    \"\"\"\n",
    "    return Time(0, 0, seconds)\n",
    "\n",
    "\n",
    "def main():\n",
    "    start = Time(9, 45, 00)\n",
    "    start.print_time()\n",
    "\n",
    "    end = start.increment(1337)\n",
    "    end.print_time()\n",
    "\n",
    "    print 'Is end after start?',\n",
    "    print end.is_after(start)\n",
    "\n",
    "    print 'Using __str__'\n",
    "    print start, end\n",
    "\n",
    "    start = Time(9, 45)\n",
    "    duration = Time(1, 35)\n",
    "    print start + duration\n",
    "    print start + 1337\n",
    "    print 1337 + start\n",
    "\n",
    "    print 'Example of polymorphism'\n",
    "    t1 = Time(7, 43)\n",
    "    t2 = Time(7, 41)\n",
    "    t3 = Time(7, 37)\n",
    "    total = sum([t1, t2, t3])\n",
    "    print total\n",
    "\n",
    "\n",
    "if __name__ == '__main__':\n",
    "    main()"
   ]
  },
  {
   "cell_type": "code",
   "execution_count": 31,
   "metadata": {
    "collapsed": false,
    "solution": "Exercise 1"
   },
   "outputs": [
    {
     "name": "stdout",
     "output_type": "stream",
     "text": [
      "food from 1 to 3\n"
     ]
    },
    {
     "ename": "TypeError",
     "evalue": "__str__ returned non-string (type NoneType)",
     "output_type": "error",
     "traceback": [
      "\u001b[1;31m---------------------------------------------------------------------------\u001b[0m",
      "\u001b[1;31mTypeError\u001b[0m                                 Traceback (most recent call last)",
      "\u001b[1;32m<ipython-input-31-ff3a1646713a>\u001b[0m in \u001b[0;36m<module>\u001b[1;34m()\u001b[0m\n\u001b[0;32m     12\u001b[0m \u001b[1;33m\u001b[0m\u001b[0m\n\u001b[0;32m     13\u001b[0m \u001b[0mevent\u001b[0m \u001b[1;33m=\u001b[0m \u001b[0mEvent\u001b[0m\u001b[1;33m(\u001b[0m\u001b[1;34m'food'\u001b[0m\u001b[1;33m,\u001b[0m \u001b[1;36m1\u001b[0m\u001b[1;33m,\u001b[0m \u001b[1;36m3\u001b[0m\u001b[1;33m)\u001b[0m\u001b[1;33m\u001b[0m\u001b[0m\n\u001b[1;32m---> 14\u001b[1;33m \u001b[1;32mprint\u001b[0m \u001b[0mevent\u001b[0m\u001b[1;33m\u001b[0m\u001b[0m\n\u001b[0m",
      "\u001b[1;31mTypeError\u001b[0m: __str__ returned non-string (type NoneType)"
     ]
    }
   ],
   "source": [
    "class Event(object):\n",
    "    \n",
    "    def __init__(self, title='title', start=0, end =0):\n",
    "        self.title = title\n",
    "        self.start = start\n",
    "        self.end = end\n",
    "    \n",
    "    def __str__(self):\n",
    "        print self.title,\n",
    "        print \"from\", self.start, \"to\", self.end\n",
    "    \n",
    "    \n",
    "event = Event('food', 1, 3)\n",
    "print event"
   ]
  },
  {
   "cell_type": "code",
   "execution_count": 1,
   "metadata": {
    "collapsed": false,
    "solution": "Exercise 1"
   },
   "outputs": [
    {
     "name": "stdout",
     "output_type": "stream",
     "text": [
      "Event Name: Birthday Party \n",
      "Time of Event: 03:45:50 to 06:50:50\n"
     ]
    }
   ],
   "source": [
    "class Time(object):\n",
    "    \"\"\"Represents a time.\n",
    "    Attributes: Hours, minutes, seconds\"\"\"\n",
    "\n",
    "    def __init__(self, hours=0, minutes=0, seconds=0):\n",
    "        self.hours = hours\n",
    "        self.minutes = minutes\n",
    "        self.seconds = seconds\n",
    "\n",
    "    def __str__(self):\n",
    "        return '%02d:%02d:%02d' % (self.hours, self.minutes, self.seconds)\n",
    "\n",
    "class Event(object):\n",
    "    \"\"\"Represents an event.\n",
    "    Attributes: Name, time\"\"\"\n",
    "\n",
    "    def __init__(self, name, start, end):\n",
    "        self.name = name\n",
    "        self.start = start\n",
    "        self.end = end\n",
    "\n",
    "    def __str__(self):\n",
    "        return \"Event Name: {} \\nTime of Event: {} to {}\".format(self.name, self.start, self.end)\n",
    "\n",
    "start = Time(3,45,50)\n",
    "end = Time(6,50,50)\n",
    "\n",
    "birthday = Event(\"Birthday Party\", start, end)\n",
    "print birthday"
   ]
  },
  {
   "cell_type": "code",
   "execution_count": 6,
   "metadata": {
    "collapsed": false,
    "solution": "Exercise 1"
   },
   "outputs": [
    {
     "name": "stdout",
     "output_type": "stream",
     "text": [
      "My Day from 09:00:00 to 22:00:00\n"
     ]
    }
   ],
   "source": [
    "class Time(object):\n",
    "    def __init__(self, hour, minute, second):\n",
    "        self.hour = hour\n",
    "        self.minute = minute\n",
    "        self.second = second\n",
    "        \n",
    "    def __str__(self):\n",
    "        return '{:02}:{:02}:{:02}'.format(self.hour, self.minute, self.second)\n",
    "\n",
    "class Event(object):\n",
    "    def __init__(self, name, start, end):\n",
    "        self.name = name\n",
    "        self.start = start\n",
    "        self.end = end\n",
    "    def __str__(self):\n",
    "        return '{} from {} to {}'.format(self.name, self.start, self.end)\n",
    "    \n",
    "t1 = Time(9, 0, 0)\n",
    "t2 = Time(22, 0, 0)\n",
    "print Event('My Day', t1, t2)"
   ]
  },
  {
   "cell_type": "code",
   "execution_count": 31,
   "metadata": {
    "collapsed": false,
    "solution": "Exercise 1"
   },
   "outputs": [
    {
     "name": "stdout",
     "output_type": "stream",
     "text": [
      "The event title is an_event, Start time is 03:23:02, End time is 04:23:02\n"
     ]
    }
   ],
   "source": [
    "class Time(object):\n",
    "    \n",
    "    def __init__(self,hour,minute,second):\n",
    "        self.hour = hour\n",
    "        self.minute = minute\n",
    "        self.second = second\n",
    "    def __str__(self):\n",
    "        return '%.2d:%.2d:%.2d' % (self.hour,self.minute,self.second)\n",
    "        \n",
    "class Event(object):\n",
    "    \n",
    "    def __init__(self,name,start,end):\n",
    "        self.name = name\n",
    "        self.start = start\n",
    "        self.end = end\n",
    "        \n",
    "    def __str__(self):\n",
    "        return 'The event title is %s, Start time is %s, End time is %s'%(self.name,self.start,self.end)\n",
    "    \n",
    "e = Event('an_event',Time(3,23,2),Time(4,23,2))\n",
    "print e\n"
   ]
  },
  {
   "cell_type": "code",
   "execution_count": 12,
   "metadata": {
    "collapsed": false,
    "solution": "Exercise 1"
   },
   "outputs": [
    {
     "name": "stdout",
     "output_type": "stream",
     "text": [
      "Untitled Event(09:00:00-10:00:00)\n"
     ]
    }
   ],
   "source": [
    "class Event(object):\n",
    "    def __init__(self,name='Untitled Event',start=Time(9,0,0),end=Time(10,0,0)):\n",
    "        self.name=str(name)\n",
    "        self.start=start\n",
    "        self.end=end\n",
    "    def __str__(self):\n",
    "        return self.name + '(' + str(self.start)+ '-'+str(self.end)+')'\n",
    "    \n",
    "Event1=Event()\n",
    "print Event1"
   ]
  },
  {
   "cell_type": "code",
   "execution_count": 16,
   "metadata": {
    "collapsed": false,
    "solution": "Exercise 1"
   },
   "outputs": [
    {
     "name": "stdout",
     "output_type": "stream",
     "text": [
      "SoftDes from 15:10:00 to 17:00:00\n"
     ]
    }
   ],
   "source": [
    "def time_to_int(time):\n",
    "    minutes = time.hour * 60 + time.minute\n",
    "    seconds = minutes * 60 + time.second\n",
    "    return seconds\n",
    "\n",
    "def int_to_time(seconds):\n",
    "    time = Time()\n",
    "    minutes, time.second = divmod(seconds, 60)\n",
    "    time.hour, time.minute = divmod(minutes, 60)\n",
    "    return time\n",
    "\n",
    "class Time(object):\n",
    "    \"\"\"Represents the time of day.\n",
    "    \n",
    "    Attributes: hour, minute, second\n",
    "    \"\"\"\n",
    "    \n",
    "    def __init__(self, hour=0, minute=0, second=0):\n",
    "        self.hour = hour\n",
    "        self.minute = minute\n",
    "        self.second = second\n",
    "\n",
    "    def __str__(self):\n",
    "        return '%.2d:%.2d:%.2d' % (self.hour, self.minute, self.second)\n",
    "    \n",
    "    def __repr__(self):\n",
    "        #You can print from lists now\n",
    "        return self.__str__()\n",
    "\n",
    "    def __cmp__(self, other):\n",
    "        #Lets you compare Time objects.\n",
    "        t1 = time_to_int(self)\n",
    "        t2 = time_to_int(other)\n",
    "        \n",
    "        if t1>t2:\n",
    "            #Return true for self>other if self comes after other\n",
    "            return 1\n",
    "        elif t1<t2:\n",
    "            #Return false for self>other if self comes before other\n",
    "            return -1\n",
    "        else:\n",
    "            return 0\n",
    "        \n",
    "class Event(object):\n",
    "    \"\"\"Represents an event sometime during a single day.\n",
    "    \n",
    "    Attributes: start, end\n",
    "    \"\"\"\n",
    "    \n",
    "    def __init__(self, start = Time(0,0,0), end = Time(0,0,0), name = \"\"):\n",
    "        self.start = start\n",
    "        self.end = end\n",
    "        self.name = name\n",
    "        \n",
    "    def __str__(self):\n",
    "        return '%s from %s to %s' % (self.name, self.start, self.end)\n",
    "    \n",
    "test_event = Event(Time(15,10),Time(17),\"SoftDes\")\n",
    "print test_event"
   ]
  },
  {
   "cell_type": "code",
   "execution_count": 28,
   "metadata": {
    "collapsed": false,
    "solution": "Exercise 1"
   },
   "outputs": [
    {
     "name": "stdout",
     "output_type": "stream",
     "text": [
      "Event: Boats\n",
      "Start: 10:30:00\n",
      "End:   12:42:55\n",
      "02:12:55\n"
     ]
    }
   ],
   "source": [
    "class Time(object):\n",
    "    \"\"\"Represents the time of day.\n",
    "    \n",
    "    attributes: hour, minute, second\"\"\"\n",
    "    \n",
    "    def __init__(self, hour=0, minute=0, second=0):\n",
    "        self.hour = hour\n",
    "        self.minute = minute\n",
    "        self.second = second\n",
    "    \n",
    "    def __str__(self):\n",
    "        return '%.2d:%.2d:%.2d' % (self.hour,self.minute,self.second)\n",
    "    \n",
    "    def seconds(self):\n",
    "        minutes = self.hour * 60 + self.minute\n",
    "        seconds = minutes * 60 + self.second\n",
    "        return seconds\n",
    "    \n",
    "\n",
    "class Event(object):\n",
    "    \"\"\"Represents an event, for use in dem calendars.\n",
    "    \n",
    "    attributes: name, start, end\"\"\"\n",
    "    \n",
    "    def __init__(self, name, start, end):\n",
    "        self.name = name\n",
    "        self.start = start\n",
    "        self.end = end\n",
    "    \n",
    "    def __str__(self):\n",
    "        return (\"Event: \" + str(self.name) + \"\\nStart: \" +\n",
    "                str(self.start) + \"\\nEnd:   \" + str(self.end))\n",
    "    \n",
    "    def duration(self):\n",
    "        time = Time()\n",
    "        seconds = self.end.seconds() - self.start.seconds()\n",
    "        minutes, time.second = divmod(seconds, 60)\n",
    "        time.hour, time.minute = divmod(minutes, 60)\n",
    "        return time\n",
    "\n",
    "firstTime = Time(10,30)\n",
    "secondTime = Time(12,42,55)\n",
    "boats = Event('Boats', firstTime, secondTime)\n",
    "print boats\n",
    "print boats.duration()"
   ]
  },
  {
   "cell_type": "code",
   "execution_count": 10,
   "metadata": {
    "collapsed": false,
    "solution": "Exercise 1"
   },
   "outputs": [
    {
     "name": "stdout",
     "output_type": "stream",
     "text": [
      "Morning run happens between 7:30 and 10:00.\n"
     ]
    }
   ],
   "source": [
    "class Event(object):\n",
    "    def __init__(self, name, start, end):\n",
    "        self.name = name\n",
    "        self.start = start\n",
    "        self.end = end\n",
    "    def __str__(self):\n",
    "        return \"{} happens between {} and {}.\".format(self.name, self.start, self.end)\n",
    "        \n",
    "class Time(object):\n",
    "    def __init__(self, hours, minutes):\n",
    "        self.hours = hours + minutes // 60\n",
    "        self.minutes = minutes % 60\n",
    "    def __str__(self):\n",
    "        return \"{:0}:{:02}\".format(self.hours, self.minutes)\n",
    "        \n",
    "t1 = Time(7,30)\n",
    "t2 = Time(10,0)\n",
    "\n",
    "print Event(\"Morning run\",t1,t2)\n"
   ]
  },
  {
   "cell_type": "code",
   "execution_count": 84,
   "metadata": {
    "collapsed": false,
    "solution": "Exercise 1"
   },
   "outputs": [
    {
     "name": "stdout",
     "output_type": "stream",
     "text": [
      "SofDes,10:40:05,12:31:41\n"
     ]
    }
   ],
   "source": [
    "class Time(object):\n",
    "    \"\"\"Represents the time of day.\n",
    "       \n",
    "    attributes: hour, minute, second\n",
    "    \"\"\"\n",
    "    def __init__(self,hours=0,minutes=0,seconds=0):\n",
    "        self.hours = hours\n",
    "        self.minutes = minutes\n",
    "        self.seconds = seconds\n",
    "    \n",
    "    def __str__(self):\n",
    "        return \"{:02}:{:02}:{:02}\".format(self.hours,self.minutes,self.seconds)\n",
    "\n",
    "class Event(object):\n",
    "    \"\"\"Represents the aspects of an event\n",
    "    attributes: name, start, end\n",
    "    \"\"\"\n",
    "    \n",
    "    def __init__(self, name=\"name\", start=0, end=0):\n",
    "        self.name = name\n",
    "        self.start = start\n",
    "        self.end = end\n",
    "        \n",
    "    def __str__(self):\n",
    "        return \"{},{},{}\".format(self.name,self.start,self.end)\n",
    "\n",
    "e = Event(\"SofDes\",Time(10,40,5),Time(12,31,41))\n",
    "e2 = Event(\"map\",Time(9,55,5),Time(12,31,41))\n",
    "\n",
    "print e"
   ]
  },
  {
   "cell_type": "code",
   "execution_count": 20,
   "metadata": {
    "collapsed": false,
    "solution": "Exercise 1"
   },
   "outputs": [
    {
     "name": "stdout",
     "output_type": "stream",
     "text": [
      "meeting starts at 10:30:00 and ends at 11:30:00\n"
     ]
    }
   ],
   "source": [
    "class Time(object):\n",
    "    \"\"\"Represents the time of day. (military time)\n",
    "\n",
    "    attributes: hour, minute, second\n",
    "    \"\"\"\n",
    "    def __init__(self, hour=0, minute=0, second=0):\n",
    "        self.hour = hour\n",
    "        self.minute = minute\n",
    "        self.second = second\n",
    "    def __str__(self):\n",
    "        #return str(self.hour)+\":\"+str(self.minute)\n",
    "        return \"{:02}:{:02}:{:02}\".format(self.hour, self.minute, self.second)\n",
    "    \n",
    "class Event(object):\n",
    "    \"\"\"Represents an event on a day on a calander\n",
    "    \n",
    "    attributes: event name, start time, end time\n",
    "    \"\"\"\n",
    "    def __init__(self,name= \"event\", start_time= Time(0,0,1), end_time= Time(24,0,0)):\n",
    "        #set default to all day event\n",
    "        self.name= name\n",
    "        self.start_time= start_time\n",
    "        self.end_time= end_time\n",
    "    def __str__(self):\n",
    "        return \"{} starts at {} and ends at {}\".format(self.name, self.start_time, self.end_time)\n",
    "\n",
    "event1= Event(\"meeting\", Time(10,30), Time(11,30))   \n",
    "print event1"
   ]
  },
  {
   "cell_type": "code",
   "execution_count": 2,
   "metadata": {
    "collapsed": false,
    "solution": "Exercise 1"
   },
   "outputs": [
    {
     "name": "stdout",
     "output_type": "stream",
     "text": [
      "This event begins at 3:00:00 and ends at 5:00:00. The location is TBD. 50 plan to come.\n"
     ]
    }
   ],
   "source": [
    "def is_after(t1,t2):\n",
    "    \"\"\" Checks to see if t1 is later in the day than t2.\"\"\"\n",
    "    hours_after = t1.hour > t2.hour\n",
    "    minute_after = t1.hour >= t2.hour and t1.minute > t2.minute\n",
    "    second_after = t1.hour >= t2.hour and t1.minute >= t2.minute and t1.second > t2.second\n",
    "    return hours_after or minute_after or second_after\n",
    "\n",
    "def sec_to_time(seconds):\n",
    "    time = Time()\n",
    "    minutes, time.second = divmod(seconds, 60)\n",
    "    time.hour, time.minute = divmod(minutes, 60)\n",
    "    return time\n",
    "    \n",
    "def time_to_sec(time):\n",
    "    minutes = time.hour * 60 + time.minute\n",
    "    seconds = minutes * 60 + time.second\n",
    "    return seconds\n",
    "    \n",
    "class Time(object):\n",
    "    \"\"\"Represents the time of day.\n",
    "       \n",
    "    attributes: hour, minute, second\n",
    "    \"\"\"\n",
    "    def __init__(self, hour=0, minute=0, second=0):\n",
    "        self.hour = hour\n",
    "        self.minute = minute\n",
    "        self.second = second\n",
    "        \n",
    "    def __str__(self):\n",
    "        return '{}:{:02}:{:02}'.format(self.hour,self.minute,self.second)\n",
    "\n",
    "class Event(object):\n",
    "    \"\"\" Creates an event within a day\n",
    "    \n",
    "    attributes:\n",
    "        start (the time the event begins)\n",
    "        end (the time the event ends)\n",
    "        location (where the event is)\n",
    "        attendees (how many people are planning to attend)\n",
    "    \"\"\"\n",
    "    def __init__(self, start = Time(3,0,0), end = Time(5,0,0), location = 'TBD', attendees = 50):\n",
    "        self.start = start\n",
    "        self.end = end\n",
    "        self.location = location\n",
    "        self.attendees = attendees\n",
    "    \n",
    "    def __str__(self):\n",
    "        return \"This event begins at {} and ends at {}. The location is {}. {} plan to come.\".format(self.start,self.end,self.location,self.attendees)\n",
    "    \n",
    "print Event()"
   ]
  },
  {
   "cell_type": "code",
   "execution_count": 28,
   "metadata": {
    "collapsed": false,
    "solution": "Exercise 1"
   },
   "outputs": [
    {
     "name": "stdout",
     "output_type": "stream",
     "text": [
      "Event: birthday Party, start time: 05:30:00, end time: 07:00:00\n"
     ]
    }
   ],
   "source": [
    "class Time(object):\n",
    "    \"\"\"\n",
    "    \"\"\"\n",
    "    def __init__(self, hour = 0, minute = 0, second = 00):\n",
    "        self.hour = hour\n",
    "        self.minute = minute\n",
    "        self.second = second\n",
    "    def __str__(self):\n",
    "        return '{:02d}:{:02d}:{:02d}'.format(self.hour, self.minute, self.second)\n",
    "\n",
    "\n",
    "class Event(object):\n",
    "    \"\"\"\n",
    "    name of event, starting time, ending time\n",
    "    \"\"\"\n",
    "    def __init__(self):\n",
    "        \"\"\"\n",
    "        initializes Event object\n",
    "        \"\"\"\n",
    "    def __str__(self):\n",
    "        return 'Event: {}, start time: {}, end time: {}'.format(self.name, self.start, self.end)\n",
    "    \n",
    "event1 = Event()\n",
    "event1.name = 'birthday Party'\n",
    "event1.start = Time(5, 30)\n",
    "event1.end = Time(7)\n",
    "print event1"
   ]
  },
  {
   "cell_type": "code",
   "execution_count": 18,
   "metadata": {
    "collapsed": false,
    "solution": "Exercise 1"
   },
   "outputs": [
    {
     "name": "stdout",
     "output_type": "stream",
     "text": [
      "<__main__.Event object at 0x104c1cb90> with name my event, start time <Time Object> 08:00:00, and end time <Time Object> 09:00:00\n"
     ]
    }
   ],
   "source": [
    "class Time(object):\n",
    "    def __init__(self, hour, minute, second):\n",
    "        self.hour = hour\n",
    "        self.minute = minute\n",
    "        self.second = second\n",
    "        \n",
    "    def __str__(self):\n",
    "        return '<Time Object> {}:{}:{}'.format(\n",
    "            str(self.hour).zfill(2), str(self.minute).zfill(2), str(self.second).zfill(2))\n",
    "    \n",
    "    def __sub__(self, other):\n",
    "        return \n",
    "    \n",
    "\n",
    "class Event(object):\n",
    "    def __init__(self, name, start, end):\n",
    "        self.name = name\n",
    "        self.start = start\n",
    "        self.end = end\n",
    "        \n",
    "    def __str__(self):\n",
    "        return object.__str__(self) + ' with name {}, start time {}, and end time {}'.format(\n",
    "            self.name, self.start, self.end)\n",
    "    \n",
    "event = Event('my event', Time(8, 0, 0), Time(9, 0, 0))\n",
    "print event.__str__()"
   ]
  },
  {
   "cell_type": "code",
   "execution_count": null,
   "metadata": {
    "collapsed": true,
    "solution": "Exercise 1"
   },
   "outputs": [],
   "source": [
    "class Event(object):\n",
    "    \"\"\"Represents an event with its start and finish times\n",
    "    attrs: event:start-end\"\"\"\n",
    "    def __init__(self,name=None,start=0,end=0):\n",
    "        self.name = name\n",
    "        self.start = start\n",
    "        self.end = end\n",
    "    def __str__(self):\n",
    "        return '%.d:%.d-%.d' % (self.name, self.start, self.end)"
   ]
  },
  {
   "cell_type": "code",
   "execution_count": 33,
   "metadata": {
    "collapsed": false,
    "solution": "Exercise 1"
   },
   "outputs": [
    {
     "name": "stdout",
     "output_type": "stream",
     "text": [
      "Event: test\n",
      "Starting at: 01:00:00\n",
      "Ending at: 02:00:00\n"
     ]
    }
   ],
   "source": [
    "class Time(object):\n",
    "    def __init__(self, hour = 0, minutes = 0, seconds = 0):\n",
    "        self.hour = hour\n",
    "        self.minutes = minutes\n",
    "        self.seconds = seconds   \n",
    "        \n",
    "    def __str__(self):\n",
    "        return '%.2d:%.2d:%.2d' % (self.hour, self.minutes, self.seconds)\n",
    "    \n",
    "    def time_to_int(time):\n",
    "        minutes = time.hour * 60 + time.minutes\n",
    "        seconds = minutes * 60 + time.seconds\n",
    "        return seconds\n",
    "\n",
    "    def int_to_time(seconds):\n",
    "        time = Time()\n",
    "        minutes, time.seconds = divmod(seconds, 60)\n",
    "        time.hour, time.minutes = divmod(minutes, 60)\n",
    "        return time\n",
    "\n",
    "    def __sub__(self, other):\n",
    "        seconds = time_to_int(self) - time_to_int(other)\n",
    "        return int_to_time(seconds)\n",
    "    \n",
    "class Event(object):\n",
    "    def __init__(self, name = \"\", start = Time(), end = Time()):\n",
    "        self.name = name\n",
    "        self.start = start\n",
    "        self.end = end\n",
    "    \n",
    "    def __str__(self):\n",
    "        return \"Event: {}\\nStarting at: {}\\nEnding at: {}\".format(self.name, self.start, self.end)\n",
    "    \n",
    "    def duration(self):\n",
    "        return self.end - self.start\n",
    "    \n",
    "test = Event(\"test\", Time(1), Time(2))\n",
    "print test"
   ]
  },
  {
   "cell_type": "code",
   "execution_count": 15,
   "metadata": {
    "collapsed": false,
    "solution": "Exercise 1"
   },
   "outputs": [
    {
     "name": "stdout",
     "output_type": "stream",
     "text": [
      "<__main__.Event object at 0x7fa9240526d0>\n",
      "party\n",
      "2.0\n"
     ]
    }
   ],
   "source": [
    "class Event(object):\n",
    "    def __init__(self, name, start, end):\n",
    "        self.name = name\n",
    "        self.start = start\n",
    "        self.end = end\n",
    "        return\n",
    "    def __str__(self):\n",
    "        return object.__str__(self)\n",
    "Party = Event('party', 2.00, 3.00)\n",
    "\n",
    "print Party\n",
    "print Party.name\n",
    "print Party.start"
   ]
  },
  {
   "cell_type": "code",
   "execution_count": 22,
   "metadata": {
    "collapsed": false,
    "solution": "Exercise 1"
   },
   "outputs": [
    {
     "name": "stdout",
     "output_type": "stream",
     "text": [
      "party \n",
      "start: 11:59:30, end: 03:18:00\n"
     ]
    }
   ],
   "source": [
    "class Event(object):\n",
    "    def __init__(self, name, (hour, minute, second), (hour_end, minute_end, second_end)):\n",
    "        self.name = name\n",
    "        self.start = Time(hour, minute, second)\n",
    "        self.end = Time(hour_end, minute_end, second_end)\n",
    "    \n",
    "    def __str__(self):\n",
    "        #print self.name + ' ' + 'start: '+ self.start + ' ' + 'end: '+ self.end\n",
    "        start = \"{}\".format(self.start)\n",
    "        end = \"{}\".format(self.end)\n",
    "        event_time = \"{} \\nstart: {}, end: {}\". format(self.name, self.start, self.end)\n",
    "        return event_time\n",
    "    \n",
    "    def duration(self):\n",
    "        \n",
    "    \n",
    "class Time(object):\n",
    "    \n",
    "    def __init__(self, hour=0, minute=0, second=0):\n",
    "        self.hour = hour\n",
    "        self.minute = minute\n",
    "        self.second = second\n",
    "        \n",
    "    def __str__(self):\n",
    "        time = \"{:02}:{:02}:{:02}\".format(self.hour, self.minute, self.second)\n",
    "        return time\n",
    "        \n",
    "if __name__ == \"__main__\":\n",
    "    print Event('party', (11, 59, 30), (3, 18, 0))      \n",
    "        "
   ]
  },
  {
   "cell_type": "code",
   "execution_count": 25,
   "metadata": {
    "collapsed": false,
    "solution": "Exercise 1"
   },
   "outputs": [
    {
     "name": "stdout",
     "output_type": "stream",
     "text": [
      " Name: softdes \n",
      " Start Time: 13:30:00 \n",
      " End Time: 15:10:00\n"
     ]
    }
   ],
   "source": [
    "class Time(object):\n",
    "    \"\"\"Represents the time of day.\n",
    "       \n",
    "    attributes: hour, minute, second\n",
    "    \"\"\"\n",
    "    \n",
    "    def __str__(self):\n",
    "        return '%.2d:%.2d:%.2d' % (self.hour, self.minute, self.second)\n",
    "    def __init__(self, hour=0, minute=0, second=0):\n",
    "        self.hour = hour\n",
    "        self.minute = minute\n",
    "        self.second = second\n",
    "\n",
    "    def time_to_int(time):\n",
    "        minutes = time.hour * 60 + time.minute\n",
    "        seconds = minutes * 60 + time.second\n",
    "        return seconds\n",
    "    \n",
    "    def int_to_time(self, seconds):\n",
    "        time = Time()\n",
    "        minutes, time.second = divmod(seconds, 60)\n",
    "        time.hour, time.minute = divmod(minutes, 60)\n",
    "        return time\n",
    "    \n",
    "    def difference(self, other):\n",
    "        seconds = self.time_to_int() - other.time_to_int()\n",
    "        return self.int_to_time(seconds)\n",
    "    \n",
    "class Event():\n",
    "    ''' contains data about some things for a calendar\n",
    "    attributes: name, start, end\n",
    "    '''\n",
    "    \n",
    "    def __init__(self, name = None, start = Time(), end = Time()):\n",
    "        self.name = name\n",
    "        self.start = start\n",
    "        self.end = end\n",
    "    def __str__(self):\n",
    "        startt = self.start\n",
    "        endt = self.end\n",
    "        event_string = \" Name: {} \\n Start Time: {} \\n End Time: {}\".format(self.name, startt, endt)\n",
    "        return event_string\n",
    "    def duration(self):\n",
    "        dura = Time()\n",
    "        dura = self.end.difference(self.start)\n",
    "        minutes = dura.hour*60 + dura.minute\n",
    "        return minutes\n",
    "    \n",
    "    def __cmp__(self, other):\n",
    "        if self.start > other.start:\n",
    "            return 1\n",
    "        elif other.start > self.start:\n",
    "            return -1\n",
    "        else:\n",
    "            return 0\n",
    "    \n",
    "softdes = Event('softdes', Time(13,30,0), Time(15,10,0))\n",
    "print softdes"
   ]
  },
  {
   "cell_type": "code",
   "execution_count": 2,
   "metadata": {
    "collapsed": false,
    "solution": "Exercise 1"
   },
   "outputs": [],
   "source": [
    "\"\"\"\n",
    "\n",
    "Code example from Think Python, by Allen B. Downey.\n",
    "Available from http://thinkpython.com\n",
    "\n",
    "Copyright 2012 Allen B. Downey.\n",
    "Distributed under the GNU General Public License at gnu.org/licenses/gpl.html.\n",
    "\n",
    "\"\"\"\n",
    "\n",
    "class Time(object):\n",
    "    \"\"\"Represents the time of day.\n",
    "       \n",
    "    attributes: hour, minute, second\n",
    "    \"\"\"\n",
    "    def __init__(self, hour, minute, second):\n",
    "        self.hour = hour\n",
    "        self.minute = minute\n",
    "        self.second = second\n",
    "        \n",
    "    def __str__(self):\n",
    "        return '%.2d:%.2d:%.2d' % (self.hour, self.minute, self.second)\n",
    "def print_time(t):\n",
    "    print '%.2d:%.2d:%.2d' % (t.hour, t.minute, t.second)\n",
    "\n",
    "\n",
    "def int_to_time(seconds):\n",
    "    \"\"\"Makes a new Time object.\n",
    "\n",
    "    seconds: int seconds since midnight.\n",
    "    \"\"\"\n",
    "    time = Time()\n",
    "    minutes, time.second = divmod(seconds, 60)\n",
    "    time.hour, time.minute = divmod(minutes, 60)\n",
    "    return time\n",
    "\n",
    "\n",
    "def time_to_int(time):\n",
    "    \"\"\"Computes the number of seconds since midnight.\n",
    "\n",
    "    time: Time object.\n",
    "    \"\"\"\n",
    "    minutes = time.hour * 60 + time.minute\n",
    "    seconds = minutes * 60 + time.second\n",
    "    return seconds\n",
    "\n",
    "\n",
    "def add_times(t1, t2):\n",
    "    \"\"\"Adds two time objects.\"\"\"\n",
    "    assert valid_time(t1) and valid_time(t2)\n",
    "    seconds = time_to_int(t1) + time_to_int(t2)\n",
    "    return int_to_time(seconds)\n",
    "\n",
    "\n",
    "def valid_time(time):\n",
    "    \"\"\"Checks whether a Time object satisfies the invariants.\"\"\"\n",
    "    if time.hour < 0 or time.minute < 0 or time.second < 0:\n",
    "        return False\n",
    "    if time.minute >= 60 or time.second >= 60:\n",
    "        return False\n",
    "    return True\n",
    "\n",
    "class Event():\n",
    "    \n",
    "    def __init__(self, title, start, end):\n",
    "        self.title = title\n",
    "        self.start = start\n",
    "        self.end = end\n",
    "        \n"
   ]
  },
  {
   "cell_type": "code",
   "execution_count": 4,
   "metadata": {
    "collapsed": false,
    "solution": "Exercise 1"
   },
   "outputs": [
    {
     "name": "stdout",
     "output_type": "stream",
     "text": [
      "fair starting at 01:02:03 and ending at 03:04:05\n"
     ]
    }
   ],
   "source": [
    "class Time(object):\n",
    "    \"\"\"represents time\n",
    "    attributes: hour, minute, second\n",
    "    \"\"\"\n",
    "    def __init__(self, hour = 0, minute = 0, second = 0):\n",
    "        self.hour = hour\n",
    "        self.minute = minute\n",
    "        self.second = second\n",
    "    \n",
    "    def __str__(self):\n",
    "        return \"{:02}:{:02}:{:02}\".format(self.hour,self.minute,self.second)\n",
    "\n",
    "class Event(object):\n",
    "    \"\"\"Event class, which is part of a calendar\n",
    "    attributes: name: Title for the Event\n",
    "                start: Time object representing the start time\n",
    "                end: Time object representing the end time for the event\n",
    "    \"\"\"\n",
    "\n",
    "    def __init__(self, name = '', start = Time(), end = Time()):\n",
    "        self.name = name\n",
    "        self.start = start\n",
    "        self.end = end\n",
    "    \n",
    "    def __str__(self):\n",
    "        return '{} starting at {} and ending at {}'.format(self.name,self.start,self.end)\n",
    "        \n",
    "time1 = Time(1,2,3)\n",
    "time2 = Time(3,4,5)\n",
    "fair = Event('fair',time1,time2)\n",
    "print fair"
   ]
  },
  {
   "cell_type": "code",
   "execution_count": 15,
   "metadata": {
    "collapsed": false,
    "scrolled": true,
    "solution": "Exercise 1"
   },
   "outputs": [
    {
     "name": "stdout",
     "output_type": "stream",
     "text": [
      "Bob's birthday party starts at 9 and goes until 11!\n"
     ]
    }
   ],
   "source": [
    "class Event(object):\n",
    "    def __init__(self, name = None, start = 0, end = 0):\n",
    "        self.name = name\n",
    "        self.start = start\n",
    "        self.end = end\n",
    "    def __str__(self):\n",
    "        return '%s starts at %d and goes until %d!' %(self.name,self.start,self.end)\n",
    "    \n",
    "event = Event(\"Bob's birthday party\",9,11)\n",
    "print event"
   ]
  },
  {
   "cell_type": "code",
   "execution_count": 7,
   "metadata": {
    "collapsed": false,
    "solution": "Exercise 1"
   },
   "outputs": [
    {
     "name": "stdout",
     "output_type": "stream",
     "text": [
      "\"Get Some Sleep You Moron\" begins at 06:00 and ends at 08:56 on 02/29/2016\n"
     ]
    }
   ],
   "source": [
    "class Time(object):\n",
    "    '''Represents the time of day.\n",
    "    \n",
    "    attributes: hour, minute\n",
    "    '''\n",
    "    def __init__(self, hour=0, minute=0):\n",
    "        self.hour = hour\n",
    "        self.minute = minute\n",
    "    def __str__(self):\n",
    "        return '%.2d:%.2d' %(self.hour,self.minute)\n",
    "    \n",
    "class Date(object):\n",
    "    def __init__(self, month=1, day=1, year=2016):\n",
    "        self.month = month\n",
    "        self.day = day\n",
    "        self.year = year\n",
    "    def __str__(self):\n",
    "        return '%.2d/%.2d/%.2d' %(self.month, self.day, self.year)\n",
    "    \n",
    "class Event(object):\n",
    "    def __init__(self, name='', start=Time(), end=Time(), date=Date()):\n",
    "        self.name = name\n",
    "        self.start = start\n",
    "        self.end = end\n",
    "        self.date = date\n",
    "    def __str__(self):\n",
    "        return '\\\"%s\\\" begins at %s and ends at %s on %s' %(self.name, self.start, self.end, self.date)\n",
    "\n",
    "bedtime = Time(6, 0)\n",
    "wakeup = Time(8, 56)\n",
    "today = Date(2,29,2016)\n",
    "sleep = Event('Get Some Sleep You Moron', bedtime, wakeup, today)\n",
    "\n",
    "print sleep"
   ]
  },
  {
   "cell_type": "code",
   "execution_count": 28,
   "metadata": {
    "collapsed": false,
    "solution": "Exercise 1"
   },
   "outputs": [
    {
     "name": "stdout",
     "output_type": "stream",
     "text": [
      "Birthday Party, 11:30:00, 01:30:00\n"
     ]
    }
   ],
   "source": [
    "class Time(object):\n",
    "    \"\"\"Represents time\"\"\"\n",
    "    def __init__(self, hour=0, minute=0, second=0):\n",
    "        self.hour = hour\n",
    "        self.minute = minute\n",
    "        self.second = second\n",
    "    def __str__(self):\n",
    "        return '%.2d:%.2d:%.2d' % (self.hour, self.minute, self.second)\n",
    "\n",
    "class Event():\n",
    "    \"\"\"Calendar application\"\"\"\n",
    "    def __init__(self, name, start, end):\n",
    "        self.name = name\n",
    "        self.start = start\n",
    "        self.end = end\n",
    "    def __str__(self):\n",
    "        return '%s, %s, %s' % (self.name, self.start, self.end)\n",
    "\n",
    "cal1 = Event('Birthday Party', Time(11,30), Time(1,30))\n",
    "print cal1"
   ]
  },
  {
   "cell_type": "code",
   "execution_count": 12,
   "metadata": {
    "collapsed": false,
    "solution": "Exercise 1"
   },
   "outputs": [
    {
     "name": "stdout",
     "output_type": "stream",
     "text": [
      "Something, 10:30:00-12:00:00\n"
     ]
    }
   ],
   "source": [
    "class Time(object):\n",
    "    \"\"\"What time is it? hour, minutes, seconds\"\"\"\n",
    "    def __init__(self, hour=0, minute=0, second=0):\n",
    "        self.hour = hour\n",
    "        self.minute = minute\n",
    "        self.second = second\n",
    "    def __str__(self):\n",
    "        return \"{:02}:{:02}:{:02}\".format(self.hour, self.minute, self.second)\n",
    "    \n",
    "\n",
    "class Event(object):\n",
    "    \"\"\"It'll be a shindig: name, start, end\"\"\"\n",
    "    def __init__(self, name = 'Event Name', start = 0, end = 0):\n",
    "        self.name = name\n",
    "        self.start = start\n",
    "        self.end = end\n",
    "    def __str__(self):\n",
    "        return \"{}, {}-{}\".format(self.name, self.start, self.end)\n",
    "    \n",
    "        \n",
    "s = Time(10, 30, 0)\n",
    "e = Time(12, 0, 0)\n",
    "event = Event('Something', s, e)\n",
    "print event\n"
   ]
  },
  {
   "cell_type": "code",
   "execution_count": 10,
   "metadata": {
    "collapsed": false,
    "solution": "Exercise 1"
   },
   "outputs": [
    {
     "name": "stdout",
     "output_type": "stream",
     "text": [
      "Picnic starts at 12 and ends at 2\n"
     ]
    }
   ],
   "source": [
    "class Event(object):\n",
    "    \"An event? Attributes: name, start, end\"\n",
    "    def __init__(self, name, start, end):\n",
    "        self.name = name\n",
    "        self.start = start\n",
    "        self.end = end\n",
    "    def __str__(self):\n",
    "        return '%s starts at %s and ends at %s' %(self.name,self.start,self.end)\n",
    "\n",
    "event = Event('Picnic', 12, 2)\n",
    "print event\n",
    "\n",
    "        "
   ]
  },
  {
   "cell_type": "code",
   "execution_count": 20,
   "metadata": {
    "collapsed": false
   },
   "outputs": [
    {
     "name": "stdout",
     "output_type": "stream",
     "text": [
      "2:19:59\n"
     ]
    }
   ],
   "source": [
    "def time_to_int(time):\n",
    "        #      (        Convert to minutes  ) * 60 + extra seconds\n",
    "        return (time.hour * 60 + time.minute) * 60 + time.second\n",
    "    \n",
    "def int_to_time(seconds):\n",
    "    time = Time()\n",
    "    minutes, time.second = divmod(seconds, 60)\n",
    "    time.hour, time.minute = divmod(minutes, 60)\n",
    "    return time\n",
    "\n",
    "class Time(object):\n",
    "    \"\"\"\n",
    "    Attributes: hour, minute, second\n",
    "    \"\"\"\n",
    "    \n",
    "    def __init__(self, hour=0, minute=0, second=0):\n",
    "        self.hour = hour\n",
    "        self.minute = minute\n",
    "        self.second = second\n",
    "    \n",
    "    def __str__(self):\n",
    "        return \"{}:{}:{}\".format(self.hour, self.minute, self.second)\n",
    "    \n",
    "    def __sub__(self, other):\n",
    "        selfSeconds = time_to_int(self)\n",
    "        otherSeconds = time_to_int(other)\n",
    "        newTime = int_to_time(selfSeconds-otherSeconds)\n",
    "        return newTime\n",
    "        \n",
    "\n",
    "print Time(12, 30, 15)-Time(10, 10, 16)"
   ]
  },
  {
   "cell_type": "code",
   "execution_count": 71,
   "metadata": {
    "collapsed": false,
    "solution": "Exercise 1"
   },
   "outputs": [
    {
     "name": "stdout",
     "output_type": "stream",
     "text": [
      "new2: 03:05:07-05:06:08\n",
      "new1: 05:06:07-06:07:08\n",
      "new3: 09:10:11-10:11:12\n",
      "False\n"
     ]
    }
   ],
   "source": [
    "class Event(object):\n",
    "    def __init__(self, name, start, end):\n",
    "        self.name = name\n",
    "        self.start = start\n",
    "        self.end = end\n",
    "        \n",
    "    def __str__(self):\n",
    "        return \"{}: {}-{}\" .format(self.name, self.start, self.end)\n",
    "      \n",
    "    def duration(self):\n",
    "        return self.start - self.end\n",
    "    \n",
    "class Time(object):\n",
    "    def __init__(self, hour, minute, second):\n",
    "        self.hour = hour\n",
    "        self.minute = minute\n",
    "        self.second = second\n",
    "    \n",
    "    def __str__(self):\n",
    "        return \"%.2d:%.2d:%.2d\" % (self.hour, self.minute, self.second)\n",
    "    \n",
    "    def to_seconds(self):\n",
    "        return self.hour * 3600 + self.minute * 60 + self.second\n",
    "    \n",
    "    def sec_to_min(self,seconds):\n",
    "        minute, second = divmod(seconds,60)\n",
    "        return minute\n",
    "    \n",
    "    def is_before(self, other):\n",
    "        \"\"\"\n",
    "        Tests if one time is before another\n",
    "        \"\"\"\n",
    "        return self.to_seconds() < other.to_seconds()\n",
    "    \n",
    "    def __sub__(self, other):\n",
    "        \"\"\"\n",
    "        Overrides subtract operator\n",
    "        \"\"\"\n",
    "        return self.sec_to_min(int(math.fabs(self.to_seconds() - other.to_seconds())))\n",
    "        \n",
    "class Agenda(object):\n",
    "    def __init__(self,event_list=None):\n",
    "        if event_list == None:\n",
    "            event_list = []\n",
    "            \n",
    "        self.event_list = event_list\n",
    "    \n",
    "    def add_event(self, item):\n",
    "        self.event_list.append(item)\n",
    "        \n",
    "    def print_agenda(self):\n",
    "        sorted_agenda = self.sort_agenda()\n",
    "        for event in sorted_agenda:\n",
    "            print event\n",
    "            \n",
    "    def sort_agenda(self):\n",
    "        \"\"\"\n",
    "        sort agenda by time\n",
    "        \"\"\"\n",
    "        return sorted(self.event_list, key = lambda x: x.start.to_seconds())\n",
    "    \n",
    "    def is_feasible(self):\n",
    "        agenda = self.sort_agenda()\n",
    "        for i in range(len(agenda)-1):\n",
    "            if(agenda[i].end.to_seconds() > agenda[i+1].start.to_seconds()):\n",
    "                return False\n",
    "        return True\n",
    "    \n",
    "if __name__ == '__main__':\n",
    "    import operator\n",
    "    import math\n",
    "    a = Time(5,6,7)\n",
    "    b = Time(6,7,8)\n",
    "    c = Time(3,5,7)\n",
    "    d = Time(5,6,8)\n",
    "    e = Time(9,10,11)\n",
    "    f = Time(10,11,12)\n",
    "\n",
    "    e1 = Event('new1',a,b)\n",
    "    e2 = Event('new2',c,d)\n",
    "    e3 = Event('new3',e,f)\n",
    "#     print e.duration()  \n",
    "    today = Agenda([])\n",
    "    today.add_event(e1)\n",
    "    today.add_event(e2)\n",
    "    today.add_event(e3)\n",
    "    today.print_agenda()\n",
    "    print today.is_feasible()"
   ]
  },
  {
   "cell_type": "code",
   "execution_count": 25,
   "metadata": {
    "collapsed": true
   },
   "outputs": [],
   "source": [
    "#time class copied from thinkpython \n",
    "class Time(object):\n",
    "    \"\"\"Represents the time of day.\n",
    "       \n",
    "    attributes: hour, minute, second\n",
    "    \"\"\"\n",
    "    def __init__(self, hour=0, minute=0, second=0):\n",
    "        self.hour = hour\n",
    "        self.minute = minute\n",
    "        self.second = second\n",
    "\n",
    "    def __str__(self):\n",
    "        return '%.2d:%.2d:%.2d' % (self.hour, self.minute, self.second)\n",
    "\n",
    "    def print_time(self):\n",
    "        print str(self)\n",
    "\n",
    "    def time_to_int(self):\n",
    "        \"\"\"Computes the number of seconds since midnight.\"\"\"\n",
    "        minutes = self.hour * 60 + self.minute\n",
    "        seconds = minutes * 60 + self.second\n",
    "        return seconds\n",
    "\n",
    "    def is_after(self, other):\n",
    "        \"\"\"Returns True if t1 is after t2; false otherwise.\"\"\"\n",
    "        return self.time_to_int() > other.time_to_int()\n",
    "\n",
    "    def __add__(self, other):\n",
    "        \"\"\"Adds two Time objects or a Time object and a number.\n",
    "\n",
    "        other: Time object or number of seconds\n",
    "        \"\"\"\n",
    "        if isinstance(other, Time):\n",
    "            return self.add_time(other)\n",
    "        else:\n",
    "            return self.increment(other)\n",
    "\n",
    "    def __radd__(self, other):\n",
    "        \"\"\"Adds two Time objects or a Time object and a number.\"\"\"\n",
    "        return self.__add__(other)\n",
    "\n",
    "    def add_time(self, other):\n",
    "        \"\"\"Adds two time objects.\"\"\"\n",
    "        assert self.is_valid() and other.is_valid()\n",
    "        seconds = self.time_to_int() + other.time_to_int()\n",
    "        return int_to_time(seconds)\n",
    "\n",
    "    def increment(self, seconds):\n",
    "        \"\"\"Returns a new Time that is the sum of this time and seconds.\"\"\"\n",
    "        seconds += self.time_to_int()\n",
    "        return int_to_time(seconds)\n",
    "\n",
    "    def is_valid(self):\n",
    "        \"\"\"Checks whether a Time object satisfies the invariants.\"\"\"\n",
    "        if self.hour < 0 or self.minute < 0 or self.second < 0:\n",
    "            return False\n",
    "        if self.minute >= 60 or self.second >= 60:\n",
    "            return False\n",
    "        return True"
   ]
  },
  {
   "cell_type": "code",
   "execution_count": 1,
   "metadata": {
    "collapsed": false
   },
   "outputs": [
    {
     "name": "stdout",
     "output_type": "stream",
     "text": [
      "05:30:15\n"
     ]
    }
   ],
   "source": [
    "class Time(object):\n",
    "    \"\"\"Represents the time of day.\n",
    "       \n",
    "    attributes: hour, minute, second\n",
    "    \"\"\"\n",
    "    def __init__(self, hours, minutes, seconds):\n",
    "        self.hours = hours\n",
    "        self.minutes = minutes\n",
    "        self.seconds = seconds\n",
    "        \n",
    "    def __str__(self):\n",
    "        return \"{:02}:{:02}:{:02}\".format(self.hours, self.minutes, self.seconds)\n",
    "    \n",
    "    \n",
    "print Time(5,30,15)"
   ]
  },
  {
   "cell_type": "code",
   "execution_count": 20,
   "metadata": {
    "collapsed": true
   },
   "outputs": [],
   "source": [
    "class Time:\n",
    "    def __init__(me, h,m,s):\n",
    "        me.hour = h\n",
    "        me.minute = m\n",
    "        me.second = s\n",
    "    \n",
    "    def __str__(me):\n",
    "        return \"{}:{}:{}\".format(me.hour, me.minute, me.second)\n",
    "    \n",
    "    def __lt__(this, that):\n",
    "        return this.hour*3600+this.minute*60+this.second < that.hour*3600+that.minute*60+that.second\n",
    "    \n",
    "    def __gt__(this, that):\n",
    "        return this.hour*3600+this.minute*60+this.second > that.hour*3600+that.minute*60+that.second"
   ]
  },
  {
   "cell_type": "code",
   "execution_count": 1,
   "metadata": {
    "collapsed": false,
    "solution": "Exercise 1"
   },
   "outputs": [
    {
     "name": "stdout",
     "output_type": "stream",
     "text": [
      "Reminder: Software Design from 13:30:00 to 15:10:00 today!\n"
     ]
    }
   ],
   "source": [
    "class Event(object):\n",
    "    '''Represents a calendar event for a single day'''\n",
    "    def __init__(self, name, start, end):\n",
    "        self.name = name\n",
    "        self.start = start\n",
    "        self.end = end\n",
    "    def __str__(self):\n",
    "        return 'Reminder: %s from %s to %s today!' % (self.name, self.start, self.end)\n",
    "\n",
    "class Time(object):\n",
    "    '''Represents a time in hours, minutes, and seconds'''\n",
    "    def __init__(self, hour=0, minute=0, second=0):\n",
    "        self.hour = hour\n",
    "        self.minute = minute\n",
    "        self.second = second\n",
    "    def __str__(self):\n",
    "        return '%.2d:%.2d:%.2d' % (self.hour, self.minute, self.second)\n",
    "event1 = Event('Software Design', Time(13, 30), Time(15, 10))\n",
    "print event1"
   ]
  },
  {
   "cell_type": "code",
   "execution_count": 8,
   "metadata": {
    "collapsed": false,
    "solution": "Exercise 1"
   },
   "outputs": [
    {
     "name": "stdout",
     "output_type": "stream",
     "text": [
      "Event Coding from 3:20:5 to 5:15:3\n"
     ]
    }
   ],
   "source": [
    "class Time:\n",
    "    def __init__(self, h, m, s):\n",
    "        self.hour, self.minute, self.second = h, m, s\n",
    "    def __str__(self):\n",
    "        return '{}:{}:{}'.format(self.hour, self.minute, self.second)\n",
    "class Event():\n",
    "    def __init__(self, n = '', s = Time(0, 0, 0), e = Time(0, 0, 0)):\n",
    "        self.name = n\n",
    "        self.start = s\n",
    "        self.end = e\n",
    "        \n",
    "    def __str__(self):\n",
    "        return 'Event {} from {} to {}'.format(self.name, self.start, self.end)\n",
    "print(Event('Coding', Time(3, 20, 5), Time(5, 15, 3)))"
   ]
  },
  {
   "cell_type": "markdown",
   "metadata": {
    "is_question": true,
    "problem": "Exercise 2"
   },
   "source": [
    "### Exercise\n",
    "\n",
    "Write a `duration` method that returns the duration of the `Event` in minutes."
   ]
  },
  {
   "cell_type": "code",
   "execution_count": 16,
   "metadata": {
    "collapsed": false,
    "solution": "Exercise 2"
   },
   "outputs": [
    {
     "ename": "TypeError",
     "evalue": "__init__() takes exactly 4 arguments (1 given)",
     "output_type": "error",
     "traceback": [
      "\u001b[1;31m---------------------------------------------------------------------------\u001b[0m",
      "\u001b[1;31mTypeError\u001b[0m                                 Traceback (most recent call last)",
      "\u001b[1;32m<ipython-input-16-a0d21465da47>\u001b[0m in \u001b[0;36m<module>\u001b[1;34m()\u001b[0m\n\u001b[0;32m     40\u001b[0m \u001b[0mtime2\u001b[0m\u001b[1;33m.\u001b[0m\u001b[0mminute\u001b[0m \u001b[1;33m=\u001b[0m \u001b[1;36m2\u001b[0m\u001b[1;33m\u001b[0m\u001b[0m\n\u001b[0;32m     41\u001b[0m \u001b[0mtime2\u001b[0m\u001b[1;33m.\u001b[0m\u001b[0msecond\u001b[0m \u001b[1;33m=\u001b[0m \u001b[1;36m2\u001b[0m\u001b[1;33m\u001b[0m\u001b[0m\n\u001b[1;32m---> 42\u001b[1;33m \u001b[0mevent\u001b[0m \u001b[1;33m=\u001b[0m \u001b[0mEvent\u001b[0m\u001b[1;33m(\u001b[0m\u001b[1;33m)\u001b[0m\u001b[1;33m\u001b[0m\u001b[0m\n\u001b[0m\u001b[0;32m     43\u001b[0m \u001b[0mevent\u001b[0m\u001b[1;33m.\u001b[0m\u001b[0mname\u001b[0m \u001b[1;33m=\u001b[0m \u001b[1;34m'event'\u001b[0m\u001b[1;33m\u001b[0m\u001b[0m\n\u001b[0;32m     44\u001b[0m \u001b[0mevent\u001b[0m\u001b[1;33m.\u001b[0m\u001b[0mstart\u001b[0m \u001b[1;33m=\u001b[0m \u001b[0mtime1\u001b[0m\u001b[1;33m\u001b[0m\u001b[0m\n",
      "\u001b[1;31mTypeError\u001b[0m: __init__() takes exactly 4 arguments (1 given)"
     ]
    }
   ],
   "source": [
    "class Time(object):\n",
    "    \"\"\"Represents the time of day.\n",
    "       \n",
    "    attributes: hour, minute, second\n",
    "    \"\"\"\n",
    "    def __init__(self, hour=0, minute=0, second=0):\n",
    "        self.hour = hour\n",
    "        self.minute = minute\n",
    "        self.second = second\n",
    "\n",
    "    def __str__(self):\n",
    "        return '%.2d:%.2d:%.2d' % (self.hour, self.minute, self.second)\n",
    "\n",
    "class Event(object):\n",
    "    \"\"\"Represents an event\n",
    "    \n",
    "    attributes: name, start (time), end (time)\n",
    "    \"\"\"\n",
    "    def __init__(object,name,start,end):\n",
    "        this.name = name;\n",
    "        this.start = start;\n",
    "        this.end = end;\n",
    "    \n",
    "    def __str__(object):\n",
    "        string = this.name + 'from' + str(this.start) + 'to' + str(this.end)\n",
    "        print string\n",
    "        \n",
    "    def duration(object):\n",
    "        hours = (this.end.hour - this.start.end)*60\n",
    "        minutes = this.end.minute - this.start.minute\n",
    "        seconds = (this.end.second - this.start.second)/60.0\n",
    "        print hours+minutes+seconds\n",
    "\n",
    "time1 = Time()\n",
    "time1.hour = 1\n",
    "time1.minute = 1\n",
    "time1.second = 1\n",
    "time2 = Time()\n",
    "time2.hour = 2\n",
    "time2.minute = 2\n",
    "time2.second = 2\n",
    "event = Event()\n",
    "event.name = 'event'\n",
    "event.start = time1\n",
    "event.end = time2\n",
    "event.duration()"
   ]
  },
  {
   "cell_type": "code",
   "execution_count": null,
   "metadata": {
    "collapsed": true,
    "solution": "Exercise 2"
   },
   "outputs": [],
   "source": [
    "# did it in the above module, so this doesn't get too unweildy"
   ]
  },
  {
   "cell_type": "code",
   "execution_count": 20,
   "metadata": {
    "collapsed": false,
    "solution": "Exercise 2"
   },
   "outputs": [
    {
     "name": "stdout",
     "output_type": "stream",
     "text": [
      "02:01:04\n"
     ]
    }
   ],
   "source": [
    "#Taking Allan's nice time object as a base, not reimplementing. Expanding functionality.\n",
    "class Time(object):\n",
    "    \"\"\"Represents the time of day.\n",
    "       \n",
    "    attributes: hour, minute, second\n",
    "    \"\"\"\n",
    "    def __init__(self, hour=0, minute=0, second=0):\n",
    "        self.hour = hour\n",
    "        self.minute = minute\n",
    "        self.second = second\n",
    "\n",
    "    def __str__(self):\n",
    "        return '%.2d:%.2d:%.2d' % (self.hour, self.minute, self.second)\n",
    "\n",
    "    def print_time(self):\n",
    "        print str(self)\n",
    "\n",
    "    def time_to_int(self):\n",
    "        \"\"\"Computes the number of seconds since midnight.\"\"\"\n",
    "        if self == None:\n",
    "            return 0\n",
    "        minutes = self.hour * 60 + self.minute\n",
    "        seconds = minutes * 60 + self.second\n",
    "        return seconds\n",
    "\n",
    "    def is_after(self, other):\n",
    "        \"\"\"Returns True if t1 is after t2; false otherwise.\"\"\"\n",
    "        return self.time_to_int() > other.time_to_int()\n",
    "\n",
    "    def __add__(self, other):\n",
    "        \"\"\"Adds two Time objects or a Time object and a number.\n",
    "\n",
    "        other: Time object or number of seconds\n",
    "        \"\"\"\n",
    "        if isinstance(other, Time):\n",
    "            return self.add_time(other)\n",
    "        else:\n",
    "            return self.increment(other)\n",
    "\n",
    "    def __radd__(self, other):\n",
    "        \"\"\"Adds two Time objects or a Time object and a number.\"\"\"\n",
    "        return self.__add__(other)\n",
    "\n",
    "    def add_time(self, other):\n",
    "        \"\"\"Adds two time objects.\"\"\"\n",
    "        assert self.is_valid() and other.is_valid()\n",
    "        seconds = self.time_to_int() + other.time_to_int()\n",
    "        return int_to_time(seconds)\n",
    "\n",
    "    def increment(self, seconds):\n",
    "        \"\"\"Returns a new Time that is the sum of this time and seconds.\"\"\"\n",
    "        seconds += self.time_to_int()\n",
    "        return int_to_time(seconds)\n",
    "\n",
    "    def is_valid(self):\n",
    "        \"\"\"Checks whether a Time object satisfies the invariants.\"\"\"\n",
    "        if self.hour < 0 or self.minute < 0 or self.second < 0:\n",
    "            return False\n",
    "        if self.minute >= 60 or self.second >= 60:\n",
    "            return False\n",
    "        return True\n",
    "    def __sub__(self, other):\n",
    "        if isinstance(other, Time):\n",
    "            return self.sub_time(other)\n",
    "        else:\n",
    "            return self.decrement(other)\n",
    "        \n",
    "    def __rsub__(self, other):\n",
    "        \"\"\"subtracts two Time objects or a Time object and a number.\"\"\"\n",
    "        return self.__sub__(other)\n",
    "    \n",
    "    def decrement(self, seconds):\n",
    "        \"\"\"Returns a new Time that is the difference of this time and seconds.\"\"\"\n",
    "        seconds -= self.time_to_int()\n",
    "        return int_to_time(seconds) \n",
    "    \n",
    "    def sub_time(self, other):\n",
    "        \"\"\"subtracts two time objects.\"\"\"\n",
    "        assert self.is_valid() and other.is_valid()\n",
    "        seconds = abs(self.time_to_int() - other.time_to_int())\n",
    "        return int_to_time(seconds)  \n",
    "    \n",
    "    def __cmp__(self, other):\n",
    "        if other == None or self.time_to_int() > other.time_to_int():\n",
    "            return 1\n",
    "        elif self == None or self.time_to_int() < other.time_to_int():\n",
    "            return -1\n",
    "        else:\n",
    "            return 0\n",
    "    \n",
    "\n",
    "def int_to_time(seconds):\n",
    "    \"\"\"Makes a new Time object.\n",
    "\n",
    "    seconds: int seconds since midnight.\n",
    "    \"\"\"\n",
    "    minutes, second = divmod(seconds, 60)\n",
    "    hour, minute = divmod(minutes, 60)\n",
    "    time = Time(hour, minute, second)\n",
    "    return time\n",
    "\n",
    "    \n",
    "class Event(object):\n",
    "    \"\"\"an event with attributes name, start and end\"\"\"\n",
    "    def __init__(self, name = \"Unspecified\", start = None, end = None):\n",
    "        \"\"\"Default event is unspecified starting at midight with a duration of half an hour\"\"\"\n",
    "        self.name = name\n",
    "        if start == None:\n",
    "            start = Time()\n",
    "        self.start = start\n",
    "        if end == None:\n",
    "            end = start + 1800\n",
    "        self.end = end\n",
    "    \n",
    "    def __str__(self):\n",
    "        return '{}:{} to {}' .format(self.name, self.start, self.end)\n",
    "    \n",
    "    def duration(self):\n",
    "        return self.end - self.start\n",
    "        \n",
    "        \n",
    "class Agenda(object):\n",
    "    \"\"\"A list of events\"\"\"\n",
    "    def __init__(self, schedule = None):\n",
    "        if schedule == None:\n",
    "            schedule = []\n",
    "        self.schedule = schedule\n",
    "        \n",
    "    def print_agenda(self):\n",
    "        print sorted(self.schedule, key = event.start)\n",
    "        \n",
    "    \n",
    "a = Event()\n",
    "b = Event('Reading Journal', Time(4,8,15), Time(6,9,19))\n",
    "print b.duration()"
   ]
  },
  {
   "cell_type": "code",
   "execution_count": 14,
   "metadata": {
    "collapsed": false,
    "solution": "Exercise 2"
   },
   "outputs": [
    {
     "name": "stdout",
     "output_type": "stream",
     "text": [
      "Softdes from 01:30:00 to 03:10:00\n",
      "Duration: 100 minutes\n"
     ]
    }
   ],
   "source": [
    "class Time(object):\n",
    "    \"\"\"\n",
    "    Represents the time of day\n",
    "    \n",
    "    attributes: hour, minute, second\n",
    "    \n",
    "    \"\"\"\n",
    "    def __init__(self, hour, minute, second):\n",
    "        self.hour = hour\n",
    "        self.minute = minute\n",
    "        self.second = second\n",
    "                       \n",
    "    def __str__(self):\n",
    "        return \"{:02}:{:02}:{:02}\".format(self.hour, self.minute, self.second)\n",
    "    \n",
    "class Event(object):\n",
    "    def __init__(self, name, start, end):\n",
    "        self.name = name\n",
    "        self.start = start\n",
    "        self.end = end\n",
    "        \n",
    "    def __str__(self):\n",
    "        return '{} from {} to {}'.format(self.name, self.start, self.end)\n",
    "    \n",
    "    def __duration__(self):\n",
    "        calc = (t2.hour - t1.hour)*60 + (t2.minute - t1.minute) + (t2.second - t1.second)/60\n",
    "        return 'Duration: {} minutes'.format(calc)\n",
    "    \n",
    "    \n",
    "\n",
    "    \n",
    "\n",
    "        \n",
    "t1 = Time(1,30,0)  \n",
    "t2 = Time(3,10,0)\n",
    "e1 = Event('Softdes', t1, t2)\n",
    "print e1\n",
    "print e1.__duration__()"
   ]
  },
  {
   "cell_type": "code",
   "execution_count": 31,
   "metadata": {
    "collapsed": false,
    "solution": "Exercise 2"
   },
   "outputs": [
    {
     "name": "stdout",
     "output_type": "stream",
     "text": [
      "45.0\n"
     ]
    }
   ],
   "source": [
    "class Time (object):\n",
    "    def __init__(self, hour=0, minute=0, second=0):\n",
    "        self.hour = hour\n",
    "        self.minute = minute\n",
    "        self.second = second\n",
    "    def __str__(self):\n",
    "        return '%.2d:%.2d:%.2d' % (self.hour, self.minute, self.second)\n",
    "    def time_to_int(self):\n",
    "        return (self.hour*3600 + self.minute*60 + self.second)\n",
    "\n",
    "class Event (object):\n",
    "    \"\"\"Represents an event with name, start, and stop time.\"\"\"\n",
    "    def __init__(self, name = 'Title', start = 0, end = 0):\n",
    "        self.name = name\n",
    "        self.start = start\n",
    "        self.end = end\n",
    "    def __str__(self):\n",
    "        return '%s: From %s to %s' %(self.name, self.start, self.end)\n",
    "    def duration(self):\n",
    "        start_seconds = self.start.hour*3600 + self.start.minute*60 + self.start.second\n",
    "        end_seconds = self.end.hour*3600 + self.end.minute*60 + self.end.second\n",
    "        duration = float(end_seconds - start_seconds)/60\n",
    "        return duration\n",
    "        \n",
    "event = Event('Meeting', Time(9,45), Time(10,30))\n",
    "print event.duration()\n",
    "    "
   ]
  },
  {
   "cell_type": "code",
   "execution_count": 13,
   "metadata": {
    "collapsed": false,
    "solution": "Exercise 2"
   },
   "outputs": [
    {
     "name": "stdout",
     "output_type": "stream",
     "text": [
      "SoftDes duration is 180.0 minutes.\n",
      "MechSolids duration is 210.0 minutes.\n"
     ]
    }
   ],
   "source": [
    "class Time(object):\n",
    "    \"\"\"\n",
    "    Represents the time of day.   \n",
    "    Attributes: hour, minute, second\n",
    "    \"\"\"\n",
    "    \n",
    "    def __init__(self, hour=5, minute=0, second=0):\n",
    "        self.hour = hour\n",
    "        self.minute = minute\n",
    "        self.second = second\n",
    "\n",
    "    def __str__(self): \n",
    "        return \"{:02}:{:02}:{:02}\".format(self.hour,self.minute, self.second)\n",
    "\n",
    "\n",
    "class Event(object):\n",
    "    def __init__(self, name = None, start = Time(0,0,0), end = Time(23,59,59)):\n",
    "        self.name = name\n",
    "        self.start = start\n",
    "        self.end = end\n",
    "    def __str__(self):\n",
    "        return \"{} begins at {} and ends at {}\".format(self.name, self.start, self.end)\n",
    "\n",
    "    def duration(self):\n",
    "        #yeah this could have been shorter, but my brain is tired and\n",
    "        #the logic here is spelled out pretty clearly!\n",
    "        \n",
    "        sec_start = self.start.second\n",
    "        min_start = self.start.minute\n",
    "        hour_start = self.start.hour\n",
    "    \n",
    "        sec_end = self.end.second\n",
    "        min_end = self.end.minute\n",
    "        hour_end = self.end.hour\n",
    "    \n",
    "        hours = hour_end - hour_start\n",
    "        hours_to_min = hours*60.0\n",
    "    \n",
    "        seconds = sec_end-sec_start\n",
    "        seconds_to_min = seconds/60.0\n",
    "    \n",
    "        minutes = (min_end - min_start) + seconds_to_min + hours_to_min\n",
    "    \n",
    "        return minutes\n",
    "\n",
    "\n",
    "t1a = Time(2,0,0)\n",
    "t2a = Time(5,0,0)\n",
    "hwa = Event('SoftDes', t1a, t2a)\n",
    "\n",
    "t1b = Time(7,30,0)\n",
    "t2b = Time(11,0,0)\n",
    "hwb = Event('MechSolids', t1b, t2b)\n",
    "\n",
    "print hwa.name, \"duration is\" ,hwa.duration(), \"minutes.\"\n",
    "print hwb.name, \"duration is\" ,hwb.duration(), \"minutes.\""
   ]
  },
  {
   "cell_type": "code",
   "execution_count": 21,
   "metadata": {
    "collapsed": false,
    "solution": "Exercise 2"
   },
   "outputs": [
    {
     "name": "stdout",
     "output_type": "stream",
     "text": [
      "<bound method Event.duration of <__main__.Event object at 0x104aeadd0>>\n"
     ]
    }
   ],
   "source": [
    "class Event(object):\n",
    "    def __init__ (self, name, start, end):\n",
    "        self.name = str(name)\n",
    "        self.start = start\n",
    "        self.end = end\n",
    "    def __str__ (self):\n",
    "        return 'An event called {} is scheduled to begin at {} and end at {} )'.format(self.name, self.start, self.end)\n",
    "    def duration(self):\n",
    "        self.start = starting_time\n",
    "        self.end = ending_time\n",
    "        if starting_time.hour == ending_time.hour:\n",
    "            mins = ending_time.minute - starting_time.minute\n",
    "            return mins\n",
    "        elif starting_time.hour < ending_time.hour:\n",
    "            hours = ending_time.hour - starting_time.hour\n",
    "            hourstomin = hours * 60.0\n",
    "            minsonly = ending_time.minute - starting_time.minute\n",
    "            mins = hourstomin + minsonly\n",
    "            return mins\n",
    "        else:\n",
    "            return \"this isn't a valid starting and ending time - did you get them mixed up (things can't end before they've started\"\n",
    "class Time(object):\n",
    "    def __init__ (self, hour, minute, second):\n",
    "        self.hour = float(hour)\n",
    "        self.minute = float(minute)\n",
    "        self.second = float(second)\n",
    "    def __str__(self):\n",
    "        return 'Time is {}:{}:{}'.format(self.hour, self.minute, self.second)\n",
    "time1 = Time(1,30,0)\n",
    "time2 = Time(2,22,22)\n",
    "birthdayparty = Event('Birthday Party', time1, time2)\n",
    "length_bday_party = birthdayparty.duration\n",
    "print length_bday_party"
   ]
  },
  {
   "cell_type": "code",
   "execution_count": 5,
   "metadata": {
    "collapsed": false,
    "solution": "Exercise 2"
   },
   "outputs": [
    {
     "name": "stdout",
     "output_type": "stream",
     "text": [
      "Birthday starts at 00:00:00 and ends at 01:00:00\n",
      "60.0\n"
     ]
    }
   ],
   "source": [
    "class Time(object):\n",
    "    def __init__(self, hour=0, minute=0, second=0):\n",
    "        self.hour = hour\n",
    "        self.minute = minute\n",
    "        self.second = second\n",
    "    def __str__(self):\n",
    "        return '%.2d:%.2d:%.2d' % (self.hour, self.minute, self.second)\n",
    "    \n",
    "class Event(object):\n",
    "    def __init__(self, name = '', start = Time(0, 0, 0), end = Time(0, 0, 0)):\n",
    "        self.name = name\n",
    "        self.start = start\n",
    "        self.end = end\n",
    "    def __str__(self):\n",
    "        return '{} starts at {} and ends at {}'.format(self.name, self.start, self.end)\n",
    "    def duration(self):\n",
    "        t1 = self.start\n",
    "        t2 = self.end\n",
    "        minutes = 60*(t2.hour - t1.hour) #hours from both times converted to minutes\n",
    "        minutes += (t2.minute - t1.minute) #adding the number of minutes\n",
    "        minutes += (t2.second - t1.second)/60.0 #adding number of seconds\n",
    "        return minutes\n",
    "t1 = Time(0, 0, 0)\n",
    "t2 = Time(1, 0, 0)\n",
    "e = Event('Birthday', t1, t2)\n",
    "print e\n",
    "print e.duration()"
   ]
  },
  {
   "cell_type": "code",
   "execution_count": 15,
   "metadata": {
    "collapsed": false,
    "solution": "Exercise 2"
   },
   "outputs": [
    {
     "name": "stdout",
     "output_type": "stream",
     "text": [
      "01:30:00\n"
     ]
    }
   ],
   "source": [
    "def time_to_int(time):\n",
    "        minutes = time.hour * 60 + time.minute\n",
    "        seconds = minutes * 60 + time.second\n",
    "        return seconds\n",
    "    \n",
    "def int_to_time(seconds):\n",
    "        time = Time()\n",
    "        minutes, time.second = divmod(seconds, 60)\n",
    "        time.hour, time.minute = divmod(minutes, 60)\n",
    "        return time\n",
    "\n",
    "class Event(object):\n",
    "    def __init__(self, name, start, end):\n",
    "        self.name = name\n",
    "        self.start = start\n",
    "        self.end = end\n",
    "    \n",
    "    def is_after(t1,t2):\n",
    "        time1 = (t1.hour,t1.minute,t1.second)\n",
    "        time2 = (t2.hour,t2.minute,t2.second)\n",
    "        return time1 > time2\n",
    "\n",
    "    def __str__(self):\n",
    "        return self.name + ' starts at ' + self.start.__str__() + ' and ends at ' + self.end.__str__()\n",
    "    \n",
    "    \n",
    "    def duration(self):\n",
    "        duration = time_to_int(self.end) - time_to_int(self.start)\n",
    "        return int_to_time(duration)\n",
    "\n",
    "start_time = Time(2,0,0)\n",
    "end_time = Time(3,30,0)\n",
    "\n",
    "softdes = Event('softdes',start_time,end_time)\n",
    "\n",
    "print softdes.duration()"
   ]
  },
  {
   "cell_type": "code",
   "execution_count": 7,
   "metadata": {
    "collapsed": false,
    "solution": "Exercise 2"
   },
   "outputs": [
    {
     "name": "stdout",
     "output_type": "stream",
     "text": [
      "481\n"
     ]
    }
   ],
   "source": [
    "class Event:\n",
    "    '''This is a event for a calender'''\n",
    "    def __init__(self,name,start,end):\n",
    "        self.name=name\n",
    "        self.start=start\n",
    "        self.end=end\n",
    "    def duration(self):\n",
    "        start=self.start.time_to_int()\n",
    "        end=self.end.time_to_int()\n",
    "        dur=(end-start)/60\n",
    "        return dur\n",
    "        \n",
    "p=Event('Birthday Party',Time(9,2,3),Time(17,3,4))\n",
    "print p.duration()"
   ]
  },
  {
   "cell_type": "code",
   "execution_count": 40,
   "metadata": {
    "collapsed": false,
    "solution": "Exercise 2"
   },
   "outputs": [
    {
     "name": "stdout",
     "output_type": "stream",
     "text": [
      "90\n"
     ]
    }
   ],
   "source": [
    "class Event(object):\n",
    "    \"\"\"\n",
    "    This will create an event with start and end time attributes\n",
    "    \"\"\"\n",
    "    def __init__(self, name=None, start=None, end=None):\n",
    "        if name == None:\n",
    "            name = ''\n",
    "        self.name = name\n",
    "        if start == None:\n",
    "            start = Time()\n",
    "        self.start = start\n",
    "        if end == None:\n",
    "            end = Time()\n",
    "        self.end = end\n",
    "    def __str__(self):\n",
    "        return \"Event Name: \" + self.name + \"\\n     Start: \" + str(self.start)+ \"\\n       End: \" + str(self.end)\n",
    "    def duration(self):\n",
    "        startseconds = self.start.time_to_int()\n",
    "        endseconds = self.end.time_to_int()\n",
    "        length = endseconds - startseconds\n",
    "        time = Time()\n",
    "        time = time.int_to_time(length)\n",
    "        return length/60\n",
    "\n",
    "class Time(object):\n",
    "    \"\"\"Represents the time of day.\n",
    "    \n",
    "    attributes: hour, minute, second\n",
    "    \"\"\"\n",
    "    def __init__(self, hour=0, minute=0, second=0):\n",
    "        self.hour = hour\n",
    "        self.minute = minute\n",
    "        self.second = second\n",
    "    def time_to_int(time):\n",
    "        minutes = time.hour * 60 + time.minute\n",
    "        seconds = minutes * 60 + time.second\n",
    "        return seconds\n",
    "    def int_to_time(self, seconds):\n",
    "        time = Time()\n",
    "        minutes, time.second = divmod(seconds, 60)\n",
    "        time.hour, time.minute = divmod(minutes, 60)\n",
    "        return time\n",
    "    def is_after(t1, t2):\n",
    "        seconds1 = time_to_int(t1)\n",
    "        seconds2 = time_to_int(t2)\n",
    "        return seconds1 >= seconds2\n",
    "    def __str__(self):\n",
    "        return '%.2d:%.2d:%.2d' % (self.hour, self.minute, self.second)\n",
    "time1 = Time(4,30,0)\n",
    "time2 = Time(6,0,0)\n",
    "myevent = Event(\"REVO\", time1, time2)\n",
    "print myevent.duration()"
   ]
  },
  {
   "cell_type": "code",
   "execution_count": null,
   "metadata": {
    "collapsed": true,
    "solution": "Exercise 2"
   },
   "outputs": [],
   "source": [
    "class Event(object):\n",
    "    def __init__(self,start = Time(),end = Time()):\n",
    "        if start.lateness() <= end.lateness():\n",
    "            self.start = start\n",
    "            self.end = end\n",
    "        else:\n",
    "            self.start = end\n",
    "            self.end = start\n",
    "    def __str__(self):\n",
    "        return \"Event from {} to {}\".format(self.start,self.end)\n",
    "    def duration(self):\n",
    "        return (self.end.lateness()-self.start.lateness())/60.0\n",
    "    def clash(self,other):\n",
    "        return other.start.lateness()<self.start.lateness()<other.end.lateness() or self.start.lateness()<other.start.lateness()<self.end.lateness()"
   ]
  },
  {
   "cell_type": "code",
   "execution_count": 2,
   "metadata": {
    "collapsed": false,
    "solution": "Exercise 2"
   },
   "outputs": [
    {
     "name": "stdout",
     "output_type": "stream",
     "text": [
      "Title:Meeting A, Start:10:30, End:10:50, Duration:20 mins\n"
     ]
    }
   ],
   "source": [
    "class Event(object):\n",
    "    def __init__(self, name, start, end):\n",
    "        self.name = name\n",
    "        self.start = start\n",
    "        self.end = end\n",
    "    def duration(self):\n",
    "        return (self.end.hour - self.start.hour) * 60 + self.end.minute - self.start.minute\n",
    "    def __str__(self):\n",
    "        return 'Title:{}, Start:{}, End:{}, Duration:{} mins'.format(self.name,self.start,self.end, self.duration())\n",
    "    \n",
    "a = Event('Meeting A', Time(10, 30), Time(10, 50))\n",
    "print a\n",
    "    \n",
    "    "
   ]
  },
  {
   "cell_type": "code",
   "execution_count": 19,
   "metadata": {
    "collapsed": false,
    "solution": "Exercise 2"
   },
   "outputs": [
    {
     "name": "stdout",
     "output_type": "stream",
     "text": [
      "snack time from 00:00:01 to 23:59:59\n",
      "1439\n"
     ]
    }
   ],
   "source": [
    "class Event(object):\n",
    "    \"\"\"\n",
    "    Represents an event that occurs in a day.\n",
    "    \n",
    "    attributes: start, end, name\n",
    "    \"\"\"\n",
    "    \n",
    "    def __init__(self, start = Time(0,0,0), end = Time(0,0,0), name = \"\"):\n",
    "        self.start = start\n",
    "        self.end = end\n",
    "        self.name = name\n",
    "        \n",
    "    def __str__(self):\n",
    "        return '%s from %s to %s' % (self.name, self.start, self.end)\n",
    "    \n",
    "    def duration(self):\n",
    "        \"\"\"\n",
    "        Returns the duration of the event in minutes (rounding down)\n",
    "        \"\"\"\n",
    "        start_seconds = time_to_int(self.start)\n",
    "        end_seconds = time_to_int(self.end)\n",
    "        \n",
    "        return (end_seconds-start_seconds)/60\n",
    "    \n",
    "myEvent = Event(Time(0,0,1),Time(23, 59, 59), 'snack time')\n",
    "print myEvent\n",
    "print myEvent.duration()"
   ]
  },
  {
   "cell_type": "code",
   "execution_count": 8,
   "metadata": {
    "collapsed": false,
    "solution": "Exercise 2"
   },
   "outputs": [
    {
     "name": "stdout",
     "output_type": "stream",
     "text": [
      "start <class '__main__.Time'>\n",
      "end <class '__main__.Time'>\n",
      "30.0\n"
     ]
    }
   ],
   "source": [
    "class Time(object):\n",
    "    \"\"\"Represents the time of day.\n",
    "       \n",
    "    attributes: hour, minute, second\n",
    "    \"\"\"\n",
    "    def __init__(self, hour=0, minute=0, second=0):\n",
    "        minutes = hour * 60 + minute\n",
    "        self.seconds = minutes * 60 + second\n",
    "\n",
    "    def __str__(self):\n",
    "        minutes, second = divmod(self.seconds, 60)\n",
    "        hour, minute = divmod(minutes, 60)\n",
    "        return '%.2d:%.2d:%.2d' % (hour, minute, second)\n",
    "\n",
    "    def print_time(self):\n",
    "        print str(self)\n",
    "\n",
    "    def time_to_int(self):\n",
    "        \"\"\"Computes the number of seconds since midnight.\"\"\"\n",
    "        return self.seconds        \n",
    "\n",
    "    def is_after(self, other):\n",
    "        \"\"\"Returns True if t1 is after t2; false otherwise.\"\"\"\n",
    "        return self.seconds > other.seconds\n",
    "\n",
    "    def __add__(self, other):\n",
    "        \"\"\"Adds two Time objects or a Time object and a number.\n",
    "\n",
    "        other: Time object or number of seconds\n",
    "        \"\"\"\n",
    "        if isinstance(other, Time):\n",
    "            return self.add_time(other)\n",
    "        else:\n",
    "            return self.increment(other)\n",
    "    \n",
    "    def __sub__(self, other):\n",
    "        return Time(0, 0, self.time_to_int() - other.time_to_int())\n",
    "\n",
    "    def __radd__(self, other):\n",
    "        \"\"\"Adds two Time objects or a Time object and a number.\"\"\"\n",
    "        return self.__add__(other)\n",
    "\n",
    "    def add_time(self, other):\n",
    "        \"\"\"Adds two time objects.\"\"\"\n",
    "        assert self.is_valid() and other.is_valid()\n",
    "        seconds = self.seconds + other.seconds\n",
    "        return int_to_time(seconds)\n",
    "\n",
    "    def increment(self, seconds):\n",
    "        \"\"\"Returns a new Time that is the sum of this time and seconds.\"\"\"\n",
    "        seconds += self.seconds\n",
    "        return int_to_time(seconds)\n",
    "\n",
    "    def is_valid(self):\n",
    "        \"\"\"Checks whether a Time object satisfies the invariants.\"\"\"\n",
    "        return self.seconds >= 0 and self.seconds < 24*60*60\n",
    "\n",
    "\n",
    "\n",
    "class Event(object):\n",
    "    \"\"\"Represents an even that taken place in time.\n",
    "    \n",
    "    attributes: name, start, end\n",
    "    \"\"\"\n",
    "    \n",
    "    def __init__(self, name, start, end):\n",
    "        \"\"\" create an event with the specified name and start and end times specified as Time objects \"\"\"\n",
    "        self.name = name\n",
    "        self.start = start\n",
    "        self.end = end\n",
    "        print \"start\", type(self.start)        \n",
    "        print \"end\", type(self.end)\n",
    "        \n",
    "    def __str__(self):\n",
    "        return \"The event {} begins at {} and ends at {}.\".format(self.name, self.start, self.end)\n",
    "    \n",
    "    def duration(self):\n",
    "        \"\"\"Returns the duration of an event.\"\"\"\n",
    "        difference = self.end - self.start\n",
    "        return difference.time_to_int() / 60.0\n",
    "\n",
    "event = Event('breakfast', Time(7,30,0), Time(8,0,0))\n",
    "print event.duration()"
   ]
  },
  {
   "cell_type": "code",
   "execution_count": 34,
   "metadata": {
    "collapsed": false,
    "solution": "Exercise 2"
   },
   "outputs": [
    {
     "name": "stdout",
     "output_type": "stream",
     "text": [
      "Party starts at: 12:30:00 and ends at 15:30:00\n",
      "180\n"
     ]
    }
   ],
   "source": [
    "def int_to_time(seconds):\n",
    "    time = Time()\n",
    "    minutes, time.seconds = divmod(seconds, 60)\n",
    "    time.hour, time.minute = divmod(minutes, 60)\n",
    "    return time\n",
    "\n",
    "class Time(object):\n",
    "    def __init__(self, hour=0, minute=0, second=0):\n",
    "        self.hour = hour\n",
    "        self.minute = minute\n",
    "        self.second = second\n",
    "    def time_to_int(self):\n",
    "        minutes = self.hour*60 + self.minute\n",
    "        seconds = minutes*60 + self.second\n",
    "        return seconds\n",
    "    def __str__(self):\n",
    "        return '%.2d:%.2d:%.2d' % (self.hour, self.minute, self.second)\n",
    "\n",
    "class Event(object):\n",
    "    def __init__(self, name, start, end):\n",
    "        self.name = name\n",
    "        self.start = start\n",
    "        self.end = end\n",
    "    def duration(self):\n",
    "        return divmod(self.end.time_to_int() - self.start.time_to_int(), 60)[0]\n",
    "    def __str__(self):\n",
    "        return self.name + ' starts at: ' + str(self.start) + ' and ends at ' + str(self.end)\n",
    "\n",
    "e1_start = Time(12, 30)\n",
    "e1_end = Time(15, 30)\n",
    "e1 = Event('Party', e1_start, e1_end)\n",
    "print(e1)\n",
    "print(e1.duration())"
   ]
  },
  {
   "cell_type": "code",
   "execution_count": 11,
   "metadata": {
    "collapsed": false,
    "solution": "Exercise 2"
   },
   "outputs": [
    {
     "name": "stdout",
     "output_type": "stream",
     "text": [
      "600\n"
     ]
    }
   ],
   "source": [
    "class Time(object):\n",
    "    \"\"\"Represents the time of day.\n",
    "       \n",
    "    attributes: hour, minute, second\n",
    "    \"\"\"\n",
    "    def __init__(self, hour=0, minute=0, second=0):\n",
    "        self.hour = hour\n",
    "        self.minute = minute\n",
    "        self.second = second\n",
    "\n",
    "    def __str__(self):\n",
    "        return '%.2d:%.2d:%.2d' % (self.hour, self.minute, self.second)\n",
    "\n",
    "    def print_time(self):\n",
    "        print str(self)\n",
    "\n",
    "    def time_to_int(self):\n",
    "        \"\"\"Computes the number of seconds since midnight.\"\"\"\n",
    "        minutes = self.hour * 60 + self.minute\n",
    "        seconds = minutes * 60 + self.second\n",
    "        return seconds\n",
    "\n",
    "    def is_after(self, other):\n",
    "        \"\"\"Returns True if t1 is after t2; false otherwise.\"\"\"\n",
    "        return self.time_to_int() > other.time_to_int()\n",
    "\n",
    "    def __add__(self, other):\n",
    "        \"\"\"Adds two Time objects or a Time object and a number.\n",
    "\n",
    "        other: Time object or number of seconds\n",
    "        \"\"\"\n",
    "        if isinstance(other, Time):\n",
    "            return self.add_time(other)\n",
    "        else:\n",
    "            return self.increment(other)\n",
    "\n",
    "    def __radd__(self, other):\n",
    "        \"\"\"Adds two Time objects or a Time object and a number.\"\"\"\n",
    "        return self.__add__(other)\n",
    "\n",
    "    def add_time(self, other):\n",
    "        \"\"\"Adds two time objects.\"\"\"\n",
    "        assert self.is_valid() and other.is_valid()\n",
    "        seconds = self.time_to_int() + other.time_to_int()\n",
    "        return int_to_time(seconds)\n",
    "\n",
    "    def increment(self, seconds):\n",
    "        \"\"\"Returns a new Time that is the sum of this time and seconds.\"\"\"\n",
    "        seconds += self.time_to_int()\n",
    "        return int_to_time(seconds)\n",
    "\n",
    "    def is_valid(self):\n",
    "        \"\"\"Checks whether a Time object satisfies the invariants.\"\"\"\n",
    "        if self.hour < 0 or self.minute < 0 or self.second < 0:\n",
    "            return False\n",
    "        if self.minute >= 60 or self.second >= 60:\n",
    "            return False\n",
    "        return True\n",
    "    \n",
    "    def __sub__(self, other):\n",
    "        return int_to_time(self.time_to_int() - other.time_to_int())\n",
    "        \n",
    "class Event(object):\n",
    "    def __init__(self, name, start, end):\n",
    "        self.name, self.start, self.end = name, start, end\n",
    "    def __str__(self):\n",
    "        return self.name.title() + ' from ' + self.start.__str__() + ' to ' + self.end.__str__()\n",
    "    def duration(self):\n",
    "        return (self.end - self.start).time_to_int()/60\n",
    "def int_to_time(seconds):\n",
    "    \"\"\"Makes a new Time object.\n",
    "\n",
    "    seconds: int seconds since midnight.\n",
    "    \"\"\"\n",
    "    minutes, second = divmod(seconds, 60)\n",
    "    hour, minute = divmod(minutes, 60)\n",
    "    time = Time(hour, minute, second)\n",
    "    return time\n",
    "\n",
    "new_event = Event('cocktail party', Time(2, 30), Time(12, 30))\n",
    "print new_event.duration()"
   ]
  },
  {
   "cell_type": "code",
   "execution_count": 31,
   "metadata": {
    "collapsed": false,
    "solution": "Exercise 2"
   },
   "outputs": [
    {
     "name": "stdout",
     "output_type": "stream",
     "text": [
      "60\n"
     ]
    }
   ],
   "source": [
    "#create time class\n",
    "class Time:\n",
    "    \"\"\" Takes as input time in hours, minutes and seconds.\n",
    "    relies on user to make sure numbers are less than 60/24 what have you\"\"\"\n",
    "    def __init__(t, hour = 0, minute = 0, second = 0):\n",
    "        t.hour = hour\n",
    "        t.minute = minute\n",
    "        t.second = second\n",
    "    def __str__(t):\n",
    "        return \"{:02}:{:02}:{:02}\".format(t.hour, t.minute, t.second)\n",
    "\n",
    "#create event class, which includes two time objects as inputs\n",
    "class Event:\n",
    "    def __init__(name, start = Time(0, 0, 0), end = None):\n",
    "        if not end:\n",
    "            end = start\n",
    "        name.start = start\n",
    "        name.end = end\n",
    "    def __str__(name):\n",
    "        return str(name.start) + ',' + str(name.end)\n",
    "    def duration(name):\n",
    "        name.start.inminutes = name.start.hour*60 + name.start.minute\n",
    "        name.end.inminutes = name.end.hour*60 + name.end.minute\n",
    "        return name.end.inminutes - name.start.inminutes\n",
    "\n",
    "event = Event(Time(5,7,59), Time(6,7,59))\n",
    "print event.duration()"
   ]
  },
  {
   "cell_type": "code",
   "execution_count": 27,
   "metadata": {
    "collapsed": false
   },
   "outputs": [
    {
     "name": "stdout",
     "output_type": "stream",
     "text": [
      "Dinner, 06:30:00 to 07:15:00, (duration: <bound method Event.duration of <__main__.Event object at 0x10950ead0>>)\n"
     ]
    }
   ],
   "source": [
    "class Time(object):\n",
    "    def __init__(self, hour = 0, minute = 0, second = 0):\n",
    "        self.hour = hour\n",
    "        self.minute = minute\n",
    "        self.second = second\n",
    "    \n",
    "    def __str__(self):\n",
    "        return '{:02}:{:02}:{:02}'.format(self.hour, self.minute, self.second)\n",
    "\n",
    "    def timeToInt(time):\n",
    "        minutes = time.hour*60 + time.minute\n",
    "        seconds = minutes*60 + time.second\n",
    "        return seconds\n",
    "\n",
    "    def intToTime(seconds):\n",
    "        time = Time()\n",
    "        minutes, time.second = divmod(seconds, 60)\n",
    "        time.hour, time.minute = divmod(minutes, 60)\n",
    "        return time\n",
    "    \n",
    "class Event(object):\n",
    "    def __init__(self, name, start = Time(), end = Time()):\n",
    "        self.name = name\n",
    "        self.start = start\n",
    "        self.end = end\n",
    "\n",
    "    def __str__(self):\n",
    "        return '{}, {} to {}'.format(self.name, self.start, self.end)\n",
    "    \n",
    "    def duration(self):\n",
    "        \"\"\" duration of an event \"\"\"\n",
    "        difference = timeToInt(self.end) - timeToInt(self.start)\n",
    "        return intToTime(difference)\n",
    "\n",
    "e = Event('Dinner', Time(6,30), Time(7,15))\n",
    "print e.duration()"
   ]
  },
  {
   "cell_type": "code",
   "execution_count": 16,
   "metadata": {
    "collapsed": false,
    "solution": "Exercise 2"
   },
   "outputs": [
    {
     "name": "stdout",
     "output_type": "stream",
     "text": [
      "Team Meeting: 02:30:00 - 04:30:00, Attendees: P&M Team, Location: Studio 318\n",
      "02:00:00\n"
     ]
    }
   ],
   "source": [
    "class Time(object):\n",
    "    \"\"\"military time of day \n",
    "    attributes: hour, minute, second\n",
    "    \"\"\"\n",
    "    def __init__(self, hour=0, minute=0, second=0):\n",
    "        self.hour = hour\n",
    "        self.minute = minute\n",
    "        self.second = second\n",
    "    def __str__(self):\n",
    "        return '%.2d:%.2d:%.2d' % (self.hour, self.minute, self.second)\n",
    "    def time_to_int(self):\n",
    "        minutes = (self.hour*60) + self.minute\n",
    "        seconds = (minutes*60) + self.second\n",
    "        return seconds\n",
    "        \n",
    "class Event(object):\n",
    "    \"\"\"event in single day calendar:\n",
    "    attributes: name, start, end\n",
    "    \"\"\"\n",
    "    def __init__(self, name = '', start = Time(), end = Time(), attendees = '', location = ''):\n",
    "        self.name = name\n",
    "        self.start = start\n",
    "        self.end = end\n",
    "        self.attendees = attendees\n",
    "        self.location = location\n",
    "    def __str__(self):\n",
    "        return '%s: %s - %s, Attendees: %s, Location: %s' % (self.name, self.start, self.end, self.attendees, self.location)\n",
    "    def duration(self):\n",
    "        duration = Time()\n",
    "        seconds = self.end.time_to_int() - self.start.time_to_int()\n",
    "        minutes, duration.second = divmod(seconds, 60)\n",
    "        duration.hour, duration.minute = divmod(minutes, 60)\n",
    "        print duration\n",
    "\n",
    "start = Time(2, 30)\n",
    "end = Time(4, 30)\n",
    "Event1 = Event('Team Meeting', start, end, 'P&M Team', 'Studio 318')\n",
    "print Event1\n",
    "Event1.duration()"
   ]
  },
  {
   "cell_type": "code",
   "execution_count": 22,
   "metadata": {
    "collapsed": false,
    "solution": "Exercise 2"
   },
   "outputs": [
    {
     "name": "stdout",
     "output_type": "stream",
     "text": [
      "party begins at 07:45 and ends at 06:00\n",
      "-105\n"
     ]
    }
   ],
   "source": [
    "class Time(object):\n",
    "    def __init__(self, hour=0,minute=0,second=0):\n",
    "        self.hour=hour\n",
    "        self.minute=minute\n",
    "        self.second=second\n",
    "    def __str__(self):\n",
    "        if self.second == 0:\n",
    "            s = (\"%.2d:%.2d\") % (self.hour,self.minute)\n",
    "        else:\n",
    "            s = (\"%.2d:%.2d:%.2d\") % (self.hour,self.minute,self.second)\n",
    "        return s\n",
    "\n",
    "class Event(object):\n",
    "    def __init__(self,name,start,end):\n",
    "        self.name = name\n",
    "        self.start = start\n",
    "        self.end = end\n",
    "    def __str__(self):\n",
    "        s= (\"%s begins at %s and ends at %s\") % (self.name, self.start, self.end)\n",
    "        return s\n",
    "    def duration(self):\n",
    "        start = self.start\n",
    "        end = self.end\n",
    "        starthr= start.hour\n",
    "        startmin=start.minute\n",
    "        endhr=end.hour\n",
    "        endmin=end.minute\n",
    "        diffhr= endhr - starthr\n",
    "        diffmin = endmin-startmin\n",
    "        duration = (diffhr * 60) + diffmin\n",
    "        return duration\n",
    "\n",
    "starttime= Time(7,45,0)\n",
    "endtime = Time(6)\n",
    "\n",
    "event = Event(\"party\", starttime,endtime)\n",
    "print event\n",
    "print event.duration()"
   ]
  },
  {
   "cell_type": "code",
   "execution_count": 107,
   "metadata": {
    "collapsed": false,
    "solution": "Exercise 2"
   },
   "outputs": [
    {
     "name": "stdout",
     "output_type": "stream",
     "text": [
      "01:40:00\n"
     ]
    }
   ],
   "source": [
    "class Event(object):\n",
    "    \"\"\"has attributes:\n",
    "    name (title for the Event)\n",
    "    start (Time object representing start time for the Event)\n",
    "    end (Time object representing end time for the Event)\n",
    "    \"\"\"\n",
    "    def __init__(self, name, start, end, location='', attendees=None):\n",
    "        self.name = name\n",
    "        self.start = start\n",
    "        self.end = end\n",
    "        self.location = location\n",
    "        if not attendees:\n",
    "            self.attendees = []\n",
    "        else:\n",
    "            self.attendees = attendees\n",
    "    \n",
    "    def __str__(self):\n",
    "        x = [self.name + ' ' + object.__str__(self), '    From {} until {}'.format(Time.__str__(self.start), Time.__str__(self.end))]\n",
    "        if self.location:\n",
    "            x.append('    Location: {}'.format(self.location))\n",
    "        if self.attendees:\n",
    "            x.append('    Attendees: {}'.format(self.attendees))\n",
    "        return '\\n'.join(x)\n",
    "    \n",
    "    def duration(self):\n",
    "        return int_to_time(Time.time_to_int(self.end) - Time.time_to_int(self.start))\n",
    "\n",
    "\n",
    "beginning = Time(13, 30, 0)\n",
    "end = Time(15, 10, 0)\n",
    "class_today = Event('Software Design', beginning, end, 'AC 326', ['Ben, my advisor', 'Paul, an instructor', 'Oliver, likely an instructor', 'Interesting Oliners'])\n",
    "print Event.duration(class_today)"
   ]
  },
  {
   "cell_type": "code",
   "execution_count": 6,
   "metadata": {
    "collapsed": false,
    "solution": "Exercise 2"
   },
   "outputs": [
    {
     "name": "stdout",
     "output_type": "stream",
     "text": [
      "70.25\n"
     ]
    }
   ],
   "source": [
    "class Event():\n",
    "    def __init__(self, name, start, end):\n",
    "        self.name = name\n",
    "        self.start = start\n",
    "        self.end = end\n",
    "        \n",
    "    def __str__(self):\n",
    "        return \"{}, {}, {}\".format(self.name, self.start, self.end)\n",
    "    \n",
    "    def duration(self):\n",
    "        int_start = self.start.time_to_int()\n",
    "        int_end = self.end.time_to_int()\n",
    "        difference = (int_end - int_start) / 60.0\n",
    "        return difference\n",
    "    \n",
    "t3 = Time(12, 0, 0)\n",
    "t4 = Time(13, 10, 15)\n",
    "b = Event('lunch', t3, t4)\n",
    "print b.duration()\n",
    "        "
   ]
  },
  {
   "cell_type": "code",
   "execution_count": 4,
   "metadata": {
    "collapsed": false,
    "solution": "Exercise 2"
   },
   "outputs": [
    {
     "name": "stdout",
     "output_type": "stream",
     "text": [
      "Finding tests in NoName\n",
      "Trying:\n",
      "    chicken = Event(\"Chickenfest\", Time(8,30,15), Time(10,30,30))\n",
      "Expecting nothing\n",
      "ok\n",
      "Trying:\n",
      "    print duration(chicken)\n",
      "Expecting:\n",
      "    Chickenfest will take 120.25 minutes\n",
      "ok\n"
     ]
    }
   ],
   "source": [
    "def duration(Event):\n",
    "    \"\"\"\n",
    "    This method basically accesses the Time objects in the Event object and does some computation to find the difference\n",
    "    in minutes. Technically speaking, you could have already made a method to make this a lot easier in the Time class, but\n",
    "    for the purposes of this exercise, I'm going to do it all here.\n",
    "    \n",
    "    Tests to show functionality\n",
    "    >>> chicken = Event(\"Chickenfest\", Time(8,30,15), Time(10,30,30))\n",
    "    >>> print duration(chicken)\n",
    "    Chickenfest will take 120.25 minutes\n",
    "    \"\"\"\n",
    "    time_spent = (Event.end.hour-Event.start.hour)*60+(Event.end.minute-Event.start.minute)+(Event.end.second-Event.start.second)/60.0\n",
    "    return \"{} will take {} minutes\".format(Event.name, time_spent)\n",
    "\n",
    "\n",
    "doctest.run_docstring_examples(duration, globals(), verbose=True)"
   ]
  },
  {
   "cell_type": "code",
   "execution_count": 10,
   "metadata": {
    "collapsed": false,
    "solution": "Exercise 2"
   },
   "outputs": [
    {
     "name": "stdout",
     "output_type": "stream",
     "text": [
      "7\n"
     ]
    }
   ],
   "source": [
    "class Event(object):\n",
    "    \"\"\"Calendar application\"\"\"\n",
    "    def __init__(self, name=None, start=0, end=0):\n",
    "        self.name = name\n",
    "        self.start = start\n",
    "        self.end = end\n",
    "    def __str__(self):\n",
    "        return self.name + ' start = %d end = %d' % (self.start, self.end)\n",
    "    def duration(self):\n",
    "        return self.end - self.start\n",
    "event0 = Event('Sleep', 3, 10)\n",
    "print event0.duration()"
   ]
  },
  {
   "cell_type": "code",
   "execution_count": 45,
   "metadata": {
    "collapsed": true,
    "solution": "Exercise 2"
   },
   "outputs": [],
   "source": [
    "class Event(object):\n",
    "    def __init__(self,name='enter the name of the event',start=Time(),end=Time()):\n",
    "        self.name=name\n",
    "        self.start=start\n",
    "        self.end=end\n",
    "        \n",
    "    def __str__(self):\n",
    "        return \"{} starting at {} and going until {}\".format(self.name,self.start,self.end)\n",
    "    \n",
    "    def duration(self):\n",
    "        duration=Time(self.end.hour-self.start.hour,self.end.minute-self.start.minute,self.end.second-self.start.second)\n",
    "        return duration"
   ]
  },
  {
   "cell_type": "code",
   "execution_count": 18,
   "metadata": {
    "collapsed": false,
    "solution": "Exercise 2"
   },
   "outputs": [
    {
     "name": "stdout",
     "output_type": "stream",
     "text": [
      "90.0 minutes\n"
     ]
    }
   ],
   "source": [
    "class Event(object):\n",
    "    def __init__(self, name, start, end):\n",
    "        self.name = name\n",
    "        self.start = start\n",
    "        self.end = end\n",
    "        \n",
    "    def __str__(self):\n",
    "        start = str(self.start)\n",
    "        end = str(self.end)\n",
    "        base = '{} event starting at {} and ending at {}'\n",
    "        return base.format(self.name, start, end)  \n",
    "    \n",
    "    def duration(self):\n",
    "        delta = Time(self.end.hour - self.start.hour, self.end.minute - self.start.minute, self.end.second - self.start.second)\n",
    "        return str(delta.hour * 60 + delta.minute + float(delta.second) / 60) + ' minutes'\n",
    "    \n",
    "time1 = Time(5, 30)\n",
    "time2 = Time(7)\n",
    "event1 = Event('My birthday', time1, time2)\n",
    "print event1.duration()"
   ]
  },
  {
   "cell_type": "code",
   "execution_count": 57,
   "metadata": {
    "collapsed": false,
    "solution": "Exercise 2"
   },
   "outputs": [
    {
     "name": "stdout",
     "output_type": "stream",
     "text": [
      "Linearity: 12:04:09 to 16:00:00, duration is 235 minutes\n",
      "Linearity: 16:00:00 to 20:00:00, duration is 240 minutes\n"
     ]
    }
   ],
   "source": [
    "class Event (object): \n",
    "    \"\"\"Event to go in a calendar.\"\"\"\n",
    "    \n",
    "    def __init__(self, name, start, end): \n",
    "        self.name = name \n",
    "        self.start = start \n",
    "        self.end = end \n",
    "        self.duration = (self.end.seconds - self.start.seconds)/60\n",
    "        \n",
    "    def __str__ (self): \n",
    "        return \"{}: {} to {}, duration is {} minutes\".format(self.name, self.start, self.end, self.duration)\n",
    "    \n",
    "    def __cmp__ (self, other): \n",
    "        if other.start > self.start: \n",
    "            return -1\n",
    "        elif self.start > other.start: \n",
    "            return 1\n",
    "        else: \n",
    "            return 0 \n",
    "\n",
    "start1 = Time(12,4,9)\n",
    "end1 = Time(16,0,0)\n",
    "\n",
    "start2 = Time(16, 0, 0)\n",
    "end2 = Time(20, 0, 0)\n",
    "\n",
    "Event1 = Event(\"Linearity\", start1, end1)\n",
    "Event2 = Event(\"Linearity\", start2, end2)\n",
    "\n",
    "print Event1\n",
    "print Event2"
   ]
  },
  {
   "cell_type": "code",
   "execution_count": 36,
   "metadata": {
    "collapsed": false,
    "solution": "Exercise 2"
   },
   "outputs": [
    {
     "name": "stdout",
     "output_type": "stream",
     "text": [
      "120 minutes\n",
      "None\n"
     ]
    }
   ],
   "source": [
    "class Event(object):\n",
    "    \n",
    "    def __init__(self, title='title', start=0, end =0):\n",
    "        self.title = title\n",
    "        self.start = start\n",
    "        self.end = end\n",
    "        \n",
    "    def duration(self):\n",
    "        total_time = self.end*60 - self.start*60\n",
    "        print total_time, 'minutes'\n",
    "    \n",
    "    def __str__(self):\n",
    "        print self.title,\n",
    "        print \"from\", self.start, \"to\", self.end\n",
    "    \n",
    "    \n",
    "event = Event('food', 1, 3)\n",
    "print event.duration()"
   ]
  },
  {
   "cell_type": "code",
   "execution_count": 3,
   "metadata": {
    "collapsed": false,
    "solution": "Exercise 2"
   },
   "outputs": [
    {
     "name": "stdout",
     "output_type": "stream",
     "text": [
      "170.833333333\n"
     ]
    }
   ],
   "source": [
    "class Time(object):\n",
    "    \"\"\"Represents a time.\n",
    "    Attributes: Hours, minutes, seconds\"\"\"\n",
    "\n",
    "    def __init__(self, hours=0, minutes=0, seconds=0):\n",
    "        self.hours = hours\n",
    "        self.minutes = minutes\n",
    "        self.seconds = seconds\n",
    "\n",
    "    def __str__(self):\n",
    "        return '%02d:%02d:%02d' % (self.hours, self.minutes, self.seconds)\n",
    "\n",
    "class Event(object):\n",
    "    \"\"\"Represents an event.\n",
    "    Attributes: Name, time\"\"\"\n",
    "\n",
    "    def __init__(self, name, start, end):\n",
    "        self.name = name\n",
    "        self.start = start\n",
    "        self.end = end\n",
    "\n",
    "    def duration(self, start, end):\n",
    "        total = 0\n",
    "        total_hours = end.hours - start.hours\n",
    "        total_minutes = end.minutes - start.minutes\n",
    "        total_seconds = end.seconds - start.seconds\n",
    "        total = float(60 * total_hours) + float(total_minutes) + float(total_seconds / 60.0)\n",
    "        return total\n",
    "\n",
    "    def __str__(self):\n",
    "        return \"Event Name: {} \\nTime of Event: {} to {}\".format(self.name, self.start, self.end)\n",
    "\n",
    "start = Time(3,30,00)\n",
    "end = Time(6,20,50)\n",
    "birthday = Event(\"Birthday Party\", start, end)\n",
    "print Event.duration(birthday, start, end)"
   ]
  },
  {
   "cell_type": "code",
   "execution_count": 18,
   "metadata": {
    "collapsed": false,
    "solution": "Exercise 2"
   },
   "outputs": [
    {
     "name": "stdout",
     "output_type": "stream",
     "text": [
      "780\n",
      "None\n"
     ]
    }
   ],
   "source": [
    "class Time(object):\n",
    "    def __init__(self, hour, minute, second):\n",
    "        self.hour = hour\n",
    "        self.minute = minute\n",
    "        self.second = second\n",
    "        \n",
    "    def __str__(self):\n",
    "        return '{:02}:{:02}:{:02}'.format(self.hour, self.minute, self.second)\n",
    "\n",
    "class Event(object):\n",
    "    def __init__(self, name, start, end):\n",
    "        self.name = name\n",
    "        self.start = start\n",
    "        self.end = end\n",
    "    def __str__(self):\n",
    "        return '{} from {} to {}'.format(self.name, self.start, self.end)\n",
    "    def duration(self):\n",
    "        total = (t2.hour - t1.hour)*60 + (t2.minute - t1.minute) + (t2.second - t1.second)/60\n",
    "        print total\n",
    "        \n",
    "    \n",
    "t1 = Time(9, 0, 0)\n",
    "t2 = Time(22, 0, 0)\n",
    "event = Event('My Day', t1, t2)\n",
    "print event.duration()"
   ]
  },
  {
   "cell_type": "code",
   "execution_count": 56,
   "metadata": {
    "collapsed": false,
    "solution": "Exercise 2"
   },
   "outputs": [
    {
     "name": "stdout",
     "output_type": "stream",
     "text": [
      "61\n"
     ]
    }
   ],
   "source": [
    "class Event(object):\n",
    "    \n",
    "    def __init__(self,name,start,end):\n",
    "        self.name = name\n",
    "        self.start = start\n",
    "        self.end = end\n",
    "        \n",
    "    def __str__(self):\n",
    "        return 'The event title is %s, Start time is %s, End time is %s'%(self.name,self.start,self.end)\n",
    "    \n",
    "    def duration(start,end):\n",
    "        start_in_minutes = (start.hour*60)+start.minute+(start.second/60)\n",
    "        end_in_minutes = (end.hour*60)+end.minute+(end.second/60)\n",
    "        return end_in_minutes - start_in_minutes\n",
    "    \n",
    "    print duration(Time(3,23,1),Time(4,24,2))"
   ]
  },
  {
   "cell_type": "code",
   "execution_count": 55,
   "metadata": {
    "collapsed": false,
    "solution": "Exercise 2"
   },
   "outputs": [
    {
     "name": "stdout",
     "output_type": "stream",
     "text": [
      "01:00:00\n",
      "01:59:30\n"
     ]
    }
   ],
   "source": [
    "class Event(object):\n",
    "    def __init__(self,name='Untitled Event',start=Time(9,0,0),end=Time(10,0,0)):\n",
    "        self.name=str(name)\n",
    "        self.start=start\n",
    "        self.end=end\n",
    "    def __str__(self):\n",
    "        return self.name + '(' + str(self.start)+ '-'+str(self.end)+')'\n",
    "    def duration(self):\n",
    "        #I implemented a subtraction method in the Time class instead of doing it here\n",
    "        return self.end - self.start\n",
    "    \n",
    "Event1=Event()\n",
    "print Event1.duration()\n",
    "\n",
    "Event2=Event('Event2', Time(23,0,30),Time(1,0,0))\n",
    "print Event2.duration()"
   ]
  },
  {
   "cell_type": "code",
   "execution_count": 20,
   "metadata": {
    "collapsed": false,
    "solution": "Exercise 2"
   },
   "outputs": [
    {
     "name": "stdout",
     "output_type": "stream",
     "text": [
      "SoftDes from 15:10:00 to 17:00:00\n",
      "110\n"
     ]
    }
   ],
   "source": [
    "def time_to_int(time):\n",
    "    #Converts a time to a number of seconds\n",
    "    #Pulled from reading\n",
    "    minutes = time.hour * 60 + time.minute\n",
    "    seconds = minutes * 60 + time.second\n",
    "    return seconds\n",
    "\n",
    "def int_to_time(seconds):\n",
    "    #Converts an integer (representing seconds) to a time\n",
    "    #Pulled from reading\n",
    "    time = Time()\n",
    "    minutes, time.second = divmod(seconds, 60)\n",
    "    time.hour, time.minute = divmod(minutes, 60)\n",
    "    return time\n",
    "\n",
    "class Time(object):\n",
    "    \"\"\"Represents the time of day.\n",
    "    \n",
    "    Attributes: hour, minute, second\n",
    "    \"\"\"\n",
    "    \n",
    "    def __init__(self, hour=0, minute=0, second=0):\n",
    "        self.hour = hour\n",
    "        self.minute = minute\n",
    "        self.second = second\n",
    "\n",
    "    def __str__(self):\n",
    "        return '%.2d:%.2d:%.2d' % (self.hour, self.minute, self.second)\n",
    "    \n",
    "    def __repr__(self):\n",
    "        #You can print from lists now\n",
    "        return self.__str__()\n",
    "\n",
    "    def __cmp__(self, other):\n",
    "        #Lets you compare Time objects.\n",
    "        t1 = time_to_int(self)\n",
    "        t2 = time_to_int(other)\n",
    "        \n",
    "        if t1>t2:\n",
    "            #Return true for self>other if self comes after other\n",
    "            return 1\n",
    "        elif t1<t2:\n",
    "            #Return false for self>other if self comes before other\n",
    "            return -1\n",
    "        else:\n",
    "            return 0\n",
    "        \n",
    "class Event(object):\n",
    "    \"\"\"Represents an event sometime during a single day.\n",
    "    \n",
    "    Attributes: start, end\n",
    "    \"\"\"\n",
    "    \n",
    "    def __init__(self, start = Time(0,0,0), end = Time(0,0,0), name = \"\"):\n",
    "        self.start = start\n",
    "        self.end = end\n",
    "        self.name = name\n",
    "        \n",
    "    def __str__(self):\n",
    "        return '%s from %s to %s' % (self.name, self.start, self.end)\n",
    "    \n",
    "    def duration(self):\n",
    "        \"\"\"Returns the duration of the event in minutes, rounded down.\"\"\"\n",
    "        start_seconds = time_to_int(self.start)\n",
    "        end_seconds = time_to_int(self.end)\n",
    "        \n",
    "        return (end_seconds-start_seconds)/60\n",
    "    \n",
    "    \n",
    "test_event = Event(Time(15,10),Time(17),\"SoftDes\")\n",
    "print test_event \n",
    "print test_event.duration()"
   ]
  },
  {
   "cell_type": "code",
   "execution_count": 14,
   "metadata": {
    "collapsed": false,
    "solution": "Exercise 2"
   },
   "outputs": [
    {
     "name": "stdout",
     "output_type": "stream",
     "text": [
      "150\n"
     ]
    }
   ],
   "source": [
    "class Event(object):\n",
    "    ''' Assumes some intelligence of inputting attributes:\n",
    "        start should be before end chronologically\n",
    "        name should be a string\n",
    "        times only have hours and minutes'''\n",
    "    def __init__(self, name, start, end):\n",
    "        self.name = name\n",
    "        self.start = start\n",
    "        self.end = end\n",
    "    def __str__(self):\n",
    "        return \"{} happens between {} and {}.\".format(self.name, self.start, self.end)\n",
    "    def duration(self):\n",
    "        hrs = self.end.hours - self.start.hours\n",
    "        minu = hrs * 60 + (self.end.minutes - self.start.minutes)\n",
    "        return minu\n",
    "        \n",
    "class Time(object):\n",
    "    def __init__(self, hours, minutes):\n",
    "        self.hours = hours + minutes // 60\n",
    "        self.minutes = minutes % 60\n",
    "    def __str__(self):\n",
    "        return \"{:0}:{:02}\".format(self.hours, self.minutes)\n",
    "        \n",
    "t1 = Time(7,30)\n",
    "t2 = Time(10,0)\n",
    "\n",
    "event1 = Event(\"Morning run\",t1,t2)\n",
    "print event1.duration()"
   ]
  },
  {
   "cell_type": "code",
   "execution_count": 36,
   "metadata": {
    "collapsed": false,
    "solution": "Exercise 2"
   },
   "outputs": [
    {
     "name": "stdout",
     "output_type": "stream",
     "text": [
      "1:51:36\n"
     ]
    }
   ],
   "source": [
    "def duration(start,end):\n",
    "    hours = end.hours  - start.hours\n",
    "    minutes = end.minutes - start.minutes\n",
    "    seconds = end.seconds - start.seconds\n",
    "\n",
    "    if minutes < 0:\n",
    "        hours = hours - 1\n",
    "        minutes = minutes + 60\n",
    "    \n",
    "    if seconds < 0:\n",
    "        minutes = minutes - 1\n",
    "        seconds = seconds + 60\n",
    "    \n",
    "    return Time(hours,minutes,seconds)\n",
    "\n",
    "print duration(e.start,e.end)"
   ]
  },
  {
   "cell_type": "code",
   "execution_count": 40,
   "metadata": {
    "collapsed": false,
    "solution": "Exercise 2"
   },
   "outputs": [
    {
     "name": "stdout",
     "output_type": "stream",
     "text": [
      "meeting has a duration of  60  minutes.\n"
     ]
    }
   ],
   "source": [
    "class Time(object):\n",
    "    \"\"\"Represents the time of day. (military time)\n",
    "\n",
    "    attributes: hour, minute, second\n",
    "    \"\"\"\n",
    "    def __init__(self, hour=0, minute=0, second=0):\n",
    "        self.hour = hour\n",
    "        self.minute = minute\n",
    "        self.second = second\n",
    "    def __str__(self):\n",
    "        #return str(self.hour)+\":\"+str(self.minute)\n",
    "        return \"{:02}:{:02}:{:02}\".format(self.hour, self.minute, self.second)\n",
    "    def time_to_int(time):\n",
    "        minutes= time.hour*60 +time.minute\n",
    "        seconds= minutes*60 +time.second\n",
    "        return seconds\n",
    "    def int_to_time(seconds):\n",
    "        time=Time()\n",
    "        minutes, time.seconds= divmod(seconds, 60)\n",
    "        time.hour, time.minute= divmod(minutes,60)\n",
    "        return time\n",
    "    def __add__(self, other):\n",
    "        seconds= self.time_to_int()+ other.time_to_int()\n",
    "        return int_to_time(seconds)\n",
    "    def __sub__(self, other):\n",
    "        seconds= self.time_to_int()-other.time_to_int()\n",
    "        return int_to_time(seconds)\n",
    "class Event(object):\n",
    "    \"\"\"Represents an event on a day on a calander\n",
    "    \n",
    "    attributes: event name, start time, end time\n",
    "    \"\"\"\n",
    "    def __init__(self,name= \"event\", start_time= Time(0,0,1), end_time= Time(24,0,0)):\n",
    "        #set default to all day event\n",
    "        self.name= name\n",
    "        self.start_time= start_time\n",
    "        self.end_time= end_time\n",
    "    def __str__(self):\n",
    "        return \"{} starts at {} and ends at {}\".format(self.name, self.start_time, self.end_time)\n",
    "    def duration(self):\n",
    "        #I wish I could have figured out how to do this using all the time methods I wrote... \n",
    "        #this would probably be prettier if I had figured it out.\n",
    "        start_sec= self.start_time.second\n",
    "        start_min= self.start_time.minute\n",
    "        start_hour= self.start_time.hour\n",
    "        end_sec= self.end_time.second\n",
    "        end_min= self.end_time.minute\n",
    "        end_hour= self.end_time.hour\n",
    "        \n",
    "        sec_diff= end_sec-start_sec\n",
    "        sec_to_min= sec_diff/60\n",
    "        \n",
    "        min_diff= end_min- start_min\n",
    "        \n",
    "        hour_diff= end_hour- start_hour\n",
    "        hour_to_min= hour_diff*60\n",
    "        \n",
    "        minutes= min_diff+sec_to_min+hour_to_min\n",
    "        return minutes\n",
    "\n",
    "event1= Event(\"meeting\",Time(10,30), Time(11,30))   \n",
    "print event1.name, \"has a duration of \",event1.duration(), \" minutes.\""
   ]
  },
  {
   "cell_type": "code",
   "execution_count": 5,
   "metadata": {
    "collapsed": false,
    "solution": "Exercise 2"
   },
   "outputs": [
    {
     "name": "stdout",
     "output_type": "stream",
     "text": [
      "The event will last 210 minutes.\n"
     ]
    },
    {
     "data": {
      "text/plain": [
       "210"
      ]
     },
     "execution_count": 5,
     "metadata": {},
     "output_type": "execute_result"
    }
   ],
   "source": [
    "class Event(object):\n",
    "    \"\"\" Creates an event within a day\n",
    "    \n",
    "    attributes:\n",
    "        start (the time the event begins)\n",
    "        end (the time the event ends)\n",
    "        location (where the event is)\n",
    "        attendees (how many people are planning to attend)\n",
    "    \"\"\"\n",
    "    def __init__(self, start = Time(3,0,0), end = Time(5,0,0), location = 'TBD', attendees = 50):\n",
    "        self.start = start\n",
    "        self.end = end\n",
    "        self.location = location\n",
    "        self.attendees = attendees\n",
    "    \n",
    "    def __str__(self):\n",
    "        return \"This event begins at {} and ends at {}. The location is {}. {} plan to come.\".format(self.start,self.end,self.location,self.attendees)\n",
    "    \n",
    "    def duration(self):\n",
    "        end_time_in_sec = time_to_sec(self.end)\n",
    "        start_time_in_sec = time_to_sec(self.start)\n",
    "        time_diff = end_time_in_sec - start_time_in_sec\n",
    "        dura = time_diff/60\n",
    "        return dura\n",
    "\n",
    "qea = Event(Time(9,0,0), Time(12,30,0))\n",
    "qea.duration()"
   ]
  },
  {
   "cell_type": "code",
   "execution_count": 72,
   "metadata": {
    "collapsed": false,
    "solution": "Exercise 2"
   },
   "outputs": [
    {
     "name": "stdout",
     "output_type": "stream",
     "text": [
      "90\n"
     ]
    }
   ],
   "source": [
    "class Time(object):\n",
    "    \"\"\"\n",
    "    \"\"\"\n",
    "    def __init__(self, hour = 0, minute = 0, second = 00):\n",
    "        self.hour = hour\n",
    "        self.minute = minute\n",
    "        self.second = second\n",
    "    def __str__(self):\n",
    "        return '{:02d}:{:02d}:{:02d}'.format(self.hour, self.minute, self.second)\n",
    "    def time_to_int(time):\n",
    "        minutes = time.hour*60 + time.minute\n",
    "        seconds = minutes*60 + time.second\n",
    "        return seconds\n",
    "    def int_to_time(seconds):\n",
    "        time = Time()\n",
    "        minutes, time.second = divmod(seconds, 60)\n",
    "        time.hour, time.minute = divmod(minutes, 60)\n",
    "class Event(object):\n",
    "    \"\"\"\n",
    "    name of event, starting time, ending time\n",
    "    \"\"\"\n",
    "    def __init__(self, name, start, end):\n",
    "        \"\"\"\n",
    "        initializes Event object\n",
    "        \"\"\"\n",
    "        self.name = name\n",
    "        self.start = start\n",
    "        self.end = end\n",
    "    def __str__(self):\n",
    "        return 'Event: {}, start time: {}, end time: {}'.format(self.name, self.start, self.end)\n",
    "def duration(event):\n",
    "    duration_seconds = Time.time_to_int(event1.end) - Time.time_to_int(event1.start)\n",
    "    return duration_seconds/60\n",
    "event1 = Event('birthday Party', Time(5,30), Time(7))\n",
    "print duration(event1)"
   ]
  },
  {
   "cell_type": "code",
   "execution_count": 55,
   "metadata": {
    "collapsed": false,
    "solution": "Exercise 2"
   },
   "outputs": [
    {
     "name": "stdout",
     "output_type": "stream",
     "text": [
      "<__main__.Event object at 0x104c97750> with name my event, start time <Time Object> 08:15:00, and end time <Time Object> 09:00:00\n",
      "2700\n",
      "<Time Object> 00:45:00\n"
     ]
    }
   ],
   "source": [
    "class Time(object):\n",
    "    def __init__(self, hour=0, minute=0, second=0):\n",
    "        self.hour = hour\n",
    "        self.minute = minute\n",
    "        self.second = second\n",
    "        \n",
    "    def __str__(self):\n",
    "        return '<Time Object> {}:{}:{}'.format(\n",
    "            str(self.hour).zfill(2), str(self.minute).zfill(2), str(self.second).zfill(2))\n",
    "\n",
    "    def time_to_int(time):\n",
    "        minutes = time.hour * 60 + time.minute\n",
    "        seconds = minutes * 60 + time.second\n",
    "        return seconds\n",
    "\n",
    "    @staticmethod  # this is cool, and I'm left wondering why Allen didn't address it...\n",
    "    def int_to_time(seconds):\n",
    "        time = Time()\n",
    "        minutes, time.second = divmod(seconds, 60)\n",
    "        time.hour, time.minute = divmod(minutes, 60)\n",
    "        return time\n",
    "\n",
    "class Event(object):\n",
    "    def __init__(self, name='no name', start=Time(), end=Time()):\n",
    "        self.name = name\n",
    "        self.start = start\n",
    "        self.end = end\n",
    "    def __str__(self):\n",
    "        return object.__str__(self) + ' with name {}, start time {}, and end time {}'.format(\n",
    "            self.name, self.start, self.end)\n",
    "    def duration(self):\n",
    "        seconds = self.end.time_to_int() - self.start.time_to_int()\n",
    "        print seconds\n",
    "        return Time.int_to_time(seconds)\n",
    "    \n",
    "event = Event('my event', Time(8, 15, 0), Time(9, 0, 0))\n",
    "print event.__str__()\n",
    "print event.duration()"
   ]
  },
  {
   "cell_type": "code",
   "execution_count": 14,
   "metadata": {
    "collapsed": false,
    "solution": "Exercise 2"
   },
   "outputs": [
    {
     "ename": "SyntaxError",
     "evalue": "invalid syntax (<ipython-input-14-7f6003753764>, line 4)",
     "output_type": "error",
     "traceback": [
      "\u001b[1;36m  File \u001b[1;32m\"<ipython-input-14-7f6003753764>\"\u001b[1;36m, line \u001b[1;32m4\u001b[0m\n\u001b[1;33m    def __init__(self,name=None,minute.start=0,minute.end=0,second.start=0,second.end=0):\u001b[0m\n\u001b[1;37m                                      ^\u001b[0m\n\u001b[1;31mSyntaxError\u001b[0m\u001b[1;31m:\u001b[0m invalid syntax\n"
     ]
    }
   ],
   "source": [
    "class Event(object):\n",
    "    \"\"\"Represents an event with its start and finish times\n",
    "    attrs: event:start-end\"\"\"\n",
    "    def __init__(self,name=None,minute.start=0,minute.end=0,second.start=0,second.end=0):\n",
    "        self.name = name\n",
    "        self.minute.start = minute.start\n",
    "        self.minute.end = minute.end\n",
    "        self.hour.start = hour.start\n",
    "        self.hour.end = hour.end\n",
    "    def __str__(self):\n",
    "        return '%.d:%.d-%.d' % (self.name, self.start, self.end)\n",
    "    def time_to_int(self):\n",
    "        return int(self.hour * 60) + int(self.minute)\n",
    "    def duration(self):\n",
    "        return self.time_to_int() - self.time_to_int()\n",
    "\n",
    "#t1 = Time(6,48)\n",
    "#t2 = Time(8,12)\n",
    "#total = Time()\n",
    "#total.duration()\n",
    "\n",
    "Event(sleep,30,30,5,8)"
   ]
  },
  {
   "cell_type": "code",
   "execution_count": 34,
   "metadata": {
    "collapsed": false,
    "solution": "Exercise 2"
   },
   "outputs": [
    {
     "name": "stdout",
     "output_type": "stream",
     "text": [
      "02:00:00\n"
     ]
    }
   ],
   "source": [
    "# implemented above\n",
    "\n",
    "test = Event(\"test\", Time(1), Time(3))\n",
    "\n",
    "print duration(test)"
   ]
  },
  {
   "cell_type": "code",
   "execution_count": 20,
   "metadata": {
    "collapsed": false,
    "solution": "Exercise 2"
   },
   "outputs": [
    {
     "name": "stdout",
     "output_type": "stream",
     "text": [
      "1.0\n"
     ]
    }
   ],
   "source": [
    "class Event(object):\n",
    "    def __init__(self, name, start, end):\n",
    "        self.name = name\n",
    "        self.start = start\n",
    "        self.end = end\n",
    "        return\n",
    "    def __str__(self):\n",
    "        return object.__str__(self)\n",
    "    def duration(self):\n",
    "        return self.end - self.start\n",
    "    \n",
    "Party = Event('party', 2.00, 3.00)\n",
    "\n",
    "print Party.duration()"
   ]
  },
  {
   "cell_type": "code",
   "execution_count": null,
   "metadata": {
    "collapsed": true,
    "solution": "Exercise 2"
   },
   "outputs": [],
   "source": [
    "class Event(object):\n",
    "    def __init__(self, name, (hour, minute, second), (hour_end, minute_end, second_end)):\n",
    "        self.name = name\n",
    "        self.start = Time(hour, minute, second)\n",
    "        self.end = Time(hour_end, minute_end, second_end)\n",
    "    \n",
    "    def __str__(self):\n",
    "        start = \"{}\".format(self.start)\n",
    "        end = \"{}\".format(self.end)\n",
    "        event_time = \"{} \\nstart: {}, end: {}\". format(self.name, self.start, self.end)\n",
    "        return event_time \n",
    "\n",
    "    def duration(self):\n",
    "        event_duration = Time.__add__(self.start, self.end)\n",
    "        return event_duration\n",
    "        \n",
    "    \n",
    "class Time(object):\n",
    "    \n",
    "    def __init__(self, hour, minute, second):\n",
    "        self.hour = hour\n",
    "        self.minute = minute\n",
    "        self.second = second\n",
    "        \n",
    "    def __str__(self):\n",
    "        time = \"{:02}:{:02}:{:02}\".format(self.hour, self.minute, self.second)\n",
    "        return time\n",
    "\n",
    "    def __add__(self, other):\n",
    "        if isinstance(other, Time):\n",
    "            return self.add_time(other)\n",
    "        else:\n",
    "            return self.increment(other)\n",
    "\n",
    "    def add_time(self, other):\n",
    "        seconds = - self.time_to_int() + other.time_to_int()\n",
    "        return int_to_time(seconds)\n",
    "\n",
    "    def increment(self, seconds):\n",
    "        seconds += self.time_to_int()\n",
    "        return int_to_time(seconds)\n",
    "\n",
    "\n",
    "    def time_to_int(self):\n",
    "        minutes = self.hour * 60 + self.minute\n",
    "        seconds = minutes * 60 + self.second\n",
    "        return seconds\n",
    "\n",
    "def int_to_time(seconds):\n",
    "    time = Time(11, 59, 30)\n",
    "    minutes, time.second = divmod(seconds, 60)\n",
    "    time.hour, time.minute = divmod(minutes, 60)\n",
    "    return time\n",
    "\n",
    "if __name__ == \"__main__\":\n",
    "    party = Event('party', (11, 59, 30), (13, 18, 0))      \n",
    "    print Event.duration(party)"
   ]
  },
  {
   "cell_type": "code",
   "execution_count": 2,
   "metadata": {
    "collapsed": false,
    "solution": "Exercise 2"
   },
   "outputs": [
    {
     "data": {
      "text/plain": [
       "100"
      ]
     },
     "execution_count": 2,
     "metadata": {},
     "output_type": "execute_result"
    }
   ],
   "source": [
    "softdes.duration()"
   ]
  },
  {
   "cell_type": "code",
   "execution_count": 3,
   "metadata": {
    "collapsed": false,
    "solution": "Exercise 2"
   },
   "outputs": [
    {
     "data": {
      "text/plain": [
       "TestResults(failed=0, attempted=6)"
      ]
     },
     "execution_count": 3,
     "metadata": {},
     "output_type": "execute_result"
    }
   ],
   "source": [
    "class Event():\n",
    "    \"\"\"\n",
    "    >>> e = Event(\"lunch\", Time(12,15,0), Time(12,30,0))\n",
    "    >>> e.duration()\n",
    "    15\n",
    "    \"\"\"\n",
    "    def __init__(self, title, start, end):\n",
    "        self.title = title\n",
    "        self.start = start\n",
    "        self.end = end\n",
    "        \n",
    "    def duration(self):\n",
    "        return (time_to_int(self.end)-time_to_int(self.start))/60\n",
    "    \n",
    "    def __str__(self):\n",
    "        return \"{}: {} -> {}\".format(self.title, self.start, self.end)\n",
    "    \n",
    "import doctest\n",
    "doctest.testmod()"
   ]
  },
  {
   "cell_type": "code",
   "execution_count": 18,
   "metadata": {
    "collapsed": false,
    "solution": "Exercise 2"
   },
   "outputs": [
    {
     "name": "stdout",
     "output_type": "stream",
     "text": [
      "The duration of fair is 124.0 minutes\n"
     ]
    }
   ],
   "source": [
    "class Time(object):\n",
    "    \"\"\"represents time\n",
    "    attributes: hour, minute, second\n",
    "    \"\"\"\n",
    "    def __init__(self, hour = 0, minute = 0, second = 0):\n",
    "        self.hour = hour\n",
    "        self.minute = minute\n",
    "        self.second = second\n",
    "    \n",
    "    def __str__(self):\n",
    "        return \"{:02}:{:02}:{:02}\".format(self.hour,self.minute,self.second)\n",
    "\n",
    "class Event(object):\n",
    "    \"\"\"Event class, which is part of a calendar\n",
    "    attributes: name: Title for the Event\n",
    "                start: Time object representing the start time\n",
    "                end: Time object representing the end time for the event\n",
    "    \"\"\"\n",
    "\n",
    "    def __init__(self, name = '', start = Time(), end = Time()):\n",
    "        self.name = name\n",
    "        self.start = start\n",
    "        self.end = end\n",
    "    \n",
    "    def __str__(self):\n",
    "        return '{} starting at {} and ending at {}'.format(self.name,self.start,self.end)\n",
    "    \n",
    "    def duration(self):\n",
    "        deltaHour = self.end.hour - self.start.hour\n",
    "        deltaMinute = self.end.minute - self.start.minute\n",
    "        deltaSecond = self.end.second - self.start.second\n",
    "        return \"The duration of {} is {} minutes\".format(self.name, str(60.0*deltaHour + 1.0*deltaMinute + deltaSecond/60.0))\n",
    "    \n",
    "    def startInfo(self):\n",
    "        return (self.start.hour, self.start.minute, self.start.second)\n",
    "    \n",
    "time1 = Time(1,0,0)\n",
    "time2 = Time(3,4)\n",
    "fair = Event('fair',time1,time2)\n",
    "print fair.duration()\n",
    "time"
   ]
  },
  {
   "cell_type": "code",
   "execution_count": 102,
   "metadata": {
    "collapsed": false,
    "solution": "Exercise 2"
   },
   "outputs": [
    {
     "name": "stdout",
     "output_type": "stream",
     "text": [
      "Bob's birthday party is 140 minutes\n"
     ]
    }
   ],
   "source": [
    "class Event(object):\n",
    "    def __init__(self,name=None,hour1=0,minute1=0,hour2=0,minute2=0):\n",
    "        self.name = name\n",
    "        self.start_hour = hour1\n",
    "        self.start_minute = minute1\n",
    "        self.end_hour = hour2\n",
    "        self.end_minute = minute2\n",
    "    def duration(self):\n",
    "        dif_in_hours = (self.end_hour - self.start_hour)*60\n",
    "        dif_in_mins = self.end_minute - self.start_minute\n",
    "        return dif_in_hours + dif_in_mins\n",
    "    def __str__(self):\n",
    "        return '%s is %d minutes' %(self.name,self.duration())\n",
    "    \n",
    "event = Event(\"Bob's birthday party\",8,30,10,50)\n",
    "print event"
   ]
  },
  {
   "cell_type": "code",
   "execution_count": 39,
   "metadata": {
    "collapsed": false,
    "solution": "Exercise 2"
   },
   "outputs": [
    {
     "name": "stdout",
     "output_type": "stream",
     "text": [
      "\"Get Some Sleep You Moron\" begins at 06:15 and ends at 08:56 on 02/29/2016\n",
      "\"Get Some Sleep You Moron\" is 191 minutes long. You got this. I believe in you.\n",
      "\"Get Some Sleep You Moron\" is 03:11 long\n"
     ]
    }
   ],
   "source": [
    "class Time(object):\n",
    "    '''Represents the time of day.\n",
    "    \n",
    "    attributes: hour, minute\n",
    "    '''\n",
    "    def __init__(self, hour=0, minute=0):\n",
    "        self.hour = hour\n",
    "        self.minute = minute\n",
    "    def __str__(self):\n",
    "        return '%.2d:%.2d' %(self.hour,self.minute)\n",
    "    \n",
    "class Date(object):\n",
    "    def __init__(self, month=1, day=1, year=2016):\n",
    "        self.month = month\n",
    "        self.day = day\n",
    "        self.year = year\n",
    "    def __str__(self):\n",
    "        return '%.2d/%.2d/%.2d' %(self.month, self.day, self.year)\n",
    "    \n",
    "class Event(object):\n",
    "    def __init__(self, name='', start=Time(), end=Time(), date=Date()):\n",
    "        self.name = name\n",
    "        self.start = start\n",
    "        self.end = end\n",
    "        self.date = date\n",
    "    def __str__(self):\n",
    "        return '\\\"%s\\\" begins at %s and ends at %s on %s' %(self.name, self.start, self.end, self.date)\n",
    "    def durationMinutes(self):\n",
    "        end = self.end\n",
    "        start = self.start\n",
    "        duration = (end.hour*60+end.minute)-(start.hour*60-start.minute)\n",
    "        encouragement = ''\n",
    "        if duration <270 and 'sleep' in self.name.lower(): #if you need to go to bed:\n",
    "            encouragement = 'You got this. I believe in you.' #print some encouraging words because you probably need it honestly\n",
    "        return '\\\"%s\\\" is %s minutes long. %s' %(self.name, duration, encouragement)\n",
    "    def durationHoursMinutes(self):\n",
    "        end = self.end\n",
    "        start = self.start\n",
    "        total_minutes = (end.hour*60+end.minute)-(start.hour*60-start.minute)\n",
    "        hours = total_minutes/60\n",
    "        minutes = total_minutes%60\n",
    "        return '\\\"%s\\\" is %.2d:%.2d long' %(self.name, hours, minutes)\n",
    "\n",
    "bedtime = Time(6, 15)\n",
    "wakeup = Time(8, 56)\n",
    "today = Date(2,29,2016)\n",
    "sleep = Event('Get Some Sleep You Moron', bedtime, wakeup, today)\n",
    "\n",
    "print sleep\n",
    "print sleep.durationMinutes()\n",
    "print sleep.durationHoursMinutes()"
   ]
  },
  {
   "cell_type": "code",
   "execution_count": 37,
   "metadata": {
    "collapsed": false,
    "solution": "Exercise 2"
   },
   "outputs": [
    {
     "data": {
      "text/plain": [
       "'Duration: 360.0 minutes'"
      ]
     },
     "execution_count": 37,
     "metadata": {},
     "output_type": "execute_result"
    }
   ],
   "source": [
    "# time in standard formatting, not in military mode (ie: am/pm)\n",
    "\n",
    "class Time(object):\n",
    "    \"\"\"Represents time\"\"\"\n",
    "    def __init__(self, hour=0, minute=0, second=0):\n",
    "        self.hour = hour\n",
    "        self.minute = minute\n",
    "        self.second = second\n",
    "    def __str__(self):\n",
    "        return '%.2d:%.2d:%.2d' % (self.hour, self.minute, self.second)\n",
    "\n",
    "class Event():\n",
    "    \"\"\"Calendar application\"\"\"\n",
    "    def __init__(self, name, start, end):\n",
    "        self.name = name\n",
    "        self.start = start\n",
    "        self.end = end\n",
    "    def __str__(self):\n",
    "        return '%s, %s, %s' % (self.name, self.start, self.end)\n",
    "    def duration(self):   \n",
    "        if self.end.hour > self.start.hour:\n",
    "            end_second = self.end.hour * 3600 + self.end.minute * 60 + self.end.second\n",
    "            start_second = self.start.hour * 3600 + self.start.minute * 60 + self.start.second\n",
    " \n",
    "        else:\n",
    "            end_second = (12 + self.end.hour) * 3600 + self.end.minute * 60 + self.end.second\n",
    "            start_second = self.start.hour * 3600 + self.start.minute * 60 + self.start.second\n",
    "            \n",
    "        time_total = float((end_second - start_second) / 60)\n",
    "        return 'Duration: %s minutes' % (time_total)\n",
    "        \n",
    "\n",
    "cal1 = Event('Birthday Party', Time(10,30), Time(4,30))\n",
    "cal1.duration()"
   ]
  },
  {
   "cell_type": "code",
   "execution_count": 15,
   "metadata": {
    "collapsed": false,
    "solution": "Exercise 2"
   },
   "outputs": [
    {
     "name": "stdout",
     "output_type": "stream",
     "text": [
      "Picnic starts at 12 and ends at 2\n"
     ]
    }
   ],
   "source": [
    "class Event(object):\n",
    "    \"An event? Attributes: name, start, end\"\n",
    "    def __init__(self, name, start, end):\n",
    "        self.name = name\n",
    "        self.start = start\n",
    "        self.end = end\n",
    "    def __str__(self):\n",
    "        return '%s starts at %s and ends at %s' %(self.name,self.start,self.end)\n",
    "    def duration(self):\n",
    "        if self.end < self.start:\n",
    "            self.end = self.end + 12\n",
    "        return (self.end - self.start)*60\n",
    "event = Event('Picnic', 12, 2)\n",
    "print event"
   ]
  },
  {
   "cell_type": "code",
   "execution_count": null,
   "metadata": {
    "collapsed": true,
    "solution": "Exercise 2"
   },
   "outputs": [],
   "source": [
    "# See above"
   ]
  },
  {
   "cell_type": "code",
   "execution_count": 14,
   "metadata": {
    "collapsed": false,
    "solution": "Exercise 2"
   },
   "outputs": [
    {
     "name": "stdout",
     "output_type": "stream",
     "text": [
      "120.0\n"
     ]
    }
   ],
   "source": [
    "class Time(object):\n",
    "    \"\"\"What time is it? hour, minutes, seconds\"\"\"\n",
    "    def __init__(self, hour=0, minute=0, second=0):\n",
    "        self.hour = hour\n",
    "        self.minute = minute\n",
    "        self.second = second\n",
    "    def __str__(self):\n",
    "        return \"{:02}:{:02}:{:02}\".format(self.hour, self.minute, self.second)\n",
    "    def duration(self, other):\n",
    "        beginning = self.hour*3600 + self.minute*60 + self.second\n",
    "        end = other.hour*3600 + self.minute*60 + self.second\n",
    "        length = end - beginning\n",
    "        return length/60.0 # minutes\n",
    "    \n",
    "class Event(object):\n",
    "    \"\"\"It'll be a shindig: name, start, end\"\"\"\n",
    "    def __init__(self, name = 'Event Name', start = 0, end = 0):\n",
    "        self.name = name\n",
    "        self.start = start\n",
    "        self.end = end\n",
    "        self.duration = start.duration(end)\n",
    "    def __str__(self):\n",
    "        return \"{}, {}-{}\".format(self.name, self.start, self.end)\n",
    "    \n",
    "        \n",
    "        \n",
    "    \n",
    "        \n",
    "s = Time(10, 30, 0)\n",
    "e = Time(12, 0, 0)\n",
    "event = Event('Something', s, e)\n",
    "print event.duration\n"
   ]
  },
  {
   "cell_type": "code",
   "execution_count": 34,
   "metadata": {
    "collapsed": false,
    "solution": "Exercise 2"
   },
   "outputs": [
    {
     "name": "stdout",
     "output_type": "stream",
     "text": [
      "Event name: random_event, Start time: 10:00:00, End time 12:00:00\n",
      "duration of event (minutes): 120\n"
     ]
    }
   ],
   "source": [
    "#this method will only work for a 24 hour clock\n",
    "start_object = Time(10,0,0) \n",
    "end_object = Time(12,0,0)\n",
    "\n",
    "class Events(object):\n",
    "    \n",
    "    def __init__(self,name='unknown',start=Time(),end=Time()):\n",
    "        self.name = name\n",
    "        self.start = start\n",
    "        self.end = end\n",
    "        \n",
    "    def __str__(self):\n",
    "        return \"Event name: {}, Start time: {}, End time {}\".format(self.name,self.start,self.end)\n",
    "    \n",
    "    def duration(self):\n",
    "        duration_hour = self.end.hour - self.start.hour\n",
    "        duration_minute = self.end.minute - self.start.minute\n",
    "        duration_second = self.end.second - self.start.second\n",
    "        return duration_hour*60 + duration_minute + int(duration_second/60)\n",
    "    \n",
    "random_event = Events('random_event', start_object, end_object)\n",
    "print random_event\n",
    "print \"duration of event (minutes): \" + str(random_event.duration())\n"
   ]
  },
  {
   "cell_type": "code",
   "execution_count": 4,
   "metadata": {
    "collapsed": false,
    "solution": "Exercise 2"
   },
   "outputs": [
    {
     "name": "stdout",
     "output_type": "stream",
     "text": [
      "Duration = 01:40:00\n"
     ]
    }
   ],
   "source": [
    "class Event(object):\n",
    "    \"\"\" Defines a calendar event with attributes title, start, and end\"\"\"\n",
    "    \n",
    "    def __init__(self, title, start, end):\n",
    "        self.title = title\n",
    "        self.start = start\n",
    "        self.end = end\n",
    "        \n",
    "    def __str__(self):\n",
    "        return \"{}| {} to {}\".format(self.title, self.start, self.end)\n",
    "        \n",
    "    \n",
    "    def duration(self, start, end):\n",
    "        time_start = (start.hours * 60 **2) + (start.minutes * 60) + start.seconds\n",
    "        time_end = (end.hours * 60 **2) + (end.minutes * 60) + end.seconds\n",
    "        dur = time_end - time_start\n",
    "        hour = dur/(60**2)\n",
    "        minute = dur/60 - hour*60\n",
    "        second = dur - hour*60*60 - minute*60\n",
    "        \n",
    "        return \"Duration = {:02}:{:02}:{:02}\".format(hour, minute, second)\n",
    "    \n",
    "SoftDes = Event(\"SoftDes\", start3, end3)\n",
    "\n",
    "print SoftDes.duration(start3, end3)\n",
    "    "
   ]
  },
  {
   "cell_type": "code",
   "execution_count": 8,
   "metadata": {
    "collapsed": false,
    "solution": "Exercise 2"
   },
   "outputs": [
    {
     "name": "stdout",
     "output_type": "stream",
     "text": [
      "100.0\n"
     ]
    }
   ],
   "source": [
    "class Event:\n",
    "    def __init__(me, name, start, end):\n",
    "        me.name = name\n",
    "        me.start = start\n",
    "        me.end = end\n",
    "    \n",
    "    def __str__(me):\n",
    "        return \"{} from {} to {}\".format(me.name, me.start, me.end)\n",
    "    \n",
    "    def duration(me):\n",
    "        st = me.start\n",
    "        nd = me.end\n",
    "        return (nd.hour-st.hour)*60 + (nd.minute-st.minute) + (nd.second-st.second)/60.0\n",
    "    \n",
    "\n",
    "print Event(\"SoftDes\",Time(15,20,0),Time(17,0,0)).duration()"
   ]
  },
  {
   "cell_type": "code",
   "execution_count": 2,
   "metadata": {
    "collapsed": false,
    "solution": "Exercise 2"
   },
   "outputs": [
    {
     "name": "stdout",
     "output_type": "stream",
     "text": [
      "This event lasts 59.4667 minutes\n"
     ]
    }
   ],
   "source": [
    "class Event(object):\n",
    "    '''Represents a calendar event for a single day'''\n",
    "    def __init__(self, name, start, end):\n",
    "        self.name = name\n",
    "        self.start = start\n",
    "        self.end = end\n",
    "    def __str__(self):\n",
    "        return 'Reminder: %s from %s to %s today!' % (self.name, self.start, self.end)\n",
    "    \n",
    "    def duration(self):\n",
    "        '''returns the duration of the event in minutes. If the start time is later chronologically than the end \n",
    "        time is on the next day\n",
    "        '''\n",
    "        start_minutes = self.start.hour * 60.0 + self.start.second/60.0 + self.start.minute\n",
    "        end_minutes = self.end.hour * 60.0 + self.end.second/60.0 + self.end.minute\n",
    "        if start_minutes < end_minutes:\n",
    "            diff = end_minutes-start_minutes\n",
    "        else:\n",
    "            diff = 24*60 + end_minutes-start_minutes\n",
    "        print 'This event lasts %g minutes' %(diff)\n",
    "\n",
    "class Time(object):\n",
    "    '''Represents a time in hours, minutes, and seconds'''\n",
    "    def __init__(self, hour=0, minute=0, second=0):\n",
    "        self.hour = hour\n",
    "        self.minute = minute\n",
    "        self.second = second\n",
    "    def __str__(self):\n",
    "        return '%.2d:%.2d:%.2d' % (self.hour, self.minute, self.second)\n",
    "\n",
    "start = Time(1, 2, 35)\n",
    "end = Time(2, 2, 3)\n",
    "event2 = Event('event', start, end)\n",
    "event2.duration()"
   ]
  },
  {
   "cell_type": "code",
   "execution_count": 15,
   "metadata": {
    "collapsed": false,
    "solution": "Exercise 2"
   },
   "outputs": [
    {
     "name": "stdout",
     "output_type": "stream",
     "text": [
      "114.66666666666667 minutes\n"
     ]
    }
   ],
   "source": [
    "class Event():\n",
    "    def __init__(self, n = '', s = Time(0, 0, 0), e = Time(0, 0, 0)):\n",
    "        self.name = n\n",
    "        self.start = s\n",
    "        self.end = e\n",
    "        \n",
    "    def __str__(self):\n",
    "        return 'Event {} from {} to {}'.format(self.name, self.start, self.end)\n",
    "    def duration(self):\n",
    "        return (self.end.hour - self.start.hour) * 60 + self.end.minute - self.start.minute + float(self.end.second - self.start.second) * 1/6\n",
    "print(str(Event('Coding', Time(3, 20, 5), Time(5, 15, 3)).duration()) + ' minutes')"
   ]
  },
  {
   "cell_type": "markdown",
   "metadata": {
    "is_question": true,
    "problem": "Exercise 3"
   },
   "source": [
    "### Exercise\n",
    "\n",
    "Write an `Agenda` class that contains several `Event`s for the day.\n",
    "\n",
    "**Quick check: ** How should you store `Event`s within your `Agenda` class?\n",
    "\n",
    "Your `Agenda` class should include a `print_agenda` method that prints out your schedule for the day, in order.\n",
    "\n",
    "**Optional:** Include a `is_feasible` method that returns `True` if your schedule has no time conflicts. You may want to write additional helper methods for the `Event` class to make this easier."
   ]
  },
  {
   "cell_type": "code",
   "execution_count": 17,
   "metadata": {
    "collapsed": false
   },
   "outputs": [
    {
     "ename": "AttributeError",
     "evalue": "'Agenda' object has no attribute 'name'",
     "output_type": "error",
     "traceback": [
      "\u001b[1;31m---------------------------------------------------------------------------\u001b[0m",
      "\u001b[1;31mAttributeError\u001b[0m                            Traceback (most recent call last)",
      "\u001b[1;32m<ipython-input-17-e5921958f36b>\u001b[0m in \u001b[0;36m<module>\u001b[1;34m()\u001b[0m\n\u001b[0;32m     58\u001b[0m \u001b[0mMonday\u001b[0m\u001b[1;33m.\u001b[0m\u001b[0mprint_agenda\u001b[0m\u001b[1;33m(\u001b[0m\u001b[0me3\u001b[0m\u001b[1;33m)\u001b[0m\u001b[1;33m\u001b[0m\u001b[0m\n\u001b[0;32m     59\u001b[0m \u001b[1;33m\u001b[0m\u001b[0m\n\u001b[1;32m---> 60\u001b[1;33m \u001b[1;32mprint\u001b[0m \u001b[0mMonday\u001b[0m\u001b[1;33m\u001b[0m\u001b[0m\n\u001b[0m\u001b[0;32m     61\u001b[0m \u001b[1;33m\u001b[0m\u001b[0m\n",
      "\u001b[1;32m<ipython-input-17-e5921958f36b>\u001b[0m in \u001b[0;36m__str__\u001b[1;34m(self)\u001b[0m\n\u001b[0;32m     37\u001b[0m \u001b[1;33m\u001b[0m\u001b[0m\n\u001b[0;32m     38\u001b[0m     \u001b[1;32mdef\u001b[0m \u001b[0m__str__\u001b[0m\u001b[1;33m(\u001b[0m\u001b[0mself\u001b[0m\u001b[1;33m)\u001b[0m\u001b[1;33m:\u001b[0m\u001b[1;33m\u001b[0m\u001b[0m\n\u001b[1;32m---> 39\u001b[1;33m         \u001b[0mt\u001b[0m \u001b[1;33m=\u001b[0m \u001b[1;33m[\u001b[0m\u001b[0mobject\u001b[0m\u001b[1;33m.\u001b[0m\u001b[0m__str__\u001b[0m\u001b[1;33m(\u001b[0m\u001b[0mself\u001b[0m\u001b[1;33m)\u001b[0m\u001b[1;33m]\u001b[0m\u001b[1;33m\u001b[0m\u001b[0m\n\u001b[0m\u001b[0;32m     40\u001b[0m         \u001b[1;32mfor\u001b[0m \u001b[0mobj\u001b[0m \u001b[1;32min\u001b[0m \u001b[0mself\u001b[0m\u001b[1;33m.\u001b[0m\u001b[0mcontents\u001b[0m\u001b[1;33m:\u001b[0m\u001b[1;33m\u001b[0m\u001b[0m\n\u001b[0;32m     41\u001b[0m             \u001b[0ms\u001b[0m \u001b[1;33m=\u001b[0m \u001b[1;34m'    '\u001b[0m \u001b[1;33m+\u001b[0m \u001b[0mobject\u001b[0m\u001b[1;33m.\u001b[0m\u001b[0m__str__\u001b[0m\u001b[1;33m(\u001b[0m\u001b[0mobj\u001b[0m\u001b[1;33m)\u001b[0m\u001b[1;33m\u001b[0m\u001b[0m\n",
      "\u001b[1;32m<ipython-input-17-e5921958f36b>\u001b[0m in \u001b[0;36m__repr__\u001b[1;34m(self)\u001b[0m\n\u001b[0;32m     43\u001b[0m         \u001b[1;32mreturn\u001b[0m \u001b[1;34m'\\n'\u001b[0m\u001b[1;33m.\u001b[0m\u001b[0mjoin\u001b[0m\u001b[1;33m(\u001b[0m\u001b[0mt\u001b[0m\u001b[1;33m)\u001b[0m\u001b[1;33m\u001b[0m\u001b[0m\n\u001b[0;32m     44\u001b[0m     \u001b[1;32mdef\u001b[0m \u001b[0m__repr__\u001b[0m\u001b[1;33m(\u001b[0m\u001b[0mself\u001b[0m\u001b[1;33m)\u001b[0m\u001b[1;33m:\u001b[0m\u001b[1;33m\u001b[0m\u001b[0m\n\u001b[1;32m---> 45\u001b[1;33m             \u001b[1;32mreturn\u001b[0m \u001b[1;34m'(%s from %s to %s)'\u001b[0m \u001b[1;33m%\u001b[0m \u001b[1;33m(\u001b[0m\u001b[0mself\u001b[0m\u001b[1;33m.\u001b[0m\u001b[0mname\u001b[0m\u001b[1;33m,\u001b[0m \u001b[0mself\u001b[0m\u001b[1;33m.\u001b[0m\u001b[0mstart\u001b[0m\u001b[1;33m,\u001b[0m \u001b[0mself\u001b[0m\u001b[1;33m.\u001b[0m\u001b[0mend\u001b[0m\u001b[1;33m)\u001b[0m\u001b[1;33m\u001b[0m\u001b[0m\n\u001b[0m\u001b[0;32m     46\u001b[0m \u001b[1;33m\u001b[0m\u001b[0m\n\u001b[0;32m     47\u001b[0m     \u001b[1;32mdef\u001b[0m \u001b[0mprint_agenda\u001b[0m\u001b[1;33m(\u001b[0m\u001b[0mself\u001b[0m\u001b[1;33m,\u001b[0m \u001b[0mitem\u001b[0m\u001b[1;33m)\u001b[0m\u001b[1;33m:\u001b[0m\u001b[1;33m\u001b[0m\u001b[0m\n",
      "\u001b[1;31mAttributeError\u001b[0m: 'Agenda' object has no attribute 'name'"
     ]
    }
   ],
   "source": [
    "class Time(object):\n",
    "    \"\"\"\n",
    "    Represents the time of day\n",
    "    \n",
    "    attributes: hour, minute, second\n",
    "    \n",
    "    \"\"\"\n",
    "    def __init__(self, hour, minute, second):\n",
    "        self.hour = hour\n",
    "        self.minute = minute\n",
    "        self.second = second\n",
    "                       \n",
    "    def __str__(self):\n",
    "        return \"{:02}:{:02}:{:02}\".format(self.hour, self.minute, self.second)\n",
    "    \n",
    "class Event(object):\n",
    "    def __init__(self, name, start, end):\n",
    "        self.name = name\n",
    "        self.start = start\n",
    "        self.end = end\n",
    "        \n",
    "    def __str__(self):\n",
    "        return '{} from {} to {}'.format(self.name, self.start, self.end)\n",
    "    \n",
    "    def __duration__(self):\n",
    "        calc = (t2.hour - t1.hour)*60 + (t2.minute - t1.minute) + (t2.second - t1.second)/60\n",
    "        return 'Duration: {} minutes'.format(calc)\n",
    "    \n",
    "    \n",
    "\n",
    "    \n",
    "\n",
    "\n",
    "class Agenda(object):\n",
    "    def __init__(self, contents = None):\n",
    "        if contents == None:\n",
    "            contents = []\n",
    "            \n",
    "        self.contents = contents\n",
    "        \n",
    "    def __str__(self):\n",
    "        t = [object.__str__(self)]\n",
    "        for obj in self.contents:\n",
    "            s = '    ' + object.__str__(obj)\n",
    "            t.append(s)\n",
    "        return '\\n'.join(t)\n",
    "    \n",
    "    def print_agenda(self, item):\n",
    "        self.contents.append(item)\n",
    "        return self.contents\n",
    "    \n",
    "Monday = Agenda()\n",
    "e1 = Event('Linearity', (9, 0, 0), (10, 40, 0))\n",
    "e2 = Event('Mechanics', (10,50,0), (12,30,0))\n",
    "e3 = Event('Software Design', (1,0,0), (3,10,0))\n",
    "\n",
    "Monday.print_agenda(e1)\n",
    "Monday.print_agenda(e2)\n",
    "Monday.print_agenda(e3)\n",
    "\n",
    "print Monday\n",
    "        "
   ]
  },
  {
   "cell_type": "code",
   "execution_count": 19,
   "metadata": {
    "collapsed": false,
    "solution": "Exercise 3"
   },
   "outputs": [
    {
     "ename": "TypeError",
     "evalue": "__init__() takes exactly 4 arguments (1 given)",
     "output_type": "error",
     "traceback": [
      "\u001b[1;31m---------------------------------------------------------------------------\u001b[0m",
      "\u001b[1;31mTypeError\u001b[0m                                 Traceback (most recent call last)",
      "\u001b[1;32m<ipython-input-19-34dc502c413a>\u001b[0m in \u001b[0;36m<module>\u001b[1;34m()\u001b[0m\n\u001b[0;32m     64\u001b[0m \u001b[0mtime4\u001b[0m\u001b[1;33m.\u001b[0m\u001b[0mminute\u001b[0m \u001b[1;33m=\u001b[0m \u001b[1;36m4\u001b[0m\u001b[1;33m\u001b[0m\u001b[0m\n\u001b[0;32m     65\u001b[0m \u001b[0mtime4\u001b[0m\u001b[1;33m.\u001b[0m\u001b[0msecond\u001b[0m \u001b[1;33m=\u001b[0m \u001b[1;36m4\u001b[0m\u001b[1;33m\u001b[0m\u001b[0m\n\u001b[1;32m---> 66\u001b[1;33m \u001b[0mevent\u001b[0m \u001b[1;33m=\u001b[0m \u001b[0mEvent\u001b[0m\u001b[1;33m(\u001b[0m\u001b[1;33m)\u001b[0m\u001b[1;33m\u001b[0m\u001b[0m\n\u001b[0m\u001b[0;32m     67\u001b[0m \u001b[0mevent\u001b[0m\u001b[1;33m.\u001b[0m\u001b[0mname\u001b[0m \u001b[1;33m=\u001b[0m \u001b[1;34m'event'\u001b[0m\u001b[1;33m\u001b[0m\u001b[0m\n\u001b[0;32m     68\u001b[0m \u001b[0mevent\u001b[0m\u001b[1;33m.\u001b[0m\u001b[0mstart\u001b[0m \u001b[1;33m=\u001b[0m \u001b[0mtime1\u001b[0m\u001b[1;33m\u001b[0m\u001b[0m\n",
      "\u001b[1;31mTypeError\u001b[0m: __init__() takes exactly 4 arguments (1 given)"
     ]
    }
   ],
   "source": [
    "class Time(object):\n",
    "    \"\"\"Represents the time of day.\n",
    "       \n",
    "    attributes: hour, minute, second\n",
    "    \"\"\"\n",
    "    def __init__(self, hour=0, minute=0, second=0):\n",
    "        self.hour = hour\n",
    "        self.minute = minute\n",
    "        self.second = second\n",
    "\n",
    "    def __str__(self):\n",
    "        return '%.2d:%.2d:%.2d' % (self.hour, self.minute, self.second)\n",
    "\n",
    "class Event(object):\n",
    "    \"\"\"Represents an event\n",
    "    \n",
    "    attributes: name, start (time), end (time)\n",
    "    \"\"\"\n",
    "    def __init__(object,name,start,end):\n",
    "        this.name = name;\n",
    "        this.start = start;\n",
    "        this.end = end;\n",
    "    \n",
    "    def __str__(object):\n",
    "        string = this.name + 'from' + str(this.start) + 'to' + str(this.end)\n",
    "        \n",
    "    def duration(object):\n",
    "        hours = (this.end.hour - this.start.end)*60\n",
    "        minutes = this.end.minute - this.start.minute\n",
    "        seconds = (this.end.second - this.start.second)/60.0\n",
    "        print hours+minutes+seconds\n",
    "\n",
    "class Agenda(object):\n",
    "    \"\"\"Represents a set of events\n",
    "    \n",
    "    attributes: List_of_Events\n",
    "    \"\"\"\n",
    "    def __init__(self,LoE):\n",
    "        this.LoE = LoE\n",
    "    \n",
    "    def __str__(self):\n",
    "        string = ''\n",
    "        for event in this.LoE:\n",
    "            string.append(str(event))\n",
    "        return string\n",
    "    \n",
    "    def print_agenda(self):\n",
    "        print str(this)\n",
    "        \n",
    "time1 = Time()\n",
    "time1.hour = 1\n",
    "time1.minute = 1\n",
    "time1.second = 1\n",
    "time2 = Time()\n",
    "time2.hour = 2\n",
    "time2.minute = 2\n",
    "time2.second = 2\n",
    "time3 = Time()\n",
    "time3.hour = 3\n",
    "time3.minute = 3\n",
    "time3.second = 3\n",
    "time4 = Time()\n",
    "time4.hour = 4\n",
    "time4.minute = 4\n",
    "time4.second = 4\n",
    "event = Event()\n",
    "event.name = 'event'\n",
    "event.start = time1\n",
    "event.end = time2\n",
    "event2 = Event()\n",
    "event2.name = 'event2'\n",
    "event2.start = time2\n",
    "event2.end = time3\n",
    "event3 = Event()\n",
    "event3.name = 'event3'\n",
    "event3.start = time3\n",
    "event3.end = time4\n",
    "loe = [event,event1,event2,event3]\n",
    "agenda = Agenda()\n",
    "agenda.LoE = loe\n",
    "agenda.print_agenda()"
   ]
  },
  {
   "cell_type": "code",
   "execution_count": 109,
   "metadata": {
    "collapsed": false,
    "solution": "Exercise 3"
   },
   "outputs": [
    {
     "name": "stdout",
     "output_type": "stream",
     "text": [
      "party\n",
      "sleep\n",
      "repeat\n"
     ]
    }
   ],
   "source": [
    "class Agenda(object):\n",
    "    def __init__(self, event_list=[]):\n",
    "        self.event_list = event_list\n",
    "    def __str__(self):\n",
    "        pass\n",
    "    def print_agenda(self):\n",
    "        d = dict()\n",
    "        for event in self.event_list:\n",
    "            #add each event in the list to a dictionary\n",
    "            d[event.startint()] = event.name\n",
    "        mykeys = d.keys() #creates a list of keys\n",
    "        mykeys.sort() #orders the keys\n",
    "        #print each name in order\n",
    "        for t in range(len(mykeys)):\n",
    "            key = mykeys[t]\n",
    "            print d.get(key)\n",
    "\n",
    "myfirstevent = Event(\"party\", Time(2,20))\n",
    "mysecondevent = Event(\"sleep\", Time(4,30))\n",
    "mythirdevent = Event(\"repeat\", Time(6,0))\n",
    "\n",
    "myagenda = Agenda([myfirstevent, mythirdevent, mysecondevent])\n",
    "myagenda.print_agenda()\n",
    "    \n"
   ]
  },
  {
   "cell_type": "code",
   "execution_count": 37,
   "metadata": {
    "collapsed": false,
    "solution": "Exercise 3"
   },
   "outputs": [
    {
     "name": "stdout",
     "output_type": "stream",
     "text": [
      "Meeting1\n",
      "Meeting2\n",
      "Meeting3\n"
     ]
    }
   ],
   "source": [
    "class Agenda (object):\n",
    "    \"\"\"Represents an agenda that contains several events for the day.\"\"\"\n",
    "    def __init__(self, events = []):\n",
    "        self.events = events\n",
    "    def print_agenda(self):\n",
    "    \tfor i in range(len(self.events)):\n",
    "\t\tminPos = i\n",
    "\t\tfor j in range(i, len(self.events)):\n",
    "\t\t\tif(self.events[j].start.time_to_int() < self.events[minPos].start.time_to_int()):\n",
    "\t\t\t\tminPos = j\n",
    "\t\ttemp = self.events[i]\n",
    "\t\tself.events[i] = self.events[minPos]\n",
    "\t\tself.events[minPos] = temp   \n",
    "        for event in self.events:\n",
    "            print event.name\n",
    "\n",
    "event = Event('Meeting2', Time(9,45), Time(10,30))\n",
    "event2 = Event('Meeting3', Time(10,45), Time(11,30))\n",
    "event3 = Event('Meeting1', Time(7,45), Time(8,30))\n",
    "agenda = Agenda([event, event2, event3])\n",
    "agenda.print_agenda()"
   ]
  },
  {
   "cell_type": "code",
   "execution_count": 29,
   "metadata": {
    "collapsed": false,
    "solution": "Exercise 3"
   },
   "outputs": [
    {
     "data": {
      "text/plain": [
       "<bound method Agenda.print_agenda of <__main__.Agenda object at 0x7fee201d2990>>"
      ]
     },
     "execution_count": 29,
     "metadata": {},
     "output_type": "execute_result"
    }
   ],
   "source": [
    "from operator import itemgetter, attrgetter\n",
    "\n",
    "class Time(object):\n",
    "    \"\"\"\n",
    "    Represents the time of day.   \n",
    "    Attributes: hour, minute, second\n",
    "    \"\"\"\n",
    "    \n",
    "    def __init__(self, hour=5, minute=0, second=0):\n",
    "        self.hour = hour\n",
    "        self.minute = minute\n",
    "        self.second = second\n",
    "\n",
    "    def __str__(self): \n",
    "        return \"{:02}:{:02}:{:02}\".format(self.hour,self.minute, self.second)\n",
    "\n",
    "\n",
    "class Event(object):\n",
    "    def __init__(self, name = None, start = Time(0,0,0), end = Time(23,59,59)):\n",
    "        self.name = name\n",
    "        self.start = start\n",
    "        self.end = end\n",
    "    def __str__(self):\n",
    "        return \"{} begins at {} and ends at {}\".format(self.name, self.start, self.end)\n",
    "\n",
    "    def duration(self):\n",
    "        #yeah this could have been shorter, but my brain is tired and\n",
    "        #the logic here is spelled out pretty clearly!\n",
    "        \n",
    "        sec_start = self.start.second\n",
    "        min_start = self.start.minute\n",
    "        hour_start = self.start.hour\n",
    "    \n",
    "        sec_end = self.end.second\n",
    "        min_end = self.end.minute\n",
    "        hour_end = self.end.hour\n",
    "    \n",
    "        hours = hour_end - hour_start\n",
    "        hours_to_min = hours*60.0\n",
    "    \n",
    "        seconds = sec_end-sec_start\n",
    "        seconds_to_min = seconds/60.0\n",
    "    \n",
    "        minutes = (min_end - min_start) + seconds_to_min + hours_to_min\n",
    "    \n",
    "        return minutes\n",
    "\n",
    "class Agenda(object):\n",
    "    def __init__(self, events = None):\n",
    "        if events == None:\n",
    "            events = []\n",
    "        self.events = events\n",
    "        \n",
    "    def __str__(self):\n",
    "        return str(self.events)\n",
    "    \n",
    "    def add_to_agenda(self, event):\n",
    "        self.events.append(event)\n",
    "        \n",
    "    def print_agenda(self):\n",
    "        ordered_agenda = []\n",
    "        ordered_agenda = sorted(self, key=attrgetter(self.event.start.hour, self.event.start.minute,self.event.start.second))\n",
    "        \n",
    "        print len(ordered_agenda)\n",
    "        \n",
    "        i=0 #attempt to bypass location return in favor of actual names....\n",
    "        while i < len(ordered_agenda):\n",
    "            print \"Event: {} Start time: {} End time: {}\".format(ordered_agenda[i].event.name, ordered_agenda[i].event.start, ordered_agenda[i].event.end)\n",
    "            i+=1\n",
    "        \n",
    "t1a = Time(2,0,0)\n",
    "t2a = Time(5,0,0)\n",
    "hwa = Event('SoftDes', t1a, t2a)\n",
    "\n",
    "t1b = Time(7,30,0)\n",
    "t2b = Time(11,0,0)\n",
    "hwb = Event('MechSolids', t1b, t2b)\n",
    "\n",
    "HW_plan = Agenda()\n",
    "HW_plan.add_to_agenda(hwa)\n",
    "HW_plan.add_to_agenda(hwb)\n",
    "\n",
    "HW_plan.print_agenda"
   ]
  },
  {
   "cell_type": "code",
   "execution_count": 18,
   "metadata": {
    "collapsed": false,
    "solution": "Exercise 3"
   },
   "outputs": [
    {
     "name": "stdout",
     "output_type": "stream",
     "text": [
      "<bound method Agenda.print_agenda of <__main__.Agenda object at 0x104b436d0>>\n"
     ]
    }
   ],
   "source": [
    "class Agenda(object):\n",
    "    def __init__(self,event_list):\n",
    "        self.events = event_list\n",
    "    def print_agenda(self):\n",
    "        all_events = []\n",
    "        all_start_times = []\n",
    "        #http://stackoverflow.com/questions/25150955/python-iterating-through-object-attributes\n",
    "        for event in self.events:\n",
    "            all_events.extend(event) # VALUE = EVENT\n",
    "            for item in all_events:\n",
    "                #print item.start\n",
    "                all_start_times.extend(item.start)\n",
    "                #http://stackoverflow.com/questions/17713873/how-do-i-sort-a-python-list-of-time-values\n",
    "                sorted(all_start_times)\n",
    "                return all_start_times\n",
    "        \n",
    "\n",
    "class Event(object):\n",
    "    def __init__ (self, name, start, end):\n",
    "        self.name = str(name)\n",
    "        self.start = start\n",
    "        self.end = end\n",
    "    def __str__ (self):\n",
    "        return 'An event called {} is scheduled to begin at {} and end at {} )'.format(self.name, self.start, self.end)\n",
    "\n",
    "\n",
    "class Time(object):\n",
    "    def __init__ (self, hour, minute, second):\n",
    "        self.hour = hour\n",
    "        self.minute = minute\n",
    "        self.second = second\n",
    "    def __str__(self):\n",
    "        return 'Time is {}:{}:{}'.format(self.hour, self.minute, self.second)       \n",
    "        \n",
    "    def is_after(t1,t2):\n",
    "        if t1.hour > t2.hour: # we need t1 to be LATER (bigger) than t2\n",
    "            return True\n",
    "        elif t1.hour < t2.hour:\n",
    "            return False\n",
    "        elif t1.hour == t2.hour:\n",
    "            if t1.minute > t2.minute:\n",
    "                return True\n",
    "            elif t1.minute < t2.minute:\n",
    "                return False\n",
    "            elif t1.minute == t2.minute:\n",
    "                if t1.second > t2.second:\n",
    "                    return True\n",
    "                elif t1.second < t2.second:\n",
    "                    return True\n",
    "                elif t1.second == t2.second:\n",
    "                    return 'These two times are exactly the same!'\n",
    "time1 = Time(1,30,0)\n",
    "time2 = Time(2,22,22)\n",
    "time3 = Time(3,45,30)\n",
    "time4 = Time(4,50,55)\n",
    "time5 = Time(5,0,0)\n",
    "time6 = Time (11,46,12)\n",
    "birthdayparty = Event('Birthday Party', time1, time2)\n",
    "movie = Event ('Trip to the Cinema', time3, time4)\n",
    "takenap = Event('Take a Nap', time5, time6)\n",
    "todaysagenda = Agenda([birthdayparty, movie, takenap])\n",
    "list_of_events = todaysagenda.print_agenda\n",
    "print list_of_events"
   ]
  },
  {
   "cell_type": "code",
   "execution_count": 21,
   "metadata": {
    "collapsed": false,
    "solution": "Exercise 3"
   },
   "outputs": [
    {
     "name": "stdout",
     "output_type": "stream",
     "text": [
      "Quantitative Engineeering Analysis at 9:0:0\n",
      "softdes at 15:20:0\n"
     ]
    }
   ],
   "source": [
    "class Agenda(object):\n",
    "    def __init__(self, content = None):\n",
    "        if content == None:\n",
    "            self.content = []\n",
    "        else:\n",
    "            self.content = content\n",
    "    def print_agenda(self):\n",
    "        events = []\n",
    "        for obj in self.content:\n",
    "            events.append((obj.start.hour, obj.start.minute, obj.start.second, obj.name))\n",
    "        events.sort()\n",
    "        for event in events:\n",
    "            print '%s at %d:%d:%d' % (event[3], event[0], event[1], event[2])\n",
    "            \n",
    "\n",
    "softdes = Event('softdes', Time(15,20,0), Time(17,0,0))\n",
    "qea = Event('Quantitative Engineeering Analysis', Time(9,0,0), Time(12,30,0))\n",
    "        \n",
    "my_agenda = Agenda([softdes,qea])\n",
    "my_agenda.print_agenda()"
   ]
  },
  {
   "cell_type": "code",
   "execution_count": 11,
   "metadata": {
    "collapsed": false,
    "solution": "Exercise 3"
   },
   "outputs": [
    {
     "name": "stdout",
     "output_type": "stream",
     "text": [
      "Birthday Party from 09:02:03 to 17:03:04\n",
      "Dinner from 18:02:03 to 19:03:04\n"
     ]
    }
   ],
   "source": [
    "#Use lists to store Events\n",
    "\n",
    "class Agenda:\n",
    "    def __init__(self):\n",
    "        self.events={}\n",
    "    \n",
    "    def __str__():\n",
    "        pass\n",
    "    \n",
    "    def add_event(self,event):\n",
    "        self.events[event.start,event.end]=event.name\n",
    "\n",
    "    def print_agenda(self):\n",
    "        event_times=self.events.keys()\n",
    "        event_times.sort()\n",
    "        for event_time in event_times:\n",
    "            event_name=self.events[event_time]\n",
    "            print '{} from {} to {}'.format(event_name,event_time[0].__str__(),\n",
    "                                            event_time[1].__str__())\n",
    "p2=Event('Dinner',Time(18,0,0),Time(19,0,0))\n",
    "            \n",
    "a=Agenda()\n",
    "a.add_event(p)\n",
    "a.add_event(p2)\n",
    "\n",
    "a.print_agenda()\n",
    "\n",
    "\n"
   ]
  },
  {
   "cell_type": "markdown",
   "metadata": {},
   "source": [
    "Events should be stored in a list. "
   ]
  },
  {
   "cell_type": "code",
   "execution_count": 23,
   "metadata": {
    "collapsed": false,
    "solution": "Exercise 3"
   },
   "outputs": [
    {
     "name": "stdout",
     "output_type": "stream",
     "text": [
      "[\"Event from 03:02:01 to 04:05:06 at None with ('Friends',)\", \"Event from 01:02:03 to 02:03:05 at Home with ('Mom', 'Dad')\", \"Event from 01:02:03 to 04:05:06 at Bank with ('Local Law Enforcement',)\", 'Event from 02:03:05 to 03:02:01 at Texas with Nobody']\n",
      "True\n",
      "False\n"
     ]
    }
   ],
   "source": [
    "class Time(object):\n",
    "    def __init__(self,hours=0,minutes=0,seconds=0):\n",
    "        self.hours = hours\n",
    "        self.minutes = minutes\n",
    "        self.seconds = seconds\n",
    "    def __str__(self):\n",
    "        return \"{:02}:{:02}:{:02}\".format(self.hours, self.minutes, self.seconds)\n",
    "    def lateness(self):\n",
    "        return self.hours * 3600 + self.minutes * 60 + self.seconds\n",
    "\n",
    "class Event(object):\n",
    "    def __init__(self,start = Time(),end = Time(),location = 'Nowhere', *people):\n",
    "        self.location = location\n",
    "        if len(people) != 0:\n",
    "            self.people = people\n",
    "        else:\n",
    "            self.people = 'Nobody'\n",
    "        if start.lateness() <= end.lateness():\n",
    "            self.start = start\n",
    "            self.end = end\n",
    "        else:\n",
    "            self.start = end\n",
    "            self.end = start\n",
    "    def __str__(self):\n",
    "        return \"Event from {} to {} at {} with {}\".format(self.start,self.end,self.location, self.people)\n",
    "    def duration(self):\n",
    "        return (self.end.lateness()-self.start.lateness())/60.0\n",
    "    def clash(self,other):\n",
    "        return other.start.lateness()<self.start.lateness()<other.end.lateness() or self.start.lateness()<other.start.lateness()<self.end.lateness()\n",
    "\n",
    "\n",
    "class Agenda(object):\n",
    "    def __init__(self,*events):\n",
    "        self.events = {}\n",
    "        for event in events:\n",
    "            self.events[(event.start.lateness,event)] = event\n",
    "    def __str__(self):\n",
    "        return \"{}\".format([str(self.events[key]) for key in sorted(self.events)])\n",
    "    def print_agenda(self):\n",
    "        print sorted(self.events)\n",
    "    def is_feasible(self):\n",
    "        for key in self.events:\n",
    "            count = 0\n",
    "            check = self.events[key]\n",
    "            for key in self.events:\n",
    "                if check.clash(self.events[key]):\n",
    "                    count +=1\n",
    "            if count >1:\n",
    "                return False\n",
    "        return True\n",
    "\n",
    "t1 = Time(1,2,3)\n",
    "t2 = Time(2,3,5)\n",
    "t3 = Time(3,2,1)\n",
    "t4 = Time(4,5,6)\n",
    "e1 = Event(t1,t2, 'Home', 'Mom','Dad')\n",
    "e2 = Event(t3,t4, None, 'Friends')\n",
    "e3 = Event(t1,t4, 'Bank', 'Local Law Enforcement')\n",
    "e4 = Event(t2,t3, 'Texas')\n",
    "a1 = Agenda(e1,e2,e4)\n",
    "a2 = Agenda(e1,e2,e3,e4)\n",
    "print a2\n",
    "print a1.is_feasible()\n",
    "print a2.is_feasible()"
   ]
  },
  {
   "cell_type": "code",
   "execution_count": 32,
   "metadata": {
    "collapsed": false,
    "solution": "Exercise 3"
   },
   "outputs": [
    {
     "name": "stdout",
     "output_type": "stream",
     "text": [
      "Title:Meeting d, Start:14:45, End:16:00, Duration:75 mins\n",
      "Title:Meeting c, Start:15:30, End:20:50, Duration:320 mins\n"
     ]
    },
    {
     "data": {
      "text/plain": [
       "False"
      ]
     },
     "execution_count": 32,
     "metadata": {},
     "output_type": "execute_result"
    }
   ],
   "source": [
    "\n",
    "class Agenda(object):\n",
    "    def __init__(self, EventList):\n",
    "        self.EventList = EventList\n",
    "    \n",
    "    def sort(self):\n",
    "        return sorted(self.EventList, key=lambda x: (x.start.hour,x.start.minute), reverse=False)\n",
    "\n",
    "    def print_agenda(self):\n",
    "        for i in range(len(self.EventList)):\n",
    "            print Agenda.sort(self)[i].__str__()\n",
    "            \n",
    "    def is_feasible(self):\n",
    "        l = Agenda.sort(self)\n",
    "        i = 0\n",
    "        while (l[i].end.hour, l[i].end.minute) <= (l[i+1].start.hour, l[i+1].start.minute):\n",
    "            i += 1\n",
    "            if i == len(l)-1:\n",
    "                return True\n",
    "        return False\n",
    "\n",
    "c = Event('Meeting c', Time(15, 30), Time(20, 50))\n",
    "d = Event('Meeting d', Time(14, 45), Time(16, 0))\n",
    "Calendar = Agenda([c,d])\n",
    "Calendar.print_agenda()\n",
    "Calendar.is_feasible()"
   ]
  },
  {
   "cell_type": "code",
   "execution_count": 20,
   "metadata": {
    "collapsed": false,
    "solution": "Exercise 3"
   },
   "outputs": [
    {
     "name": "stdout",
     "output_type": "stream",
     "text": [
      "snack time from 00:00:01 to 23:59:59\n",
      "unicorn riding from 02:02:02 to 03:03:03\n",
      "sleep from 23:59:59 to 24:00:00\n",
      "False\n",
      "snack time from 00:00:01 to 23:59:59\n",
      "sleep from 23:59:59 to 24:00:00\n",
      "True\n"
     ]
    }
   ],
   "source": [
    "class Agenda(object):\n",
    "    \"\"\"\n",
    "    Stores a list of events sorted by start time\n",
    "    attributes: events (list containing Event objects)\n",
    "    \"\"\"\n",
    "    def __init__(self, *args):\n",
    "        self.events = []\n",
    "        for event in args:\n",
    "            self.events.append(event)\n",
    "        self.events.sort()\n",
    "        \n",
    "    def print_agenda(self):\n",
    "        for event in self.events:\n",
    "            print event\n",
    "        \n",
    "    def add_event(self, event):\n",
    "        self.events.append(event)\n",
    "        self.events.sort()\n",
    "        \n",
    "    def is_feasible(self):\n",
    "\n",
    "        endpoint = len(self.events) - 1\n",
    "        for i in range(0, endpoint):\n",
    "            if self.events[i].end > self.events[i+1].start:\n",
    "                return False\n",
    "        return True\n",
    "\n",
    "        \n",
    "    \n",
    "class Event(object):\n",
    "    \"\"\"\n",
    "    Represents an event that occurs in a day.\n",
    "    \n",
    "    attributes: start, end, name\n",
    "    \"\"\"\n",
    "    \n",
    "    def __init__(self, start = Time(0,0,0), end = Time(0,0,0), name = \"\"):\n",
    "        self.start = start\n",
    "        self.end = end\n",
    "        self.name = name\n",
    "        \n",
    "    def __str__(self):\n",
    "        return '%s from %s to %s' % (self.name, self.start, self.end)\n",
    "    \n",
    "    def duration(self):\n",
    "        \"\"\"\n",
    "        Returns the duration of the event in minutes (rounding down)\n",
    "        \"\"\"\n",
    "        start_seconds = time_to_int(self.start)\n",
    "        end_seconds = time_to_int(self.end)\n",
    "        \n",
    "        return (end_seconds-start_seconds)/60\n",
    "    \n",
    "  \n",
    "       \n",
    "    \n",
    "snacks = Event(Time(0,0,1),Time(23, 59, 59), 'snack time')\n",
    "unicornRiding = Event(Time(2,2,2),Time(3,3,3), 'unicorn riding')\n",
    "sleep = Event(Time(23,59,59),Time(24, 0, 0), 'sleep')\n",
    "\n",
    "myAgenda = Agenda(snacks, unicornRiding, sleep)\n",
    "myAgenda.print_agenda()\n",
    "print myAgenda.is_feasible()\n",
    "\n",
    "myActualAgenda = Agenda(snacks, sleep)\n",
    "myActualAgenda.print_agenda()\n",
    "print myActualAgenda.is_feasible()\n"
   ]
  },
  {
   "cell_type": "code",
   "execution_count": 12,
   "metadata": {
    "collapsed": false,
    "solution": "Exercise 3"
   },
   "outputs": [
    {
     "name": "stdout",
     "output_type": "stream",
     "text": [
      "start <class '__main__.Time'>\n",
      "end <class '__main__.Time'>\n",
      "start <class '__main__.Time'>\n",
      "end <class '__main__.Time'>\n",
      "The event breakfast begins at 07:30:00 and ends at 08:00:00.\n",
      "The event Physics begins at 09:00:00 and ends at 10:40:00.\n"
     ]
    }
   ],
   "source": [
    "# class Event(object):\n",
    "#     \"\"\"Represents an even that taken place in time.\n",
    "    \n",
    "#     attributes: name, start, end\n",
    "#     \"\"\"\n",
    "    \n",
    "#     def __init__(self, name, start, end):\n",
    "#         self.name = name\n",
    "#         self.start = start\n",
    "#         self.end = end\n",
    "        \n",
    "#     def __str__(self):\n",
    "#         return \"The event {} begins at {} and ends at {}.\".format(self.name, self.start, self.end)\n",
    "    \n",
    "#     def duration(self):\n",
    "#         \"\"\"Returns the duration of an event.\"\"\"\n",
    "        \n",
    "#         return self.end - self.start\n",
    "    \n",
    "class Agenda(object):\n",
    "    \"\"\"Represents a collection of all of the events in a day.\"\"\"\n",
    "    \n",
    "    def __init__(self, events):\n",
    "        self.events = events\n",
    "        \n",
    "    def print_agenda(self):\n",
    "        for event in self.events:\n",
    "            print event\n",
    "            \n",
    "    \n",
    "events = []\n",
    "events.append(Event('breakfast', Time(7,30,0), Time(8,0,0)))\n",
    "events.append(Event('Physics', Time(9,0,0), Time(10,40, 0)))\n",
    "my_agenda = Agenda(events)\n",
    "my_agenda.print_agenda()"
   ]
  },
  {
   "cell_type": "code",
   "execution_count": 36,
   "metadata": {
    "collapsed": false,
    "solution": "Exercise 3"
   },
   "outputs": [
    {
     "name": "stdout",
     "output_type": "stream",
     "text": [
      "False\n",
      "[<__main__.Event object at 0x7fd1a5756d50>, <__main__.Event object at 0x7fd1a56ae0d0>]\n",
      "Party from 02:00:00 to 06:00:00, Work from 09:00:00 to 17:00:00, \n"
     ]
    }
   ],
   "source": [
    "class Time(object):\n",
    "    \"\"\"Represents the time of day.\n",
    "       \n",
    "    attributes: hour, minute, second\n",
    "    \"\"\"\n",
    "    def __init__(self, hour=0, minute=0, second=0):\n",
    "        self.hour = hour\n",
    "        self.minute = minute\n",
    "        self.second = second\n",
    "\n",
    "    def __str__(self):\n",
    "        return '%.2d:%.2d:%.2d' % (self.hour, self.minute, self.second)\n",
    "\n",
    "    def print_time(self):\n",
    "        print str(self)\n",
    "\n",
    "    def time_to_int(self):\n",
    "        \"\"\"Computes the number of seconds since midnight.\"\"\"\n",
    "        minutes = self.hour * 60 + self.minute\n",
    "        seconds = minutes * 60 + self.second\n",
    "        return seconds\n",
    "\n",
    "    def is_after(self, other):\n",
    "        \"\"\"Returns True if t1 is after t2; false otherwise.\"\"\"\n",
    "        return self.time_to_int() > other.time_to_int()\n",
    "\n",
    "    def __add__(self, other):\n",
    "        \"\"\"Adds two Time objects or a Time object and a number.\n",
    "\n",
    "        other: Time object or number of seconds\n",
    "        \"\"\"\n",
    "        if isinstance(other, Time):\n",
    "            return self.add_time(other)\n",
    "        else:\n",
    "            return self.increment(other)\n",
    "\n",
    "    def __radd__(self, other):\n",
    "        \"\"\"Adds two Time objects or a Time object and a number.\"\"\"\n",
    "        return self.__add__(other)\n",
    "\n",
    "    def add_time(self, other):\n",
    "        \"\"\"Adds two time objects.\"\"\"\n",
    "        assert self.is_valid() and other.is_valid()\n",
    "        seconds = self.time_to_int() + other.time_to_int()\n",
    "        return int_to_time(seconds)\n",
    "\n",
    "    def increment(self, seconds):\n",
    "        \"\"\"Returns a new Time that is the sum of this time and seconds.\"\"\"\n",
    "        seconds += self.time_to_int()\n",
    "        return int_to_time(seconds)\n",
    "\n",
    "    def is_valid(self):\n",
    "        \"\"\"Checks whether a Time object satisfies the invariants.\"\"\"\n",
    "        if self.hour < 0 or self.minute < 0 or self.second < 0:\n",
    "            return False\n",
    "        if self.minute >= 60 or self.second >= 60:\n",
    "            return False\n",
    "        return True\n",
    "    \n",
    "    def __sub__(self, other):\n",
    "        return int_to_time(self.time_to_int() - other.time_to_int())\n",
    "        \n",
    "class Event(object):\n",
    "    def __init__(self, name, start, end):\n",
    "        self.name, self.start, self.end = name, start, end\n",
    "    def __str__(self):\n",
    "        return self.name.title() + ' from ' + self.start.__str__() + ' to ' + self.end.__str__()\n",
    "    def duration(self):\n",
    "        return (self.end - self.start).time_to_int()/60\n",
    "    def __cmp__(self, other):\n",
    "        return self.start.time_to_int() - other.start.time_to_int()\n",
    "        \n",
    "def int_to_time(seconds):\n",
    "    \"\"\"Makes a new Time object.\n",
    "\n",
    "    seconds: int seconds since midnight.\n",
    "    \"\"\"\n",
    "    minutes, second = divmod(seconds, 60)\n",
    "    hour, minute = divmod(minutes, 60)\n",
    "    time = Time(hour, minute, second)\n",
    "    return time\n",
    "\n",
    "class Agenda(object):\n",
    "    def __init__(self, *events):\n",
    "        self.events = sorted(list(events), key = lambda event: event.start, reverse = True)\n",
    "        print self.events\n",
    "    def __str__(self):\n",
    "        output = ''\n",
    "        for event in self.events:\n",
    "            output += event.__str__() + ', '\n",
    "        return output\n",
    "    \n",
    "party = Event('party', Time(2), Time(6))\n",
    "work = Event('work', Time(9), Time(17))\n",
    "print work < party\n",
    "my_agenda = Agenda(party, work)\n",
    "print my_agenda"
   ]
  },
  {
   "cell_type": "code",
   "execution_count": 4,
   "metadata": {
    "collapsed": false,
    "solution": "Exercise 3"
   },
   "outputs": [
    {
     "name": "stdout",
     "output_type": "stream",
     "text": [
      "party: 04:10:00 to 07:30:00\n",
      "crying: 04:20:00 to 04:30:00\n"
     ]
    }
   ],
   "source": [
    "#create time class\n",
    "class Time:\n",
    "    def __init__(self, hour=0, minute=0, second=0):\n",
    "        self.hour = hour\n",
    "        self.minute = minute\n",
    "        self.second = second\n",
    "    def __str__(self):\n",
    "        return \"{:02}:{:02}:{:02}\".format(self.hour, self.minute, self.second)\n",
    "\n",
    "#create event class, which includes two time objects as inputs\n",
    "class Event:\n",
    "    def __init__(self, start=Time(0, 0, 0), end=None, name='no name'):\n",
    "        if not end:\n",
    "            end = start\n",
    "        self.start = start\n",
    "        self.end = end\n",
    "        self.name = name\n",
    "    def __str__(self):\n",
    "        return str(self.start) + ' to ' + str(self.end)\n",
    "    def duration(self):\n",
    "        self.start.inminutes = self.start.hour*60 + self.start.minute\n",
    "        self.end.inminutes = self.end.hour*60 + self.end.minute\n",
    "        return self.end.inminutes - self.start.inminutes\n",
    "    \n",
    "class Agenda:\n",
    "    def __init__(self, *args):\n",
    "        self.events = args\n",
    "    def sort(self):\n",
    "        #sorts by starting hour, probably.\n",
    "        return sorted(self.events, key = lambda event: event.start.hour*60 + event.start.minute)\n",
    "    def print_agenda(self):\n",
    "        names = [str(event.name) for event in self.sort()]\n",
    "        times = [str(event) for event in self.sort()]\n",
    "        print '\\n'.join([name + ': ' + time for name, time in zip(names, times)])\n",
    "        \n",
    "          \n",
    "event1 = Event(Time(4,10), Time(7,30,0), 'party')\n",
    "event2 = Event(Time(4,20), Time(4, 30), 'crying')\n",
    "agenda = Agenda(event1, event2)\n",
    "        \n",
    "agenda.print_agenda()"
   ]
  },
  {
   "cell_type": "code",
   "execution_count": 39,
   "metadata": {
    "collapsed": false,
    "solution": "Exercise 3"
   },
   "outputs": [
    {
     "ename": "UnboundLocalError",
     "evalue": "local variable 'event' referenced before assignment",
     "output_type": "error",
     "traceback": [
      "\u001b[0;31m---------------------------------------------------------------------------\u001b[0m",
      "\u001b[0;31mUnboundLocalError\u001b[0m                         Traceback (most recent call last)",
      "\u001b[0;32m<ipython-input-39-a7f56adfd080>\u001b[0m in \u001b[0;36m<module>\u001b[0;34m()\u001b[0m\n\u001b[1;32m     69\u001b[0m \u001b[0ma\u001b[0m\u001b[0;34m.\u001b[0m\u001b[0maddEvent\u001b[0m\u001b[0;34m(\u001b[0m\u001b[0mlunch\u001b[0m\u001b[0;34m)\u001b[0m\u001b[0;34m\u001b[0m\u001b[0m\n\u001b[1;32m     70\u001b[0m \u001b[0ma\u001b[0m\u001b[0;34m.\u001b[0m\u001b[0maddEvent\u001b[0m\u001b[0;34m(\u001b[0m\u001b[0mdessert\u001b[0m\u001b[0;34m)\u001b[0m\u001b[0;34m\u001b[0m\u001b[0m\n\u001b[0;32m---> 71\u001b[0;31m \u001b[0;32mprint\u001b[0m \u001b[0ma\u001b[0m\u001b[0;34m.\u001b[0m\u001b[0mprintAgenda\u001b[0m\u001b[0;34m(\u001b[0m\u001b[0;34m)\u001b[0m\u001b[0;34m\u001b[0m\u001b[0m\n\u001b[0m",
      "\u001b[0;32m<ipython-input-39-a7f56adfd080>\u001b[0m in \u001b[0;36mprintAgenda\u001b[0;34m(self)\u001b[0m\n\u001b[1;32m     55\u001b[0m     \u001b[0;32mdef\u001b[0m \u001b[0mprintAgenda\u001b[0m\u001b[0;34m(\u001b[0m\u001b[0mself\u001b[0m\u001b[0;34m)\u001b[0m\u001b[0;34m:\u001b[0m\u001b[0;34m\u001b[0m\u001b[0m\n\u001b[1;32m     56\u001b[0m         \u001b[0mcontent\u001b[0m \u001b[0;34m=\u001b[0m \u001b[0;34m[\u001b[0m\u001b[0mobject\u001b[0m\u001b[0;34m.\u001b[0m\u001b[0m__str__\u001b[0m\u001b[0;34m(\u001b[0m\u001b[0mself\u001b[0m\u001b[0;34m)\u001b[0m \u001b[0;34m+\u001b[0m \u001b[0;34m':'\u001b[0m\u001b[0;34m]\u001b[0m\u001b[0;34m\u001b[0m\u001b[0m\n\u001b[0;32m---> 57\u001b[0;31m         \u001b[0mself\u001b[0m\u001b[0;34m.\u001b[0m\u001b[0mevents\u001b[0m\u001b[0;34m.\u001b[0m\u001b[0msort\u001b[0m\u001b[0;34m(\u001b[0m\u001b[0mevent\u001b[0m\u001b[0;34m.\u001b[0m\u001b[0mstart\u001b[0m\u001b[0;34m)\u001b[0m\u001b[0;34m\u001b[0m\u001b[0m\n\u001b[0m\u001b[1;32m     58\u001b[0m         \u001b[0;32mfor\u001b[0m \u001b[0mevent\u001b[0m \u001b[0;32min\u001b[0m \u001b[0mself\u001b[0m\u001b[0;34m.\u001b[0m\u001b[0mevents\u001b[0m\u001b[0;34m:\u001b[0m\u001b[0;34m\u001b[0m\u001b[0m\n\u001b[1;32m     59\u001b[0m             \u001b[0meventLine\u001b[0m \u001b[0;34m=\u001b[0m \u001b[0;34m'    '\u001b[0m \u001b[0;34m+\u001b[0m \u001b[0mevent\u001b[0m\u001b[0;34m.\u001b[0m\u001b[0m__str__\u001b[0m\u001b[0;34m(\u001b[0m\u001b[0;34m)\u001b[0m\u001b[0;34m\u001b[0m\u001b[0m\n",
      "\u001b[0;31mUnboundLocalError\u001b[0m: local variable 'event' referenced before assignment"
     ]
    }
   ],
   "source": [
    "class Time(object):\n",
    "    def __init__(self, hour = 0, minute = 0, second = 0):\n",
    "        self.hour = hour\n",
    "        self.minute = minute\n",
    "        self.second = second\n",
    "    \n",
    "    def __str__(self):\n",
    "        return '{:02}:{:02}:{:02}'.format(self.hour, self.minute, self.second)\n",
    "\n",
    "    def timeToInt(time):\n",
    "        minutes = time.hour*60 + time.minute\n",
    "        seconds = minutes*60 + time.second\n",
    "        return seconds\n",
    "\n",
    "    def intToTime(seconds):\n",
    "        time = Time()\n",
    "        minutes, time.second = divmod(seconds, 60)\n",
    "        time.hour, time.minute = divmod(minutes, 60)\n",
    "        return time\n",
    "\n",
    "class Event(object):\n",
    "    def __init__(self, name, start = Time(), end = Time()):\n",
    "        self.name = name\n",
    "        self.start = start\n",
    "        self.end = end\n",
    "\n",
    "    def __str__(self):\n",
    "        return '{}, {} to {}'.format(self.name, self.start, self.end)\n",
    "    \n",
    "    def duration(self):\n",
    "        \"\"\" duration of an event \"\"\"\n",
    "        difference = timeToInt(self.end) - timeToInt(self.start)\n",
    "        return intToTime(difference)\n",
    "\n",
    "class Agenda(object):\n",
    "    def __init__(self, events = None):\n",
    "        if events == None:\n",
    "            events = []\n",
    "        self.events = events\n",
    "    \n",
    "#     def __str__(self):\n",
    "#         return 'Agenda: {}'.format([event.__str__ for event in self.events])\n",
    "    \n",
    "#     def __str__(self):\n",
    "#         t = [ object.__str__(self) + ' for today:' ]\n",
    "#         for event in self.events:\n",
    "#             s = '    ' + object.__str__(event)\n",
    "#             t.append(s)\n",
    "#         return '\\n'.join(t)\n",
    "    \n",
    "    def addEvent(self, event):\n",
    "        \"\"\" add an event to the agenda \"\"\"\n",
    "        self.events.append(event)\n",
    "    \n",
    "    def printAgenda(self):\n",
    "        content = [object.__str__(self) + ':']\n",
    "#         self.events.sort() ### HOW DO I SORT THESE?\n",
    "        for event in self.events:\n",
    "            eventLine = '    ' + event.__str__()\n",
    "            content.append(eventLine)\n",
    "        return '\\n'.join(content)\n",
    "        \n",
    "\n",
    "a = Agenda()\n",
    "dinner = Event('Dinner', Time(6,30), Time(7,15))\n",
    "lunch = Event('Lunch', Time(1), Time(1,45))\n",
    "dessert = Event('Dessert', Time(7,15), Time(11))\n",
    "a.addEvent(dinner)\n",
    "a.addEvent(lunch)\n",
    "a.addEvent(dessert)\n",
    "print a.printAgenda()"
   ]
  },
  {
   "cell_type": "markdown",
   "metadata": {
    "is_question": true,
    "problem": "Exercise 4"
   },
   "source": [
    "### Going Beyond (optional)\n",
    "\n",
    "Some ideas for taking your application further:\n",
    " - Add people and/or places to the mix to create a scheduling assistant\n",
    " - Extend support for day-of-week or full date. A word of warning: dealing with dates and times in real applications is difficult due to the huge number of special cases (Perfect example: this reading journal is due on Leap Day). Consider using something like the Python [datetime](https://docs.python.org/2/library/datetime.html) module.\n",
    " - Use pickle or some other persistence strategy to save and load your `Agenda`."
   ]
  },
  {
   "cell_type": "code",
   "execution_count": 62,
   "metadata": {
    "collapsed": false,
    "solution": "Exercise 3"
   },
   "outputs": [
    {
     "data": {
      "text/plain": [
       "\"Today's events are:   brunch with Elenore- begins at 12:45 and ends at 15:15      fancy dinner- begins at 16:30 and ends at 19:30      party at mansion- begins at 20:45 and ends at 24:00   \""
      ]
     },
     "execution_count": 62,
     "metadata": {},
     "output_type": "execute_result"
    }
   ],
   "source": [
    "class Time(object):\n",
    "    def __init__(self, hour=0,minute=0,second=0):\n",
    "        self.hour=hour\n",
    "        self.minute=minute\n",
    "        self.second=second\n",
    "    def __str__(self):\n",
    "        if self.second == 0:\n",
    "            s = (\"%.2d:%.2d\") % (self.hour,self.minute)\n",
    "        else:\n",
    "            s = (\"%.2d:%.2d:%.2d\") % (self.hour,self.minute,self.second)\n",
    "        return s\n",
    "\n",
    "class Event(object):\n",
    "    def __init__(self,name,start,end):\n",
    "        self.name = name\n",
    "        self.start = start\n",
    "        self.end = end\n",
    "    def __str__(self):\n",
    "        s= (\"   %s- begins at %s and ends at %s   \") % (self.name, self.start, self.end)\n",
    "        return s\n",
    "    def duration(self):\n",
    "        start = self.start\n",
    "        end = self.end\n",
    "        starthr= start.hour\n",
    "        startmin=start.minute\n",
    "        endhr=end.hour\n",
    "        endmin=end.minute\n",
    "        diffhr= endhr - starthr\n",
    "        diffmin = endmin-startmin\n",
    "        duration = (diffhr * 60) + diffmin\n",
    "        return duration\n",
    "\n",
    "class Agenda(object):\n",
    "    def __init__(self,events=[]):\n",
    "        self.events=events\n",
    "    def __str__(self):\n",
    "        s = (\"Today's events are:\")\n",
    "        for x in range (len(self.events)):\n",
    "            s = s + str(self.events[x])\n",
    "        return s\n",
    "    def add_event(self,event):\n",
    "        events = self.events\n",
    "        events+=[event]\n",
    "        return events\n",
    "    def print_agenda(self):\n",
    "        startminutes = {}\n",
    "        for x in range(len(self.events)):\n",
    "            events=self.events\n",
    "            event=events[x]\n",
    "            start=event.start\n",
    "            hr=start.hour\n",
    "            mi=start.minute\n",
    "            startminutes[event]= 60*hr + mi\n",
    "        a= sorted(startminutes,key=startminutes.get,reverse=False)\n",
    "        s = \"Today's events are:\"\n",
    "        for x in range (len(a)):\n",
    "            s = (s + \n",
    "                str(a[x]) )\n",
    "        return s\n",
    "            \n",
    "starttime= Time(20,45,0)\n",
    "endtime = Time(24)\n",
    "start1=Time(16,30)\n",
    "end1=Time(19,30)\n",
    "start2=Time(12,45)\n",
    "end2=Time(15,15)\n",
    "event = Event(\"party at mansion\", starttime,endtime)\n",
    "event1= Event(\"fancy dinner\",start1,end1)\n",
    "event2= Event(\"brunch with Elenore\",start2,end2)\n",
    "\n",
    "fancy=Agenda()\n",
    "fancy.add_event(event)\n",
    "fancy.add_event(event1)\n",
    "fancy.add_event(event2)\n",
    "fancy.print_agenda()\n"
   ]
  },
  {
   "cell_type": "code",
   "execution_count": 252,
   "metadata": {
    "collapsed": false,
    "solution": "Exercise 3"
   },
   "outputs": [
    {
     "name": "stdout",
     "output_type": "stream",
     "text": [
      "Monday <__main__.Agenda object at 0x7f75d6cebfd0> with these events:\n",
      "Linearity 1 <__main__.Event object at 0x7f75d6cebd50>\n",
      "    From 09:00:00 until 10:40:00\n",
      "    Location: AC 326\n",
      "    Attendees: ['Oscar, an instructor', 'Interesting Oliners', 'maybe Aaron', 'several NINJAs']\n",
      "OPEN Lunch <__main__.Event object at 0x7f75d6cebe10>\n",
      "    From 12:30:00 until 13:30:00\n",
      "    Location: Dining Hall\n",
      "    Attendees: ['Charlie, provider of flag', 'Interesting Oliners', 'terrible food']\n",
      "Software Design <__main__.Event object at 0x7f75d6cebed0>\n",
      "    From 13:30:00 until 15:10:00\n",
      "    Location: AC 326\n",
      "    Attendees: ['Ben, my advisor', 'Paul, an instructor', 'Oliver, likely an instructor', 'Interesting Oliners']\n",
      "Coastal Navigation <__main__.Event object at 0x7f75d6cebf90>\n",
      "    From 19:00:00 until 20:00:00\n",
      "    Location: AC 326\n",
      "    Attendees: ['John, the person who does the thing', 'Interesting Oliners', 'a person named Alex I think']\n",
      "ORS <__main__.Event object at 0x7f75d6cf1090>\n",
      "    From 21:00:00 until 23:00:00\n",
      "    Location: LPB\n",
      "    Attendees: ['Amanda, the project lead', 'William, my subteam lead', \"Not Me, because I'm terrible\"]\n"
     ]
    }
   ],
   "source": [
    "def get_key(item):\n",
    "    return item[1]\n",
    "\n",
    "class Agenda(object):\n",
    "    \"\"\"has attributes:\n",
    "    day\n",
    "    Events (a list of Events for the day)\n",
    "    \"\"\"\n",
    "    \n",
    "    def __init__(self, day, events=None):\n",
    "        self.day = day\n",
    "        if not events:\n",
    "            self.events = []\n",
    "        else:\n",
    "            self.events = events\n",
    "    \n",
    "    def __str__(self):\n",
    "        t = [self.day + ' ' + object.__str__(self) + ' with these events:']\n",
    "        self.events.sort(key = lambda x: x.start, reverse=False)\n",
    "        for x in self.events:\n",
    "            t.append(str(x))\n",
    "        return '\\n'.join(t)\n",
    "    \n",
    "    def print_agenda(self):\n",
    "        t = [self.day + ' ' + object.__str__(self) + ' with these events:']\n",
    "        new_events = sorted(self.events, key = lambda x: x.start)\n",
    "        for x in new_events:\n",
    "            t.append(str(x))\n",
    "        print '\\n'.join(t)\n",
    "\n",
    "lin1 = Event('Linearity 1', Time(9), Time(10,40), 'AC 326', ['Oscar, an instructor', 'Interesting Oliners', 'maybe Aaron', 'several NINJAs'])\n",
    "lunch = Event('OPEN Lunch', Time(12, 30), Time(13, 30), 'Dining Hall', ['Charlie, provider of flag', 'Interesting Oliners', 'terrible food'])\n",
    "softdes = Event('Software Design', Time(13, 30), Time(15, 10), 'AC 326', ['Ben, my advisor', 'Paul, an instructor', 'Oliver, likely an instructor', 'Interesting Oliners'])\n",
    "cocurricular = Event('Coastal Navigation', Time(19), Time(20), 'AC 326', ['John, the person who does the thing', 'Interesting Oliners', 'a person named Alex I think'])\n",
    "ors = Event('ORS', Time(21), Time(23), 'LPB', ['Amanda, the project lead', 'William, my subteam lead', \"Not Me, because I'm terrible\"])\n",
    "\n",
    "list_events = [ors, lin1, softdes, cocurricular, lunch]\n",
    "new_list = sorted(list_events)\n",
    "\n",
    "today = Agenda('Monday', [lunch, softdes, lin1, cocurricular, ors])\n",
    "Agenda.print_agenda(today)\n",
    "# print lin1.start > lunch.start\n",
    "# print today"
   ]
  },
  {
   "cell_type": "code",
   "execution_count": 32,
   "metadata": {
    "collapsed": false
   },
   "outputs": [
    {
     "name": "stdout",
     "output_type": "stream",
     "text": [
      "workout, 01:05:17, 10:29:59\n",
      "broga, 09:03:54, 10:23:07\n",
      "lunch, 12:00:00, 13:10:15\n",
      "False\n"
     ]
    }
   ],
   "source": [
    "class Agenda():\n",
    "    def __init__(self, events = None):\n",
    "        if events == None:\n",
    "            events = []\n",
    "        self.events = events\n",
    "        \n",
    "    def __str__(self):\n",
    "        return '\\n'.join(str(element) for element in self.events)\n",
    "    \n",
    "    def print_agenda(self):\n",
    "        self.events.sort(key = lambda x: x.start.time_to_int())\n",
    "        return '\\n'.join(str(element) for element in self.events)\n",
    "            \n",
    "    def is_feasible(self):\n",
    "        self.events.sort(key = lambda x: x.start.time_to_int())\n",
    "        for i in range(len(self.events)):\n",
    "            for j in range(i + 1, len(self.events)):\n",
    "                if self.events[i].end.time_to_int() > self.events[j].start.time_to_int():\n",
    "                    return False\n",
    "        return True\n",
    "\n",
    "\n",
    "t5 = Time(1, 5, 17)\n",
    "t6 = Time(10, 29, 59)\n",
    "c = Event('workout', t5, t6)\n",
    "agenda = Agenda([a, b, c])\n",
    "print agenda.print_agenda()\n",
    "print agenda.is_feasible()"
   ]
  },
  {
   "cell_type": "code",
   "execution_count": 6,
   "metadata": {
    "collapsed": false,
    "solution": "Exercise 3"
   },
   "outputs": [
    {
     "name": "stdout",
     "output_type": "stream",
     "text": [
      "Finding tests in NoName\n",
      "Trying:\n",
      "    myAgenda = Agenda(Event('Chickenfest',Time(1,30,15), Time(2,30,00)),Event('HubbaHubbafest', Time(7, 45, 20), Time(10,10,10)),Event('Trollfest', Time(2,45,30), Time(5,15,20)))\n",
      "Expecting nothing\n",
      "ok\n",
      "Trying:\n",
      "    myAgenda.print_agenda()\n",
      "Expecting:\n",
      "    Your agenda for the day is: \n",
      "    Chickenfest will start at 1:30:15 and end at 2:30:0\n",
      "    Trollfest will start at 2:45:30 and end at 5:15:20\n",
      "    HubbaHubbafest will start at 7:45:20 and end at 10:10:10\n",
      "    You have no time conflicts\n",
      "ok\n"
     ]
    }
   ],
   "source": [
    "class Agenda(object):\n",
    "    \"\"\"\n",
    "    The Agenda class holds a bunch of Events to be put into chronological order. I would use a tupled list so that I can \n",
    "    sort by start time. there will be a helper method that will compare the Time objects against each other. Print agenda \n",
    "    will then print out the sorted list. Is_feasible will then check for time conflicts, probably using compare to on\n",
    "    every end and start time of consecutive elements in the tupled list after it's been sorted.\n",
    "    \n",
    "    There is a more robust way to do this which is making the number of events allowed an unknown number, at which point you might use \n",
    "    *args as a tuple to collect all the arguments and then unpack them. Given that this exercise was a pretty big handful without\n",
    "    that part, I decided to simplify the problem.\n",
    "    \n",
    "    Testing for functionality\n",
    "    >>> myAgenda = Agenda(Event('Chickenfest',Time(1,30,15), Time(2,30,00)),Event('HubbaHubbafest', Time(7, 45, 20), Time(10,10,10)),Event('Trollfest', Time(2,45,30), Time(5,15,20)))\n",
    "    >>> myAgenda.print_agenda()\n",
    "    Your agenda for the day is: \n",
    "    Chickenfest will start at 1:30:15 and end at 2:30:0\n",
    "    Trollfest will start at 2:45:30 and end at 5:15:20\n",
    "    HubbaHubbafest will start at 7:45:20 and end at 10:10:10\n",
    "    You have no time conflicts\n",
    "    \n",
    "    \"\"\"\n",
    "    \n",
    "    def __init__(self, event1, event2, event3):\n",
    "        self.chronologicalevents = [event1, event2, event3]\n",
    "        \n",
    "    def print_agenda(self):\n",
    "        self.sort_events()\n",
    "        print \"Your agenda for the day is: \"\n",
    "        for event in self.chronologicalevents:\n",
    "            print event\n",
    "        if self.is_feasible():\n",
    "            print \"You have no time conflicts\"\n",
    "            \n",
    "    def sort_events(self):\n",
    "        templist = []\n",
    "        for value in self.chronologicalevents:\n",
    "            templist.append((value.start,value))\n",
    "            \n",
    "        for i in range(len(templist)-1):  \n",
    "            minindex = i\n",
    "            for j in range(i+1, len(templist)):\n",
    "                if not self.is_chronological(templist[minindex][0], templist[j][0]):\n",
    "                    minindex = j\n",
    "            if minindex != i:\n",
    "                temp2 = templist[i]\n",
    "                templist[i] = templist[minindex]\n",
    "                templist[minindex] = temp2\n",
    "                \n",
    "        self.chronologicalevents = []        \n",
    "                    \n",
    "        for value, event in templist:\n",
    "            self.chronologicalevents.append(event)     \n",
    "        \n",
    "    def is_chronological(self, time1, time2): \n",
    "        if time1.hour > time2.hour:\n",
    "            return False\n",
    "        elif time1.minute > time2.minute:\n",
    "            return False\n",
    "        elif time1.second > time2.second:\n",
    "            return False\n",
    "        else:\n",
    "            return True\n",
    "    def is_feasible(self):\n",
    "        for i in range(len(self.chronologicalevents)-1):\n",
    "            if not self.is_chronological(self.chronologicalevents[i].end, self.chronologicalevents[i+1].start):\n",
    "                return False\n",
    "        return True;    \n",
    "        \n",
    "import doctest        \n",
    "doctest.run_docstring_examples(Agenda, globals(), verbose=True)        "
   ]
  },
  {
   "cell_type": "code",
   "execution_count": 69,
   "metadata": {
    "collapsed": false,
    "solution": "Exercise 3"
   },
   "outputs": [
    {
     "name": "stdout",
     "output_type": "stream",
     "text": [
      "Sleep start = 3 end = 9\n",
      "Class start = 9 end = 12\n",
      "Lunch start = 12 end = 13\n",
      "\n"
     ]
    }
   ],
   "source": [
    "class Event(object):\n",
    "    \"\"\"Calendar application\"\"\"\n",
    "    def __init__(self, name=None, start=0, end=0):\n",
    "        self.name = name\n",
    "        self.start = start\n",
    "        self.end = end\n",
    "    def __str__(self):\n",
    "        return self.name + ' start = %d end = %d' % (self.start, self.end)\n",
    "    def __cmp__(self, other):\n",
    "        if self.start < other.start:\n",
    "            return -1\n",
    "        elif self.start > other.start:\n",
    "            return 1\n",
    "        else:\n",
    "            return 0\n",
    "    def duration(self):\n",
    "        return self.end - self.start\n",
    "class Agenda(object):\n",
    "    \"\"\"Contanins events for the day\"\"\"\n",
    "    def __init__(self, event=[]):\n",
    "        self.event = event\n",
    "    def __str__(self):\n",
    "        self.event.sort()\n",
    "        for i in range(len(self.event)):\n",
    "            print self.event[i]\n",
    "        return ''\n",
    "               \n",
    "        \n",
    "a = [Event('Sleep', 3, 9), Event('Class', 9, 12), Event('Lunch', 12, 13)]\n",
    "b = Agenda(a)\n",
    "print b"
   ]
  },
  {
   "cell_type": "code",
   "execution_count": 100,
   "metadata": {
    "collapsed": false,
    "solution": "Exercise 3"
   },
   "outputs": [],
   "source": [
    "class Agenda(Event):\n",
    "    def __init__(self,*events):# the *events allows the user to input any number of events\n",
    "        for event_number, event in enumerate(events):#     this line iterates through the events that were passed in\n",
    "            setattr(self,'event'+str(event_number),event)# this line sets the attributes of self for each event\n",
    "    def __str__(self):\n",
    "        pass\n",
    "    \n",
    "    def print_agenda(self):\n",
    "        import copy\n",
    "        dictionary_self=self.__dict__\n",
    "        event_list=[]\n",
    "        for element in dictionary_self.values():\n",
    "            event_start_time=element.start\n",
    "            event_end_time=element.end\n",
    "            event_start_time_seconds=(element.start.hour*3600) + (element.start.minute*60) + (element.start.second)\n",
    "            event_list.append([event_start_time_seconds,event_start_time,event_end_time,element.name])\n",
    "        event_list=sorted(event_list,key=lambda event_list:event_list[0])\n",
    "        for event in event_list:\n",
    "            print \"{} starting at {} and going until {}\".format(event[3],event[1],event[2])"
   ]
  },
  {
   "cell_type": "code",
   "execution_count": 25,
   "metadata": {
    "collapsed": false,
    "solution": "Exercise 3"
   },
   "outputs": [
    {
     "name": "stdout",
     "output_type": "stream",
     "text": [
      "Second Breakfast\n",
      "Basketball\n",
      "Dinner\n"
     ]
    }
   ],
   "source": [
    "class Agenda(object):\n",
    "    def __init__(self, *args):\n",
    "        if not args:\n",
    "            self.events = []\n",
    "        else:\n",
    "            self.events = list(args)\n",
    "        \n",
    "    def add_event(self, event):\n",
    "        self.events.append(event)\n",
    "        \n",
    "    def print_agenda(self):\n",
    "        events = [event.name for event in sorted(self.events, key=lambda x: x.start.total())]\n",
    "        print '\\n'.join(events)\n",
    "    \n",
    "event1 = Event('Dinner', Time(20, 30), Time(21))\n",
    "event2 = Event('Basketball', Time(17, 15), Time(18, 30))\n",
    "agenda1 = Agenda(event1, event2)\n",
    "event3 = Event('Second Breakfast', Time(10, 20), Time(11))\n",
    "agenda1.add_event(event3)\n",
    "agenda1.print_agenda()"
   ]
  },
  {
   "cell_type": "code",
   "execution_count": 56,
   "metadata": {
    "collapsed": false,
    "solution": "Exercise 3"
   },
   "outputs": [
    {
     "name": "stdout",
     "output_type": "stream",
     "text": [
      "Linearity: 12:04:09 to 16:00:00, duration is 235 minutes\n",
      "Linearity: 16:00:00 to 20:00:00, duration is 240 minutes\n"
     ]
    }
   ],
   "source": [
    "class Agenda (object): \n",
    "        \n",
    "    def __init__(self, Event=[]): \n",
    "        self.Event = sorted(Event)\n",
    "        \n",
    "    def __str__ (self): \n",
    "        return '\\n'.join([str(e) for e in self.Event]) \n",
    "    \n",
    "class Event (object): \n",
    "    \"\"\"Event to go in a calendar.\"\"\"\n",
    "    \n",
    "    def __init__(self, name, start, end): \n",
    "        self.name = name \n",
    "        self.start = start \n",
    "        self.end = end \n",
    "        self.duration = (self.end.seconds - self.start.seconds)/60\n",
    "        \n",
    "    def __str__ (self): \n",
    "        return \"{}: {} to {}, duration is {} minutes\".format(self.name, self.start, self.end, self.duration)\n",
    "    \n",
    "    def __cmp__ (self, other): \n",
    "        if other.start > self.start: \n",
    "            return -1\n",
    "        elif self.start > other.start: \n",
    "            return 1\n",
    "        else: \n",
    "            return 0 \n",
    "\n",
    "start1 = Time(12,4,9)\n",
    "end1 = Time(16,0,0)\n",
    "\n",
    "start2 = Time(16, 0, 0)\n",
    "end2 = Time(20, 0, 0)\n",
    "\n",
    "Event1 = Event(\"Linearity\", start1, end1)\n",
    "Event2 = Event(\"Linearity\", start2, end2)\n",
    "\n",
    "print Agenda([Event1, Event2])\n",
    "\n",
    "\n"
   ]
  },
  {
   "cell_type": "code",
   "execution_count": 39,
   "metadata": {
    "collapsed": false,
    "solution": "Exercise 3"
   },
   "outputs": [
    {
     "name": "stdout",
     "output_type": "stream",
     "text": [
      "<__main__.Agenda object at 0x7fcdc2a51b50>\n"
     ]
    }
   ],
   "source": [
    "class Event(object):\n",
    "    \n",
    "    def __init__(self, title='title', start=0, end =0):\n",
    "        self.title = title\n",
    "        self.start = start\n",
    "        self.end = end\n",
    "        \n",
    "    def duration(self):\n",
    "        total_time = self.end*60 - self.start*60\n",
    "        print total_time, 'minutes'\n",
    "    \n",
    "    def __str__(self):\n",
    "        print self.title,\n",
    "        print \"from\", self.start, \"to\", self.end\n",
    "        \n",
    "class Agenda(object):\n",
    "    def __init__(self, event_number=0):\n",
    "        self.event_number = event_number\n",
    "        \n",
    "    def multiple_events(self):\n",
    "        for events in self.event_number:\n",
    "            events = Event()\n",
    "            print events\n",
    "        \n",
    "      \n",
    "agenda = Agenda()\n",
    "print agenda"
   ]
  },
  {
   "cell_type": "code",
   "execution_count": 23,
   "metadata": {
    "collapsed": false,
    "solution": "Exercise 3"
   },
   "outputs": [
    {
     "name": "stdout",
     "output_type": "stream",
     "text": [
      "Event Name: Sleeping Time \n",
      "Time of Event: 00:00:00 to 08:00:00\n",
      "\n",
      "Event Name: Birthday Party \n",
      "Time of Event: 13:00:00 to 14:00:00\n",
      "\n",
      "Event Name: SoftDes Class \n",
      "Time of Event: 15:20:00 to 17:00:00\n",
      "\n",
      "Event Name: Dinner Date \n",
      "Time of Event: 18:00:00 to 20:00:00\n",
      "\n",
      "\n"
     ]
    }
   ],
   "source": [
    "class Time(object):\n",
    "    \"\"\"Represents a time.\n",
    "    Attributes: Hours, minutes, seconds\"\"\"\n",
    "\n",
    "    def __init__(self, hours=0, minutes=0, seconds=0):\n",
    "        self.hours = hours\n",
    "        self.minutes = minutes\n",
    "        self.seconds = seconds\n",
    "\n",
    "    def __str__(self):\n",
    "        return '%02d:%02d:%02d' % (self.hours, self.minutes, self.seconds)\n",
    "\n",
    "\n",
    "class Event(object):\n",
    "    \"\"\"Represents an event.\n",
    "    Attributes: Name, time\"\"\"\n",
    "\n",
    "    def __init__(self, name, start, end):\n",
    "        self.name = name\n",
    "        self.start = start\n",
    "        self.end = end\n",
    "\n",
    "    def __str__(self):\n",
    "        return \"Event Name: {} \\nTime of Event: {} to {}\".format(self.name, self.start, self.end)\n",
    "\n",
    "\n",
    "class Agenda(object):\n",
    "    \"\"\"Contains several events for one day.\n",
    "    Attributes: Events, times\"\"\"\n",
    "\n",
    "    def __init__(self, events=None):\n",
    "        if events == None:\n",
    "            events = []\n",
    "        self.events = events\n",
    "\n",
    "    def store_events(self, new_event):\n",
    "        if self.events == []:\n",
    "            self.events.append(new_event)\n",
    "        else:\n",
    "            if new_event.start.hours < self.events[0].start.hours:\n",
    "                self.events.insert(0,new_event)\n",
    "            else:\n",
    "                index = 0\n",
    "                for x in self.events:\n",
    "                    if x.start.hours < new_event.start.hours:\n",
    "                        index = self.events.index(x) + 1\n",
    "                self.events.insert(index, new_event)\n",
    "\n",
    "    def print_agenda(self, *events):\n",
    "        res = \"\"\n",
    "        for item in self.events:\n",
    "            res += str(item) + \"\\n\\n\"\n",
    "        if res == \"\":\n",
    "            return \"There are no events scheduled for today.\"\n",
    "        else:\n",
    "            return res\n",
    "\n",
    "sleep = Event(\"Sleeping Time\", Time(0,0,0), Time(8,0,0))\n",
    "birthday = Event(\"Birthday Party\", Time(13,0,0), Time(14,0,0))\n",
    "softdes = Event(\"SoftDes Class\", Time(15,20,0), Time(17,0,0))\n",
    "dinner_date = Event(\"Dinner Date\", Time(18,0,0), Time(20,0,0))\n",
    "\n",
    "all_events = Agenda()\n",
    "all_events.store_events(birthday)\n",
    "all_events.store_events(dinner_date)\n",
    "all_events.store_events(sleep)\n",
    "all_events.store_events(softdes)\n",
    "\n",
    "print all_events.print_agenda()"
   ]
  },
  {
   "cell_type": "code",
   "execution_count": null,
   "metadata": {
    "collapsed": true,
    "solution": "Exercise 3"
   },
   "outputs": [],
   "source": [
    "class Time(object):\n",
    "    def __init__(self, hour, minute, second):\n",
    "        self.hour = hour\n",
    "        self.minute = minute\n",
    "        self.second = second\n",
    "        \n",
    "    def __str__(self):\n",
    "        return '{:02}:{:02}:{:02}'.format(self.hour, self.minute, self.second)\n",
    "\n",
    "class Event(object):\n",
    "    def __init__(self, name, start, end):\n",
    "        self.name = name\n",
    "        self.start = start\n",
    "        self.end = end\n",
    "    def __str__(self):\n",
    "        return '{} from {} to {}'.format(self.name, self.start, self.end)\n",
    "\n",
    "\n",
    "class Agenda(object):\n",
    "    def __init__(self, contents = []):\n",
    "        self.contents = contents\n",
    "        \n",
    "    def add_event(self, event):\n",
    "        self.contents.append(event)\n",
    "        \n",
    "    def print_event(self):\n",
    "        event_start = {}"
   ]
  },
  {
   "cell_type": "code",
   "execution_count": 58,
   "metadata": {
    "collapsed": false,
    "solution": "Exercise 3"
   },
   "outputs": [],
   "source": [
    "class Agenda (object):\n",
    "\n",
    "    def __init__(self, contents = None):\n",
    "        if contents == None:\n",
    "            contents = []\n",
    "        self.contents = contents\n",
    "    \n",
    "    def time_to_int(self, time):\n",
    "        time_in_seconds = (time.hour*3600)+(time.minute*60)+time.second\n",
    "        return time_in_seconds\n",
    "    \n",
    "    def print_agenda(self):\n",
    "        agenda = []\n",
    "        for i in range(len(self.contents)):\n",
    "            index = i\n",
    "            for j in range(i, len(self.contents)):\n",
    "                if self.time_to_int(self.contents[j].start) < self.time_to_int(self.contents[i].start):\n",
    "                    index = j\n",
    "            temp = self.contents[index]\n",
    "            self.contents[index] = self.contents[i]\n",
    "            self.contents[i] = temp\n",
    "        for i in range(len(self.contents)):\n",
    "            agenda.append(self.contents.name)\n",
    "        print agenda\n",
    "        \n",
    "    def __str__(self):\n",
    "        t = []\n",
    "        for obj in self.contents:\n",
    "            s = '    ' + object.__str__(obj)\n",
    "            t.append(s)\n",
    "        return '\\n'.join(t)\n",
    "    \n",
    "s = Event('slac',Time(8,0,0),Time(11,0,0))\n",
    "b = Event('ball',Time(2,30,0),Time(4,0,0))\n",
    "c = Agenda(s)"
   ]
  },
  {
   "cell_type": "code",
   "execution_count": 62,
   "metadata": {
    "collapsed": false,
    "solution": "Exercise 3"
   },
   "outputs": [
    {
     "name": "stdout",
     "output_type": "stream",
     "text": [
      "Today's Agenda is:\n",
      "Untitled Event(09:00:00-10:00:00)\n",
      "Event2(23:00:30-01:00:00)\n"
     ]
    }
   ],
   "source": [
    "class Agenda(object):\n",
    "    def __init__(self,*args):\n",
    "        \"\"\"Agenda can be initialized with no events, or a variable-length tuple of Events\"\"\"\n",
    "        self.events=args\n",
    "        \n",
    "    def __str__(self):\n",
    "        pretty_agenda=\"Today's Agenda is:\"\n",
    "        for event in self.events:\n",
    "            pretty_agenda += \"\\n\" + str(event)\n",
    "        return pretty_agenda\n",
    "    \n",
    "    def print_agenda(self):\n",
    "        #I don't really understand why this isn't just the string method\n",
    "        return str(self)\n",
    "\n",
    "todays_agenda=Agenda(Event1,Event2)\n",
    "print todays_agenda"
   ]
  },
  {
   "cell_type": "code",
   "execution_count": 58,
   "metadata": {
    "collapsed": false,
    "solution": "Exercise 3"
   },
   "outputs": [
    {
     "name": "stdout",
     "output_type": "stream",
     "text": [
      "Linearity from 09:00:00 to 10:40:00\n",
      "MechProto from 13:20:00 to 15:00:00\n",
      "SoftDes from 15:10:00 to 17:00:00\n",
      "True\n",
      "\n",
      "Linearity from 09:00:00 to 10:40:00\n",
      "P&M Meeting from 12:00:00 to 13:30:00\n",
      "MechProto from 13:20:00 to 15:00:00\n",
      "SoftDes from 15:10:00 to 17:00:00\n",
      "False\n"
     ]
    }
   ],
   "source": [
    "def time_to_int(time):\n",
    "    #Converts a time to a number of seconds\n",
    "    #Pulled from reading\n",
    "    minutes = time.hour * 60 + time.minute\n",
    "    seconds = minutes * 60 + time.second\n",
    "    return seconds\n",
    "\n",
    "def int_to_time(seconds):\n",
    "    #Converts an integer (representing seconds) to a time\n",
    "    #Pulled from reading\n",
    "    time = Time()\n",
    "    minutes, time.second = divmod(seconds, 60)\n",
    "    time.hour, time.minute = divmod(minutes, 60)\n",
    "    return time\n",
    "\n",
    "class Time(object):\n",
    "    \"\"\"Represents the time of day.\n",
    "    \n",
    "    Attributes: hour, minute, second\n",
    "    \"\"\"\n",
    "    \n",
    "    def __init__(self, hour=0, minute=0, second=0):\n",
    "        self.hour = hour\n",
    "        self.minute = minute\n",
    "        self.second = second\n",
    "\n",
    "    def __str__(self):\n",
    "        return '%.2d:%.2d:%.2d' % (self.hour, self.minute, self.second)\n",
    "    \n",
    "    def __repr__(self):\n",
    "        #You can print from lists now\n",
    "        return self.__str__()\n",
    "\n",
    "    def __cmp__(self, other):\n",
    "        #Lets you compare Time objects.\n",
    "        t1 = time_to_int(self)\n",
    "        t2 = time_to_int(other)\n",
    "        \n",
    "        if t1>t2:\n",
    "            #Return true for self>other if self comes after other\n",
    "            return 1\n",
    "        elif t1<t2:\n",
    "            #Return false for self>other if self comes before other\n",
    "            return -1\n",
    "        else:\n",
    "            return 0\n",
    "     \n",
    "    \n",
    "class Event(object):\n",
    "    \"\"\"Represents an event sometime during a single day.\n",
    "    \n",
    "    Attributes: start, end\n",
    "    \"\"\"\n",
    "    \n",
    "    def __init__(self, start = Time(0,0,0), end = Time(0,0,0), name = \"\"):\n",
    "        self.start = start\n",
    "        self.end = end\n",
    "        self.name = name\n",
    "        \n",
    "    def __str__(self):\n",
    "        return '%s from %s to %s' % (self.name, self.start, self.end)\n",
    "    \n",
    "    def __repr__(self):\n",
    "        return self.__str__()\n",
    "    \n",
    "    def __cmp__(self,other):\n",
    "        \"\"\"Compares two events based on their start time.\"\"\"\n",
    "        if self.start > other.start:\n",
    "            return 1\n",
    "        elif self.start < other.start:\n",
    "            return -1\n",
    "        else:\n",
    "            return 0\n",
    "    \n",
    "    def duration(self):\n",
    "        \"\"\"Returns the duration of the event in minutes, rounded down.\"\"\"\n",
    "        start_seconds = time_to_int(self.start)\n",
    "        end_seconds = time_to_int(self.end)\n",
    "        \n",
    "        return (end_seconds-start_seconds)/60\n",
    "    \n",
    "class Agenda(object):\n",
    "    \"\"\"Stores a list of events for the day, automatically sorted\n",
    "    by start time.\n",
    "    \n",
    "    attributes: events (a list of Event objects)\"\"\"\n",
    "    def __init__(self, *args):\n",
    "        self.events = []\n",
    "        for event in args:\n",
    "            self.events.append(event)\n",
    "        self.events.sort()\n",
    "        \n",
    "    def print_agenda(self):\n",
    "        for event in self.events:\n",
    "            print event\n",
    "        \n",
    "    def add_event(self, event):\n",
    "        self.events.append(event)\n",
    "        self.events.sort()\n",
    "        \n",
    "    def is_feasible(self):\n",
    "        for i in range(0,len(self.events)-1):\n",
    "            if self.events[i].end > self.events[i+1].start:\n",
    "                return False\n",
    "        return True\n",
    "        \n",
    "soft_des = Event(Time(15,10),Time(17),\"SoftDes\")\n",
    "mech_proto = Event(Time(13,20),Time(15),\"MechProto\")\n",
    "linearity = Event(Time(9),Time(10,40),\"Linearity\")\n",
    "\n",
    "thursday_schedule = Agenda(soft_des,mech_proto,linearity)\n",
    "thursday_schedule.print_agenda()\n",
    "print thursday_schedule.is_feasible()\n",
    "print\n",
    "\n",
    "thursday_schedule.add_event(Event(Time(12),Time(13,30),\"P&M Meeting\"))\n",
    "thursday_schedule.print_agenda()\n",
    "print thursday_schedule.is_feasible()"
   ]
  },
  {
   "cell_type": "code",
   "execution_count": 38,
   "metadata": {
    "collapsed": false,
    "solution": "Exercise 3"
   },
   "outputs": [
    {
     "name": "stdout",
     "output_type": "stream",
     "text": [
      "Event: boat2\n",
      "Start: 11:40:00\n",
      "End:   12:30:00\n",
      "\n",
      "Event: boat1\n",
      "Start: 10:40:00\n",
      "End:   12:30:00\n",
      "\n",
      "Event: boat3\n",
      "Start: 08:40:00\n",
      "End:   10:30:00\n"
     ]
    }
   ],
   "source": [
    "class Agenda(object):\n",
    "    \"\"\"Represents a schedule. Damn, wish I had one.\n",
    "    \n",
    "    attributes: events\"\"\"\n",
    "    \n",
    "    def __init__(self):\n",
    "        self.events = []\n",
    "        \n",
    "    def __str__(self):\n",
    "        events = sorted(self.events, key=lambda event: event.start)\n",
    "        res = \"\"\n",
    "        for event in events:\n",
    "            res += event.__str__() + '\\n\\n'\n",
    "        return res.strip()\n",
    "    \n",
    "    def add_event(self,event):\n",
    "        self.events.append(event)\n",
    "    \n",
    "boatTimes = Agenda()\n",
    "boatTimes.add_event(Event('boat1',Time(10,40),Time(12,30)))\n",
    "boatTimes.add_event(Event('boat2',Time(11,40),Time(12,30)))\n",
    "boatTimes.add_event(Event('boat3',Time(8,40),Time(10,30)))\n",
    "print boatTimes"
   ]
  },
  {
   "cell_type": "code",
   "execution_count": 19,
   "metadata": {
    "collapsed": false,
    "solution": "Exercise 3"
   },
   "outputs": [
    {
     "name": "stdout",
     "output_type": "stream",
     "text": [
      "Morning run from 7:30 to 10:00\n",
      "Coffee with Austin from 10:15 to 11:15\n"
     ]
    }
   ],
   "source": [
    "''' I wasn't successful in implementing is_feasible with a quick first attempt;\n",
    "    I'm going to submit this RJ and start MP4, but I think if I were to push to implement is_feasible,\n",
    "    I would sort the events ascending by time during the day,\n",
    "    I would operator overload < and check that the ending time of an event was\n",
    "    smaller than all the start times after it,\n",
    "    moving down the list of end times.'''\n",
    "class Agenda(object):\n",
    "    ''' Input should take form of tuple whose elements are event objects'''\n",
    "    def __init__(self, eventTuple=()):\n",
    "        self.eventTuple = eventTuple\n",
    "    def __str__(self):\n",
    "        printList = []\n",
    "        for each in self.eventTuple:\n",
    "            printList.append(\"{} from {} to {}\".format(each.name, each.start, each.end))\n",
    "        return \"\\n\".join(printList)\n",
    "\n",
    "class Event(object):\n",
    "    ''' Assumes some intelligence of inputting attributes:\n",
    "        start should be before end chronologically\n",
    "        name should be a string\n",
    "        times only have hours and minutes'''\n",
    "    def __init__(self, name, start, end):\n",
    "        self.name = name\n",
    "        self.start = start\n",
    "        self.end = end\n",
    "    def __str__(self):\n",
    "        return \"{} happens between {} and {}.\".format(self.name, self.start, self.end)\n",
    "    def duration(self):\n",
    "        hrs = self.end.hours - self.start.hours\n",
    "        minu = hrs * 60 + (self.end.minutes - self.start.minutes)\n",
    "        return minu\n",
    "        \n",
    "class Time(object):\n",
    "    def __init__(self, hours, minutes):\n",
    "        self.hours = hours + minutes // 60\n",
    "        self.minutes = minutes % 60\n",
    "    def __str__(self):\n",
    "        return \"{:0}:{:02}\".format(self.hours, self.minutes)\n",
    "        \n",
    "t1 = Time(7,30)\n",
    "t2 = Time(10,0)\n",
    "\n",
    "event1 = Event(\"Morning run\",t1,t2)\n",
    "event2 = Event(\"Coffee with Austin\", Time(10,15), Time(11,15))\n",
    "\n",
    "myAgenda = Agenda((event1,event2))\n",
    "print myAgenda\n"
   ]
  },
  {
   "cell_type": "code",
   "execution_count": 81,
   "metadata": {
    "collapsed": false,
    "solution": "Exercise 3"
   },
   "outputs": [
    {
     "name": "stdout",
     "output_type": "stream",
     "text": [
      "SofDes,10:40:5,12:31:41, map,9:55:5,12:31:41\n"
     ]
    }
   ],
   "source": [
    "class Agenda(object):\n",
    "    \n",
    "    def __init__(self, event_list=None):\n",
    "        if event_list == None:\n",
    "            event_list = []\n",
    "        self.event_list = event_list\n",
    "    \n",
    "    def __str__(self):\n",
    "        return \", \".join(map(str,self.event_list))\n",
    "    \n",
    "    def add_event(self,event):\n",
    "        self.event_list.append(event)\n",
    "\n",
    "a = Agenda()\n",
    "a.add_event(e)\n",
    "a.add_event(e2)\n",
    "print a"
   ]
  },
  {
   "cell_type": "code",
   "execution_count": 51,
   "metadata": {
    "collapsed": false,
    "solution": "Exercise 3"
   },
   "outputs": [
    {
     "data": {
      "text/plain": [
       "<bound method Agenda.print_agenda of <__main__.Agenda object at 0x7f09c57d4a10>>"
      ]
     },
     "execution_count": 51,
     "metadata": {},
     "output_type": "execute_result"
    }
   ],
   "source": [
    "from operator import itemgetter, attrgetter\n",
    "\n",
    "class Time(object):\n",
    "    \"\"\"Represents the time of day. (military time)\n",
    "\n",
    "    attributes: hour, minute, second\n",
    "    \"\"\"\n",
    "    def __init__(self, hour=0, minute=0, second=0):\n",
    "        self.hour = hour\n",
    "        self.minute = minute\n",
    "        self.second = second\n",
    "    def __str__(self):\n",
    "        #return str(self.hour)+\":\"+str(self.minute)\n",
    "        return \"{:02}:{:02}:{:02}\".format(self.hour, self.minute, self.second)\n",
    "    def time_to_int(time):\n",
    "        minutes= time.hour*60 +time.minute\n",
    "        seconds= minutes*60 +time.second\n",
    "        return seconds\n",
    "    def int_to_time(seconds):\n",
    "        time=Time()\n",
    "        minutes, time.seconds= divmod(seconds, 60)\n",
    "        time.hour, time.minute= divmod(minutes,60)\n",
    "        return time\n",
    "    def __add__(self, other):\n",
    "        seconds= self.time_to_int()+ other.time_to_int()\n",
    "        return int_to_time(seconds)\n",
    "    def __sub__(self, other):\n",
    "        seconds= self.time_to_int()-other.time_to_int()\n",
    "        return int_to_time(seconds)\n",
    "class Event(object):\n",
    "    \"\"\"Represents an event on a day on a calander\n",
    "    \n",
    "    attributes: event name, start time, end time\n",
    "    \"\"\"\n",
    "    def __init__(self,name= \"event\", start_time= Time(0,0,1), end_time= Time(24,0,0)):\n",
    "        #set default to all day event\n",
    "        self.name= name\n",
    "        self.start_time= start_time\n",
    "        self.end_time= end_time\n",
    "    def __str__(self):\n",
    "        return \"{} starts at {} and ends at {}\".format(self.name, self.start_time, self.end_time)\n",
    "    def duration(self):\n",
    "        #I wish I could have figured out how to do this using all the time methods I wrote... \n",
    "        #this would probably be prettier if I had figured it out.\n",
    "        start_sec= self.start_time.second\n",
    "        start_min= self.start_time.minute\n",
    "        start_hour= self.start_time.hour\n",
    "        end_sec= self.end_time.second\n",
    "        end_min= self.end_time.minute\n",
    "        end_hour= self.end_time.hour\n",
    "        \n",
    "        sec_diff= end_sec-start_sec\n",
    "        sec_to_min= sec_diff/60\n",
    "        \n",
    "        min_diff= end_min- start_min\n",
    "        \n",
    "        hour_diff= end_hour- start_hour\n",
    "        hour_to_min= hour_diff*60\n",
    "        \n",
    "        minutes= min_diff+sec_to_min+hour_to_min\n",
    "        return minutes\n",
    "\n",
    "# event1= Event(\"meeting\",Time(10,30), Time(11,30))   \n",
    "# print event1.name, \"has a duration of \",event1.duration(), \" minutes.\"\n",
    "\n",
    "class Agenda(object):\n",
    "    \"\"\"Represents a schedule of events for a day\n",
    "    \n",
    "    attributes: list of events\n",
    "    \"\"\"\n",
    "    def __init__(self, events= None):\n",
    "        if events== None:\n",
    "            events=[]    \n",
    "        self.events= events\n",
    "    def __str__(self):\n",
    "        \"\"\"return a string representation of the events in the day,\n",
    "        with one event per line\"\"\"\n",
    "        t = [\"Today's schedule is:\"]\n",
    "        for event in self.events:\n",
    "            s = '    ' + object.__str__(event)\n",
    "            t.append(s)\n",
    "        return '\\n'.join(t)\n",
    "    def add_to_agenda(self, event):\n",
    "        \"\"\"add a new event to the schedule\"\"\"\n",
    "        self.events.append(event)\n",
    "    def print_agenda(self):\n",
    "        organized_agenda= sorted(self, key= attrgetter(self.event.start_time.hour, self.event.start_time.minute, self.event.start_time.second))\n",
    "        print organized_agenda\n",
    "        \n",
    "today= Agenda()\n",
    "today.add_to_agenda(Event(\"Thermo\", Time(9), Time(10,40)))\n",
    "today.add_to_agenda(Event(\"Probstat\", Time(10,50), Time(12,30)))\n",
    "\n",
    "today.print_agenda"
   ]
  },
  {
   "cell_type": "code",
   "execution_count": 27,
   "metadata": {
    "collapsed": false,
    "solution": "Exercise 3"
   },
   "outputs": [
    {
     "name": "stdout",
     "output_type": "stream",
     "text": [
      "QEA begins at 9:00:00 and ends at 12:30:00. The location is AC 109. 35 plan to come.\n",
      "Lunch begins at 12:30:00 and ends at 13:30:00. The location is CC Dining Hall. 360 plan to come.\n",
      "AHS begins at 13:30:00 and ends at 15:10:00. The location is AC 318. 14 plan to come.\n",
      "SofDes begins at 15:20:00 and ends at 17:00:00. The location is AC 326. 20 plan to come.\n",
      "None\n",
      "True\n"
     ]
    }
   ],
   "source": [
    "def is_after(t1,t2):\n",
    "    \"\"\" Checks to see if t1 is later in the day than t2.\"\"\"\n",
    "    hours_after = t1.hour > t2.hour\n",
    "    minute_after = t1.hour >= t2.hour and t1.minute > t2.minute\n",
    "    second_after = t1.hour >= t2.hour and t1.minute >= t2.minute and t1.second > t2.second\n",
    "    return hours_after or minute_after or second_after\n",
    "\n",
    "def sec_to_time(seconds):\n",
    "    time = Time()\n",
    "    minutes, time.second = divmod(seconds, 60)\n",
    "    time.hour, time.minute = divmod(minutes, 60)\n",
    "    return time\n",
    "    \n",
    "def time_to_sec(time):\n",
    "    minutes = time.hour * 60 + time.minute\n",
    "    seconds = minutes * 60 + time.second\n",
    "    return seconds\n",
    "    \n",
    "class Time(object):\n",
    "    \"\"\"Represents the time of day.\n",
    "       \n",
    "    attributes: hour, minute, second\n",
    "    \"\"\"\n",
    "    def __init__(self, hour=0, minute=0, second=0):\n",
    "        self.hour = hour\n",
    "        self.minute = minute\n",
    "        self.second = second\n",
    "        \n",
    "    def __str__(self):\n",
    "        return '{}:{:02}:{:02}'.format(self.hour,self.minute,self.second)\n",
    "    \n",
    "    def __cmp__(self, other):\n",
    "        t1 = time_to_sec(self)\n",
    "        t2 = time_to_sec(other)\n",
    "        \n",
    "        if t1 > t2:\n",
    "            return 1\n",
    "        elif t2 > t1:\n",
    "            return -1\n",
    "        else: 0\n",
    "\n",
    "class Event(object):\n",
    "    \"\"\" Creates an event within a day\n",
    "    \n",
    "    attributes:\n",
    "        start (the time the event begins)\n",
    "        end (the time the event ends)\n",
    "        location (where the event is)\n",
    "        attendees (how many people are planning to attend)\n",
    "    \"\"\"\n",
    "    def __init__(self, name = 'Event', start = Time(3,0,0), end = Time(5,0,0), location = 'TBD', attendees = 50):\n",
    "        self.name = name\n",
    "        self.start = start\n",
    "        self.end = end\n",
    "        self.location = location\n",
    "        self.attendees = attendees\n",
    "    \n",
    "    def __str__(self):\n",
    "        return \"{} begins at {} and ends at {}. The location is {}. {} plan to come.\".format(self.name, self.start,self.end,self.location,self.attendees)\n",
    "    \n",
    "    def __cmp__(self, other):\n",
    "        if self.start > other.start:\n",
    "            return 1\n",
    "        elif other.start > self.start:\n",
    "            return -1\n",
    "        else:\n",
    "            return 0\n",
    "    \n",
    "    def duration(self):\n",
    "        end_time_in_sec = time_to_sec(self.end)\n",
    "        start_time_in_sec = time_to_sec(self.start)\n",
    "        time_diff = end_time_in_sec - start_time_in_sec\n",
    "        dura = time_diff/60\n",
    "        return dura\n",
    "    \n",
    "    def does_conflict(self, other):\n",
    "        return is_after(self.end, other.start)\n",
    "\n",
    "class Agenda(object):\n",
    "    \"\"\" Stores a list of events for a day.\n",
    "    \n",
    "        attributes:\n",
    "            schedule\n",
    "    \"\"\"\n",
    "    def __init__(self, schedule = None):\n",
    "        if schedule == None:\n",
    "            schedule = []\n",
    "        self.schedule = schedule\n",
    "        \n",
    "    def print_agenda(self):\n",
    "        self.schedule.sort()\n",
    "        for event in self.schedule:\n",
    "            print event\n",
    "            \n",
    "    def is_feasible(self):\n",
    "        self.schedule.sort()\n",
    "        for i in range(len(self.schedule) - 1):\n",
    "            if self.schedule[i].does_conflict(self.schedule[i+1]):\n",
    "                return False\n",
    "        return True\n",
    "    \n",
    "qea = Event('QEA', Time(9,0,0), Time(12,30,0), 'AC 109', 35)\n",
    "sofdes = Event('SofDes', Time(15,20,0), Time(17,0,0), 'AC 326', 20)\n",
    "ahs = Event('AHS', Time(13,30,0), Time(15,10,0), 'AC 318', 14)\n",
    "lunch = Event('Lunch', Time(12,30,0), Time(13,30,0), 'CC Dining Hall', 360)\n",
    "my_sched = Agenda([qea, sofdes, ahs, lunch])\n",
    "print my_sched.print_agenda()\n",
    "print my_sched.is_feasible()"
   ]
  },
  {
   "cell_type": "code",
   "execution_count": 213,
   "metadata": {
    "collapsed": false,
    "solution": "Exercise 3"
   },
   "outputs": [
    {
     "name": "stdout",
     "output_type": "stream",
     "text": [
      "Event: Dentists Appointment, start time: 01:30:00, end time: 02:30:00\n",
      "Event: Birthday Party, start time: 05:30:00, end time: 06:00:00\n",
      "Event: Dinner Gathering, start time: 06:30:00, end time: 09:00:00\n",
      "True\n"
     ]
    }
   ],
   "source": [
    "class Agenda(object):\n",
    "    \"\"\"\n",
    "    \"\"\"\n",
    "    def __init__(self, event = None):\n",
    "        if event == None:\n",
    "            event = []\n",
    "        self.events = event\n",
    "        \n",
    "    def add_event(self, *event):\n",
    "        for elements in event:\n",
    "            self.events.append(elements)\n",
    "            \n",
    "    def organize_events(self):\n",
    "        self.events.sort(key = lambda x: Time.time_to_int(x.start))\n",
    "        \n",
    "    def print_agenda(self):\n",
    "        self.organize_events()\n",
    "        for elements in self.events:\n",
    "            print elements\n",
    "    def is_feasable(self):\n",
    "        self.organize_events()\n",
    "        for i in range(len(self.events)-1):\n",
    "            if Time.time_to_int(self.events[i].end) > Time.time_to_int(self.events[i+1].start):\n",
    "                return False\n",
    "        return True\n",
    "day1 = Agenda()\n",
    "event1 = Event('Birthday Party', Time(5,30), Time(6))\n",
    "event2 = Event('Dinner Gathering', Time(6, 30), Time(9))\n",
    "event3 = Event('Dentists Appointment', Time(1,30), Time(2,30))\n",
    "\n",
    "day1.add_event(event1, event2, event3)\n",
    "day1.print_agenda()\n",
    "print day1.is_feasable()"
   ]
  },
  {
   "cell_type": "code",
   "execution_count": 86,
   "metadata": {
    "collapsed": false,
    "solution": "Exercise 3"
   },
   "outputs": [
    {
     "name": "stdout",
     "output_type": "stream",
     "text": [
      "The agenda for the day includes:\n",
      "\tbreakfast from 08:40:00 to 08:55:00\n",
      "\tlinearity from 09:00:00 to 10:30:00\n"
     ]
    }
   ],
   "source": [
    "class Time(object):\n",
    "    def __init__(self, hour=0, minute=0, second=0):\n",
    "        self.hour = hour\n",
    "        self.minute = minute\n",
    "        self.second = second\n",
    "        \n",
    "    def __str__(self):\n",
    "        return '{}:{}:{}'.format(\n",
    "            str(self.hour).zfill(2), str(self.minute).zfill(2), str(self.second).zfill(2))\n",
    "\n",
    "    def time_to_int(time):\n",
    "        minutes = time.hour * 60 + time.minute\n",
    "        seconds = minutes * 60 + time.second\n",
    "        return seconds\n",
    "\n",
    "    @staticmethod  # this is cool, and I'm left wondering why Allen didn't address it...\n",
    "    def int_to_time(seconds):\n",
    "        time = Time()\n",
    "        minutes, time.second = divmod(seconds, 60)\n",
    "        time.hour, time.minute = divmod(minutes, 60)\n",
    "        return time\n",
    "\n",
    "    \n",
    "class Event(object):\n",
    "    def __init__(self, name='no name', start=Time(), end=Time()):\n",
    "        self.name = name\n",
    "        self.start = start\n",
    "        self.end = end\n",
    "    def __str__(self):\n",
    "        return object.__str__(self) + ' with name {}, start time {}, and end time {}'.format(\n",
    "            self.name, self.start, self.end)\n",
    "    def duration(self):\n",
    "        seconds = self.end.time_to_int() - self.start.time_to_int()\n",
    "        print seconds\n",
    "        return Time.int_to_time(seconds)\n",
    "    \n",
    "    \n",
    "class Agenda(object):\n",
    "    def __init__(self, *events):\n",
    "        self.events = events\n",
    "        \n",
    "    def print_agenda(self):\n",
    "        message = ['The agenda for the day includes:']\n",
    "        for event in self.events:\n",
    "            message += ['\\t{} from {} to {}'.format(event.name, event.start, event.end)]\n",
    "        print '\\n'.join(message)\n",
    "        \n",
    "breakfast_e = Event('breakfast', Time(8, 40, 0), Time(8, 55, 0))\n",
    "linearity_e = Event('linearity', Time(9, 0, 0), Time(10, 30, 0))\n",
    "agenda = Agenda(breakfast_e, linearity_e)\n",
    "agenda.print_agenda()"
   ]
  },
  {
   "cell_type": "code",
   "execution_count": null,
   "metadata": {
    "collapsed": true,
    "solution": "Exercise 3"
   },
   "outputs": [],
   "source": [
    "class Time(object):\n",
    "    \"\"\"Represents time of day\n",
    "    attrs: hour:minute:second\"\"\"\n",
    "    def __init__(self,hour=0,minute=0):\n",
    "        self.hour = hour\n",
    "        self.minute = minute\n",
    "    def time_to_int(self):\n",
    "        return int(self.hour * 60) + int(self.minute)\n",
    "    def duration(self,self.start,self.end):\n",
    "        return self.start.time_to_int() - self.end.time_to_int()\n",
    "\n",
    "class Event(object):\n",
    "    \"\"\"Represents an event with its start and finish times\n",
    "    attrs: event:start-end\"\"\"\n",
    "    def __init__(self,name=None,start=0,end=0):\n",
    "        self.name = name\n",
    "        self.start = start\n",
    "        self.end = end\n",
    "    def __str__(self):\n",
    "        return '%.d:%.d-%.d' % (self.name, self.start, self.end)\n",
    "\n",
    "self.start = Time(6,48)\n",
    "self.end = Time(8,12)\n",
    "total = Time()\n",
    "total.duration(t1,t2)\n",
    "\n",
    "class Agenda(object):\n",
    "    def __init__(self, events=None):\n",
    "        if events == None:\n",
    "            events = []\n",
    "        self.schedule = events\n",
    "    def __str__(self):\n",
    "        t = [ object.__str__(self) + ':' ]\n",
    "        for todo in self.schedule:\n",
    "            todo = Event()\n",
    "            s = '    ' + object.__str__(todo) \n",
    "            t.append(s)\n",
    "        return '\\n'.join(t)\n",
    "\n",
    "    def to_do_list(self, event):\n",
    "        self.schedule.append(event)\n",
    "\n"
   ]
  },
  {
   "cell_type": "code",
   "execution_count": 14,
   "metadata": {
    "collapsed": false,
    "solution": "Exercise 3"
   },
   "outputs": [
    {
     "name": "stdout",
     "output_type": "stream",
     "text": [
      "Mardi Gras party    starts at- 2:00    ends at- 3:00\n",
      "P&M    starts at- 4:00    ends at- 6:00\n"
     ]
    }
   ],
   "source": [
    "class Event(object):\n",
    "    def __init__(self, name, start, end):\n",
    "        self.name = name\n",
    "        self.start = start\n",
    "        self.end = end\n",
    "        return\n",
    "    def __str__(self):\n",
    "        return object.__str__(self)\n",
    "    def duration(self):\n",
    "        return self.end - self.start\n",
    "    \n",
    "class Agenda(object):\n",
    "    def __init__(self):\n",
    "        self.EventList = []\n",
    "        return\n",
    "    def __str__(self):\n",
    "        return object.__str__(self)\n",
    "    def add_agenda(self, event):\n",
    "        EventList = self.EventList\n",
    "        \n",
    "        Event.name = event.name\n",
    "        Event.start = event.start\n",
    "        Event.end = event.end\n",
    "        agenda_event = Event(Event.name, Event.start, Event.end)\n",
    "        self.EventList.append(agenda_event)\n",
    "        return EventList\n",
    "    def print_agenda(self):\n",
    "#         print self.EventList\n",
    "        i = 0\n",
    "        for event in self.EventList:\n",
    "            print \"{}    starts at- {}:00    ends at- {}:00\".format(self.EventList[i].name, self.EventList[i].start, self.EventList[i].end)\n",
    "            i += 1\n",
    "        return\n",
    "    \n",
    "    \n",
    "Party = Event('Mardi Gras party', 2, 3)\n",
    "Meeting = Event('P&M', 4, 6)\n",
    "\n",
    "Agenda1 = Agenda()\n",
    "\n",
    "Agenda1.add_agenda(Party)\n",
    "Agenda1.add_agenda(Meeting)\n",
    "\n",
    "Agenda1.print_agenda()"
   ]
  },
  {
   "cell_type": "code",
   "execution_count": 39,
   "metadata": {
    "collapsed": false,
    "solution": "Exercise 3"
   },
   "outputs": [
    {
     "name": "stdout",
     "output_type": "stream",
     "text": [
      "party, start: 11:59:30, end: 13:18:00\n",
      "01:18:30\n"
     ]
    },
    {
     "ename": "AttributeError",
     "evalue": "'str' object has no attribute 'append'",
     "output_type": "error",
     "traceback": [
      "\u001b[1;31m---------------------------------------------------------------------------\u001b[0m",
      "\u001b[1;31mAttributeError\u001b[0m                            Traceback (most recent call last)",
      "\u001b[1;32m<ipython-input-39-0157e8d132bb>\u001b[0m in \u001b[0;36m<module>\u001b[1;34m()\u001b[0m\n\u001b[0;32m     82\u001b[0m     \u001b[1;32mprint\u001b[0m \u001b[0mEvent\u001b[0m\u001b[1;33m.\u001b[0m\u001b[0mduration\u001b[0m\u001b[1;33m(\u001b[0m\u001b[0mparty\u001b[0m\u001b[1;33m)\u001b[0m\u001b[1;33m\u001b[0m\u001b[0m\n\u001b[0;32m     83\u001b[0m \u001b[1;33m\u001b[0m\u001b[0m\n\u001b[1;32m---> 84\u001b[1;33m     \u001b[0mmy_day\u001b[0m\u001b[1;33m.\u001b[0m\u001b[0mput_in_agenda\u001b[0m\u001b[1;33m(\u001b[0m\u001b[0mparty\u001b[0m\u001b[1;33m)\u001b[0m\u001b[1;33m\u001b[0m\u001b[0m\n\u001b[0m\u001b[0;32m     85\u001b[0m     \u001b[1;32mprint\u001b[0m \u001b[0mmy_day\u001b[0m\u001b[1;33m\u001b[0m\u001b[0m\n",
      "\u001b[1;32m<ipython-input-28-dd7b7fbff948>\u001b[0m in \u001b[0;36mput_in_agenda\u001b[1;34m(self, item)\u001b[0m\n\u001b[0;32m     73\u001b[0m     \u001b[1;32mdef\u001b[0m \u001b[0mput_in_agenda\u001b[0m\u001b[1;33m(\u001b[0m\u001b[0mself\u001b[0m\u001b[1;33m,\u001b[0m \u001b[0mitem\u001b[0m\u001b[1;33m)\u001b[0m\u001b[1;33m:\u001b[0m\u001b[1;33m\u001b[0m\u001b[0m\n\u001b[0;32m     74\u001b[0m         \u001b[1;34m'''add new item to agenda'''\u001b[0m\u001b[1;33m\u001b[0m\u001b[0m\n\u001b[1;32m---> 75\u001b[1;33m         \u001b[0mself\u001b[0m\u001b[1;33m.\u001b[0m\u001b[0mevent_schedule\u001b[0m\u001b[1;33m.\u001b[0m\u001b[0mappend\u001b[0m\u001b[1;33m(\u001b[0m\u001b[0mitem\u001b[0m\u001b[1;33m)\u001b[0m\u001b[1;33m\u001b[0m\u001b[0m\n\u001b[0m\u001b[0;32m     76\u001b[0m \u001b[1;33m\u001b[0m\u001b[0m\n\u001b[0;32m     77\u001b[0m \u001b[1;32mif\u001b[0m \u001b[0m__name__\u001b[0m \u001b[1;33m==\u001b[0m \u001b[1;34m\"__main__\"\u001b[0m\u001b[1;33m:\u001b[0m\u001b[1;33m\u001b[0m\u001b[0m\n",
      "\u001b[1;31mAttributeError\u001b[0m: 'str' object has no attribute 'append'"
     ]
    }
   ],
   "source": [
    "class Event(object):\n",
    "    def __init__(self, name, (hour, minute, second), (hour_end, minute_end, second_end)):\n",
    "        self.name = name\n",
    "        self.start = Time(hour, minute, second)\n",
    "        self.end = Time(hour_end, minute_end, second_end)\n",
    "    \n",
    "    def __str__(self):\n",
    "        start = \"{}\".format(self.start)\n",
    "        end = \"{}\".format(self.end)\n",
    "        event_time = \"{}, start: {}, end: {}\". format(self.name, self.start, self.end)\n",
    "        return event_time \n",
    "\n",
    "    def duration(self):\n",
    "        event_duration = Time.__add__(self.start, self.end)\n",
    "        return event_duration\n",
    "        \n",
    "    \n",
    "class Time(object):\n",
    "    \n",
    "    def __init__(self, hour, minute, second):\n",
    "        self.hour = hour\n",
    "        self.minute = minute\n",
    "        self.second = second\n",
    "        \n",
    "    def __str__(self):\n",
    "        time = \"{:02}:{:02}:{:02}\".format(self.hour, self.minute, self.second)\n",
    "        return time\n",
    "\n",
    "    def __add__(self, other):\n",
    "        if isinstance(other, Time):\n",
    "            return self.add_time(other)\n",
    "        else:\n",
    "            return self.increment(other)\n",
    "\n",
    "    def add_time(self, other):\n",
    "        seconds = - self.time_to_int() + other.time_to_int()\n",
    "        return int_to_time(seconds)\n",
    "\n",
    "    def increment(self, seconds):\n",
    "        seconds += self.time_to_int()\n",
    "        return int_to_time(seconds)\n",
    "\n",
    "\n",
    "    def time_to_int(self):\n",
    "        minutes = self.hour * 60 + self.minute\n",
    "        seconds = minutes * 60 + self.second\n",
    "        return seconds\n",
    "\n",
    "def int_to_time(seconds):\n",
    "    time = Time(11, 59, 30)\n",
    "    minutes, time.second = divmod(seconds, 60)\n",
    "    time.hour, time.minute = divmod(minutes, 60)\n",
    "    return time\n",
    "\n",
    "\n",
    "\n",
    "class Agenda(object):\n",
    "    \n",
    "    def __init__(self, events= None):\n",
    "        if events == None:\n",
    "            events = []\n",
    "            self.event_schedule = events\n",
    "        \n",
    "    def __str__(self):\n",
    "        t = [ object.__str__(self)]\n",
    "        for obj in self.event_schedule:\n",
    "            s = '    ' + object.__str__(obj)\n",
    "            t.append(s)\n",
    "        return '\\n'.join(t)\n",
    "        \n",
    "    def is_feasible(self):\n",
    "        #if an event time between start/end time for another event, then not feasible\n",
    "        pass \n",
    "    \n",
    "    def put_in_agenda(self, item):\n",
    "        '''add new item to agenda'''\n",
    "        self.event_schedule.append(item)\n",
    "        \n",
    "if __name__ == \"__main__\":\n",
    "    party = Event('party', (11, 59, 30), (13, 18, 0)) \n",
    "    print party\n",
    "    print Event.duration(party)        \n",
    "        \n",
    "    my_day.put_in_agenda(party)\n",
    "    print my_day"
   ]
  },
  {
   "cell_type": "code",
   "execution_count": 26,
   "metadata": {
    "collapsed": false,
    "solution": "Exercise 3"
   },
   "outputs": [
    {
     "name": "stdout",
     "output_type": "stream",
     "text": [
      " Name: softdes \n",
      " Start Time: 13:30:00 \n",
      " End Time: 15:10:00\n",
      " Name: a event \n",
      " Start Time: 16:00:00 \n",
      " End Time: 16:30:00\n",
      " Name: some event \n",
      " Start Time: 17:00:00 \n",
      " End Time: 19:00:00\n"
     ]
    }
   ],
   "source": [
    "class Agenda(object):\n",
    "    ''' Contains some events'''\n",
    "\n",
    "    def __init__(self, events = None):\n",
    "        if events == None:\n",
    "            events = []\n",
    "        self.events = events\n",
    "    \n",
    "    def add_event(self, event):\n",
    "        self.events.append(event)\n",
    "    \n",
    "    def print_agenda(self):\n",
    "        self.events.sort()\n",
    "        for event in self.events:\n",
    "            print event\n",
    "        \n",
    "\n",
    "        \n",
    "today  = Agenda()\n",
    "today.add_event(softdes)\n",
    "today.add_event(Event('some event', Time(17,0,0), Time(19,0,0)))\n",
    "today.add_event(Event('a event', Time(16,0,0), Time(16,30,0)))\n",
    "today.print_agenda()\n"
   ]
  },
  {
   "cell_type": "code",
   "execution_count": 5,
   "metadata": {
    "collapsed": false,
    "solution": "Exercise 3"
   },
   "outputs": [
    {
     "data": {
      "text/plain": [
       "TestResults(failed=0, attempted=6)"
      ]
     },
     "execution_count": 5,
     "metadata": {},
     "output_type": "execute_result"
    }
   ],
   "source": [
    "class Agenda():\n",
    "    \"\"\"\n",
    "    >>> a = Agenda()\n",
    "    >>> a.add_event(Event(\"class\", Time(2,0,0), Time(5, 0, 0)))\n",
    "    >>> a.add_event(Event(\"lunch\", Time(12,15,0), Time(12,30,0)))\n",
    "    >>> a.print_agenda()\n",
    "    lunch: 12:15:00 -> 12:30:00\n",
    "    class: 02:00:00 -> 05:00:00\n",
    "    \"\"\"\n",
    "    def __init__(self):\n",
    "        self.events = []\n",
    "        \n",
    "    def add_event(self, e):\n",
    "        self.events.append((e.start, e))\n",
    "        self.events.sort()\n",
    "        \n",
    "    def print_agenda(self):\n",
    "        for e in self.events:\n",
    "            print e[1]\n",
    "            \n",
    "import doctest\n",
    "doctest.testmod()"
   ]
  },
  {
   "cell_type": "code",
   "execution_count": 27,
   "metadata": {
    "collapsed": false,
    "solution": "Exercise 3"
   },
   "outputs": [
    {
     "name": "stdout",
     "output_type": "stream",
     "text": [
      "your agenda for the day:\n",
      "fair1 starting at 01:00:00 and ending at 03:04:00\n",
      "fair2 starting at 02:00:00 and ending at 05:04:00\n",
      "fair3 starting at 03:00:00 and ending at 07:04:00\n"
     ]
    }
   ],
   "source": [
    "class Agenda(object):\n",
    "    \"\"\"Agenda class which contains several Events for the day. Includes a print_agenda method which prints out\n",
    "    your schedule for the day and an is_feasible method that returns True if your schedule has no time conflicts\"\"\"\n",
    "    \n",
    "    def __init__(self, day = 'Monday', scheduledEvents = []):\n",
    "        self.day = day\n",
    "        self.scheduledEvents = scheduledEvents\n",
    "    \n",
    "    def addEvent(self, thing):\n",
    "        self.scheduledEvents.append(thing)\n",
    "    \n",
    "    def print_agenda(self):\n",
    "        startEvent = {}\n",
    "        for event in self.scheduledEvents:\n",
    "            startEvent[event.startInfo()] = event\n",
    "        orderedEvents = startEvent.items()\n",
    "        orderedEvents.sort()\n",
    "        print 'your agenda for the day:'\n",
    "        for time in orderedEvents:\n",
    "            print startEvent[time[0]]\n",
    "            \n",
    "\n",
    "time1 = Time(1,0,0)\n",
    "time2 = Time(3,4)\n",
    "fair = Event('fair1',time1,time2)\n",
    "\n",
    "time3 = Time(2,0,0)\n",
    "time4 = Time(5,4)\n",
    "fair2 = Event('fair2',time3,time4)\n",
    "\n",
    "time5 = Time(3,0,0)\n",
    "time6 = Time(7,4)\n",
    "fair3 = Event('fair3',time5,time6)\n",
    "\n",
    "monday = Agenda('Monday', [fair,fair2,fair3])\n",
    "monday.print_agenda()\n",
    "        \n",
    "        "
   ]
  },
  {
   "cell_type": "code",
   "execution_count": 37,
   "metadata": {
    "collapsed": false,
    "solution": "Exercise 3"
   },
   "outputs": [
    {
     "ename": "TypeError",
     "evalue": "__init__() takes at most 3 arguments (4 given)",
     "output_type": "error",
     "traceback": [
      "\u001b[1;31m---------------------------------------------------------------------------\u001b[0m",
      "\u001b[1;31mTypeError\u001b[0m                                 Traceback (most recent call last)",
      "\u001b[1;32m<ipython-input-37-8e03d4d8c796>\u001b[0m in \u001b[0;36m<module>\u001b[1;34m()\u001b[0m\n\u001b[0;32m     65\u001b[0m \u001b[0mSoftDes\u001b[0m \u001b[1;33m=\u001b[0m \u001b[0mEvent\u001b[0m\u001b[1;33m(\u001b[0m\u001b[1;34m'SoftDes'\u001b[0m\u001b[1;33m,\u001b[0m \u001b[0mTime\u001b[0m\u001b[1;33m(\u001b[0m\u001b[1;36m1\u001b[0m\u001b[1;33m,\u001b[0m\u001b[1;36m30\u001b[0m\u001b[1;33m)\u001b[0m\u001b[1;33m,\u001b[0m \u001b[0mTime\u001b[0m\u001b[1;33m(\u001b[0m\u001b[1;36m3\u001b[0m\u001b[1;33m,\u001b[0m\u001b[1;36m10\u001b[0m\u001b[1;33m)\u001b[0m\u001b[1;33m,\u001b[0m \u001b[0mtoday\u001b[0m\u001b[1;33m)\u001b[0m\u001b[1;33m\u001b[0m\u001b[0m\n\u001b[0;32m     66\u001b[0m \u001b[1;33m\u001b[0m\u001b[0m\n\u001b[1;32m---> 67\u001b[1;33m \u001b[0mschedule\u001b[0m \u001b[1;33m=\u001b[0m \u001b[0mAgenda\u001b[0m\u001b[1;33m(\u001b[0m\u001b[1;34m'schedule'\u001b[0m\u001b[1;33m,\u001b[0m\u001b[0mtoday\u001b[0m\u001b[1;33m,\u001b[0m \u001b[1;33m[\u001b[0m\u001b[0msleep\u001b[0m\u001b[1;33m,\u001b[0m \u001b[0mQEA\u001b[0m\u001b[1;33m,\u001b[0m \u001b[0mmeeting\u001b[0m\u001b[1;33m,\u001b[0m \u001b[0mSoftDes\u001b[0m\u001b[1;33m]\u001b[0m\u001b[1;33m)\u001b[0m\u001b[1;33m\u001b[0m\u001b[0m\n\u001b[0m\u001b[0;32m     68\u001b[0m \u001b[0mschedule\u001b[0m\u001b[1;33m.\u001b[0m\u001b[0mprint_agenda\u001b[0m\u001b[1;33m(\u001b[0m\u001b[1;33m)\u001b[0m\u001b[1;33m\u001b[0m\u001b[0m\n\u001b[0;32m     69\u001b[0m \u001b[1;33m\u001b[0m\u001b[0m\n",
      "\u001b[1;31mTypeError\u001b[0m: __init__() takes at most 3 arguments (4 given)"
     ]
    }
   ],
   "source": [
    "class Time(object):\n",
    "    '''Represents the time of day.\n",
    "    \n",
    "    attributes: hour, minute\n",
    "    '''\n",
    "    def __init__(self, hour=0, minute=0):\n",
    "        self.hour = hour\n",
    "        self.minute = minute\n",
    "    def __str__(self):\n",
    "        return '%.2d:%.2d' %(self.hour,self.minute)\n",
    "    \n",
    "class Date(object):\n",
    "    def __init__(self, month=1, day=1, year=2016):\n",
    "        self.month = month\n",
    "        self.day = day\n",
    "        self.year = year\n",
    "    def __str__(self):\n",
    "        return '%.2d/%.2d/%.2d' %(self.month, self.day, self.year)\n",
    "    \n",
    "class Event(object):\n",
    "    def __init__(self, name='', start=Time(), end=Time(), date=Date()):\n",
    "        self.name = name\n",
    "        self.start = start\n",
    "        self.end = end\n",
    "        self.date = date\n",
    "    def __str__(self):\n",
    "        return '\\\"%s\\\" begins at %s and ends at %s on %s' %(self.name, self.start, self.end, self.date)\n",
    "    def durationMinutes(self):\n",
    "        end = self.end\n",
    "        start = self.start\n",
    "        duration = (end.hour*60+end.minute)-(start.hour*60-start.minute)\n",
    "        encouragement = ''\n",
    "        if duration <270 and 'sleep' in self.name.lower(): #if you need to go to bed:\n",
    "            encouragement = 'You got this. I believe in you.' #print some encouraging words because you probably need it honestly\n",
    "        return '\\\"%s\\\" is %s minutes long. %s' %(self.name, duration, encouragement)\n",
    "    def durationHoursMinutes(self):\n",
    "        end = self.end\n",
    "        start = self.start\n",
    "        total_minutes = (end.hour*60+end.minute)-(start.hour*60-start.minute)\n",
    "        hours = total_minutes/60\n",
    "        minutes = total_minutes%60\n",
    "        return '\\\"%s\\\" is %.2d:%.2d long' %(self.name, hours, minutes)\n",
    "\n",
    "\n",
    "class Agenda(object):\n",
    "    def __init__(self, date=Date(), contents = None):\n",
    "        self.date = date\n",
    "        if contents == None:\n",
    "            contents = []\n",
    "        self.contents = contents\n",
    "    def print_agenda(self):\n",
    "        print 'Agenda for %s' %(self.date)\n",
    "        for i in contents:\n",
    "            print i\n",
    "        \n",
    "            \n",
    "    \n",
    "bedtime = Time(6, 15)\n",
    "wakeup = Time(8, 56)\n",
    "today = Date(2,29,2016)\n",
    "sleep = Event('Get Some Sleep You Moron', bedtime, wakeup, today)\n",
    "\n",
    "QEA = Event('QEA', Time(9,0), Time(12, 30), today)\n",
    "meeting = Event('Lunch Meeting', Time(12, 35), Time(1, 25), today)\n",
    "SoftDes = Event('SoftDes', Time(1,30), Time(3,10), today)\n",
    "\n",
    "schedule = Agenda('schedule',today, [sleep, QEA, meeting, SoftDes])\n",
    "schedule.print_agenda()\n",
    "\n",
    "        "
   ]
  },
  {
   "cell_type": "code",
   "execution_count": 59,
   "metadata": {
    "collapsed": false,
    "solution": "Exercise 3"
   },
   "outputs": [
    {
     "name": "stdout",
     "output_type": "stream",
     "text": [
      "['Birthday Party', 'BBQ', 'Swimming Lesson']\n"
     ]
    }
   ],
   "source": [
    "# time in military mode (out of 24 hours)\n",
    "\n",
    "class Time(object):\n",
    "    \"\"\"Represents time\"\"\"\n",
    "    def __init__(self, hour=0, minute=0, second=0):\n",
    "        self.hour = hour\n",
    "        self.minute = minute\n",
    "        self.second = second\n",
    "    def __str__(self):\n",
    "        return '%.2d:%.2d:%.2d' % (self.hour, self.minute, self.second)\n",
    "\n",
    "class Event():\n",
    "    \"\"\"Calendar application\"\"\"\n",
    "    def __init__(self, name, start, end):\n",
    "        self.name = name\n",
    "        self.start = start\n",
    "        self.end = end\n",
    "    def __str__(self):\n",
    "        return '%s, %s, %s' % (self.name, self.start, self.end)\n",
    "    def duration(self):   \n",
    "        if self.end.hour > self.start.hour:\n",
    "            end_second = self.end.hour * 3600 + self.end.minute * 60 + self.end.second\n",
    "            start_second = self.start.hour * 3600 + self.start.minute * 60 + self.start.second\n",
    " \n",
    "        else:\n",
    "            end_second = (12 + self.end.hour) * 3600 + self.end.minute * 60 + self.end.second\n",
    "            start_second = self.start.hour * 3600 + self.start.minute * 60 + self.start.second\n",
    "            \n",
    "        time_total = float((end_second - start_second) / 60)\n",
    "        return 'Duration: %s minutes' % (time_total)\n",
    "    def int_to_time(self, seconds):\n",
    "        time = Time()\n",
    "        time.minute, time.second = divmod(seconds, 60)\n",
    "        time.hour, time.minute = divmod(minutes, 60)\n",
    "        return time\n",
    "    \n",
    "class Agenda(object):\n",
    "    \"\"\"Store multiple events within Agenda class\"\"\"\n",
    "    def __init__(self, contents=None):\n",
    "        if contents == None:\n",
    "            contents = []\n",
    "        self.contents = contents\n",
    "    def __str__(self):\n",
    "        t = []\n",
    "        for obj in self.contents:\n",
    "            s = '    ' + object.__str__(obj)\n",
    "            t.append(s)\n",
    "        return '\\n'.join(t)\n",
    "    def time_to_int(self, time):\n",
    "        minutes = time.hour * 60 + time.minute\n",
    "        seconds = minutes * 60 + time.second\n",
    "        return seconds\n",
    "    def print_agenda(self):\n",
    "        \"\"\"add a new event to the agenda in chronological order and prints agenda\"\"\"\n",
    "        agenda = []\n",
    "        for i in range(len(self.contents)):\n",
    "            minPos = i\n",
    "            for j in range(i, len(self.contents)):\n",
    "                if(self.time_to_int(self.contents[j].start) < self.time_to_int(self.contents[minPos].start)):\n",
    "                    minPos = j\n",
    "            temp = self.contents[minPos]\n",
    "            self.contents[minPos] = self.contents[i]\n",
    "            self.contents[i] = temp\n",
    "    \n",
    "        for i in range(len(self.contents)):\n",
    "            agenda.append(self.contents[i].name)\n",
    "        print agenda\n",
    "\n",
    "\n",
    "cal1 = Event('Birthday Party', Time(10,30), Time(13,30))\n",
    "cal2 = Event('BBQ', Time(12), Time(14))\n",
    "cal3 = Event('Swimming Lesson', Time(18), Time(20))\n",
    "agenda = Agenda([cal1, cal2, cal3])\n",
    "agenda.print_agenda()"
   ]
  },
  {
   "cell_type": "code",
   "execution_count": 26,
   "metadata": {
    "collapsed": false,
    "solution": "Exercise 3"
   },
   "outputs": [
    {
     "ename": "AttributeError",
     "evalue": "type object 'Event' has no attribute 'start'",
     "output_type": "error",
     "traceback": [
      "\u001b[1;31m---------------------------------------------------------------------------\u001b[0m",
      "\u001b[1;31mAttributeError\u001b[0m                            Traceback (most recent call last)",
      "\u001b[1;32m<ipython-input-26-1c522823088d>\u001b[0m in \u001b[0;36m<module>\u001b[1;34m()\u001b[0m\n\u001b[0;32m     27\u001b[0m \u001b[0mevent_list\u001b[0m \u001b[1;33m=\u001b[0m \u001b[1;33m[\u001b[0m\u001b[0mevent1\u001b[0m\u001b[1;33m,\u001b[0m \u001b[0mevent2\u001b[0m\u001b[1;33m,\u001b[0m \u001b[0mevent3\u001b[0m\u001b[1;33m]\u001b[0m\u001b[1;33m\u001b[0m\u001b[0m\n\u001b[0;32m     28\u001b[0m \u001b[0magenda\u001b[0m \u001b[1;33m=\u001b[0m \u001b[0mAgenda\u001b[0m\u001b[1;33m(\u001b[0m\u001b[0mevent_list\u001b[0m\u001b[1;33m)\u001b[0m\u001b[1;33m\u001b[0m\u001b[0m\n\u001b[1;32m---> 29\u001b[1;33m \u001b[1;32mprint\u001b[0m \u001b[0magenda\u001b[0m\u001b[1;33m\u001b[0m\u001b[0m\n\u001b[0m\u001b[0;32m     30\u001b[0m \u001b[1;33m\u001b[0m\u001b[0m\n\u001b[0;32m     31\u001b[0m \u001b[1;33m\u001b[0m\u001b[0m\n",
      "\u001b[1;32m<ipython-input-26-1c522823088d>\u001b[0m in \u001b[0;36m__str__\u001b[1;34m(self)\u001b[0m\n\u001b[0;32m     17\u001b[0m         \u001b[0mw\u001b[0m \u001b[1;33m=\u001b[0m \u001b[1;33m[\u001b[0m\u001b[1;33m]\u001b[0m\u001b[1;33m\u001b[0m\u001b[0m\n\u001b[0;32m     18\u001b[0m         \u001b[1;32mfor\u001b[0m \u001b[0mi\u001b[0m \u001b[1;32min\u001b[0m \u001b[0mself\u001b[0m\u001b[1;33m.\u001b[0m\u001b[0mevent_list\u001b[0m\u001b[1;33m:\u001b[0m\u001b[1;33m\u001b[0m\u001b[0m\n\u001b[1;32m---> 19\u001b[1;33m             \u001b[0mevent\u001b[0m\u001b[1;33m.\u001b[0m\u001b[0mstarts\u001b[0m\u001b[1;33m[\u001b[0m\u001b[0mi\u001b[0m\u001b[1;33m]\u001b[0m \u001b[1;33m=\u001b[0m \u001b[0mEvent\u001b[0m\u001b[1;33m.\u001b[0m\u001b[0mstart\u001b[0m\u001b[1;33m\u001b[0m\u001b[0m\n\u001b[0m\u001b[0;32m     20\u001b[0m         \u001b[1;32mfor\u001b[0m \u001b[0mc\u001b[0m \u001b[1;32min\u001b[0m \u001b[0mrange\u001b[0m\u001b[1;33m(\u001b[0m\u001b[0mlen\u001b[0m\u001b[1;33m(\u001b[0m\u001b[0mevent_starts\u001b[0m\u001b[1;33m)\u001b[0m\u001b[1;33m)\u001b[0m\u001b[1;33m:\u001b[0m\u001b[1;33m\u001b[0m\u001b[0m\n\u001b[0;32m     21\u001b[0m             \u001b[0mw\u001b[0m\u001b[1;33m.\u001b[0m\u001b[0mappend\u001b[0m\u001b[1;33m(\u001b[0m\u001b[0mmin\u001b[0m\u001b[1;33m(\u001b[0m\u001b[0mevent_starts\u001b[0m\u001b[1;33m)\u001b[0m\u001b[1;33m)\u001b[0m\u001b[1;33m\u001b[0m\u001b[0m\n",
      "\u001b[1;31mAttributeError\u001b[0m: type object 'Event' has no attribute 'start'"
     ]
    }
   ],
   "source": [
    "class Agenda(object):\n",
    "    \"A stored list of events for the day\"\n",
    "#     class Event(object):\n",
    "#         \"An event? Attributes: name, start, end\"\n",
    "#         def __init__(self, name, start, end):\n",
    "#             self.name = name\n",
    "#             self.start = start\n",
    "#             self.end = end\n",
    "#         def __str__(self):\n",
    "#             return '%s starts at %s and ends at %s' %(self.name,self.start,self.end)\n",
    "    def __init__(self,event_list):\n",
    "        self.event_list = event_list\n",
    "        for i in range(len(event_list)):\n",
    "            self.event_i = event_list[i]\n",
    "    def __str__(self):\n",
    "        event_starts = {}\n",
    "        w = []\n",
    "        for i in self.event_list:\n",
    "            event.starts[i] = Event.start\n",
    "        for c in range(len(event_starts)):\n",
    "            w.append(min(event_starts))\n",
    "            event_starts.pop(min(event_starts))\n",
    "        return w\n",
    "event1 = Event('Picnic', 12, 2)\n",
    "event2 = Event('Game', 2, 4)\n",
    "event3 = Event('Dinner', 6, 7)\n",
    "event_list = [event1, event2, event3]\n",
    "agenda = Agenda(event_list)\n",
    "print agenda\n",
    "            \n",
    "        "
   ]
  },
  {
   "cell_type": "markdown",
   "metadata": {},
   "source": [
    "I'm going to make it a list ordered based off of the start time. I reaaally feel like a linked list would be better than a normal list (for adding events in the middle), but I'll disregard my effeciency urges right now."
   ]
  },
  {
   "cell_type": "markdown",
   "metadata": {},
   "source": [
    "I think I should store the events as a list in the attributes of agenda."
   ]
  },
  {
   "cell_type": "code",
   "execution_count": 5,
   "metadata": {
    "collapsed": false,
    "solution": "Exercise 3"
   },
   "outputs": [
    {
     "ename": "AttributeError",
     "evalue": "'str' object has no attribute 'jt'",
     "output_type": "error",
     "traceback": [
      "\u001b[1;31m---------------------------------------------------------------------------\u001b[0m",
      "\u001b[1;31mAttributeError\u001b[0m                            Traceback (most recent call last)",
      "\u001b[1;32m<ipython-input-5-042030a35d51>\u001b[0m in \u001b[0;36m<module>\u001b[1;34m()\u001b[0m\n\u001b[0;32m     18\u001b[0m \u001b[0mevents\u001b[0m \u001b[1;33m=\u001b[0m \u001b[1;33m[\u001b[0m\u001b[0mQEA\u001b[0m\u001b[1;33m,\u001b[0m \u001b[0mFaculty_Talk\u001b[0m\u001b[1;33m,\u001b[0m \u001b[0mSoftDes\u001b[0m\u001b[1;33m,\u001b[0m \u001b[0mFWOP\u001b[0m\u001b[1;33m,\u001b[0m \u001b[0mORS\u001b[0m\u001b[1;33m]\u001b[0m\u001b[1;33m\u001b[0m\u001b[0m\n\u001b[0;32m     19\u001b[0m \u001b[1;33m\u001b[0m\u001b[0m\n\u001b[1;32m---> 20\u001b[1;33m \u001b[1;32mprint\u001b[0m \u001b[0mAgenda\u001b[0m\u001b[1;33m(\u001b[0m\u001b[0mevents\u001b[0m\u001b[1;33m)\u001b[0m\u001b[1;33m\u001b[0m\u001b[0m\n\u001b[0m",
      "\u001b[1;32m<ipython-input-5-042030a35d51>\u001b[0m in \u001b[0;36m__str__\u001b[1;34m(self)\u001b[0m\n\u001b[0;32m     10\u001b[0m             \u001b[0ms\u001b[0m \u001b[1;33m=\u001b[0m \u001b[1;34m'    '\u001b[0m \u001b[1;33m+\u001b[0m \u001b[0mobject\u001b[0m\u001b[1;33m.\u001b[0m\u001b[0m__str__\u001b[0m\u001b[1;33m(\u001b[0m\u001b[0mobj\u001b[0m\u001b[1;33m)\u001b[0m\u001b[1;33m\u001b[0m\u001b[0m\n\u001b[0;32m     11\u001b[0m             \u001b[0mt\u001b[0m\u001b[1;33m.\u001b[0m\u001b[0mappend\u001b[0m\u001b[1;33m(\u001b[0m\u001b[0ms\u001b[0m\u001b[1;33m)\u001b[0m\u001b[1;33m\u001b[0m\u001b[0m\n\u001b[1;32m---> 12\u001b[1;33m         \u001b[1;32mreturn\u001b[0m \u001b[1;34m'\\n'\u001b[0m\u001b[1;33m.\u001b[0m\u001b[0mjt\u001b[0m\u001b[1;33m\u001b[0m\u001b[0m\n\u001b[0m\u001b[0;32m     13\u001b[0m \u001b[1;33m\u001b[0m\u001b[0m\n\u001b[0;32m     14\u001b[0m     \u001b[1;32mdef\u001b[0m \u001b[0madd_event\u001b[0m\u001b[1;33m(\u001b[0m\u001b[0mself\u001b[0m\u001b[1;33m,\u001b[0m \u001b[0mnew_event\u001b[0m\u001b[1;33m)\u001b[0m\u001b[1;33m:\u001b[0m\u001b[1;33m\u001b[0m\u001b[0m\n",
      "\u001b[1;31mAttributeError\u001b[0m: 'str' object has no attribute 'jt'"
     ]
    }
   ],
   "source": [
    "class Agenda(object):\n",
    "    def __init__(self, events=None):\n",
    "        if events == None:\n",
    "            events = []\n",
    "        self.events = events\n",
    "        \n",
    "    def __str__(self):\n",
    "        t = [ object.__str__(self) + ' with pouch contents:' ]\n",
    "        for obj in self.events:\n",
    "            s = '    ' + object.__str__(obj)\n",
    "            t.append(s)\n",
    "        return '\\n'.jt \n",
    "    \n",
    "    ## I know this doesn't work, but I've been too busy to make both 10 and 11 function this weekend. Sorry\n",
    "    \n",
    "    def add_event(self, new_event):\n",
    "        self.events.append(new_event)\n",
    "        \n",
    "        \n",
    "events = [QEA, Faculty_Talk, SoftDes, FWOP, ORS]\n",
    "\n",
    "print Agenda(events)"
   ]
  },
  {
   "cell_type": "code",
   "execution_count": 21,
   "metadata": {
    "collapsed": false,
    "solution": "Exercise 3"
   },
   "outputs": [
    {
     "name": "stdout",
     "output_type": "stream",
     "text": [
      "Do ReadingJournal from 14:55:0 to 15:19:59\n",
      "P&M Meeting from 15:0:0 to 16:0:0\n",
      "SoftDes from 15:20:0 to 17:0:0\n",
      "\n",
      "False\n"
     ]
    }
   ],
   "source": [
    "class Event:\n",
    "    def __init__(me, name, start, end):\n",
    "        me.name = name\n",
    "        if end > start:\n",
    "            me.start = start\n",
    "            me.end = end\n",
    "        else:\n",
    "            me.start = end\n",
    "            me.end = start\n",
    "    \n",
    "    def __str__(me):\n",
    "        return \"{} from {} to {}\".format(me.name, me.start, me.end)\n",
    "    \n",
    "    def duration(me):\n",
    "        st = me.start\n",
    "        nd = me.end\n",
    "        return (nd.hour-st.hour)*60 + (nd.minute-st.minute) + (nd.second-st.second)/60.0\n",
    "    \n",
    "    def conflicts_with(this, that):\n",
    "        return this.start < that.end and that.start < this.end\n",
    "    \n",
    "    def __lt__(this,that):\n",
    "        return this.start < that.start\n",
    "    \n",
    "    def __gt__(this,that):\n",
    "        return this.start > that.start\n",
    "    \n",
    "    \n",
    "class Agenda:\n",
    "    def __init__(me, events=None):\n",
    "        if events == None:\n",
    "            me.events = []\n",
    "        else:\n",
    "            me.events = events\n",
    "            me.sort()\n",
    "    \n",
    "    def __str__(me):\n",
    "        if len(me) > 0:\n",
    "            output = \"\"\n",
    "            for e in me.events:\n",
    "                output = output + str(e) + \"\\n\"\n",
    "            return output\n",
    "        else:\n",
    "            return \"There is nothing on your agenda.\"\n",
    "    \n",
    "    def __len__(me):\n",
    "        return len(me.events)\n",
    "    \n",
    "    def sort(me):\n",
    "        for i in range(0,len(me)):\n",
    "            for j in range(0,i):\n",
    "                if me.events[i] < me.events[j]:\n",
    "                    temp = me.events[i]\n",
    "                    me.events[i] = me.events[j]\n",
    "                    me.events[j] = temp\n",
    "                    break\n",
    "    \n",
    "    def print_agenda(me):\n",
    "        print me\n",
    "    \n",
    "    def is_feasible(me):\n",
    "        for i in range(0,len(me)):\n",
    "            for j in range(0,i):\n",
    "                if me.events[i].conflicts_with(me.events[j]):\n",
    "                    return False\n",
    "        return True\n",
    "    \n",
    "\n",
    "monday = Agenda([Event(\"SoftDes\",Time(15,20,0),Time(17,0,0)), Event(\"Do ReadingJournal\",Time(14,55,0),Time(15,19,59)), Event(\"P&M Meeting\",Time(15,0,0),Time(16,0,0))])\n",
    "monday.print_agenda()\n",
    "print monday.is_feasible()"
   ]
  },
  {
   "cell_type": "code",
   "execution_count": 12,
   "metadata": {
    "collapsed": false,
    "solution": "Exercise 3"
   },
   "outputs": [
    {
     "name": "stdout",
     "output_type": "stream",
     "text": [
      "QEA\n",
      "P&M\n",
      "SofDes\n"
     ]
    }
   ],
   "source": [
    "class Agenda(object):\n",
    "    def __init__(self, schedule = []):\n",
    "        self.schedule = schedule\n",
    "    def __str__(self):\n",
    "        return str(self.schedule)\n",
    "    def schedule_event(self, name, start, end):\n",
    "        event = Event(name, start, end)\n",
    "        self.schedule.append((event.start.__str__(), event.end.__str__(), event.name))\n",
    "    def print_agenda(self):\n",
    "        in_order = sorted(self.schedule)\n",
    "        for item in in_order:\n",
    "            print item[2]\n",
    "        \n",
    "       \n",
    "my_agenda = Agenda()\n",
    "my_agenda.schedule_event('SofDes', Time(13,30), Time(15, 10))\n",
    "my_agenda.schedule_event('QEA', Time(1, 30), Time(15, 30))\n",
    "my_agenda.schedule_event('P&M', Time(4), Time(7))\n",
    "my_agenda.print_agenda()"
   ]
  },
  {
   "cell_type": "code",
   "execution_count": 27,
   "metadata": {
    "collapsed": false,
    "solution": "Exercise 3"
   },
   "outputs": [
    {
     "name": "stdout",
     "output_type": "stream",
     "text": [
      "Event Coding from 3:20:5 to 5:15:3\n",
      "Event Not Coding from 7:48:5 to 9:23:6\n",
      "Event Maybe Coding from 11:52:16 to 12:44:44\n",
      "True\n",
      "Event Coding from 3:20:5 to 5:15:3\n",
      "Event Not Coding from 4:48:5 to 9:23:6\n",
      "Event Maybe Coding from 11:52:16 to 12:44:44\n",
      "False\n"
     ]
    }
   ],
   "source": [
    "class Agenda():\n",
    "    def __init__(self, l = None):\n",
    "        self.events = [] if(l == None) else l\n",
    "    def addEvent(self, e):\n",
    "        self.events.append(e)\n",
    "    def print_agenda(self):\n",
    "        temp = sorted(self.events, key = lambda event: event.start.hour*3600 + event.start.minute*60 + event.start.second)\n",
    "        for e in temp:\n",
    "            print(e)\n",
    "    def is_feasible(self):\n",
    "        temp = sorted(self.events, key = lambda event: event.start.hour*3600 + event.start.minute*60 + event.start.second)\n",
    "        cur = temp[0].end.hour*3600 + temp[0].end.minute*60 + temp[0].end.second\n",
    "        for x in range(1, len(temp)):\n",
    "            n = temp[x].start.hour*3600 + temp[x].start.minute*60 + temp[x].start.second\n",
    "            if(n < cur):\n",
    "                return False\n",
    "            cur = temp[x].end.hour*3600 + temp[x].end.minute*60 + temp[x].end.second\n",
    "        return True\n",
    "a = Agenda([Event('Not Coding', Time(7, 48, 5), Time(9, 23, 6)), Event('Coding', Time(3, 20, 5), Time(5, 15, 3)), Event('Maybe Coding', Time(11, 52, 16), Time(12, 44, 44))])\n",
    "a.print_agenda()\n",
    "print(a.is_feasible())\n",
    "b = Agenda([Event('Not Coding', Time(4, 48, 5), Time(9, 23, 6)), Event('Coding', Time(3, 20, 5), Time(5, 15, 3)), Event('Maybe Coding', Time(11, 52, 16), Time(12, 44, 44))])\n",
    "b.print_agenda()\n",
    "print(b.is_feasible())"
   ]
  },
  {
   "cell_type": "code",
   "execution_count": 22,
   "metadata": {
    "collapsed": false,
    "solution": "Exercise 4"
   },
   "outputs": [
    {
     "name": "stdout",
     "output_type": "stream",
     "text": [
      "Do ReadingJournal from 14:55:0 to 15:19:59\n",
      "P&M Meeting from 15:0:0 to 16:0:0\n",
      "SoftDes from 15:20:0 to 17:0:0 with ['Paul', 'Ben', 'Oliver']\n",
      "\n",
      "False\n"
     ]
    }
   ],
   "source": [
    "class Time:\n",
    "    def __init__(me, h,m,s):\n",
    "        me.hour = h\n",
    "        me.minute = m\n",
    "        me.second = s\n",
    "    \n",
    "    def __str__(me):\n",
    "        return \"{}:{}:{}\".format(me.hour, me.minute, me.second)\n",
    "    \n",
    "    def __lt__(this, that):\n",
    "        return this.hour*3600+this.minute*60+this.second < that.hour*3600+that.minute*60+that.second\n",
    "    \n",
    "    def __gt__(this, that):\n",
    "        return this.hour*3600+this.minute*60+this.second > that.hour*3600+that.minute*60+that.second\n",
    "\n",
    "    \n",
    "class Event:\n",
    "    def __init__(me, name, start, end, people=None):\n",
    "        me.name = name\n",
    "        if end > start:\n",
    "            me.start = start\n",
    "            me.end = end\n",
    "        else:\n",
    "            me.start = end\n",
    "            me.end = start\n",
    "        if people == None:\n",
    "            me.people = []\n",
    "        else:\n",
    "            me.people = people\n",
    "            \n",
    "    \n",
    "    def __str__(me):\n",
    "        if len(me.people) <= 0:\n",
    "            return \"{} from {} to {}\".format(me.name, me.start, me.end)\n",
    "        else:\n",
    "            return \"{} from {} to {} with {}\".format(me.name, me.start, me.end, me.people)\n",
    "    \n",
    "    def duration(me):\n",
    "        st = me.start\n",
    "        nd = me.end\n",
    "        return (nd.hour-st.hour)*60 + (nd.minute-st.minute) + (nd.second-st.second)/60.0\n",
    "    \n",
    "    def conflicts_with(this, that):\n",
    "        return this.start < that.end and that.start < this.end\n",
    "    \n",
    "    def __lt__(this,that):\n",
    "        return this.start < that.start\n",
    "    \n",
    "    def __gt__(this,that):\n",
    "        return this.start > that.start\n",
    "    \n",
    "    \n",
    "class Agenda:\n",
    "    def __init__(me, events=None):\n",
    "        if events == None:\n",
    "            me.events = []\n",
    "        else:\n",
    "            me.events = events\n",
    "            me.sort()\n",
    "    \n",
    "    def __str__(me):\n",
    "        if len(me) > 0:\n",
    "            output = \"\"\n",
    "            for e in me.events:\n",
    "                output = output + str(e) + \"\\n\"\n",
    "            return output\n",
    "        else:\n",
    "            return \"There is nothing on your agenda.\"\n",
    "    \n",
    "    def __len__(me):\n",
    "        return len(me.events)\n",
    "    \n",
    "    def sort(me):\n",
    "        for i in range(0,len(me)):\n",
    "            for j in range(0,i):\n",
    "                if me.events[i] < me.events[j]:\n",
    "                    temp = me.events[i]\n",
    "                    me.events[i] = me.events[j]\n",
    "                    me.events[j] = temp\n",
    "                    break\n",
    "    \n",
    "    def print_agenda(me):\n",
    "        print me\n",
    "    \n",
    "    def is_feasible(me):\n",
    "        for i in range(0,len(me)):\n",
    "            for j in range(0,i):\n",
    "                if me.events[i].conflicts_with(me.events[j]):\n",
    "                    return False\n",
    "        return True\n",
    "    \n",
    "\n",
    "monday = Agenda([Event(\"SoftDes\",Time(15,20,0),Time(17,0,0),[\"Paul\",\"Ben\",\"Oliver\"]), Event(\"Do ReadingJournal\",Time(14,55,0),Time(15,19,59)), Event(\"P&M Meeting\",Time(15,0,0),Time(16,0,0))])\n",
    "monday.print_agenda()\n",
    "print monday.is_feasible()"
   ]
  },
  {
   "cell_type": "code",
   "execution_count": 30,
   "metadata": {
    "collapsed": false,
    "solution": "Exercise 4"
   },
   "outputs": [
    {
     "name": "stdout",
     "output_type": "stream",
     "text": [
      "You agenda for the day is \n",
      "Chickenfest will start at 1:30:15 and end at 2:30:0\n",
      "Trollfest will start at 2:45:30 and end at 5:15:20\n",
      "HubbaHubbafest will start at 7:45:20 and end at 10:10:10\n",
      "\n"
     ]
    }
   ],
   "source": [
    "import pickle\n",
    "\n",
    "def to_string(Agenda):\n",
    "    \"\"\"\n",
    "    The purpose of this method is to make a string that holds the Agenda of print_agenda such that it can be pickled.\n",
    "    \"\"\"\n",
    "    \n",
    "    result = \"\"\n",
    "    result += \"You agenda for the day is \\n\"\n",
    "    for event in Agenda.chronologicalevents:\n",
    "            result += str(event)\n",
    "            result += \"\\n\"\n",
    "    return result        \n",
    "    \n",
    "\n",
    "myAgenda = Agenda(Event('Chickenfest',Time(1,30,15), Time(2,30,00)),Event('HubbaHubbafest', Time(7, 45, 20), Time(10,10,10)),Event('Trollfest', Time(2,45,30), Time(5,15,20)))\n",
    "myAgenda.sort_events()\n",
    "chicken = to_string(myAgenda)\n",
    "\n",
    "filechicken = open(\"Agenda\", \"w\")\n",
    "pickle.dump(chicken, filechicken)\n",
    "filechicken.close()\n",
    "\n",
    "filechicken = open(\"Agenda\", 'r')\n",
    "chicken2 = pickle.load(filechicken)\n",
    "filechicken.close()\n",
    "\n",
    "print chicken\n",
    "\n"
   ]
  },
  {
   "cell_type": "markdown",
   "metadata": {
    "is_question": true,
    "problem": "Exercise 4"
   },
   "source": [
    "### Going Beyond (optional)\n",
    "\n",
    "Some ideas for taking your application further:\n",
    " - Add people and/or places to the mix to create a scheduling assistant\n",
    " - Extend support for day-of-week or full date. A word of warning: dealing with dates and times in real applications is difficult due to the huge number of special cases (Perfect example: this reading journal is due on Leap Day). Consider using something like the Python [datetime](https://docs.python.org/2/library/datetime.html) module.\n",
    " - Use pickle or some other persistence strategy to save and load your `Agenda`."
   ]
  },
  {
   "cell_type": "code",
   "execution_count": 24,
   "metadata": {
    "collapsed": false,
    "solution": "Exercise 4"
   },
   "outputs": [
    {
     "name": "stdout",
     "output_type": "stream",
     "text": [
      "01:02:03\n",
      "Name: SofDes Section 1\n",
      "Start: 13:30:00\n",
      "End: 15:10:00\n",
      "100\n",
      "\n",
      "Name: SofDes Section 1\n",
      "Start: 13:30:00\n",
      "End: 15:10:00\n",
      "Name: SofDes Section 2\n",
      "Start: 15:20:00\n",
      "End: 17:00:00\n",
      "\n",
      "True\n",
      "\n",
      "Name: SofDes Section 1\n",
      "Start: 13:30:00\n",
      "End: 15:10:00\n",
      "Name: MechProto\n",
      "Start: 13:30:00\n",
      "End: 15:10:00\n",
      "Name: SofDes Section 2\n",
      "Start: 15:20:00\n",
      "End: 17:00:00\n",
      "\n",
      "False\n"
     ]
    }
   ],
   "source": [
    "#All the exercises in one cell.\n",
    "\n",
    "class Time:\n",
    "    def __init__(self, hours, minutes, seconds):\n",
    "        self.hours = hours\n",
    "        self.minutes=minutes\n",
    "        self.seconds=seconds\n",
    "        \n",
    "    def __str__(self):\n",
    "        return '{:02d}:{:02d}:{:02d}'.format(self.hours, self.minutes, self.seconds)\n",
    "    \n",
    "    def diff(self, other):\n",
    "        \"\"\"Returns the difference between 2 times as a Time, self as start time, other as end time\"\"\"\n",
    "        hoursDiff=other.hours-self.hours\n",
    "        minDiff = other.minutes-self.minutes\n",
    "        secDiff = other.seconds-self.seconds\n",
    "        if secDiff<0:\n",
    "            minDiff-=1\n",
    "            secDiff+=60\n",
    "        if minDiff<0:\n",
    "            hoursDiff-=1\n",
    "            minDiff+=60\n",
    "        return Time(hoursDiff,minDiff,secDiff)\n",
    "    \n",
    "    def totalHours(self):\n",
    "        return self.hours\n",
    "    \n",
    "    def totalMinutes(self):\n",
    "        return self.hours*60+self.minutes\n",
    "    \n",
    "    def totalSeconds(self):\n",
    "        return self.hours*3600+self.minutes*60+self.seconds\n",
    "\n",
    "class Event:\n",
    "    def __init__(self, name='Untitled', start=Time(0,0,0),end=Time(0,0,0)):\n",
    "        self.name = name\n",
    "        self.start = start\n",
    "        self.end = end\n",
    "        \n",
    "    def __str__(self):\n",
    "        return 'Name: {}\\nStart: {}\\nEnd: {}'.format(self.name, str(self.start), str(self.end))\n",
    "    \n",
    "    def duration(self):\n",
    "        return self.start.diff(self.end).totalMinutes()\n",
    "    \n",
    "    def __cmp__(self,other):\n",
    "        return other.start.diff(self.start).totalSeconds()\n",
    "    \n",
    "\n",
    "class Agenda:\n",
    "    def __init__(self, *events):\n",
    "        self.schedule = []\n",
    "        for e in events:\n",
    "            self.schedule.append(e)\n",
    "        self.schedule.sort()\n",
    "    def addEvent(self,e):\n",
    "        self.schedule.append(e)\n",
    "        self.schedule.sort()\n",
    "    def __str__(self):\n",
    "        s = ''\n",
    "        for e in self.schedule:\n",
    "            s+=str(e)+'\\n'\n",
    "        return s\n",
    "    def print_agenda(self):\n",
    "        print str(self)\n",
    "        \n",
    "    def is_feasible(self):\n",
    "        feasible = True\n",
    "        for i in range(len(self.schedule)-1):\n",
    "            # if the duration between first event's end and second event's start is >=0\n",
    "            if self.schedule[i].end.diff(self.schedule[i+1].start).totalSeconds()<0:\n",
    "                feasible = False\n",
    "        return feasible\n",
    "    \n",
    "if __name__=='__main__':\n",
    "    t = Time(1,2,3)\n",
    "    print t\n",
    "    e = Event('SofDes Section 1', Time(13,30,0),Time(15,10,0))\n",
    "    print e\n",
    "    print e.duration()\n",
    "    print ''\n",
    "    a = Agenda(e, Event('SofDes Section 2', Time(15,20,0), Time(17,0,0)))\n",
    "    print a\n",
    "    print a.is_feasible()\n",
    "    print ''\n",
    "    a.addEvent(Event('MechProto', Time(13,30,0), Time(15,10,0)))\n",
    "    print a\n",
    "    print a.is_feasible()"
   ]
  },
  {
   "cell_type": "code",
   "execution_count": null,
   "metadata": {
    "collapsed": true,
    "solution": "Exercise 4"
   },
   "outputs": [],
   "source": [
    "# Right now I need to sleep more than I need to extend my understanding\n",
    "# of classes."
   ]
  },
  {
   "cell_type": "code",
   "execution_count": 45,
   "metadata": {
    "collapsed": false,
    "solution": "Exercise 4"
   },
   "outputs": [
    {
     "name": "stdout",
     "output_type": "stream",
     "text": [
      "broga, 09:03:54, 10:23:07\n",
      "lunch, 12:00:00, 13:10:15\n",
      "workout, 01:05:17, 10:29:59\n",
      "\n",
      "lunch, 12:00:00, 13:10:15\n",
      "workout, 01:05:17, 10:29:59\n",
      "broga, 09:03:54, 10:23:07\n"
     ]
    }
   ],
   "source": [
    "#creates a list of agendas, not really useful for much\n",
    "class Schedule():\n",
    "    def __init__(self, agendas = None):\n",
    "        if agendas == None:\n",
    "            agendas = []\n",
    "        self.agendas = agendas\n",
    "        \n",
    "    def __str__(self):\n",
    "        return '\\n\\n'.join(str(element) for element in self.agendas)\n",
    "    \n",
    "monday = Agenda([a, b, c])\n",
    "tuesday = Agenda([b, c, a])\n",
    "s = Schedule([monday, tuesday])\n",
    "print s"
   ]
  },
  {
   "cell_type": "markdown",
   "metadata": {
    "is_poll": true,
    "is_question": true,
    "problem": "Time spent"
   },
   "source": [
    "## Quick poll\n",
    "About how long did you spend working on this Reading Journal?"
   ]
  },
  {
   "cell_type": "markdown",
   "metadata": {
    "poll_response": true,
    "solution": "Time spent"
   },
   "source": [
    " "
   ]
  },
  {
   "cell_type": "markdown",
   "metadata": {
    "poll_response": true,
    "solution": "Time spent"
   },
   "source": [
    "Around 4 hours.  "
   ]
  },
  {
   "cell_type": "markdown",
   "metadata": {
    "poll_response": true,
    "solution": "Time spent"
   },
   "source": [
    "~An hour and a half?"
   ]
  },
  {
   "cell_type": "markdown",
   "metadata": {
    "poll_response": true,
    "solution": "Time spent"
   },
   "source": [
    "Approximately 3 hours "
   ]
  },
  {
   "cell_type": "markdown",
   "metadata": {
    "poll_response": true,
    "solution": "Time spent"
   },
   "source": [
    "2 hours! "
   ]
  },
  {
   "cell_type": "markdown",
   "metadata": {
    "poll_response": true,
    "solution": "Time spent"
   },
   "source": [
    "Around 1 hour. it always takes me way longer than this so please don't make them too much longer (a little longer would be fine) - I think I was just particularly able to pick this set of concepts up without a struggle, YAY! "
   ]
  },
  {
   "cell_type": "markdown",
   "metadata": {
    "poll_response": true,
    "solution": "Time spent"
   },
   "source": [
    "45 min "
   ]
  },
  {
   "cell_type": "markdown",
   "metadata": {
    "poll_response": true,
    "solution": "Time spent"
   },
   "source": [
    "~ 1hr "
   ]
  },
  {
   "cell_type": "markdown",
   "metadata": {
    "poll_response": true,
    "solution": "Time spent"
   },
   "source": [
    "Judging by commit times... 1 hour..."
   ]
  },
  {
   "cell_type": "markdown",
   "metadata": {
    "poll_response": true,
    "solution": "Time spent"
   },
   "source": [
    "About an hour "
   ]
  },
  {
   "cell_type": "markdown",
   "metadata": {
    "poll_response": true,
    "solution": "Time spent"
   },
   "source": [
    "1 hour"
   ]
  },
  {
   "cell_type": "markdown",
   "metadata": {
    "poll_response": true,
    "solution": "Time spent"
   },
   "source": [
    "A little under half an hour (no new readings) "
   ]
  },
  {
   "cell_type": "markdown",
   "metadata": {
    "poll_response": true,
    "solution": "Time spent"
   },
   "source": [
    "60 min "
   ]
  },
  {
   "cell_type": "markdown",
   "metadata": {
    "poll_response": true,
    "solution": "Time spent"
   },
   "source": [
    "an hour "
   ]
  },
  {
   "cell_type": "markdown",
   "metadata": {
    "poll_response": true,
    "solution": "Time spent"
   },
   "source": [
    "Probably around an hour. This was mostly my fault though, because a) I took some exercises farther than instructed, and, mainly b) I'm tiredddddddddddddddddd (It was a pretty sunrise this morning at least!)"
   ]
  },
  {
   "cell_type": "markdown",
   "metadata": {
    "poll_response": true,
    "solution": "Time spent"
   },
   "source": [
    "a little over an hour"
   ]
  },
  {
   "cell_type": "markdown",
   "metadata": {
    "poll_response": true,
    "solution": "Time spent"
   },
   "source": [
    "about 2 hour "
   ]
  },
  {
   "cell_type": "markdown",
   "metadata": {
    "poll_response": true,
    "solution": "Time spent"
   },
   "source": [
    "120 "
   ]
  },
  {
   "cell_type": "markdown",
   "metadata": {
    "poll_response": true,
    "solution": "Time spent"
   },
   "source": [
    "This took me a little over an hour. "
   ]
  },
  {
   "cell_type": "markdown",
   "metadata": {
    "poll_response": true,
    "solution": "Time spent"
   },
   "source": [
    "This took about 2 hours "
   ]
  },
  {
   "cell_type": "markdown",
   "metadata": {
    "poll_response": true,
    "solution": "Time spent"
   },
   "source": [
    "about 3 hours "
   ]
  },
  {
   "cell_type": "markdown",
   "metadata": {
    "poll_response": true,
    "solution": "Time spent"
   },
   "source": [
    "~30 minutes "
   ]
  },
  {
   "cell_type": "markdown",
   "metadata": {
    "poll_response": true,
    "solution": "Time spent"
   },
   "source": [
    " ~3 hours"
   ]
  },
  {
   "cell_type": "markdown",
   "metadata": {
    "poll_response": true,
    "solution": "Time spent"
   },
   "source": [
    "Not super long, but I really did not understand how to do the last one. And everyone I asked for help gave me a different answer that really disagreed with the others. I will work on this during someone's ninja hours"
   ]
  },
  {
   "cell_type": "markdown",
   "metadata": {
    "poll_response": true,
    "solution": "Time spent"
   },
   "source": [
    "1.5 hours "
   ]
  },
  {
   "cell_type": "markdown",
   "metadata": {
    "poll_response": true,
    "solution": "Time spent"
   },
   "source": [
    " Almost exactly an hour"
   ]
  },
  {
   "cell_type": "markdown",
   "metadata": {
    "poll_response": true,
    "solution": "Time spent"
   },
   "source": [
    "30-45 minutes "
   ]
  },
  {
   "cell_type": "markdown",
   "metadata": {
    "poll_response": true,
    "solution": "Time spent"
   },
   "source": [
    "2 hours ish "
   ]
  },
  {
   "cell_type": "markdown",
   "metadata": {
    "poll_response": true,
    "solution": "Time spent"
   },
   "source": [
    "1.5hrs "
   ]
  },
  {
   "cell_type": "markdown",
   "metadata": {
    "poll_response": true,
    "solution": "Time spent"
   },
   "source": [
    " 4 hours"
   ]
  },
  {
   "cell_type": "markdown",
   "metadata": {
    "poll_response": true,
    "solution": "Time spent"
   },
   "source": [
    "40 minutes"
   ]
  },
  {
   "cell_type": "markdown",
   "metadata": {
    "poll_response": true,
    "solution": "Time spent"
   },
   "source": [
    "2 hours"
   ]
  },
  {
   "cell_type": "markdown",
   "metadata": {
    "poll_response": true,
    "solution": "Time spent"
   },
   "source": [
    "About 1 hour "
   ]
  },
  {
   "cell_type": "markdown",
   "metadata": {
    "poll_response": true,
    "solution": "Time spent"
   },
   "source": [
    "A few hours (2-3). I would've spent more time, but I was away over the weekend. "
   ]
  },
  {
   "cell_type": "markdown",
   "metadata": {
    "poll_response": true,
    "solution": "Time spent"
   },
   "source": [
    "About an hour. "
   ]
  },
  {
   "cell_type": "markdown",
   "metadata": {
    "poll_response": true,
    "solution": "Time spent"
   },
   "source": [
    " start: 8:40 end: 11:40 (With a few breaks, though.)"
   ]
  },
  {
   "cell_type": "markdown",
   "metadata": {
    "poll_response": true,
    "solution": "Time spent"
   },
   "source": [
    "Two focused hours, which is pretty much my limit after this weekend. This is really poorly done, but I don't have the time or energy to do it properly. "
   ]
  },
  {
   "cell_type": "markdown",
   "metadata": {
    "poll_response": true,
    "solution": "Time spent"
   },
   "source": [
    "1.5 Hours\n"
   ]
  },
  {
   "cell_type": "markdown",
   "metadata": {
    "poll_response": true,
    "solution": "Time spent"
   },
   "source": [
    "3 hours "
   ]
  },
  {
   "cell_type": "markdown",
   "metadata": {},
   "source": [
    "45 mins"
   ]
  },
  {
   "cell_type": "markdown",
   "metadata": {
    "poll_response": true,
    "solution": "Time spent"
   },
   "source": [
    "15 minutes "
   ]
  }
 ],
 "metadata": {
  "celltoolbar": "Edit Metadata",
  "kernelspec": {
   "display_name": "Python 2",
   "language": "python",
   "name": "python2"
  },
  "language_info": {
   "codemirror_mode": {
    "name": "ipython",
    "version": 2
   },
   "file_extension": ".py",
   "mimetype": "text/x-python",
   "name": "python",
   "nbconvert_exporter": "python",
   "pygments_lexer": "ipython2",
   "version": "2.7.5"
  }
 },
 "nbformat": 4,
 "nbformat_minor": 0
}
